{
  "cells": [
    {
      "cell_type": "code",
      "execution_count": 1,
      "metadata": {
        "id": "q1KrFvwyS3Xy"
      },
      "outputs": [],
      "source": [
        "import pandas as pd\n",
        "# from google.colab import drive\n",
        "import json\n",
        "from geopy.distance import geodesic\n",
        "import plotly.express as px\n",
        "import plotly.graph_objects as go\n",
        "import os"
      ]
    },
    {
      "cell_type": "code",
      "execution_count": 2,
      "metadata": {
        "colab": {
          "base_uri": "https://localhost:8080/"
        },
        "id": "hbkukP7gTDNl",
        "outputId": "857171fd-45dc-4fe0-a0c0-f31ee4d65664"
      },
      "outputs": [],
      "source": [
        "# If using google drive comment/uncomment\n",
        "# drive.mount('/content/drive')\n",
        "# BASE_PATH = '/content/drive/MyDrive/almrrc2021/almrrc2021-data-training/model_build_inputs/'\n",
        "\n",
        "# If you have the data locally\n",
        "BASE_PATH = '../almrrc2021/almrrc2021-data-training/model_build_inputs/'\n",
        "\n",
        "# If using data sample\n",
        "# BASE_PATH = 'data/'"
      ]
    },
    {
      "cell_type": "code",
      "execution_count": 3,
      "metadata": {
        "colab": {
          "base_uri": "https://localhost:8080/",
          "height": 400
        },
        "id": "C146Jy9LTPuU",
        "outputId": "fa7b2e9c-b91f-464d-9a87-29139926a9a8"
      },
      "outputs": [
        {
          "data": {
            "text/html": [
              "<div>\n",
              "<style scoped>\n",
              "    .dataframe tbody tr th:only-of-type {\n",
              "        vertical-align: middle;\n",
              "    }\n",
              "\n",
              "    .dataframe tbody tr th {\n",
              "        vertical-align: top;\n",
              "    }\n",
              "\n",
              "    .dataframe thead th {\n",
              "        text-align: right;\n",
              "    }\n",
              "</style>\n",
              "<table border=\"1\" class=\"dataframe\">\n",
              "  <thead>\n",
              "    <tr style=\"text-align: right;\">\n",
              "      <th></th>\n",
              "      <th>route_id</th>\n",
              "      <th>stop_id</th>\n",
              "      <th>package_id</th>\n",
              "      <th>scan_status</th>\n",
              "      <th>start_time_utc</th>\n",
              "      <th>end_time_utc</th>\n",
              "      <th>planned_service_time_seconds</th>\n",
              "      <th>depth_cm</th>\n",
              "      <th>height_cm</th>\n",
              "      <th>width_cm</th>\n",
              "    </tr>\n",
              "  </thead>\n",
              "  <tbody>\n",
              "    <tr>\n",
              "      <th>0</th>\n",
              "      <td>RouteID_00143bdd-0a6b-49ec-bb35-36593d303e77</td>\n",
              "      <td>AD</td>\n",
              "      <td>PackageID_9d7fdd03-f2cf-4c6f-9128-028258fc09ea</td>\n",
              "      <td>DELIVERED</td>\n",
              "      <td>NaN</td>\n",
              "      <td>NaN</td>\n",
              "      <td>59.3</td>\n",
              "      <td>25.4</td>\n",
              "      <td>7.6</td>\n",
              "      <td>17.8</td>\n",
              "    </tr>\n",
              "    <tr>\n",
              "      <th>1</th>\n",
              "      <td>RouteID_00143bdd-0a6b-49ec-bb35-36593d303e77</td>\n",
              "      <td>AD</td>\n",
              "      <td>PackageID_5541e679-b7bd-4992-b288-e862f6c84ae7</td>\n",
              "      <td>DELIVERED</td>\n",
              "      <td>2018-07-27 16:00:00</td>\n",
              "      <td>2018-07-28 00:00:00</td>\n",
              "      <td>59.3</td>\n",
              "      <td>25.4</td>\n",
              "      <td>12.7</td>\n",
              "      <td>17.8</td>\n",
              "    </tr>\n",
              "    <tr>\n",
              "      <th>2</th>\n",
              "      <td>RouteID_00143bdd-0a6b-49ec-bb35-36593d303e77</td>\n",
              "      <td>AD</td>\n",
              "      <td>PackageID_84d0295b-1adb-4a33-a65e-f7d6247c7a07</td>\n",
              "      <td>DELIVERED</td>\n",
              "      <td>NaN</td>\n",
              "      <td>NaN</td>\n",
              "      <td>59.3</td>\n",
              "      <td>39.4</td>\n",
              "      <td>7.6</td>\n",
              "      <td>31.8</td>\n",
              "    </tr>\n",
              "    <tr>\n",
              "      <th>3</th>\n",
              "      <td>RouteID_00143bdd-0a6b-49ec-bb35-36593d303e77</td>\n",
              "      <td>AF</td>\n",
              "      <td>PackageID_15c6a204-ec5f-4ced-9c3d-472316cc7759</td>\n",
              "      <td>DELIVERED</td>\n",
              "      <td>2018-07-27 16:00:00</td>\n",
              "      <td>2018-07-28 00:00:00</td>\n",
              "      <td>27.0</td>\n",
              "      <td>30.0</td>\n",
              "      <td>3.0</td>\n",
              "      <td>27.4</td>\n",
              "    </tr>\n",
              "    <tr>\n",
              "      <th>4</th>\n",
              "      <td>RouteID_00143bdd-0a6b-49ec-bb35-36593d303e77</td>\n",
              "      <td>AG</td>\n",
              "      <td>PackageID_3b28f781-242e-416e-9575-84c7188b8208</td>\n",
              "      <td>DELIVERED</td>\n",
              "      <td>NaN</td>\n",
              "      <td>NaN</td>\n",
              "      <td>45.0</td>\n",
              "      <td>25.4</td>\n",
              "      <td>12.7</td>\n",
              "      <td>17.8</td>\n",
              "    </tr>\n",
              "  </tbody>\n",
              "</table>\n",
              "</div>"
            ],
            "text/plain": [
              "                                       route_id stop_id  \\\n",
              "0  RouteID_00143bdd-0a6b-49ec-bb35-36593d303e77      AD   \n",
              "1  RouteID_00143bdd-0a6b-49ec-bb35-36593d303e77      AD   \n",
              "2  RouteID_00143bdd-0a6b-49ec-bb35-36593d303e77      AD   \n",
              "3  RouteID_00143bdd-0a6b-49ec-bb35-36593d303e77      AF   \n",
              "4  RouteID_00143bdd-0a6b-49ec-bb35-36593d303e77      AG   \n",
              "\n",
              "                                       package_id scan_status  \\\n",
              "0  PackageID_9d7fdd03-f2cf-4c6f-9128-028258fc09ea   DELIVERED   \n",
              "1  PackageID_5541e679-b7bd-4992-b288-e862f6c84ae7   DELIVERED   \n",
              "2  PackageID_84d0295b-1adb-4a33-a65e-f7d6247c7a07   DELIVERED   \n",
              "3  PackageID_15c6a204-ec5f-4ced-9c3d-472316cc7759   DELIVERED   \n",
              "4  PackageID_3b28f781-242e-416e-9575-84c7188b8208   DELIVERED   \n",
              "\n",
              "        start_time_utc         end_time_utc  planned_service_time_seconds  \\\n",
              "0                  NaN                  NaN                          59.3   \n",
              "1  2018-07-27 16:00:00  2018-07-28 00:00:00                          59.3   \n",
              "2                  NaN                  NaN                          59.3   \n",
              "3  2018-07-27 16:00:00  2018-07-28 00:00:00                          27.0   \n",
              "4                  NaN                  NaN                          45.0   \n",
              "\n",
              "   depth_cm  height_cm  width_cm  \n",
              "0      25.4        7.6      17.8  \n",
              "1      25.4       12.7      17.8  \n",
              "2      39.4        7.6      31.8  \n",
              "3      30.0        3.0      27.4  \n",
              "4      25.4       12.7      17.8  "
            ]
          },
          "execution_count": 3,
          "metadata": {},
          "output_type": "execute_result"
        }
      ],
      "source": [
        "# Loading all the package data\n",
        "\n",
        "package_data = json.load(open(BASE_PATH + 'package_data.json'))\n",
        "\n",
        "flattened_package_data = []\n",
        "for route_id, stops in package_data.items():\n",
        "    for stop_id, packages in stops.items():\n",
        "        for package_id, details in packages.items():\n",
        "            record = {\n",
        "                \"route_id\": route_id,\n",
        "                \"stop_id\": stop_id,\n",
        "                \"package_id\": package_id,\n",
        "                \"scan_status\": details[\"scan_status\"] if \"scan_status\" in details else None, # note model_apply_inputs does not have scan_status, model_build_inputs does\n",
        "                \"start_time_utc\": details[\"time_window\"][\"start_time_utc\"],\n",
        "                \"end_time_utc\": details[\"time_window\"][\"end_time_utc\"],\n",
        "                \"planned_service_time_seconds\": details[\"planned_service_time_seconds\"],\n",
        "                \"depth_cm\": details[\"dimensions\"][\"depth_cm\"],\n",
        "                \"height_cm\": details[\"dimensions\"][\"height_cm\"],\n",
        "                \"width_cm\": details[\"dimensions\"][\"width_cm\"],\n",
        "            }\n",
        "            flattened_package_data.append(record)\n",
        "\n",
        "package_data_df = pd.DataFrame(flattened_package_data)\n",
        "\n",
        "package_data_df.head()"
      ]
    },
    {
      "cell_type": "code",
      "execution_count": 4,
      "metadata": {
        "colab": {
          "base_uri": "https://localhost:8080/",
          "height": 400
        },
        "id": "FjFshBZBToSv",
        "outputId": "407a0b9c-11e2-4906-ffcf-3879ccc96c80"
      },
      "outputs": [
        {
          "data": {
            "text/html": [
              "<div>\n",
              "<style scoped>\n",
              "    .dataframe tbody tr th:only-of-type {\n",
              "        vertical-align: middle;\n",
              "    }\n",
              "\n",
              "    .dataframe tbody tr th {\n",
              "        vertical-align: top;\n",
              "    }\n",
              "\n",
              "    .dataframe thead th {\n",
              "        text-align: right;\n",
              "    }\n",
              "</style>\n",
              "<table border=\"1\" class=\"dataframe\">\n",
              "  <thead>\n",
              "    <tr style=\"text-align: right;\">\n",
              "      <th></th>\n",
              "      <th>route_id</th>\n",
              "      <th>station_code</th>\n",
              "      <th>date</th>\n",
              "      <th>departure_time_utc</th>\n",
              "      <th>executor_capacity_cm3</th>\n",
              "      <th>route_score</th>\n",
              "      <th>stop_id</th>\n",
              "      <th>lat</th>\n",
              "      <th>lng</th>\n",
              "      <th>type</th>\n",
              "      <th>zone_id</th>\n",
              "    </tr>\n",
              "  </thead>\n",
              "  <tbody>\n",
              "    <tr>\n",
              "      <th>0</th>\n",
              "      <td>RouteID_00143bdd-0a6b-49ec-bb35-36593d303e77</td>\n",
              "      <td>DLA3</td>\n",
              "      <td>2018-07-27</td>\n",
              "      <td>16:02:10</td>\n",
              "      <td>3313071.0</td>\n",
              "      <td>High</td>\n",
              "      <td>AD</td>\n",
              "      <td>34.099611</td>\n",
              "      <td>-118.283062</td>\n",
              "      <td>Dropoff</td>\n",
              "      <td>P-12.3C</td>\n",
              "    </tr>\n",
              "    <tr>\n",
              "      <th>1</th>\n",
              "      <td>RouteID_00143bdd-0a6b-49ec-bb35-36593d303e77</td>\n",
              "      <td>DLA3</td>\n",
              "      <td>2018-07-27</td>\n",
              "      <td>16:02:10</td>\n",
              "      <td>3313071.0</td>\n",
              "      <td>High</td>\n",
              "      <td>AF</td>\n",
              "      <td>34.101587</td>\n",
              "      <td>-118.291125</td>\n",
              "      <td>Dropoff</td>\n",
              "      <td>A-1.2D</td>\n",
              "    </tr>\n",
              "    <tr>\n",
              "      <th>2</th>\n",
              "      <td>RouteID_00143bdd-0a6b-49ec-bb35-36593d303e77</td>\n",
              "      <td>DLA3</td>\n",
              "      <td>2018-07-27</td>\n",
              "      <td>16:02:10</td>\n",
              "      <td>3313071.0</td>\n",
              "      <td>High</td>\n",
              "      <td>AG</td>\n",
              "      <td>34.089727</td>\n",
              "      <td>-118.285530</td>\n",
              "      <td>Dropoff</td>\n",
              "      <td>A-2.1A</td>\n",
              "    </tr>\n",
              "    <tr>\n",
              "      <th>3</th>\n",
              "      <td>RouteID_00143bdd-0a6b-49ec-bb35-36593d303e77</td>\n",
              "      <td>DLA3</td>\n",
              "      <td>2018-07-27</td>\n",
              "      <td>16:02:10</td>\n",
              "      <td>3313071.0</td>\n",
              "      <td>High</td>\n",
              "      <td>BA</td>\n",
              "      <td>34.096132</td>\n",
              "      <td>-118.292869</td>\n",
              "      <td>Dropoff</td>\n",
              "      <td>A-1.2C</td>\n",
              "    </tr>\n",
              "    <tr>\n",
              "      <th>4</th>\n",
              "      <td>RouteID_00143bdd-0a6b-49ec-bb35-36593d303e77</td>\n",
              "      <td>DLA3</td>\n",
              "      <td>2018-07-27</td>\n",
              "      <td>16:02:10</td>\n",
              "      <td>3313071.0</td>\n",
              "      <td>High</td>\n",
              "      <td>BE</td>\n",
              "      <td>34.098482</td>\n",
              "      <td>-118.286243</td>\n",
              "      <td>Dropoff</td>\n",
              "      <td>P-13.3B</td>\n",
              "    </tr>\n",
              "  </tbody>\n",
              "</table>\n",
              "</div>"
            ],
            "text/plain": [
              "                                       route_id station_code        date  \\\n",
              "0  RouteID_00143bdd-0a6b-49ec-bb35-36593d303e77         DLA3  2018-07-27   \n",
              "1  RouteID_00143bdd-0a6b-49ec-bb35-36593d303e77         DLA3  2018-07-27   \n",
              "2  RouteID_00143bdd-0a6b-49ec-bb35-36593d303e77         DLA3  2018-07-27   \n",
              "3  RouteID_00143bdd-0a6b-49ec-bb35-36593d303e77         DLA3  2018-07-27   \n",
              "4  RouteID_00143bdd-0a6b-49ec-bb35-36593d303e77         DLA3  2018-07-27   \n",
              "\n",
              "  departure_time_utc  executor_capacity_cm3 route_score stop_id        lat  \\\n",
              "0           16:02:10              3313071.0        High      AD  34.099611   \n",
              "1           16:02:10              3313071.0        High      AF  34.101587   \n",
              "2           16:02:10              3313071.0        High      AG  34.089727   \n",
              "3           16:02:10              3313071.0        High      BA  34.096132   \n",
              "4           16:02:10              3313071.0        High      BE  34.098482   \n",
              "\n",
              "          lng     type  zone_id  \n",
              "0 -118.283062  Dropoff  P-12.3C  \n",
              "1 -118.291125  Dropoff   A-1.2D  \n",
              "2 -118.285530  Dropoff   A-2.1A  \n",
              "3 -118.292869  Dropoff   A-1.2C  \n",
              "4 -118.286243  Dropoff  P-13.3B  "
            ]
          },
          "execution_count": 4,
          "metadata": {},
          "output_type": "execute_result"
        }
      ],
      "source": [
        "# Loading all the route data\n",
        "\n",
        "route_data = json.load(open(BASE_PATH + 'route_data.json'))\n",
        "\n",
        "flattened_route_data = []\n",
        "\n",
        "for route_id, info in route_data.items():\n",
        "    for stop_id, stop_details in info['stops'].items():\n",
        "        flattened_route_data.append({\n",
        "            \"route_id\": route_id,\n",
        "            \"station_code\": info['station_code'],\n",
        "            \"date\": info['date_YYYY_MM_DD'],\n",
        "            \"departure_time_utc\": info['departure_time_utc'],\n",
        "            \"executor_capacity_cm3\": info['executor_capacity_cm3'],\n",
        "            \"route_score\": info['route_score'],\n",
        "            \"stop_id\": stop_id,\n",
        "            \"lat\": stop_details['lat'],\n",
        "            \"lng\": stop_details['lng'],\n",
        "            \"type\": stop_details['type'],\n",
        "            \"zone_id\": stop_details['zone_id']\n",
        "        })\n",
        "\n",
        "route_data_df = pd.DataFrame(flattened_route_data)\n",
        "\n",
        "route_data_df.head()"
      ]
    },
    {
      "cell_type": "code",
      "execution_count": 5,
      "metadata": {
        "id": "TliBwdWATtva"
      },
      "outputs": [],
      "source": [
        "# Loading all the travel times\n",
        "\n",
        "vehicle_travel_times = json.load(open(BASE_PATH + 'travel_times.json'))"
      ]
    },
    {
      "cell_type": "markdown",
      "metadata": {
        "id": "YZv7Q9znU5BX"
      },
      "source": [
        "**To create a solution to the VRPD for we need the following information for a route:**\n",
        "\n",
        "\n",
        "\n",
        "We already have:\n",
        "\n",
        "Package Data\n",
        "*   Package ID\n",
        "*   Dimensions (length, width, height)\n",
        "*   Service time seconds\n",
        "\n",
        "Stop Data\n",
        "*   Stop ID\n",
        "*   Latitude and Longitude\n",
        "*   Zone ID\n",
        "*   List of Package ID(s) to be delivered\n",
        "*   Depot bool\n",
        "\n",
        "Travel Times:\n",
        "*   Vehicle transit time to every other stop\n",
        "\n",
        "\n",
        "We will need to calculate\n",
        "*   Drone bool for each stop ((if a drone can cover this stop ie. one small package)\n",
        "* Drone transit time to every other stop\n",
        "\n",
        "\n",
        "\n",
        "We can begin by collecting all the data we want for a desired route\n",
        "\n",
        "\n",
        "\n"
      ]
    },
    {
      "cell_type": "code",
      "execution_count": 6,
      "metadata": {
        "id": "jLjIKDvlW41R"
      },
      "outputs": [],
      "source": [
        "def get_data_for_route(route_id):\n",
        "    package_data = package_data_df[package_data_df['route_id'] == route_id]\n",
        "    route_data = route_data_df[route_data_df['route_id'] == route_id]\n",
        "    travel_times_route = vehicle_travel_times[route_id]\n",
        "\n",
        "    return package_data.copy(), route_data.copy(), travel_times_route.copy()"
      ]
    },
    {
      "cell_type": "code",
      "execution_count": 7,
      "metadata": {
        "id": "f_NUOgzsZye-"
      },
      "outputs": [],
      "source": [
        "# Given route data, it will return a dictionary\n",
        "def calculate_drone_travel_time(route_data):\n",
        "  drone_travel_time = {}\n",
        "\n",
        "  for _, base_row in route_data.iterrows():\n",
        "    drone_travel_time[base_row['stop_id']] = {}\n",
        "\n",
        "    # calculate travel time to every other stop in the route\n",
        "    for _, other_row in route_data.iterrows():\n",
        "      if base_row['stop_id'] != other_row['stop_id']:\n",
        "        base_location = (base_row['lat'], base_row['lng'])\n",
        "        other_location = (other_row['lat'], other_row['lng'])\n",
        "\n",
        "        distance = geodesic(base_location, other_location).meters\n",
        "\n",
        "        # Assuming the drone will travel 7 m/s TODO: CONSTANT\n",
        "        drone_travel_time[base_row['stop_id']][other_row['stop_id']] = distance / 7.0\n",
        "        # drone_travel_time[base_row['stop_id']][other_row['stop_id']] += 10 # 5 second rise, 5 second drop\n",
        "\n",
        "      else:\n",
        "        drone_travel_time[base_row['stop_id']][other_row['stop_id']] = 0\n",
        "\n",
        "  return drone_travel_time"
      ]
    },
    {
      "cell_type": "code",
      "execution_count": 8,
      "metadata": {
        "id": "A-38Vcn_PrIv"
      },
      "outputs": [],
      "source": [
        "package_data_route_df, route_data_route_df, vehicle_travel_times_route = get_data_for_route(\"RouteID_f9639176-8909-4c65-80a9-5562b0241ad4\")"
      ]
    },
    {
      "cell_type": "code",
      "execution_count": 9,
      "metadata": {
        "id": "AbjT13IZT9gY"
      },
      "outputs": [],
      "source": [
        "drone_travel_times_route = calculate_drone_travel_time(route_data_route_df)"
      ]
    },
    {
      "cell_type": "code",
      "execution_count": 10,
      "metadata": {
        "id": "d5aMZSrsdQBL"
      },
      "outputs": [],
      "source": [
        "# Determining if each package can be delivered by a drone\n",
        "package_data_route_df['drone_possible'] = (package_data_route_df['depth_cm'] < 30) & (package_data_route_df['height_cm'] < 25) & (package_data_route_df['width_cm'] < 30) # TODO: be indifferent on depth and width"
      ]
    },
    {
      "cell_type": "code",
      "execution_count": 11,
      "metadata": {
        "id": "9GFR_EbHUXLa"
      },
      "outputs": [],
      "source": [
        "package_info_agg = package_data_route_df.groupby('stop_id').apply(\n",
        "    lambda x: pd.Series({\n",
        "        'packages': x[['package_id', 'depth_cm', 'height_cm', 'width_cm']].to_dict('records'),\n",
        "        'num_packages': len(x),\n",
        "        'drone_possible': (len(x) == 1) and (x['drone_possible'].iloc[0] == True),\n",
        "        'service_time_seconds': x['planned_service_time_seconds'].mean() # Not sure if this should be sum or average. https://github.com/MIT-CAVE/rc-cli/blob/main/templates/data_structures.md\n",
        "    })\n",
        ").reset_index()"
      ]
    },
    {
      "cell_type": "code",
      "execution_count": 12,
      "metadata": {
        "id": "jSQBTyUlL9yt"
      },
      "outputs": [],
      "source": [
        "route_data_route_df = pd.merge(route_data_route_df, package_info_agg, how='left', on='stop_id')"
      ]
    },
    {
      "cell_type": "code",
      "execution_count": 13,
      "metadata": {
        "colab": {
          "base_uri": "https://localhost:8080/",
          "height": 400
        },
        "id": "iosrkE-DUwoW",
        "outputId": "fd091b61-f216-4845-eec2-30d4ca780942"
      },
      "outputs": [
        {
          "data": {
            "text/html": [
              "<div>\n",
              "<style scoped>\n",
              "    .dataframe tbody tr th:only-of-type {\n",
              "        vertical-align: middle;\n",
              "    }\n",
              "\n",
              "    .dataframe tbody tr th {\n",
              "        vertical-align: top;\n",
              "    }\n",
              "\n",
              "    .dataframe thead th {\n",
              "        text-align: right;\n",
              "    }\n",
              "</style>\n",
              "<table border=\"1\" class=\"dataframe\">\n",
              "  <thead>\n",
              "    <tr style=\"text-align: right;\">\n",
              "      <th></th>\n",
              "      <th>route_id</th>\n",
              "      <th>station_code</th>\n",
              "      <th>date</th>\n",
              "      <th>departure_time_utc</th>\n",
              "      <th>executor_capacity_cm3</th>\n",
              "      <th>route_score</th>\n",
              "      <th>stop_id</th>\n",
              "      <th>lat</th>\n",
              "      <th>lng</th>\n",
              "      <th>type</th>\n",
              "      <th>zone_id</th>\n",
              "      <th>packages</th>\n",
              "      <th>num_packages</th>\n",
              "      <th>drone_possible</th>\n",
              "      <th>service_time_seconds</th>\n",
              "    </tr>\n",
              "  </thead>\n",
              "  <tbody>\n",
              "    <tr>\n",
              "      <th>0</th>\n",
              "      <td>RouteID_f9639176-8909-4c65-80a9-5562b0241ad4</td>\n",
              "      <td>DBO3</td>\n",
              "      <td>2018-08-13</td>\n",
              "      <td>13:02:17</td>\n",
              "      <td>3313071.0</td>\n",
              "      <td>Medium</td>\n",
              "      <td>AC</td>\n",
              "      <td>42.131001</td>\n",
              "      <td>-71.538114</td>\n",
              "      <td>Dropoff</td>\n",
              "      <td>E-1.2J</td>\n",
              "      <td>[{'package_id': 'PackageID_469f7aa0-e0db-474e-...</td>\n",
              "      <td>1.0</td>\n",
              "      <td>True</td>\n",
              "      <td>65.0</td>\n",
              "    </tr>\n",
              "    <tr>\n",
              "      <th>1</th>\n",
              "      <td>RouteID_f9639176-8909-4c65-80a9-5562b0241ad4</td>\n",
              "      <td>DBO3</td>\n",
              "      <td>2018-08-13</td>\n",
              "      <td>13:02:17</td>\n",
              "      <td>3313071.0</td>\n",
              "      <td>Medium</td>\n",
              "      <td>AD</td>\n",
              "      <td>42.110252</td>\n",
              "      <td>-71.555689</td>\n",
              "      <td>Dropoff</td>\n",
              "      <td>E-2.3H</td>\n",
              "      <td>[{'package_id': 'PackageID_caa3dc05-b659-4228-...</td>\n",
              "      <td>1.0</td>\n",
              "      <td>False</td>\n",
              "      <td>75.0</td>\n",
              "    </tr>\n",
              "    <tr>\n",
              "      <th>2</th>\n",
              "      <td>RouteID_f9639176-8909-4c65-80a9-5562b0241ad4</td>\n",
              "      <td>DBO3</td>\n",
              "      <td>2018-08-13</td>\n",
              "      <td>13:02:17</td>\n",
              "      <td>3313071.0</td>\n",
              "      <td>Medium</td>\n",
              "      <td>AG</td>\n",
              "      <td>42.138349</td>\n",
              "      <td>-71.542410</td>\n",
              "      <td>Dropoff</td>\n",
              "      <td>E-1.2H</td>\n",
              "      <td>[{'package_id': 'PackageID_32227deb-67a8-4c65-...</td>\n",
              "      <td>2.0</td>\n",
              "      <td>False</td>\n",
              "      <td>62.5</td>\n",
              "    </tr>\n",
              "    <tr>\n",
              "      <th>3</th>\n",
              "      <td>RouteID_f9639176-8909-4c65-80a9-5562b0241ad4</td>\n",
              "      <td>DBO3</td>\n",
              "      <td>2018-08-13</td>\n",
              "      <td>13:02:17</td>\n",
              "      <td>3313071.0</td>\n",
              "      <td>Medium</td>\n",
              "      <td>AL</td>\n",
              "      <td>42.084637</td>\n",
              "      <td>-71.565057</td>\n",
              "      <td>Dropoff</td>\n",
              "      <td>E-2.1H</td>\n",
              "      <td>[{'package_id': 'PackageID_fe18bcf4-808c-4b64-...</td>\n",
              "      <td>1.0</td>\n",
              "      <td>False</td>\n",
              "      <td>140.0</td>\n",
              "    </tr>\n",
              "    <tr>\n",
              "      <th>4</th>\n",
              "      <td>RouteID_f9639176-8909-4c65-80a9-5562b0241ad4</td>\n",
              "      <td>DBO3</td>\n",
              "      <td>2018-08-13</td>\n",
              "      <td>13:02:17</td>\n",
              "      <td>3313071.0</td>\n",
              "      <td>Medium</td>\n",
              "      <td>AP</td>\n",
              "      <td>42.128049</td>\n",
              "      <td>-71.578627</td>\n",
              "      <td>Dropoff</td>\n",
              "      <td>E-2.2J</td>\n",
              "      <td>[{'package_id': 'PackageID_5d77652d-1f5f-40fd-...</td>\n",
              "      <td>1.0</td>\n",
              "      <td>True</td>\n",
              "      <td>100.0</td>\n",
              "    </tr>\n",
              "  </tbody>\n",
              "</table>\n",
              "</div>"
            ],
            "text/plain": [
              "                                       route_id station_code        date  \\\n",
              "0  RouteID_f9639176-8909-4c65-80a9-5562b0241ad4         DBO3  2018-08-13   \n",
              "1  RouteID_f9639176-8909-4c65-80a9-5562b0241ad4         DBO3  2018-08-13   \n",
              "2  RouteID_f9639176-8909-4c65-80a9-5562b0241ad4         DBO3  2018-08-13   \n",
              "3  RouteID_f9639176-8909-4c65-80a9-5562b0241ad4         DBO3  2018-08-13   \n",
              "4  RouteID_f9639176-8909-4c65-80a9-5562b0241ad4         DBO3  2018-08-13   \n",
              "\n",
              "  departure_time_utc  executor_capacity_cm3 route_score stop_id        lat  \\\n",
              "0           13:02:17              3313071.0      Medium      AC  42.131001   \n",
              "1           13:02:17              3313071.0      Medium      AD  42.110252   \n",
              "2           13:02:17              3313071.0      Medium      AG  42.138349   \n",
              "3           13:02:17              3313071.0      Medium      AL  42.084637   \n",
              "4           13:02:17              3313071.0      Medium      AP  42.128049   \n",
              "\n",
              "         lng     type zone_id  \\\n",
              "0 -71.538114  Dropoff  E-1.2J   \n",
              "1 -71.555689  Dropoff  E-2.3H   \n",
              "2 -71.542410  Dropoff  E-1.2H   \n",
              "3 -71.565057  Dropoff  E-2.1H   \n",
              "4 -71.578627  Dropoff  E-2.2J   \n",
              "\n",
              "                                            packages  num_packages  \\\n",
              "0  [{'package_id': 'PackageID_469f7aa0-e0db-474e-...           1.0   \n",
              "1  [{'package_id': 'PackageID_caa3dc05-b659-4228-...           1.0   \n",
              "2  [{'package_id': 'PackageID_32227deb-67a8-4c65-...           2.0   \n",
              "3  [{'package_id': 'PackageID_fe18bcf4-808c-4b64-...           1.0   \n",
              "4  [{'package_id': 'PackageID_5d77652d-1f5f-40fd-...           1.0   \n",
              "\n",
              "  drone_possible  service_time_seconds  \n",
              "0           True                  65.0  \n",
              "1          False                  75.0  \n",
              "2          False                  62.5  \n",
              "3          False                 140.0  \n",
              "4           True                 100.0  "
            ]
          },
          "execution_count": 13,
          "metadata": {},
          "output_type": "execute_result"
        }
      ],
      "source": [
        "route_data_route_df.head()"
      ]
    },
    {
      "cell_type": "markdown",
      "metadata": {
        "id": "R14nuFPUmuoV"
      },
      "source": [
        "## Naive Solver\n",
        "This solver will just go to the next closest stop within the Zone, and then the next closest stop in a different zone."
      ]
    },
    {
      "cell_type": "code",
      "execution_count": 14,
      "metadata": {
        "id": "RiODJdtsuVhs"
      },
      "outputs": [],
      "source": [
        "# Event Types\n",
        "\n",
        "# Both\n",
        "LOAD_START = 'LOAD_START'\n",
        "LOAD_END = 'LOAD_END'\n",
        "ARRIVE = 'ARRIVE'\n",
        "DEPART = 'DEPART'\n",
        "\n",
        "# Vehicle\n",
        "SERVICE_START = 'SERVICE_START'\n",
        "SERVICE_END = 'SERVICE_END'\n",
        "\n",
        "\n",
        "# Drone\n",
        "LAUNCH = 'LAUNCH'\n",
        "DRONE_DELIVERY_START = 'DRONE_DELIVERY_START'\n",
        "DRONE_DELIVERY_END = 'DRONE_DELIVERY_END'\n",
        "LAND = 'LAND'"
      ]
    },
    {
      "cell_type": "code",
      "execution_count": 15,
      "metadata": {
        "id": "WwtyA0gysWch"
      },
      "outputs": [],
      "source": [
        "class Event:\n",
        "  def __init__(self, event_type, stop_id, time, data): # data holds extra information, like coordinates\n",
        "    self.event_type = event_type\n",
        "    self.stop_id = stop_id\n",
        "    self.time = time\n",
        "    self.data = data\n",
        "\n",
        "  def __str__(self):\n",
        "    return f\"{self.event_type} {self.stop_id} {round(self.time, 1)} {self.data}\"\n",
        "\n",
        "  def to_dict(self):\n",
        "    # Convert the event to a dictionary\n",
        "    return {\n",
        "        'event_type': self.event_type,\n",
        "        'stop_id': self.stop_id,\n",
        "        'time': self.time,\n",
        "        'coordinates': self.data,\n",
        "    }"
      ]
    },
    {
      "cell_type": "code",
      "execution_count": 46,
      "metadata": {
        "id": "BL-GtP_moCgl"
      },
      "outputs": [],
      "source": [
        "class VRPDSolver:\n",
        "  def __init__(self, route_id, package_data, route_data, vehicle_travel_times, drone_travel_times):\n",
        "    self.route_id = route_id\n",
        "    self.package_data = package_data\n",
        "    self.route_data = route_data\n",
        "    self.vehicle_travel_times = vehicle_travel_times\n",
        "    self.drone_travel_times = drone_travel_times\n",
        "    self.station = self.route_data[self.route_data['type'] == 'Station'].iloc[0]\n",
        "\n",
        "    self.vehicle_path = []\n",
        "    self.vehicle_events = []\n",
        "    self.drone_path = []\n",
        "    self.drone_events = []\n",
        "\n",
        "    self.remaining_stops = set(self.route_data['stop_id'].unique())\n",
        "    self.completed_stops = set()\n",
        "\n",
        "\n",
        "    self.cur_stop = None\n",
        "    self.cur_zone = None\n",
        "    self.cur_coords = None\n",
        "    self.cur_time = 0\n",
        "    self.final_time = 0\n",
        "\n",
        "  # Get closest stop\n",
        "  def get_closest_stop(self):\n",
        "\n",
        "    possible_zones = None\n",
        "    if self.cur_zone:\n",
        "      # Get all possible zones\n",
        "      possible_zones = self.route_data[self.route_data['zone_id'] == self.cur_zone]\n",
        "      # Remove any zones that have been visited\n",
        "      possible_zones = possible_zones[~possible_zones['stop_id'].isin(self.completed_stops)]\n",
        "\n",
        "    # If there are more stops left in the zone, we find the closest one using it's stop_id and vehicle_travel_times\n",
        "    best_next_stop = None\n",
        "    cur_min_time = float('inf')\n",
        "\n",
        "    # We find the next closest stop in the zone\n",
        "    if possible_zones is not None and not possible_zones.empty:\n",
        "      for _, row in possible_zones.iterrows():\n",
        "        if self.vehicle_travel_times[self.cur_stop][row['stop_id']] < cur_min_time and row['stop_id'] != self.cur_stop and row['stop_id'] !=  self.station['stop_id']:\n",
        "          cur_min_time = self.vehicle_travel_times[self.cur_stop][row['stop_id']]\n",
        "          best_next_stop = row['stop_id']\n",
        "    \n",
        "    if best_next_stop is None:\n",
        "      # We find the next closest stop that has not been visited\n",
        "      for stop in self.remaining_stops:\n",
        "          if self.vehicle_travel_times[self.cur_stop][stop] < cur_min_time and stop != self.cur_stop:\n",
        "            cur_min_time = self.vehicle_travel_times[self.cur_stop][stop]\n",
        "            best_next_stop = stop\n",
        "\n",
        "    if best_next_stop is None:\n",
        "      print(\"setting\")\n",
        "      best_next_stop = self.station['stop_id']\n",
        "\n",
        "    return best_next_stop\n",
        "\n",
        "  def naive_vrp(self):\n",
        "    \n",
        "    # The first step is departing the station\n",
        "    self.cur_stop = self.station['stop_id']\n",
        "    self.cur_coords = {'lat' : self.station['lat'], 'lng' : self.station['lng']}\n",
        "\n",
        "    # We leave the depot station\n",
        "    first_event = Event(DEPART, self.cur_stop, self.cur_time, self.cur_coords)\n",
        "    self.vehicle_events.append(first_event)\n",
        "    self.vehicle_path.append(self.cur_stop)\n",
        "\n",
        "    while len(self.remaining_stops) > 0:\n",
        "     \n",
        "      # We find the closest stop\n",
        "      next_stop = self.get_closest_stop()\n",
        "      # Travel there\n",
        "      self.cur_time += self.vehicle_travel_times[self.cur_stop][next_stop]\n",
        "      # Arrive\n",
        "      self.cur_stop = next_stop\n",
        "      stop = self.route_data[self.route_data['stop_id'] == self.cur_stop].iloc[0]\n",
        "      self.cur_zone = stop['zone_id']\n",
        "      self.cur_coords = {'lat' : stop['lat'], 'lng' : stop['lng']}\n",
        "      arrive_event = Event(ARRIVE, self.cur_stop, self.cur_time, self.cur_coords)\n",
        "      self.vehicle_events.append(arrive_event)\n",
        "      self.vehicle_path.append(self.cur_stop)\n",
        "\n",
        "      # # Edge case: If we arrive at the station we can break before delivering packages\n",
        "      if self.cur_stop == self.station['stop_id']:\n",
        "        print(self.cur_stop)\n",
        "        print(len(self.remaining_stops))\n",
        "        break\n",
        "\n",
        "      # Driver delivers package\n",
        "      service_start_event = Event(SERVICE_START, self.cur_stop, self.cur_time, self.cur_coords)\n",
        "      self.vehicle_events.append(service_start_event)\n",
        "      self.cur_time += stop['service_time_seconds']\n",
        "      service_end_event = Event(SERVICE_END, self.cur_stop, self.cur_time, self.cur_coords)\n",
        "      self.vehicle_events.append(service_end_event)\n",
        "      self.completed_stops.add(self.cur_stop)\n",
        "      self.remaining_stops.remove(self.cur_stop)\n",
        "      # Driver departs\n",
        "      depart_event = Event(DEPART, self.cur_stop, self.cur_time, self.cur_coords)\n",
        "      self.vehicle_events.append(depart_event)\n",
        "\n",
        "    self.final_time = self.cur_time\n",
        "\n",
        "\n",
        "  # Takes in three stops and determines if a drone should be used for the middle stop\n",
        "  def augment_good(self, next_stops):\n",
        "      # We check if a drone can deliver to the middle stop\n",
        "      mid_stop = self.route_data[self.route_data['stop_id'] == next_stops[1]].iloc[0]\n",
        "      if mid_stop[\"drone_possible\"]:\n",
        "      # We see if the timing is bett\n",
        "        vehicle_time = 0\n",
        "        drone_time = 0\n",
        "        vehicle_drone_time = 0\n",
        "\n",
        "        vehicle_time += self.vehicle_travel_times[next_stops[0]][next_stops[1]]\n",
        "        vehicle_time += self.vehicle_travel_times[next_stops[1]][next_stops[2]]\n",
        "        vehicle_time += mid_stop['service_time_seconds']\n",
        "\n",
        "        drone_time += 15 # For loading the drone\n",
        "        drone_time += 5 # For launching the drone\n",
        "        drone_time += self.drone_travel_times[next_stops[0]][next_stops[1]]\n",
        "        drone_time += 10 # Drone landing, delivering, launching\n",
        "        drone_time += self.drone_travel_times[next_stops[1]][next_stops[2]]\n",
        "        drone_time += 5 # For landing the drone\n",
        "\n",
        "        vehicle_drone_time += 15 # For loading the drone\n",
        "        vehicle_drone_time += self.vehicle_travel_times[next_stops[0]][next_stops[2]]\n",
        "\n",
        "        max_time = max(vehicle_drone_time, drone_time)\n",
        "        # print(f\"Vehicle time: {vehicle_time}\")\n",
        "        # print(f\"Drone time: {drone_time}\")\n",
        "        # print(f\"Vehicle drone time: {vehicle_drone_time}\")\n",
        "        # print(\"------------\")\n",
        "        return max_time < vehicle_time\n",
        "      else:\n",
        "        return False\n",
        "\n",
        "  def naive_vrpd(self):\n",
        "    # The first step is departing the station\n",
        "    self.cur_stop = self.station['stop_id']\n",
        "    self.cur_coords = {'lat' : self.station['lat'], 'lng' : self.station['lng']}\n",
        "\n",
        "    # We leave the depot station\n",
        "    first_event = Event(DEPART, self.cur_stop, self.cur_time, self.cur_coords)\n",
        "    self.vehicle_events.append(first_event)\n",
        "    self.vehicle_path.append(self.cur_stop)\n",
        "    self.drone_events.append(first_event)\n",
        "    self.drone_path.append(self.cur_stop)\n",
        "\n",
        "\n",
        "    while len(self.remaining_stops) > 0:\n",
        "      # We find the next three stops for the vehicle\n",
        "      # If possible we agument with possible and shorter time we augment with a drone\n",
        "\n",
        "      # Doesn't account for differnet iterations, but simple is fine for this\n",
        "\n",
        "      base_stop = self.cur_stop # What we will default to\n",
        "      next_stops = []\n",
        "      drone_attempt = len(self.remaining_stops) > 4\n",
        "\n",
        "      if drone_attempt:\n",
        "        for i in range(3):\n",
        "          next_stop = self.get_closest_stop()\n",
        "          self.cur_stop = next_stop\n",
        "          next_stops.append(next_stop)\n",
        "          if i != 2:\n",
        "            self.completed_stops.add(self.cur_stop)\n",
        "            self.remaining_stops.remove(self.cur_stop)\n",
        "\n",
        "      # We augment by using drone\n",
        "      if drone_attempt and self.augment_good(next_stops):\n",
        "        next_stop = next_stops[0]\n",
        "        self.cur_time += self.vehicle_travel_times[self.cur_stop][next_stop]\n",
        "        # Arrive at first stop\n",
        "        self.cur_stop = next_stop\n",
        "        stop = self.route_data[self.route_data['stop_id'] == self.cur_stop].iloc[0]\n",
        "        self.cur_zone = stop['zone_id']\n",
        "        self.cur_coords = {'lat' : stop['lat'], 'lng' : stop['lng']}\n",
        "        arrive_event = Event(ARRIVE, self.cur_stop, self.cur_time, self.cur_coords)\n",
        "        self.vehicle_events.append(arrive_event)\n",
        "        self.vehicle_path.append(self.cur_stop)\n",
        "        self.drone_events.append(arrive_event)\n",
        "        self.drone_path.append(self.cur_stop)\n",
        "\n",
        "        # Driver delivers package\n",
        "        service_start_event = Event(SERVICE_START, self.cur_stop, self.cur_time, self.cur_coords)\n",
        "        self.vehicle_events.append(service_start_event)\n",
        "        self.cur_time += stop['service_time_seconds']\n",
        "        service_end_event = Event(SERVICE_END, self.cur_stop, self.cur_time, self.cur_coords)\n",
        "        self.vehicle_events.append(service_end_event)\n",
        "\n",
        "        # Drive loads the drone\n",
        "        load_drone_event = Event(LOAD_START, self.cur_stop, self.cur_time, self.cur_coords)\n",
        "        self.vehicle_events.append(load_drone_event)\n",
        "        self.drone_events.append(load_drone_event)\n",
        "        self.cur_time += 15\n",
        "        load_drone_event = Event(LOAD_END, self.cur_stop, self.cur_time, self.cur_coords)\n",
        "        self.vehicle_events.append(load_drone_event)\n",
        "        self.drone_events.append(load_drone_event)\n",
        "\n",
        "        #TODO: Add a class variable to keep track of drone logistics\n",
        "        drone_time = self.cur_time\n",
        "\n",
        "        # Drone Leaves to deliver\n",
        "        drone_launch_event = Event(LAUNCH, self.cur_stop, drone_time, self.cur_coords)\n",
        "        self.drone_events.append(drone_launch_event)\n",
        "        drone_time += 5\n",
        "        drone_time += self.drone_travel_times[next_stops[0]][next_stops[1]] # Travels to middle stop\n",
        "        stop = self.route_data[self.route_data['stop_id'] == next_stops[1]].iloc[0]\n",
        "        drone_coords = {'lat' : stop['lat'], 'lng' : stop['lng']}\n",
        "        drone_arrive_event = Event(DRONE_DELIVERY_START, next_stops[1], drone_time, drone_coords)\n",
        "        self.drone_events.append(drone_arrive_event)\n",
        "        drone_time += 10 # Drone delivering\n",
        "        self.drone_path.append(next_stops[1])\n",
        "        drone_depart_event = Event(DRONE_DELIVERY_END, next_stops[1], drone_time, drone_coords)\n",
        "        self.drone_events.append(drone_depart_event)\n",
        "        drone_time += self.drone_travel_times[next_stops[1]][next_stops[2]] # Travels to last stop\n",
        "\n",
        "        # Before the drone lands, we have to ensure that the vehicle is there\n",
        "\n",
        "        # Vehicle departs\n",
        "        vehicle_depart_event = Event(DEPART, self.cur_stop, self.cur_time, self.cur_coords)\n",
        "        self.vehicle_events.append(vehicle_depart_event)\n",
        "\n",
        "        self.cur_time += self.vehicle_travel_times[next_stops[0]][next_stops[2]] # Traveling to next stop\n",
        "        # Vehicle arrives\n",
        "        self.cur_stop = next_stops[2]\n",
        "        stop = self.route_data[self.route_data['stop_id'] == self.cur_stop].iloc[0]\n",
        "        self.cur_zone = stop['zone_id']\n",
        "        self.cur_coords = {'lat' : stop['lat'], 'lng' : stop['lng']}\n",
        "        vehicle_arrive_event = Event(ARRIVE, self.cur_stop, self.cur_time, self.cur_coords)\n",
        "        self.vehicle_events.append(vehicle_arrive_event)\n",
        "        self.vehicle_path.append(self.cur_stop)\n",
        "\n",
        "        # If the vehicle can land it tries to do so\n",
        "        landed = False\n",
        "        if drone_time < self.cur_time:\n",
        "          landed = True\n",
        "          drone_land_event = Event(LAND, self.cur_stop, self.cur_time, self.cur_coords)\n",
        "          self.drone_events.append(drone_land_event)\n",
        "          self.drone_path.append(self.cur_stop)\n",
        "\n",
        "        # Driver Delivers Package\n",
        "        service_start_event = Event(SERVICE_START, self.cur_stop, self.cur_time, self.cur_coords)\n",
        "        self.vehicle_events.append(service_start_event)\n",
        "        self.cur_time += stop['service_time_seconds']\n",
        "        service_end_event = Event(SERVICE_END, self.cur_stop, self.cur_time, self.cur_coords)\n",
        "\n",
        "        self.vehicle_events.append(service_end_event)\n",
        "        self.completed_stops.add(self.cur_stop)\n",
        "        self.remaining_stops.remove(self.cur_stop)\n",
        "\n",
        "        # Drone tries to land again, makes vehicle wait if needed\n",
        "        if not landed:\n",
        "          if drone_time < self.cur_time:\n",
        "            drone_land_event = Event(LAND, self.cur_stop, drone_time, self.cur_coords) # Note we now land on drone_time\n",
        "            self.drone_events.append(drone_land_event)\n",
        "            self.drone_path.append(self.cur_stop)\n",
        "          else:\n",
        "            self.cur_time = max(self.cur_time, drone_time)\n",
        "            drone_land_event = Event(LAND, self.cur_stop, self.cur_time, self.cur_coords)\n",
        "            self.drone_events.append(drone_land_event)\n",
        "            self.drone_path.append(self.cur_stop)\n",
        "\n",
        "        # Driver departs\n",
        "        depart_event = Event(DEPART, self.cur_stop, self.cur_time, self.cur_coords)\n",
        "        self.vehicle_events.append(depart_event)\n",
        "        self.drone_events.append(depart_event)\n",
        "\n",
        "\n",
        "      else:\n",
        "\n",
        "        # We reverse the affects of finding the 3 next stops\n",
        "        self.cur_stop = base_stop\n",
        "        if next_stops:\n",
        "          self.completed_stops.remove(next_stops[0])\n",
        "          self.completed_stops.remove(next_stops[1])\n",
        "          self.remaining_stops.add(next_stops[0])\n",
        "          self.remaining_stops.add(next_stops[1])\n",
        "\n",
        "        # We find the closest stop\n",
        "        next_stop = self.get_closest_stop()\n",
        "        # Travel there\n",
        "        self.cur_time += self.vehicle_travel_times[self.cur_stop][next_stop]\n",
        "        # Arrive\n",
        "        self.cur_stop = next_stop\n",
        "        stop = self.route_data[self.route_data['stop_id'] == self.cur_stop].iloc[0]\n",
        "        self.cur_zone = stop['zone_id']\n",
        "        self.cur_coords = {'lat' : stop['lat'], 'lng' : stop['lng']}\n",
        "        arrive_event = Event(ARRIVE, self.cur_stop, self.cur_time, self.cur_coords)\n",
        "        self.vehicle_events.append(arrive_event)\n",
        "        self.vehicle_path.append(self.cur_stop)\n",
        "        self.drone_path.append(self.cur_stop)\n",
        "        self.drone_events.append(arrive_event)\n",
        "\n",
        "        # # Edge case: If we arrive at the station we can break before delivering packages\n",
        "        if self.cur_stop == self.station['stop_id']:\n",
        "          \n",
        "          break\n",
        "\n",
        "        # Driver delivers package\n",
        "        service_start_event = Event(SERVICE_START, self.cur_stop, self.cur_time, self.cur_coords)\n",
        "        self.vehicle_events.append(service_start_event)\n",
        "        self.cur_time += stop['service_time_seconds']\n",
        "        service_end_event = Event(SERVICE_END, self.cur_stop, self.cur_time, self.cur_coords)\n",
        "        self.vehicle_events.append(service_end_event)\n",
        "        self.completed_stops.add(self.cur_stop)\n",
        "        self.remaining_stops.remove(self.cur_stop)\n",
        "        # Driver departs\n",
        "        depart_event = Event(DEPART, self.cur_stop, self.cur_time, self.cur_coords)\n",
        "        self.vehicle_events.append(depart_event)\n",
        "        self.drone_events.append(depart_event)\n",
        "\n",
        "      self.final_time = self.cur_time\n",
        "\n",
        "\n",
        "\n",
        "  def print_vehicle_path(self):\n",
        "          print(self.vehicle_path)  # Ensure vehicle_path is correctly converted to string\n",
        "\n",
        "  def print_vehicle_events(self):\n",
        "          for event in self.vehicle_events:\n",
        "              print(event)  # Convert Event object to string\n",
        "\n",
        "  def print_drone_path(self):\n",
        "          print(self.drone_path)  # Ensure drone_path is correctly converted to string\n",
        "\n",
        "  def print_drone_events(self):\n",
        "          for event in self.drone_events:\n",
        "              print(event)\n",
        "\n",
        "  def save_vehicle_path(self, path):\n",
        "    os.makedirs(path, exist_ok=True)\n",
        "    path_json = []\n",
        "    for i, stop_id in enumerate(self.vehicle_path):\n",
        "      stop = self.route_data[self.route_data['stop_id'] == stop_id].iloc[0]\n",
        "      vehicle_coords = {'lat' : stop['lat'], 'lng' : stop['lng']}\n",
        "      path_json.append({\"id\": i+1, \"stop\": stop_id, \"coordinates\": vehicle_coords})\n",
        "\n",
        "    with open(f\"{path}/{self.route_id}_vehicle_path.json\", 'w') as file:\n",
        "        json.dump(path_json, file, indent=4)\n",
        "\n",
        "  def save_drone_path(self, path):\n",
        "    os.makedirs(path, exist_ok=True)\n",
        "    path_json = []\n",
        "    for i, stop_id in enumerate(self.drone_path):\n",
        "      stop = self.route_data[self.route_data['stop_id'] == stop_id].iloc[0]\n",
        "      drone_coords = {'lat' : stop['lat'], 'lng' : stop['lng']}\n",
        "      path_json.append({\"id\": i+1, \"stop\": stop_id, \"coordinates\": drone_coords})\n",
        "\n",
        "    with open(f\"{path}/{self.route_id}_drone_path.json\", 'w') as file:\n",
        "        json.dump(path_json, file, indent=4)\n",
        "\n",
        "  def save_vehicle_events(self, path):\n",
        "    os.makedirs(path, exist_ok=True)\n",
        "    # Convert the list of events to a list of dictionaries and assign an ID to each\n",
        "    events_with_ids = [{'id': i+1, **event.to_dict()} for i, event in enumerate(self.vehicle_events)]\n",
        "    # Save the list of events as a JSON file\n",
        "    with open(f\"{path}/{self.route_id}_vehicle_events.json\", 'w') as file:\n",
        "        json.dump(events_with_ids, file, indent=4)\n",
        "\n",
        "  def save_drone_events(self, path):\n",
        "    os.makedirs(path, exist_ok=True)\n",
        "    # Convert the list of events to a list of dictionaries and assign an ID to each\n",
        "    events_with_ids = [{'id': i+1, **event.to_dict()} for i, event in enumerate(self.drone_events)]\n",
        "    # Save the list of events as a JSON file\n",
        "    with open(f\"{path}/{self.route_id}_drone_events.json\", 'w') as file:\n",
        "        json.dump(events_with_ids, file, indent=4)\n",
        "\n"
      ]
    },
    {
      "cell_type": "code",
      "execution_count": null,
      "metadata": {
        "id": "L6sf8wXAvFnX"
      },
      "outputs": [],
      "source": [
        "route_id = \"RouteID_0bce0fe7-3ec0-41d8-8f90-3c766c493da1\"\n",
        "package_data_route_df, route_data_route_df, vehicle_travel_times_route = get_data_for_route(route_id)\n",
        "route_data_route_df['zone_id'].ffill(inplace=True)\n",
        "\n",
        "drone_travel_times_route = calculate_drone_travel_time(route_data_route_df)\n",
        "\n",
        "\n",
        "package_data_route_df['drone_possible'] = (package_data_route_df['depth_cm'] < 30) & (package_data_route_df['height_cm'] < 25) & (package_data_route_df['width_cm'] < 30) # TODO: be indifferent on depth and width\n",
        "\n",
        "\n",
        "\n",
        "package_info_agg = package_data_route_df.groupby('stop_id').apply(\n",
        "lambda x: pd.Series({\n",
        "    'packages': x[['package_id', 'depth_cm', 'height_cm', 'width_cm']].to_dict('records'),\n",
        "    'num_packages': len(x),\n",
        "    'drone_possible': (len(x) == 1) and (x['drone_possible'].iloc[0] == True),\n",
        "    'service_time_seconds': x['planned_service_time_seconds'].mean() # Not sure if this should be sum or average. https://github.com/MIT-CAVE/rc-cli/blob/main/templates/data_structures.md\n",
        "})\n",
        ").reset_index()\n",
        "\n",
        "route_data_route_df = pd.merge(route_data_route_df, package_info_agg, how='left', on='stop_id')\n",
        "\n",
        "\n",
        "\n",
        "    "
      ]
    },
    {
      "cell_type": "code",
      "execution_count": 47,
      "metadata": {},
      "outputs": [],
      "source": [
        "solver = VRPDSolver(route_id, package_data_route_df, route_data_route_df, vehicle_travel_times_route, drone_travel_times_route)\n",
        "solver.naive_vrpd()\n",
        "# save everything\n",
        "solver.save_vehicle_path('test')\n",
        "solver.save_drone_events('test')"
      ]
    },
    {
      "cell_type": "code",
      "execution_count": 48,
      "metadata": {},
      "outputs": [
        {
          "name": "stdout",
          "output_type": "stream",
          "text": [
            "146\n",
            "129\n"
          ]
        }
      ],
      "source": [
        "print(len(route_data_route_df))\n",
        "print(len(solver.vehicle_path))"
      ]
    },
    {
      "cell_type": "code",
      "execution_count": 49,
      "metadata": {},
      "outputs": [
        {
          "name": "stdout",
          "output_type": "stream",
          "text": [
            "DEPART DI 0 {'lat': 33.688122, 'lng': -117.847178}\n",
            "ARRIVE TQ 50.5 {'lat': 33.570311, 'lng': -117.73271}\n",
            "SERVICE_START TQ 50.5 {'lat': 33.570311, 'lng': -117.73271}\n",
            "SERVICE_END TQ 131.5 {'lat': 33.570311, 'lng': -117.73271}\n",
            "LOAD_START TQ 131.5 {'lat': 33.570311, 'lng': -117.73271}\n",
            "LOAD_END TQ 146.5 {'lat': 33.570311, 'lng': -117.73271}\n",
            "DEPART TQ 146.5 {'lat': 33.570311, 'lng': -117.73271}\n",
            "ARRIVE JY 187.0 {'lat': 33.569678, 'lng': -117.731179}\n",
            "SERVICE_START JY 187.0 {'lat': 33.569678, 'lng': -117.731179}\n",
            "SERVICE_END JY 230.0 {'lat': 33.569678, 'lng': -117.731179}\n",
            "DEPART JY 230.0 {'lat': 33.569678, 'lng': -117.731179}\n",
            "ARRIVE EY 249.5 {'lat': 33.56864, 'lng': -117.731061}\n",
            "SERVICE_START EY 249.5 {'lat': 33.56864, 'lng': -117.731061}\n",
            "SERVICE_END EY 291.5 {'lat': 33.56864, 'lng': -117.731061}\n",
            "DEPART EY 291.5 {'lat': 33.56864, 'lng': -117.731061}\n",
            "ARRIVE FE 314.5 {'lat': 33.568695, 'lng': -117.731665}\n",
            "SERVICE_START FE 314.5 {'lat': 33.568695, 'lng': -117.731665}\n",
            "SERVICE_END FE 361.5 {'lat': 33.568695, 'lng': -117.731665}\n",
            "DEPART FE 361.5 {'lat': 33.568695, 'lng': -117.731665}\n",
            "ARRIVE UY 369.8 {'lat': 33.569176, 'lng': -117.731696}\n",
            "SERVICE_START UY 369.8 {'lat': 33.569176, 'lng': -117.731696}\n",
            "SERVICE_END UY 409.8 {'lat': 33.569176, 'lng': -117.731696}\n",
            "DEPART UY 409.8 {'lat': 33.569176, 'lng': -117.731696}\n",
            "ARRIVE GT 428.7 {'lat': 33.569788, 'lng': -117.732525}\n",
            "SERVICE_START GT 428.7 {'lat': 33.569788, 'lng': -117.732525}\n",
            "SERVICE_END GT 462.7 {'lat': 33.569788, 'lng': -117.732525}\n",
            "DEPART GT 462.7 {'lat': 33.569788, 'lng': -117.732525}\n",
            "ARRIVE ES 519.4 {'lat': 33.569274, 'lng': -117.732508}\n",
            "SERVICE_START ES 519.4 {'lat': 33.569274, 'lng': -117.732508}\n",
            "SERVICE_END ES 555.4 {'lat': 33.569274, 'lng': -117.732508}\n",
            "DEPART ES 555.4 {'lat': 33.569274, 'lng': -117.732508}\n",
            "ARRIVE IZ 660.2 {'lat': 33.569606, 'lng': -117.733898}\n",
            "SERVICE_START IZ 660.2 {'lat': 33.569606, 'lng': -117.733898}\n",
            "SERVICE_END IZ 779.4 {'lat': 33.569606, 'lng': -117.733898}\n",
            "DEPART IZ 779.4 {'lat': 33.569606, 'lng': -117.733898}\n",
            "ARRIVE BN 851.4 {'lat': 33.569572, 'lng': -117.734947}\n",
            "SERVICE_START BN 851.4 {'lat': 33.569572, 'lng': -117.734947}\n",
            "SERVICE_END BN 974.9 {'lat': 33.569572, 'lng': -117.734947}\n",
            "DEPART BN 974.9 {'lat': 33.569572, 'lng': -117.734947}\n",
            "ARRIVE DL 1110.8 {'lat': 33.56807, 'lng': -117.734389}\n",
            "SERVICE_START DL 1110.8 {'lat': 33.56807, 'lng': -117.734389}\n",
            "SERVICE_END DL 1198.5 {'lat': 33.56807, 'lng': -117.734389}\n",
            "DEPART DL 1198.5 {'lat': 33.56807, 'lng': -117.734389}\n",
            "ARRIVE ZG 1266.8 {'lat': 33.568414, 'lng': -117.73497}\n",
            "SERVICE_START ZG 1266.8 {'lat': 33.568414, 'lng': -117.73497}\n",
            "SERVICE_END ZG 1380.8 {'lat': 33.568414, 'lng': -117.73497}\n",
            "DEPART ZG 1380.8 {'lat': 33.568414, 'lng': -117.73497}\n",
            "ARRIVE BU 1429.7 {'lat': 33.568476, 'lng': -117.735381}\n",
            "SERVICE_START BU 1429.7 {'lat': 33.568476, 'lng': -117.735381}\n",
            "SERVICE_END BU 1514.7 {'lat': 33.568476, 'lng': -117.735381}\n",
            "DEPART BU 1514.7 {'lat': 33.568476, 'lng': -117.735381}\n",
            "ARRIVE GW 1590.9 {'lat': 33.567961, 'lng': -117.735683}\n",
            "SERVICE_START GW 1590.9 {'lat': 33.567961, 'lng': -117.735683}\n",
            "SERVICE_END GW 1649.6 {'lat': 33.567961, 'lng': -117.735683}\n",
            "DEPART GW 1649.6 {'lat': 33.567961, 'lng': -117.735683}\n",
            "ARRIVE WS 1721.9 {'lat': 33.567053, 'lng': -117.736264}\n",
            "SERVICE_START WS 1721.9 {'lat': 33.567053, 'lng': -117.736264}\n",
            "SERVICE_END WS 1818.7 {'lat': 33.567053, 'lng': -117.736264}\n",
            "DEPART WS 1818.7 {'lat': 33.567053, 'lng': -117.736264}\n",
            "ARRIVE KL 1868.0 {'lat': 33.56669, 'lng': -117.736221}\n",
            "SERVICE_START KL 1868.0 {'lat': 33.56669, 'lng': -117.736221}\n",
            "SERVICE_END KL 1931.5 {'lat': 33.56669, 'lng': -117.736221}\n",
            "DEPART KL 1931.5 {'lat': 33.56669, 'lng': -117.736221}\n",
            "ARRIVE HF 2043.7 {'lat': 33.565926, 'lng': -117.735786}\n",
            "SERVICE_START HF 2043.7 {'lat': 33.565926, 'lng': -117.735786}\n",
            "SERVICE_END HF 2088.7 {'lat': 33.565926, 'lng': -117.735786}\n",
            "DEPART HF 2088.7 {'lat': 33.565926, 'lng': -117.735786}\n",
            "ARRIVE HJ 2167.3 {'lat': 33.566403, 'lng': -117.734697}\n",
            "SERVICE_START HJ 2167.3 {'lat': 33.566403, 'lng': -117.734697}\n",
            "SERVICE_END HJ 2242.8 {'lat': 33.566403, 'lng': -117.734697}\n",
            "DEPART HJ 2242.8 {'lat': 33.566403, 'lng': -117.734697}\n",
            "ARRIVE UB 2318.3 {'lat': 33.567409, 'lng': -117.734469}\n",
            "SERVICE_START UB 2318.3 {'lat': 33.567409, 'lng': -117.734469}\n",
            "SERVICE_END UB 2443.0 {'lat': 33.567409, 'lng': -117.734469}\n",
            "DEPART UB 2443.0 {'lat': 33.567409, 'lng': -117.734469}\n",
            "ARRIVE ZQ 2491.6 {'lat': 33.56775, 'lng': -117.734616}\n",
            "SERVICE_START ZQ 2491.6 {'lat': 33.56775, 'lng': -117.734616}\n",
            "SERVICE_END ZQ 2554.6 {'lat': 33.56775, 'lng': -117.734616}\n",
            "DEPART ZQ 2554.6 {'lat': 33.56775, 'lng': -117.734616}\n",
            "ARRIVE QU 2621.7 {'lat': 33.567223, 'lng': -117.735458}\n",
            "SERVICE_START QU 2621.7 {'lat': 33.567223, 'lng': -117.735458}\n",
            "SERVICE_END QU 2724.2 {'lat': 33.567223, 'lng': -117.735458}\n",
            "DEPART QU 2724.2 {'lat': 33.567223, 'lng': -117.735458}\n",
            "ARRIVE WD 2869.8 {'lat': 33.567345, 'lng': -117.732986}\n",
            "SERVICE_START WD 2869.8 {'lat': 33.567345, 'lng': -117.732986}\n",
            "SERVICE_END WD 2948.2 {'lat': 33.567345, 'lng': -117.732986}\n",
            "DEPART WD 2948.2 {'lat': 33.567345, 'lng': -117.732986}\n",
            "ARRIVE KA 2972.6 {'lat': 33.566953, 'lng': -117.733669}\n",
            "SERVICE_START KA 2972.6 {'lat': 33.566953, 'lng': -117.733669}\n",
            "SERVICE_END KA 3008.1 {'lat': 33.566953, 'lng': -117.733669}\n",
            "DEPART KA 3008.1 {'lat': 33.566953, 'lng': -117.733669}\n",
            "ARRIVE CK 3028.8 {'lat': 33.567367, 'lng': -117.733928}\n",
            "SERVICE_START CK 3028.8 {'lat': 33.567367, 'lng': -117.733928}\n",
            "SERVICE_END CK 3065.8 {'lat': 33.567367, 'lng': -117.733928}\n",
            "DEPART CK 3065.8 {'lat': 33.567367, 'lng': -117.733928}\n",
            "ARRIVE YQ 3082.2 {'lat': 33.568008, 'lng': -117.733744}\n",
            "SERVICE_START YQ 3082.2 {'lat': 33.568008, 'lng': -117.733744}\n",
            "SERVICE_END YQ 3139.2 {'lat': 33.568008, 'lng': -117.733744}\n",
            "DEPART YQ 3139.2 {'lat': 33.568008, 'lng': -117.733744}\n",
            "ARRIVE WJ 3201.4 {'lat': 33.565901, 'lng': -117.733609}\n",
            "SERVICE_START WJ 3201.4 {'lat': 33.565901, 'lng': -117.733609}\n",
            "SERVICE_END WJ 3227.4 {'lat': 33.565901, 'lng': -117.733609}\n",
            "DEPART WJ 3227.4 {'lat': 33.565901, 'lng': -117.733609}\n",
            "ARRIVE UZ 3324.7 {'lat': 33.565823, 'lng': -117.733996}\n",
            "SERVICE_START UZ 3324.7 {'lat': 33.565823, 'lng': -117.733996}\n",
            "SERVICE_END UZ 3453.7 {'lat': 33.565823, 'lng': -117.733996}\n",
            "LOAD_START UZ 3453.7 {'lat': 33.565823, 'lng': -117.733996}\n",
            "LOAD_END UZ 3468.7 {'lat': 33.565823, 'lng': -117.733996}\n",
            "DEPART UZ 3468.7 {'lat': 33.565823, 'lng': -117.733996}\n",
            "ARRIVE SR 3561.4 {'lat': 33.568412, 'lng': -117.732665}\n",
            "SERVICE_START SR 3561.4 {'lat': 33.568412, 'lng': -117.732665}\n",
            "SERVICE_END SR 3624.4 {'lat': 33.568412, 'lng': -117.732665}\n",
            "DEPART SR 3624.4 {'lat': 33.568412, 'lng': -117.732665}\n",
            "ARRIVE ZU 3715.7 {'lat': 33.567877, 'lng': -117.732301}\n",
            "SERVICE_START ZU 3715.7 {'lat': 33.567877, 'lng': -117.732301}\n",
            "SERVICE_END ZU 3772.2 {'lat': 33.567877, 'lng': -117.732301}\n",
            "DEPART ZU 3772.2 {'lat': 33.567877, 'lng': -117.732301}\n",
            "ARRIVE XO 3847.8 {'lat': 33.567918, 'lng': -117.731179}\n",
            "SERVICE_START XO 3847.8 {'lat': 33.567918, 'lng': -117.731179}\n",
            "SERVICE_END XO 3899.8 {'lat': 33.567918, 'lng': -117.731179}\n",
            "DEPART XO 3899.8 {'lat': 33.567918, 'lng': -117.731179}\n",
            "ARRIVE YJ 3986.7 {'lat': 33.566479, 'lng': -117.732014}\n",
            "SERVICE_START YJ 3986.7 {'lat': 33.566479, 'lng': -117.732014}\n",
            "SERVICE_END YJ 4101.7 {'lat': 33.566479, 'lng': -117.732014}\n",
            "DEPART YJ 4101.7 {'lat': 33.566479, 'lng': -117.732014}\n",
            "ARRIVE OM 4148.7 {'lat': 33.56597, 'lng': -117.731879}\n",
            "SERVICE_START OM 4148.7 {'lat': 33.56597, 'lng': -117.731879}\n",
            "SERVICE_END OM 4198.1 {'lat': 33.56597, 'lng': -117.731879}\n",
            "DEPART OM 4198.1 {'lat': 33.56597, 'lng': -117.731879}\n",
            "ARRIVE HX 4277.3 {'lat': 33.566919, 'lng': -117.73119}\n",
            "SERVICE_START HX 4277.3 {'lat': 33.566919, 'lng': -117.73119}\n",
            "SERVICE_END HX 4333.7 {'lat': 33.566919, 'lng': -117.73119}\n",
            "DEPART HX 4333.7 {'lat': 33.566919, 'lng': -117.73119}\n",
            "ARRIVE GC 4371.0 {'lat': 33.564001, 'lng': -117.73499}\n",
            "SERVICE_START GC 4371.0 {'lat': 33.564001, 'lng': -117.73499}\n",
            "SERVICE_END GC 4459.0 {'lat': 33.564001, 'lng': -117.73499}\n",
            "LOAD_START GC 4459.0 {'lat': 33.564001, 'lng': -117.73499}\n",
            "LOAD_END GC 4474.0 {'lat': 33.564001, 'lng': -117.73499}\n",
            "DEPART GC 4474.0 {'lat': 33.564001, 'lng': -117.73499}\n",
            "ARRIVE HO 4524.0 {'lat': 33.564393, 'lng': -117.735854}\n",
            "SERVICE_START HO 4524.0 {'lat': 33.564393, 'lng': -117.735854}\n",
            "SERVICE_END HO 4596.0 {'lat': 33.564393, 'lng': -117.735854}\n",
            "DEPART HO 4596.0 {'lat': 33.564393, 'lng': -117.735854}\n",
            "ARRIVE OB 4620.8 {'lat': 33.563705, 'lng': -117.735519}\n",
            "SERVICE_START OB 4620.8 {'lat': 33.563705, 'lng': -117.735519}\n",
            "SERVICE_END OB 4676.8 {'lat': 33.563705, 'lng': -117.735519}\n",
            "DEPART OB 4676.8 {'lat': 33.563705, 'lng': -117.735519}\n",
            "ARRIVE NY 4700.5 {'lat': 33.563167, 'lng': -117.734959}\n",
            "SERVICE_START NY 4700.5 {'lat': 33.563167, 'lng': -117.734959}\n",
            "SERVICE_END NY 4829.0 {'lat': 33.563167, 'lng': -117.734959}\n",
            "DEPART NY 4829.0 {'lat': 33.563167, 'lng': -117.734959}\n",
            "ARRIVE MT 4894.4 {'lat': 33.564146, 'lng': -117.734321}\n",
            "SERVICE_START MT 4894.4 {'lat': 33.564146, 'lng': -117.734321}\n",
            "SERVICE_END MT 4955.4 {'lat': 33.564146, 'lng': -117.734321}\n",
            "DEPART MT 4955.4 {'lat': 33.564146, 'lng': -117.734321}\n",
            "ARRIVE QD 5147.5 {'lat': 33.56494, 'lng': -117.734276}\n",
            "SERVICE_START QD 5147.5 {'lat': 33.56494, 'lng': -117.734276}\n",
            "SERVICE_END QD 5190.2 {'lat': 33.56494, 'lng': -117.734276}\n",
            "LOAD_START QD 5190.2 {'lat': 33.56494, 'lng': -117.734276}\n",
            "LOAD_END QD 5205.2 {'lat': 33.56494, 'lng': -117.734276}\n",
            "DEPART QD 5205.2 {'lat': 33.56494, 'lng': -117.734276}\n",
            "ARRIVE TD 5390.7 {'lat': 33.563457, 'lng': -117.733339}\n",
            "SERVICE_START TD 5390.7 {'lat': 33.563457, 'lng': -117.733339}\n",
            "SERVICE_END TD 5423.2 {'lat': 33.563457, 'lng': -117.733339}\n",
            "DEPART TD 5423.2 {'lat': 33.563457, 'lng': -117.733339}\n",
            "ARRIVE MG 5450.7 {'lat': 33.563098, 'lng': -117.732946}\n",
            "SERVICE_START MG 5450.7 {'lat': 33.563098, 'lng': -117.732946}\n",
            "SERVICE_END MG 5532.7 {'lat': 33.563098, 'lng': -117.732946}\n",
            "DEPART MG 5532.7 {'lat': 33.563098, 'lng': -117.732946}\n",
            "ARRIVE HV 5544.6 {'lat': 33.563365, 'lng': -117.732701}\n",
            "SERVICE_START HV 5544.6 {'lat': 33.563365, 'lng': -117.732701}\n",
            "SERVICE_END HV 5618.6 {'lat': 33.563365, 'lng': -117.732701}\n",
            "DEPART HV 5618.6 {'lat': 33.563365, 'lng': -117.732701}\n",
            "ARRIVE RL 5659.1 {'lat': 33.564486, 'lng': -117.732002}\n",
            "SERVICE_START RL 5659.1 {'lat': 33.564486, 'lng': -117.732002}\n",
            "SERVICE_END RL 6159.1 {'lat': 33.564486, 'lng': -117.732002}\n",
            "DEPART RL 6159.1 {'lat': 33.564486, 'lng': -117.732002}\n",
            "ARRIVE NB 6192.8 {'lat': 33.565289, 'lng': -117.732384}\n",
            "SERVICE_START NB 6192.8 {'lat': 33.565289, 'lng': -117.732384}\n",
            "SERVICE_END NB 6249.8 {'lat': 33.565289, 'lng': -117.732384}\n",
            "DEPART NB 6249.8 {'lat': 33.565289, 'lng': -117.732384}\n",
            "ARRIVE KZ 6263.9 {'lat': 33.565348, 'lng': -117.731902}\n",
            "SERVICE_START KZ 6263.9 {'lat': 33.565348, 'lng': -117.731902}\n",
            "SERVICE_END KZ 6305.6 {'lat': 33.565348, 'lng': -117.731902}\n",
            "DEPART KZ 6305.6 {'lat': 33.565348, 'lng': -117.731902}\n",
            "ARRIVE ID 6350.2 {'lat': 33.564911, 'lng': -117.731807}\n",
            "SERVICE_START ID 6350.2 {'lat': 33.564911, 'lng': -117.731807}\n",
            "SERVICE_END ID 6400.2 {'lat': 33.564911, 'lng': -117.731807}\n",
            "DEPART ID 6400.2 {'lat': 33.564911, 'lng': -117.731807}\n",
            "ARRIVE SX 6494.1 {'lat': 33.56424, 'lng': -117.730703}\n",
            "SERVICE_START SX 6494.1 {'lat': 33.56424, 'lng': -117.730703}\n",
            "SERVICE_END SX 6677.8 {'lat': 33.56424, 'lng': -117.730703}\n",
            "DEPART SX 6677.8 {'lat': 33.56424, 'lng': -117.730703}\n",
            "ARRIVE GV 6736.0 {'lat': 33.563829, 'lng': -117.731107}\n",
            "SERVICE_START GV 6736.0 {'lat': 33.563829, 'lng': -117.731107}\n",
            "SERVICE_END GV 6805.2 {'lat': 33.563829, 'lng': -117.731107}\n",
            "DEPART GV 6805.2 {'lat': 33.563829, 'lng': -117.731107}\n",
            "ARRIVE ZS 6943.7 {'lat': 33.562981, 'lng': -117.731395}\n",
            "SERVICE_START ZS 6943.7 {'lat': 33.562981, 'lng': -117.731395}\n",
            "SERVICE_END ZS 7026.7 {'lat': 33.562981, 'lng': -117.731395}\n",
            "DEPART ZS 7026.7 {'lat': 33.562981, 'lng': -117.731395}\n",
            "ARRIVE JG 7103.6 {'lat': 33.562637, 'lng': -117.731094}\n",
            "SERVICE_START JG 7103.6 {'lat': 33.562637, 'lng': -117.731094}\n",
            "SERVICE_END JG 7148.6 {'lat': 33.562637, 'lng': -117.731094}\n",
            "LOAD_START JG 7148.6 {'lat': 33.562637, 'lng': -117.731094}\n",
            "LOAD_END JG 7163.6 {'lat': 33.562637, 'lng': -117.731094}\n",
            "DEPART JG 7163.6 {'lat': 33.562637, 'lng': -117.731094}\n",
            "ARRIVE ZV 7226.0 {'lat': 33.562133, 'lng': -117.732144}\n",
            "SERVICE_START ZV 7226.0 {'lat': 33.562133, 'lng': -117.732144}\n",
            "SERVICE_END ZV 7254.0 {'lat': 33.562133, 'lng': -117.732144}\n",
            "DEPART ZV 7254.0 {'lat': 33.562133, 'lng': -117.732144}\n",
            "ARRIVE HK 7470.2 {'lat': 33.562914, 'lng': -117.732362}\n",
            "SERVICE_START HK 7470.2 {'lat': 33.562914, 'lng': -117.732362}\n",
            "SERVICE_END HK 7519.5 {'lat': 33.562914, 'lng': -117.732362}\n",
            "LOAD_START HK 7519.5 {'lat': 33.562914, 'lng': -117.732362}\n",
            "LOAD_END HK 7534.5 {'lat': 33.562914, 'lng': -117.732362}\n",
            "DEPART HK 7534.5 {'lat': 33.562914, 'lng': -117.732362}\n",
            "ARRIVE BS 7776.4 {'lat': 33.562293, 'lng': -117.741144}\n",
            "SERVICE_START BS 7776.4 {'lat': 33.562293, 'lng': -117.741144}\n",
            "SERVICE_END BS 7847.4 {'lat': 33.562293, 'lng': -117.741144}\n",
            "DEPART BS 7847.4 {'lat': 33.562293, 'lng': -117.741144}\n",
            "ARRIVE BR 7857.9 {'lat': 33.562636, 'lng': -117.741668}\n",
            "SERVICE_START BR 7857.9 {'lat': 33.562636, 'lng': -117.741668}\n",
            "SERVICE_END BR 7889.9 {'lat': 33.562636, 'lng': -117.741668}\n",
            "DEPART BR 7889.9 {'lat': 33.562636, 'lng': -117.741668}\n",
            "ARRIVE CJ 7897.1 {'lat': 33.563058, 'lng': -117.741804}\n",
            "SERVICE_START CJ 7897.1 {'lat': 33.563058, 'lng': -117.741804}\n",
            "SERVICE_END CJ 7937.1 {'lat': 33.563058, 'lng': -117.741804}\n",
            "DEPART CJ 7937.1 {'lat': 33.563058, 'lng': -117.741804}\n",
            "ARRIVE FP 7942.4 {'lat': 33.563354, 'lng': -117.741958}\n",
            "SERVICE_START FP 7942.4 {'lat': 33.563354, 'lng': -117.741958}\n",
            "SERVICE_END FP 7972.2 {'lat': 33.563354, 'lng': -117.741958}\n",
            "DEPART FP 7972.2 {'lat': 33.563354, 'lng': -117.741958}\n",
            "ARRIVE KV 7988.8 {'lat': 33.5637, 'lng': -117.741759}\n",
            "SERVICE_START KV 7988.8 {'lat': 33.5637, 'lng': -117.741759}\n",
            "SERVICE_END KV 8054.3 {'lat': 33.5637, 'lng': -117.741759}\n",
            "DEPART KV 8054.3 {'lat': 33.5637, 'lng': -117.741759}\n",
            "ARRIVE VM 8218.5 {'lat': 33.564452, 'lng': -117.739598}\n",
            "SERVICE_START VM 8218.5 {'lat': 33.564452, 'lng': -117.739598}\n",
            "SERVICE_END VM 8288.5 {'lat': 33.564452, 'lng': -117.739598}\n",
            "DEPART VM 8288.5 {'lat': 33.564452, 'lng': -117.739598}\n",
            "ARRIVE LN 8314.8 {'lat': 33.564043, 'lng': -117.738798}\n",
            "SERVICE_START LN 8314.8 {'lat': 33.564043, 'lng': -117.738798}\n",
            "SERVICE_END LN 8389.8 {'lat': 33.564043, 'lng': -117.738798}\n",
            "DEPART LN 8389.8 {'lat': 33.564043, 'lng': -117.738798}\n",
            "ARRIVE MA 8442.6 {'lat': 33.562967, 'lng': -117.73924}\n",
            "SERVICE_START MA 8442.6 {'lat': 33.562967, 'lng': -117.73924}\n",
            "SERVICE_END MA 8498.1 {'lat': 33.562967, 'lng': -117.73924}\n",
            "DEPART MA 8498.1 {'lat': 33.562967, 'lng': -117.73924}\n",
            "ARRIVE EE 8523.9 {'lat': 33.562467, 'lng': -117.737913}\n",
            "SERVICE_START EE 8523.9 {'lat': 33.562467, 'lng': -117.737913}\n",
            "SERVICE_END EE 8553.9 {'lat': 33.562467, 'lng': -117.737913}\n",
            "DEPART EE 8553.9 {'lat': 33.562467, 'lng': -117.737913}\n",
            "ARRIVE YF 8576.6 {'lat': 33.562329, 'lng': -117.737175}\n",
            "SERVICE_START YF 8576.6 {'lat': 33.562329, 'lng': -117.737175}\n",
            "SERVICE_END YF 8613.6 {'lat': 33.562329, 'lng': -117.737175}\n",
            "DEPART YF 8613.6 {'lat': 33.562329, 'lng': -117.737175}\n",
            "ARRIVE OO 8738.2 {'lat': 33.562732, 'lng': -117.735899}\n",
            "SERVICE_START OO 8738.2 {'lat': 33.562732, 'lng': -117.735899}\n",
            "SERVICE_END OO 9005.2 {'lat': 33.562732, 'lng': -117.735899}\n",
            "LOAD_START OO 9005.2 {'lat': 33.562732, 'lng': -117.735899}\n",
            "LOAD_END OO 9020.2 {'lat': 33.562732, 'lng': -117.735899}\n",
            "DEPART OO 9020.2 {'lat': 33.562732, 'lng': -117.735899}\n",
            "ARRIVE GU 9107.5 {'lat': 33.5635, 'lng': -117.736822}\n",
            "SERVICE_START GU 9107.5 {'lat': 33.5635, 'lng': -117.736822}\n",
            "SERVICE_END GU 9164.5 {'lat': 33.5635, 'lng': -117.736822}\n",
            "DEPART GU 9164.5 {'lat': 33.5635, 'lng': -117.736822}\n",
            "ARRIVE JS 9184.4 {'lat': 33.564226, 'lng': -117.737211}\n",
            "SERVICE_START JS 9184.4 {'lat': 33.564226, 'lng': -117.737211}\n",
            "SERVICE_END JS 9247.4 {'lat': 33.564226, 'lng': -117.737211}\n",
            "DEPART JS 9247.4 {'lat': 33.564226, 'lng': -117.737211}\n",
            "ARRIVE IC 9453.9 {'lat': 33.568406, 'lng': -117.738831}\n",
            "SERVICE_START IC 9453.9 {'lat': 33.568406, 'lng': -117.738831}\n",
            "SERVICE_END IC 9536.9 {'lat': 33.568406, 'lng': -117.738831}\n",
            "DEPART IC 9536.9 {'lat': 33.568406, 'lng': -117.738831}\n",
            "ARRIVE IJ 9548.5 {'lat': 33.56847, 'lng': -117.738299}\n",
            "SERVICE_START IJ 9548.5 {'lat': 33.56847, 'lng': -117.738299}\n",
            "SERVICE_END IJ 9605.5 {'lat': 33.56847, 'lng': -117.738299}\n",
            "DEPART IJ 9605.5 {'lat': 33.56847, 'lng': -117.738299}\n",
            "ARRIVE RQ 9628.2 {'lat': 33.568603, 'lng': -117.737306}\n",
            "SERVICE_START RQ 9628.2 {'lat': 33.568603, 'lng': -117.737306}\n",
            "SERVICE_END RQ 9674.9 {'lat': 33.568603, 'lng': -117.737306}\n",
            "DEPART RQ 9674.9 {'lat': 33.568603, 'lng': -117.737306}\n",
            "ARRIVE JK 9724.2 {'lat': 33.567968, 'lng': -117.737718}\n",
            "SERVICE_START JK 9724.2 {'lat': 33.567968, 'lng': -117.737718}\n",
            "SERVICE_END JK 9793.2 {'lat': 33.567968, 'lng': -117.737718}\n",
            "LOAD_START JK 9793.2 {'lat': 33.567968, 'lng': -117.737718}\n",
            "LOAD_END JK 9808.2 {'lat': 33.567968, 'lng': -117.737718}\n",
            "DEPART JK 9808.2 {'lat': 33.567968, 'lng': -117.737718}\n",
            "ARRIVE QF 9866.8 {'lat': 33.566891, 'lng': -117.738203}\n",
            "SERVICE_START QF 9866.8 {'lat': 33.566891, 'lng': -117.738203}\n",
            "SERVICE_END QF 9913.8 {'lat': 33.566891, 'lng': -117.738203}\n",
            "DEPART QF 9913.8 {'lat': 33.566891, 'lng': -117.738203}\n",
            "ARRIVE LV 9919.6 {'lat': 33.566698, 'lng': -117.738123}\n",
            "SERVICE_START LV 9919.6 {'lat': 33.566698, 'lng': -117.738123}\n",
            "SERVICE_END LV 10011.6 {'lat': 33.566698, 'lng': -117.738123}\n",
            "DEPART LV 10011.6 {'lat': 33.566698, 'lng': -117.738123}\n",
            "ARRIVE WE 10023.7 {'lat': 33.566871, 'lng': -117.73772}\n",
            "SERVICE_START WE 10023.7 {'lat': 33.566871, 'lng': -117.73772}\n",
            "SERVICE_END WE 10077.0 {'lat': 33.566871, 'lng': -117.73772}\n",
            "DEPART WE 10077.0 {'lat': 33.566871, 'lng': -117.73772}\n",
            "ARRIVE LJ 10203.5 {'lat': 33.569684, 'lng': -117.737637}\n",
            "SERVICE_START LJ 10203.5 {'lat': 33.569684, 'lng': -117.737637}\n",
            "SERVICE_END LJ 10243.3 {'lat': 33.569684, 'lng': -117.737637}\n",
            "DEPART LJ 10243.3 {'lat': 33.569684, 'lng': -117.737637}\n",
            "ARRIVE MB 10252.3 {'lat': 33.569734, 'lng': -117.737768}\n",
            "SERVICE_START MB 10252.3 {'lat': 33.569734, 'lng': -117.737768}\n",
            "SERVICE_END MB 10308.3 {'lat': 33.569734, 'lng': -117.737768}\n",
            "DEPART MB 10308.3 {'lat': 33.569734, 'lng': -117.737768}\n",
            "ARRIVE OC 10333.4 {'lat': 33.570333, 'lng': -117.73754}\n",
            "SERVICE_START OC 10333.4 {'lat': 33.570333, 'lng': -117.73754}\n",
            "SERVICE_END OC 10372.1 {'lat': 33.570333, 'lng': -117.73754}\n",
            "DEPART OC 10372.1 {'lat': 33.570333, 'lng': -117.73754}\n",
            "ARRIVE ZR 10391.0 {'lat': 33.570868, 'lng': -117.737291}\n",
            "SERVICE_START ZR 10391.0 {'lat': 33.570868, 'lng': -117.737291}\n",
            "SERVICE_END ZR 10438.0 {'lat': 33.570868, 'lng': -117.737291}\n",
            "DEPART ZR 10438.0 {'lat': 33.570868, 'lng': -117.737291}\n",
            "ARRIVE NT 10454.9 {'lat': 33.571367, 'lng': -117.73716}\n",
            "SERVICE_START NT 10454.9 {'lat': 33.571367, 'lng': -117.73716}\n",
            "SERVICE_END NT 10491.9 {'lat': 33.571367, 'lng': -117.73716}\n",
            "DEPART NT 10491.9 {'lat': 33.571367, 'lng': -117.73716}\n",
            "ARRIVE DY 10633.4 {'lat': 33.570671, 'lng': -117.736692}\n",
            "SERVICE_START DY 10633.4 {'lat': 33.570671, 'lng': -117.736692}\n",
            "SERVICE_END DY 10672.9 {'lat': 33.570671, 'lng': -117.736692}\n",
            "LOAD_START DY 10672.9 {'lat': 33.570671, 'lng': -117.736692}\n",
            "LOAD_END DY 10687.9 {'lat': 33.570671, 'lng': -117.736692}\n",
            "DEPART DY 10687.9 {'lat': 33.570671, 'lng': -117.736692}\n",
            "ARRIVE KP 10799.5 {'lat': 33.570497, 'lng': -117.738464}\n",
            "SERVICE_START KP 10799.5 {'lat': 33.570497, 'lng': -117.738464}\n",
            "SERVICE_END KP 10888.5 {'lat': 33.570497, 'lng': -117.738464}\n",
            "DEPART KP 10888.5 {'lat': 33.570497, 'lng': -117.738464}\n",
            "ARRIVE SP 10901.3 {'lat': 33.571069, 'lng': -117.738182}\n",
            "SERVICE_START SP 10901.3 {'lat': 33.571069, 'lng': -117.738182}\n",
            "SERVICE_END SP 10936.3 {'lat': 33.571069, 'lng': -117.738182}\n",
            "DEPART SP 10936.3 {'lat': 33.571069, 'lng': -117.738182}\n",
            "ARRIVE SD 10969.9 {'lat': 33.572107, 'lng': -117.737776}\n",
            "SERVICE_START SD 10969.9 {'lat': 33.572107, 'lng': -117.737776}\n",
            "SERVICE_END SD 11022.9 {'lat': 33.572107, 'lng': -117.737776}\n",
            "DEPART SD 11022.9 {'lat': 33.572107, 'lng': -117.737776}\n",
            "ARRIVE ML 11080.7 {'lat': 33.572461, 'lng': -117.73891}\n",
            "SERVICE_START ML 11080.7 {'lat': 33.572461, 'lng': -117.73891}\n",
            "SERVICE_END ML 11112.7 {'lat': 33.572461, 'lng': -117.73891}\n",
            "DEPART ML 11112.7 {'lat': 33.572461, 'lng': -117.73891}\n",
            "ARRIVE RI 11125.8 {'lat': 33.572705, 'lng': -117.738313}\n",
            "SERVICE_START RI 11125.8 {'lat': 33.572705, 'lng': -117.738313}\n",
            "SERVICE_END RI 11303.8 {'lat': 33.572705, 'lng': -117.738313}\n",
            "DEPART RI 11303.8 {'lat': 33.572705, 'lng': -117.738313}\n",
            "ARRIVE QE 11336.8 {'lat': 33.57294, 'lng': -117.739182}\n",
            "SERVICE_START QE 11336.8 {'lat': 33.57294, 'lng': -117.739182}\n",
            "SERVICE_END QE 11429.8 {'lat': 33.57294, 'lng': -117.739182}\n",
            "DEPART QE 11429.8 {'lat': 33.57294, 'lng': -117.739182}\n",
            "ARRIVE IG 11436.6 {'lat': 33.573191, 'lng': -117.738901}\n",
            "SERVICE_START IG 11436.6 {'lat': 33.573191, 'lng': -117.738901}\n",
            "SERVICE_END IG 11477.6 {'lat': 33.573191, 'lng': -117.738901}\n",
            "DEPART IG 11477.6 {'lat': 33.573191, 'lng': -117.738901}\n",
            "ARRIVE QN 11495.4 {'lat': 33.573963, 'lng': -117.739076}\n",
            "SERVICE_START QN 11495.4 {'lat': 33.573963, 'lng': -117.739076}\n",
            "SERVICE_END QN 11522.9 {'lat': 33.573963, 'lng': -117.739076}\n",
            "DEPART QN 11522.9 {'lat': 33.573963, 'lng': -117.739076}\n",
            "ARRIVE AN 11531.7 {'lat': 33.574183, 'lng': -117.739252}\n",
            "SERVICE_START AN 11531.7 {'lat': 33.574183, 'lng': -117.739252}\n",
            "SERVICE_END AN 11565.2 {'lat': 33.574183, 'lng': -117.739252}\n",
            "DEPART AN 11565.2 {'lat': 33.574183, 'lng': -117.739252}\n",
            "ARRIVE WP 11584.2 {'lat': 33.573726, 'lng': -117.739521}\n",
            "SERVICE_START WP 11584.2 {'lat': 33.573726, 'lng': -117.739521}\n",
            "SERVICE_END WP 11617.7 {'lat': 33.573726, 'lng': -117.739521}\n",
            "DEPART WP 11617.7 {'lat': 33.573726, 'lng': -117.739521}\n",
            "ARRIVE JT 11680.8 {'lat': 33.574986, 'lng': -117.739869}\n",
            "SERVICE_START JT 11680.8 {'lat': 33.574986, 'lng': -117.739869}\n",
            "SERVICE_END JT 11727.5 {'lat': 33.574986, 'lng': -117.739869}\n",
            "DEPART JT 11727.5 {'lat': 33.574986, 'lng': -117.739869}\n",
            "ARRIVE PQ 11751.0 {'lat': 33.5734, 'lng': -117.739997}\n",
            "SERVICE_START PQ 11751.0 {'lat': 33.5734, 'lng': -117.739997}\n",
            "SERVICE_END PQ 11816.0 {'lat': 33.5734, 'lng': -117.739997}\n",
            "LOAD_START PQ 11816.0 {'lat': 33.5734, 'lng': -117.739997}\n",
            "LOAD_END PQ 11831.0 {'lat': 33.5734, 'lng': -117.739997}\n",
            "DEPART PQ 11831.0 {'lat': 33.5734, 'lng': -117.739997}\n",
            "ARRIVE SZ 11851.9 {'lat': 33.572506, 'lng': -117.739903}\n",
            "SERVICE_START SZ 11851.9 {'lat': 33.572506, 'lng': -117.739903}\n",
            "SERVICE_END SZ 11896.5 {'lat': 33.572506, 'lng': -117.739903}\n",
            "DEPART SZ 11896.5 {'lat': 33.572506, 'lng': -117.739903}\n",
            "ARRIVE QC 11952.6 {'lat': 33.573926, 'lng': -117.740012}\n",
            "SERVICE_START QC 11952.6 {'lat': 33.573926, 'lng': -117.740012}\n",
            "SERVICE_END QC 12005.6 {'lat': 33.573926, 'lng': -117.740012}\n",
            "DEPART QC 12005.6 {'lat': 33.573926, 'lng': -117.740012}\n",
            "ARRIVE KJ 12038.4 {'lat': 33.574789, 'lng': -117.740969}\n",
            "SERVICE_START KJ 12038.4 {'lat': 33.574789, 'lng': -117.740969}\n",
            "SERVICE_END KJ 12254.4 {'lat': 33.574789, 'lng': -117.740969}\n",
            "DEPART KJ 12254.4 {'lat': 33.574789, 'lng': -117.740969}\n",
            "ARRIVE KB 12474.4 {'lat': 33.574443, 'lng': -117.741192}\n",
            "SERVICE_START KB 12474.4 {'lat': 33.574443, 'lng': -117.741192}\n",
            "SERVICE_END KB 12506.4 {'lat': 33.574443, 'lng': -117.741192}\n",
            "LOAD_START KB 12506.4 {'lat': 33.574443, 'lng': -117.741192}\n",
            "LOAD_END KB 12521.4 {'lat': 33.574443, 'lng': -117.741192}\n",
            "DEPART KB 12521.4 {'lat': 33.574443, 'lng': -117.741192}\n",
            "ARRIVE TW 12725.0 {'lat': 33.569343, 'lng': -117.739652}\n",
            "SERVICE_START TW 12725.0 {'lat': 33.569343, 'lng': -117.739652}\n",
            "SERVICE_END TW 13005.0 {'lat': 33.569343, 'lng': -117.739652}\n",
            "DEPART TW 13005.0 {'lat': 33.569343, 'lng': -117.739652}\n",
            "ARRIVE RU 13060.8 {'lat': 33.569886, 'lng': -117.740478}\n",
            "SERVICE_START RU 13060.8 {'lat': 33.569886, 'lng': -117.740478}\n",
            "SERVICE_END RU 13129.3 {'lat': 33.569886, 'lng': -117.740478}\n",
            "DEPART RU 13129.3 {'lat': 33.569886, 'lng': -117.740478}\n",
            "ARRIVE DK 13388.4 {'lat': 33.57103, 'lng': -117.74017}\n",
            "SERVICE_START DK 13388.4 {'lat': 33.57103, 'lng': -117.74017}\n",
            "SERVICE_END DK 13494.4 {'lat': 33.57103, 'lng': -117.74017}\n",
            "LOAD_START DK 13494.4 {'lat': 33.57103, 'lng': -117.74017}\n",
            "LOAD_END DK 13509.4 {'lat': 33.57103, 'lng': -117.74017}\n",
            "DEPART DK 13509.4 {'lat': 33.57103, 'lng': -117.74017}\n",
            "ARRIVE WV 13738.0 {'lat': 33.56776, 'lng': -117.739674}\n",
            "SERVICE_START WV 13738.0 {'lat': 33.56776, 'lng': -117.739674}\n",
            "SERVICE_END WV 13754.0 {'lat': 33.56776, 'lng': -117.739674}\n",
            "DEPART WV 13754.0 {'lat': 33.56776, 'lng': -117.739674}\n",
            "ARRIVE BK 13862.1 {'lat': 33.565525, 'lng': -117.74122}\n",
            "SERVICE_START BK 13862.1 {'lat': 33.565525, 'lng': -117.74122}\n",
            "SERVICE_END BK 13925.1 {'lat': 33.565525, 'lng': -117.74122}\n",
            "DEPART BK 13925.1 {'lat': 33.565525, 'lng': -117.74122}\n",
            "ARRIVE ZT 13943.5 {'lat': 33.565272, 'lng': -117.740635}\n",
            "SERVICE_START ZT 13943.5 {'lat': 33.565272, 'lng': -117.740635}\n",
            "SERVICE_END ZT 14504.2 {'lat': 33.565272, 'lng': -117.740635}\n",
            "DEPART ZT 14504.2 {'lat': 33.565272, 'lng': -117.740635}\n",
            "ARRIVE RM 14542.0 {'lat': 33.565068, 'lng': -117.738549}\n",
            "SERVICE_START RM 14542.0 {'lat': 33.565068, 'lng': -117.738549}\n",
            "SERVICE_END RM 14608.0 {'lat': 33.565068, 'lng': -117.738549}\n",
            "LOAD_START RM 14608.0 {'lat': 33.565068, 'lng': -117.738549}\n",
            "LOAD_END RM 14623.0 {'lat': 33.565068, 'lng': -117.738549}\n",
            "DEPART RM 14623.0 {'lat': 33.565068, 'lng': -117.738549}\n",
            "ARRIVE TZ 14669.6 {'lat': 33.565512, 'lng': -117.737518}\n",
            "SERVICE_START TZ 14669.6 {'lat': 33.565512, 'lng': -117.737518}\n",
            "SERVICE_END TZ 14703.1 {'lat': 33.565512, 'lng': -117.737518}\n",
            "DEPART TZ 14703.1 {'lat': 33.565512, 'lng': -117.737518}\n",
            "ARRIVE PK 14943.5 {'lat': 33.566046, 'lng': -117.737728}\n",
            "SERVICE_START PK 14943.5 {'lat': 33.566046, 'lng': -117.737728}\n",
            "SERVICE_END PK 14995.5 {'lat': 33.566046, 'lng': -117.737728}\n",
            "LOAD_START PK 14995.5 {'lat': 33.566046, 'lng': -117.737728}\n",
            "LOAD_END PK 15010.5 {'lat': 33.566046, 'lng': -117.737728}\n",
            "DEPART PK 15010.5 {'lat': 33.566046, 'lng': -117.737728}\n",
            "ARRIVE CZ 15236.2 {'lat': 33.560694, 'lng': -117.738859}\n",
            "SERVICE_START CZ 15236.2 {'lat': 33.560694, 'lng': -117.738859}\n",
            "SERVICE_END CZ 15325.2 {'lat': 33.560694, 'lng': -117.738859}\n",
            "DEPART CZ 15325.2 {'lat': 33.560694, 'lng': -117.738859}\n",
            "ARRIVE YY 15379.7 {'lat': 33.56005, 'lng': -117.737084}\n",
            "SERVICE_START YY 15379.7 {'lat': 33.56005, 'lng': -117.737084}\n",
            "SERVICE_END YY 15430.7 {'lat': 33.56005, 'lng': -117.737084}\n",
            "DEPART YY 15430.7 {'lat': 33.56005, 'lng': -117.737084}\n",
            "ARRIVE LI 15462.5 {'lat': 33.55938, 'lng': -117.736402}\n",
            "SERVICE_START LI 15462.5 {'lat': 33.55938, 'lng': -117.736402}\n",
            "SERVICE_END LI 15480.9 {'lat': 33.55938, 'lng': -117.736402}\n",
            "DEPART LI 15480.9 {'lat': 33.55938, 'lng': -117.736402}\n",
            "ARRIVE FB 15669.9 {'lat': 33.561111, 'lng': -117.737164}\n",
            "SERVICE_START FB 15669.9 {'lat': 33.561111, 'lng': -117.737164}\n",
            "SERVICE_END FB 15763.9 {'lat': 33.561111, 'lng': -117.737164}\n",
            "LOAD_START FB 15763.9 {'lat': 33.561111, 'lng': -117.737164}\n",
            "LOAD_END FB 15778.9 {'lat': 33.561111, 'lng': -117.737164}\n",
            "DEPART FB 15778.9 {'lat': 33.561111, 'lng': -117.737164}\n",
            "ARRIVE GX 15959.0 {'lat': 33.562262, 'lng': -117.733492}\n",
            "SERVICE_START GX 15959.0 {'lat': 33.562262, 'lng': -117.733492}\n",
            "SERVICE_END GX 16128.0 {'lat': 33.562262, 'lng': -117.733492}\n",
            "DEPART GX 16128.0 {'lat': 33.562262, 'lng': -117.733492}\n",
            "ARRIVE ZF 16149.5 {'lat': 33.562831, 'lng': -117.734086}\n",
            "SERVICE_START ZF 16149.5 {'lat': 33.562831, 'lng': -117.734086}\n",
            "SERVICE_END ZF 16220.0 {'lat': 33.562831, 'lng': -117.734086}\n",
            "DEPART ZF 16220.0 {'lat': 33.562831, 'lng': -117.734086}\n",
            "ARRIVE QK 16292.0 {'lat': 33.561466, 'lng': -117.733259}\n",
            "SERVICE_START QK 16292.0 {'lat': 33.561466, 'lng': -117.733259}\n",
            "SERVICE_END QK 16352.0 {'lat': 33.561466, 'lng': -117.733259}\n",
            "DEPART QK 16352.0 {'lat': 33.561466, 'lng': -117.733259}\n",
            "ARRIVE VN 16420.4 {'lat': 33.561148, 'lng': -117.732854}\n",
            "SERVICE_START VN 16420.4 {'lat': 33.561148, 'lng': -117.732854}\n",
            "SERVICE_END VN 16488.9 {'lat': 33.561148, 'lng': -117.732854}\n",
            "DEPART VN 16488.9 {'lat': 33.561148, 'lng': -117.732854}\n",
            "ARRIVE CI 16559.1 {'lat': 33.5618, 'lng': -117.732431}\n",
            "SERVICE_START CI 16559.1 {'lat': 33.5618, 'lng': -117.732431}\n",
            "SERVICE_END CI 16744.1 {'lat': 33.5618, 'lng': -117.732431}\n",
            "DEPART CI 16744.1 {'lat': 33.5618, 'lng': -117.732431}\n",
            "ARRIVE HA 16947.1 {'lat': 33.559762, 'lng': -117.732252}\n",
            "SERVICE_START HA 16947.1 {'lat': 33.559762, 'lng': -117.732252}\n",
            "SERVICE_END HA 17134.1 {'lat': 33.559762, 'lng': -117.732252}\n",
            "DEPART HA 17134.1 {'lat': 33.559762, 'lng': -117.732252}\n",
            "ARRIVE JV 17191.0 {'lat': 33.560687, 'lng': -117.73084}\n",
            "SERVICE_START JV 17191.0 {'lat': 33.560687, 'lng': -117.73084}\n",
            "SERVICE_END JV 17243.0 {'lat': 33.560687, 'lng': -117.73084}\n",
            "DEPART JV 17243.0 {'lat': 33.560687, 'lng': -117.73084}\n",
            "ARRIVE FA 17259.7 {'lat': 33.559895, 'lng': -117.73069}\n",
            "SERVICE_START FA 17259.7 {'lat': 33.559895, 'lng': -117.73069}\n",
            "SERVICE_END FA 17346.7 {'lat': 33.559895, 'lng': -117.73069}\n",
            "DEPART FA 17346.7 {'lat': 33.559895, 'lng': -117.73069}\n",
            "ARRIVE GA 17357.2 {'lat': 33.560311, 'lng': -117.731101}\n",
            "SERVICE_START GA 17357.2 {'lat': 33.560311, 'lng': -117.731101}\n",
            "SERVICE_END GA 17404.7 {'lat': 33.560311, 'lng': -117.731101}\n",
            "LOAD_START GA 17404.7 {'lat': 33.560311, 'lng': -117.731101}\n",
            "LOAD_END GA 17419.7 {'lat': 33.560311, 'lng': -117.731101}\n",
            "DEPART GA 17419.7 {'lat': 33.560311, 'lng': -117.731101}\n",
            "ARRIVE KD 17430.7 {'lat': 33.560067, 'lng': -117.731631}\n",
            "SERVICE_START KD 17430.7 {'lat': 33.560067, 'lng': -117.731631}\n",
            "SERVICE_END KD 17542.7 {'lat': 33.560067, 'lng': -117.731631}\n",
            "DEPART KD 17542.7 {'lat': 33.560067, 'lng': -117.731631}\n",
            "ARRIVE TO 17657.9 {'lat': 33.558522, 'lng': -117.731296}\n",
            "SERVICE_START TO 17657.9 {'lat': 33.558522, 'lng': -117.731296}\n",
            "SERVICE_END TO 17908.9 {'lat': 33.558522, 'lng': -117.731296}\n",
            "DEPART TO 17908.9 {'lat': 33.558522, 'lng': -117.731296}\n",
            "ARRIVE AT 17949.2 {'lat': 33.557483, 'lng': -117.730437}\n",
            "SERVICE_START AT 17949.2 {'lat': 33.557483, 'lng': -117.730437}\n",
            "SERVICE_END AT 18014.2 {'lat': 33.557483, 'lng': -117.730437}\n",
            "DEPART AT 18014.2 {'lat': 33.557483, 'lng': -117.730437}\n",
            "ARRIVE AI 18151.7 {'lat': 33.557084, 'lng': -117.730596}\n",
            "SERVICE_START AI 18151.7 {'lat': 33.557084, 'lng': -117.730596}\n",
            "SERVICE_END AI 18207.2 {'lat': 33.557084, 'lng': -117.730596}\n",
            "LOAD_START AI 18207.2 {'lat': 33.557084, 'lng': -117.730596}\n",
            "LOAD_END AI 18222.2 {'lat': 33.557084, 'lng': -117.730596}\n",
            "DEPART AI 18222.2 {'lat': 33.557084, 'lng': -117.730596}\n",
            "ARRIVE WX 18362.7 {'lat': 33.553611, 'lng': -117.72991}\n",
            "SERVICE_START WX 18362.7 {'lat': 33.553611, 'lng': -117.72991}\n",
            "SERVICE_END WX 18524.7 {'lat': 33.553611, 'lng': -117.72991}\n",
            "DEPART WX 18524.7 {'lat': 33.553611, 'lng': -117.72991}\n",
            "ARRIVE GO 18555.2 {'lat': 33.554311, 'lng': -117.730351}\n",
            "SERVICE_START GO 18555.2 {'lat': 33.554311, 'lng': -117.730351}\n",
            "SERVICE_END GO 18776.2 {'lat': 33.554311, 'lng': -117.730351}\n",
            "DEPART GO 18776.2 {'lat': 33.554311, 'lng': -117.730351}\n",
            "ARRIVE IQ 18818.1 {'lat': 33.554759, 'lng': -117.730702}\n",
            "SERVICE_START IQ 18818.1 {'lat': 33.554759, 'lng': -117.730702}\n",
            "SERVICE_END IQ 18866.9 {'lat': 33.554759, 'lng': -117.730702}\n",
            "DEPART IQ 18866.9 {'lat': 33.554759, 'lng': -117.730702}\n",
            "ARRIVE SS 18967.3 {'lat': 33.555407, 'lng': -117.730706}\n",
            "SERVICE_START SS 18967.3 {'lat': 33.555407, 'lng': -117.730706}\n",
            "SERVICE_END SS 19058.3 {'lat': 33.555407, 'lng': -117.730706}\n",
            "LOAD_START SS 19058.3 {'lat': 33.555407, 'lng': -117.730706}\n",
            "LOAD_END SS 19073.3 {'lat': 33.555407, 'lng': -117.730706}\n",
            "DEPART SS 19073.3 {'lat': 33.555407, 'lng': -117.730706}\n",
            "ARRIVE FL 19171.2 {'lat': 33.554906, 'lng': -117.730219}\n",
            "SERVICE_START FL 19171.2 {'lat': 33.554906, 'lng': -117.730219}\n",
            "SERVICE_END FL 19294.2 {'lat': 33.554906, 'lng': -117.730219}\n",
            "DEPART FL 19294.2 {'lat': 33.554906, 'lng': -117.730219}\n",
            "ARRIVE KE 19721.2 {'lat': 33.56994, 'lng': -117.73509}\n",
            "SERVICE_START KE 19721.2 {'lat': 33.56994, 'lng': -117.73509}\n",
            "SERVICE_END KE 19968.2 {'lat': 33.56994, 'lng': -117.73509}\n",
            "DEPART KE 19968.2 {'lat': 33.56994, 'lng': -117.73509}\n",
            "ARRIVE EA 20162.5 {'lat': 33.571459, 'lng': -117.72968}\n",
            "SERVICE_START EA 20162.5 {'lat': 33.571459, 'lng': -117.72968}\n",
            "SERVICE_END EA 20777.5 {'lat': 33.571459, 'lng': -117.72968}\n",
            "DEPART EA 20777.5 {'lat': 33.571459, 'lng': -117.72968}\n",
            "ARRIVE DV 21147.9 {'lat': 33.564345, 'lng': -117.72939}\n",
            "SERVICE_START DV 21147.9 {'lat': 33.564345, 'lng': -117.72939}\n",
            "SERVICE_END DV 21438.9 {'lat': 33.564345, 'lng': -117.72939}\n",
            "DEPART DV 21438.9 {'lat': 33.564345, 'lng': -117.72939}\n",
            "ARRIVE DI 23222.3 {'lat': 33.688122, 'lng': -117.847178}\n"
          ]
        }
      ],
      "source": [
        "solver.print_vehicle_events()"
      ]
    },
    {
      "cell_type": "code",
      "execution_count": null,
      "metadata": {
        "colab": {
          "base_uri": "https://localhost:8080/"
        },
        "id": "BiSPsVUbskA0",
        "outputId": "48b8725e-79d1-4340-e3f3-7ad1a32df677"
      },
      "outputs": [],
      "source": [
        "test.print_drone_events()"
      ]
    },
    {
      "cell_type": "code",
      "execution_count": null,
      "metadata": {
        "colab": {
          "base_uri": "https://localhost:8080/",
          "height": 206
        },
        "id": "v9W53kD3wd6U",
        "outputId": "4729e20b-5199-4095-cb00-57769b1586c9"
      },
      "outputs": [
        {
          "data": {
            "text/html": [
              "<div>\n",
              "<style scoped>\n",
              "    .dataframe tbody tr th:only-of-type {\n",
              "        vertical-align: middle;\n",
              "    }\n",
              "\n",
              "    .dataframe tbody tr th {\n",
              "        vertical-align: top;\n",
              "    }\n",
              "\n",
              "    .dataframe thead th {\n",
              "        text-align: right;\n",
              "    }\n",
              "</style>\n",
              "<table border=\"1\" class=\"dataframe\">\n",
              "  <thead>\n",
              "    <tr style=\"text-align: right;\">\n",
              "      <th></th>\n",
              "      <th>route_id</th>\n",
              "      <th>station_code</th>\n",
              "      <th>date</th>\n",
              "      <th>departure_time_utc</th>\n",
              "      <th>executor_capacity_cm3</th>\n",
              "      <th>route_score</th>\n",
              "      <th>stop_id</th>\n",
              "      <th>lat</th>\n",
              "      <th>lng</th>\n",
              "      <th>type</th>\n",
              "      <th>zone_id</th>\n",
              "      <th>packages</th>\n",
              "      <th>num_packages</th>\n",
              "      <th>drone_possible</th>\n",
              "      <th>service_time_seconds</th>\n",
              "    </tr>\n",
              "  </thead>\n",
              "  <tbody>\n",
              "    <tr>\n",
              "      <th>0</th>\n",
              "      <td>RouteID_f9639176-8909-4c65-80a9-5562b0241ad4</td>\n",
              "      <td>DBO3</td>\n",
              "      <td>2018-08-13</td>\n",
              "      <td>13:02:17</td>\n",
              "      <td>3313071.0</td>\n",
              "      <td>Medium</td>\n",
              "      <td>BU</td>\n",
              "      <td>42.139891</td>\n",
              "      <td>-71.494346</td>\n",
              "      <td>Station</td>\n",
              "      <td>NaN</td>\n",
              "      <td>NaN</td>\n",
              "      <td>NaN</td>\n",
              "      <td>NaN</td>\n",
              "      <td>NaN</td>\n",
              "    </tr>\n",
              "    <tr>\n",
              "      <th>1</th>\n",
              "      <td>RouteID_f9639176-8909-4c65-80a9-5562b0241ad4</td>\n",
              "      <td>DBO3</td>\n",
              "      <td>2018-08-13</td>\n",
              "      <td>13:02:17</td>\n",
              "      <td>3313071.0</td>\n",
              "      <td>Medium</td>\n",
              "      <td>VU</td>\n",
              "      <td>42.139089</td>\n",
              "      <td>-71.524434</td>\n",
              "      <td>Dropoff</td>\n",
              "      <td>E-1.1H</td>\n",
              "      <td>[{'package_id': 'PackageID_f42fbe13-089e-4e92-...</td>\n",
              "      <td>1.0</td>\n",
              "      <td>True</td>\n",
              "      <td>111.0</td>\n",
              "    </tr>\n",
              "    <tr>\n",
              "      <th>2</th>\n",
              "      <td>RouteID_f9639176-8909-4c65-80a9-5562b0241ad4</td>\n",
              "      <td>DBO3</td>\n",
              "      <td>2018-08-13</td>\n",
              "      <td>13:02:17</td>\n",
              "      <td>3313071.0</td>\n",
              "      <td>Medium</td>\n",
              "      <td>ZP</td>\n",
              "      <td>42.138518</td>\n",
              "      <td>-71.525506</td>\n",
              "      <td>Dropoff</td>\n",
              "      <td>E-1.1H</td>\n",
              "      <td>[{'package_id': 'PackageID_8fc292ae-f756-4541-...</td>\n",
              "      <td>2.0</td>\n",
              "      <td>False</td>\n",
              "      <td>90.5</td>\n",
              "    </tr>\n",
              "    <tr>\n",
              "      <th>3</th>\n",
              "      <td>RouteID_f9639176-8909-4c65-80a9-5562b0241ad4</td>\n",
              "      <td>DBO3</td>\n",
              "      <td>2018-08-13</td>\n",
              "      <td>13:02:17</td>\n",
              "      <td>3313071.0</td>\n",
              "      <td>Medium</td>\n",
              "      <td>KH</td>\n",
              "      <td>42.138304</td>\n",
              "      <td>-71.525361</td>\n",
              "      <td>Dropoff</td>\n",
              "      <td>E-1.1H</td>\n",
              "      <td>[{'package_id': 'PackageID_f420fbef-0cfe-4267-...</td>\n",
              "      <td>1.0</td>\n",
              "      <td>False</td>\n",
              "      <td>71.0</td>\n",
              "    </tr>\n",
              "    <tr>\n",
              "      <th>4</th>\n",
              "      <td>RouteID_f9639176-8909-4c65-80a9-5562b0241ad4</td>\n",
              "      <td>DBO3</td>\n",
              "      <td>2018-08-13</td>\n",
              "      <td>13:02:17</td>\n",
              "      <td>3313071.0</td>\n",
              "      <td>Medium</td>\n",
              "      <td>WW</td>\n",
              "      <td>42.138168</td>\n",
              "      <td>-71.529156</td>\n",
              "      <td>Dropoff</td>\n",
              "      <td>E-1.1H</td>\n",
              "      <td>[{'package_id': 'PackageID_e85fe820-0055-4f84-...</td>\n",
              "      <td>2.0</td>\n",
              "      <td>False</td>\n",
              "      <td>73.0</td>\n",
              "    </tr>\n",
              "  </tbody>\n",
              "</table>\n",
              "</div>"
            ],
            "text/plain": [
              "                                       route_id station_code        date  \\\n",
              "0  RouteID_f9639176-8909-4c65-80a9-5562b0241ad4         DBO3  2018-08-13   \n",
              "1  RouteID_f9639176-8909-4c65-80a9-5562b0241ad4         DBO3  2018-08-13   \n",
              "2  RouteID_f9639176-8909-4c65-80a9-5562b0241ad4         DBO3  2018-08-13   \n",
              "3  RouteID_f9639176-8909-4c65-80a9-5562b0241ad4         DBO3  2018-08-13   \n",
              "4  RouteID_f9639176-8909-4c65-80a9-5562b0241ad4         DBO3  2018-08-13   \n",
              "\n",
              "  departure_time_utc  executor_capacity_cm3 route_score stop_id        lat  \\\n",
              "0           13:02:17              3313071.0      Medium      BU  42.139891   \n",
              "1           13:02:17              3313071.0      Medium      VU  42.139089   \n",
              "2           13:02:17              3313071.0      Medium      ZP  42.138518   \n",
              "3           13:02:17              3313071.0      Medium      KH  42.138304   \n",
              "4           13:02:17              3313071.0      Medium      WW  42.138168   \n",
              "\n",
              "         lng     type zone_id  \\\n",
              "0 -71.494346  Station     NaN   \n",
              "1 -71.524434  Dropoff  E-1.1H   \n",
              "2 -71.525506  Dropoff  E-1.1H   \n",
              "3 -71.525361  Dropoff  E-1.1H   \n",
              "4 -71.529156  Dropoff  E-1.1H   \n",
              "\n",
              "                                            packages  num_packages  \\\n",
              "0                                                NaN           NaN   \n",
              "1  [{'package_id': 'PackageID_f42fbe13-089e-4e92-...           1.0   \n",
              "2  [{'package_id': 'PackageID_8fc292ae-f756-4541-...           2.0   \n",
              "3  [{'package_id': 'PackageID_f420fbef-0cfe-4267-...           1.0   \n",
              "4  [{'package_id': 'PackageID_e85fe820-0055-4f84-...           2.0   \n",
              "\n",
              "  drone_possible  service_time_seconds  \n",
              "0            NaN                   NaN  \n",
              "1           True                 111.0  \n",
              "2          False                  90.5  \n",
              "3          False                  71.0  \n",
              "4          False                  73.0  "
            ]
          },
          "execution_count": 22,
          "metadata": {},
          "output_type": "execute_result"
        }
      ],
      "source": [
        "route_data_ordered = pd.concat([route_data_route_df[route_data_route_df['stop_id'] == stop_id] for stop_id in test.vehicle_path]).reset_index(drop=True)\n",
        "route_data_ordered.head()"
      ]
    },
    {
      "cell_type": "code",
      "execution_count": null,
      "metadata": {
        "colab": {
          "base_uri": "https://localhost:8080/",
          "height": 617
        },
        "id": "P9h0WXLK0IKR",
        "outputId": "cd542fb6-a393-44c4-99b3-c72a299aad78"
      },
      "outputs": [
        {
          "data": {
            "application/vnd.plotly.v1+json": {
              "config": {
                "plotlyServerURL": "https://plot.ly"
              },
              "data": [
                {
                  "hoverinfo": "none",
                  "lat": [
                    42.139891,
                    42.139089,
                    42.138518,
                    42.138304,
                    42.138168,
                    42.138013,
                    42.138592,
                    42.139661,
                    42.141271,
                    42.141481,
                    42.142625,
                    42.140573,
                    42.142932,
                    42.143604,
                    42.141526,
                    42.143284,
                    42.13807,
                    42.136668,
                    42.136174,
                    42.139035,
                    42.138027,
                    42.138476,
                    42.137425,
                    42.138349,
                    42.139095,
                    42.140455,
                    42.141612,
                    42.140229,
                    42.139733,
                    42.139294,
                    42.137706,
                    42.136912,
                    42.136227,
                    42.136319,
                    42.133937,
                    42.133742,
                    42.131043,
                    42.13004,
                    42.130505,
                    42.13111,
                    42.13382,
                    42.132317,
                    42.131921,
                    42.131869,
                    42.131323,
                    42.131486,
                    42.131001,
                    42.129566,
                    42.128268,
                    42.127848,
                    42.125992,
                    42.125514,
                    42.129766,
                    42.124032,
                    42.124038,
                    42.124369,
                    42.125778,
                    42.12044,
                    42.117772,
                    42.120766,
                    42.120975,
                    42.11705,
                    42.121051,
                    42.120341,
                    42.120591,
                    42.124123,
                    42.127365,
                    42.128388,
                    42.129426,
                    42.130843,
                    42.131783,
                    42.129839,
                    42.135489,
                    42.131202,
                    42.126641,
                    42.125951,
                    42.12566,
                    42.128049,
                    42.1282,
                    42.125649,
                    42.116133,
                    42.110929,
                    42.110252,
                    42.108828,
                    42.110475,
                    42.102702,
                    42.101216,
                    42.101589,
                    42.101403,
                    42.101185,
                    42.100946,
                    42.089674,
                    42.088175,
                    42.086827,
                    42.082837,
                    42.080895,
                    42.08229,
                    42.084195,
                    42.08376,
                    42.07244,
                    42.071516,
                    42.07397,
                    42.080541,
                    42.08066,
                    42.081163,
                    42.082898,
                    42.083353,
                    42.085539,
                    42.088684,
                    42.087774,
                    42.087781,
                    42.089052,
                    42.089222,
                    42.08848,
                    42.091701,
                    42.093273,
                    42.096478,
                    42.097525,
                    42.097741,
                    42.098301,
                    42.09994,
                    42.105719,
                    42.106275,
                    42.100858,
                    42.098311,
                    42.09491,
                    42.094155,
                    42.09345,
                    42.0928,
                    42.091579,
                    42.086276,
                    42.084637,
                    42.08234,
                    42.071217,
                    42.068769,
                    42.065299,
                    42.066053,
                    42.066606,
                    42.067098,
                    42.069052,
                    42.117964,
                    42.11913,
                    42.122523,
                    42.122976,
                    42.120684,
                    42.120485,
                    42.119914,
                    42.117205,
                    42.117445,
                    42.115553,
                    42.112118,
                    42.140655,
                    42.149406,
                    42.150955,
                    42.150434,
                    42.152468,
                    42.153178,
                    42.148646,
                    42.148227,
                    42.147267,
                    42.145646,
                    42.148971,
                    42.139891
                  ],
                  "line": {
                    "color": "blue",
                    "width": 2
                  },
                  "lon": [
                    -71.494346,
                    -71.524434,
                    -71.525506,
                    -71.525361,
                    -71.529156,
                    -71.530182,
                    -71.53235,
                    -71.529452,
                    -71.528049,
                    -71.528133,
                    -71.529995,
                    -71.531935,
                    -71.533622,
                    -71.534119,
                    -71.534137,
                    -71.531322,
                    -71.533233,
                    -71.53178,
                    -71.531294,
                    -71.536231,
                    -71.539181,
                    -71.540799,
                    -71.54024,
                    -71.54241,
                    -71.542843,
                    -71.543684,
                    -71.545708,
                    -71.546878,
                    -71.547296,
                    -71.546923,
                    -71.545586,
                    -71.544912,
                    -71.544317,
                    -71.542944,
                    -71.542708,
                    -71.546182,
                    -71.547647,
                    -71.547106,
                    -71.546481,
                    -71.546931,
                    -71.54095,
                    -71.539959,
                    -71.540795,
                    -71.539325,
                    -71.538877,
                    -71.539641,
                    -71.538114,
                    -71.540988,
                    -71.53879,
                    -71.538338,
                    -71.536422,
                    -71.535994,
                    -71.536633,
                    -71.540927,
                    -71.544102,
                    -71.545108,
                    -71.546615,
                    -71.542705,
                    -71.544013,
                    -71.543204,
                    -71.544163,
                    -71.547049,
                    -71.545773,
                    -71.549171,
                    -71.551675,
                    -71.550611,
                    -71.551967,
                    -71.55112,
                    -71.553551,
                    -71.55611,
                    -71.552378,
                    -71.556861,
                    -71.561803,
                    -71.571969,
                    -71.571935,
                    -71.572483,
                    -71.57254,
                    -71.578627,
                    -71.578917,
                    -71.568811,
                    -71.566586,
                    -71.556253,
                    -71.555689,
                    -71.562421,
                    -71.56499,
                    -71.553805,
                    -71.555481,
                    -71.556043,
                    -71.556447,
                    -71.551259,
                    -71.551314,
                    -71.55466,
                    -71.554347,
                    -71.55235,
                    -71.555256,
                    -71.556956,
                    -71.559,
                    -71.55201,
                    -71.551694,
                    -71.553688,
                    -71.55374,
                    -71.551047,
                    -71.551435,
                    -71.549721,
                    -71.548001,
                    -71.54777,
                    -71.547355,
                    -71.545158,
                    -71.545654,
                    -71.534656,
                    -71.534642,
                    -71.533044,
                    -71.533181,
                    -71.5326,
                    -71.529757,
                    -71.522541,
                    -71.525742,
                    -71.526315,
                    -71.528215,
                    -71.540291,
                    -71.541582,
                    -71.544234,
                    -71.540355,
                    -71.569223,
                    -71.565798,
                    -71.567879,
                    -71.567809,
                    -71.570252,
                    -71.57135,
                    -71.562969,
                    -71.564665,
                    -71.565057,
                    -71.569138,
                    -71.569623,
                    -71.568176,
                    -71.56307,
                    -71.560007,
                    -71.560328,
                    -71.561395,
                    -71.570989,
                    -71.573898,
                    -71.574056,
                    -71.574733,
                    -71.574975,
                    -71.578937,
                    -71.577536,
                    -71.575428,
                    -71.574765,
                    -71.579092,
                    -71.587857,
                    -71.597602,
                    -71.536264,
                    -71.541475,
                    -71.543177,
                    -71.543739,
                    -71.545145,
                    -71.544067,
                    -71.542931,
                    -71.542674,
                    -71.540911,
                    -71.539764,
                    -71.544248,
                    -71.494346
                  ],
                  "mode": "lines",
                  "type": "scattermapbox"
                },
                {
                  "hoverinfo": "text",
                  "lat": [],
                  "lon": [],
                  "marker": {
                    "size": 15
                  },
                  "mode": "markers",
                  "name": "nan",
                  "text": [],
                  "type": "scattermapbox"
                },
                {
                  "hoverinfo": "text",
                  "lat": [
                    42.139089,
                    42.138518,
                    42.138304,
                    42.138168,
                    42.138013,
                    42.138592,
                    42.139661,
                    42.141271,
                    42.141481,
                    42.142625
                  ],
                  "lon": [
                    -71.524434,
                    -71.525506,
                    -71.525361,
                    -71.529156,
                    -71.530182,
                    -71.53235,
                    -71.529452,
                    -71.528049,
                    -71.528133,
                    -71.529995
                  ],
                  "marker": {
                    "size": 15
                  },
                  "mode": "markers",
                  "name": "E-1.1H",
                  "text": [
                    "Sequence: 1<br> Stop ID: VU<br>Zone ID: E-1.1H<br>Num Packages: 1.0 <br> Service Time: 111.0",
                    "Sequence: 2<br> Stop ID: ZP<br>Zone ID: E-1.1H<br>Num Packages: 2.0 <br> Service Time: 90.5",
                    "Sequence: 3<br> Stop ID: KH<br>Zone ID: E-1.1H<br>Num Packages: 1.0 <br> Service Time: 71.0",
                    "Sequence: 4<br> Stop ID: WW<br>Zone ID: E-1.1H<br>Num Packages: 2.0 <br> Service Time: 73.0",
                    "Sequence: 5<br> Stop ID: QC<br>Zone ID: E-1.1H<br>Num Packages: 2.0 <br> Service Time: 146.0",
                    "Sequence: 6<br> Stop ID: JE<br>Zone ID: E-1.1H<br>Num Packages: 1.0 <br> Service Time: 104.0",
                    "Sequence: 7<br> Stop ID: FS<br>Zone ID: E-1.1H<br>Num Packages: 2.0 <br> Service Time: 108.0",
                    "Sequence: 8<br> Stop ID: BJ<br>Zone ID: E-1.1H<br>Num Packages: 1.0 <br> Service Time: 62.0",
                    "Sequence: 9<br> Stop ID: IQ<br>Zone ID: E-1.1H<br>Num Packages: 1.0 <br> Service Time: 42.0",
                    "Sequence: 10<br> Stop ID: FV<br>Zone ID: E-1.1H<br>Num Packages: 1.0 <br> Service Time: 78.0"
                  ],
                  "type": "scattermapbox"
                },
                {
                  "hoverinfo": "text",
                  "lat": [
                    42.140573,
                    42.142932,
                    42.143604,
                    42.141526,
                    42.143284,
                    42.13807
                  ],
                  "lon": [
                    -71.531935,
                    -71.533622,
                    -71.534119,
                    -71.534137,
                    -71.531322,
                    -71.533233
                  ],
                  "marker": {
                    "size": 15
                  },
                  "mode": "markers",
                  "name": "E-1.1G",
                  "text": [
                    "Sequence: 11<br> Stop ID: XO<br>Zone ID: E-1.1G<br>Num Packages: 1.0 <br> Service Time: 32.0",
                    "Sequence: 12<br> Stop ID: MX<br>Zone ID: E-1.1G<br>Num Packages: 1.0 <br> Service Time: 52.0",
                    "Sequence: 13<br> Stop ID: CF<br>Zone ID: E-1.1G<br>Num Packages: 1.0 <br> Service Time: 250.0",
                    "Sequence: 14<br> Stop ID: YV<br>Zone ID: E-1.1G<br>Num Packages: 1.0 <br> Service Time: 50.0",
                    "Sequence: 15<br> Stop ID: CY<br>Zone ID: E-1.1G<br>Num Packages: 1.0 <br> Service Time: 87.0",
                    "Sequence: 16<br> Stop ID: JQ<br>Zone ID: E-1.1G<br>Num Packages: 1.0 <br> Service Time: 370.0"
                  ],
                  "type": "scattermapbox"
                },
                {
                  "hoverinfo": "text",
                  "lat": [
                    42.136668,
                    42.136174,
                    42.139035,
                    42.138027,
                    42.138476,
                    42.137425,
                    42.138349,
                    42.139095,
                    42.140455,
                    42.141612
                  ],
                  "lon": [
                    -71.53178,
                    -71.531294,
                    -71.536231,
                    -71.539181,
                    -71.540799,
                    -71.54024,
                    -71.54241,
                    -71.542843,
                    -71.543684,
                    -71.545708
                  ],
                  "marker": {
                    "size": 15
                  },
                  "mode": "markers",
                  "name": "E-1.2H",
                  "text": [
                    "Sequence: 17<br> Stop ID: DZ<br>Zone ID: E-1.2H<br>Num Packages: 1.0 <br> Service Time: 102.0",
                    "Sequence: 18<br> Stop ID: CN<br>Zone ID: E-1.2H<br>Num Packages: 2.0 <br> Service Time: 64.0",
                    "Sequence: 19<br> Stop ID: VM<br>Zone ID: E-1.2H<br>Num Packages: 1.0 <br> Service Time: 221.0",
                    "Sequence: 20<br> Stop ID: XG<br>Zone ID: E-1.2H<br>Num Packages: 3.0 <br> Service Time: 60.0",
                    "Sequence: 21<br> Stop ID: DX<br>Zone ID: E-1.2H<br>Num Packages: 1.0 <br> Service Time: 83.0",
                    "Sequence: 22<br> Stop ID: BE<br>Zone ID: E-1.2H<br>Num Packages: 2.0 <br> Service Time: 72.5",
                    "Sequence: 23<br> Stop ID: AG<br>Zone ID: E-1.2H<br>Num Packages: 2.0 <br> Service Time: 62.5",
                    "Sequence: 24<br> Stop ID: KY<br>Zone ID: E-1.2H<br>Num Packages: 1.0 <br> Service Time: 98.0",
                    "Sequence: 25<br> Stop ID: KR<br>Zone ID: E-1.2H<br>Num Packages: 1.0 <br> Service Time: 52.0",
                    "Sequence: 26<br> Stop ID: BX<br>Zone ID: E-1.2H<br>Num Packages: 1.0 <br> Service Time: 65.0"
                  ],
                  "type": "scattermapbox"
                },
                {
                  "hoverinfo": "text",
                  "lat": [
                    42.140229,
                    42.139733,
                    42.139294,
                    42.137706,
                    42.136912,
                    42.136227,
                    42.136319
                  ],
                  "lon": [
                    -71.546878,
                    -71.547296,
                    -71.546923,
                    -71.545586,
                    -71.544912,
                    -71.544317,
                    -71.542944
                  ],
                  "marker": {
                    "size": 15
                  },
                  "mode": "markers",
                  "name": "E-1.3H",
                  "text": [
                    "Sequence: 27<br> Stop ID: IE<br>Zone ID: E-1.3H<br>Num Packages: 2.0 <br> Service Time: 99.0",
                    "Sequence: 28<br> Stop ID: YH<br>Zone ID: E-1.3H<br>Num Packages: 1.0 <br> Service Time: 111.0",
                    "Sequence: 29<br> Stop ID: BP<br>Zone ID: E-1.3H<br>Num Packages: 1.0 <br> Service Time: 80.0",
                    "Sequence: 30<br> Stop ID: LL<br>Zone ID: E-1.3H<br>Num Packages: 1.0 <br> Service Time: 58.0",
                    "Sequence: 31<br> Stop ID: TR<br>Zone ID: E-1.3H<br>Num Packages: 1.0 <br> Service Time: 135.0",
                    "Sequence: 32<br> Stop ID: PB<br>Zone ID: E-1.3H<br>Num Packages: 1.0 <br> Service Time: 84.0",
                    "Sequence: 33<br> Stop ID: XQ<br>Zone ID: E-1.3H<br>Num Packages: 1.0 <br> Service Time: 107.0"
                  ],
                  "type": "scattermapbox"
                },
                {
                  "hoverinfo": "text",
                  "lat": [
                    42.133937,
                    42.133742,
                    42.131043,
                    42.13004,
                    42.130505,
                    42.13111
                  ],
                  "lon": [
                    -71.542708,
                    -71.546182,
                    -71.547647,
                    -71.547106,
                    -71.546481,
                    -71.546931
                  ],
                  "marker": {
                    "size": 15
                  },
                  "mode": "markers",
                  "name": "E-1.3J",
                  "text": [
                    "Sequence: 34<br> Stop ID: UW<br>Zone ID: E-1.3J<br>Num Packages: 1.0 <br> Service Time: 78.0",
                    "Sequence: 35<br> Stop ID: CE<br>Zone ID: E-1.3J<br>Num Packages: 1.0 <br> Service Time: 71.0",
                    "Sequence: 36<br> Stop ID: AZ<br>Zone ID: E-1.3J<br>Num Packages: 2.0 <br> Service Time: 68.5",
                    "Sequence: 37<br> Stop ID: OU<br>Zone ID: E-1.3J<br>Num Packages: 1.0 <br> Service Time: 76.0",
                    "Sequence: 38<br> Stop ID: II<br>Zone ID: E-1.3J<br>Num Packages: 1.0 <br> Service Time: 46.0",
                    "Sequence: 39<br> Stop ID: ZL<br>Zone ID: E-1.3J<br>Num Packages: 1.0 <br> Service Time: 172.0"
                  ],
                  "type": "scattermapbox"
                },
                {
                  "hoverinfo": "text",
                  "lat": [
                    42.13382,
                    42.132317,
                    42.131921,
                    42.131869,
                    42.131323,
                    42.131486,
                    42.131001,
                    42.129566,
                    42.128268,
                    42.127848,
                    42.125992,
                    42.125514,
                    42.129766
                  ],
                  "lon": [
                    -71.54095,
                    -71.539959,
                    -71.540795,
                    -71.539325,
                    -71.538877,
                    -71.539641,
                    -71.538114,
                    -71.540988,
                    -71.53879,
                    -71.538338,
                    -71.536422,
                    -71.535994,
                    -71.536633
                  ],
                  "marker": {
                    "size": 15
                  },
                  "mode": "markers",
                  "name": "E-1.2J",
                  "text": [
                    "Sequence: 40<br> Stop ID: LG<br>Zone ID: E-1.2J<br>Num Packages: 1.0 <br> Service Time: 146.0",
                    "Sequence: 41<br> Stop ID: PQ<br>Zone ID: E-1.2J<br>Num Packages: 1.0 <br> Service Time: 82.0",
                    "Sequence: 42<br> Stop ID: HO<br>Zone ID: E-1.2J<br>Num Packages: 1.0 <br> Service Time: 314.0",
                    "Sequence: 43<br> Stop ID: FQ<br>Zone ID: E-1.2J<br>Num Packages: 1.0 <br> Service Time: 71.0",
                    "Sequence: 44<br> Stop ID: WV<br>Zone ID: E-1.2J<br>Num Packages: 1.0 <br> Service Time: 45.0",
                    "Sequence: 45<br> Stop ID: WR<br>Zone ID: E-1.2J<br>Num Packages: 1.0 <br> Service Time: 49.0",
                    "Sequence: 46<br> Stop ID: AC<br>Zone ID: E-1.2J<br>Num Packages: 1.0 <br> Service Time: 65.0",
                    "Sequence: 47<br> Stop ID: DL<br>Zone ID: E-1.2J<br>Num Packages: 1.0 <br> Service Time: 206.0",
                    "Sequence: 48<br> Stop ID: BT<br>Zone ID: E-1.2J<br>Num Packages: 1.0 <br> Service Time: 104.0",
                    "Sequence: 49<br> Stop ID: GQ<br>Zone ID: E-1.2J<br>Num Packages: 1.0 <br> Service Time: 87.0",
                    "Sequence: 50<br> Stop ID: BN<br>Zone ID: E-1.2J<br>Num Packages: 1.0 <br> Service Time: 118.0",
                    "Sequence: 51<br> Stop ID: UY<br>Zone ID: E-1.2J<br>Num Packages: 1.0 <br> Service Time: 100.0",
                    "Sequence: 52<br> Stop ID: NY<br>Zone ID: E-1.2J<br>Num Packages: 2.0 <br> Service Time: 48.5"
                  ],
                  "type": "scattermapbox"
                },
                {
                  "hoverinfo": "text",
                  "lat": [
                    42.124032,
                    42.124038,
                    42.124369,
                    42.125778,
                    42.12044,
                    42.117772,
                    42.120766,
                    42.120975,
                    42.11705
                  ],
                  "lon": [
                    -71.540927,
                    -71.544102,
                    -71.545108,
                    -71.546615,
                    -71.542705,
                    -71.544013,
                    -71.543204,
                    -71.544163,
                    -71.547049
                  ],
                  "marker": {
                    "size": 15
                  },
                  "mode": "markers",
                  "name": "E-1.1J",
                  "text": [
                    "Sequence: 53<br> Stop ID: SE<br>Zone ID: E-1.1J<br>Num Packages: 1.0 <br> Service Time: 50.0",
                    "Sequence: 54<br> Stop ID: YG<br>Zone ID: E-1.1J<br>Num Packages: 2.0 <br> Service Time: 38.5",
                    "Sequence: 55<br> Stop ID: CW<br>Zone ID: E-1.1J<br>Num Packages: 1.0 <br> Service Time: 73.0",
                    "Sequence: 56<br> Stop ID: UE<br>Zone ID: E-1.1J<br>Num Packages: 1.0 <br> Service Time: 56.0",
                    "Sequence: 57<br> Stop ID: FT<br>Zone ID: E-1.1J<br>Num Packages: 1.0 <br> Service Time: 105.0",
                    "Sequence: 58<br> Stop ID: FI<br>Zone ID: E-1.1J<br>Num Packages: 1.0 <br> Service Time: 65.0",
                    "Sequence: 59<br> Stop ID: US<br>Zone ID: E-1.1J<br>Num Packages: 1.0 <br> Service Time: 312.0",
                    "Sequence: 60<br> Stop ID: DN<br>Zone ID: E-1.1J<br>Num Packages: 2.0 <br> Service Time: 59.0",
                    "Sequence: 61<br> Stop ID: CX<br>Zone ID: E-1.1J<br>Num Packages: 1.0 <br> Service Time: 162.0"
                  ],
                  "type": "scattermapbox"
                },
                {
                  "hoverinfo": "text",
                  "lat": [
                    42.121051,
                    42.120341,
                    42.120591,
                    42.124123,
                    42.127365,
                    42.128388,
                    42.129426,
                    42.130843,
                    42.131783
                  ],
                  "lon": [
                    -71.545773,
                    -71.549171,
                    -71.551675,
                    -71.550611,
                    -71.551967,
                    -71.55112,
                    -71.553551,
                    -71.55611,
                    -71.552378
                  ],
                  "marker": {
                    "size": 15
                  },
                  "mode": "markers",
                  "name": "E-2.1J",
                  "text": [
                    "Sequence: 62<br> Stop ID: TL<br>Zone ID: E-2.1J<br>Num Packages: 3.0 <br> Service Time: 74.7",
                    "Sequence: 63<br> Stop ID: SU<br>Zone ID: E-2.1J<br>Num Packages: 1.0 <br> Service Time: 134.0",
                    "Sequence: 64<br> Stop ID: JL<br>Zone ID: E-2.1J<br>Num Packages: 1.0 <br> Service Time: 136.0",
                    "Sequence: 65<br> Stop ID: UI<br>Zone ID: E-2.1J<br>Num Packages: 2.0 <br> Service Time: 76.0",
                    "Sequence: 66<br> Stop ID: NL<br>Zone ID: E-2.1J<br>Num Packages: 1.0 <br> Service Time: 67.0",
                    "Sequence: 67<br> Stop ID: BZ<br>Zone ID: E-2.1J<br>Num Packages: 1.0 <br> Service Time: 81.0",
                    "Sequence: 68<br> Stop ID: ZX<br>Zone ID: E-2.1J<br>Num Packages: 1.0 <br> Service Time: 71.0",
                    "Sequence: 69<br> Stop ID: YR<br>Zone ID: E-2.1J<br>Num Packages: 2.0 <br> Service Time: 51.5",
                    "Sequence: 70<br> Stop ID: DI<br>Zone ID: E-2.1J<br>Num Packages: 1.0 <br> Service Time: 56.0"
                  ],
                  "type": "scattermapbox"
                },
                {
                  "hoverinfo": "text",
                  "lat": [
                    42.129839,
                    42.135489,
                    42.131202,
                    42.126641,
                    42.125951,
                    42.12566,
                    42.128049,
                    42.1282
                  ],
                  "lon": [
                    -71.556861,
                    -71.561803,
                    -71.571969,
                    -71.571935,
                    -71.572483,
                    -71.57254,
                    -71.578627,
                    -71.578917
                  ],
                  "marker": {
                    "size": 15
                  },
                  "mode": "markers",
                  "name": "E-2.2J",
                  "text": [
                    "Sequence: 71<br> Stop ID: ZV<br>Zone ID: E-2.2J<br>Num Packages: 1.0 <br> Service Time: 172.0",
                    "Sequence: 72<br> Stop ID: UJ<br>Zone ID: E-2.2J<br>Num Packages: 1.0 <br> Service Time: 99.0",
                    "Sequence: 73<br> Stop ID: WM<br>Zone ID: E-2.2J<br>Num Packages: 1.0 <br> Service Time: 172.0",
                    "Sequence: 74<br> Stop ID: NG<br>Zone ID: E-2.2J<br>Num Packages: 1.0 <br> Service Time: 68.0",
                    "Sequence: 75<br> Stop ID: ST<br>Zone ID: E-2.2J<br>Num Packages: 1.0 <br> Service Time: 146.0",
                    "Sequence: 76<br> Stop ID: CU<br>Zone ID: E-2.2J<br>Num Packages: 1.0 <br> Service Time: 59.0",
                    "Sequence: 77<br> Stop ID: AP<br>Zone ID: E-2.2J<br>Num Packages: 1.0 <br> Service Time: 100.0",
                    "Sequence: 78<br> Stop ID: KL<br>Zone ID: E-2.2J<br>Num Packages: 1.0 <br> Service Time: 96.0"
                  ],
                  "type": "scattermapbox"
                },
                {
                  "hoverinfo": "text",
                  "lat": [
                    42.125649,
                    42.116133,
                    42.110929,
                    42.110252,
                    42.108828,
                    42.110475,
                    42.102702,
                    42.101216,
                    42.101589,
                    42.101403
                  ],
                  "lon": [
                    -71.568811,
                    -71.566586,
                    -71.556253,
                    -71.555689,
                    -71.562421,
                    -71.56499,
                    -71.553805,
                    -71.555481,
                    -71.556043,
                    -71.556447
                  ],
                  "marker": {
                    "size": 15
                  },
                  "mode": "markers",
                  "name": "E-2.3H",
                  "text": [
                    "Sequence: 79<br> Stop ID: OJ<br>Zone ID: E-2.3H<br>Num Packages: 1.0 <br> Service Time: 103.0",
                    "Sequence: 80<br> Stop ID: ZG<br>Zone ID: E-2.3H<br>Num Packages: 2.0 <br> Service Time: 98.0",
                    "Sequence: 81<br> Stop ID: TO<br>Zone ID: E-2.3H<br>Num Packages: 1.0 <br> Service Time: 93.0",
                    "Sequence: 82<br> Stop ID: AD<br>Zone ID: E-2.3H<br>Num Packages: 1.0 <br> Service Time: 75.0",
                    "Sequence: 83<br> Stop ID: GE<br>Zone ID: E-2.3H<br>Num Packages: 1.0 <br> Service Time: 100.0",
                    "Sequence: 84<br> Stop ID: EY<br>Zone ID: E-2.3H<br>Num Packages: 1.0 <br> Service Time: 79.0",
                    "Sequence: 85<br> Stop ID: OM<br>Zone ID: E-2.3H<br>Num Packages: 1.0 <br> Service Time: 31.0",
                    "Sequence: 86<br> Stop ID: SR<br>Zone ID: E-2.3H<br>Num Packages: 1.0 <br> Service Time: 82.0",
                    "Sequence: 87<br> Stop ID: XU<br>Zone ID: E-2.3H<br>Num Packages: 1.0 <br> Service Time: 105.0",
                    "Sequence: 88<br> Stop ID: JU<br>Zone ID: E-2.3H<br>Num Packages: 1.0 <br> Service Time: 57.0"
                  ],
                  "type": "scattermapbox"
                },
                {
                  "hoverinfo": "text",
                  "lat": [
                    42.101185,
                    42.100946,
                    42.089674,
                    42.088175,
                    42.086827,
                    42.082837,
                    42.080895,
                    42.08229,
                    42.084195,
                    42.08376,
                    42.07244,
                    42.071516,
                    42.07397
                  ],
                  "lon": [
                    -71.551259,
                    -71.551314,
                    -71.55466,
                    -71.554347,
                    -71.55235,
                    -71.555256,
                    -71.556956,
                    -71.559,
                    -71.55201,
                    -71.551694,
                    -71.553688,
                    -71.55374,
                    -71.551047
                  ],
                  "marker": {
                    "size": 15
                  },
                  "mode": "markers",
                  "name": "E-2.1G",
                  "text": [
                    "Sequence: 89<br> Stop ID: NB<br>Zone ID: E-2.1G<br>Num Packages: 1.0 <br> Service Time: 76.0",
                    "Sequence: 90<br> Stop ID: TJ<br>Zone ID: E-2.1G<br>Num Packages: 1.0 <br> Service Time: 78.0",
                    "Sequence: 91<br> Stop ID: NW<br>Zone ID: E-2.1G<br>Num Packages: 1.0 <br> Service Time: 102.0",
                    "Sequence: 92<br> Stop ID: ND<br>Zone ID: E-2.1G<br>Num Packages: 1.0 <br> Service Time: 142.0",
                    "Sequence: 93<br> Stop ID: QO<br>Zone ID: E-2.1G<br>Num Packages: 1.0 <br> Service Time: 82.0",
                    "Sequence: 94<br> Stop ID: KX<br>Zone ID: E-2.1G<br>Num Packages: 1.0 <br> Service Time: 113.0",
                    "Sequence: 95<br> Stop ID: ZO<br>Zone ID: E-2.1G<br>Num Packages: 1.0 <br> Service Time: 148.0",
                    "Sequence: 96<br> Stop ID: FL<br>Zone ID: E-2.1G<br>Num Packages: 1.0 <br> Service Time: 121.0",
                    "Sequence: 97<br> Stop ID: PU<br>Zone ID: E-2.1G<br>Num Packages: 2.0 <br> Service Time: 71.5",
                    "Sequence: 98<br> Stop ID: JZ<br>Zone ID: E-2.1G<br>Num Packages: 1.0 <br> Service Time: 175.0",
                    "Sequence: 99<br> Stop ID: OE<br>Zone ID: E-2.1G<br>Num Packages: 2.0 <br> Service Time: 79.0",
                    "Sequence: 100<br> Stop ID: NH<br>Zone ID: E-2.1G<br>Num Packages: 1.0 <br> Service Time: 74.0",
                    "Sequence: 101<br> Stop ID: SM<br>Zone ID: E-2.1G<br>Num Packages: 1.0 <br> Service Time: 71.0"
                  ],
                  "type": "scattermapbox"
                },
                {
                  "hoverinfo": "text",
                  "lat": [
                    42.080541,
                    42.08066,
                    42.081163,
                    42.082898,
                    42.083353,
                    42.085539,
                    42.088684
                  ],
                  "lon": [
                    -71.551435,
                    -71.549721,
                    -71.548001,
                    -71.54777,
                    -71.547355,
                    -71.545158,
                    -71.545654
                  ],
                  "marker": {
                    "size": 15
                  },
                  "mode": "markers",
                  "name": "E-2.2G",
                  "text": [
                    "Sequence: 102<br> Stop ID: IF<br>Zone ID: E-2.2G<br>Num Packages: 2.0 <br> Service Time: 56.0",
                    "Sequence: 103<br> Stop ID: SG<br>Zone ID: E-2.2G<br>Num Packages: 1.0 <br> Service Time: 77.0",
                    "Sequence: 104<br> Stop ID: GM<br>Zone ID: E-2.2G<br>Num Packages: 1.0 <br> Service Time: 92.0",
                    "Sequence: 105<br> Stop ID: PX<br>Zone ID: E-2.2G<br>Num Packages: 4.0 <br> Service Time: 51.0",
                    "Sequence: 106<br> Stop ID: OD<br>Zone ID: E-2.2G<br>Num Packages: 2.0 <br> Service Time: 43.5",
                    "Sequence: 107<br> Stop ID: FE<br>Zone ID: E-2.2G<br>Num Packages: 1.0 <br> Service Time: 73.0",
                    "Sequence: 108<br> Stop ID: MN<br>Zone ID: E-2.2G<br>Num Packages: 2.0 <br> Service Time: 53.0"
                  ],
                  "type": "scattermapbox"
                },
                {
                  "hoverinfo": "text",
                  "lat": [
                    42.087774,
                    42.087781,
                    42.089052,
                    42.089222,
                    42.08848,
                    42.091701,
                    42.093273,
                    42.096478,
                    42.097525,
                    42.097741,
                    42.098301,
                    42.09994,
                    42.105719,
                    42.106275
                  ],
                  "lon": [
                    -71.534656,
                    -71.534642,
                    -71.533044,
                    -71.533181,
                    -71.5326,
                    -71.529757,
                    -71.522541,
                    -71.525742,
                    -71.526315,
                    -71.528215,
                    -71.540291,
                    -71.541582,
                    -71.544234,
                    -71.540355
                  ],
                  "marker": {
                    "size": 15
                  },
                  "mode": "markers",
                  "name": "E-2.3G",
                  "text": [
                    "Sequence: 109<br> Stop ID: IB<br>Zone ID: E-2.3G<br>Num Packages: 1.0 <br> Service Time: 170.0",
                    "Sequence: 110<br> Stop ID: CA<br>Zone ID: E-2.3G<br>Num Packages: 1.0 <br> Service Time: 92.0",
                    "Sequence: 111<br> Stop ID: JD<br>Zone ID: E-2.3G<br>Num Packages: 3.0 <br> Service Time: 78.7",
                    "Sequence: 112<br> Stop ID: XB<br>Zone ID: E-2.3G<br>Num Packages: 1.0 <br> Service Time: 81.0",
                    "Sequence: 113<br> Stop ID: ZA<br>Zone ID: E-2.3G<br>Num Packages: 1.0 <br> Service Time: 172.0",
                    "Sequence: 114<br> Stop ID: IC<br>Zone ID: E-2.3G<br>Num Packages: 1.0 <br> Service Time: 86.0",
                    "Sequence: 115<br> Stop ID: QU<br>Zone ID: E-2.3G<br>Num Packages: 1.0 <br> Service Time: 63.0",
                    "Sequence: 116<br> Stop ID: YE<br>Zone ID: E-2.3G<br>Num Packages: 1.0 <br> Service Time: 45.0",
                    "Sequence: 117<br> Stop ID: OC<br>Zone ID: E-2.3G<br>Num Packages: 1.0 <br> Service Time: 81.0",
                    "Sequence: 118<br> Stop ID: ML<br>Zone ID: E-2.3G<br>Num Packages: 2.0 <br> Service Time: 48.0",
                    "Sequence: 119<br> Stop ID: VT<br>Zone ID: E-2.3G<br>Num Packages: 1.0 <br> Service Time: 101.0",
                    "Sequence: 120<br> Stop ID: TP<br>Zone ID: E-2.3G<br>Num Packages: 1.0 <br> Service Time: 66.0",
                    "Sequence: 121<br> Stop ID: QZ<br>Zone ID: E-2.3G<br>Num Packages: 1.0 <br> Service Time: 45.0",
                    "Sequence: 122<br> Stop ID: SZ<br>Zone ID: E-2.3G<br>Num Packages: 2.0 <br> Service Time: 33.5"
                  ],
                  "type": "scattermapbox"
                },
                {
                  "hoverinfo": "text",
                  "lat": [
                    42.100858,
                    42.098311,
                    42.09491,
                    42.094155,
                    42.09345,
                    42.0928
                  ],
                  "lon": [
                    -71.569223,
                    -71.565798,
                    -71.567879,
                    -71.567809,
                    -71.570252,
                    -71.57135
                  ],
                  "marker": {
                    "size": 15
                  },
                  "mode": "markers",
                  "name": "E-2.2H",
                  "text": [
                    "Sequence: 123<br> Stop ID: PO<br>Zone ID: E-2.2H<br>Num Packages: 2.0 <br> Service Time: 129.5",
                    "Sequence: 124<br> Stop ID: EI<br>Zone ID: E-2.2H<br>Num Packages: 1.0 <br> Service Time: 196.0",
                    "Sequence: 125<br> Stop ID: AY<br>Zone ID: E-2.2H<br>Num Packages: 1.0 <br> Service Time: 55.0",
                    "Sequence: 126<br> Stop ID: PV<br>Zone ID: E-2.2H<br>Num Packages: 2.0 <br> Service Time: 57.5",
                    "Sequence: 127<br> Stop ID: ET<br>Zone ID: E-2.2H<br>Num Packages: 1.0 <br> Service Time: 77.0",
                    "Sequence: 128<br> Stop ID: SD<br>Zone ID: E-2.2H<br>Num Packages: 1.0 <br> Service Time: 171.0"
                  ],
                  "type": "scattermapbox"
                },
                {
                  "hoverinfo": "text",
                  "lat": [
                    42.091579,
                    42.086276,
                    42.084637,
                    42.08234,
                    42.071217,
                    42.068769,
                    42.065299,
                    42.066053,
                    42.066606,
                    42.067098,
                    42.069052
                  ],
                  "lon": [
                    -71.562969,
                    -71.564665,
                    -71.565057,
                    -71.569138,
                    -71.569623,
                    -71.568176,
                    -71.56307,
                    -71.560007,
                    -71.560328,
                    -71.561395,
                    -71.570989
                  ],
                  "marker": {
                    "size": 15
                  },
                  "mode": "markers",
                  "name": "E-2.1H",
                  "text": [
                    "Sequence: 129<br> Stop ID: PH<br>Zone ID: E-2.1H<br>Num Packages: 1.0 <br> Service Time: 70.0",
                    "Sequence: 130<br> Stop ID: LI<br>Zone ID: E-2.1H<br>Num Packages: 1.0 <br> Service Time: 166.0",
                    "Sequence: 131<br> Stop ID: AL<br>Zone ID: E-2.1H<br>Num Packages: 1.0 <br> Service Time: 140.0",
                    "Sequence: 132<br> Stop ID: PM<br>Zone ID: E-2.1H<br>Num Packages: 1.0 <br> Service Time: 83.0",
                    "Sequence: 133<br> Stop ID: LZ<br>Zone ID: E-2.1H<br>Num Packages: 2.0 <br> Service Time: 59.0",
                    "Sequence: 134<br> Stop ID: RK<br>Zone ID: E-2.1H<br>Num Packages: 1.0 <br> Service Time: 92.0",
                    "Sequence: 135<br> Stop ID: IK<br>Zone ID: E-2.1H<br>Num Packages: 1.0 <br> Service Time: 60.0",
                    "Sequence: 136<br> Stop ID: MM<br>Zone ID: E-2.1H<br>Num Packages: 2.0 <br> Service Time: 80.5",
                    "Sequence: 137<br> Stop ID: ID<br>Zone ID: E-2.1H<br>Num Packages: 1.0 <br> Service Time: 105.0",
                    "Sequence: 138<br> Stop ID: OV<br>Zone ID: E-2.1H<br>Num Packages: 1.0 <br> Service Time: 90.0",
                    "Sequence: 139<br> Stop ID: XK<br>Zone ID: E-2.1H<br>Num Packages: 1.0 <br> Service Time: 80.0"
                  ],
                  "type": "scattermapbox"
                },
                {
                  "hoverinfo": "text",
                  "lat": [
                    42.117964,
                    42.11913,
                    42.122523,
                    42.122976,
                    42.120684,
                    42.120485,
                    42.119914,
                    42.117205,
                    42.117445,
                    42.115553,
                    42.112118
                  ],
                  "lon": [
                    -71.573898,
                    -71.574056,
                    -71.574733,
                    -71.574975,
                    -71.578937,
                    -71.577536,
                    -71.575428,
                    -71.574765,
                    -71.579092,
                    -71.587857,
                    -71.597602
                  ],
                  "marker": {
                    "size": 15
                  },
                  "mode": "markers",
                  "name": "E-2.3J",
                  "text": [
                    "Sequence: 140<br> Stop ID: NT<br>Zone ID: E-2.3J<br>Num Packages: 1.0 <br> Service Time: 60.0",
                    "Sequence: 141<br> Stop ID: UV<br>Zone ID: E-2.3J<br>Num Packages: 1.0 <br> Service Time: 157.0",
                    "Sequence: 142<br> Stop ID: JN<br>Zone ID: E-2.3J<br>Num Packages: 1.0 <br> Service Time: 69.0",
                    "Sequence: 143<br> Stop ID: HV<br>Zone ID: E-2.3J<br>Num Packages: 2.0 <br> Service Time: 41.0",
                    "Sequence: 144<br> Stop ID: IO<br>Zone ID: E-2.3J<br>Num Packages: 1.0 <br> Service Time: 58.0",
                    "Sequence: 145<br> Stop ID: WC<br>Zone ID: E-2.3J<br>Num Packages: 2.0 <br> Service Time: 69.0",
                    "Sequence: 146<br> Stop ID: GG<br>Zone ID: E-2.3J<br>Num Packages: 1.0 <br> Service Time: 67.0",
                    "Sequence: 147<br> Stop ID: YW<br>Zone ID: E-2.3J<br>Num Packages: 2.0 <br> Service Time: 72.5",
                    "Sequence: 148<br> Stop ID: VA<br>Zone ID: E-2.3J<br>Num Packages: 2.0 <br> Service Time: 60.0",
                    "Sequence: 149<br> Stop ID: KZ<br>Zone ID: E-2.3J<br>Num Packages: 2.0 <br> Service Time: 74.0",
                    "Sequence: 150<br> Stop ID: UP<br>Zone ID: E-2.3J<br>Num Packages: 1.0 <br> Service Time: 106.0"
                  ],
                  "type": "scattermapbox"
                },
                {
                  "hoverinfo": "text",
                  "lat": [
                    42.140655,
                    42.149406,
                    42.150955,
                    42.150434,
                    42.152468,
                    42.153178,
                    42.148646,
                    42.148227,
                    42.147267,
                    42.145646,
                    42.148971
                  ],
                  "lon": [
                    -71.536264,
                    -71.541475,
                    -71.543177,
                    -71.543739,
                    -71.545145,
                    -71.544067,
                    -71.542931,
                    -71.542674,
                    -71.540911,
                    -71.539764,
                    -71.544248
                  ],
                  "marker": {
                    "size": 15
                  },
                  "mode": "markers",
                  "name": "E-1.2G",
                  "text": [
                    "Sequence: 151<br> Stop ID: MZ<br>Zone ID: E-1.2G<br>Num Packages: 1.0 <br> Service Time: 105.0",
                    "Sequence: 152<br> Stop ID: EE<br>Zone ID: E-1.2G<br>Num Packages: 1.0 <br> Service Time: 78.0",
                    "Sequence: 153<br> Stop ID: MD<br>Zone ID: E-1.2G<br>Num Packages: 1.0 <br> Service Time: 51.0",
                    "Sequence: 154<br> Stop ID: AR<br>Zone ID: E-1.2G<br>Num Packages: 1.0 <br> Service Time: 45.0",
                    "Sequence: 155<br> Stop ID: SN<br>Zone ID: E-1.2G<br>Num Packages: 1.0 <br> Service Time: 63.0",
                    "Sequence: 156<br> Stop ID: VB<br>Zone ID: E-1.2G<br>Num Packages: 1.0 <br> Service Time: 79.0",
                    "Sequence: 157<br> Stop ID: VJ<br>Zone ID: E-1.2G<br>Num Packages: 1.0 <br> Service Time: 112.0",
                    "Sequence: 158<br> Stop ID: YA<br>Zone ID: E-1.2G<br>Num Packages: 1.0 <br> Service Time: 101.0",
                    "Sequence: 159<br> Stop ID: KS<br>Zone ID: E-1.2G<br>Num Packages: 1.0 <br> Service Time: 47.0",
                    "Sequence: 160<br> Stop ID: PE<br>Zone ID: E-1.2G<br>Num Packages: 2.0 <br> Service Time: 21.0",
                    "Sequence: 161<br> Stop ID: GR<br>Zone ID: E-1.2G<br>Num Packages: 1.0 <br> Service Time: 98.0"
                  ],
                  "type": "scattermapbox"
                }
              ],
              "layout": {
                "height": 600,
                "mapbox": {
                  "center": {
                    "lat": 42.11689389570552,
                    "lon": -71.54875496932517
                  },
                  "style": "open-street-map",
                  "zoom": 10
                },
                "margin": {
                  "b": 10,
                  "l": 10,
                  "r": 10,
                  "t": 10
                },
                "showlegend": false,
                "template": {
                  "data": {
                    "bar": [
                      {
                        "error_x": {
                          "color": "#2a3f5f"
                        },
                        "error_y": {
                          "color": "#2a3f5f"
                        },
                        "marker": {
                          "line": {
                            "color": "#E5ECF6",
                            "width": 0.5
                          },
                          "pattern": {
                            "fillmode": "overlay",
                            "size": 10,
                            "solidity": 0.2
                          }
                        },
                        "type": "bar"
                      }
                    ],
                    "barpolar": [
                      {
                        "marker": {
                          "line": {
                            "color": "#E5ECF6",
                            "width": 0.5
                          },
                          "pattern": {
                            "fillmode": "overlay",
                            "size": 10,
                            "solidity": 0.2
                          }
                        },
                        "type": "barpolar"
                      }
                    ],
                    "carpet": [
                      {
                        "aaxis": {
                          "endlinecolor": "#2a3f5f",
                          "gridcolor": "white",
                          "linecolor": "white",
                          "minorgridcolor": "white",
                          "startlinecolor": "#2a3f5f"
                        },
                        "baxis": {
                          "endlinecolor": "#2a3f5f",
                          "gridcolor": "white",
                          "linecolor": "white",
                          "minorgridcolor": "white",
                          "startlinecolor": "#2a3f5f"
                        },
                        "type": "carpet"
                      }
                    ],
                    "choropleth": [
                      {
                        "colorbar": {
                          "outlinewidth": 0,
                          "ticks": ""
                        },
                        "type": "choropleth"
                      }
                    ],
                    "contour": [
                      {
                        "colorbar": {
                          "outlinewidth": 0,
                          "ticks": ""
                        },
                        "colorscale": [
                          [
                            0,
                            "#0d0887"
                          ],
                          [
                            0.1111111111111111,
                            "#46039f"
                          ],
                          [
                            0.2222222222222222,
                            "#7201a8"
                          ],
                          [
                            0.3333333333333333,
                            "#9c179e"
                          ],
                          [
                            0.4444444444444444,
                            "#bd3786"
                          ],
                          [
                            0.5555555555555556,
                            "#d8576b"
                          ],
                          [
                            0.6666666666666666,
                            "#ed7953"
                          ],
                          [
                            0.7777777777777778,
                            "#fb9f3a"
                          ],
                          [
                            0.8888888888888888,
                            "#fdca26"
                          ],
                          [
                            1,
                            "#f0f921"
                          ]
                        ],
                        "type": "contour"
                      }
                    ],
                    "contourcarpet": [
                      {
                        "colorbar": {
                          "outlinewidth": 0,
                          "ticks": ""
                        },
                        "type": "contourcarpet"
                      }
                    ],
                    "heatmap": [
                      {
                        "colorbar": {
                          "outlinewidth": 0,
                          "ticks": ""
                        },
                        "colorscale": [
                          [
                            0,
                            "#0d0887"
                          ],
                          [
                            0.1111111111111111,
                            "#46039f"
                          ],
                          [
                            0.2222222222222222,
                            "#7201a8"
                          ],
                          [
                            0.3333333333333333,
                            "#9c179e"
                          ],
                          [
                            0.4444444444444444,
                            "#bd3786"
                          ],
                          [
                            0.5555555555555556,
                            "#d8576b"
                          ],
                          [
                            0.6666666666666666,
                            "#ed7953"
                          ],
                          [
                            0.7777777777777778,
                            "#fb9f3a"
                          ],
                          [
                            0.8888888888888888,
                            "#fdca26"
                          ],
                          [
                            1,
                            "#f0f921"
                          ]
                        ],
                        "type": "heatmap"
                      }
                    ],
                    "heatmapgl": [
                      {
                        "colorbar": {
                          "outlinewidth": 0,
                          "ticks": ""
                        },
                        "colorscale": [
                          [
                            0,
                            "#0d0887"
                          ],
                          [
                            0.1111111111111111,
                            "#46039f"
                          ],
                          [
                            0.2222222222222222,
                            "#7201a8"
                          ],
                          [
                            0.3333333333333333,
                            "#9c179e"
                          ],
                          [
                            0.4444444444444444,
                            "#bd3786"
                          ],
                          [
                            0.5555555555555556,
                            "#d8576b"
                          ],
                          [
                            0.6666666666666666,
                            "#ed7953"
                          ],
                          [
                            0.7777777777777778,
                            "#fb9f3a"
                          ],
                          [
                            0.8888888888888888,
                            "#fdca26"
                          ],
                          [
                            1,
                            "#f0f921"
                          ]
                        ],
                        "type": "heatmapgl"
                      }
                    ],
                    "histogram": [
                      {
                        "marker": {
                          "pattern": {
                            "fillmode": "overlay",
                            "size": 10,
                            "solidity": 0.2
                          }
                        },
                        "type": "histogram"
                      }
                    ],
                    "histogram2d": [
                      {
                        "colorbar": {
                          "outlinewidth": 0,
                          "ticks": ""
                        },
                        "colorscale": [
                          [
                            0,
                            "#0d0887"
                          ],
                          [
                            0.1111111111111111,
                            "#46039f"
                          ],
                          [
                            0.2222222222222222,
                            "#7201a8"
                          ],
                          [
                            0.3333333333333333,
                            "#9c179e"
                          ],
                          [
                            0.4444444444444444,
                            "#bd3786"
                          ],
                          [
                            0.5555555555555556,
                            "#d8576b"
                          ],
                          [
                            0.6666666666666666,
                            "#ed7953"
                          ],
                          [
                            0.7777777777777778,
                            "#fb9f3a"
                          ],
                          [
                            0.8888888888888888,
                            "#fdca26"
                          ],
                          [
                            1,
                            "#f0f921"
                          ]
                        ],
                        "type": "histogram2d"
                      }
                    ],
                    "histogram2dcontour": [
                      {
                        "colorbar": {
                          "outlinewidth": 0,
                          "ticks": ""
                        },
                        "colorscale": [
                          [
                            0,
                            "#0d0887"
                          ],
                          [
                            0.1111111111111111,
                            "#46039f"
                          ],
                          [
                            0.2222222222222222,
                            "#7201a8"
                          ],
                          [
                            0.3333333333333333,
                            "#9c179e"
                          ],
                          [
                            0.4444444444444444,
                            "#bd3786"
                          ],
                          [
                            0.5555555555555556,
                            "#d8576b"
                          ],
                          [
                            0.6666666666666666,
                            "#ed7953"
                          ],
                          [
                            0.7777777777777778,
                            "#fb9f3a"
                          ],
                          [
                            0.8888888888888888,
                            "#fdca26"
                          ],
                          [
                            1,
                            "#f0f921"
                          ]
                        ],
                        "type": "histogram2dcontour"
                      }
                    ],
                    "mesh3d": [
                      {
                        "colorbar": {
                          "outlinewidth": 0,
                          "ticks": ""
                        },
                        "type": "mesh3d"
                      }
                    ],
                    "parcoords": [
                      {
                        "line": {
                          "colorbar": {
                            "outlinewidth": 0,
                            "ticks": ""
                          }
                        },
                        "type": "parcoords"
                      }
                    ],
                    "pie": [
                      {
                        "automargin": true,
                        "type": "pie"
                      }
                    ],
                    "scatter": [
                      {
                        "fillpattern": {
                          "fillmode": "overlay",
                          "size": 10,
                          "solidity": 0.2
                        },
                        "type": "scatter"
                      }
                    ],
                    "scatter3d": [
                      {
                        "line": {
                          "colorbar": {
                            "outlinewidth": 0,
                            "ticks": ""
                          }
                        },
                        "marker": {
                          "colorbar": {
                            "outlinewidth": 0,
                            "ticks": ""
                          }
                        },
                        "type": "scatter3d"
                      }
                    ],
                    "scattercarpet": [
                      {
                        "marker": {
                          "colorbar": {
                            "outlinewidth": 0,
                            "ticks": ""
                          }
                        },
                        "type": "scattercarpet"
                      }
                    ],
                    "scattergeo": [
                      {
                        "marker": {
                          "colorbar": {
                            "outlinewidth": 0,
                            "ticks": ""
                          }
                        },
                        "type": "scattergeo"
                      }
                    ],
                    "scattergl": [
                      {
                        "marker": {
                          "colorbar": {
                            "outlinewidth": 0,
                            "ticks": ""
                          }
                        },
                        "type": "scattergl"
                      }
                    ],
                    "scattermapbox": [
                      {
                        "marker": {
                          "colorbar": {
                            "outlinewidth": 0,
                            "ticks": ""
                          }
                        },
                        "type": "scattermapbox"
                      }
                    ],
                    "scatterpolar": [
                      {
                        "marker": {
                          "colorbar": {
                            "outlinewidth": 0,
                            "ticks": ""
                          }
                        },
                        "type": "scatterpolar"
                      }
                    ],
                    "scatterpolargl": [
                      {
                        "marker": {
                          "colorbar": {
                            "outlinewidth": 0,
                            "ticks": ""
                          }
                        },
                        "type": "scatterpolargl"
                      }
                    ],
                    "scatterternary": [
                      {
                        "marker": {
                          "colorbar": {
                            "outlinewidth": 0,
                            "ticks": ""
                          }
                        },
                        "type": "scatterternary"
                      }
                    ],
                    "surface": [
                      {
                        "colorbar": {
                          "outlinewidth": 0,
                          "ticks": ""
                        },
                        "colorscale": [
                          [
                            0,
                            "#0d0887"
                          ],
                          [
                            0.1111111111111111,
                            "#46039f"
                          ],
                          [
                            0.2222222222222222,
                            "#7201a8"
                          ],
                          [
                            0.3333333333333333,
                            "#9c179e"
                          ],
                          [
                            0.4444444444444444,
                            "#bd3786"
                          ],
                          [
                            0.5555555555555556,
                            "#d8576b"
                          ],
                          [
                            0.6666666666666666,
                            "#ed7953"
                          ],
                          [
                            0.7777777777777778,
                            "#fb9f3a"
                          ],
                          [
                            0.8888888888888888,
                            "#fdca26"
                          ],
                          [
                            1,
                            "#f0f921"
                          ]
                        ],
                        "type": "surface"
                      }
                    ],
                    "table": [
                      {
                        "cells": {
                          "fill": {
                            "color": "#EBF0F8"
                          },
                          "line": {
                            "color": "white"
                          }
                        },
                        "header": {
                          "fill": {
                            "color": "#C8D4E3"
                          },
                          "line": {
                            "color": "white"
                          }
                        },
                        "type": "table"
                      }
                    ]
                  },
                  "layout": {
                    "annotationdefaults": {
                      "arrowcolor": "#2a3f5f",
                      "arrowhead": 0,
                      "arrowwidth": 1
                    },
                    "autotypenumbers": "strict",
                    "coloraxis": {
                      "colorbar": {
                        "outlinewidth": 0,
                        "ticks": ""
                      }
                    },
                    "colorscale": {
                      "diverging": [
                        [
                          0,
                          "#8e0152"
                        ],
                        [
                          0.1,
                          "#c51b7d"
                        ],
                        [
                          0.2,
                          "#de77ae"
                        ],
                        [
                          0.3,
                          "#f1b6da"
                        ],
                        [
                          0.4,
                          "#fde0ef"
                        ],
                        [
                          0.5,
                          "#f7f7f7"
                        ],
                        [
                          0.6,
                          "#e6f5d0"
                        ],
                        [
                          0.7,
                          "#b8e186"
                        ],
                        [
                          0.8,
                          "#7fbc41"
                        ],
                        [
                          0.9,
                          "#4d9221"
                        ],
                        [
                          1,
                          "#276419"
                        ]
                      ],
                      "sequential": [
                        [
                          0,
                          "#0d0887"
                        ],
                        [
                          0.1111111111111111,
                          "#46039f"
                        ],
                        [
                          0.2222222222222222,
                          "#7201a8"
                        ],
                        [
                          0.3333333333333333,
                          "#9c179e"
                        ],
                        [
                          0.4444444444444444,
                          "#bd3786"
                        ],
                        [
                          0.5555555555555556,
                          "#d8576b"
                        ],
                        [
                          0.6666666666666666,
                          "#ed7953"
                        ],
                        [
                          0.7777777777777778,
                          "#fb9f3a"
                        ],
                        [
                          0.8888888888888888,
                          "#fdca26"
                        ],
                        [
                          1,
                          "#f0f921"
                        ]
                      ],
                      "sequentialminus": [
                        [
                          0,
                          "#0d0887"
                        ],
                        [
                          0.1111111111111111,
                          "#46039f"
                        ],
                        [
                          0.2222222222222222,
                          "#7201a8"
                        ],
                        [
                          0.3333333333333333,
                          "#9c179e"
                        ],
                        [
                          0.4444444444444444,
                          "#bd3786"
                        ],
                        [
                          0.5555555555555556,
                          "#d8576b"
                        ],
                        [
                          0.6666666666666666,
                          "#ed7953"
                        ],
                        [
                          0.7777777777777778,
                          "#fb9f3a"
                        ],
                        [
                          0.8888888888888888,
                          "#fdca26"
                        ],
                        [
                          1,
                          "#f0f921"
                        ]
                      ]
                    },
                    "colorway": [
                      "#636efa",
                      "#EF553B",
                      "#00cc96",
                      "#ab63fa",
                      "#FFA15A",
                      "#19d3f3",
                      "#FF6692",
                      "#B6E880",
                      "#FF97FF",
                      "#FECB52"
                    ],
                    "font": {
                      "color": "#2a3f5f"
                    },
                    "geo": {
                      "bgcolor": "white",
                      "lakecolor": "white",
                      "landcolor": "#E5ECF6",
                      "showlakes": true,
                      "showland": true,
                      "subunitcolor": "white"
                    },
                    "hoverlabel": {
                      "align": "left"
                    },
                    "hovermode": "closest",
                    "mapbox": {
                      "style": "light"
                    },
                    "paper_bgcolor": "white",
                    "plot_bgcolor": "#E5ECF6",
                    "polar": {
                      "angularaxis": {
                        "gridcolor": "white",
                        "linecolor": "white",
                        "ticks": ""
                      },
                      "bgcolor": "#E5ECF6",
                      "radialaxis": {
                        "gridcolor": "white",
                        "linecolor": "white",
                        "ticks": ""
                      }
                    },
                    "scene": {
                      "xaxis": {
                        "backgroundcolor": "#E5ECF6",
                        "gridcolor": "white",
                        "gridwidth": 2,
                        "linecolor": "white",
                        "showbackground": true,
                        "ticks": "",
                        "zerolinecolor": "white"
                      },
                      "yaxis": {
                        "backgroundcolor": "#E5ECF6",
                        "gridcolor": "white",
                        "gridwidth": 2,
                        "linecolor": "white",
                        "showbackground": true,
                        "ticks": "",
                        "zerolinecolor": "white"
                      },
                      "zaxis": {
                        "backgroundcolor": "#E5ECF6",
                        "gridcolor": "white",
                        "gridwidth": 2,
                        "linecolor": "white",
                        "showbackground": true,
                        "ticks": "",
                        "zerolinecolor": "white"
                      }
                    },
                    "shapedefaults": {
                      "line": {
                        "color": "#2a3f5f"
                      }
                    },
                    "ternary": {
                      "aaxis": {
                        "gridcolor": "white",
                        "linecolor": "white",
                        "ticks": ""
                      },
                      "baxis": {
                        "gridcolor": "white",
                        "linecolor": "white",
                        "ticks": ""
                      },
                      "bgcolor": "#E5ECF6",
                      "caxis": {
                        "gridcolor": "white",
                        "linecolor": "white",
                        "ticks": ""
                      }
                    },
                    "title": {
                      "x": 0.05
                    },
                    "xaxis": {
                      "automargin": true,
                      "gridcolor": "white",
                      "linecolor": "white",
                      "ticks": "",
                      "title": {
                        "standoff": 15
                      },
                      "zerolinecolor": "white",
                      "zerolinewidth": 2
                    },
                    "yaxis": {
                      "automargin": true,
                      "gridcolor": "white",
                      "linecolor": "white",
                      "ticks": "",
                      "title": {
                        "standoff": 15
                      },
                      "zerolinecolor": "white",
                      "zerolinewidth": 2
                    }
                  }
                }
              }
            }
          },
          "metadata": {},
          "output_type": "display_data"
        }
      ],
      "source": [
        "fig = go.Figure(go.Scattermapbox(\n",
        "    lat=route_data_ordered['lat'],\n",
        "    lon=route_data_ordered['lng'],\n",
        "    mode='lines',\n",
        "    line=dict(width=2, color='blue'),  # Customize line color and width here\n",
        "    hoverinfo='none'\n",
        "))\n",
        "\n",
        "# Add scatter points for each unique zone_id, with custom hover text\n",
        "for zone_id in route_data_ordered['zone_id'].unique():\n",
        "    df_sub = route_data_ordered[route_data_ordered['zone_id'] == zone_id]\n",
        "\n",
        "    # Creating custom hover text\n",
        "    hover_text = df_sub.apply(lambda row: f\"Sequence: {row.name}<br> Stop ID: {row['stop_id']}<br>Zone ID: {row['zone_id']}<br>Num Packages: {row['num_packages']} <br> Service Time: {row['service_time_seconds']}\", axis=1)\n",
        "\n",
        "\n",
        "    fig.add_trace(go.Scattermapbox(\n",
        "        lat=df_sub['lat'],\n",
        "        lon=df_sub['lng'],\n",
        "        mode='markers',\n",
        "        marker=go.scattermapbox.Marker(size=15),\n",
        "        name=str(zone_id),\n",
        "        text=hover_text,\n",
        "        hoverinfo='text'\n",
        "    ))\n",
        "\n",
        "# Update the layout to use OpenStreetMap style and adjust other layout properties\n",
        "fig.update_layout(\n",
        "\n",
        "    height=600,\n",
        "    mapbox=dict(\n",
        "        style=\"open-street-map\",\n",
        "        zoom=10,  # Adjust zoom level here\n",
        "        center=dict(lat=route_data_ordered['lat'].mean(), lon=route_data_ordered['lng'].mean())\n",
        "    ),\n",
        "    showlegend=False  # Set to True if you want to show legend\n",
        ")\n",
        "fig.update_layout(margin=dict(l=10, r=10, t=10, b=10))\n",
        "\n",
        "\n",
        "# Show the figure\n",
        "fig.show()"
      ]
    },
    {
      "cell_type": "code",
      "execution_count": null,
      "metadata": {},
      "outputs": [
        {
          "ename": "ValueError",
          "evalue": "No objects to concatenate",
          "output_type": "error",
          "traceback": [
            "\u001b[1;31m---------------------------------------------------------------------------\u001b[0m",
            "\u001b[1;31mValueError\u001b[0m                                Traceback (most recent call last)",
            "Cell \u001b[1;32mIn[25], line 1\u001b[0m\n\u001b[1;32m----> 1\u001b[0m drone_data_ordered \u001b[38;5;241m=\u001b[39m \u001b[43mpd\u001b[49m\u001b[38;5;241;43m.\u001b[39;49m\u001b[43mconcat\u001b[49m\u001b[43m(\u001b[49m\u001b[43m[\u001b[49m\u001b[43mroute_data_route_df\u001b[49m\u001b[43m[\u001b[49m\u001b[43mroute_data_route_df\u001b[49m\u001b[43m[\u001b[49m\u001b[38;5;124;43m'\u001b[39;49m\u001b[38;5;124;43mstop_id\u001b[39;49m\u001b[38;5;124;43m'\u001b[39;49m\u001b[43m]\u001b[49m\u001b[43m \u001b[49m\u001b[38;5;241;43m==\u001b[39;49m\u001b[43m \u001b[49m\u001b[43mstop_id\u001b[49m\u001b[43m]\u001b[49m\u001b[43m \u001b[49m\u001b[38;5;28;43;01mfor\u001b[39;49;00m\u001b[43m \u001b[49m\u001b[43mstop_id\u001b[49m\u001b[43m \u001b[49m\u001b[38;5;129;43;01min\u001b[39;49;00m\u001b[43m \u001b[49m\u001b[43mtest\u001b[49m\u001b[38;5;241;43m.\u001b[39;49m\u001b[43mdrone_path\u001b[49m\u001b[43m]\u001b[49m\u001b[43m)\u001b[49m\u001b[38;5;241m.\u001b[39mreset_index(drop\u001b[38;5;241m=\u001b[39m\u001b[38;5;28;01mTrue\u001b[39;00m)\n\u001b[0;32m      2\u001b[0m drone_data_ordered\u001b[38;5;241m.\u001b[39mhead()\n",
            "File \u001b[1;32mc:\\Users\\seanr\\miniforge3\\envs\\random\\lib\\site-packages\\pandas\\core\\reshape\\concat.py:380\u001b[0m, in \u001b[0;36mconcat\u001b[1;34m(objs, axis, join, ignore_index, keys, levels, names, verify_integrity, sort, copy)\u001b[0m\n\u001b[0;32m    377\u001b[0m \u001b[38;5;28;01melif\u001b[39;00m copy \u001b[38;5;129;01mand\u001b[39;00m using_copy_on_write():\n\u001b[0;32m    378\u001b[0m     copy \u001b[38;5;241m=\u001b[39m \u001b[38;5;28;01mFalse\u001b[39;00m\n\u001b[1;32m--> 380\u001b[0m op \u001b[38;5;241m=\u001b[39m \u001b[43m_Concatenator\u001b[49m\u001b[43m(\u001b[49m\n\u001b[0;32m    381\u001b[0m \u001b[43m    \u001b[49m\u001b[43mobjs\u001b[49m\u001b[43m,\u001b[49m\n\u001b[0;32m    382\u001b[0m \u001b[43m    \u001b[49m\u001b[43maxis\u001b[49m\u001b[38;5;241;43m=\u001b[39;49m\u001b[43maxis\u001b[49m\u001b[43m,\u001b[49m\n\u001b[0;32m    383\u001b[0m \u001b[43m    \u001b[49m\u001b[43mignore_index\u001b[49m\u001b[38;5;241;43m=\u001b[39;49m\u001b[43mignore_index\u001b[49m\u001b[43m,\u001b[49m\n\u001b[0;32m    384\u001b[0m \u001b[43m    \u001b[49m\u001b[43mjoin\u001b[49m\u001b[38;5;241;43m=\u001b[39;49m\u001b[43mjoin\u001b[49m\u001b[43m,\u001b[49m\n\u001b[0;32m    385\u001b[0m \u001b[43m    \u001b[49m\u001b[43mkeys\u001b[49m\u001b[38;5;241;43m=\u001b[39;49m\u001b[43mkeys\u001b[49m\u001b[43m,\u001b[49m\n\u001b[0;32m    386\u001b[0m \u001b[43m    \u001b[49m\u001b[43mlevels\u001b[49m\u001b[38;5;241;43m=\u001b[39;49m\u001b[43mlevels\u001b[49m\u001b[43m,\u001b[49m\n\u001b[0;32m    387\u001b[0m \u001b[43m    \u001b[49m\u001b[43mnames\u001b[49m\u001b[38;5;241;43m=\u001b[39;49m\u001b[43mnames\u001b[49m\u001b[43m,\u001b[49m\n\u001b[0;32m    388\u001b[0m \u001b[43m    \u001b[49m\u001b[43mverify_integrity\u001b[49m\u001b[38;5;241;43m=\u001b[39;49m\u001b[43mverify_integrity\u001b[49m\u001b[43m,\u001b[49m\n\u001b[0;32m    389\u001b[0m \u001b[43m    \u001b[49m\u001b[43mcopy\u001b[49m\u001b[38;5;241;43m=\u001b[39;49m\u001b[43mcopy\u001b[49m\u001b[43m,\u001b[49m\n\u001b[0;32m    390\u001b[0m \u001b[43m    \u001b[49m\u001b[43msort\u001b[49m\u001b[38;5;241;43m=\u001b[39;49m\u001b[43msort\u001b[49m\u001b[43m,\u001b[49m\n\u001b[0;32m    391\u001b[0m \u001b[43m\u001b[49m\u001b[43m)\u001b[49m\n\u001b[0;32m    393\u001b[0m \u001b[38;5;28;01mreturn\u001b[39;00m op\u001b[38;5;241m.\u001b[39mget_result()\n",
            "File \u001b[1;32mc:\\Users\\seanr\\miniforge3\\envs\\random\\lib\\site-packages\\pandas\\core\\reshape\\concat.py:443\u001b[0m, in \u001b[0;36m_Concatenator.__init__\u001b[1;34m(self, objs, axis, join, keys, levels, names, ignore_index, verify_integrity, copy, sort)\u001b[0m\n\u001b[0;32m    440\u001b[0m \u001b[38;5;28mself\u001b[39m\u001b[38;5;241m.\u001b[39mverify_integrity \u001b[38;5;241m=\u001b[39m verify_integrity\n\u001b[0;32m    441\u001b[0m \u001b[38;5;28mself\u001b[39m\u001b[38;5;241m.\u001b[39mcopy \u001b[38;5;241m=\u001b[39m copy\n\u001b[1;32m--> 443\u001b[0m objs, keys \u001b[38;5;241m=\u001b[39m \u001b[38;5;28;43mself\u001b[39;49m\u001b[38;5;241;43m.\u001b[39;49m\u001b[43m_clean_keys_and_objs\u001b[49m\u001b[43m(\u001b[49m\u001b[43mobjs\u001b[49m\u001b[43m,\u001b[49m\u001b[43m \u001b[49m\u001b[43mkeys\u001b[49m\u001b[43m)\u001b[49m\n\u001b[0;32m    445\u001b[0m \u001b[38;5;66;03m# figure out what our result ndim is going to be\u001b[39;00m\n\u001b[0;32m    446\u001b[0m ndims \u001b[38;5;241m=\u001b[39m \u001b[38;5;28mself\u001b[39m\u001b[38;5;241m.\u001b[39m_get_ndims(objs)\n",
            "File \u001b[1;32mc:\\Users\\seanr\\miniforge3\\envs\\random\\lib\\site-packages\\pandas\\core\\reshape\\concat.py:505\u001b[0m, in \u001b[0;36m_Concatenator._clean_keys_and_objs\u001b[1;34m(self, objs, keys)\u001b[0m\n\u001b[0;32m    502\u001b[0m     objs_list \u001b[38;5;241m=\u001b[39m \u001b[38;5;28mlist\u001b[39m(objs)\n\u001b[0;32m    504\u001b[0m \u001b[38;5;28;01mif\u001b[39;00m \u001b[38;5;28mlen\u001b[39m(objs_list) \u001b[38;5;241m==\u001b[39m \u001b[38;5;241m0\u001b[39m:\n\u001b[1;32m--> 505\u001b[0m     \u001b[38;5;28;01mraise\u001b[39;00m \u001b[38;5;167;01mValueError\u001b[39;00m(\u001b[38;5;124m\"\u001b[39m\u001b[38;5;124mNo objects to concatenate\u001b[39m\u001b[38;5;124m\"\u001b[39m)\n\u001b[0;32m    507\u001b[0m \u001b[38;5;28;01mif\u001b[39;00m keys \u001b[38;5;129;01mis\u001b[39;00m \u001b[38;5;28;01mNone\u001b[39;00m:\n\u001b[0;32m    508\u001b[0m     objs_list \u001b[38;5;241m=\u001b[39m \u001b[38;5;28mlist\u001b[39m(com\u001b[38;5;241m.\u001b[39mnot_none(\u001b[38;5;241m*\u001b[39mobjs_list))\n",
            "\u001b[1;31mValueError\u001b[0m: No objects to concatenate"
          ]
        }
      ],
      "source": [
        "drone_data_ordered = pd.concat([route_data_route_df[route_data_route_df['stop_id'] == stop_id] for stop_id in test.drone_path]).reset_index(drop=True)\n",
        "drone_data_ordered.head()"
      ]
    },
    {
      "cell_type": "code",
      "execution_count": null,
      "metadata": {},
      "outputs": [
        {
          "data": {
            "application/vnd.plotly.v1+json": {
              "config": {
                "plotlyServerURL": "https://plot.ly"
              },
              "data": [
                {
                  "hoverinfo": "none",
                  "lat": [
                    42.139891,
                    42.139089,
                    42.138518,
                    42.138304,
                    42.138168,
                    42.138013,
                    42.138592,
                    42.139661,
                    42.141271,
                    42.141481,
                    42.142625,
                    42.140573,
                    42.142932,
                    42.143604,
                    42.141526,
                    42.143284,
                    42.13807,
                    42.136668,
                    42.136174,
                    42.139035,
                    42.138027,
                    42.138476,
                    42.137425,
                    42.138349,
                    42.139095,
                    42.140455,
                    42.141612,
                    42.140229,
                    42.139733,
                    42.139294,
                    42.137706,
                    42.136912,
                    42.136227,
                    42.136319,
                    42.133937,
                    42.13382,
                    42.132317,
                    42.131921,
                    42.131869,
                    42.131323,
                    42.131486,
                    42.131001,
                    42.129566,
                    42.128268,
                    42.127848,
                    42.125992,
                    42.125514,
                    42.129766,
                    42.124032,
                    42.124038,
                    42.124369,
                    42.125778,
                    42.12044,
                    42.117772,
                    42.120766,
                    42.120975,
                    42.11705,
                    42.121051,
                    42.120341,
                    42.120591,
                    42.124123,
                    42.127365,
                    42.128388,
                    42.129426,
                    42.130843,
                    42.131783,
                    42.129839,
                    42.135489,
                    42.131202,
                    42.126641,
                    42.125951,
                    42.12566,
                    42.128049,
                    42.1282,
                    42.125649,
                    42.116133,
                    42.110929,
                    42.110252,
                    42.108828,
                    42.110475,
                    42.102702,
                    42.101216,
                    42.101589,
                    42.101403,
                    42.101185,
                    42.100946,
                    42.105719,
                    42.106275,
                    42.09994,
                    42.098301,
                    42.091701,
                    42.093273,
                    42.096478,
                    42.097525,
                    42.097741,
                    42.089222,
                    42.089052,
                    42.08848,
                    42.087781,
                    42.087774,
                    42.085539,
                    42.083353,
                    42.082898,
                    42.081163,
                    42.08066,
                    42.080541,
                    42.088684,
                    42.08376,
                    42.084195,
                    42.082837,
                    42.080895,
                    42.08229,
                    42.088175,
                    42.089674,
                    42.086827,
                    42.07244,
                    42.071516,
                    42.07397,
                    42.08234,
                    42.084637,
                    42.086276,
                    42.091579,
                    42.071217,
                    42.068769,
                    42.065299,
                    42.066053,
                    42.066606,
                    42.067098,
                    42.069052,
                    42.098311,
                    42.100858,
                    42.09491,
                    42.094155,
                    42.09345,
                    42.0928,
                    42.117964,
                    42.11913,
                    42.122523,
                    42.122976,
                    42.120684,
                    42.120485,
                    42.119914,
                    42.117205,
                    42.117445,
                    42.115553,
                    42.112118,
                    42.131043,
                    42.13004,
                    42.130505,
                    42.13111,
                    42.133742,
                    42.140655,
                    42.149406,
                    42.150955,
                    42.150434,
                    42.152468,
                    42.153178,
                    42.148646,
                    42.148227,
                    42.147267,
                    42.145646,
                    42.148971,
                    42.139891
                  ],
                  "line": {
                    "color": "blue",
                    "width": 2
                  },
                  "lon": [
                    -71.494346,
                    -71.524434,
                    -71.525506,
                    -71.525361,
                    -71.529156,
                    -71.530182,
                    -71.53235,
                    -71.529452,
                    -71.528049,
                    -71.528133,
                    -71.529995,
                    -71.531935,
                    -71.533622,
                    -71.534119,
                    -71.534137,
                    -71.531322,
                    -71.533233,
                    -71.53178,
                    -71.531294,
                    -71.536231,
                    -71.539181,
                    -71.540799,
                    -71.54024,
                    -71.54241,
                    -71.542843,
                    -71.543684,
                    -71.545708,
                    -71.546878,
                    -71.547296,
                    -71.546923,
                    -71.545586,
                    -71.544912,
                    -71.544317,
                    -71.542944,
                    -71.542708,
                    -71.54095,
                    -71.539959,
                    -71.540795,
                    -71.539325,
                    -71.538877,
                    -71.539641,
                    -71.538114,
                    -71.540988,
                    -71.53879,
                    -71.538338,
                    -71.536422,
                    -71.535994,
                    -71.536633,
                    -71.540927,
                    -71.544102,
                    -71.545108,
                    -71.546615,
                    -71.542705,
                    -71.544013,
                    -71.543204,
                    -71.544163,
                    -71.547049,
                    -71.545773,
                    -71.549171,
                    -71.551675,
                    -71.550611,
                    -71.551967,
                    -71.55112,
                    -71.553551,
                    -71.55611,
                    -71.552378,
                    -71.556861,
                    -71.561803,
                    -71.571969,
                    -71.571935,
                    -71.572483,
                    -71.57254,
                    -71.578627,
                    -71.578917,
                    -71.568811,
                    -71.566586,
                    -71.556253,
                    -71.555689,
                    -71.562421,
                    -71.56499,
                    -71.553805,
                    -71.555481,
                    -71.556043,
                    -71.556447,
                    -71.551259,
                    -71.551314,
                    -71.544234,
                    -71.540355,
                    -71.541582,
                    -71.540291,
                    -71.529757,
                    -71.522541,
                    -71.525742,
                    -71.526315,
                    -71.528215,
                    -71.533181,
                    -71.533044,
                    -71.5326,
                    -71.534642,
                    -71.534656,
                    -71.545158,
                    -71.547355,
                    -71.54777,
                    -71.548001,
                    -71.549721,
                    -71.551435,
                    -71.545654,
                    -71.551694,
                    -71.55201,
                    -71.555256,
                    -71.556956,
                    -71.559,
                    -71.554347,
                    -71.55466,
                    -71.55235,
                    -71.553688,
                    -71.55374,
                    -71.551047,
                    -71.569138,
                    -71.565057,
                    -71.564665,
                    -71.562969,
                    -71.569623,
                    -71.568176,
                    -71.56307,
                    -71.560007,
                    -71.560328,
                    -71.561395,
                    -71.570989,
                    -71.565798,
                    -71.569223,
                    -71.567879,
                    -71.567809,
                    -71.570252,
                    -71.57135,
                    -71.573898,
                    -71.574056,
                    -71.574733,
                    -71.574975,
                    -71.578937,
                    -71.577536,
                    -71.575428,
                    -71.574765,
                    -71.579092,
                    -71.587857,
                    -71.597602,
                    -71.547647,
                    -71.547106,
                    -71.546481,
                    -71.546931,
                    -71.546182,
                    -71.536264,
                    -71.541475,
                    -71.543177,
                    -71.543739,
                    -71.545145,
                    -71.544067,
                    -71.542931,
                    -71.542674,
                    -71.540911,
                    -71.539764,
                    -71.544248,
                    -71.494346
                  ],
                  "mode": "lines",
                  "type": "scattermapbox"
                },
                {
                  "hoverinfo": "text",
                  "lat": [],
                  "lon": [],
                  "marker": {
                    "size": 15
                  },
                  "mode": "markers",
                  "name": "nan",
                  "text": [],
                  "type": "scattermapbox"
                },
                {
                  "hoverinfo": "text",
                  "lat": [
                    42.139089,
                    42.138518,
                    42.138304,
                    42.138168,
                    42.138013,
                    42.138592,
                    42.139661,
                    42.141271,
                    42.141481,
                    42.142625
                  ],
                  "lon": [
                    -71.524434,
                    -71.525506,
                    -71.525361,
                    -71.529156,
                    -71.530182,
                    -71.53235,
                    -71.529452,
                    -71.528049,
                    -71.528133,
                    -71.529995
                  ],
                  "marker": {
                    "size": 15
                  },
                  "mode": "markers",
                  "name": "E-1.1H",
                  "text": [
                    "Sequence: 1<br> Stop ID: VU<br>Zone ID: E-1.1H<br>Num Packages: 1.0 <br> Service Time: 111.0",
                    "Sequence: 2<br> Stop ID: ZP<br>Zone ID: E-1.1H<br>Num Packages: 2.0 <br> Service Time: 90.5",
                    "Sequence: 3<br> Stop ID: KH<br>Zone ID: E-1.1H<br>Num Packages: 1.0 <br> Service Time: 71.0",
                    "Sequence: 4<br> Stop ID: WW<br>Zone ID: E-1.1H<br>Num Packages: 2.0 <br> Service Time: 73.0",
                    "Sequence: 5<br> Stop ID: QC<br>Zone ID: E-1.1H<br>Num Packages: 2.0 <br> Service Time: 146.0",
                    "Sequence: 6<br> Stop ID: JE<br>Zone ID: E-1.1H<br>Num Packages: 1.0 <br> Service Time: 104.0",
                    "Sequence: 7<br> Stop ID: FS<br>Zone ID: E-1.1H<br>Num Packages: 2.0 <br> Service Time: 108.0",
                    "Sequence: 8<br> Stop ID: BJ<br>Zone ID: E-1.1H<br>Num Packages: 1.0 <br> Service Time: 62.0",
                    "Sequence: 9<br> Stop ID: IQ<br>Zone ID: E-1.1H<br>Num Packages: 1.0 <br> Service Time: 42.0",
                    "Sequence: 10<br> Stop ID: FV<br>Zone ID: E-1.1H<br>Num Packages: 1.0 <br> Service Time: 78.0"
                  ],
                  "type": "scattermapbox"
                },
                {
                  "hoverinfo": "text",
                  "lat": [
                    42.140573,
                    42.142932,
                    42.143604,
                    42.141526,
                    42.143284,
                    42.13807
                  ],
                  "lon": [
                    -71.531935,
                    -71.533622,
                    -71.534119,
                    -71.534137,
                    -71.531322,
                    -71.533233
                  ],
                  "marker": {
                    "size": 15
                  },
                  "mode": "markers",
                  "name": "E-1.1G",
                  "text": [
                    "Sequence: 11<br> Stop ID: XO<br>Zone ID: E-1.1G<br>Num Packages: 1.0 <br> Service Time: 32.0",
                    "Sequence: 12<br> Stop ID: MX<br>Zone ID: E-1.1G<br>Num Packages: 1.0 <br> Service Time: 52.0",
                    "Sequence: 13<br> Stop ID: CF<br>Zone ID: E-1.1G<br>Num Packages: 1.0 <br> Service Time: 250.0",
                    "Sequence: 14<br> Stop ID: YV<br>Zone ID: E-1.1G<br>Num Packages: 1.0 <br> Service Time: 50.0",
                    "Sequence: 15<br> Stop ID: CY<br>Zone ID: E-1.1G<br>Num Packages: 1.0 <br> Service Time: 87.0",
                    "Sequence: 16<br> Stop ID: JQ<br>Zone ID: E-1.1G<br>Num Packages: 1.0 <br> Service Time: 370.0"
                  ],
                  "type": "scattermapbox"
                },
                {
                  "hoverinfo": "text",
                  "lat": [
                    42.136668,
                    42.136174,
                    42.139035,
                    42.138027,
                    42.138476,
                    42.137425,
                    42.138349,
                    42.139095,
                    42.140455,
                    42.141612
                  ],
                  "lon": [
                    -71.53178,
                    -71.531294,
                    -71.536231,
                    -71.539181,
                    -71.540799,
                    -71.54024,
                    -71.54241,
                    -71.542843,
                    -71.543684,
                    -71.545708
                  ],
                  "marker": {
                    "size": 15
                  },
                  "mode": "markers",
                  "name": "E-1.2H",
                  "text": [
                    "Sequence: 17<br> Stop ID: DZ<br>Zone ID: E-1.2H<br>Num Packages: 1.0 <br> Service Time: 102.0",
                    "Sequence: 18<br> Stop ID: CN<br>Zone ID: E-1.2H<br>Num Packages: 2.0 <br> Service Time: 64.0",
                    "Sequence: 19<br> Stop ID: VM<br>Zone ID: E-1.2H<br>Num Packages: 1.0 <br> Service Time: 221.0",
                    "Sequence: 20<br> Stop ID: XG<br>Zone ID: E-1.2H<br>Num Packages: 3.0 <br> Service Time: 60.0",
                    "Sequence: 21<br> Stop ID: DX<br>Zone ID: E-1.2H<br>Num Packages: 1.0 <br> Service Time: 83.0",
                    "Sequence: 22<br> Stop ID: BE<br>Zone ID: E-1.2H<br>Num Packages: 2.0 <br> Service Time: 72.5",
                    "Sequence: 23<br> Stop ID: AG<br>Zone ID: E-1.2H<br>Num Packages: 2.0 <br> Service Time: 62.5",
                    "Sequence: 24<br> Stop ID: KY<br>Zone ID: E-1.2H<br>Num Packages: 1.0 <br> Service Time: 98.0",
                    "Sequence: 25<br> Stop ID: KR<br>Zone ID: E-1.2H<br>Num Packages: 1.0 <br> Service Time: 52.0",
                    "Sequence: 26<br> Stop ID: BX<br>Zone ID: E-1.2H<br>Num Packages: 1.0 <br> Service Time: 65.0"
                  ],
                  "type": "scattermapbox"
                },
                {
                  "hoverinfo": "text",
                  "lat": [
                    42.140229,
                    42.139733,
                    42.139294,
                    42.137706,
                    42.136912,
                    42.136227,
                    42.136319
                  ],
                  "lon": [
                    -71.546878,
                    -71.547296,
                    -71.546923,
                    -71.545586,
                    -71.544912,
                    -71.544317,
                    -71.542944
                  ],
                  "marker": {
                    "size": 15
                  },
                  "mode": "markers",
                  "name": "E-1.3H",
                  "text": [
                    "Sequence: 27<br> Stop ID: IE<br>Zone ID: E-1.3H<br>Num Packages: 2.0 <br> Service Time: 99.0",
                    "Sequence: 28<br> Stop ID: YH<br>Zone ID: E-1.3H<br>Num Packages: 1.0 <br> Service Time: 111.0",
                    "Sequence: 29<br> Stop ID: BP<br>Zone ID: E-1.3H<br>Num Packages: 1.0 <br> Service Time: 80.0",
                    "Sequence: 30<br> Stop ID: LL<br>Zone ID: E-1.3H<br>Num Packages: 1.0 <br> Service Time: 58.0",
                    "Sequence: 31<br> Stop ID: TR<br>Zone ID: E-1.3H<br>Num Packages: 1.0 <br> Service Time: 135.0",
                    "Sequence: 32<br> Stop ID: PB<br>Zone ID: E-1.3H<br>Num Packages: 1.0 <br> Service Time: 84.0",
                    "Sequence: 33<br> Stop ID: XQ<br>Zone ID: E-1.3H<br>Num Packages: 1.0 <br> Service Time: 107.0"
                  ],
                  "type": "scattermapbox"
                },
                {
                  "hoverinfo": "text",
                  "lat": [
                    42.133937,
                    42.131043,
                    42.13004,
                    42.130505,
                    42.13111,
                    42.133742
                  ],
                  "lon": [
                    -71.542708,
                    -71.547647,
                    -71.547106,
                    -71.546481,
                    -71.546931,
                    -71.546182
                  ],
                  "marker": {
                    "size": 15
                  },
                  "mode": "markers",
                  "name": "E-1.3J",
                  "text": [
                    "Sequence: 34<br> Stop ID: UW<br>Zone ID: E-1.3J<br>Num Packages: 1.0 <br> Service Time: 78.0",
                    "Sequence: 146<br> Stop ID: AZ<br>Zone ID: E-1.3J<br>Num Packages: 2.0 <br> Service Time: 68.5",
                    "Sequence: 147<br> Stop ID: OU<br>Zone ID: E-1.3J<br>Num Packages: 1.0 <br> Service Time: 76.0",
                    "Sequence: 148<br> Stop ID: II<br>Zone ID: E-1.3J<br>Num Packages: 1.0 <br> Service Time: 46.0",
                    "Sequence: 149<br> Stop ID: ZL<br>Zone ID: E-1.3J<br>Num Packages: 1.0 <br> Service Time: 172.0",
                    "Sequence: 150<br> Stop ID: CE<br>Zone ID: E-1.3J<br>Num Packages: 1.0 <br> Service Time: 71.0"
                  ],
                  "type": "scattermapbox"
                },
                {
                  "hoverinfo": "text",
                  "lat": [
                    42.13382,
                    42.132317,
                    42.131921,
                    42.131869,
                    42.131323,
                    42.131486,
                    42.131001,
                    42.129566,
                    42.128268,
                    42.127848,
                    42.125992,
                    42.125514,
                    42.129766
                  ],
                  "lon": [
                    -71.54095,
                    -71.539959,
                    -71.540795,
                    -71.539325,
                    -71.538877,
                    -71.539641,
                    -71.538114,
                    -71.540988,
                    -71.53879,
                    -71.538338,
                    -71.536422,
                    -71.535994,
                    -71.536633
                  ],
                  "marker": {
                    "size": 15
                  },
                  "mode": "markers",
                  "name": "E-1.2J",
                  "text": [
                    "Sequence: 35<br> Stop ID: LG<br>Zone ID: E-1.2J<br>Num Packages: 1.0 <br> Service Time: 146.0",
                    "Sequence: 36<br> Stop ID: PQ<br>Zone ID: E-1.2J<br>Num Packages: 1.0 <br> Service Time: 82.0",
                    "Sequence: 37<br> Stop ID: HO<br>Zone ID: E-1.2J<br>Num Packages: 1.0 <br> Service Time: 314.0",
                    "Sequence: 38<br> Stop ID: FQ<br>Zone ID: E-1.2J<br>Num Packages: 1.0 <br> Service Time: 71.0",
                    "Sequence: 39<br> Stop ID: WV<br>Zone ID: E-1.2J<br>Num Packages: 1.0 <br> Service Time: 45.0",
                    "Sequence: 40<br> Stop ID: WR<br>Zone ID: E-1.2J<br>Num Packages: 1.0 <br> Service Time: 49.0",
                    "Sequence: 41<br> Stop ID: AC<br>Zone ID: E-1.2J<br>Num Packages: 1.0 <br> Service Time: 65.0",
                    "Sequence: 42<br> Stop ID: DL<br>Zone ID: E-1.2J<br>Num Packages: 1.0 <br> Service Time: 206.0",
                    "Sequence: 43<br> Stop ID: BT<br>Zone ID: E-1.2J<br>Num Packages: 1.0 <br> Service Time: 104.0",
                    "Sequence: 44<br> Stop ID: GQ<br>Zone ID: E-1.2J<br>Num Packages: 1.0 <br> Service Time: 87.0",
                    "Sequence: 45<br> Stop ID: BN<br>Zone ID: E-1.2J<br>Num Packages: 1.0 <br> Service Time: 118.0",
                    "Sequence: 46<br> Stop ID: UY<br>Zone ID: E-1.2J<br>Num Packages: 1.0 <br> Service Time: 100.0",
                    "Sequence: 47<br> Stop ID: NY<br>Zone ID: E-1.2J<br>Num Packages: 2.0 <br> Service Time: 48.5"
                  ],
                  "type": "scattermapbox"
                },
                {
                  "hoverinfo": "text",
                  "lat": [
                    42.124032,
                    42.124038,
                    42.124369,
                    42.125778,
                    42.12044,
                    42.117772,
                    42.120766,
                    42.120975,
                    42.11705
                  ],
                  "lon": [
                    -71.540927,
                    -71.544102,
                    -71.545108,
                    -71.546615,
                    -71.542705,
                    -71.544013,
                    -71.543204,
                    -71.544163,
                    -71.547049
                  ],
                  "marker": {
                    "size": 15
                  },
                  "mode": "markers",
                  "name": "E-1.1J",
                  "text": [
                    "Sequence: 48<br> Stop ID: SE<br>Zone ID: E-1.1J<br>Num Packages: 1.0 <br> Service Time: 50.0",
                    "Sequence: 49<br> Stop ID: YG<br>Zone ID: E-1.1J<br>Num Packages: 2.0 <br> Service Time: 38.5",
                    "Sequence: 50<br> Stop ID: CW<br>Zone ID: E-1.1J<br>Num Packages: 1.0 <br> Service Time: 73.0",
                    "Sequence: 51<br> Stop ID: UE<br>Zone ID: E-1.1J<br>Num Packages: 1.0 <br> Service Time: 56.0",
                    "Sequence: 52<br> Stop ID: FT<br>Zone ID: E-1.1J<br>Num Packages: 1.0 <br> Service Time: 105.0",
                    "Sequence: 53<br> Stop ID: FI<br>Zone ID: E-1.1J<br>Num Packages: 1.0 <br> Service Time: 65.0",
                    "Sequence: 54<br> Stop ID: US<br>Zone ID: E-1.1J<br>Num Packages: 1.0 <br> Service Time: 312.0",
                    "Sequence: 55<br> Stop ID: DN<br>Zone ID: E-1.1J<br>Num Packages: 2.0 <br> Service Time: 59.0",
                    "Sequence: 56<br> Stop ID: CX<br>Zone ID: E-1.1J<br>Num Packages: 1.0 <br> Service Time: 162.0"
                  ],
                  "type": "scattermapbox"
                },
                {
                  "hoverinfo": "text",
                  "lat": [
                    42.121051,
                    42.120341,
                    42.120591,
                    42.124123,
                    42.127365,
                    42.128388,
                    42.129426,
                    42.130843,
                    42.131783
                  ],
                  "lon": [
                    -71.545773,
                    -71.549171,
                    -71.551675,
                    -71.550611,
                    -71.551967,
                    -71.55112,
                    -71.553551,
                    -71.55611,
                    -71.552378
                  ],
                  "marker": {
                    "size": 15
                  },
                  "mode": "markers",
                  "name": "E-2.1J",
                  "text": [
                    "Sequence: 57<br> Stop ID: TL<br>Zone ID: E-2.1J<br>Num Packages: 3.0 <br> Service Time: 74.7",
                    "Sequence: 58<br> Stop ID: SU<br>Zone ID: E-2.1J<br>Num Packages: 1.0 <br> Service Time: 134.0",
                    "Sequence: 59<br> Stop ID: JL<br>Zone ID: E-2.1J<br>Num Packages: 1.0 <br> Service Time: 136.0",
                    "Sequence: 60<br> Stop ID: UI<br>Zone ID: E-2.1J<br>Num Packages: 2.0 <br> Service Time: 76.0",
                    "Sequence: 61<br> Stop ID: NL<br>Zone ID: E-2.1J<br>Num Packages: 1.0 <br> Service Time: 67.0",
                    "Sequence: 62<br> Stop ID: BZ<br>Zone ID: E-2.1J<br>Num Packages: 1.0 <br> Service Time: 81.0",
                    "Sequence: 63<br> Stop ID: ZX<br>Zone ID: E-2.1J<br>Num Packages: 1.0 <br> Service Time: 71.0",
                    "Sequence: 64<br> Stop ID: YR<br>Zone ID: E-2.1J<br>Num Packages: 2.0 <br> Service Time: 51.5",
                    "Sequence: 65<br> Stop ID: DI<br>Zone ID: E-2.1J<br>Num Packages: 1.0 <br> Service Time: 56.0"
                  ],
                  "type": "scattermapbox"
                },
                {
                  "hoverinfo": "text",
                  "lat": [
                    42.129839,
                    42.135489,
                    42.131202,
                    42.126641,
                    42.125951,
                    42.12566,
                    42.128049,
                    42.1282
                  ],
                  "lon": [
                    -71.556861,
                    -71.561803,
                    -71.571969,
                    -71.571935,
                    -71.572483,
                    -71.57254,
                    -71.578627,
                    -71.578917
                  ],
                  "marker": {
                    "size": 15
                  },
                  "mode": "markers",
                  "name": "E-2.2J",
                  "text": [
                    "Sequence: 66<br> Stop ID: ZV<br>Zone ID: E-2.2J<br>Num Packages: 1.0 <br> Service Time: 172.0",
                    "Sequence: 67<br> Stop ID: UJ<br>Zone ID: E-2.2J<br>Num Packages: 1.0 <br> Service Time: 99.0",
                    "Sequence: 68<br> Stop ID: WM<br>Zone ID: E-2.2J<br>Num Packages: 1.0 <br> Service Time: 172.0",
                    "Sequence: 69<br> Stop ID: NG<br>Zone ID: E-2.2J<br>Num Packages: 1.0 <br> Service Time: 68.0",
                    "Sequence: 70<br> Stop ID: ST<br>Zone ID: E-2.2J<br>Num Packages: 1.0 <br> Service Time: 146.0",
                    "Sequence: 71<br> Stop ID: CU<br>Zone ID: E-2.2J<br>Num Packages: 1.0 <br> Service Time: 59.0",
                    "Sequence: 72<br> Stop ID: AP<br>Zone ID: E-2.2J<br>Num Packages: 1.0 <br> Service Time: 100.0",
                    "Sequence: 73<br> Stop ID: KL<br>Zone ID: E-2.2J<br>Num Packages: 1.0 <br> Service Time: 96.0"
                  ],
                  "type": "scattermapbox"
                },
                {
                  "hoverinfo": "text",
                  "lat": [
                    42.125649,
                    42.116133,
                    42.110929,
                    42.110252,
                    42.108828,
                    42.110475,
                    42.102702,
                    42.101216,
                    42.101589,
                    42.101403
                  ],
                  "lon": [
                    -71.568811,
                    -71.566586,
                    -71.556253,
                    -71.555689,
                    -71.562421,
                    -71.56499,
                    -71.553805,
                    -71.555481,
                    -71.556043,
                    -71.556447
                  ],
                  "marker": {
                    "size": 15
                  },
                  "mode": "markers",
                  "name": "E-2.3H",
                  "text": [
                    "Sequence: 74<br> Stop ID: OJ<br>Zone ID: E-2.3H<br>Num Packages: 1.0 <br> Service Time: 103.0",
                    "Sequence: 75<br> Stop ID: ZG<br>Zone ID: E-2.3H<br>Num Packages: 2.0 <br> Service Time: 98.0",
                    "Sequence: 76<br> Stop ID: TO<br>Zone ID: E-2.3H<br>Num Packages: 1.0 <br> Service Time: 93.0",
                    "Sequence: 77<br> Stop ID: AD<br>Zone ID: E-2.3H<br>Num Packages: 1.0 <br> Service Time: 75.0",
                    "Sequence: 78<br> Stop ID: GE<br>Zone ID: E-2.3H<br>Num Packages: 1.0 <br> Service Time: 100.0",
                    "Sequence: 79<br> Stop ID: EY<br>Zone ID: E-2.3H<br>Num Packages: 1.0 <br> Service Time: 79.0",
                    "Sequence: 80<br> Stop ID: OM<br>Zone ID: E-2.3H<br>Num Packages: 1.0 <br> Service Time: 31.0",
                    "Sequence: 81<br> Stop ID: SR<br>Zone ID: E-2.3H<br>Num Packages: 1.0 <br> Service Time: 82.0",
                    "Sequence: 82<br> Stop ID: XU<br>Zone ID: E-2.3H<br>Num Packages: 1.0 <br> Service Time: 105.0",
                    "Sequence: 83<br> Stop ID: JU<br>Zone ID: E-2.3H<br>Num Packages: 1.0 <br> Service Time: 57.0"
                  ],
                  "type": "scattermapbox"
                },
                {
                  "hoverinfo": "text",
                  "lat": [
                    42.101185,
                    42.100946,
                    42.08376,
                    42.084195,
                    42.082837,
                    42.080895,
                    42.08229,
                    42.088175,
                    42.089674,
                    42.086827,
                    42.07244,
                    42.071516,
                    42.07397
                  ],
                  "lon": [
                    -71.551259,
                    -71.551314,
                    -71.551694,
                    -71.55201,
                    -71.555256,
                    -71.556956,
                    -71.559,
                    -71.554347,
                    -71.55466,
                    -71.55235,
                    -71.553688,
                    -71.55374,
                    -71.551047
                  ],
                  "marker": {
                    "size": 15
                  },
                  "mode": "markers",
                  "name": "E-2.1G",
                  "text": [
                    "Sequence: 84<br> Stop ID: NB<br>Zone ID: E-2.1G<br>Num Packages: 1.0 <br> Service Time: 76.0",
                    "Sequence: 85<br> Stop ID: TJ<br>Zone ID: E-2.1G<br>Num Packages: 1.0 <br> Service Time: 78.0",
                    "Sequence: 107<br> Stop ID: JZ<br>Zone ID: E-2.1G<br>Num Packages: 1.0 <br> Service Time: 175.0",
                    "Sequence: 108<br> Stop ID: PU<br>Zone ID: E-2.1G<br>Num Packages: 2.0 <br> Service Time: 71.5",
                    "Sequence: 109<br> Stop ID: KX<br>Zone ID: E-2.1G<br>Num Packages: 1.0 <br> Service Time: 113.0",
                    "Sequence: 110<br> Stop ID: ZO<br>Zone ID: E-2.1G<br>Num Packages: 1.0 <br> Service Time: 148.0",
                    "Sequence: 111<br> Stop ID: FL<br>Zone ID: E-2.1G<br>Num Packages: 1.0 <br> Service Time: 121.0",
                    "Sequence: 112<br> Stop ID: ND<br>Zone ID: E-2.1G<br>Num Packages: 1.0 <br> Service Time: 142.0",
                    "Sequence: 113<br> Stop ID: NW<br>Zone ID: E-2.1G<br>Num Packages: 1.0 <br> Service Time: 102.0",
                    "Sequence: 114<br> Stop ID: QO<br>Zone ID: E-2.1G<br>Num Packages: 1.0 <br> Service Time: 82.0",
                    "Sequence: 115<br> Stop ID: OE<br>Zone ID: E-2.1G<br>Num Packages: 2.0 <br> Service Time: 79.0",
                    "Sequence: 116<br> Stop ID: NH<br>Zone ID: E-2.1G<br>Num Packages: 1.0 <br> Service Time: 74.0",
                    "Sequence: 117<br> Stop ID: SM<br>Zone ID: E-2.1G<br>Num Packages: 1.0 <br> Service Time: 71.0"
                  ],
                  "type": "scattermapbox"
                },
                {
                  "hoverinfo": "text",
                  "lat": [
                    42.105719,
                    42.106275,
                    42.09994,
                    42.098301,
                    42.091701,
                    42.093273,
                    42.096478,
                    42.097525,
                    42.097741,
                    42.089222,
                    42.089052,
                    42.08848,
                    42.087781,
                    42.087774
                  ],
                  "lon": [
                    -71.544234,
                    -71.540355,
                    -71.541582,
                    -71.540291,
                    -71.529757,
                    -71.522541,
                    -71.525742,
                    -71.526315,
                    -71.528215,
                    -71.533181,
                    -71.533044,
                    -71.5326,
                    -71.534642,
                    -71.534656
                  ],
                  "marker": {
                    "size": 15
                  },
                  "mode": "markers",
                  "name": "E-2.3G",
                  "text": [
                    "Sequence: 86<br> Stop ID: QZ<br>Zone ID: E-2.3G<br>Num Packages: 1.0 <br> Service Time: 45.0",
                    "Sequence: 87<br> Stop ID: SZ<br>Zone ID: E-2.3G<br>Num Packages: 2.0 <br> Service Time: 33.5",
                    "Sequence: 88<br> Stop ID: TP<br>Zone ID: E-2.3G<br>Num Packages: 1.0 <br> Service Time: 66.0",
                    "Sequence: 89<br> Stop ID: VT<br>Zone ID: E-2.3G<br>Num Packages: 1.0 <br> Service Time: 101.0",
                    "Sequence: 90<br> Stop ID: IC<br>Zone ID: E-2.3G<br>Num Packages: 1.0 <br> Service Time: 86.0",
                    "Sequence: 91<br> Stop ID: QU<br>Zone ID: E-2.3G<br>Num Packages: 1.0 <br> Service Time: 63.0",
                    "Sequence: 92<br> Stop ID: YE<br>Zone ID: E-2.3G<br>Num Packages: 1.0 <br> Service Time: 45.0",
                    "Sequence: 93<br> Stop ID: OC<br>Zone ID: E-2.3G<br>Num Packages: 1.0 <br> Service Time: 81.0",
                    "Sequence: 94<br> Stop ID: ML<br>Zone ID: E-2.3G<br>Num Packages: 2.0 <br> Service Time: 48.0",
                    "Sequence: 95<br> Stop ID: XB<br>Zone ID: E-2.3G<br>Num Packages: 1.0 <br> Service Time: 81.0",
                    "Sequence: 96<br> Stop ID: JD<br>Zone ID: E-2.3G<br>Num Packages: 3.0 <br> Service Time: 78.7",
                    "Sequence: 97<br> Stop ID: ZA<br>Zone ID: E-2.3G<br>Num Packages: 1.0 <br> Service Time: 172.0",
                    "Sequence: 98<br> Stop ID: CA<br>Zone ID: E-2.3G<br>Num Packages: 1.0 <br> Service Time: 92.0",
                    "Sequence: 99<br> Stop ID: IB<br>Zone ID: E-2.3G<br>Num Packages: 1.0 <br> Service Time: 170.0"
                  ],
                  "type": "scattermapbox"
                },
                {
                  "hoverinfo": "text",
                  "lat": [
                    42.085539,
                    42.083353,
                    42.082898,
                    42.081163,
                    42.08066,
                    42.080541,
                    42.088684
                  ],
                  "lon": [
                    -71.545158,
                    -71.547355,
                    -71.54777,
                    -71.548001,
                    -71.549721,
                    -71.551435,
                    -71.545654
                  ],
                  "marker": {
                    "size": 15
                  },
                  "mode": "markers",
                  "name": "E-2.2G",
                  "text": [
                    "Sequence: 100<br> Stop ID: FE<br>Zone ID: E-2.2G<br>Num Packages: 1.0 <br> Service Time: 73.0",
                    "Sequence: 101<br> Stop ID: OD<br>Zone ID: E-2.2G<br>Num Packages: 2.0 <br> Service Time: 43.5",
                    "Sequence: 102<br> Stop ID: PX<br>Zone ID: E-2.2G<br>Num Packages: 4.0 <br> Service Time: 51.0",
                    "Sequence: 103<br> Stop ID: GM<br>Zone ID: E-2.2G<br>Num Packages: 1.0 <br> Service Time: 92.0",
                    "Sequence: 104<br> Stop ID: SG<br>Zone ID: E-2.2G<br>Num Packages: 1.0 <br> Service Time: 77.0",
                    "Sequence: 105<br> Stop ID: IF<br>Zone ID: E-2.2G<br>Num Packages: 2.0 <br> Service Time: 56.0",
                    "Sequence: 106<br> Stop ID: MN<br>Zone ID: E-2.2G<br>Num Packages: 2.0 <br> Service Time: 53.0"
                  ],
                  "type": "scattermapbox"
                },
                {
                  "hoverinfo": "text",
                  "lat": [
                    42.08234,
                    42.084637,
                    42.086276,
                    42.091579,
                    42.071217,
                    42.068769,
                    42.065299,
                    42.066053,
                    42.066606,
                    42.067098,
                    42.069052
                  ],
                  "lon": [
                    -71.569138,
                    -71.565057,
                    -71.564665,
                    -71.562969,
                    -71.569623,
                    -71.568176,
                    -71.56307,
                    -71.560007,
                    -71.560328,
                    -71.561395,
                    -71.570989
                  ],
                  "marker": {
                    "size": 15
                  },
                  "mode": "markers",
                  "name": "E-2.1H",
                  "text": [
                    "Sequence: 118<br> Stop ID: PM<br>Zone ID: E-2.1H<br>Num Packages: 1.0 <br> Service Time: 83.0",
                    "Sequence: 119<br> Stop ID: AL<br>Zone ID: E-2.1H<br>Num Packages: 1.0 <br> Service Time: 140.0",
                    "Sequence: 120<br> Stop ID: LI<br>Zone ID: E-2.1H<br>Num Packages: 1.0 <br> Service Time: 166.0",
                    "Sequence: 121<br> Stop ID: PH<br>Zone ID: E-2.1H<br>Num Packages: 1.0 <br> Service Time: 70.0",
                    "Sequence: 122<br> Stop ID: LZ<br>Zone ID: E-2.1H<br>Num Packages: 2.0 <br> Service Time: 59.0",
                    "Sequence: 123<br> Stop ID: RK<br>Zone ID: E-2.1H<br>Num Packages: 1.0 <br> Service Time: 92.0",
                    "Sequence: 124<br> Stop ID: IK<br>Zone ID: E-2.1H<br>Num Packages: 1.0 <br> Service Time: 60.0",
                    "Sequence: 125<br> Stop ID: MM<br>Zone ID: E-2.1H<br>Num Packages: 2.0 <br> Service Time: 80.5",
                    "Sequence: 126<br> Stop ID: ID<br>Zone ID: E-2.1H<br>Num Packages: 1.0 <br> Service Time: 105.0",
                    "Sequence: 127<br> Stop ID: OV<br>Zone ID: E-2.1H<br>Num Packages: 1.0 <br> Service Time: 90.0",
                    "Sequence: 128<br> Stop ID: XK<br>Zone ID: E-2.1H<br>Num Packages: 1.0 <br> Service Time: 80.0"
                  ],
                  "type": "scattermapbox"
                },
                {
                  "hoverinfo": "text",
                  "lat": [
                    42.098311,
                    42.100858,
                    42.09491,
                    42.094155,
                    42.09345,
                    42.0928
                  ],
                  "lon": [
                    -71.565798,
                    -71.569223,
                    -71.567879,
                    -71.567809,
                    -71.570252,
                    -71.57135
                  ],
                  "marker": {
                    "size": 15
                  },
                  "mode": "markers",
                  "name": "E-2.2H",
                  "text": [
                    "Sequence: 129<br> Stop ID: EI<br>Zone ID: E-2.2H<br>Num Packages: 1.0 <br> Service Time: 196.0",
                    "Sequence: 130<br> Stop ID: PO<br>Zone ID: E-2.2H<br>Num Packages: 2.0 <br> Service Time: 129.5",
                    "Sequence: 131<br> Stop ID: AY<br>Zone ID: E-2.2H<br>Num Packages: 1.0 <br> Service Time: 55.0",
                    "Sequence: 132<br> Stop ID: PV<br>Zone ID: E-2.2H<br>Num Packages: 2.0 <br> Service Time: 57.5",
                    "Sequence: 133<br> Stop ID: ET<br>Zone ID: E-2.2H<br>Num Packages: 1.0 <br> Service Time: 77.0",
                    "Sequence: 134<br> Stop ID: SD<br>Zone ID: E-2.2H<br>Num Packages: 1.0 <br> Service Time: 171.0"
                  ],
                  "type": "scattermapbox"
                },
                {
                  "hoverinfo": "text",
                  "lat": [
                    42.117964,
                    42.11913,
                    42.122523,
                    42.122976,
                    42.120684,
                    42.120485,
                    42.119914,
                    42.117205,
                    42.117445,
                    42.115553,
                    42.112118
                  ],
                  "lon": [
                    -71.573898,
                    -71.574056,
                    -71.574733,
                    -71.574975,
                    -71.578937,
                    -71.577536,
                    -71.575428,
                    -71.574765,
                    -71.579092,
                    -71.587857,
                    -71.597602
                  ],
                  "marker": {
                    "size": 15
                  },
                  "mode": "markers",
                  "name": "E-2.3J",
                  "text": [
                    "Sequence: 135<br> Stop ID: NT<br>Zone ID: E-2.3J<br>Num Packages: 1.0 <br> Service Time: 60.0",
                    "Sequence: 136<br> Stop ID: UV<br>Zone ID: E-2.3J<br>Num Packages: 1.0 <br> Service Time: 157.0",
                    "Sequence: 137<br> Stop ID: JN<br>Zone ID: E-2.3J<br>Num Packages: 1.0 <br> Service Time: 69.0",
                    "Sequence: 138<br> Stop ID: HV<br>Zone ID: E-2.3J<br>Num Packages: 2.0 <br> Service Time: 41.0",
                    "Sequence: 139<br> Stop ID: IO<br>Zone ID: E-2.3J<br>Num Packages: 1.0 <br> Service Time: 58.0",
                    "Sequence: 140<br> Stop ID: WC<br>Zone ID: E-2.3J<br>Num Packages: 2.0 <br> Service Time: 69.0",
                    "Sequence: 141<br> Stop ID: GG<br>Zone ID: E-2.3J<br>Num Packages: 1.0 <br> Service Time: 67.0",
                    "Sequence: 142<br> Stop ID: YW<br>Zone ID: E-2.3J<br>Num Packages: 2.0 <br> Service Time: 72.5",
                    "Sequence: 143<br> Stop ID: VA<br>Zone ID: E-2.3J<br>Num Packages: 2.0 <br> Service Time: 60.0",
                    "Sequence: 144<br> Stop ID: KZ<br>Zone ID: E-2.3J<br>Num Packages: 2.0 <br> Service Time: 74.0",
                    "Sequence: 145<br> Stop ID: UP<br>Zone ID: E-2.3J<br>Num Packages: 1.0 <br> Service Time: 106.0"
                  ],
                  "type": "scattermapbox"
                },
                {
                  "hoverinfo": "text",
                  "lat": [
                    42.140655,
                    42.149406,
                    42.150955,
                    42.150434,
                    42.152468,
                    42.153178,
                    42.148646,
                    42.148227,
                    42.147267,
                    42.145646,
                    42.148971
                  ],
                  "lon": [
                    -71.536264,
                    -71.541475,
                    -71.543177,
                    -71.543739,
                    -71.545145,
                    -71.544067,
                    -71.542931,
                    -71.542674,
                    -71.540911,
                    -71.539764,
                    -71.544248
                  ],
                  "marker": {
                    "size": 15
                  },
                  "mode": "markers",
                  "name": "E-1.2G",
                  "text": [
                    "Sequence: 151<br> Stop ID: MZ<br>Zone ID: E-1.2G<br>Num Packages: 1.0 <br> Service Time: 105.0",
                    "Sequence: 152<br> Stop ID: EE<br>Zone ID: E-1.2G<br>Num Packages: 1.0 <br> Service Time: 78.0",
                    "Sequence: 153<br> Stop ID: MD<br>Zone ID: E-1.2G<br>Num Packages: 1.0 <br> Service Time: 51.0",
                    "Sequence: 154<br> Stop ID: AR<br>Zone ID: E-1.2G<br>Num Packages: 1.0 <br> Service Time: 45.0",
                    "Sequence: 155<br> Stop ID: SN<br>Zone ID: E-1.2G<br>Num Packages: 1.0 <br> Service Time: 63.0",
                    "Sequence: 156<br> Stop ID: VB<br>Zone ID: E-1.2G<br>Num Packages: 1.0 <br> Service Time: 79.0",
                    "Sequence: 157<br> Stop ID: VJ<br>Zone ID: E-1.2G<br>Num Packages: 1.0 <br> Service Time: 112.0",
                    "Sequence: 158<br> Stop ID: YA<br>Zone ID: E-1.2G<br>Num Packages: 1.0 <br> Service Time: 101.0",
                    "Sequence: 159<br> Stop ID: KS<br>Zone ID: E-1.2G<br>Num Packages: 1.0 <br> Service Time: 47.0",
                    "Sequence: 160<br> Stop ID: PE<br>Zone ID: E-1.2G<br>Num Packages: 2.0 <br> Service Time: 21.0",
                    "Sequence: 161<br> Stop ID: GR<br>Zone ID: E-1.2G<br>Num Packages: 1.0 <br> Service Time: 98.0"
                  ],
                  "type": "scattermapbox"
                }
              ],
              "layout": {
                "height": 600,
                "mapbox": {
                  "center": {
                    "lat": 42.11689389570552,
                    "lon": -71.54875496932517
                  },
                  "style": "open-street-map",
                  "zoom": 10
                },
                "margin": {
                  "b": 10,
                  "l": 10,
                  "r": 10,
                  "t": 10
                },
                "showlegend": false,
                "template": {
                  "data": {
                    "bar": [
                      {
                        "error_x": {
                          "color": "#2a3f5f"
                        },
                        "error_y": {
                          "color": "#2a3f5f"
                        },
                        "marker": {
                          "line": {
                            "color": "#E5ECF6",
                            "width": 0.5
                          },
                          "pattern": {
                            "fillmode": "overlay",
                            "size": 10,
                            "solidity": 0.2
                          }
                        },
                        "type": "bar"
                      }
                    ],
                    "barpolar": [
                      {
                        "marker": {
                          "line": {
                            "color": "#E5ECF6",
                            "width": 0.5
                          },
                          "pattern": {
                            "fillmode": "overlay",
                            "size": 10,
                            "solidity": 0.2
                          }
                        },
                        "type": "barpolar"
                      }
                    ],
                    "carpet": [
                      {
                        "aaxis": {
                          "endlinecolor": "#2a3f5f",
                          "gridcolor": "white",
                          "linecolor": "white",
                          "minorgridcolor": "white",
                          "startlinecolor": "#2a3f5f"
                        },
                        "baxis": {
                          "endlinecolor": "#2a3f5f",
                          "gridcolor": "white",
                          "linecolor": "white",
                          "minorgridcolor": "white",
                          "startlinecolor": "#2a3f5f"
                        },
                        "type": "carpet"
                      }
                    ],
                    "choropleth": [
                      {
                        "colorbar": {
                          "outlinewidth": 0,
                          "ticks": ""
                        },
                        "type": "choropleth"
                      }
                    ],
                    "contour": [
                      {
                        "colorbar": {
                          "outlinewidth": 0,
                          "ticks": ""
                        },
                        "colorscale": [
                          [
                            0,
                            "#0d0887"
                          ],
                          [
                            0.1111111111111111,
                            "#46039f"
                          ],
                          [
                            0.2222222222222222,
                            "#7201a8"
                          ],
                          [
                            0.3333333333333333,
                            "#9c179e"
                          ],
                          [
                            0.4444444444444444,
                            "#bd3786"
                          ],
                          [
                            0.5555555555555556,
                            "#d8576b"
                          ],
                          [
                            0.6666666666666666,
                            "#ed7953"
                          ],
                          [
                            0.7777777777777778,
                            "#fb9f3a"
                          ],
                          [
                            0.8888888888888888,
                            "#fdca26"
                          ],
                          [
                            1,
                            "#f0f921"
                          ]
                        ],
                        "type": "contour"
                      }
                    ],
                    "contourcarpet": [
                      {
                        "colorbar": {
                          "outlinewidth": 0,
                          "ticks": ""
                        },
                        "type": "contourcarpet"
                      }
                    ],
                    "heatmap": [
                      {
                        "colorbar": {
                          "outlinewidth": 0,
                          "ticks": ""
                        },
                        "colorscale": [
                          [
                            0,
                            "#0d0887"
                          ],
                          [
                            0.1111111111111111,
                            "#46039f"
                          ],
                          [
                            0.2222222222222222,
                            "#7201a8"
                          ],
                          [
                            0.3333333333333333,
                            "#9c179e"
                          ],
                          [
                            0.4444444444444444,
                            "#bd3786"
                          ],
                          [
                            0.5555555555555556,
                            "#d8576b"
                          ],
                          [
                            0.6666666666666666,
                            "#ed7953"
                          ],
                          [
                            0.7777777777777778,
                            "#fb9f3a"
                          ],
                          [
                            0.8888888888888888,
                            "#fdca26"
                          ],
                          [
                            1,
                            "#f0f921"
                          ]
                        ],
                        "type": "heatmap"
                      }
                    ],
                    "heatmapgl": [
                      {
                        "colorbar": {
                          "outlinewidth": 0,
                          "ticks": ""
                        },
                        "colorscale": [
                          [
                            0,
                            "#0d0887"
                          ],
                          [
                            0.1111111111111111,
                            "#46039f"
                          ],
                          [
                            0.2222222222222222,
                            "#7201a8"
                          ],
                          [
                            0.3333333333333333,
                            "#9c179e"
                          ],
                          [
                            0.4444444444444444,
                            "#bd3786"
                          ],
                          [
                            0.5555555555555556,
                            "#d8576b"
                          ],
                          [
                            0.6666666666666666,
                            "#ed7953"
                          ],
                          [
                            0.7777777777777778,
                            "#fb9f3a"
                          ],
                          [
                            0.8888888888888888,
                            "#fdca26"
                          ],
                          [
                            1,
                            "#f0f921"
                          ]
                        ],
                        "type": "heatmapgl"
                      }
                    ],
                    "histogram": [
                      {
                        "marker": {
                          "pattern": {
                            "fillmode": "overlay",
                            "size": 10,
                            "solidity": 0.2
                          }
                        },
                        "type": "histogram"
                      }
                    ],
                    "histogram2d": [
                      {
                        "colorbar": {
                          "outlinewidth": 0,
                          "ticks": ""
                        },
                        "colorscale": [
                          [
                            0,
                            "#0d0887"
                          ],
                          [
                            0.1111111111111111,
                            "#46039f"
                          ],
                          [
                            0.2222222222222222,
                            "#7201a8"
                          ],
                          [
                            0.3333333333333333,
                            "#9c179e"
                          ],
                          [
                            0.4444444444444444,
                            "#bd3786"
                          ],
                          [
                            0.5555555555555556,
                            "#d8576b"
                          ],
                          [
                            0.6666666666666666,
                            "#ed7953"
                          ],
                          [
                            0.7777777777777778,
                            "#fb9f3a"
                          ],
                          [
                            0.8888888888888888,
                            "#fdca26"
                          ],
                          [
                            1,
                            "#f0f921"
                          ]
                        ],
                        "type": "histogram2d"
                      }
                    ],
                    "histogram2dcontour": [
                      {
                        "colorbar": {
                          "outlinewidth": 0,
                          "ticks": ""
                        },
                        "colorscale": [
                          [
                            0,
                            "#0d0887"
                          ],
                          [
                            0.1111111111111111,
                            "#46039f"
                          ],
                          [
                            0.2222222222222222,
                            "#7201a8"
                          ],
                          [
                            0.3333333333333333,
                            "#9c179e"
                          ],
                          [
                            0.4444444444444444,
                            "#bd3786"
                          ],
                          [
                            0.5555555555555556,
                            "#d8576b"
                          ],
                          [
                            0.6666666666666666,
                            "#ed7953"
                          ],
                          [
                            0.7777777777777778,
                            "#fb9f3a"
                          ],
                          [
                            0.8888888888888888,
                            "#fdca26"
                          ],
                          [
                            1,
                            "#f0f921"
                          ]
                        ],
                        "type": "histogram2dcontour"
                      }
                    ],
                    "mesh3d": [
                      {
                        "colorbar": {
                          "outlinewidth": 0,
                          "ticks": ""
                        },
                        "type": "mesh3d"
                      }
                    ],
                    "parcoords": [
                      {
                        "line": {
                          "colorbar": {
                            "outlinewidth": 0,
                            "ticks": ""
                          }
                        },
                        "type": "parcoords"
                      }
                    ],
                    "pie": [
                      {
                        "automargin": true,
                        "type": "pie"
                      }
                    ],
                    "scatter": [
                      {
                        "fillpattern": {
                          "fillmode": "overlay",
                          "size": 10,
                          "solidity": 0.2
                        },
                        "type": "scatter"
                      }
                    ],
                    "scatter3d": [
                      {
                        "line": {
                          "colorbar": {
                            "outlinewidth": 0,
                            "ticks": ""
                          }
                        },
                        "marker": {
                          "colorbar": {
                            "outlinewidth": 0,
                            "ticks": ""
                          }
                        },
                        "type": "scatter3d"
                      }
                    ],
                    "scattercarpet": [
                      {
                        "marker": {
                          "colorbar": {
                            "outlinewidth": 0,
                            "ticks": ""
                          }
                        },
                        "type": "scattercarpet"
                      }
                    ],
                    "scattergeo": [
                      {
                        "marker": {
                          "colorbar": {
                            "outlinewidth": 0,
                            "ticks": ""
                          }
                        },
                        "type": "scattergeo"
                      }
                    ],
                    "scattergl": [
                      {
                        "marker": {
                          "colorbar": {
                            "outlinewidth": 0,
                            "ticks": ""
                          }
                        },
                        "type": "scattergl"
                      }
                    ],
                    "scattermapbox": [
                      {
                        "marker": {
                          "colorbar": {
                            "outlinewidth": 0,
                            "ticks": ""
                          }
                        },
                        "type": "scattermapbox"
                      }
                    ],
                    "scatterpolar": [
                      {
                        "marker": {
                          "colorbar": {
                            "outlinewidth": 0,
                            "ticks": ""
                          }
                        },
                        "type": "scatterpolar"
                      }
                    ],
                    "scatterpolargl": [
                      {
                        "marker": {
                          "colorbar": {
                            "outlinewidth": 0,
                            "ticks": ""
                          }
                        },
                        "type": "scatterpolargl"
                      }
                    ],
                    "scatterternary": [
                      {
                        "marker": {
                          "colorbar": {
                            "outlinewidth": 0,
                            "ticks": ""
                          }
                        },
                        "type": "scatterternary"
                      }
                    ],
                    "surface": [
                      {
                        "colorbar": {
                          "outlinewidth": 0,
                          "ticks": ""
                        },
                        "colorscale": [
                          [
                            0,
                            "#0d0887"
                          ],
                          [
                            0.1111111111111111,
                            "#46039f"
                          ],
                          [
                            0.2222222222222222,
                            "#7201a8"
                          ],
                          [
                            0.3333333333333333,
                            "#9c179e"
                          ],
                          [
                            0.4444444444444444,
                            "#bd3786"
                          ],
                          [
                            0.5555555555555556,
                            "#d8576b"
                          ],
                          [
                            0.6666666666666666,
                            "#ed7953"
                          ],
                          [
                            0.7777777777777778,
                            "#fb9f3a"
                          ],
                          [
                            0.8888888888888888,
                            "#fdca26"
                          ],
                          [
                            1,
                            "#f0f921"
                          ]
                        ],
                        "type": "surface"
                      }
                    ],
                    "table": [
                      {
                        "cells": {
                          "fill": {
                            "color": "#EBF0F8"
                          },
                          "line": {
                            "color": "white"
                          }
                        },
                        "header": {
                          "fill": {
                            "color": "#C8D4E3"
                          },
                          "line": {
                            "color": "white"
                          }
                        },
                        "type": "table"
                      }
                    ]
                  },
                  "layout": {
                    "annotationdefaults": {
                      "arrowcolor": "#2a3f5f",
                      "arrowhead": 0,
                      "arrowwidth": 1
                    },
                    "autotypenumbers": "strict",
                    "coloraxis": {
                      "colorbar": {
                        "outlinewidth": 0,
                        "ticks": ""
                      }
                    },
                    "colorscale": {
                      "diverging": [
                        [
                          0,
                          "#8e0152"
                        ],
                        [
                          0.1,
                          "#c51b7d"
                        ],
                        [
                          0.2,
                          "#de77ae"
                        ],
                        [
                          0.3,
                          "#f1b6da"
                        ],
                        [
                          0.4,
                          "#fde0ef"
                        ],
                        [
                          0.5,
                          "#f7f7f7"
                        ],
                        [
                          0.6,
                          "#e6f5d0"
                        ],
                        [
                          0.7,
                          "#b8e186"
                        ],
                        [
                          0.8,
                          "#7fbc41"
                        ],
                        [
                          0.9,
                          "#4d9221"
                        ],
                        [
                          1,
                          "#276419"
                        ]
                      ],
                      "sequential": [
                        [
                          0,
                          "#0d0887"
                        ],
                        [
                          0.1111111111111111,
                          "#46039f"
                        ],
                        [
                          0.2222222222222222,
                          "#7201a8"
                        ],
                        [
                          0.3333333333333333,
                          "#9c179e"
                        ],
                        [
                          0.4444444444444444,
                          "#bd3786"
                        ],
                        [
                          0.5555555555555556,
                          "#d8576b"
                        ],
                        [
                          0.6666666666666666,
                          "#ed7953"
                        ],
                        [
                          0.7777777777777778,
                          "#fb9f3a"
                        ],
                        [
                          0.8888888888888888,
                          "#fdca26"
                        ],
                        [
                          1,
                          "#f0f921"
                        ]
                      ],
                      "sequentialminus": [
                        [
                          0,
                          "#0d0887"
                        ],
                        [
                          0.1111111111111111,
                          "#46039f"
                        ],
                        [
                          0.2222222222222222,
                          "#7201a8"
                        ],
                        [
                          0.3333333333333333,
                          "#9c179e"
                        ],
                        [
                          0.4444444444444444,
                          "#bd3786"
                        ],
                        [
                          0.5555555555555556,
                          "#d8576b"
                        ],
                        [
                          0.6666666666666666,
                          "#ed7953"
                        ],
                        [
                          0.7777777777777778,
                          "#fb9f3a"
                        ],
                        [
                          0.8888888888888888,
                          "#fdca26"
                        ],
                        [
                          1,
                          "#f0f921"
                        ]
                      ]
                    },
                    "colorway": [
                      "#636efa",
                      "#EF553B",
                      "#00cc96",
                      "#ab63fa",
                      "#FFA15A",
                      "#19d3f3",
                      "#FF6692",
                      "#B6E880",
                      "#FF97FF",
                      "#FECB52"
                    ],
                    "font": {
                      "color": "#2a3f5f"
                    },
                    "geo": {
                      "bgcolor": "white",
                      "lakecolor": "white",
                      "landcolor": "#E5ECF6",
                      "showlakes": true,
                      "showland": true,
                      "subunitcolor": "white"
                    },
                    "hoverlabel": {
                      "align": "left"
                    },
                    "hovermode": "closest",
                    "mapbox": {
                      "style": "light"
                    },
                    "paper_bgcolor": "white",
                    "plot_bgcolor": "#E5ECF6",
                    "polar": {
                      "angularaxis": {
                        "gridcolor": "white",
                        "linecolor": "white",
                        "ticks": ""
                      },
                      "bgcolor": "#E5ECF6",
                      "radialaxis": {
                        "gridcolor": "white",
                        "linecolor": "white",
                        "ticks": ""
                      }
                    },
                    "scene": {
                      "xaxis": {
                        "backgroundcolor": "#E5ECF6",
                        "gridcolor": "white",
                        "gridwidth": 2,
                        "linecolor": "white",
                        "showbackground": true,
                        "ticks": "",
                        "zerolinecolor": "white"
                      },
                      "yaxis": {
                        "backgroundcolor": "#E5ECF6",
                        "gridcolor": "white",
                        "gridwidth": 2,
                        "linecolor": "white",
                        "showbackground": true,
                        "ticks": "",
                        "zerolinecolor": "white"
                      },
                      "zaxis": {
                        "backgroundcolor": "#E5ECF6",
                        "gridcolor": "white",
                        "gridwidth": 2,
                        "linecolor": "white",
                        "showbackground": true,
                        "ticks": "",
                        "zerolinecolor": "white"
                      }
                    },
                    "shapedefaults": {
                      "line": {
                        "color": "#2a3f5f"
                      }
                    },
                    "ternary": {
                      "aaxis": {
                        "gridcolor": "white",
                        "linecolor": "white",
                        "ticks": ""
                      },
                      "baxis": {
                        "gridcolor": "white",
                        "linecolor": "white",
                        "ticks": ""
                      },
                      "bgcolor": "#E5ECF6",
                      "caxis": {
                        "gridcolor": "white",
                        "linecolor": "white",
                        "ticks": ""
                      }
                    },
                    "title": {
                      "x": 0.05
                    },
                    "xaxis": {
                      "automargin": true,
                      "gridcolor": "white",
                      "linecolor": "white",
                      "ticks": "",
                      "title": {
                        "standoff": 15
                      },
                      "zerolinecolor": "white",
                      "zerolinewidth": 2
                    },
                    "yaxis": {
                      "automargin": true,
                      "gridcolor": "white",
                      "linecolor": "white",
                      "ticks": "",
                      "title": {
                        "standoff": 15
                      },
                      "zerolinecolor": "white",
                      "zerolinewidth": 2
                    }
                  }
                }
              }
            }
          },
          "metadata": {},
          "output_type": "display_data"
        }
      ],
      "source": [
        "fig = go.Figure(go.Scattermapbox(\n",
        "    lat=drone_data_ordered['lat'],\n",
        "    lon=drone_data_ordered['lng'],\n",
        "    mode='lines',\n",
        "    line=dict(width=2, color='blue'),  # Customize line color and width here\n",
        "    hoverinfo='none'\n",
        "))\n",
        "\n",
        "# Add scatter points for each unique zone_id, with custom hover text\n",
        "for zone_id in drone_data_ordered['zone_id'].unique():\n",
        "    df_sub = drone_data_ordered[drone_data_ordered['zone_id'] == zone_id]\n",
        "\n",
        "    # Creating custom hover text\n",
        "    hover_text = df_sub.apply(lambda row: f\"Sequence: {row.name}<br> Stop ID: {row['stop_id']}<br>Zone ID: {row['zone_id']}<br>Num Packages: {row['num_packages']} <br> Service Time: {row['service_time_seconds']}\", axis=1)\n",
        "\n",
        "\n",
        "    fig.add_trace(go.Scattermapbox(\n",
        "        lat=df_sub['lat'],\n",
        "        lon=df_sub['lng'],\n",
        "        mode='markers',\n",
        "        marker=go.scattermapbox.Marker(size=15),\n",
        "        name=str(zone_id),\n",
        "        text=hover_text,\n",
        "        hoverinfo='text'\n",
        "    ))\n",
        "\n",
        "# Update the layout to use OpenStreetMap style and adjust other layout properties\n",
        "fig.update_layout(\n",
        "\n",
        "    height=600,\n",
        "    mapbox=dict(\n",
        "        style=\"open-street-map\",\n",
        "        zoom=10,  # Adjust zoom level here\n",
        "        center=dict(lat=drone_data_ordered['lat'].mean(), lon=drone_data_ordered['lng'].mean())\n",
        "    ),\n",
        "    showlegend=False  # Set to True if you want to show legend\n",
        ")\n",
        "fig.update_layout(margin=dict(l=10, r=10, t=10, b=10))\n",
        "\n",
        "\n",
        "# Show the figure\n",
        "fig.show()"
      ]
    },
    {
      "cell_type": "code",
      "execution_count": null,
      "metadata": {},
      "outputs": [
        {
          "data": {
            "application/vnd.plotly.v1+json": {
              "config": {
                "plotlyServerURL": "https://plot.ly"
              },
              "data": [
                {
                  "hoverinfo": "none",
                  "lat": [
                    42.139891,
                    42.139089,
                    42.138518,
                    42.138304,
                    42.138168,
                    42.138013,
                    42.138592,
                    42.139661,
                    42.141271,
                    42.141481,
                    42.142625,
                    42.140573,
                    42.142932,
                    42.143604,
                    42.141526,
                    42.143284,
                    42.13807,
                    42.136668,
                    42.136174,
                    42.139035,
                    42.138027,
                    42.138476,
                    42.137425,
                    42.138349,
                    42.139095,
                    42.140455,
                    42.141612,
                    42.140229,
                    42.139733,
                    42.139294,
                    42.137706,
                    42.136912,
                    42.136227,
                    42.136319,
                    42.133937,
                    42.13382,
                    42.132317,
                    42.131921,
                    42.131869,
                    42.131323,
                    42.131486,
                    42.131001,
                    42.129566,
                    42.128268,
                    42.127848,
                    42.125992,
                    42.125514,
                    42.129766,
                    42.124032,
                    42.124038,
                    42.124369,
                    42.125778,
                    42.12044,
                    42.117772,
                    42.120766,
                    42.120975,
                    42.11705,
                    42.121051,
                    42.120341,
                    42.120591,
                    42.124123,
                    42.127365,
                    42.128388,
                    42.129426,
                    42.130843,
                    42.131783,
                    42.129839,
                    42.135489,
                    42.131202,
                    42.126641,
                    42.125951,
                    42.12566,
                    42.128049,
                    42.1282,
                    42.125649,
                    42.116133,
                    42.110929,
                    42.110252,
                    42.108828,
                    42.110475,
                    42.102702,
                    42.101216,
                    42.101589,
                    42.101403,
                    42.101185,
                    42.100946,
                    42.105719,
                    42.106275,
                    42.09994,
                    42.098301,
                    42.091701,
                    42.093273,
                    42.096478,
                    42.097525,
                    42.097741,
                    42.089222,
                    42.089052,
                    42.08848,
                    42.087781,
                    42.087774,
                    42.085539,
                    42.083353,
                    42.082898,
                    42.081163,
                    42.08066,
                    42.080541,
                    42.088684,
                    42.08376,
                    42.084195,
                    42.082837,
                    42.080895,
                    42.08229,
                    42.088175,
                    42.089674,
                    42.086827,
                    42.07244,
                    42.071516,
                    42.07397,
                    42.08234,
                    42.084637,
                    42.086276,
                    42.091579,
                    42.071217,
                    42.068769,
                    42.065299,
                    42.066053,
                    42.066606,
                    42.067098,
                    42.069052,
                    42.098311,
                    42.100858,
                    42.09491,
                    42.094155,
                    42.09345,
                    42.0928,
                    42.117964,
                    42.11913,
                    42.122523,
                    42.122976,
                    42.120684,
                    42.120485,
                    42.119914,
                    42.117205,
                    42.117445,
                    42.115553,
                    42.112118,
                    42.131043,
                    42.13004,
                    42.130505,
                    42.13111,
                    42.133742,
                    42.140655,
                    42.149406,
                    42.150955,
                    42.150434,
                    42.152468,
                    42.153178,
                    42.148646,
                    42.148227,
                    42.147267,
                    42.145646,
                    42.148971,
                    42.139891
                  ],
                  "line": {
                    "color": "red",
                    "width": 2
                  },
                  "lon": [
                    -71.494346,
                    -71.524434,
                    -71.525506,
                    -71.525361,
                    -71.529156,
                    -71.530182,
                    -71.53235,
                    -71.529452,
                    -71.528049,
                    -71.528133,
                    -71.529995,
                    -71.531935,
                    -71.533622,
                    -71.534119,
                    -71.534137,
                    -71.531322,
                    -71.533233,
                    -71.53178,
                    -71.531294,
                    -71.536231,
                    -71.539181,
                    -71.540799,
                    -71.54024,
                    -71.54241,
                    -71.542843,
                    -71.543684,
                    -71.545708,
                    -71.546878,
                    -71.547296,
                    -71.546923,
                    -71.545586,
                    -71.544912,
                    -71.544317,
                    -71.542944,
                    -71.542708,
                    -71.54095,
                    -71.539959,
                    -71.540795,
                    -71.539325,
                    -71.538877,
                    -71.539641,
                    -71.538114,
                    -71.540988,
                    -71.53879,
                    -71.538338,
                    -71.536422,
                    -71.535994,
                    -71.536633,
                    -71.540927,
                    -71.544102,
                    -71.545108,
                    -71.546615,
                    -71.542705,
                    -71.544013,
                    -71.543204,
                    -71.544163,
                    -71.547049,
                    -71.545773,
                    -71.549171,
                    -71.551675,
                    -71.550611,
                    -71.551967,
                    -71.55112,
                    -71.553551,
                    -71.55611,
                    -71.552378,
                    -71.556861,
                    -71.561803,
                    -71.571969,
                    -71.571935,
                    -71.572483,
                    -71.57254,
                    -71.578627,
                    -71.578917,
                    -71.568811,
                    -71.566586,
                    -71.556253,
                    -71.555689,
                    -71.562421,
                    -71.56499,
                    -71.553805,
                    -71.555481,
                    -71.556043,
                    -71.556447,
                    -71.551259,
                    -71.551314,
                    -71.544234,
                    -71.540355,
                    -71.541582,
                    -71.540291,
                    -71.529757,
                    -71.522541,
                    -71.525742,
                    -71.526315,
                    -71.528215,
                    -71.533181,
                    -71.533044,
                    -71.5326,
                    -71.534642,
                    -71.534656,
                    -71.545158,
                    -71.547355,
                    -71.54777,
                    -71.548001,
                    -71.549721,
                    -71.551435,
                    -71.545654,
                    -71.551694,
                    -71.55201,
                    -71.555256,
                    -71.556956,
                    -71.559,
                    -71.554347,
                    -71.55466,
                    -71.55235,
                    -71.553688,
                    -71.55374,
                    -71.551047,
                    -71.569138,
                    -71.565057,
                    -71.564665,
                    -71.562969,
                    -71.569623,
                    -71.568176,
                    -71.56307,
                    -71.560007,
                    -71.560328,
                    -71.561395,
                    -71.570989,
                    -71.565798,
                    -71.569223,
                    -71.567879,
                    -71.567809,
                    -71.570252,
                    -71.57135,
                    -71.573898,
                    -71.574056,
                    -71.574733,
                    -71.574975,
                    -71.578937,
                    -71.577536,
                    -71.575428,
                    -71.574765,
                    -71.579092,
                    -71.587857,
                    -71.597602,
                    -71.547647,
                    -71.547106,
                    -71.546481,
                    -71.546931,
                    -71.546182,
                    -71.536264,
                    -71.541475,
                    -71.543177,
                    -71.543739,
                    -71.545145,
                    -71.544067,
                    -71.542931,
                    -71.542674,
                    -71.540911,
                    -71.539764,
                    -71.544248,
                    -71.494346
                  ],
                  "mode": "lines",
                  "name": "Drone Path",
                  "type": "scattermapbox"
                },
                {
                  "hoverinfo": "text",
                  "lat": [],
                  "lon": [],
                  "marker": {
                    "size": 15
                  },
                  "mode": "markers",
                  "name": "Drone Zone nan",
                  "text": [],
                  "type": "scattermapbox"
                },
                {
                  "hoverinfo": "text",
                  "lat": [
                    42.139089,
                    42.138518,
                    42.138304,
                    42.138168,
                    42.138013,
                    42.138592,
                    42.139661,
                    42.141271,
                    42.141481,
                    42.142625
                  ],
                  "lon": [
                    -71.524434,
                    -71.525506,
                    -71.525361,
                    -71.529156,
                    -71.530182,
                    -71.53235,
                    -71.529452,
                    -71.528049,
                    -71.528133,
                    -71.529995
                  ],
                  "marker": {
                    "size": 15
                  },
                  "mode": "markers",
                  "name": "Drone Zone E-1.1H",
                  "text": [
                    "Sequence: 1<br> Stop ID: VU<br>Zone ID: E-1.1H<br>Num Packages: 1.0 <br> Service Time: 111.0",
                    "Sequence: 2<br> Stop ID: ZP<br>Zone ID: E-1.1H<br>Num Packages: 2.0 <br> Service Time: 90.5",
                    "Sequence: 3<br> Stop ID: KH<br>Zone ID: E-1.1H<br>Num Packages: 1.0 <br> Service Time: 71.0",
                    "Sequence: 4<br> Stop ID: WW<br>Zone ID: E-1.1H<br>Num Packages: 2.0 <br> Service Time: 73.0",
                    "Sequence: 5<br> Stop ID: QC<br>Zone ID: E-1.1H<br>Num Packages: 2.0 <br> Service Time: 146.0",
                    "Sequence: 6<br> Stop ID: JE<br>Zone ID: E-1.1H<br>Num Packages: 1.0 <br> Service Time: 104.0",
                    "Sequence: 7<br> Stop ID: FS<br>Zone ID: E-1.1H<br>Num Packages: 2.0 <br> Service Time: 108.0",
                    "Sequence: 8<br> Stop ID: BJ<br>Zone ID: E-1.1H<br>Num Packages: 1.0 <br> Service Time: 62.0",
                    "Sequence: 9<br> Stop ID: IQ<br>Zone ID: E-1.1H<br>Num Packages: 1.0 <br> Service Time: 42.0",
                    "Sequence: 10<br> Stop ID: FV<br>Zone ID: E-1.1H<br>Num Packages: 1.0 <br> Service Time: 78.0"
                  ],
                  "type": "scattermapbox"
                },
                {
                  "hoverinfo": "text",
                  "lat": [
                    42.140573,
                    42.142932,
                    42.143604,
                    42.141526,
                    42.143284,
                    42.13807
                  ],
                  "lon": [
                    -71.531935,
                    -71.533622,
                    -71.534119,
                    -71.534137,
                    -71.531322,
                    -71.533233
                  ],
                  "marker": {
                    "size": 15
                  },
                  "mode": "markers",
                  "name": "Drone Zone E-1.1G",
                  "text": [
                    "Sequence: 11<br> Stop ID: XO<br>Zone ID: E-1.1G<br>Num Packages: 1.0 <br> Service Time: 32.0",
                    "Sequence: 12<br> Stop ID: MX<br>Zone ID: E-1.1G<br>Num Packages: 1.0 <br> Service Time: 52.0",
                    "Sequence: 13<br> Stop ID: CF<br>Zone ID: E-1.1G<br>Num Packages: 1.0 <br> Service Time: 250.0",
                    "Sequence: 14<br> Stop ID: YV<br>Zone ID: E-1.1G<br>Num Packages: 1.0 <br> Service Time: 50.0",
                    "Sequence: 15<br> Stop ID: CY<br>Zone ID: E-1.1G<br>Num Packages: 1.0 <br> Service Time: 87.0",
                    "Sequence: 16<br> Stop ID: JQ<br>Zone ID: E-1.1G<br>Num Packages: 1.0 <br> Service Time: 370.0"
                  ],
                  "type": "scattermapbox"
                },
                {
                  "hoverinfo": "text",
                  "lat": [
                    42.136668,
                    42.136174,
                    42.139035,
                    42.138027,
                    42.138476,
                    42.137425,
                    42.138349,
                    42.139095,
                    42.140455,
                    42.141612
                  ],
                  "lon": [
                    -71.53178,
                    -71.531294,
                    -71.536231,
                    -71.539181,
                    -71.540799,
                    -71.54024,
                    -71.54241,
                    -71.542843,
                    -71.543684,
                    -71.545708
                  ],
                  "marker": {
                    "size": 15
                  },
                  "mode": "markers",
                  "name": "Drone Zone E-1.2H",
                  "text": [
                    "Sequence: 17<br> Stop ID: DZ<br>Zone ID: E-1.2H<br>Num Packages: 1.0 <br> Service Time: 102.0",
                    "Sequence: 18<br> Stop ID: CN<br>Zone ID: E-1.2H<br>Num Packages: 2.0 <br> Service Time: 64.0",
                    "Sequence: 19<br> Stop ID: VM<br>Zone ID: E-1.2H<br>Num Packages: 1.0 <br> Service Time: 221.0",
                    "Sequence: 20<br> Stop ID: XG<br>Zone ID: E-1.2H<br>Num Packages: 3.0 <br> Service Time: 60.0",
                    "Sequence: 21<br> Stop ID: DX<br>Zone ID: E-1.2H<br>Num Packages: 1.0 <br> Service Time: 83.0",
                    "Sequence: 22<br> Stop ID: BE<br>Zone ID: E-1.2H<br>Num Packages: 2.0 <br> Service Time: 72.5",
                    "Sequence: 23<br> Stop ID: AG<br>Zone ID: E-1.2H<br>Num Packages: 2.0 <br> Service Time: 62.5",
                    "Sequence: 24<br> Stop ID: KY<br>Zone ID: E-1.2H<br>Num Packages: 1.0 <br> Service Time: 98.0",
                    "Sequence: 25<br> Stop ID: KR<br>Zone ID: E-1.2H<br>Num Packages: 1.0 <br> Service Time: 52.0",
                    "Sequence: 26<br> Stop ID: BX<br>Zone ID: E-1.2H<br>Num Packages: 1.0 <br> Service Time: 65.0"
                  ],
                  "type": "scattermapbox"
                },
                {
                  "hoverinfo": "text",
                  "lat": [
                    42.140229,
                    42.139733,
                    42.139294,
                    42.137706,
                    42.136912,
                    42.136227,
                    42.136319
                  ],
                  "lon": [
                    -71.546878,
                    -71.547296,
                    -71.546923,
                    -71.545586,
                    -71.544912,
                    -71.544317,
                    -71.542944
                  ],
                  "marker": {
                    "size": 15
                  },
                  "mode": "markers",
                  "name": "Drone Zone E-1.3H",
                  "text": [
                    "Sequence: 27<br> Stop ID: IE<br>Zone ID: E-1.3H<br>Num Packages: 2.0 <br> Service Time: 99.0",
                    "Sequence: 28<br> Stop ID: YH<br>Zone ID: E-1.3H<br>Num Packages: 1.0 <br> Service Time: 111.0",
                    "Sequence: 29<br> Stop ID: BP<br>Zone ID: E-1.3H<br>Num Packages: 1.0 <br> Service Time: 80.0",
                    "Sequence: 30<br> Stop ID: LL<br>Zone ID: E-1.3H<br>Num Packages: 1.0 <br> Service Time: 58.0",
                    "Sequence: 31<br> Stop ID: TR<br>Zone ID: E-1.3H<br>Num Packages: 1.0 <br> Service Time: 135.0",
                    "Sequence: 32<br> Stop ID: PB<br>Zone ID: E-1.3H<br>Num Packages: 1.0 <br> Service Time: 84.0",
                    "Sequence: 33<br> Stop ID: XQ<br>Zone ID: E-1.3H<br>Num Packages: 1.0 <br> Service Time: 107.0"
                  ],
                  "type": "scattermapbox"
                },
                {
                  "hoverinfo": "text",
                  "lat": [
                    42.133937,
                    42.131043,
                    42.13004,
                    42.130505,
                    42.13111,
                    42.133742
                  ],
                  "lon": [
                    -71.542708,
                    -71.547647,
                    -71.547106,
                    -71.546481,
                    -71.546931,
                    -71.546182
                  ],
                  "marker": {
                    "size": 15
                  },
                  "mode": "markers",
                  "name": "Drone Zone E-1.3J",
                  "text": [
                    "Sequence: 34<br> Stop ID: UW<br>Zone ID: E-1.3J<br>Num Packages: 1.0 <br> Service Time: 78.0",
                    "Sequence: 146<br> Stop ID: AZ<br>Zone ID: E-1.3J<br>Num Packages: 2.0 <br> Service Time: 68.5",
                    "Sequence: 147<br> Stop ID: OU<br>Zone ID: E-1.3J<br>Num Packages: 1.0 <br> Service Time: 76.0",
                    "Sequence: 148<br> Stop ID: II<br>Zone ID: E-1.3J<br>Num Packages: 1.0 <br> Service Time: 46.0",
                    "Sequence: 149<br> Stop ID: ZL<br>Zone ID: E-1.3J<br>Num Packages: 1.0 <br> Service Time: 172.0",
                    "Sequence: 150<br> Stop ID: CE<br>Zone ID: E-1.3J<br>Num Packages: 1.0 <br> Service Time: 71.0"
                  ],
                  "type": "scattermapbox"
                },
                {
                  "hoverinfo": "text",
                  "lat": [
                    42.13382,
                    42.132317,
                    42.131921,
                    42.131869,
                    42.131323,
                    42.131486,
                    42.131001,
                    42.129566,
                    42.128268,
                    42.127848,
                    42.125992,
                    42.125514,
                    42.129766
                  ],
                  "lon": [
                    -71.54095,
                    -71.539959,
                    -71.540795,
                    -71.539325,
                    -71.538877,
                    -71.539641,
                    -71.538114,
                    -71.540988,
                    -71.53879,
                    -71.538338,
                    -71.536422,
                    -71.535994,
                    -71.536633
                  ],
                  "marker": {
                    "size": 15
                  },
                  "mode": "markers",
                  "name": "Drone Zone E-1.2J",
                  "text": [
                    "Sequence: 35<br> Stop ID: LG<br>Zone ID: E-1.2J<br>Num Packages: 1.0 <br> Service Time: 146.0",
                    "Sequence: 36<br> Stop ID: PQ<br>Zone ID: E-1.2J<br>Num Packages: 1.0 <br> Service Time: 82.0",
                    "Sequence: 37<br> Stop ID: HO<br>Zone ID: E-1.2J<br>Num Packages: 1.0 <br> Service Time: 314.0",
                    "Sequence: 38<br> Stop ID: FQ<br>Zone ID: E-1.2J<br>Num Packages: 1.0 <br> Service Time: 71.0",
                    "Sequence: 39<br> Stop ID: WV<br>Zone ID: E-1.2J<br>Num Packages: 1.0 <br> Service Time: 45.0",
                    "Sequence: 40<br> Stop ID: WR<br>Zone ID: E-1.2J<br>Num Packages: 1.0 <br> Service Time: 49.0",
                    "Sequence: 41<br> Stop ID: AC<br>Zone ID: E-1.2J<br>Num Packages: 1.0 <br> Service Time: 65.0",
                    "Sequence: 42<br> Stop ID: DL<br>Zone ID: E-1.2J<br>Num Packages: 1.0 <br> Service Time: 206.0",
                    "Sequence: 43<br> Stop ID: BT<br>Zone ID: E-1.2J<br>Num Packages: 1.0 <br> Service Time: 104.0",
                    "Sequence: 44<br> Stop ID: GQ<br>Zone ID: E-1.2J<br>Num Packages: 1.0 <br> Service Time: 87.0",
                    "Sequence: 45<br> Stop ID: BN<br>Zone ID: E-1.2J<br>Num Packages: 1.0 <br> Service Time: 118.0",
                    "Sequence: 46<br> Stop ID: UY<br>Zone ID: E-1.2J<br>Num Packages: 1.0 <br> Service Time: 100.0",
                    "Sequence: 47<br> Stop ID: NY<br>Zone ID: E-1.2J<br>Num Packages: 2.0 <br> Service Time: 48.5"
                  ],
                  "type": "scattermapbox"
                },
                {
                  "hoverinfo": "text",
                  "lat": [
                    42.124032,
                    42.124038,
                    42.124369,
                    42.125778,
                    42.12044,
                    42.117772,
                    42.120766,
                    42.120975,
                    42.11705
                  ],
                  "lon": [
                    -71.540927,
                    -71.544102,
                    -71.545108,
                    -71.546615,
                    -71.542705,
                    -71.544013,
                    -71.543204,
                    -71.544163,
                    -71.547049
                  ],
                  "marker": {
                    "size": 15
                  },
                  "mode": "markers",
                  "name": "Drone Zone E-1.1J",
                  "text": [
                    "Sequence: 48<br> Stop ID: SE<br>Zone ID: E-1.1J<br>Num Packages: 1.0 <br> Service Time: 50.0",
                    "Sequence: 49<br> Stop ID: YG<br>Zone ID: E-1.1J<br>Num Packages: 2.0 <br> Service Time: 38.5",
                    "Sequence: 50<br> Stop ID: CW<br>Zone ID: E-1.1J<br>Num Packages: 1.0 <br> Service Time: 73.0",
                    "Sequence: 51<br> Stop ID: UE<br>Zone ID: E-1.1J<br>Num Packages: 1.0 <br> Service Time: 56.0",
                    "Sequence: 52<br> Stop ID: FT<br>Zone ID: E-1.1J<br>Num Packages: 1.0 <br> Service Time: 105.0",
                    "Sequence: 53<br> Stop ID: FI<br>Zone ID: E-1.1J<br>Num Packages: 1.0 <br> Service Time: 65.0",
                    "Sequence: 54<br> Stop ID: US<br>Zone ID: E-1.1J<br>Num Packages: 1.0 <br> Service Time: 312.0",
                    "Sequence: 55<br> Stop ID: DN<br>Zone ID: E-1.1J<br>Num Packages: 2.0 <br> Service Time: 59.0",
                    "Sequence: 56<br> Stop ID: CX<br>Zone ID: E-1.1J<br>Num Packages: 1.0 <br> Service Time: 162.0"
                  ],
                  "type": "scattermapbox"
                },
                {
                  "hoverinfo": "text",
                  "lat": [
                    42.121051,
                    42.120341,
                    42.120591,
                    42.124123,
                    42.127365,
                    42.128388,
                    42.129426,
                    42.130843,
                    42.131783
                  ],
                  "lon": [
                    -71.545773,
                    -71.549171,
                    -71.551675,
                    -71.550611,
                    -71.551967,
                    -71.55112,
                    -71.553551,
                    -71.55611,
                    -71.552378
                  ],
                  "marker": {
                    "size": 15
                  },
                  "mode": "markers",
                  "name": "Drone Zone E-2.1J",
                  "text": [
                    "Sequence: 57<br> Stop ID: TL<br>Zone ID: E-2.1J<br>Num Packages: 3.0 <br> Service Time: 74.7",
                    "Sequence: 58<br> Stop ID: SU<br>Zone ID: E-2.1J<br>Num Packages: 1.0 <br> Service Time: 134.0",
                    "Sequence: 59<br> Stop ID: JL<br>Zone ID: E-2.1J<br>Num Packages: 1.0 <br> Service Time: 136.0",
                    "Sequence: 60<br> Stop ID: UI<br>Zone ID: E-2.1J<br>Num Packages: 2.0 <br> Service Time: 76.0",
                    "Sequence: 61<br> Stop ID: NL<br>Zone ID: E-2.1J<br>Num Packages: 1.0 <br> Service Time: 67.0",
                    "Sequence: 62<br> Stop ID: BZ<br>Zone ID: E-2.1J<br>Num Packages: 1.0 <br> Service Time: 81.0",
                    "Sequence: 63<br> Stop ID: ZX<br>Zone ID: E-2.1J<br>Num Packages: 1.0 <br> Service Time: 71.0",
                    "Sequence: 64<br> Stop ID: YR<br>Zone ID: E-2.1J<br>Num Packages: 2.0 <br> Service Time: 51.5",
                    "Sequence: 65<br> Stop ID: DI<br>Zone ID: E-2.1J<br>Num Packages: 1.0 <br> Service Time: 56.0"
                  ],
                  "type": "scattermapbox"
                },
                {
                  "hoverinfo": "text",
                  "lat": [
                    42.129839,
                    42.135489,
                    42.131202,
                    42.126641,
                    42.125951,
                    42.12566,
                    42.128049,
                    42.1282
                  ],
                  "lon": [
                    -71.556861,
                    -71.561803,
                    -71.571969,
                    -71.571935,
                    -71.572483,
                    -71.57254,
                    -71.578627,
                    -71.578917
                  ],
                  "marker": {
                    "size": 15
                  },
                  "mode": "markers",
                  "name": "Drone Zone E-2.2J",
                  "text": [
                    "Sequence: 66<br> Stop ID: ZV<br>Zone ID: E-2.2J<br>Num Packages: 1.0 <br> Service Time: 172.0",
                    "Sequence: 67<br> Stop ID: UJ<br>Zone ID: E-2.2J<br>Num Packages: 1.0 <br> Service Time: 99.0",
                    "Sequence: 68<br> Stop ID: WM<br>Zone ID: E-2.2J<br>Num Packages: 1.0 <br> Service Time: 172.0",
                    "Sequence: 69<br> Stop ID: NG<br>Zone ID: E-2.2J<br>Num Packages: 1.0 <br> Service Time: 68.0",
                    "Sequence: 70<br> Stop ID: ST<br>Zone ID: E-2.2J<br>Num Packages: 1.0 <br> Service Time: 146.0",
                    "Sequence: 71<br> Stop ID: CU<br>Zone ID: E-2.2J<br>Num Packages: 1.0 <br> Service Time: 59.0",
                    "Sequence: 72<br> Stop ID: AP<br>Zone ID: E-2.2J<br>Num Packages: 1.0 <br> Service Time: 100.0",
                    "Sequence: 73<br> Stop ID: KL<br>Zone ID: E-2.2J<br>Num Packages: 1.0 <br> Service Time: 96.0"
                  ],
                  "type": "scattermapbox"
                },
                {
                  "hoverinfo": "text",
                  "lat": [
                    42.125649,
                    42.116133,
                    42.110929,
                    42.110252,
                    42.108828,
                    42.110475,
                    42.102702,
                    42.101216,
                    42.101589,
                    42.101403
                  ],
                  "lon": [
                    -71.568811,
                    -71.566586,
                    -71.556253,
                    -71.555689,
                    -71.562421,
                    -71.56499,
                    -71.553805,
                    -71.555481,
                    -71.556043,
                    -71.556447
                  ],
                  "marker": {
                    "size": 15
                  },
                  "mode": "markers",
                  "name": "Drone Zone E-2.3H",
                  "text": [
                    "Sequence: 74<br> Stop ID: OJ<br>Zone ID: E-2.3H<br>Num Packages: 1.0 <br> Service Time: 103.0",
                    "Sequence: 75<br> Stop ID: ZG<br>Zone ID: E-2.3H<br>Num Packages: 2.0 <br> Service Time: 98.0",
                    "Sequence: 76<br> Stop ID: TO<br>Zone ID: E-2.3H<br>Num Packages: 1.0 <br> Service Time: 93.0",
                    "Sequence: 77<br> Stop ID: AD<br>Zone ID: E-2.3H<br>Num Packages: 1.0 <br> Service Time: 75.0",
                    "Sequence: 78<br> Stop ID: GE<br>Zone ID: E-2.3H<br>Num Packages: 1.0 <br> Service Time: 100.0",
                    "Sequence: 79<br> Stop ID: EY<br>Zone ID: E-2.3H<br>Num Packages: 1.0 <br> Service Time: 79.0",
                    "Sequence: 80<br> Stop ID: OM<br>Zone ID: E-2.3H<br>Num Packages: 1.0 <br> Service Time: 31.0",
                    "Sequence: 81<br> Stop ID: SR<br>Zone ID: E-2.3H<br>Num Packages: 1.0 <br> Service Time: 82.0",
                    "Sequence: 82<br> Stop ID: XU<br>Zone ID: E-2.3H<br>Num Packages: 1.0 <br> Service Time: 105.0",
                    "Sequence: 83<br> Stop ID: JU<br>Zone ID: E-2.3H<br>Num Packages: 1.0 <br> Service Time: 57.0"
                  ],
                  "type": "scattermapbox"
                },
                {
                  "hoverinfo": "text",
                  "lat": [
                    42.101185,
                    42.100946,
                    42.08376,
                    42.084195,
                    42.082837,
                    42.080895,
                    42.08229,
                    42.088175,
                    42.089674,
                    42.086827,
                    42.07244,
                    42.071516,
                    42.07397
                  ],
                  "lon": [
                    -71.551259,
                    -71.551314,
                    -71.551694,
                    -71.55201,
                    -71.555256,
                    -71.556956,
                    -71.559,
                    -71.554347,
                    -71.55466,
                    -71.55235,
                    -71.553688,
                    -71.55374,
                    -71.551047
                  ],
                  "marker": {
                    "size": 15
                  },
                  "mode": "markers",
                  "name": "Drone Zone E-2.1G",
                  "text": [
                    "Sequence: 84<br> Stop ID: NB<br>Zone ID: E-2.1G<br>Num Packages: 1.0 <br> Service Time: 76.0",
                    "Sequence: 85<br> Stop ID: TJ<br>Zone ID: E-2.1G<br>Num Packages: 1.0 <br> Service Time: 78.0",
                    "Sequence: 107<br> Stop ID: JZ<br>Zone ID: E-2.1G<br>Num Packages: 1.0 <br> Service Time: 175.0",
                    "Sequence: 108<br> Stop ID: PU<br>Zone ID: E-2.1G<br>Num Packages: 2.0 <br> Service Time: 71.5",
                    "Sequence: 109<br> Stop ID: KX<br>Zone ID: E-2.1G<br>Num Packages: 1.0 <br> Service Time: 113.0",
                    "Sequence: 110<br> Stop ID: ZO<br>Zone ID: E-2.1G<br>Num Packages: 1.0 <br> Service Time: 148.0",
                    "Sequence: 111<br> Stop ID: FL<br>Zone ID: E-2.1G<br>Num Packages: 1.0 <br> Service Time: 121.0",
                    "Sequence: 112<br> Stop ID: ND<br>Zone ID: E-2.1G<br>Num Packages: 1.0 <br> Service Time: 142.0",
                    "Sequence: 113<br> Stop ID: NW<br>Zone ID: E-2.1G<br>Num Packages: 1.0 <br> Service Time: 102.0",
                    "Sequence: 114<br> Stop ID: QO<br>Zone ID: E-2.1G<br>Num Packages: 1.0 <br> Service Time: 82.0",
                    "Sequence: 115<br> Stop ID: OE<br>Zone ID: E-2.1G<br>Num Packages: 2.0 <br> Service Time: 79.0",
                    "Sequence: 116<br> Stop ID: NH<br>Zone ID: E-2.1G<br>Num Packages: 1.0 <br> Service Time: 74.0",
                    "Sequence: 117<br> Stop ID: SM<br>Zone ID: E-2.1G<br>Num Packages: 1.0 <br> Service Time: 71.0"
                  ],
                  "type": "scattermapbox"
                },
                {
                  "hoverinfo": "text",
                  "lat": [
                    42.105719,
                    42.106275,
                    42.09994,
                    42.098301,
                    42.091701,
                    42.093273,
                    42.096478,
                    42.097525,
                    42.097741,
                    42.089222,
                    42.089052,
                    42.08848,
                    42.087781,
                    42.087774
                  ],
                  "lon": [
                    -71.544234,
                    -71.540355,
                    -71.541582,
                    -71.540291,
                    -71.529757,
                    -71.522541,
                    -71.525742,
                    -71.526315,
                    -71.528215,
                    -71.533181,
                    -71.533044,
                    -71.5326,
                    -71.534642,
                    -71.534656
                  ],
                  "marker": {
                    "size": 15
                  },
                  "mode": "markers",
                  "name": "Drone Zone E-2.3G",
                  "text": [
                    "Sequence: 86<br> Stop ID: QZ<br>Zone ID: E-2.3G<br>Num Packages: 1.0 <br> Service Time: 45.0",
                    "Sequence: 87<br> Stop ID: SZ<br>Zone ID: E-2.3G<br>Num Packages: 2.0 <br> Service Time: 33.5",
                    "Sequence: 88<br> Stop ID: TP<br>Zone ID: E-2.3G<br>Num Packages: 1.0 <br> Service Time: 66.0",
                    "Sequence: 89<br> Stop ID: VT<br>Zone ID: E-2.3G<br>Num Packages: 1.0 <br> Service Time: 101.0",
                    "Sequence: 90<br> Stop ID: IC<br>Zone ID: E-2.3G<br>Num Packages: 1.0 <br> Service Time: 86.0",
                    "Sequence: 91<br> Stop ID: QU<br>Zone ID: E-2.3G<br>Num Packages: 1.0 <br> Service Time: 63.0",
                    "Sequence: 92<br> Stop ID: YE<br>Zone ID: E-2.3G<br>Num Packages: 1.0 <br> Service Time: 45.0",
                    "Sequence: 93<br> Stop ID: OC<br>Zone ID: E-2.3G<br>Num Packages: 1.0 <br> Service Time: 81.0",
                    "Sequence: 94<br> Stop ID: ML<br>Zone ID: E-2.3G<br>Num Packages: 2.0 <br> Service Time: 48.0",
                    "Sequence: 95<br> Stop ID: XB<br>Zone ID: E-2.3G<br>Num Packages: 1.0 <br> Service Time: 81.0",
                    "Sequence: 96<br> Stop ID: JD<br>Zone ID: E-2.3G<br>Num Packages: 3.0 <br> Service Time: 78.7",
                    "Sequence: 97<br> Stop ID: ZA<br>Zone ID: E-2.3G<br>Num Packages: 1.0 <br> Service Time: 172.0",
                    "Sequence: 98<br> Stop ID: CA<br>Zone ID: E-2.3G<br>Num Packages: 1.0 <br> Service Time: 92.0",
                    "Sequence: 99<br> Stop ID: IB<br>Zone ID: E-2.3G<br>Num Packages: 1.0 <br> Service Time: 170.0"
                  ],
                  "type": "scattermapbox"
                },
                {
                  "hoverinfo": "text",
                  "lat": [
                    42.085539,
                    42.083353,
                    42.082898,
                    42.081163,
                    42.08066,
                    42.080541,
                    42.088684
                  ],
                  "lon": [
                    -71.545158,
                    -71.547355,
                    -71.54777,
                    -71.548001,
                    -71.549721,
                    -71.551435,
                    -71.545654
                  ],
                  "marker": {
                    "size": 15
                  },
                  "mode": "markers",
                  "name": "Drone Zone E-2.2G",
                  "text": [
                    "Sequence: 100<br> Stop ID: FE<br>Zone ID: E-2.2G<br>Num Packages: 1.0 <br> Service Time: 73.0",
                    "Sequence: 101<br> Stop ID: OD<br>Zone ID: E-2.2G<br>Num Packages: 2.0 <br> Service Time: 43.5",
                    "Sequence: 102<br> Stop ID: PX<br>Zone ID: E-2.2G<br>Num Packages: 4.0 <br> Service Time: 51.0",
                    "Sequence: 103<br> Stop ID: GM<br>Zone ID: E-2.2G<br>Num Packages: 1.0 <br> Service Time: 92.0",
                    "Sequence: 104<br> Stop ID: SG<br>Zone ID: E-2.2G<br>Num Packages: 1.0 <br> Service Time: 77.0",
                    "Sequence: 105<br> Stop ID: IF<br>Zone ID: E-2.2G<br>Num Packages: 2.0 <br> Service Time: 56.0",
                    "Sequence: 106<br> Stop ID: MN<br>Zone ID: E-2.2G<br>Num Packages: 2.0 <br> Service Time: 53.0"
                  ],
                  "type": "scattermapbox"
                },
                {
                  "hoverinfo": "text",
                  "lat": [
                    42.08234,
                    42.084637,
                    42.086276,
                    42.091579,
                    42.071217,
                    42.068769,
                    42.065299,
                    42.066053,
                    42.066606,
                    42.067098,
                    42.069052
                  ],
                  "lon": [
                    -71.569138,
                    -71.565057,
                    -71.564665,
                    -71.562969,
                    -71.569623,
                    -71.568176,
                    -71.56307,
                    -71.560007,
                    -71.560328,
                    -71.561395,
                    -71.570989
                  ],
                  "marker": {
                    "size": 15
                  },
                  "mode": "markers",
                  "name": "Drone Zone E-2.1H",
                  "text": [
                    "Sequence: 118<br> Stop ID: PM<br>Zone ID: E-2.1H<br>Num Packages: 1.0 <br> Service Time: 83.0",
                    "Sequence: 119<br> Stop ID: AL<br>Zone ID: E-2.1H<br>Num Packages: 1.0 <br> Service Time: 140.0",
                    "Sequence: 120<br> Stop ID: LI<br>Zone ID: E-2.1H<br>Num Packages: 1.0 <br> Service Time: 166.0",
                    "Sequence: 121<br> Stop ID: PH<br>Zone ID: E-2.1H<br>Num Packages: 1.0 <br> Service Time: 70.0",
                    "Sequence: 122<br> Stop ID: LZ<br>Zone ID: E-2.1H<br>Num Packages: 2.0 <br> Service Time: 59.0",
                    "Sequence: 123<br> Stop ID: RK<br>Zone ID: E-2.1H<br>Num Packages: 1.0 <br> Service Time: 92.0",
                    "Sequence: 124<br> Stop ID: IK<br>Zone ID: E-2.1H<br>Num Packages: 1.0 <br> Service Time: 60.0",
                    "Sequence: 125<br> Stop ID: MM<br>Zone ID: E-2.1H<br>Num Packages: 2.0 <br> Service Time: 80.5",
                    "Sequence: 126<br> Stop ID: ID<br>Zone ID: E-2.1H<br>Num Packages: 1.0 <br> Service Time: 105.0",
                    "Sequence: 127<br> Stop ID: OV<br>Zone ID: E-2.1H<br>Num Packages: 1.0 <br> Service Time: 90.0",
                    "Sequence: 128<br> Stop ID: XK<br>Zone ID: E-2.1H<br>Num Packages: 1.0 <br> Service Time: 80.0"
                  ],
                  "type": "scattermapbox"
                },
                {
                  "hoverinfo": "text",
                  "lat": [
                    42.098311,
                    42.100858,
                    42.09491,
                    42.094155,
                    42.09345,
                    42.0928
                  ],
                  "lon": [
                    -71.565798,
                    -71.569223,
                    -71.567879,
                    -71.567809,
                    -71.570252,
                    -71.57135
                  ],
                  "marker": {
                    "size": 15
                  },
                  "mode": "markers",
                  "name": "Drone Zone E-2.2H",
                  "text": [
                    "Sequence: 129<br> Stop ID: EI<br>Zone ID: E-2.2H<br>Num Packages: 1.0 <br> Service Time: 196.0",
                    "Sequence: 130<br> Stop ID: PO<br>Zone ID: E-2.2H<br>Num Packages: 2.0 <br> Service Time: 129.5",
                    "Sequence: 131<br> Stop ID: AY<br>Zone ID: E-2.2H<br>Num Packages: 1.0 <br> Service Time: 55.0",
                    "Sequence: 132<br> Stop ID: PV<br>Zone ID: E-2.2H<br>Num Packages: 2.0 <br> Service Time: 57.5",
                    "Sequence: 133<br> Stop ID: ET<br>Zone ID: E-2.2H<br>Num Packages: 1.0 <br> Service Time: 77.0",
                    "Sequence: 134<br> Stop ID: SD<br>Zone ID: E-2.2H<br>Num Packages: 1.0 <br> Service Time: 171.0"
                  ],
                  "type": "scattermapbox"
                },
                {
                  "hoverinfo": "text",
                  "lat": [
                    42.117964,
                    42.11913,
                    42.122523,
                    42.122976,
                    42.120684,
                    42.120485,
                    42.119914,
                    42.117205,
                    42.117445,
                    42.115553,
                    42.112118
                  ],
                  "lon": [
                    -71.573898,
                    -71.574056,
                    -71.574733,
                    -71.574975,
                    -71.578937,
                    -71.577536,
                    -71.575428,
                    -71.574765,
                    -71.579092,
                    -71.587857,
                    -71.597602
                  ],
                  "marker": {
                    "size": 15
                  },
                  "mode": "markers",
                  "name": "Drone Zone E-2.3J",
                  "text": [
                    "Sequence: 135<br> Stop ID: NT<br>Zone ID: E-2.3J<br>Num Packages: 1.0 <br> Service Time: 60.0",
                    "Sequence: 136<br> Stop ID: UV<br>Zone ID: E-2.3J<br>Num Packages: 1.0 <br> Service Time: 157.0",
                    "Sequence: 137<br> Stop ID: JN<br>Zone ID: E-2.3J<br>Num Packages: 1.0 <br> Service Time: 69.0",
                    "Sequence: 138<br> Stop ID: HV<br>Zone ID: E-2.3J<br>Num Packages: 2.0 <br> Service Time: 41.0",
                    "Sequence: 139<br> Stop ID: IO<br>Zone ID: E-2.3J<br>Num Packages: 1.0 <br> Service Time: 58.0",
                    "Sequence: 140<br> Stop ID: WC<br>Zone ID: E-2.3J<br>Num Packages: 2.0 <br> Service Time: 69.0",
                    "Sequence: 141<br> Stop ID: GG<br>Zone ID: E-2.3J<br>Num Packages: 1.0 <br> Service Time: 67.0",
                    "Sequence: 142<br> Stop ID: YW<br>Zone ID: E-2.3J<br>Num Packages: 2.0 <br> Service Time: 72.5",
                    "Sequence: 143<br> Stop ID: VA<br>Zone ID: E-2.3J<br>Num Packages: 2.0 <br> Service Time: 60.0",
                    "Sequence: 144<br> Stop ID: KZ<br>Zone ID: E-2.3J<br>Num Packages: 2.0 <br> Service Time: 74.0",
                    "Sequence: 145<br> Stop ID: UP<br>Zone ID: E-2.3J<br>Num Packages: 1.0 <br> Service Time: 106.0"
                  ],
                  "type": "scattermapbox"
                },
                {
                  "hoverinfo": "text",
                  "lat": [
                    42.140655,
                    42.149406,
                    42.150955,
                    42.150434,
                    42.152468,
                    42.153178,
                    42.148646,
                    42.148227,
                    42.147267,
                    42.145646,
                    42.148971
                  ],
                  "lon": [
                    -71.536264,
                    -71.541475,
                    -71.543177,
                    -71.543739,
                    -71.545145,
                    -71.544067,
                    -71.542931,
                    -71.542674,
                    -71.540911,
                    -71.539764,
                    -71.544248
                  ],
                  "marker": {
                    "size": 15
                  },
                  "mode": "markers",
                  "name": "Drone Zone E-1.2G",
                  "text": [
                    "Sequence: 151<br> Stop ID: MZ<br>Zone ID: E-1.2G<br>Num Packages: 1.0 <br> Service Time: 105.0",
                    "Sequence: 152<br> Stop ID: EE<br>Zone ID: E-1.2G<br>Num Packages: 1.0 <br> Service Time: 78.0",
                    "Sequence: 153<br> Stop ID: MD<br>Zone ID: E-1.2G<br>Num Packages: 1.0 <br> Service Time: 51.0",
                    "Sequence: 154<br> Stop ID: AR<br>Zone ID: E-1.2G<br>Num Packages: 1.0 <br> Service Time: 45.0",
                    "Sequence: 155<br> Stop ID: SN<br>Zone ID: E-1.2G<br>Num Packages: 1.0 <br> Service Time: 63.0",
                    "Sequence: 156<br> Stop ID: VB<br>Zone ID: E-1.2G<br>Num Packages: 1.0 <br> Service Time: 79.0",
                    "Sequence: 157<br> Stop ID: VJ<br>Zone ID: E-1.2G<br>Num Packages: 1.0 <br> Service Time: 112.0",
                    "Sequence: 158<br> Stop ID: YA<br>Zone ID: E-1.2G<br>Num Packages: 1.0 <br> Service Time: 101.0",
                    "Sequence: 159<br> Stop ID: KS<br>Zone ID: E-1.2G<br>Num Packages: 1.0 <br> Service Time: 47.0",
                    "Sequence: 160<br> Stop ID: PE<br>Zone ID: E-1.2G<br>Num Packages: 2.0 <br> Service Time: 21.0",
                    "Sequence: 161<br> Stop ID: GR<br>Zone ID: E-1.2G<br>Num Packages: 1.0 <br> Service Time: 98.0"
                  ],
                  "type": "scattermapbox"
                },
                {
                  "hoverinfo": "none",
                  "lat": [
                    42.139891,
                    42.139089,
                    42.138518,
                    42.138304,
                    42.138168,
                    42.138013,
                    42.139661,
                    42.141271,
                    42.142625,
                    42.140573,
                    42.143604,
                    42.141526,
                    42.143284,
                    42.13807,
                    42.136668,
                    42.136174,
                    42.139035,
                    42.138027,
                    42.138476,
                    42.137425,
                    42.138349,
                    42.139095,
                    42.140455,
                    42.141612,
                    42.140229,
                    42.139733,
                    42.139294,
                    42.137706,
                    42.136912,
                    42.136227,
                    42.136319,
                    42.133937,
                    42.132317,
                    42.131921,
                    42.131869,
                    42.131486,
                    42.131001,
                    42.129566,
                    42.128268,
                    42.125992,
                    42.125514,
                    42.129766,
                    42.124038,
                    42.124369,
                    42.12044,
                    42.117772,
                    42.120766,
                    42.120975,
                    42.121051,
                    42.120341,
                    42.124123,
                    42.127365,
                    42.128388,
                    42.129426,
                    42.130843,
                    42.129839,
                    42.135489,
                    42.131202,
                    42.125951,
                    42.12566,
                    42.1282,
                    42.125649,
                    42.116133,
                    42.110929,
                    42.110252,
                    42.108828,
                    42.110475,
                    42.102702,
                    42.101216,
                    42.101403,
                    42.101185,
                    42.105719,
                    42.106275,
                    42.098301,
                    42.091701,
                    42.093273,
                    42.097525,
                    42.097741,
                    42.089052,
                    42.08848,
                    42.087774,
                    42.085539,
                    42.083353,
                    42.082898,
                    42.08066,
                    42.080541,
                    42.088684,
                    42.08376,
                    42.084195,
                    42.080895,
                    42.08229,
                    42.088175,
                    42.089674,
                    42.086827,
                    42.07244,
                    42.07397,
                    42.08234,
                    42.084637,
                    42.086276,
                    42.091579,
                    42.071217,
                    42.065299,
                    42.066053,
                    42.066606,
                    42.069052,
                    42.098311,
                    42.100858,
                    42.094155,
                    42.09345,
                    42.0928,
                    42.11913,
                    42.122523,
                    42.122976,
                    42.120684,
                    42.120485,
                    42.117205,
                    42.117445,
                    42.115553,
                    42.112118,
                    42.131043,
                    42.13004,
                    42.130505,
                    42.13111,
                    42.140655,
                    42.149406,
                    42.150434,
                    42.152468,
                    42.153178,
                    42.148227,
                    42.147267,
                    42.145646,
                    42.148971,
                    42.139891
                  ],
                  "line": {
                    "color": "blue",
                    "width": 2
                  },
                  "lon": [
                    -71.494346,
                    -71.524434,
                    -71.525506,
                    -71.525361,
                    -71.529156,
                    -71.530182,
                    -71.529452,
                    -71.528049,
                    -71.529995,
                    -71.531935,
                    -71.534119,
                    -71.534137,
                    -71.531322,
                    -71.533233,
                    -71.53178,
                    -71.531294,
                    -71.536231,
                    -71.539181,
                    -71.540799,
                    -71.54024,
                    -71.54241,
                    -71.542843,
                    -71.543684,
                    -71.545708,
                    -71.546878,
                    -71.547296,
                    -71.546923,
                    -71.545586,
                    -71.544912,
                    -71.544317,
                    -71.542944,
                    -71.542708,
                    -71.539959,
                    -71.540795,
                    -71.539325,
                    -71.539641,
                    -71.538114,
                    -71.540988,
                    -71.53879,
                    -71.536422,
                    -71.535994,
                    -71.536633,
                    -71.544102,
                    -71.545108,
                    -71.542705,
                    -71.544013,
                    -71.543204,
                    -71.544163,
                    -71.545773,
                    -71.549171,
                    -71.550611,
                    -71.551967,
                    -71.55112,
                    -71.553551,
                    -71.55611,
                    -71.556861,
                    -71.561803,
                    -71.571969,
                    -71.572483,
                    -71.57254,
                    -71.578917,
                    -71.568811,
                    -71.566586,
                    -71.556253,
                    -71.555689,
                    -71.562421,
                    -71.56499,
                    -71.553805,
                    -71.555481,
                    -71.556447,
                    -71.551259,
                    -71.544234,
                    -71.540355,
                    -71.540291,
                    -71.529757,
                    -71.522541,
                    -71.526315,
                    -71.528215,
                    -71.533044,
                    -71.5326,
                    -71.534656,
                    -71.545158,
                    -71.547355,
                    -71.54777,
                    -71.549721,
                    -71.551435,
                    -71.545654,
                    -71.551694,
                    -71.55201,
                    -71.556956,
                    -71.559,
                    -71.554347,
                    -71.55466,
                    -71.55235,
                    -71.553688,
                    -71.551047,
                    -71.569138,
                    -71.565057,
                    -71.564665,
                    -71.562969,
                    -71.569623,
                    -71.56307,
                    -71.560007,
                    -71.560328,
                    -71.570989,
                    -71.565798,
                    -71.569223,
                    -71.567809,
                    -71.570252,
                    -71.57135,
                    -71.574056,
                    -71.574733,
                    -71.574975,
                    -71.578937,
                    -71.577536,
                    -71.574765,
                    -71.579092,
                    -71.587857,
                    -71.597602,
                    -71.547647,
                    -71.547106,
                    -71.546481,
                    -71.546931,
                    -71.536264,
                    -71.541475,
                    -71.543739,
                    -71.545145,
                    -71.544067,
                    -71.542674,
                    -71.540911,
                    -71.539764,
                    -71.544248,
                    -71.494346
                  ],
                  "mode": "lines",
                  "name": "Route Path",
                  "type": "scattermapbox"
                },
                {
                  "hoverinfo": "text",
                  "lat": [],
                  "lon": [],
                  "marker": {
                    "size": 15
                  },
                  "mode": "markers",
                  "name": "Route Zone nan",
                  "text": [],
                  "type": "scattermapbox"
                },
                {
                  "hoverinfo": "text",
                  "lat": [
                    42.139089,
                    42.138518,
                    42.138304,
                    42.138168,
                    42.138013,
                    42.139661,
                    42.141271,
                    42.142625
                  ],
                  "lon": [
                    -71.524434,
                    -71.525506,
                    -71.525361,
                    -71.529156,
                    -71.530182,
                    -71.529452,
                    -71.528049,
                    -71.529995
                  ],
                  "marker": {
                    "size": 15
                  },
                  "mode": "markers",
                  "name": "Route Zone E-1.1H",
                  "text": [
                    "Sequence: 1<br> Stop ID: VU<br>Zone ID: E-1.1H<br>Num Packages: 1.0 <br> Service Time: 111.0",
                    "Sequence: 2<br> Stop ID: ZP<br>Zone ID: E-1.1H<br>Num Packages: 2.0 <br> Service Time: 90.5",
                    "Sequence: 3<br> Stop ID: KH<br>Zone ID: E-1.1H<br>Num Packages: 1.0 <br> Service Time: 71.0",
                    "Sequence: 4<br> Stop ID: WW<br>Zone ID: E-1.1H<br>Num Packages: 2.0 <br> Service Time: 73.0",
                    "Sequence: 5<br> Stop ID: QC<br>Zone ID: E-1.1H<br>Num Packages: 2.0 <br> Service Time: 146.0",
                    "Sequence: 6<br> Stop ID: FS<br>Zone ID: E-1.1H<br>Num Packages: 2.0 <br> Service Time: 108.0",
                    "Sequence: 7<br> Stop ID: BJ<br>Zone ID: E-1.1H<br>Num Packages: 1.0 <br> Service Time: 62.0",
                    "Sequence: 8<br> Stop ID: FV<br>Zone ID: E-1.1H<br>Num Packages: 1.0 <br> Service Time: 78.0"
                  ],
                  "type": "scattermapbox"
                },
                {
                  "hoverinfo": "text",
                  "lat": [
                    42.140573,
                    42.143604,
                    42.141526,
                    42.143284,
                    42.13807
                  ],
                  "lon": [
                    -71.531935,
                    -71.534119,
                    -71.534137,
                    -71.531322,
                    -71.533233
                  ],
                  "marker": {
                    "size": 15
                  },
                  "mode": "markers",
                  "name": "Route Zone E-1.1G",
                  "text": [
                    "Sequence: 9<br> Stop ID: XO<br>Zone ID: E-1.1G<br>Num Packages: 1.0 <br> Service Time: 32.0",
                    "Sequence: 10<br> Stop ID: CF<br>Zone ID: E-1.1G<br>Num Packages: 1.0 <br> Service Time: 250.0",
                    "Sequence: 11<br> Stop ID: YV<br>Zone ID: E-1.1G<br>Num Packages: 1.0 <br> Service Time: 50.0",
                    "Sequence: 12<br> Stop ID: CY<br>Zone ID: E-1.1G<br>Num Packages: 1.0 <br> Service Time: 87.0",
                    "Sequence: 13<br> Stop ID: JQ<br>Zone ID: E-1.1G<br>Num Packages: 1.0 <br> Service Time: 370.0"
                  ],
                  "type": "scattermapbox"
                },
                {
                  "hoverinfo": "text",
                  "lat": [
                    42.136668,
                    42.136174,
                    42.139035,
                    42.138027,
                    42.138476,
                    42.137425,
                    42.138349,
                    42.139095,
                    42.140455,
                    42.141612
                  ],
                  "lon": [
                    -71.53178,
                    -71.531294,
                    -71.536231,
                    -71.539181,
                    -71.540799,
                    -71.54024,
                    -71.54241,
                    -71.542843,
                    -71.543684,
                    -71.545708
                  ],
                  "marker": {
                    "size": 15
                  },
                  "mode": "markers",
                  "name": "Route Zone E-1.2H",
                  "text": [
                    "Sequence: 14<br> Stop ID: DZ<br>Zone ID: E-1.2H<br>Num Packages: 1.0 <br> Service Time: 102.0",
                    "Sequence: 15<br> Stop ID: CN<br>Zone ID: E-1.2H<br>Num Packages: 2.0 <br> Service Time: 64.0",
                    "Sequence: 16<br> Stop ID: VM<br>Zone ID: E-1.2H<br>Num Packages: 1.0 <br> Service Time: 221.0",
                    "Sequence: 17<br> Stop ID: XG<br>Zone ID: E-1.2H<br>Num Packages: 3.0 <br> Service Time: 60.0",
                    "Sequence: 18<br> Stop ID: DX<br>Zone ID: E-1.2H<br>Num Packages: 1.0 <br> Service Time: 83.0",
                    "Sequence: 19<br> Stop ID: BE<br>Zone ID: E-1.2H<br>Num Packages: 2.0 <br> Service Time: 72.5",
                    "Sequence: 20<br> Stop ID: AG<br>Zone ID: E-1.2H<br>Num Packages: 2.0 <br> Service Time: 62.5",
                    "Sequence: 21<br> Stop ID: KY<br>Zone ID: E-1.2H<br>Num Packages: 1.0 <br> Service Time: 98.0",
                    "Sequence: 22<br> Stop ID: KR<br>Zone ID: E-1.2H<br>Num Packages: 1.0 <br> Service Time: 52.0",
                    "Sequence: 23<br> Stop ID: BX<br>Zone ID: E-1.2H<br>Num Packages: 1.0 <br> Service Time: 65.0"
                  ],
                  "type": "scattermapbox"
                },
                {
                  "hoverinfo": "text",
                  "lat": [
                    42.140229,
                    42.139733,
                    42.139294,
                    42.137706,
                    42.136912,
                    42.136227,
                    42.136319
                  ],
                  "lon": [
                    -71.546878,
                    -71.547296,
                    -71.546923,
                    -71.545586,
                    -71.544912,
                    -71.544317,
                    -71.542944
                  ],
                  "marker": {
                    "size": 15
                  },
                  "mode": "markers",
                  "name": "Route Zone E-1.3H",
                  "text": [
                    "Sequence: 24<br> Stop ID: IE<br>Zone ID: E-1.3H<br>Num Packages: 2.0 <br> Service Time: 99.0",
                    "Sequence: 25<br> Stop ID: YH<br>Zone ID: E-1.3H<br>Num Packages: 1.0 <br> Service Time: 111.0",
                    "Sequence: 26<br> Stop ID: BP<br>Zone ID: E-1.3H<br>Num Packages: 1.0 <br> Service Time: 80.0",
                    "Sequence: 27<br> Stop ID: LL<br>Zone ID: E-1.3H<br>Num Packages: 1.0 <br> Service Time: 58.0",
                    "Sequence: 28<br> Stop ID: TR<br>Zone ID: E-1.3H<br>Num Packages: 1.0 <br> Service Time: 135.0",
                    "Sequence: 29<br> Stop ID: PB<br>Zone ID: E-1.3H<br>Num Packages: 1.0 <br> Service Time: 84.0",
                    "Sequence: 30<br> Stop ID: XQ<br>Zone ID: E-1.3H<br>Num Packages: 1.0 <br> Service Time: 107.0"
                  ],
                  "type": "scattermapbox"
                },
                {
                  "hoverinfo": "text",
                  "lat": [
                    42.133937,
                    42.131043,
                    42.13004,
                    42.130505,
                    42.13111
                  ],
                  "lon": [
                    -71.542708,
                    -71.547647,
                    -71.547106,
                    -71.546481,
                    -71.546931
                  ],
                  "marker": {
                    "size": 15
                  },
                  "mode": "markers",
                  "name": "Route Zone E-1.3J",
                  "text": [
                    "Sequence: 31<br> Stop ID: UW<br>Zone ID: E-1.3J<br>Num Packages: 1.0 <br> Service Time: 78.0",
                    "Sequence: 119<br> Stop ID: AZ<br>Zone ID: E-1.3J<br>Num Packages: 2.0 <br> Service Time: 68.5",
                    "Sequence: 120<br> Stop ID: OU<br>Zone ID: E-1.3J<br>Num Packages: 1.0 <br> Service Time: 76.0",
                    "Sequence: 121<br> Stop ID: II<br>Zone ID: E-1.3J<br>Num Packages: 1.0 <br> Service Time: 46.0",
                    "Sequence: 122<br> Stop ID: ZL<br>Zone ID: E-1.3J<br>Num Packages: 1.0 <br> Service Time: 172.0"
                  ],
                  "type": "scattermapbox"
                },
                {
                  "hoverinfo": "text",
                  "lat": [
                    42.132317,
                    42.131921,
                    42.131869,
                    42.131486,
                    42.131001,
                    42.129566,
                    42.128268,
                    42.125992,
                    42.125514,
                    42.129766
                  ],
                  "lon": [
                    -71.539959,
                    -71.540795,
                    -71.539325,
                    -71.539641,
                    -71.538114,
                    -71.540988,
                    -71.53879,
                    -71.536422,
                    -71.535994,
                    -71.536633
                  ],
                  "marker": {
                    "size": 15
                  },
                  "mode": "markers",
                  "name": "Route Zone E-1.2J",
                  "text": [
                    "Sequence: 32<br> Stop ID: PQ<br>Zone ID: E-1.2J<br>Num Packages: 1.0 <br> Service Time: 82.0",
                    "Sequence: 33<br> Stop ID: HO<br>Zone ID: E-1.2J<br>Num Packages: 1.0 <br> Service Time: 314.0",
                    "Sequence: 34<br> Stop ID: FQ<br>Zone ID: E-1.2J<br>Num Packages: 1.0 <br> Service Time: 71.0",
                    "Sequence: 35<br> Stop ID: WR<br>Zone ID: E-1.2J<br>Num Packages: 1.0 <br> Service Time: 49.0",
                    "Sequence: 36<br> Stop ID: AC<br>Zone ID: E-1.2J<br>Num Packages: 1.0 <br> Service Time: 65.0",
                    "Sequence: 37<br> Stop ID: DL<br>Zone ID: E-1.2J<br>Num Packages: 1.0 <br> Service Time: 206.0",
                    "Sequence: 38<br> Stop ID: BT<br>Zone ID: E-1.2J<br>Num Packages: 1.0 <br> Service Time: 104.0",
                    "Sequence: 39<br> Stop ID: BN<br>Zone ID: E-1.2J<br>Num Packages: 1.0 <br> Service Time: 118.0",
                    "Sequence: 40<br> Stop ID: UY<br>Zone ID: E-1.2J<br>Num Packages: 1.0 <br> Service Time: 100.0",
                    "Sequence: 41<br> Stop ID: NY<br>Zone ID: E-1.2J<br>Num Packages: 2.0 <br> Service Time: 48.5"
                  ],
                  "type": "scattermapbox"
                },
                {
                  "hoverinfo": "text",
                  "lat": [
                    42.124038,
                    42.124369,
                    42.12044,
                    42.117772,
                    42.120766,
                    42.120975
                  ],
                  "lon": [
                    -71.544102,
                    -71.545108,
                    -71.542705,
                    -71.544013,
                    -71.543204,
                    -71.544163
                  ],
                  "marker": {
                    "size": 15
                  },
                  "mode": "markers",
                  "name": "Route Zone E-1.1J",
                  "text": [
                    "Sequence: 42<br> Stop ID: YG<br>Zone ID: E-1.1J<br>Num Packages: 2.0 <br> Service Time: 38.5",
                    "Sequence: 43<br> Stop ID: CW<br>Zone ID: E-1.1J<br>Num Packages: 1.0 <br> Service Time: 73.0",
                    "Sequence: 44<br> Stop ID: FT<br>Zone ID: E-1.1J<br>Num Packages: 1.0 <br> Service Time: 105.0",
                    "Sequence: 45<br> Stop ID: FI<br>Zone ID: E-1.1J<br>Num Packages: 1.0 <br> Service Time: 65.0",
                    "Sequence: 46<br> Stop ID: US<br>Zone ID: E-1.1J<br>Num Packages: 1.0 <br> Service Time: 312.0",
                    "Sequence: 47<br> Stop ID: DN<br>Zone ID: E-1.1J<br>Num Packages: 2.0 <br> Service Time: 59.0"
                  ],
                  "type": "scattermapbox"
                },
                {
                  "hoverinfo": "text",
                  "lat": [
                    42.121051,
                    42.120341,
                    42.124123,
                    42.127365,
                    42.128388,
                    42.129426,
                    42.130843
                  ],
                  "lon": [
                    -71.545773,
                    -71.549171,
                    -71.550611,
                    -71.551967,
                    -71.55112,
                    -71.553551,
                    -71.55611
                  ],
                  "marker": {
                    "size": 15
                  },
                  "mode": "markers",
                  "name": "Route Zone E-2.1J",
                  "text": [
                    "Sequence: 48<br> Stop ID: TL<br>Zone ID: E-2.1J<br>Num Packages: 3.0 <br> Service Time: 74.7",
                    "Sequence: 49<br> Stop ID: SU<br>Zone ID: E-2.1J<br>Num Packages: 1.0 <br> Service Time: 134.0",
                    "Sequence: 50<br> Stop ID: UI<br>Zone ID: E-2.1J<br>Num Packages: 2.0 <br> Service Time: 76.0",
                    "Sequence: 51<br> Stop ID: NL<br>Zone ID: E-2.1J<br>Num Packages: 1.0 <br> Service Time: 67.0",
                    "Sequence: 52<br> Stop ID: BZ<br>Zone ID: E-2.1J<br>Num Packages: 1.0 <br> Service Time: 81.0",
                    "Sequence: 53<br> Stop ID: ZX<br>Zone ID: E-2.1J<br>Num Packages: 1.0 <br> Service Time: 71.0",
                    "Sequence: 54<br> Stop ID: YR<br>Zone ID: E-2.1J<br>Num Packages: 2.0 <br> Service Time: 51.5"
                  ],
                  "type": "scattermapbox"
                },
                {
                  "hoverinfo": "text",
                  "lat": [
                    42.129839,
                    42.135489,
                    42.131202,
                    42.125951,
                    42.12566,
                    42.1282
                  ],
                  "lon": [
                    -71.556861,
                    -71.561803,
                    -71.571969,
                    -71.572483,
                    -71.57254,
                    -71.578917
                  ],
                  "marker": {
                    "size": 15
                  },
                  "mode": "markers",
                  "name": "Route Zone E-2.2J",
                  "text": [
                    "Sequence: 55<br> Stop ID: ZV<br>Zone ID: E-2.2J<br>Num Packages: 1.0 <br> Service Time: 172.0",
                    "Sequence: 56<br> Stop ID: UJ<br>Zone ID: E-2.2J<br>Num Packages: 1.0 <br> Service Time: 99.0",
                    "Sequence: 57<br> Stop ID: WM<br>Zone ID: E-2.2J<br>Num Packages: 1.0 <br> Service Time: 172.0",
                    "Sequence: 58<br> Stop ID: ST<br>Zone ID: E-2.2J<br>Num Packages: 1.0 <br> Service Time: 146.0",
                    "Sequence: 59<br> Stop ID: CU<br>Zone ID: E-2.2J<br>Num Packages: 1.0 <br> Service Time: 59.0",
                    "Sequence: 60<br> Stop ID: KL<br>Zone ID: E-2.2J<br>Num Packages: 1.0 <br> Service Time: 96.0"
                  ],
                  "type": "scattermapbox"
                },
                {
                  "hoverinfo": "text",
                  "lat": [
                    42.125649,
                    42.116133,
                    42.110929,
                    42.110252,
                    42.108828,
                    42.110475,
                    42.102702,
                    42.101216,
                    42.101403
                  ],
                  "lon": [
                    -71.568811,
                    -71.566586,
                    -71.556253,
                    -71.555689,
                    -71.562421,
                    -71.56499,
                    -71.553805,
                    -71.555481,
                    -71.556447
                  ],
                  "marker": {
                    "size": 15
                  },
                  "mode": "markers",
                  "name": "Route Zone E-2.3H",
                  "text": [
                    "Sequence: 61<br> Stop ID: OJ<br>Zone ID: E-2.3H<br>Num Packages: 1.0 <br> Service Time: 103.0",
                    "Sequence: 62<br> Stop ID: ZG<br>Zone ID: E-2.3H<br>Num Packages: 2.0 <br> Service Time: 98.0",
                    "Sequence: 63<br> Stop ID: TO<br>Zone ID: E-2.3H<br>Num Packages: 1.0 <br> Service Time: 93.0",
                    "Sequence: 64<br> Stop ID: AD<br>Zone ID: E-2.3H<br>Num Packages: 1.0 <br> Service Time: 75.0",
                    "Sequence: 65<br> Stop ID: GE<br>Zone ID: E-2.3H<br>Num Packages: 1.0 <br> Service Time: 100.0",
                    "Sequence: 66<br> Stop ID: EY<br>Zone ID: E-2.3H<br>Num Packages: 1.0 <br> Service Time: 79.0",
                    "Sequence: 67<br> Stop ID: OM<br>Zone ID: E-2.3H<br>Num Packages: 1.0 <br> Service Time: 31.0",
                    "Sequence: 68<br> Stop ID: SR<br>Zone ID: E-2.3H<br>Num Packages: 1.0 <br> Service Time: 82.0",
                    "Sequence: 69<br> Stop ID: JU<br>Zone ID: E-2.3H<br>Num Packages: 1.0 <br> Service Time: 57.0"
                  ],
                  "type": "scattermapbox"
                },
                {
                  "hoverinfo": "text",
                  "lat": [
                    42.101185,
                    42.08376,
                    42.084195,
                    42.080895,
                    42.08229,
                    42.088175,
                    42.089674,
                    42.086827,
                    42.07244,
                    42.07397
                  ],
                  "lon": [
                    -71.551259,
                    -71.551694,
                    -71.55201,
                    -71.556956,
                    -71.559,
                    -71.554347,
                    -71.55466,
                    -71.55235,
                    -71.553688,
                    -71.551047
                  ],
                  "marker": {
                    "size": 15
                  },
                  "mode": "markers",
                  "name": "Route Zone E-2.1G",
                  "text": [
                    "Sequence: 70<br> Stop ID: NB<br>Zone ID: E-2.1G<br>Num Packages: 1.0 <br> Service Time: 76.0",
                    "Sequence: 87<br> Stop ID: JZ<br>Zone ID: E-2.1G<br>Num Packages: 1.0 <br> Service Time: 175.0",
                    "Sequence: 88<br> Stop ID: PU<br>Zone ID: E-2.1G<br>Num Packages: 2.0 <br> Service Time: 71.5",
                    "Sequence: 89<br> Stop ID: ZO<br>Zone ID: E-2.1G<br>Num Packages: 1.0 <br> Service Time: 148.0",
                    "Sequence: 90<br> Stop ID: FL<br>Zone ID: E-2.1G<br>Num Packages: 1.0 <br> Service Time: 121.0",
                    "Sequence: 91<br> Stop ID: ND<br>Zone ID: E-2.1G<br>Num Packages: 1.0 <br> Service Time: 142.0",
                    "Sequence: 92<br> Stop ID: NW<br>Zone ID: E-2.1G<br>Num Packages: 1.0 <br> Service Time: 102.0",
                    "Sequence: 93<br> Stop ID: QO<br>Zone ID: E-2.1G<br>Num Packages: 1.0 <br> Service Time: 82.0",
                    "Sequence: 94<br> Stop ID: OE<br>Zone ID: E-2.1G<br>Num Packages: 2.0 <br> Service Time: 79.0",
                    "Sequence: 95<br> Stop ID: SM<br>Zone ID: E-2.1G<br>Num Packages: 1.0 <br> Service Time: 71.0"
                  ],
                  "type": "scattermapbox"
                },
                {
                  "hoverinfo": "text",
                  "lat": [
                    42.105719,
                    42.106275,
                    42.098301,
                    42.091701,
                    42.093273,
                    42.097525,
                    42.097741,
                    42.089052,
                    42.08848,
                    42.087774
                  ],
                  "lon": [
                    -71.544234,
                    -71.540355,
                    -71.540291,
                    -71.529757,
                    -71.522541,
                    -71.526315,
                    -71.528215,
                    -71.533044,
                    -71.5326,
                    -71.534656
                  ],
                  "marker": {
                    "size": 15
                  },
                  "mode": "markers",
                  "name": "Route Zone E-2.3G",
                  "text": [
                    "Sequence: 71<br> Stop ID: QZ<br>Zone ID: E-2.3G<br>Num Packages: 1.0 <br> Service Time: 45.0",
                    "Sequence: 72<br> Stop ID: SZ<br>Zone ID: E-2.3G<br>Num Packages: 2.0 <br> Service Time: 33.5",
                    "Sequence: 73<br> Stop ID: VT<br>Zone ID: E-2.3G<br>Num Packages: 1.0 <br> Service Time: 101.0",
                    "Sequence: 74<br> Stop ID: IC<br>Zone ID: E-2.3G<br>Num Packages: 1.0 <br> Service Time: 86.0",
                    "Sequence: 75<br> Stop ID: QU<br>Zone ID: E-2.3G<br>Num Packages: 1.0 <br> Service Time: 63.0",
                    "Sequence: 76<br> Stop ID: OC<br>Zone ID: E-2.3G<br>Num Packages: 1.0 <br> Service Time: 81.0",
                    "Sequence: 77<br> Stop ID: ML<br>Zone ID: E-2.3G<br>Num Packages: 2.0 <br> Service Time: 48.0",
                    "Sequence: 78<br> Stop ID: JD<br>Zone ID: E-2.3G<br>Num Packages: 3.0 <br> Service Time: 78.7",
                    "Sequence: 79<br> Stop ID: ZA<br>Zone ID: E-2.3G<br>Num Packages: 1.0 <br> Service Time: 172.0",
                    "Sequence: 80<br> Stop ID: IB<br>Zone ID: E-2.3G<br>Num Packages: 1.0 <br> Service Time: 170.0"
                  ],
                  "type": "scattermapbox"
                },
                {
                  "hoverinfo": "text",
                  "lat": [
                    42.085539,
                    42.083353,
                    42.082898,
                    42.08066,
                    42.080541,
                    42.088684
                  ],
                  "lon": [
                    -71.545158,
                    -71.547355,
                    -71.54777,
                    -71.549721,
                    -71.551435,
                    -71.545654
                  ],
                  "marker": {
                    "size": 15
                  },
                  "mode": "markers",
                  "name": "Route Zone E-2.2G",
                  "text": [
                    "Sequence: 81<br> Stop ID: FE<br>Zone ID: E-2.2G<br>Num Packages: 1.0 <br> Service Time: 73.0",
                    "Sequence: 82<br> Stop ID: OD<br>Zone ID: E-2.2G<br>Num Packages: 2.0 <br> Service Time: 43.5",
                    "Sequence: 83<br> Stop ID: PX<br>Zone ID: E-2.2G<br>Num Packages: 4.0 <br> Service Time: 51.0",
                    "Sequence: 84<br> Stop ID: SG<br>Zone ID: E-2.2G<br>Num Packages: 1.0 <br> Service Time: 77.0",
                    "Sequence: 85<br> Stop ID: IF<br>Zone ID: E-2.2G<br>Num Packages: 2.0 <br> Service Time: 56.0",
                    "Sequence: 86<br> Stop ID: MN<br>Zone ID: E-2.2G<br>Num Packages: 2.0 <br> Service Time: 53.0"
                  ],
                  "type": "scattermapbox"
                },
                {
                  "hoverinfo": "text",
                  "lat": [
                    42.08234,
                    42.084637,
                    42.086276,
                    42.091579,
                    42.071217,
                    42.065299,
                    42.066053,
                    42.066606,
                    42.069052
                  ],
                  "lon": [
                    -71.569138,
                    -71.565057,
                    -71.564665,
                    -71.562969,
                    -71.569623,
                    -71.56307,
                    -71.560007,
                    -71.560328,
                    -71.570989
                  ],
                  "marker": {
                    "size": 15
                  },
                  "mode": "markers",
                  "name": "Route Zone E-2.1H",
                  "text": [
                    "Sequence: 96<br> Stop ID: PM<br>Zone ID: E-2.1H<br>Num Packages: 1.0 <br> Service Time: 83.0",
                    "Sequence: 97<br> Stop ID: AL<br>Zone ID: E-2.1H<br>Num Packages: 1.0 <br> Service Time: 140.0",
                    "Sequence: 98<br> Stop ID: LI<br>Zone ID: E-2.1H<br>Num Packages: 1.0 <br> Service Time: 166.0",
                    "Sequence: 99<br> Stop ID: PH<br>Zone ID: E-2.1H<br>Num Packages: 1.0 <br> Service Time: 70.0",
                    "Sequence: 100<br> Stop ID: LZ<br>Zone ID: E-2.1H<br>Num Packages: 2.0 <br> Service Time: 59.0",
                    "Sequence: 101<br> Stop ID: IK<br>Zone ID: E-2.1H<br>Num Packages: 1.0 <br> Service Time: 60.0",
                    "Sequence: 102<br> Stop ID: MM<br>Zone ID: E-2.1H<br>Num Packages: 2.0 <br> Service Time: 80.5",
                    "Sequence: 103<br> Stop ID: ID<br>Zone ID: E-2.1H<br>Num Packages: 1.0 <br> Service Time: 105.0",
                    "Sequence: 104<br> Stop ID: XK<br>Zone ID: E-2.1H<br>Num Packages: 1.0 <br> Service Time: 80.0"
                  ],
                  "type": "scattermapbox"
                },
                {
                  "hoverinfo": "text",
                  "lat": [
                    42.098311,
                    42.100858,
                    42.094155,
                    42.09345,
                    42.0928
                  ],
                  "lon": [
                    -71.565798,
                    -71.569223,
                    -71.567809,
                    -71.570252,
                    -71.57135
                  ],
                  "marker": {
                    "size": 15
                  },
                  "mode": "markers",
                  "name": "Route Zone E-2.2H",
                  "text": [
                    "Sequence: 105<br> Stop ID: EI<br>Zone ID: E-2.2H<br>Num Packages: 1.0 <br> Service Time: 196.0",
                    "Sequence: 106<br> Stop ID: PO<br>Zone ID: E-2.2H<br>Num Packages: 2.0 <br> Service Time: 129.5",
                    "Sequence: 107<br> Stop ID: PV<br>Zone ID: E-2.2H<br>Num Packages: 2.0 <br> Service Time: 57.5",
                    "Sequence: 108<br> Stop ID: ET<br>Zone ID: E-2.2H<br>Num Packages: 1.0 <br> Service Time: 77.0",
                    "Sequence: 109<br> Stop ID: SD<br>Zone ID: E-2.2H<br>Num Packages: 1.0 <br> Service Time: 171.0"
                  ],
                  "type": "scattermapbox"
                },
                {
                  "hoverinfo": "text",
                  "lat": [
                    42.11913,
                    42.122523,
                    42.122976,
                    42.120684,
                    42.120485,
                    42.117205,
                    42.117445,
                    42.115553,
                    42.112118
                  ],
                  "lon": [
                    -71.574056,
                    -71.574733,
                    -71.574975,
                    -71.578937,
                    -71.577536,
                    -71.574765,
                    -71.579092,
                    -71.587857,
                    -71.597602
                  ],
                  "marker": {
                    "size": 15
                  },
                  "mode": "markers",
                  "name": "Route Zone E-2.3J",
                  "text": [
                    "Sequence: 110<br> Stop ID: UV<br>Zone ID: E-2.3J<br>Num Packages: 1.0 <br> Service Time: 157.0",
                    "Sequence: 111<br> Stop ID: JN<br>Zone ID: E-2.3J<br>Num Packages: 1.0 <br> Service Time: 69.0",
                    "Sequence: 112<br> Stop ID: HV<br>Zone ID: E-2.3J<br>Num Packages: 2.0 <br> Service Time: 41.0",
                    "Sequence: 113<br> Stop ID: IO<br>Zone ID: E-2.3J<br>Num Packages: 1.0 <br> Service Time: 58.0",
                    "Sequence: 114<br> Stop ID: WC<br>Zone ID: E-2.3J<br>Num Packages: 2.0 <br> Service Time: 69.0",
                    "Sequence: 115<br> Stop ID: YW<br>Zone ID: E-2.3J<br>Num Packages: 2.0 <br> Service Time: 72.5",
                    "Sequence: 116<br> Stop ID: VA<br>Zone ID: E-2.3J<br>Num Packages: 2.0 <br> Service Time: 60.0",
                    "Sequence: 117<br> Stop ID: KZ<br>Zone ID: E-2.3J<br>Num Packages: 2.0 <br> Service Time: 74.0",
                    "Sequence: 118<br> Stop ID: UP<br>Zone ID: E-2.3J<br>Num Packages: 1.0 <br> Service Time: 106.0"
                  ],
                  "type": "scattermapbox"
                },
                {
                  "hoverinfo": "text",
                  "lat": [
                    42.140655,
                    42.149406,
                    42.150434,
                    42.152468,
                    42.153178,
                    42.148227,
                    42.147267,
                    42.145646,
                    42.148971
                  ],
                  "lon": [
                    -71.536264,
                    -71.541475,
                    -71.543739,
                    -71.545145,
                    -71.544067,
                    -71.542674,
                    -71.540911,
                    -71.539764,
                    -71.544248
                  ],
                  "marker": {
                    "size": 15
                  },
                  "mode": "markers",
                  "name": "Route Zone E-1.2G",
                  "text": [
                    "Sequence: 123<br> Stop ID: MZ<br>Zone ID: E-1.2G<br>Num Packages: 1.0 <br> Service Time: 105.0",
                    "Sequence: 124<br> Stop ID: EE<br>Zone ID: E-1.2G<br>Num Packages: 1.0 <br> Service Time: 78.0",
                    "Sequence: 125<br> Stop ID: AR<br>Zone ID: E-1.2G<br>Num Packages: 1.0 <br> Service Time: 45.0",
                    "Sequence: 126<br> Stop ID: SN<br>Zone ID: E-1.2G<br>Num Packages: 1.0 <br> Service Time: 63.0",
                    "Sequence: 127<br> Stop ID: VB<br>Zone ID: E-1.2G<br>Num Packages: 1.0 <br> Service Time: 79.0",
                    "Sequence: 128<br> Stop ID: YA<br>Zone ID: E-1.2G<br>Num Packages: 1.0 <br> Service Time: 101.0",
                    "Sequence: 129<br> Stop ID: KS<br>Zone ID: E-1.2G<br>Num Packages: 1.0 <br> Service Time: 47.0",
                    "Sequence: 130<br> Stop ID: PE<br>Zone ID: E-1.2G<br>Num Packages: 2.0 <br> Service Time: 21.0",
                    "Sequence: 131<br> Stop ID: GR<br>Zone ID: E-1.2G<br>Num Packages: 1.0 <br> Service Time: 98.0"
                  ],
                  "type": "scattermapbox"
                }
              ],
              "layout": {
                "height": 600,
                "mapbox": {
                  "center": {
                    "lat": 42.11728271852945,
                    "lon": -71.54868957864755
                  },
                  "style": "open-street-map",
                  "zoom": 10
                },
                "margin": {
                  "b": 10,
                  "l": 10,
                  "r": 10,
                  "t": 10
                },
                "showlegend": true,
                "template": {
                  "data": {
                    "bar": [
                      {
                        "error_x": {
                          "color": "#2a3f5f"
                        },
                        "error_y": {
                          "color": "#2a3f5f"
                        },
                        "marker": {
                          "line": {
                            "color": "#E5ECF6",
                            "width": 0.5
                          },
                          "pattern": {
                            "fillmode": "overlay",
                            "size": 10,
                            "solidity": 0.2
                          }
                        },
                        "type": "bar"
                      }
                    ],
                    "barpolar": [
                      {
                        "marker": {
                          "line": {
                            "color": "#E5ECF6",
                            "width": 0.5
                          },
                          "pattern": {
                            "fillmode": "overlay",
                            "size": 10,
                            "solidity": 0.2
                          }
                        },
                        "type": "barpolar"
                      }
                    ],
                    "carpet": [
                      {
                        "aaxis": {
                          "endlinecolor": "#2a3f5f",
                          "gridcolor": "white",
                          "linecolor": "white",
                          "minorgridcolor": "white",
                          "startlinecolor": "#2a3f5f"
                        },
                        "baxis": {
                          "endlinecolor": "#2a3f5f",
                          "gridcolor": "white",
                          "linecolor": "white",
                          "minorgridcolor": "white",
                          "startlinecolor": "#2a3f5f"
                        },
                        "type": "carpet"
                      }
                    ],
                    "choropleth": [
                      {
                        "colorbar": {
                          "outlinewidth": 0,
                          "ticks": ""
                        },
                        "type": "choropleth"
                      }
                    ],
                    "contour": [
                      {
                        "colorbar": {
                          "outlinewidth": 0,
                          "ticks": ""
                        },
                        "colorscale": [
                          [
                            0,
                            "#0d0887"
                          ],
                          [
                            0.1111111111111111,
                            "#46039f"
                          ],
                          [
                            0.2222222222222222,
                            "#7201a8"
                          ],
                          [
                            0.3333333333333333,
                            "#9c179e"
                          ],
                          [
                            0.4444444444444444,
                            "#bd3786"
                          ],
                          [
                            0.5555555555555556,
                            "#d8576b"
                          ],
                          [
                            0.6666666666666666,
                            "#ed7953"
                          ],
                          [
                            0.7777777777777778,
                            "#fb9f3a"
                          ],
                          [
                            0.8888888888888888,
                            "#fdca26"
                          ],
                          [
                            1,
                            "#f0f921"
                          ]
                        ],
                        "type": "contour"
                      }
                    ],
                    "contourcarpet": [
                      {
                        "colorbar": {
                          "outlinewidth": 0,
                          "ticks": ""
                        },
                        "type": "contourcarpet"
                      }
                    ],
                    "heatmap": [
                      {
                        "colorbar": {
                          "outlinewidth": 0,
                          "ticks": ""
                        },
                        "colorscale": [
                          [
                            0,
                            "#0d0887"
                          ],
                          [
                            0.1111111111111111,
                            "#46039f"
                          ],
                          [
                            0.2222222222222222,
                            "#7201a8"
                          ],
                          [
                            0.3333333333333333,
                            "#9c179e"
                          ],
                          [
                            0.4444444444444444,
                            "#bd3786"
                          ],
                          [
                            0.5555555555555556,
                            "#d8576b"
                          ],
                          [
                            0.6666666666666666,
                            "#ed7953"
                          ],
                          [
                            0.7777777777777778,
                            "#fb9f3a"
                          ],
                          [
                            0.8888888888888888,
                            "#fdca26"
                          ],
                          [
                            1,
                            "#f0f921"
                          ]
                        ],
                        "type": "heatmap"
                      }
                    ],
                    "heatmapgl": [
                      {
                        "colorbar": {
                          "outlinewidth": 0,
                          "ticks": ""
                        },
                        "colorscale": [
                          [
                            0,
                            "#0d0887"
                          ],
                          [
                            0.1111111111111111,
                            "#46039f"
                          ],
                          [
                            0.2222222222222222,
                            "#7201a8"
                          ],
                          [
                            0.3333333333333333,
                            "#9c179e"
                          ],
                          [
                            0.4444444444444444,
                            "#bd3786"
                          ],
                          [
                            0.5555555555555556,
                            "#d8576b"
                          ],
                          [
                            0.6666666666666666,
                            "#ed7953"
                          ],
                          [
                            0.7777777777777778,
                            "#fb9f3a"
                          ],
                          [
                            0.8888888888888888,
                            "#fdca26"
                          ],
                          [
                            1,
                            "#f0f921"
                          ]
                        ],
                        "type": "heatmapgl"
                      }
                    ],
                    "histogram": [
                      {
                        "marker": {
                          "pattern": {
                            "fillmode": "overlay",
                            "size": 10,
                            "solidity": 0.2
                          }
                        },
                        "type": "histogram"
                      }
                    ],
                    "histogram2d": [
                      {
                        "colorbar": {
                          "outlinewidth": 0,
                          "ticks": ""
                        },
                        "colorscale": [
                          [
                            0,
                            "#0d0887"
                          ],
                          [
                            0.1111111111111111,
                            "#46039f"
                          ],
                          [
                            0.2222222222222222,
                            "#7201a8"
                          ],
                          [
                            0.3333333333333333,
                            "#9c179e"
                          ],
                          [
                            0.4444444444444444,
                            "#bd3786"
                          ],
                          [
                            0.5555555555555556,
                            "#d8576b"
                          ],
                          [
                            0.6666666666666666,
                            "#ed7953"
                          ],
                          [
                            0.7777777777777778,
                            "#fb9f3a"
                          ],
                          [
                            0.8888888888888888,
                            "#fdca26"
                          ],
                          [
                            1,
                            "#f0f921"
                          ]
                        ],
                        "type": "histogram2d"
                      }
                    ],
                    "histogram2dcontour": [
                      {
                        "colorbar": {
                          "outlinewidth": 0,
                          "ticks": ""
                        },
                        "colorscale": [
                          [
                            0,
                            "#0d0887"
                          ],
                          [
                            0.1111111111111111,
                            "#46039f"
                          ],
                          [
                            0.2222222222222222,
                            "#7201a8"
                          ],
                          [
                            0.3333333333333333,
                            "#9c179e"
                          ],
                          [
                            0.4444444444444444,
                            "#bd3786"
                          ],
                          [
                            0.5555555555555556,
                            "#d8576b"
                          ],
                          [
                            0.6666666666666666,
                            "#ed7953"
                          ],
                          [
                            0.7777777777777778,
                            "#fb9f3a"
                          ],
                          [
                            0.8888888888888888,
                            "#fdca26"
                          ],
                          [
                            1,
                            "#f0f921"
                          ]
                        ],
                        "type": "histogram2dcontour"
                      }
                    ],
                    "mesh3d": [
                      {
                        "colorbar": {
                          "outlinewidth": 0,
                          "ticks": ""
                        },
                        "type": "mesh3d"
                      }
                    ],
                    "parcoords": [
                      {
                        "line": {
                          "colorbar": {
                            "outlinewidth": 0,
                            "ticks": ""
                          }
                        },
                        "type": "parcoords"
                      }
                    ],
                    "pie": [
                      {
                        "automargin": true,
                        "type": "pie"
                      }
                    ],
                    "scatter": [
                      {
                        "fillpattern": {
                          "fillmode": "overlay",
                          "size": 10,
                          "solidity": 0.2
                        },
                        "type": "scatter"
                      }
                    ],
                    "scatter3d": [
                      {
                        "line": {
                          "colorbar": {
                            "outlinewidth": 0,
                            "ticks": ""
                          }
                        },
                        "marker": {
                          "colorbar": {
                            "outlinewidth": 0,
                            "ticks": ""
                          }
                        },
                        "type": "scatter3d"
                      }
                    ],
                    "scattercarpet": [
                      {
                        "marker": {
                          "colorbar": {
                            "outlinewidth": 0,
                            "ticks": ""
                          }
                        },
                        "type": "scattercarpet"
                      }
                    ],
                    "scattergeo": [
                      {
                        "marker": {
                          "colorbar": {
                            "outlinewidth": 0,
                            "ticks": ""
                          }
                        },
                        "type": "scattergeo"
                      }
                    ],
                    "scattergl": [
                      {
                        "marker": {
                          "colorbar": {
                            "outlinewidth": 0,
                            "ticks": ""
                          }
                        },
                        "type": "scattergl"
                      }
                    ],
                    "scattermapbox": [
                      {
                        "marker": {
                          "colorbar": {
                            "outlinewidth": 0,
                            "ticks": ""
                          }
                        },
                        "type": "scattermapbox"
                      }
                    ],
                    "scatterpolar": [
                      {
                        "marker": {
                          "colorbar": {
                            "outlinewidth": 0,
                            "ticks": ""
                          }
                        },
                        "type": "scatterpolar"
                      }
                    ],
                    "scatterpolargl": [
                      {
                        "marker": {
                          "colorbar": {
                            "outlinewidth": 0,
                            "ticks": ""
                          }
                        },
                        "type": "scatterpolargl"
                      }
                    ],
                    "scatterternary": [
                      {
                        "marker": {
                          "colorbar": {
                            "outlinewidth": 0,
                            "ticks": ""
                          }
                        },
                        "type": "scatterternary"
                      }
                    ],
                    "surface": [
                      {
                        "colorbar": {
                          "outlinewidth": 0,
                          "ticks": ""
                        },
                        "colorscale": [
                          [
                            0,
                            "#0d0887"
                          ],
                          [
                            0.1111111111111111,
                            "#46039f"
                          ],
                          [
                            0.2222222222222222,
                            "#7201a8"
                          ],
                          [
                            0.3333333333333333,
                            "#9c179e"
                          ],
                          [
                            0.4444444444444444,
                            "#bd3786"
                          ],
                          [
                            0.5555555555555556,
                            "#d8576b"
                          ],
                          [
                            0.6666666666666666,
                            "#ed7953"
                          ],
                          [
                            0.7777777777777778,
                            "#fb9f3a"
                          ],
                          [
                            0.8888888888888888,
                            "#fdca26"
                          ],
                          [
                            1,
                            "#f0f921"
                          ]
                        ],
                        "type": "surface"
                      }
                    ],
                    "table": [
                      {
                        "cells": {
                          "fill": {
                            "color": "#EBF0F8"
                          },
                          "line": {
                            "color": "white"
                          }
                        },
                        "header": {
                          "fill": {
                            "color": "#C8D4E3"
                          },
                          "line": {
                            "color": "white"
                          }
                        },
                        "type": "table"
                      }
                    ]
                  },
                  "layout": {
                    "annotationdefaults": {
                      "arrowcolor": "#2a3f5f",
                      "arrowhead": 0,
                      "arrowwidth": 1
                    },
                    "autotypenumbers": "strict",
                    "coloraxis": {
                      "colorbar": {
                        "outlinewidth": 0,
                        "ticks": ""
                      }
                    },
                    "colorscale": {
                      "diverging": [
                        [
                          0,
                          "#8e0152"
                        ],
                        [
                          0.1,
                          "#c51b7d"
                        ],
                        [
                          0.2,
                          "#de77ae"
                        ],
                        [
                          0.3,
                          "#f1b6da"
                        ],
                        [
                          0.4,
                          "#fde0ef"
                        ],
                        [
                          0.5,
                          "#f7f7f7"
                        ],
                        [
                          0.6,
                          "#e6f5d0"
                        ],
                        [
                          0.7,
                          "#b8e186"
                        ],
                        [
                          0.8,
                          "#7fbc41"
                        ],
                        [
                          0.9,
                          "#4d9221"
                        ],
                        [
                          1,
                          "#276419"
                        ]
                      ],
                      "sequential": [
                        [
                          0,
                          "#0d0887"
                        ],
                        [
                          0.1111111111111111,
                          "#46039f"
                        ],
                        [
                          0.2222222222222222,
                          "#7201a8"
                        ],
                        [
                          0.3333333333333333,
                          "#9c179e"
                        ],
                        [
                          0.4444444444444444,
                          "#bd3786"
                        ],
                        [
                          0.5555555555555556,
                          "#d8576b"
                        ],
                        [
                          0.6666666666666666,
                          "#ed7953"
                        ],
                        [
                          0.7777777777777778,
                          "#fb9f3a"
                        ],
                        [
                          0.8888888888888888,
                          "#fdca26"
                        ],
                        [
                          1,
                          "#f0f921"
                        ]
                      ],
                      "sequentialminus": [
                        [
                          0,
                          "#0d0887"
                        ],
                        [
                          0.1111111111111111,
                          "#46039f"
                        ],
                        [
                          0.2222222222222222,
                          "#7201a8"
                        ],
                        [
                          0.3333333333333333,
                          "#9c179e"
                        ],
                        [
                          0.4444444444444444,
                          "#bd3786"
                        ],
                        [
                          0.5555555555555556,
                          "#d8576b"
                        ],
                        [
                          0.6666666666666666,
                          "#ed7953"
                        ],
                        [
                          0.7777777777777778,
                          "#fb9f3a"
                        ],
                        [
                          0.8888888888888888,
                          "#fdca26"
                        ],
                        [
                          1,
                          "#f0f921"
                        ]
                      ]
                    },
                    "colorway": [
                      "#636efa",
                      "#EF553B",
                      "#00cc96",
                      "#ab63fa",
                      "#FFA15A",
                      "#19d3f3",
                      "#FF6692",
                      "#B6E880",
                      "#FF97FF",
                      "#FECB52"
                    ],
                    "font": {
                      "color": "#2a3f5f"
                    },
                    "geo": {
                      "bgcolor": "white",
                      "lakecolor": "white",
                      "landcolor": "#E5ECF6",
                      "showlakes": true,
                      "showland": true,
                      "subunitcolor": "white"
                    },
                    "hoverlabel": {
                      "align": "left"
                    },
                    "hovermode": "closest",
                    "mapbox": {
                      "style": "light"
                    },
                    "paper_bgcolor": "white",
                    "plot_bgcolor": "#E5ECF6",
                    "polar": {
                      "angularaxis": {
                        "gridcolor": "white",
                        "linecolor": "white",
                        "ticks": ""
                      },
                      "bgcolor": "#E5ECF6",
                      "radialaxis": {
                        "gridcolor": "white",
                        "linecolor": "white",
                        "ticks": ""
                      }
                    },
                    "scene": {
                      "xaxis": {
                        "backgroundcolor": "#E5ECF6",
                        "gridcolor": "white",
                        "gridwidth": 2,
                        "linecolor": "white",
                        "showbackground": true,
                        "ticks": "",
                        "zerolinecolor": "white"
                      },
                      "yaxis": {
                        "backgroundcolor": "#E5ECF6",
                        "gridcolor": "white",
                        "gridwidth": 2,
                        "linecolor": "white",
                        "showbackground": true,
                        "ticks": "",
                        "zerolinecolor": "white"
                      },
                      "zaxis": {
                        "backgroundcolor": "#E5ECF6",
                        "gridcolor": "white",
                        "gridwidth": 2,
                        "linecolor": "white",
                        "showbackground": true,
                        "ticks": "",
                        "zerolinecolor": "white"
                      }
                    },
                    "shapedefaults": {
                      "line": {
                        "color": "#2a3f5f"
                      }
                    },
                    "ternary": {
                      "aaxis": {
                        "gridcolor": "white",
                        "linecolor": "white",
                        "ticks": ""
                      },
                      "baxis": {
                        "gridcolor": "white",
                        "linecolor": "white",
                        "ticks": ""
                      },
                      "bgcolor": "#E5ECF6",
                      "caxis": {
                        "gridcolor": "white",
                        "linecolor": "white",
                        "ticks": ""
                      }
                    },
                    "title": {
                      "x": 0.05
                    },
                    "xaxis": {
                      "automargin": true,
                      "gridcolor": "white",
                      "linecolor": "white",
                      "ticks": "",
                      "title": {
                        "standoff": 15
                      },
                      "zerolinecolor": "white",
                      "zerolinewidth": 2
                    },
                    "yaxis": {
                      "automargin": true,
                      "gridcolor": "white",
                      "linecolor": "white",
                      "ticks": "",
                      "title": {
                        "standoff": 15
                      },
                      "zerolinecolor": "white",
                      "zerolinewidth": 2
                    }
                  }
                }
              }
            }
          },
          "metadata": {},
          "output_type": "display_data"
        }
      ],
      "source": [
        "# Create a figure\n",
        "fig = go.Figure()\n",
        "\n",
        "# Add the drone path\n",
        "fig.add_trace(go.Scattermapbox(\n",
        "    lat=drone_data_ordered['lat'],\n",
        "    lon=drone_data_ordered['lng'],\n",
        "    mode='lines',\n",
        "    line=dict(width=2, color='red'),\n",
        "    hoverinfo='none',\n",
        "    name='Drone Path'\n",
        "))\n",
        "\n",
        "# Add scatter points for each unique zone_id in the drone data\n",
        "for zone_id in drone_data_ordered['zone_id'].unique():\n",
        "    df_sub = drone_data_ordered[drone_data_ordered['zone_id'] == zone_id]\n",
        "    hover_text = df_sub.apply(lambda row: f\"Sequence: {row.name}<br> Stop ID: {row['stop_id']}<br>Zone ID: {row['zone_id']}<br>Num Packages: {row['num_packages']} <br> Service Time: {row['service_time_seconds']}\", axis=1)\n",
        "    fig.add_trace(go.Scattermapbox(\n",
        "        lat=df_sub['lat'],\n",
        "        lon=df_sub['lng'],\n",
        "        mode='markers',\n",
        "        marker=go.scattermapbox.Marker(size=15),\n",
        "        name=f\"Drone Zone {zone_id}\",\n",
        "        text=hover_text,\n",
        "        hoverinfo='text'\n",
        "    ))\n",
        "\n",
        "\n",
        "# Add the route path\n",
        "fig.add_trace(go.Scattermapbox(\n",
        "    lat=route_data_ordered['lat'],\n",
        "    lon=route_data_ordered['lng'],\n",
        "    mode='lines',\n",
        "    line=dict(width=2, color='blue'),\n",
        "    hoverinfo='none',\n",
        "    name='Route Path'\n",
        "))\n",
        "\n",
        "# Add scatter points for each unique zone_id in the route data\n",
        "for zone_id in route_data_ordered['zone_id'].unique():\n",
        "    df_sub = route_data_ordered[route_data_ordered['zone_id'] == zone_id]\n",
        "    hover_text = df_sub.apply(lambda row: f\"Sequence: {row.name}<br> Stop ID: {row['stop_id']}<br>Zone ID: {row['zone_id']}<br>Num Packages: {row['num_packages']} <br> Service Time: {row['service_time_seconds']}\", axis=1)\n",
        "    fig.add_trace(go.Scattermapbox(\n",
        "        lat=df_sub['lat'],\n",
        "        lon=df_sub['lng'],\n",
        "        mode='markers',\n",
        "        marker=go.scattermapbox.Marker(size=15),\n",
        "        name=f\"Route Zone {zone_id}\",\n",
        "        text=hover_text,\n",
        "        hoverinfo='text'\n",
        "    ))\n",
        "\n",
        "\n",
        "\n",
        "# Update the layout to use OpenStreetMap style and adjust other layout properties\n",
        "fig.update_layout(\n",
        "    height=600,\n",
        "    mapbox=dict(\n",
        "        style=\"open-street-map\",\n",
        "        zoom=10,\n",
        "        center=dict(\n",
        "            lat=(route_data_ordered['lat'].mean() + drone_data_ordered['lat'].mean()) / 2,\n",
        "            lon=(route_data_ordered['lng'].mean() + drone_data_ordered['lng'].mean()) / 2\n",
        "        )\n",
        "    ),\n",
        "    showlegend=True\n",
        ")\n",
        "\n",
        "fig.update_layout(margin=dict(l=10, r=10, t=10, b=10))\n",
        "\n",
        "# Show the figure\n",
        "fig.show()"
      ]
    },
    {
      "cell_type": "code",
      "execution_count": 50,
      "metadata": {},
      "outputs": [],
      "source": [
        "proposed_sequences = json.load(open('proposed_sequences.json'))\n",
        "proposed_route_ids = list(proposed_sequences.keys())\n",
        "\n",
        "for route_id in proposed_route_ids:\n",
        "    package_data_route_df, route_data_route_df, vehicle_travel_times_route = get_data_for_route(route_id)\n",
        "    route_data_route_df['zone_id'].ffill(inplace=True)\n",
        "    \n",
        "    drone_travel_times_route = calculate_drone_travel_time(route_data_route_df)\n",
        "    \n",
        "    \n",
        "    package_data_route_df['drone_possible'] = (package_data_route_df['depth_cm'] < 30) & (package_data_route_df['height_cm'] < 25) & (package_data_route_df['width_cm'] < 30) # TODO: be indifferent on depth and width\n",
        "    \n",
        "    \n",
        "\n",
        "    package_info_agg = package_data_route_df.groupby('stop_id').apply(\n",
        "    lambda x: pd.Series({\n",
        "        'packages': x[['package_id', 'depth_cm', 'height_cm', 'width_cm']].to_dict('records'),\n",
        "        'num_packages': len(x),\n",
        "        'drone_possible': (len(x) == 1) and (x['drone_possible'].iloc[0] == True),\n",
        "        'service_time_seconds': x['planned_service_time_seconds'].mean() # Not sure if this should be sum or average. https://github.com/MIT-CAVE/rc-cli/blob/main/templates/data_structures.md\n",
        "    })\n",
        "    ).reset_index()\n",
        "\n",
        "    route_data_route_df = pd.merge(route_data_route_df, package_info_agg, how='left', on='stop_id')\n",
        "    \n",
        "    solver = VRPDSolver(route_id, package_data_route_df, route_data_route_df, vehicle_travel_times_route, drone_travel_times_route)\n",
        "    solver.naive_vrpd()\n",
        "    # save everything\n",
        "    solver.save_vehicle_path('naive_vehicle_paths')\n",
        "    solver.save_drone_path('naive_drone_paths')\n",
        "    solver.save_vehicle_events('naive_vehicle_events')\n",
        "    solver.save_drone_events('naive_drone_events')\n",
        "    \n",
        "    \n"
      ]
    }
  ],
  "metadata": {
    "colab": {
      "machine_shape": "hm",
      "provenance": []
    },
    "kernelspec": {
      "display_name": "Python 3",
      "name": "python3"
    },
    "language_info": {
      "codemirror_mode": {
        "name": "ipython",
        "version": 3
      },
      "file_extension": ".py",
      "mimetype": "text/x-python",
      "name": "python",
      "nbconvert_exporter": "python",
      "pygments_lexer": "ipython3",
      "version": "3.9.18"
    }
  },
  "nbformat": 4,
  "nbformat_minor": 0
}
