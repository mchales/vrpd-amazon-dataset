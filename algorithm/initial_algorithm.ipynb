{
  "cells": [
    {
      "cell_type": "code",
      "execution_count": 39,
      "metadata": {
        "id": "q1KrFvwyS3Xy"
      },
      "outputs": [],
      "source": [
        "import pandas as pd\n",
        "# from google.colab import drive\n",
        "import json\n",
        "from geopy.distance import geodesic\n",
        "import plotly.express as px\n",
        "import plotly.graph_objects as go"
      ]
    },
    {
      "cell_type": "code",
      "execution_count": 40,
      "metadata": {
        "colab": {
          "base_uri": "https://localhost:8080/"
        },
        "id": "hbkukP7gTDNl",
        "outputId": "857171fd-45dc-4fe0-a0c0-f31ee4d65664"
      },
      "outputs": [],
      "source": [
        "# If using google drive comment/uncomment\n",
        "# drive.mount('/content/drive')\n",
        "# BASE_PATH = '/content/drive/MyDrive/almrrc2021/almrrc2021-data-training/model_build_inputs/'\n",
        "\n",
        "# If you have the data locally\n",
        "BASE_PATH = '../almrrc2021/almrrc2021-data-training/model_build_inputs/'\n",
        "\n",
        "# If using data sample\n",
        "# BASE_PATH = 'data/'"
      ]
    },
    {
      "cell_type": "code",
      "execution_count": 41,
      "metadata": {
        "colab": {
          "base_uri": "https://localhost:8080/",
          "height": 400
        },
        "id": "C146Jy9LTPuU",
        "outputId": "fa7b2e9c-b91f-464d-9a87-29139926a9a8"
      },
      "outputs": [
        {
          "data": {
            "text/html": [
              "<div>\n",
              "<style scoped>\n",
              "    .dataframe tbody tr th:only-of-type {\n",
              "        vertical-align: middle;\n",
              "    }\n",
              "\n",
              "    .dataframe tbody tr th {\n",
              "        vertical-align: top;\n",
              "    }\n",
              "\n",
              "    .dataframe thead th {\n",
              "        text-align: right;\n",
              "    }\n",
              "</style>\n",
              "<table border=\"1\" class=\"dataframe\">\n",
              "  <thead>\n",
              "    <tr style=\"text-align: right;\">\n",
              "      <th></th>\n",
              "      <th>route_id</th>\n",
              "      <th>stop_id</th>\n",
              "      <th>package_id</th>\n",
              "      <th>scan_status</th>\n",
              "      <th>start_time_utc</th>\n",
              "      <th>end_time_utc</th>\n",
              "      <th>planned_service_time_seconds</th>\n",
              "      <th>depth_cm</th>\n",
              "      <th>height_cm</th>\n",
              "      <th>width_cm</th>\n",
              "    </tr>\n",
              "  </thead>\n",
              "  <tbody>\n",
              "    <tr>\n",
              "      <th>0</th>\n",
              "      <td>RouteID_00143bdd-0a6b-49ec-bb35-36593d303e77</td>\n",
              "      <td>AD</td>\n",
              "      <td>PackageID_9d7fdd03-f2cf-4c6f-9128-028258fc09ea</td>\n",
              "      <td>DELIVERED</td>\n",
              "      <td>NaN</td>\n",
              "      <td>NaN</td>\n",
              "      <td>59.3</td>\n",
              "      <td>25.4</td>\n",
              "      <td>7.6</td>\n",
              "      <td>17.8</td>\n",
              "    </tr>\n",
              "    <tr>\n",
              "      <th>1</th>\n",
              "      <td>RouteID_00143bdd-0a6b-49ec-bb35-36593d303e77</td>\n",
              "      <td>AD</td>\n",
              "      <td>PackageID_5541e679-b7bd-4992-b288-e862f6c84ae7</td>\n",
              "      <td>DELIVERED</td>\n",
              "      <td>2018-07-27 16:00:00</td>\n",
              "      <td>2018-07-28 00:00:00</td>\n",
              "      <td>59.3</td>\n",
              "      <td>25.4</td>\n",
              "      <td>12.7</td>\n",
              "      <td>17.8</td>\n",
              "    </tr>\n",
              "    <tr>\n",
              "      <th>2</th>\n",
              "      <td>RouteID_00143bdd-0a6b-49ec-bb35-36593d303e77</td>\n",
              "      <td>AD</td>\n",
              "      <td>PackageID_84d0295b-1adb-4a33-a65e-f7d6247c7a07</td>\n",
              "      <td>DELIVERED</td>\n",
              "      <td>NaN</td>\n",
              "      <td>NaN</td>\n",
              "      <td>59.3</td>\n",
              "      <td>39.4</td>\n",
              "      <td>7.6</td>\n",
              "      <td>31.8</td>\n",
              "    </tr>\n",
              "    <tr>\n",
              "      <th>3</th>\n",
              "      <td>RouteID_00143bdd-0a6b-49ec-bb35-36593d303e77</td>\n",
              "      <td>AF</td>\n",
              "      <td>PackageID_15c6a204-ec5f-4ced-9c3d-472316cc7759</td>\n",
              "      <td>DELIVERED</td>\n",
              "      <td>2018-07-27 16:00:00</td>\n",
              "      <td>2018-07-28 00:00:00</td>\n",
              "      <td>27.0</td>\n",
              "      <td>30.0</td>\n",
              "      <td>3.0</td>\n",
              "      <td>27.4</td>\n",
              "    </tr>\n",
              "    <tr>\n",
              "      <th>4</th>\n",
              "      <td>RouteID_00143bdd-0a6b-49ec-bb35-36593d303e77</td>\n",
              "      <td>AG</td>\n",
              "      <td>PackageID_3b28f781-242e-416e-9575-84c7188b8208</td>\n",
              "      <td>DELIVERED</td>\n",
              "      <td>NaN</td>\n",
              "      <td>NaN</td>\n",
              "      <td>45.0</td>\n",
              "      <td>25.4</td>\n",
              "      <td>12.7</td>\n",
              "      <td>17.8</td>\n",
              "    </tr>\n",
              "  </tbody>\n",
              "</table>\n",
              "</div>"
            ],
            "text/plain": [
              "                                       route_id stop_id  \\\n",
              "0  RouteID_00143bdd-0a6b-49ec-bb35-36593d303e77      AD   \n",
              "1  RouteID_00143bdd-0a6b-49ec-bb35-36593d303e77      AD   \n",
              "2  RouteID_00143bdd-0a6b-49ec-bb35-36593d303e77      AD   \n",
              "3  RouteID_00143bdd-0a6b-49ec-bb35-36593d303e77      AF   \n",
              "4  RouteID_00143bdd-0a6b-49ec-bb35-36593d303e77      AG   \n",
              "\n",
              "                                       package_id scan_status  \\\n",
              "0  PackageID_9d7fdd03-f2cf-4c6f-9128-028258fc09ea   DELIVERED   \n",
              "1  PackageID_5541e679-b7bd-4992-b288-e862f6c84ae7   DELIVERED   \n",
              "2  PackageID_84d0295b-1adb-4a33-a65e-f7d6247c7a07   DELIVERED   \n",
              "3  PackageID_15c6a204-ec5f-4ced-9c3d-472316cc7759   DELIVERED   \n",
              "4  PackageID_3b28f781-242e-416e-9575-84c7188b8208   DELIVERED   \n",
              "\n",
              "        start_time_utc         end_time_utc  planned_service_time_seconds  \\\n",
              "0                  NaN                  NaN                          59.3   \n",
              "1  2018-07-27 16:00:00  2018-07-28 00:00:00                          59.3   \n",
              "2                  NaN                  NaN                          59.3   \n",
              "3  2018-07-27 16:00:00  2018-07-28 00:00:00                          27.0   \n",
              "4                  NaN                  NaN                          45.0   \n",
              "\n",
              "   depth_cm  height_cm  width_cm  \n",
              "0      25.4        7.6      17.8  \n",
              "1      25.4       12.7      17.8  \n",
              "2      39.4        7.6      31.8  \n",
              "3      30.0        3.0      27.4  \n",
              "4      25.4       12.7      17.8  "
            ]
          },
          "execution_count": 41,
          "metadata": {},
          "output_type": "execute_result"
        }
      ],
      "source": [
        "# Loading all the package data\n",
        "\n",
        "package_data = json.load(open(BASE_PATH + 'package_data.json'))\n",
        "\n",
        "flattened_package_data = []\n",
        "for route_id, stops in package_data.items():\n",
        "    for stop_id, packages in stops.items():\n",
        "        for package_id, details in packages.items():\n",
        "            record = {\n",
        "                \"route_id\": route_id,\n",
        "                \"stop_id\": stop_id,\n",
        "                \"package_id\": package_id,\n",
        "                \"scan_status\": details[\"scan_status\"] if \"scan_status\" in details else None, # note model_apply_inputs does not have scan_status, model_build_inputs does\n",
        "                \"start_time_utc\": details[\"time_window\"][\"start_time_utc\"],\n",
        "                \"end_time_utc\": details[\"time_window\"][\"end_time_utc\"],\n",
        "                \"planned_service_time_seconds\": details[\"planned_service_time_seconds\"],\n",
        "                \"depth_cm\": details[\"dimensions\"][\"depth_cm\"],\n",
        "                \"height_cm\": details[\"dimensions\"][\"height_cm\"],\n",
        "                \"width_cm\": details[\"dimensions\"][\"width_cm\"],\n",
        "            }\n",
        "            flattened_package_data.append(record)\n",
        "\n",
        "package_data_df = pd.DataFrame(flattened_package_data)\n",
        "\n",
        "package_data_df.head()"
      ]
    },
    {
      "cell_type": "code",
      "execution_count": 42,
      "metadata": {
        "colab": {
          "base_uri": "https://localhost:8080/",
          "height": 400
        },
        "id": "FjFshBZBToSv",
        "outputId": "407a0b9c-11e2-4906-ffcf-3879ccc96c80"
      },
      "outputs": [
        {
          "data": {
            "text/html": [
              "<div>\n",
              "<style scoped>\n",
              "    .dataframe tbody tr th:only-of-type {\n",
              "        vertical-align: middle;\n",
              "    }\n",
              "\n",
              "    .dataframe tbody tr th {\n",
              "        vertical-align: top;\n",
              "    }\n",
              "\n",
              "    .dataframe thead th {\n",
              "        text-align: right;\n",
              "    }\n",
              "</style>\n",
              "<table border=\"1\" class=\"dataframe\">\n",
              "  <thead>\n",
              "    <tr style=\"text-align: right;\">\n",
              "      <th></th>\n",
              "      <th>route_id</th>\n",
              "      <th>station_code</th>\n",
              "      <th>date</th>\n",
              "      <th>departure_time_utc</th>\n",
              "      <th>executor_capacity_cm3</th>\n",
              "      <th>route_score</th>\n",
              "      <th>stop_id</th>\n",
              "      <th>lat</th>\n",
              "      <th>lng</th>\n",
              "      <th>type</th>\n",
              "      <th>zone_id</th>\n",
              "    </tr>\n",
              "  </thead>\n",
              "  <tbody>\n",
              "    <tr>\n",
              "      <th>0</th>\n",
              "      <td>RouteID_00143bdd-0a6b-49ec-bb35-36593d303e77</td>\n",
              "      <td>DLA3</td>\n",
              "      <td>2018-07-27</td>\n",
              "      <td>16:02:10</td>\n",
              "      <td>3313071.0</td>\n",
              "      <td>High</td>\n",
              "      <td>AD</td>\n",
              "      <td>34.099611</td>\n",
              "      <td>-118.283062</td>\n",
              "      <td>Dropoff</td>\n",
              "      <td>P-12.3C</td>\n",
              "    </tr>\n",
              "    <tr>\n",
              "      <th>1</th>\n",
              "      <td>RouteID_00143bdd-0a6b-49ec-bb35-36593d303e77</td>\n",
              "      <td>DLA3</td>\n",
              "      <td>2018-07-27</td>\n",
              "      <td>16:02:10</td>\n",
              "      <td>3313071.0</td>\n",
              "      <td>High</td>\n",
              "      <td>AF</td>\n",
              "      <td>34.101587</td>\n",
              "      <td>-118.291125</td>\n",
              "      <td>Dropoff</td>\n",
              "      <td>A-1.2D</td>\n",
              "    </tr>\n",
              "    <tr>\n",
              "      <th>2</th>\n",
              "      <td>RouteID_00143bdd-0a6b-49ec-bb35-36593d303e77</td>\n",
              "      <td>DLA3</td>\n",
              "      <td>2018-07-27</td>\n",
              "      <td>16:02:10</td>\n",
              "      <td>3313071.0</td>\n",
              "      <td>High</td>\n",
              "      <td>AG</td>\n",
              "      <td>34.089727</td>\n",
              "      <td>-118.285530</td>\n",
              "      <td>Dropoff</td>\n",
              "      <td>A-2.1A</td>\n",
              "    </tr>\n",
              "    <tr>\n",
              "      <th>3</th>\n",
              "      <td>RouteID_00143bdd-0a6b-49ec-bb35-36593d303e77</td>\n",
              "      <td>DLA3</td>\n",
              "      <td>2018-07-27</td>\n",
              "      <td>16:02:10</td>\n",
              "      <td>3313071.0</td>\n",
              "      <td>High</td>\n",
              "      <td>BA</td>\n",
              "      <td>34.096132</td>\n",
              "      <td>-118.292869</td>\n",
              "      <td>Dropoff</td>\n",
              "      <td>A-1.2C</td>\n",
              "    </tr>\n",
              "    <tr>\n",
              "      <th>4</th>\n",
              "      <td>RouteID_00143bdd-0a6b-49ec-bb35-36593d303e77</td>\n",
              "      <td>DLA3</td>\n",
              "      <td>2018-07-27</td>\n",
              "      <td>16:02:10</td>\n",
              "      <td>3313071.0</td>\n",
              "      <td>High</td>\n",
              "      <td>BE</td>\n",
              "      <td>34.098482</td>\n",
              "      <td>-118.286243</td>\n",
              "      <td>Dropoff</td>\n",
              "      <td>P-13.3B</td>\n",
              "    </tr>\n",
              "  </tbody>\n",
              "</table>\n",
              "</div>"
            ],
            "text/plain": [
              "                                       route_id station_code        date  \\\n",
              "0  RouteID_00143bdd-0a6b-49ec-bb35-36593d303e77         DLA3  2018-07-27   \n",
              "1  RouteID_00143bdd-0a6b-49ec-bb35-36593d303e77         DLA3  2018-07-27   \n",
              "2  RouteID_00143bdd-0a6b-49ec-bb35-36593d303e77         DLA3  2018-07-27   \n",
              "3  RouteID_00143bdd-0a6b-49ec-bb35-36593d303e77         DLA3  2018-07-27   \n",
              "4  RouteID_00143bdd-0a6b-49ec-bb35-36593d303e77         DLA3  2018-07-27   \n",
              "\n",
              "  departure_time_utc  executor_capacity_cm3 route_score stop_id        lat  \\\n",
              "0           16:02:10              3313071.0        High      AD  34.099611   \n",
              "1           16:02:10              3313071.0        High      AF  34.101587   \n",
              "2           16:02:10              3313071.0        High      AG  34.089727   \n",
              "3           16:02:10              3313071.0        High      BA  34.096132   \n",
              "4           16:02:10              3313071.0        High      BE  34.098482   \n",
              "\n",
              "          lng     type  zone_id  \n",
              "0 -118.283062  Dropoff  P-12.3C  \n",
              "1 -118.291125  Dropoff   A-1.2D  \n",
              "2 -118.285530  Dropoff   A-2.1A  \n",
              "3 -118.292869  Dropoff   A-1.2C  \n",
              "4 -118.286243  Dropoff  P-13.3B  "
            ]
          },
          "execution_count": 42,
          "metadata": {},
          "output_type": "execute_result"
        }
      ],
      "source": [
        "# Loading all the route data\n",
        "\n",
        "route_data = json.load(open(BASE_PATH + 'route_data.json'))\n",
        "\n",
        "flattened_route_data = []\n",
        "\n",
        "for route_id, info in route_data.items():\n",
        "    for stop_id, stop_details in info['stops'].items():\n",
        "        flattened_route_data.append({\n",
        "            \"route_id\": route_id,\n",
        "            \"station_code\": info['station_code'],\n",
        "            \"date\": info['date_YYYY_MM_DD'],\n",
        "            \"departure_time_utc\": info['departure_time_utc'],\n",
        "            \"executor_capacity_cm3\": info['executor_capacity_cm3'],\n",
        "            \"route_score\": info['route_score'],\n",
        "            \"stop_id\": stop_id,\n",
        "            \"lat\": stop_details['lat'],\n",
        "            \"lng\": stop_details['lng'],\n",
        "            \"type\": stop_details['type'],\n",
        "            \"zone_id\": stop_details['zone_id']\n",
        "        })\n",
        "\n",
        "route_data_df = pd.DataFrame(flattened_route_data)\n",
        "\n",
        "route_data_df.head()"
      ]
    },
    {
      "cell_type": "code",
      "execution_count": 43,
      "metadata": {
        "id": "TliBwdWATtva"
      },
      "outputs": [],
      "source": [
        "# Loading all the travel times\n",
        "\n",
        "vehicle_travel_times = json.load(open(BASE_PATH + 'travel_times.json'))"
      ]
    },
    {
      "cell_type": "markdown",
      "metadata": {
        "id": "YZv7Q9znU5BX"
      },
      "source": [
        "**To create a solution to the VRPD for we need the following information for a route:**\n",
        "\n",
        "\n",
        "\n",
        "We already have:\n",
        "\n",
        "Package Data\n",
        "*   Package ID\n",
        "*   Dimensions (length, width, height)\n",
        "*   Service time seconds\n",
        "\n",
        "Stop Data\n",
        "*   Stop ID\n",
        "*   Latitude and Longitude\n",
        "*   Zone ID\n",
        "*   List of Package ID(s) to be delivered\n",
        "*   Depot bool\n",
        "\n",
        "Travel Times:\n",
        "*   Vehicle transit time to every other stop\n",
        "\n",
        "\n",
        "We will need to calculate\n",
        "*   Drone bool for each stop ((if a drone can cover this stop ie. one small package)\n",
        "* Drone transit time to every other stop\n",
        "\n",
        "\n",
        "\n",
        "We can begin by collecting all the data we want for a desired route\n",
        "\n",
        "\n",
        "\n"
      ]
    },
    {
      "cell_type": "code",
      "execution_count": 44,
      "metadata": {
        "id": "jLjIKDvlW41R"
      },
      "outputs": [],
      "source": [
        "def get_data_for_route(route_id):\n",
        "    package_data = package_data_df[package_data_df['route_id'] == route_id]\n",
        "    route_data = route_data_df[route_data_df['route_id'] == route_id]\n",
        "    travel_times_route = vehicle_travel_times[route_id]\n",
        "\n",
        "    return package_data.copy(), route_data.copy(), travel_times_route.copy()"
      ]
    },
    {
      "cell_type": "code",
      "execution_count": 45,
      "metadata": {
        "id": "f_NUOgzsZye-"
      },
      "outputs": [],
      "source": [
        "# Given route data, it will return a dictionary\n",
        "def calculate_drone_travel_time(route_data):\n",
        "  drone_travel_time = {}\n",
        "\n",
        "  for _, base_row in route_data.iterrows():\n",
        "    drone_travel_time[base_row['stop_id']] = {}\n",
        "\n",
        "    # calculate travel time to every other stop in the route\n",
        "    for _, other_row in route_data.iterrows():\n",
        "      if base_row['stop_id'] != other_row['stop_id']:\n",
        "        base_location = (base_row['lat'], base_row['lng'])\n",
        "        other_location = (other_row['lat'], other_row['lng'])\n",
        "\n",
        "        distance = geodesic(base_location, other_location).meters\n",
        "\n",
        "        # Assuming the drone will travel 7 m/s TODO: CONSTANT\n",
        "        drone_travel_time[base_row['stop_id']][other_row['stop_id']] = distance / 7.0\n",
        "        # drone_travel_time[base_row['stop_id']][other_row['stop_id']] += 10 # 5 second rise, 5 second drop\n",
        "\n",
        "      else:\n",
        "        drone_travel_time[base_row['stop_id']][other_row['stop_id']] = 0\n",
        "\n",
        "  return drone_travel_time"
      ]
    },
    {
      "cell_type": "code",
      "execution_count": 46,
      "metadata": {
        "id": "A-38Vcn_PrIv"
      },
      "outputs": [],
      "source": [
        "package_data_route_df, route_data_route_df, vehicle_travel_times_route = get_data_for_route(\"RouteID_f9639176-8909-4c65-80a9-5562b0241ad4\")"
      ]
    },
    {
      "cell_type": "code",
      "execution_count": 47,
      "metadata": {
        "id": "AbjT13IZT9gY"
      },
      "outputs": [],
      "source": [
        "drone_travel_times_route = calculate_drone_travel_time(route_data_route_df)"
      ]
    },
    {
      "cell_type": "code",
      "execution_count": 48,
      "metadata": {
        "id": "d5aMZSrsdQBL"
      },
      "outputs": [],
      "source": [
        "# Determining if each package can be delivered by a drone\n",
        "package_data_route_df['drone_possible'] = (package_data_route_df['depth_cm'] < 30) & (package_data_route_df['height_cm'] < 25) & (package_data_route_df['width_cm'] < 30) # TODO: be indifferent on depth and width"
      ]
    },
    {
      "cell_type": "code",
      "execution_count": 49,
      "metadata": {
        "id": "9GFR_EbHUXLa"
      },
      "outputs": [
        {
          "name": "stderr",
          "output_type": "stream",
          "text": [
            "/var/folders/0k/pn9vvw0x1x9fyt6gbd6z1jkw0000gn/T/ipykernel_90606/2067262009.py:1: DeprecationWarning:\n",
            "\n",
            "DataFrameGroupBy.apply operated on the grouping columns. This behavior is deprecated, and in a future version of pandas the grouping columns will be excluded from the operation. Either pass `include_groups=False` to exclude the groupings or explicitly select the grouping columns after groupby to silence this warning.\n",
            "\n"
          ]
        }
      ],
      "source": [
        "package_info_agg = package_data_route_df.groupby('stop_id').apply(\n",
        "    lambda x: pd.Series({\n",
        "        'packages': x[['package_id', 'depth_cm', 'height_cm', 'width_cm']].to_dict('records'),\n",
        "        'num_packages': len(x),\n",
        "        'drone_possible': (len(x) == 1) and (x['drone_possible'].iloc[0] == True),\n",
        "        'service_time_seconds': x['planned_service_time_seconds'].mean() # Not sure if this should be sum or average. https://github.com/MIT-CAVE/rc-cli/blob/main/templates/data_structures.md\n",
        "    })\n",
        ").reset_index()"
      ]
    },
    {
      "cell_type": "code",
      "execution_count": 50,
      "metadata": {
        "id": "jSQBTyUlL9yt"
      },
      "outputs": [],
      "source": [
        "route_data_route_df = pd.merge(route_data_route_df, package_info_agg, how='left', on='stop_id')"
      ]
    },
    {
      "cell_type": "code",
      "execution_count": 51,
      "metadata": {
        "colab": {
          "base_uri": "https://localhost:8080/",
          "height": 400
        },
        "id": "iosrkE-DUwoW",
        "outputId": "fd091b61-f216-4845-eec2-30d4ca780942"
      },
      "outputs": [
        {
          "data": {
            "text/html": [
              "<div>\n",
              "<style scoped>\n",
              "    .dataframe tbody tr th:only-of-type {\n",
              "        vertical-align: middle;\n",
              "    }\n",
              "\n",
              "    .dataframe tbody tr th {\n",
              "        vertical-align: top;\n",
              "    }\n",
              "\n",
              "    .dataframe thead th {\n",
              "        text-align: right;\n",
              "    }\n",
              "</style>\n",
              "<table border=\"1\" class=\"dataframe\">\n",
              "  <thead>\n",
              "    <tr style=\"text-align: right;\">\n",
              "      <th></th>\n",
              "      <th>route_id</th>\n",
              "      <th>station_code</th>\n",
              "      <th>date</th>\n",
              "      <th>departure_time_utc</th>\n",
              "      <th>executor_capacity_cm3</th>\n",
              "      <th>route_score</th>\n",
              "      <th>stop_id</th>\n",
              "      <th>lat</th>\n",
              "      <th>lng</th>\n",
              "      <th>type</th>\n",
              "      <th>zone_id</th>\n",
              "      <th>packages</th>\n",
              "      <th>num_packages</th>\n",
              "      <th>drone_possible</th>\n",
              "      <th>service_time_seconds</th>\n",
              "    </tr>\n",
              "  </thead>\n",
              "  <tbody>\n",
              "    <tr>\n",
              "      <th>0</th>\n",
              "      <td>RouteID_f9639176-8909-4c65-80a9-5562b0241ad4</td>\n",
              "      <td>DBO3</td>\n",
              "      <td>2018-08-13</td>\n",
              "      <td>13:02:17</td>\n",
              "      <td>3313071.0</td>\n",
              "      <td>Medium</td>\n",
              "      <td>AC</td>\n",
              "      <td>42.131001</td>\n",
              "      <td>-71.538114</td>\n",
              "      <td>Dropoff</td>\n",
              "      <td>E-1.2J</td>\n",
              "      <td>[{'package_id': 'PackageID_469f7aa0-e0db-474e-...</td>\n",
              "      <td>1.0</td>\n",
              "      <td>True</td>\n",
              "      <td>65.0</td>\n",
              "    </tr>\n",
              "    <tr>\n",
              "      <th>1</th>\n",
              "      <td>RouteID_f9639176-8909-4c65-80a9-5562b0241ad4</td>\n",
              "      <td>DBO3</td>\n",
              "      <td>2018-08-13</td>\n",
              "      <td>13:02:17</td>\n",
              "      <td>3313071.0</td>\n",
              "      <td>Medium</td>\n",
              "      <td>AD</td>\n",
              "      <td>42.110252</td>\n",
              "      <td>-71.555689</td>\n",
              "      <td>Dropoff</td>\n",
              "      <td>E-2.3H</td>\n",
              "      <td>[{'package_id': 'PackageID_caa3dc05-b659-4228-...</td>\n",
              "      <td>1.0</td>\n",
              "      <td>False</td>\n",
              "      <td>75.0</td>\n",
              "    </tr>\n",
              "    <tr>\n",
              "      <th>2</th>\n",
              "      <td>RouteID_f9639176-8909-4c65-80a9-5562b0241ad4</td>\n",
              "      <td>DBO3</td>\n",
              "      <td>2018-08-13</td>\n",
              "      <td>13:02:17</td>\n",
              "      <td>3313071.0</td>\n",
              "      <td>Medium</td>\n",
              "      <td>AG</td>\n",
              "      <td>42.138349</td>\n",
              "      <td>-71.542410</td>\n",
              "      <td>Dropoff</td>\n",
              "      <td>E-1.2H</td>\n",
              "      <td>[{'package_id': 'PackageID_32227deb-67a8-4c65-...</td>\n",
              "      <td>2.0</td>\n",
              "      <td>False</td>\n",
              "      <td>62.5</td>\n",
              "    </tr>\n",
              "    <tr>\n",
              "      <th>3</th>\n",
              "      <td>RouteID_f9639176-8909-4c65-80a9-5562b0241ad4</td>\n",
              "      <td>DBO3</td>\n",
              "      <td>2018-08-13</td>\n",
              "      <td>13:02:17</td>\n",
              "      <td>3313071.0</td>\n",
              "      <td>Medium</td>\n",
              "      <td>AL</td>\n",
              "      <td>42.084637</td>\n",
              "      <td>-71.565057</td>\n",
              "      <td>Dropoff</td>\n",
              "      <td>E-2.1H</td>\n",
              "      <td>[{'package_id': 'PackageID_fe18bcf4-808c-4b64-...</td>\n",
              "      <td>1.0</td>\n",
              "      <td>False</td>\n",
              "      <td>140.0</td>\n",
              "    </tr>\n",
              "    <tr>\n",
              "      <th>4</th>\n",
              "      <td>RouteID_f9639176-8909-4c65-80a9-5562b0241ad4</td>\n",
              "      <td>DBO3</td>\n",
              "      <td>2018-08-13</td>\n",
              "      <td>13:02:17</td>\n",
              "      <td>3313071.0</td>\n",
              "      <td>Medium</td>\n",
              "      <td>AP</td>\n",
              "      <td>42.128049</td>\n",
              "      <td>-71.578627</td>\n",
              "      <td>Dropoff</td>\n",
              "      <td>E-2.2J</td>\n",
              "      <td>[{'package_id': 'PackageID_5d77652d-1f5f-40fd-...</td>\n",
              "      <td>1.0</td>\n",
              "      <td>True</td>\n",
              "      <td>100.0</td>\n",
              "    </tr>\n",
              "  </tbody>\n",
              "</table>\n",
              "</div>"
            ],
            "text/plain": [
              "                                       route_id station_code        date  \\\n",
              "0  RouteID_f9639176-8909-4c65-80a9-5562b0241ad4         DBO3  2018-08-13   \n",
              "1  RouteID_f9639176-8909-4c65-80a9-5562b0241ad4         DBO3  2018-08-13   \n",
              "2  RouteID_f9639176-8909-4c65-80a9-5562b0241ad4         DBO3  2018-08-13   \n",
              "3  RouteID_f9639176-8909-4c65-80a9-5562b0241ad4         DBO3  2018-08-13   \n",
              "4  RouteID_f9639176-8909-4c65-80a9-5562b0241ad4         DBO3  2018-08-13   \n",
              "\n",
              "  departure_time_utc  executor_capacity_cm3 route_score stop_id        lat  \\\n",
              "0           13:02:17              3313071.0      Medium      AC  42.131001   \n",
              "1           13:02:17              3313071.0      Medium      AD  42.110252   \n",
              "2           13:02:17              3313071.0      Medium      AG  42.138349   \n",
              "3           13:02:17              3313071.0      Medium      AL  42.084637   \n",
              "4           13:02:17              3313071.0      Medium      AP  42.128049   \n",
              "\n",
              "         lng     type zone_id  \\\n",
              "0 -71.538114  Dropoff  E-1.2J   \n",
              "1 -71.555689  Dropoff  E-2.3H   \n",
              "2 -71.542410  Dropoff  E-1.2H   \n",
              "3 -71.565057  Dropoff  E-2.1H   \n",
              "4 -71.578627  Dropoff  E-2.2J   \n",
              "\n",
              "                                            packages  num_packages  \\\n",
              "0  [{'package_id': 'PackageID_469f7aa0-e0db-474e-...           1.0   \n",
              "1  [{'package_id': 'PackageID_caa3dc05-b659-4228-...           1.0   \n",
              "2  [{'package_id': 'PackageID_32227deb-67a8-4c65-...           2.0   \n",
              "3  [{'package_id': 'PackageID_fe18bcf4-808c-4b64-...           1.0   \n",
              "4  [{'package_id': 'PackageID_5d77652d-1f5f-40fd-...           1.0   \n",
              "\n",
              "  drone_possible  service_time_seconds  \n",
              "0           True                  65.0  \n",
              "1          False                  75.0  \n",
              "2          False                  62.5  \n",
              "3          False                 140.0  \n",
              "4           True                 100.0  "
            ]
          },
          "execution_count": 51,
          "metadata": {},
          "output_type": "execute_result"
        }
      ],
      "source": [
        "route_data_route_df.head()"
      ]
    },
    {
      "cell_type": "markdown",
      "metadata": {
        "id": "R14nuFPUmuoV"
      },
      "source": [
        "## Naive Solver\n",
        "This solver will just go to the next closest stop within the Zone, and then the next closest stop in a different zone."
      ]
    },
    {
      "cell_type": "code",
      "execution_count": 60,
      "metadata": {
        "id": "RiODJdtsuVhs"
      },
      "outputs": [],
      "source": [
        "# Event Types\n",
        "\n",
        "# Both\n",
        "LOAD_START = 'LOAD_START'\n",
        "LOAD_END = 'LOAD_END'\n",
        "ARRIVE = 'ARRIVE'\n",
        "DEPART = 'DEPART'\n",
        "\n",
        "# Vehicle\n",
        "SERVICE_START = 'SERVICE_START'\n",
        "SERVICE_END = 'SERVICE_END'\n",
        "\n",
        "\n",
        "# Drone\n",
        "LAUNCH = 'LAUNCH'\n",
        "DRONE_DELIVERY_START = 'DRONE_DELIVERY_START'\n",
        "DRONE_DELIVERY_END = 'DRONE_DELIVERY_END'\n",
        "LAND = 'LAND'"
      ]
    },
    {
      "cell_type": "code",
      "execution_count": 61,
      "metadata": {
        "id": "WwtyA0gysWch"
      },
      "outputs": [],
      "source": [
        "class Event:\n",
        "  def __init__(self, event_type, stop_id, time, data): # data holds extra information, like coordinates\n",
        "    self.event_type = event_type\n",
        "    self.stop_id = stop_id\n",
        "    self.time = time\n",
        "    self.data = data\n",
        "\n",
        "  def __str__(self):\n",
        "    return f\"{self.event_type} {self.stop_id} {round(self.time, 1)} {self.data}\"\n",
        "\n",
        "  def to_dict(self):\n",
        "    # Convert the event to a dictionary\n",
        "    return {\n",
        "        'event_type': self.event_type,\n",
        "        'stop_id': self.stop_id,\n",
        "        'time': self.time,\n",
        "        'coordinates': self.data,\n",
        "    }"
      ]
    },
    {
      "cell_type": "code",
      "execution_count": 77,
      "metadata": {
        "id": "BL-GtP_moCgl"
      },
      "outputs": [],
      "source": [
        "class VRPDSolver:\n",
        "  def __init__(self, route_id, package_data, route_data, vehicle_travel_times, drone_travel_times):\n",
        "    self.route_id = route_id\n",
        "    self.package_data = package_data\n",
        "    self.route_data = route_data\n",
        "    self.vehicle_travel_times = vehicle_travel_times\n",
        "    self.drone_travel_times = drone_travel_times\n",
        "    self.station = self.route_data[self.route_data['type'] == 'Station'].iloc[0]\n",
        "\n",
        "    self.vehicle_path = []\n",
        "    self.vehicle_events = []\n",
        "    self.drone_path = []\n",
        "    self.drone_events = []\n",
        "\n",
        "    self.remaining_stops = set(self.route_data['stop_id'].unique())\n",
        "    self.completed_stops = set()\n",
        "\n",
        "\n",
        "    self.cur_stop = None\n",
        "    self.cur_zone = None\n",
        "    self.cur_coords = None\n",
        "    self.cur_time = 0\n",
        "    self.final_time = 0\n",
        "\n",
        "  # Get closest stop\n",
        "  def get_closest_stop(self):\n",
        "\n",
        "    possible_zones = None\n",
        "    if self.cur_zone and len(self.cur_zone) > 0:\n",
        "      # Get all possible zones\n",
        "      possible_zones = self.route_data[self.route_data['zone_id'] == self.cur_zone]\n",
        "      # Remove any zones that have been visited\n",
        "      possible_zones = possible_zones[~possible_zones['stop_id'].isin(self.completed_stops)]\n",
        "\n",
        "    # If there are more stops left in the zone, we find the closest one using it's stop_id and vehicle_travel_times\n",
        "    best_next_stop = None\n",
        "    cur_min_time = float('inf')\n",
        "\n",
        "    # We find the next closest stop in the zone\n",
        "    if possible_zones is not None and not possible_zones.empty:\n",
        "      for _, row in possible_zones.iterrows():\n",
        "        if self.vehicle_travel_times[self.cur_stop][row['stop_id']] < cur_min_time and row['stop_id'] != self.cur_stop:\n",
        "          cur_min_time = self.vehicle_travel_times[self.cur_stop][row['stop_id']]\n",
        "          best_next_stop = row['stop_id']\n",
        "    else:\n",
        "      # We find the next closest stop that has not been visited\n",
        "      for _, row in self.route_data.iterrows(): # Can be optimized by iterating through remaining_stops\n",
        "        if row['stop_id'] not in self.completed_stops:\n",
        "          if self.vehicle_travel_times[self.cur_stop][row['stop_id']] < cur_min_time and row['stop_id'] != self.cur_stop:\n",
        "            cur_min_time = self.vehicle_travel_times[self.cur_stop][row['stop_id']]\n",
        "            best_next_stop = row['stop_id']\n",
        "\n",
        "\n",
        "    return best_next_stop\n",
        "\n",
        "  def naive_vrp(self):\n",
        "    \n",
        "    # The first step is departing the station\n",
        "    self.cur_stop = self.station['stop_id']\n",
        "    self.cur_coords = {'lat' : self.station['lat'], 'lng' : self.station['lng']}\n",
        "\n",
        "    # We leave the depot station\n",
        "    first_event = Event(DEPART, self.cur_stop, self.cur_time, self.cur_coords)\n",
        "    self.vehicle_events.append(first_event)\n",
        "    self.vehicle_path.append(self.cur_stop)\n",
        "\n",
        "    while len(self.remaining_stops) > 0:\n",
        "      # We find the closest stop\n",
        "      next_stop = self.get_closest_stop()\n",
        "      # Travel there\n",
        "      self.cur_time += self.vehicle_travel_times[self.cur_stop][next_stop]\n",
        "      # Arrive\n",
        "      self.cur_stop = next_stop\n",
        "      stop = self.route_data[self.route_data['stop_id'] == self.cur_stop].iloc[0]\n",
        "      self.cur_zone = stop['zone_id']\n",
        "      self.cur_coords = {'lat' : stop['lat'], 'lng' : stop['lng']}\n",
        "      arrive_event = Event(ARRIVE, self.cur_stop, self.cur_time, self.cur_coords)\n",
        "      self.vehicle_events.append(arrive_event)\n",
        "      self.vehicle_path.append(self.cur_stop)\n",
        "\n",
        "      # # Edge case: If we arrive at the station we can break before delivering packages\n",
        "      if self.cur_stop == self.station['stop_id']:\n",
        "        break\n",
        "\n",
        "      # Driver delivers package\n",
        "      service_start_event = Event(SERVICE_START, self.cur_stop, self.cur_time, self.cur_coords)\n",
        "      self.vehicle_events.append(service_start_event)\n",
        "      self.cur_time += stop['service_time_seconds']\n",
        "      service_end_event = Event(SERVICE_END, self.cur_stop, self.cur_time, self.cur_coords)\n",
        "      self.vehicle_events.append(service_end_event)\n",
        "      self.completed_stops.add(self.cur_stop)\n",
        "      self.remaining_stops.remove(self.cur_stop)\n",
        "      # Driver departs\n",
        "      depart_event = Event(DEPART, self.cur_stop, self.cur_time, self.cur_coords)\n",
        "      self.vehicle_events.append(depart_event)\n",
        "\n",
        "    self.final_time = self.cur_time\n",
        "\n",
        "\n",
        "  # Takes in three stops and determines if a drone should be used for the middle stop\n",
        "  def augment_good(self, next_stops):\n",
        "      # We check if a drone can deliver to the middle stop\n",
        "      mid_stop = self.route_data[self.route_data['stop_id'] == next_stops[1]].iloc[0]\n",
        "      if mid_stop[\"drone_possible\"]:\n",
        "      # We see if the timing is bett\n",
        "        vehicle_time = 0\n",
        "        drone_time = 0\n",
        "        vehicle_drone_time = 0\n",
        "\n",
        "        vehicle_time += self.vehicle_travel_times[next_stops[0]][next_stops[1]]\n",
        "        vehicle_time += self.vehicle_travel_times[next_stops[1]][next_stops[2]]\n",
        "        vehicle_time += mid_stop['service_time_seconds']\n",
        "\n",
        "        drone_time += 15 # For loading the drone\n",
        "        drone_time += 5 # For launching the drone\n",
        "        drone_time += self.drone_travel_times[next_stops[0]][next_stops[1]]\n",
        "        drone_time += 10 # Drone landing, delivering, launching\n",
        "        drone_time += self.drone_travel_times[next_stops[1]][next_stops[2]]\n",
        "        drone_time += 5 # For landing the drone\n",
        "\n",
        "        vehicle_drone_time += 15 # For loading the drone\n",
        "        vehicle_drone_time += self.vehicle_travel_times[next_stops[0]][next_stops[2]]\n",
        "\n",
        "        max_time = max(vehicle_drone_time, drone_time)\n",
        "        # print(f\"Vehicle time: {vehicle_time}\")\n",
        "        # print(f\"Drone time: {drone_time}\")\n",
        "        # print(f\"Vehicle drone time: {vehicle_drone_time}\")\n",
        "        # print(\"------------\")\n",
        "        return max_time < vehicle_time\n",
        "      else:\n",
        "        return False\n",
        "\n",
        "  def naive_vrpd(self):\n",
        "    # The first step is departing the station\n",
        "    self.cur_stop = self.station['stop_id']\n",
        "    self.cur_coords = {'lat' : self.station['lat'], 'lng' : self.station['lng']}\n",
        "\n",
        "    # We leave the depot station\n",
        "    first_event = Event(DEPART, self.cur_stop, self.cur_time, self.cur_coords)\n",
        "    self.vehicle_events.append(first_event)\n",
        "    self.vehicle_path.append(self.cur_stop)\n",
        "    self.drone_events.append(first_event)\n",
        "    self.drone_path.append(self.cur_stop)\n",
        "\n",
        "\n",
        "    while len(self.remaining_stops) > 0:\n",
        "      # We find the next three stops for the vehicle\n",
        "      # If possible we agument with possible and shorter time we augment with a drone\n",
        "\n",
        "      # Doesn't account for differnet iterations, but simple is fine for this\n",
        "\n",
        "      base_stop = self.cur_stop # What we will default to\n",
        "      next_stops = []\n",
        "      drone_attempt = len(self.remaining_stops) > 4\n",
        "\n",
        "      if drone_attempt:\n",
        "        for i in range(3):\n",
        "          next_stop = self.get_closest_stop()\n",
        "          self.cur_stop = next_stop\n",
        "          next_stops.append(next_stop)\n",
        "          if i != 2:\n",
        "            self.completed_stops.add(self.cur_stop)\n",
        "            self.remaining_stops.remove(self.cur_stop)\n",
        "\n",
        "      # We augment by using drone\n",
        "      if drone_attempt and self.augment_good(next_stops):\n",
        "        next_stop = next_stops[0]\n",
        "        self.cur_time += self.vehicle_travel_times[self.cur_stop][next_stop]\n",
        "        # Arrive at first stop\n",
        "        self.cur_stop = next_stop\n",
        "        stop = self.route_data[self.route_data['stop_id'] == self.cur_stop].iloc[0]\n",
        "        self.cur_zone = stop['zone_id']\n",
        "        self.cur_coords = {'lat' : stop['lat'], 'lng' : stop['lng']}\n",
        "        arrive_event = Event(ARRIVE, self.cur_stop, self.cur_time, self.cur_coords)\n",
        "        self.vehicle_events.append(arrive_event)\n",
        "        self.vehicle_path.append(self.cur_stop)\n",
        "        self.drone_events.append(arrive_event)\n",
        "        self.drone_path.append(self.cur_stop)\n",
        "\n",
        "        # Driver delivers package\n",
        "        service_start_event = Event(SERVICE_START, self.cur_stop, self.cur_time, self.cur_coords)\n",
        "        self.vehicle_events.append(service_start_event)\n",
        "        self.cur_time += stop['service_time_seconds']\n",
        "        service_end_event = Event(SERVICE_END, self.cur_stop, self.cur_time, self.cur_coords)\n",
        "        self.vehicle_events.append(service_end_event)\n",
        "\n",
        "        # Drive loads the drone\n",
        "        load_drone_event = Event(LOAD_START, self.cur_stop, self.cur_time, self.cur_coords)\n",
        "        self.vehicle_events.append(load_drone_event)\n",
        "        self.drone_events.append(load_drone_event)\n",
        "        self.cur_time += 15\n",
        "        load_drone_event = Event(LOAD_END, self.cur_stop, self.cur_time, self.cur_coords)\n",
        "        self.vehicle_events.append(load_drone_event)\n",
        "        self.drone_events.append(load_drone_event)\n",
        "\n",
        "        #TODO: Add a class variable to keep track of drone logistics\n",
        "        drone_time = self.cur_time\n",
        "\n",
        "        # Drone Leaves to deliver\n",
        "        drone_launch_event = Event(LAUNCH, self.cur_stop, drone_time, self.cur_coords)\n",
        "        self.drone_events.append(drone_launch_event)\n",
        "        drone_time += 5\n",
        "        drone_time += self.drone_travel_times[next_stops[0]][next_stops[1]] # Travels to middle stop\n",
        "        stop = self.route_data[self.route_data['stop_id'] == next_stops[1]].iloc[0]\n",
        "        drone_coords = {'lat' : stop['lat'], 'lng' : stop['lng']}\n",
        "        drone_arrive_event = Event(DRONE_DELIVERY_START, next_stops[1], drone_time, drone_coords)\n",
        "        self.drone_events.append(drone_arrive_event)\n",
        "        drone_time += 10 # Drone delivering\n",
        "        self.drone_path.append(next_stops[1])\n",
        "        drone_depart_event = Event(DRONE_DELIVERY_END, next_stops[1], drone_time, drone_coords)\n",
        "        self.drone_events.append(drone_depart_event)\n",
        "        drone_time += self.drone_travel_times[next_stops[1]][next_stops[2]] # Travels to last stop\n",
        "\n",
        "        # Before the drone lands, we have to ensure that the vehicle is there\n",
        "\n",
        "        # Vehicle departs\n",
        "        vehicle_depart_event = Event(DEPART, self.cur_stop, self.cur_time, self.cur_coords)\n",
        "        self.vehicle_events.append(vehicle_depart_event)\n",
        "\n",
        "        self.cur_time += self.vehicle_travel_times[next_stops[0]][next_stops[2]] # Traveling to next stop\n",
        "        # Vehicle arrives\n",
        "        self.cur_stop = next_stops[2]\n",
        "        stop = self.route_data[self.route_data['stop_id'] == self.cur_stop].iloc[0]\n",
        "        self.cur_zone = stop['zone_id']\n",
        "        self.cur_coords = {'lat' : stop['lat'], 'lng' : stop['lng']}\n",
        "        vehicle_arrive_event = Event(ARRIVE, self.cur_stop, self.cur_time, self.cur_coords)\n",
        "        self.vehicle_events.append(vehicle_arrive_event)\n",
        "        self.vehicle_path.append(self.cur_stop)\n",
        "\n",
        "        # If the vehicle can land it tries to do so\n",
        "        landed = False\n",
        "        if drone_time < self.cur_time:\n",
        "          landed = True\n",
        "          drone_land_event = Event(LAND, self.cur_stop, self.cur_time, self.cur_coords)\n",
        "          self.drone_events.append(drone_land_event)\n",
        "          self.drone_path.append(self.cur_stop)\n",
        "\n",
        "        # Driver Delivers Package\n",
        "        service_start_event = Event(SERVICE_START, self.cur_stop, self.cur_time, self.cur_coords)\n",
        "        self.vehicle_events.append(service_start_event)\n",
        "        self.cur_time += stop['service_time_seconds']\n",
        "        service_end_event = Event(SERVICE_END, self.cur_stop, self.cur_time, self.cur_coords)\n",
        "\n",
        "        self.vehicle_events.append(service_end_event)\n",
        "        self.completed_stops.add(self.cur_stop)\n",
        "        self.remaining_stops.remove(self.cur_stop)\n",
        "\n",
        "        # Drone tries to land again, makes vehicle wait if needed\n",
        "        if not landed:\n",
        "          if drone_time < self.cur_time:\n",
        "            drone_land_event = Event(LAND, self.cur_stop, drone_time, self.cur_coords) # Note we now land on drone_time\n",
        "            self.drone_events.append(drone_land_event)\n",
        "            self.drone_path.append(self.cur_stop)\n",
        "          else:\n",
        "            self.cur_time = max(self.cur_time, drone_time)\n",
        "            drone_land_event = Event(LAND, self.cur_stop, self.cur_time, self.cur_coords)\n",
        "            self.drone_events.append(drone_land_event)\n",
        "            self.drone_path.append(self.cur_stop)\n",
        "\n",
        "        # Driver departs\n",
        "        depart_event = Event(DEPART, self.cur_stop, self.cur_time, self.cur_coords)\n",
        "        self.vehicle_events.append(depart_event)\n",
        "        self.drone_events.append(depart_event)\n",
        "\n",
        "\n",
        "      else:\n",
        "\n",
        "        # We reverse the affects of finding the 3 next stops\n",
        "        self.cur_stop = base_stop\n",
        "        if next_stops:\n",
        "          self.completed_stops.remove(next_stops[0])\n",
        "          self.completed_stops.remove(next_stops[1])\n",
        "          self.remaining_stops.add(next_stops[0])\n",
        "          self.remaining_stops.add(next_stops[1])\n",
        "\n",
        "        # We find the closest stop\n",
        "        next_stop = self.get_closest_stop()\n",
        "        # Travel there\n",
        "        self.cur_time += self.vehicle_travel_times[self.cur_stop][next_stop]\n",
        "        # Arrive\n",
        "        self.cur_stop = next_stop\n",
        "        stop = self.route_data[self.route_data['stop_id'] == self.cur_stop].iloc[0]\n",
        "        self.cur_zone = stop['zone_id']\n",
        "        self.cur_coords = {'lat' : stop['lat'], 'lng' : stop['lng']}\n",
        "        arrive_event = Event(ARRIVE, self.cur_stop, self.cur_time, self.cur_coords)\n",
        "        self.vehicle_events.append(arrive_event)\n",
        "        self.vehicle_path.append(self.cur_stop)\n",
        "        self.drone_path.append(self.cur_stop)\n",
        "        self.drone_events.append(arrive_event)\n",
        "\n",
        "        # # Edge case: If we arrive at the station we can break before delivering packages\n",
        "        if self.cur_stop == self.station['stop_id']:\n",
        "          break\n",
        "\n",
        "        # Driver delivers package\n",
        "        service_start_event = Event(SERVICE_START, self.cur_stop, self.cur_time, self.cur_coords)\n",
        "        self.vehicle_events.append(service_start_event)\n",
        "        self.cur_time += stop['service_time_seconds']\n",
        "        service_end_event = Event(SERVICE_END, self.cur_stop, self.cur_time, self.cur_coords)\n",
        "        self.vehicle_events.append(service_end_event)\n",
        "        self.completed_stops.add(self.cur_stop)\n",
        "        self.remaining_stops.remove(self.cur_stop)\n",
        "        # Driver departs\n",
        "        depart_event = Event(DEPART, self.cur_stop, self.cur_time, self.cur_coords)\n",
        "        self.vehicle_events.append(depart_event)\n",
        "        self.drone_events.append(depart_event)\n",
        "\n",
        "      self.final_time = self.cur_time\n",
        "\n",
        "\n",
        "\n",
        "  def print_vehicle_path(self):\n",
        "          print(self.vehicle_path)  # Ensure vehicle_path is correctly converted to string\n",
        "\n",
        "  def print_vehicle_events(self):\n",
        "          for event in self.vehicle_events:\n",
        "              print(event)  # Convert Event object to string\n",
        "\n",
        "  def print_drone_path(self):\n",
        "          print(self.drone_path)  # Ensure drone_path is correctly converted to string\n",
        "\n",
        "  def print_drone_events(self):\n",
        "          for event in self.drone_events:\n",
        "              print(event)\n",
        "\n",
        "  def save_vehicle_path(self):\n",
        "    path_json = []\n",
        "    for i, stop_id in enumerate(self.vehicle_path):\n",
        "      stop = self.route_data[self.route_data['stop_id'] == stop_id].iloc[0]\n",
        "      vehicle_coords = {'lat' : stop['lat'], 'lng' : stop['lng']}\n",
        "      path_json.append({\"id\": i+1, \"stop\": stop_id, \"coordinates\": vehicle_coords})\n",
        "\n",
        "    with open(f\"{self.route_id}_vehicle_path.json\", 'w') as file:\n",
        "        json.dump(path_json, file, indent=4)\n",
        "\n",
        "  def save_drone_path(self):\n",
        "    path_json = []\n",
        "    for i, stop_id in enumerate(self.drone_path):\n",
        "      stop = self.route_data[self.route_data['stop_id'] == stop_id].iloc[0]\n",
        "      drone_coords = {'lat' : stop['lat'], 'lng' : stop['lng']}\n",
        "      path_json.append({\"id\": i+1, \"stop\": stop_id, \"coordinates\": drone_coords})\n",
        "\n",
        "    with open(f\"{self.route_id}_drone_path.json\", 'w') as file:\n",
        "        json.dump(path_json, file, indent=4)\n",
        "\n",
        "  def save_vehicle_events(self):\n",
        "    # Convert the list of events to a list of dictionaries and assign an ID to each\n",
        "    events_with_ids = [{'id': i+1, **event.to_dict()} for i, event in enumerate(self.vehicle_events)]\n",
        "    # Save the list of events as a JSON file\n",
        "    with open(f\"{self.route_id}_vehicle_events.json\", 'w') as file:\n",
        "        json.dump(events_with_ids, file, indent=4)\n",
        "\n",
        "  def save_drone_events(self):\n",
        "    # Convert the list of events to a list of dictionaries and assign an ID to each\n",
        "    events_with_ids = [{'id': i+1, **event.to_dict()} for i, event in enumerate(self.drone_events)]\n",
        "    # Save the list of events as a JSON file\n",
        "    with open(f\"{self.route_id}_drone_events.json\", 'w') as file:\n",
        "        json.dump(events_with_ids, file, indent=4)\n",
        "\n"
      ]
    },
    {
      "cell_type": "code",
      "execution_count": 78,
      "metadata": {
        "id": "L6sf8wXAvFnX"
      },
      "outputs": [],
      "source": [
        "test = VRPDSolver(route_id, package_data_route_df, route_data_route_df, vehicle_travel_times_route, drone_travel_times_route)\n",
        "test.naive_vrp()"
      ]
    },
    {
      "cell_type": "code",
      "execution_count": 80,
      "metadata": {
        "colab": {
          "base_uri": "https://localhost:8080/"
        },
        "id": "l3ushzuB08gn",
        "outputId": "1329d3bc-15fa-45d7-ce87-f23b33aded3e"
      },
      "outputs": [],
      "source": [
        "test.save_vehicle_events()"
      ]
    },
    {
      "cell_type": "code",
      "execution_count": 67,
      "metadata": {},
      "outputs": [
        {
          "name": "stdout",
          "output_type": "stream",
          "text": [
            "DEPART BU 0 {'lat': 42.139891, 'lng': -71.494346}\n",
            "ARRIVE VU 660.9 {'lat': 42.139089, 'lng': -71.524434}\n",
            "SERVICE_START VU 660.9 {'lat': 42.139089, 'lng': -71.524434}\n",
            "SERVICE_END VU 771.9 {'lat': 42.139089, 'lng': -71.524434}\n",
            "DEPART VU 771.9 {'lat': 42.139089, 'lng': -71.524434}\n",
            "ARRIVE ZP 817.3 {'lat': 42.138518, 'lng': -71.525506}\n",
            "SERVICE_START ZP 817.3 {'lat': 42.138518, 'lng': -71.525506}\n",
            "SERVICE_END ZP 907.8 {'lat': 42.138518, 'lng': -71.525506}\n",
            "DEPART ZP 907.8 {'lat': 42.138518, 'lng': -71.525506}\n",
            "ARRIVE KH 929.1 {'lat': 42.138304, 'lng': -71.525361}\n",
            "SERVICE_START KH 929.1 {'lat': 42.138304, 'lng': -71.525361}\n",
            "SERVICE_END KH 1000.1 {'lat': 42.138304, 'lng': -71.525361}\n",
            "DEPART KH 1000.1 {'lat': 42.138304, 'lng': -71.525361}\n",
            "ARRIVE WW 1038.2 {'lat': 42.138168, 'lng': -71.529156}\n",
            "SERVICE_START WW 1038.2 {'lat': 42.138168, 'lng': -71.529156}\n",
            "SERVICE_END WW 1111.2 {'lat': 42.138168, 'lng': -71.529156}\n",
            "DEPART WW 1111.2 {'lat': 42.138168, 'lng': -71.529156}\n",
            "ARRIVE QC 1207.5 {'lat': 42.138013, 'lng': -71.530182}\n",
            "SERVICE_START QC 1207.5 {'lat': 42.138013, 'lng': -71.530182}\n",
            "SERVICE_END QC 1353.5 {'lat': 42.138013, 'lng': -71.530182}\n",
            "LOAD_START QC 1353.5 {'lat': 42.138013, 'lng': -71.530182}\n",
            "LOAD_END QC 1368.5 {'lat': 42.138013, 'lng': -71.530182}\n",
            "DEPART QC 1368.5 {'lat': 42.138013, 'lng': -71.530182}\n",
            "ARRIVE FS 1451.4 {'lat': 42.139661, 'lng': -71.529452}\n",
            "SERVICE_START FS 1451.4 {'lat': 42.139661, 'lng': -71.529452}\n",
            "SERVICE_END FS 1559.4 {'lat': 42.139661, 'lng': -71.529452}\n",
            "DEPART FS 1559.4 {'lat': 42.139661, 'lng': -71.529452}\n",
            "ARRIVE BJ 1602.6 {'lat': 42.141271, 'lng': -71.528049}\n",
            "SERVICE_START BJ 1602.6 {'lat': 42.141271, 'lng': -71.528049}\n",
            "SERVICE_END BJ 1664.6 {'lat': 42.141271, 'lng': -71.528049}\n",
            "LOAD_START BJ 1664.6 {'lat': 42.141271, 'lng': -71.528049}\n",
            "LOAD_END BJ 1679.6 {'lat': 42.141271, 'lng': -71.528049}\n",
            "DEPART BJ 1679.6 {'lat': 42.141271, 'lng': -71.528049}\n",
            "ARRIVE FV 1729.7 {'lat': 42.142625, 'lng': -71.529995}\n",
            "SERVICE_START FV 1729.7 {'lat': 42.142625, 'lng': -71.529995}\n",
            "SERVICE_END FV 1807.7 {'lat': 42.142625, 'lng': -71.529995}\n",
            "DEPART FV 1807.7 {'lat': 42.142625, 'lng': -71.529995}\n",
            "ARRIVE XO 1859.4 {'lat': 42.140573, 'lng': -71.531935}\n",
            "SERVICE_START XO 1859.4 {'lat': 42.140573, 'lng': -71.531935}\n",
            "SERVICE_END XO 1891.4 {'lat': 42.140573, 'lng': -71.531935}\n",
            "LOAD_START XO 1891.4 {'lat': 42.140573, 'lng': -71.531935}\n",
            "LOAD_END XO 1906.4 {'lat': 42.140573, 'lng': -71.531935}\n",
            "DEPART XO 1906.4 {'lat': 42.140573, 'lng': -71.531935}\n",
            "ARRIVE CF 1958.2 {'lat': 42.143604, 'lng': -71.534119}\n",
            "SERVICE_START CF 1958.2 {'lat': 42.143604, 'lng': -71.534119}\n",
            "SERVICE_END CF 2208.2 {'lat': 42.143604, 'lng': -71.534119}\n",
            "DEPART CF 2208.2 {'lat': 42.143604, 'lng': -71.534119}\n",
            "ARRIVE YV 2265.1 {'lat': 42.141526, 'lng': -71.534137}\n",
            "SERVICE_START YV 2265.1 {'lat': 42.141526, 'lng': -71.534137}\n",
            "SERVICE_END YV 2315.1 {'lat': 42.141526, 'lng': -71.534137}\n",
            "DEPART YV 2315.1 {'lat': 42.141526, 'lng': -71.534137}\n",
            "ARRIVE CY 2477.1 {'lat': 42.143284, 'lng': -71.531322}\n",
            "SERVICE_START CY 2477.1 {'lat': 42.143284, 'lng': -71.531322}\n",
            "SERVICE_END CY 2564.1 {'lat': 42.143284, 'lng': -71.531322}\n",
            "DEPART CY 2564.1 {'lat': 42.143284, 'lng': -71.531322}\n",
            "ARRIVE JQ 2766.6 {'lat': 42.13807, 'lng': -71.533233}\n",
            "SERVICE_START JQ 2766.6 {'lat': 42.13807, 'lng': -71.533233}\n",
            "SERVICE_END JQ 3136.6 {'lat': 42.13807, 'lng': -71.533233}\n",
            "DEPART JQ 3136.6 {'lat': 42.13807, 'lng': -71.533233}\n",
            "ARRIVE DZ 3275.9 {'lat': 42.136668, 'lng': -71.53178}\n",
            "SERVICE_START DZ 3275.9 {'lat': 42.136668, 'lng': -71.53178}\n",
            "SERVICE_END DZ 3377.9 {'lat': 42.136668, 'lng': -71.53178}\n",
            "DEPART DZ 3377.9 {'lat': 42.136668, 'lng': -71.53178}\n",
            "ARRIVE CN 3398.4 {'lat': 42.136174, 'lng': -71.531294}\n",
            "SERVICE_START CN 3398.4 {'lat': 42.136174, 'lng': -71.531294}\n",
            "SERVICE_END CN 3462.4 {'lat': 42.136174, 'lng': -71.531294}\n",
            "DEPART CN 3462.4 {'lat': 42.136174, 'lng': -71.531294}\n",
            "ARRIVE VM 3613.6 {'lat': 42.139035, 'lng': -71.536231}\n",
            "SERVICE_START VM 3613.6 {'lat': 42.139035, 'lng': -71.536231}\n",
            "SERVICE_END VM 3834.6 {'lat': 42.139035, 'lng': -71.536231}\n",
            "DEPART VM 3834.6 {'lat': 42.139035, 'lng': -71.536231}\n",
            "ARRIVE XG 3968.0 {'lat': 42.138027, 'lng': -71.539181}\n",
            "SERVICE_START XG 3968.0 {'lat': 42.138027, 'lng': -71.539181}\n",
            "SERVICE_END XG 4028.0 {'lat': 42.138027, 'lng': -71.539181}\n",
            "DEPART XG 4028.0 {'lat': 42.138027, 'lng': -71.539181}\n",
            "ARRIVE DX 4065.2 {'lat': 42.138476, 'lng': -71.540799}\n",
            "SERVICE_START DX 4065.2 {'lat': 42.138476, 'lng': -71.540799}\n",
            "SERVICE_END DX 4148.2 {'lat': 42.138476, 'lng': -71.540799}\n",
            "DEPART DX 4148.2 {'lat': 42.138476, 'lng': -71.540799}\n",
            "ARRIVE BE 4178.2 {'lat': 42.137425, 'lng': -71.54024}\n",
            "SERVICE_START BE 4178.2 {'lat': 42.137425, 'lng': -71.54024}\n",
            "SERVICE_END BE 4250.7 {'lat': 42.137425, 'lng': -71.54024}\n",
            "DEPART BE 4250.7 {'lat': 42.137425, 'lng': -71.54024}\n",
            "ARRIVE AG 4308.9 {'lat': 42.138349, 'lng': -71.54241}\n",
            "SERVICE_START AG 4308.9 {'lat': 42.138349, 'lng': -71.54241}\n",
            "SERVICE_END AG 4371.4 {'lat': 42.138349, 'lng': -71.54241}\n",
            "DEPART AG 4371.4 {'lat': 42.138349, 'lng': -71.54241}\n",
            "ARRIVE KY 4389.8 {'lat': 42.139095, 'lng': -71.542843}\n",
            "SERVICE_START KY 4389.8 {'lat': 42.139095, 'lng': -71.542843}\n",
            "SERVICE_END KY 4487.8 {'lat': 42.139095, 'lng': -71.542843}\n",
            "DEPART KY 4487.8 {'lat': 42.139095, 'lng': -71.542843}\n",
            "ARRIVE KR 4527.7 {'lat': 42.140455, 'lng': -71.543684}\n",
            "SERVICE_START KR 4527.7 {'lat': 42.140455, 'lng': -71.543684}\n",
            "SERVICE_END KR 4579.7 {'lat': 42.140455, 'lng': -71.543684}\n",
            "DEPART KR 4579.7 {'lat': 42.140455, 'lng': -71.543684}\n",
            "ARRIVE BX 4627.6 {'lat': 42.141612, 'lng': -71.545708}\n",
            "SERVICE_START BX 4627.6 {'lat': 42.141612, 'lng': -71.545708}\n",
            "SERVICE_END BX 4692.6 {'lat': 42.141612, 'lng': -71.545708}\n",
            "DEPART BX 4692.6 {'lat': 42.141612, 'lng': -71.545708}\n",
            "ARRIVE IE 4834.9 {'lat': 42.140229, 'lng': -71.546878}\n",
            "SERVICE_START IE 4834.9 {'lat': 42.140229, 'lng': -71.546878}\n",
            "SERVICE_END IE 4933.9 {'lat': 42.140229, 'lng': -71.546878}\n",
            "DEPART IE 4933.9 {'lat': 42.140229, 'lng': -71.546878}\n",
            "ARRIVE YH 4961.7 {'lat': 42.139733, 'lng': -71.547296}\n",
            "SERVICE_START YH 4961.7 {'lat': 42.139733, 'lng': -71.547296}\n",
            "SERVICE_END YH 5072.7 {'lat': 42.139733, 'lng': -71.547296}\n",
            "DEPART YH 5072.7 {'lat': 42.139733, 'lng': -71.547296}\n",
            "ARRIVE BP 5077.7 {'lat': 42.139294, 'lng': -71.546923}\n",
            "SERVICE_START BP 5077.7 {'lat': 42.139294, 'lng': -71.546923}\n",
            "SERVICE_END BP 5157.7 {'lat': 42.139294, 'lng': -71.546923}\n",
            "DEPART BP 5157.7 {'lat': 42.139294, 'lng': -71.546923}\n",
            "ARRIVE LL 5176.8 {'lat': 42.137706, 'lng': -71.545586}\n",
            "SERVICE_START LL 5176.8 {'lat': 42.137706, 'lng': -71.545586}\n",
            "SERVICE_END LL 5234.8 {'lat': 42.137706, 'lng': -71.545586}\n",
            "DEPART LL 5234.8 {'lat': 42.137706, 'lng': -71.545586}\n",
            "ARRIVE TR 5246.1 {'lat': 42.136912, 'lng': -71.544912}\n",
            "SERVICE_START TR 5246.1 {'lat': 42.136912, 'lng': -71.544912}\n",
            "SERVICE_END TR 5381.1 {'lat': 42.136912, 'lng': -71.544912}\n",
            "DEPART TR 5381.1 {'lat': 42.136912, 'lng': -71.544912}\n",
            "ARRIVE PB 5391.6 {'lat': 42.136227, 'lng': -71.544317}\n",
            "SERVICE_START PB 5391.6 {'lat': 42.136227, 'lng': -71.544317}\n",
            "SERVICE_END PB 5475.6 {'lat': 42.136227, 'lng': -71.544317}\n",
            "DEPART PB 5475.6 {'lat': 42.136227, 'lng': -71.544317}\n",
            "ARRIVE XQ 5548.3 {'lat': 42.136319, 'lng': -71.542944}\n",
            "SERVICE_START XQ 5548.3 {'lat': 42.136319, 'lng': -71.542944}\n",
            "SERVICE_END XQ 5655.3 {'lat': 42.136319, 'lng': -71.542944}\n",
            "DEPART XQ 5655.3 {'lat': 42.136319, 'lng': -71.542944}\n",
            "ARRIVE UW 5751.6 {'lat': 42.133937, 'lng': -71.542708}\n",
            "SERVICE_START UW 5751.6 {'lat': 42.133937, 'lng': -71.542708}\n",
            "SERVICE_END UW 5829.6 {'lat': 42.133937, 'lng': -71.542708}\n",
            "LOAD_START UW 5829.6 {'lat': 42.133937, 'lng': -71.542708}\n",
            "LOAD_END UW 5844.6 {'lat': 42.133937, 'lng': -71.542708}\n",
            "DEPART UW 5844.6 {'lat': 42.133937, 'lng': -71.542708}\n",
            "ARRIVE PQ 5914.2 {'lat': 42.132317, 'lng': -71.539959}\n",
            "SERVICE_START PQ 5914.2 {'lat': 42.132317, 'lng': -71.539959}\n",
            "SERVICE_END PQ 5996.2 {'lat': 42.132317, 'lng': -71.539959}\n",
            "DEPART PQ 5996.2 {'lat': 42.132317, 'lng': -71.539959}\n",
            "ARRIVE HO 6013.6 {'lat': 42.131921, 'lng': -71.540795}\n",
            "SERVICE_START HO 6013.6 {'lat': 42.131921, 'lng': -71.540795}\n",
            "SERVICE_END HO 6327.6 {'lat': 42.131921, 'lng': -71.540795}\n",
            "DEPART HO 6327.6 {'lat': 42.131921, 'lng': -71.540795}\n",
            "ARRIVE FQ 6355.1 {'lat': 42.131869, 'lng': -71.539325}\n",
            "SERVICE_START FQ 6355.1 {'lat': 42.131869, 'lng': -71.539325}\n",
            "SERVICE_END FQ 6426.1 {'lat': 42.131869, 'lng': -71.539325}\n",
            "LOAD_START FQ 6426.1 {'lat': 42.131869, 'lng': -71.539325}\n",
            "LOAD_END FQ 6441.1 {'lat': 42.131869, 'lng': -71.539325}\n",
            "DEPART FQ 6441.1 {'lat': 42.131869, 'lng': -71.539325}\n",
            "ARRIVE WR 6458.8 {'lat': 42.131486, 'lng': -71.539641}\n",
            "SERVICE_START WR 6458.8 {'lat': 42.131486, 'lng': -71.539641}\n",
            "SERVICE_END WR 6507.8 {'lat': 42.131486, 'lng': -71.539641}\n",
            "DEPART WR 6507.8 {'lat': 42.131486, 'lng': -71.539641}\n",
            "ARRIVE AC 6564.3 {'lat': 42.131001, 'lng': -71.538114}\n",
            "SERVICE_START AC 6564.3 {'lat': 42.131001, 'lng': -71.538114}\n",
            "SERVICE_END AC 6629.3 {'lat': 42.131001, 'lng': -71.538114}\n",
            "DEPART AC 6629.3 {'lat': 42.131001, 'lng': -71.538114}\n",
            "ARRIVE DL 6748.1 {'lat': 42.129566, 'lng': -71.540988}\n",
            "SERVICE_START DL 6748.1 {'lat': 42.129566, 'lng': -71.540988}\n",
            "SERVICE_END DL 6954.1 {'lat': 42.129566, 'lng': -71.540988}\n",
            "DEPART DL 6954.1 {'lat': 42.129566, 'lng': -71.540988}\n",
            "ARRIVE BT 7007.0 {'lat': 42.128268, 'lng': -71.53879}\n",
            "SERVICE_START BT 7007.0 {'lat': 42.128268, 'lng': -71.53879}\n",
            "SERVICE_END BT 7111.0 {'lat': 42.128268, 'lng': -71.53879}\n",
            "LOAD_START BT 7111.0 {'lat': 42.128268, 'lng': -71.53879}\n",
            "LOAD_END BT 7126.0 {'lat': 42.128268, 'lng': -71.53879}\n",
            "DEPART BT 7126.0 {'lat': 42.128268, 'lng': -71.53879}\n",
            "ARRIVE BN 7182.9 {'lat': 42.125992, 'lng': -71.536422}\n",
            "SERVICE_START BN 7182.9 {'lat': 42.125992, 'lng': -71.536422}\n",
            "SERVICE_END BN 7300.9 {'lat': 42.125992, 'lng': -71.536422}\n",
            "DEPART BN 7300.9 {'lat': 42.125992, 'lng': -71.536422}\n",
            "ARRIVE UY 7307.6 {'lat': 42.125514, 'lng': -71.535994}\n",
            "SERVICE_START UY 7307.6 {'lat': 42.125514, 'lng': -71.535994}\n",
            "SERVICE_END UY 7407.6 {'lat': 42.125514, 'lng': -71.535994}\n",
            "DEPART UY 7407.6 {'lat': 42.125514, 'lng': -71.535994}\n",
            "ARRIVE NY 7625.7 {'lat': 42.129766, 'lng': -71.536633}\n",
            "SERVICE_START NY 7625.7 {'lat': 42.129766, 'lng': -71.536633}\n",
            "SERVICE_END NY 7674.2 {'lat': 42.129766, 'lng': -71.536633}\n",
            "LOAD_START NY 7674.2 {'lat': 42.129766, 'lng': -71.536633}\n",
            "LOAD_END NY 7689.2 {'lat': 42.129766, 'lng': -71.536633}\n",
            "DEPART NY 7689.2 {'lat': 42.129766, 'lng': -71.536633}\n",
            "ARRIVE YG 7899.6 {'lat': 42.124038, 'lng': -71.544102}\n",
            "SERVICE_START YG 7899.6 {'lat': 42.124038, 'lng': -71.544102}\n",
            "SERVICE_END YG 7938.1 {'lat': 42.124038, 'lng': -71.544102}\n",
            "DEPART YG 7938.1 {'lat': 42.124038, 'lng': -71.544102}\n",
            "ARRIVE CW 8077.3 {'lat': 42.124369, 'lng': -71.545108}\n",
            "SERVICE_START CW 8077.3 {'lat': 42.124369, 'lng': -71.545108}\n",
            "SERVICE_END CW 8150.3 {'lat': 42.124369, 'lng': -71.545108}\n",
            "LOAD_START CW 8150.3 {'lat': 42.124369, 'lng': -71.545108}\n",
            "LOAD_END CW 8165.3 {'lat': 42.124369, 'lng': -71.545108}\n",
            "DEPART CW 8165.3 {'lat': 42.124369, 'lng': -71.545108}\n",
            "ARRIVE FT 8261.4 {'lat': 42.12044, 'lng': -71.542705}\n",
            "SERVICE_START FT 8261.4 {'lat': 42.12044, 'lng': -71.542705}\n",
            "SERVICE_END FT 8366.4 {'lat': 42.12044, 'lng': -71.542705}\n",
            "DEPART FT 8366.4 {'lat': 42.12044, 'lng': -71.542705}\n",
            "ARRIVE FI 8396.8 {'lat': 42.117772, 'lng': -71.544013}\n",
            "SERVICE_START FI 8396.8 {'lat': 42.117772, 'lng': -71.544013}\n",
            "SERVICE_END FI 8461.8 {'lat': 42.117772, 'lng': -71.544013}\n",
            "DEPART FI 8461.8 {'lat': 42.117772, 'lng': -71.544013}\n",
            "ARRIVE US 8523.4 {'lat': 42.120766, 'lng': -71.543204}\n",
            "SERVICE_START US 8523.4 {'lat': 42.120766, 'lng': -71.543204}\n",
            "SERVICE_END US 8835.4 {'lat': 42.120766, 'lng': -71.543204}\n",
            "DEPART US 8835.4 {'lat': 42.120766, 'lng': -71.543204}\n",
            "ARRIVE DN 8943.8 {'lat': 42.120975, 'lng': -71.544163}\n",
            "SERVICE_START DN 8943.8 {'lat': 42.120975, 'lng': -71.544163}\n",
            "SERVICE_END DN 9002.8 {'lat': 42.120975, 'lng': -71.544163}\n",
            "LOAD_START DN 9002.8 {'lat': 42.120975, 'lng': -71.544163}\n",
            "LOAD_END DN 9017.8 {'lat': 42.120975, 'lng': -71.544163}\n",
            "DEPART DN 9017.8 {'lat': 42.120975, 'lng': -71.544163}\n",
            "ARRIVE TL 9098.9 {'lat': 42.121051, 'lng': -71.545773}\n",
            "SERVICE_START TL 9098.9 {'lat': 42.121051, 'lng': -71.545773}\n",
            "SERVICE_END TL 9173.6 {'lat': 42.121051, 'lng': -71.545773}\n",
            "DEPART TL 9173.6 {'lat': 42.121051, 'lng': -71.545773}\n",
            "ARRIVE SU 9264.4 {'lat': 42.120341, 'lng': -71.549171}\n",
            "SERVICE_START SU 9264.4 {'lat': 42.120341, 'lng': -71.549171}\n",
            "SERVICE_END SU 9398.4 {'lat': 42.120341, 'lng': -71.549171}\n",
            "LOAD_START SU 9398.4 {'lat': 42.120341, 'lng': -71.549171}\n",
            "LOAD_END SU 9413.4 {'lat': 42.120341, 'lng': -71.549171}\n",
            "DEPART SU 9413.4 {'lat': 42.120341, 'lng': -71.549171}\n",
            "ARRIVE UI 9514.4 {'lat': 42.124123, 'lng': -71.550611}\n",
            "SERVICE_START UI 9514.4 {'lat': 42.124123, 'lng': -71.550611}\n",
            "SERVICE_END UI 9590.4 {'lat': 42.124123, 'lng': -71.550611}\n",
            "DEPART UI 9590.4 {'lat': 42.124123, 'lng': -71.550611}\n",
            "ARRIVE NL 9711.0 {'lat': 42.127365, 'lng': -71.551967}\n",
            "SERVICE_START NL 9711.0 {'lat': 42.127365, 'lng': -71.551967}\n",
            "SERVICE_END NL 9778.0 {'lat': 42.127365, 'lng': -71.551967}\n",
            "DEPART NL 9778.0 {'lat': 42.127365, 'lng': -71.551967}\n",
            "ARRIVE BZ 9833.5 {'lat': 42.128388, 'lng': -71.55112}\n",
            "SERVICE_START BZ 9833.5 {'lat': 42.128388, 'lng': -71.55112}\n",
            "SERVICE_END BZ 9914.5 {'lat': 42.128388, 'lng': -71.55112}\n",
            "DEPART BZ 9914.5 {'lat': 42.128388, 'lng': -71.55112}\n",
            "ARRIVE ZX 9977.7 {'lat': 42.129426, 'lng': -71.553551}\n",
            "SERVICE_START ZX 9977.7 {'lat': 42.129426, 'lng': -71.553551}\n",
            "SERVICE_END ZX 10048.7 {'lat': 42.129426, 'lng': -71.553551}\n",
            "DEPART ZX 10048.7 {'lat': 42.129426, 'lng': -71.553551}\n",
            "ARRIVE YR 10091.0 {'lat': 42.130843, 'lng': -71.55611}\n",
            "SERVICE_START YR 10091.0 {'lat': 42.130843, 'lng': -71.55611}\n",
            "SERVICE_END YR 10142.5 {'lat': 42.130843, 'lng': -71.55611}\n",
            "LOAD_START YR 10142.5 {'lat': 42.130843, 'lng': -71.55611}\n",
            "LOAD_END YR 10157.5 {'lat': 42.130843, 'lng': -71.55611}\n",
            "DEPART YR 10157.5 {'lat': 42.130843, 'lng': -71.55611}\n",
            "ARRIVE ZV 10209.8 {'lat': 42.129839, 'lng': -71.556861}\n",
            "SERVICE_START ZV 10209.8 {'lat': 42.129839, 'lng': -71.556861}\n",
            "SERVICE_END ZV 10381.8 {'lat': 42.129839, 'lng': -71.556861}\n",
            "DEPART ZV 10381.8 {'lat': 42.129839, 'lng': -71.556861}\n",
            "ARRIVE UJ 10530.5 {'lat': 42.135489, 'lng': -71.561803}\n",
            "SERVICE_START UJ 10530.5 {'lat': 42.135489, 'lng': -71.561803}\n",
            "SERVICE_END UJ 10629.5 {'lat': 42.135489, 'lng': -71.561803}\n",
            "DEPART UJ 10629.5 {'lat': 42.135489, 'lng': -71.561803}\n",
            "ARRIVE WM 10750.0 {'lat': 42.131202, 'lng': -71.571969}\n",
            "SERVICE_START WM 10750.0 {'lat': 42.131202, 'lng': -71.571969}\n",
            "SERVICE_END WM 10922.0 {'lat': 42.131202, 'lng': -71.571969}\n",
            "LOAD_START WM 10922.0 {'lat': 42.131202, 'lng': -71.571969}\n",
            "LOAD_END WM 10937.0 {'lat': 42.131202, 'lng': -71.571969}\n",
            "DEPART WM 10937.0 {'lat': 42.131202, 'lng': -71.571969}\n",
            "ARRIVE ST 11042.1 {'lat': 42.125951, 'lng': -71.572483}\n",
            "SERVICE_START ST 11042.1 {'lat': 42.125951, 'lng': -71.572483}\n",
            "SERVICE_END ST 11188.1 {'lat': 42.125951, 'lng': -71.572483}\n",
            "DEPART ST 11188.1 {'lat': 42.125951, 'lng': -71.572483}\n",
            "ARRIVE CU 11302.3 {'lat': 42.12566, 'lng': -71.57254}\n",
            "SERVICE_START CU 11302.3 {'lat': 42.12566, 'lng': -71.57254}\n",
            "SERVICE_END CU 11361.3 {'lat': 42.12566, 'lng': -71.57254}\n",
            "LOAD_START CU 11361.3 {'lat': 42.12566, 'lng': -71.57254}\n",
            "LOAD_END CU 11376.3 {'lat': 42.12566, 'lng': -71.57254}\n",
            "DEPART CU 11376.3 {'lat': 42.12566, 'lng': -71.57254}\n",
            "ARRIVE KL 11500.9 {'lat': 42.1282, 'lng': -71.578917}\n",
            "SERVICE_START KL 11500.9 {'lat': 42.1282, 'lng': -71.578917}\n",
            "SERVICE_END KL 11596.9 {'lat': 42.1282, 'lng': -71.578917}\n",
            "DEPART KL 11596.9 {'lat': 42.1282, 'lng': -71.578917}\n",
            "ARRIVE OJ 11727.5 {'lat': 42.125649, 'lng': -71.568811}\n",
            "SERVICE_START OJ 11727.5 {'lat': 42.125649, 'lng': -71.568811}\n",
            "SERVICE_END OJ 11830.5 {'lat': 42.125649, 'lng': -71.568811}\n",
            "DEPART OJ 11830.5 {'lat': 42.125649, 'lng': -71.568811}\n",
            "ARRIVE ZG 11957.2 {'lat': 42.116133, 'lng': -71.566586}\n",
            "SERVICE_START ZG 11957.2 {'lat': 42.116133, 'lng': -71.566586}\n",
            "SERVICE_END ZG 12055.2 {'lat': 42.116133, 'lng': -71.566586}\n",
            "DEPART ZG 12055.2 {'lat': 42.116133, 'lng': -71.566586}\n",
            "ARRIVE TO 12158.2 {'lat': 42.110929, 'lng': -71.556253}\n",
            "SERVICE_START TO 12158.2 {'lat': 42.110929, 'lng': -71.556253}\n",
            "SERVICE_END TO 12251.2 {'lat': 42.110929, 'lng': -71.556253}\n",
            "DEPART TO 12251.2 {'lat': 42.110929, 'lng': -71.556253}\n",
            "ARRIVE AD 12258.9 {'lat': 42.110252, 'lng': -71.555689}\n",
            "SERVICE_START AD 12258.9 {'lat': 42.110252, 'lng': -71.555689}\n",
            "SERVICE_END AD 12333.9 {'lat': 42.110252, 'lng': -71.555689}\n",
            "DEPART AD 12333.9 {'lat': 42.110252, 'lng': -71.555689}\n",
            "ARRIVE GE 12513.9 {'lat': 42.108828, 'lng': -71.562421}\n",
            "SERVICE_START GE 12513.9 {'lat': 42.108828, 'lng': -71.562421}\n",
            "SERVICE_END GE 12613.9 {'lat': 42.108828, 'lng': -71.562421}\n",
            "DEPART GE 12613.9 {'lat': 42.108828, 'lng': -71.562421}\n",
            "ARRIVE EY 12645.3 {'lat': 42.110475, 'lng': -71.56499}\n",
            "SERVICE_START EY 12645.3 {'lat': 42.110475, 'lng': -71.56499}\n",
            "SERVICE_END EY 12724.3 {'lat': 42.110475, 'lng': -71.56499}\n",
            "DEPART EY 12724.3 {'lat': 42.110475, 'lng': -71.56499}\n",
            "ARRIVE OM 12876.8 {'lat': 42.102702, 'lng': -71.553805}\n",
            "SERVICE_START OM 12876.8 {'lat': 42.102702, 'lng': -71.553805}\n",
            "SERVICE_END OM 12907.8 {'lat': 42.102702, 'lng': -71.553805}\n",
            "DEPART OM 12907.8 {'lat': 42.102702, 'lng': -71.553805}\n",
            "ARRIVE SR 12929.2 {'lat': 42.101216, 'lng': -71.555481}\n",
            "SERVICE_START SR 12929.2 {'lat': 42.101216, 'lng': -71.555481}\n",
            "SERVICE_END SR 13011.2 {'lat': 42.101216, 'lng': -71.555481}\n",
            "LOAD_START SR 13011.2 {'lat': 42.101216, 'lng': -71.555481}\n",
            "LOAD_END SR 13026.2 {'lat': 42.101216, 'lng': -71.555481}\n",
            "DEPART SR 13026.2 {'lat': 42.101216, 'lng': -71.555481}\n",
            "ARRIVE JU 13054.4 {'lat': 42.101403, 'lng': -71.556447}\n",
            "SERVICE_START JU 13054.4 {'lat': 42.101403, 'lng': -71.556447}\n",
            "SERVICE_END JU 13111.4 {'lat': 42.101403, 'lng': -71.556447}\n",
            "DEPART JU 13111.4 {'lat': 42.101403, 'lng': -71.556447}\n",
            "ARRIVE NB 13228.5 {'lat': 42.101185, 'lng': -71.551259}\n",
            "SERVICE_START NB 13228.5 {'lat': 42.101185, 'lng': -71.551259}\n",
            "SERVICE_END NB 13304.5 {'lat': 42.101185, 'lng': -71.551259}\n",
            "LOAD_START NB 13304.5 {'lat': 42.101185, 'lng': -71.551259}\n",
            "LOAD_END NB 13319.5 {'lat': 42.101185, 'lng': -71.551259}\n",
            "DEPART NB 13319.5 {'lat': 42.101185, 'lng': -71.551259}\n",
            "ARRIVE QZ 13446.5 {'lat': 42.105719, 'lng': -71.544234}\n",
            "SERVICE_START QZ 13446.5 {'lat': 42.105719, 'lng': -71.544234}\n",
            "SERVICE_END QZ 13491.5 {'lat': 42.105719, 'lng': -71.544234}\n",
            "DEPART QZ 13491.5 {'lat': 42.105719, 'lng': -71.544234}\n",
            "ARRIVE SZ 13643.6 {'lat': 42.106275, 'lng': -71.540355}\n",
            "SERVICE_START SZ 13643.6 {'lat': 42.106275, 'lng': -71.540355}\n",
            "SERVICE_END SZ 13677.1 {'lat': 42.106275, 'lng': -71.540355}\n",
            "LOAD_START SZ 13677.1 {'lat': 42.106275, 'lng': -71.540355}\n",
            "LOAD_END SZ 13692.1 {'lat': 42.106275, 'lng': -71.540355}\n",
            "DEPART SZ 13692.1 {'lat': 42.106275, 'lng': -71.540355}\n",
            "ARRIVE VT 13854.3 {'lat': 42.098301, 'lng': -71.540291}\n",
            "SERVICE_START VT 13854.3 {'lat': 42.098301, 'lng': -71.540291}\n",
            "SERVICE_END VT 13955.3 {'lat': 42.098301, 'lng': -71.540291}\n",
            "DEPART VT 13955.3 {'lat': 42.098301, 'lng': -71.540291}\n",
            "ARRIVE IC 14052.6 {'lat': 42.091701, 'lng': -71.529757}\n",
            "SERVICE_START IC 14052.6 {'lat': 42.091701, 'lng': -71.529757}\n",
            "SERVICE_END IC 14138.6 {'lat': 42.091701, 'lng': -71.529757}\n",
            "DEPART IC 14138.6 {'lat': 42.091701, 'lng': -71.529757}\n",
            "ARRIVE QU 14283.8 {'lat': 42.093273, 'lng': -71.522541}\n",
            "SERVICE_START QU 14283.8 {'lat': 42.093273, 'lng': -71.522541}\n",
            "SERVICE_END QU 14346.8 {'lat': 42.093273, 'lng': -71.522541}\n",
            "LOAD_START QU 14346.8 {'lat': 42.093273, 'lng': -71.522541}\n",
            "LOAD_END QU 14361.8 {'lat': 42.093273, 'lng': -71.522541}\n",
            "DEPART QU 14361.8 {'lat': 42.093273, 'lng': -71.522541}\n",
            "ARRIVE OC 14481.1 {'lat': 42.097525, 'lng': -71.526315}\n",
            "SERVICE_START OC 14481.1 {'lat': 42.097525, 'lng': -71.526315}\n",
            "SERVICE_END OC 14562.1 {'lat': 42.097525, 'lng': -71.526315}\n",
            "DEPART OC 14562.1 {'lat': 42.097525, 'lng': -71.526315}\n",
            "ARRIVE ML 14844.6 {'lat': 42.097741, 'lng': -71.528215}\n",
            "SERVICE_START ML 14844.6 {'lat': 42.097741, 'lng': -71.528215}\n",
            "SERVICE_END ML 14892.6 {'lat': 42.097741, 'lng': -71.528215}\n",
            "LOAD_START ML 14892.6 {'lat': 42.097741, 'lng': -71.528215}\n",
            "LOAD_END ML 14907.6 {'lat': 42.097741, 'lng': -71.528215}\n",
            "DEPART ML 14907.6 {'lat': 42.097741, 'lng': -71.528215}\n",
            "ARRIVE JD 15170.3 {'lat': 42.089052, 'lng': -71.533044}\n",
            "SERVICE_START JD 15170.3 {'lat': 42.089052, 'lng': -71.533044}\n",
            "SERVICE_END JD 15249.0 {'lat': 42.089052, 'lng': -71.533044}\n",
            "DEPART JD 15249.0 {'lat': 42.089052, 'lng': -71.533044}\n",
            "ARRIVE ZA 15288.5 {'lat': 42.08848, 'lng': -71.5326}\n",
            "SERVICE_START ZA 15288.5 {'lat': 42.08848, 'lng': -71.5326}\n",
            "SERVICE_END ZA 15460.5 {'lat': 42.08848, 'lng': -71.5326}\n",
            "LOAD_START ZA 15460.5 {'lat': 42.08848, 'lng': -71.5326}\n",
            "LOAD_END ZA 15475.5 {'lat': 42.08848, 'lng': -71.5326}\n",
            "DEPART ZA 15475.5 {'lat': 42.08848, 'lng': -71.5326}\n",
            "ARRIVE IB 15517.7 {'lat': 42.087774, 'lng': -71.534656}\n",
            "SERVICE_START IB 15517.7 {'lat': 42.087774, 'lng': -71.534656}\n",
            "SERVICE_END IB 15687.7 {'lat': 42.087774, 'lng': -71.534656}\n",
            "DEPART IB 15687.7 {'lat': 42.087774, 'lng': -71.534656}\n",
            "ARRIVE FE 15812.4 {'lat': 42.085539, 'lng': -71.545158}\n",
            "SERVICE_START FE 15812.4 {'lat': 42.085539, 'lng': -71.545158}\n",
            "SERVICE_END FE 15885.4 {'lat': 42.085539, 'lng': -71.545158}\n",
            "DEPART FE 15885.4 {'lat': 42.085539, 'lng': -71.545158}\n",
            "ARRIVE OD 15923.9 {'lat': 42.083353, 'lng': -71.547355}\n",
            "SERVICE_START OD 15923.9 {'lat': 42.083353, 'lng': -71.547355}\n",
            "SERVICE_END OD 15967.4 {'lat': 42.083353, 'lng': -71.547355}\n",
            "DEPART OD 15967.4 {'lat': 42.083353, 'lng': -71.547355}\n",
            "ARRIVE PX 16052.9 {'lat': 42.082898, 'lng': -71.54777}\n",
            "SERVICE_START PX 16052.9 {'lat': 42.082898, 'lng': -71.54777}\n",
            "SERVICE_END PX 16103.9 {'lat': 42.082898, 'lng': -71.54777}\n",
            "LOAD_START PX 16103.9 {'lat': 42.082898, 'lng': -71.54777}\n",
            "LOAD_END PX 16118.9 {'lat': 42.082898, 'lng': -71.54777}\n",
            "DEPART PX 16118.9 {'lat': 42.082898, 'lng': -71.54777}\n",
            "ARRIVE SG 16214.0 {'lat': 42.08066, 'lng': -71.549721}\n",
            "SERVICE_START SG 16214.0 {'lat': 42.08066, 'lng': -71.549721}\n",
            "SERVICE_END SG 16291.0 {'lat': 42.08066, 'lng': -71.549721}\n",
            "DEPART SG 16291.0 {'lat': 42.08066, 'lng': -71.549721}\n",
            "ARRIVE IF 16315.8 {'lat': 42.080541, 'lng': -71.551435}\n",
            "SERVICE_START IF 16315.8 {'lat': 42.080541, 'lng': -71.551435}\n",
            "SERVICE_END IF 16371.8 {'lat': 42.080541, 'lng': -71.551435}\n",
            "DEPART IF 16371.8 {'lat': 42.080541, 'lng': -71.551435}\n",
            "ARRIVE MN 16601.4 {'lat': 42.088684, 'lng': -71.545654}\n",
            "SERVICE_START MN 16601.4 {'lat': 42.088684, 'lng': -71.545654}\n",
            "SERVICE_END MN 16654.4 {'lat': 42.088684, 'lng': -71.545654}\n",
            "DEPART MN 16654.4 {'lat': 42.088684, 'lng': -71.545654}\n",
            "ARRIVE JZ 16854.6 {'lat': 42.08376, 'lng': -71.551694}\n",
            "SERVICE_START JZ 16854.6 {'lat': 42.08376, 'lng': -71.551694}\n",
            "SERVICE_END JZ 17029.6 {'lat': 42.08376, 'lng': -71.551694}\n",
            "DEPART JZ 17029.6 {'lat': 42.08376, 'lng': -71.551694}\n",
            "ARRIVE PU 17124.1 {'lat': 42.084195, 'lng': -71.55201}\n",
            "SERVICE_START PU 17124.1 {'lat': 42.084195, 'lng': -71.55201}\n",
            "SERVICE_END PU 17195.6 {'lat': 42.084195, 'lng': -71.55201}\n",
            "LOAD_START PU 17195.6 {'lat': 42.084195, 'lng': -71.55201}\n",
            "LOAD_END PU 17210.6 {'lat': 42.084195, 'lng': -71.55201}\n",
            "DEPART PU 17210.6 {'lat': 42.084195, 'lng': -71.55201}\n",
            "ARRIVE ZO 17313.5 {'lat': 42.080895, 'lng': -71.556956}\n",
            "SERVICE_START ZO 17313.5 {'lat': 42.080895, 'lng': -71.556956}\n",
            "SERVICE_END ZO 17461.5 {'lat': 42.080895, 'lng': -71.556956}\n",
            "DEPART ZO 17461.5 {'lat': 42.080895, 'lng': -71.556956}\n",
            "ARRIVE FL 17514.8 {'lat': 42.08229, 'lng': -71.559}\n",
            "SERVICE_START FL 17514.8 {'lat': 42.08229, 'lng': -71.559}\n",
            "SERVICE_END FL 17635.8 {'lat': 42.08229, 'lng': -71.559}\n",
            "DEPART FL 17635.8 {'lat': 42.08229, 'lng': -71.559}\n",
            "ARRIVE ND 17770.6 {'lat': 42.088175, 'lng': -71.554347}\n",
            "SERVICE_START ND 17770.6 {'lat': 42.088175, 'lng': -71.554347}\n",
            "SERVICE_END ND 17912.6 {'lat': 42.088175, 'lng': -71.554347}\n",
            "DEPART ND 17912.6 {'lat': 42.088175, 'lng': -71.554347}\n",
            "ARRIVE NW 17931.4 {'lat': 42.089674, 'lng': -71.55466}\n",
            "SERVICE_START NW 17931.4 {'lat': 42.089674, 'lng': -71.55466}\n",
            "SERVICE_END NW 18033.4 {'lat': 42.089674, 'lng': -71.55466}\n",
            "DEPART NW 18033.4 {'lat': 42.089674, 'lng': -71.55466}\n",
            "ARRIVE QO 18109.7 {'lat': 42.086827, 'lng': -71.55235}\n",
            "SERVICE_START QO 18109.7 {'lat': 42.086827, 'lng': -71.55235}\n",
            "SERVICE_END QO 18191.7 {'lat': 42.086827, 'lng': -71.55235}\n",
            "DEPART QO 18191.7 {'lat': 42.086827, 'lng': -71.55235}\n",
            "ARRIVE OE 18253.7 {'lat': 42.07244, 'lng': -71.553688}\n",
            "SERVICE_START OE 18253.7 {'lat': 42.07244, 'lng': -71.553688}\n",
            "SERVICE_END OE 18332.7 {'lat': 42.07244, 'lng': -71.553688}\n",
            "LOAD_START OE 18332.7 {'lat': 42.07244, 'lng': -71.553688}\n",
            "LOAD_END OE 18347.7 {'lat': 42.07244, 'lng': -71.553688}\n",
            "DEPART OE 18347.7 {'lat': 42.07244, 'lng': -71.553688}\n",
            "ARRIVE SM 18402.8 {'lat': 42.07397, 'lng': -71.551047}\n",
            "SERVICE_START SM 18402.8 {'lat': 42.07397, 'lng': -71.551047}\n",
            "SERVICE_END SM 18473.8 {'lat': 42.07397, 'lng': -71.551047}\n",
            "DEPART SM 18473.8 {'lat': 42.07397, 'lng': -71.551047}\n",
            "ARRIVE PM 18784.2 {'lat': 42.08234, 'lng': -71.569138}\n",
            "SERVICE_START PM 18784.2 {'lat': 42.08234, 'lng': -71.569138}\n",
            "SERVICE_END PM 18867.2 {'lat': 42.08234, 'lng': -71.569138}\n",
            "DEPART PM 18867.2 {'lat': 42.08234, 'lng': -71.569138}\n",
            "ARRIVE AL 18934.9 {'lat': 42.084637, 'lng': -71.565057}\n",
            "SERVICE_START AL 18934.9 {'lat': 42.084637, 'lng': -71.565057}\n",
            "SERVICE_END AL 19074.9 {'lat': 42.084637, 'lng': -71.565057}\n",
            "DEPART AL 19074.9 {'lat': 42.084637, 'lng': -71.565057}\n",
            "ARRIVE LI 19091.1 {'lat': 42.086276, 'lng': -71.564665}\n",
            "SERVICE_START LI 19091.1 {'lat': 42.086276, 'lng': -71.564665}\n",
            "SERVICE_END LI 19257.1 {'lat': 42.086276, 'lng': -71.564665}\n",
            "DEPART LI 19257.1 {'lat': 42.086276, 'lng': -71.564665}\n",
            "ARRIVE PH 19318.6 {'lat': 42.091579, 'lng': -71.562969}\n",
            "SERVICE_START PH 19318.6 {'lat': 42.091579, 'lng': -71.562969}\n",
            "SERVICE_END PH 19388.6 {'lat': 42.091579, 'lng': -71.562969}\n",
            "DEPART PH 19388.6 {'lat': 42.091579, 'lng': -71.562969}\n",
            "ARRIVE LZ 19502.0 {'lat': 42.071217, 'lng': -71.569623}\n",
            "SERVICE_START LZ 19502.0 {'lat': 42.071217, 'lng': -71.569623}\n",
            "SERVICE_END LZ 19561.0 {'lat': 42.071217, 'lng': -71.569623}\n",
            "LOAD_START LZ 19561.0 {'lat': 42.071217, 'lng': -71.569623}\n",
            "LOAD_END LZ 19576.0 {'lat': 42.071217, 'lng': -71.569623}\n",
            "DEPART LZ 19576.0 {'lat': 42.071217, 'lng': -71.569623}\n",
            "ARRIVE IK 19692.9 {'lat': 42.065299, 'lng': -71.56307}\n",
            "SERVICE_START IK 19692.9 {'lat': 42.065299, 'lng': -71.56307}\n",
            "SERVICE_END IK 19752.9 {'lat': 42.065299, 'lng': -71.56307}\n",
            "DEPART IK 19752.9 {'lat': 42.065299, 'lng': -71.56307}\n",
            "ARRIVE MM 19797.8 {'lat': 42.066053, 'lng': -71.560007}\n",
            "SERVICE_START MM 19797.8 {'lat': 42.066053, 'lng': -71.560007}\n",
            "SERVICE_END MM 19878.3 {'lat': 42.066053, 'lng': -71.560007}\n",
            "DEPART MM 19878.3 {'lat': 42.066053, 'lng': -71.560007}\n",
            "ARRIVE ID 20049.9 {'lat': 42.066606, 'lng': -71.560328}\n",
            "SERVICE_START ID 20049.9 {'lat': 42.066606, 'lng': -71.560328}\n",
            "SERVICE_END ID 20154.9 {'lat': 42.066606, 'lng': -71.560328}\n",
            "LOAD_START ID 20154.9 {'lat': 42.066606, 'lng': -71.560328}\n",
            "LOAD_END ID 20169.9 {'lat': 42.066606, 'lng': -71.560328}\n",
            "DEPART ID 20169.9 {'lat': 42.066606, 'lng': -71.560328}\n",
            "ARRIVE XK 20372.3 {'lat': 42.069052, 'lng': -71.570989}\n",
            "SERVICE_START XK 20372.3 {'lat': 42.069052, 'lng': -71.570989}\n",
            "SERVICE_END XK 20452.3 {'lat': 42.069052, 'lng': -71.570989}\n",
            "DEPART XK 20452.3 {'lat': 42.069052, 'lng': -71.570989}\n",
            "ARRIVE EI 20839.5 {'lat': 42.098311, 'lng': -71.565798}\n",
            "SERVICE_START EI 20839.5 {'lat': 42.098311, 'lng': -71.565798}\n",
            "SERVICE_END EI 21035.5 {'lat': 42.098311, 'lng': -71.565798}\n",
            "DEPART EI 21035.5 {'lat': 42.098311, 'lng': -71.565798}\n",
            "ARRIVE PO 21329.2 {'lat': 42.100858, 'lng': -71.569223}\n",
            "SERVICE_START PO 21329.2 {'lat': 42.100858, 'lng': -71.569223}\n",
            "SERVICE_END PO 21458.7 {'lat': 42.100858, 'lng': -71.569223}\n",
            "LOAD_START PO 21458.7 {'lat': 42.100858, 'lng': -71.569223}\n",
            "LOAD_END PO 21473.7 {'lat': 42.100858, 'lng': -71.569223}\n",
            "DEPART PO 21473.7 {'lat': 42.100858, 'lng': -71.569223}\n",
            "ARRIVE PV 21735.6 {'lat': 42.094155, 'lng': -71.567809}\n",
            "SERVICE_START PV 21735.6 {'lat': 42.094155, 'lng': -71.567809}\n",
            "SERVICE_END PV 21793.1 {'lat': 42.094155, 'lng': -71.567809}\n",
            "DEPART PV 21793.1 {'lat': 42.094155, 'lng': -71.567809}\n",
            "ARRIVE ET 21883.6 {'lat': 42.09345, 'lng': -71.570252}\n",
            "SERVICE_START ET 21883.6 {'lat': 42.09345, 'lng': -71.570252}\n",
            "SERVICE_END ET 21960.6 {'lat': 42.09345, 'lng': -71.570252}\n",
            "DEPART ET 21960.6 {'lat': 42.09345, 'lng': -71.570252}\n",
            "ARRIVE SD 22612.6 {'lat': 42.0928, 'lng': -71.57135}\n",
            "SERVICE_START SD 22612.6 {'lat': 42.0928, 'lng': -71.57135}\n",
            "SERVICE_END SD 22783.6 {'lat': 42.0928, 'lng': -71.57135}\n",
            "LOAD_START SD 22783.6 {'lat': 42.0928, 'lng': -71.57135}\n",
            "LOAD_END SD 22798.6 {'lat': 42.0928, 'lng': -71.57135}\n",
            "DEPART SD 22798.6 {'lat': 42.0928, 'lng': -71.57135}\n",
            "ARRIVE UV 23526.1 {'lat': 42.11913, 'lng': -71.574056}\n",
            "SERVICE_START UV 23526.1 {'lat': 42.11913, 'lng': -71.574056}\n",
            "SERVICE_END UV 23683.1 {'lat': 42.11913, 'lng': -71.574056}\n",
            "DEPART UV 23683.1 {'lat': 42.11913, 'lng': -71.574056}\n",
            "ARRIVE JN 23730.4 {'lat': 42.122523, 'lng': -71.574733}\n",
            "SERVICE_START JN 23730.4 {'lat': 42.122523, 'lng': -71.574733}\n",
            "SERVICE_END JN 23799.4 {'lat': 42.122523, 'lng': -71.574733}\n",
            "DEPART JN 23799.4 {'lat': 42.122523, 'lng': -71.574733}\n",
            "ARRIVE HV 23808.7 {'lat': 42.122976, 'lng': -71.574975}\n",
            "SERVICE_START HV 23808.7 {'lat': 42.122976, 'lng': -71.574975}\n",
            "SERVICE_END HV 23849.7 {'lat': 42.122976, 'lng': -71.574975}\n",
            "DEPART HV 23849.7 {'lat': 42.122976, 'lng': -71.574975}\n",
            "ARRIVE IO 23945.4 {'lat': 42.120684, 'lng': -71.578937}\n",
            "SERVICE_START IO 23945.4 {'lat': 42.120684, 'lng': -71.578937}\n",
            "SERVICE_END IO 24003.4 {'lat': 42.120684, 'lng': -71.578937}\n",
            "DEPART IO 24003.4 {'lat': 42.120684, 'lng': -71.578937}\n",
            "ARRIVE WC 24059.0 {'lat': 42.120485, 'lng': -71.577536}\n",
            "SERVICE_START WC 24059.0 {'lat': 42.120485, 'lng': -71.577536}\n",
            "SERVICE_END WC 24128.0 {'lat': 42.120485, 'lng': -71.577536}\n",
            "LOAD_START WC 24128.0 {'lat': 42.120485, 'lng': -71.577536}\n",
            "LOAD_END WC 24143.0 {'lat': 42.120485, 'lng': -71.577536}\n",
            "DEPART WC 24143.0 {'lat': 42.120485, 'lng': -71.577536}\n",
            "ARRIVE YW 24202.9 {'lat': 42.117205, 'lng': -71.574765}\n",
            "SERVICE_START YW 24202.9 {'lat': 42.117205, 'lng': -71.574765}\n",
            "SERVICE_END YW 24275.4 {'lat': 42.117205, 'lng': -71.574765}\n",
            "DEPART YW 24275.4 {'lat': 42.117205, 'lng': -71.574765}\n",
            "ARRIVE VA 24394.5 {'lat': 42.117445, 'lng': -71.579092}\n",
            "SERVICE_START VA 24394.5 {'lat': 42.117445, 'lng': -71.579092}\n",
            "SERVICE_END VA 24454.5 {'lat': 42.117445, 'lng': -71.579092}\n",
            "DEPART VA 24454.5 {'lat': 42.117445, 'lng': -71.579092}\n",
            "ARRIVE KZ 24591.3 {'lat': 42.115553, 'lng': -71.587857}\n",
            "SERVICE_START KZ 24591.3 {'lat': 42.115553, 'lng': -71.587857}\n",
            "SERVICE_END KZ 24665.3 {'lat': 42.115553, 'lng': -71.587857}\n",
            "DEPART KZ 24665.3 {'lat': 42.115553, 'lng': -71.587857}\n",
            "ARRIVE UP 24774.1 {'lat': 42.112118, 'lng': -71.597602}\n",
            "SERVICE_START UP 24774.1 {'lat': 42.112118, 'lng': -71.597602}\n",
            "SERVICE_END UP 24880.1 {'lat': 42.112118, 'lng': -71.597602}\n",
            "DEPART UP 24880.1 {'lat': 42.112118, 'lng': -71.597602}\n",
            "ARRIVE AZ 25656.9 {'lat': 42.131043, 'lng': -71.547647}\n",
            "SERVICE_START AZ 25656.9 {'lat': 42.131043, 'lng': -71.547647}\n",
            "SERVICE_END AZ 25725.4 {'lat': 42.131043, 'lng': -71.547647}\n",
            "DEPART AZ 25725.4 {'lat': 42.131043, 'lng': -71.547647}\n",
            "ARRIVE OU 25747.6 {'lat': 42.13004, 'lng': -71.547106}\n",
            "SERVICE_START OU 25747.6 {'lat': 42.13004, 'lng': -71.547106}\n",
            "SERVICE_END OU 25823.6 {'lat': 42.13004, 'lng': -71.547106}\n",
            "DEPART OU 25823.6 {'lat': 42.13004, 'lng': -71.547106}\n",
            "ARRIVE II 25870.2 {'lat': 42.130505, 'lng': -71.546481}\n",
            "SERVICE_START II 25870.2 {'lat': 42.130505, 'lng': -71.546481}\n",
            "SERVICE_END II 25916.2 {'lat': 42.130505, 'lng': -71.546481}\n",
            "DEPART II 25916.2 {'lat': 42.130505, 'lng': -71.546481}\n",
            "ARRIVE ZL 26262.6 {'lat': 42.13111, 'lng': -71.546931}\n",
            "SERVICE_START ZL 26262.6 {'lat': 42.13111, 'lng': -71.546931}\n",
            "SERVICE_END ZL 26434.6 {'lat': 42.13111, 'lng': -71.546931}\n",
            "LOAD_START ZL 26434.6 {'lat': 42.13111, 'lng': -71.546931}\n",
            "LOAD_END ZL 26449.6 {'lat': 42.13111, 'lng': -71.546931}\n",
            "DEPART ZL 26449.6 {'lat': 42.13111, 'lng': -71.546931}\n",
            "ARRIVE MZ 26704.4 {'lat': 42.140655, 'lng': -71.536264}\n",
            "SERVICE_START MZ 26704.4 {'lat': 42.140655, 'lng': -71.536264}\n",
            "SERVICE_END MZ 26809.4 {'lat': 42.140655, 'lng': -71.536264}\n",
            "DEPART MZ 26809.4 {'lat': 42.140655, 'lng': -71.536264}\n",
            "ARRIVE EE 26878.8 {'lat': 42.149406, 'lng': -71.541475}\n",
            "SERVICE_START EE 26878.8 {'lat': 42.149406, 'lng': -71.541475}\n",
            "SERVICE_END EE 26956.8 {'lat': 42.149406, 'lng': -71.541475}\n",
            "LOAD_START EE 26956.8 {'lat': 42.149406, 'lng': -71.541475}\n",
            "LOAD_END EE 26971.8 {'lat': 42.149406, 'lng': -71.541475}\n",
            "DEPART EE 26971.8 {'lat': 42.149406, 'lng': -71.541475}\n",
            "ARRIVE AR 27030.6 {'lat': 42.150434, 'lng': -71.543739}\n",
            "SERVICE_START AR 27030.6 {'lat': 42.150434, 'lng': -71.543739}\n",
            "SERVICE_END AR 27075.6 {'lat': 42.150434, 'lng': -71.543739}\n",
            "DEPART AR 27075.6 {'lat': 42.150434, 'lng': -71.543739}\n",
            "ARRIVE SN 27135.5 {'lat': 42.152468, 'lng': -71.545145}\n",
            "SERVICE_START SN 27135.5 {'lat': 42.152468, 'lng': -71.545145}\n",
            "SERVICE_END SN 27198.5 {'lat': 42.152468, 'lng': -71.545145}\n",
            "DEPART SN 27198.5 {'lat': 42.152468, 'lng': -71.545145}\n",
            "ARRIVE VB 27388.1 {'lat': 42.153178, 'lng': -71.544067}\n",
            "SERVICE_START VB 27388.1 {'lat': 42.153178, 'lng': -71.544067}\n",
            "SERVICE_END VB 27467.1 {'lat': 42.153178, 'lng': -71.544067}\n",
            "LOAD_START VB 27467.1 {'lat': 42.153178, 'lng': -71.544067}\n",
            "LOAD_END VB 27482.1 {'lat': 42.153178, 'lng': -71.544067}\n",
            "DEPART VB 27482.1 {'lat': 42.153178, 'lng': -71.544067}\n",
            "ARRIVE YA 27685.7 {'lat': 42.148227, 'lng': -71.542674}\n",
            "SERVICE_START YA 27685.7 {'lat': 42.148227, 'lng': -71.542674}\n",
            "SERVICE_END YA 27786.7 {'lat': 42.148227, 'lng': -71.542674}\n",
            "DEPART YA 27786.7 {'lat': 42.148227, 'lng': -71.542674}\n",
            "ARRIVE KS 27893.5 {'lat': 42.147267, 'lng': -71.540911}\n",
            "SERVICE_START KS 27893.5 {'lat': 42.147267, 'lng': -71.540911}\n",
            "SERVICE_END KS 27940.5 {'lat': 42.147267, 'lng': -71.540911}\n",
            "DEPART KS 27940.5 {'lat': 42.147267, 'lng': -71.540911}\n",
            "ARRIVE PE 27998.1 {'lat': 42.145646, 'lng': -71.539764}\n",
            "SERVICE_START PE 27998.1 {'lat': 42.145646, 'lng': -71.539764}\n",
            "SERVICE_END PE 28019.1 {'lat': 42.145646, 'lng': -71.539764}\n",
            "DEPART PE 28019.1 {'lat': 42.145646, 'lng': -71.539764}\n",
            "ARRIVE GR 28415.1 {'lat': 42.148971, 'lng': -71.544248}\n",
            "SERVICE_START GR 28415.1 {'lat': 42.148971, 'lng': -71.544248}\n",
            "SERVICE_END GR 28513.1 {'lat': 42.148971, 'lng': -71.544248}\n",
            "DEPART GR 28513.1 {'lat': 42.148971, 'lng': -71.544248}\n",
            "ARRIVE BU 29628.8 {'lat': 42.139891, 'lng': -71.494346}\n"
          ]
        }
      ],
      "source": [
        "test.print_vehicle_events()"
      ]
    },
    {
      "cell_type": "code",
      "execution_count": 68,
      "metadata": {
        "colab": {
          "base_uri": "https://localhost:8080/"
        },
        "id": "BiSPsVUbskA0",
        "outputId": "48b8725e-79d1-4340-e3f3-7ad1a32df677"
      },
      "outputs": [
        {
          "name": "stdout",
          "output_type": "stream",
          "text": [
            "DEPART BU 0 {'lat': 42.139891, 'lng': -71.494346}\n",
            "ARRIVE VU 660.9 {'lat': 42.139089, 'lng': -71.524434}\n",
            "DEPART VU 771.9 {'lat': 42.139089, 'lng': -71.524434}\n",
            "ARRIVE ZP 817.3 {'lat': 42.138518, 'lng': -71.525506}\n",
            "DEPART ZP 907.8 {'lat': 42.138518, 'lng': -71.525506}\n",
            "ARRIVE KH 929.1 {'lat': 42.138304, 'lng': -71.525361}\n",
            "DEPART KH 1000.1 {'lat': 42.138304, 'lng': -71.525361}\n",
            "ARRIVE WW 1038.2 {'lat': 42.138168, 'lng': -71.529156}\n",
            "DEPART WW 1111.2 {'lat': 42.138168, 'lng': -71.529156}\n",
            "ARRIVE QC 1207.5 {'lat': 42.138013, 'lng': -71.530182}\n",
            "LOAD_START QC 1353.5 {'lat': 42.138013, 'lng': -71.530182}\n",
            "LOAD_END QC 1368.5 {'lat': 42.138013, 'lng': -71.530182}\n",
            "LAUNCH QC 1368.5 {'lat': 42.138013, 'lng': -71.530182}\n",
            "DRONE_DELIVERY_START JE 1400.7 {'lat': 42.138592, 'lng': -71.53235}\n",
            "DRONE_DELIVERY_END JE 1410.7 {'lat': 42.138592, 'lng': -71.53235}\n",
            "LAND FS 1451.4 {'lat': 42.139661, 'lng': -71.529452}\n",
            "DEPART FS 1559.4 {'lat': 42.139661, 'lng': -71.529452}\n",
            "ARRIVE BJ 1602.6 {'lat': 42.141271, 'lng': -71.528049}\n",
            "LOAD_START BJ 1664.6 {'lat': 42.141271, 'lng': -71.528049}\n",
            "LOAD_END BJ 1679.6 {'lat': 42.141271, 'lng': -71.528049}\n",
            "LAUNCH BJ 1679.6 {'lat': 42.141271, 'lng': -71.528049}\n",
            "DRONE_DELIVERY_START IQ 1688.1 {'lat': 42.141481, 'lng': -71.528133}\n",
            "DRONE_DELIVERY_END IQ 1698.1 {'lat': 42.141481, 'lng': -71.528133}\n",
            "LAND FV 1729.7 {'lat': 42.142625, 'lng': -71.529995}\n",
            "DEPART FV 1807.7 {'lat': 42.142625, 'lng': -71.529995}\n",
            "ARRIVE XO 1859.4 {'lat': 42.140573, 'lng': -71.531935}\n",
            "LOAD_START XO 1891.4 {'lat': 42.140573, 'lng': -71.531935}\n",
            "LOAD_END XO 1906.4 {'lat': 42.140573, 'lng': -71.531935}\n",
            "LAUNCH XO 1906.4 {'lat': 42.140573, 'lng': -71.531935}\n",
            "DRONE_DELIVERY_START MX 1953.8 {'lat': 42.142932, 'lng': -71.533622}\n",
            "DRONE_DELIVERY_END MX 1963.8 {'lat': 42.142932, 'lng': -71.533622}\n",
            "LAND CF 1976.0 {'lat': 42.143604, 'lng': -71.534119}\n",
            "DEPART CF 2208.2 {'lat': 42.143604, 'lng': -71.534119}\n",
            "ARRIVE YV 2265.1 {'lat': 42.141526, 'lng': -71.534137}\n",
            "DEPART YV 2315.1 {'lat': 42.141526, 'lng': -71.534137}\n",
            "ARRIVE CY 2477.1 {'lat': 42.143284, 'lng': -71.531322}\n",
            "DEPART CY 2564.1 {'lat': 42.143284, 'lng': -71.531322}\n",
            "ARRIVE JQ 2766.6 {'lat': 42.13807, 'lng': -71.533233}\n",
            "DEPART JQ 3136.6 {'lat': 42.13807, 'lng': -71.533233}\n",
            "ARRIVE DZ 3275.9 {'lat': 42.136668, 'lng': -71.53178}\n",
            "DEPART DZ 3377.9 {'lat': 42.136668, 'lng': -71.53178}\n",
            "ARRIVE CN 3398.4 {'lat': 42.136174, 'lng': -71.531294}\n",
            "DEPART CN 3462.4 {'lat': 42.136174, 'lng': -71.531294}\n",
            "ARRIVE VM 3613.6 {'lat': 42.139035, 'lng': -71.536231}\n",
            "DEPART VM 3834.6 {'lat': 42.139035, 'lng': -71.536231}\n",
            "ARRIVE XG 3968.0 {'lat': 42.138027, 'lng': -71.539181}\n",
            "DEPART XG 4028.0 {'lat': 42.138027, 'lng': -71.539181}\n",
            "ARRIVE DX 4065.2 {'lat': 42.138476, 'lng': -71.540799}\n",
            "DEPART DX 4148.2 {'lat': 42.138476, 'lng': -71.540799}\n",
            "ARRIVE BE 4178.2 {'lat': 42.137425, 'lng': -71.54024}\n",
            "DEPART BE 4250.7 {'lat': 42.137425, 'lng': -71.54024}\n",
            "ARRIVE AG 4308.9 {'lat': 42.138349, 'lng': -71.54241}\n",
            "DEPART AG 4371.4 {'lat': 42.138349, 'lng': -71.54241}\n",
            "ARRIVE KY 4389.8 {'lat': 42.139095, 'lng': -71.542843}\n",
            "DEPART KY 4487.8 {'lat': 42.139095, 'lng': -71.542843}\n",
            "ARRIVE KR 4527.7 {'lat': 42.140455, 'lng': -71.543684}\n",
            "DEPART KR 4579.7 {'lat': 42.140455, 'lng': -71.543684}\n",
            "ARRIVE BX 4627.6 {'lat': 42.141612, 'lng': -71.545708}\n",
            "DEPART BX 4692.6 {'lat': 42.141612, 'lng': -71.545708}\n",
            "ARRIVE IE 4834.9 {'lat': 42.140229, 'lng': -71.546878}\n",
            "DEPART IE 4933.9 {'lat': 42.140229, 'lng': -71.546878}\n",
            "ARRIVE YH 4961.7 {'lat': 42.139733, 'lng': -71.547296}\n",
            "DEPART YH 5072.7 {'lat': 42.139733, 'lng': -71.547296}\n",
            "ARRIVE BP 5077.7 {'lat': 42.139294, 'lng': -71.546923}\n",
            "DEPART BP 5157.7 {'lat': 42.139294, 'lng': -71.546923}\n",
            "ARRIVE LL 5176.8 {'lat': 42.137706, 'lng': -71.545586}\n",
            "DEPART LL 5234.8 {'lat': 42.137706, 'lng': -71.545586}\n",
            "ARRIVE TR 5246.1 {'lat': 42.136912, 'lng': -71.544912}\n",
            "DEPART TR 5381.1 {'lat': 42.136912, 'lng': -71.544912}\n",
            "ARRIVE PB 5391.6 {'lat': 42.136227, 'lng': -71.544317}\n",
            "DEPART PB 5475.6 {'lat': 42.136227, 'lng': -71.544317}\n",
            "ARRIVE XQ 5548.3 {'lat': 42.136319, 'lng': -71.542944}\n",
            "DEPART XQ 5655.3 {'lat': 42.136319, 'lng': -71.542944}\n",
            "ARRIVE UW 5751.6 {'lat': 42.133937, 'lng': -71.542708}\n",
            "LOAD_START UW 5829.6 {'lat': 42.133937, 'lng': -71.542708}\n",
            "LOAD_END UW 5844.6 {'lat': 42.133937, 'lng': -71.542708}\n",
            "LAUNCH UW 5844.6 {'lat': 42.133937, 'lng': -71.542708}\n",
            "DRONE_DELIVERY_START LG 5870.4 {'lat': 42.13382, 'lng': -71.54095}\n",
            "DRONE_DELIVERY_END LG 5880.4 {'lat': 42.13382, 'lng': -71.54095}\n",
            "LAND PQ 5914.2 {'lat': 42.132317, 'lng': -71.539959}\n",
            "DEPART PQ 5996.2 {'lat': 42.132317, 'lng': -71.539959}\n",
            "ARRIVE HO 6013.6 {'lat': 42.131921, 'lng': -71.540795}\n",
            "DEPART HO 6327.6 {'lat': 42.131921, 'lng': -71.540795}\n",
            "ARRIVE FQ 6355.1 {'lat': 42.131869, 'lng': -71.539325}\n",
            "LOAD_START FQ 6426.1 {'lat': 42.131869, 'lng': -71.539325}\n",
            "LOAD_END FQ 6441.1 {'lat': 42.131869, 'lng': -71.539325}\n",
            "LAUNCH FQ 6441.1 {'lat': 42.131869, 'lng': -71.539325}\n",
            "DRONE_DELIVERY_START WV 6456.3 {'lat': 42.131323, 'lng': -71.538877}\n",
            "DRONE_DELIVERY_END WV 6466.3 {'lat': 42.131323, 'lng': -71.538877}\n",
            "LAND WR 6475.6 {'lat': 42.131486, 'lng': -71.539641}\n",
            "DEPART WR 6507.8 {'lat': 42.131486, 'lng': -71.539641}\n",
            "ARRIVE AC 6564.3 {'lat': 42.131001, 'lng': -71.538114}\n",
            "DEPART AC 6629.3 {'lat': 42.131001, 'lng': -71.538114}\n",
            "ARRIVE DL 6748.1 {'lat': 42.129566, 'lng': -71.540988}\n",
            "DEPART DL 6954.1 {'lat': 42.129566, 'lng': -71.540988}\n",
            "ARRIVE BT 7007.0 {'lat': 42.128268, 'lng': -71.53879}\n",
            "LOAD_START BT 7111.0 {'lat': 42.128268, 'lng': -71.53879}\n",
            "LOAD_END BT 7126.0 {'lat': 42.128268, 'lng': -71.53879}\n",
            "LAUNCH BT 7126.0 {'lat': 42.128268, 'lng': -71.53879}\n",
            "DRONE_DELIVERY_START GQ 7139.5 {'lat': 42.127848, 'lng': -71.538338}\n",
            "DRONE_DELIVERY_END GQ 7149.5 {'lat': 42.127848, 'lng': -71.538338}\n",
            "LAND BN 7186.7 {'lat': 42.125992, 'lng': -71.536422}\n",
            "DEPART BN 7300.9 {'lat': 42.125992, 'lng': -71.536422}\n",
            "ARRIVE UY 7307.6 {'lat': 42.125514, 'lng': -71.535994}\n",
            "DEPART UY 7407.6 {'lat': 42.125514, 'lng': -71.535994}\n",
            "ARRIVE NY 7625.7 {'lat': 42.129766, 'lng': -71.536633}\n",
            "LOAD_START NY 7674.2 {'lat': 42.129766, 'lng': -71.536633}\n",
            "LOAD_END NY 7689.2 {'lat': 42.129766, 'lng': -71.536633}\n",
            "LAUNCH NY 7689.2 {'lat': 42.129766, 'lng': -71.536633}\n",
            "DRONE_DELIVERY_START SE 7798.4 {'lat': 42.124032, 'lng': -71.540927}\n",
            "DRONE_DELIVERY_END SE 7808.4 {'lat': 42.124032, 'lng': -71.540927}\n",
            "LAND YG 7899.6 {'lat': 42.124038, 'lng': -71.544102}\n",
            "DEPART YG 7938.1 {'lat': 42.124038, 'lng': -71.544102}\n",
            "ARRIVE CW 8077.3 {'lat': 42.124369, 'lng': -71.545108}\n",
            "LOAD_START CW 8150.3 {'lat': 42.124369, 'lng': -71.545108}\n",
            "LOAD_END CW 8165.3 {'lat': 42.124369, 'lng': -71.545108}\n",
            "LAUNCH CW 8165.3 {'lat': 42.124369, 'lng': -71.545108}\n",
            "DRONE_DELIVERY_START UE 8198.9 {'lat': 42.125778, 'lng': -71.546615}\n",
            "DRONE_DELIVERY_END UE 8208.9 {'lat': 42.125778, 'lng': -71.546615}\n",
            "LAND FT 8305.4 {'lat': 42.12044, 'lng': -71.542705}\n",
            "DEPART FT 8366.4 {'lat': 42.12044, 'lng': -71.542705}\n",
            "ARRIVE FI 8396.8 {'lat': 42.117772, 'lng': -71.544013}\n",
            "DEPART FI 8461.8 {'lat': 42.117772, 'lng': -71.544013}\n",
            "ARRIVE US 8523.4 {'lat': 42.120766, 'lng': -71.543204}\n",
            "DEPART US 8835.4 {'lat': 42.120766, 'lng': -71.543204}\n",
            "ARRIVE DN 8943.8 {'lat': 42.120975, 'lng': -71.544163}\n",
            "LOAD_START DN 9002.8 {'lat': 42.120975, 'lng': -71.544163}\n",
            "LOAD_END DN 9017.8 {'lat': 42.120975, 'lng': -71.544163}\n",
            "LAUNCH DN 9017.8 {'lat': 42.120975, 'lng': -71.544163}\n",
            "DRONE_DELIVERY_START CX 9093.8 {'lat': 42.11705, 'lng': -71.547049}\n",
            "DRONE_DELIVERY_END CX 9103.8 {'lat': 42.11705, 'lng': -71.547049}\n",
            "LAND TL 9169.1 {'lat': 42.121051, 'lng': -71.545773}\n",
            "DEPART TL 9173.6 {'lat': 42.121051, 'lng': -71.545773}\n",
            "ARRIVE SU 9264.4 {'lat': 42.120341, 'lng': -71.549171}\n",
            "LOAD_START SU 9398.4 {'lat': 42.120341, 'lng': -71.549171}\n",
            "LOAD_END SU 9413.4 {'lat': 42.120341, 'lng': -71.549171}\n",
            "LAUNCH SU 9413.4 {'lat': 42.120341, 'lng': -71.549171}\n",
            "DRONE_DELIVERY_START JL 9448.2 {'lat': 42.120591, 'lng': -71.551675}\n",
            "DRONE_DELIVERY_END JL 9458.2 {'lat': 42.120591, 'lng': -71.551675}\n",
            "LAND UI 9515.7 {'lat': 42.124123, 'lng': -71.550611}\n",
            "DEPART UI 9590.4 {'lat': 42.124123, 'lng': -71.550611}\n",
            "ARRIVE NL 9711.0 {'lat': 42.127365, 'lng': -71.551967}\n",
            "DEPART NL 9778.0 {'lat': 42.127365, 'lng': -71.551967}\n",
            "ARRIVE BZ 9833.5 {'lat': 42.128388, 'lng': -71.55112}\n",
            "DEPART BZ 9914.5 {'lat': 42.128388, 'lng': -71.55112}\n",
            "ARRIVE ZX 9977.7 {'lat': 42.129426, 'lng': -71.553551}\n",
            "DEPART ZX 10048.7 {'lat': 42.129426, 'lng': -71.553551}\n",
            "ARRIVE YR 10091.0 {'lat': 42.130843, 'lng': -71.55611}\n",
            "LOAD_START YR 10142.5 {'lat': 42.130843, 'lng': -71.55611}\n",
            "LOAD_END YR 10157.5 {'lat': 42.130843, 'lng': -71.55611}\n",
            "LAUNCH YR 10157.5 {'lat': 42.130843, 'lng': -71.55611}\n",
            "DRONE_DELIVERY_START DI 10209.0 {'lat': 42.131783, 'lng': -71.552378}\n",
            "DRONE_DELIVERY_END DI 10219.0 {'lat': 42.131783, 'lng': -71.552378}\n",
            "LAND ZV 10280.3 {'lat': 42.129839, 'lng': -71.556861}\n",
            "DEPART ZV 10381.8 {'lat': 42.129839, 'lng': -71.556861}\n",
            "ARRIVE UJ 10530.5 {'lat': 42.135489, 'lng': -71.561803}\n",
            "DEPART UJ 10629.5 {'lat': 42.135489, 'lng': -71.561803}\n",
            "ARRIVE WM 10750.0 {'lat': 42.131202, 'lng': -71.571969}\n",
            "LOAD_START WM 10922.0 {'lat': 42.131202, 'lng': -71.571969}\n",
            "LOAD_END WM 10937.0 {'lat': 42.131202, 'lng': -71.571969}\n",
            "LAUNCH WM 10937.0 {'lat': 42.131202, 'lng': -71.571969}\n",
            "DRONE_DELIVERY_START NG 11014.4 {'lat': 42.126641, 'lng': -71.571935}\n",
            "DRONE_DELIVERY_END NG 11024.4 {'lat': 42.126641, 'lng': -71.571935}\n",
            "LAND ST 11042.1 {'lat': 42.125951, 'lng': -71.572483}\n",
            "DEPART ST 11188.1 {'lat': 42.125951, 'lng': -71.572483}\n",
            "ARRIVE CU 11302.3 {'lat': 42.12566, 'lng': -71.57254}\n",
            "LOAD_START CU 11361.3 {'lat': 42.12566, 'lng': -71.57254}\n",
            "LOAD_END CU 11376.3 {'lat': 42.12566, 'lng': -71.57254}\n",
            "LAUNCH CU 11376.3 {'lat': 42.12566, 'lng': -71.57254}\n",
            "DRONE_DELIVERY_START AP 11462.6 {'lat': 42.128049, 'lng': -71.578627}\n",
            "DRONE_DELIVERY_END AP 11472.6 {'lat': 42.128049, 'lng': -71.578627}\n",
            "LAND KL 11500.9 {'lat': 42.1282, 'lng': -71.578917}\n",
            "DEPART KL 11596.9 {'lat': 42.1282, 'lng': -71.578917}\n",
            "ARRIVE OJ 11727.5 {'lat': 42.125649, 'lng': -71.568811}\n",
            "DEPART OJ 11830.5 {'lat': 42.125649, 'lng': -71.568811}\n",
            "ARRIVE ZG 11957.2 {'lat': 42.116133, 'lng': -71.566586}\n",
            "DEPART ZG 12055.2 {'lat': 42.116133, 'lng': -71.566586}\n",
            "ARRIVE TO 12158.2 {'lat': 42.110929, 'lng': -71.556253}\n",
            "DEPART TO 12251.2 {'lat': 42.110929, 'lng': -71.556253}\n",
            "ARRIVE AD 12258.9 {'lat': 42.110252, 'lng': -71.555689}\n",
            "DEPART AD 12333.9 {'lat': 42.110252, 'lng': -71.555689}\n",
            "ARRIVE GE 12513.9 {'lat': 42.108828, 'lng': -71.562421}\n",
            "DEPART GE 12613.9 {'lat': 42.108828, 'lng': -71.562421}\n",
            "ARRIVE EY 12645.3 {'lat': 42.110475, 'lng': -71.56499}\n",
            "DEPART EY 12724.3 {'lat': 42.110475, 'lng': -71.56499}\n",
            "ARRIVE OM 12876.8 {'lat': 42.102702, 'lng': -71.553805}\n",
            "DEPART OM 12907.8 {'lat': 42.102702, 'lng': -71.553805}\n",
            "ARRIVE SR 12929.2 {'lat': 42.101216, 'lng': -71.555481}\n",
            "LOAD_START SR 13011.2 {'lat': 42.101216, 'lng': -71.555481}\n",
            "LOAD_END SR 13026.2 {'lat': 42.101216, 'lng': -71.555481}\n",
            "LAUNCH SR 13026.2 {'lat': 42.101216, 'lng': -71.555481}\n",
            "DRONE_DELIVERY_START XU 13040.1 {'lat': 42.101589, 'lng': -71.556043}\n",
            "DRONE_DELIVERY_END XU 13050.1 {'lat': 42.101589, 'lng': -71.556043}\n",
            "LAND JU 13055.7 {'lat': 42.101403, 'lng': -71.556447}\n",
            "DEPART JU 13111.4 {'lat': 42.101403, 'lng': -71.556447}\n",
            "ARRIVE NB 13228.5 {'lat': 42.101185, 'lng': -71.551259}\n",
            "LOAD_START NB 13304.5 {'lat': 42.101185, 'lng': -71.551259}\n",
            "LOAD_END NB 13319.5 {'lat': 42.101185, 'lng': -71.551259}\n",
            "LAUNCH NB 13319.5 {'lat': 42.101185, 'lng': -71.551259}\n",
            "DRONE_DELIVERY_START TJ 13328.3 {'lat': 42.100946, 'lng': -71.551314}\n",
            "DRONE_DELIVERY_END TJ 13338.3 {'lat': 42.100946, 'lng': -71.551314}\n",
            "LAND QZ 13451.2 {'lat': 42.105719, 'lng': -71.544234}\n",
            "DEPART QZ 13491.5 {'lat': 42.105719, 'lng': -71.544234}\n",
            "ARRIVE SZ 13643.6 {'lat': 42.106275, 'lng': -71.540355}\n",
            "LOAD_START SZ 13677.1 {'lat': 42.106275, 'lng': -71.540355}\n",
            "LOAD_END SZ 13692.1 {'lat': 42.106275, 'lng': -71.540355}\n",
            "LAUNCH SZ 13692.1 {'lat': 42.106275, 'lng': -71.540355}\n",
            "DRONE_DELIVERY_START TP 13798.7 {'lat': 42.09994, 'lng': -71.541582}\n",
            "DRONE_DELIVERY_END TP 13808.7 {'lat': 42.09994, 'lng': -71.541582}\n",
            "LAND VT 13854.3 {'lat': 42.098301, 'lng': -71.540291}\n",
            "DEPART VT 13955.3 {'lat': 42.098301, 'lng': -71.540291}\n",
            "ARRIVE IC 14052.6 {'lat': 42.091701, 'lng': -71.529757}\n",
            "DEPART IC 14138.6 {'lat': 42.091701, 'lng': -71.529757}\n",
            "ARRIVE QU 14283.8 {'lat': 42.093273, 'lng': -71.522541}\n",
            "LOAD_START QU 14346.8 {'lat': 42.093273, 'lng': -71.522541}\n",
            "LOAD_END QU 14361.8 {'lat': 42.093273, 'lng': -71.522541}\n",
            "LAUNCH QU 14361.8 {'lat': 42.093273, 'lng': -71.522541}\n",
            "DRONE_DELIVERY_START YE 14430.2 {'lat': 42.096478, 'lng': -71.525742}\n",
            "DRONE_DELIVERY_END YE 14440.2 {'lat': 42.096478, 'lng': -71.525742}\n",
            "LAND OC 14481.1 {'lat': 42.097525, 'lng': -71.526315}\n",
            "DEPART OC 14562.1 {'lat': 42.097525, 'lng': -71.526315}\n",
            "ARRIVE ML 14844.6 {'lat': 42.097741, 'lng': -71.528215}\n",
            "LOAD_START ML 14892.6 {'lat': 42.097741, 'lng': -71.528215}\n",
            "LOAD_END ML 14907.6 {'lat': 42.097741, 'lng': -71.528215}\n",
            "LAUNCH ML 14907.6 {'lat': 42.097741, 'lng': -71.528215}\n",
            "DRONE_DELIVERY_START XB 15060.0 {'lat': 42.089222, 'lng': -71.533181}\n",
            "DRONE_DELIVERY_END XB 15070.0 {'lat': 42.089222, 'lng': -71.533181}\n",
            "LAND JD 15170.3 {'lat': 42.089052, 'lng': -71.533044}\n",
            "DEPART JD 15249.0 {'lat': 42.089052, 'lng': -71.533044}\n",
            "ARRIVE ZA 15288.5 {'lat': 42.08848, 'lng': -71.5326}\n",
            "LOAD_START ZA 15460.5 {'lat': 42.08848, 'lng': -71.5326}\n",
            "LOAD_END ZA 15475.5 {'lat': 42.08848, 'lng': -71.5326}\n",
            "LAUNCH ZA 15475.5 {'lat': 42.08848, 'lng': -71.5326}\n",
            "DRONE_DELIVERY_START CA 15507.1 {'lat': 42.087781, 'lng': -71.534642}\n",
            "DRONE_DELIVERY_END CA 15517.1 {'lat': 42.087781, 'lng': -71.534642}\n",
            "LAND IB 15517.7 {'lat': 42.087774, 'lng': -71.534656}\n",
            "DEPART IB 15687.7 {'lat': 42.087774, 'lng': -71.534656}\n",
            "ARRIVE FE 15812.4 {'lat': 42.085539, 'lng': -71.545158}\n",
            "DEPART FE 15885.4 {'lat': 42.085539, 'lng': -71.545158}\n",
            "ARRIVE OD 15923.9 {'lat': 42.083353, 'lng': -71.547355}\n",
            "DEPART OD 15967.4 {'lat': 42.083353, 'lng': -71.547355}\n",
            "ARRIVE PX 16052.9 {'lat': 42.082898, 'lng': -71.54777}\n",
            "LOAD_START PX 16103.9 {'lat': 42.082898, 'lng': -71.54777}\n",
            "LOAD_END PX 16118.9 {'lat': 42.082898, 'lng': -71.54777}\n",
            "LAUNCH PX 16118.9 {'lat': 42.082898, 'lng': -71.54777}\n",
            "DRONE_DELIVERY_START GM 16151.6 {'lat': 42.081163, 'lng': -71.548001}\n",
            "DRONE_DELIVERY_END GM 16161.6 {'lat': 42.081163, 'lng': -71.548001}\n",
            "LAND SG 16214.0 {'lat': 42.08066, 'lng': -71.549721}\n",
            "DEPART SG 16291.0 {'lat': 42.08066, 'lng': -71.549721}\n",
            "ARRIVE IF 16315.8 {'lat': 42.080541, 'lng': -71.551435}\n",
            "DEPART IF 16371.8 {'lat': 42.080541, 'lng': -71.551435}\n",
            "ARRIVE MN 16601.4 {'lat': 42.088684, 'lng': -71.545654}\n",
            "DEPART MN 16654.4 {'lat': 42.088684, 'lng': -71.545654}\n",
            "ARRIVE JZ 16854.6 {'lat': 42.08376, 'lng': -71.551694}\n",
            "DEPART JZ 17029.6 {'lat': 42.08376, 'lng': -71.551694}\n",
            "ARRIVE PU 17124.1 {'lat': 42.084195, 'lng': -71.55201}\n",
            "LOAD_START PU 17195.6 {'lat': 42.084195, 'lng': -71.55201}\n",
            "LOAD_END PU 17210.6 {'lat': 42.084195, 'lng': -71.55201}\n",
            "LAUNCH PU 17210.6 {'lat': 42.084195, 'lng': -71.55201}\n",
            "DRONE_DELIVERY_START KX 17259.6 {'lat': 42.082837, 'lng': -71.555256}\n",
            "DRONE_DELIVERY_END KX 17269.6 {'lat': 42.082837, 'lng': -71.555256}\n",
            "LAND ZO 17313.5 {'lat': 42.080895, 'lng': -71.556956}\n",
            "DEPART ZO 17461.5 {'lat': 42.080895, 'lng': -71.556956}\n",
            "ARRIVE FL 17514.8 {'lat': 42.08229, 'lng': -71.559}\n",
            "DEPART FL 17635.8 {'lat': 42.08229, 'lng': -71.559}\n",
            "ARRIVE ND 17770.6 {'lat': 42.088175, 'lng': -71.554347}\n",
            "DEPART ND 17912.6 {'lat': 42.088175, 'lng': -71.554347}\n",
            "ARRIVE NW 17931.4 {'lat': 42.089674, 'lng': -71.55466}\n",
            "DEPART NW 18033.4 {'lat': 42.089674, 'lng': -71.55466}\n",
            "ARRIVE QO 18109.7 {'lat': 42.086827, 'lng': -71.55235}\n",
            "DEPART QO 18191.7 {'lat': 42.086827, 'lng': -71.55235}\n",
            "ARRIVE OE 18253.7 {'lat': 42.07244, 'lng': -71.553688}\n",
            "LOAD_START OE 18332.7 {'lat': 42.07244, 'lng': -71.553688}\n",
            "LOAD_END OE 18347.7 {'lat': 42.07244, 'lng': -71.553688}\n",
            "LAUNCH OE 18347.7 {'lat': 42.07244, 'lng': -71.553688}\n",
            "DRONE_DELIVERY_START NH 18367.4 {'lat': 42.071516, 'lng': -71.55374}\n",
            "DRONE_DELIVERY_END NH 18377.4 {'lat': 42.071516, 'lng': -71.55374}\n",
            "LAND SM 18427.7 {'lat': 42.07397, 'lng': -71.551047}\n",
            "DEPART SM 18473.8 {'lat': 42.07397, 'lng': -71.551047}\n",
            "ARRIVE PM 18784.2 {'lat': 42.08234, 'lng': -71.569138}\n",
            "DEPART PM 18867.2 {'lat': 42.08234, 'lng': -71.569138}\n",
            "ARRIVE AL 18934.9 {'lat': 42.084637, 'lng': -71.565057}\n",
            "DEPART AL 19074.9 {'lat': 42.084637, 'lng': -71.565057}\n",
            "ARRIVE LI 19091.1 {'lat': 42.086276, 'lng': -71.564665}\n",
            "DEPART LI 19257.1 {'lat': 42.086276, 'lng': -71.564665}\n",
            "ARRIVE PH 19318.6 {'lat': 42.091579, 'lng': -71.562969}\n",
            "DEPART PH 19388.6 {'lat': 42.091579, 'lng': -71.562969}\n",
            "ARRIVE LZ 19502.0 {'lat': 42.071217, 'lng': -71.569623}\n",
            "LOAD_START LZ 19561.0 {'lat': 42.071217, 'lng': -71.569623}\n",
            "LOAD_END LZ 19576.0 {'lat': 42.071217, 'lng': -71.569623}\n",
            "LAUNCH LZ 19576.0 {'lat': 42.071217, 'lng': -71.569623}\n",
            "DRONE_DELIVERY_START RK 19623.4 {'lat': 42.068769, 'lng': -71.568176}\n",
            "DRONE_DELIVERY_END RK 19633.4 {'lat': 42.068769, 'lng': -71.568176}\n",
            "LAND IK 19715.2 {'lat': 42.065299, 'lng': -71.56307}\n",
            "DEPART IK 19752.9 {'lat': 42.065299, 'lng': -71.56307}\n",
            "ARRIVE MM 19797.8 {'lat': 42.066053, 'lng': -71.560007}\n",
            "DEPART MM 19878.3 {'lat': 42.066053, 'lng': -71.560007}\n",
            "ARRIVE ID 20049.9 {'lat': 42.066606, 'lng': -71.560328}\n",
            "LOAD_START ID 20154.9 {'lat': 42.066606, 'lng': -71.560328}\n",
            "LOAD_END ID 20169.9 {'lat': 42.066606, 'lng': -71.560328}\n",
            "LAUNCH ID 20169.9 {'lat': 42.066606, 'lng': -71.560328}\n",
            "DRONE_DELIVERY_START OV 20189.7 {'lat': 42.067098, 'lng': -71.561395}\n",
            "DRONE_DELIVERY_END OV 20199.7 {'lat': 42.067098, 'lng': -71.561395}\n",
            "LAND XK 20372.3 {'lat': 42.069052, 'lng': -71.570989}\n",
            "DEPART XK 20452.3 {'lat': 42.069052, 'lng': -71.570989}\n",
            "ARRIVE EI 20839.5 {'lat': 42.098311, 'lng': -71.565798}\n",
            "DEPART EI 21035.5 {'lat': 42.098311, 'lng': -71.565798}\n",
            "ARRIVE PO 21329.2 {'lat': 42.100858, 'lng': -71.569223}\n",
            "LOAD_START PO 21458.7 {'lat': 42.100858, 'lng': -71.569223}\n",
            "LOAD_END PO 21473.7 {'lat': 42.100858, 'lng': -71.569223}\n",
            "LAUNCH PO 21473.7 {'lat': 42.100858, 'lng': -71.569223}\n",
            "DRONE_DELIVERY_START AY 21574.4 {'lat': 42.09491, 'lng': -71.567879}\n",
            "DRONE_DELIVERY_END AY 21584.4 {'lat': 42.09491, 'lng': -71.567879}\n",
            "LAND PV 21735.6 {'lat': 42.094155, 'lng': -71.567809}\n",
            "DEPART PV 21793.1 {'lat': 42.094155, 'lng': -71.567809}\n",
            "ARRIVE ET 21883.6 {'lat': 42.09345, 'lng': -71.570252}\n",
            "DEPART ET 21960.6 {'lat': 42.09345, 'lng': -71.570252}\n",
            "ARRIVE SD 22612.6 {'lat': 42.0928, 'lng': -71.57135}\n",
            "LOAD_START SD 22783.6 {'lat': 42.0928, 'lng': -71.57135}\n",
            "LOAD_END SD 22798.6 {'lat': 42.0928, 'lng': -71.57135}\n",
            "LAUNCH SD 22798.6 {'lat': 42.0928, 'lng': -71.57135}\n",
            "DRONE_DELIVERY_START NT 23204.0 {'lat': 42.117964, 'lng': -71.573898}\n",
            "DRONE_DELIVERY_END NT 23214.0 {'lat': 42.117964, 'lng': -71.573898}\n",
            "LAND UV 23526.1 {'lat': 42.11913, 'lng': -71.574056}\n",
            "DEPART UV 23683.1 {'lat': 42.11913, 'lng': -71.574056}\n",
            "ARRIVE JN 23730.4 {'lat': 42.122523, 'lng': -71.574733}\n",
            "DEPART JN 23799.4 {'lat': 42.122523, 'lng': -71.574733}\n",
            "ARRIVE HV 23808.7 {'lat': 42.122976, 'lng': -71.574975}\n",
            "DEPART HV 23849.7 {'lat': 42.122976, 'lng': -71.574975}\n",
            "ARRIVE IO 23945.4 {'lat': 42.120684, 'lng': -71.578937}\n",
            "DEPART IO 24003.4 {'lat': 42.120684, 'lng': -71.578937}\n",
            "ARRIVE WC 24059.0 {'lat': 42.120485, 'lng': -71.577536}\n",
            "LOAD_START WC 24128.0 {'lat': 42.120485, 'lng': -71.577536}\n",
            "LOAD_END WC 24143.0 {'lat': 42.120485, 'lng': -71.577536}\n",
            "LAUNCH WC 24143.0 {'lat': 42.120485, 'lng': -71.577536}\n",
            "DRONE_DELIVERY_START GG 24174.5 {'lat': 42.119914, 'lng': -71.575428}\n",
            "DRONE_DELIVERY_END GG 24184.5 {'lat': 42.119914, 'lng': -71.575428}\n",
            "LAND YW 24228.2 {'lat': 42.117205, 'lng': -71.574765}\n",
            "DEPART YW 24275.4 {'lat': 42.117205, 'lng': -71.574765}\n",
            "ARRIVE VA 24394.5 {'lat': 42.117445, 'lng': -71.579092}\n",
            "DEPART VA 24454.5 {'lat': 42.117445, 'lng': -71.579092}\n",
            "ARRIVE KZ 24591.3 {'lat': 42.115553, 'lng': -71.587857}\n",
            "DEPART KZ 24665.3 {'lat': 42.115553, 'lng': -71.587857}\n",
            "ARRIVE UP 24774.1 {'lat': 42.112118, 'lng': -71.597602}\n",
            "DEPART UP 24880.1 {'lat': 42.112118, 'lng': -71.597602}\n",
            "ARRIVE AZ 25656.9 {'lat': 42.131043, 'lng': -71.547647}\n",
            "DEPART AZ 25725.4 {'lat': 42.131043, 'lng': -71.547647}\n",
            "ARRIVE OU 25747.6 {'lat': 42.13004, 'lng': -71.547106}\n",
            "DEPART OU 25823.6 {'lat': 42.13004, 'lng': -71.547106}\n",
            "ARRIVE II 25870.2 {'lat': 42.130505, 'lng': -71.546481}\n",
            "DEPART II 25916.2 {'lat': 42.130505, 'lng': -71.546481}\n",
            "ARRIVE ZL 26262.6 {'lat': 42.13111, 'lng': -71.546931}\n",
            "LOAD_START ZL 26434.6 {'lat': 42.13111, 'lng': -71.546931}\n",
            "LOAD_END ZL 26449.6 {'lat': 42.13111, 'lng': -71.546931}\n",
            "LAUNCH ZL 26449.6 {'lat': 42.13111, 'lng': -71.546931}\n",
            "DRONE_DELIVERY_START CE 26497.3 {'lat': 42.133742, 'lng': -71.546182}\n",
            "DRONE_DELIVERY_END CE 26507.3 {'lat': 42.133742, 'lng': -71.546182}\n",
            "LAND MZ 26704.4 {'lat': 42.140655, 'lng': -71.536264}\n",
            "DEPART MZ 26809.4 {'lat': 42.140655, 'lng': -71.536264}\n",
            "ARRIVE EE 26878.8 {'lat': 42.149406, 'lng': -71.541475}\n",
            "LOAD_START EE 26956.8 {'lat': 42.149406, 'lng': -71.541475}\n",
            "LOAD_END EE 26971.8 {'lat': 42.149406, 'lng': -71.541475}\n",
            "LAUNCH EE 26971.8 {'lat': 42.149406, 'lng': -71.541475}\n",
            "DRONE_DELIVERY_START MD 27008.5 {'lat': 42.150955, 'lng': -71.543177}\n",
            "DRONE_DELIVERY_END MD 27018.5 {'lat': 42.150955, 'lng': -71.543177}\n",
            "LAND AR 27030.6 {'lat': 42.150434, 'lng': -71.543739}\n",
            "DEPART AR 27075.6 {'lat': 42.150434, 'lng': -71.543739}\n",
            "ARRIVE SN 27135.5 {'lat': 42.152468, 'lng': -71.545145}\n",
            "DEPART SN 27198.5 {'lat': 42.152468, 'lng': -71.545145}\n",
            "ARRIVE VB 27388.1 {'lat': 42.153178, 'lng': -71.544067}\n",
            "LOAD_START VB 27467.1 {'lat': 42.153178, 'lng': -71.544067}\n",
            "LOAD_END VB 27482.1 {'lat': 42.153178, 'lng': -71.544067}\n",
            "LAUNCH VB 27482.1 {'lat': 42.153178, 'lng': -71.544067}\n",
            "DRONE_DELIVERY_START VJ 27560.3 {'lat': 42.148646, 'lng': -71.542931}\n",
            "DRONE_DELIVERY_END VJ 27570.3 {'lat': 42.148646, 'lng': -71.542931}\n",
            "LAND YA 27685.7 {'lat': 42.148227, 'lng': -71.542674}\n",
            "DEPART YA 27786.7 {'lat': 42.148227, 'lng': -71.542674}\n",
            "ARRIVE KS 27893.5 {'lat': 42.147267, 'lng': -71.540911}\n",
            "DEPART KS 27940.5 {'lat': 42.147267, 'lng': -71.540911}\n",
            "ARRIVE PE 27998.1 {'lat': 42.145646, 'lng': -71.539764}\n",
            "DEPART PE 28019.1 {'lat': 42.145646, 'lng': -71.539764}\n",
            "ARRIVE GR 28415.1 {'lat': 42.148971, 'lng': -71.544248}\n",
            "DEPART GR 28513.1 {'lat': 42.148971, 'lng': -71.544248}\n",
            "ARRIVE BU 29628.8 {'lat': 42.139891, 'lng': -71.494346}\n"
          ]
        }
      ],
      "source": [
        "test.print_drone_events()"
      ]
    },
    {
      "cell_type": "code",
      "execution_count": 69,
      "metadata": {
        "colab": {
          "base_uri": "https://localhost:8080/",
          "height": 206
        },
        "id": "v9W53kD3wd6U",
        "outputId": "4729e20b-5199-4095-cb00-57769b1586c9"
      },
      "outputs": [
        {
          "data": {
            "text/html": [
              "<div>\n",
              "<style scoped>\n",
              "    .dataframe tbody tr th:only-of-type {\n",
              "        vertical-align: middle;\n",
              "    }\n",
              "\n",
              "    .dataframe tbody tr th {\n",
              "        vertical-align: top;\n",
              "    }\n",
              "\n",
              "    .dataframe thead th {\n",
              "        text-align: right;\n",
              "    }\n",
              "</style>\n",
              "<table border=\"1\" class=\"dataframe\">\n",
              "  <thead>\n",
              "    <tr style=\"text-align: right;\">\n",
              "      <th></th>\n",
              "      <th>route_id</th>\n",
              "      <th>station_code</th>\n",
              "      <th>date</th>\n",
              "      <th>departure_time_utc</th>\n",
              "      <th>executor_capacity_cm3</th>\n",
              "      <th>route_score</th>\n",
              "      <th>stop_id</th>\n",
              "      <th>lat</th>\n",
              "      <th>lng</th>\n",
              "      <th>type</th>\n",
              "      <th>zone_id</th>\n",
              "      <th>packages</th>\n",
              "      <th>num_packages</th>\n",
              "      <th>drone_possible</th>\n",
              "      <th>service_time_seconds</th>\n",
              "    </tr>\n",
              "  </thead>\n",
              "  <tbody>\n",
              "    <tr>\n",
              "      <th>0</th>\n",
              "      <td>RouteID_f9639176-8909-4c65-80a9-5562b0241ad4</td>\n",
              "      <td>DBO3</td>\n",
              "      <td>2018-08-13</td>\n",
              "      <td>13:02:17</td>\n",
              "      <td>3313071.0</td>\n",
              "      <td>Medium</td>\n",
              "      <td>BU</td>\n",
              "      <td>42.139891</td>\n",
              "      <td>-71.494346</td>\n",
              "      <td>Station</td>\n",
              "      <td>NaN</td>\n",
              "      <td>NaN</td>\n",
              "      <td>NaN</td>\n",
              "      <td>NaN</td>\n",
              "      <td>NaN</td>\n",
              "    </tr>\n",
              "    <tr>\n",
              "      <th>1</th>\n",
              "      <td>RouteID_f9639176-8909-4c65-80a9-5562b0241ad4</td>\n",
              "      <td>DBO3</td>\n",
              "      <td>2018-08-13</td>\n",
              "      <td>13:02:17</td>\n",
              "      <td>3313071.0</td>\n",
              "      <td>Medium</td>\n",
              "      <td>VU</td>\n",
              "      <td>42.139089</td>\n",
              "      <td>-71.524434</td>\n",
              "      <td>Dropoff</td>\n",
              "      <td>E-1.1H</td>\n",
              "      <td>[{'package_id': 'PackageID_f42fbe13-089e-4e92-...</td>\n",
              "      <td>1.0</td>\n",
              "      <td>True</td>\n",
              "      <td>111.0</td>\n",
              "    </tr>\n",
              "    <tr>\n",
              "      <th>2</th>\n",
              "      <td>RouteID_f9639176-8909-4c65-80a9-5562b0241ad4</td>\n",
              "      <td>DBO3</td>\n",
              "      <td>2018-08-13</td>\n",
              "      <td>13:02:17</td>\n",
              "      <td>3313071.0</td>\n",
              "      <td>Medium</td>\n",
              "      <td>ZP</td>\n",
              "      <td>42.138518</td>\n",
              "      <td>-71.525506</td>\n",
              "      <td>Dropoff</td>\n",
              "      <td>E-1.1H</td>\n",
              "      <td>[{'package_id': 'PackageID_8fc292ae-f756-4541-...</td>\n",
              "      <td>2.0</td>\n",
              "      <td>False</td>\n",
              "      <td>90.5</td>\n",
              "    </tr>\n",
              "    <tr>\n",
              "      <th>3</th>\n",
              "      <td>RouteID_f9639176-8909-4c65-80a9-5562b0241ad4</td>\n",
              "      <td>DBO3</td>\n",
              "      <td>2018-08-13</td>\n",
              "      <td>13:02:17</td>\n",
              "      <td>3313071.0</td>\n",
              "      <td>Medium</td>\n",
              "      <td>KH</td>\n",
              "      <td>42.138304</td>\n",
              "      <td>-71.525361</td>\n",
              "      <td>Dropoff</td>\n",
              "      <td>E-1.1H</td>\n",
              "      <td>[{'package_id': 'PackageID_f420fbef-0cfe-4267-...</td>\n",
              "      <td>1.0</td>\n",
              "      <td>False</td>\n",
              "      <td>71.0</td>\n",
              "    </tr>\n",
              "    <tr>\n",
              "      <th>4</th>\n",
              "      <td>RouteID_f9639176-8909-4c65-80a9-5562b0241ad4</td>\n",
              "      <td>DBO3</td>\n",
              "      <td>2018-08-13</td>\n",
              "      <td>13:02:17</td>\n",
              "      <td>3313071.0</td>\n",
              "      <td>Medium</td>\n",
              "      <td>WW</td>\n",
              "      <td>42.138168</td>\n",
              "      <td>-71.529156</td>\n",
              "      <td>Dropoff</td>\n",
              "      <td>E-1.1H</td>\n",
              "      <td>[{'package_id': 'PackageID_e85fe820-0055-4f84-...</td>\n",
              "      <td>2.0</td>\n",
              "      <td>False</td>\n",
              "      <td>73.0</td>\n",
              "    </tr>\n",
              "  </tbody>\n",
              "</table>\n",
              "</div>"
            ],
            "text/plain": [
              "                                       route_id station_code        date  \\\n",
              "0  RouteID_f9639176-8909-4c65-80a9-5562b0241ad4         DBO3  2018-08-13   \n",
              "1  RouteID_f9639176-8909-4c65-80a9-5562b0241ad4         DBO3  2018-08-13   \n",
              "2  RouteID_f9639176-8909-4c65-80a9-5562b0241ad4         DBO3  2018-08-13   \n",
              "3  RouteID_f9639176-8909-4c65-80a9-5562b0241ad4         DBO3  2018-08-13   \n",
              "4  RouteID_f9639176-8909-4c65-80a9-5562b0241ad4         DBO3  2018-08-13   \n",
              "\n",
              "  departure_time_utc  executor_capacity_cm3 route_score stop_id        lat  \\\n",
              "0           13:02:17              3313071.0      Medium      BU  42.139891   \n",
              "1           13:02:17              3313071.0      Medium      VU  42.139089   \n",
              "2           13:02:17              3313071.0      Medium      ZP  42.138518   \n",
              "3           13:02:17              3313071.0      Medium      KH  42.138304   \n",
              "4           13:02:17              3313071.0      Medium      WW  42.138168   \n",
              "\n",
              "         lng     type zone_id  \\\n",
              "0 -71.494346  Station     NaN   \n",
              "1 -71.524434  Dropoff  E-1.1H   \n",
              "2 -71.525506  Dropoff  E-1.1H   \n",
              "3 -71.525361  Dropoff  E-1.1H   \n",
              "4 -71.529156  Dropoff  E-1.1H   \n",
              "\n",
              "                                            packages  num_packages  \\\n",
              "0                                                NaN           NaN   \n",
              "1  [{'package_id': 'PackageID_f42fbe13-089e-4e92-...           1.0   \n",
              "2  [{'package_id': 'PackageID_8fc292ae-f756-4541-...           2.0   \n",
              "3  [{'package_id': 'PackageID_f420fbef-0cfe-4267-...           1.0   \n",
              "4  [{'package_id': 'PackageID_e85fe820-0055-4f84-...           2.0   \n",
              "\n",
              "  drone_possible  service_time_seconds  \n",
              "0            NaN                   NaN  \n",
              "1           True                 111.0  \n",
              "2          False                  90.5  \n",
              "3          False                  71.0  \n",
              "4          False                  73.0  "
            ]
          },
          "execution_count": 69,
          "metadata": {},
          "output_type": "execute_result"
        }
      ],
      "source": [
        "route_data_ordered = pd.concat([route_data_route_df[route_data_route_df['stop_id'] == stop_id] for stop_id in test.vehicle_path]).reset_index(drop=True)\n",
        "route_data_ordered.head()"
      ]
    },
    {
      "cell_type": "code",
      "execution_count": 70,
      "metadata": {
        "colab": {
          "base_uri": "https://localhost:8080/",
          "height": 617
        },
        "id": "P9h0WXLK0IKR",
        "outputId": "cd542fb6-a393-44c4-99b3-c72a299aad78"
      },
      "outputs": [
        {
          "data": {
            "application/vnd.plotly.v1+json": {
              "config": {
                "plotlyServerURL": "https://plot.ly"
              },
              "data": [
                {
                  "hoverinfo": "none",
                  "lat": [
                    42.139891,
                    42.139089,
                    42.138518,
                    42.138304,
                    42.138168,
                    42.138013,
                    42.139661,
                    42.141271,
                    42.142625,
                    42.140573,
                    42.143604,
                    42.141526,
                    42.143284,
                    42.13807,
                    42.136668,
                    42.136174,
                    42.139035,
                    42.138027,
                    42.138476,
                    42.137425,
                    42.138349,
                    42.139095,
                    42.140455,
                    42.141612,
                    42.140229,
                    42.139733,
                    42.139294,
                    42.137706,
                    42.136912,
                    42.136227,
                    42.136319,
                    42.133937,
                    42.132317,
                    42.131921,
                    42.131869,
                    42.131486,
                    42.131001,
                    42.129566,
                    42.128268,
                    42.125992,
                    42.125514,
                    42.129766,
                    42.124038,
                    42.124369,
                    42.12044,
                    42.117772,
                    42.120766,
                    42.120975,
                    42.121051,
                    42.120341,
                    42.124123,
                    42.127365,
                    42.128388,
                    42.129426,
                    42.130843,
                    42.129839,
                    42.135489,
                    42.131202,
                    42.125951,
                    42.12566,
                    42.1282,
                    42.125649,
                    42.116133,
                    42.110929,
                    42.110252,
                    42.108828,
                    42.110475,
                    42.102702,
                    42.101216,
                    42.101403,
                    42.101185,
                    42.105719,
                    42.106275,
                    42.098301,
                    42.091701,
                    42.093273,
                    42.097525,
                    42.097741,
                    42.089052,
                    42.08848,
                    42.087774,
                    42.085539,
                    42.083353,
                    42.082898,
                    42.08066,
                    42.080541,
                    42.088684,
                    42.08376,
                    42.084195,
                    42.080895,
                    42.08229,
                    42.088175,
                    42.089674,
                    42.086827,
                    42.07244,
                    42.07397,
                    42.08234,
                    42.084637,
                    42.086276,
                    42.091579,
                    42.071217,
                    42.065299,
                    42.066053,
                    42.066606,
                    42.069052,
                    42.098311,
                    42.100858,
                    42.094155,
                    42.09345,
                    42.0928,
                    42.11913,
                    42.122523,
                    42.122976,
                    42.120684,
                    42.120485,
                    42.117205,
                    42.117445,
                    42.115553,
                    42.112118,
                    42.131043,
                    42.13004,
                    42.130505,
                    42.13111,
                    42.140655,
                    42.149406,
                    42.150434,
                    42.152468,
                    42.153178,
                    42.148227,
                    42.147267,
                    42.145646,
                    42.148971,
                    42.139891
                  ],
                  "line": {
                    "color": "blue",
                    "width": 2
                  },
                  "lon": [
                    -71.494346,
                    -71.524434,
                    -71.525506,
                    -71.525361,
                    -71.529156,
                    -71.530182,
                    -71.529452,
                    -71.528049,
                    -71.529995,
                    -71.531935,
                    -71.534119,
                    -71.534137,
                    -71.531322,
                    -71.533233,
                    -71.53178,
                    -71.531294,
                    -71.536231,
                    -71.539181,
                    -71.540799,
                    -71.54024,
                    -71.54241,
                    -71.542843,
                    -71.543684,
                    -71.545708,
                    -71.546878,
                    -71.547296,
                    -71.546923,
                    -71.545586,
                    -71.544912,
                    -71.544317,
                    -71.542944,
                    -71.542708,
                    -71.539959,
                    -71.540795,
                    -71.539325,
                    -71.539641,
                    -71.538114,
                    -71.540988,
                    -71.53879,
                    -71.536422,
                    -71.535994,
                    -71.536633,
                    -71.544102,
                    -71.545108,
                    -71.542705,
                    -71.544013,
                    -71.543204,
                    -71.544163,
                    -71.545773,
                    -71.549171,
                    -71.550611,
                    -71.551967,
                    -71.55112,
                    -71.553551,
                    -71.55611,
                    -71.556861,
                    -71.561803,
                    -71.571969,
                    -71.572483,
                    -71.57254,
                    -71.578917,
                    -71.568811,
                    -71.566586,
                    -71.556253,
                    -71.555689,
                    -71.562421,
                    -71.56499,
                    -71.553805,
                    -71.555481,
                    -71.556447,
                    -71.551259,
                    -71.544234,
                    -71.540355,
                    -71.540291,
                    -71.529757,
                    -71.522541,
                    -71.526315,
                    -71.528215,
                    -71.533044,
                    -71.5326,
                    -71.534656,
                    -71.545158,
                    -71.547355,
                    -71.54777,
                    -71.549721,
                    -71.551435,
                    -71.545654,
                    -71.551694,
                    -71.55201,
                    -71.556956,
                    -71.559,
                    -71.554347,
                    -71.55466,
                    -71.55235,
                    -71.553688,
                    -71.551047,
                    -71.569138,
                    -71.565057,
                    -71.564665,
                    -71.562969,
                    -71.569623,
                    -71.56307,
                    -71.560007,
                    -71.560328,
                    -71.570989,
                    -71.565798,
                    -71.569223,
                    -71.567809,
                    -71.570252,
                    -71.57135,
                    -71.574056,
                    -71.574733,
                    -71.574975,
                    -71.578937,
                    -71.577536,
                    -71.574765,
                    -71.579092,
                    -71.587857,
                    -71.597602,
                    -71.547647,
                    -71.547106,
                    -71.546481,
                    -71.546931,
                    -71.536264,
                    -71.541475,
                    -71.543739,
                    -71.545145,
                    -71.544067,
                    -71.542674,
                    -71.540911,
                    -71.539764,
                    -71.544248,
                    -71.494346
                  ],
                  "mode": "lines",
                  "type": "scattermapbox"
                },
                {
                  "hoverinfo": "text",
                  "lat": [],
                  "lon": [],
                  "marker": {
                    "size": 15
                  },
                  "mode": "markers",
                  "name": "nan",
                  "text": [],
                  "type": "scattermapbox"
                },
                {
                  "hoverinfo": "text",
                  "lat": [
                    42.139089,
                    42.138518,
                    42.138304,
                    42.138168,
                    42.138013,
                    42.139661,
                    42.141271,
                    42.142625
                  ],
                  "lon": [
                    -71.524434,
                    -71.525506,
                    -71.525361,
                    -71.529156,
                    -71.530182,
                    -71.529452,
                    -71.528049,
                    -71.529995
                  ],
                  "marker": {
                    "size": 15
                  },
                  "mode": "markers",
                  "name": "E-1.1H",
                  "text": [
                    "Sequence: 1<br> Stop ID: VU<br>Zone ID: E-1.1H<br>Num Packages: 1.0 <br> Service Time: 111.0",
                    "Sequence: 2<br> Stop ID: ZP<br>Zone ID: E-1.1H<br>Num Packages: 2.0 <br> Service Time: 90.5",
                    "Sequence: 3<br> Stop ID: KH<br>Zone ID: E-1.1H<br>Num Packages: 1.0 <br> Service Time: 71.0",
                    "Sequence: 4<br> Stop ID: WW<br>Zone ID: E-1.1H<br>Num Packages: 2.0 <br> Service Time: 73.0",
                    "Sequence: 5<br> Stop ID: QC<br>Zone ID: E-1.1H<br>Num Packages: 2.0 <br> Service Time: 146.0",
                    "Sequence: 6<br> Stop ID: FS<br>Zone ID: E-1.1H<br>Num Packages: 2.0 <br> Service Time: 108.0",
                    "Sequence: 7<br> Stop ID: BJ<br>Zone ID: E-1.1H<br>Num Packages: 1.0 <br> Service Time: 62.0",
                    "Sequence: 8<br> Stop ID: FV<br>Zone ID: E-1.1H<br>Num Packages: 1.0 <br> Service Time: 78.0"
                  ],
                  "type": "scattermapbox"
                },
                {
                  "hoverinfo": "text",
                  "lat": [
                    42.140573,
                    42.143604,
                    42.141526,
                    42.143284,
                    42.13807
                  ],
                  "lon": [
                    -71.531935,
                    -71.534119,
                    -71.534137,
                    -71.531322,
                    -71.533233
                  ],
                  "marker": {
                    "size": 15
                  },
                  "mode": "markers",
                  "name": "E-1.1G",
                  "text": [
                    "Sequence: 9<br> Stop ID: XO<br>Zone ID: E-1.1G<br>Num Packages: 1.0 <br> Service Time: 32.0",
                    "Sequence: 10<br> Stop ID: CF<br>Zone ID: E-1.1G<br>Num Packages: 1.0 <br> Service Time: 250.0",
                    "Sequence: 11<br> Stop ID: YV<br>Zone ID: E-1.1G<br>Num Packages: 1.0 <br> Service Time: 50.0",
                    "Sequence: 12<br> Stop ID: CY<br>Zone ID: E-1.1G<br>Num Packages: 1.0 <br> Service Time: 87.0",
                    "Sequence: 13<br> Stop ID: JQ<br>Zone ID: E-1.1G<br>Num Packages: 1.0 <br> Service Time: 370.0"
                  ],
                  "type": "scattermapbox"
                },
                {
                  "hoverinfo": "text",
                  "lat": [
                    42.136668,
                    42.136174,
                    42.139035,
                    42.138027,
                    42.138476,
                    42.137425,
                    42.138349,
                    42.139095,
                    42.140455,
                    42.141612
                  ],
                  "lon": [
                    -71.53178,
                    -71.531294,
                    -71.536231,
                    -71.539181,
                    -71.540799,
                    -71.54024,
                    -71.54241,
                    -71.542843,
                    -71.543684,
                    -71.545708
                  ],
                  "marker": {
                    "size": 15
                  },
                  "mode": "markers",
                  "name": "E-1.2H",
                  "text": [
                    "Sequence: 14<br> Stop ID: DZ<br>Zone ID: E-1.2H<br>Num Packages: 1.0 <br> Service Time: 102.0",
                    "Sequence: 15<br> Stop ID: CN<br>Zone ID: E-1.2H<br>Num Packages: 2.0 <br> Service Time: 64.0",
                    "Sequence: 16<br> Stop ID: VM<br>Zone ID: E-1.2H<br>Num Packages: 1.0 <br> Service Time: 221.0",
                    "Sequence: 17<br> Stop ID: XG<br>Zone ID: E-1.2H<br>Num Packages: 3.0 <br> Service Time: 60.0",
                    "Sequence: 18<br> Stop ID: DX<br>Zone ID: E-1.2H<br>Num Packages: 1.0 <br> Service Time: 83.0",
                    "Sequence: 19<br> Stop ID: BE<br>Zone ID: E-1.2H<br>Num Packages: 2.0 <br> Service Time: 72.5",
                    "Sequence: 20<br> Stop ID: AG<br>Zone ID: E-1.2H<br>Num Packages: 2.0 <br> Service Time: 62.5",
                    "Sequence: 21<br> Stop ID: KY<br>Zone ID: E-1.2H<br>Num Packages: 1.0 <br> Service Time: 98.0",
                    "Sequence: 22<br> Stop ID: KR<br>Zone ID: E-1.2H<br>Num Packages: 1.0 <br> Service Time: 52.0",
                    "Sequence: 23<br> Stop ID: BX<br>Zone ID: E-1.2H<br>Num Packages: 1.0 <br> Service Time: 65.0"
                  ],
                  "type": "scattermapbox"
                },
                {
                  "hoverinfo": "text",
                  "lat": [
                    42.140229,
                    42.139733,
                    42.139294,
                    42.137706,
                    42.136912,
                    42.136227,
                    42.136319
                  ],
                  "lon": [
                    -71.546878,
                    -71.547296,
                    -71.546923,
                    -71.545586,
                    -71.544912,
                    -71.544317,
                    -71.542944
                  ],
                  "marker": {
                    "size": 15
                  },
                  "mode": "markers",
                  "name": "E-1.3H",
                  "text": [
                    "Sequence: 24<br> Stop ID: IE<br>Zone ID: E-1.3H<br>Num Packages: 2.0 <br> Service Time: 99.0",
                    "Sequence: 25<br> Stop ID: YH<br>Zone ID: E-1.3H<br>Num Packages: 1.0 <br> Service Time: 111.0",
                    "Sequence: 26<br> Stop ID: BP<br>Zone ID: E-1.3H<br>Num Packages: 1.0 <br> Service Time: 80.0",
                    "Sequence: 27<br> Stop ID: LL<br>Zone ID: E-1.3H<br>Num Packages: 1.0 <br> Service Time: 58.0",
                    "Sequence: 28<br> Stop ID: TR<br>Zone ID: E-1.3H<br>Num Packages: 1.0 <br> Service Time: 135.0",
                    "Sequence: 29<br> Stop ID: PB<br>Zone ID: E-1.3H<br>Num Packages: 1.0 <br> Service Time: 84.0",
                    "Sequence: 30<br> Stop ID: XQ<br>Zone ID: E-1.3H<br>Num Packages: 1.0 <br> Service Time: 107.0"
                  ],
                  "type": "scattermapbox"
                },
                {
                  "hoverinfo": "text",
                  "lat": [
                    42.133937,
                    42.131043,
                    42.13004,
                    42.130505,
                    42.13111
                  ],
                  "lon": [
                    -71.542708,
                    -71.547647,
                    -71.547106,
                    -71.546481,
                    -71.546931
                  ],
                  "marker": {
                    "size": 15
                  },
                  "mode": "markers",
                  "name": "E-1.3J",
                  "text": [
                    "Sequence: 31<br> Stop ID: UW<br>Zone ID: E-1.3J<br>Num Packages: 1.0 <br> Service Time: 78.0",
                    "Sequence: 119<br> Stop ID: AZ<br>Zone ID: E-1.3J<br>Num Packages: 2.0 <br> Service Time: 68.5",
                    "Sequence: 120<br> Stop ID: OU<br>Zone ID: E-1.3J<br>Num Packages: 1.0 <br> Service Time: 76.0",
                    "Sequence: 121<br> Stop ID: II<br>Zone ID: E-1.3J<br>Num Packages: 1.0 <br> Service Time: 46.0",
                    "Sequence: 122<br> Stop ID: ZL<br>Zone ID: E-1.3J<br>Num Packages: 1.0 <br> Service Time: 172.0"
                  ],
                  "type": "scattermapbox"
                },
                {
                  "hoverinfo": "text",
                  "lat": [
                    42.132317,
                    42.131921,
                    42.131869,
                    42.131486,
                    42.131001,
                    42.129566,
                    42.128268,
                    42.125992,
                    42.125514,
                    42.129766
                  ],
                  "lon": [
                    -71.539959,
                    -71.540795,
                    -71.539325,
                    -71.539641,
                    -71.538114,
                    -71.540988,
                    -71.53879,
                    -71.536422,
                    -71.535994,
                    -71.536633
                  ],
                  "marker": {
                    "size": 15
                  },
                  "mode": "markers",
                  "name": "E-1.2J",
                  "text": [
                    "Sequence: 32<br> Stop ID: PQ<br>Zone ID: E-1.2J<br>Num Packages: 1.0 <br> Service Time: 82.0",
                    "Sequence: 33<br> Stop ID: HO<br>Zone ID: E-1.2J<br>Num Packages: 1.0 <br> Service Time: 314.0",
                    "Sequence: 34<br> Stop ID: FQ<br>Zone ID: E-1.2J<br>Num Packages: 1.0 <br> Service Time: 71.0",
                    "Sequence: 35<br> Stop ID: WR<br>Zone ID: E-1.2J<br>Num Packages: 1.0 <br> Service Time: 49.0",
                    "Sequence: 36<br> Stop ID: AC<br>Zone ID: E-1.2J<br>Num Packages: 1.0 <br> Service Time: 65.0",
                    "Sequence: 37<br> Stop ID: DL<br>Zone ID: E-1.2J<br>Num Packages: 1.0 <br> Service Time: 206.0",
                    "Sequence: 38<br> Stop ID: BT<br>Zone ID: E-1.2J<br>Num Packages: 1.0 <br> Service Time: 104.0",
                    "Sequence: 39<br> Stop ID: BN<br>Zone ID: E-1.2J<br>Num Packages: 1.0 <br> Service Time: 118.0",
                    "Sequence: 40<br> Stop ID: UY<br>Zone ID: E-1.2J<br>Num Packages: 1.0 <br> Service Time: 100.0",
                    "Sequence: 41<br> Stop ID: NY<br>Zone ID: E-1.2J<br>Num Packages: 2.0 <br> Service Time: 48.5"
                  ],
                  "type": "scattermapbox"
                },
                {
                  "hoverinfo": "text",
                  "lat": [
                    42.124038,
                    42.124369,
                    42.12044,
                    42.117772,
                    42.120766,
                    42.120975
                  ],
                  "lon": [
                    -71.544102,
                    -71.545108,
                    -71.542705,
                    -71.544013,
                    -71.543204,
                    -71.544163
                  ],
                  "marker": {
                    "size": 15
                  },
                  "mode": "markers",
                  "name": "E-1.1J",
                  "text": [
                    "Sequence: 42<br> Stop ID: YG<br>Zone ID: E-1.1J<br>Num Packages: 2.0 <br> Service Time: 38.5",
                    "Sequence: 43<br> Stop ID: CW<br>Zone ID: E-1.1J<br>Num Packages: 1.0 <br> Service Time: 73.0",
                    "Sequence: 44<br> Stop ID: FT<br>Zone ID: E-1.1J<br>Num Packages: 1.0 <br> Service Time: 105.0",
                    "Sequence: 45<br> Stop ID: FI<br>Zone ID: E-1.1J<br>Num Packages: 1.0 <br> Service Time: 65.0",
                    "Sequence: 46<br> Stop ID: US<br>Zone ID: E-1.1J<br>Num Packages: 1.0 <br> Service Time: 312.0",
                    "Sequence: 47<br> Stop ID: DN<br>Zone ID: E-1.1J<br>Num Packages: 2.0 <br> Service Time: 59.0"
                  ],
                  "type": "scattermapbox"
                },
                {
                  "hoverinfo": "text",
                  "lat": [
                    42.121051,
                    42.120341,
                    42.124123,
                    42.127365,
                    42.128388,
                    42.129426,
                    42.130843
                  ],
                  "lon": [
                    -71.545773,
                    -71.549171,
                    -71.550611,
                    -71.551967,
                    -71.55112,
                    -71.553551,
                    -71.55611
                  ],
                  "marker": {
                    "size": 15
                  },
                  "mode": "markers",
                  "name": "E-2.1J",
                  "text": [
                    "Sequence: 48<br> Stop ID: TL<br>Zone ID: E-2.1J<br>Num Packages: 3.0 <br> Service Time: 74.7",
                    "Sequence: 49<br> Stop ID: SU<br>Zone ID: E-2.1J<br>Num Packages: 1.0 <br> Service Time: 134.0",
                    "Sequence: 50<br> Stop ID: UI<br>Zone ID: E-2.1J<br>Num Packages: 2.0 <br> Service Time: 76.0",
                    "Sequence: 51<br> Stop ID: NL<br>Zone ID: E-2.1J<br>Num Packages: 1.0 <br> Service Time: 67.0",
                    "Sequence: 52<br> Stop ID: BZ<br>Zone ID: E-2.1J<br>Num Packages: 1.0 <br> Service Time: 81.0",
                    "Sequence: 53<br> Stop ID: ZX<br>Zone ID: E-2.1J<br>Num Packages: 1.0 <br> Service Time: 71.0",
                    "Sequence: 54<br> Stop ID: YR<br>Zone ID: E-2.1J<br>Num Packages: 2.0 <br> Service Time: 51.5"
                  ],
                  "type": "scattermapbox"
                },
                {
                  "hoverinfo": "text",
                  "lat": [
                    42.129839,
                    42.135489,
                    42.131202,
                    42.125951,
                    42.12566,
                    42.1282
                  ],
                  "lon": [
                    -71.556861,
                    -71.561803,
                    -71.571969,
                    -71.572483,
                    -71.57254,
                    -71.578917
                  ],
                  "marker": {
                    "size": 15
                  },
                  "mode": "markers",
                  "name": "E-2.2J",
                  "text": [
                    "Sequence: 55<br> Stop ID: ZV<br>Zone ID: E-2.2J<br>Num Packages: 1.0 <br> Service Time: 172.0",
                    "Sequence: 56<br> Stop ID: UJ<br>Zone ID: E-2.2J<br>Num Packages: 1.0 <br> Service Time: 99.0",
                    "Sequence: 57<br> Stop ID: WM<br>Zone ID: E-2.2J<br>Num Packages: 1.0 <br> Service Time: 172.0",
                    "Sequence: 58<br> Stop ID: ST<br>Zone ID: E-2.2J<br>Num Packages: 1.0 <br> Service Time: 146.0",
                    "Sequence: 59<br> Stop ID: CU<br>Zone ID: E-2.2J<br>Num Packages: 1.0 <br> Service Time: 59.0",
                    "Sequence: 60<br> Stop ID: KL<br>Zone ID: E-2.2J<br>Num Packages: 1.0 <br> Service Time: 96.0"
                  ],
                  "type": "scattermapbox"
                },
                {
                  "hoverinfo": "text",
                  "lat": [
                    42.125649,
                    42.116133,
                    42.110929,
                    42.110252,
                    42.108828,
                    42.110475,
                    42.102702,
                    42.101216,
                    42.101403
                  ],
                  "lon": [
                    -71.568811,
                    -71.566586,
                    -71.556253,
                    -71.555689,
                    -71.562421,
                    -71.56499,
                    -71.553805,
                    -71.555481,
                    -71.556447
                  ],
                  "marker": {
                    "size": 15
                  },
                  "mode": "markers",
                  "name": "E-2.3H",
                  "text": [
                    "Sequence: 61<br> Stop ID: OJ<br>Zone ID: E-2.3H<br>Num Packages: 1.0 <br> Service Time: 103.0",
                    "Sequence: 62<br> Stop ID: ZG<br>Zone ID: E-2.3H<br>Num Packages: 2.0 <br> Service Time: 98.0",
                    "Sequence: 63<br> Stop ID: TO<br>Zone ID: E-2.3H<br>Num Packages: 1.0 <br> Service Time: 93.0",
                    "Sequence: 64<br> Stop ID: AD<br>Zone ID: E-2.3H<br>Num Packages: 1.0 <br> Service Time: 75.0",
                    "Sequence: 65<br> Stop ID: GE<br>Zone ID: E-2.3H<br>Num Packages: 1.0 <br> Service Time: 100.0",
                    "Sequence: 66<br> Stop ID: EY<br>Zone ID: E-2.3H<br>Num Packages: 1.0 <br> Service Time: 79.0",
                    "Sequence: 67<br> Stop ID: OM<br>Zone ID: E-2.3H<br>Num Packages: 1.0 <br> Service Time: 31.0",
                    "Sequence: 68<br> Stop ID: SR<br>Zone ID: E-2.3H<br>Num Packages: 1.0 <br> Service Time: 82.0",
                    "Sequence: 69<br> Stop ID: JU<br>Zone ID: E-2.3H<br>Num Packages: 1.0 <br> Service Time: 57.0"
                  ],
                  "type": "scattermapbox"
                },
                {
                  "hoverinfo": "text",
                  "lat": [
                    42.101185,
                    42.08376,
                    42.084195,
                    42.080895,
                    42.08229,
                    42.088175,
                    42.089674,
                    42.086827,
                    42.07244,
                    42.07397
                  ],
                  "lon": [
                    -71.551259,
                    -71.551694,
                    -71.55201,
                    -71.556956,
                    -71.559,
                    -71.554347,
                    -71.55466,
                    -71.55235,
                    -71.553688,
                    -71.551047
                  ],
                  "marker": {
                    "size": 15
                  },
                  "mode": "markers",
                  "name": "E-2.1G",
                  "text": [
                    "Sequence: 70<br> Stop ID: NB<br>Zone ID: E-2.1G<br>Num Packages: 1.0 <br> Service Time: 76.0",
                    "Sequence: 87<br> Stop ID: JZ<br>Zone ID: E-2.1G<br>Num Packages: 1.0 <br> Service Time: 175.0",
                    "Sequence: 88<br> Stop ID: PU<br>Zone ID: E-2.1G<br>Num Packages: 2.0 <br> Service Time: 71.5",
                    "Sequence: 89<br> Stop ID: ZO<br>Zone ID: E-2.1G<br>Num Packages: 1.0 <br> Service Time: 148.0",
                    "Sequence: 90<br> Stop ID: FL<br>Zone ID: E-2.1G<br>Num Packages: 1.0 <br> Service Time: 121.0",
                    "Sequence: 91<br> Stop ID: ND<br>Zone ID: E-2.1G<br>Num Packages: 1.0 <br> Service Time: 142.0",
                    "Sequence: 92<br> Stop ID: NW<br>Zone ID: E-2.1G<br>Num Packages: 1.0 <br> Service Time: 102.0",
                    "Sequence: 93<br> Stop ID: QO<br>Zone ID: E-2.1G<br>Num Packages: 1.0 <br> Service Time: 82.0",
                    "Sequence: 94<br> Stop ID: OE<br>Zone ID: E-2.1G<br>Num Packages: 2.0 <br> Service Time: 79.0",
                    "Sequence: 95<br> Stop ID: SM<br>Zone ID: E-2.1G<br>Num Packages: 1.0 <br> Service Time: 71.0"
                  ],
                  "type": "scattermapbox"
                },
                {
                  "hoverinfo": "text",
                  "lat": [
                    42.105719,
                    42.106275,
                    42.098301,
                    42.091701,
                    42.093273,
                    42.097525,
                    42.097741,
                    42.089052,
                    42.08848,
                    42.087774
                  ],
                  "lon": [
                    -71.544234,
                    -71.540355,
                    -71.540291,
                    -71.529757,
                    -71.522541,
                    -71.526315,
                    -71.528215,
                    -71.533044,
                    -71.5326,
                    -71.534656
                  ],
                  "marker": {
                    "size": 15
                  },
                  "mode": "markers",
                  "name": "E-2.3G",
                  "text": [
                    "Sequence: 71<br> Stop ID: QZ<br>Zone ID: E-2.3G<br>Num Packages: 1.0 <br> Service Time: 45.0",
                    "Sequence: 72<br> Stop ID: SZ<br>Zone ID: E-2.3G<br>Num Packages: 2.0 <br> Service Time: 33.5",
                    "Sequence: 73<br> Stop ID: VT<br>Zone ID: E-2.3G<br>Num Packages: 1.0 <br> Service Time: 101.0",
                    "Sequence: 74<br> Stop ID: IC<br>Zone ID: E-2.3G<br>Num Packages: 1.0 <br> Service Time: 86.0",
                    "Sequence: 75<br> Stop ID: QU<br>Zone ID: E-2.3G<br>Num Packages: 1.0 <br> Service Time: 63.0",
                    "Sequence: 76<br> Stop ID: OC<br>Zone ID: E-2.3G<br>Num Packages: 1.0 <br> Service Time: 81.0",
                    "Sequence: 77<br> Stop ID: ML<br>Zone ID: E-2.3G<br>Num Packages: 2.0 <br> Service Time: 48.0",
                    "Sequence: 78<br> Stop ID: JD<br>Zone ID: E-2.3G<br>Num Packages: 3.0 <br> Service Time: 78.7",
                    "Sequence: 79<br> Stop ID: ZA<br>Zone ID: E-2.3G<br>Num Packages: 1.0 <br> Service Time: 172.0",
                    "Sequence: 80<br> Stop ID: IB<br>Zone ID: E-2.3G<br>Num Packages: 1.0 <br> Service Time: 170.0"
                  ],
                  "type": "scattermapbox"
                },
                {
                  "hoverinfo": "text",
                  "lat": [
                    42.085539,
                    42.083353,
                    42.082898,
                    42.08066,
                    42.080541,
                    42.088684
                  ],
                  "lon": [
                    -71.545158,
                    -71.547355,
                    -71.54777,
                    -71.549721,
                    -71.551435,
                    -71.545654
                  ],
                  "marker": {
                    "size": 15
                  },
                  "mode": "markers",
                  "name": "E-2.2G",
                  "text": [
                    "Sequence: 81<br> Stop ID: FE<br>Zone ID: E-2.2G<br>Num Packages: 1.0 <br> Service Time: 73.0",
                    "Sequence: 82<br> Stop ID: OD<br>Zone ID: E-2.2G<br>Num Packages: 2.0 <br> Service Time: 43.5",
                    "Sequence: 83<br> Stop ID: PX<br>Zone ID: E-2.2G<br>Num Packages: 4.0 <br> Service Time: 51.0",
                    "Sequence: 84<br> Stop ID: SG<br>Zone ID: E-2.2G<br>Num Packages: 1.0 <br> Service Time: 77.0",
                    "Sequence: 85<br> Stop ID: IF<br>Zone ID: E-2.2G<br>Num Packages: 2.0 <br> Service Time: 56.0",
                    "Sequence: 86<br> Stop ID: MN<br>Zone ID: E-2.2G<br>Num Packages: 2.0 <br> Service Time: 53.0"
                  ],
                  "type": "scattermapbox"
                },
                {
                  "hoverinfo": "text",
                  "lat": [
                    42.08234,
                    42.084637,
                    42.086276,
                    42.091579,
                    42.071217,
                    42.065299,
                    42.066053,
                    42.066606,
                    42.069052
                  ],
                  "lon": [
                    -71.569138,
                    -71.565057,
                    -71.564665,
                    -71.562969,
                    -71.569623,
                    -71.56307,
                    -71.560007,
                    -71.560328,
                    -71.570989
                  ],
                  "marker": {
                    "size": 15
                  },
                  "mode": "markers",
                  "name": "E-2.1H",
                  "text": [
                    "Sequence: 96<br> Stop ID: PM<br>Zone ID: E-2.1H<br>Num Packages: 1.0 <br> Service Time: 83.0",
                    "Sequence: 97<br> Stop ID: AL<br>Zone ID: E-2.1H<br>Num Packages: 1.0 <br> Service Time: 140.0",
                    "Sequence: 98<br> Stop ID: LI<br>Zone ID: E-2.1H<br>Num Packages: 1.0 <br> Service Time: 166.0",
                    "Sequence: 99<br> Stop ID: PH<br>Zone ID: E-2.1H<br>Num Packages: 1.0 <br> Service Time: 70.0",
                    "Sequence: 100<br> Stop ID: LZ<br>Zone ID: E-2.1H<br>Num Packages: 2.0 <br> Service Time: 59.0",
                    "Sequence: 101<br> Stop ID: IK<br>Zone ID: E-2.1H<br>Num Packages: 1.0 <br> Service Time: 60.0",
                    "Sequence: 102<br> Stop ID: MM<br>Zone ID: E-2.1H<br>Num Packages: 2.0 <br> Service Time: 80.5",
                    "Sequence: 103<br> Stop ID: ID<br>Zone ID: E-2.1H<br>Num Packages: 1.0 <br> Service Time: 105.0",
                    "Sequence: 104<br> Stop ID: XK<br>Zone ID: E-2.1H<br>Num Packages: 1.0 <br> Service Time: 80.0"
                  ],
                  "type": "scattermapbox"
                },
                {
                  "hoverinfo": "text",
                  "lat": [
                    42.098311,
                    42.100858,
                    42.094155,
                    42.09345,
                    42.0928
                  ],
                  "lon": [
                    -71.565798,
                    -71.569223,
                    -71.567809,
                    -71.570252,
                    -71.57135
                  ],
                  "marker": {
                    "size": 15
                  },
                  "mode": "markers",
                  "name": "E-2.2H",
                  "text": [
                    "Sequence: 105<br> Stop ID: EI<br>Zone ID: E-2.2H<br>Num Packages: 1.0 <br> Service Time: 196.0",
                    "Sequence: 106<br> Stop ID: PO<br>Zone ID: E-2.2H<br>Num Packages: 2.0 <br> Service Time: 129.5",
                    "Sequence: 107<br> Stop ID: PV<br>Zone ID: E-2.2H<br>Num Packages: 2.0 <br> Service Time: 57.5",
                    "Sequence: 108<br> Stop ID: ET<br>Zone ID: E-2.2H<br>Num Packages: 1.0 <br> Service Time: 77.0",
                    "Sequence: 109<br> Stop ID: SD<br>Zone ID: E-2.2H<br>Num Packages: 1.0 <br> Service Time: 171.0"
                  ],
                  "type": "scattermapbox"
                },
                {
                  "hoverinfo": "text",
                  "lat": [
                    42.11913,
                    42.122523,
                    42.122976,
                    42.120684,
                    42.120485,
                    42.117205,
                    42.117445,
                    42.115553,
                    42.112118
                  ],
                  "lon": [
                    -71.574056,
                    -71.574733,
                    -71.574975,
                    -71.578937,
                    -71.577536,
                    -71.574765,
                    -71.579092,
                    -71.587857,
                    -71.597602
                  ],
                  "marker": {
                    "size": 15
                  },
                  "mode": "markers",
                  "name": "E-2.3J",
                  "text": [
                    "Sequence: 110<br> Stop ID: UV<br>Zone ID: E-2.3J<br>Num Packages: 1.0 <br> Service Time: 157.0",
                    "Sequence: 111<br> Stop ID: JN<br>Zone ID: E-2.3J<br>Num Packages: 1.0 <br> Service Time: 69.0",
                    "Sequence: 112<br> Stop ID: HV<br>Zone ID: E-2.3J<br>Num Packages: 2.0 <br> Service Time: 41.0",
                    "Sequence: 113<br> Stop ID: IO<br>Zone ID: E-2.3J<br>Num Packages: 1.0 <br> Service Time: 58.0",
                    "Sequence: 114<br> Stop ID: WC<br>Zone ID: E-2.3J<br>Num Packages: 2.0 <br> Service Time: 69.0",
                    "Sequence: 115<br> Stop ID: YW<br>Zone ID: E-2.3J<br>Num Packages: 2.0 <br> Service Time: 72.5",
                    "Sequence: 116<br> Stop ID: VA<br>Zone ID: E-2.3J<br>Num Packages: 2.0 <br> Service Time: 60.0",
                    "Sequence: 117<br> Stop ID: KZ<br>Zone ID: E-2.3J<br>Num Packages: 2.0 <br> Service Time: 74.0",
                    "Sequence: 118<br> Stop ID: UP<br>Zone ID: E-2.3J<br>Num Packages: 1.0 <br> Service Time: 106.0"
                  ],
                  "type": "scattermapbox"
                },
                {
                  "hoverinfo": "text",
                  "lat": [
                    42.140655,
                    42.149406,
                    42.150434,
                    42.152468,
                    42.153178,
                    42.148227,
                    42.147267,
                    42.145646,
                    42.148971
                  ],
                  "lon": [
                    -71.536264,
                    -71.541475,
                    -71.543739,
                    -71.545145,
                    -71.544067,
                    -71.542674,
                    -71.540911,
                    -71.539764,
                    -71.544248
                  ],
                  "marker": {
                    "size": 15
                  },
                  "mode": "markers",
                  "name": "E-1.2G",
                  "text": [
                    "Sequence: 123<br> Stop ID: MZ<br>Zone ID: E-1.2G<br>Num Packages: 1.0 <br> Service Time: 105.0",
                    "Sequence: 124<br> Stop ID: EE<br>Zone ID: E-1.2G<br>Num Packages: 1.0 <br> Service Time: 78.0",
                    "Sequence: 125<br> Stop ID: AR<br>Zone ID: E-1.2G<br>Num Packages: 1.0 <br> Service Time: 45.0",
                    "Sequence: 126<br> Stop ID: SN<br>Zone ID: E-1.2G<br>Num Packages: 1.0 <br> Service Time: 63.0",
                    "Sequence: 127<br> Stop ID: VB<br>Zone ID: E-1.2G<br>Num Packages: 1.0 <br> Service Time: 79.0",
                    "Sequence: 128<br> Stop ID: YA<br>Zone ID: E-1.2G<br>Num Packages: 1.0 <br> Service Time: 101.0",
                    "Sequence: 129<br> Stop ID: KS<br>Zone ID: E-1.2G<br>Num Packages: 1.0 <br> Service Time: 47.0",
                    "Sequence: 130<br> Stop ID: PE<br>Zone ID: E-1.2G<br>Num Packages: 2.0 <br> Service Time: 21.0",
                    "Sequence: 131<br> Stop ID: GR<br>Zone ID: E-1.2G<br>Num Packages: 1.0 <br> Service Time: 98.0"
                  ],
                  "type": "scattermapbox"
                }
              ],
              "layout": {
                "height": 600,
                "mapbox": {
                  "center": {
                    "lat": 42.11767154135339,
                    "lon": -71.54862418796993
                  },
                  "style": "open-street-map",
                  "zoom": 10
                },
                "margin": {
                  "b": 10,
                  "l": 10,
                  "r": 10,
                  "t": 10
                },
                "showlegend": false,
                "template": {
                  "data": {
                    "bar": [
                      {
                        "error_x": {
                          "color": "#2a3f5f"
                        },
                        "error_y": {
                          "color": "#2a3f5f"
                        },
                        "marker": {
                          "line": {
                            "color": "#E5ECF6",
                            "width": 0.5
                          },
                          "pattern": {
                            "fillmode": "overlay",
                            "size": 10,
                            "solidity": 0.2
                          }
                        },
                        "type": "bar"
                      }
                    ],
                    "barpolar": [
                      {
                        "marker": {
                          "line": {
                            "color": "#E5ECF6",
                            "width": 0.5
                          },
                          "pattern": {
                            "fillmode": "overlay",
                            "size": 10,
                            "solidity": 0.2
                          }
                        },
                        "type": "barpolar"
                      }
                    ],
                    "carpet": [
                      {
                        "aaxis": {
                          "endlinecolor": "#2a3f5f",
                          "gridcolor": "white",
                          "linecolor": "white",
                          "minorgridcolor": "white",
                          "startlinecolor": "#2a3f5f"
                        },
                        "baxis": {
                          "endlinecolor": "#2a3f5f",
                          "gridcolor": "white",
                          "linecolor": "white",
                          "minorgridcolor": "white",
                          "startlinecolor": "#2a3f5f"
                        },
                        "type": "carpet"
                      }
                    ],
                    "choropleth": [
                      {
                        "colorbar": {
                          "outlinewidth": 0,
                          "ticks": ""
                        },
                        "type": "choropleth"
                      }
                    ],
                    "contour": [
                      {
                        "colorbar": {
                          "outlinewidth": 0,
                          "ticks": ""
                        },
                        "colorscale": [
                          [
                            0,
                            "#0d0887"
                          ],
                          [
                            0.1111111111111111,
                            "#46039f"
                          ],
                          [
                            0.2222222222222222,
                            "#7201a8"
                          ],
                          [
                            0.3333333333333333,
                            "#9c179e"
                          ],
                          [
                            0.4444444444444444,
                            "#bd3786"
                          ],
                          [
                            0.5555555555555556,
                            "#d8576b"
                          ],
                          [
                            0.6666666666666666,
                            "#ed7953"
                          ],
                          [
                            0.7777777777777778,
                            "#fb9f3a"
                          ],
                          [
                            0.8888888888888888,
                            "#fdca26"
                          ],
                          [
                            1,
                            "#f0f921"
                          ]
                        ],
                        "type": "contour"
                      }
                    ],
                    "contourcarpet": [
                      {
                        "colorbar": {
                          "outlinewidth": 0,
                          "ticks": ""
                        },
                        "type": "contourcarpet"
                      }
                    ],
                    "heatmap": [
                      {
                        "colorbar": {
                          "outlinewidth": 0,
                          "ticks": ""
                        },
                        "colorscale": [
                          [
                            0,
                            "#0d0887"
                          ],
                          [
                            0.1111111111111111,
                            "#46039f"
                          ],
                          [
                            0.2222222222222222,
                            "#7201a8"
                          ],
                          [
                            0.3333333333333333,
                            "#9c179e"
                          ],
                          [
                            0.4444444444444444,
                            "#bd3786"
                          ],
                          [
                            0.5555555555555556,
                            "#d8576b"
                          ],
                          [
                            0.6666666666666666,
                            "#ed7953"
                          ],
                          [
                            0.7777777777777778,
                            "#fb9f3a"
                          ],
                          [
                            0.8888888888888888,
                            "#fdca26"
                          ],
                          [
                            1,
                            "#f0f921"
                          ]
                        ],
                        "type": "heatmap"
                      }
                    ],
                    "heatmapgl": [
                      {
                        "colorbar": {
                          "outlinewidth": 0,
                          "ticks": ""
                        },
                        "colorscale": [
                          [
                            0,
                            "#0d0887"
                          ],
                          [
                            0.1111111111111111,
                            "#46039f"
                          ],
                          [
                            0.2222222222222222,
                            "#7201a8"
                          ],
                          [
                            0.3333333333333333,
                            "#9c179e"
                          ],
                          [
                            0.4444444444444444,
                            "#bd3786"
                          ],
                          [
                            0.5555555555555556,
                            "#d8576b"
                          ],
                          [
                            0.6666666666666666,
                            "#ed7953"
                          ],
                          [
                            0.7777777777777778,
                            "#fb9f3a"
                          ],
                          [
                            0.8888888888888888,
                            "#fdca26"
                          ],
                          [
                            1,
                            "#f0f921"
                          ]
                        ],
                        "type": "heatmapgl"
                      }
                    ],
                    "histogram": [
                      {
                        "marker": {
                          "pattern": {
                            "fillmode": "overlay",
                            "size": 10,
                            "solidity": 0.2
                          }
                        },
                        "type": "histogram"
                      }
                    ],
                    "histogram2d": [
                      {
                        "colorbar": {
                          "outlinewidth": 0,
                          "ticks": ""
                        },
                        "colorscale": [
                          [
                            0,
                            "#0d0887"
                          ],
                          [
                            0.1111111111111111,
                            "#46039f"
                          ],
                          [
                            0.2222222222222222,
                            "#7201a8"
                          ],
                          [
                            0.3333333333333333,
                            "#9c179e"
                          ],
                          [
                            0.4444444444444444,
                            "#bd3786"
                          ],
                          [
                            0.5555555555555556,
                            "#d8576b"
                          ],
                          [
                            0.6666666666666666,
                            "#ed7953"
                          ],
                          [
                            0.7777777777777778,
                            "#fb9f3a"
                          ],
                          [
                            0.8888888888888888,
                            "#fdca26"
                          ],
                          [
                            1,
                            "#f0f921"
                          ]
                        ],
                        "type": "histogram2d"
                      }
                    ],
                    "histogram2dcontour": [
                      {
                        "colorbar": {
                          "outlinewidth": 0,
                          "ticks": ""
                        },
                        "colorscale": [
                          [
                            0,
                            "#0d0887"
                          ],
                          [
                            0.1111111111111111,
                            "#46039f"
                          ],
                          [
                            0.2222222222222222,
                            "#7201a8"
                          ],
                          [
                            0.3333333333333333,
                            "#9c179e"
                          ],
                          [
                            0.4444444444444444,
                            "#bd3786"
                          ],
                          [
                            0.5555555555555556,
                            "#d8576b"
                          ],
                          [
                            0.6666666666666666,
                            "#ed7953"
                          ],
                          [
                            0.7777777777777778,
                            "#fb9f3a"
                          ],
                          [
                            0.8888888888888888,
                            "#fdca26"
                          ],
                          [
                            1,
                            "#f0f921"
                          ]
                        ],
                        "type": "histogram2dcontour"
                      }
                    ],
                    "mesh3d": [
                      {
                        "colorbar": {
                          "outlinewidth": 0,
                          "ticks": ""
                        },
                        "type": "mesh3d"
                      }
                    ],
                    "parcoords": [
                      {
                        "line": {
                          "colorbar": {
                            "outlinewidth": 0,
                            "ticks": ""
                          }
                        },
                        "type": "parcoords"
                      }
                    ],
                    "pie": [
                      {
                        "automargin": true,
                        "type": "pie"
                      }
                    ],
                    "scatter": [
                      {
                        "fillpattern": {
                          "fillmode": "overlay",
                          "size": 10,
                          "solidity": 0.2
                        },
                        "type": "scatter"
                      }
                    ],
                    "scatter3d": [
                      {
                        "line": {
                          "colorbar": {
                            "outlinewidth": 0,
                            "ticks": ""
                          }
                        },
                        "marker": {
                          "colorbar": {
                            "outlinewidth": 0,
                            "ticks": ""
                          }
                        },
                        "type": "scatter3d"
                      }
                    ],
                    "scattercarpet": [
                      {
                        "marker": {
                          "colorbar": {
                            "outlinewidth": 0,
                            "ticks": ""
                          }
                        },
                        "type": "scattercarpet"
                      }
                    ],
                    "scattergeo": [
                      {
                        "marker": {
                          "colorbar": {
                            "outlinewidth": 0,
                            "ticks": ""
                          }
                        },
                        "type": "scattergeo"
                      }
                    ],
                    "scattergl": [
                      {
                        "marker": {
                          "colorbar": {
                            "outlinewidth": 0,
                            "ticks": ""
                          }
                        },
                        "type": "scattergl"
                      }
                    ],
                    "scattermapbox": [
                      {
                        "marker": {
                          "colorbar": {
                            "outlinewidth": 0,
                            "ticks": ""
                          }
                        },
                        "type": "scattermapbox"
                      }
                    ],
                    "scatterpolar": [
                      {
                        "marker": {
                          "colorbar": {
                            "outlinewidth": 0,
                            "ticks": ""
                          }
                        },
                        "type": "scatterpolar"
                      }
                    ],
                    "scatterpolargl": [
                      {
                        "marker": {
                          "colorbar": {
                            "outlinewidth": 0,
                            "ticks": ""
                          }
                        },
                        "type": "scatterpolargl"
                      }
                    ],
                    "scatterternary": [
                      {
                        "marker": {
                          "colorbar": {
                            "outlinewidth": 0,
                            "ticks": ""
                          }
                        },
                        "type": "scatterternary"
                      }
                    ],
                    "surface": [
                      {
                        "colorbar": {
                          "outlinewidth": 0,
                          "ticks": ""
                        },
                        "colorscale": [
                          [
                            0,
                            "#0d0887"
                          ],
                          [
                            0.1111111111111111,
                            "#46039f"
                          ],
                          [
                            0.2222222222222222,
                            "#7201a8"
                          ],
                          [
                            0.3333333333333333,
                            "#9c179e"
                          ],
                          [
                            0.4444444444444444,
                            "#bd3786"
                          ],
                          [
                            0.5555555555555556,
                            "#d8576b"
                          ],
                          [
                            0.6666666666666666,
                            "#ed7953"
                          ],
                          [
                            0.7777777777777778,
                            "#fb9f3a"
                          ],
                          [
                            0.8888888888888888,
                            "#fdca26"
                          ],
                          [
                            1,
                            "#f0f921"
                          ]
                        ],
                        "type": "surface"
                      }
                    ],
                    "table": [
                      {
                        "cells": {
                          "fill": {
                            "color": "#EBF0F8"
                          },
                          "line": {
                            "color": "white"
                          }
                        },
                        "header": {
                          "fill": {
                            "color": "#C8D4E3"
                          },
                          "line": {
                            "color": "white"
                          }
                        },
                        "type": "table"
                      }
                    ]
                  },
                  "layout": {
                    "annotationdefaults": {
                      "arrowcolor": "#2a3f5f",
                      "arrowhead": 0,
                      "arrowwidth": 1
                    },
                    "autotypenumbers": "strict",
                    "coloraxis": {
                      "colorbar": {
                        "outlinewidth": 0,
                        "ticks": ""
                      }
                    },
                    "colorscale": {
                      "diverging": [
                        [
                          0,
                          "#8e0152"
                        ],
                        [
                          0.1,
                          "#c51b7d"
                        ],
                        [
                          0.2,
                          "#de77ae"
                        ],
                        [
                          0.3,
                          "#f1b6da"
                        ],
                        [
                          0.4,
                          "#fde0ef"
                        ],
                        [
                          0.5,
                          "#f7f7f7"
                        ],
                        [
                          0.6,
                          "#e6f5d0"
                        ],
                        [
                          0.7,
                          "#b8e186"
                        ],
                        [
                          0.8,
                          "#7fbc41"
                        ],
                        [
                          0.9,
                          "#4d9221"
                        ],
                        [
                          1,
                          "#276419"
                        ]
                      ],
                      "sequential": [
                        [
                          0,
                          "#0d0887"
                        ],
                        [
                          0.1111111111111111,
                          "#46039f"
                        ],
                        [
                          0.2222222222222222,
                          "#7201a8"
                        ],
                        [
                          0.3333333333333333,
                          "#9c179e"
                        ],
                        [
                          0.4444444444444444,
                          "#bd3786"
                        ],
                        [
                          0.5555555555555556,
                          "#d8576b"
                        ],
                        [
                          0.6666666666666666,
                          "#ed7953"
                        ],
                        [
                          0.7777777777777778,
                          "#fb9f3a"
                        ],
                        [
                          0.8888888888888888,
                          "#fdca26"
                        ],
                        [
                          1,
                          "#f0f921"
                        ]
                      ],
                      "sequentialminus": [
                        [
                          0,
                          "#0d0887"
                        ],
                        [
                          0.1111111111111111,
                          "#46039f"
                        ],
                        [
                          0.2222222222222222,
                          "#7201a8"
                        ],
                        [
                          0.3333333333333333,
                          "#9c179e"
                        ],
                        [
                          0.4444444444444444,
                          "#bd3786"
                        ],
                        [
                          0.5555555555555556,
                          "#d8576b"
                        ],
                        [
                          0.6666666666666666,
                          "#ed7953"
                        ],
                        [
                          0.7777777777777778,
                          "#fb9f3a"
                        ],
                        [
                          0.8888888888888888,
                          "#fdca26"
                        ],
                        [
                          1,
                          "#f0f921"
                        ]
                      ]
                    },
                    "colorway": [
                      "#636efa",
                      "#EF553B",
                      "#00cc96",
                      "#ab63fa",
                      "#FFA15A",
                      "#19d3f3",
                      "#FF6692",
                      "#B6E880",
                      "#FF97FF",
                      "#FECB52"
                    ],
                    "font": {
                      "color": "#2a3f5f"
                    },
                    "geo": {
                      "bgcolor": "white",
                      "lakecolor": "white",
                      "landcolor": "#E5ECF6",
                      "showlakes": true,
                      "showland": true,
                      "subunitcolor": "white"
                    },
                    "hoverlabel": {
                      "align": "left"
                    },
                    "hovermode": "closest",
                    "mapbox": {
                      "style": "light"
                    },
                    "paper_bgcolor": "white",
                    "plot_bgcolor": "#E5ECF6",
                    "polar": {
                      "angularaxis": {
                        "gridcolor": "white",
                        "linecolor": "white",
                        "ticks": ""
                      },
                      "bgcolor": "#E5ECF6",
                      "radialaxis": {
                        "gridcolor": "white",
                        "linecolor": "white",
                        "ticks": ""
                      }
                    },
                    "scene": {
                      "xaxis": {
                        "backgroundcolor": "#E5ECF6",
                        "gridcolor": "white",
                        "gridwidth": 2,
                        "linecolor": "white",
                        "showbackground": true,
                        "ticks": "",
                        "zerolinecolor": "white"
                      },
                      "yaxis": {
                        "backgroundcolor": "#E5ECF6",
                        "gridcolor": "white",
                        "gridwidth": 2,
                        "linecolor": "white",
                        "showbackground": true,
                        "ticks": "",
                        "zerolinecolor": "white"
                      },
                      "zaxis": {
                        "backgroundcolor": "#E5ECF6",
                        "gridcolor": "white",
                        "gridwidth": 2,
                        "linecolor": "white",
                        "showbackground": true,
                        "ticks": "",
                        "zerolinecolor": "white"
                      }
                    },
                    "shapedefaults": {
                      "line": {
                        "color": "#2a3f5f"
                      }
                    },
                    "ternary": {
                      "aaxis": {
                        "gridcolor": "white",
                        "linecolor": "white",
                        "ticks": ""
                      },
                      "baxis": {
                        "gridcolor": "white",
                        "linecolor": "white",
                        "ticks": ""
                      },
                      "bgcolor": "#E5ECF6",
                      "caxis": {
                        "gridcolor": "white",
                        "linecolor": "white",
                        "ticks": ""
                      }
                    },
                    "title": {
                      "x": 0.05
                    },
                    "xaxis": {
                      "automargin": true,
                      "gridcolor": "white",
                      "linecolor": "white",
                      "ticks": "",
                      "title": {
                        "standoff": 15
                      },
                      "zerolinecolor": "white",
                      "zerolinewidth": 2
                    },
                    "yaxis": {
                      "automargin": true,
                      "gridcolor": "white",
                      "linecolor": "white",
                      "ticks": "",
                      "title": {
                        "standoff": 15
                      },
                      "zerolinecolor": "white",
                      "zerolinewidth": 2
                    }
                  }
                }
              }
            }
          },
          "metadata": {},
          "output_type": "display_data"
        }
      ],
      "source": [
        "fig = go.Figure(go.Scattermapbox(\n",
        "    lat=route_data_ordered['lat'],\n",
        "    lon=route_data_ordered['lng'],\n",
        "    mode='lines',\n",
        "    line=dict(width=2, color='blue'),  # Customize line color and width here\n",
        "    hoverinfo='none'\n",
        "))\n",
        "\n",
        "# Add scatter points for each unique zone_id, with custom hover text\n",
        "for zone_id in route_data_ordered['zone_id'].unique():\n",
        "    df_sub = route_data_ordered[route_data_ordered['zone_id'] == zone_id]\n",
        "\n",
        "    # Creating custom hover text\n",
        "    hover_text = df_sub.apply(lambda row: f\"Sequence: {row.name}<br> Stop ID: {row['stop_id']}<br>Zone ID: {row['zone_id']}<br>Num Packages: {row['num_packages']} <br> Service Time: {row['service_time_seconds']}\", axis=1)\n",
        "\n",
        "\n",
        "    fig.add_trace(go.Scattermapbox(\n",
        "        lat=df_sub['lat'],\n",
        "        lon=df_sub['lng'],\n",
        "        mode='markers',\n",
        "        marker=go.scattermapbox.Marker(size=15),\n",
        "        name=str(zone_id),\n",
        "        text=hover_text,\n",
        "        hoverinfo='text'\n",
        "    ))\n",
        "\n",
        "# Update the layout to use OpenStreetMap style and adjust other layout properties\n",
        "fig.update_layout(\n",
        "\n",
        "    height=600,\n",
        "    mapbox=dict(\n",
        "        style=\"open-street-map\",\n",
        "        zoom=10,  # Adjust zoom level here\n",
        "        center=dict(lat=route_data_ordered['lat'].mean(), lon=route_data_ordered['lng'].mean())\n",
        "    ),\n",
        "    showlegend=False  # Set to True if you want to show legend\n",
        ")\n",
        "fig.update_layout(margin=dict(l=10, r=10, t=10, b=10))\n",
        "\n",
        "\n",
        "# Show the figure\n",
        "fig.show()"
      ]
    },
    {
      "cell_type": "code",
      "execution_count": 71,
      "metadata": {},
      "outputs": [
        {
          "data": {
            "text/html": [
              "<div>\n",
              "<style scoped>\n",
              "    .dataframe tbody tr th:only-of-type {\n",
              "        vertical-align: middle;\n",
              "    }\n",
              "\n",
              "    .dataframe tbody tr th {\n",
              "        vertical-align: top;\n",
              "    }\n",
              "\n",
              "    .dataframe thead th {\n",
              "        text-align: right;\n",
              "    }\n",
              "</style>\n",
              "<table border=\"1\" class=\"dataframe\">\n",
              "  <thead>\n",
              "    <tr style=\"text-align: right;\">\n",
              "      <th></th>\n",
              "      <th>route_id</th>\n",
              "      <th>station_code</th>\n",
              "      <th>date</th>\n",
              "      <th>departure_time_utc</th>\n",
              "      <th>executor_capacity_cm3</th>\n",
              "      <th>route_score</th>\n",
              "      <th>stop_id</th>\n",
              "      <th>lat</th>\n",
              "      <th>lng</th>\n",
              "      <th>type</th>\n",
              "      <th>zone_id</th>\n",
              "      <th>packages</th>\n",
              "      <th>num_packages</th>\n",
              "      <th>drone_possible</th>\n",
              "      <th>service_time_seconds</th>\n",
              "    </tr>\n",
              "  </thead>\n",
              "  <tbody>\n",
              "    <tr>\n",
              "      <th>0</th>\n",
              "      <td>RouteID_f9639176-8909-4c65-80a9-5562b0241ad4</td>\n",
              "      <td>DBO3</td>\n",
              "      <td>2018-08-13</td>\n",
              "      <td>13:02:17</td>\n",
              "      <td>3313071.0</td>\n",
              "      <td>Medium</td>\n",
              "      <td>BU</td>\n",
              "      <td>42.139891</td>\n",
              "      <td>-71.494346</td>\n",
              "      <td>Station</td>\n",
              "      <td>NaN</td>\n",
              "      <td>NaN</td>\n",
              "      <td>NaN</td>\n",
              "      <td>NaN</td>\n",
              "      <td>NaN</td>\n",
              "    </tr>\n",
              "    <tr>\n",
              "      <th>1</th>\n",
              "      <td>RouteID_f9639176-8909-4c65-80a9-5562b0241ad4</td>\n",
              "      <td>DBO3</td>\n",
              "      <td>2018-08-13</td>\n",
              "      <td>13:02:17</td>\n",
              "      <td>3313071.0</td>\n",
              "      <td>Medium</td>\n",
              "      <td>VU</td>\n",
              "      <td>42.139089</td>\n",
              "      <td>-71.524434</td>\n",
              "      <td>Dropoff</td>\n",
              "      <td>E-1.1H</td>\n",
              "      <td>[{'package_id': 'PackageID_f42fbe13-089e-4e92-...</td>\n",
              "      <td>1.0</td>\n",
              "      <td>True</td>\n",
              "      <td>111.0</td>\n",
              "    </tr>\n",
              "    <tr>\n",
              "      <th>2</th>\n",
              "      <td>RouteID_f9639176-8909-4c65-80a9-5562b0241ad4</td>\n",
              "      <td>DBO3</td>\n",
              "      <td>2018-08-13</td>\n",
              "      <td>13:02:17</td>\n",
              "      <td>3313071.0</td>\n",
              "      <td>Medium</td>\n",
              "      <td>ZP</td>\n",
              "      <td>42.138518</td>\n",
              "      <td>-71.525506</td>\n",
              "      <td>Dropoff</td>\n",
              "      <td>E-1.1H</td>\n",
              "      <td>[{'package_id': 'PackageID_8fc292ae-f756-4541-...</td>\n",
              "      <td>2.0</td>\n",
              "      <td>False</td>\n",
              "      <td>90.5</td>\n",
              "    </tr>\n",
              "    <tr>\n",
              "      <th>3</th>\n",
              "      <td>RouteID_f9639176-8909-4c65-80a9-5562b0241ad4</td>\n",
              "      <td>DBO3</td>\n",
              "      <td>2018-08-13</td>\n",
              "      <td>13:02:17</td>\n",
              "      <td>3313071.0</td>\n",
              "      <td>Medium</td>\n",
              "      <td>KH</td>\n",
              "      <td>42.138304</td>\n",
              "      <td>-71.525361</td>\n",
              "      <td>Dropoff</td>\n",
              "      <td>E-1.1H</td>\n",
              "      <td>[{'package_id': 'PackageID_f420fbef-0cfe-4267-...</td>\n",
              "      <td>1.0</td>\n",
              "      <td>False</td>\n",
              "      <td>71.0</td>\n",
              "    </tr>\n",
              "    <tr>\n",
              "      <th>4</th>\n",
              "      <td>RouteID_f9639176-8909-4c65-80a9-5562b0241ad4</td>\n",
              "      <td>DBO3</td>\n",
              "      <td>2018-08-13</td>\n",
              "      <td>13:02:17</td>\n",
              "      <td>3313071.0</td>\n",
              "      <td>Medium</td>\n",
              "      <td>WW</td>\n",
              "      <td>42.138168</td>\n",
              "      <td>-71.529156</td>\n",
              "      <td>Dropoff</td>\n",
              "      <td>E-1.1H</td>\n",
              "      <td>[{'package_id': 'PackageID_e85fe820-0055-4f84-...</td>\n",
              "      <td>2.0</td>\n",
              "      <td>False</td>\n",
              "      <td>73.0</td>\n",
              "    </tr>\n",
              "  </tbody>\n",
              "</table>\n",
              "</div>"
            ],
            "text/plain": [
              "                                       route_id station_code        date  \\\n",
              "0  RouteID_f9639176-8909-4c65-80a9-5562b0241ad4         DBO3  2018-08-13   \n",
              "1  RouteID_f9639176-8909-4c65-80a9-5562b0241ad4         DBO3  2018-08-13   \n",
              "2  RouteID_f9639176-8909-4c65-80a9-5562b0241ad4         DBO3  2018-08-13   \n",
              "3  RouteID_f9639176-8909-4c65-80a9-5562b0241ad4         DBO3  2018-08-13   \n",
              "4  RouteID_f9639176-8909-4c65-80a9-5562b0241ad4         DBO3  2018-08-13   \n",
              "\n",
              "  departure_time_utc  executor_capacity_cm3 route_score stop_id        lat  \\\n",
              "0           13:02:17              3313071.0      Medium      BU  42.139891   \n",
              "1           13:02:17              3313071.0      Medium      VU  42.139089   \n",
              "2           13:02:17              3313071.0      Medium      ZP  42.138518   \n",
              "3           13:02:17              3313071.0      Medium      KH  42.138304   \n",
              "4           13:02:17              3313071.0      Medium      WW  42.138168   \n",
              "\n",
              "         lng     type zone_id  \\\n",
              "0 -71.494346  Station     NaN   \n",
              "1 -71.524434  Dropoff  E-1.1H   \n",
              "2 -71.525506  Dropoff  E-1.1H   \n",
              "3 -71.525361  Dropoff  E-1.1H   \n",
              "4 -71.529156  Dropoff  E-1.1H   \n",
              "\n",
              "                                            packages  num_packages  \\\n",
              "0                                                NaN           NaN   \n",
              "1  [{'package_id': 'PackageID_f42fbe13-089e-4e92-...           1.0   \n",
              "2  [{'package_id': 'PackageID_8fc292ae-f756-4541-...           2.0   \n",
              "3  [{'package_id': 'PackageID_f420fbef-0cfe-4267-...           1.0   \n",
              "4  [{'package_id': 'PackageID_e85fe820-0055-4f84-...           2.0   \n",
              "\n",
              "  drone_possible  service_time_seconds  \n",
              "0            NaN                   NaN  \n",
              "1           True                 111.0  \n",
              "2          False                  90.5  \n",
              "3          False                  71.0  \n",
              "4          False                  73.0  "
            ]
          },
          "execution_count": 71,
          "metadata": {},
          "output_type": "execute_result"
        }
      ],
      "source": [
        "drone_data_ordered = pd.concat([route_data_route_df[route_data_route_df['stop_id'] == stop_id] for stop_id in test.drone_path]).reset_index(drop=True)\n",
        "drone_data_ordered.head()"
      ]
    },
    {
      "cell_type": "code",
      "execution_count": 72,
      "metadata": {},
      "outputs": [
        {
          "data": {
            "application/vnd.plotly.v1+json": {
              "config": {
                "plotlyServerURL": "https://plot.ly"
              },
              "data": [
                {
                  "hoverinfo": "none",
                  "lat": [
                    42.139891,
                    42.139089,
                    42.138518,
                    42.138304,
                    42.138168,
                    42.138013,
                    42.138592,
                    42.139661,
                    42.141271,
                    42.141481,
                    42.142625,
                    42.140573,
                    42.142932,
                    42.143604,
                    42.141526,
                    42.143284,
                    42.13807,
                    42.136668,
                    42.136174,
                    42.139035,
                    42.138027,
                    42.138476,
                    42.137425,
                    42.138349,
                    42.139095,
                    42.140455,
                    42.141612,
                    42.140229,
                    42.139733,
                    42.139294,
                    42.137706,
                    42.136912,
                    42.136227,
                    42.136319,
                    42.133937,
                    42.13382,
                    42.132317,
                    42.131921,
                    42.131869,
                    42.131323,
                    42.131486,
                    42.131001,
                    42.129566,
                    42.128268,
                    42.127848,
                    42.125992,
                    42.125514,
                    42.129766,
                    42.124032,
                    42.124038,
                    42.124369,
                    42.125778,
                    42.12044,
                    42.117772,
                    42.120766,
                    42.120975,
                    42.11705,
                    42.121051,
                    42.120341,
                    42.120591,
                    42.124123,
                    42.127365,
                    42.128388,
                    42.129426,
                    42.130843,
                    42.131783,
                    42.129839,
                    42.135489,
                    42.131202,
                    42.126641,
                    42.125951,
                    42.12566,
                    42.128049,
                    42.1282,
                    42.125649,
                    42.116133,
                    42.110929,
                    42.110252,
                    42.108828,
                    42.110475,
                    42.102702,
                    42.101216,
                    42.101589,
                    42.101403,
                    42.101185,
                    42.100946,
                    42.105719,
                    42.106275,
                    42.09994,
                    42.098301,
                    42.091701,
                    42.093273,
                    42.096478,
                    42.097525,
                    42.097741,
                    42.089222,
                    42.089052,
                    42.08848,
                    42.087781,
                    42.087774,
                    42.085539,
                    42.083353,
                    42.082898,
                    42.081163,
                    42.08066,
                    42.080541,
                    42.088684,
                    42.08376,
                    42.084195,
                    42.082837,
                    42.080895,
                    42.08229,
                    42.088175,
                    42.089674,
                    42.086827,
                    42.07244,
                    42.071516,
                    42.07397,
                    42.08234,
                    42.084637,
                    42.086276,
                    42.091579,
                    42.071217,
                    42.068769,
                    42.065299,
                    42.066053,
                    42.066606,
                    42.067098,
                    42.069052,
                    42.098311,
                    42.100858,
                    42.09491,
                    42.094155,
                    42.09345,
                    42.0928,
                    42.117964,
                    42.11913,
                    42.122523,
                    42.122976,
                    42.120684,
                    42.120485,
                    42.119914,
                    42.117205,
                    42.117445,
                    42.115553,
                    42.112118,
                    42.131043,
                    42.13004,
                    42.130505,
                    42.13111,
                    42.133742,
                    42.140655,
                    42.149406,
                    42.150955,
                    42.150434,
                    42.152468,
                    42.153178,
                    42.148646,
                    42.148227,
                    42.147267,
                    42.145646,
                    42.148971,
                    42.139891
                  ],
                  "line": {
                    "color": "blue",
                    "width": 2
                  },
                  "lon": [
                    -71.494346,
                    -71.524434,
                    -71.525506,
                    -71.525361,
                    -71.529156,
                    -71.530182,
                    -71.53235,
                    -71.529452,
                    -71.528049,
                    -71.528133,
                    -71.529995,
                    -71.531935,
                    -71.533622,
                    -71.534119,
                    -71.534137,
                    -71.531322,
                    -71.533233,
                    -71.53178,
                    -71.531294,
                    -71.536231,
                    -71.539181,
                    -71.540799,
                    -71.54024,
                    -71.54241,
                    -71.542843,
                    -71.543684,
                    -71.545708,
                    -71.546878,
                    -71.547296,
                    -71.546923,
                    -71.545586,
                    -71.544912,
                    -71.544317,
                    -71.542944,
                    -71.542708,
                    -71.54095,
                    -71.539959,
                    -71.540795,
                    -71.539325,
                    -71.538877,
                    -71.539641,
                    -71.538114,
                    -71.540988,
                    -71.53879,
                    -71.538338,
                    -71.536422,
                    -71.535994,
                    -71.536633,
                    -71.540927,
                    -71.544102,
                    -71.545108,
                    -71.546615,
                    -71.542705,
                    -71.544013,
                    -71.543204,
                    -71.544163,
                    -71.547049,
                    -71.545773,
                    -71.549171,
                    -71.551675,
                    -71.550611,
                    -71.551967,
                    -71.55112,
                    -71.553551,
                    -71.55611,
                    -71.552378,
                    -71.556861,
                    -71.561803,
                    -71.571969,
                    -71.571935,
                    -71.572483,
                    -71.57254,
                    -71.578627,
                    -71.578917,
                    -71.568811,
                    -71.566586,
                    -71.556253,
                    -71.555689,
                    -71.562421,
                    -71.56499,
                    -71.553805,
                    -71.555481,
                    -71.556043,
                    -71.556447,
                    -71.551259,
                    -71.551314,
                    -71.544234,
                    -71.540355,
                    -71.541582,
                    -71.540291,
                    -71.529757,
                    -71.522541,
                    -71.525742,
                    -71.526315,
                    -71.528215,
                    -71.533181,
                    -71.533044,
                    -71.5326,
                    -71.534642,
                    -71.534656,
                    -71.545158,
                    -71.547355,
                    -71.54777,
                    -71.548001,
                    -71.549721,
                    -71.551435,
                    -71.545654,
                    -71.551694,
                    -71.55201,
                    -71.555256,
                    -71.556956,
                    -71.559,
                    -71.554347,
                    -71.55466,
                    -71.55235,
                    -71.553688,
                    -71.55374,
                    -71.551047,
                    -71.569138,
                    -71.565057,
                    -71.564665,
                    -71.562969,
                    -71.569623,
                    -71.568176,
                    -71.56307,
                    -71.560007,
                    -71.560328,
                    -71.561395,
                    -71.570989,
                    -71.565798,
                    -71.569223,
                    -71.567879,
                    -71.567809,
                    -71.570252,
                    -71.57135,
                    -71.573898,
                    -71.574056,
                    -71.574733,
                    -71.574975,
                    -71.578937,
                    -71.577536,
                    -71.575428,
                    -71.574765,
                    -71.579092,
                    -71.587857,
                    -71.597602,
                    -71.547647,
                    -71.547106,
                    -71.546481,
                    -71.546931,
                    -71.546182,
                    -71.536264,
                    -71.541475,
                    -71.543177,
                    -71.543739,
                    -71.545145,
                    -71.544067,
                    -71.542931,
                    -71.542674,
                    -71.540911,
                    -71.539764,
                    -71.544248,
                    -71.494346
                  ],
                  "mode": "lines",
                  "type": "scattermapbox"
                },
                {
                  "hoverinfo": "text",
                  "lat": [],
                  "lon": [],
                  "marker": {
                    "size": 15
                  },
                  "mode": "markers",
                  "name": "nan",
                  "text": [],
                  "type": "scattermapbox"
                },
                {
                  "hoverinfo": "text",
                  "lat": [
                    42.139089,
                    42.138518,
                    42.138304,
                    42.138168,
                    42.138013,
                    42.138592,
                    42.139661,
                    42.141271,
                    42.141481,
                    42.142625
                  ],
                  "lon": [
                    -71.524434,
                    -71.525506,
                    -71.525361,
                    -71.529156,
                    -71.530182,
                    -71.53235,
                    -71.529452,
                    -71.528049,
                    -71.528133,
                    -71.529995
                  ],
                  "marker": {
                    "size": 15
                  },
                  "mode": "markers",
                  "name": "E-1.1H",
                  "text": [
                    "Sequence: 1<br> Stop ID: VU<br>Zone ID: E-1.1H<br>Num Packages: 1.0 <br> Service Time: 111.0",
                    "Sequence: 2<br> Stop ID: ZP<br>Zone ID: E-1.1H<br>Num Packages: 2.0 <br> Service Time: 90.5",
                    "Sequence: 3<br> Stop ID: KH<br>Zone ID: E-1.1H<br>Num Packages: 1.0 <br> Service Time: 71.0",
                    "Sequence: 4<br> Stop ID: WW<br>Zone ID: E-1.1H<br>Num Packages: 2.0 <br> Service Time: 73.0",
                    "Sequence: 5<br> Stop ID: QC<br>Zone ID: E-1.1H<br>Num Packages: 2.0 <br> Service Time: 146.0",
                    "Sequence: 6<br> Stop ID: JE<br>Zone ID: E-1.1H<br>Num Packages: 1.0 <br> Service Time: 104.0",
                    "Sequence: 7<br> Stop ID: FS<br>Zone ID: E-1.1H<br>Num Packages: 2.0 <br> Service Time: 108.0",
                    "Sequence: 8<br> Stop ID: BJ<br>Zone ID: E-1.1H<br>Num Packages: 1.0 <br> Service Time: 62.0",
                    "Sequence: 9<br> Stop ID: IQ<br>Zone ID: E-1.1H<br>Num Packages: 1.0 <br> Service Time: 42.0",
                    "Sequence: 10<br> Stop ID: FV<br>Zone ID: E-1.1H<br>Num Packages: 1.0 <br> Service Time: 78.0"
                  ],
                  "type": "scattermapbox"
                },
                {
                  "hoverinfo": "text",
                  "lat": [
                    42.140573,
                    42.142932,
                    42.143604,
                    42.141526,
                    42.143284,
                    42.13807
                  ],
                  "lon": [
                    -71.531935,
                    -71.533622,
                    -71.534119,
                    -71.534137,
                    -71.531322,
                    -71.533233
                  ],
                  "marker": {
                    "size": 15
                  },
                  "mode": "markers",
                  "name": "E-1.1G",
                  "text": [
                    "Sequence: 11<br> Stop ID: XO<br>Zone ID: E-1.1G<br>Num Packages: 1.0 <br> Service Time: 32.0",
                    "Sequence: 12<br> Stop ID: MX<br>Zone ID: E-1.1G<br>Num Packages: 1.0 <br> Service Time: 52.0",
                    "Sequence: 13<br> Stop ID: CF<br>Zone ID: E-1.1G<br>Num Packages: 1.0 <br> Service Time: 250.0",
                    "Sequence: 14<br> Stop ID: YV<br>Zone ID: E-1.1G<br>Num Packages: 1.0 <br> Service Time: 50.0",
                    "Sequence: 15<br> Stop ID: CY<br>Zone ID: E-1.1G<br>Num Packages: 1.0 <br> Service Time: 87.0",
                    "Sequence: 16<br> Stop ID: JQ<br>Zone ID: E-1.1G<br>Num Packages: 1.0 <br> Service Time: 370.0"
                  ],
                  "type": "scattermapbox"
                },
                {
                  "hoverinfo": "text",
                  "lat": [
                    42.136668,
                    42.136174,
                    42.139035,
                    42.138027,
                    42.138476,
                    42.137425,
                    42.138349,
                    42.139095,
                    42.140455,
                    42.141612
                  ],
                  "lon": [
                    -71.53178,
                    -71.531294,
                    -71.536231,
                    -71.539181,
                    -71.540799,
                    -71.54024,
                    -71.54241,
                    -71.542843,
                    -71.543684,
                    -71.545708
                  ],
                  "marker": {
                    "size": 15
                  },
                  "mode": "markers",
                  "name": "E-1.2H",
                  "text": [
                    "Sequence: 17<br> Stop ID: DZ<br>Zone ID: E-1.2H<br>Num Packages: 1.0 <br> Service Time: 102.0",
                    "Sequence: 18<br> Stop ID: CN<br>Zone ID: E-1.2H<br>Num Packages: 2.0 <br> Service Time: 64.0",
                    "Sequence: 19<br> Stop ID: VM<br>Zone ID: E-1.2H<br>Num Packages: 1.0 <br> Service Time: 221.0",
                    "Sequence: 20<br> Stop ID: XG<br>Zone ID: E-1.2H<br>Num Packages: 3.0 <br> Service Time: 60.0",
                    "Sequence: 21<br> Stop ID: DX<br>Zone ID: E-1.2H<br>Num Packages: 1.0 <br> Service Time: 83.0",
                    "Sequence: 22<br> Stop ID: BE<br>Zone ID: E-1.2H<br>Num Packages: 2.0 <br> Service Time: 72.5",
                    "Sequence: 23<br> Stop ID: AG<br>Zone ID: E-1.2H<br>Num Packages: 2.0 <br> Service Time: 62.5",
                    "Sequence: 24<br> Stop ID: KY<br>Zone ID: E-1.2H<br>Num Packages: 1.0 <br> Service Time: 98.0",
                    "Sequence: 25<br> Stop ID: KR<br>Zone ID: E-1.2H<br>Num Packages: 1.0 <br> Service Time: 52.0",
                    "Sequence: 26<br> Stop ID: BX<br>Zone ID: E-1.2H<br>Num Packages: 1.0 <br> Service Time: 65.0"
                  ],
                  "type": "scattermapbox"
                },
                {
                  "hoverinfo": "text",
                  "lat": [
                    42.140229,
                    42.139733,
                    42.139294,
                    42.137706,
                    42.136912,
                    42.136227,
                    42.136319
                  ],
                  "lon": [
                    -71.546878,
                    -71.547296,
                    -71.546923,
                    -71.545586,
                    -71.544912,
                    -71.544317,
                    -71.542944
                  ],
                  "marker": {
                    "size": 15
                  },
                  "mode": "markers",
                  "name": "E-1.3H",
                  "text": [
                    "Sequence: 27<br> Stop ID: IE<br>Zone ID: E-1.3H<br>Num Packages: 2.0 <br> Service Time: 99.0",
                    "Sequence: 28<br> Stop ID: YH<br>Zone ID: E-1.3H<br>Num Packages: 1.0 <br> Service Time: 111.0",
                    "Sequence: 29<br> Stop ID: BP<br>Zone ID: E-1.3H<br>Num Packages: 1.0 <br> Service Time: 80.0",
                    "Sequence: 30<br> Stop ID: LL<br>Zone ID: E-1.3H<br>Num Packages: 1.0 <br> Service Time: 58.0",
                    "Sequence: 31<br> Stop ID: TR<br>Zone ID: E-1.3H<br>Num Packages: 1.0 <br> Service Time: 135.0",
                    "Sequence: 32<br> Stop ID: PB<br>Zone ID: E-1.3H<br>Num Packages: 1.0 <br> Service Time: 84.0",
                    "Sequence: 33<br> Stop ID: XQ<br>Zone ID: E-1.3H<br>Num Packages: 1.0 <br> Service Time: 107.0"
                  ],
                  "type": "scattermapbox"
                },
                {
                  "hoverinfo": "text",
                  "lat": [
                    42.133937,
                    42.131043,
                    42.13004,
                    42.130505,
                    42.13111,
                    42.133742
                  ],
                  "lon": [
                    -71.542708,
                    -71.547647,
                    -71.547106,
                    -71.546481,
                    -71.546931,
                    -71.546182
                  ],
                  "marker": {
                    "size": 15
                  },
                  "mode": "markers",
                  "name": "E-1.3J",
                  "text": [
                    "Sequence: 34<br> Stop ID: UW<br>Zone ID: E-1.3J<br>Num Packages: 1.0 <br> Service Time: 78.0",
                    "Sequence: 146<br> Stop ID: AZ<br>Zone ID: E-1.3J<br>Num Packages: 2.0 <br> Service Time: 68.5",
                    "Sequence: 147<br> Stop ID: OU<br>Zone ID: E-1.3J<br>Num Packages: 1.0 <br> Service Time: 76.0",
                    "Sequence: 148<br> Stop ID: II<br>Zone ID: E-1.3J<br>Num Packages: 1.0 <br> Service Time: 46.0",
                    "Sequence: 149<br> Stop ID: ZL<br>Zone ID: E-1.3J<br>Num Packages: 1.0 <br> Service Time: 172.0",
                    "Sequence: 150<br> Stop ID: CE<br>Zone ID: E-1.3J<br>Num Packages: 1.0 <br> Service Time: 71.0"
                  ],
                  "type": "scattermapbox"
                },
                {
                  "hoverinfo": "text",
                  "lat": [
                    42.13382,
                    42.132317,
                    42.131921,
                    42.131869,
                    42.131323,
                    42.131486,
                    42.131001,
                    42.129566,
                    42.128268,
                    42.127848,
                    42.125992,
                    42.125514,
                    42.129766
                  ],
                  "lon": [
                    -71.54095,
                    -71.539959,
                    -71.540795,
                    -71.539325,
                    -71.538877,
                    -71.539641,
                    -71.538114,
                    -71.540988,
                    -71.53879,
                    -71.538338,
                    -71.536422,
                    -71.535994,
                    -71.536633
                  ],
                  "marker": {
                    "size": 15
                  },
                  "mode": "markers",
                  "name": "E-1.2J",
                  "text": [
                    "Sequence: 35<br> Stop ID: LG<br>Zone ID: E-1.2J<br>Num Packages: 1.0 <br> Service Time: 146.0",
                    "Sequence: 36<br> Stop ID: PQ<br>Zone ID: E-1.2J<br>Num Packages: 1.0 <br> Service Time: 82.0",
                    "Sequence: 37<br> Stop ID: HO<br>Zone ID: E-1.2J<br>Num Packages: 1.0 <br> Service Time: 314.0",
                    "Sequence: 38<br> Stop ID: FQ<br>Zone ID: E-1.2J<br>Num Packages: 1.0 <br> Service Time: 71.0",
                    "Sequence: 39<br> Stop ID: WV<br>Zone ID: E-1.2J<br>Num Packages: 1.0 <br> Service Time: 45.0",
                    "Sequence: 40<br> Stop ID: WR<br>Zone ID: E-1.2J<br>Num Packages: 1.0 <br> Service Time: 49.0",
                    "Sequence: 41<br> Stop ID: AC<br>Zone ID: E-1.2J<br>Num Packages: 1.0 <br> Service Time: 65.0",
                    "Sequence: 42<br> Stop ID: DL<br>Zone ID: E-1.2J<br>Num Packages: 1.0 <br> Service Time: 206.0",
                    "Sequence: 43<br> Stop ID: BT<br>Zone ID: E-1.2J<br>Num Packages: 1.0 <br> Service Time: 104.0",
                    "Sequence: 44<br> Stop ID: GQ<br>Zone ID: E-1.2J<br>Num Packages: 1.0 <br> Service Time: 87.0",
                    "Sequence: 45<br> Stop ID: BN<br>Zone ID: E-1.2J<br>Num Packages: 1.0 <br> Service Time: 118.0",
                    "Sequence: 46<br> Stop ID: UY<br>Zone ID: E-1.2J<br>Num Packages: 1.0 <br> Service Time: 100.0",
                    "Sequence: 47<br> Stop ID: NY<br>Zone ID: E-1.2J<br>Num Packages: 2.0 <br> Service Time: 48.5"
                  ],
                  "type": "scattermapbox"
                },
                {
                  "hoverinfo": "text",
                  "lat": [
                    42.124032,
                    42.124038,
                    42.124369,
                    42.125778,
                    42.12044,
                    42.117772,
                    42.120766,
                    42.120975,
                    42.11705
                  ],
                  "lon": [
                    -71.540927,
                    -71.544102,
                    -71.545108,
                    -71.546615,
                    -71.542705,
                    -71.544013,
                    -71.543204,
                    -71.544163,
                    -71.547049
                  ],
                  "marker": {
                    "size": 15
                  },
                  "mode": "markers",
                  "name": "E-1.1J",
                  "text": [
                    "Sequence: 48<br> Stop ID: SE<br>Zone ID: E-1.1J<br>Num Packages: 1.0 <br> Service Time: 50.0",
                    "Sequence: 49<br> Stop ID: YG<br>Zone ID: E-1.1J<br>Num Packages: 2.0 <br> Service Time: 38.5",
                    "Sequence: 50<br> Stop ID: CW<br>Zone ID: E-1.1J<br>Num Packages: 1.0 <br> Service Time: 73.0",
                    "Sequence: 51<br> Stop ID: UE<br>Zone ID: E-1.1J<br>Num Packages: 1.0 <br> Service Time: 56.0",
                    "Sequence: 52<br> Stop ID: FT<br>Zone ID: E-1.1J<br>Num Packages: 1.0 <br> Service Time: 105.0",
                    "Sequence: 53<br> Stop ID: FI<br>Zone ID: E-1.1J<br>Num Packages: 1.0 <br> Service Time: 65.0",
                    "Sequence: 54<br> Stop ID: US<br>Zone ID: E-1.1J<br>Num Packages: 1.0 <br> Service Time: 312.0",
                    "Sequence: 55<br> Stop ID: DN<br>Zone ID: E-1.1J<br>Num Packages: 2.0 <br> Service Time: 59.0",
                    "Sequence: 56<br> Stop ID: CX<br>Zone ID: E-1.1J<br>Num Packages: 1.0 <br> Service Time: 162.0"
                  ],
                  "type": "scattermapbox"
                },
                {
                  "hoverinfo": "text",
                  "lat": [
                    42.121051,
                    42.120341,
                    42.120591,
                    42.124123,
                    42.127365,
                    42.128388,
                    42.129426,
                    42.130843,
                    42.131783
                  ],
                  "lon": [
                    -71.545773,
                    -71.549171,
                    -71.551675,
                    -71.550611,
                    -71.551967,
                    -71.55112,
                    -71.553551,
                    -71.55611,
                    -71.552378
                  ],
                  "marker": {
                    "size": 15
                  },
                  "mode": "markers",
                  "name": "E-2.1J",
                  "text": [
                    "Sequence: 57<br> Stop ID: TL<br>Zone ID: E-2.1J<br>Num Packages: 3.0 <br> Service Time: 74.7",
                    "Sequence: 58<br> Stop ID: SU<br>Zone ID: E-2.1J<br>Num Packages: 1.0 <br> Service Time: 134.0",
                    "Sequence: 59<br> Stop ID: JL<br>Zone ID: E-2.1J<br>Num Packages: 1.0 <br> Service Time: 136.0",
                    "Sequence: 60<br> Stop ID: UI<br>Zone ID: E-2.1J<br>Num Packages: 2.0 <br> Service Time: 76.0",
                    "Sequence: 61<br> Stop ID: NL<br>Zone ID: E-2.1J<br>Num Packages: 1.0 <br> Service Time: 67.0",
                    "Sequence: 62<br> Stop ID: BZ<br>Zone ID: E-2.1J<br>Num Packages: 1.0 <br> Service Time: 81.0",
                    "Sequence: 63<br> Stop ID: ZX<br>Zone ID: E-2.1J<br>Num Packages: 1.0 <br> Service Time: 71.0",
                    "Sequence: 64<br> Stop ID: YR<br>Zone ID: E-2.1J<br>Num Packages: 2.0 <br> Service Time: 51.5",
                    "Sequence: 65<br> Stop ID: DI<br>Zone ID: E-2.1J<br>Num Packages: 1.0 <br> Service Time: 56.0"
                  ],
                  "type": "scattermapbox"
                },
                {
                  "hoverinfo": "text",
                  "lat": [
                    42.129839,
                    42.135489,
                    42.131202,
                    42.126641,
                    42.125951,
                    42.12566,
                    42.128049,
                    42.1282
                  ],
                  "lon": [
                    -71.556861,
                    -71.561803,
                    -71.571969,
                    -71.571935,
                    -71.572483,
                    -71.57254,
                    -71.578627,
                    -71.578917
                  ],
                  "marker": {
                    "size": 15
                  },
                  "mode": "markers",
                  "name": "E-2.2J",
                  "text": [
                    "Sequence: 66<br> Stop ID: ZV<br>Zone ID: E-2.2J<br>Num Packages: 1.0 <br> Service Time: 172.0",
                    "Sequence: 67<br> Stop ID: UJ<br>Zone ID: E-2.2J<br>Num Packages: 1.0 <br> Service Time: 99.0",
                    "Sequence: 68<br> Stop ID: WM<br>Zone ID: E-2.2J<br>Num Packages: 1.0 <br> Service Time: 172.0",
                    "Sequence: 69<br> Stop ID: NG<br>Zone ID: E-2.2J<br>Num Packages: 1.0 <br> Service Time: 68.0",
                    "Sequence: 70<br> Stop ID: ST<br>Zone ID: E-2.2J<br>Num Packages: 1.0 <br> Service Time: 146.0",
                    "Sequence: 71<br> Stop ID: CU<br>Zone ID: E-2.2J<br>Num Packages: 1.0 <br> Service Time: 59.0",
                    "Sequence: 72<br> Stop ID: AP<br>Zone ID: E-2.2J<br>Num Packages: 1.0 <br> Service Time: 100.0",
                    "Sequence: 73<br> Stop ID: KL<br>Zone ID: E-2.2J<br>Num Packages: 1.0 <br> Service Time: 96.0"
                  ],
                  "type": "scattermapbox"
                },
                {
                  "hoverinfo": "text",
                  "lat": [
                    42.125649,
                    42.116133,
                    42.110929,
                    42.110252,
                    42.108828,
                    42.110475,
                    42.102702,
                    42.101216,
                    42.101589,
                    42.101403
                  ],
                  "lon": [
                    -71.568811,
                    -71.566586,
                    -71.556253,
                    -71.555689,
                    -71.562421,
                    -71.56499,
                    -71.553805,
                    -71.555481,
                    -71.556043,
                    -71.556447
                  ],
                  "marker": {
                    "size": 15
                  },
                  "mode": "markers",
                  "name": "E-2.3H",
                  "text": [
                    "Sequence: 74<br> Stop ID: OJ<br>Zone ID: E-2.3H<br>Num Packages: 1.0 <br> Service Time: 103.0",
                    "Sequence: 75<br> Stop ID: ZG<br>Zone ID: E-2.3H<br>Num Packages: 2.0 <br> Service Time: 98.0",
                    "Sequence: 76<br> Stop ID: TO<br>Zone ID: E-2.3H<br>Num Packages: 1.0 <br> Service Time: 93.0",
                    "Sequence: 77<br> Stop ID: AD<br>Zone ID: E-2.3H<br>Num Packages: 1.0 <br> Service Time: 75.0",
                    "Sequence: 78<br> Stop ID: GE<br>Zone ID: E-2.3H<br>Num Packages: 1.0 <br> Service Time: 100.0",
                    "Sequence: 79<br> Stop ID: EY<br>Zone ID: E-2.3H<br>Num Packages: 1.0 <br> Service Time: 79.0",
                    "Sequence: 80<br> Stop ID: OM<br>Zone ID: E-2.3H<br>Num Packages: 1.0 <br> Service Time: 31.0",
                    "Sequence: 81<br> Stop ID: SR<br>Zone ID: E-2.3H<br>Num Packages: 1.0 <br> Service Time: 82.0",
                    "Sequence: 82<br> Stop ID: XU<br>Zone ID: E-2.3H<br>Num Packages: 1.0 <br> Service Time: 105.0",
                    "Sequence: 83<br> Stop ID: JU<br>Zone ID: E-2.3H<br>Num Packages: 1.0 <br> Service Time: 57.0"
                  ],
                  "type": "scattermapbox"
                },
                {
                  "hoverinfo": "text",
                  "lat": [
                    42.101185,
                    42.100946,
                    42.08376,
                    42.084195,
                    42.082837,
                    42.080895,
                    42.08229,
                    42.088175,
                    42.089674,
                    42.086827,
                    42.07244,
                    42.071516,
                    42.07397
                  ],
                  "lon": [
                    -71.551259,
                    -71.551314,
                    -71.551694,
                    -71.55201,
                    -71.555256,
                    -71.556956,
                    -71.559,
                    -71.554347,
                    -71.55466,
                    -71.55235,
                    -71.553688,
                    -71.55374,
                    -71.551047
                  ],
                  "marker": {
                    "size": 15
                  },
                  "mode": "markers",
                  "name": "E-2.1G",
                  "text": [
                    "Sequence: 84<br> Stop ID: NB<br>Zone ID: E-2.1G<br>Num Packages: 1.0 <br> Service Time: 76.0",
                    "Sequence: 85<br> Stop ID: TJ<br>Zone ID: E-2.1G<br>Num Packages: 1.0 <br> Service Time: 78.0",
                    "Sequence: 107<br> Stop ID: JZ<br>Zone ID: E-2.1G<br>Num Packages: 1.0 <br> Service Time: 175.0",
                    "Sequence: 108<br> Stop ID: PU<br>Zone ID: E-2.1G<br>Num Packages: 2.0 <br> Service Time: 71.5",
                    "Sequence: 109<br> Stop ID: KX<br>Zone ID: E-2.1G<br>Num Packages: 1.0 <br> Service Time: 113.0",
                    "Sequence: 110<br> Stop ID: ZO<br>Zone ID: E-2.1G<br>Num Packages: 1.0 <br> Service Time: 148.0",
                    "Sequence: 111<br> Stop ID: FL<br>Zone ID: E-2.1G<br>Num Packages: 1.0 <br> Service Time: 121.0",
                    "Sequence: 112<br> Stop ID: ND<br>Zone ID: E-2.1G<br>Num Packages: 1.0 <br> Service Time: 142.0",
                    "Sequence: 113<br> Stop ID: NW<br>Zone ID: E-2.1G<br>Num Packages: 1.0 <br> Service Time: 102.0",
                    "Sequence: 114<br> Stop ID: QO<br>Zone ID: E-2.1G<br>Num Packages: 1.0 <br> Service Time: 82.0",
                    "Sequence: 115<br> Stop ID: OE<br>Zone ID: E-2.1G<br>Num Packages: 2.0 <br> Service Time: 79.0",
                    "Sequence: 116<br> Stop ID: NH<br>Zone ID: E-2.1G<br>Num Packages: 1.0 <br> Service Time: 74.0",
                    "Sequence: 117<br> Stop ID: SM<br>Zone ID: E-2.1G<br>Num Packages: 1.0 <br> Service Time: 71.0"
                  ],
                  "type": "scattermapbox"
                },
                {
                  "hoverinfo": "text",
                  "lat": [
                    42.105719,
                    42.106275,
                    42.09994,
                    42.098301,
                    42.091701,
                    42.093273,
                    42.096478,
                    42.097525,
                    42.097741,
                    42.089222,
                    42.089052,
                    42.08848,
                    42.087781,
                    42.087774
                  ],
                  "lon": [
                    -71.544234,
                    -71.540355,
                    -71.541582,
                    -71.540291,
                    -71.529757,
                    -71.522541,
                    -71.525742,
                    -71.526315,
                    -71.528215,
                    -71.533181,
                    -71.533044,
                    -71.5326,
                    -71.534642,
                    -71.534656
                  ],
                  "marker": {
                    "size": 15
                  },
                  "mode": "markers",
                  "name": "E-2.3G",
                  "text": [
                    "Sequence: 86<br> Stop ID: QZ<br>Zone ID: E-2.3G<br>Num Packages: 1.0 <br> Service Time: 45.0",
                    "Sequence: 87<br> Stop ID: SZ<br>Zone ID: E-2.3G<br>Num Packages: 2.0 <br> Service Time: 33.5",
                    "Sequence: 88<br> Stop ID: TP<br>Zone ID: E-2.3G<br>Num Packages: 1.0 <br> Service Time: 66.0",
                    "Sequence: 89<br> Stop ID: VT<br>Zone ID: E-2.3G<br>Num Packages: 1.0 <br> Service Time: 101.0",
                    "Sequence: 90<br> Stop ID: IC<br>Zone ID: E-2.3G<br>Num Packages: 1.0 <br> Service Time: 86.0",
                    "Sequence: 91<br> Stop ID: QU<br>Zone ID: E-2.3G<br>Num Packages: 1.0 <br> Service Time: 63.0",
                    "Sequence: 92<br> Stop ID: YE<br>Zone ID: E-2.3G<br>Num Packages: 1.0 <br> Service Time: 45.0",
                    "Sequence: 93<br> Stop ID: OC<br>Zone ID: E-2.3G<br>Num Packages: 1.0 <br> Service Time: 81.0",
                    "Sequence: 94<br> Stop ID: ML<br>Zone ID: E-2.3G<br>Num Packages: 2.0 <br> Service Time: 48.0",
                    "Sequence: 95<br> Stop ID: XB<br>Zone ID: E-2.3G<br>Num Packages: 1.0 <br> Service Time: 81.0",
                    "Sequence: 96<br> Stop ID: JD<br>Zone ID: E-2.3G<br>Num Packages: 3.0 <br> Service Time: 78.7",
                    "Sequence: 97<br> Stop ID: ZA<br>Zone ID: E-2.3G<br>Num Packages: 1.0 <br> Service Time: 172.0",
                    "Sequence: 98<br> Stop ID: CA<br>Zone ID: E-2.3G<br>Num Packages: 1.0 <br> Service Time: 92.0",
                    "Sequence: 99<br> Stop ID: IB<br>Zone ID: E-2.3G<br>Num Packages: 1.0 <br> Service Time: 170.0"
                  ],
                  "type": "scattermapbox"
                },
                {
                  "hoverinfo": "text",
                  "lat": [
                    42.085539,
                    42.083353,
                    42.082898,
                    42.081163,
                    42.08066,
                    42.080541,
                    42.088684
                  ],
                  "lon": [
                    -71.545158,
                    -71.547355,
                    -71.54777,
                    -71.548001,
                    -71.549721,
                    -71.551435,
                    -71.545654
                  ],
                  "marker": {
                    "size": 15
                  },
                  "mode": "markers",
                  "name": "E-2.2G",
                  "text": [
                    "Sequence: 100<br> Stop ID: FE<br>Zone ID: E-2.2G<br>Num Packages: 1.0 <br> Service Time: 73.0",
                    "Sequence: 101<br> Stop ID: OD<br>Zone ID: E-2.2G<br>Num Packages: 2.0 <br> Service Time: 43.5",
                    "Sequence: 102<br> Stop ID: PX<br>Zone ID: E-2.2G<br>Num Packages: 4.0 <br> Service Time: 51.0",
                    "Sequence: 103<br> Stop ID: GM<br>Zone ID: E-2.2G<br>Num Packages: 1.0 <br> Service Time: 92.0",
                    "Sequence: 104<br> Stop ID: SG<br>Zone ID: E-2.2G<br>Num Packages: 1.0 <br> Service Time: 77.0",
                    "Sequence: 105<br> Stop ID: IF<br>Zone ID: E-2.2G<br>Num Packages: 2.0 <br> Service Time: 56.0",
                    "Sequence: 106<br> Stop ID: MN<br>Zone ID: E-2.2G<br>Num Packages: 2.0 <br> Service Time: 53.0"
                  ],
                  "type": "scattermapbox"
                },
                {
                  "hoverinfo": "text",
                  "lat": [
                    42.08234,
                    42.084637,
                    42.086276,
                    42.091579,
                    42.071217,
                    42.068769,
                    42.065299,
                    42.066053,
                    42.066606,
                    42.067098,
                    42.069052
                  ],
                  "lon": [
                    -71.569138,
                    -71.565057,
                    -71.564665,
                    -71.562969,
                    -71.569623,
                    -71.568176,
                    -71.56307,
                    -71.560007,
                    -71.560328,
                    -71.561395,
                    -71.570989
                  ],
                  "marker": {
                    "size": 15
                  },
                  "mode": "markers",
                  "name": "E-2.1H",
                  "text": [
                    "Sequence: 118<br> Stop ID: PM<br>Zone ID: E-2.1H<br>Num Packages: 1.0 <br> Service Time: 83.0",
                    "Sequence: 119<br> Stop ID: AL<br>Zone ID: E-2.1H<br>Num Packages: 1.0 <br> Service Time: 140.0",
                    "Sequence: 120<br> Stop ID: LI<br>Zone ID: E-2.1H<br>Num Packages: 1.0 <br> Service Time: 166.0",
                    "Sequence: 121<br> Stop ID: PH<br>Zone ID: E-2.1H<br>Num Packages: 1.0 <br> Service Time: 70.0",
                    "Sequence: 122<br> Stop ID: LZ<br>Zone ID: E-2.1H<br>Num Packages: 2.0 <br> Service Time: 59.0",
                    "Sequence: 123<br> Stop ID: RK<br>Zone ID: E-2.1H<br>Num Packages: 1.0 <br> Service Time: 92.0",
                    "Sequence: 124<br> Stop ID: IK<br>Zone ID: E-2.1H<br>Num Packages: 1.0 <br> Service Time: 60.0",
                    "Sequence: 125<br> Stop ID: MM<br>Zone ID: E-2.1H<br>Num Packages: 2.0 <br> Service Time: 80.5",
                    "Sequence: 126<br> Stop ID: ID<br>Zone ID: E-2.1H<br>Num Packages: 1.0 <br> Service Time: 105.0",
                    "Sequence: 127<br> Stop ID: OV<br>Zone ID: E-2.1H<br>Num Packages: 1.0 <br> Service Time: 90.0",
                    "Sequence: 128<br> Stop ID: XK<br>Zone ID: E-2.1H<br>Num Packages: 1.0 <br> Service Time: 80.0"
                  ],
                  "type": "scattermapbox"
                },
                {
                  "hoverinfo": "text",
                  "lat": [
                    42.098311,
                    42.100858,
                    42.09491,
                    42.094155,
                    42.09345,
                    42.0928
                  ],
                  "lon": [
                    -71.565798,
                    -71.569223,
                    -71.567879,
                    -71.567809,
                    -71.570252,
                    -71.57135
                  ],
                  "marker": {
                    "size": 15
                  },
                  "mode": "markers",
                  "name": "E-2.2H",
                  "text": [
                    "Sequence: 129<br> Stop ID: EI<br>Zone ID: E-2.2H<br>Num Packages: 1.0 <br> Service Time: 196.0",
                    "Sequence: 130<br> Stop ID: PO<br>Zone ID: E-2.2H<br>Num Packages: 2.0 <br> Service Time: 129.5",
                    "Sequence: 131<br> Stop ID: AY<br>Zone ID: E-2.2H<br>Num Packages: 1.0 <br> Service Time: 55.0",
                    "Sequence: 132<br> Stop ID: PV<br>Zone ID: E-2.2H<br>Num Packages: 2.0 <br> Service Time: 57.5",
                    "Sequence: 133<br> Stop ID: ET<br>Zone ID: E-2.2H<br>Num Packages: 1.0 <br> Service Time: 77.0",
                    "Sequence: 134<br> Stop ID: SD<br>Zone ID: E-2.2H<br>Num Packages: 1.0 <br> Service Time: 171.0"
                  ],
                  "type": "scattermapbox"
                },
                {
                  "hoverinfo": "text",
                  "lat": [
                    42.117964,
                    42.11913,
                    42.122523,
                    42.122976,
                    42.120684,
                    42.120485,
                    42.119914,
                    42.117205,
                    42.117445,
                    42.115553,
                    42.112118
                  ],
                  "lon": [
                    -71.573898,
                    -71.574056,
                    -71.574733,
                    -71.574975,
                    -71.578937,
                    -71.577536,
                    -71.575428,
                    -71.574765,
                    -71.579092,
                    -71.587857,
                    -71.597602
                  ],
                  "marker": {
                    "size": 15
                  },
                  "mode": "markers",
                  "name": "E-2.3J",
                  "text": [
                    "Sequence: 135<br> Stop ID: NT<br>Zone ID: E-2.3J<br>Num Packages: 1.0 <br> Service Time: 60.0",
                    "Sequence: 136<br> Stop ID: UV<br>Zone ID: E-2.3J<br>Num Packages: 1.0 <br> Service Time: 157.0",
                    "Sequence: 137<br> Stop ID: JN<br>Zone ID: E-2.3J<br>Num Packages: 1.0 <br> Service Time: 69.0",
                    "Sequence: 138<br> Stop ID: HV<br>Zone ID: E-2.3J<br>Num Packages: 2.0 <br> Service Time: 41.0",
                    "Sequence: 139<br> Stop ID: IO<br>Zone ID: E-2.3J<br>Num Packages: 1.0 <br> Service Time: 58.0",
                    "Sequence: 140<br> Stop ID: WC<br>Zone ID: E-2.3J<br>Num Packages: 2.0 <br> Service Time: 69.0",
                    "Sequence: 141<br> Stop ID: GG<br>Zone ID: E-2.3J<br>Num Packages: 1.0 <br> Service Time: 67.0",
                    "Sequence: 142<br> Stop ID: YW<br>Zone ID: E-2.3J<br>Num Packages: 2.0 <br> Service Time: 72.5",
                    "Sequence: 143<br> Stop ID: VA<br>Zone ID: E-2.3J<br>Num Packages: 2.0 <br> Service Time: 60.0",
                    "Sequence: 144<br> Stop ID: KZ<br>Zone ID: E-2.3J<br>Num Packages: 2.0 <br> Service Time: 74.0",
                    "Sequence: 145<br> Stop ID: UP<br>Zone ID: E-2.3J<br>Num Packages: 1.0 <br> Service Time: 106.0"
                  ],
                  "type": "scattermapbox"
                },
                {
                  "hoverinfo": "text",
                  "lat": [
                    42.140655,
                    42.149406,
                    42.150955,
                    42.150434,
                    42.152468,
                    42.153178,
                    42.148646,
                    42.148227,
                    42.147267,
                    42.145646,
                    42.148971
                  ],
                  "lon": [
                    -71.536264,
                    -71.541475,
                    -71.543177,
                    -71.543739,
                    -71.545145,
                    -71.544067,
                    -71.542931,
                    -71.542674,
                    -71.540911,
                    -71.539764,
                    -71.544248
                  ],
                  "marker": {
                    "size": 15
                  },
                  "mode": "markers",
                  "name": "E-1.2G",
                  "text": [
                    "Sequence: 151<br> Stop ID: MZ<br>Zone ID: E-1.2G<br>Num Packages: 1.0 <br> Service Time: 105.0",
                    "Sequence: 152<br> Stop ID: EE<br>Zone ID: E-1.2G<br>Num Packages: 1.0 <br> Service Time: 78.0",
                    "Sequence: 153<br> Stop ID: MD<br>Zone ID: E-1.2G<br>Num Packages: 1.0 <br> Service Time: 51.0",
                    "Sequence: 154<br> Stop ID: AR<br>Zone ID: E-1.2G<br>Num Packages: 1.0 <br> Service Time: 45.0",
                    "Sequence: 155<br> Stop ID: SN<br>Zone ID: E-1.2G<br>Num Packages: 1.0 <br> Service Time: 63.0",
                    "Sequence: 156<br> Stop ID: VB<br>Zone ID: E-1.2G<br>Num Packages: 1.0 <br> Service Time: 79.0",
                    "Sequence: 157<br> Stop ID: VJ<br>Zone ID: E-1.2G<br>Num Packages: 1.0 <br> Service Time: 112.0",
                    "Sequence: 158<br> Stop ID: YA<br>Zone ID: E-1.2G<br>Num Packages: 1.0 <br> Service Time: 101.0",
                    "Sequence: 159<br> Stop ID: KS<br>Zone ID: E-1.2G<br>Num Packages: 1.0 <br> Service Time: 47.0",
                    "Sequence: 160<br> Stop ID: PE<br>Zone ID: E-1.2G<br>Num Packages: 2.0 <br> Service Time: 21.0",
                    "Sequence: 161<br> Stop ID: GR<br>Zone ID: E-1.2G<br>Num Packages: 1.0 <br> Service Time: 98.0"
                  ],
                  "type": "scattermapbox"
                }
              ],
              "layout": {
                "height": 600,
                "mapbox": {
                  "center": {
                    "lat": 42.11689389570552,
                    "lon": -71.54875496932517
                  },
                  "style": "open-street-map",
                  "zoom": 10
                },
                "margin": {
                  "b": 10,
                  "l": 10,
                  "r": 10,
                  "t": 10
                },
                "showlegend": false,
                "template": {
                  "data": {
                    "bar": [
                      {
                        "error_x": {
                          "color": "#2a3f5f"
                        },
                        "error_y": {
                          "color": "#2a3f5f"
                        },
                        "marker": {
                          "line": {
                            "color": "#E5ECF6",
                            "width": 0.5
                          },
                          "pattern": {
                            "fillmode": "overlay",
                            "size": 10,
                            "solidity": 0.2
                          }
                        },
                        "type": "bar"
                      }
                    ],
                    "barpolar": [
                      {
                        "marker": {
                          "line": {
                            "color": "#E5ECF6",
                            "width": 0.5
                          },
                          "pattern": {
                            "fillmode": "overlay",
                            "size": 10,
                            "solidity": 0.2
                          }
                        },
                        "type": "barpolar"
                      }
                    ],
                    "carpet": [
                      {
                        "aaxis": {
                          "endlinecolor": "#2a3f5f",
                          "gridcolor": "white",
                          "linecolor": "white",
                          "minorgridcolor": "white",
                          "startlinecolor": "#2a3f5f"
                        },
                        "baxis": {
                          "endlinecolor": "#2a3f5f",
                          "gridcolor": "white",
                          "linecolor": "white",
                          "minorgridcolor": "white",
                          "startlinecolor": "#2a3f5f"
                        },
                        "type": "carpet"
                      }
                    ],
                    "choropleth": [
                      {
                        "colorbar": {
                          "outlinewidth": 0,
                          "ticks": ""
                        },
                        "type": "choropleth"
                      }
                    ],
                    "contour": [
                      {
                        "colorbar": {
                          "outlinewidth": 0,
                          "ticks": ""
                        },
                        "colorscale": [
                          [
                            0,
                            "#0d0887"
                          ],
                          [
                            0.1111111111111111,
                            "#46039f"
                          ],
                          [
                            0.2222222222222222,
                            "#7201a8"
                          ],
                          [
                            0.3333333333333333,
                            "#9c179e"
                          ],
                          [
                            0.4444444444444444,
                            "#bd3786"
                          ],
                          [
                            0.5555555555555556,
                            "#d8576b"
                          ],
                          [
                            0.6666666666666666,
                            "#ed7953"
                          ],
                          [
                            0.7777777777777778,
                            "#fb9f3a"
                          ],
                          [
                            0.8888888888888888,
                            "#fdca26"
                          ],
                          [
                            1,
                            "#f0f921"
                          ]
                        ],
                        "type": "contour"
                      }
                    ],
                    "contourcarpet": [
                      {
                        "colorbar": {
                          "outlinewidth": 0,
                          "ticks": ""
                        },
                        "type": "contourcarpet"
                      }
                    ],
                    "heatmap": [
                      {
                        "colorbar": {
                          "outlinewidth": 0,
                          "ticks": ""
                        },
                        "colorscale": [
                          [
                            0,
                            "#0d0887"
                          ],
                          [
                            0.1111111111111111,
                            "#46039f"
                          ],
                          [
                            0.2222222222222222,
                            "#7201a8"
                          ],
                          [
                            0.3333333333333333,
                            "#9c179e"
                          ],
                          [
                            0.4444444444444444,
                            "#bd3786"
                          ],
                          [
                            0.5555555555555556,
                            "#d8576b"
                          ],
                          [
                            0.6666666666666666,
                            "#ed7953"
                          ],
                          [
                            0.7777777777777778,
                            "#fb9f3a"
                          ],
                          [
                            0.8888888888888888,
                            "#fdca26"
                          ],
                          [
                            1,
                            "#f0f921"
                          ]
                        ],
                        "type": "heatmap"
                      }
                    ],
                    "heatmapgl": [
                      {
                        "colorbar": {
                          "outlinewidth": 0,
                          "ticks": ""
                        },
                        "colorscale": [
                          [
                            0,
                            "#0d0887"
                          ],
                          [
                            0.1111111111111111,
                            "#46039f"
                          ],
                          [
                            0.2222222222222222,
                            "#7201a8"
                          ],
                          [
                            0.3333333333333333,
                            "#9c179e"
                          ],
                          [
                            0.4444444444444444,
                            "#bd3786"
                          ],
                          [
                            0.5555555555555556,
                            "#d8576b"
                          ],
                          [
                            0.6666666666666666,
                            "#ed7953"
                          ],
                          [
                            0.7777777777777778,
                            "#fb9f3a"
                          ],
                          [
                            0.8888888888888888,
                            "#fdca26"
                          ],
                          [
                            1,
                            "#f0f921"
                          ]
                        ],
                        "type": "heatmapgl"
                      }
                    ],
                    "histogram": [
                      {
                        "marker": {
                          "pattern": {
                            "fillmode": "overlay",
                            "size": 10,
                            "solidity": 0.2
                          }
                        },
                        "type": "histogram"
                      }
                    ],
                    "histogram2d": [
                      {
                        "colorbar": {
                          "outlinewidth": 0,
                          "ticks": ""
                        },
                        "colorscale": [
                          [
                            0,
                            "#0d0887"
                          ],
                          [
                            0.1111111111111111,
                            "#46039f"
                          ],
                          [
                            0.2222222222222222,
                            "#7201a8"
                          ],
                          [
                            0.3333333333333333,
                            "#9c179e"
                          ],
                          [
                            0.4444444444444444,
                            "#bd3786"
                          ],
                          [
                            0.5555555555555556,
                            "#d8576b"
                          ],
                          [
                            0.6666666666666666,
                            "#ed7953"
                          ],
                          [
                            0.7777777777777778,
                            "#fb9f3a"
                          ],
                          [
                            0.8888888888888888,
                            "#fdca26"
                          ],
                          [
                            1,
                            "#f0f921"
                          ]
                        ],
                        "type": "histogram2d"
                      }
                    ],
                    "histogram2dcontour": [
                      {
                        "colorbar": {
                          "outlinewidth": 0,
                          "ticks": ""
                        },
                        "colorscale": [
                          [
                            0,
                            "#0d0887"
                          ],
                          [
                            0.1111111111111111,
                            "#46039f"
                          ],
                          [
                            0.2222222222222222,
                            "#7201a8"
                          ],
                          [
                            0.3333333333333333,
                            "#9c179e"
                          ],
                          [
                            0.4444444444444444,
                            "#bd3786"
                          ],
                          [
                            0.5555555555555556,
                            "#d8576b"
                          ],
                          [
                            0.6666666666666666,
                            "#ed7953"
                          ],
                          [
                            0.7777777777777778,
                            "#fb9f3a"
                          ],
                          [
                            0.8888888888888888,
                            "#fdca26"
                          ],
                          [
                            1,
                            "#f0f921"
                          ]
                        ],
                        "type": "histogram2dcontour"
                      }
                    ],
                    "mesh3d": [
                      {
                        "colorbar": {
                          "outlinewidth": 0,
                          "ticks": ""
                        },
                        "type": "mesh3d"
                      }
                    ],
                    "parcoords": [
                      {
                        "line": {
                          "colorbar": {
                            "outlinewidth": 0,
                            "ticks": ""
                          }
                        },
                        "type": "parcoords"
                      }
                    ],
                    "pie": [
                      {
                        "automargin": true,
                        "type": "pie"
                      }
                    ],
                    "scatter": [
                      {
                        "fillpattern": {
                          "fillmode": "overlay",
                          "size": 10,
                          "solidity": 0.2
                        },
                        "type": "scatter"
                      }
                    ],
                    "scatter3d": [
                      {
                        "line": {
                          "colorbar": {
                            "outlinewidth": 0,
                            "ticks": ""
                          }
                        },
                        "marker": {
                          "colorbar": {
                            "outlinewidth": 0,
                            "ticks": ""
                          }
                        },
                        "type": "scatter3d"
                      }
                    ],
                    "scattercarpet": [
                      {
                        "marker": {
                          "colorbar": {
                            "outlinewidth": 0,
                            "ticks": ""
                          }
                        },
                        "type": "scattercarpet"
                      }
                    ],
                    "scattergeo": [
                      {
                        "marker": {
                          "colorbar": {
                            "outlinewidth": 0,
                            "ticks": ""
                          }
                        },
                        "type": "scattergeo"
                      }
                    ],
                    "scattergl": [
                      {
                        "marker": {
                          "colorbar": {
                            "outlinewidth": 0,
                            "ticks": ""
                          }
                        },
                        "type": "scattergl"
                      }
                    ],
                    "scattermapbox": [
                      {
                        "marker": {
                          "colorbar": {
                            "outlinewidth": 0,
                            "ticks": ""
                          }
                        },
                        "type": "scattermapbox"
                      }
                    ],
                    "scatterpolar": [
                      {
                        "marker": {
                          "colorbar": {
                            "outlinewidth": 0,
                            "ticks": ""
                          }
                        },
                        "type": "scatterpolar"
                      }
                    ],
                    "scatterpolargl": [
                      {
                        "marker": {
                          "colorbar": {
                            "outlinewidth": 0,
                            "ticks": ""
                          }
                        },
                        "type": "scatterpolargl"
                      }
                    ],
                    "scatterternary": [
                      {
                        "marker": {
                          "colorbar": {
                            "outlinewidth": 0,
                            "ticks": ""
                          }
                        },
                        "type": "scatterternary"
                      }
                    ],
                    "surface": [
                      {
                        "colorbar": {
                          "outlinewidth": 0,
                          "ticks": ""
                        },
                        "colorscale": [
                          [
                            0,
                            "#0d0887"
                          ],
                          [
                            0.1111111111111111,
                            "#46039f"
                          ],
                          [
                            0.2222222222222222,
                            "#7201a8"
                          ],
                          [
                            0.3333333333333333,
                            "#9c179e"
                          ],
                          [
                            0.4444444444444444,
                            "#bd3786"
                          ],
                          [
                            0.5555555555555556,
                            "#d8576b"
                          ],
                          [
                            0.6666666666666666,
                            "#ed7953"
                          ],
                          [
                            0.7777777777777778,
                            "#fb9f3a"
                          ],
                          [
                            0.8888888888888888,
                            "#fdca26"
                          ],
                          [
                            1,
                            "#f0f921"
                          ]
                        ],
                        "type": "surface"
                      }
                    ],
                    "table": [
                      {
                        "cells": {
                          "fill": {
                            "color": "#EBF0F8"
                          },
                          "line": {
                            "color": "white"
                          }
                        },
                        "header": {
                          "fill": {
                            "color": "#C8D4E3"
                          },
                          "line": {
                            "color": "white"
                          }
                        },
                        "type": "table"
                      }
                    ]
                  },
                  "layout": {
                    "annotationdefaults": {
                      "arrowcolor": "#2a3f5f",
                      "arrowhead": 0,
                      "arrowwidth": 1
                    },
                    "autotypenumbers": "strict",
                    "coloraxis": {
                      "colorbar": {
                        "outlinewidth": 0,
                        "ticks": ""
                      }
                    },
                    "colorscale": {
                      "diverging": [
                        [
                          0,
                          "#8e0152"
                        ],
                        [
                          0.1,
                          "#c51b7d"
                        ],
                        [
                          0.2,
                          "#de77ae"
                        ],
                        [
                          0.3,
                          "#f1b6da"
                        ],
                        [
                          0.4,
                          "#fde0ef"
                        ],
                        [
                          0.5,
                          "#f7f7f7"
                        ],
                        [
                          0.6,
                          "#e6f5d0"
                        ],
                        [
                          0.7,
                          "#b8e186"
                        ],
                        [
                          0.8,
                          "#7fbc41"
                        ],
                        [
                          0.9,
                          "#4d9221"
                        ],
                        [
                          1,
                          "#276419"
                        ]
                      ],
                      "sequential": [
                        [
                          0,
                          "#0d0887"
                        ],
                        [
                          0.1111111111111111,
                          "#46039f"
                        ],
                        [
                          0.2222222222222222,
                          "#7201a8"
                        ],
                        [
                          0.3333333333333333,
                          "#9c179e"
                        ],
                        [
                          0.4444444444444444,
                          "#bd3786"
                        ],
                        [
                          0.5555555555555556,
                          "#d8576b"
                        ],
                        [
                          0.6666666666666666,
                          "#ed7953"
                        ],
                        [
                          0.7777777777777778,
                          "#fb9f3a"
                        ],
                        [
                          0.8888888888888888,
                          "#fdca26"
                        ],
                        [
                          1,
                          "#f0f921"
                        ]
                      ],
                      "sequentialminus": [
                        [
                          0,
                          "#0d0887"
                        ],
                        [
                          0.1111111111111111,
                          "#46039f"
                        ],
                        [
                          0.2222222222222222,
                          "#7201a8"
                        ],
                        [
                          0.3333333333333333,
                          "#9c179e"
                        ],
                        [
                          0.4444444444444444,
                          "#bd3786"
                        ],
                        [
                          0.5555555555555556,
                          "#d8576b"
                        ],
                        [
                          0.6666666666666666,
                          "#ed7953"
                        ],
                        [
                          0.7777777777777778,
                          "#fb9f3a"
                        ],
                        [
                          0.8888888888888888,
                          "#fdca26"
                        ],
                        [
                          1,
                          "#f0f921"
                        ]
                      ]
                    },
                    "colorway": [
                      "#636efa",
                      "#EF553B",
                      "#00cc96",
                      "#ab63fa",
                      "#FFA15A",
                      "#19d3f3",
                      "#FF6692",
                      "#B6E880",
                      "#FF97FF",
                      "#FECB52"
                    ],
                    "font": {
                      "color": "#2a3f5f"
                    },
                    "geo": {
                      "bgcolor": "white",
                      "lakecolor": "white",
                      "landcolor": "#E5ECF6",
                      "showlakes": true,
                      "showland": true,
                      "subunitcolor": "white"
                    },
                    "hoverlabel": {
                      "align": "left"
                    },
                    "hovermode": "closest",
                    "mapbox": {
                      "style": "light"
                    },
                    "paper_bgcolor": "white",
                    "plot_bgcolor": "#E5ECF6",
                    "polar": {
                      "angularaxis": {
                        "gridcolor": "white",
                        "linecolor": "white",
                        "ticks": ""
                      },
                      "bgcolor": "#E5ECF6",
                      "radialaxis": {
                        "gridcolor": "white",
                        "linecolor": "white",
                        "ticks": ""
                      }
                    },
                    "scene": {
                      "xaxis": {
                        "backgroundcolor": "#E5ECF6",
                        "gridcolor": "white",
                        "gridwidth": 2,
                        "linecolor": "white",
                        "showbackground": true,
                        "ticks": "",
                        "zerolinecolor": "white"
                      },
                      "yaxis": {
                        "backgroundcolor": "#E5ECF6",
                        "gridcolor": "white",
                        "gridwidth": 2,
                        "linecolor": "white",
                        "showbackground": true,
                        "ticks": "",
                        "zerolinecolor": "white"
                      },
                      "zaxis": {
                        "backgroundcolor": "#E5ECF6",
                        "gridcolor": "white",
                        "gridwidth": 2,
                        "linecolor": "white",
                        "showbackground": true,
                        "ticks": "",
                        "zerolinecolor": "white"
                      }
                    },
                    "shapedefaults": {
                      "line": {
                        "color": "#2a3f5f"
                      }
                    },
                    "ternary": {
                      "aaxis": {
                        "gridcolor": "white",
                        "linecolor": "white",
                        "ticks": ""
                      },
                      "baxis": {
                        "gridcolor": "white",
                        "linecolor": "white",
                        "ticks": ""
                      },
                      "bgcolor": "#E5ECF6",
                      "caxis": {
                        "gridcolor": "white",
                        "linecolor": "white",
                        "ticks": ""
                      }
                    },
                    "title": {
                      "x": 0.05
                    },
                    "xaxis": {
                      "automargin": true,
                      "gridcolor": "white",
                      "linecolor": "white",
                      "ticks": "",
                      "title": {
                        "standoff": 15
                      },
                      "zerolinecolor": "white",
                      "zerolinewidth": 2
                    },
                    "yaxis": {
                      "automargin": true,
                      "gridcolor": "white",
                      "linecolor": "white",
                      "ticks": "",
                      "title": {
                        "standoff": 15
                      },
                      "zerolinecolor": "white",
                      "zerolinewidth": 2
                    }
                  }
                }
              }
            }
          },
          "metadata": {},
          "output_type": "display_data"
        }
      ],
      "source": [
        "fig = go.Figure(go.Scattermapbox(\n",
        "    lat=drone_data_ordered['lat'],\n",
        "    lon=drone_data_ordered['lng'],\n",
        "    mode='lines',\n",
        "    line=dict(width=2, color='blue'),  # Customize line color and width here\n",
        "    hoverinfo='none'\n",
        "))\n",
        "\n",
        "# Add scatter points for each unique zone_id, with custom hover text\n",
        "for zone_id in drone_data_ordered['zone_id'].unique():\n",
        "    df_sub = drone_data_ordered[drone_data_ordered['zone_id'] == zone_id]\n",
        "\n",
        "    # Creating custom hover text\n",
        "    hover_text = df_sub.apply(lambda row: f\"Sequence: {row.name}<br> Stop ID: {row['stop_id']}<br>Zone ID: {row['zone_id']}<br>Num Packages: {row['num_packages']} <br> Service Time: {row['service_time_seconds']}\", axis=1)\n",
        "\n",
        "\n",
        "    fig.add_trace(go.Scattermapbox(\n",
        "        lat=df_sub['lat'],\n",
        "        lon=df_sub['lng'],\n",
        "        mode='markers',\n",
        "        marker=go.scattermapbox.Marker(size=15),\n",
        "        name=str(zone_id),\n",
        "        text=hover_text,\n",
        "        hoverinfo='text'\n",
        "    ))\n",
        "\n",
        "# Update the layout to use OpenStreetMap style and adjust other layout properties\n",
        "fig.update_layout(\n",
        "\n",
        "    height=600,\n",
        "    mapbox=dict(\n",
        "        style=\"open-street-map\",\n",
        "        zoom=10,  # Adjust zoom level here\n",
        "        center=dict(lat=drone_data_ordered['lat'].mean(), lon=drone_data_ordered['lng'].mean())\n",
        "    ),\n",
        "    showlegend=False  # Set to True if you want to show legend\n",
        ")\n",
        "fig.update_layout(margin=dict(l=10, r=10, t=10, b=10))\n",
        "\n",
        "\n",
        "# Show the figure\n",
        "fig.show()"
      ]
    },
    {
      "cell_type": "code",
      "execution_count": 73,
      "metadata": {},
      "outputs": [
        {
          "data": {
            "application/vnd.plotly.v1+json": {
              "config": {
                "plotlyServerURL": "https://plot.ly"
              },
              "data": [
                {
                  "hoverinfo": "none",
                  "lat": [
                    42.139891,
                    42.139089,
                    42.138518,
                    42.138304,
                    42.138168,
                    42.138013,
                    42.138592,
                    42.139661,
                    42.141271,
                    42.141481,
                    42.142625,
                    42.140573,
                    42.142932,
                    42.143604,
                    42.141526,
                    42.143284,
                    42.13807,
                    42.136668,
                    42.136174,
                    42.139035,
                    42.138027,
                    42.138476,
                    42.137425,
                    42.138349,
                    42.139095,
                    42.140455,
                    42.141612,
                    42.140229,
                    42.139733,
                    42.139294,
                    42.137706,
                    42.136912,
                    42.136227,
                    42.136319,
                    42.133937,
                    42.13382,
                    42.132317,
                    42.131921,
                    42.131869,
                    42.131323,
                    42.131486,
                    42.131001,
                    42.129566,
                    42.128268,
                    42.127848,
                    42.125992,
                    42.125514,
                    42.129766,
                    42.124032,
                    42.124038,
                    42.124369,
                    42.125778,
                    42.12044,
                    42.117772,
                    42.120766,
                    42.120975,
                    42.11705,
                    42.121051,
                    42.120341,
                    42.120591,
                    42.124123,
                    42.127365,
                    42.128388,
                    42.129426,
                    42.130843,
                    42.131783,
                    42.129839,
                    42.135489,
                    42.131202,
                    42.126641,
                    42.125951,
                    42.12566,
                    42.128049,
                    42.1282,
                    42.125649,
                    42.116133,
                    42.110929,
                    42.110252,
                    42.108828,
                    42.110475,
                    42.102702,
                    42.101216,
                    42.101589,
                    42.101403,
                    42.101185,
                    42.100946,
                    42.105719,
                    42.106275,
                    42.09994,
                    42.098301,
                    42.091701,
                    42.093273,
                    42.096478,
                    42.097525,
                    42.097741,
                    42.089222,
                    42.089052,
                    42.08848,
                    42.087781,
                    42.087774,
                    42.085539,
                    42.083353,
                    42.082898,
                    42.081163,
                    42.08066,
                    42.080541,
                    42.088684,
                    42.08376,
                    42.084195,
                    42.082837,
                    42.080895,
                    42.08229,
                    42.088175,
                    42.089674,
                    42.086827,
                    42.07244,
                    42.071516,
                    42.07397,
                    42.08234,
                    42.084637,
                    42.086276,
                    42.091579,
                    42.071217,
                    42.068769,
                    42.065299,
                    42.066053,
                    42.066606,
                    42.067098,
                    42.069052,
                    42.098311,
                    42.100858,
                    42.09491,
                    42.094155,
                    42.09345,
                    42.0928,
                    42.117964,
                    42.11913,
                    42.122523,
                    42.122976,
                    42.120684,
                    42.120485,
                    42.119914,
                    42.117205,
                    42.117445,
                    42.115553,
                    42.112118,
                    42.131043,
                    42.13004,
                    42.130505,
                    42.13111,
                    42.133742,
                    42.140655,
                    42.149406,
                    42.150955,
                    42.150434,
                    42.152468,
                    42.153178,
                    42.148646,
                    42.148227,
                    42.147267,
                    42.145646,
                    42.148971,
                    42.139891
                  ],
                  "line": {
                    "color": "red",
                    "width": 2
                  },
                  "lon": [
                    -71.494346,
                    -71.524434,
                    -71.525506,
                    -71.525361,
                    -71.529156,
                    -71.530182,
                    -71.53235,
                    -71.529452,
                    -71.528049,
                    -71.528133,
                    -71.529995,
                    -71.531935,
                    -71.533622,
                    -71.534119,
                    -71.534137,
                    -71.531322,
                    -71.533233,
                    -71.53178,
                    -71.531294,
                    -71.536231,
                    -71.539181,
                    -71.540799,
                    -71.54024,
                    -71.54241,
                    -71.542843,
                    -71.543684,
                    -71.545708,
                    -71.546878,
                    -71.547296,
                    -71.546923,
                    -71.545586,
                    -71.544912,
                    -71.544317,
                    -71.542944,
                    -71.542708,
                    -71.54095,
                    -71.539959,
                    -71.540795,
                    -71.539325,
                    -71.538877,
                    -71.539641,
                    -71.538114,
                    -71.540988,
                    -71.53879,
                    -71.538338,
                    -71.536422,
                    -71.535994,
                    -71.536633,
                    -71.540927,
                    -71.544102,
                    -71.545108,
                    -71.546615,
                    -71.542705,
                    -71.544013,
                    -71.543204,
                    -71.544163,
                    -71.547049,
                    -71.545773,
                    -71.549171,
                    -71.551675,
                    -71.550611,
                    -71.551967,
                    -71.55112,
                    -71.553551,
                    -71.55611,
                    -71.552378,
                    -71.556861,
                    -71.561803,
                    -71.571969,
                    -71.571935,
                    -71.572483,
                    -71.57254,
                    -71.578627,
                    -71.578917,
                    -71.568811,
                    -71.566586,
                    -71.556253,
                    -71.555689,
                    -71.562421,
                    -71.56499,
                    -71.553805,
                    -71.555481,
                    -71.556043,
                    -71.556447,
                    -71.551259,
                    -71.551314,
                    -71.544234,
                    -71.540355,
                    -71.541582,
                    -71.540291,
                    -71.529757,
                    -71.522541,
                    -71.525742,
                    -71.526315,
                    -71.528215,
                    -71.533181,
                    -71.533044,
                    -71.5326,
                    -71.534642,
                    -71.534656,
                    -71.545158,
                    -71.547355,
                    -71.54777,
                    -71.548001,
                    -71.549721,
                    -71.551435,
                    -71.545654,
                    -71.551694,
                    -71.55201,
                    -71.555256,
                    -71.556956,
                    -71.559,
                    -71.554347,
                    -71.55466,
                    -71.55235,
                    -71.553688,
                    -71.55374,
                    -71.551047,
                    -71.569138,
                    -71.565057,
                    -71.564665,
                    -71.562969,
                    -71.569623,
                    -71.568176,
                    -71.56307,
                    -71.560007,
                    -71.560328,
                    -71.561395,
                    -71.570989,
                    -71.565798,
                    -71.569223,
                    -71.567879,
                    -71.567809,
                    -71.570252,
                    -71.57135,
                    -71.573898,
                    -71.574056,
                    -71.574733,
                    -71.574975,
                    -71.578937,
                    -71.577536,
                    -71.575428,
                    -71.574765,
                    -71.579092,
                    -71.587857,
                    -71.597602,
                    -71.547647,
                    -71.547106,
                    -71.546481,
                    -71.546931,
                    -71.546182,
                    -71.536264,
                    -71.541475,
                    -71.543177,
                    -71.543739,
                    -71.545145,
                    -71.544067,
                    -71.542931,
                    -71.542674,
                    -71.540911,
                    -71.539764,
                    -71.544248,
                    -71.494346
                  ],
                  "mode": "lines",
                  "name": "Drone Path",
                  "type": "scattermapbox"
                },
                {
                  "hoverinfo": "text",
                  "lat": [],
                  "lon": [],
                  "marker": {
                    "size": 15
                  },
                  "mode": "markers",
                  "name": "Drone Zone nan",
                  "text": [],
                  "type": "scattermapbox"
                },
                {
                  "hoverinfo": "text",
                  "lat": [
                    42.139089,
                    42.138518,
                    42.138304,
                    42.138168,
                    42.138013,
                    42.138592,
                    42.139661,
                    42.141271,
                    42.141481,
                    42.142625
                  ],
                  "lon": [
                    -71.524434,
                    -71.525506,
                    -71.525361,
                    -71.529156,
                    -71.530182,
                    -71.53235,
                    -71.529452,
                    -71.528049,
                    -71.528133,
                    -71.529995
                  ],
                  "marker": {
                    "size": 15
                  },
                  "mode": "markers",
                  "name": "Drone Zone E-1.1H",
                  "text": [
                    "Sequence: 1<br> Stop ID: VU<br>Zone ID: E-1.1H<br>Num Packages: 1.0 <br> Service Time: 111.0",
                    "Sequence: 2<br> Stop ID: ZP<br>Zone ID: E-1.1H<br>Num Packages: 2.0 <br> Service Time: 90.5",
                    "Sequence: 3<br> Stop ID: KH<br>Zone ID: E-1.1H<br>Num Packages: 1.0 <br> Service Time: 71.0",
                    "Sequence: 4<br> Stop ID: WW<br>Zone ID: E-1.1H<br>Num Packages: 2.0 <br> Service Time: 73.0",
                    "Sequence: 5<br> Stop ID: QC<br>Zone ID: E-1.1H<br>Num Packages: 2.0 <br> Service Time: 146.0",
                    "Sequence: 6<br> Stop ID: JE<br>Zone ID: E-1.1H<br>Num Packages: 1.0 <br> Service Time: 104.0",
                    "Sequence: 7<br> Stop ID: FS<br>Zone ID: E-1.1H<br>Num Packages: 2.0 <br> Service Time: 108.0",
                    "Sequence: 8<br> Stop ID: BJ<br>Zone ID: E-1.1H<br>Num Packages: 1.0 <br> Service Time: 62.0",
                    "Sequence: 9<br> Stop ID: IQ<br>Zone ID: E-1.1H<br>Num Packages: 1.0 <br> Service Time: 42.0",
                    "Sequence: 10<br> Stop ID: FV<br>Zone ID: E-1.1H<br>Num Packages: 1.0 <br> Service Time: 78.0"
                  ],
                  "type": "scattermapbox"
                },
                {
                  "hoverinfo": "text",
                  "lat": [
                    42.140573,
                    42.142932,
                    42.143604,
                    42.141526,
                    42.143284,
                    42.13807
                  ],
                  "lon": [
                    -71.531935,
                    -71.533622,
                    -71.534119,
                    -71.534137,
                    -71.531322,
                    -71.533233
                  ],
                  "marker": {
                    "size": 15
                  },
                  "mode": "markers",
                  "name": "Drone Zone E-1.1G",
                  "text": [
                    "Sequence: 11<br> Stop ID: XO<br>Zone ID: E-1.1G<br>Num Packages: 1.0 <br> Service Time: 32.0",
                    "Sequence: 12<br> Stop ID: MX<br>Zone ID: E-1.1G<br>Num Packages: 1.0 <br> Service Time: 52.0",
                    "Sequence: 13<br> Stop ID: CF<br>Zone ID: E-1.1G<br>Num Packages: 1.0 <br> Service Time: 250.0",
                    "Sequence: 14<br> Stop ID: YV<br>Zone ID: E-1.1G<br>Num Packages: 1.0 <br> Service Time: 50.0",
                    "Sequence: 15<br> Stop ID: CY<br>Zone ID: E-1.1G<br>Num Packages: 1.0 <br> Service Time: 87.0",
                    "Sequence: 16<br> Stop ID: JQ<br>Zone ID: E-1.1G<br>Num Packages: 1.0 <br> Service Time: 370.0"
                  ],
                  "type": "scattermapbox"
                },
                {
                  "hoverinfo": "text",
                  "lat": [
                    42.136668,
                    42.136174,
                    42.139035,
                    42.138027,
                    42.138476,
                    42.137425,
                    42.138349,
                    42.139095,
                    42.140455,
                    42.141612
                  ],
                  "lon": [
                    -71.53178,
                    -71.531294,
                    -71.536231,
                    -71.539181,
                    -71.540799,
                    -71.54024,
                    -71.54241,
                    -71.542843,
                    -71.543684,
                    -71.545708
                  ],
                  "marker": {
                    "size": 15
                  },
                  "mode": "markers",
                  "name": "Drone Zone E-1.2H",
                  "text": [
                    "Sequence: 17<br> Stop ID: DZ<br>Zone ID: E-1.2H<br>Num Packages: 1.0 <br> Service Time: 102.0",
                    "Sequence: 18<br> Stop ID: CN<br>Zone ID: E-1.2H<br>Num Packages: 2.0 <br> Service Time: 64.0",
                    "Sequence: 19<br> Stop ID: VM<br>Zone ID: E-1.2H<br>Num Packages: 1.0 <br> Service Time: 221.0",
                    "Sequence: 20<br> Stop ID: XG<br>Zone ID: E-1.2H<br>Num Packages: 3.0 <br> Service Time: 60.0",
                    "Sequence: 21<br> Stop ID: DX<br>Zone ID: E-1.2H<br>Num Packages: 1.0 <br> Service Time: 83.0",
                    "Sequence: 22<br> Stop ID: BE<br>Zone ID: E-1.2H<br>Num Packages: 2.0 <br> Service Time: 72.5",
                    "Sequence: 23<br> Stop ID: AG<br>Zone ID: E-1.2H<br>Num Packages: 2.0 <br> Service Time: 62.5",
                    "Sequence: 24<br> Stop ID: KY<br>Zone ID: E-1.2H<br>Num Packages: 1.0 <br> Service Time: 98.0",
                    "Sequence: 25<br> Stop ID: KR<br>Zone ID: E-1.2H<br>Num Packages: 1.0 <br> Service Time: 52.0",
                    "Sequence: 26<br> Stop ID: BX<br>Zone ID: E-1.2H<br>Num Packages: 1.0 <br> Service Time: 65.0"
                  ],
                  "type": "scattermapbox"
                },
                {
                  "hoverinfo": "text",
                  "lat": [
                    42.140229,
                    42.139733,
                    42.139294,
                    42.137706,
                    42.136912,
                    42.136227,
                    42.136319
                  ],
                  "lon": [
                    -71.546878,
                    -71.547296,
                    -71.546923,
                    -71.545586,
                    -71.544912,
                    -71.544317,
                    -71.542944
                  ],
                  "marker": {
                    "size": 15
                  },
                  "mode": "markers",
                  "name": "Drone Zone E-1.3H",
                  "text": [
                    "Sequence: 27<br> Stop ID: IE<br>Zone ID: E-1.3H<br>Num Packages: 2.0 <br> Service Time: 99.0",
                    "Sequence: 28<br> Stop ID: YH<br>Zone ID: E-1.3H<br>Num Packages: 1.0 <br> Service Time: 111.0",
                    "Sequence: 29<br> Stop ID: BP<br>Zone ID: E-1.3H<br>Num Packages: 1.0 <br> Service Time: 80.0",
                    "Sequence: 30<br> Stop ID: LL<br>Zone ID: E-1.3H<br>Num Packages: 1.0 <br> Service Time: 58.0",
                    "Sequence: 31<br> Stop ID: TR<br>Zone ID: E-1.3H<br>Num Packages: 1.0 <br> Service Time: 135.0",
                    "Sequence: 32<br> Stop ID: PB<br>Zone ID: E-1.3H<br>Num Packages: 1.0 <br> Service Time: 84.0",
                    "Sequence: 33<br> Stop ID: XQ<br>Zone ID: E-1.3H<br>Num Packages: 1.0 <br> Service Time: 107.0"
                  ],
                  "type": "scattermapbox"
                },
                {
                  "hoverinfo": "text",
                  "lat": [
                    42.133937,
                    42.131043,
                    42.13004,
                    42.130505,
                    42.13111,
                    42.133742
                  ],
                  "lon": [
                    -71.542708,
                    -71.547647,
                    -71.547106,
                    -71.546481,
                    -71.546931,
                    -71.546182
                  ],
                  "marker": {
                    "size": 15
                  },
                  "mode": "markers",
                  "name": "Drone Zone E-1.3J",
                  "text": [
                    "Sequence: 34<br> Stop ID: UW<br>Zone ID: E-1.3J<br>Num Packages: 1.0 <br> Service Time: 78.0",
                    "Sequence: 146<br> Stop ID: AZ<br>Zone ID: E-1.3J<br>Num Packages: 2.0 <br> Service Time: 68.5",
                    "Sequence: 147<br> Stop ID: OU<br>Zone ID: E-1.3J<br>Num Packages: 1.0 <br> Service Time: 76.0",
                    "Sequence: 148<br> Stop ID: II<br>Zone ID: E-1.3J<br>Num Packages: 1.0 <br> Service Time: 46.0",
                    "Sequence: 149<br> Stop ID: ZL<br>Zone ID: E-1.3J<br>Num Packages: 1.0 <br> Service Time: 172.0",
                    "Sequence: 150<br> Stop ID: CE<br>Zone ID: E-1.3J<br>Num Packages: 1.0 <br> Service Time: 71.0"
                  ],
                  "type": "scattermapbox"
                },
                {
                  "hoverinfo": "text",
                  "lat": [
                    42.13382,
                    42.132317,
                    42.131921,
                    42.131869,
                    42.131323,
                    42.131486,
                    42.131001,
                    42.129566,
                    42.128268,
                    42.127848,
                    42.125992,
                    42.125514,
                    42.129766
                  ],
                  "lon": [
                    -71.54095,
                    -71.539959,
                    -71.540795,
                    -71.539325,
                    -71.538877,
                    -71.539641,
                    -71.538114,
                    -71.540988,
                    -71.53879,
                    -71.538338,
                    -71.536422,
                    -71.535994,
                    -71.536633
                  ],
                  "marker": {
                    "size": 15
                  },
                  "mode": "markers",
                  "name": "Drone Zone E-1.2J",
                  "text": [
                    "Sequence: 35<br> Stop ID: LG<br>Zone ID: E-1.2J<br>Num Packages: 1.0 <br> Service Time: 146.0",
                    "Sequence: 36<br> Stop ID: PQ<br>Zone ID: E-1.2J<br>Num Packages: 1.0 <br> Service Time: 82.0",
                    "Sequence: 37<br> Stop ID: HO<br>Zone ID: E-1.2J<br>Num Packages: 1.0 <br> Service Time: 314.0",
                    "Sequence: 38<br> Stop ID: FQ<br>Zone ID: E-1.2J<br>Num Packages: 1.0 <br> Service Time: 71.0",
                    "Sequence: 39<br> Stop ID: WV<br>Zone ID: E-1.2J<br>Num Packages: 1.0 <br> Service Time: 45.0",
                    "Sequence: 40<br> Stop ID: WR<br>Zone ID: E-1.2J<br>Num Packages: 1.0 <br> Service Time: 49.0",
                    "Sequence: 41<br> Stop ID: AC<br>Zone ID: E-1.2J<br>Num Packages: 1.0 <br> Service Time: 65.0",
                    "Sequence: 42<br> Stop ID: DL<br>Zone ID: E-1.2J<br>Num Packages: 1.0 <br> Service Time: 206.0",
                    "Sequence: 43<br> Stop ID: BT<br>Zone ID: E-1.2J<br>Num Packages: 1.0 <br> Service Time: 104.0",
                    "Sequence: 44<br> Stop ID: GQ<br>Zone ID: E-1.2J<br>Num Packages: 1.0 <br> Service Time: 87.0",
                    "Sequence: 45<br> Stop ID: BN<br>Zone ID: E-1.2J<br>Num Packages: 1.0 <br> Service Time: 118.0",
                    "Sequence: 46<br> Stop ID: UY<br>Zone ID: E-1.2J<br>Num Packages: 1.0 <br> Service Time: 100.0",
                    "Sequence: 47<br> Stop ID: NY<br>Zone ID: E-1.2J<br>Num Packages: 2.0 <br> Service Time: 48.5"
                  ],
                  "type": "scattermapbox"
                },
                {
                  "hoverinfo": "text",
                  "lat": [
                    42.124032,
                    42.124038,
                    42.124369,
                    42.125778,
                    42.12044,
                    42.117772,
                    42.120766,
                    42.120975,
                    42.11705
                  ],
                  "lon": [
                    -71.540927,
                    -71.544102,
                    -71.545108,
                    -71.546615,
                    -71.542705,
                    -71.544013,
                    -71.543204,
                    -71.544163,
                    -71.547049
                  ],
                  "marker": {
                    "size": 15
                  },
                  "mode": "markers",
                  "name": "Drone Zone E-1.1J",
                  "text": [
                    "Sequence: 48<br> Stop ID: SE<br>Zone ID: E-1.1J<br>Num Packages: 1.0 <br> Service Time: 50.0",
                    "Sequence: 49<br> Stop ID: YG<br>Zone ID: E-1.1J<br>Num Packages: 2.0 <br> Service Time: 38.5",
                    "Sequence: 50<br> Stop ID: CW<br>Zone ID: E-1.1J<br>Num Packages: 1.0 <br> Service Time: 73.0",
                    "Sequence: 51<br> Stop ID: UE<br>Zone ID: E-1.1J<br>Num Packages: 1.0 <br> Service Time: 56.0",
                    "Sequence: 52<br> Stop ID: FT<br>Zone ID: E-1.1J<br>Num Packages: 1.0 <br> Service Time: 105.0",
                    "Sequence: 53<br> Stop ID: FI<br>Zone ID: E-1.1J<br>Num Packages: 1.0 <br> Service Time: 65.0",
                    "Sequence: 54<br> Stop ID: US<br>Zone ID: E-1.1J<br>Num Packages: 1.0 <br> Service Time: 312.0",
                    "Sequence: 55<br> Stop ID: DN<br>Zone ID: E-1.1J<br>Num Packages: 2.0 <br> Service Time: 59.0",
                    "Sequence: 56<br> Stop ID: CX<br>Zone ID: E-1.1J<br>Num Packages: 1.0 <br> Service Time: 162.0"
                  ],
                  "type": "scattermapbox"
                },
                {
                  "hoverinfo": "text",
                  "lat": [
                    42.121051,
                    42.120341,
                    42.120591,
                    42.124123,
                    42.127365,
                    42.128388,
                    42.129426,
                    42.130843,
                    42.131783
                  ],
                  "lon": [
                    -71.545773,
                    -71.549171,
                    -71.551675,
                    -71.550611,
                    -71.551967,
                    -71.55112,
                    -71.553551,
                    -71.55611,
                    -71.552378
                  ],
                  "marker": {
                    "size": 15
                  },
                  "mode": "markers",
                  "name": "Drone Zone E-2.1J",
                  "text": [
                    "Sequence: 57<br> Stop ID: TL<br>Zone ID: E-2.1J<br>Num Packages: 3.0 <br> Service Time: 74.7",
                    "Sequence: 58<br> Stop ID: SU<br>Zone ID: E-2.1J<br>Num Packages: 1.0 <br> Service Time: 134.0",
                    "Sequence: 59<br> Stop ID: JL<br>Zone ID: E-2.1J<br>Num Packages: 1.0 <br> Service Time: 136.0",
                    "Sequence: 60<br> Stop ID: UI<br>Zone ID: E-2.1J<br>Num Packages: 2.0 <br> Service Time: 76.0",
                    "Sequence: 61<br> Stop ID: NL<br>Zone ID: E-2.1J<br>Num Packages: 1.0 <br> Service Time: 67.0",
                    "Sequence: 62<br> Stop ID: BZ<br>Zone ID: E-2.1J<br>Num Packages: 1.0 <br> Service Time: 81.0",
                    "Sequence: 63<br> Stop ID: ZX<br>Zone ID: E-2.1J<br>Num Packages: 1.0 <br> Service Time: 71.0",
                    "Sequence: 64<br> Stop ID: YR<br>Zone ID: E-2.1J<br>Num Packages: 2.0 <br> Service Time: 51.5",
                    "Sequence: 65<br> Stop ID: DI<br>Zone ID: E-2.1J<br>Num Packages: 1.0 <br> Service Time: 56.0"
                  ],
                  "type": "scattermapbox"
                },
                {
                  "hoverinfo": "text",
                  "lat": [
                    42.129839,
                    42.135489,
                    42.131202,
                    42.126641,
                    42.125951,
                    42.12566,
                    42.128049,
                    42.1282
                  ],
                  "lon": [
                    -71.556861,
                    -71.561803,
                    -71.571969,
                    -71.571935,
                    -71.572483,
                    -71.57254,
                    -71.578627,
                    -71.578917
                  ],
                  "marker": {
                    "size": 15
                  },
                  "mode": "markers",
                  "name": "Drone Zone E-2.2J",
                  "text": [
                    "Sequence: 66<br> Stop ID: ZV<br>Zone ID: E-2.2J<br>Num Packages: 1.0 <br> Service Time: 172.0",
                    "Sequence: 67<br> Stop ID: UJ<br>Zone ID: E-2.2J<br>Num Packages: 1.0 <br> Service Time: 99.0",
                    "Sequence: 68<br> Stop ID: WM<br>Zone ID: E-2.2J<br>Num Packages: 1.0 <br> Service Time: 172.0",
                    "Sequence: 69<br> Stop ID: NG<br>Zone ID: E-2.2J<br>Num Packages: 1.0 <br> Service Time: 68.0",
                    "Sequence: 70<br> Stop ID: ST<br>Zone ID: E-2.2J<br>Num Packages: 1.0 <br> Service Time: 146.0",
                    "Sequence: 71<br> Stop ID: CU<br>Zone ID: E-2.2J<br>Num Packages: 1.0 <br> Service Time: 59.0",
                    "Sequence: 72<br> Stop ID: AP<br>Zone ID: E-2.2J<br>Num Packages: 1.0 <br> Service Time: 100.0",
                    "Sequence: 73<br> Stop ID: KL<br>Zone ID: E-2.2J<br>Num Packages: 1.0 <br> Service Time: 96.0"
                  ],
                  "type": "scattermapbox"
                },
                {
                  "hoverinfo": "text",
                  "lat": [
                    42.125649,
                    42.116133,
                    42.110929,
                    42.110252,
                    42.108828,
                    42.110475,
                    42.102702,
                    42.101216,
                    42.101589,
                    42.101403
                  ],
                  "lon": [
                    -71.568811,
                    -71.566586,
                    -71.556253,
                    -71.555689,
                    -71.562421,
                    -71.56499,
                    -71.553805,
                    -71.555481,
                    -71.556043,
                    -71.556447
                  ],
                  "marker": {
                    "size": 15
                  },
                  "mode": "markers",
                  "name": "Drone Zone E-2.3H",
                  "text": [
                    "Sequence: 74<br> Stop ID: OJ<br>Zone ID: E-2.3H<br>Num Packages: 1.0 <br> Service Time: 103.0",
                    "Sequence: 75<br> Stop ID: ZG<br>Zone ID: E-2.3H<br>Num Packages: 2.0 <br> Service Time: 98.0",
                    "Sequence: 76<br> Stop ID: TO<br>Zone ID: E-2.3H<br>Num Packages: 1.0 <br> Service Time: 93.0",
                    "Sequence: 77<br> Stop ID: AD<br>Zone ID: E-2.3H<br>Num Packages: 1.0 <br> Service Time: 75.0",
                    "Sequence: 78<br> Stop ID: GE<br>Zone ID: E-2.3H<br>Num Packages: 1.0 <br> Service Time: 100.0",
                    "Sequence: 79<br> Stop ID: EY<br>Zone ID: E-2.3H<br>Num Packages: 1.0 <br> Service Time: 79.0",
                    "Sequence: 80<br> Stop ID: OM<br>Zone ID: E-2.3H<br>Num Packages: 1.0 <br> Service Time: 31.0",
                    "Sequence: 81<br> Stop ID: SR<br>Zone ID: E-2.3H<br>Num Packages: 1.0 <br> Service Time: 82.0",
                    "Sequence: 82<br> Stop ID: XU<br>Zone ID: E-2.3H<br>Num Packages: 1.0 <br> Service Time: 105.0",
                    "Sequence: 83<br> Stop ID: JU<br>Zone ID: E-2.3H<br>Num Packages: 1.0 <br> Service Time: 57.0"
                  ],
                  "type": "scattermapbox"
                },
                {
                  "hoverinfo": "text",
                  "lat": [
                    42.101185,
                    42.100946,
                    42.08376,
                    42.084195,
                    42.082837,
                    42.080895,
                    42.08229,
                    42.088175,
                    42.089674,
                    42.086827,
                    42.07244,
                    42.071516,
                    42.07397
                  ],
                  "lon": [
                    -71.551259,
                    -71.551314,
                    -71.551694,
                    -71.55201,
                    -71.555256,
                    -71.556956,
                    -71.559,
                    -71.554347,
                    -71.55466,
                    -71.55235,
                    -71.553688,
                    -71.55374,
                    -71.551047
                  ],
                  "marker": {
                    "size": 15
                  },
                  "mode": "markers",
                  "name": "Drone Zone E-2.1G",
                  "text": [
                    "Sequence: 84<br> Stop ID: NB<br>Zone ID: E-2.1G<br>Num Packages: 1.0 <br> Service Time: 76.0",
                    "Sequence: 85<br> Stop ID: TJ<br>Zone ID: E-2.1G<br>Num Packages: 1.0 <br> Service Time: 78.0",
                    "Sequence: 107<br> Stop ID: JZ<br>Zone ID: E-2.1G<br>Num Packages: 1.0 <br> Service Time: 175.0",
                    "Sequence: 108<br> Stop ID: PU<br>Zone ID: E-2.1G<br>Num Packages: 2.0 <br> Service Time: 71.5",
                    "Sequence: 109<br> Stop ID: KX<br>Zone ID: E-2.1G<br>Num Packages: 1.0 <br> Service Time: 113.0",
                    "Sequence: 110<br> Stop ID: ZO<br>Zone ID: E-2.1G<br>Num Packages: 1.0 <br> Service Time: 148.0",
                    "Sequence: 111<br> Stop ID: FL<br>Zone ID: E-2.1G<br>Num Packages: 1.0 <br> Service Time: 121.0",
                    "Sequence: 112<br> Stop ID: ND<br>Zone ID: E-2.1G<br>Num Packages: 1.0 <br> Service Time: 142.0",
                    "Sequence: 113<br> Stop ID: NW<br>Zone ID: E-2.1G<br>Num Packages: 1.0 <br> Service Time: 102.0",
                    "Sequence: 114<br> Stop ID: QO<br>Zone ID: E-2.1G<br>Num Packages: 1.0 <br> Service Time: 82.0",
                    "Sequence: 115<br> Stop ID: OE<br>Zone ID: E-2.1G<br>Num Packages: 2.0 <br> Service Time: 79.0",
                    "Sequence: 116<br> Stop ID: NH<br>Zone ID: E-2.1G<br>Num Packages: 1.0 <br> Service Time: 74.0",
                    "Sequence: 117<br> Stop ID: SM<br>Zone ID: E-2.1G<br>Num Packages: 1.0 <br> Service Time: 71.0"
                  ],
                  "type": "scattermapbox"
                },
                {
                  "hoverinfo": "text",
                  "lat": [
                    42.105719,
                    42.106275,
                    42.09994,
                    42.098301,
                    42.091701,
                    42.093273,
                    42.096478,
                    42.097525,
                    42.097741,
                    42.089222,
                    42.089052,
                    42.08848,
                    42.087781,
                    42.087774
                  ],
                  "lon": [
                    -71.544234,
                    -71.540355,
                    -71.541582,
                    -71.540291,
                    -71.529757,
                    -71.522541,
                    -71.525742,
                    -71.526315,
                    -71.528215,
                    -71.533181,
                    -71.533044,
                    -71.5326,
                    -71.534642,
                    -71.534656
                  ],
                  "marker": {
                    "size": 15
                  },
                  "mode": "markers",
                  "name": "Drone Zone E-2.3G",
                  "text": [
                    "Sequence: 86<br> Stop ID: QZ<br>Zone ID: E-2.3G<br>Num Packages: 1.0 <br> Service Time: 45.0",
                    "Sequence: 87<br> Stop ID: SZ<br>Zone ID: E-2.3G<br>Num Packages: 2.0 <br> Service Time: 33.5",
                    "Sequence: 88<br> Stop ID: TP<br>Zone ID: E-2.3G<br>Num Packages: 1.0 <br> Service Time: 66.0",
                    "Sequence: 89<br> Stop ID: VT<br>Zone ID: E-2.3G<br>Num Packages: 1.0 <br> Service Time: 101.0",
                    "Sequence: 90<br> Stop ID: IC<br>Zone ID: E-2.3G<br>Num Packages: 1.0 <br> Service Time: 86.0",
                    "Sequence: 91<br> Stop ID: QU<br>Zone ID: E-2.3G<br>Num Packages: 1.0 <br> Service Time: 63.0",
                    "Sequence: 92<br> Stop ID: YE<br>Zone ID: E-2.3G<br>Num Packages: 1.0 <br> Service Time: 45.0",
                    "Sequence: 93<br> Stop ID: OC<br>Zone ID: E-2.3G<br>Num Packages: 1.0 <br> Service Time: 81.0",
                    "Sequence: 94<br> Stop ID: ML<br>Zone ID: E-2.3G<br>Num Packages: 2.0 <br> Service Time: 48.0",
                    "Sequence: 95<br> Stop ID: XB<br>Zone ID: E-2.3G<br>Num Packages: 1.0 <br> Service Time: 81.0",
                    "Sequence: 96<br> Stop ID: JD<br>Zone ID: E-2.3G<br>Num Packages: 3.0 <br> Service Time: 78.7",
                    "Sequence: 97<br> Stop ID: ZA<br>Zone ID: E-2.3G<br>Num Packages: 1.0 <br> Service Time: 172.0",
                    "Sequence: 98<br> Stop ID: CA<br>Zone ID: E-2.3G<br>Num Packages: 1.0 <br> Service Time: 92.0",
                    "Sequence: 99<br> Stop ID: IB<br>Zone ID: E-2.3G<br>Num Packages: 1.0 <br> Service Time: 170.0"
                  ],
                  "type": "scattermapbox"
                },
                {
                  "hoverinfo": "text",
                  "lat": [
                    42.085539,
                    42.083353,
                    42.082898,
                    42.081163,
                    42.08066,
                    42.080541,
                    42.088684
                  ],
                  "lon": [
                    -71.545158,
                    -71.547355,
                    -71.54777,
                    -71.548001,
                    -71.549721,
                    -71.551435,
                    -71.545654
                  ],
                  "marker": {
                    "size": 15
                  },
                  "mode": "markers",
                  "name": "Drone Zone E-2.2G",
                  "text": [
                    "Sequence: 100<br> Stop ID: FE<br>Zone ID: E-2.2G<br>Num Packages: 1.0 <br> Service Time: 73.0",
                    "Sequence: 101<br> Stop ID: OD<br>Zone ID: E-2.2G<br>Num Packages: 2.0 <br> Service Time: 43.5",
                    "Sequence: 102<br> Stop ID: PX<br>Zone ID: E-2.2G<br>Num Packages: 4.0 <br> Service Time: 51.0",
                    "Sequence: 103<br> Stop ID: GM<br>Zone ID: E-2.2G<br>Num Packages: 1.0 <br> Service Time: 92.0",
                    "Sequence: 104<br> Stop ID: SG<br>Zone ID: E-2.2G<br>Num Packages: 1.0 <br> Service Time: 77.0",
                    "Sequence: 105<br> Stop ID: IF<br>Zone ID: E-2.2G<br>Num Packages: 2.0 <br> Service Time: 56.0",
                    "Sequence: 106<br> Stop ID: MN<br>Zone ID: E-2.2G<br>Num Packages: 2.0 <br> Service Time: 53.0"
                  ],
                  "type": "scattermapbox"
                },
                {
                  "hoverinfo": "text",
                  "lat": [
                    42.08234,
                    42.084637,
                    42.086276,
                    42.091579,
                    42.071217,
                    42.068769,
                    42.065299,
                    42.066053,
                    42.066606,
                    42.067098,
                    42.069052
                  ],
                  "lon": [
                    -71.569138,
                    -71.565057,
                    -71.564665,
                    -71.562969,
                    -71.569623,
                    -71.568176,
                    -71.56307,
                    -71.560007,
                    -71.560328,
                    -71.561395,
                    -71.570989
                  ],
                  "marker": {
                    "size": 15
                  },
                  "mode": "markers",
                  "name": "Drone Zone E-2.1H",
                  "text": [
                    "Sequence: 118<br> Stop ID: PM<br>Zone ID: E-2.1H<br>Num Packages: 1.0 <br> Service Time: 83.0",
                    "Sequence: 119<br> Stop ID: AL<br>Zone ID: E-2.1H<br>Num Packages: 1.0 <br> Service Time: 140.0",
                    "Sequence: 120<br> Stop ID: LI<br>Zone ID: E-2.1H<br>Num Packages: 1.0 <br> Service Time: 166.0",
                    "Sequence: 121<br> Stop ID: PH<br>Zone ID: E-2.1H<br>Num Packages: 1.0 <br> Service Time: 70.0",
                    "Sequence: 122<br> Stop ID: LZ<br>Zone ID: E-2.1H<br>Num Packages: 2.0 <br> Service Time: 59.0",
                    "Sequence: 123<br> Stop ID: RK<br>Zone ID: E-2.1H<br>Num Packages: 1.0 <br> Service Time: 92.0",
                    "Sequence: 124<br> Stop ID: IK<br>Zone ID: E-2.1H<br>Num Packages: 1.0 <br> Service Time: 60.0",
                    "Sequence: 125<br> Stop ID: MM<br>Zone ID: E-2.1H<br>Num Packages: 2.0 <br> Service Time: 80.5",
                    "Sequence: 126<br> Stop ID: ID<br>Zone ID: E-2.1H<br>Num Packages: 1.0 <br> Service Time: 105.0",
                    "Sequence: 127<br> Stop ID: OV<br>Zone ID: E-2.1H<br>Num Packages: 1.0 <br> Service Time: 90.0",
                    "Sequence: 128<br> Stop ID: XK<br>Zone ID: E-2.1H<br>Num Packages: 1.0 <br> Service Time: 80.0"
                  ],
                  "type": "scattermapbox"
                },
                {
                  "hoverinfo": "text",
                  "lat": [
                    42.098311,
                    42.100858,
                    42.09491,
                    42.094155,
                    42.09345,
                    42.0928
                  ],
                  "lon": [
                    -71.565798,
                    -71.569223,
                    -71.567879,
                    -71.567809,
                    -71.570252,
                    -71.57135
                  ],
                  "marker": {
                    "size": 15
                  },
                  "mode": "markers",
                  "name": "Drone Zone E-2.2H",
                  "text": [
                    "Sequence: 129<br> Stop ID: EI<br>Zone ID: E-2.2H<br>Num Packages: 1.0 <br> Service Time: 196.0",
                    "Sequence: 130<br> Stop ID: PO<br>Zone ID: E-2.2H<br>Num Packages: 2.0 <br> Service Time: 129.5",
                    "Sequence: 131<br> Stop ID: AY<br>Zone ID: E-2.2H<br>Num Packages: 1.0 <br> Service Time: 55.0",
                    "Sequence: 132<br> Stop ID: PV<br>Zone ID: E-2.2H<br>Num Packages: 2.0 <br> Service Time: 57.5",
                    "Sequence: 133<br> Stop ID: ET<br>Zone ID: E-2.2H<br>Num Packages: 1.0 <br> Service Time: 77.0",
                    "Sequence: 134<br> Stop ID: SD<br>Zone ID: E-2.2H<br>Num Packages: 1.0 <br> Service Time: 171.0"
                  ],
                  "type": "scattermapbox"
                },
                {
                  "hoverinfo": "text",
                  "lat": [
                    42.117964,
                    42.11913,
                    42.122523,
                    42.122976,
                    42.120684,
                    42.120485,
                    42.119914,
                    42.117205,
                    42.117445,
                    42.115553,
                    42.112118
                  ],
                  "lon": [
                    -71.573898,
                    -71.574056,
                    -71.574733,
                    -71.574975,
                    -71.578937,
                    -71.577536,
                    -71.575428,
                    -71.574765,
                    -71.579092,
                    -71.587857,
                    -71.597602
                  ],
                  "marker": {
                    "size": 15
                  },
                  "mode": "markers",
                  "name": "Drone Zone E-2.3J",
                  "text": [
                    "Sequence: 135<br> Stop ID: NT<br>Zone ID: E-2.3J<br>Num Packages: 1.0 <br> Service Time: 60.0",
                    "Sequence: 136<br> Stop ID: UV<br>Zone ID: E-2.3J<br>Num Packages: 1.0 <br> Service Time: 157.0",
                    "Sequence: 137<br> Stop ID: JN<br>Zone ID: E-2.3J<br>Num Packages: 1.0 <br> Service Time: 69.0",
                    "Sequence: 138<br> Stop ID: HV<br>Zone ID: E-2.3J<br>Num Packages: 2.0 <br> Service Time: 41.0",
                    "Sequence: 139<br> Stop ID: IO<br>Zone ID: E-2.3J<br>Num Packages: 1.0 <br> Service Time: 58.0",
                    "Sequence: 140<br> Stop ID: WC<br>Zone ID: E-2.3J<br>Num Packages: 2.0 <br> Service Time: 69.0",
                    "Sequence: 141<br> Stop ID: GG<br>Zone ID: E-2.3J<br>Num Packages: 1.0 <br> Service Time: 67.0",
                    "Sequence: 142<br> Stop ID: YW<br>Zone ID: E-2.3J<br>Num Packages: 2.0 <br> Service Time: 72.5",
                    "Sequence: 143<br> Stop ID: VA<br>Zone ID: E-2.3J<br>Num Packages: 2.0 <br> Service Time: 60.0",
                    "Sequence: 144<br> Stop ID: KZ<br>Zone ID: E-2.3J<br>Num Packages: 2.0 <br> Service Time: 74.0",
                    "Sequence: 145<br> Stop ID: UP<br>Zone ID: E-2.3J<br>Num Packages: 1.0 <br> Service Time: 106.0"
                  ],
                  "type": "scattermapbox"
                },
                {
                  "hoverinfo": "text",
                  "lat": [
                    42.140655,
                    42.149406,
                    42.150955,
                    42.150434,
                    42.152468,
                    42.153178,
                    42.148646,
                    42.148227,
                    42.147267,
                    42.145646,
                    42.148971
                  ],
                  "lon": [
                    -71.536264,
                    -71.541475,
                    -71.543177,
                    -71.543739,
                    -71.545145,
                    -71.544067,
                    -71.542931,
                    -71.542674,
                    -71.540911,
                    -71.539764,
                    -71.544248
                  ],
                  "marker": {
                    "size": 15
                  },
                  "mode": "markers",
                  "name": "Drone Zone E-1.2G",
                  "text": [
                    "Sequence: 151<br> Stop ID: MZ<br>Zone ID: E-1.2G<br>Num Packages: 1.0 <br> Service Time: 105.0",
                    "Sequence: 152<br> Stop ID: EE<br>Zone ID: E-1.2G<br>Num Packages: 1.0 <br> Service Time: 78.0",
                    "Sequence: 153<br> Stop ID: MD<br>Zone ID: E-1.2G<br>Num Packages: 1.0 <br> Service Time: 51.0",
                    "Sequence: 154<br> Stop ID: AR<br>Zone ID: E-1.2G<br>Num Packages: 1.0 <br> Service Time: 45.0",
                    "Sequence: 155<br> Stop ID: SN<br>Zone ID: E-1.2G<br>Num Packages: 1.0 <br> Service Time: 63.0",
                    "Sequence: 156<br> Stop ID: VB<br>Zone ID: E-1.2G<br>Num Packages: 1.0 <br> Service Time: 79.0",
                    "Sequence: 157<br> Stop ID: VJ<br>Zone ID: E-1.2G<br>Num Packages: 1.0 <br> Service Time: 112.0",
                    "Sequence: 158<br> Stop ID: YA<br>Zone ID: E-1.2G<br>Num Packages: 1.0 <br> Service Time: 101.0",
                    "Sequence: 159<br> Stop ID: KS<br>Zone ID: E-1.2G<br>Num Packages: 1.0 <br> Service Time: 47.0",
                    "Sequence: 160<br> Stop ID: PE<br>Zone ID: E-1.2G<br>Num Packages: 2.0 <br> Service Time: 21.0",
                    "Sequence: 161<br> Stop ID: GR<br>Zone ID: E-1.2G<br>Num Packages: 1.0 <br> Service Time: 98.0"
                  ],
                  "type": "scattermapbox"
                },
                {
                  "hoverinfo": "none",
                  "lat": [
                    42.139891,
                    42.139089,
                    42.138518,
                    42.138304,
                    42.138168,
                    42.138013,
                    42.139661,
                    42.141271,
                    42.142625,
                    42.140573,
                    42.143604,
                    42.141526,
                    42.143284,
                    42.13807,
                    42.136668,
                    42.136174,
                    42.139035,
                    42.138027,
                    42.138476,
                    42.137425,
                    42.138349,
                    42.139095,
                    42.140455,
                    42.141612,
                    42.140229,
                    42.139733,
                    42.139294,
                    42.137706,
                    42.136912,
                    42.136227,
                    42.136319,
                    42.133937,
                    42.132317,
                    42.131921,
                    42.131869,
                    42.131486,
                    42.131001,
                    42.129566,
                    42.128268,
                    42.125992,
                    42.125514,
                    42.129766,
                    42.124038,
                    42.124369,
                    42.12044,
                    42.117772,
                    42.120766,
                    42.120975,
                    42.121051,
                    42.120341,
                    42.124123,
                    42.127365,
                    42.128388,
                    42.129426,
                    42.130843,
                    42.129839,
                    42.135489,
                    42.131202,
                    42.125951,
                    42.12566,
                    42.1282,
                    42.125649,
                    42.116133,
                    42.110929,
                    42.110252,
                    42.108828,
                    42.110475,
                    42.102702,
                    42.101216,
                    42.101403,
                    42.101185,
                    42.105719,
                    42.106275,
                    42.098301,
                    42.091701,
                    42.093273,
                    42.097525,
                    42.097741,
                    42.089052,
                    42.08848,
                    42.087774,
                    42.085539,
                    42.083353,
                    42.082898,
                    42.08066,
                    42.080541,
                    42.088684,
                    42.08376,
                    42.084195,
                    42.080895,
                    42.08229,
                    42.088175,
                    42.089674,
                    42.086827,
                    42.07244,
                    42.07397,
                    42.08234,
                    42.084637,
                    42.086276,
                    42.091579,
                    42.071217,
                    42.065299,
                    42.066053,
                    42.066606,
                    42.069052,
                    42.098311,
                    42.100858,
                    42.094155,
                    42.09345,
                    42.0928,
                    42.11913,
                    42.122523,
                    42.122976,
                    42.120684,
                    42.120485,
                    42.117205,
                    42.117445,
                    42.115553,
                    42.112118,
                    42.131043,
                    42.13004,
                    42.130505,
                    42.13111,
                    42.140655,
                    42.149406,
                    42.150434,
                    42.152468,
                    42.153178,
                    42.148227,
                    42.147267,
                    42.145646,
                    42.148971,
                    42.139891
                  ],
                  "line": {
                    "color": "blue",
                    "width": 2
                  },
                  "lon": [
                    -71.494346,
                    -71.524434,
                    -71.525506,
                    -71.525361,
                    -71.529156,
                    -71.530182,
                    -71.529452,
                    -71.528049,
                    -71.529995,
                    -71.531935,
                    -71.534119,
                    -71.534137,
                    -71.531322,
                    -71.533233,
                    -71.53178,
                    -71.531294,
                    -71.536231,
                    -71.539181,
                    -71.540799,
                    -71.54024,
                    -71.54241,
                    -71.542843,
                    -71.543684,
                    -71.545708,
                    -71.546878,
                    -71.547296,
                    -71.546923,
                    -71.545586,
                    -71.544912,
                    -71.544317,
                    -71.542944,
                    -71.542708,
                    -71.539959,
                    -71.540795,
                    -71.539325,
                    -71.539641,
                    -71.538114,
                    -71.540988,
                    -71.53879,
                    -71.536422,
                    -71.535994,
                    -71.536633,
                    -71.544102,
                    -71.545108,
                    -71.542705,
                    -71.544013,
                    -71.543204,
                    -71.544163,
                    -71.545773,
                    -71.549171,
                    -71.550611,
                    -71.551967,
                    -71.55112,
                    -71.553551,
                    -71.55611,
                    -71.556861,
                    -71.561803,
                    -71.571969,
                    -71.572483,
                    -71.57254,
                    -71.578917,
                    -71.568811,
                    -71.566586,
                    -71.556253,
                    -71.555689,
                    -71.562421,
                    -71.56499,
                    -71.553805,
                    -71.555481,
                    -71.556447,
                    -71.551259,
                    -71.544234,
                    -71.540355,
                    -71.540291,
                    -71.529757,
                    -71.522541,
                    -71.526315,
                    -71.528215,
                    -71.533044,
                    -71.5326,
                    -71.534656,
                    -71.545158,
                    -71.547355,
                    -71.54777,
                    -71.549721,
                    -71.551435,
                    -71.545654,
                    -71.551694,
                    -71.55201,
                    -71.556956,
                    -71.559,
                    -71.554347,
                    -71.55466,
                    -71.55235,
                    -71.553688,
                    -71.551047,
                    -71.569138,
                    -71.565057,
                    -71.564665,
                    -71.562969,
                    -71.569623,
                    -71.56307,
                    -71.560007,
                    -71.560328,
                    -71.570989,
                    -71.565798,
                    -71.569223,
                    -71.567809,
                    -71.570252,
                    -71.57135,
                    -71.574056,
                    -71.574733,
                    -71.574975,
                    -71.578937,
                    -71.577536,
                    -71.574765,
                    -71.579092,
                    -71.587857,
                    -71.597602,
                    -71.547647,
                    -71.547106,
                    -71.546481,
                    -71.546931,
                    -71.536264,
                    -71.541475,
                    -71.543739,
                    -71.545145,
                    -71.544067,
                    -71.542674,
                    -71.540911,
                    -71.539764,
                    -71.544248,
                    -71.494346
                  ],
                  "mode": "lines",
                  "name": "Route Path",
                  "type": "scattermapbox"
                },
                {
                  "hoverinfo": "text",
                  "lat": [],
                  "lon": [],
                  "marker": {
                    "size": 15
                  },
                  "mode": "markers",
                  "name": "Route Zone nan",
                  "text": [],
                  "type": "scattermapbox"
                },
                {
                  "hoverinfo": "text",
                  "lat": [
                    42.139089,
                    42.138518,
                    42.138304,
                    42.138168,
                    42.138013,
                    42.139661,
                    42.141271,
                    42.142625
                  ],
                  "lon": [
                    -71.524434,
                    -71.525506,
                    -71.525361,
                    -71.529156,
                    -71.530182,
                    -71.529452,
                    -71.528049,
                    -71.529995
                  ],
                  "marker": {
                    "size": 15
                  },
                  "mode": "markers",
                  "name": "Route Zone E-1.1H",
                  "text": [
                    "Sequence: 1<br> Stop ID: VU<br>Zone ID: E-1.1H<br>Num Packages: 1.0 <br> Service Time: 111.0",
                    "Sequence: 2<br> Stop ID: ZP<br>Zone ID: E-1.1H<br>Num Packages: 2.0 <br> Service Time: 90.5",
                    "Sequence: 3<br> Stop ID: KH<br>Zone ID: E-1.1H<br>Num Packages: 1.0 <br> Service Time: 71.0",
                    "Sequence: 4<br> Stop ID: WW<br>Zone ID: E-1.1H<br>Num Packages: 2.0 <br> Service Time: 73.0",
                    "Sequence: 5<br> Stop ID: QC<br>Zone ID: E-1.1H<br>Num Packages: 2.0 <br> Service Time: 146.0",
                    "Sequence: 6<br> Stop ID: FS<br>Zone ID: E-1.1H<br>Num Packages: 2.0 <br> Service Time: 108.0",
                    "Sequence: 7<br> Stop ID: BJ<br>Zone ID: E-1.1H<br>Num Packages: 1.0 <br> Service Time: 62.0",
                    "Sequence: 8<br> Stop ID: FV<br>Zone ID: E-1.1H<br>Num Packages: 1.0 <br> Service Time: 78.0"
                  ],
                  "type": "scattermapbox"
                },
                {
                  "hoverinfo": "text",
                  "lat": [
                    42.140573,
                    42.143604,
                    42.141526,
                    42.143284,
                    42.13807
                  ],
                  "lon": [
                    -71.531935,
                    -71.534119,
                    -71.534137,
                    -71.531322,
                    -71.533233
                  ],
                  "marker": {
                    "size": 15
                  },
                  "mode": "markers",
                  "name": "Route Zone E-1.1G",
                  "text": [
                    "Sequence: 9<br> Stop ID: XO<br>Zone ID: E-1.1G<br>Num Packages: 1.0 <br> Service Time: 32.0",
                    "Sequence: 10<br> Stop ID: CF<br>Zone ID: E-1.1G<br>Num Packages: 1.0 <br> Service Time: 250.0",
                    "Sequence: 11<br> Stop ID: YV<br>Zone ID: E-1.1G<br>Num Packages: 1.0 <br> Service Time: 50.0",
                    "Sequence: 12<br> Stop ID: CY<br>Zone ID: E-1.1G<br>Num Packages: 1.0 <br> Service Time: 87.0",
                    "Sequence: 13<br> Stop ID: JQ<br>Zone ID: E-1.1G<br>Num Packages: 1.0 <br> Service Time: 370.0"
                  ],
                  "type": "scattermapbox"
                },
                {
                  "hoverinfo": "text",
                  "lat": [
                    42.136668,
                    42.136174,
                    42.139035,
                    42.138027,
                    42.138476,
                    42.137425,
                    42.138349,
                    42.139095,
                    42.140455,
                    42.141612
                  ],
                  "lon": [
                    -71.53178,
                    -71.531294,
                    -71.536231,
                    -71.539181,
                    -71.540799,
                    -71.54024,
                    -71.54241,
                    -71.542843,
                    -71.543684,
                    -71.545708
                  ],
                  "marker": {
                    "size": 15
                  },
                  "mode": "markers",
                  "name": "Route Zone E-1.2H",
                  "text": [
                    "Sequence: 14<br> Stop ID: DZ<br>Zone ID: E-1.2H<br>Num Packages: 1.0 <br> Service Time: 102.0",
                    "Sequence: 15<br> Stop ID: CN<br>Zone ID: E-1.2H<br>Num Packages: 2.0 <br> Service Time: 64.0",
                    "Sequence: 16<br> Stop ID: VM<br>Zone ID: E-1.2H<br>Num Packages: 1.0 <br> Service Time: 221.0",
                    "Sequence: 17<br> Stop ID: XG<br>Zone ID: E-1.2H<br>Num Packages: 3.0 <br> Service Time: 60.0",
                    "Sequence: 18<br> Stop ID: DX<br>Zone ID: E-1.2H<br>Num Packages: 1.0 <br> Service Time: 83.0",
                    "Sequence: 19<br> Stop ID: BE<br>Zone ID: E-1.2H<br>Num Packages: 2.0 <br> Service Time: 72.5",
                    "Sequence: 20<br> Stop ID: AG<br>Zone ID: E-1.2H<br>Num Packages: 2.0 <br> Service Time: 62.5",
                    "Sequence: 21<br> Stop ID: KY<br>Zone ID: E-1.2H<br>Num Packages: 1.0 <br> Service Time: 98.0",
                    "Sequence: 22<br> Stop ID: KR<br>Zone ID: E-1.2H<br>Num Packages: 1.0 <br> Service Time: 52.0",
                    "Sequence: 23<br> Stop ID: BX<br>Zone ID: E-1.2H<br>Num Packages: 1.0 <br> Service Time: 65.0"
                  ],
                  "type": "scattermapbox"
                },
                {
                  "hoverinfo": "text",
                  "lat": [
                    42.140229,
                    42.139733,
                    42.139294,
                    42.137706,
                    42.136912,
                    42.136227,
                    42.136319
                  ],
                  "lon": [
                    -71.546878,
                    -71.547296,
                    -71.546923,
                    -71.545586,
                    -71.544912,
                    -71.544317,
                    -71.542944
                  ],
                  "marker": {
                    "size": 15
                  },
                  "mode": "markers",
                  "name": "Route Zone E-1.3H",
                  "text": [
                    "Sequence: 24<br> Stop ID: IE<br>Zone ID: E-1.3H<br>Num Packages: 2.0 <br> Service Time: 99.0",
                    "Sequence: 25<br> Stop ID: YH<br>Zone ID: E-1.3H<br>Num Packages: 1.0 <br> Service Time: 111.0",
                    "Sequence: 26<br> Stop ID: BP<br>Zone ID: E-1.3H<br>Num Packages: 1.0 <br> Service Time: 80.0",
                    "Sequence: 27<br> Stop ID: LL<br>Zone ID: E-1.3H<br>Num Packages: 1.0 <br> Service Time: 58.0",
                    "Sequence: 28<br> Stop ID: TR<br>Zone ID: E-1.3H<br>Num Packages: 1.0 <br> Service Time: 135.0",
                    "Sequence: 29<br> Stop ID: PB<br>Zone ID: E-1.3H<br>Num Packages: 1.0 <br> Service Time: 84.0",
                    "Sequence: 30<br> Stop ID: XQ<br>Zone ID: E-1.3H<br>Num Packages: 1.0 <br> Service Time: 107.0"
                  ],
                  "type": "scattermapbox"
                },
                {
                  "hoverinfo": "text",
                  "lat": [
                    42.133937,
                    42.131043,
                    42.13004,
                    42.130505,
                    42.13111
                  ],
                  "lon": [
                    -71.542708,
                    -71.547647,
                    -71.547106,
                    -71.546481,
                    -71.546931
                  ],
                  "marker": {
                    "size": 15
                  },
                  "mode": "markers",
                  "name": "Route Zone E-1.3J",
                  "text": [
                    "Sequence: 31<br> Stop ID: UW<br>Zone ID: E-1.3J<br>Num Packages: 1.0 <br> Service Time: 78.0",
                    "Sequence: 119<br> Stop ID: AZ<br>Zone ID: E-1.3J<br>Num Packages: 2.0 <br> Service Time: 68.5",
                    "Sequence: 120<br> Stop ID: OU<br>Zone ID: E-1.3J<br>Num Packages: 1.0 <br> Service Time: 76.0",
                    "Sequence: 121<br> Stop ID: II<br>Zone ID: E-1.3J<br>Num Packages: 1.0 <br> Service Time: 46.0",
                    "Sequence: 122<br> Stop ID: ZL<br>Zone ID: E-1.3J<br>Num Packages: 1.0 <br> Service Time: 172.0"
                  ],
                  "type": "scattermapbox"
                },
                {
                  "hoverinfo": "text",
                  "lat": [
                    42.132317,
                    42.131921,
                    42.131869,
                    42.131486,
                    42.131001,
                    42.129566,
                    42.128268,
                    42.125992,
                    42.125514,
                    42.129766
                  ],
                  "lon": [
                    -71.539959,
                    -71.540795,
                    -71.539325,
                    -71.539641,
                    -71.538114,
                    -71.540988,
                    -71.53879,
                    -71.536422,
                    -71.535994,
                    -71.536633
                  ],
                  "marker": {
                    "size": 15
                  },
                  "mode": "markers",
                  "name": "Route Zone E-1.2J",
                  "text": [
                    "Sequence: 32<br> Stop ID: PQ<br>Zone ID: E-1.2J<br>Num Packages: 1.0 <br> Service Time: 82.0",
                    "Sequence: 33<br> Stop ID: HO<br>Zone ID: E-1.2J<br>Num Packages: 1.0 <br> Service Time: 314.0",
                    "Sequence: 34<br> Stop ID: FQ<br>Zone ID: E-1.2J<br>Num Packages: 1.0 <br> Service Time: 71.0",
                    "Sequence: 35<br> Stop ID: WR<br>Zone ID: E-1.2J<br>Num Packages: 1.0 <br> Service Time: 49.0",
                    "Sequence: 36<br> Stop ID: AC<br>Zone ID: E-1.2J<br>Num Packages: 1.0 <br> Service Time: 65.0",
                    "Sequence: 37<br> Stop ID: DL<br>Zone ID: E-1.2J<br>Num Packages: 1.0 <br> Service Time: 206.0",
                    "Sequence: 38<br> Stop ID: BT<br>Zone ID: E-1.2J<br>Num Packages: 1.0 <br> Service Time: 104.0",
                    "Sequence: 39<br> Stop ID: BN<br>Zone ID: E-1.2J<br>Num Packages: 1.0 <br> Service Time: 118.0",
                    "Sequence: 40<br> Stop ID: UY<br>Zone ID: E-1.2J<br>Num Packages: 1.0 <br> Service Time: 100.0",
                    "Sequence: 41<br> Stop ID: NY<br>Zone ID: E-1.2J<br>Num Packages: 2.0 <br> Service Time: 48.5"
                  ],
                  "type": "scattermapbox"
                },
                {
                  "hoverinfo": "text",
                  "lat": [
                    42.124038,
                    42.124369,
                    42.12044,
                    42.117772,
                    42.120766,
                    42.120975
                  ],
                  "lon": [
                    -71.544102,
                    -71.545108,
                    -71.542705,
                    -71.544013,
                    -71.543204,
                    -71.544163
                  ],
                  "marker": {
                    "size": 15
                  },
                  "mode": "markers",
                  "name": "Route Zone E-1.1J",
                  "text": [
                    "Sequence: 42<br> Stop ID: YG<br>Zone ID: E-1.1J<br>Num Packages: 2.0 <br> Service Time: 38.5",
                    "Sequence: 43<br> Stop ID: CW<br>Zone ID: E-1.1J<br>Num Packages: 1.0 <br> Service Time: 73.0",
                    "Sequence: 44<br> Stop ID: FT<br>Zone ID: E-1.1J<br>Num Packages: 1.0 <br> Service Time: 105.0",
                    "Sequence: 45<br> Stop ID: FI<br>Zone ID: E-1.1J<br>Num Packages: 1.0 <br> Service Time: 65.0",
                    "Sequence: 46<br> Stop ID: US<br>Zone ID: E-1.1J<br>Num Packages: 1.0 <br> Service Time: 312.0",
                    "Sequence: 47<br> Stop ID: DN<br>Zone ID: E-1.1J<br>Num Packages: 2.0 <br> Service Time: 59.0"
                  ],
                  "type": "scattermapbox"
                },
                {
                  "hoverinfo": "text",
                  "lat": [
                    42.121051,
                    42.120341,
                    42.124123,
                    42.127365,
                    42.128388,
                    42.129426,
                    42.130843
                  ],
                  "lon": [
                    -71.545773,
                    -71.549171,
                    -71.550611,
                    -71.551967,
                    -71.55112,
                    -71.553551,
                    -71.55611
                  ],
                  "marker": {
                    "size": 15
                  },
                  "mode": "markers",
                  "name": "Route Zone E-2.1J",
                  "text": [
                    "Sequence: 48<br> Stop ID: TL<br>Zone ID: E-2.1J<br>Num Packages: 3.0 <br> Service Time: 74.7",
                    "Sequence: 49<br> Stop ID: SU<br>Zone ID: E-2.1J<br>Num Packages: 1.0 <br> Service Time: 134.0",
                    "Sequence: 50<br> Stop ID: UI<br>Zone ID: E-2.1J<br>Num Packages: 2.0 <br> Service Time: 76.0",
                    "Sequence: 51<br> Stop ID: NL<br>Zone ID: E-2.1J<br>Num Packages: 1.0 <br> Service Time: 67.0",
                    "Sequence: 52<br> Stop ID: BZ<br>Zone ID: E-2.1J<br>Num Packages: 1.0 <br> Service Time: 81.0",
                    "Sequence: 53<br> Stop ID: ZX<br>Zone ID: E-2.1J<br>Num Packages: 1.0 <br> Service Time: 71.0",
                    "Sequence: 54<br> Stop ID: YR<br>Zone ID: E-2.1J<br>Num Packages: 2.0 <br> Service Time: 51.5"
                  ],
                  "type": "scattermapbox"
                },
                {
                  "hoverinfo": "text",
                  "lat": [
                    42.129839,
                    42.135489,
                    42.131202,
                    42.125951,
                    42.12566,
                    42.1282
                  ],
                  "lon": [
                    -71.556861,
                    -71.561803,
                    -71.571969,
                    -71.572483,
                    -71.57254,
                    -71.578917
                  ],
                  "marker": {
                    "size": 15
                  },
                  "mode": "markers",
                  "name": "Route Zone E-2.2J",
                  "text": [
                    "Sequence: 55<br> Stop ID: ZV<br>Zone ID: E-2.2J<br>Num Packages: 1.0 <br> Service Time: 172.0",
                    "Sequence: 56<br> Stop ID: UJ<br>Zone ID: E-2.2J<br>Num Packages: 1.0 <br> Service Time: 99.0",
                    "Sequence: 57<br> Stop ID: WM<br>Zone ID: E-2.2J<br>Num Packages: 1.0 <br> Service Time: 172.0",
                    "Sequence: 58<br> Stop ID: ST<br>Zone ID: E-2.2J<br>Num Packages: 1.0 <br> Service Time: 146.0",
                    "Sequence: 59<br> Stop ID: CU<br>Zone ID: E-2.2J<br>Num Packages: 1.0 <br> Service Time: 59.0",
                    "Sequence: 60<br> Stop ID: KL<br>Zone ID: E-2.2J<br>Num Packages: 1.0 <br> Service Time: 96.0"
                  ],
                  "type": "scattermapbox"
                },
                {
                  "hoverinfo": "text",
                  "lat": [
                    42.125649,
                    42.116133,
                    42.110929,
                    42.110252,
                    42.108828,
                    42.110475,
                    42.102702,
                    42.101216,
                    42.101403
                  ],
                  "lon": [
                    -71.568811,
                    -71.566586,
                    -71.556253,
                    -71.555689,
                    -71.562421,
                    -71.56499,
                    -71.553805,
                    -71.555481,
                    -71.556447
                  ],
                  "marker": {
                    "size": 15
                  },
                  "mode": "markers",
                  "name": "Route Zone E-2.3H",
                  "text": [
                    "Sequence: 61<br> Stop ID: OJ<br>Zone ID: E-2.3H<br>Num Packages: 1.0 <br> Service Time: 103.0",
                    "Sequence: 62<br> Stop ID: ZG<br>Zone ID: E-2.3H<br>Num Packages: 2.0 <br> Service Time: 98.0",
                    "Sequence: 63<br> Stop ID: TO<br>Zone ID: E-2.3H<br>Num Packages: 1.0 <br> Service Time: 93.0",
                    "Sequence: 64<br> Stop ID: AD<br>Zone ID: E-2.3H<br>Num Packages: 1.0 <br> Service Time: 75.0",
                    "Sequence: 65<br> Stop ID: GE<br>Zone ID: E-2.3H<br>Num Packages: 1.0 <br> Service Time: 100.0",
                    "Sequence: 66<br> Stop ID: EY<br>Zone ID: E-2.3H<br>Num Packages: 1.0 <br> Service Time: 79.0",
                    "Sequence: 67<br> Stop ID: OM<br>Zone ID: E-2.3H<br>Num Packages: 1.0 <br> Service Time: 31.0",
                    "Sequence: 68<br> Stop ID: SR<br>Zone ID: E-2.3H<br>Num Packages: 1.0 <br> Service Time: 82.0",
                    "Sequence: 69<br> Stop ID: JU<br>Zone ID: E-2.3H<br>Num Packages: 1.0 <br> Service Time: 57.0"
                  ],
                  "type": "scattermapbox"
                },
                {
                  "hoverinfo": "text",
                  "lat": [
                    42.101185,
                    42.08376,
                    42.084195,
                    42.080895,
                    42.08229,
                    42.088175,
                    42.089674,
                    42.086827,
                    42.07244,
                    42.07397
                  ],
                  "lon": [
                    -71.551259,
                    -71.551694,
                    -71.55201,
                    -71.556956,
                    -71.559,
                    -71.554347,
                    -71.55466,
                    -71.55235,
                    -71.553688,
                    -71.551047
                  ],
                  "marker": {
                    "size": 15
                  },
                  "mode": "markers",
                  "name": "Route Zone E-2.1G",
                  "text": [
                    "Sequence: 70<br> Stop ID: NB<br>Zone ID: E-2.1G<br>Num Packages: 1.0 <br> Service Time: 76.0",
                    "Sequence: 87<br> Stop ID: JZ<br>Zone ID: E-2.1G<br>Num Packages: 1.0 <br> Service Time: 175.0",
                    "Sequence: 88<br> Stop ID: PU<br>Zone ID: E-2.1G<br>Num Packages: 2.0 <br> Service Time: 71.5",
                    "Sequence: 89<br> Stop ID: ZO<br>Zone ID: E-2.1G<br>Num Packages: 1.0 <br> Service Time: 148.0",
                    "Sequence: 90<br> Stop ID: FL<br>Zone ID: E-2.1G<br>Num Packages: 1.0 <br> Service Time: 121.0",
                    "Sequence: 91<br> Stop ID: ND<br>Zone ID: E-2.1G<br>Num Packages: 1.0 <br> Service Time: 142.0",
                    "Sequence: 92<br> Stop ID: NW<br>Zone ID: E-2.1G<br>Num Packages: 1.0 <br> Service Time: 102.0",
                    "Sequence: 93<br> Stop ID: QO<br>Zone ID: E-2.1G<br>Num Packages: 1.0 <br> Service Time: 82.0",
                    "Sequence: 94<br> Stop ID: OE<br>Zone ID: E-2.1G<br>Num Packages: 2.0 <br> Service Time: 79.0",
                    "Sequence: 95<br> Stop ID: SM<br>Zone ID: E-2.1G<br>Num Packages: 1.0 <br> Service Time: 71.0"
                  ],
                  "type": "scattermapbox"
                },
                {
                  "hoverinfo": "text",
                  "lat": [
                    42.105719,
                    42.106275,
                    42.098301,
                    42.091701,
                    42.093273,
                    42.097525,
                    42.097741,
                    42.089052,
                    42.08848,
                    42.087774
                  ],
                  "lon": [
                    -71.544234,
                    -71.540355,
                    -71.540291,
                    -71.529757,
                    -71.522541,
                    -71.526315,
                    -71.528215,
                    -71.533044,
                    -71.5326,
                    -71.534656
                  ],
                  "marker": {
                    "size": 15
                  },
                  "mode": "markers",
                  "name": "Route Zone E-2.3G",
                  "text": [
                    "Sequence: 71<br> Stop ID: QZ<br>Zone ID: E-2.3G<br>Num Packages: 1.0 <br> Service Time: 45.0",
                    "Sequence: 72<br> Stop ID: SZ<br>Zone ID: E-2.3G<br>Num Packages: 2.0 <br> Service Time: 33.5",
                    "Sequence: 73<br> Stop ID: VT<br>Zone ID: E-2.3G<br>Num Packages: 1.0 <br> Service Time: 101.0",
                    "Sequence: 74<br> Stop ID: IC<br>Zone ID: E-2.3G<br>Num Packages: 1.0 <br> Service Time: 86.0",
                    "Sequence: 75<br> Stop ID: QU<br>Zone ID: E-2.3G<br>Num Packages: 1.0 <br> Service Time: 63.0",
                    "Sequence: 76<br> Stop ID: OC<br>Zone ID: E-2.3G<br>Num Packages: 1.0 <br> Service Time: 81.0",
                    "Sequence: 77<br> Stop ID: ML<br>Zone ID: E-2.3G<br>Num Packages: 2.0 <br> Service Time: 48.0",
                    "Sequence: 78<br> Stop ID: JD<br>Zone ID: E-2.3G<br>Num Packages: 3.0 <br> Service Time: 78.7",
                    "Sequence: 79<br> Stop ID: ZA<br>Zone ID: E-2.3G<br>Num Packages: 1.0 <br> Service Time: 172.0",
                    "Sequence: 80<br> Stop ID: IB<br>Zone ID: E-2.3G<br>Num Packages: 1.0 <br> Service Time: 170.0"
                  ],
                  "type": "scattermapbox"
                },
                {
                  "hoverinfo": "text",
                  "lat": [
                    42.085539,
                    42.083353,
                    42.082898,
                    42.08066,
                    42.080541,
                    42.088684
                  ],
                  "lon": [
                    -71.545158,
                    -71.547355,
                    -71.54777,
                    -71.549721,
                    -71.551435,
                    -71.545654
                  ],
                  "marker": {
                    "size": 15
                  },
                  "mode": "markers",
                  "name": "Route Zone E-2.2G",
                  "text": [
                    "Sequence: 81<br> Stop ID: FE<br>Zone ID: E-2.2G<br>Num Packages: 1.0 <br> Service Time: 73.0",
                    "Sequence: 82<br> Stop ID: OD<br>Zone ID: E-2.2G<br>Num Packages: 2.0 <br> Service Time: 43.5",
                    "Sequence: 83<br> Stop ID: PX<br>Zone ID: E-2.2G<br>Num Packages: 4.0 <br> Service Time: 51.0",
                    "Sequence: 84<br> Stop ID: SG<br>Zone ID: E-2.2G<br>Num Packages: 1.0 <br> Service Time: 77.0",
                    "Sequence: 85<br> Stop ID: IF<br>Zone ID: E-2.2G<br>Num Packages: 2.0 <br> Service Time: 56.0",
                    "Sequence: 86<br> Stop ID: MN<br>Zone ID: E-2.2G<br>Num Packages: 2.0 <br> Service Time: 53.0"
                  ],
                  "type": "scattermapbox"
                },
                {
                  "hoverinfo": "text",
                  "lat": [
                    42.08234,
                    42.084637,
                    42.086276,
                    42.091579,
                    42.071217,
                    42.065299,
                    42.066053,
                    42.066606,
                    42.069052
                  ],
                  "lon": [
                    -71.569138,
                    -71.565057,
                    -71.564665,
                    -71.562969,
                    -71.569623,
                    -71.56307,
                    -71.560007,
                    -71.560328,
                    -71.570989
                  ],
                  "marker": {
                    "size": 15
                  },
                  "mode": "markers",
                  "name": "Route Zone E-2.1H",
                  "text": [
                    "Sequence: 96<br> Stop ID: PM<br>Zone ID: E-2.1H<br>Num Packages: 1.0 <br> Service Time: 83.0",
                    "Sequence: 97<br> Stop ID: AL<br>Zone ID: E-2.1H<br>Num Packages: 1.0 <br> Service Time: 140.0",
                    "Sequence: 98<br> Stop ID: LI<br>Zone ID: E-2.1H<br>Num Packages: 1.0 <br> Service Time: 166.0",
                    "Sequence: 99<br> Stop ID: PH<br>Zone ID: E-2.1H<br>Num Packages: 1.0 <br> Service Time: 70.0",
                    "Sequence: 100<br> Stop ID: LZ<br>Zone ID: E-2.1H<br>Num Packages: 2.0 <br> Service Time: 59.0",
                    "Sequence: 101<br> Stop ID: IK<br>Zone ID: E-2.1H<br>Num Packages: 1.0 <br> Service Time: 60.0",
                    "Sequence: 102<br> Stop ID: MM<br>Zone ID: E-2.1H<br>Num Packages: 2.0 <br> Service Time: 80.5",
                    "Sequence: 103<br> Stop ID: ID<br>Zone ID: E-2.1H<br>Num Packages: 1.0 <br> Service Time: 105.0",
                    "Sequence: 104<br> Stop ID: XK<br>Zone ID: E-2.1H<br>Num Packages: 1.0 <br> Service Time: 80.0"
                  ],
                  "type": "scattermapbox"
                },
                {
                  "hoverinfo": "text",
                  "lat": [
                    42.098311,
                    42.100858,
                    42.094155,
                    42.09345,
                    42.0928
                  ],
                  "lon": [
                    -71.565798,
                    -71.569223,
                    -71.567809,
                    -71.570252,
                    -71.57135
                  ],
                  "marker": {
                    "size": 15
                  },
                  "mode": "markers",
                  "name": "Route Zone E-2.2H",
                  "text": [
                    "Sequence: 105<br> Stop ID: EI<br>Zone ID: E-2.2H<br>Num Packages: 1.0 <br> Service Time: 196.0",
                    "Sequence: 106<br> Stop ID: PO<br>Zone ID: E-2.2H<br>Num Packages: 2.0 <br> Service Time: 129.5",
                    "Sequence: 107<br> Stop ID: PV<br>Zone ID: E-2.2H<br>Num Packages: 2.0 <br> Service Time: 57.5",
                    "Sequence: 108<br> Stop ID: ET<br>Zone ID: E-2.2H<br>Num Packages: 1.0 <br> Service Time: 77.0",
                    "Sequence: 109<br> Stop ID: SD<br>Zone ID: E-2.2H<br>Num Packages: 1.0 <br> Service Time: 171.0"
                  ],
                  "type": "scattermapbox"
                },
                {
                  "hoverinfo": "text",
                  "lat": [
                    42.11913,
                    42.122523,
                    42.122976,
                    42.120684,
                    42.120485,
                    42.117205,
                    42.117445,
                    42.115553,
                    42.112118
                  ],
                  "lon": [
                    -71.574056,
                    -71.574733,
                    -71.574975,
                    -71.578937,
                    -71.577536,
                    -71.574765,
                    -71.579092,
                    -71.587857,
                    -71.597602
                  ],
                  "marker": {
                    "size": 15
                  },
                  "mode": "markers",
                  "name": "Route Zone E-2.3J",
                  "text": [
                    "Sequence: 110<br> Stop ID: UV<br>Zone ID: E-2.3J<br>Num Packages: 1.0 <br> Service Time: 157.0",
                    "Sequence: 111<br> Stop ID: JN<br>Zone ID: E-2.3J<br>Num Packages: 1.0 <br> Service Time: 69.0",
                    "Sequence: 112<br> Stop ID: HV<br>Zone ID: E-2.3J<br>Num Packages: 2.0 <br> Service Time: 41.0",
                    "Sequence: 113<br> Stop ID: IO<br>Zone ID: E-2.3J<br>Num Packages: 1.0 <br> Service Time: 58.0",
                    "Sequence: 114<br> Stop ID: WC<br>Zone ID: E-2.3J<br>Num Packages: 2.0 <br> Service Time: 69.0",
                    "Sequence: 115<br> Stop ID: YW<br>Zone ID: E-2.3J<br>Num Packages: 2.0 <br> Service Time: 72.5",
                    "Sequence: 116<br> Stop ID: VA<br>Zone ID: E-2.3J<br>Num Packages: 2.0 <br> Service Time: 60.0",
                    "Sequence: 117<br> Stop ID: KZ<br>Zone ID: E-2.3J<br>Num Packages: 2.0 <br> Service Time: 74.0",
                    "Sequence: 118<br> Stop ID: UP<br>Zone ID: E-2.3J<br>Num Packages: 1.0 <br> Service Time: 106.0"
                  ],
                  "type": "scattermapbox"
                },
                {
                  "hoverinfo": "text",
                  "lat": [
                    42.140655,
                    42.149406,
                    42.150434,
                    42.152468,
                    42.153178,
                    42.148227,
                    42.147267,
                    42.145646,
                    42.148971
                  ],
                  "lon": [
                    -71.536264,
                    -71.541475,
                    -71.543739,
                    -71.545145,
                    -71.544067,
                    -71.542674,
                    -71.540911,
                    -71.539764,
                    -71.544248
                  ],
                  "marker": {
                    "size": 15
                  },
                  "mode": "markers",
                  "name": "Route Zone E-1.2G",
                  "text": [
                    "Sequence: 123<br> Stop ID: MZ<br>Zone ID: E-1.2G<br>Num Packages: 1.0 <br> Service Time: 105.0",
                    "Sequence: 124<br> Stop ID: EE<br>Zone ID: E-1.2G<br>Num Packages: 1.0 <br> Service Time: 78.0",
                    "Sequence: 125<br> Stop ID: AR<br>Zone ID: E-1.2G<br>Num Packages: 1.0 <br> Service Time: 45.0",
                    "Sequence: 126<br> Stop ID: SN<br>Zone ID: E-1.2G<br>Num Packages: 1.0 <br> Service Time: 63.0",
                    "Sequence: 127<br> Stop ID: VB<br>Zone ID: E-1.2G<br>Num Packages: 1.0 <br> Service Time: 79.0",
                    "Sequence: 128<br> Stop ID: YA<br>Zone ID: E-1.2G<br>Num Packages: 1.0 <br> Service Time: 101.0",
                    "Sequence: 129<br> Stop ID: KS<br>Zone ID: E-1.2G<br>Num Packages: 1.0 <br> Service Time: 47.0",
                    "Sequence: 130<br> Stop ID: PE<br>Zone ID: E-1.2G<br>Num Packages: 2.0 <br> Service Time: 21.0",
                    "Sequence: 131<br> Stop ID: GR<br>Zone ID: E-1.2G<br>Num Packages: 1.0 <br> Service Time: 98.0"
                  ],
                  "type": "scattermapbox"
                }
              ],
              "layout": {
                "height": 600,
                "mapbox": {
                  "center": {
                    "lat": 42.11728271852945,
                    "lon": -71.54868957864755
                  },
                  "style": "open-street-map",
                  "zoom": 10
                },
                "margin": {
                  "b": 10,
                  "l": 10,
                  "r": 10,
                  "t": 10
                },
                "showlegend": true,
                "template": {
                  "data": {
                    "bar": [
                      {
                        "error_x": {
                          "color": "#2a3f5f"
                        },
                        "error_y": {
                          "color": "#2a3f5f"
                        },
                        "marker": {
                          "line": {
                            "color": "#E5ECF6",
                            "width": 0.5
                          },
                          "pattern": {
                            "fillmode": "overlay",
                            "size": 10,
                            "solidity": 0.2
                          }
                        },
                        "type": "bar"
                      }
                    ],
                    "barpolar": [
                      {
                        "marker": {
                          "line": {
                            "color": "#E5ECF6",
                            "width": 0.5
                          },
                          "pattern": {
                            "fillmode": "overlay",
                            "size": 10,
                            "solidity": 0.2
                          }
                        },
                        "type": "barpolar"
                      }
                    ],
                    "carpet": [
                      {
                        "aaxis": {
                          "endlinecolor": "#2a3f5f",
                          "gridcolor": "white",
                          "linecolor": "white",
                          "minorgridcolor": "white",
                          "startlinecolor": "#2a3f5f"
                        },
                        "baxis": {
                          "endlinecolor": "#2a3f5f",
                          "gridcolor": "white",
                          "linecolor": "white",
                          "minorgridcolor": "white",
                          "startlinecolor": "#2a3f5f"
                        },
                        "type": "carpet"
                      }
                    ],
                    "choropleth": [
                      {
                        "colorbar": {
                          "outlinewidth": 0,
                          "ticks": ""
                        },
                        "type": "choropleth"
                      }
                    ],
                    "contour": [
                      {
                        "colorbar": {
                          "outlinewidth": 0,
                          "ticks": ""
                        },
                        "colorscale": [
                          [
                            0,
                            "#0d0887"
                          ],
                          [
                            0.1111111111111111,
                            "#46039f"
                          ],
                          [
                            0.2222222222222222,
                            "#7201a8"
                          ],
                          [
                            0.3333333333333333,
                            "#9c179e"
                          ],
                          [
                            0.4444444444444444,
                            "#bd3786"
                          ],
                          [
                            0.5555555555555556,
                            "#d8576b"
                          ],
                          [
                            0.6666666666666666,
                            "#ed7953"
                          ],
                          [
                            0.7777777777777778,
                            "#fb9f3a"
                          ],
                          [
                            0.8888888888888888,
                            "#fdca26"
                          ],
                          [
                            1,
                            "#f0f921"
                          ]
                        ],
                        "type": "contour"
                      }
                    ],
                    "contourcarpet": [
                      {
                        "colorbar": {
                          "outlinewidth": 0,
                          "ticks": ""
                        },
                        "type": "contourcarpet"
                      }
                    ],
                    "heatmap": [
                      {
                        "colorbar": {
                          "outlinewidth": 0,
                          "ticks": ""
                        },
                        "colorscale": [
                          [
                            0,
                            "#0d0887"
                          ],
                          [
                            0.1111111111111111,
                            "#46039f"
                          ],
                          [
                            0.2222222222222222,
                            "#7201a8"
                          ],
                          [
                            0.3333333333333333,
                            "#9c179e"
                          ],
                          [
                            0.4444444444444444,
                            "#bd3786"
                          ],
                          [
                            0.5555555555555556,
                            "#d8576b"
                          ],
                          [
                            0.6666666666666666,
                            "#ed7953"
                          ],
                          [
                            0.7777777777777778,
                            "#fb9f3a"
                          ],
                          [
                            0.8888888888888888,
                            "#fdca26"
                          ],
                          [
                            1,
                            "#f0f921"
                          ]
                        ],
                        "type": "heatmap"
                      }
                    ],
                    "heatmapgl": [
                      {
                        "colorbar": {
                          "outlinewidth": 0,
                          "ticks": ""
                        },
                        "colorscale": [
                          [
                            0,
                            "#0d0887"
                          ],
                          [
                            0.1111111111111111,
                            "#46039f"
                          ],
                          [
                            0.2222222222222222,
                            "#7201a8"
                          ],
                          [
                            0.3333333333333333,
                            "#9c179e"
                          ],
                          [
                            0.4444444444444444,
                            "#bd3786"
                          ],
                          [
                            0.5555555555555556,
                            "#d8576b"
                          ],
                          [
                            0.6666666666666666,
                            "#ed7953"
                          ],
                          [
                            0.7777777777777778,
                            "#fb9f3a"
                          ],
                          [
                            0.8888888888888888,
                            "#fdca26"
                          ],
                          [
                            1,
                            "#f0f921"
                          ]
                        ],
                        "type": "heatmapgl"
                      }
                    ],
                    "histogram": [
                      {
                        "marker": {
                          "pattern": {
                            "fillmode": "overlay",
                            "size": 10,
                            "solidity": 0.2
                          }
                        },
                        "type": "histogram"
                      }
                    ],
                    "histogram2d": [
                      {
                        "colorbar": {
                          "outlinewidth": 0,
                          "ticks": ""
                        },
                        "colorscale": [
                          [
                            0,
                            "#0d0887"
                          ],
                          [
                            0.1111111111111111,
                            "#46039f"
                          ],
                          [
                            0.2222222222222222,
                            "#7201a8"
                          ],
                          [
                            0.3333333333333333,
                            "#9c179e"
                          ],
                          [
                            0.4444444444444444,
                            "#bd3786"
                          ],
                          [
                            0.5555555555555556,
                            "#d8576b"
                          ],
                          [
                            0.6666666666666666,
                            "#ed7953"
                          ],
                          [
                            0.7777777777777778,
                            "#fb9f3a"
                          ],
                          [
                            0.8888888888888888,
                            "#fdca26"
                          ],
                          [
                            1,
                            "#f0f921"
                          ]
                        ],
                        "type": "histogram2d"
                      }
                    ],
                    "histogram2dcontour": [
                      {
                        "colorbar": {
                          "outlinewidth": 0,
                          "ticks": ""
                        },
                        "colorscale": [
                          [
                            0,
                            "#0d0887"
                          ],
                          [
                            0.1111111111111111,
                            "#46039f"
                          ],
                          [
                            0.2222222222222222,
                            "#7201a8"
                          ],
                          [
                            0.3333333333333333,
                            "#9c179e"
                          ],
                          [
                            0.4444444444444444,
                            "#bd3786"
                          ],
                          [
                            0.5555555555555556,
                            "#d8576b"
                          ],
                          [
                            0.6666666666666666,
                            "#ed7953"
                          ],
                          [
                            0.7777777777777778,
                            "#fb9f3a"
                          ],
                          [
                            0.8888888888888888,
                            "#fdca26"
                          ],
                          [
                            1,
                            "#f0f921"
                          ]
                        ],
                        "type": "histogram2dcontour"
                      }
                    ],
                    "mesh3d": [
                      {
                        "colorbar": {
                          "outlinewidth": 0,
                          "ticks": ""
                        },
                        "type": "mesh3d"
                      }
                    ],
                    "parcoords": [
                      {
                        "line": {
                          "colorbar": {
                            "outlinewidth": 0,
                            "ticks": ""
                          }
                        },
                        "type": "parcoords"
                      }
                    ],
                    "pie": [
                      {
                        "automargin": true,
                        "type": "pie"
                      }
                    ],
                    "scatter": [
                      {
                        "fillpattern": {
                          "fillmode": "overlay",
                          "size": 10,
                          "solidity": 0.2
                        },
                        "type": "scatter"
                      }
                    ],
                    "scatter3d": [
                      {
                        "line": {
                          "colorbar": {
                            "outlinewidth": 0,
                            "ticks": ""
                          }
                        },
                        "marker": {
                          "colorbar": {
                            "outlinewidth": 0,
                            "ticks": ""
                          }
                        },
                        "type": "scatter3d"
                      }
                    ],
                    "scattercarpet": [
                      {
                        "marker": {
                          "colorbar": {
                            "outlinewidth": 0,
                            "ticks": ""
                          }
                        },
                        "type": "scattercarpet"
                      }
                    ],
                    "scattergeo": [
                      {
                        "marker": {
                          "colorbar": {
                            "outlinewidth": 0,
                            "ticks": ""
                          }
                        },
                        "type": "scattergeo"
                      }
                    ],
                    "scattergl": [
                      {
                        "marker": {
                          "colorbar": {
                            "outlinewidth": 0,
                            "ticks": ""
                          }
                        },
                        "type": "scattergl"
                      }
                    ],
                    "scattermapbox": [
                      {
                        "marker": {
                          "colorbar": {
                            "outlinewidth": 0,
                            "ticks": ""
                          }
                        },
                        "type": "scattermapbox"
                      }
                    ],
                    "scatterpolar": [
                      {
                        "marker": {
                          "colorbar": {
                            "outlinewidth": 0,
                            "ticks": ""
                          }
                        },
                        "type": "scatterpolar"
                      }
                    ],
                    "scatterpolargl": [
                      {
                        "marker": {
                          "colorbar": {
                            "outlinewidth": 0,
                            "ticks": ""
                          }
                        },
                        "type": "scatterpolargl"
                      }
                    ],
                    "scatterternary": [
                      {
                        "marker": {
                          "colorbar": {
                            "outlinewidth": 0,
                            "ticks": ""
                          }
                        },
                        "type": "scatterternary"
                      }
                    ],
                    "surface": [
                      {
                        "colorbar": {
                          "outlinewidth": 0,
                          "ticks": ""
                        },
                        "colorscale": [
                          [
                            0,
                            "#0d0887"
                          ],
                          [
                            0.1111111111111111,
                            "#46039f"
                          ],
                          [
                            0.2222222222222222,
                            "#7201a8"
                          ],
                          [
                            0.3333333333333333,
                            "#9c179e"
                          ],
                          [
                            0.4444444444444444,
                            "#bd3786"
                          ],
                          [
                            0.5555555555555556,
                            "#d8576b"
                          ],
                          [
                            0.6666666666666666,
                            "#ed7953"
                          ],
                          [
                            0.7777777777777778,
                            "#fb9f3a"
                          ],
                          [
                            0.8888888888888888,
                            "#fdca26"
                          ],
                          [
                            1,
                            "#f0f921"
                          ]
                        ],
                        "type": "surface"
                      }
                    ],
                    "table": [
                      {
                        "cells": {
                          "fill": {
                            "color": "#EBF0F8"
                          },
                          "line": {
                            "color": "white"
                          }
                        },
                        "header": {
                          "fill": {
                            "color": "#C8D4E3"
                          },
                          "line": {
                            "color": "white"
                          }
                        },
                        "type": "table"
                      }
                    ]
                  },
                  "layout": {
                    "annotationdefaults": {
                      "arrowcolor": "#2a3f5f",
                      "arrowhead": 0,
                      "arrowwidth": 1
                    },
                    "autotypenumbers": "strict",
                    "coloraxis": {
                      "colorbar": {
                        "outlinewidth": 0,
                        "ticks": ""
                      }
                    },
                    "colorscale": {
                      "diverging": [
                        [
                          0,
                          "#8e0152"
                        ],
                        [
                          0.1,
                          "#c51b7d"
                        ],
                        [
                          0.2,
                          "#de77ae"
                        ],
                        [
                          0.3,
                          "#f1b6da"
                        ],
                        [
                          0.4,
                          "#fde0ef"
                        ],
                        [
                          0.5,
                          "#f7f7f7"
                        ],
                        [
                          0.6,
                          "#e6f5d0"
                        ],
                        [
                          0.7,
                          "#b8e186"
                        ],
                        [
                          0.8,
                          "#7fbc41"
                        ],
                        [
                          0.9,
                          "#4d9221"
                        ],
                        [
                          1,
                          "#276419"
                        ]
                      ],
                      "sequential": [
                        [
                          0,
                          "#0d0887"
                        ],
                        [
                          0.1111111111111111,
                          "#46039f"
                        ],
                        [
                          0.2222222222222222,
                          "#7201a8"
                        ],
                        [
                          0.3333333333333333,
                          "#9c179e"
                        ],
                        [
                          0.4444444444444444,
                          "#bd3786"
                        ],
                        [
                          0.5555555555555556,
                          "#d8576b"
                        ],
                        [
                          0.6666666666666666,
                          "#ed7953"
                        ],
                        [
                          0.7777777777777778,
                          "#fb9f3a"
                        ],
                        [
                          0.8888888888888888,
                          "#fdca26"
                        ],
                        [
                          1,
                          "#f0f921"
                        ]
                      ],
                      "sequentialminus": [
                        [
                          0,
                          "#0d0887"
                        ],
                        [
                          0.1111111111111111,
                          "#46039f"
                        ],
                        [
                          0.2222222222222222,
                          "#7201a8"
                        ],
                        [
                          0.3333333333333333,
                          "#9c179e"
                        ],
                        [
                          0.4444444444444444,
                          "#bd3786"
                        ],
                        [
                          0.5555555555555556,
                          "#d8576b"
                        ],
                        [
                          0.6666666666666666,
                          "#ed7953"
                        ],
                        [
                          0.7777777777777778,
                          "#fb9f3a"
                        ],
                        [
                          0.8888888888888888,
                          "#fdca26"
                        ],
                        [
                          1,
                          "#f0f921"
                        ]
                      ]
                    },
                    "colorway": [
                      "#636efa",
                      "#EF553B",
                      "#00cc96",
                      "#ab63fa",
                      "#FFA15A",
                      "#19d3f3",
                      "#FF6692",
                      "#B6E880",
                      "#FF97FF",
                      "#FECB52"
                    ],
                    "font": {
                      "color": "#2a3f5f"
                    },
                    "geo": {
                      "bgcolor": "white",
                      "lakecolor": "white",
                      "landcolor": "#E5ECF6",
                      "showlakes": true,
                      "showland": true,
                      "subunitcolor": "white"
                    },
                    "hoverlabel": {
                      "align": "left"
                    },
                    "hovermode": "closest",
                    "mapbox": {
                      "style": "light"
                    },
                    "paper_bgcolor": "white",
                    "plot_bgcolor": "#E5ECF6",
                    "polar": {
                      "angularaxis": {
                        "gridcolor": "white",
                        "linecolor": "white",
                        "ticks": ""
                      },
                      "bgcolor": "#E5ECF6",
                      "radialaxis": {
                        "gridcolor": "white",
                        "linecolor": "white",
                        "ticks": ""
                      }
                    },
                    "scene": {
                      "xaxis": {
                        "backgroundcolor": "#E5ECF6",
                        "gridcolor": "white",
                        "gridwidth": 2,
                        "linecolor": "white",
                        "showbackground": true,
                        "ticks": "",
                        "zerolinecolor": "white"
                      },
                      "yaxis": {
                        "backgroundcolor": "#E5ECF6",
                        "gridcolor": "white",
                        "gridwidth": 2,
                        "linecolor": "white",
                        "showbackground": true,
                        "ticks": "",
                        "zerolinecolor": "white"
                      },
                      "zaxis": {
                        "backgroundcolor": "#E5ECF6",
                        "gridcolor": "white",
                        "gridwidth": 2,
                        "linecolor": "white",
                        "showbackground": true,
                        "ticks": "",
                        "zerolinecolor": "white"
                      }
                    },
                    "shapedefaults": {
                      "line": {
                        "color": "#2a3f5f"
                      }
                    },
                    "ternary": {
                      "aaxis": {
                        "gridcolor": "white",
                        "linecolor": "white",
                        "ticks": ""
                      },
                      "baxis": {
                        "gridcolor": "white",
                        "linecolor": "white",
                        "ticks": ""
                      },
                      "bgcolor": "#E5ECF6",
                      "caxis": {
                        "gridcolor": "white",
                        "linecolor": "white",
                        "ticks": ""
                      }
                    },
                    "title": {
                      "x": 0.05
                    },
                    "xaxis": {
                      "automargin": true,
                      "gridcolor": "white",
                      "linecolor": "white",
                      "ticks": "",
                      "title": {
                        "standoff": 15
                      },
                      "zerolinecolor": "white",
                      "zerolinewidth": 2
                    },
                    "yaxis": {
                      "automargin": true,
                      "gridcolor": "white",
                      "linecolor": "white",
                      "ticks": "",
                      "title": {
                        "standoff": 15
                      },
                      "zerolinecolor": "white",
                      "zerolinewidth": 2
                    }
                  }
                }
              }
            }
          },
          "metadata": {},
          "output_type": "display_data"
        }
      ],
      "source": [
        "# Create a figure\n",
        "fig = go.Figure()\n",
        "\n",
        "# Add the drone path\n",
        "fig.add_trace(go.Scattermapbox(\n",
        "    lat=drone_data_ordered['lat'],\n",
        "    lon=drone_data_ordered['lng'],\n",
        "    mode='lines',\n",
        "    line=dict(width=2, color='red'),\n",
        "    hoverinfo='none',\n",
        "    name='Drone Path'\n",
        "))\n",
        "\n",
        "# Add scatter points for each unique zone_id in the drone data\n",
        "for zone_id in drone_data_ordered['zone_id'].unique():\n",
        "    df_sub = drone_data_ordered[drone_data_ordered['zone_id'] == zone_id]\n",
        "    hover_text = df_sub.apply(lambda row: f\"Sequence: {row.name}<br> Stop ID: {row['stop_id']}<br>Zone ID: {row['zone_id']}<br>Num Packages: {row['num_packages']} <br> Service Time: {row['service_time_seconds']}\", axis=1)\n",
        "    fig.add_trace(go.Scattermapbox(\n",
        "        lat=df_sub['lat'],\n",
        "        lon=df_sub['lng'],\n",
        "        mode='markers',\n",
        "        marker=go.scattermapbox.Marker(size=15),\n",
        "        name=f\"Drone Zone {zone_id}\",\n",
        "        text=hover_text,\n",
        "        hoverinfo='text'\n",
        "    ))\n",
        "\n",
        "\n",
        "# Add the route path\n",
        "fig.add_trace(go.Scattermapbox(\n",
        "    lat=route_data_ordered['lat'],\n",
        "    lon=route_data_ordered['lng'],\n",
        "    mode='lines',\n",
        "    line=dict(width=2, color='blue'),\n",
        "    hoverinfo='none',\n",
        "    name='Route Path'\n",
        "))\n",
        "\n",
        "# Add scatter points for each unique zone_id in the route data\n",
        "for zone_id in route_data_ordered['zone_id'].unique():\n",
        "    df_sub = route_data_ordered[route_data_ordered['zone_id'] == zone_id]\n",
        "    hover_text = df_sub.apply(lambda row: f\"Sequence: {row.name}<br> Stop ID: {row['stop_id']}<br>Zone ID: {row['zone_id']}<br>Num Packages: {row['num_packages']} <br> Service Time: {row['service_time_seconds']}\", axis=1)\n",
        "    fig.add_trace(go.Scattermapbox(\n",
        "        lat=df_sub['lat'],\n",
        "        lon=df_sub['lng'],\n",
        "        mode='markers',\n",
        "        marker=go.scattermapbox.Marker(size=15),\n",
        "        name=f\"Route Zone {zone_id}\",\n",
        "        text=hover_text,\n",
        "        hoverinfo='text'\n",
        "    ))\n",
        "\n",
        "\n",
        "\n",
        "# Update the layout to use OpenStreetMap style and adjust other layout properties\n",
        "fig.update_layout(\n",
        "    height=600,\n",
        "    mapbox=dict(\n",
        "        style=\"open-street-map\",\n",
        "        zoom=10,\n",
        "        center=dict(\n",
        "            lat=(route_data_ordered['lat'].mean() + drone_data_ordered['lat'].mean()) / 2,\n",
        "            lon=(route_data_ordered['lng'].mean() + drone_data_ordered['lng'].mean()) / 2\n",
        "        )\n",
        "    ),\n",
        "    showlegend=True\n",
        ")\n",
        "\n",
        "fig.update_layout(margin=dict(l=10, r=10, t=10, b=10))\n",
        "\n",
        "# Show the figure\n",
        "fig.show()"
      ]
    },
    {
      "cell_type": "code",
      "execution_count": null,
      "metadata": {},
      "outputs": [],
      "source": []
    }
  ],
  "metadata": {
    "colab": {
      "machine_shape": "hm",
      "provenance": []
    },
    "kernelspec": {
      "display_name": "Python 3",
      "name": "python3"
    },
    "language_info": {
      "codemirror_mode": {
        "name": "ipython",
        "version": 3
      },
      "file_extension": ".py",
      "mimetype": "text/x-python",
      "name": "python",
      "nbconvert_exporter": "python",
      "pygments_lexer": "ipython3",
      "version": "3.10.13"
    }
  },
  "nbformat": 4,
  "nbformat_minor": 0
}
