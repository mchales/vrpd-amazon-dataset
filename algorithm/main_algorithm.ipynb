{
 "cells": [
  {
   "cell_type": "code",
   "execution_count": 1,
   "metadata": {},
   "outputs": [],
   "source": [
    "import pandas as pd\n",
    "import json\n",
    "from geopy.distance import geodesic\n",
    "import plotly.express as px\n",
    "import plotly.graph_objects as go\n",
    "import os"
   ]
  },
  {
   "cell_type": "code",
   "execution_count": 2,
   "metadata": {},
   "outputs": [],
   "source": [
    "BASE_PATH = '../almrrc2021/almrrc2021-data-training/model_build_inputs/'"
   ]
  },
  {
   "cell_type": "code",
   "execution_count": 3,
   "metadata": {},
   "outputs": [],
   "source": [
    "# DRONE CONSTANTS\n",
    "DRONE_MAX_SPEED = 7  # m/s\n",
    "DRONE_DEPTH = 30 # cm\n",
    "DRONE_HEIGHT = 25 # cm\n",
    "DRONE_WIDTH = 30 # cm\n",
    "DRONE_LOADING = 15 # seconds\n",
    "DRONE_LAUNCH = 5 # seconds\n",
    "DRONE_LAND = 5 # seconds"
   ]
  },
  {
   "cell_type": "code",
   "execution_count": 4,
   "metadata": {},
   "outputs": [
    {
     "data": {
      "text/html": [
       "<div>\n",
       "<style scoped>\n",
       "    .dataframe tbody tr th:only-of-type {\n",
       "        vertical-align: middle;\n",
       "    }\n",
       "\n",
       "    .dataframe tbody tr th {\n",
       "        vertical-align: top;\n",
       "    }\n",
       "\n",
       "    .dataframe thead th {\n",
       "        text-align: right;\n",
       "    }\n",
       "</style>\n",
       "<table border=\"1\" class=\"dataframe\">\n",
       "  <thead>\n",
       "    <tr style=\"text-align: right;\">\n",
       "      <th></th>\n",
       "      <th>route_id</th>\n",
       "      <th>stop_id</th>\n",
       "      <th>package_id</th>\n",
       "      <th>scan_status</th>\n",
       "      <th>start_time_utc</th>\n",
       "      <th>end_time_utc</th>\n",
       "      <th>planned_service_time_seconds</th>\n",
       "      <th>depth_cm</th>\n",
       "      <th>height_cm</th>\n",
       "      <th>width_cm</th>\n",
       "    </tr>\n",
       "  </thead>\n",
       "  <tbody>\n",
       "    <tr>\n",
       "      <th>0</th>\n",
       "      <td>RouteID_00143bdd-0a6b-49ec-bb35-36593d303e77</td>\n",
       "      <td>AD</td>\n",
       "      <td>PackageID_9d7fdd03-f2cf-4c6f-9128-028258fc09ea</td>\n",
       "      <td>DELIVERED</td>\n",
       "      <td>NaN</td>\n",
       "      <td>NaN</td>\n",
       "      <td>59.3</td>\n",
       "      <td>25.4</td>\n",
       "      <td>7.6</td>\n",
       "      <td>17.8</td>\n",
       "    </tr>\n",
       "    <tr>\n",
       "      <th>1</th>\n",
       "      <td>RouteID_00143bdd-0a6b-49ec-bb35-36593d303e77</td>\n",
       "      <td>AD</td>\n",
       "      <td>PackageID_5541e679-b7bd-4992-b288-e862f6c84ae7</td>\n",
       "      <td>DELIVERED</td>\n",
       "      <td>2018-07-27 16:00:00</td>\n",
       "      <td>2018-07-28 00:00:00</td>\n",
       "      <td>59.3</td>\n",
       "      <td>25.4</td>\n",
       "      <td>12.7</td>\n",
       "      <td>17.8</td>\n",
       "    </tr>\n",
       "    <tr>\n",
       "      <th>2</th>\n",
       "      <td>RouteID_00143bdd-0a6b-49ec-bb35-36593d303e77</td>\n",
       "      <td>AD</td>\n",
       "      <td>PackageID_84d0295b-1adb-4a33-a65e-f7d6247c7a07</td>\n",
       "      <td>DELIVERED</td>\n",
       "      <td>NaN</td>\n",
       "      <td>NaN</td>\n",
       "      <td>59.3</td>\n",
       "      <td>39.4</td>\n",
       "      <td>7.6</td>\n",
       "      <td>31.8</td>\n",
       "    </tr>\n",
       "    <tr>\n",
       "      <th>3</th>\n",
       "      <td>RouteID_00143bdd-0a6b-49ec-bb35-36593d303e77</td>\n",
       "      <td>AF</td>\n",
       "      <td>PackageID_15c6a204-ec5f-4ced-9c3d-472316cc7759</td>\n",
       "      <td>DELIVERED</td>\n",
       "      <td>2018-07-27 16:00:00</td>\n",
       "      <td>2018-07-28 00:00:00</td>\n",
       "      <td>27.0</td>\n",
       "      <td>30.0</td>\n",
       "      <td>3.0</td>\n",
       "      <td>27.4</td>\n",
       "    </tr>\n",
       "    <tr>\n",
       "      <th>4</th>\n",
       "      <td>RouteID_00143bdd-0a6b-49ec-bb35-36593d303e77</td>\n",
       "      <td>AG</td>\n",
       "      <td>PackageID_3b28f781-242e-416e-9575-84c7188b8208</td>\n",
       "      <td>DELIVERED</td>\n",
       "      <td>NaN</td>\n",
       "      <td>NaN</td>\n",
       "      <td>45.0</td>\n",
       "      <td>25.4</td>\n",
       "      <td>12.7</td>\n",
       "      <td>17.8</td>\n",
       "    </tr>\n",
       "  </tbody>\n",
       "</table>\n",
       "</div>"
      ],
      "text/plain": [
       "                                       route_id stop_id  \\\n",
       "0  RouteID_00143bdd-0a6b-49ec-bb35-36593d303e77      AD   \n",
       "1  RouteID_00143bdd-0a6b-49ec-bb35-36593d303e77      AD   \n",
       "2  RouteID_00143bdd-0a6b-49ec-bb35-36593d303e77      AD   \n",
       "3  RouteID_00143bdd-0a6b-49ec-bb35-36593d303e77      AF   \n",
       "4  RouteID_00143bdd-0a6b-49ec-bb35-36593d303e77      AG   \n",
       "\n",
       "                                       package_id scan_status  \\\n",
       "0  PackageID_9d7fdd03-f2cf-4c6f-9128-028258fc09ea   DELIVERED   \n",
       "1  PackageID_5541e679-b7bd-4992-b288-e862f6c84ae7   DELIVERED   \n",
       "2  PackageID_84d0295b-1adb-4a33-a65e-f7d6247c7a07   DELIVERED   \n",
       "3  PackageID_15c6a204-ec5f-4ced-9c3d-472316cc7759   DELIVERED   \n",
       "4  PackageID_3b28f781-242e-416e-9575-84c7188b8208   DELIVERED   \n",
       "\n",
       "        start_time_utc         end_time_utc  planned_service_time_seconds  \\\n",
       "0                  NaN                  NaN                          59.3   \n",
       "1  2018-07-27 16:00:00  2018-07-28 00:00:00                          59.3   \n",
       "2                  NaN                  NaN                          59.3   \n",
       "3  2018-07-27 16:00:00  2018-07-28 00:00:00                          27.0   \n",
       "4                  NaN                  NaN                          45.0   \n",
       "\n",
       "   depth_cm  height_cm  width_cm  \n",
       "0      25.4        7.6      17.8  \n",
       "1      25.4       12.7      17.8  \n",
       "2      39.4        7.6      31.8  \n",
       "3      30.0        3.0      27.4  \n",
       "4      25.4       12.7      17.8  "
      ]
     },
     "execution_count": 4,
     "metadata": {},
     "output_type": "execute_result"
    }
   ],
   "source": [
    "# Loading all the package data\n",
    "\n",
    "package_data = json.load(open(BASE_PATH + 'package_data.json'))\n",
    "\n",
    "flattened_package_data = []\n",
    "for route_id, stops in package_data.items():\n",
    "    for stop_id, packages in stops.items():\n",
    "        for package_id, details in packages.items():\n",
    "            record = {\n",
    "                \"route_id\": route_id,\n",
    "                \"stop_id\": stop_id,\n",
    "                \"package_id\": package_id,\n",
    "                \"scan_status\": details[\"scan_status\"] if \"scan_status\" in details else None, # note model_apply_inputs does not have scan_status, model_build_inputs does\n",
    "                \"start_time_utc\": details[\"time_window\"][\"start_time_utc\"],\n",
    "                \"end_time_utc\": details[\"time_window\"][\"end_time_utc\"],\n",
    "                \"planned_service_time_seconds\": details[\"planned_service_time_seconds\"],\n",
    "                \"depth_cm\": details[\"dimensions\"][\"depth_cm\"],\n",
    "                \"height_cm\": details[\"dimensions\"][\"height_cm\"],\n",
    "                \"width_cm\": details[\"dimensions\"][\"width_cm\"],\n",
    "            }\n",
    "            flattened_package_data.append(record)\n",
    "\n",
    "package_data_df = pd.DataFrame(flattened_package_data)\n",
    "\n",
    "package_data_df.head()"
   ]
  },
  {
   "cell_type": "code",
   "execution_count": 5,
   "metadata": {},
   "outputs": [
    {
     "data": {
      "text/html": [
       "<div>\n",
       "<style scoped>\n",
       "    .dataframe tbody tr th:only-of-type {\n",
       "        vertical-align: middle;\n",
       "    }\n",
       "\n",
       "    .dataframe tbody tr th {\n",
       "        vertical-align: top;\n",
       "    }\n",
       "\n",
       "    .dataframe thead th {\n",
       "        text-align: right;\n",
       "    }\n",
       "</style>\n",
       "<table border=\"1\" class=\"dataframe\">\n",
       "  <thead>\n",
       "    <tr style=\"text-align: right;\">\n",
       "      <th></th>\n",
       "      <th>route_id</th>\n",
       "      <th>station_code</th>\n",
       "      <th>date</th>\n",
       "      <th>departure_time_utc</th>\n",
       "      <th>executor_capacity_cm3</th>\n",
       "      <th>route_score</th>\n",
       "      <th>stop_id</th>\n",
       "      <th>lat</th>\n",
       "      <th>lng</th>\n",
       "      <th>type</th>\n",
       "      <th>zone_id</th>\n",
       "    </tr>\n",
       "  </thead>\n",
       "  <tbody>\n",
       "    <tr>\n",
       "      <th>0</th>\n",
       "      <td>RouteID_00143bdd-0a6b-49ec-bb35-36593d303e77</td>\n",
       "      <td>DLA3</td>\n",
       "      <td>2018-07-27</td>\n",
       "      <td>16:02:10</td>\n",
       "      <td>3313071.0</td>\n",
       "      <td>High</td>\n",
       "      <td>AD</td>\n",
       "      <td>34.099611</td>\n",
       "      <td>-118.283062</td>\n",
       "      <td>Dropoff</td>\n",
       "      <td>P-12.3C</td>\n",
       "    </tr>\n",
       "    <tr>\n",
       "      <th>1</th>\n",
       "      <td>RouteID_00143bdd-0a6b-49ec-bb35-36593d303e77</td>\n",
       "      <td>DLA3</td>\n",
       "      <td>2018-07-27</td>\n",
       "      <td>16:02:10</td>\n",
       "      <td>3313071.0</td>\n",
       "      <td>High</td>\n",
       "      <td>AF</td>\n",
       "      <td>34.101587</td>\n",
       "      <td>-118.291125</td>\n",
       "      <td>Dropoff</td>\n",
       "      <td>A-1.2D</td>\n",
       "    </tr>\n",
       "    <tr>\n",
       "      <th>2</th>\n",
       "      <td>RouteID_00143bdd-0a6b-49ec-bb35-36593d303e77</td>\n",
       "      <td>DLA3</td>\n",
       "      <td>2018-07-27</td>\n",
       "      <td>16:02:10</td>\n",
       "      <td>3313071.0</td>\n",
       "      <td>High</td>\n",
       "      <td>AG</td>\n",
       "      <td>34.089727</td>\n",
       "      <td>-118.285530</td>\n",
       "      <td>Dropoff</td>\n",
       "      <td>A-2.1A</td>\n",
       "    </tr>\n",
       "    <tr>\n",
       "      <th>3</th>\n",
       "      <td>RouteID_00143bdd-0a6b-49ec-bb35-36593d303e77</td>\n",
       "      <td>DLA3</td>\n",
       "      <td>2018-07-27</td>\n",
       "      <td>16:02:10</td>\n",
       "      <td>3313071.0</td>\n",
       "      <td>High</td>\n",
       "      <td>BA</td>\n",
       "      <td>34.096132</td>\n",
       "      <td>-118.292869</td>\n",
       "      <td>Dropoff</td>\n",
       "      <td>A-1.2C</td>\n",
       "    </tr>\n",
       "    <tr>\n",
       "      <th>4</th>\n",
       "      <td>RouteID_00143bdd-0a6b-49ec-bb35-36593d303e77</td>\n",
       "      <td>DLA3</td>\n",
       "      <td>2018-07-27</td>\n",
       "      <td>16:02:10</td>\n",
       "      <td>3313071.0</td>\n",
       "      <td>High</td>\n",
       "      <td>BE</td>\n",
       "      <td>34.098482</td>\n",
       "      <td>-118.286243</td>\n",
       "      <td>Dropoff</td>\n",
       "      <td>P-13.3B</td>\n",
       "    </tr>\n",
       "  </tbody>\n",
       "</table>\n",
       "</div>"
      ],
      "text/plain": [
       "                                       route_id station_code        date  \\\n",
       "0  RouteID_00143bdd-0a6b-49ec-bb35-36593d303e77         DLA3  2018-07-27   \n",
       "1  RouteID_00143bdd-0a6b-49ec-bb35-36593d303e77         DLA3  2018-07-27   \n",
       "2  RouteID_00143bdd-0a6b-49ec-bb35-36593d303e77         DLA3  2018-07-27   \n",
       "3  RouteID_00143bdd-0a6b-49ec-bb35-36593d303e77         DLA3  2018-07-27   \n",
       "4  RouteID_00143bdd-0a6b-49ec-bb35-36593d303e77         DLA3  2018-07-27   \n",
       "\n",
       "  departure_time_utc  executor_capacity_cm3 route_score stop_id        lat  \\\n",
       "0           16:02:10              3313071.0        High      AD  34.099611   \n",
       "1           16:02:10              3313071.0        High      AF  34.101587   \n",
       "2           16:02:10              3313071.0        High      AG  34.089727   \n",
       "3           16:02:10              3313071.0        High      BA  34.096132   \n",
       "4           16:02:10              3313071.0        High      BE  34.098482   \n",
       "\n",
       "          lng     type  zone_id  \n",
       "0 -118.283062  Dropoff  P-12.3C  \n",
       "1 -118.291125  Dropoff   A-1.2D  \n",
       "2 -118.285530  Dropoff   A-2.1A  \n",
       "3 -118.292869  Dropoff   A-1.2C  \n",
       "4 -118.286243  Dropoff  P-13.3B  "
      ]
     },
     "execution_count": 5,
     "metadata": {},
     "output_type": "execute_result"
    }
   ],
   "source": [
    "# Loading all the route data\n",
    "\n",
    "route_data = json.load(open(BASE_PATH + 'route_data.json'))\n",
    "\n",
    "flattened_route_data = []\n",
    "\n",
    "for route_id, info in route_data.items():\n",
    "    for stop_id, stop_details in info['stops'].items():\n",
    "        flattened_route_data.append({\n",
    "            \"route_id\": route_id,\n",
    "            \"station_code\": info['station_code'],\n",
    "            \"date\": info['date_YYYY_MM_DD'],\n",
    "            \"departure_time_utc\": info['departure_time_utc'],\n",
    "            \"executor_capacity_cm3\": info['executor_capacity_cm3'],\n",
    "            \"route_score\": info['route_score'],\n",
    "            \"stop_id\": stop_id,\n",
    "            \"lat\": stop_details['lat'],\n",
    "            \"lng\": stop_details['lng'],\n",
    "            \"type\": stop_details['type'],\n",
    "            \"zone_id\": stop_details['zone_id']\n",
    "        })\n",
    "\n",
    "route_data_df = pd.DataFrame(flattened_route_data)\n",
    "\n",
    "route_data_df.head()"
   ]
  },
  {
   "cell_type": "code",
   "execution_count": 6,
   "metadata": {},
   "outputs": [],
   "source": [
    "vehicle_travel_times = json.load(open(BASE_PATH + 'travel_times.json'))"
   ]
  },
  {
   "cell_type": "code",
   "execution_count": 7,
   "metadata": {},
   "outputs": [],
   "source": [
    "def get_data_for_route(route_id):\n",
    "    package_data = package_data_df[package_data_df['route_id'] == route_id]\n",
    "    route_data = route_data_df[route_data_df['route_id'] == route_id]\n",
    "    travel_times_route = vehicle_travel_times[route_id]\n",
    "\n",
    "    return package_data.copy(), route_data.copy(), travel_times_route.copy()"
   ]
  },
  {
   "cell_type": "code",
   "execution_count": 8,
   "metadata": {},
   "outputs": [],
   "source": [
    "# Given route data, it will return a dictionary\n",
    "def calculate_drone_travel_time(route_data):\n",
    "  drone_travel_time = {}\n",
    "\n",
    "  for _, base_row in route_data.iterrows():\n",
    "    drone_travel_time[base_row['stop_id']] = {}\n",
    "\n",
    "    # calculate travel time to every other stop in the route\n",
    "    for _, other_row in route_data.iterrows():\n",
    "      if base_row['stop_id'] != other_row['stop_id']:\n",
    "        base_location = (base_row['lat'], base_row['lng'])\n",
    "        other_location = (other_row['lat'], other_row['lng'])\n",
    "\n",
    "        distance = geodesic(base_location, other_location).meters\n",
    "\n",
    "        drone_travel_time[base_row['stop_id']][other_row['stop_id']] = distance / DRONE_MAX_SPEED\n",
    "        # drone_travel_time[base_row['stop_id']][other_row['stop_id']] += 10 # 5 second rise, 5 second drop\n",
    "\n",
    "      else:\n",
    "        drone_travel_time[base_row['stop_id']][other_row['stop_id']] = 0\n",
    "\n",
    "  return drone_travel_time"
   ]
  },
  {
   "cell_type": "code",
   "execution_count": 9,
   "metadata": {},
   "outputs": [],
   "source": [
    "# Instead of getting a random route we will get a route for which we have the proposed sequence\n",
    "\n",
    "with open('proposed_sequences.json') as file:\n",
    "    proposed_sequences_json = json.load(file)\n",
    "\n",
    "proposed_route_ids = list(proposed_sequences_json.keys())"
   ]
  },
  {
   "cell_type": "code",
   "execution_count": 10,
   "metadata": {},
   "outputs": [],
   "source": [
    "route_id = proposed_route_ids[0]\n",
    "package_data_route_df, route_data_route_df, vehicle_travel_times_route = get_data_for_route(route_id)\n",
    "drone_travel_times_route = calculate_drone_travel_time(route_data_route_df)"
   ]
  },
  {
   "cell_type": "code",
   "execution_count": 11,
   "metadata": {},
   "outputs": [],
   "source": [
    "# Determining if each package can be delivered by a drone\n",
    "package_data_route_df['drone_possible'] = (package_data_route_df['depth_cm'] < DRONE_DEPTH) & (package_data_route_df['height_cm'] < DRONE_HEIGHT) & (package_data_route_df['width_cm'] < DRONE_WIDTH)"
   ]
  },
  {
   "cell_type": "code",
   "execution_count": 12,
   "metadata": {},
   "outputs": [],
   "source": [
    "package_info_agg = package_data_route_df.groupby('stop_id').apply(\n",
    "    lambda x: pd.Series({\n",
    "        'packages': x[['package_id', 'depth_cm', 'height_cm', 'width_cm']].to_dict('records'),\n",
    "        'num_packages': len(x),\n",
    "        'drone_possible': (len(x) == 1) and (x['drone_possible'].iloc[0] == True),\n",
    "        'service_time_seconds': x['planned_service_time_seconds'].mean() # Not sure if this should be sum or average. https://github.com/MIT-CAVE/rc-cli/blob/main/templates/data_structures.md\n",
    "    })\n",
    ").reset_index()"
   ]
  },
  {
   "cell_type": "code",
   "execution_count": 13,
   "metadata": {},
   "outputs": [
    {
     "data": {
      "text/html": [
       "<div>\n",
       "<style scoped>\n",
       "    .dataframe tbody tr th:only-of-type {\n",
       "        vertical-align: middle;\n",
       "    }\n",
       "\n",
       "    .dataframe tbody tr th {\n",
       "        vertical-align: top;\n",
       "    }\n",
       "\n",
       "    .dataframe thead th {\n",
       "        text-align: right;\n",
       "    }\n",
       "</style>\n",
       "<table border=\"1\" class=\"dataframe\">\n",
       "  <thead>\n",
       "    <tr style=\"text-align: right;\">\n",
       "      <th></th>\n",
       "      <th>route_id</th>\n",
       "      <th>station_code</th>\n",
       "      <th>date</th>\n",
       "      <th>departure_time_utc</th>\n",
       "      <th>executor_capacity_cm3</th>\n",
       "      <th>route_score</th>\n",
       "      <th>stop_id</th>\n",
       "      <th>lat</th>\n",
       "      <th>lng</th>\n",
       "      <th>type</th>\n",
       "      <th>zone_id</th>\n",
       "      <th>packages</th>\n",
       "      <th>num_packages</th>\n",
       "      <th>drone_possible</th>\n",
       "      <th>service_time_seconds</th>\n",
       "    </tr>\n",
       "  </thead>\n",
       "  <tbody>\n",
       "    <tr>\n",
       "      <th>0</th>\n",
       "      <td>RouteID_a2c4695d-dcad-4975-84e6-c6b249c644ed</td>\n",
       "      <td>DCH2</td>\n",
       "      <td>2018-07-21</td>\n",
       "      <td>15:07:57</td>\n",
       "      <td>3313071.0</td>\n",
       "      <td>High</td>\n",
       "      <td>AK</td>\n",
       "      <td>41.998574</td>\n",
       "      <td>-87.801173</td>\n",
       "      <td>Dropoff</td>\n",
       "      <td>E-7.1A</td>\n",
       "      <td>[{'package_id': 'PackageID_45172842-41b8-411b-...</td>\n",
       "      <td>4.0</td>\n",
       "      <td>False</td>\n",
       "      <td>62.8</td>\n",
       "    </tr>\n",
       "    <tr>\n",
       "      <th>1</th>\n",
       "      <td>RouteID_a2c4695d-dcad-4975-84e6-c6b249c644ed</td>\n",
       "      <td>DCH2</td>\n",
       "      <td>2018-07-21</td>\n",
       "      <td>15:07:57</td>\n",
       "      <td>3313071.0</td>\n",
       "      <td>High</td>\n",
       "      <td>AL</td>\n",
       "      <td>41.996075</td>\n",
       "      <td>-87.792091</td>\n",
       "      <td>Dropoff</td>\n",
       "      <td>E-7.2B</td>\n",
       "      <td>[{'package_id': 'PackageID_0d19491c-6a2b-4dd3-...</td>\n",
       "      <td>1.0</td>\n",
       "      <td>False</td>\n",
       "      <td>77.0</td>\n",
       "    </tr>\n",
       "    <tr>\n",
       "      <th>2</th>\n",
       "      <td>RouteID_a2c4695d-dcad-4975-84e6-c6b249c644ed</td>\n",
       "      <td>DCH2</td>\n",
       "      <td>2018-07-21</td>\n",
       "      <td>15:07:57</td>\n",
       "      <td>3313071.0</td>\n",
       "      <td>High</td>\n",
       "      <td>AM</td>\n",
       "      <td>42.004423</td>\n",
       "      <td>-87.815098</td>\n",
       "      <td>Dropoff</td>\n",
       "      <td>E-6.1D</td>\n",
       "      <td>[{'package_id': 'PackageID_43c7fe5e-e0fd-4d15-...</td>\n",
       "      <td>3.0</td>\n",
       "      <td>False</td>\n",
       "      <td>15.0</td>\n",
       "    </tr>\n",
       "    <tr>\n",
       "      <th>3</th>\n",
       "      <td>RouteID_a2c4695d-dcad-4975-84e6-c6b249c644ed</td>\n",
       "      <td>DCH2</td>\n",
       "      <td>2018-07-21</td>\n",
       "      <td>15:07:57</td>\n",
       "      <td>3313071.0</td>\n",
       "      <td>High</td>\n",
       "      <td>AS</td>\n",
       "      <td>41.999975</td>\n",
       "      <td>-87.803708</td>\n",
       "      <td>Dropoff</td>\n",
       "      <td>E-7.1A</td>\n",
       "      <td>[{'package_id': 'PackageID_f97b5cbe-99fe-4cee-...</td>\n",
       "      <td>1.0</td>\n",
       "      <td>False</td>\n",
       "      <td>41.0</td>\n",
       "    </tr>\n",
       "    <tr>\n",
       "      <th>4</th>\n",
       "      <td>RouteID_a2c4695d-dcad-4975-84e6-c6b249c644ed</td>\n",
       "      <td>DCH2</td>\n",
       "      <td>2018-07-21</td>\n",
       "      <td>15:07:57</td>\n",
       "      <td>3313071.0</td>\n",
       "      <td>High</td>\n",
       "      <td>AT</td>\n",
       "      <td>41.998229</td>\n",
       "      <td>-87.795140</td>\n",
       "      <td>Dropoff</td>\n",
       "      <td>E-7.3B</td>\n",
       "      <td>[{'package_id': 'PackageID_7bce942f-9082-42af-...</td>\n",
       "      <td>1.0</td>\n",
       "      <td>False</td>\n",
       "      <td>50.0</td>\n",
       "    </tr>\n",
       "  </tbody>\n",
       "</table>\n",
       "</div>"
      ],
      "text/plain": [
       "                                       route_id station_code        date  \\\n",
       "0  RouteID_a2c4695d-dcad-4975-84e6-c6b249c644ed         DCH2  2018-07-21   \n",
       "1  RouteID_a2c4695d-dcad-4975-84e6-c6b249c644ed         DCH2  2018-07-21   \n",
       "2  RouteID_a2c4695d-dcad-4975-84e6-c6b249c644ed         DCH2  2018-07-21   \n",
       "3  RouteID_a2c4695d-dcad-4975-84e6-c6b249c644ed         DCH2  2018-07-21   \n",
       "4  RouteID_a2c4695d-dcad-4975-84e6-c6b249c644ed         DCH2  2018-07-21   \n",
       "\n",
       "  departure_time_utc  executor_capacity_cm3 route_score stop_id        lat  \\\n",
       "0           15:07:57              3313071.0        High      AK  41.998574   \n",
       "1           15:07:57              3313071.0        High      AL  41.996075   \n",
       "2           15:07:57              3313071.0        High      AM  42.004423   \n",
       "3           15:07:57              3313071.0        High      AS  41.999975   \n",
       "4           15:07:57              3313071.0        High      AT  41.998229   \n",
       "\n",
       "         lng     type zone_id  \\\n",
       "0 -87.801173  Dropoff  E-7.1A   \n",
       "1 -87.792091  Dropoff  E-7.2B   \n",
       "2 -87.815098  Dropoff  E-6.1D   \n",
       "3 -87.803708  Dropoff  E-7.1A   \n",
       "4 -87.795140  Dropoff  E-7.3B   \n",
       "\n",
       "                                            packages  num_packages  \\\n",
       "0  [{'package_id': 'PackageID_45172842-41b8-411b-...           4.0   \n",
       "1  [{'package_id': 'PackageID_0d19491c-6a2b-4dd3-...           1.0   \n",
       "2  [{'package_id': 'PackageID_43c7fe5e-e0fd-4d15-...           3.0   \n",
       "3  [{'package_id': 'PackageID_f97b5cbe-99fe-4cee-...           1.0   \n",
       "4  [{'package_id': 'PackageID_7bce942f-9082-42af-...           1.0   \n",
       "\n",
       "  drone_possible  service_time_seconds  \n",
       "0          False                  62.8  \n",
       "1          False                  77.0  \n",
       "2          False                  15.0  \n",
       "3          False                  41.0  \n",
       "4          False                  50.0  "
      ]
     },
     "execution_count": 13,
     "metadata": {},
     "output_type": "execute_result"
    }
   ],
   "source": [
    "route_data_route_df = pd.merge(route_data_route_df, package_info_agg, how='left', on='stop_id')\n",
    "route_data_route_df.head()"
   ]
  },
  {
   "cell_type": "code",
   "execution_count": 14,
   "metadata": {},
   "outputs": [],
   "source": [
    "proposed_sequences = json.load(open('proposed_sequences.json'))"
   ]
  },
  {
   "cell_type": "code",
   "execution_count": 15,
   "metadata": {},
   "outputs": [],
   "source": [
    "def sequence_to_stops_for_route(route_id):\n",
    "\n",
    "    route_sequence = proposed_sequences[route_id]['proposed']\n",
    "    \n",
    "    # Sorting them by their order\n",
    "    route_sequence_sorted = dict(sorted(route_sequence.items(), key=lambda item: item[1]))\n",
    "\n",
    "    # Converting keys to an array\n",
    "    route_sequence_sorted = list(route_sequence_sorted.keys())\n",
    "\n",
    "    # The last stop to the station (first stop) is not included in the sequence so we will manually add it\n",
    "    route_sequence_sorted.append(route_sequence_sorted[0])\n",
    "\n",
    "    return route_sequence_sorted"
   ]
  },
  {
   "cell_type": "code",
   "execution_count": 16,
   "metadata": {},
   "outputs": [],
   "source": [
    "# Both\n",
    "LOAD_START = 'LOAD_START'\n",
    "LOAD_END = 'LOAD_END'\n",
    "ARRIVE = 'ARRIVE'\n",
    "DEPART = 'DEPART'\n",
    "\n",
    "# Vehicle\n",
    "SERVICE_START = 'SERVICE_START'\n",
    "SERVICE_END = 'SERVICE_END'\n",
    "\n",
    "\n",
    "# Drone\n",
    "LAUNCH = 'LAUNCH'\n",
    "DRONE_DELIVERY_START = 'DRONE_DELIVERY_START'\n",
    "DRONE_DELIVERY_END = 'DRONE_DELIVERY_END'\n",
    "LAND = 'LAND'"
   ]
  },
  {
   "cell_type": "code",
   "execution_count": 17,
   "metadata": {},
   "outputs": [],
   "source": [
    "class Event:\n",
    "  def __init__(self, event_type, stop_id, time, data): # data holds extra information, like coordinates\n",
    "    self.event_type = event_type\n",
    "    self.stop_id = stop_id\n",
    "    self.time = time\n",
    "    self.data = data\n",
    "\n",
    "  def __str__(self):\n",
    "    return f\"{self.event_type} {self.stop_id} {round(self.time, 1)} {self.data}\"\n",
    "\n",
    "  def to_dict(self):\n",
    "    # Convert the event to a dictionary\n",
    "    return {\n",
    "        'event_type': self.event_type,\n",
    "        'stop_id': self.stop_id,\n",
    "        'time': self.time,\n",
    "        'coordinates': self.data,\n",
    "    }"
   ]
  },
  {
   "cell_type": "code",
   "execution_count": 24,
   "metadata": {},
   "outputs": [],
   "source": [
    "class VRPDSolver():\n",
    "    def __init__(self, route_id, sequence, package_data, route_data, vehicle_travel_times, drone_travel_times):\n",
    "        self.route_id = route_id\n",
    "        self.sequence = sequence\n",
    "        self.package_data = package_data\n",
    "        self.route_data = route_data\n",
    "        self.vehicle_travel_times = vehicle_travel_times\n",
    "        self.drone_travel_times = drone_travel_times\n",
    "\n",
    "        self.vehicle_events = []\n",
    "        self.vehicle_path = []\n",
    "        self.drone_events = []\n",
    "        self.drone_path = []\n",
    "        self.final_time = 0\n",
    "    \n",
    "    \n",
    "    def find_drone_uses(self):\n",
    "        drone_possible_sequence = []\n",
    "\n",
    "        for stop_id in self.sequence:\n",
    "            stop_row = self.route_data[self.route_data['stop_id'] == stop_id]\n",
    "            \n",
    "            drone_possible = 1 if stop_row['drone_possible'].values[0] else 0\n",
    "            \n",
    "            # can't use drone for station\n",
    "            if stop_id == self.sequence[0]:\n",
    "                drone_possible = 0\n",
    "        \n",
    "            drone_possible_sequence.append(drone_possible)\n",
    "\n",
    "        return drone_possible_sequence\n",
    "    \n",
    "    def drone_save_time(self, drone_possible_sequence):\n",
    "        time_saved = [-1]*len(self.sequence)\n",
    "        for i in range(2, len(self.sequence) - 2):\n",
    "            if drone_possible_sequence[i] == 1:\n",
    "                vehicle_time = 0\n",
    "                drone_time = 0\n",
    "                vehicle_drone_time = 0\n",
    "                \n",
    "                vehicle_time += self.vehicle_travel_times[self.sequence[i-1]][self.sequence[i]]\n",
    "                vehicle_time += self.vehicle_travel_times[self.sequence[i]][self.sequence[i+1]]\n",
    "                vehicle_time += self.route_data[self.route_data['stop_id'] == self.sequence[i]]['service_time_seconds'].values[0]\n",
    "                \n",
    "                drone_time += DRONE_LOADING\n",
    "                drone_time += DRONE_LAUNCH\n",
    "                drone_time += self.drone_travel_times[self.sequence[i-1]][self.sequence[i]]\n",
    "                drone_time += DRONE_LAND + DRONE_LAUNCH\n",
    "                drone_time += self.drone_travel_times[self.sequence[i]][self.sequence[i+1]]\n",
    "                drone_time += DRONE_LAND\n",
    "                \n",
    "                vehicle_drone_time += DRONE_LOADING\n",
    "                vehicle_drone_time += self.vehicle_travel_times[self.sequence[i-1]][self.sequence[i+1]]\n",
    "                \n",
    "                max_time = max(vehicle_drone_time, drone_time)\n",
    "                \n",
    "                if max_time < vehicle_time:\n",
    "                    time_saved[i] = round(vehicle_time - max_time, 2)\n",
    "        \n",
    "        return time_saved\n",
    "    \n",
    "    def maximize_saved_time(self, time_saved):\n",
    "        n = len(time_saved)\n",
    "        dp = [0] * (n + 1)\n",
    "        for i in range(1, n + 1):\n",
    "            dp[i] = max(time_saved[i - 1] + dp[i - 2], dp[i - 1])\n",
    "        \n",
    "        drone_usage = [0] * n\n",
    "        i = n\n",
    "        while i > 0:\n",
    "            if dp[i] != dp[i - 1]:\n",
    "                drone_usage[i - 1] = 1\n",
    "                i -= 2\n",
    "            else:\n",
    "                i -= 1\n",
    "        \n",
    "        return drone_usage\n",
    "    \n",
    "    \n",
    "    def generate_vehicle_drone_path(self, drone_usage):\n",
    "        cur_coords = None\n",
    "        cur_stop = None\n",
    "        cur_time = 0\n",
    "        \n",
    "        drone_coords = None\n",
    "        drone_time = 0\n",
    "        \n",
    "        cur_stop = self.sequence[0]\n",
    "        stop = self.route_data[self.route_data['stop_id'] == cur_stop].iloc[0]\n",
    "        cur_coords = {'lat' : stop['lat'], 'lng' : stop['lng']}\n",
    "        \n",
    "        first_event = Event(DEPART, cur_stop, cur_time, cur_coords)\n",
    "        self.vehicle_events.append(first_event)\n",
    "        self.vehicle_path.append(cur_stop)\n",
    "        self.drone_events.append(first_event)\n",
    "        self.drone_path.append(cur_stop)\n",
    "        \n",
    "\n",
    "        \n",
    "        i = 1\n",
    "        while i < len(self.sequence):\n",
    "            # Traveling to the next vehicle stop, departing stop based on if a drone was used\n",
    "            if drone_usage[i - 1] == 1:\n",
    "                cur_time += self.vehicle_travel_times[self.sequence[i - 2]][self.sequence[i]]\n",
    "            else:\n",
    "                cur_time += self.vehicle_travel_times[self.sequence[i - 1]][self.sequence[i]]\n",
    "            \n",
    "            # Arrive\n",
    "            cur_stop = self.sequence[i]\n",
    "            \n",
    "            \n",
    "            stop = self.route_data[self.route_data['stop_id'] == cur_stop].iloc[0]\n",
    "            cur_coords = {'lat' : stop['lat'], 'lng' : stop['lng']}\n",
    "            arrive_event = Event(ARRIVE, cur_stop, cur_time, cur_coords)\n",
    "            self.vehicle_events.append(arrive_event)\n",
    "            self.vehicle_path.append(cur_stop)\n",
    "            \n",
    "            if cur_stop == self.sequence[-1]:\n",
    "                self.drone_events.append(arrive_event)\n",
    "                self.drone_path.append(cur_stop)\n",
    "                break\n",
    "         \n",
    "            \n",
    "            # The drone is flying and needs to land\n",
    "            landed = True\n",
    "            if drone_usage[i - 1] == 1:\n",
    "                landed = False\n",
    "            else:\n",
    "                self.drone_events.append(arrive_event)\n",
    "                self.drone_path.append(cur_stop)\n",
    "            \n",
    "            if not landed:\n",
    "                # Checks if the vehicle is at the stop  \n",
    "                if drone_time < cur_time:\n",
    "                    landed = True\n",
    "                    drone_land_event = Event(LAND, cur_stop, cur_time, cur_coords)\n",
    "                    self.drone_events.append(drone_land_event)\n",
    "                    self.drone_path.append(cur_stop)\n",
    "            \n",
    "            \n",
    "            # Driver delivers package\n",
    "            service_start_event = Event(SERVICE_START, cur_stop, cur_time, cur_coords)\n",
    "            self.vehicle_events.append(service_start_event)\n",
    "            cur_time += stop['service_time_seconds']\n",
    "            service_end_event = Event(SERVICE_END, cur_stop, cur_time, cur_coords)\n",
    "            self.vehicle_events.append(service_end_event)\n",
    "            \n",
    "            # If the drone didn't land, it will try again and make vehicle wait if needed\n",
    "            if not landed:\n",
    "                landed = True\n",
    "                if drone_time < cur_time:\n",
    "                    drone_land_event = Event(LAND, cur_stop, drone_time, cur_coords) # Note we can land on drone_time (when package is being delivered)\n",
    "                    self.drone_events.append(drone_land_event)\n",
    "                    self.drone_path.append(cur_stop)\n",
    "                else:\n",
    "                    cur_time = drone_time\n",
    "                    drone_land_event = Event(LAND, cur_stop, cur_time, cur_coords)\n",
    "                    self.drone_events.append(drone_land_event)\n",
    "                    self.drone_path.append(cur_stop)\n",
    "            \n",
    "            \n",
    "            \n",
    "            # The next stop requires a drone\n",
    "            if drone_usage[i + 1] == 1:\n",
    "                \n",
    "                # Driver loads the drone\n",
    "                load_start_event = Event(LOAD_START, cur_stop, cur_time, cur_coords)\n",
    "                self.vehicle_events.append(load_start_event)\n",
    "                self.drone_events.append(load_start_event)\n",
    "                cur_time += DRONE_LOADING\n",
    "                load_end_event = Event(LOAD_END, cur_stop, cur_time, cur_coords)\n",
    "                self.vehicle_events.append(load_end_event)\n",
    "                self.drone_events.append(load_end_event)\n",
    "                \n",
    "                # Drone flies to the next stop\n",
    "                drone_time = cur_time\n",
    "                drone_launch_event = Event(LAUNCH, cur_stop, drone_time, cur_coords)\n",
    "                self.drone_events.append(drone_launch_event)\n",
    "                drone_time += DRONE_LAUNCH\n",
    "                drone_time += self.drone_travel_times[cur_stop][self.sequence[i + 1]]\n",
    "                drone_stop = self.route_data[self.route_data['stop_id'] == self.sequence[i + 1]].iloc[0]\n",
    "                drone_coords = {'lat' : drone_stop['lat'], 'lng' : drone_stop['lng']}\n",
    "                drone_arrive_event = Event(DRONE_DELIVERY_START, self.sequence[i + 1], drone_time, drone_coords)\n",
    "                self.drone_events.append(drone_arrive_event)\n",
    "                drone_time += DRONE_LAND + DRONE_LAUNCH\n",
    "                self.drone_path.append(self.sequence[i + 1])\n",
    "                drone_depart_event = Event(DRONE_DELIVERY_END, self.sequence[i + 1], drone_time, drone_coords)\n",
    "                self.drone_events.append(drone_depart_event)\n",
    "                # Drone flies to meet back up with the vehicle\n",
    "                drone_time += self.drone_travel_times[self.sequence[i + 1]][self.sequence[i + 2]]\n",
    "                \n",
    "                # We iterate i because the vehicle will skip the stop\n",
    "                i += 1\n",
    "                \n",
    "            else: # The driver departs\n",
    "                depart_event = Event(DEPART, cur_stop, cur_time, cur_coords)\n",
    "                self.vehicle_events.append(depart_event)\n",
    "                self.drone_events.append(depart_event)\n",
    "            \n",
    "            i += 1\n",
    "    \n",
    "    def print_vehicle_path(self):\n",
    "          print(self.vehicle_path)  # Ensure vehicle_path is correctly converted to string\n",
    "\n",
    "    def print_vehicle_events(self):\n",
    "          for event in self.vehicle_events:\n",
    "              print(event)  # Convert Event object to string\n",
    "    \n",
    "    def print_drone_path(self):\n",
    "          print(self.drone_path)  # Ensure drone_path is correctly converted to string\n",
    "\n",
    "    def print_drone_events(self):\n",
    "        for event in self.drone_events:\n",
    "            print(event)\n",
    "    \n",
    "    def save_vehicle_path(self, path):\n",
    "        os.makedirs(path, exist_ok=True)\n",
    "        path_json = []\n",
    "        for i, stop_id in enumerate(self.vehicle_path):\n",
    "            stop = self.route_data[self.route_data['stop_id'] == stop_id].iloc[0]\n",
    "            vehicle_coords = {'lat' : stop['lat'], 'lng' : stop['lng']}\n",
    "            path_json.append({\"id\": i+1, \"stop\": stop_id, \"coordinates\": vehicle_coords})\n",
    "\n",
    "        with open(f\"{path}/{self.route_id}_vehicle_path.json\", 'w') as file:\n",
    "            json.dump(path_json, file, indent=4)\n",
    "\n",
    "    def save_drone_path(self, path):\n",
    "        os.makedirs(path, exist_ok=True)\n",
    "        path_json = []\n",
    "        for i, stop_id in enumerate(self.drone_path):\n",
    "            stop = self.route_data[self.route_data['stop_id'] == stop_id].iloc[0]\n",
    "            drone_coords = {'lat' : stop['lat'], 'lng' : stop['lng']}\n",
    "            path_json.append({\"id\": i+1, \"stop\": stop_id, \"coordinates\": drone_coords})\n",
    "\n",
    "        with open(f\"{path}/{self.route_id}_drone_path.json\", 'w') as file:\n",
    "            json.dump(path_json, file, indent=4)\n",
    "\n",
    "    def save_vehicle_events(self, path):\n",
    "        os.makedirs(path, exist_ok=True)\n",
    "        # Convert the list of events to a list of dictionaries and assign an ID to each\n",
    "        events_with_ids = [{'id': i+1, **event.to_dict()} for i, event in enumerate(self.vehicle_events)]\n",
    "        # Save the list of events as a JSON file\n",
    "        with open(f\"{path}/{self.route_id}_vehicle_events.json\", 'w') as file:\n",
    "            json.dump(events_with_ids, file, indent=4)\n",
    "\n",
    "    def save_drone_events(self, path):\n",
    "        os.makedirs(path, exist_ok=True)\n",
    "        # Convert the list of events to a list of dictionaries and assign an ID to each\n",
    "        events_with_ids = [{'id': i+1, **event.to_dict()} for i, event in enumerate(self.drone_events)]\n",
    "        # Save the list of events as a JSON file\n",
    "        with open(f\"{path}/{self.route_id}_drone_events.json\", 'w') as file:\n",
    "            json.dump(events_with_ids, file, indent=4)\n"
   ]
  },
  {
   "cell_type": "code",
   "execution_count": 25,
   "metadata": {},
   "outputs": [],
   "source": [
    "proposed_sequence = sequence_to_stops_for_route(route_id)\n",
    "test = VRPDSolver(route_id, proposed_sequence, package_data_route_df, route_data_route_df, vehicle_travel_times_route, drone_travel_times_route)\n",
    "drone_usage = test.find_drone_uses()\n",
    "time_saved = test.drone_save_time(drone_usage)\n",
    "best_drone_usage = test.maximize_saved_time(time_saved)\n",
    "test.generate_vehicle_drone_path(best_drone_usage)"
   ]
  },
  {
   "cell_type": "code",
   "execution_count": 26,
   "metadata": {},
   "outputs": [
    {
     "name": "stdout",
     "output_type": "stream",
     "text": [
      "DEPART DI 0 {'lat': 42.254346, 'lng': -87.985697}\n",
      "ARRIVE UZ 2239.5 {'lat': 42.083824, 'lng': -87.997013}\n",
      "LOAD_START UZ 2316.0 {'lat': 42.083824, 'lng': -87.997013}\n",
      "LOAD_END UZ 2331.0 {'lat': 42.083824, 'lng': -87.997013}\n",
      "LAUNCH UZ 2331.0 {'lat': 42.083824, 'lng': -87.997013}\n",
      "DRONE_DELIVERY_START KA 2360.2 {'lat': 42.083418, 'lng': -87.99899}\n",
      "DRONE_DELIVERY_END KA 2370.2 {'lat': 42.083418, 'lng': -87.99899}\n",
      "LAND CK 2379.0 {'lat': 42.083418, 'lng': -87.998271}\n",
      "DEPART CK 2394.0 {'lat': 42.083418, 'lng': -87.998271}\n",
      "ARRIVE YQ 2427.7 {'lat': 42.082347, 'lng': -87.997503}\n",
      "DEPART YQ 2472.7 {'lat': 42.082347, 'lng': -87.997503}\n",
      "ARRIVE DY 2552.8 {'lat': 42.078036, 'lng': -87.99754}\n",
      "DEPART DY 2588.8 {'lat': 42.078036, 'lng': -87.99754}\n",
      "ARRIVE LJ 2607.9 {'lat': 42.079427, 'lng': -87.997517}\n",
      "DEPART LJ 2654.1 {'lat': 42.079427, 'lng': -87.997517}\n",
      "ARRIVE PT 2722.9 {'lat': 42.081678, 'lng': -87.996296}\n",
      "DEPART PT 2747.9 {'lat': 42.081678, 'lng': -87.996296}\n",
      "ARRIVE WJ 2808.1 {'lat': 42.083289, 'lng': -87.995084}\n",
      "DEPART WJ 2869.1 {'lat': 42.083289, 'lng': -87.995084}\n",
      "ARRIVE KE 2912.0 {'lat': 42.082599, 'lng': -87.993901}\n",
      "DEPART KE 2942.7 {'lat': 42.082599, 'lng': -87.993901}\n",
      "ARRIVE ZG 2964.4 {'lat': 42.081784, 'lng': -87.99389}\n",
      "DEPART ZG 3000.9 {'lat': 42.081784, 'lng': -87.99389}\n",
      "ARRIVE TQ 3055.1 {'lat': 42.084398, 'lng': -87.99389}\n",
      "DEPART TQ 3096.1 {'lat': 42.084398, 'lng': -87.99389}\n",
      "ARRIVE AR 3108.4 {'lat': 42.085034, 'lng': -87.99389}\n",
      "DEPART AR 3124.6 {'lat': 42.085034, 'lng': -87.99389}\n",
      "ARRIVE JY 3147.1 {'lat': 42.086056, 'lng': -87.993878}\n",
      "DEPART JY 3164.6 {'lat': 42.086056, 'lng': -87.993878}\n",
      "ARRIVE FE 3218.2 {'lat': 42.086985, 'lng': -87.99507}\n",
      "DEPART FE 3246.2 {'lat': 42.086985, 'lng': -87.99507}\n",
      "ARRIVE UY 3299.0 {'lat': 42.08833, 'lng': -87.995828}\n",
      "LOAD_START UY 3381.0 {'lat': 42.08833, 'lng': -87.995828}\n",
      "LOAD_END UY 3396.0 {'lat': 42.08833, 'lng': -87.995828}\n",
      "LAUNCH UY 3396.0 {'lat': 42.08833, 'lng': -87.995828}\n",
      "DRONE_DELIVERY_START ES 3414.4 {'lat': 42.08915, 'lng': -87.996081}\n",
      "DRONE_DELIVERY_END ES 3424.4 {'lat': 42.08915, 'lng': -87.996081}\n",
      "LAND YJ 3441.5 {'lat': 42.089541, 'lng': -87.997432}\n",
      "DEPART YJ 3468.9 {'lat': 42.089541, 'lng': -87.997432}\n",
      "ARRIVE GT 3517.4 {'lat': 42.088332, 'lng': -87.996791}\n",
      "DEPART GT 3679.4 {'lat': 42.088332, 'lng': -87.996791}\n",
      "ARRIVE OM 3708.9 {'lat': 42.088887, 'lng': -87.998786}\n",
      "DEPART OM 3970.9 {'lat': 42.088887, 'lng': -87.998786}\n",
      "ARRIVE HX 4027.3 {'lat': 42.087071, 'lng': -87.999404}\n",
      "LOAD_START HX 4171.3 {'lat': 42.087071, 'lng': -87.999404}\n",
      "LOAD_END HX 4186.3 {'lat': 42.087071, 'lng': -87.999404}\n",
      "LAUNCH HX 4186.3 {'lat': 42.087071, 'lng': -87.999404}\n",
      "DRONE_DELIVERY_START XO 4208.4 {'lat': 42.085993, 'lng': -87.999312}\n",
      "DRONE_DELIVERY_END XO 4218.4 {'lat': 42.085993, 'lng': -87.999312}\n",
      "LAND SR 4260.1 {'lat': 42.085278, 'lng': -87.999341}\n",
      "DEPART SR 4290.1 {'lat': 42.085278, 'lng': -87.999341}\n",
      "ARRIVE ZU 4342.7 {'lat': 42.083989, 'lng': -87.998673}\n",
      "DEPART ZU 4417.2 {'lat': 42.083989, 'lng': -87.998673}\n",
      "ARRIVE WD 4462.3 {'lat': 42.08518, 'lng': -87.998025}\n",
      "DEPART WD 4489.3 {'lat': 42.08518, 'lng': -87.998025}\n",
      "ARRIVE XE 4549.6 {'lat': 42.086688, 'lng': -87.996585}\n",
      "DEPART XE 4590.6 {'lat': 42.086688, 'lng': -87.996585}\n",
      "ARRIVE EY 4616.2 {'lat': 42.086684, 'lng': -87.994616}\n",
      "LOAD_START EY 4648.2 {'lat': 42.086684, 'lng': -87.994616}\n",
      "LOAD_END EY 4663.2 {'lat': 42.086684, 'lng': -87.994616}\n",
      "LAUNCH EY 4663.2 {'lat': 42.086684, 'lng': -87.994616}\n",
      "DRONE_DELIVERY_START IZ 4703.7 {'lat': 42.084998, 'lng': -87.992636}\n",
      "DRONE_DELIVERY_END IZ 4713.7 {'lat': 42.084998, 'lng': -87.992636}\n",
      "LAND DV 4744.1 {'lat': 42.083849, 'lng': -87.992659}\n",
      "DEPART DV 4776.1 {'lat': 42.083849, 'lng': -87.992659}\n",
      "ARRIVE BU 4829.9 {'lat': 42.082819, 'lng': -87.990817}\n",
      "DEPART BU 4935.9 {'lat': 42.082819, 'lng': -87.990817}\n",
      "ARRIVE HF 4953.8 {'lat': 42.082582, 'lng': -87.99024}\n",
      "DEPART HF 4973.8 {'lat': 42.082582, 'lng': -87.99024}\n",
      "ARRIVE HJ 4992.1 {'lat': 42.081621, 'lng': -87.99024}\n",
      "DEPART HJ 5022.6 {'lat': 42.081621, 'lng': -87.99024}\n",
      "ARRIVE QU 5028.8 {'lat': 42.081293, 'lng': -87.99024}\n",
      "LOAD_START QU 5045.8 {'lat': 42.081293, 'lng': -87.99024}\n",
      "LOAD_END QU 5060.8 {'lat': 42.081293, 'lng': -87.99024}\n",
      "LAUNCH QU 5060.8 {'lat': 42.081293, 'lng': -87.99024}\n",
      "DRONE_DELIVERY_START WS 5130.7 {'lat': 42.084678, 'lng': -87.987158}\n",
      "DRONE_DELIVERY_END WS 5140.7 {'lat': 42.084678, 'lng': -87.987158}\n",
      "LAND GW 5177.0 {'lat': 42.084992, 'lng': -87.9902}\n",
      "DEPART GW 5177.0 {'lat': 42.084992, 'lng': -87.9902}\n",
      "ARRIVE KL 5234.9 {'lat': 42.083763, 'lng': -87.98884}\n",
      "DEPART KL 5281.9 {'lat': 42.083763, 'lng': -87.98884}\n",
      "ARRIVE BN 5333.7 {'lat': 42.083188, 'lng': -87.98649}\n",
      "LOAD_START BN 5396.7 {'lat': 42.083188, 'lng': -87.98649}\n",
      "LOAD_END BN 5411.7 {'lat': 42.083188, 'lng': -87.98649}\n",
      "LAUNCH BN 5411.7 {'lat': 42.083188, 'lng': -87.98649}\n",
      "DRONE_DELIVERY_START DL 5430.0 {'lat': 42.082352, 'lng': -87.986575}\n",
      "DRONE_DELIVERY_END DL 5440.0 {'lat': 42.082352, 'lng': -87.986575}\n",
      "LAND ZQ 5457.4 {'lat': 42.081257, 'lng': -87.986587}\n",
      "DEPART ZQ 5483.4 {'lat': 42.081257, 'lng': -87.986587}\n",
      "ARRIVE UB 5523.7 {'lat': 42.080853, 'lng': -87.987803}\n",
      "DEPART UB 5566.2 {'lat': 42.080853, 'lng': -87.987803}\n",
      "ARRIVE QE 5592.4 {'lat': 42.08106, 'lng': -87.988673}\n",
      "DEPART QE 5811.4 {'lat': 42.08106, 'lng': -87.988673}\n",
      "ARRIVE IG 5852.8 {'lat': 42.080516, 'lng': -87.989038}\n",
      "DEPART IG 5874.8 {'lat': 42.080516, 'lng': -87.989038}\n",
      "ARRIVE QN 5893.6 {'lat': 42.07995, 'lng': -87.989047}\n",
      "DEPART QN 5928.6 {'lat': 42.07995, 'lng': -87.989047}\n",
      "ARRIVE JT 5986.8 {'lat': 42.078953, 'lng': -87.987814}\n",
      "DEPART JT 6032.8 {'lat': 42.078953, 'lng': -87.987814}\n",
      "ARRIVE WP 6120.2 {'lat': 42.077164, 'lng': -87.989049}\n",
      "DEPART WP 6158.2 {'lat': 42.077164, 'lng': -87.989049}\n",
      "ARRIVE AN 6168.9 {'lat': 42.077622, 'lng': -87.989045}\n",
      "DEPART AN 6183.9 {'lat': 42.077622, 'lng': -87.989045}\n",
      "ARRIVE NJ 6256.1 {'lat': 42.07761, 'lng': -87.990279}\n",
      "DEPART NJ 6299.6 {'lat': 42.07761, 'lng': -87.990279}\n",
      "ARRIVE KJ 6313.4 {'lat': 42.078702, 'lng': -87.990262}\n",
      "DEPART KJ 6354.9 {'lat': 42.078702, 'lng': -87.990262}\n",
      "ARRIVE KB 6358.2 {'lat': 42.07902, 'lng': -87.990255}\n",
      "LOAD_START KB 6408.2 {'lat': 42.07902, 'lng': -87.990255}\n",
      "LOAD_END KB 6423.2 {'lat': 42.07902, 'lng': -87.990255}\n",
      "LAUNCH KB 6423.2 {'lat': 42.07902, 'lng': -87.990255}\n",
      "DRONE_DELIVERY_START SP 6471.0 {'lat': 42.079265, 'lng': -87.993863}\n",
      "DRONE_DELIVERY_END SP 6481.0 {'lat': 42.079265, 'lng': -87.993863}\n",
      "LAND KP 6497.9 {'lat': 42.079943, 'lng': -87.993496}\n",
      "DEPART KP 6557.9 {'lat': 42.079943, 'lng': -87.993496}\n",
      "ARRIVE RI 6584.0 {'lat': 42.078707, 'lng': -87.993506}\n",
      "DEPART RI 6601.0 {'lat': 42.078707, 'lng': -87.993506}\n",
      "ARRIVE SD 6608.1 {'lat': 42.078367, 'lng': -87.99351}\n",
      "DEPART SD 6680.1 {'lat': 42.078367, 'lng': -87.99351}\n",
      "ARRIVE NT 6731.7 {'lat': 42.077868, 'lng': -87.995136}\n",
      "DEPART NT 6758.7 {'lat': 42.077868, 'lng': -87.995136}\n",
      "ARRIVE ZR 6803.4 {'lat': 42.080609, 'lng': -87.995112}\n",
      "DEPART ZR 6847.4 {'lat': 42.080609, 'lng': -87.995112}\n",
      "ARRIVE OC 6867.3 {'lat': 42.08157, 'lng': -87.995107}\n",
      "DEPART OC 6887.3 {'lat': 42.08157, 'lng': -87.995107}\n",
      "ARRIVE MB 6930.8 {'lat': 42.081069, 'lng': -87.993802}\n",
      "LOAD_START MB 6962.8 {'lat': 42.081069, 'lng': -87.993802}\n",
      "LOAD_END MB 6977.8 {'lat': 42.081069, 'lng': -87.993802}\n",
      "LAUNCH MB 6977.8 {'lat': 42.081069, 'lng': -87.993802}\n",
      "DRONE_DELIVERY_START ML 7014.0 {'lat': 42.079721, 'lng': -87.991875}\n",
      "DRONE_DELIVERY_END ML 7024.0 {'lat': 42.079721, 'lng': -87.991875}\n",
      "LAND PQ 7052.7 {'lat': 42.078136, 'lng': -87.991892}\n",
      "DEPART PQ 7120.7 {'lat': 42.078136, 'lng': -87.991892}\n",
      "ARRIVE QC 7147.6 {'lat': 42.077447, 'lng': -87.99285}\n",
      "LOAD_START QC 7225.1 {'lat': 42.077447, 'lng': -87.99285}\n",
      "LOAD_END QC 7240.1 {'lat': 42.077447, 'lng': -87.99285}\n",
      "LAUNCH QC 7240.1 {'lat': 42.077447, 'lng': -87.99285}\n",
      "DRONE_DELIVERY_START EG 7288.1 {'lat': 42.074832, 'lng': -87.991904}\n",
      "DRONE_DELIVERY_END EG 7298.1 {'lat': 42.074832, 'lng': -87.991904}\n",
      "LAND SZ 7348.2 {'lat': 42.074805, 'lng': -87.989059}\n",
      "DEPART SZ 7368.2 {'lat': 42.074805, 'lng': -87.989059}\n",
      "ARRIVE TW 7377.5 {'lat': 42.074219, 'lng': -87.989065}\n",
      "DEPART TW 7397.5 {'lat': 42.074219, 'lng': -87.989065}\n",
      "ARRIVE RU 7456.3 {'lat': 42.072637, 'lng': -87.98786}\n",
      "DEPART RU 7503.3 {'lat': 42.072637, 'lng': -87.98786}\n",
      "ARRIVE DK 7544.5 {'lat': 42.073787, 'lng': -87.988736}\n",
      "LOAD_START DK 7571.5 {'lat': 42.073787, 'lng': -87.988736}\n",
      "LOAD_END DK 7586.5 {'lat': 42.073787, 'lng': -87.988736}\n",
      "LAUNCH DK 7586.5 {'lat': 42.073787, 'lng': -87.988736}\n",
      "DRONE_DELIVERY_START IJ 7599.7 {'lat': 42.073796, 'lng': -87.98943}\n",
      "DRONE_DELIVERY_END IJ 7609.7 {'lat': 42.073796, 'lng': -87.98943}\n",
      "LAND RQ 7647.0 {'lat': 42.07292, 'lng': -87.990949}\n",
      "LOAD_START RQ 7793.0 {'lat': 42.07292, 'lng': -87.990949}\n",
      "LOAD_END RQ 7808.0 {'lat': 42.07292, 'lng': -87.990949}\n",
      "LAUNCH RQ 7808.0 {'lat': 42.07292, 'lng': -87.990949}\n",
      "DRONE_DELIVERY_START QF 7831.3 {'lat': 42.072014, 'lng': -87.991905}\n",
      "DRONE_DELIVERY_END QF 7841.3 {'lat': 42.072014, 'lng': -87.991905}\n",
      "LAND WE 7888.4 {'lat': 42.070717, 'lng': -87.993216}\n",
      "DEPART WE 7908.4 {'lat': 42.070717, 'lng': -87.993216}\n",
      "ARRIVE LV 7975.4 {'lat': 42.07067, 'lng': -87.99653}\n",
      "DEPART LV 8000.4 {'lat': 42.07067, 'lng': -87.99653}\n",
      "ARRIVE SG 8060.0 {'lat': 42.071435, 'lng': -87.995206}\n",
      "DEPART SG 8120.0 {'lat': 42.071435, 'lng': -87.995206}\n",
      "ARRIVE IC 8151.0 {'lat': 42.073224, 'lng': -87.995187}\n",
      "LOAD_START IC 8184.0 {'lat': 42.073224, 'lng': -87.995187}\n",
      "LOAD_END IC 8199.0 {'lat': 42.073224, 'lng': -87.995187}\n",
      "LAUNCH IC 8199.0 {'lat': 42.073224, 'lng': -87.995187}\n",
      "DRONE_DELIVERY_START ZT 8226.4 {'lat': 42.072135, 'lng': -87.993979}\n",
      "DRONE_DELIVERY_END ZT 8236.4 {'lat': 42.072135, 'lng': -87.993979}\n",
      "LAND BK 8275.8 {'lat': 42.071526, 'lng': -87.993553}\n",
      "DEPART BK 8315.3 {'lat': 42.071526, 'lng': -87.993553}\n",
      "ARRIVE AP 8356.4 {'lat': 42.070694, 'lng': -87.9916}\n",
      "DEPART AP 8404.4 {'lat': 42.070694, 'lng': -87.9916}\n",
      "ARRIVE WV 8427.7 {'lat': 42.071088, 'lng': -87.990889}\n",
      "DEPART WV 8505.7 {'lat': 42.071088, 'lng': -87.990889}\n",
      "ARRIVE JK 8536.4 {'lat': 42.071852, 'lng': -87.99034}\n",
      "DEPART JK 8552.6 {'lat': 42.071852, 'lng': -87.99034}\n",
      "ARRIVE PK 8565.0 {'lat': 42.070833, 'lng': -87.99034}\n",
      "LOAD_START PK 8590.0 {'lat': 42.070833, 'lng': -87.99034}\n",
      "LOAD_END PK 8605.0 {'lat': 42.070833, 'lng': -87.99034}\n",
      "LAUNCH PK 8605.0 {'lat': 42.070833, 'lng': -87.99034}\n",
      "DRONE_DELIVERY_START XX 8614.7 {'lat': 42.07054, 'lng': -87.99034}\n",
      "DRONE_DELIVERY_END XX 8624.7 {'lat': 42.07054, 'lng': -87.99034}\n",
      "LAND TZ 8685.3 {'lat': 42.073032, 'lng': -87.989083}\n",
      "DEPART TZ 8710.3 {'lat': 42.073032, 'lng': -87.989083}\n",
      "ARRIVE RM 8755.7 {'lat': 42.070642, 'lng': -87.989122}\n",
      "DEPART RM 8781.7 {'lat': 42.070642, 'lng': -87.989122}\n",
      "ARRIVE YF 8976.9 {'lat': 42.066965, 'lng': -87.997441}\n",
      "DEPART YF 9307.9 {'lat': 42.066965, 'lng': -87.997441}\n",
      "ARRIVE OO 9502.4 {'lat': 42.069878, 'lng': -87.989134}\n",
      "DEPART OO 9543.4 {'lat': 42.069878, 'lng': -87.989134}\n",
      "ARRIVE GU 9620.2 {'lat': 42.067764, 'lng': -87.98793}\n",
      "LOAD_START GU 9655.5 {'lat': 42.067764, 'lng': -87.98793}\n",
      "LOAD_END GU 9670.5 {'lat': 42.067764, 'lng': -87.98793}\n",
      "LAUNCH GU 9670.5 {'lat': 42.067764, 'lng': -87.98793}\n",
      "DRONE_DELIVERY_START JS 9685.5 {'lat': 42.067137, 'lng': -87.98793}\n",
      "DRONE_DELIVERY_END JS 9695.5 {'lat': 42.067137, 'lng': -87.98793}\n",
      "LAND RO 9768.3 {'lat': 42.064056, 'lng': -87.9873}\n",
      "DEPART RO 9839.3 {'lat': 42.064056, 'lng': -87.9873}\n",
      "ARRIVE LN 9953.3 {'lat': 42.065748, 'lng': -87.982377}\n",
      "LOAD_START LN 9975.3 {'lat': 42.065748, 'lng': -87.982377}\n",
      "LOAD_END LN 9990.3 {'lat': 42.065748, 'lng': -87.982377}\n",
      "LAUNCH LN 9990.3 {'lat': 42.065748, 'lng': -87.982377}\n",
      "DRONE_DELIVERY_START VM 10010.3 {'lat': 42.065541, 'lng': -87.983615}\n",
      "DRONE_DELIVERY_END VM 10020.3 {'lat': 42.065541, 'lng': -87.983615}\n",
      "LAND MA 10064.0 {'lat': 42.064014, 'lng': -87.984832}\n",
      "DEPART MA 10101.0 {'lat': 42.064014, 'lng': -87.984832}\n",
      "ARRIVE EE 10183.1 {'lat': 42.067035, 'lng': -87.98672}\n",
      "DEPART EE 10240.4 {'lat': 42.067035, 'lng': -87.98672}\n",
      "ARRIVE BR 10298.8 {'lat': 42.070313, 'lng': -87.98667}\n",
      "DEPART BR 10362.3 {'lat': 42.070313, 'lng': -87.98667}\n",
      "ARRIVE CJ 10416.6 {'lat': 42.071462, 'lng': -87.987871}\n",
      "DEPART CJ 10458.6 {'lat': 42.071462, 'lng': -87.987871}\n",
      "ARRIVE BS 10543.7 {'lat': 42.069276, 'lng': -87.98549}\n",
      "DEPART BS 10564.7 {'lat': 42.069276, 'lng': -87.98549}\n",
      "ARRIVE FP 10600.0 {'lat': 42.070906, 'lng': -87.985472}\n",
      "DEPART FP 10651.0 {'lat': 42.070906, 'lng': -87.985472}\n",
      "ARRIVE KV 10658.3 {'lat': 42.071825, 'lng': -87.985462}\n",
      "DEPART KV 10687.3 {'lat': 42.071825, 'lng': -87.985462}\n",
      "ARRIVE SX 10727.9 {'lat': 42.071192, 'lng': -87.98425}\n",
      "DEPART SX 10774.9 {'lat': 42.071192, 'lng': -87.98425}\n",
      "ARRIVE GV 10811.1 {'lat': 42.073035, 'lng': -87.984226}\n",
      "LOAD_START GV 10826.4 {'lat': 42.073035, 'lng': -87.984226}\n",
      "LOAD_END GV 10841.4 {'lat': 42.073035, 'lng': -87.984226}\n",
      "LAUNCH GV 10841.4 {'lat': 42.073035, 'lng': -87.984226}\n",
      "DRONE_DELIVERY_START FU 10900.3 {'lat': 42.069641, 'lng': -87.984256}\n",
      "DRONE_DELIVERY_END FU 10910.3 {'lat': 42.069641, 'lng': -87.984256}\n",
      "LAND LI 10950.1 {'lat': 42.067703, 'lng': -87.984291}\n",
      "LOAD_START LI 11008.1 {'lat': 42.067703, 'lng': -87.984291}\n",
      "LOAD_END LI 11023.1 {'lat': 42.067703, 'lng': -87.984291}\n",
      "LAUNCH LI 11023.1 {'lat': 42.067703, 'lng': -87.984291}\n",
      "DRONE_DELIVERY_START YY 11043.8 {'lat': 42.068107, 'lng': -87.983082}\n",
      "DRONE_DELIVERY_END YY 11053.8 {'lat': 42.068107, 'lng': -87.983082}\n",
      "LAND SQ 11096.5 {'lat': 42.069852, 'lng': -87.983063}\n",
      "DEPART SQ 11141.5 {'lat': 42.069852, 'lng': -87.983063}\n",
      "ARRIVE CZ 11162.5 {'lat': 42.070845, 'lng': -87.983048}\n",
      "DEPART CZ 11192.5 {'lat': 42.070845, 'lng': -87.983048}\n",
      "ARRIVE FB 11206.7 {'lat': 42.071561, 'lng': -87.983037}\n",
      "DEPART FB 11237.7 {'lat': 42.071561, 'lng': -87.983037}\n",
      "ARRIVE ID 11263.6 {'lat': 42.072898, 'lng': -87.98302}\n",
      "LOAD_START ID 11325.6 {'lat': 42.072898, 'lng': -87.98302}\n",
      "LOAD_END ID 11340.6 {'lat': 42.072898, 'lng': -87.98302}\n",
      "LAUNCH ID 11340.6 {'lat': 42.072898, 'lng': -87.98302}\n",
      "DRONE_DELIVERY_START KZ 11349.0 {'lat': 42.073111, 'lng': -87.983017}\n",
      "DRONE_DELIVERY_END KZ 11359.0 {'lat': 42.073111, 'lng': -87.983017}\n",
      "LAND RL 11375.5 {'lat': 42.073761, 'lng': -87.983371}\n",
      "DEPART RL 11658.5 {'lat': 42.073761, 'lng': -87.983371}\n",
      "ARRIVE NB 11687.9 {'lat': 42.073381, 'lng': -87.981774}\n",
      "DEPART NB 11743.9 {'lat': 42.073381, 'lng': -87.981774}\n",
      "ARRIVE GH 11777.6 {'lat': 42.071789, 'lng': -87.981794}\n",
      "LOAD_START GH 11829.6 {'lat': 42.071789, 'lng': -87.981794}\n",
      "LOAD_END GH 11844.6 {'lat': 42.071789, 'lng': -87.981794}\n",
      "LAUNCH GH 11844.6 {'lat': 42.071789, 'lng': -87.981794}\n",
      "DRONE_DELIVERY_START TD 11867.4 {'lat': 42.070668, 'lng': -87.981799}\n",
      "DRONE_DELIVERY_END TD 11877.4 {'lat': 42.070668, 'lng': -87.981799}\n",
      "LAND MG 11894.1 {'lat': 42.069616, 'lng': -87.981836}\n",
      "DEPART MG 11918.4 {'lat': 42.069616, 'lng': -87.981836}\n",
      "ARRIVE HV 11979.2 {'lat': 42.067617, 'lng': -87.981865}\n",
      "DEPART HV 12036.2 {'lat': 42.067617, 'lng': -87.981865}\n",
      "ARRIVE XU 12096.3 {'lat': 42.067486, 'lng': -87.980336}\n",
      "DEPART XU 12123.8 {'lat': 42.067486, 'lng': -87.980336}\n",
      "ARRIVE HK 12131.4 {'lat': 42.067066, 'lng': -87.98017}\n",
      "DEPART HK 12174.4 {'lat': 42.067066, 'lng': -87.98017}\n",
      "ARRIVE JG 12193.1 {'lat': 42.069049, 'lng': -87.980455}\n",
      "DEPART JG 12279.1 {'lat': 42.069049, 'lng': -87.980455}\n",
      "ARRIVE OB 12318.7 {'lat': 42.073263, 'lng': -87.98056}\n",
      "DEPART OB 12357.7 {'lat': 42.073263, 'lng': -87.98056}\n",
      "ARRIVE NY 12386.8 {'lat': 42.070004, 'lng': -87.980478}\n",
      "DEPART NY 12515.8 {'lat': 42.070004, 'lng': -87.980478}\n",
      "ARRIVE ZS 12519.7 {'lat': 42.069622, 'lng': -87.980469}\n",
      "DEPART ZS 12568.7 {'lat': 42.069622, 'lng': -87.980469}\n",
      "ARRIVE RA 12575.2 {'lat': 42.0688, 'lng': -87.980449}\n",
      "LOAD_START RA 12645.2 {'lat': 42.0688, 'lng': -87.980449}\n",
      "LOAD_END RA 12660.2 {'lat': 42.0688, 'lng': -87.980449}\n",
      "LAUNCH RA 12660.2 {'lat': 42.0688, 'lng': -87.980449}\n",
      "DRONE_DELIVERY_START ZV 12675.0 {'lat': 42.068307, 'lng': -87.979955}\n",
      "DRONE_DELIVERY_END ZV 12685.0 {'lat': 42.068307, 'lng': -87.979955}\n",
      "LAND QD 12717.6 {'lat': 42.067831, 'lng': -87.97746}\n",
      "DEPART QD 12777.6 {'lat': 42.067831, 'lng': -87.97746}\n",
      "ARRIVE GX 12854.0 {'lat': 42.069162, 'lng': -87.975247}\n",
      "DEPART GX 12904.0 {'lat': 42.069162, 'lng': -87.975247}\n",
      "ARRIVE MT 12932.1 {'lat': 42.068106, 'lng': -87.975267}\n",
      "DEPART MT 12983.6 {'lat': 42.068106, 'lng': -87.975267}\n",
      "ARRIVE DA 13084.5 {'lat': 42.070531, 'lng': -87.976935}\n",
      "DEPART DA 13134.5 {'lat': 42.070531, 'lng': -87.976935}\n",
      "ARRIVE ZF 13182.8 {'lat': 42.0719, 'lng': -87.975907}\n",
      "DEPART ZF 13224.8 {'lat': 42.0719, 'lng': -87.975907}\n",
      "ARRIVE GC 13267.9 {'lat': 42.072365, 'lng': -87.978148}\n",
      "LOAD_START GC 13321.9 {'lat': 42.072365, 'lng': -87.978148}\n",
      "LOAD_END GC 13336.9 {'lat': 42.072365, 'lng': -87.978148}\n",
      "LAUNCH GC 13336.9 {'lat': 42.072365, 'lng': -87.978148}\n",
      "DRONE_DELIVERY_START HO 13350.9 {'lat': 42.072935, 'lng': -87.978144}\n",
      "DRONE_DELIVERY_END HO 13360.9 {'lat': 42.072935, 'lng': -87.978144}\n",
      "LAND QK 13429.9 {'lat': 42.072833, 'lng': -87.97573}\n",
      "DEPART QK 13452.4 {'lat': 42.072833, 'lng': -87.97573}\n",
      "ARRIVE VN 13462.7 {'lat': 42.073221, 'lng': -87.975725}\n",
      "DEPART VN 13479.2 {'lat': 42.073221, 'lng': -87.975725}\n",
      "ARRIVE CI 13541.0 {'lat': 42.074373, 'lng': -87.974514}\n",
      "DEPART CI 13621.0 {'lat': 42.074373, 'lng': -87.974514}\n",
      "ARRIVE HA 13746.0 {'lat': 42.068411, 'lng': -87.973377}\n",
      "LOAD_START HA 13798.0 {'lat': 42.068411, 'lng': -87.973377}\n",
      "LOAD_END HA 13813.0 {'lat': 42.068411, 'lng': -87.973377}\n",
      "LAUNCH HA 13813.0 {'lat': 42.068411, 'lng': -87.973377}\n",
      "DRONE_DELIVERY_START JV 13888.9 {'lat': 42.064105, 'lng': -87.971764}\n",
      "DRONE_DELIVERY_END JV 13898.9 {'lat': 42.064105, 'lng': -87.971764}\n",
      "LAND GA 13941.7 {'lat': 42.0668, 'lng': -87.97185}\n",
      "DEPART GA 13948.2 {'lat': 42.0668, 'lng': -87.97185}\n",
      "ARRIVE KD 14032.0 {'lat': 42.065855, 'lng': -87.977497}\n",
      "DEPART KD 14118.0 {'lat': 42.065855, 'lng': -87.977497}\n",
      "ARRIVE AZ 14232.0 {'lat': 42.06335, 'lng': -87.97958}\n",
      "DEPART AZ 14273.8 {'lat': 42.06335, 'lng': -87.97958}\n",
      "ARRIVE FA 14343.1 {'lat': 42.063308, 'lng': -87.978695}\n",
      "DEPART FA 14395.1 {'lat': 42.063308, 'lng': -87.978695}\n",
      "ARRIVE TO 14466.2 {'lat': 42.064501, 'lng': -87.976272}\n",
      "DEPART TO 14511.2 {'lat': 42.064501, 'lng': -87.976272}\n",
      "ARRIVE AT 14522.9 {'lat': 42.063925, 'lng': -87.976261}\n",
      "DEPART AT 14571.9 {'lat': 42.063925, 'lng': -87.976261}\n",
      "ARRIVE AI 14606.2 {'lat': 42.062198, 'lng': -87.976227}\n",
      "LOAD_START AI 14661.2 {'lat': 42.062198, 'lng': -87.976227}\n",
      "LOAD_END AI 14676.2 {'lat': 42.062198, 'lng': -87.976227}\n",
      "LAUNCH AI 14676.2 {'lat': 42.062198, 'lng': -87.976227}\n",
      "DRONE_DELIVERY_START LA 14702.9 {'lat': 42.06324, 'lng': -87.975039}\n",
      "DRONE_DELIVERY_END LA 14712.9 {'lat': 42.06324, 'lng': -87.975039}\n",
      "LAND WX 14727.5 {'lat': 42.062319, 'lng': -87.975027}\n",
      "DEPART WX 14763.0 {'lat': 42.062319, 'lng': -87.975027}\n",
      "ARRIVE AW 14838.7 {'lat': 42.058784, 'lng': -87.976333}\n",
      "LOAD_START AW 14859.7 {'lat': 42.058784, 'lng': -87.976333}\n",
      "LOAD_END AW 14874.7 {'lat': 42.058784, 'lng': -87.976333}\n",
      "LAUNCH AW 14874.7 {'lat': 42.058784, 'lng': -87.976333}\n",
      "DRONE_DELIVERY_START EA 14907.5 {'lat': 42.059493, 'lng': -87.978486}\n",
      "DRONE_DELIVERY_END EA 14917.5 {'lat': 42.059493, 'lng': -87.978486}\n",
      "LAND GO 14950.3 {'lat': 42.05786, 'lng': -87.976793}\n",
      "DEPART GO 14969.4 {'lat': 42.05786, 'lng': -87.976793}\n",
      "ARRIVE IQ 14982.7 {'lat': 42.057888, 'lng': -87.975718}\n",
      "DEPART IQ 15076.7 {'lat': 42.057888, 'lng': -87.975718}\n",
      "ARRIVE SS 15168.6 {'lat': 42.057021, 'lng': -87.970697}\n",
      "DEPART SS 15202.6 {'lat': 42.057021, 'lng': -87.970697}\n",
      "ARRIVE NC 15257.3 {'lat': 42.057804, 'lng': -87.973763}\n",
      "LOAD_START NC 15282.3 {'lat': 42.057804, 'lng': -87.973763}\n",
      "LOAD_END NC 15297.3 {'lat': 42.057804, 'lng': -87.973763}\n",
      "LAUNCH NC 15297.3 {'lat': 42.057804, 'lng': -87.973763}\n",
      "DRONE_DELIVERY_START FL 15312.3 {'lat': 42.058437, 'lng': -87.973774}\n",
      "DRONE_DELIVERY_END FL 15322.3 {'lat': 42.058437, 'lng': -87.973774}\n",
      "LAND UH 15367.6 {'lat': 42.057985, 'lng': -87.971891}\n",
      "DEPART UH 15407.6 {'lat': 42.057985, 'lng': -87.971891}\n",
      "ARRIVE HE 15414.2 {'lat': 42.058269, 'lng': -87.971897}\n",
      "DEPART HE 15450.2 {'lat': 42.058269, 'lng': -87.971897}\n",
      "ARRIVE JP 15498.3 {'lat': 42.059449, 'lng': -87.97134}\n",
      "LOAD_START JP 15684.3 {'lat': 42.059449, 'lng': -87.97134}\n",
      "LOAD_END JP 15699.3 {'lat': 42.059449, 'lng': -87.97134}\n",
      "LAUNCH JP 15699.3 {'lat': 42.059449, 'lng': -87.97134}\n",
      "DRONE_DELIVERY_START NO 15732.6 {'lat': 42.058888, 'lng': -87.969064}\n",
      "DRONE_DELIVERY_END NO 15742.6 {'lat': 42.058888, 'lng': -87.969064}\n",
      "LAND PS 15779.3 {'lat': 42.057899, 'lng': -87.968286}\n",
      "DEPART PS 15810.8 {'lat': 42.057899, 'lng': -87.968286}\n",
      "ARRIVE FI 15822.3 {'lat': 42.05724, 'lng': -87.96828}\n",
      "DEPART FI 15881.3 {'lat': 42.05724, 'lng': -87.96828}\n",
      "ARRIVE MP 15948.0 {'lat': 42.05388, 'lng': -87.96823}\n",
      "DEPART MP 15977.5 {'lat': 42.05388, 'lng': -87.96823}\n",
      "ARRIVE MS 16046.3 {'lat': 42.056645, 'lng': -87.968809}\n",
      "DEPART MS 16080.8 {'lat': 42.056645, 'lng': -87.968809}\n",
      "ARRIVE HH 16121.8 {'lat': 42.058076, 'lng': -87.970113}\n",
      "DEPART HH 16160.8 {'lat': 42.058076, 'lng': -87.970113}\n",
      "ARRIVE PI 16223.6 {'lat': 42.059485, 'lng': -87.967941}\n",
      "DEPART PI 16256.6 {'lat': 42.059485, 'lng': -87.967941}\n",
      "ARRIVE WC 16273.9 {'lat': 42.060563, 'lng': -87.96788}\n",
      "DEPART WC 16308.9 {'lat': 42.060563, 'lng': -87.96788}\n",
      "ARRIVE WL 16349.2 {'lat': 42.06048, 'lng': -87.9694}\n",
      "DEPART WL 16365.2 {'lat': 42.06048, 'lng': -87.9694}\n",
      "ARRIVE NF 16416.0 {'lat': 42.061506, 'lng': -87.970157}\n",
      "DEPART NF 16446.0 {'lat': 42.061506, 'lng': -87.970157}\n",
      "ARRIVE NX 16491.1 {'lat': 42.061342, 'lng': -87.968688}\n",
      "LOAD_START NX 16524.6 {'lat': 42.061342, 'lng': -87.968688}\n",
      "LOAD_END NX 16539.6 {'lat': 42.061342, 'lng': -87.968688}\n",
      "LAUNCH NX 16539.6 {'lat': 42.061342, 'lng': -87.968688}\n",
      "DRONE_DELIVERY_START VH 16566.5 {'lat': 42.062684, 'lng': -87.968272}\n",
      "DRONE_DELIVERY_END VH 16576.5 {'lat': 42.062684, 'lng': -87.968272}\n",
      "LAND YT 16592.0 {'lat': 42.06193, 'lng': -87.96743}\n",
      "LOAD_START YT 16750.9 {'lat': 42.06193, 'lng': -87.96743}\n",
      "LOAD_END YT 16765.9 {'lat': 42.06193, 'lng': -87.96743}\n",
      "LAUNCH YT 16765.9 {'lat': 42.06193, 'lng': -87.96743}\n",
      "DRONE_DELIVERY_START VI 16797.5 {'lat': 42.060738, 'lng': -87.965852}\n",
      "DRONE_DELIVERY_END VI 16807.5 {'lat': 42.060738, 'lng': -87.965852}\n",
      "LAND BW 16836.6 {'lat': 42.060115, 'lng': -87.963538}\n",
      "DEPART BW 16869.9 {'lat': 42.060115, 'lng': -87.963538}\n",
      "ARRIVE BG 16894.1 {'lat': 42.060376, 'lng': -87.963162}\n",
      "DEPART BG 16923.1 {'lat': 42.060376, 'lng': -87.963162}\n",
      "ARRIVE SH 16958.3 {'lat': 42.061213, 'lng': -87.961773}\n",
      "DEPART SH 17017.3 {'lat': 42.061213, 'lng': -87.961773}\n",
      "ARRIVE EW 17021.5 {'lat': 42.061149, 'lng': -87.962131}\n",
      "DEPART EW 17051.5 {'lat': 42.061149, 'lng': -87.962131}\n",
      "ARRIVE IS 17091.7 {'lat': 42.061551, 'lng': -87.96487}\n",
      "DEPART IS 17121.7 {'lat': 42.061551, 'lng': -87.96487}\n",
      "ARRIVE HT 17141.3 {'lat': 42.062113, 'lng': -87.96465}\n",
      "DEPART HT 17178.3 {'lat': 42.062113, 'lng': -87.96465}\n",
      "ARRIVE OG 17272.1 {'lat': 42.062216, 'lng': -87.958719}\n",
      "LOAD_START OG 17318.1 {'lat': 42.062216, 'lng': -87.958719}\n",
      "LOAD_END OG 17333.1 {'lat': 42.062216, 'lng': -87.958719}\n",
      "LAUNCH OG 17333.1 {'lat': 42.062216, 'lng': -87.958719}\n",
      "DRONE_DELIVERY_START ST 17372.6 {'lat': 42.060266, 'lng': -87.960009}\n",
      "DRONE_DELIVERY_END ST 17382.6 {'lat': 42.060266, 'lng': -87.960009}\n",
      "LAND YM 17418.2 {'lat': 42.058261, 'lng': -87.96038}\n",
      "DEPART YM 17451.7 {'lat': 42.058261, 'lng': -87.96038}\n",
      "ARRIVE LE 17495.0 {'lat': 42.059339, 'lng': -87.961178}\n",
      "DEPART LE 17516.0 {'lat': 42.059339, 'lng': -87.961178}\n",
      "ARRIVE NQ 17583.5 {'lat': 42.058931, 'lng': -87.967106}\n",
      "DEPART NQ 17627.5 {'lat': 42.058931, 'lng': -87.967106}\n",
      "ARRIVE VV 17674.5 {'lat': 42.056799, 'lng': -87.967004}\n",
      "DEPART VV 17735.5 {'lat': 42.056799, 'lng': -87.967004}\n",
      "ARRIVE DJ 17818.2 {'lat': 42.057989, 'lng': -87.964765}\n",
      "DEPART DJ 17853.2 {'lat': 42.057989, 'lng': -87.964765}\n",
      "ARRIVE UN 17873.8 {'lat': 42.057999, 'lng': -87.963933}\n",
      "LOAD_START UN 17905.8 {'lat': 42.057999, 'lng': -87.963933}\n",
      "LOAD_END UN 17920.8 {'lat': 42.057999, 'lng': -87.963933}\n",
      "LAUNCH UN 17920.8 {'lat': 42.057999, 'lng': -87.963933}\n",
      "DRONE_DELIVERY_START MF 17937.0 {'lat': 42.05795, 'lng': -87.96299}\n",
      "DRONE_DELIVERY_END MF 17947.0 {'lat': 42.05795, 'lng': -87.96299}\n",
      "LAND GK 18052.2 {'lat': 42.056189, 'lng': -87.962803}\n",
      "DEPART GK 18070.5 {'lat': 42.056189, 'lng': -87.962803}\n",
      "ARRIVE UM 18087.2 {'lat': 42.056187, 'lng': -87.963366}\n",
      "DEPART UM 18152.2 {'lat': 42.056187, 'lng': -87.963366}\n",
      "ARRIVE XV 18258.0 {'lat': 42.055247, 'lng': -87.965074}\n",
      "DEPART XV 18293.0 {'lat': 42.055247, 'lng': -87.965074}\n",
      "ARRIVE QW 18325.8 {'lat': 42.055277, 'lng': -87.963088}\n",
      "DEPART QW 18396.8 {'lat': 42.055277, 'lng': -87.963088}\n",
      "ARRIVE IM 18464.3 {'lat': 42.054389, 'lng': -87.963086}\n",
      "DEPART IM 18531.3 {'lat': 42.054389, 'lng': -87.963086}\n",
      "ARRIVE TI 18572.1 {'lat': 42.052856, 'lng': -87.96181}\n",
      "DEPART TI 18607.6 {'lat': 42.052856, 'lng': -87.96181}\n",
      "ARRIVE NR 18656.4 {'lat': 42.051631, 'lng': -87.964416}\n",
      "DEPART NR 18691.4 {'lat': 42.051631, 'lng': -87.964416}\n",
      "ARRIVE OI 18735.1 {'lat': 42.05104, 'lng': -87.96584}\n",
      "LOAD_START OI 18782.1 {'lat': 42.05104, 'lng': -87.96584}\n",
      "LOAD_END OI 18797.1 {'lat': 42.05104, 'lng': -87.96584}\n",
      "LAUNCH OI 18797.1 {'lat': 42.05104, 'lng': -87.96584}\n",
      "DRONE_DELIVERY_START XT 18878.2 {'lat': 42.053468, 'lng': -87.971385}\n",
      "DRONE_DELIVERY_END XT 18888.2 {'lat': 42.053468, 'lng': -87.971385}\n",
      "LAND PA 18951.6 {'lat': 42.054061, 'lng': -87.971267}\n",
      "DEPART PA 18982.6 {'lat': 42.054061, 'lng': -87.971267}\n",
      "ARRIVE TE 19055.5 {'lat': 42.052537, 'lng': -87.97237}\n",
      "DEPART TE 19079.2 {'lat': 42.052537, 'lng': -87.97237}\n",
      "ARRIVE MM 19099.2 {'lat': 42.051886, 'lng': -87.972317}\n",
      "DEPART MM 19127.2 {'lat': 42.051886, 'lng': -87.972317}\n",
      "ARRIVE DI 21724.3 {'lat': 42.254346, 'lng': -87.985697}\n"
     ]
    }
   ],
   "source": [
    "test.print_drone_events()\n"
   ]
  },
  {
   "cell_type": "code",
   "execution_count": 21,
   "metadata": {},
   "outputs": [
    {
     "name": "stdout",
     "output_type": "stream",
     "text": [
      "DEPART HI 0 {'lat': 42.031368, 'lng': -87.776596}\n",
      "ARRIVE RC 281.6 {'lat': 42.034701, 'lng': -87.787183}\n",
      "ARRIVE OM 513.5 {'lat': 42.0347, 'lng': -87.78652}\n",
      "LOAD_END OM 549.0 {'lat': 42.0347, 'lng': -87.78652}\n",
      "LAUNCH OM 549.0 {'lat': 42.0347, 'lng': -87.78652}\n",
      "DRONE_DELIVERY_START KN 936.3 {'lat': 42.011134, 'lng': -87.793221}\n",
      "DRONE_DELIVERY_END KN 946.3 {'lat': 42.011134, 'lng': -87.793221}\n",
      "LAND UB 1042.7 {'lat': 42.010624, 'lng': -87.794307}\n",
      "ARRIVE FM 1104.0 {'lat': 42.01097, 'lng': -87.795053}\n",
      "ARRIVE LX 1227.9 {'lat': 42.009862, 'lng': -87.797879}\n",
      "ARRIVE PC 1295.0 {'lat': 42.010552, 'lng': -87.798468}\n",
      "ARRIVE KQ 1421.1 {'lat': 42.013021, 'lng': -87.798192}\n",
      "ARRIVE RI 1559.6 {'lat': 42.01369, 'lng': -87.79821}\n",
      "ARRIVE UV 1818.6 {'lat': 42.010971, 'lng': -87.801941}\n",
      "ARRIVE CF 1933.8 {'lat': 42.010627, 'lng': -87.800602}\n",
      "ARRIVE VG 2090.4 {'lat': 42.008005, 'lng': -87.79719}\n",
      "ARRIVE OC 2249.5 {'lat': 42.007219, 'lng': -87.795648}\n",
      "ARRIVE ZP 2383.8 {'lat': 42.008275, 'lng': -87.795104}\n",
      "ARRIVE RH 2549.2 {'lat': 42.007952, 'lng': -87.796026}\n",
      "ARRIVE RQ 2938.8 {'lat': 42.006485, 'lng': -87.792609}\n",
      "ARRIVE TA 3026.3 {'lat': 42.005116, 'lng': -87.792748}\n",
      "ARRIVE FQ 3265.1 {'lat': 42.003678, 'lng': -87.793309}\n",
      "ARRIVE LR 3463.1 {'lat': 42.000146, 'lng': -87.79231}\n",
      "ARRIVE HT 3584.7 {'lat': 41.998338, 'lng': -87.79232}\n",
      "ARRIVE GG 3652.8 {'lat': 41.998243, 'lng': -87.792661}\n",
      "ARRIVE AL 3967.3 {'lat': 41.996075, 'lng': -87.792091}\n",
      "ARRIVE OA 4162.1 {'lat': 41.997329, 'lng': -87.791731}\n",
      "ARRIVE BH 4229.8 {'lat': 41.99733, 'lng': -87.793534}\n",
      "ARRIVE AT 4478.3 {'lat': 41.998229, 'lng': -87.79514}\n",
      "ARRIVE MD 4568.7 {'lat': 41.99755, 'lng': -87.79558}\n",
      "ARRIVE QD 4620.7 {'lat': 41.99704, 'lng': -87.795522}\n",
      "ARRIVE LD 4876.0 {'lat': 41.997123, 'lng': -87.796471}\n",
      "LOAD_END LD 4988.0 {'lat': 41.997123, 'lng': -87.796471}\n",
      "LAUNCH LD 4988.0 {'lat': 41.997123, 'lng': -87.796471}\n",
      "DRONE_DELIVERY_START VM 5014.0 {'lat': 41.997329, 'lng': -87.794719}\n",
      "DRONE_DELIVERY_END VM 5024.0 {'lat': 41.997329, 'lng': -87.794719}\n",
      "LAND OL 5072.4 {'lat': 41.998375, 'lng': -87.790875}\n",
      "ARRIVE UU 5141.5 {'lat': 41.999753, 'lng': -87.790855}\n",
      "ARRIVE HP 5277.4 {'lat': 41.999589, 'lng': -87.79231}\n",
      "ARRIVE PH 5504.7 {'lat': 41.999136, 'lng': -87.791805}\n",
      "ARRIVE SR 5558.2 {'lat': 41.99914, 'lng': -87.793113}\n",
      "LOAD_END SR 5648.2 {'lat': 41.99914, 'lng': -87.793113}\n",
      "LAUNCH SR 5648.2 {'lat': 41.99914, 'lng': -87.793113}\n",
      "DRONE_DELIVERY_START CR 5681.7 {'lat': 42.000933, 'lng': -87.79313}\n",
      "DRONE_DELIVERY_END CR 5691.7 {'lat': 42.000933, 'lng': -87.79313}\n",
      "LAND QF 5733.1 {'lat': 42.000956, 'lng': -87.79457}\n",
      "ARRIVE RJ 5782.9 {'lat': 42.000943, 'lng': -87.795988}\n",
      "ARRIVE KG 5929.7 {'lat': 42.000039, 'lng': -87.79394}\n",
      "ARRIVE EN 6002.1 {'lat': 41.999135, 'lng': -87.794743}\n",
      "LOAD_END EN 6044.1 {'lat': 41.999135, 'lng': -87.794743}\n",
      "LAUNCH EN 6044.1 {'lat': 41.999135, 'lng': -87.794743}\n",
      "DRONE_DELIVERY_START GP 6065.9 {'lat': 41.99902, 'lng': -87.796154}\n",
      "DRONE_DELIVERY_END GP 6075.9 {'lat': 41.99902, 'lng': -87.796154}\n",
      "LAND MR 6096.8 {'lat': 41.999315, 'lng': -87.79718}\n",
      "LOAD_END MR 6153.0 {'lat': 41.999315, 'lng': -87.79718}\n",
      "LAUNCH MR 6153.0 {'lat': 41.999315, 'lng': -87.79718}\n",
      "DRONE_DELIVERY_START RT 6170.8 {'lat': 41.999088, 'lng': -87.79822}\n",
      "DRONE_DELIVERY_END RT 6180.8 {'lat': 41.999088, 'lng': -87.79822}\n",
      "LAND CO 6220.3 {'lat': 41.99917, 'lng': -87.799312}\n",
      "ARRIVE ZR 6267.9 {'lat': 41.999576, 'lng': -87.79939}\n",
      "ARRIVE VY 6352.7 {'lat': 41.998067, 'lng': -87.799095}\n",
      "ARRIVE HG 6427.0 {'lat': 41.997146, 'lng': -87.798873}\n",
      "LOAD_END HG 6505.5 {'lat': 41.997146, 'lng': -87.798873}\n",
      "LAUNCH HG 6505.5 {'lat': 41.997146, 'lng': -87.798873}\n",
      "DRONE_DELIVERY_START PZ 6519.3 {'lat': 41.99675, 'lng': -87.798357}\n",
      "DRONE_DELIVERY_END PZ 6529.3 {'lat': 41.99675, 'lng': -87.798357}\n",
      "LAND RF 6663.1 {'lat': 41.995894, 'lng': -87.797924}\n",
      "ARRIVE XC 6753.6 {'lat': 41.995991, 'lng': -87.798595}\n",
      "ARRIVE RM 6824.4 {'lat': 41.995669, 'lng': -87.799833}\n",
      "ARRIVE EB 6964.9 {'lat': 41.995416, 'lng': -87.800586}\n",
      "ARRIVE EO 7036.8 {'lat': 41.996377, 'lng': -87.800697}\n",
      "ARRIVE YK 7162.1 {'lat': 41.996665, 'lng': -87.800755}\n",
      "ARRIVE QL 7423.1 {'lat': 42.001457, 'lng': -87.801711}\n",
      "ARRIVE TU 7577.6 {'lat': 41.999245, 'lng': -87.800336}\n",
      "LOAD_END TU 7619.6 {'lat': 41.999245, 'lng': -87.800336}\n",
      "LAUNCH TU 7619.6 {'lat': 41.999245, 'lng': -87.800336}\n",
      "DRONE_DELIVERY_START HZ 7632.9 {'lat': 41.99873, 'lng': -87.800221}\n",
      "DRONE_DELIVERY_END HZ 7642.9 {'lat': 41.99873, 'lng': -87.800221}\n",
      "LAND LG 7677.2 {'lat': 41.998481, 'lng': -87.799531}\n",
      "ARRIVE DE 7714.1 {'lat': 41.998176, 'lng': -87.800411}\n",
      "ARRIVE AK 7791.4 {'lat': 41.998574, 'lng': -87.801173}\n",
      "ARRIVE LQ 7870.3 {'lat': 41.999252, 'lng': -87.801336}\n",
      "ARRIVE VC 8027.9 {'lat': 41.999572, 'lng': -87.801413}\n",
      "ARRIVE AS 8149.8 {'lat': 41.999975, 'lng': -87.803708}\n",
      "ARRIVE IF 8212.7 {'lat': 42.000255, 'lng': -87.804156}\n",
      "ARRIVE DW 8278.0 {'lat': 42.001302, 'lng': -87.804143}\n",
      "ARRIVE VN 8405.1 {'lat': 42.000087, 'lng': -87.802951}\n",
      "LOAD_END VN 8473.1 {'lat': 42.000087, 'lng': -87.802951}\n",
      "LAUNCH VN 8473.1 {'lat': 42.000087, 'lng': -87.802951}\n",
      "DRONE_DELIVERY_START XG 8498.0 {'lat': 41.998833, 'lng': -87.802975}\n",
      "DRONE_DELIVERY_END XG 8508.0 {'lat': 41.998833, 'lng': -87.802975}\n",
      "LAND IZ 8517.4 {'lat': 41.998241, 'lng': -87.802978}\n",
      "LOAD_END IZ 8576.2 {'lat': 41.998241, 'lng': -87.802978}\n",
      "LAUNCH IZ 8576.2 {'lat': 41.998241, 'lng': -87.802978}\n",
      "DRONE_DELIVERY_START BF 8599.8 {'lat': 41.997099, 'lng': -87.803337}\n",
      "DRONE_DELIVERY_END BF 8609.8 {'lat': 41.997099, 'lng': -87.803337}\n",
      "LAND SJ 8626.0 {'lat': 41.996189, 'lng': -87.802725}\n",
      "ARRIVE JT 8732.1 {'lat': 41.997647, 'lng': -87.801948}\n",
      "ARRIVE VE 8829.0 {'lat': 41.99767, 'lng': -87.804194}\n",
      "LOAD_END VE 8889.0 {'lat': 41.99767, 'lng': -87.804194}\n",
      "LAUNCH VE 8889.0 {'lat': 41.99767, 'lng': -87.804194}\n",
      "DRONE_DELIVERY_START XQ 8918.2 {'lat': 41.998657, 'lng': -87.80575}\n",
      "DRONE_DELIVERY_END XQ 8928.2 {'lat': 41.998657, 'lng': -87.80575}\n",
      "LAND SO 9024.8 {'lat': 42.000165, 'lng': -87.805366}\n",
      "LOAD_END SO 9176.8 {'lat': 42.000165, 'lng': -87.805366}\n",
      "LAUNCH SO 9176.8 {'lat': 42.000165, 'lng': -87.805366}\n",
      "DRONE_DELIVERY_START II 9192.0 {'lat': 41.999534, 'lng': -87.805207}\n",
      "DRONE_DELIVERY_END II 9202.0 {'lat': 41.999534, 'lng': -87.805207}\n",
      "LAND AZ 9225.1 {'lat': 41.999487, 'lng': -87.80489}\n",
      "LOAD_END AZ 9281.3 {'lat': 41.999487, 'lng': -87.80489}\n",
      "LAUNCH AZ 9281.3 {'lat': 41.999487, 'lng': -87.80489}\n",
      "DRONE_DELIVERY_START SK 9295.0 {'lat': 41.998939, 'lng': -87.804897}\n",
      "DRONE_DELIVERY_END SK 9305.0 {'lat': 41.998939, 'lng': -87.804897}\n",
      "LAND HD 9328.5 {'lat': 41.997493, 'lng': -87.804903}\n",
      "LOAD_END HD 9407.5 {'lat': 41.997493, 'lng': -87.804903}\n",
      "LAUNCH HD 9407.5 {'lat': 41.997493, 'lng': -87.804903}\n",
      "DRONE_DELIVERY_START ZL 9417.3 {'lat': 41.997757, 'lng': -87.804697}\n",
      "DRONE_DELIVERY_END ZL 9427.3 {'lat': 41.997757, 'lng': -87.804697}\n",
      "LAND NT 9444.2 {'lat': 41.997789, 'lng': -87.80612}\n",
      "ARRIVE AY 9568.3 {'lat': 41.997768, 'lng': -87.808075}\n",
      "LOAD_END AY 9693.3 {'lat': 41.997768, 'lng': -87.808075}\n",
      "LAUNCH AY 9693.3 {'lat': 41.997768, 'lng': -87.808075}\n",
      "DRONE_DELIVERY_START IN 9767.6 {'lat': 41.995023, 'lng': -87.803519}\n",
      "DRONE_DELIVERY_END IN 9777.6 {'lat': 41.995023, 'lng': -87.803519}\n",
      "LAND WK 9859.9 {'lat': 41.998363, 'lng': -87.808835}\n",
      "ARRIVE CB 9911.6 {'lat': 41.998772, 'lng': -87.809717}\n",
      "LOAD_END CB 9981.7 {'lat': 41.998772, 'lng': -87.809717}\n",
      "LAUNCH CB 9981.7 {'lat': 41.998772, 'lng': -87.809717}\n",
      "DRONE_DELIVERY_START XR 9994.7 {'lat': 41.999088, 'lng': -87.810239}\n",
      "DRONE_DELIVERY_END XR 10004.7 {'lat': 41.999088, 'lng': -87.810239}\n",
      "LAND MS 10011.1 {'lat': 41.999348, 'lng': -87.81066}\n",
      "LOAD_END MS 10139.8 {'lat': 41.999348, 'lng': -87.81066}\n",
      "LAUNCH MS 10139.8 {'lat': 41.999348, 'lng': -87.81066}\n",
      "DRONE_DELIVERY_START GA 10164.9 {'lat': 42.000154, 'lng': -87.811975}\n",
      "DRONE_DELIVERY_END GA 10174.9 {'lat': 42.000154, 'lng': -87.811975}\n",
      "LAND OX 10188.5 {'lat': 42.000722, 'lng': -87.812836}\n",
      "ARRIVE VP 10325.6 {'lat': 42.000272, 'lng': -87.813855}\n",
      "ARRIVE YP 10420.0 {'lat': 41.999506, 'lng': -87.811694}\n",
      "LOAD_END YP 10482.0 {'lat': 41.999506, 'lng': -87.811694}\n",
      "LAUNCH YP 10482.0 {'lat': 41.999506, 'lng': -87.811694}\n",
      "DRONE_DELIVERY_START TY 10522.2 {'lat': 42.001191, 'lng': -87.81363}\n",
      "DRONE_DELIVERY_END TY 10532.2 {'lat': 42.001191, 'lng': -87.81363}\n",
      "LAND EH 10570.2 {'lat': 42.002343, 'lng': -87.813477}\n",
      "ARRIVE SE 10693.9 {'lat': 42.00365, 'lng': -87.81162}\n",
      "ARRIVE SW 10807.1 {'lat': 42.003264, 'lng': -87.812408}\n",
      "ARRIVE GN 10918.5 {'lat': 42.000915, 'lng': -87.813199}\n",
      "ARRIVE YO 10951.1 {'lat': 42.001229, 'lng': -87.81315}\n",
      "ARRIVE AX 11023.4 {'lat': 42.002125, 'lng': -87.8121}\n",
      "ARRIVE FD 11165.6 {'lat': 42.002129, 'lng': -87.810404}\n",
      "ARRIVE MF 11284.8 {'lat': 42.001133, 'lng': -87.810921}\n",
      "ARRIVE YW 11354.7 {'lat': 42.001364, 'lng': -87.811297}\n",
      "ARRIVE ZT 11481.6 {'lat': 42.000817, 'lng': -87.811985}\n",
      "ARRIVE FT 11545.7 {'lat': 42.000528, 'lng': -87.812197}\n",
      "ARRIVE VF 11636.8 {'lat': 42.000715, 'lng': -87.810225}\n",
      "ARRIVE EP 11795.9 {'lat': 42.000434, 'lng': -87.809755}\n",
      "ARRIVE ZY 11919.3 {'lat': 41.998993, 'lng': -87.807404}\n",
      "ARRIVE NF 12116.2 {'lat': 42.000498, 'lng': -87.807978}\n",
      "LOAD_END NF 12181.2 {'lat': 42.000498, 'lng': -87.807978}\n",
      "LAUNCH NF 12181.2 {'lat': 42.000498, 'lng': -87.807978}\n",
      "DRONE_DELIVERY_START XJ 12200.7 {'lat': 42.000607, 'lng': -87.806763}\n",
      "DRONE_DELIVERY_END XJ 12210.7 {'lat': 42.000607, 'lng': -87.806763}\n",
      "LAND HE 12232.6 {'lat': 42.000304, 'lng': -87.806766}\n",
      "ARRIVE VZ 12305.9 {'lat': 42.003052, 'lng': -87.806736}\n",
      "ARRIVE HX 12536.0 {'lat': 42.001399, 'lng': -87.806753}\n",
      "ARRIVE GT 12666.5 {'lat': 42.001478, 'lng': -87.807966}\n",
      "ARRIVE YF 12742.2 {'lat': 42.002147, 'lng': -87.807963}\n",
      "ARRIVE RR 12845.2 {'lat': 42.003926, 'lng': -87.807953}\n",
      "ARRIVE WU 12949.4 {'lat': 42.004253, 'lng': -87.809171}\n",
      "ARRIVE ZM 13003.0 {'lat': 42.003884, 'lng': -87.809173}\n",
      "LOAD_END ZM 13130.0 {'lat': 42.003884, 'lng': -87.809173}\n",
      "LAUNCH ZM 13130.0 {'lat': 42.003884, 'lng': -87.809173}\n",
      "DRONE_DELIVERY_START ER 13179.9 {'lat': 42.001054, 'lng': -87.809196}\n",
      "DRONE_DELIVERY_END ER 13189.9 {'lat': 42.001054, 'lng': -87.809196}\n",
      "LAND RN 13207.8 {'lat': 42.002181, 'lng': -87.809184}\n",
      "ARRIVE TW 13241.2 {'lat': 42.003142, 'lng': -87.809177}\n",
      "ARRIVE OJ 13333.6 {'lat': 42.003425, 'lng': -87.81039}\n",
      "ARRIVE FB 13414.8 {'lat': 42.004096, 'lng': -87.810383}\n",
      "LOAD_END FB 13458.8 {'lat': 42.004096, 'lng': -87.810383}\n",
      "LAUNCH FB 13458.8 {'lat': 42.004096, 'lng': -87.810383}\n",
      "DRONE_DELIVERY_START BY 13486.3 {'lat': 42.00523, 'lng': -87.811527}\n",
      "DRONE_DELIVERY_END BY 13496.3 {'lat': 42.00523, 'lng': -87.811527}\n",
      "LAND OQ 13555.8 {'lat': 42.005277, 'lng': -87.810015}\n",
      "ARRIVE BJ 13617.2 {'lat': 42.005326, 'lng': -87.808377}\n",
      "ARRIVE SC 13733.0 {'lat': 42.006286, 'lng': -87.807795}\n",
      "ARRIVE HL 13797.8 {'lat': 42.006256, 'lng': -87.808667}\n",
      "ARRIVE RU 13853.5 {'lat': 42.00622, 'lng': -87.809753}\n",
      "ARRIVE XS 14041.0 {'lat': 42.007188, 'lng': -87.807211}\n",
      "ARRIVE MT 14090.9 {'lat': 42.007122, 'lng': -87.808835}\n",
      "ARRIVE AU 14195.5 {'lat': 42.007093, 'lng': -87.809642}\n",
      "ARRIVE KT 14239.2 {'lat': 42.007073, 'lng': -87.810333}\n",
      "ARRIVE QW 14293.7 {'lat': 42.007232, 'lng': -87.810996}\n",
      "ARRIVE HV 14377.0 {'lat': 42.008002, 'lng': -87.810104}\n",
      "ARRIVE TG 14444.8 {'lat': 42.008041, 'lng': -87.808792}\n",
      "ARRIVE ND 14567.0 {'lat': 42.008096, 'lng': -87.807088}\n",
      "ARRIVE FS 14931.8 {'lat': 42.01012, 'lng': -87.804512}\n",
      "ARRIVE NA 15032.1 {'lat': 42.009807, 'lng': -87.80412}\n",
      "ARRIVE YR 15151.3 {'lat': 42.010099, 'lng': -87.803753}\n",
      "ARRIVE IG 15388.0 {'lat': 42.008968, 'lng': -87.808176}\n",
      "ARRIVE WA 15480.6 {'lat': 42.009158, 'lng': -87.81097}\n",
      "LOAD_END WA 15534.6 {'lat': 42.009158, 'lng': -87.81097}\n",
      "LAUNCH WA 15534.6 {'lat': 42.009158, 'lng': -87.81097}\n",
      "DRONE_DELIVERY_START VS 15571.5 {'lat': 42.009292, 'lng': -87.813657}\n",
      "DRONE_DELIVERY_END VS 15581.5 {'lat': 42.009292, 'lng': -87.813657}\n",
      "LAND LH 15619.5 {'lat': 42.008439, 'lng': -87.813671}\n",
      "ARRIVE JL 15686.1 {'lat': 42.00789, 'lng': -87.813953}\n",
      "ARRIVE WH 15766.3 {'lat': 42.006678, 'lng': -87.813694}\n",
      "LOAD_END WH 15816.3 {'lat': 42.006678, 'lng': -87.813694}\n",
      "LAUNCH WH 15816.3 {'lat': 42.006678, 'lng': -87.813694}\n",
      "DRONE_DELIVERY_START ZJ 15839.9 {'lat': 42.007201, 'lng': -87.812288}\n",
      "DRONE_DELIVERY_END ZJ 15849.9 {'lat': 42.007201, 'lng': -87.812288}\n",
      "LAND KS 15883.1 {'lat': 42.005355, 'lng': -87.812317}\n",
      "LOAD_END KS 16052.1 {'lat': 42.005355, 'lng': -87.812317}\n",
      "LAUNCH KS 16052.1 {'lat': 42.005355, 'lng': -87.812317}\n",
      "DRONE_DELIVERY_START DN 16065.8 {'lat': 42.004804, 'lng': -87.812329}\n",
      "DRONE_DELIVERY_END DN 16075.8 {'lat': 42.004804, 'lng': -87.812329}\n",
      "LAND YQ 16130.6 {'lat': 42.005271, 'lng': -87.8137}\n",
      "ARRIVE NV 16206.7 {'lat': 42.004224, 'lng': -87.814218}\n",
      "ARRIVE ZQ 16359.6 {'lat': 42.002875, 'lng': -87.81836}\n",
      "ARRIVE JH 16416.7 {'lat': 42.00332, 'lng': -87.819132}\n",
      "ARRIVE WS 16502.0 {'lat': 42.002324, 'lng': -87.816642}\n",
      "ARRIVE WD 16647.5 {'lat': 42.003141, 'lng': -87.815812}\n",
      "ARRIVE NI 16782.3 {'lat': 42.003996, 'lng': -87.813184}\n",
      "LOAD_END NI 16853.3 {'lat': 42.003996, 'lng': -87.813184}\n",
      "LAUNCH NI 16853.3 {'lat': 42.003996, 'lng': -87.813184}\n",
      "DRONE_DELIVERY_START DG 16877.9 {'lat': 42.003057, 'lng': -87.814257}\n",
      "DRONE_DELIVERY_END DG 16887.9 {'lat': 42.003057, 'lng': -87.814257}\n",
      "LAND OK 17016.5 {'lat': 42.00187, 'lng': -87.816372}\n",
      "ARRIVE NM 17168.3 {'lat': 42.003788, 'lng': -87.814852}\n",
      "ARRIVE AM 17281.9 {'lat': 42.004423, 'lng': -87.815098}\n",
      "ARRIVE DS 17316.8 {'lat': 42.005222, 'lng': -87.815089}\n",
      "ARRIVE NZ 17394.3 {'lat': 42.005805, 'lng': -87.815083}\n",
      "ARRIVE XW 17496.3 {'lat': 42.005393, 'lng': -87.816456}\n",
      "LOAD_END XW 17582.3 {'lat': 42.005393, 'lng': -87.816456}\n",
      "LAUNCH XW 17582.3 {'lat': 42.005393, 'lng': -87.816456}\n",
      "DRONE_DELIVERY_START MC 17601.8 {'lat': 42.005649, 'lng': -87.817634}\n",
      "DRONE_DELIVERY_END MC 17611.8 {'lat': 42.005649, 'lng': -87.817634}\n",
      "LAND AV 17646.2 {'lat': 42.006633, 'lng': -87.817621}\n",
      "ARRIVE WL 17805.2 {'lat': 42.009571, 'lng': -87.817584}\n",
      "ARRIVE HI 18711.5 {'lat': 42.031368, 'lng': -87.776596}\n"
     ]
    }
   ],
   "source": [
    "test.print_drone_events()"
   ]
  },
  {
   "cell_type": "code",
   "execution_count": 22,
   "metadata": {},
   "outputs": [
    {
     "data": {
      "text/plain": [
       "139"
      ]
     },
     "execution_count": 22,
     "metadata": {},
     "output_type": "execute_result"
    }
   ],
   "source": [
    "route_data_ordered = pd.concat([route_data_route_df[route_data_route_df['stop_id'] == stop_id] for stop_id in test.vehicle_path]).reset_index(drop=True)\n",
    "len(route_data_ordered)"
   ]
  },
  {
   "cell_type": "code",
   "execution_count": 23,
   "metadata": {},
   "outputs": [
    {
     "data": {
      "application/vnd.plotly.v1+json": {
       "config": {
        "plotlyServerURL": "https://plot.ly"
       },
       "data": [
        {
         "hoverinfo": "none",
         "lat": [
          42.031368,
          42.034701,
          42.0347,
          42.010624,
          42.01097,
          42.009862,
          42.010552,
          42.013021,
          42.01369,
          42.010971,
          42.010627,
          42.008005,
          42.007219,
          42.008275,
          42.007952,
          42.006485,
          42.005116,
          42.003678,
          42.000146,
          41.998338,
          41.998243,
          41.996075,
          41.997329,
          41.99733,
          41.998229,
          41.99755,
          41.99704,
          41.997123,
          41.998375,
          41.999753,
          41.999589,
          41.999136,
          41.99914,
          42.000956,
          42.000943,
          42.000039,
          41.999135,
          41.999315,
          41.99917,
          41.999576,
          41.998067,
          41.997146,
          41.995894,
          41.995991,
          41.995669,
          41.995416,
          41.996377,
          41.996665,
          42.001457,
          41.999245,
          41.998481,
          41.998176,
          41.998574,
          41.999252,
          41.999572,
          41.999975,
          42.000255,
          42.001302,
          42.000087,
          41.998241,
          41.996189,
          41.997647,
          41.99767,
          42.000165,
          41.999487,
          41.997493,
          41.997789,
          41.997768,
          41.998363,
          41.998772,
          41.999348,
          42.000722,
          42.000272,
          41.999506,
          42.002343,
          42.00365,
          42.003264,
          42.000915,
          42.001229,
          42.002125,
          42.002129,
          42.001133,
          42.001364,
          42.000817,
          42.000528,
          42.000715,
          42.000434,
          41.998993,
          42.000498,
          42.000304,
          42.003052,
          42.001399,
          42.001478,
          42.002147,
          42.003926,
          42.004253,
          42.003884,
          42.002181,
          42.003142,
          42.003425,
          42.004096,
          42.005277,
          42.005326,
          42.006286,
          42.006256,
          42.00622,
          42.007188,
          42.007122,
          42.007093,
          42.007073,
          42.007232,
          42.008002,
          42.008041,
          42.008096,
          42.01012,
          42.009807,
          42.010099,
          42.008968,
          42.009158,
          42.008439,
          42.00789,
          42.006678,
          42.005355,
          42.005271,
          42.004224,
          42.002875,
          42.00332,
          42.002324,
          42.003141,
          42.003996,
          42.00187,
          42.003788,
          42.004423,
          42.005222,
          42.005805,
          42.005393,
          42.006633,
          42.009571,
          42.031368
         ],
         "line": {
          "color": "blue",
          "width": 2
         },
         "lon": [
          -87.776596,
          -87.787183,
          -87.78652,
          -87.794307,
          -87.795053,
          -87.797879,
          -87.798468,
          -87.798192,
          -87.79821,
          -87.801941,
          -87.800602,
          -87.79719,
          -87.795648,
          -87.795104,
          -87.796026,
          -87.792609,
          -87.792748,
          -87.793309,
          -87.79231,
          -87.79232,
          -87.792661,
          -87.792091,
          -87.791731,
          -87.793534,
          -87.79514,
          -87.79558,
          -87.795522,
          -87.796471,
          -87.790875,
          -87.790855,
          -87.79231,
          -87.791805,
          -87.793113,
          -87.79457,
          -87.795988,
          -87.79394,
          -87.794743,
          -87.79718,
          -87.799312,
          -87.79939,
          -87.799095,
          -87.798873,
          -87.797924,
          -87.798595,
          -87.799833,
          -87.800586,
          -87.800697,
          -87.800755,
          -87.801711,
          -87.800336,
          -87.799531,
          -87.800411,
          -87.801173,
          -87.801336,
          -87.801413,
          -87.803708,
          -87.804156,
          -87.804143,
          -87.802951,
          -87.802978,
          -87.802725,
          -87.801948,
          -87.804194,
          -87.805366,
          -87.80489,
          -87.804903,
          -87.80612,
          -87.808075,
          -87.808835,
          -87.809717,
          -87.81066,
          -87.812836,
          -87.813855,
          -87.811694,
          -87.813477,
          -87.81162,
          -87.812408,
          -87.813199,
          -87.81315,
          -87.8121,
          -87.810404,
          -87.810921,
          -87.811297,
          -87.811985,
          -87.812197,
          -87.810225,
          -87.809755,
          -87.807404,
          -87.807978,
          -87.806766,
          -87.806736,
          -87.806753,
          -87.807966,
          -87.807963,
          -87.807953,
          -87.809171,
          -87.809173,
          -87.809184,
          -87.809177,
          -87.81039,
          -87.810383,
          -87.810015,
          -87.808377,
          -87.807795,
          -87.808667,
          -87.809753,
          -87.807211,
          -87.808835,
          -87.809642,
          -87.810333,
          -87.810996,
          -87.810104,
          -87.808792,
          -87.807088,
          -87.804512,
          -87.80412,
          -87.803753,
          -87.808176,
          -87.81097,
          -87.813671,
          -87.813953,
          -87.813694,
          -87.812317,
          -87.8137,
          -87.814218,
          -87.81836,
          -87.819132,
          -87.816642,
          -87.815812,
          -87.813184,
          -87.816372,
          -87.814852,
          -87.815098,
          -87.815089,
          -87.815083,
          -87.816456,
          -87.817621,
          -87.817584,
          -87.776596
         ],
         "mode": "lines",
         "type": "scattermapbox"
        },
        {
         "hoverinfo": "text",
         "lat": [],
         "lon": [],
         "marker": {
          "size": 15
         },
         "mode": "markers",
         "name": "nan",
         "text": [],
         "type": "scattermapbox"
        },
        {
         "hoverinfo": "text",
         "lat": [
          42.034701,
          42.0347,
          42.010624,
          42.01097,
          42.009862,
          42.010552
         ],
         "lon": [
          -87.787183,
          -87.78652,
          -87.794307,
          -87.795053,
          -87.797879,
          -87.798468
         ],
         "marker": {
          "size": 15
         },
         "mode": "markers",
         "name": "E-7.1C",
         "text": [
          "Sequence: 1<br> Stop ID: RC<br>Zone ID: E-7.1C<br>Num Packages: 2.0 <br> Service Time: 215.5",
          "Sequence: 2<br> Stop ID: OM<br>Zone ID: E-7.1C<br>Num Packages: 2.0 <br> Service Time: 20.5",
          "Sequence: 3<br> Stop ID: UB<br>Zone ID: E-7.1C<br>Num Packages: 1.0 <br> Service Time: 39.0",
          "Sequence: 4<br> Stop ID: FM<br>Zone ID: E-7.1C<br>Num Packages: 1.0 <br> Service Time: 51.0",
          "Sequence: 5<br> Stop ID: LX<br>Zone ID: E-7.1C<br>Num Packages: 1.0 <br> Service Time: 52.0",
          "Sequence: 6<br> Stop ID: PC<br>Zone ID: E-7.1C<br>Num Packages: 1.0 <br> Service Time: 41.0"
         ],
         "type": "scattermapbox"
        },
        {
         "hoverinfo": "text",
         "lat": [
          42.013021,
          42.01369,
          42.010971,
          42.010627,
          42.008005,
          42.007219,
          42.008275,
          42.007952,
          42.006485,
          42.005116
         ],
         "lon": [
          -87.798192,
          -87.79821,
          -87.801941,
          -87.800602,
          -87.79719,
          -87.795648,
          -87.795104,
          -87.796026,
          -87.792609,
          -87.792748
         ],
         "marker": {
          "size": 15
         },
         "mode": "markers",
         "name": "E-7.1B",
         "text": [
          "Sequence: 7<br> Stop ID: KQ<br>Zone ID: E-7.1B<br>Num Packages: 2.0 <br> Service Time: 118.0",
          "Sequence: 8<br> Stop ID: RI<br>Zone ID: E-7.1B<br>Num Packages: 1.0 <br> Service Time: 49.0",
          "Sequence: 9<br> Stop ID: UV<br>Zone ID: E-7.1B<br>Num Packages: 1.0 <br> Service Time: 28.0",
          "Sequence: 10<br> Stop ID: CF<br>Zone ID: E-7.1B<br>Num Packages: 3.0 <br> Service Time: 18.7",
          "Sequence: 11<br> Stop ID: VG<br>Zone ID: E-7.1B<br>Num Packages: 1.0 <br> Service Time: 74.0",
          "Sequence: 12<br> Stop ID: OC<br>Zone ID: E-7.1B<br>Num Packages: 2.0 <br> Service Time: 52.0",
          "Sequence: 13<br> Stop ID: ZP<br>Zone ID: E-7.1B<br>Num Packages: 2.0 <br> Service Time: 69.5",
          "Sequence: 14<br> Stop ID: RH<br>Zone ID: E-7.1B<br>Num Packages: 1.0 <br> Service Time: 183.0",
          "Sequence: 15<br> Stop ID: RQ<br>Zone ID: E-7.1B<br>Num Packages: 3.0 <br> Service Time: 40.7",
          "Sequence: 16<br> Stop ID: TA<br>Zone ID: E-7.1B<br>Num Packages: 1.0 <br> Service Time: 149.0"
         ],
         "type": "scattermapbox"
        },
        {
         "hoverinfo": "text",
         "lat": [
          42.003678,
          42.000146,
          41.998338,
          41.998243,
          41.996075,
          41.997329
         ],
         "lon": [
          -87.793309,
          -87.79231,
          -87.79232,
          -87.792661,
          -87.792091,
          -87.791731
         ],
         "marker": {
          "size": 15
         },
         "mode": "markers",
         "name": "E-7.2B",
         "text": [
          "Sequence: 17<br> Stop ID: FQ<br>Zone ID: E-7.2B<br>Num Packages: 3.0 <br> Service Time: 91.3",
          "Sequence: 18<br> Stop ID: LR<br>Zone ID: E-7.2B<br>Num Packages: 1.0 <br> Service Time: 92.0",
          "Sequence: 19<br> Stop ID: HT<br>Zone ID: E-7.2B<br>Num Packages: 3.0 <br> Service Time: 54.70000000000001",
          "Sequence: 20<br> Stop ID: GG<br>Zone ID: E-7.2B<br>Num Packages: 1.0 <br> Service Time: 251.0",
          "Sequence: 21<br> Stop ID: AL<br>Zone ID: E-7.2B<br>Num Packages: 1.0 <br> Service Time: 77.0",
          "Sequence: 22<br> Stop ID: OA<br>Zone ID: E-7.2B<br>Num Packages: 3.0 <br> Service Time: 54.0"
         ],
         "type": "scattermapbox"
        },
        {
         "hoverinfo": "text",
         "lat": [
          41.99733,
          41.998229,
          41.99755,
          41.99704,
          41.997123,
          41.998375,
          41.999753,
          41.999589,
          41.999136
         ],
         "lon": [
          -87.793534,
          -87.79514,
          -87.79558,
          -87.795522,
          -87.796471,
          -87.790875,
          -87.790855,
          -87.79231,
          -87.791805
         ],
         "marker": {
          "size": 15
         },
         "mode": "markers",
         "name": "E-7.3B",
         "text": [
          "Sequence: 23<br> Stop ID: BH<br>Zone ID: E-7.3B<br>Num Packages: 3.0 <br> Service Time: 185.69999999999996",
          "Sequence: 24<br> Stop ID: AT<br>Zone ID: E-7.3B<br>Num Packages: 1.0 <br> Service Time: 50.0",
          "Sequence: 25<br> Stop ID: MD<br>Zone ID: E-7.3B<br>Num Packages: 1.0 <br> Service Time: 36.0",
          "Sequence: 26<br> Stop ID: QD<br>Zone ID: E-7.3B<br>Num Packages: 1.0 <br> Service Time: 128.0",
          "Sequence: 27<br> Stop ID: LD<br>Zone ID: E-7.3B<br>Num Packages: 2.0 <br> Service Time: 97.0",
          "Sequence: 28<br> Stop ID: OL<br>Zone ID: E-7.3B<br>Num Packages: 3.0 <br> Service Time: 35.7",
          "Sequence: 29<br> Stop ID: UU<br>Zone ID: E-7.3B<br>Num Packages: 1.0 <br> Service Time: 76.0",
          "Sequence: 30<br> Stop ID: HP<br>Zone ID: E-7.3B<br>Num Packages: 1.0 <br> Service Time: 197.0",
          "Sequence: 31<br> Stop ID: PH<br>Zone ID: E-7.3B<br>Num Packages: 1.0 <br> Service Time: 33.0"
         ],
         "type": "scattermapbox"
        },
        {
         "hoverinfo": "text",
         "lat": [
          41.99914,
          42.000956,
          42.000943,
          42.000039,
          41.999135,
          41.999315,
          41.99917,
          41.999576,
          41.998067,
          41.997146,
          41.995894,
          41.995991
         ],
         "lon": [
          -87.793113,
          -87.79457,
          -87.795988,
          -87.79394,
          -87.794743,
          -87.79718,
          -87.799312,
          -87.79939,
          -87.799095,
          -87.798873,
          -87.797924,
          -87.798595
         ],
         "marker": {
          "size": 15
         },
         "mode": "markers",
         "name": "E-7.3A",
         "text": [
          "Sequence: 32<br> Stop ID: SR<br>Zone ID: E-7.3A<br>Num Packages: 1.0 <br> Service Time: 75.0",
          "Sequence: 33<br> Stop ID: QF<br>Zone ID: E-7.3A<br>Num Packages: 1.0 <br> Service Time: 30.0",
          "Sequence: 34<br> Stop ID: RJ<br>Zone ID: E-7.3A<br>Num Packages: 2.0 <br> Service Time: 90.0",
          "Sequence: 35<br> Stop ID: KG<br>Zone ID: E-7.3A<br>Num Packages: 1.0 <br> Service Time: 33.0",
          "Sequence: 36<br> Stop ID: EN<br>Zone ID: E-7.3A<br>Num Packages: 1.0 <br> Service Time: 27.0",
          "Sequence: 37<br> Stop ID: MR<br>Zone ID: E-7.3A<br>Num Packages: 4.0 <br> Service Time: 41.2",
          "Sequence: 38<br> Stop ID: CO<br>Zone ID: E-7.3A<br>Num Packages: 1.0 <br> Service Time: 38.0",
          "Sequence: 39<br> Stop ID: ZR<br>Zone ID: E-7.3A<br>Num Packages: 1.0 <br> Service Time: 52.0",
          "Sequence: 40<br> Stop ID: VY<br>Zone ID: E-7.3A<br>Num Packages: 1.0 <br> Service Time: 44.0",
          "Sequence: 41<br> Stop ID: HG<br>Zone ID: E-7.3A<br>Num Packages: 2.0 <br> Service Time: 63.5",
          "Sequence: 42<br> Stop ID: RF<br>Zone ID: E-7.3A<br>Num Packages: 2.0 <br> Service Time: 70.0",
          "Sequence: 43<br> Stop ID: XC<br>Zone ID: E-7.3A<br>Num Packages: 1.0 <br> Service Time: 46.0"
         ],
         "type": "scattermapbox"
        },
        {
         "hoverinfo": "text",
         "lat": [
          41.995669,
          41.995416,
          41.996377,
          41.996665,
          42.001457,
          41.999245,
          41.998481,
          41.998176
         ],
         "lon": [
          -87.799833,
          -87.800586,
          -87.800697,
          -87.800755,
          -87.801711,
          -87.800336,
          -87.799531,
          -87.800411
         ],
         "marker": {
          "size": 15
         },
         "mode": "markers",
         "name": "E-7.2A",
         "text": [
          "Sequence: 44<br> Stop ID: RM<br>Zone ID: E-7.2A<br>Num Packages: 2.0 <br> Service Time: 113.0",
          "Sequence: 45<br> Stop ID: EB<br>Zone ID: E-7.2A<br>Num Packages: 1.0 <br> Service Time: 49.0",
          "Sequence: 46<br> Stop ID: EO<br>Zone ID: E-7.2A<br>Num Packages: 2.0 <br> Service Time: 120.0",
          "Sequence: 47<br> Stop ID: YK<br>Zone ID: E-7.2A<br>Num Packages: 4.0 <br> Service Time: 107.5",
          "Sequence: 48<br> Stop ID: QL<br>Zone ID: E-7.2A<br>Num Packages: 3.0 <br> Service Time: 34.3",
          "Sequence: 49<br> Stop ID: TU<br>Zone ID: E-7.2A<br>Num Packages: 1.0 <br> Service Time: 27.0",
          "Sequence: 50<br> Stop ID: LG<br>Zone ID: E-7.2A<br>Num Packages: 2.0 <br> Service Time: 22.0",
          "Sequence: 51<br> Stop ID: DE<br>Zone ID: E-7.2A<br>Num Packages: 1.0 <br> Service Time: 45.0"
         ],
         "type": "scattermapbox"
        },
        {
         "hoverinfo": "text",
         "lat": [
          41.998574,
          41.999252,
          41.999572,
          41.999975,
          42.000255,
          42.001302,
          42.000087,
          41.998241,
          41.996189,
          41.997647
         ],
         "lon": [
          -87.801173,
          -87.801336,
          -87.801413,
          -87.803708,
          -87.804156,
          -87.804143,
          -87.802951,
          -87.802978,
          -87.802725,
          -87.801948
         ],
         "marker": {
          "size": 15
         },
         "mode": "markers",
         "name": "E-7.1A",
         "text": [
          "Sequence: 52<br> Stop ID: AK<br>Zone ID: E-7.1A<br>Num Packages: 4.0 <br> Service Time: 62.8",
          "Sequence: 53<br> Stop ID: LQ<br>Zone ID: E-7.1A<br>Num Packages: 1.0 <br> Service Time: 150.0",
          "Sequence: 54<br> Stop ID: VC<br>Zone ID: E-7.1A<br>Num Packages: 1.0 <br> Service Time: 59.0",
          "Sequence: 55<br> Stop ID: AS<br>Zone ID: E-7.1A<br>Num Packages: 1.0 <br> Service Time: 41.0",
          "Sequence: 56<br> Stop ID: IF<br>Zone ID: E-7.1A<br>Num Packages: 2.0 <br> Service Time: 30.5",
          "Sequence: 57<br> Stop ID: DW<br>Zone ID: E-7.1A<br>Num Packages: 1.0 <br> Service Time: 62.0",
          "Sequence: 58<br> Stop ID: VN<br>Zone ID: E-7.1A<br>Num Packages: 1.0 <br> Service Time: 53.0",
          "Sequence: 59<br> Stop ID: IZ<br>Zone ID: E-7.1A<br>Num Packages: 2.0 <br> Service Time: 52.0",
          "Sequence: 60<br> Stop ID: SJ<br>Zone ID: E-7.1A<br>Num Packages: 1.0 <br> Service Time: 60.0",
          "Sequence: 61<br> Stop ID: JT<br>Zone ID: E-7.1A<br>Num Packages: 2.0 <br> Service Time: 61.5"
         ],
         "type": "scattermapbox"
        },
        {
         "hoverinfo": "text",
         "lat": [
          41.99767,
          42.000165,
          41.999487,
          41.997493,
          41.997789
         ],
         "lon": [
          -87.804194,
          -87.805366,
          -87.80489,
          -87.804903,
          -87.80612
         ],
         "marker": {
          "size": 15
         },
         "mode": "markers",
         "name": "E-6.1A",
         "text": [
          "Sequence: 62<br> Stop ID: VE<br>Zone ID: E-6.1A<br>Num Packages: 1.0 <br> Service Time: 45.0",
          "Sequence: 63<br> Stop ID: SO<br>Zone ID: E-6.1A<br>Num Packages: 3.0 <br> Service Time: 137.0",
          "Sequence: 64<br> Stop ID: AZ<br>Zone ID: E-6.1A<br>Num Packages: 4.0 <br> Service Time: 41.2",
          "Sequence: 65<br> Stop ID: HD<br>Zone ID: E-6.1A<br>Num Packages: 1.0 <br> Service Time: 64.0",
          "Sequence: 66<br> Stop ID: NT<br>Zone ID: E-6.1A<br>Num Packages: 2.0 <br> Service Time: 83.0"
         ],
         "type": "scattermapbox"
        },
        {
         "hoverinfo": "text",
         "lat": [
          41.997768,
          41.998363,
          41.998772,
          41.999348
         ],
         "lon": [
          -87.808075,
          -87.808835,
          -87.809717,
          -87.81066
         ],
         "marker": {
          "size": 15
         },
         "mode": "markers",
         "name": "E-6.2A",
         "text": [
          "Sequence: 67<br> Stop ID: AY<br>Zone ID: E-6.2A<br>Num Packages: 1.0 <br> Service Time: 110.0",
          "Sequence: 68<br> Stop ID: WK<br>Zone ID: E-6.2A<br>Num Packages: 3.0 <br> Service Time: 189.0",
          "Sequence: 69<br> Stop ID: CB<br>Zone ID: E-6.2A<br>Num Packages: 8.0 <br> Service Time: 55.1",
          "Sequence: 70<br> Stop ID: MS<br>Zone ID: E-6.2A<br>Num Packages: 5.0 <br> Service Time: 132.0"
         ],
         "type": "scattermapbox"
        },
        {
         "hoverinfo": "text",
         "lat": [
          42.000722,
          42.000272,
          41.999506,
          42.002343,
          42.00365,
          42.003264,
          42.000915
         ],
         "lon": [
          -87.812836,
          -87.813855,
          -87.811694,
          -87.813477,
          -87.81162,
          -87.812408,
          -87.813199
         ],
         "marker": {
          "size": 15
         },
         "mode": "markers",
         "name": "E-6.3A",
         "text": [
          "Sequence: 71<br> Stop ID: OX<br>Zone ID: E-6.3A<br>Num Packages: 1.0 <br> Service Time: 126.0",
          "Sequence: 72<br> Stop ID: VP<br>Zone ID: E-6.3A<br>Num Packages: 2.0 <br> Service Time: 35.0",
          "Sequence: 73<br> Stop ID: YP<br>Zone ID: E-6.3A<br>Num Packages: 6.0 <br> Service Time: 47.0",
          "Sequence: 74<br> Stop ID: EH<br>Zone ID: E-6.3A<br>Num Packages: 1.0 <br> Service Time: 83.0",
          "Sequence: 75<br> Stop ID: SE<br>Zone ID: E-6.3A<br>Num Packages: 4.0 <br> Service Time: 100.2",
          "Sequence: 76<br> Stop ID: SW<br>Zone ID: E-6.3A<br>Num Packages: 4.0 <br> Service Time: 29.0",
          "Sequence: 77<br> Stop ID: GN<br>Zone ID: E-6.3A<br>Num Packages: 3.0 <br> Service Time: 21.0"
         ],
         "type": "scattermapbox"
        },
        {
         "hoverinfo": "text",
         "lat": [
          42.001229,
          42.002125,
          42.002129,
          42.001133,
          42.001364,
          42.000817,
          42.000528,
          42.000715,
          42.000434
         ],
         "lon": [
          -87.81315,
          -87.8121,
          -87.810404,
          -87.810921,
          -87.811297,
          -87.811985,
          -87.812197,
          -87.810225,
          -87.809755
         ],
         "marker": {
          "size": 15
         },
         "mode": "markers",
         "name": "E-6.3B",
         "text": [
          "Sequence: 78<br> Stop ID: YO<br>Zone ID: E-6.3B<br>Num Packages: 1.0 <br> Service Time: 49.0",
          "Sequence: 79<br> Stop ID: AX<br>Zone ID: E-6.3B<br>Num Packages: 1.0 <br> Service Time: 95.0",
          "Sequence: 80<br> Stop ID: FD<br>Zone ID: E-6.3B<br>Num Packages: 1.0 <br> Service Time: 82.0",
          "Sequence: 81<br> Stop ID: MF<br>Zone ID: E-6.3B<br>Num Packages: 1.0 <br> Service Time: 61.0",
          "Sequence: 82<br> Stop ID: YW<br>Zone ID: E-6.3B<br>Num Packages: 1.0 <br> Service Time: 111.0",
          "Sequence: 83<br> Stop ID: ZT<br>Zone ID: E-6.3B<br>Num Packages: 3.0 <br> Service Time: 47.70000000000001",
          "Sequence: 84<br> Stop ID: FT<br>Zone ID: E-6.3B<br>Num Packages: 1.0 <br> Service Time: 44.0",
          "Sequence: 85<br> Stop ID: VF<br>Zone ID: E-6.3B<br>Num Packages: 4.0 <br> Service Time: 151.0",
          "Sequence: 86<br> Stop ID: EP<br>Zone ID: E-6.3B<br>Num Packages: 1.0 <br> Service Time: 81.0"
         ],
         "type": "scattermapbox"
        },
        {
         "hoverinfo": "text",
         "lat": [
          41.998993,
          42.000498,
          42.000304,
          42.003052,
          42.001399,
          42.001478,
          42.002147
         ],
         "lon": [
          -87.807404,
          -87.807978,
          -87.806766,
          -87.806736,
          -87.806753,
          -87.807966,
          -87.807963
         ],
         "marker": {
          "size": 15
         },
         "mode": "markers",
         "name": "E-6.2B",
         "text": [
          "Sequence: 87<br> Stop ID: ZY<br>Zone ID: E-6.2B<br>Num Packages: 1.0 <br> Service Time: 155.0",
          "Sequence: 88<br> Stop ID: NF<br>Zone ID: E-6.2B<br>Num Packages: 1.0 <br> Service Time: 50.0",
          "Sequence: 89<br> Stop ID: HE<br>Zone ID: E-6.2B<br>Num Packages: 1.0 <br> Service Time: 43.0",
          "Sequence: 90<br> Stop ID: VZ<br>Zone ID: E-6.2B<br>Num Packages: 1.0 <br> Service Time: 216.0",
          "Sequence: 91<br> Stop ID: HX<br>Zone ID: E-6.2B<br>Num Packages: 7.0 <br> Service Time: 73.0",
          "Sequence: 92<br> Stop ID: GT<br>Zone ID: E-6.2B<br>Num Packages: 6.0 <br> Service Time: 69.2",
          "Sequence: 93<br> Stop ID: YF<br>Zone ID: E-6.2B<br>Num Packages: 3.0 <br> Service Time: 64.7"
         ],
         "type": "scattermapbox"
        },
        {
         "hoverinfo": "text",
         "lat": [
          42.003926,
          42.004253,
          42.003884,
          42.002181,
          42.003142
         ],
         "lon": [
          -87.807953,
          -87.809171,
          -87.809173,
          -87.809184,
          -87.809177
         ],
         "marker": {
          "size": 15
         },
         "mode": "markers",
         "name": "E-6.1B",
         "text": [
          "Sequence: 94<br> Stop ID: RR<br>Zone ID: E-6.1B<br>Num Packages: 2.0 <br> Service Time: 65.0",
          "Sequence: 95<br> Stop ID: WU<br>Zone ID: E-6.1B<br>Num Packages: 3.0 <br> Service Time: 50.70000000000001",
          "Sequence: 96<br> Stop ID: ZM<br>Zone ID: E-6.1B<br>Num Packages: 3.0 <br> Service Time: 112.0",
          "Sequence: 97<br> Stop ID: RN<br>Zone ID: E-6.1B<br>Num Packages: 1.0 <br> Service Time: 57.0",
          "Sequence: 98<br> Stop ID: TW<br>Zone ID: E-6.1B<br>Num Packages: 1.0 <br> Service Time: 35.0"
         ],
         "type": "scattermapbox"
        },
        {
         "hoverinfo": "text",
         "lat": [
          42.003425,
          42.004096,
          42.005277
         ],
         "lon": [
          -87.81039,
          -87.810383,
          -87.810015
         ],
         "marker": {
          "size": 15
         },
         "mode": "markers",
         "name": "E-6.1C",
         "text": [
          "Sequence: 99<br> Stop ID: OJ<br>Zone ID: E-6.1C<br>Num Packages: 4.0 <br> Service Time: 65.5",
          "Sequence: 100<br> Stop ID: FB<br>Zone ID: E-6.1C<br>Num Packages: 1.0 <br> Service Time: 29.0",
          "Sequence: 101<br> Stop ID: OQ<br>Zone ID: E-6.1C<br>Num Packages: 2.0 <br> Service Time: 31.0"
         ],
         "type": "scattermapbox"
        },
        {
         "hoverinfo": "text",
         "lat": [
          42.005326,
          42.006286,
          42.006256,
          42.00622,
          42.007188
         ],
         "lon": [
          -87.808377,
          -87.807795,
          -87.808667,
          -87.809753,
          -87.807211
         ],
         "marker": {
          "size": 15
         },
         "mode": "markers",
         "name": "E-6.2C",
         "text": [
          "Sequence: 102<br> Stop ID: BJ<br>Zone ID: E-6.2C<br>Num Packages: 1.0 <br> Service Time: 48.0",
          "Sequence: 103<br> Stop ID: SC<br>Zone ID: E-6.2C<br>Num Packages: 2.0 <br> Service Time: 55.5",
          "Sequence: 104<br> Stop ID: HL<br>Zone ID: E-6.2C<br>Num Packages: 3.0 <br> Service Time: 39.0",
          "Sequence: 105<br> Stop ID: RU<br>Zone ID: E-6.2C<br>Num Packages: 2.0 <br> Service Time: 122.0",
          "Sequence: 106<br> Stop ID: XS<br>Zone ID: E-6.2C<br>Num Packages: 5.0 <br> Service Time: 23.0"
         ],
         "type": "scattermapbox"
        },
        {
         "hoverinfo": "text",
         "lat": [
          42.007122,
          42.007093,
          42.007073,
          42.007232,
          42.008002,
          42.008041,
          42.008096,
          42.01012
         ],
         "lon": [
          -87.808835,
          -87.809642,
          -87.810333,
          -87.810996,
          -87.810104,
          -87.808792,
          -87.807088,
          -87.804512
         ],
         "marker": {
          "size": 15
         },
         "mode": "markers",
         "name": "E-6.3C",
         "text": [
          "Sequence: 107<br> Stop ID: MT<br>Zone ID: E-6.3C<br>Num Packages: 2.0 <br> Service Time: 90.5",
          "Sequence: 108<br> Stop ID: AU<br>Zone ID: E-6.3C<br>Num Packages: 2.0 <br> Service Time: 33.5",
          "Sequence: 109<br> Stop ID: KT<br>Zone ID: E-6.3C<br>Num Packages: 1.0 <br> Service Time: 36.0",
          "Sequence: 110<br> Stop ID: QW<br>Zone ID: E-6.3C<br>Num Packages: 1.0 <br> Service Time: 52.0",
          "Sequence: 111<br> Stop ID: HV<br>Zone ID: E-6.3C<br>Num Packages: 3.0 <br> Service Time: 43.70000000000001",
          "Sequence: 112<br> Stop ID: TG<br>Zone ID: E-6.3C<br>Num Packages: 3.0 <br> Service Time: 94.0",
          "Sequence: 113<br> Stop ID: ND<br>Zone ID: E-6.3C<br>Num Packages: 2.0 <br> Service Time: 159.0",
          "Sequence: 114<br> Stop ID: FS<br>Zone ID: E-6.3C<br>Num Packages: 1.0 <br> Service Time: 71.0"
         ],
         "type": "scattermapbox"
        },
        {
         "hoverinfo": "text",
         "lat": [
          42.009807,
          42.010099,
          42.008968,
          42.009158,
          42.008439,
          42.00789,
          42.006678,
          42.005355,
          42.005271
         ],
         "lon": [
          -87.80412,
          -87.803753,
          -87.808176,
          -87.81097,
          -87.813671,
          -87.813953,
          -87.813694,
          -87.812317,
          -87.8137
         ],
         "marker": {
          "size": 15
         },
         "mode": "markers",
         "name": "E-6.3D",
         "text": [
          "Sequence: 115<br> Stop ID: NA<br>Zone ID: E-6.3D<br>Num Packages: 2.0 <br> Service Time: 92.0",
          "Sequence: 116<br> Stop ID: YR<br>Zone ID: E-6.3D<br>Num Packages: 1.0 <br> Service Time: 25.0",
          "Sequence: 117<br> Stop ID: IG<br>Zone ID: E-6.3D<br>Num Packages: 2.0 <br> Service Time: 44.0",
          "Sequence: 118<br> Stop ID: WA<br>Zone ID: E-6.3D<br>Num Packages: 1.0 <br> Service Time: 39.0",
          "Sequence: 119<br> Stop ID: LH<br>Zone ID: E-6.3D<br>Num Packages: 2.0 <br> Service Time: 49.0",
          "Sequence: 120<br> Stop ID: JL<br>Zone ID: E-6.3D<br>Num Packages: 1.0 <br> Service Time: 51.0",
          "Sequence: 121<br> Stop ID: WH<br>Zone ID: E-6.3D<br>Num Packages: 1.0 <br> Service Time: 35.0",
          "Sequence: 122<br> Stop ID: KS<br>Zone ID: E-6.3D<br>Num Packages: 2.0 <br> Service Time: 154.0",
          "Sequence: 123<br> Stop ID: YQ<br>Zone ID: E-6.3D<br>Num Packages: 3.0 <br> Service Time: 44.29999999999999"
         ],
         "type": "scattermapbox"
        },
        {
         "hoverinfo": "text",
         "lat": [
          42.004224,
          42.002875,
          42.00332,
          42.002324,
          42.003141,
          42.003996
         ],
         "lon": [
          -87.814218,
          -87.81836,
          -87.819132,
          -87.816642,
          -87.815812,
          -87.813184
         ],
         "marker": {
          "size": 15
         },
         "mode": "markers",
         "name": "E-6.2D",
         "text": [
          "Sequence: 124<br> Stop ID: NV<br>Zone ID: E-6.2D<br>Num Packages: 1.0 <br> Service Time: 39.0",
          "Sequence: 125<br> Stop ID: ZQ<br>Zone ID: E-6.2D<br>Num Packages: 1.0 <br> Service Time: 45.0",
          "Sequence: 126<br> Stop ID: JH<br>Zone ID: E-6.2D<br>Num Packages: 4.0 <br> Service Time: 14.5",
          "Sequence: 127<br> Stop ID: WS<br>Zone ID: E-6.2D<br>Num Packages: 1.0 <br> Service Time: 111.0",
          "Sequence: 128<br> Stop ID: WD<br>Zone ID: E-6.2D<br>Num Packages: 3.0 <br> Service Time: 65.3",
          "Sequence: 129<br> Stop ID: NI<br>Zone ID: E-6.2D<br>Num Packages: 3.0 <br> Service Time: 56.0"
         ],
         "type": "scattermapbox"
        },
        {
         "hoverinfo": "text",
         "lat": [
          42.00187,
          42.003788,
          42.004423,
          42.005222,
          42.005805,
          42.005393,
          42.006633,
          42.009571,
          42.031368
         ],
         "lon": [
          -87.816372,
          -87.814852,
          -87.815098,
          -87.815089,
          -87.815083,
          -87.816456,
          -87.817621,
          -87.817584,
          -87.776596
         ],
         "marker": {
          "size": 15
         },
         "mode": "markers",
         "name": "E-6.1D",
         "text": [
          "Sequence: 130<br> Stop ID: OK<br>Zone ID: E-6.1D<br>Num Packages: 1.0 <br> Service Time: 64.0",
          "Sequence: 131<br> Stop ID: NM<br>Zone ID: E-6.1D<br>Num Packages: 1.0 <br> Service Time: 63.0",
          "Sequence: 132<br> Stop ID: AM<br>Zone ID: E-6.1D<br>Num Packages: 3.0 <br> Service Time: 15.0",
          "Sequence: 133<br> Stop ID: DS<br>Zone ID: E-6.1D<br>Num Packages: 2.0 <br> Service Time: 63.0",
          "Sequence: 134<br> Stop ID: NZ<br>Zone ID: E-6.1D<br>Num Packages: 1.0 <br> Service Time: 34.0",
          "Sequence: 135<br> Stop ID: XW<br>Zone ID: E-6.1D<br>Num Packages: 1.0 <br> Service Time: 71.0",
          "Sequence: 136<br> Stop ID: AV<br>Zone ID: E-6.1D<br>Num Packages: 1.0 <br> Service Time: 108.0",
          "Sequence: 137<br> Stop ID: WL<br>Zone ID: E-6.1D<br>Num Packages: 3.0 <br> Service Time: 83.3",
          "Sequence: 138<br> Stop ID: HI<br>Zone ID: E-6.1D<br>Num Packages: nan <br> Service Time: nan"
         ],
         "type": "scattermapbox"
        }
       ],
       "layout": {
        "height": 600,
        "mapbox": {
         "center": {
          "lat": 42.003422683453245,
          "lon": -87.80419681294964
         },
         "style": "open-street-map",
         "zoom": 10
        },
        "margin": {
         "b": 10,
         "l": 10,
         "r": 10,
         "t": 10
        },
        "showlegend": false,
        "template": {
         "data": {
          "bar": [
           {
            "error_x": {
             "color": "#2a3f5f"
            },
            "error_y": {
             "color": "#2a3f5f"
            },
            "marker": {
             "line": {
              "color": "#E5ECF6",
              "width": 0.5
             },
             "pattern": {
              "fillmode": "overlay",
              "size": 10,
              "solidity": 0.2
             }
            },
            "type": "bar"
           }
          ],
          "barpolar": [
           {
            "marker": {
             "line": {
              "color": "#E5ECF6",
              "width": 0.5
             },
             "pattern": {
              "fillmode": "overlay",
              "size": 10,
              "solidity": 0.2
             }
            },
            "type": "barpolar"
           }
          ],
          "carpet": [
           {
            "aaxis": {
             "endlinecolor": "#2a3f5f",
             "gridcolor": "white",
             "linecolor": "white",
             "minorgridcolor": "white",
             "startlinecolor": "#2a3f5f"
            },
            "baxis": {
             "endlinecolor": "#2a3f5f",
             "gridcolor": "white",
             "linecolor": "white",
             "minorgridcolor": "white",
             "startlinecolor": "#2a3f5f"
            },
            "type": "carpet"
           }
          ],
          "choropleth": [
           {
            "colorbar": {
             "outlinewidth": 0,
             "ticks": ""
            },
            "type": "choropleth"
           }
          ],
          "contour": [
           {
            "colorbar": {
             "outlinewidth": 0,
             "ticks": ""
            },
            "colorscale": [
             [
              0,
              "#0d0887"
             ],
             [
              0.1111111111111111,
              "#46039f"
             ],
             [
              0.2222222222222222,
              "#7201a8"
             ],
             [
              0.3333333333333333,
              "#9c179e"
             ],
             [
              0.4444444444444444,
              "#bd3786"
             ],
             [
              0.5555555555555556,
              "#d8576b"
             ],
             [
              0.6666666666666666,
              "#ed7953"
             ],
             [
              0.7777777777777778,
              "#fb9f3a"
             ],
             [
              0.8888888888888888,
              "#fdca26"
             ],
             [
              1,
              "#f0f921"
             ]
            ],
            "type": "contour"
           }
          ],
          "contourcarpet": [
           {
            "colorbar": {
             "outlinewidth": 0,
             "ticks": ""
            },
            "type": "contourcarpet"
           }
          ],
          "heatmap": [
           {
            "colorbar": {
             "outlinewidth": 0,
             "ticks": ""
            },
            "colorscale": [
             [
              0,
              "#0d0887"
             ],
             [
              0.1111111111111111,
              "#46039f"
             ],
             [
              0.2222222222222222,
              "#7201a8"
             ],
             [
              0.3333333333333333,
              "#9c179e"
             ],
             [
              0.4444444444444444,
              "#bd3786"
             ],
             [
              0.5555555555555556,
              "#d8576b"
             ],
             [
              0.6666666666666666,
              "#ed7953"
             ],
             [
              0.7777777777777778,
              "#fb9f3a"
             ],
             [
              0.8888888888888888,
              "#fdca26"
             ],
             [
              1,
              "#f0f921"
             ]
            ],
            "type": "heatmap"
           }
          ],
          "heatmapgl": [
           {
            "colorbar": {
             "outlinewidth": 0,
             "ticks": ""
            },
            "colorscale": [
             [
              0,
              "#0d0887"
             ],
             [
              0.1111111111111111,
              "#46039f"
             ],
             [
              0.2222222222222222,
              "#7201a8"
             ],
             [
              0.3333333333333333,
              "#9c179e"
             ],
             [
              0.4444444444444444,
              "#bd3786"
             ],
             [
              0.5555555555555556,
              "#d8576b"
             ],
             [
              0.6666666666666666,
              "#ed7953"
             ],
             [
              0.7777777777777778,
              "#fb9f3a"
             ],
             [
              0.8888888888888888,
              "#fdca26"
             ],
             [
              1,
              "#f0f921"
             ]
            ],
            "type": "heatmapgl"
           }
          ],
          "histogram": [
           {
            "marker": {
             "pattern": {
              "fillmode": "overlay",
              "size": 10,
              "solidity": 0.2
             }
            },
            "type": "histogram"
           }
          ],
          "histogram2d": [
           {
            "colorbar": {
             "outlinewidth": 0,
             "ticks": ""
            },
            "colorscale": [
             [
              0,
              "#0d0887"
             ],
             [
              0.1111111111111111,
              "#46039f"
             ],
             [
              0.2222222222222222,
              "#7201a8"
             ],
             [
              0.3333333333333333,
              "#9c179e"
             ],
             [
              0.4444444444444444,
              "#bd3786"
             ],
             [
              0.5555555555555556,
              "#d8576b"
             ],
             [
              0.6666666666666666,
              "#ed7953"
             ],
             [
              0.7777777777777778,
              "#fb9f3a"
             ],
             [
              0.8888888888888888,
              "#fdca26"
             ],
             [
              1,
              "#f0f921"
             ]
            ],
            "type": "histogram2d"
           }
          ],
          "histogram2dcontour": [
           {
            "colorbar": {
             "outlinewidth": 0,
             "ticks": ""
            },
            "colorscale": [
             [
              0,
              "#0d0887"
             ],
             [
              0.1111111111111111,
              "#46039f"
             ],
             [
              0.2222222222222222,
              "#7201a8"
             ],
             [
              0.3333333333333333,
              "#9c179e"
             ],
             [
              0.4444444444444444,
              "#bd3786"
             ],
             [
              0.5555555555555556,
              "#d8576b"
             ],
             [
              0.6666666666666666,
              "#ed7953"
             ],
             [
              0.7777777777777778,
              "#fb9f3a"
             ],
             [
              0.8888888888888888,
              "#fdca26"
             ],
             [
              1,
              "#f0f921"
             ]
            ],
            "type": "histogram2dcontour"
           }
          ],
          "mesh3d": [
           {
            "colorbar": {
             "outlinewidth": 0,
             "ticks": ""
            },
            "type": "mesh3d"
           }
          ],
          "parcoords": [
           {
            "line": {
             "colorbar": {
              "outlinewidth": 0,
              "ticks": ""
             }
            },
            "type": "parcoords"
           }
          ],
          "pie": [
           {
            "automargin": true,
            "type": "pie"
           }
          ],
          "scatter": [
           {
            "fillpattern": {
             "fillmode": "overlay",
             "size": 10,
             "solidity": 0.2
            },
            "type": "scatter"
           }
          ],
          "scatter3d": [
           {
            "line": {
             "colorbar": {
              "outlinewidth": 0,
              "ticks": ""
             }
            },
            "marker": {
             "colorbar": {
              "outlinewidth": 0,
              "ticks": ""
             }
            },
            "type": "scatter3d"
           }
          ],
          "scattercarpet": [
           {
            "marker": {
             "colorbar": {
              "outlinewidth": 0,
              "ticks": ""
             }
            },
            "type": "scattercarpet"
           }
          ],
          "scattergeo": [
           {
            "marker": {
             "colorbar": {
              "outlinewidth": 0,
              "ticks": ""
             }
            },
            "type": "scattergeo"
           }
          ],
          "scattergl": [
           {
            "marker": {
             "colorbar": {
              "outlinewidth": 0,
              "ticks": ""
             }
            },
            "type": "scattergl"
           }
          ],
          "scattermapbox": [
           {
            "marker": {
             "colorbar": {
              "outlinewidth": 0,
              "ticks": ""
             }
            },
            "type": "scattermapbox"
           }
          ],
          "scatterpolar": [
           {
            "marker": {
             "colorbar": {
              "outlinewidth": 0,
              "ticks": ""
             }
            },
            "type": "scatterpolar"
           }
          ],
          "scatterpolargl": [
           {
            "marker": {
             "colorbar": {
              "outlinewidth": 0,
              "ticks": ""
             }
            },
            "type": "scatterpolargl"
           }
          ],
          "scatterternary": [
           {
            "marker": {
             "colorbar": {
              "outlinewidth": 0,
              "ticks": ""
             }
            },
            "type": "scatterternary"
           }
          ],
          "surface": [
           {
            "colorbar": {
             "outlinewidth": 0,
             "ticks": ""
            },
            "colorscale": [
             [
              0,
              "#0d0887"
             ],
             [
              0.1111111111111111,
              "#46039f"
             ],
             [
              0.2222222222222222,
              "#7201a8"
             ],
             [
              0.3333333333333333,
              "#9c179e"
             ],
             [
              0.4444444444444444,
              "#bd3786"
             ],
             [
              0.5555555555555556,
              "#d8576b"
             ],
             [
              0.6666666666666666,
              "#ed7953"
             ],
             [
              0.7777777777777778,
              "#fb9f3a"
             ],
             [
              0.8888888888888888,
              "#fdca26"
             ],
             [
              1,
              "#f0f921"
             ]
            ],
            "type": "surface"
           }
          ],
          "table": [
           {
            "cells": {
             "fill": {
              "color": "#EBF0F8"
             },
             "line": {
              "color": "white"
             }
            },
            "header": {
             "fill": {
              "color": "#C8D4E3"
             },
             "line": {
              "color": "white"
             }
            },
            "type": "table"
           }
          ]
         },
         "layout": {
          "annotationdefaults": {
           "arrowcolor": "#2a3f5f",
           "arrowhead": 0,
           "arrowwidth": 1
          },
          "autotypenumbers": "strict",
          "coloraxis": {
           "colorbar": {
            "outlinewidth": 0,
            "ticks": ""
           }
          },
          "colorscale": {
           "diverging": [
            [
             0,
             "#8e0152"
            ],
            [
             0.1,
             "#c51b7d"
            ],
            [
             0.2,
             "#de77ae"
            ],
            [
             0.3,
             "#f1b6da"
            ],
            [
             0.4,
             "#fde0ef"
            ],
            [
             0.5,
             "#f7f7f7"
            ],
            [
             0.6,
             "#e6f5d0"
            ],
            [
             0.7,
             "#b8e186"
            ],
            [
             0.8,
             "#7fbc41"
            ],
            [
             0.9,
             "#4d9221"
            ],
            [
             1,
             "#276419"
            ]
           ],
           "sequential": [
            [
             0,
             "#0d0887"
            ],
            [
             0.1111111111111111,
             "#46039f"
            ],
            [
             0.2222222222222222,
             "#7201a8"
            ],
            [
             0.3333333333333333,
             "#9c179e"
            ],
            [
             0.4444444444444444,
             "#bd3786"
            ],
            [
             0.5555555555555556,
             "#d8576b"
            ],
            [
             0.6666666666666666,
             "#ed7953"
            ],
            [
             0.7777777777777778,
             "#fb9f3a"
            ],
            [
             0.8888888888888888,
             "#fdca26"
            ],
            [
             1,
             "#f0f921"
            ]
           ],
           "sequentialminus": [
            [
             0,
             "#0d0887"
            ],
            [
             0.1111111111111111,
             "#46039f"
            ],
            [
             0.2222222222222222,
             "#7201a8"
            ],
            [
             0.3333333333333333,
             "#9c179e"
            ],
            [
             0.4444444444444444,
             "#bd3786"
            ],
            [
             0.5555555555555556,
             "#d8576b"
            ],
            [
             0.6666666666666666,
             "#ed7953"
            ],
            [
             0.7777777777777778,
             "#fb9f3a"
            ],
            [
             0.8888888888888888,
             "#fdca26"
            ],
            [
             1,
             "#f0f921"
            ]
           ]
          },
          "colorway": [
           "#636efa",
           "#EF553B",
           "#00cc96",
           "#ab63fa",
           "#FFA15A",
           "#19d3f3",
           "#FF6692",
           "#B6E880",
           "#FF97FF",
           "#FECB52"
          ],
          "font": {
           "color": "#2a3f5f"
          },
          "geo": {
           "bgcolor": "white",
           "lakecolor": "white",
           "landcolor": "#E5ECF6",
           "showlakes": true,
           "showland": true,
           "subunitcolor": "white"
          },
          "hoverlabel": {
           "align": "left"
          },
          "hovermode": "closest",
          "mapbox": {
           "style": "light"
          },
          "paper_bgcolor": "white",
          "plot_bgcolor": "#E5ECF6",
          "polar": {
           "angularaxis": {
            "gridcolor": "white",
            "linecolor": "white",
            "ticks": ""
           },
           "bgcolor": "#E5ECF6",
           "radialaxis": {
            "gridcolor": "white",
            "linecolor": "white",
            "ticks": ""
           }
          },
          "scene": {
           "xaxis": {
            "backgroundcolor": "#E5ECF6",
            "gridcolor": "white",
            "gridwidth": 2,
            "linecolor": "white",
            "showbackground": true,
            "ticks": "",
            "zerolinecolor": "white"
           },
           "yaxis": {
            "backgroundcolor": "#E5ECF6",
            "gridcolor": "white",
            "gridwidth": 2,
            "linecolor": "white",
            "showbackground": true,
            "ticks": "",
            "zerolinecolor": "white"
           },
           "zaxis": {
            "backgroundcolor": "#E5ECF6",
            "gridcolor": "white",
            "gridwidth": 2,
            "linecolor": "white",
            "showbackground": true,
            "ticks": "",
            "zerolinecolor": "white"
           }
          },
          "shapedefaults": {
           "line": {
            "color": "#2a3f5f"
           }
          },
          "ternary": {
           "aaxis": {
            "gridcolor": "white",
            "linecolor": "white",
            "ticks": ""
           },
           "baxis": {
            "gridcolor": "white",
            "linecolor": "white",
            "ticks": ""
           },
           "bgcolor": "#E5ECF6",
           "caxis": {
            "gridcolor": "white",
            "linecolor": "white",
            "ticks": ""
           }
          },
          "title": {
           "x": 0.05
          },
          "xaxis": {
           "automargin": true,
           "gridcolor": "white",
           "linecolor": "white",
           "ticks": "",
           "title": {
            "standoff": 15
           },
           "zerolinecolor": "white",
           "zerolinewidth": 2
          },
          "yaxis": {
           "automargin": true,
           "gridcolor": "white",
           "linecolor": "white",
           "ticks": "",
           "title": {
            "standoff": 15
           },
           "zerolinecolor": "white",
           "zerolinewidth": 2
          }
         }
        }
       }
      }
     },
     "metadata": {},
     "output_type": "display_data"
    }
   ],
   "source": [
    "fig = go.Figure(go.Scattermapbox(\n",
    "    lat=route_data_ordered['lat'],\n",
    "    lon=route_data_ordered['lng'],\n",
    "    mode='lines',\n",
    "    line=dict(width=2, color='blue'),  # Customize line color and width here\n",
    "    hoverinfo='none'\n",
    "))\n",
    "route_data_ordered['zone_id'].ffill(inplace=True)\n",
    "# Add scatter points for each unique zone_id, with custom hover text\n",
    "for zone_id in route_data_ordered['zone_id'].unique():\n",
    "    df_sub = route_data_ordered[route_data_ordered['zone_id'] == zone_id]\n",
    "\n",
    "    # Creating custom hover text\n",
    "    hover_text = df_sub.apply(lambda row: f\"Sequence: {row.name}<br> Stop ID: {row['stop_id']}<br>Zone ID: {row['zone_id']}<br>Num Packages: {row['num_packages']} <br> Service Time: {row['service_time_seconds']}\", axis=1)\n",
    "\n",
    "\n",
    "    fig.add_trace(go.Scattermapbox(\n",
    "        lat=df_sub['lat'],\n",
    "        lon=df_sub['lng'],\n",
    "        mode='markers',\n",
    "        marker=go.scattermapbox.Marker(size=15),\n",
    "        name=str(zone_id),\n",
    "        text=hover_text,\n",
    "        hoverinfo='text'\n",
    "    ))\n",
    "\n",
    "# Update the layout to use OpenStreetMap style and adjust other layout properties\n",
    "fig.update_layout(\n",
    "\n",
    "    height=600,\n",
    "    mapbox=dict(\n",
    "        style=\"open-street-map\",\n",
    "        zoom=10,  # Adjust zoom level here\n",
    "        center=dict(lat=route_data_ordered['lat'].mean(), lon=route_data_ordered['lng'].mean())\n",
    "    ),\n",
    "    showlegend=False  # Set to True if you want to show legend\n",
    ")\n",
    "fig.update_layout(margin=dict(l=10, r=10, t=10, b=10))\n",
    "\n",
    "\n",
    "# Show the figure\n",
    "fig.show()"
   ]
  },
  {
   "cell_type": "code",
   "execution_count": 24,
   "metadata": {},
   "outputs": [
    {
     "data": {
      "text/plain": [
       "164"
      ]
     },
     "execution_count": 24,
     "metadata": {},
     "output_type": "execute_result"
    }
   ],
   "source": [
    "drone_data_ordered = pd.concat([route_data_route_df[route_data_route_df['stop_id'] == stop_id] for stop_id in test.drone_path]).reset_index(drop=True)\n",
    "len(drone_data_ordered)"
   ]
  },
  {
   "cell_type": "code",
   "execution_count": 25,
   "metadata": {},
   "outputs": [
    {
     "data": {
      "application/vnd.plotly.v1+json": {
       "config": {
        "plotlyServerURL": "https://plot.ly"
       },
       "data": [
        {
         "hoverinfo": "none",
         "lat": [
          42.031368,
          42.034701,
          42.0347,
          42.011134,
          42.010624,
          42.01097,
          42.009862,
          42.010552,
          42.013021,
          42.01369,
          42.010971,
          42.010627,
          42.008005,
          42.007219,
          42.008275,
          42.007952,
          42.006485,
          42.005116,
          42.003678,
          42.000146,
          41.998338,
          41.998243,
          41.996075,
          41.997329,
          41.99733,
          41.998229,
          41.99755,
          41.99704,
          41.997123,
          41.997329,
          41.998375,
          41.999753,
          41.999589,
          41.999136,
          41.99914,
          42.000933,
          42.000956,
          42.000943,
          42.000039,
          41.999135,
          41.99902,
          41.999315,
          41.999088,
          41.99917,
          41.999576,
          41.998067,
          41.997146,
          41.99675,
          41.995894,
          41.995991,
          41.995669,
          41.995416,
          41.996377,
          41.996665,
          42.001457,
          41.999245,
          41.99873,
          41.998481,
          41.998176,
          41.998574,
          41.999252,
          41.999572,
          41.999975,
          42.000255,
          42.001302,
          42.000087,
          41.998833,
          41.998241,
          41.997099,
          41.996189,
          41.997647,
          41.99767,
          41.998657,
          42.000165,
          41.999534,
          41.999487,
          41.998939,
          41.997493,
          41.997757,
          41.997789,
          41.997768,
          41.995023,
          41.998363,
          41.998772,
          41.999088,
          41.999348,
          42.000154,
          42.000722,
          42.000272,
          41.999506,
          42.001191,
          42.002343,
          42.00365,
          42.003264,
          42.000915,
          42.001229,
          42.002125,
          42.002129,
          42.001133,
          42.001364,
          42.000817,
          42.000528,
          42.000715,
          42.000434,
          41.998993,
          42.000498,
          42.000607,
          42.000304,
          42.003052,
          42.001399,
          42.001478,
          42.002147,
          42.003926,
          42.004253,
          42.003884,
          42.001054,
          42.002181,
          42.003142,
          42.003425,
          42.004096,
          42.00523,
          42.005277,
          42.005326,
          42.006286,
          42.006256,
          42.00622,
          42.007188,
          42.007122,
          42.007093,
          42.007073,
          42.007232,
          42.008002,
          42.008041,
          42.008096,
          42.01012,
          42.009807,
          42.010099,
          42.008968,
          42.009158,
          42.009292,
          42.008439,
          42.00789,
          42.006678,
          42.007201,
          42.005355,
          42.004804,
          42.005271,
          42.004224,
          42.002875,
          42.00332,
          42.002324,
          42.003141,
          42.003996,
          42.003057,
          42.00187,
          42.003788,
          42.004423,
          42.005222,
          42.005805,
          42.005393,
          42.005649,
          42.006633,
          42.009571,
          42.031368
         ],
         "line": {
          "color": "blue",
          "width": 2
         },
         "lon": [
          -87.776596,
          -87.787183,
          -87.78652,
          -87.793221,
          -87.794307,
          -87.795053,
          -87.797879,
          -87.798468,
          -87.798192,
          -87.79821,
          -87.801941,
          -87.800602,
          -87.79719,
          -87.795648,
          -87.795104,
          -87.796026,
          -87.792609,
          -87.792748,
          -87.793309,
          -87.79231,
          -87.79232,
          -87.792661,
          -87.792091,
          -87.791731,
          -87.793534,
          -87.79514,
          -87.79558,
          -87.795522,
          -87.796471,
          -87.794719,
          -87.790875,
          -87.790855,
          -87.79231,
          -87.791805,
          -87.793113,
          -87.79313,
          -87.79457,
          -87.795988,
          -87.79394,
          -87.794743,
          -87.796154,
          -87.79718,
          -87.79822,
          -87.799312,
          -87.79939,
          -87.799095,
          -87.798873,
          -87.798357,
          -87.797924,
          -87.798595,
          -87.799833,
          -87.800586,
          -87.800697,
          -87.800755,
          -87.801711,
          -87.800336,
          -87.800221,
          -87.799531,
          -87.800411,
          -87.801173,
          -87.801336,
          -87.801413,
          -87.803708,
          -87.804156,
          -87.804143,
          -87.802951,
          -87.802975,
          -87.802978,
          -87.803337,
          -87.802725,
          -87.801948,
          -87.804194,
          -87.80575,
          -87.805366,
          -87.805207,
          -87.80489,
          -87.804897,
          -87.804903,
          -87.804697,
          -87.80612,
          -87.808075,
          -87.803519,
          -87.808835,
          -87.809717,
          -87.810239,
          -87.81066,
          -87.811975,
          -87.812836,
          -87.813855,
          -87.811694,
          -87.81363,
          -87.813477,
          -87.81162,
          -87.812408,
          -87.813199,
          -87.81315,
          -87.8121,
          -87.810404,
          -87.810921,
          -87.811297,
          -87.811985,
          -87.812197,
          -87.810225,
          -87.809755,
          -87.807404,
          -87.807978,
          -87.806763,
          -87.806766,
          -87.806736,
          -87.806753,
          -87.807966,
          -87.807963,
          -87.807953,
          -87.809171,
          -87.809173,
          -87.809196,
          -87.809184,
          -87.809177,
          -87.81039,
          -87.810383,
          -87.811527,
          -87.810015,
          -87.808377,
          -87.807795,
          -87.808667,
          -87.809753,
          -87.807211,
          -87.808835,
          -87.809642,
          -87.810333,
          -87.810996,
          -87.810104,
          -87.808792,
          -87.807088,
          -87.804512,
          -87.80412,
          -87.803753,
          -87.808176,
          -87.81097,
          -87.813657,
          -87.813671,
          -87.813953,
          -87.813694,
          -87.812288,
          -87.812317,
          -87.812329,
          -87.8137,
          -87.814218,
          -87.81836,
          -87.819132,
          -87.816642,
          -87.815812,
          -87.813184,
          -87.814257,
          -87.816372,
          -87.814852,
          -87.815098,
          -87.815089,
          -87.815083,
          -87.816456,
          -87.817634,
          -87.817621,
          -87.817584,
          -87.776596
         ],
         "mode": "lines",
         "type": "scattermapbox"
        },
        {
         "hoverinfo": "text",
         "lat": [],
         "lon": [],
         "marker": {
          "size": 15
         },
         "mode": "markers",
         "name": "nan",
         "text": [],
         "type": "scattermapbox"
        },
        {
         "hoverinfo": "text",
         "lat": [
          42.034701,
          42.0347,
          42.011134,
          42.010624,
          42.01097,
          42.009862,
          42.010552
         ],
         "lon": [
          -87.787183,
          -87.78652,
          -87.793221,
          -87.794307,
          -87.795053,
          -87.797879,
          -87.798468
         ],
         "marker": {
          "size": 15
         },
         "mode": "markers",
         "name": "E-7.1C",
         "text": [
          "Sequence: 1<br> Stop ID: RC<br>Zone ID: E-7.1C<br>Num Packages: 2.0 <br> Service Time: 215.5",
          "Sequence: 2<br> Stop ID: OM<br>Zone ID: E-7.1C<br>Num Packages: 2.0 <br> Service Time: 20.5",
          "Sequence: 3<br> Stop ID: KN<br>Zone ID: E-7.1C<br>Num Packages: 1.0 <br> Service Time: 34.0",
          "Sequence: 4<br> Stop ID: UB<br>Zone ID: E-7.1C<br>Num Packages: 1.0 <br> Service Time: 39.0",
          "Sequence: 5<br> Stop ID: FM<br>Zone ID: E-7.1C<br>Num Packages: 1.0 <br> Service Time: 51.0",
          "Sequence: 6<br> Stop ID: LX<br>Zone ID: E-7.1C<br>Num Packages: 1.0 <br> Service Time: 52.0",
          "Sequence: 7<br> Stop ID: PC<br>Zone ID: E-7.1C<br>Num Packages: 1.0 <br> Service Time: 41.0"
         ],
         "type": "scattermapbox"
        },
        {
         "hoverinfo": "text",
         "lat": [
          42.013021,
          42.01369,
          42.010971,
          42.010627,
          42.008005,
          42.007219,
          42.008275,
          42.007952,
          42.006485,
          42.005116
         ],
         "lon": [
          -87.798192,
          -87.79821,
          -87.801941,
          -87.800602,
          -87.79719,
          -87.795648,
          -87.795104,
          -87.796026,
          -87.792609,
          -87.792748
         ],
         "marker": {
          "size": 15
         },
         "mode": "markers",
         "name": "E-7.1B",
         "text": [
          "Sequence: 8<br> Stop ID: KQ<br>Zone ID: E-7.1B<br>Num Packages: 2.0 <br> Service Time: 118.0",
          "Sequence: 9<br> Stop ID: RI<br>Zone ID: E-7.1B<br>Num Packages: 1.0 <br> Service Time: 49.0",
          "Sequence: 10<br> Stop ID: UV<br>Zone ID: E-7.1B<br>Num Packages: 1.0 <br> Service Time: 28.0",
          "Sequence: 11<br> Stop ID: CF<br>Zone ID: E-7.1B<br>Num Packages: 3.0 <br> Service Time: 18.7",
          "Sequence: 12<br> Stop ID: VG<br>Zone ID: E-7.1B<br>Num Packages: 1.0 <br> Service Time: 74.0",
          "Sequence: 13<br> Stop ID: OC<br>Zone ID: E-7.1B<br>Num Packages: 2.0 <br> Service Time: 52.0",
          "Sequence: 14<br> Stop ID: ZP<br>Zone ID: E-7.1B<br>Num Packages: 2.0 <br> Service Time: 69.5",
          "Sequence: 15<br> Stop ID: RH<br>Zone ID: E-7.1B<br>Num Packages: 1.0 <br> Service Time: 183.0",
          "Sequence: 16<br> Stop ID: RQ<br>Zone ID: E-7.1B<br>Num Packages: 3.0 <br> Service Time: 40.7",
          "Sequence: 17<br> Stop ID: TA<br>Zone ID: E-7.1B<br>Num Packages: 1.0 <br> Service Time: 149.0"
         ],
         "type": "scattermapbox"
        },
        {
         "hoverinfo": "text",
         "lat": [
          42.003678,
          42.000146,
          41.998338,
          41.998243,
          41.996075,
          41.997329
         ],
         "lon": [
          -87.793309,
          -87.79231,
          -87.79232,
          -87.792661,
          -87.792091,
          -87.791731
         ],
         "marker": {
          "size": 15
         },
         "mode": "markers",
         "name": "E-7.2B",
         "text": [
          "Sequence: 18<br> Stop ID: FQ<br>Zone ID: E-7.2B<br>Num Packages: 3.0 <br> Service Time: 91.3",
          "Sequence: 19<br> Stop ID: LR<br>Zone ID: E-7.2B<br>Num Packages: 1.0 <br> Service Time: 92.0",
          "Sequence: 20<br> Stop ID: HT<br>Zone ID: E-7.2B<br>Num Packages: 3.0 <br> Service Time: 54.70000000000001",
          "Sequence: 21<br> Stop ID: GG<br>Zone ID: E-7.2B<br>Num Packages: 1.0 <br> Service Time: 251.0",
          "Sequence: 22<br> Stop ID: AL<br>Zone ID: E-7.2B<br>Num Packages: 1.0 <br> Service Time: 77.0",
          "Sequence: 23<br> Stop ID: OA<br>Zone ID: E-7.2B<br>Num Packages: 3.0 <br> Service Time: 54.0"
         ],
         "type": "scattermapbox"
        },
        {
         "hoverinfo": "text",
         "lat": [
          41.99733,
          41.998229,
          41.99755,
          41.99704,
          41.997123,
          41.997329,
          41.998375,
          41.999753,
          41.999589,
          41.999136
         ],
         "lon": [
          -87.793534,
          -87.79514,
          -87.79558,
          -87.795522,
          -87.796471,
          -87.794719,
          -87.790875,
          -87.790855,
          -87.79231,
          -87.791805
         ],
         "marker": {
          "size": 15
         },
         "mode": "markers",
         "name": "E-7.3B",
         "text": [
          "Sequence: 24<br> Stop ID: BH<br>Zone ID: E-7.3B<br>Num Packages: 3.0 <br> Service Time: 185.69999999999996",
          "Sequence: 25<br> Stop ID: AT<br>Zone ID: E-7.3B<br>Num Packages: 1.0 <br> Service Time: 50.0",
          "Sequence: 26<br> Stop ID: MD<br>Zone ID: E-7.3B<br>Num Packages: 1.0 <br> Service Time: 36.0",
          "Sequence: 27<br> Stop ID: QD<br>Zone ID: E-7.3B<br>Num Packages: 1.0 <br> Service Time: 128.0",
          "Sequence: 28<br> Stop ID: LD<br>Zone ID: E-7.3B<br>Num Packages: 2.0 <br> Service Time: 97.0",
          "Sequence: 29<br> Stop ID: VM<br>Zone ID: E-7.3B<br>Num Packages: 1.0 <br> Service Time: 91.0",
          "Sequence: 30<br> Stop ID: OL<br>Zone ID: E-7.3B<br>Num Packages: 3.0 <br> Service Time: 35.7",
          "Sequence: 31<br> Stop ID: UU<br>Zone ID: E-7.3B<br>Num Packages: 1.0 <br> Service Time: 76.0",
          "Sequence: 32<br> Stop ID: HP<br>Zone ID: E-7.3B<br>Num Packages: 1.0 <br> Service Time: 197.0",
          "Sequence: 33<br> Stop ID: PH<br>Zone ID: E-7.3B<br>Num Packages: 1.0 <br> Service Time: 33.0"
         ],
         "type": "scattermapbox"
        },
        {
         "hoverinfo": "text",
         "lat": [
          41.99914,
          42.000933,
          42.000956,
          42.000943,
          42.000039,
          41.999135,
          41.99902,
          41.999315,
          41.999088,
          41.99917,
          41.999576,
          41.998067,
          41.997146,
          41.99675,
          41.995894,
          41.995991
         ],
         "lon": [
          -87.793113,
          -87.79313,
          -87.79457,
          -87.795988,
          -87.79394,
          -87.794743,
          -87.796154,
          -87.79718,
          -87.79822,
          -87.799312,
          -87.79939,
          -87.799095,
          -87.798873,
          -87.798357,
          -87.797924,
          -87.798595
         ],
         "marker": {
          "size": 15
         },
         "mode": "markers",
         "name": "E-7.3A",
         "text": [
          "Sequence: 34<br> Stop ID: SR<br>Zone ID: E-7.3A<br>Num Packages: 1.0 <br> Service Time: 75.0",
          "Sequence: 35<br> Stop ID: CR<br>Zone ID: E-7.3A<br>Num Packages: 1.0 <br> Service Time: 78.0",
          "Sequence: 36<br> Stop ID: QF<br>Zone ID: E-7.3A<br>Num Packages: 1.0 <br> Service Time: 30.0",
          "Sequence: 37<br> Stop ID: RJ<br>Zone ID: E-7.3A<br>Num Packages: 2.0 <br> Service Time: 90.0",
          "Sequence: 38<br> Stop ID: KG<br>Zone ID: E-7.3A<br>Num Packages: 1.0 <br> Service Time: 33.0",
          "Sequence: 39<br> Stop ID: EN<br>Zone ID: E-7.3A<br>Num Packages: 1.0 <br> Service Time: 27.0",
          "Sequence: 40<br> Stop ID: GP<br>Zone ID: E-7.3A<br>Num Packages: 1.0 <br> Service Time: 330.0",
          "Sequence: 41<br> Stop ID: MR<br>Zone ID: E-7.3A<br>Num Packages: 4.0 <br> Service Time: 41.2",
          "Sequence: 42<br> Stop ID: RT<br>Zone ID: E-7.3A<br>Num Packages: 1.0 <br> Service Time: 44.0",
          "Sequence: 43<br> Stop ID: CO<br>Zone ID: E-7.3A<br>Num Packages: 1.0 <br> Service Time: 38.0",
          "Sequence: 44<br> Stop ID: ZR<br>Zone ID: E-7.3A<br>Num Packages: 1.0 <br> Service Time: 52.0",
          "Sequence: 45<br> Stop ID: VY<br>Zone ID: E-7.3A<br>Num Packages: 1.0 <br> Service Time: 44.0",
          "Sequence: 46<br> Stop ID: HG<br>Zone ID: E-7.3A<br>Num Packages: 2.0 <br> Service Time: 63.5",
          "Sequence: 47<br> Stop ID: PZ<br>Zone ID: E-7.3A<br>Num Packages: 1.0 <br> Service Time: 144.0",
          "Sequence: 48<br> Stop ID: RF<br>Zone ID: E-7.3A<br>Num Packages: 2.0 <br> Service Time: 70.0",
          "Sequence: 49<br> Stop ID: XC<br>Zone ID: E-7.3A<br>Num Packages: 1.0 <br> Service Time: 46.0"
         ],
         "type": "scattermapbox"
        },
        {
         "hoverinfo": "text",
         "lat": [
          41.995669,
          41.995416,
          41.996377,
          41.996665,
          42.001457,
          41.999245,
          41.99873,
          41.998481,
          41.998176
         ],
         "lon": [
          -87.799833,
          -87.800586,
          -87.800697,
          -87.800755,
          -87.801711,
          -87.800336,
          -87.800221,
          -87.799531,
          -87.800411
         ],
         "marker": {
          "size": 15
         },
         "mode": "markers",
         "name": "E-7.2A",
         "text": [
          "Sequence: 50<br> Stop ID: RM<br>Zone ID: E-7.2A<br>Num Packages: 2.0 <br> Service Time: 113.0",
          "Sequence: 51<br> Stop ID: EB<br>Zone ID: E-7.2A<br>Num Packages: 1.0 <br> Service Time: 49.0",
          "Sequence: 52<br> Stop ID: EO<br>Zone ID: E-7.2A<br>Num Packages: 2.0 <br> Service Time: 120.0",
          "Sequence: 53<br> Stop ID: YK<br>Zone ID: E-7.2A<br>Num Packages: 4.0 <br> Service Time: 107.5",
          "Sequence: 54<br> Stop ID: QL<br>Zone ID: E-7.2A<br>Num Packages: 3.0 <br> Service Time: 34.3",
          "Sequence: 55<br> Stop ID: TU<br>Zone ID: E-7.2A<br>Num Packages: 1.0 <br> Service Time: 27.0",
          "Sequence: 56<br> Stop ID: HZ<br>Zone ID: E-7.2A<br>Num Packages: 1.0 <br> Service Time: 33.0",
          "Sequence: 57<br> Stop ID: LG<br>Zone ID: E-7.2A<br>Num Packages: 2.0 <br> Service Time: 22.0",
          "Sequence: 58<br> Stop ID: DE<br>Zone ID: E-7.2A<br>Num Packages: 1.0 <br> Service Time: 45.0"
         ],
         "type": "scattermapbox"
        },
        {
         "hoverinfo": "text",
         "lat": [
          41.998574,
          41.999252,
          41.999572,
          41.999975,
          42.000255,
          42.001302,
          42.000087,
          41.998833,
          41.998241,
          41.997099,
          41.996189,
          41.997647
         ],
         "lon": [
          -87.801173,
          -87.801336,
          -87.801413,
          -87.803708,
          -87.804156,
          -87.804143,
          -87.802951,
          -87.802975,
          -87.802978,
          -87.803337,
          -87.802725,
          -87.801948
         ],
         "marker": {
          "size": 15
         },
         "mode": "markers",
         "name": "E-7.1A",
         "text": [
          "Sequence: 59<br> Stop ID: AK<br>Zone ID: E-7.1A<br>Num Packages: 4.0 <br> Service Time: 62.8",
          "Sequence: 60<br> Stop ID: LQ<br>Zone ID: E-7.1A<br>Num Packages: 1.0 <br> Service Time: 150.0",
          "Sequence: 61<br> Stop ID: VC<br>Zone ID: E-7.1A<br>Num Packages: 1.0 <br> Service Time: 59.0",
          "Sequence: 62<br> Stop ID: AS<br>Zone ID: E-7.1A<br>Num Packages: 1.0 <br> Service Time: 41.0",
          "Sequence: 63<br> Stop ID: IF<br>Zone ID: E-7.1A<br>Num Packages: 2.0 <br> Service Time: 30.5",
          "Sequence: 64<br> Stop ID: DW<br>Zone ID: E-7.1A<br>Num Packages: 1.0 <br> Service Time: 62.0",
          "Sequence: 65<br> Stop ID: VN<br>Zone ID: E-7.1A<br>Num Packages: 1.0 <br> Service Time: 53.0",
          "Sequence: 66<br> Stop ID: XG<br>Zone ID: E-7.1A<br>Num Packages: 1.0 <br> Service Time: 41.0",
          "Sequence: 67<br> Stop ID: IZ<br>Zone ID: E-7.1A<br>Num Packages: 2.0 <br> Service Time: 52.0",
          "Sequence: 68<br> Stop ID: BF<br>Zone ID: E-7.1A<br>Num Packages: 1.0 <br> Service Time: 65.0",
          "Sequence: 69<br> Stop ID: SJ<br>Zone ID: E-7.1A<br>Num Packages: 1.0 <br> Service Time: 60.0",
          "Sequence: 70<br> Stop ID: JT<br>Zone ID: E-7.1A<br>Num Packages: 2.0 <br> Service Time: 61.5"
         ],
         "type": "scattermapbox"
        },
        {
         "hoverinfo": "text",
         "lat": [
          41.99767,
          41.998657,
          42.000165,
          41.999534,
          41.999487,
          41.998939,
          41.997493,
          41.997757,
          41.997789
         ],
         "lon": [
          -87.804194,
          -87.80575,
          -87.805366,
          -87.805207,
          -87.80489,
          -87.804897,
          -87.804903,
          -87.804697,
          -87.80612
         ],
         "marker": {
          "size": 15
         },
         "mode": "markers",
         "name": "E-6.1A",
         "text": [
          "Sequence: 71<br> Stop ID: VE<br>Zone ID: E-6.1A<br>Num Packages: 1.0 <br> Service Time: 45.0",
          "Sequence: 72<br> Stop ID: XQ<br>Zone ID: E-6.1A<br>Num Packages: 1.0 <br> Service Time: 79.0",
          "Sequence: 73<br> Stop ID: SO<br>Zone ID: E-6.1A<br>Num Packages: 3.0 <br> Service Time: 137.0",
          "Sequence: 74<br> Stop ID: II<br>Zone ID: E-6.1A<br>Num Packages: 1.0 <br> Service Time: 47.0",
          "Sequence: 75<br> Stop ID: AZ<br>Zone ID: E-6.1A<br>Num Packages: 4.0 <br> Service Time: 41.2",
          "Sequence: 76<br> Stop ID: SK<br>Zone ID: E-6.1A<br>Num Packages: 1.0 <br> Service Time: 84.0",
          "Sequence: 77<br> Stop ID: HD<br>Zone ID: E-6.1A<br>Num Packages: 1.0 <br> Service Time: 64.0",
          "Sequence: 78<br> Stop ID: ZL<br>Zone ID: E-6.1A<br>Num Packages: 1.0 <br> Service Time: 153.0",
          "Sequence: 79<br> Stop ID: NT<br>Zone ID: E-6.1A<br>Num Packages: 2.0 <br> Service Time: 83.0"
         ],
         "type": "scattermapbox"
        },
        {
         "hoverinfo": "text",
         "lat": [
          41.997768,
          41.995023,
          41.998363,
          41.998772,
          41.999088,
          41.999348,
          42.000154
         ],
         "lon": [
          -87.808075,
          -87.803519,
          -87.808835,
          -87.809717,
          -87.810239,
          -87.81066,
          -87.811975
         ],
         "marker": {
          "size": 15
         },
         "mode": "markers",
         "name": "E-6.2A",
         "text": [
          "Sequence: 80<br> Stop ID: AY<br>Zone ID: E-6.2A<br>Num Packages: 1.0 <br> Service Time: 110.0",
          "Sequence: 81<br> Stop ID: IN<br>Zone ID: E-6.2A<br>Num Packages: 1.0 <br> Service Time: 150.0",
          "Sequence: 82<br> Stop ID: WK<br>Zone ID: E-6.2A<br>Num Packages: 3.0 <br> Service Time: 189.0",
          "Sequence: 83<br> Stop ID: CB<br>Zone ID: E-6.2A<br>Num Packages: 8.0 <br> Service Time: 55.1",
          "Sequence: 84<br> Stop ID: XR<br>Zone ID: E-6.2A<br>Num Packages: 1.0 <br> Service Time: 44.0",
          "Sequence: 85<br> Stop ID: MS<br>Zone ID: E-6.2A<br>Num Packages: 5.0 <br> Service Time: 132.0",
          "Sequence: 86<br> Stop ID: GA<br>Zone ID: E-6.2A<br>Num Packages: 1.0 <br> Service Time: 69.0"
         ],
         "type": "scattermapbox"
        },
        {
         "hoverinfo": "text",
         "lat": [
          42.000722,
          42.000272,
          41.999506,
          42.001191,
          42.002343,
          42.00365,
          42.003264,
          42.000915
         ],
         "lon": [
          -87.812836,
          -87.813855,
          -87.811694,
          -87.81363,
          -87.813477,
          -87.81162,
          -87.812408,
          -87.813199
         ],
         "marker": {
          "size": 15
         },
         "mode": "markers",
         "name": "E-6.3A",
         "text": [
          "Sequence: 87<br> Stop ID: OX<br>Zone ID: E-6.3A<br>Num Packages: 1.0 <br> Service Time: 126.0",
          "Sequence: 88<br> Stop ID: VP<br>Zone ID: E-6.3A<br>Num Packages: 2.0 <br> Service Time: 35.0",
          "Sequence: 89<br> Stop ID: YP<br>Zone ID: E-6.3A<br>Num Packages: 6.0 <br> Service Time: 47.0",
          "Sequence: 90<br> Stop ID: TY<br>Zone ID: E-6.3A<br>Num Packages: 1.0 <br> Service Time: 53.0",
          "Sequence: 91<br> Stop ID: EH<br>Zone ID: E-6.3A<br>Num Packages: 1.0 <br> Service Time: 83.0",
          "Sequence: 92<br> Stop ID: SE<br>Zone ID: E-6.3A<br>Num Packages: 4.0 <br> Service Time: 100.2",
          "Sequence: 93<br> Stop ID: SW<br>Zone ID: E-6.3A<br>Num Packages: 4.0 <br> Service Time: 29.0",
          "Sequence: 94<br> Stop ID: GN<br>Zone ID: E-6.3A<br>Num Packages: 3.0 <br> Service Time: 21.0"
         ],
         "type": "scattermapbox"
        },
        {
         "hoverinfo": "text",
         "lat": [
          42.001229,
          42.002125,
          42.002129,
          42.001133,
          42.001364,
          42.000817,
          42.000528,
          42.000715,
          42.000434
         ],
         "lon": [
          -87.81315,
          -87.8121,
          -87.810404,
          -87.810921,
          -87.811297,
          -87.811985,
          -87.812197,
          -87.810225,
          -87.809755
         ],
         "marker": {
          "size": 15
         },
         "mode": "markers",
         "name": "E-6.3B",
         "text": [
          "Sequence: 95<br> Stop ID: YO<br>Zone ID: E-6.3B<br>Num Packages: 1.0 <br> Service Time: 49.0",
          "Sequence: 96<br> Stop ID: AX<br>Zone ID: E-6.3B<br>Num Packages: 1.0 <br> Service Time: 95.0",
          "Sequence: 97<br> Stop ID: FD<br>Zone ID: E-6.3B<br>Num Packages: 1.0 <br> Service Time: 82.0",
          "Sequence: 98<br> Stop ID: MF<br>Zone ID: E-6.3B<br>Num Packages: 1.0 <br> Service Time: 61.0",
          "Sequence: 99<br> Stop ID: YW<br>Zone ID: E-6.3B<br>Num Packages: 1.0 <br> Service Time: 111.0",
          "Sequence: 100<br> Stop ID: ZT<br>Zone ID: E-6.3B<br>Num Packages: 3.0 <br> Service Time: 47.70000000000001",
          "Sequence: 101<br> Stop ID: FT<br>Zone ID: E-6.3B<br>Num Packages: 1.0 <br> Service Time: 44.0",
          "Sequence: 102<br> Stop ID: VF<br>Zone ID: E-6.3B<br>Num Packages: 4.0 <br> Service Time: 151.0",
          "Sequence: 103<br> Stop ID: EP<br>Zone ID: E-6.3B<br>Num Packages: 1.0 <br> Service Time: 81.0"
         ],
         "type": "scattermapbox"
        },
        {
         "hoverinfo": "text",
         "lat": [
          41.998993,
          42.000498,
          42.000607,
          42.000304,
          42.003052,
          42.001399,
          42.001478,
          42.002147
         ],
         "lon": [
          -87.807404,
          -87.807978,
          -87.806763,
          -87.806766,
          -87.806736,
          -87.806753,
          -87.807966,
          -87.807963
         ],
         "marker": {
          "size": 15
         },
         "mode": "markers",
         "name": "E-6.2B",
         "text": [
          "Sequence: 104<br> Stop ID: ZY<br>Zone ID: E-6.2B<br>Num Packages: 1.0 <br> Service Time: 155.0",
          "Sequence: 105<br> Stop ID: NF<br>Zone ID: E-6.2B<br>Num Packages: 1.0 <br> Service Time: 50.0",
          "Sequence: 106<br> Stop ID: XJ<br>Zone ID: E-6.2B<br>Num Packages: 1.0 <br> Service Time: 121.0",
          "Sequence: 107<br> Stop ID: HE<br>Zone ID: E-6.2B<br>Num Packages: 1.0 <br> Service Time: 43.0",
          "Sequence: 108<br> Stop ID: VZ<br>Zone ID: E-6.2B<br>Num Packages: 1.0 <br> Service Time: 216.0",
          "Sequence: 109<br> Stop ID: HX<br>Zone ID: E-6.2B<br>Num Packages: 7.0 <br> Service Time: 73.0",
          "Sequence: 110<br> Stop ID: GT<br>Zone ID: E-6.2B<br>Num Packages: 6.0 <br> Service Time: 69.2",
          "Sequence: 111<br> Stop ID: YF<br>Zone ID: E-6.2B<br>Num Packages: 3.0 <br> Service Time: 64.7"
         ],
         "type": "scattermapbox"
        },
        {
         "hoverinfo": "text",
         "lat": [
          42.003926,
          42.004253,
          42.003884,
          42.001054,
          42.002181,
          42.003142
         ],
         "lon": [
          -87.807953,
          -87.809171,
          -87.809173,
          -87.809196,
          -87.809184,
          -87.809177
         ],
         "marker": {
          "size": 15
         },
         "mode": "markers",
         "name": "E-6.1B",
         "text": [
          "Sequence: 112<br> Stop ID: RR<br>Zone ID: E-6.1B<br>Num Packages: 2.0 <br> Service Time: 65.0",
          "Sequence: 113<br> Stop ID: WU<br>Zone ID: E-6.1B<br>Num Packages: 3.0 <br> Service Time: 50.70000000000001",
          "Sequence: 114<br> Stop ID: ZM<br>Zone ID: E-6.1B<br>Num Packages: 3.0 <br> Service Time: 112.0",
          "Sequence: 115<br> Stop ID: ER<br>Zone ID: E-6.1B<br>Num Packages: 1.0 <br> Service Time: 60.0",
          "Sequence: 116<br> Stop ID: RN<br>Zone ID: E-6.1B<br>Num Packages: 1.0 <br> Service Time: 57.0",
          "Sequence: 117<br> Stop ID: TW<br>Zone ID: E-6.1B<br>Num Packages: 1.0 <br> Service Time: 35.0"
         ],
         "type": "scattermapbox"
        },
        {
         "hoverinfo": "text",
         "lat": [
          42.003425,
          42.004096,
          42.00523,
          42.005277
         ],
         "lon": [
          -87.81039,
          -87.810383,
          -87.811527,
          -87.810015
         ],
         "marker": {
          "size": 15
         },
         "mode": "markers",
         "name": "E-6.1C",
         "text": [
          "Sequence: 118<br> Stop ID: OJ<br>Zone ID: E-6.1C<br>Num Packages: 4.0 <br> Service Time: 65.5",
          "Sequence: 119<br> Stop ID: FB<br>Zone ID: E-6.1C<br>Num Packages: 1.0 <br> Service Time: 29.0",
          "Sequence: 120<br> Stop ID: BY<br>Zone ID: E-6.1C<br>Num Packages: 1.0 <br> Service Time: 91.0",
          "Sequence: 121<br> Stop ID: OQ<br>Zone ID: E-6.1C<br>Num Packages: 2.0 <br> Service Time: 31.0"
         ],
         "type": "scattermapbox"
        },
        {
         "hoverinfo": "text",
         "lat": [
          42.005326,
          42.006286,
          42.006256,
          42.00622,
          42.007188
         ],
         "lon": [
          -87.808377,
          -87.807795,
          -87.808667,
          -87.809753,
          -87.807211
         ],
         "marker": {
          "size": 15
         },
         "mode": "markers",
         "name": "E-6.2C",
         "text": [
          "Sequence: 122<br> Stop ID: BJ<br>Zone ID: E-6.2C<br>Num Packages: 1.0 <br> Service Time: 48.0",
          "Sequence: 123<br> Stop ID: SC<br>Zone ID: E-6.2C<br>Num Packages: 2.0 <br> Service Time: 55.5",
          "Sequence: 124<br> Stop ID: HL<br>Zone ID: E-6.2C<br>Num Packages: 3.0 <br> Service Time: 39.0",
          "Sequence: 125<br> Stop ID: RU<br>Zone ID: E-6.2C<br>Num Packages: 2.0 <br> Service Time: 122.0",
          "Sequence: 126<br> Stop ID: XS<br>Zone ID: E-6.2C<br>Num Packages: 5.0 <br> Service Time: 23.0"
         ],
         "type": "scattermapbox"
        },
        {
         "hoverinfo": "text",
         "lat": [
          42.007122,
          42.007093,
          42.007073,
          42.007232,
          42.008002,
          42.008041,
          42.008096,
          42.01012
         ],
         "lon": [
          -87.808835,
          -87.809642,
          -87.810333,
          -87.810996,
          -87.810104,
          -87.808792,
          -87.807088,
          -87.804512
         ],
         "marker": {
          "size": 15
         },
         "mode": "markers",
         "name": "E-6.3C",
         "text": [
          "Sequence: 127<br> Stop ID: MT<br>Zone ID: E-6.3C<br>Num Packages: 2.0 <br> Service Time: 90.5",
          "Sequence: 128<br> Stop ID: AU<br>Zone ID: E-6.3C<br>Num Packages: 2.0 <br> Service Time: 33.5",
          "Sequence: 129<br> Stop ID: KT<br>Zone ID: E-6.3C<br>Num Packages: 1.0 <br> Service Time: 36.0",
          "Sequence: 130<br> Stop ID: QW<br>Zone ID: E-6.3C<br>Num Packages: 1.0 <br> Service Time: 52.0",
          "Sequence: 131<br> Stop ID: HV<br>Zone ID: E-6.3C<br>Num Packages: 3.0 <br> Service Time: 43.70000000000001",
          "Sequence: 132<br> Stop ID: TG<br>Zone ID: E-6.3C<br>Num Packages: 3.0 <br> Service Time: 94.0",
          "Sequence: 133<br> Stop ID: ND<br>Zone ID: E-6.3C<br>Num Packages: 2.0 <br> Service Time: 159.0",
          "Sequence: 134<br> Stop ID: FS<br>Zone ID: E-6.3C<br>Num Packages: 1.0 <br> Service Time: 71.0"
         ],
         "type": "scattermapbox"
        },
        {
         "hoverinfo": "text",
         "lat": [
          42.009807,
          42.010099,
          42.008968,
          42.009158,
          42.009292,
          42.008439,
          42.00789,
          42.006678,
          42.007201,
          42.005355,
          42.004804,
          42.005271
         ],
         "lon": [
          -87.80412,
          -87.803753,
          -87.808176,
          -87.81097,
          -87.813657,
          -87.813671,
          -87.813953,
          -87.813694,
          -87.812288,
          -87.812317,
          -87.812329,
          -87.8137
         ],
         "marker": {
          "size": 15
         },
         "mode": "markers",
         "name": "E-6.3D",
         "text": [
          "Sequence: 135<br> Stop ID: NA<br>Zone ID: E-6.3D<br>Num Packages: 2.0 <br> Service Time: 92.0",
          "Sequence: 136<br> Stop ID: YR<br>Zone ID: E-6.3D<br>Num Packages: 1.0 <br> Service Time: 25.0",
          "Sequence: 137<br> Stop ID: IG<br>Zone ID: E-6.3D<br>Num Packages: 2.0 <br> Service Time: 44.0",
          "Sequence: 138<br> Stop ID: WA<br>Zone ID: E-6.3D<br>Num Packages: 1.0 <br> Service Time: 39.0",
          "Sequence: 139<br> Stop ID: VS<br>Zone ID: E-6.3D<br>Num Packages: 1.0 <br> Service Time: 35.0",
          "Sequence: 140<br> Stop ID: LH<br>Zone ID: E-6.3D<br>Num Packages: 2.0 <br> Service Time: 49.0",
          "Sequence: 141<br> Stop ID: JL<br>Zone ID: E-6.3D<br>Num Packages: 1.0 <br> Service Time: 51.0",
          "Sequence: 142<br> Stop ID: WH<br>Zone ID: E-6.3D<br>Num Packages: 1.0 <br> Service Time: 35.0",
          "Sequence: 143<br> Stop ID: ZJ<br>Zone ID: E-6.3D<br>Num Packages: 1.0 <br> Service Time: 72.0",
          "Sequence: 144<br> Stop ID: KS<br>Zone ID: E-6.3D<br>Num Packages: 2.0 <br> Service Time: 154.0",
          "Sequence: 145<br> Stop ID: DN<br>Zone ID: E-6.3D<br>Num Packages: 1.0 <br> Service Time: 50.0",
          "Sequence: 146<br> Stop ID: YQ<br>Zone ID: E-6.3D<br>Num Packages: 3.0 <br> Service Time: 44.29999999999999"
         ],
         "type": "scattermapbox"
        },
        {
         "hoverinfo": "text",
         "lat": [
          42.004224,
          42.002875,
          42.00332,
          42.002324,
          42.003141,
          42.003996
         ],
         "lon": [
          -87.814218,
          -87.81836,
          -87.819132,
          -87.816642,
          -87.815812,
          -87.813184
         ],
         "marker": {
          "size": 15
         },
         "mode": "markers",
         "name": "E-6.2D",
         "text": [
          "Sequence: 147<br> Stop ID: NV<br>Zone ID: E-6.2D<br>Num Packages: 1.0 <br> Service Time: 39.0",
          "Sequence: 148<br> Stop ID: ZQ<br>Zone ID: E-6.2D<br>Num Packages: 1.0 <br> Service Time: 45.0",
          "Sequence: 149<br> Stop ID: JH<br>Zone ID: E-6.2D<br>Num Packages: 4.0 <br> Service Time: 14.5",
          "Sequence: 150<br> Stop ID: WS<br>Zone ID: E-6.2D<br>Num Packages: 1.0 <br> Service Time: 111.0",
          "Sequence: 151<br> Stop ID: WD<br>Zone ID: E-6.2D<br>Num Packages: 3.0 <br> Service Time: 65.3",
          "Sequence: 152<br> Stop ID: NI<br>Zone ID: E-6.2D<br>Num Packages: 3.0 <br> Service Time: 56.0"
         ],
         "type": "scattermapbox"
        },
        {
         "hoverinfo": "text",
         "lat": [
          42.003057,
          42.00187,
          42.003788,
          42.004423,
          42.005222,
          42.005805,
          42.005393,
          42.005649,
          42.006633,
          42.009571,
          42.031368
         ],
         "lon": [
          -87.814257,
          -87.816372,
          -87.814852,
          -87.815098,
          -87.815089,
          -87.815083,
          -87.816456,
          -87.817634,
          -87.817621,
          -87.817584,
          -87.776596
         ],
         "marker": {
          "size": 15
         },
         "mode": "markers",
         "name": "E-6.1D",
         "text": [
          "Sequence: 153<br> Stop ID: DG<br>Zone ID: E-6.1D<br>Num Packages: 1.0 <br> Service Time: 108.0",
          "Sequence: 154<br> Stop ID: OK<br>Zone ID: E-6.1D<br>Num Packages: 1.0 <br> Service Time: 64.0",
          "Sequence: 155<br> Stop ID: NM<br>Zone ID: E-6.1D<br>Num Packages: 1.0 <br> Service Time: 63.0",
          "Sequence: 156<br> Stop ID: AM<br>Zone ID: E-6.1D<br>Num Packages: 3.0 <br> Service Time: 15.0",
          "Sequence: 157<br> Stop ID: DS<br>Zone ID: E-6.1D<br>Num Packages: 2.0 <br> Service Time: 63.0",
          "Sequence: 158<br> Stop ID: NZ<br>Zone ID: E-6.1D<br>Num Packages: 1.0 <br> Service Time: 34.0",
          "Sequence: 159<br> Stop ID: XW<br>Zone ID: E-6.1D<br>Num Packages: 1.0 <br> Service Time: 71.0",
          "Sequence: 160<br> Stop ID: MC<br>Zone ID: E-6.1D<br>Num Packages: 1.0 <br> Service Time: 38.0",
          "Sequence: 161<br> Stop ID: AV<br>Zone ID: E-6.1D<br>Num Packages: 1.0 <br> Service Time: 108.0",
          "Sequence: 162<br> Stop ID: WL<br>Zone ID: E-6.1D<br>Num Packages: 3.0 <br> Service Time: 83.3",
          "Sequence: 163<br> Stop ID: HI<br>Zone ID: E-6.1D<br>Num Packages: nan <br> Service Time: nan"
         ],
         "type": "scattermapbox"
        }
       ],
       "layout": {
        "height": 600,
        "mapbox": {
         "center": {
          "lat": 42.003060402439026,
          "lon": -87.804397902439
         },
         "style": "open-street-map",
         "zoom": 10
        },
        "margin": {
         "b": 10,
         "l": 10,
         "r": 10,
         "t": 10
        },
        "showlegend": false,
        "template": {
         "data": {
          "bar": [
           {
            "error_x": {
             "color": "#2a3f5f"
            },
            "error_y": {
             "color": "#2a3f5f"
            },
            "marker": {
             "line": {
              "color": "#E5ECF6",
              "width": 0.5
             },
             "pattern": {
              "fillmode": "overlay",
              "size": 10,
              "solidity": 0.2
             }
            },
            "type": "bar"
           }
          ],
          "barpolar": [
           {
            "marker": {
             "line": {
              "color": "#E5ECF6",
              "width": 0.5
             },
             "pattern": {
              "fillmode": "overlay",
              "size": 10,
              "solidity": 0.2
             }
            },
            "type": "barpolar"
           }
          ],
          "carpet": [
           {
            "aaxis": {
             "endlinecolor": "#2a3f5f",
             "gridcolor": "white",
             "linecolor": "white",
             "minorgridcolor": "white",
             "startlinecolor": "#2a3f5f"
            },
            "baxis": {
             "endlinecolor": "#2a3f5f",
             "gridcolor": "white",
             "linecolor": "white",
             "minorgridcolor": "white",
             "startlinecolor": "#2a3f5f"
            },
            "type": "carpet"
           }
          ],
          "choropleth": [
           {
            "colorbar": {
             "outlinewidth": 0,
             "ticks": ""
            },
            "type": "choropleth"
           }
          ],
          "contour": [
           {
            "colorbar": {
             "outlinewidth": 0,
             "ticks": ""
            },
            "colorscale": [
             [
              0,
              "#0d0887"
             ],
             [
              0.1111111111111111,
              "#46039f"
             ],
             [
              0.2222222222222222,
              "#7201a8"
             ],
             [
              0.3333333333333333,
              "#9c179e"
             ],
             [
              0.4444444444444444,
              "#bd3786"
             ],
             [
              0.5555555555555556,
              "#d8576b"
             ],
             [
              0.6666666666666666,
              "#ed7953"
             ],
             [
              0.7777777777777778,
              "#fb9f3a"
             ],
             [
              0.8888888888888888,
              "#fdca26"
             ],
             [
              1,
              "#f0f921"
             ]
            ],
            "type": "contour"
           }
          ],
          "contourcarpet": [
           {
            "colorbar": {
             "outlinewidth": 0,
             "ticks": ""
            },
            "type": "contourcarpet"
           }
          ],
          "heatmap": [
           {
            "colorbar": {
             "outlinewidth": 0,
             "ticks": ""
            },
            "colorscale": [
             [
              0,
              "#0d0887"
             ],
             [
              0.1111111111111111,
              "#46039f"
             ],
             [
              0.2222222222222222,
              "#7201a8"
             ],
             [
              0.3333333333333333,
              "#9c179e"
             ],
             [
              0.4444444444444444,
              "#bd3786"
             ],
             [
              0.5555555555555556,
              "#d8576b"
             ],
             [
              0.6666666666666666,
              "#ed7953"
             ],
             [
              0.7777777777777778,
              "#fb9f3a"
             ],
             [
              0.8888888888888888,
              "#fdca26"
             ],
             [
              1,
              "#f0f921"
             ]
            ],
            "type": "heatmap"
           }
          ],
          "heatmapgl": [
           {
            "colorbar": {
             "outlinewidth": 0,
             "ticks": ""
            },
            "colorscale": [
             [
              0,
              "#0d0887"
             ],
             [
              0.1111111111111111,
              "#46039f"
             ],
             [
              0.2222222222222222,
              "#7201a8"
             ],
             [
              0.3333333333333333,
              "#9c179e"
             ],
             [
              0.4444444444444444,
              "#bd3786"
             ],
             [
              0.5555555555555556,
              "#d8576b"
             ],
             [
              0.6666666666666666,
              "#ed7953"
             ],
             [
              0.7777777777777778,
              "#fb9f3a"
             ],
             [
              0.8888888888888888,
              "#fdca26"
             ],
             [
              1,
              "#f0f921"
             ]
            ],
            "type": "heatmapgl"
           }
          ],
          "histogram": [
           {
            "marker": {
             "pattern": {
              "fillmode": "overlay",
              "size": 10,
              "solidity": 0.2
             }
            },
            "type": "histogram"
           }
          ],
          "histogram2d": [
           {
            "colorbar": {
             "outlinewidth": 0,
             "ticks": ""
            },
            "colorscale": [
             [
              0,
              "#0d0887"
             ],
             [
              0.1111111111111111,
              "#46039f"
             ],
             [
              0.2222222222222222,
              "#7201a8"
             ],
             [
              0.3333333333333333,
              "#9c179e"
             ],
             [
              0.4444444444444444,
              "#bd3786"
             ],
             [
              0.5555555555555556,
              "#d8576b"
             ],
             [
              0.6666666666666666,
              "#ed7953"
             ],
             [
              0.7777777777777778,
              "#fb9f3a"
             ],
             [
              0.8888888888888888,
              "#fdca26"
             ],
             [
              1,
              "#f0f921"
             ]
            ],
            "type": "histogram2d"
           }
          ],
          "histogram2dcontour": [
           {
            "colorbar": {
             "outlinewidth": 0,
             "ticks": ""
            },
            "colorscale": [
             [
              0,
              "#0d0887"
             ],
             [
              0.1111111111111111,
              "#46039f"
             ],
             [
              0.2222222222222222,
              "#7201a8"
             ],
             [
              0.3333333333333333,
              "#9c179e"
             ],
             [
              0.4444444444444444,
              "#bd3786"
             ],
             [
              0.5555555555555556,
              "#d8576b"
             ],
             [
              0.6666666666666666,
              "#ed7953"
             ],
             [
              0.7777777777777778,
              "#fb9f3a"
             ],
             [
              0.8888888888888888,
              "#fdca26"
             ],
             [
              1,
              "#f0f921"
             ]
            ],
            "type": "histogram2dcontour"
           }
          ],
          "mesh3d": [
           {
            "colorbar": {
             "outlinewidth": 0,
             "ticks": ""
            },
            "type": "mesh3d"
           }
          ],
          "parcoords": [
           {
            "line": {
             "colorbar": {
              "outlinewidth": 0,
              "ticks": ""
             }
            },
            "type": "parcoords"
           }
          ],
          "pie": [
           {
            "automargin": true,
            "type": "pie"
           }
          ],
          "scatter": [
           {
            "fillpattern": {
             "fillmode": "overlay",
             "size": 10,
             "solidity": 0.2
            },
            "type": "scatter"
           }
          ],
          "scatter3d": [
           {
            "line": {
             "colorbar": {
              "outlinewidth": 0,
              "ticks": ""
             }
            },
            "marker": {
             "colorbar": {
              "outlinewidth": 0,
              "ticks": ""
             }
            },
            "type": "scatter3d"
           }
          ],
          "scattercarpet": [
           {
            "marker": {
             "colorbar": {
              "outlinewidth": 0,
              "ticks": ""
             }
            },
            "type": "scattercarpet"
           }
          ],
          "scattergeo": [
           {
            "marker": {
             "colorbar": {
              "outlinewidth": 0,
              "ticks": ""
             }
            },
            "type": "scattergeo"
           }
          ],
          "scattergl": [
           {
            "marker": {
             "colorbar": {
              "outlinewidth": 0,
              "ticks": ""
             }
            },
            "type": "scattergl"
           }
          ],
          "scattermapbox": [
           {
            "marker": {
             "colorbar": {
              "outlinewidth": 0,
              "ticks": ""
             }
            },
            "type": "scattermapbox"
           }
          ],
          "scatterpolar": [
           {
            "marker": {
             "colorbar": {
              "outlinewidth": 0,
              "ticks": ""
             }
            },
            "type": "scatterpolar"
           }
          ],
          "scatterpolargl": [
           {
            "marker": {
             "colorbar": {
              "outlinewidth": 0,
              "ticks": ""
             }
            },
            "type": "scatterpolargl"
           }
          ],
          "scatterternary": [
           {
            "marker": {
             "colorbar": {
              "outlinewidth": 0,
              "ticks": ""
             }
            },
            "type": "scatterternary"
           }
          ],
          "surface": [
           {
            "colorbar": {
             "outlinewidth": 0,
             "ticks": ""
            },
            "colorscale": [
             [
              0,
              "#0d0887"
             ],
             [
              0.1111111111111111,
              "#46039f"
             ],
             [
              0.2222222222222222,
              "#7201a8"
             ],
             [
              0.3333333333333333,
              "#9c179e"
             ],
             [
              0.4444444444444444,
              "#bd3786"
             ],
             [
              0.5555555555555556,
              "#d8576b"
             ],
             [
              0.6666666666666666,
              "#ed7953"
             ],
             [
              0.7777777777777778,
              "#fb9f3a"
             ],
             [
              0.8888888888888888,
              "#fdca26"
             ],
             [
              1,
              "#f0f921"
             ]
            ],
            "type": "surface"
           }
          ],
          "table": [
           {
            "cells": {
             "fill": {
              "color": "#EBF0F8"
             },
             "line": {
              "color": "white"
             }
            },
            "header": {
             "fill": {
              "color": "#C8D4E3"
             },
             "line": {
              "color": "white"
             }
            },
            "type": "table"
           }
          ]
         },
         "layout": {
          "annotationdefaults": {
           "arrowcolor": "#2a3f5f",
           "arrowhead": 0,
           "arrowwidth": 1
          },
          "autotypenumbers": "strict",
          "coloraxis": {
           "colorbar": {
            "outlinewidth": 0,
            "ticks": ""
           }
          },
          "colorscale": {
           "diverging": [
            [
             0,
             "#8e0152"
            ],
            [
             0.1,
             "#c51b7d"
            ],
            [
             0.2,
             "#de77ae"
            ],
            [
             0.3,
             "#f1b6da"
            ],
            [
             0.4,
             "#fde0ef"
            ],
            [
             0.5,
             "#f7f7f7"
            ],
            [
             0.6,
             "#e6f5d0"
            ],
            [
             0.7,
             "#b8e186"
            ],
            [
             0.8,
             "#7fbc41"
            ],
            [
             0.9,
             "#4d9221"
            ],
            [
             1,
             "#276419"
            ]
           ],
           "sequential": [
            [
             0,
             "#0d0887"
            ],
            [
             0.1111111111111111,
             "#46039f"
            ],
            [
             0.2222222222222222,
             "#7201a8"
            ],
            [
             0.3333333333333333,
             "#9c179e"
            ],
            [
             0.4444444444444444,
             "#bd3786"
            ],
            [
             0.5555555555555556,
             "#d8576b"
            ],
            [
             0.6666666666666666,
             "#ed7953"
            ],
            [
             0.7777777777777778,
             "#fb9f3a"
            ],
            [
             0.8888888888888888,
             "#fdca26"
            ],
            [
             1,
             "#f0f921"
            ]
           ],
           "sequentialminus": [
            [
             0,
             "#0d0887"
            ],
            [
             0.1111111111111111,
             "#46039f"
            ],
            [
             0.2222222222222222,
             "#7201a8"
            ],
            [
             0.3333333333333333,
             "#9c179e"
            ],
            [
             0.4444444444444444,
             "#bd3786"
            ],
            [
             0.5555555555555556,
             "#d8576b"
            ],
            [
             0.6666666666666666,
             "#ed7953"
            ],
            [
             0.7777777777777778,
             "#fb9f3a"
            ],
            [
             0.8888888888888888,
             "#fdca26"
            ],
            [
             1,
             "#f0f921"
            ]
           ]
          },
          "colorway": [
           "#636efa",
           "#EF553B",
           "#00cc96",
           "#ab63fa",
           "#FFA15A",
           "#19d3f3",
           "#FF6692",
           "#B6E880",
           "#FF97FF",
           "#FECB52"
          ],
          "font": {
           "color": "#2a3f5f"
          },
          "geo": {
           "bgcolor": "white",
           "lakecolor": "white",
           "landcolor": "#E5ECF6",
           "showlakes": true,
           "showland": true,
           "subunitcolor": "white"
          },
          "hoverlabel": {
           "align": "left"
          },
          "hovermode": "closest",
          "mapbox": {
           "style": "light"
          },
          "paper_bgcolor": "white",
          "plot_bgcolor": "#E5ECF6",
          "polar": {
           "angularaxis": {
            "gridcolor": "white",
            "linecolor": "white",
            "ticks": ""
           },
           "bgcolor": "#E5ECF6",
           "radialaxis": {
            "gridcolor": "white",
            "linecolor": "white",
            "ticks": ""
           }
          },
          "scene": {
           "xaxis": {
            "backgroundcolor": "#E5ECF6",
            "gridcolor": "white",
            "gridwidth": 2,
            "linecolor": "white",
            "showbackground": true,
            "ticks": "",
            "zerolinecolor": "white"
           },
           "yaxis": {
            "backgroundcolor": "#E5ECF6",
            "gridcolor": "white",
            "gridwidth": 2,
            "linecolor": "white",
            "showbackground": true,
            "ticks": "",
            "zerolinecolor": "white"
           },
           "zaxis": {
            "backgroundcolor": "#E5ECF6",
            "gridcolor": "white",
            "gridwidth": 2,
            "linecolor": "white",
            "showbackground": true,
            "ticks": "",
            "zerolinecolor": "white"
           }
          },
          "shapedefaults": {
           "line": {
            "color": "#2a3f5f"
           }
          },
          "ternary": {
           "aaxis": {
            "gridcolor": "white",
            "linecolor": "white",
            "ticks": ""
           },
           "baxis": {
            "gridcolor": "white",
            "linecolor": "white",
            "ticks": ""
           },
           "bgcolor": "#E5ECF6",
           "caxis": {
            "gridcolor": "white",
            "linecolor": "white",
            "ticks": ""
           }
          },
          "title": {
           "x": 0.05
          },
          "xaxis": {
           "automargin": true,
           "gridcolor": "white",
           "linecolor": "white",
           "ticks": "",
           "title": {
            "standoff": 15
           },
           "zerolinecolor": "white",
           "zerolinewidth": 2
          },
          "yaxis": {
           "automargin": true,
           "gridcolor": "white",
           "linecolor": "white",
           "ticks": "",
           "title": {
            "standoff": 15
           },
           "zerolinecolor": "white",
           "zerolinewidth": 2
          }
         }
        }
       }
      }
     },
     "metadata": {},
     "output_type": "display_data"
    }
   ],
   "source": [
    "fig = go.Figure(go.Scattermapbox(\n",
    "    lat=drone_data_ordered['lat'],\n",
    "    lon=drone_data_ordered['lng'],\n",
    "    mode='lines',\n",
    "    line=dict(width=2, color='blue'),  # Customize line color and width here\n",
    "    hoverinfo='none'\n",
    "))\n",
    "drone_data_ordered['zone_id'].ffill(inplace=True)\n",
    "# Add scatter points for each unique zone_id, with custom hover text\n",
    "for zone_id in drone_data_ordered['zone_id'].unique():\n",
    "    df_sub = drone_data_ordered[drone_data_ordered['zone_id'] == zone_id]\n",
    "\n",
    "    # Creating custom hover text\n",
    "    hover_text = df_sub.apply(lambda row: f\"Sequence: {row.name}<br> Stop ID: {row['stop_id']}<br>Zone ID: {row['zone_id']}<br>Num Packages: {row['num_packages']} <br> Service Time: {row['service_time_seconds']}\", axis=1)\n",
    "\n",
    "\n",
    "    fig.add_trace(go.Scattermapbox(\n",
    "        lat=df_sub['lat'],\n",
    "        lon=df_sub['lng'],\n",
    "        mode='markers',\n",
    "        marker=go.scattermapbox.Marker(size=15),\n",
    "        name=str(zone_id),\n",
    "        text=hover_text,\n",
    "        hoverinfo='text'\n",
    "    ))\n",
    "\n",
    "# Update the layout to use OpenStreetMap style and adjust other layout properties\n",
    "fig.update_layout(\n",
    "\n",
    "    height=600,\n",
    "    mapbox=dict(\n",
    "        style=\"open-street-map\",\n",
    "        zoom=10,  # Adjust zoom level here\n",
    "        center=dict(lat=drone_data_ordered['lat'].mean(), lon=drone_data_ordered['lng'].mean())\n",
    "    ),\n",
    "    showlegend=False  # Set to True if you want to show legend\n",
    ")\n",
    "fig.update_layout(margin=dict(l=10, r=10, t=10, b=10))\n",
    "\n",
    "\n",
    "# Show the figure\n",
    "fig.show()"
   ]
  },
  {
   "cell_type": "code",
   "execution_count": 26,
   "metadata": {},
   "outputs": [
    {
     "data": {
      "application/vnd.plotly.v1+json": {
       "config": {
        "plotlyServerURL": "https://plot.ly"
       },
       "data": [
        {
         "hoverinfo": "none",
         "lat": [
          42.031368,
          42.034701,
          42.0347,
          42.011134,
          42.010624,
          42.01097,
          42.009862,
          42.010552,
          42.013021,
          42.01369,
          42.010971,
          42.010627,
          42.008005,
          42.007219,
          42.008275,
          42.007952,
          42.006485,
          42.005116,
          42.003678,
          42.000146,
          41.998338,
          41.998243,
          41.996075,
          41.997329,
          41.99733,
          41.998229,
          41.99755,
          41.99704,
          41.997123,
          41.997329,
          41.998375,
          41.999753,
          41.999589,
          41.999136,
          41.99914,
          42.000933,
          42.000956,
          42.000943,
          42.000039,
          41.999135,
          41.99902,
          41.999315,
          41.999088,
          41.99917,
          41.999576,
          41.998067,
          41.997146,
          41.99675,
          41.995894,
          41.995991,
          41.995669,
          41.995416,
          41.996377,
          41.996665,
          42.001457,
          41.999245,
          41.99873,
          41.998481,
          41.998176,
          41.998574,
          41.999252,
          41.999572,
          41.999975,
          42.000255,
          42.001302,
          42.000087,
          41.998833,
          41.998241,
          41.997099,
          41.996189,
          41.997647,
          41.99767,
          41.998657,
          42.000165,
          41.999534,
          41.999487,
          41.998939,
          41.997493,
          41.997757,
          41.997789,
          41.997768,
          41.995023,
          41.998363,
          41.998772,
          41.999088,
          41.999348,
          42.000154,
          42.000722,
          42.000272,
          41.999506,
          42.001191,
          42.002343,
          42.00365,
          42.003264,
          42.000915,
          42.001229,
          42.002125,
          42.002129,
          42.001133,
          42.001364,
          42.000817,
          42.000528,
          42.000715,
          42.000434,
          41.998993,
          42.000498,
          42.000607,
          42.000304,
          42.003052,
          42.001399,
          42.001478,
          42.002147,
          42.003926,
          42.004253,
          42.003884,
          42.001054,
          42.002181,
          42.003142,
          42.003425,
          42.004096,
          42.00523,
          42.005277,
          42.005326,
          42.006286,
          42.006256,
          42.00622,
          42.007188,
          42.007122,
          42.007093,
          42.007073,
          42.007232,
          42.008002,
          42.008041,
          42.008096,
          42.01012,
          42.009807,
          42.010099,
          42.008968,
          42.009158,
          42.009292,
          42.008439,
          42.00789,
          42.006678,
          42.007201,
          42.005355,
          42.004804,
          42.005271,
          42.004224,
          42.002875,
          42.00332,
          42.002324,
          42.003141,
          42.003996,
          42.003057,
          42.00187,
          42.003788,
          42.004423,
          42.005222,
          42.005805,
          42.005393,
          42.005649,
          42.006633,
          42.009571,
          42.031368
         ],
         "line": {
          "color": "red",
          "width": 2
         },
         "lon": [
          -87.776596,
          -87.787183,
          -87.78652,
          -87.793221,
          -87.794307,
          -87.795053,
          -87.797879,
          -87.798468,
          -87.798192,
          -87.79821,
          -87.801941,
          -87.800602,
          -87.79719,
          -87.795648,
          -87.795104,
          -87.796026,
          -87.792609,
          -87.792748,
          -87.793309,
          -87.79231,
          -87.79232,
          -87.792661,
          -87.792091,
          -87.791731,
          -87.793534,
          -87.79514,
          -87.79558,
          -87.795522,
          -87.796471,
          -87.794719,
          -87.790875,
          -87.790855,
          -87.79231,
          -87.791805,
          -87.793113,
          -87.79313,
          -87.79457,
          -87.795988,
          -87.79394,
          -87.794743,
          -87.796154,
          -87.79718,
          -87.79822,
          -87.799312,
          -87.79939,
          -87.799095,
          -87.798873,
          -87.798357,
          -87.797924,
          -87.798595,
          -87.799833,
          -87.800586,
          -87.800697,
          -87.800755,
          -87.801711,
          -87.800336,
          -87.800221,
          -87.799531,
          -87.800411,
          -87.801173,
          -87.801336,
          -87.801413,
          -87.803708,
          -87.804156,
          -87.804143,
          -87.802951,
          -87.802975,
          -87.802978,
          -87.803337,
          -87.802725,
          -87.801948,
          -87.804194,
          -87.80575,
          -87.805366,
          -87.805207,
          -87.80489,
          -87.804897,
          -87.804903,
          -87.804697,
          -87.80612,
          -87.808075,
          -87.803519,
          -87.808835,
          -87.809717,
          -87.810239,
          -87.81066,
          -87.811975,
          -87.812836,
          -87.813855,
          -87.811694,
          -87.81363,
          -87.813477,
          -87.81162,
          -87.812408,
          -87.813199,
          -87.81315,
          -87.8121,
          -87.810404,
          -87.810921,
          -87.811297,
          -87.811985,
          -87.812197,
          -87.810225,
          -87.809755,
          -87.807404,
          -87.807978,
          -87.806763,
          -87.806766,
          -87.806736,
          -87.806753,
          -87.807966,
          -87.807963,
          -87.807953,
          -87.809171,
          -87.809173,
          -87.809196,
          -87.809184,
          -87.809177,
          -87.81039,
          -87.810383,
          -87.811527,
          -87.810015,
          -87.808377,
          -87.807795,
          -87.808667,
          -87.809753,
          -87.807211,
          -87.808835,
          -87.809642,
          -87.810333,
          -87.810996,
          -87.810104,
          -87.808792,
          -87.807088,
          -87.804512,
          -87.80412,
          -87.803753,
          -87.808176,
          -87.81097,
          -87.813657,
          -87.813671,
          -87.813953,
          -87.813694,
          -87.812288,
          -87.812317,
          -87.812329,
          -87.8137,
          -87.814218,
          -87.81836,
          -87.819132,
          -87.816642,
          -87.815812,
          -87.813184,
          -87.814257,
          -87.816372,
          -87.814852,
          -87.815098,
          -87.815089,
          -87.815083,
          -87.816456,
          -87.817634,
          -87.817621,
          -87.817584,
          -87.776596
         ],
         "mode": "lines",
         "name": "Drone Path",
         "type": "scattermapbox"
        },
        {
         "hoverinfo": "text",
         "lat": [],
         "lon": [],
         "marker": {
          "size": 15
         },
         "mode": "markers",
         "name": "Drone Zone nan",
         "text": [],
         "type": "scattermapbox"
        },
        {
         "hoverinfo": "text",
         "lat": [
          42.034701,
          42.0347,
          42.011134,
          42.010624,
          42.01097,
          42.009862,
          42.010552
         ],
         "lon": [
          -87.787183,
          -87.78652,
          -87.793221,
          -87.794307,
          -87.795053,
          -87.797879,
          -87.798468
         ],
         "marker": {
          "size": 15
         },
         "mode": "markers",
         "name": "Drone Zone E-7.1C",
         "text": [
          "Sequence: 1<br> Stop ID: RC<br>Zone ID: E-7.1C<br>Num Packages: 2.0 <br> Service Time: 215.5",
          "Sequence: 2<br> Stop ID: OM<br>Zone ID: E-7.1C<br>Num Packages: 2.0 <br> Service Time: 20.5",
          "Sequence: 3<br> Stop ID: KN<br>Zone ID: E-7.1C<br>Num Packages: 1.0 <br> Service Time: 34.0",
          "Sequence: 4<br> Stop ID: UB<br>Zone ID: E-7.1C<br>Num Packages: 1.0 <br> Service Time: 39.0",
          "Sequence: 5<br> Stop ID: FM<br>Zone ID: E-7.1C<br>Num Packages: 1.0 <br> Service Time: 51.0",
          "Sequence: 6<br> Stop ID: LX<br>Zone ID: E-7.1C<br>Num Packages: 1.0 <br> Service Time: 52.0",
          "Sequence: 7<br> Stop ID: PC<br>Zone ID: E-7.1C<br>Num Packages: 1.0 <br> Service Time: 41.0"
         ],
         "type": "scattermapbox"
        },
        {
         "hoverinfo": "text",
         "lat": [
          42.013021,
          42.01369,
          42.010971,
          42.010627,
          42.008005,
          42.007219,
          42.008275,
          42.007952,
          42.006485,
          42.005116
         ],
         "lon": [
          -87.798192,
          -87.79821,
          -87.801941,
          -87.800602,
          -87.79719,
          -87.795648,
          -87.795104,
          -87.796026,
          -87.792609,
          -87.792748
         ],
         "marker": {
          "size": 15
         },
         "mode": "markers",
         "name": "Drone Zone E-7.1B",
         "text": [
          "Sequence: 8<br> Stop ID: KQ<br>Zone ID: E-7.1B<br>Num Packages: 2.0 <br> Service Time: 118.0",
          "Sequence: 9<br> Stop ID: RI<br>Zone ID: E-7.1B<br>Num Packages: 1.0 <br> Service Time: 49.0",
          "Sequence: 10<br> Stop ID: UV<br>Zone ID: E-7.1B<br>Num Packages: 1.0 <br> Service Time: 28.0",
          "Sequence: 11<br> Stop ID: CF<br>Zone ID: E-7.1B<br>Num Packages: 3.0 <br> Service Time: 18.7",
          "Sequence: 12<br> Stop ID: VG<br>Zone ID: E-7.1B<br>Num Packages: 1.0 <br> Service Time: 74.0",
          "Sequence: 13<br> Stop ID: OC<br>Zone ID: E-7.1B<br>Num Packages: 2.0 <br> Service Time: 52.0",
          "Sequence: 14<br> Stop ID: ZP<br>Zone ID: E-7.1B<br>Num Packages: 2.0 <br> Service Time: 69.5",
          "Sequence: 15<br> Stop ID: RH<br>Zone ID: E-7.1B<br>Num Packages: 1.0 <br> Service Time: 183.0",
          "Sequence: 16<br> Stop ID: RQ<br>Zone ID: E-7.1B<br>Num Packages: 3.0 <br> Service Time: 40.7",
          "Sequence: 17<br> Stop ID: TA<br>Zone ID: E-7.1B<br>Num Packages: 1.0 <br> Service Time: 149.0"
         ],
         "type": "scattermapbox"
        },
        {
         "hoverinfo": "text",
         "lat": [
          42.003678,
          42.000146,
          41.998338,
          41.998243,
          41.996075,
          41.997329
         ],
         "lon": [
          -87.793309,
          -87.79231,
          -87.79232,
          -87.792661,
          -87.792091,
          -87.791731
         ],
         "marker": {
          "size": 15
         },
         "mode": "markers",
         "name": "Drone Zone E-7.2B",
         "text": [
          "Sequence: 18<br> Stop ID: FQ<br>Zone ID: E-7.2B<br>Num Packages: 3.0 <br> Service Time: 91.3",
          "Sequence: 19<br> Stop ID: LR<br>Zone ID: E-7.2B<br>Num Packages: 1.0 <br> Service Time: 92.0",
          "Sequence: 20<br> Stop ID: HT<br>Zone ID: E-7.2B<br>Num Packages: 3.0 <br> Service Time: 54.70000000000001",
          "Sequence: 21<br> Stop ID: GG<br>Zone ID: E-7.2B<br>Num Packages: 1.0 <br> Service Time: 251.0",
          "Sequence: 22<br> Stop ID: AL<br>Zone ID: E-7.2B<br>Num Packages: 1.0 <br> Service Time: 77.0",
          "Sequence: 23<br> Stop ID: OA<br>Zone ID: E-7.2B<br>Num Packages: 3.0 <br> Service Time: 54.0"
         ],
         "type": "scattermapbox"
        },
        {
         "hoverinfo": "text",
         "lat": [
          41.99733,
          41.998229,
          41.99755,
          41.99704,
          41.997123,
          41.997329,
          41.998375,
          41.999753,
          41.999589,
          41.999136
         ],
         "lon": [
          -87.793534,
          -87.79514,
          -87.79558,
          -87.795522,
          -87.796471,
          -87.794719,
          -87.790875,
          -87.790855,
          -87.79231,
          -87.791805
         ],
         "marker": {
          "size": 15
         },
         "mode": "markers",
         "name": "Drone Zone E-7.3B",
         "text": [
          "Sequence: 24<br> Stop ID: BH<br>Zone ID: E-7.3B<br>Num Packages: 3.0 <br> Service Time: 185.69999999999996",
          "Sequence: 25<br> Stop ID: AT<br>Zone ID: E-7.3B<br>Num Packages: 1.0 <br> Service Time: 50.0",
          "Sequence: 26<br> Stop ID: MD<br>Zone ID: E-7.3B<br>Num Packages: 1.0 <br> Service Time: 36.0",
          "Sequence: 27<br> Stop ID: QD<br>Zone ID: E-7.3B<br>Num Packages: 1.0 <br> Service Time: 128.0",
          "Sequence: 28<br> Stop ID: LD<br>Zone ID: E-7.3B<br>Num Packages: 2.0 <br> Service Time: 97.0",
          "Sequence: 29<br> Stop ID: VM<br>Zone ID: E-7.3B<br>Num Packages: 1.0 <br> Service Time: 91.0",
          "Sequence: 30<br> Stop ID: OL<br>Zone ID: E-7.3B<br>Num Packages: 3.0 <br> Service Time: 35.7",
          "Sequence: 31<br> Stop ID: UU<br>Zone ID: E-7.3B<br>Num Packages: 1.0 <br> Service Time: 76.0",
          "Sequence: 32<br> Stop ID: HP<br>Zone ID: E-7.3B<br>Num Packages: 1.0 <br> Service Time: 197.0",
          "Sequence: 33<br> Stop ID: PH<br>Zone ID: E-7.3B<br>Num Packages: 1.0 <br> Service Time: 33.0"
         ],
         "type": "scattermapbox"
        },
        {
         "hoverinfo": "text",
         "lat": [
          41.99914,
          42.000933,
          42.000956,
          42.000943,
          42.000039,
          41.999135,
          41.99902,
          41.999315,
          41.999088,
          41.99917,
          41.999576,
          41.998067,
          41.997146,
          41.99675,
          41.995894,
          41.995991
         ],
         "lon": [
          -87.793113,
          -87.79313,
          -87.79457,
          -87.795988,
          -87.79394,
          -87.794743,
          -87.796154,
          -87.79718,
          -87.79822,
          -87.799312,
          -87.79939,
          -87.799095,
          -87.798873,
          -87.798357,
          -87.797924,
          -87.798595
         ],
         "marker": {
          "size": 15
         },
         "mode": "markers",
         "name": "Drone Zone E-7.3A",
         "text": [
          "Sequence: 34<br> Stop ID: SR<br>Zone ID: E-7.3A<br>Num Packages: 1.0 <br> Service Time: 75.0",
          "Sequence: 35<br> Stop ID: CR<br>Zone ID: E-7.3A<br>Num Packages: 1.0 <br> Service Time: 78.0",
          "Sequence: 36<br> Stop ID: QF<br>Zone ID: E-7.3A<br>Num Packages: 1.0 <br> Service Time: 30.0",
          "Sequence: 37<br> Stop ID: RJ<br>Zone ID: E-7.3A<br>Num Packages: 2.0 <br> Service Time: 90.0",
          "Sequence: 38<br> Stop ID: KG<br>Zone ID: E-7.3A<br>Num Packages: 1.0 <br> Service Time: 33.0",
          "Sequence: 39<br> Stop ID: EN<br>Zone ID: E-7.3A<br>Num Packages: 1.0 <br> Service Time: 27.0",
          "Sequence: 40<br> Stop ID: GP<br>Zone ID: E-7.3A<br>Num Packages: 1.0 <br> Service Time: 330.0",
          "Sequence: 41<br> Stop ID: MR<br>Zone ID: E-7.3A<br>Num Packages: 4.0 <br> Service Time: 41.2",
          "Sequence: 42<br> Stop ID: RT<br>Zone ID: E-7.3A<br>Num Packages: 1.0 <br> Service Time: 44.0",
          "Sequence: 43<br> Stop ID: CO<br>Zone ID: E-7.3A<br>Num Packages: 1.0 <br> Service Time: 38.0",
          "Sequence: 44<br> Stop ID: ZR<br>Zone ID: E-7.3A<br>Num Packages: 1.0 <br> Service Time: 52.0",
          "Sequence: 45<br> Stop ID: VY<br>Zone ID: E-7.3A<br>Num Packages: 1.0 <br> Service Time: 44.0",
          "Sequence: 46<br> Stop ID: HG<br>Zone ID: E-7.3A<br>Num Packages: 2.0 <br> Service Time: 63.5",
          "Sequence: 47<br> Stop ID: PZ<br>Zone ID: E-7.3A<br>Num Packages: 1.0 <br> Service Time: 144.0",
          "Sequence: 48<br> Stop ID: RF<br>Zone ID: E-7.3A<br>Num Packages: 2.0 <br> Service Time: 70.0",
          "Sequence: 49<br> Stop ID: XC<br>Zone ID: E-7.3A<br>Num Packages: 1.0 <br> Service Time: 46.0"
         ],
         "type": "scattermapbox"
        },
        {
         "hoverinfo": "text",
         "lat": [
          41.995669,
          41.995416,
          41.996377,
          41.996665,
          42.001457,
          41.999245,
          41.99873,
          41.998481,
          41.998176
         ],
         "lon": [
          -87.799833,
          -87.800586,
          -87.800697,
          -87.800755,
          -87.801711,
          -87.800336,
          -87.800221,
          -87.799531,
          -87.800411
         ],
         "marker": {
          "size": 15
         },
         "mode": "markers",
         "name": "Drone Zone E-7.2A",
         "text": [
          "Sequence: 50<br> Stop ID: RM<br>Zone ID: E-7.2A<br>Num Packages: 2.0 <br> Service Time: 113.0",
          "Sequence: 51<br> Stop ID: EB<br>Zone ID: E-7.2A<br>Num Packages: 1.0 <br> Service Time: 49.0",
          "Sequence: 52<br> Stop ID: EO<br>Zone ID: E-7.2A<br>Num Packages: 2.0 <br> Service Time: 120.0",
          "Sequence: 53<br> Stop ID: YK<br>Zone ID: E-7.2A<br>Num Packages: 4.0 <br> Service Time: 107.5",
          "Sequence: 54<br> Stop ID: QL<br>Zone ID: E-7.2A<br>Num Packages: 3.0 <br> Service Time: 34.3",
          "Sequence: 55<br> Stop ID: TU<br>Zone ID: E-7.2A<br>Num Packages: 1.0 <br> Service Time: 27.0",
          "Sequence: 56<br> Stop ID: HZ<br>Zone ID: E-7.2A<br>Num Packages: 1.0 <br> Service Time: 33.0",
          "Sequence: 57<br> Stop ID: LG<br>Zone ID: E-7.2A<br>Num Packages: 2.0 <br> Service Time: 22.0",
          "Sequence: 58<br> Stop ID: DE<br>Zone ID: E-7.2A<br>Num Packages: 1.0 <br> Service Time: 45.0"
         ],
         "type": "scattermapbox"
        },
        {
         "hoverinfo": "text",
         "lat": [
          41.998574,
          41.999252,
          41.999572,
          41.999975,
          42.000255,
          42.001302,
          42.000087,
          41.998833,
          41.998241,
          41.997099,
          41.996189,
          41.997647
         ],
         "lon": [
          -87.801173,
          -87.801336,
          -87.801413,
          -87.803708,
          -87.804156,
          -87.804143,
          -87.802951,
          -87.802975,
          -87.802978,
          -87.803337,
          -87.802725,
          -87.801948
         ],
         "marker": {
          "size": 15
         },
         "mode": "markers",
         "name": "Drone Zone E-7.1A",
         "text": [
          "Sequence: 59<br> Stop ID: AK<br>Zone ID: E-7.1A<br>Num Packages: 4.0 <br> Service Time: 62.8",
          "Sequence: 60<br> Stop ID: LQ<br>Zone ID: E-7.1A<br>Num Packages: 1.0 <br> Service Time: 150.0",
          "Sequence: 61<br> Stop ID: VC<br>Zone ID: E-7.1A<br>Num Packages: 1.0 <br> Service Time: 59.0",
          "Sequence: 62<br> Stop ID: AS<br>Zone ID: E-7.1A<br>Num Packages: 1.0 <br> Service Time: 41.0",
          "Sequence: 63<br> Stop ID: IF<br>Zone ID: E-7.1A<br>Num Packages: 2.0 <br> Service Time: 30.5",
          "Sequence: 64<br> Stop ID: DW<br>Zone ID: E-7.1A<br>Num Packages: 1.0 <br> Service Time: 62.0",
          "Sequence: 65<br> Stop ID: VN<br>Zone ID: E-7.1A<br>Num Packages: 1.0 <br> Service Time: 53.0",
          "Sequence: 66<br> Stop ID: XG<br>Zone ID: E-7.1A<br>Num Packages: 1.0 <br> Service Time: 41.0",
          "Sequence: 67<br> Stop ID: IZ<br>Zone ID: E-7.1A<br>Num Packages: 2.0 <br> Service Time: 52.0",
          "Sequence: 68<br> Stop ID: BF<br>Zone ID: E-7.1A<br>Num Packages: 1.0 <br> Service Time: 65.0",
          "Sequence: 69<br> Stop ID: SJ<br>Zone ID: E-7.1A<br>Num Packages: 1.0 <br> Service Time: 60.0",
          "Sequence: 70<br> Stop ID: JT<br>Zone ID: E-7.1A<br>Num Packages: 2.0 <br> Service Time: 61.5"
         ],
         "type": "scattermapbox"
        },
        {
         "hoverinfo": "text",
         "lat": [
          41.99767,
          41.998657,
          42.000165,
          41.999534,
          41.999487,
          41.998939,
          41.997493,
          41.997757,
          41.997789
         ],
         "lon": [
          -87.804194,
          -87.80575,
          -87.805366,
          -87.805207,
          -87.80489,
          -87.804897,
          -87.804903,
          -87.804697,
          -87.80612
         ],
         "marker": {
          "size": 15
         },
         "mode": "markers",
         "name": "Drone Zone E-6.1A",
         "text": [
          "Sequence: 71<br> Stop ID: VE<br>Zone ID: E-6.1A<br>Num Packages: 1.0 <br> Service Time: 45.0",
          "Sequence: 72<br> Stop ID: XQ<br>Zone ID: E-6.1A<br>Num Packages: 1.0 <br> Service Time: 79.0",
          "Sequence: 73<br> Stop ID: SO<br>Zone ID: E-6.1A<br>Num Packages: 3.0 <br> Service Time: 137.0",
          "Sequence: 74<br> Stop ID: II<br>Zone ID: E-6.1A<br>Num Packages: 1.0 <br> Service Time: 47.0",
          "Sequence: 75<br> Stop ID: AZ<br>Zone ID: E-6.1A<br>Num Packages: 4.0 <br> Service Time: 41.2",
          "Sequence: 76<br> Stop ID: SK<br>Zone ID: E-6.1A<br>Num Packages: 1.0 <br> Service Time: 84.0",
          "Sequence: 77<br> Stop ID: HD<br>Zone ID: E-6.1A<br>Num Packages: 1.0 <br> Service Time: 64.0",
          "Sequence: 78<br> Stop ID: ZL<br>Zone ID: E-6.1A<br>Num Packages: 1.0 <br> Service Time: 153.0",
          "Sequence: 79<br> Stop ID: NT<br>Zone ID: E-6.1A<br>Num Packages: 2.0 <br> Service Time: 83.0"
         ],
         "type": "scattermapbox"
        },
        {
         "hoverinfo": "text",
         "lat": [
          41.997768,
          41.995023,
          41.998363,
          41.998772,
          41.999088,
          41.999348,
          42.000154
         ],
         "lon": [
          -87.808075,
          -87.803519,
          -87.808835,
          -87.809717,
          -87.810239,
          -87.81066,
          -87.811975
         ],
         "marker": {
          "size": 15
         },
         "mode": "markers",
         "name": "Drone Zone E-6.2A",
         "text": [
          "Sequence: 80<br> Stop ID: AY<br>Zone ID: E-6.2A<br>Num Packages: 1.0 <br> Service Time: 110.0",
          "Sequence: 81<br> Stop ID: IN<br>Zone ID: E-6.2A<br>Num Packages: 1.0 <br> Service Time: 150.0",
          "Sequence: 82<br> Stop ID: WK<br>Zone ID: E-6.2A<br>Num Packages: 3.0 <br> Service Time: 189.0",
          "Sequence: 83<br> Stop ID: CB<br>Zone ID: E-6.2A<br>Num Packages: 8.0 <br> Service Time: 55.1",
          "Sequence: 84<br> Stop ID: XR<br>Zone ID: E-6.2A<br>Num Packages: 1.0 <br> Service Time: 44.0",
          "Sequence: 85<br> Stop ID: MS<br>Zone ID: E-6.2A<br>Num Packages: 5.0 <br> Service Time: 132.0",
          "Sequence: 86<br> Stop ID: GA<br>Zone ID: E-6.2A<br>Num Packages: 1.0 <br> Service Time: 69.0"
         ],
         "type": "scattermapbox"
        },
        {
         "hoverinfo": "text",
         "lat": [
          42.000722,
          42.000272,
          41.999506,
          42.001191,
          42.002343,
          42.00365,
          42.003264,
          42.000915
         ],
         "lon": [
          -87.812836,
          -87.813855,
          -87.811694,
          -87.81363,
          -87.813477,
          -87.81162,
          -87.812408,
          -87.813199
         ],
         "marker": {
          "size": 15
         },
         "mode": "markers",
         "name": "Drone Zone E-6.3A",
         "text": [
          "Sequence: 87<br> Stop ID: OX<br>Zone ID: E-6.3A<br>Num Packages: 1.0 <br> Service Time: 126.0",
          "Sequence: 88<br> Stop ID: VP<br>Zone ID: E-6.3A<br>Num Packages: 2.0 <br> Service Time: 35.0",
          "Sequence: 89<br> Stop ID: YP<br>Zone ID: E-6.3A<br>Num Packages: 6.0 <br> Service Time: 47.0",
          "Sequence: 90<br> Stop ID: TY<br>Zone ID: E-6.3A<br>Num Packages: 1.0 <br> Service Time: 53.0",
          "Sequence: 91<br> Stop ID: EH<br>Zone ID: E-6.3A<br>Num Packages: 1.0 <br> Service Time: 83.0",
          "Sequence: 92<br> Stop ID: SE<br>Zone ID: E-6.3A<br>Num Packages: 4.0 <br> Service Time: 100.2",
          "Sequence: 93<br> Stop ID: SW<br>Zone ID: E-6.3A<br>Num Packages: 4.0 <br> Service Time: 29.0",
          "Sequence: 94<br> Stop ID: GN<br>Zone ID: E-6.3A<br>Num Packages: 3.0 <br> Service Time: 21.0"
         ],
         "type": "scattermapbox"
        },
        {
         "hoverinfo": "text",
         "lat": [
          42.001229,
          42.002125,
          42.002129,
          42.001133,
          42.001364,
          42.000817,
          42.000528,
          42.000715,
          42.000434
         ],
         "lon": [
          -87.81315,
          -87.8121,
          -87.810404,
          -87.810921,
          -87.811297,
          -87.811985,
          -87.812197,
          -87.810225,
          -87.809755
         ],
         "marker": {
          "size": 15
         },
         "mode": "markers",
         "name": "Drone Zone E-6.3B",
         "text": [
          "Sequence: 95<br> Stop ID: YO<br>Zone ID: E-6.3B<br>Num Packages: 1.0 <br> Service Time: 49.0",
          "Sequence: 96<br> Stop ID: AX<br>Zone ID: E-6.3B<br>Num Packages: 1.0 <br> Service Time: 95.0",
          "Sequence: 97<br> Stop ID: FD<br>Zone ID: E-6.3B<br>Num Packages: 1.0 <br> Service Time: 82.0",
          "Sequence: 98<br> Stop ID: MF<br>Zone ID: E-6.3B<br>Num Packages: 1.0 <br> Service Time: 61.0",
          "Sequence: 99<br> Stop ID: YW<br>Zone ID: E-6.3B<br>Num Packages: 1.0 <br> Service Time: 111.0",
          "Sequence: 100<br> Stop ID: ZT<br>Zone ID: E-6.3B<br>Num Packages: 3.0 <br> Service Time: 47.70000000000001",
          "Sequence: 101<br> Stop ID: FT<br>Zone ID: E-6.3B<br>Num Packages: 1.0 <br> Service Time: 44.0",
          "Sequence: 102<br> Stop ID: VF<br>Zone ID: E-6.3B<br>Num Packages: 4.0 <br> Service Time: 151.0",
          "Sequence: 103<br> Stop ID: EP<br>Zone ID: E-6.3B<br>Num Packages: 1.0 <br> Service Time: 81.0"
         ],
         "type": "scattermapbox"
        },
        {
         "hoverinfo": "text",
         "lat": [
          41.998993,
          42.000498,
          42.000607,
          42.000304,
          42.003052,
          42.001399,
          42.001478,
          42.002147
         ],
         "lon": [
          -87.807404,
          -87.807978,
          -87.806763,
          -87.806766,
          -87.806736,
          -87.806753,
          -87.807966,
          -87.807963
         ],
         "marker": {
          "size": 15
         },
         "mode": "markers",
         "name": "Drone Zone E-6.2B",
         "text": [
          "Sequence: 104<br> Stop ID: ZY<br>Zone ID: E-6.2B<br>Num Packages: 1.0 <br> Service Time: 155.0",
          "Sequence: 105<br> Stop ID: NF<br>Zone ID: E-6.2B<br>Num Packages: 1.0 <br> Service Time: 50.0",
          "Sequence: 106<br> Stop ID: XJ<br>Zone ID: E-6.2B<br>Num Packages: 1.0 <br> Service Time: 121.0",
          "Sequence: 107<br> Stop ID: HE<br>Zone ID: E-6.2B<br>Num Packages: 1.0 <br> Service Time: 43.0",
          "Sequence: 108<br> Stop ID: VZ<br>Zone ID: E-6.2B<br>Num Packages: 1.0 <br> Service Time: 216.0",
          "Sequence: 109<br> Stop ID: HX<br>Zone ID: E-6.2B<br>Num Packages: 7.0 <br> Service Time: 73.0",
          "Sequence: 110<br> Stop ID: GT<br>Zone ID: E-6.2B<br>Num Packages: 6.0 <br> Service Time: 69.2",
          "Sequence: 111<br> Stop ID: YF<br>Zone ID: E-6.2B<br>Num Packages: 3.0 <br> Service Time: 64.7"
         ],
         "type": "scattermapbox"
        },
        {
         "hoverinfo": "text",
         "lat": [
          42.003926,
          42.004253,
          42.003884,
          42.001054,
          42.002181,
          42.003142
         ],
         "lon": [
          -87.807953,
          -87.809171,
          -87.809173,
          -87.809196,
          -87.809184,
          -87.809177
         ],
         "marker": {
          "size": 15
         },
         "mode": "markers",
         "name": "Drone Zone E-6.1B",
         "text": [
          "Sequence: 112<br> Stop ID: RR<br>Zone ID: E-6.1B<br>Num Packages: 2.0 <br> Service Time: 65.0",
          "Sequence: 113<br> Stop ID: WU<br>Zone ID: E-6.1B<br>Num Packages: 3.0 <br> Service Time: 50.70000000000001",
          "Sequence: 114<br> Stop ID: ZM<br>Zone ID: E-6.1B<br>Num Packages: 3.0 <br> Service Time: 112.0",
          "Sequence: 115<br> Stop ID: ER<br>Zone ID: E-6.1B<br>Num Packages: 1.0 <br> Service Time: 60.0",
          "Sequence: 116<br> Stop ID: RN<br>Zone ID: E-6.1B<br>Num Packages: 1.0 <br> Service Time: 57.0",
          "Sequence: 117<br> Stop ID: TW<br>Zone ID: E-6.1B<br>Num Packages: 1.0 <br> Service Time: 35.0"
         ],
         "type": "scattermapbox"
        },
        {
         "hoverinfo": "text",
         "lat": [
          42.003425,
          42.004096,
          42.00523,
          42.005277
         ],
         "lon": [
          -87.81039,
          -87.810383,
          -87.811527,
          -87.810015
         ],
         "marker": {
          "size": 15
         },
         "mode": "markers",
         "name": "Drone Zone E-6.1C",
         "text": [
          "Sequence: 118<br> Stop ID: OJ<br>Zone ID: E-6.1C<br>Num Packages: 4.0 <br> Service Time: 65.5",
          "Sequence: 119<br> Stop ID: FB<br>Zone ID: E-6.1C<br>Num Packages: 1.0 <br> Service Time: 29.0",
          "Sequence: 120<br> Stop ID: BY<br>Zone ID: E-6.1C<br>Num Packages: 1.0 <br> Service Time: 91.0",
          "Sequence: 121<br> Stop ID: OQ<br>Zone ID: E-6.1C<br>Num Packages: 2.0 <br> Service Time: 31.0"
         ],
         "type": "scattermapbox"
        },
        {
         "hoverinfo": "text",
         "lat": [
          42.005326,
          42.006286,
          42.006256,
          42.00622,
          42.007188
         ],
         "lon": [
          -87.808377,
          -87.807795,
          -87.808667,
          -87.809753,
          -87.807211
         ],
         "marker": {
          "size": 15
         },
         "mode": "markers",
         "name": "Drone Zone E-6.2C",
         "text": [
          "Sequence: 122<br> Stop ID: BJ<br>Zone ID: E-6.2C<br>Num Packages: 1.0 <br> Service Time: 48.0",
          "Sequence: 123<br> Stop ID: SC<br>Zone ID: E-6.2C<br>Num Packages: 2.0 <br> Service Time: 55.5",
          "Sequence: 124<br> Stop ID: HL<br>Zone ID: E-6.2C<br>Num Packages: 3.0 <br> Service Time: 39.0",
          "Sequence: 125<br> Stop ID: RU<br>Zone ID: E-6.2C<br>Num Packages: 2.0 <br> Service Time: 122.0",
          "Sequence: 126<br> Stop ID: XS<br>Zone ID: E-6.2C<br>Num Packages: 5.0 <br> Service Time: 23.0"
         ],
         "type": "scattermapbox"
        },
        {
         "hoverinfo": "text",
         "lat": [
          42.007122,
          42.007093,
          42.007073,
          42.007232,
          42.008002,
          42.008041,
          42.008096,
          42.01012
         ],
         "lon": [
          -87.808835,
          -87.809642,
          -87.810333,
          -87.810996,
          -87.810104,
          -87.808792,
          -87.807088,
          -87.804512
         ],
         "marker": {
          "size": 15
         },
         "mode": "markers",
         "name": "Drone Zone E-6.3C",
         "text": [
          "Sequence: 127<br> Stop ID: MT<br>Zone ID: E-6.3C<br>Num Packages: 2.0 <br> Service Time: 90.5",
          "Sequence: 128<br> Stop ID: AU<br>Zone ID: E-6.3C<br>Num Packages: 2.0 <br> Service Time: 33.5",
          "Sequence: 129<br> Stop ID: KT<br>Zone ID: E-6.3C<br>Num Packages: 1.0 <br> Service Time: 36.0",
          "Sequence: 130<br> Stop ID: QW<br>Zone ID: E-6.3C<br>Num Packages: 1.0 <br> Service Time: 52.0",
          "Sequence: 131<br> Stop ID: HV<br>Zone ID: E-6.3C<br>Num Packages: 3.0 <br> Service Time: 43.70000000000001",
          "Sequence: 132<br> Stop ID: TG<br>Zone ID: E-6.3C<br>Num Packages: 3.0 <br> Service Time: 94.0",
          "Sequence: 133<br> Stop ID: ND<br>Zone ID: E-6.3C<br>Num Packages: 2.0 <br> Service Time: 159.0",
          "Sequence: 134<br> Stop ID: FS<br>Zone ID: E-6.3C<br>Num Packages: 1.0 <br> Service Time: 71.0"
         ],
         "type": "scattermapbox"
        },
        {
         "hoverinfo": "text",
         "lat": [
          42.009807,
          42.010099,
          42.008968,
          42.009158,
          42.009292,
          42.008439,
          42.00789,
          42.006678,
          42.007201,
          42.005355,
          42.004804,
          42.005271
         ],
         "lon": [
          -87.80412,
          -87.803753,
          -87.808176,
          -87.81097,
          -87.813657,
          -87.813671,
          -87.813953,
          -87.813694,
          -87.812288,
          -87.812317,
          -87.812329,
          -87.8137
         ],
         "marker": {
          "size": 15
         },
         "mode": "markers",
         "name": "Drone Zone E-6.3D",
         "text": [
          "Sequence: 135<br> Stop ID: NA<br>Zone ID: E-6.3D<br>Num Packages: 2.0 <br> Service Time: 92.0",
          "Sequence: 136<br> Stop ID: YR<br>Zone ID: E-6.3D<br>Num Packages: 1.0 <br> Service Time: 25.0",
          "Sequence: 137<br> Stop ID: IG<br>Zone ID: E-6.3D<br>Num Packages: 2.0 <br> Service Time: 44.0",
          "Sequence: 138<br> Stop ID: WA<br>Zone ID: E-6.3D<br>Num Packages: 1.0 <br> Service Time: 39.0",
          "Sequence: 139<br> Stop ID: VS<br>Zone ID: E-6.3D<br>Num Packages: 1.0 <br> Service Time: 35.0",
          "Sequence: 140<br> Stop ID: LH<br>Zone ID: E-6.3D<br>Num Packages: 2.0 <br> Service Time: 49.0",
          "Sequence: 141<br> Stop ID: JL<br>Zone ID: E-6.3D<br>Num Packages: 1.0 <br> Service Time: 51.0",
          "Sequence: 142<br> Stop ID: WH<br>Zone ID: E-6.3D<br>Num Packages: 1.0 <br> Service Time: 35.0",
          "Sequence: 143<br> Stop ID: ZJ<br>Zone ID: E-6.3D<br>Num Packages: 1.0 <br> Service Time: 72.0",
          "Sequence: 144<br> Stop ID: KS<br>Zone ID: E-6.3D<br>Num Packages: 2.0 <br> Service Time: 154.0",
          "Sequence: 145<br> Stop ID: DN<br>Zone ID: E-6.3D<br>Num Packages: 1.0 <br> Service Time: 50.0",
          "Sequence: 146<br> Stop ID: YQ<br>Zone ID: E-6.3D<br>Num Packages: 3.0 <br> Service Time: 44.29999999999999"
         ],
         "type": "scattermapbox"
        },
        {
         "hoverinfo": "text",
         "lat": [
          42.004224,
          42.002875,
          42.00332,
          42.002324,
          42.003141,
          42.003996
         ],
         "lon": [
          -87.814218,
          -87.81836,
          -87.819132,
          -87.816642,
          -87.815812,
          -87.813184
         ],
         "marker": {
          "size": 15
         },
         "mode": "markers",
         "name": "Drone Zone E-6.2D",
         "text": [
          "Sequence: 147<br> Stop ID: NV<br>Zone ID: E-6.2D<br>Num Packages: 1.0 <br> Service Time: 39.0",
          "Sequence: 148<br> Stop ID: ZQ<br>Zone ID: E-6.2D<br>Num Packages: 1.0 <br> Service Time: 45.0",
          "Sequence: 149<br> Stop ID: JH<br>Zone ID: E-6.2D<br>Num Packages: 4.0 <br> Service Time: 14.5",
          "Sequence: 150<br> Stop ID: WS<br>Zone ID: E-6.2D<br>Num Packages: 1.0 <br> Service Time: 111.0",
          "Sequence: 151<br> Stop ID: WD<br>Zone ID: E-6.2D<br>Num Packages: 3.0 <br> Service Time: 65.3",
          "Sequence: 152<br> Stop ID: NI<br>Zone ID: E-6.2D<br>Num Packages: 3.0 <br> Service Time: 56.0"
         ],
         "type": "scattermapbox"
        },
        {
         "hoverinfo": "text",
         "lat": [
          42.003057,
          42.00187,
          42.003788,
          42.004423,
          42.005222,
          42.005805,
          42.005393,
          42.005649,
          42.006633,
          42.009571,
          42.031368
         ],
         "lon": [
          -87.814257,
          -87.816372,
          -87.814852,
          -87.815098,
          -87.815089,
          -87.815083,
          -87.816456,
          -87.817634,
          -87.817621,
          -87.817584,
          -87.776596
         ],
         "marker": {
          "size": 15
         },
         "mode": "markers",
         "name": "Drone Zone E-6.1D",
         "text": [
          "Sequence: 153<br> Stop ID: DG<br>Zone ID: E-6.1D<br>Num Packages: 1.0 <br> Service Time: 108.0",
          "Sequence: 154<br> Stop ID: OK<br>Zone ID: E-6.1D<br>Num Packages: 1.0 <br> Service Time: 64.0",
          "Sequence: 155<br> Stop ID: NM<br>Zone ID: E-6.1D<br>Num Packages: 1.0 <br> Service Time: 63.0",
          "Sequence: 156<br> Stop ID: AM<br>Zone ID: E-6.1D<br>Num Packages: 3.0 <br> Service Time: 15.0",
          "Sequence: 157<br> Stop ID: DS<br>Zone ID: E-6.1D<br>Num Packages: 2.0 <br> Service Time: 63.0",
          "Sequence: 158<br> Stop ID: NZ<br>Zone ID: E-6.1D<br>Num Packages: 1.0 <br> Service Time: 34.0",
          "Sequence: 159<br> Stop ID: XW<br>Zone ID: E-6.1D<br>Num Packages: 1.0 <br> Service Time: 71.0",
          "Sequence: 160<br> Stop ID: MC<br>Zone ID: E-6.1D<br>Num Packages: 1.0 <br> Service Time: 38.0",
          "Sequence: 161<br> Stop ID: AV<br>Zone ID: E-6.1D<br>Num Packages: 1.0 <br> Service Time: 108.0",
          "Sequence: 162<br> Stop ID: WL<br>Zone ID: E-6.1D<br>Num Packages: 3.0 <br> Service Time: 83.3",
          "Sequence: 163<br> Stop ID: HI<br>Zone ID: E-6.1D<br>Num Packages: nan <br> Service Time: nan"
         ],
         "type": "scattermapbox"
        },
        {
         "hoverinfo": "none",
         "lat": [
          42.031368,
          42.034701,
          42.0347,
          42.010624,
          42.01097,
          42.009862,
          42.010552,
          42.013021,
          42.01369,
          42.010971,
          42.010627,
          42.008005,
          42.007219,
          42.008275,
          42.007952,
          42.006485,
          42.005116,
          42.003678,
          42.000146,
          41.998338,
          41.998243,
          41.996075,
          41.997329,
          41.99733,
          41.998229,
          41.99755,
          41.99704,
          41.997123,
          41.998375,
          41.999753,
          41.999589,
          41.999136,
          41.99914,
          42.000956,
          42.000943,
          42.000039,
          41.999135,
          41.999315,
          41.99917,
          41.999576,
          41.998067,
          41.997146,
          41.995894,
          41.995991,
          41.995669,
          41.995416,
          41.996377,
          41.996665,
          42.001457,
          41.999245,
          41.998481,
          41.998176,
          41.998574,
          41.999252,
          41.999572,
          41.999975,
          42.000255,
          42.001302,
          42.000087,
          41.998241,
          41.996189,
          41.997647,
          41.99767,
          42.000165,
          41.999487,
          41.997493,
          41.997789,
          41.997768,
          41.998363,
          41.998772,
          41.999348,
          42.000722,
          42.000272,
          41.999506,
          42.002343,
          42.00365,
          42.003264,
          42.000915,
          42.001229,
          42.002125,
          42.002129,
          42.001133,
          42.001364,
          42.000817,
          42.000528,
          42.000715,
          42.000434,
          41.998993,
          42.000498,
          42.000304,
          42.003052,
          42.001399,
          42.001478,
          42.002147,
          42.003926,
          42.004253,
          42.003884,
          42.002181,
          42.003142,
          42.003425,
          42.004096,
          42.005277,
          42.005326,
          42.006286,
          42.006256,
          42.00622,
          42.007188,
          42.007122,
          42.007093,
          42.007073,
          42.007232,
          42.008002,
          42.008041,
          42.008096,
          42.01012,
          42.009807,
          42.010099,
          42.008968,
          42.009158,
          42.008439,
          42.00789,
          42.006678,
          42.005355,
          42.005271,
          42.004224,
          42.002875,
          42.00332,
          42.002324,
          42.003141,
          42.003996,
          42.00187,
          42.003788,
          42.004423,
          42.005222,
          42.005805,
          42.005393,
          42.006633,
          42.009571,
          42.031368
         ],
         "line": {
          "color": "blue",
          "width": 2
         },
         "lon": [
          -87.776596,
          -87.787183,
          -87.78652,
          -87.794307,
          -87.795053,
          -87.797879,
          -87.798468,
          -87.798192,
          -87.79821,
          -87.801941,
          -87.800602,
          -87.79719,
          -87.795648,
          -87.795104,
          -87.796026,
          -87.792609,
          -87.792748,
          -87.793309,
          -87.79231,
          -87.79232,
          -87.792661,
          -87.792091,
          -87.791731,
          -87.793534,
          -87.79514,
          -87.79558,
          -87.795522,
          -87.796471,
          -87.790875,
          -87.790855,
          -87.79231,
          -87.791805,
          -87.793113,
          -87.79457,
          -87.795988,
          -87.79394,
          -87.794743,
          -87.79718,
          -87.799312,
          -87.79939,
          -87.799095,
          -87.798873,
          -87.797924,
          -87.798595,
          -87.799833,
          -87.800586,
          -87.800697,
          -87.800755,
          -87.801711,
          -87.800336,
          -87.799531,
          -87.800411,
          -87.801173,
          -87.801336,
          -87.801413,
          -87.803708,
          -87.804156,
          -87.804143,
          -87.802951,
          -87.802978,
          -87.802725,
          -87.801948,
          -87.804194,
          -87.805366,
          -87.80489,
          -87.804903,
          -87.80612,
          -87.808075,
          -87.808835,
          -87.809717,
          -87.81066,
          -87.812836,
          -87.813855,
          -87.811694,
          -87.813477,
          -87.81162,
          -87.812408,
          -87.813199,
          -87.81315,
          -87.8121,
          -87.810404,
          -87.810921,
          -87.811297,
          -87.811985,
          -87.812197,
          -87.810225,
          -87.809755,
          -87.807404,
          -87.807978,
          -87.806766,
          -87.806736,
          -87.806753,
          -87.807966,
          -87.807963,
          -87.807953,
          -87.809171,
          -87.809173,
          -87.809184,
          -87.809177,
          -87.81039,
          -87.810383,
          -87.810015,
          -87.808377,
          -87.807795,
          -87.808667,
          -87.809753,
          -87.807211,
          -87.808835,
          -87.809642,
          -87.810333,
          -87.810996,
          -87.810104,
          -87.808792,
          -87.807088,
          -87.804512,
          -87.80412,
          -87.803753,
          -87.808176,
          -87.81097,
          -87.813671,
          -87.813953,
          -87.813694,
          -87.812317,
          -87.8137,
          -87.814218,
          -87.81836,
          -87.819132,
          -87.816642,
          -87.815812,
          -87.813184,
          -87.816372,
          -87.814852,
          -87.815098,
          -87.815089,
          -87.815083,
          -87.816456,
          -87.817621,
          -87.817584,
          -87.776596
         ],
         "mode": "lines",
         "name": "Route Path",
         "type": "scattermapbox"
        },
        {
         "hoverinfo": "text",
         "lat": [],
         "lon": [],
         "marker": {
          "size": 15
         },
         "mode": "markers",
         "name": "Route Zone nan",
         "text": [],
         "type": "scattermapbox"
        },
        {
         "hoverinfo": "text",
         "lat": [
          42.034701,
          42.0347,
          42.010624,
          42.01097,
          42.009862,
          42.010552
         ],
         "lon": [
          -87.787183,
          -87.78652,
          -87.794307,
          -87.795053,
          -87.797879,
          -87.798468
         ],
         "marker": {
          "size": 15
         },
         "mode": "markers",
         "name": "Route Zone E-7.1C",
         "text": [
          "Sequence: 1<br> Stop ID: RC<br>Zone ID: E-7.1C<br>Num Packages: 2.0 <br> Service Time: 215.5",
          "Sequence: 2<br> Stop ID: OM<br>Zone ID: E-7.1C<br>Num Packages: 2.0 <br> Service Time: 20.5",
          "Sequence: 3<br> Stop ID: UB<br>Zone ID: E-7.1C<br>Num Packages: 1.0 <br> Service Time: 39.0",
          "Sequence: 4<br> Stop ID: FM<br>Zone ID: E-7.1C<br>Num Packages: 1.0 <br> Service Time: 51.0",
          "Sequence: 5<br> Stop ID: LX<br>Zone ID: E-7.1C<br>Num Packages: 1.0 <br> Service Time: 52.0",
          "Sequence: 6<br> Stop ID: PC<br>Zone ID: E-7.1C<br>Num Packages: 1.0 <br> Service Time: 41.0"
         ],
         "type": "scattermapbox"
        },
        {
         "hoverinfo": "text",
         "lat": [
          42.013021,
          42.01369,
          42.010971,
          42.010627,
          42.008005,
          42.007219,
          42.008275,
          42.007952,
          42.006485,
          42.005116
         ],
         "lon": [
          -87.798192,
          -87.79821,
          -87.801941,
          -87.800602,
          -87.79719,
          -87.795648,
          -87.795104,
          -87.796026,
          -87.792609,
          -87.792748
         ],
         "marker": {
          "size": 15
         },
         "mode": "markers",
         "name": "Route Zone E-7.1B",
         "text": [
          "Sequence: 7<br> Stop ID: KQ<br>Zone ID: E-7.1B<br>Num Packages: 2.0 <br> Service Time: 118.0",
          "Sequence: 8<br> Stop ID: RI<br>Zone ID: E-7.1B<br>Num Packages: 1.0 <br> Service Time: 49.0",
          "Sequence: 9<br> Stop ID: UV<br>Zone ID: E-7.1B<br>Num Packages: 1.0 <br> Service Time: 28.0",
          "Sequence: 10<br> Stop ID: CF<br>Zone ID: E-7.1B<br>Num Packages: 3.0 <br> Service Time: 18.7",
          "Sequence: 11<br> Stop ID: VG<br>Zone ID: E-7.1B<br>Num Packages: 1.0 <br> Service Time: 74.0",
          "Sequence: 12<br> Stop ID: OC<br>Zone ID: E-7.1B<br>Num Packages: 2.0 <br> Service Time: 52.0",
          "Sequence: 13<br> Stop ID: ZP<br>Zone ID: E-7.1B<br>Num Packages: 2.0 <br> Service Time: 69.5",
          "Sequence: 14<br> Stop ID: RH<br>Zone ID: E-7.1B<br>Num Packages: 1.0 <br> Service Time: 183.0",
          "Sequence: 15<br> Stop ID: RQ<br>Zone ID: E-7.1B<br>Num Packages: 3.0 <br> Service Time: 40.7",
          "Sequence: 16<br> Stop ID: TA<br>Zone ID: E-7.1B<br>Num Packages: 1.0 <br> Service Time: 149.0"
         ],
         "type": "scattermapbox"
        },
        {
         "hoverinfo": "text",
         "lat": [
          42.003678,
          42.000146,
          41.998338,
          41.998243,
          41.996075,
          41.997329
         ],
         "lon": [
          -87.793309,
          -87.79231,
          -87.79232,
          -87.792661,
          -87.792091,
          -87.791731
         ],
         "marker": {
          "size": 15
         },
         "mode": "markers",
         "name": "Route Zone E-7.2B",
         "text": [
          "Sequence: 17<br> Stop ID: FQ<br>Zone ID: E-7.2B<br>Num Packages: 3.0 <br> Service Time: 91.3",
          "Sequence: 18<br> Stop ID: LR<br>Zone ID: E-7.2B<br>Num Packages: 1.0 <br> Service Time: 92.0",
          "Sequence: 19<br> Stop ID: HT<br>Zone ID: E-7.2B<br>Num Packages: 3.0 <br> Service Time: 54.70000000000001",
          "Sequence: 20<br> Stop ID: GG<br>Zone ID: E-7.2B<br>Num Packages: 1.0 <br> Service Time: 251.0",
          "Sequence: 21<br> Stop ID: AL<br>Zone ID: E-7.2B<br>Num Packages: 1.0 <br> Service Time: 77.0",
          "Sequence: 22<br> Stop ID: OA<br>Zone ID: E-7.2B<br>Num Packages: 3.0 <br> Service Time: 54.0"
         ],
         "type": "scattermapbox"
        },
        {
         "hoverinfo": "text",
         "lat": [
          41.99733,
          41.998229,
          41.99755,
          41.99704,
          41.997123,
          41.998375,
          41.999753,
          41.999589,
          41.999136
         ],
         "lon": [
          -87.793534,
          -87.79514,
          -87.79558,
          -87.795522,
          -87.796471,
          -87.790875,
          -87.790855,
          -87.79231,
          -87.791805
         ],
         "marker": {
          "size": 15
         },
         "mode": "markers",
         "name": "Route Zone E-7.3B",
         "text": [
          "Sequence: 23<br> Stop ID: BH<br>Zone ID: E-7.3B<br>Num Packages: 3.0 <br> Service Time: 185.69999999999996",
          "Sequence: 24<br> Stop ID: AT<br>Zone ID: E-7.3B<br>Num Packages: 1.0 <br> Service Time: 50.0",
          "Sequence: 25<br> Stop ID: MD<br>Zone ID: E-7.3B<br>Num Packages: 1.0 <br> Service Time: 36.0",
          "Sequence: 26<br> Stop ID: QD<br>Zone ID: E-7.3B<br>Num Packages: 1.0 <br> Service Time: 128.0",
          "Sequence: 27<br> Stop ID: LD<br>Zone ID: E-7.3B<br>Num Packages: 2.0 <br> Service Time: 97.0",
          "Sequence: 28<br> Stop ID: OL<br>Zone ID: E-7.3B<br>Num Packages: 3.0 <br> Service Time: 35.7",
          "Sequence: 29<br> Stop ID: UU<br>Zone ID: E-7.3B<br>Num Packages: 1.0 <br> Service Time: 76.0",
          "Sequence: 30<br> Stop ID: HP<br>Zone ID: E-7.3B<br>Num Packages: 1.0 <br> Service Time: 197.0",
          "Sequence: 31<br> Stop ID: PH<br>Zone ID: E-7.3B<br>Num Packages: 1.0 <br> Service Time: 33.0"
         ],
         "type": "scattermapbox"
        },
        {
         "hoverinfo": "text",
         "lat": [
          41.99914,
          42.000956,
          42.000943,
          42.000039,
          41.999135,
          41.999315,
          41.99917,
          41.999576,
          41.998067,
          41.997146,
          41.995894,
          41.995991
         ],
         "lon": [
          -87.793113,
          -87.79457,
          -87.795988,
          -87.79394,
          -87.794743,
          -87.79718,
          -87.799312,
          -87.79939,
          -87.799095,
          -87.798873,
          -87.797924,
          -87.798595
         ],
         "marker": {
          "size": 15
         },
         "mode": "markers",
         "name": "Route Zone E-7.3A",
         "text": [
          "Sequence: 32<br> Stop ID: SR<br>Zone ID: E-7.3A<br>Num Packages: 1.0 <br> Service Time: 75.0",
          "Sequence: 33<br> Stop ID: QF<br>Zone ID: E-7.3A<br>Num Packages: 1.0 <br> Service Time: 30.0",
          "Sequence: 34<br> Stop ID: RJ<br>Zone ID: E-7.3A<br>Num Packages: 2.0 <br> Service Time: 90.0",
          "Sequence: 35<br> Stop ID: KG<br>Zone ID: E-7.3A<br>Num Packages: 1.0 <br> Service Time: 33.0",
          "Sequence: 36<br> Stop ID: EN<br>Zone ID: E-7.3A<br>Num Packages: 1.0 <br> Service Time: 27.0",
          "Sequence: 37<br> Stop ID: MR<br>Zone ID: E-7.3A<br>Num Packages: 4.0 <br> Service Time: 41.2",
          "Sequence: 38<br> Stop ID: CO<br>Zone ID: E-7.3A<br>Num Packages: 1.0 <br> Service Time: 38.0",
          "Sequence: 39<br> Stop ID: ZR<br>Zone ID: E-7.3A<br>Num Packages: 1.0 <br> Service Time: 52.0",
          "Sequence: 40<br> Stop ID: VY<br>Zone ID: E-7.3A<br>Num Packages: 1.0 <br> Service Time: 44.0",
          "Sequence: 41<br> Stop ID: HG<br>Zone ID: E-7.3A<br>Num Packages: 2.0 <br> Service Time: 63.5",
          "Sequence: 42<br> Stop ID: RF<br>Zone ID: E-7.3A<br>Num Packages: 2.0 <br> Service Time: 70.0",
          "Sequence: 43<br> Stop ID: XC<br>Zone ID: E-7.3A<br>Num Packages: 1.0 <br> Service Time: 46.0"
         ],
         "type": "scattermapbox"
        },
        {
         "hoverinfo": "text",
         "lat": [
          41.995669,
          41.995416,
          41.996377,
          41.996665,
          42.001457,
          41.999245,
          41.998481,
          41.998176
         ],
         "lon": [
          -87.799833,
          -87.800586,
          -87.800697,
          -87.800755,
          -87.801711,
          -87.800336,
          -87.799531,
          -87.800411
         ],
         "marker": {
          "size": 15
         },
         "mode": "markers",
         "name": "Route Zone E-7.2A",
         "text": [
          "Sequence: 44<br> Stop ID: RM<br>Zone ID: E-7.2A<br>Num Packages: 2.0 <br> Service Time: 113.0",
          "Sequence: 45<br> Stop ID: EB<br>Zone ID: E-7.2A<br>Num Packages: 1.0 <br> Service Time: 49.0",
          "Sequence: 46<br> Stop ID: EO<br>Zone ID: E-7.2A<br>Num Packages: 2.0 <br> Service Time: 120.0",
          "Sequence: 47<br> Stop ID: YK<br>Zone ID: E-7.2A<br>Num Packages: 4.0 <br> Service Time: 107.5",
          "Sequence: 48<br> Stop ID: QL<br>Zone ID: E-7.2A<br>Num Packages: 3.0 <br> Service Time: 34.3",
          "Sequence: 49<br> Stop ID: TU<br>Zone ID: E-7.2A<br>Num Packages: 1.0 <br> Service Time: 27.0",
          "Sequence: 50<br> Stop ID: LG<br>Zone ID: E-7.2A<br>Num Packages: 2.0 <br> Service Time: 22.0",
          "Sequence: 51<br> Stop ID: DE<br>Zone ID: E-7.2A<br>Num Packages: 1.0 <br> Service Time: 45.0"
         ],
         "type": "scattermapbox"
        },
        {
         "hoverinfo": "text",
         "lat": [
          41.998574,
          41.999252,
          41.999572,
          41.999975,
          42.000255,
          42.001302,
          42.000087,
          41.998241,
          41.996189,
          41.997647
         ],
         "lon": [
          -87.801173,
          -87.801336,
          -87.801413,
          -87.803708,
          -87.804156,
          -87.804143,
          -87.802951,
          -87.802978,
          -87.802725,
          -87.801948
         ],
         "marker": {
          "size": 15
         },
         "mode": "markers",
         "name": "Route Zone E-7.1A",
         "text": [
          "Sequence: 52<br> Stop ID: AK<br>Zone ID: E-7.1A<br>Num Packages: 4.0 <br> Service Time: 62.8",
          "Sequence: 53<br> Stop ID: LQ<br>Zone ID: E-7.1A<br>Num Packages: 1.0 <br> Service Time: 150.0",
          "Sequence: 54<br> Stop ID: VC<br>Zone ID: E-7.1A<br>Num Packages: 1.0 <br> Service Time: 59.0",
          "Sequence: 55<br> Stop ID: AS<br>Zone ID: E-7.1A<br>Num Packages: 1.0 <br> Service Time: 41.0",
          "Sequence: 56<br> Stop ID: IF<br>Zone ID: E-7.1A<br>Num Packages: 2.0 <br> Service Time: 30.5",
          "Sequence: 57<br> Stop ID: DW<br>Zone ID: E-7.1A<br>Num Packages: 1.0 <br> Service Time: 62.0",
          "Sequence: 58<br> Stop ID: VN<br>Zone ID: E-7.1A<br>Num Packages: 1.0 <br> Service Time: 53.0",
          "Sequence: 59<br> Stop ID: IZ<br>Zone ID: E-7.1A<br>Num Packages: 2.0 <br> Service Time: 52.0",
          "Sequence: 60<br> Stop ID: SJ<br>Zone ID: E-7.1A<br>Num Packages: 1.0 <br> Service Time: 60.0",
          "Sequence: 61<br> Stop ID: JT<br>Zone ID: E-7.1A<br>Num Packages: 2.0 <br> Service Time: 61.5"
         ],
         "type": "scattermapbox"
        },
        {
         "hoverinfo": "text",
         "lat": [
          41.99767,
          42.000165,
          41.999487,
          41.997493,
          41.997789
         ],
         "lon": [
          -87.804194,
          -87.805366,
          -87.80489,
          -87.804903,
          -87.80612
         ],
         "marker": {
          "size": 15
         },
         "mode": "markers",
         "name": "Route Zone E-6.1A",
         "text": [
          "Sequence: 62<br> Stop ID: VE<br>Zone ID: E-6.1A<br>Num Packages: 1.0 <br> Service Time: 45.0",
          "Sequence: 63<br> Stop ID: SO<br>Zone ID: E-6.1A<br>Num Packages: 3.0 <br> Service Time: 137.0",
          "Sequence: 64<br> Stop ID: AZ<br>Zone ID: E-6.1A<br>Num Packages: 4.0 <br> Service Time: 41.2",
          "Sequence: 65<br> Stop ID: HD<br>Zone ID: E-6.1A<br>Num Packages: 1.0 <br> Service Time: 64.0",
          "Sequence: 66<br> Stop ID: NT<br>Zone ID: E-6.1A<br>Num Packages: 2.0 <br> Service Time: 83.0"
         ],
         "type": "scattermapbox"
        },
        {
         "hoverinfo": "text",
         "lat": [
          41.997768,
          41.998363,
          41.998772,
          41.999348
         ],
         "lon": [
          -87.808075,
          -87.808835,
          -87.809717,
          -87.81066
         ],
         "marker": {
          "size": 15
         },
         "mode": "markers",
         "name": "Route Zone E-6.2A",
         "text": [
          "Sequence: 67<br> Stop ID: AY<br>Zone ID: E-6.2A<br>Num Packages: 1.0 <br> Service Time: 110.0",
          "Sequence: 68<br> Stop ID: WK<br>Zone ID: E-6.2A<br>Num Packages: 3.0 <br> Service Time: 189.0",
          "Sequence: 69<br> Stop ID: CB<br>Zone ID: E-6.2A<br>Num Packages: 8.0 <br> Service Time: 55.1",
          "Sequence: 70<br> Stop ID: MS<br>Zone ID: E-6.2A<br>Num Packages: 5.0 <br> Service Time: 132.0"
         ],
         "type": "scattermapbox"
        },
        {
         "hoverinfo": "text",
         "lat": [
          42.000722,
          42.000272,
          41.999506,
          42.002343,
          42.00365,
          42.003264,
          42.000915
         ],
         "lon": [
          -87.812836,
          -87.813855,
          -87.811694,
          -87.813477,
          -87.81162,
          -87.812408,
          -87.813199
         ],
         "marker": {
          "size": 15
         },
         "mode": "markers",
         "name": "Route Zone E-6.3A",
         "text": [
          "Sequence: 71<br> Stop ID: OX<br>Zone ID: E-6.3A<br>Num Packages: 1.0 <br> Service Time: 126.0",
          "Sequence: 72<br> Stop ID: VP<br>Zone ID: E-6.3A<br>Num Packages: 2.0 <br> Service Time: 35.0",
          "Sequence: 73<br> Stop ID: YP<br>Zone ID: E-6.3A<br>Num Packages: 6.0 <br> Service Time: 47.0",
          "Sequence: 74<br> Stop ID: EH<br>Zone ID: E-6.3A<br>Num Packages: 1.0 <br> Service Time: 83.0",
          "Sequence: 75<br> Stop ID: SE<br>Zone ID: E-6.3A<br>Num Packages: 4.0 <br> Service Time: 100.2",
          "Sequence: 76<br> Stop ID: SW<br>Zone ID: E-6.3A<br>Num Packages: 4.0 <br> Service Time: 29.0",
          "Sequence: 77<br> Stop ID: GN<br>Zone ID: E-6.3A<br>Num Packages: 3.0 <br> Service Time: 21.0"
         ],
         "type": "scattermapbox"
        },
        {
         "hoverinfo": "text",
         "lat": [
          42.001229,
          42.002125,
          42.002129,
          42.001133,
          42.001364,
          42.000817,
          42.000528,
          42.000715,
          42.000434
         ],
         "lon": [
          -87.81315,
          -87.8121,
          -87.810404,
          -87.810921,
          -87.811297,
          -87.811985,
          -87.812197,
          -87.810225,
          -87.809755
         ],
         "marker": {
          "size": 15
         },
         "mode": "markers",
         "name": "Route Zone E-6.3B",
         "text": [
          "Sequence: 78<br> Stop ID: YO<br>Zone ID: E-6.3B<br>Num Packages: 1.0 <br> Service Time: 49.0",
          "Sequence: 79<br> Stop ID: AX<br>Zone ID: E-6.3B<br>Num Packages: 1.0 <br> Service Time: 95.0",
          "Sequence: 80<br> Stop ID: FD<br>Zone ID: E-6.3B<br>Num Packages: 1.0 <br> Service Time: 82.0",
          "Sequence: 81<br> Stop ID: MF<br>Zone ID: E-6.3B<br>Num Packages: 1.0 <br> Service Time: 61.0",
          "Sequence: 82<br> Stop ID: YW<br>Zone ID: E-6.3B<br>Num Packages: 1.0 <br> Service Time: 111.0",
          "Sequence: 83<br> Stop ID: ZT<br>Zone ID: E-6.3B<br>Num Packages: 3.0 <br> Service Time: 47.70000000000001",
          "Sequence: 84<br> Stop ID: FT<br>Zone ID: E-6.3B<br>Num Packages: 1.0 <br> Service Time: 44.0",
          "Sequence: 85<br> Stop ID: VF<br>Zone ID: E-6.3B<br>Num Packages: 4.0 <br> Service Time: 151.0",
          "Sequence: 86<br> Stop ID: EP<br>Zone ID: E-6.3B<br>Num Packages: 1.0 <br> Service Time: 81.0"
         ],
         "type": "scattermapbox"
        },
        {
         "hoverinfo": "text",
         "lat": [
          41.998993,
          42.000498,
          42.000304,
          42.003052,
          42.001399,
          42.001478,
          42.002147
         ],
         "lon": [
          -87.807404,
          -87.807978,
          -87.806766,
          -87.806736,
          -87.806753,
          -87.807966,
          -87.807963
         ],
         "marker": {
          "size": 15
         },
         "mode": "markers",
         "name": "Route Zone E-6.2B",
         "text": [
          "Sequence: 87<br> Stop ID: ZY<br>Zone ID: E-6.2B<br>Num Packages: 1.0 <br> Service Time: 155.0",
          "Sequence: 88<br> Stop ID: NF<br>Zone ID: E-6.2B<br>Num Packages: 1.0 <br> Service Time: 50.0",
          "Sequence: 89<br> Stop ID: HE<br>Zone ID: E-6.2B<br>Num Packages: 1.0 <br> Service Time: 43.0",
          "Sequence: 90<br> Stop ID: VZ<br>Zone ID: E-6.2B<br>Num Packages: 1.0 <br> Service Time: 216.0",
          "Sequence: 91<br> Stop ID: HX<br>Zone ID: E-6.2B<br>Num Packages: 7.0 <br> Service Time: 73.0",
          "Sequence: 92<br> Stop ID: GT<br>Zone ID: E-6.2B<br>Num Packages: 6.0 <br> Service Time: 69.2",
          "Sequence: 93<br> Stop ID: YF<br>Zone ID: E-6.2B<br>Num Packages: 3.0 <br> Service Time: 64.7"
         ],
         "type": "scattermapbox"
        },
        {
         "hoverinfo": "text",
         "lat": [
          42.003926,
          42.004253,
          42.003884,
          42.002181,
          42.003142
         ],
         "lon": [
          -87.807953,
          -87.809171,
          -87.809173,
          -87.809184,
          -87.809177
         ],
         "marker": {
          "size": 15
         },
         "mode": "markers",
         "name": "Route Zone E-6.1B",
         "text": [
          "Sequence: 94<br> Stop ID: RR<br>Zone ID: E-6.1B<br>Num Packages: 2.0 <br> Service Time: 65.0",
          "Sequence: 95<br> Stop ID: WU<br>Zone ID: E-6.1B<br>Num Packages: 3.0 <br> Service Time: 50.70000000000001",
          "Sequence: 96<br> Stop ID: ZM<br>Zone ID: E-6.1B<br>Num Packages: 3.0 <br> Service Time: 112.0",
          "Sequence: 97<br> Stop ID: RN<br>Zone ID: E-6.1B<br>Num Packages: 1.0 <br> Service Time: 57.0",
          "Sequence: 98<br> Stop ID: TW<br>Zone ID: E-6.1B<br>Num Packages: 1.0 <br> Service Time: 35.0"
         ],
         "type": "scattermapbox"
        },
        {
         "hoverinfo": "text",
         "lat": [
          42.003425,
          42.004096,
          42.005277
         ],
         "lon": [
          -87.81039,
          -87.810383,
          -87.810015
         ],
         "marker": {
          "size": 15
         },
         "mode": "markers",
         "name": "Route Zone E-6.1C",
         "text": [
          "Sequence: 99<br> Stop ID: OJ<br>Zone ID: E-6.1C<br>Num Packages: 4.0 <br> Service Time: 65.5",
          "Sequence: 100<br> Stop ID: FB<br>Zone ID: E-6.1C<br>Num Packages: 1.0 <br> Service Time: 29.0",
          "Sequence: 101<br> Stop ID: OQ<br>Zone ID: E-6.1C<br>Num Packages: 2.0 <br> Service Time: 31.0"
         ],
         "type": "scattermapbox"
        },
        {
         "hoverinfo": "text",
         "lat": [
          42.005326,
          42.006286,
          42.006256,
          42.00622,
          42.007188
         ],
         "lon": [
          -87.808377,
          -87.807795,
          -87.808667,
          -87.809753,
          -87.807211
         ],
         "marker": {
          "size": 15
         },
         "mode": "markers",
         "name": "Route Zone E-6.2C",
         "text": [
          "Sequence: 102<br> Stop ID: BJ<br>Zone ID: E-6.2C<br>Num Packages: 1.0 <br> Service Time: 48.0",
          "Sequence: 103<br> Stop ID: SC<br>Zone ID: E-6.2C<br>Num Packages: 2.0 <br> Service Time: 55.5",
          "Sequence: 104<br> Stop ID: HL<br>Zone ID: E-6.2C<br>Num Packages: 3.0 <br> Service Time: 39.0",
          "Sequence: 105<br> Stop ID: RU<br>Zone ID: E-6.2C<br>Num Packages: 2.0 <br> Service Time: 122.0",
          "Sequence: 106<br> Stop ID: XS<br>Zone ID: E-6.2C<br>Num Packages: 5.0 <br> Service Time: 23.0"
         ],
         "type": "scattermapbox"
        },
        {
         "hoverinfo": "text",
         "lat": [
          42.007122,
          42.007093,
          42.007073,
          42.007232,
          42.008002,
          42.008041,
          42.008096,
          42.01012
         ],
         "lon": [
          -87.808835,
          -87.809642,
          -87.810333,
          -87.810996,
          -87.810104,
          -87.808792,
          -87.807088,
          -87.804512
         ],
         "marker": {
          "size": 15
         },
         "mode": "markers",
         "name": "Route Zone E-6.3C",
         "text": [
          "Sequence: 107<br> Stop ID: MT<br>Zone ID: E-6.3C<br>Num Packages: 2.0 <br> Service Time: 90.5",
          "Sequence: 108<br> Stop ID: AU<br>Zone ID: E-6.3C<br>Num Packages: 2.0 <br> Service Time: 33.5",
          "Sequence: 109<br> Stop ID: KT<br>Zone ID: E-6.3C<br>Num Packages: 1.0 <br> Service Time: 36.0",
          "Sequence: 110<br> Stop ID: QW<br>Zone ID: E-6.3C<br>Num Packages: 1.0 <br> Service Time: 52.0",
          "Sequence: 111<br> Stop ID: HV<br>Zone ID: E-6.3C<br>Num Packages: 3.0 <br> Service Time: 43.70000000000001",
          "Sequence: 112<br> Stop ID: TG<br>Zone ID: E-6.3C<br>Num Packages: 3.0 <br> Service Time: 94.0",
          "Sequence: 113<br> Stop ID: ND<br>Zone ID: E-6.3C<br>Num Packages: 2.0 <br> Service Time: 159.0",
          "Sequence: 114<br> Stop ID: FS<br>Zone ID: E-6.3C<br>Num Packages: 1.0 <br> Service Time: 71.0"
         ],
         "type": "scattermapbox"
        },
        {
         "hoverinfo": "text",
         "lat": [
          42.009807,
          42.010099,
          42.008968,
          42.009158,
          42.008439,
          42.00789,
          42.006678,
          42.005355,
          42.005271
         ],
         "lon": [
          -87.80412,
          -87.803753,
          -87.808176,
          -87.81097,
          -87.813671,
          -87.813953,
          -87.813694,
          -87.812317,
          -87.8137
         ],
         "marker": {
          "size": 15
         },
         "mode": "markers",
         "name": "Route Zone E-6.3D",
         "text": [
          "Sequence: 115<br> Stop ID: NA<br>Zone ID: E-6.3D<br>Num Packages: 2.0 <br> Service Time: 92.0",
          "Sequence: 116<br> Stop ID: YR<br>Zone ID: E-6.3D<br>Num Packages: 1.0 <br> Service Time: 25.0",
          "Sequence: 117<br> Stop ID: IG<br>Zone ID: E-6.3D<br>Num Packages: 2.0 <br> Service Time: 44.0",
          "Sequence: 118<br> Stop ID: WA<br>Zone ID: E-6.3D<br>Num Packages: 1.0 <br> Service Time: 39.0",
          "Sequence: 119<br> Stop ID: LH<br>Zone ID: E-6.3D<br>Num Packages: 2.0 <br> Service Time: 49.0",
          "Sequence: 120<br> Stop ID: JL<br>Zone ID: E-6.3D<br>Num Packages: 1.0 <br> Service Time: 51.0",
          "Sequence: 121<br> Stop ID: WH<br>Zone ID: E-6.3D<br>Num Packages: 1.0 <br> Service Time: 35.0",
          "Sequence: 122<br> Stop ID: KS<br>Zone ID: E-6.3D<br>Num Packages: 2.0 <br> Service Time: 154.0",
          "Sequence: 123<br> Stop ID: YQ<br>Zone ID: E-6.3D<br>Num Packages: 3.0 <br> Service Time: 44.29999999999999"
         ],
         "type": "scattermapbox"
        },
        {
         "hoverinfo": "text",
         "lat": [
          42.004224,
          42.002875,
          42.00332,
          42.002324,
          42.003141,
          42.003996
         ],
         "lon": [
          -87.814218,
          -87.81836,
          -87.819132,
          -87.816642,
          -87.815812,
          -87.813184
         ],
         "marker": {
          "size": 15
         },
         "mode": "markers",
         "name": "Route Zone E-6.2D",
         "text": [
          "Sequence: 124<br> Stop ID: NV<br>Zone ID: E-6.2D<br>Num Packages: 1.0 <br> Service Time: 39.0",
          "Sequence: 125<br> Stop ID: ZQ<br>Zone ID: E-6.2D<br>Num Packages: 1.0 <br> Service Time: 45.0",
          "Sequence: 126<br> Stop ID: JH<br>Zone ID: E-6.2D<br>Num Packages: 4.0 <br> Service Time: 14.5",
          "Sequence: 127<br> Stop ID: WS<br>Zone ID: E-6.2D<br>Num Packages: 1.0 <br> Service Time: 111.0",
          "Sequence: 128<br> Stop ID: WD<br>Zone ID: E-6.2D<br>Num Packages: 3.0 <br> Service Time: 65.3",
          "Sequence: 129<br> Stop ID: NI<br>Zone ID: E-6.2D<br>Num Packages: 3.0 <br> Service Time: 56.0"
         ],
         "type": "scattermapbox"
        },
        {
         "hoverinfo": "text",
         "lat": [
          42.00187,
          42.003788,
          42.004423,
          42.005222,
          42.005805,
          42.005393,
          42.006633,
          42.009571,
          42.031368
         ],
         "lon": [
          -87.816372,
          -87.814852,
          -87.815098,
          -87.815089,
          -87.815083,
          -87.816456,
          -87.817621,
          -87.817584,
          -87.776596
         ],
         "marker": {
          "size": 15
         },
         "mode": "markers",
         "name": "Route Zone E-6.1D",
         "text": [
          "Sequence: 130<br> Stop ID: OK<br>Zone ID: E-6.1D<br>Num Packages: 1.0 <br> Service Time: 64.0",
          "Sequence: 131<br> Stop ID: NM<br>Zone ID: E-6.1D<br>Num Packages: 1.0 <br> Service Time: 63.0",
          "Sequence: 132<br> Stop ID: AM<br>Zone ID: E-6.1D<br>Num Packages: 3.0 <br> Service Time: 15.0",
          "Sequence: 133<br> Stop ID: DS<br>Zone ID: E-6.1D<br>Num Packages: 2.0 <br> Service Time: 63.0",
          "Sequence: 134<br> Stop ID: NZ<br>Zone ID: E-6.1D<br>Num Packages: 1.0 <br> Service Time: 34.0",
          "Sequence: 135<br> Stop ID: XW<br>Zone ID: E-6.1D<br>Num Packages: 1.0 <br> Service Time: 71.0",
          "Sequence: 136<br> Stop ID: AV<br>Zone ID: E-6.1D<br>Num Packages: 1.0 <br> Service Time: 108.0",
          "Sequence: 137<br> Stop ID: WL<br>Zone ID: E-6.1D<br>Num Packages: 3.0 <br> Service Time: 83.3",
          "Sequence: 138<br> Stop ID: HI<br>Zone ID: E-6.1D<br>Num Packages: nan <br> Service Time: nan"
         ],
         "type": "scattermapbox"
        }
       ],
       "layout": {
        "height": 600,
        "mapbox": {
         "center": {
          "lat": 42.003241542946135,
          "lon": -87.80429735769432
         },
         "style": "open-street-map",
         "zoom": 10
        },
        "margin": {
         "b": 10,
         "l": 10,
         "r": 10,
         "t": 10
        },
        "showlegend": true,
        "template": {
         "data": {
          "bar": [
           {
            "error_x": {
             "color": "#2a3f5f"
            },
            "error_y": {
             "color": "#2a3f5f"
            },
            "marker": {
             "line": {
              "color": "#E5ECF6",
              "width": 0.5
             },
             "pattern": {
              "fillmode": "overlay",
              "size": 10,
              "solidity": 0.2
             }
            },
            "type": "bar"
           }
          ],
          "barpolar": [
           {
            "marker": {
             "line": {
              "color": "#E5ECF6",
              "width": 0.5
             },
             "pattern": {
              "fillmode": "overlay",
              "size": 10,
              "solidity": 0.2
             }
            },
            "type": "barpolar"
           }
          ],
          "carpet": [
           {
            "aaxis": {
             "endlinecolor": "#2a3f5f",
             "gridcolor": "white",
             "linecolor": "white",
             "minorgridcolor": "white",
             "startlinecolor": "#2a3f5f"
            },
            "baxis": {
             "endlinecolor": "#2a3f5f",
             "gridcolor": "white",
             "linecolor": "white",
             "minorgridcolor": "white",
             "startlinecolor": "#2a3f5f"
            },
            "type": "carpet"
           }
          ],
          "choropleth": [
           {
            "colorbar": {
             "outlinewidth": 0,
             "ticks": ""
            },
            "type": "choropleth"
           }
          ],
          "contour": [
           {
            "colorbar": {
             "outlinewidth": 0,
             "ticks": ""
            },
            "colorscale": [
             [
              0,
              "#0d0887"
             ],
             [
              0.1111111111111111,
              "#46039f"
             ],
             [
              0.2222222222222222,
              "#7201a8"
             ],
             [
              0.3333333333333333,
              "#9c179e"
             ],
             [
              0.4444444444444444,
              "#bd3786"
             ],
             [
              0.5555555555555556,
              "#d8576b"
             ],
             [
              0.6666666666666666,
              "#ed7953"
             ],
             [
              0.7777777777777778,
              "#fb9f3a"
             ],
             [
              0.8888888888888888,
              "#fdca26"
             ],
             [
              1,
              "#f0f921"
             ]
            ],
            "type": "contour"
           }
          ],
          "contourcarpet": [
           {
            "colorbar": {
             "outlinewidth": 0,
             "ticks": ""
            },
            "type": "contourcarpet"
           }
          ],
          "heatmap": [
           {
            "colorbar": {
             "outlinewidth": 0,
             "ticks": ""
            },
            "colorscale": [
             [
              0,
              "#0d0887"
             ],
             [
              0.1111111111111111,
              "#46039f"
             ],
             [
              0.2222222222222222,
              "#7201a8"
             ],
             [
              0.3333333333333333,
              "#9c179e"
             ],
             [
              0.4444444444444444,
              "#bd3786"
             ],
             [
              0.5555555555555556,
              "#d8576b"
             ],
             [
              0.6666666666666666,
              "#ed7953"
             ],
             [
              0.7777777777777778,
              "#fb9f3a"
             ],
             [
              0.8888888888888888,
              "#fdca26"
             ],
             [
              1,
              "#f0f921"
             ]
            ],
            "type": "heatmap"
           }
          ],
          "heatmapgl": [
           {
            "colorbar": {
             "outlinewidth": 0,
             "ticks": ""
            },
            "colorscale": [
             [
              0,
              "#0d0887"
             ],
             [
              0.1111111111111111,
              "#46039f"
             ],
             [
              0.2222222222222222,
              "#7201a8"
             ],
             [
              0.3333333333333333,
              "#9c179e"
             ],
             [
              0.4444444444444444,
              "#bd3786"
             ],
             [
              0.5555555555555556,
              "#d8576b"
             ],
             [
              0.6666666666666666,
              "#ed7953"
             ],
             [
              0.7777777777777778,
              "#fb9f3a"
             ],
             [
              0.8888888888888888,
              "#fdca26"
             ],
             [
              1,
              "#f0f921"
             ]
            ],
            "type": "heatmapgl"
           }
          ],
          "histogram": [
           {
            "marker": {
             "pattern": {
              "fillmode": "overlay",
              "size": 10,
              "solidity": 0.2
             }
            },
            "type": "histogram"
           }
          ],
          "histogram2d": [
           {
            "colorbar": {
             "outlinewidth": 0,
             "ticks": ""
            },
            "colorscale": [
             [
              0,
              "#0d0887"
             ],
             [
              0.1111111111111111,
              "#46039f"
             ],
             [
              0.2222222222222222,
              "#7201a8"
             ],
             [
              0.3333333333333333,
              "#9c179e"
             ],
             [
              0.4444444444444444,
              "#bd3786"
             ],
             [
              0.5555555555555556,
              "#d8576b"
             ],
             [
              0.6666666666666666,
              "#ed7953"
             ],
             [
              0.7777777777777778,
              "#fb9f3a"
             ],
             [
              0.8888888888888888,
              "#fdca26"
             ],
             [
              1,
              "#f0f921"
             ]
            ],
            "type": "histogram2d"
           }
          ],
          "histogram2dcontour": [
           {
            "colorbar": {
             "outlinewidth": 0,
             "ticks": ""
            },
            "colorscale": [
             [
              0,
              "#0d0887"
             ],
             [
              0.1111111111111111,
              "#46039f"
             ],
             [
              0.2222222222222222,
              "#7201a8"
             ],
             [
              0.3333333333333333,
              "#9c179e"
             ],
             [
              0.4444444444444444,
              "#bd3786"
             ],
             [
              0.5555555555555556,
              "#d8576b"
             ],
             [
              0.6666666666666666,
              "#ed7953"
             ],
             [
              0.7777777777777778,
              "#fb9f3a"
             ],
             [
              0.8888888888888888,
              "#fdca26"
             ],
             [
              1,
              "#f0f921"
             ]
            ],
            "type": "histogram2dcontour"
           }
          ],
          "mesh3d": [
           {
            "colorbar": {
             "outlinewidth": 0,
             "ticks": ""
            },
            "type": "mesh3d"
           }
          ],
          "parcoords": [
           {
            "line": {
             "colorbar": {
              "outlinewidth": 0,
              "ticks": ""
             }
            },
            "type": "parcoords"
           }
          ],
          "pie": [
           {
            "automargin": true,
            "type": "pie"
           }
          ],
          "scatter": [
           {
            "fillpattern": {
             "fillmode": "overlay",
             "size": 10,
             "solidity": 0.2
            },
            "type": "scatter"
           }
          ],
          "scatter3d": [
           {
            "line": {
             "colorbar": {
              "outlinewidth": 0,
              "ticks": ""
             }
            },
            "marker": {
             "colorbar": {
              "outlinewidth": 0,
              "ticks": ""
             }
            },
            "type": "scatter3d"
           }
          ],
          "scattercarpet": [
           {
            "marker": {
             "colorbar": {
              "outlinewidth": 0,
              "ticks": ""
             }
            },
            "type": "scattercarpet"
           }
          ],
          "scattergeo": [
           {
            "marker": {
             "colorbar": {
              "outlinewidth": 0,
              "ticks": ""
             }
            },
            "type": "scattergeo"
           }
          ],
          "scattergl": [
           {
            "marker": {
             "colorbar": {
              "outlinewidth": 0,
              "ticks": ""
             }
            },
            "type": "scattergl"
           }
          ],
          "scattermapbox": [
           {
            "marker": {
             "colorbar": {
              "outlinewidth": 0,
              "ticks": ""
             }
            },
            "type": "scattermapbox"
           }
          ],
          "scatterpolar": [
           {
            "marker": {
             "colorbar": {
              "outlinewidth": 0,
              "ticks": ""
             }
            },
            "type": "scatterpolar"
           }
          ],
          "scatterpolargl": [
           {
            "marker": {
             "colorbar": {
              "outlinewidth": 0,
              "ticks": ""
             }
            },
            "type": "scatterpolargl"
           }
          ],
          "scatterternary": [
           {
            "marker": {
             "colorbar": {
              "outlinewidth": 0,
              "ticks": ""
             }
            },
            "type": "scatterternary"
           }
          ],
          "surface": [
           {
            "colorbar": {
             "outlinewidth": 0,
             "ticks": ""
            },
            "colorscale": [
             [
              0,
              "#0d0887"
             ],
             [
              0.1111111111111111,
              "#46039f"
             ],
             [
              0.2222222222222222,
              "#7201a8"
             ],
             [
              0.3333333333333333,
              "#9c179e"
             ],
             [
              0.4444444444444444,
              "#bd3786"
             ],
             [
              0.5555555555555556,
              "#d8576b"
             ],
             [
              0.6666666666666666,
              "#ed7953"
             ],
             [
              0.7777777777777778,
              "#fb9f3a"
             ],
             [
              0.8888888888888888,
              "#fdca26"
             ],
             [
              1,
              "#f0f921"
             ]
            ],
            "type": "surface"
           }
          ],
          "table": [
           {
            "cells": {
             "fill": {
              "color": "#EBF0F8"
             },
             "line": {
              "color": "white"
             }
            },
            "header": {
             "fill": {
              "color": "#C8D4E3"
             },
             "line": {
              "color": "white"
             }
            },
            "type": "table"
           }
          ]
         },
         "layout": {
          "annotationdefaults": {
           "arrowcolor": "#2a3f5f",
           "arrowhead": 0,
           "arrowwidth": 1
          },
          "autotypenumbers": "strict",
          "coloraxis": {
           "colorbar": {
            "outlinewidth": 0,
            "ticks": ""
           }
          },
          "colorscale": {
           "diverging": [
            [
             0,
             "#8e0152"
            ],
            [
             0.1,
             "#c51b7d"
            ],
            [
             0.2,
             "#de77ae"
            ],
            [
             0.3,
             "#f1b6da"
            ],
            [
             0.4,
             "#fde0ef"
            ],
            [
             0.5,
             "#f7f7f7"
            ],
            [
             0.6,
             "#e6f5d0"
            ],
            [
             0.7,
             "#b8e186"
            ],
            [
             0.8,
             "#7fbc41"
            ],
            [
             0.9,
             "#4d9221"
            ],
            [
             1,
             "#276419"
            ]
           ],
           "sequential": [
            [
             0,
             "#0d0887"
            ],
            [
             0.1111111111111111,
             "#46039f"
            ],
            [
             0.2222222222222222,
             "#7201a8"
            ],
            [
             0.3333333333333333,
             "#9c179e"
            ],
            [
             0.4444444444444444,
             "#bd3786"
            ],
            [
             0.5555555555555556,
             "#d8576b"
            ],
            [
             0.6666666666666666,
             "#ed7953"
            ],
            [
             0.7777777777777778,
             "#fb9f3a"
            ],
            [
             0.8888888888888888,
             "#fdca26"
            ],
            [
             1,
             "#f0f921"
            ]
           ],
           "sequentialminus": [
            [
             0,
             "#0d0887"
            ],
            [
             0.1111111111111111,
             "#46039f"
            ],
            [
             0.2222222222222222,
             "#7201a8"
            ],
            [
             0.3333333333333333,
             "#9c179e"
            ],
            [
             0.4444444444444444,
             "#bd3786"
            ],
            [
             0.5555555555555556,
             "#d8576b"
            ],
            [
             0.6666666666666666,
             "#ed7953"
            ],
            [
             0.7777777777777778,
             "#fb9f3a"
            ],
            [
             0.8888888888888888,
             "#fdca26"
            ],
            [
             1,
             "#f0f921"
            ]
           ]
          },
          "colorway": [
           "#636efa",
           "#EF553B",
           "#00cc96",
           "#ab63fa",
           "#FFA15A",
           "#19d3f3",
           "#FF6692",
           "#B6E880",
           "#FF97FF",
           "#FECB52"
          ],
          "font": {
           "color": "#2a3f5f"
          },
          "geo": {
           "bgcolor": "white",
           "lakecolor": "white",
           "landcolor": "#E5ECF6",
           "showlakes": true,
           "showland": true,
           "subunitcolor": "white"
          },
          "hoverlabel": {
           "align": "left"
          },
          "hovermode": "closest",
          "mapbox": {
           "style": "light"
          },
          "paper_bgcolor": "white",
          "plot_bgcolor": "#E5ECF6",
          "polar": {
           "angularaxis": {
            "gridcolor": "white",
            "linecolor": "white",
            "ticks": ""
           },
           "bgcolor": "#E5ECF6",
           "radialaxis": {
            "gridcolor": "white",
            "linecolor": "white",
            "ticks": ""
           }
          },
          "scene": {
           "xaxis": {
            "backgroundcolor": "#E5ECF6",
            "gridcolor": "white",
            "gridwidth": 2,
            "linecolor": "white",
            "showbackground": true,
            "ticks": "",
            "zerolinecolor": "white"
           },
           "yaxis": {
            "backgroundcolor": "#E5ECF6",
            "gridcolor": "white",
            "gridwidth": 2,
            "linecolor": "white",
            "showbackground": true,
            "ticks": "",
            "zerolinecolor": "white"
           },
           "zaxis": {
            "backgroundcolor": "#E5ECF6",
            "gridcolor": "white",
            "gridwidth": 2,
            "linecolor": "white",
            "showbackground": true,
            "ticks": "",
            "zerolinecolor": "white"
           }
          },
          "shapedefaults": {
           "line": {
            "color": "#2a3f5f"
           }
          },
          "ternary": {
           "aaxis": {
            "gridcolor": "white",
            "linecolor": "white",
            "ticks": ""
           },
           "baxis": {
            "gridcolor": "white",
            "linecolor": "white",
            "ticks": ""
           },
           "bgcolor": "#E5ECF6",
           "caxis": {
            "gridcolor": "white",
            "linecolor": "white",
            "ticks": ""
           }
          },
          "title": {
           "x": 0.05
          },
          "xaxis": {
           "automargin": true,
           "gridcolor": "white",
           "linecolor": "white",
           "ticks": "",
           "title": {
            "standoff": 15
           },
           "zerolinecolor": "white",
           "zerolinewidth": 2
          },
          "yaxis": {
           "automargin": true,
           "gridcolor": "white",
           "linecolor": "white",
           "ticks": "",
           "title": {
            "standoff": 15
           },
           "zerolinecolor": "white",
           "zerolinewidth": 2
          }
         }
        }
       }
      }
     },
     "metadata": {},
     "output_type": "display_data"
    }
   ],
   "source": [
    "# Create a figure\n",
    "fig = go.Figure()\n",
    "\n",
    "# Add the drone path\n",
    "fig.add_trace(go.Scattermapbox(\n",
    "    lat=drone_data_ordered['lat'],\n",
    "    lon=drone_data_ordered['lng'],\n",
    "    mode='lines',\n",
    "    line=dict(width=2, color='red'),\n",
    "    hoverinfo='none',\n",
    "    name='Drone Path'\n",
    "))\n",
    "\n",
    "# Add scatter points for each unique zone_id in the drone data\n",
    "for zone_id in drone_data_ordered['zone_id'].unique():\n",
    "    df_sub = drone_data_ordered[drone_data_ordered['zone_id'] == zone_id]\n",
    "    hover_text = df_sub.apply(lambda row: f\"Sequence: {row.name}<br> Stop ID: {row['stop_id']}<br>Zone ID: {row['zone_id']}<br>Num Packages: {row['num_packages']} <br> Service Time: {row['service_time_seconds']}\", axis=1)\n",
    "    fig.add_trace(go.Scattermapbox(\n",
    "        lat=df_sub['lat'],\n",
    "        lon=df_sub['lng'],\n",
    "        mode='markers',\n",
    "        marker=go.scattermapbox.Marker(size=15),\n",
    "        name=f\"Drone Zone {zone_id}\",\n",
    "        text=hover_text,\n",
    "        hoverinfo='text'\n",
    "    ))\n",
    "\n",
    "\n",
    "# Add the route path\n",
    "fig.add_trace(go.Scattermapbox(\n",
    "    lat=route_data_ordered['lat'],\n",
    "    lon=route_data_ordered['lng'],\n",
    "    mode='lines',\n",
    "    line=dict(width=2, color='blue'),\n",
    "    hoverinfo='none',\n",
    "    name='Route Path'\n",
    "))\n",
    "\n",
    "# Add scatter points for each unique zone_id in the route data\n",
    "for zone_id in route_data_ordered['zone_id'].unique():\n",
    "    df_sub = route_data_ordered[route_data_ordered['zone_id'] == zone_id]\n",
    "    hover_text = df_sub.apply(lambda row: f\"Sequence: {row.name}<br> Stop ID: {row['stop_id']}<br>Zone ID: {row['zone_id']}<br>Num Packages: {row['num_packages']} <br> Service Time: {row['service_time_seconds']}\", axis=1)\n",
    "    fig.add_trace(go.Scattermapbox(\n",
    "        lat=df_sub['lat'],\n",
    "        lon=df_sub['lng'],\n",
    "        mode='markers',\n",
    "        marker=go.scattermapbox.Marker(size=15),\n",
    "        name=f\"Route Zone {zone_id}\",\n",
    "        text=hover_text,\n",
    "        hoverinfo='text'\n",
    "    ))\n",
    "\n",
    "\n",
    "\n",
    "# Update the layout to use OpenStreetMap style and adjust other layout properties\n",
    "fig.update_layout(\n",
    "    height=600,\n",
    "    mapbox=dict(\n",
    "        style=\"open-street-map\",\n",
    "        zoom=10,\n",
    "        center=dict(\n",
    "            lat=(route_data_ordered['lat'].mean() + drone_data_ordered['lat'].mean()) / 2,\n",
    "            lon=(route_data_ordered['lng'].mean() + drone_data_ordered['lng'].mean()) / 2\n",
    "        )\n",
    "    ),\n",
    "    showlegend=True\n",
    ")\n",
    "\n",
    "fig.update_layout(margin=dict(l=10, r=10, t=10, b=10))\n",
    "\n",
    "# Show the figure\n",
    "fig.show()"
   ]
  },
  {
   "cell_type": "code",
   "execution_count": 27,
   "metadata": {},
   "outputs": [],
   "source": [
    "proposed_sequences = json.load(open('proposed_sequences.json'))\n",
    "proposed_route_ids = list(proposed_sequences.keys())\n",
    "\n",
    "for route_id in proposed_route_ids:\n",
    "    package_data_route_df, route_data_route_df, vehicle_travel_times_route = get_data_for_route(route_id)\n",
    "    route_data_route_df['zone_id'].ffill(inplace=True)\n",
    "    drone_travel_times_route = calculate_drone_travel_time(route_data_route_df)\n",
    "    package_data_route_df['drone_possible'] = (package_data_route_df['depth_cm'] < DRONE_DEPTH) & (package_data_route_df['height_cm'] < DRONE_HEIGHT) & (package_data_route_df['width_cm'] < DRONE_WIDTH)\n",
    "    \n",
    "    package_info_agg = package_data_route_df.groupby('stop_id').apply(\n",
    "    lambda x: pd.Series({\n",
    "        'packages': x[['package_id', 'depth_cm', 'height_cm', 'width_cm']].to_dict('records'),\n",
    "        'num_packages': len(x),\n",
    "        'drone_possible': (len(x) == 1) and (x['drone_possible'].iloc[0] == True),\n",
    "        'service_time_seconds': x['planned_service_time_seconds'].mean() # Not sure if this should be sum or average. https://github.com/MIT-CAVE/rc-cli/blob/main/templates/data_structures.md\n",
    "    })\n",
    "    ).reset_index()\n",
    "    \n",
    "    route_data_route_df = pd.merge(route_data_route_df, package_info_agg, how='left', on='stop_id')\n",
    "    \n",
    "    proposed_sequence = sequence_to_stops_for_route(route_id)\n",
    "    \n",
    "    solver = VRPDSolver(route_id, proposed_sequence, package_data_route_df, route_data_route_df, vehicle_travel_times_route, drone_travel_times_route)\n",
    "    drone_usage = solver.find_drone_uses()\n",
    "    time_saved = solver.drone_save_time(drone_usage)\n",
    "    best_drone_usage = solver.maximize_saved_time(time_saved)\n",
    "    solver.generate_vehicle_drone_path(best_drone_usage)\n",
    "    solver.save_vehicle_path('optimized_vehicle_paths')\n",
    "    solver.save_drone_path('optimized_drone_paths')\n",
    "    solver.save_vehicle_events('optimized_vehicle_events')\n",
    "    solver.save_drone_events('optimized_drone_events')\n",
    "    "
   ]
  },
  {
   "cell_type": "code",
   "execution_count": null,
   "metadata": {},
   "outputs": [],
   "source": []
  }
 ],
 "metadata": {
  "kernelspec": {
   "display_name": "random",
   "language": "python",
   "name": "python3"
  },
  "language_info": {
   "codemirror_mode": {
    "name": "ipython",
    "version": 3
   },
   "file_extension": ".py",
   "mimetype": "text/x-python",
   "name": "python",
   "nbconvert_exporter": "python",
   "pygments_lexer": "ipython3",
   "version": "3.9.18"
  }
 },
 "nbformat": 4,
 "nbformat_minor": 2
}
