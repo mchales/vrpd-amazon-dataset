{
 "cells": [
  {
   "cell_type": "code",
   "execution_count": 1,
   "metadata": {},
   "outputs": [],
   "source": [
    "import pandas as pd\n",
    "import json\n",
    "from geopy.distance import geodesic\n",
    "import plotly.express as px\n",
    "import plotly.graph_objects as go\n",
    "import os"
   ]
  },
  {
   "cell_type": "code",
   "execution_count": 2,
   "metadata": {},
   "outputs": [],
   "source": [
    "BASE_PATH = '../almrrc2021/almrrc2021-data-training/model_build_inputs/'"
   ]
  },
  {
   "cell_type": "code",
   "execution_count": 3,
   "metadata": {},
   "outputs": [],
   "source": [
    "# DRONE CONSTANTS\n",
    "DRONE_MAX_SPEED = 7  # m/s\n",
    "DRONE_DEPTH = 30 # cm\n",
    "DRONE_HEIGHT = 25 # cm\n",
    "DRONE_WIDTH = 30 # cm\n",
    "DRONE_LOADING = 15 # seconds\n",
    "DRONE_LAUNCH = 5 # seconds\n",
    "DRONE_LAND = 5 # seconds"
   ]
  },
  {
   "cell_type": "code",
   "execution_count": 4,
   "metadata": {},
   "outputs": [
    {
     "data": {
      "text/html": [
       "<div>\n",
       "<style scoped>\n",
       "    .dataframe tbody tr th:only-of-type {\n",
       "        vertical-align: middle;\n",
       "    }\n",
       "\n",
       "    .dataframe tbody tr th {\n",
       "        vertical-align: top;\n",
       "    }\n",
       "\n",
       "    .dataframe thead th {\n",
       "        text-align: right;\n",
       "    }\n",
       "</style>\n",
       "<table border=\"1\" class=\"dataframe\">\n",
       "  <thead>\n",
       "    <tr style=\"text-align: right;\">\n",
       "      <th></th>\n",
       "      <th>route_id</th>\n",
       "      <th>stop_id</th>\n",
       "      <th>package_id</th>\n",
       "      <th>scan_status</th>\n",
       "      <th>start_time_utc</th>\n",
       "      <th>end_time_utc</th>\n",
       "      <th>planned_service_time_seconds</th>\n",
       "      <th>depth_cm</th>\n",
       "      <th>height_cm</th>\n",
       "      <th>width_cm</th>\n",
       "    </tr>\n",
       "  </thead>\n",
       "  <tbody>\n",
       "    <tr>\n",
       "      <th>0</th>\n",
       "      <td>RouteID_00143bdd-0a6b-49ec-bb35-36593d303e77</td>\n",
       "      <td>AD</td>\n",
       "      <td>PackageID_9d7fdd03-f2cf-4c6f-9128-028258fc09ea</td>\n",
       "      <td>DELIVERED</td>\n",
       "      <td>NaN</td>\n",
       "      <td>NaN</td>\n",
       "      <td>59.3</td>\n",
       "      <td>25.4</td>\n",
       "      <td>7.6</td>\n",
       "      <td>17.8</td>\n",
       "    </tr>\n",
       "    <tr>\n",
       "      <th>1</th>\n",
       "      <td>RouteID_00143bdd-0a6b-49ec-bb35-36593d303e77</td>\n",
       "      <td>AD</td>\n",
       "      <td>PackageID_5541e679-b7bd-4992-b288-e862f6c84ae7</td>\n",
       "      <td>DELIVERED</td>\n",
       "      <td>2018-07-27 16:00:00</td>\n",
       "      <td>2018-07-28 00:00:00</td>\n",
       "      <td>59.3</td>\n",
       "      <td>25.4</td>\n",
       "      <td>12.7</td>\n",
       "      <td>17.8</td>\n",
       "    </tr>\n",
       "    <tr>\n",
       "      <th>2</th>\n",
       "      <td>RouteID_00143bdd-0a6b-49ec-bb35-36593d303e77</td>\n",
       "      <td>AD</td>\n",
       "      <td>PackageID_84d0295b-1adb-4a33-a65e-f7d6247c7a07</td>\n",
       "      <td>DELIVERED</td>\n",
       "      <td>NaN</td>\n",
       "      <td>NaN</td>\n",
       "      <td>59.3</td>\n",
       "      <td>39.4</td>\n",
       "      <td>7.6</td>\n",
       "      <td>31.8</td>\n",
       "    </tr>\n",
       "    <tr>\n",
       "      <th>3</th>\n",
       "      <td>RouteID_00143bdd-0a6b-49ec-bb35-36593d303e77</td>\n",
       "      <td>AF</td>\n",
       "      <td>PackageID_15c6a204-ec5f-4ced-9c3d-472316cc7759</td>\n",
       "      <td>DELIVERED</td>\n",
       "      <td>2018-07-27 16:00:00</td>\n",
       "      <td>2018-07-28 00:00:00</td>\n",
       "      <td>27.0</td>\n",
       "      <td>30.0</td>\n",
       "      <td>3.0</td>\n",
       "      <td>27.4</td>\n",
       "    </tr>\n",
       "    <tr>\n",
       "      <th>4</th>\n",
       "      <td>RouteID_00143bdd-0a6b-49ec-bb35-36593d303e77</td>\n",
       "      <td>AG</td>\n",
       "      <td>PackageID_3b28f781-242e-416e-9575-84c7188b8208</td>\n",
       "      <td>DELIVERED</td>\n",
       "      <td>NaN</td>\n",
       "      <td>NaN</td>\n",
       "      <td>45.0</td>\n",
       "      <td>25.4</td>\n",
       "      <td>12.7</td>\n",
       "      <td>17.8</td>\n",
       "    </tr>\n",
       "  </tbody>\n",
       "</table>\n",
       "</div>"
      ],
      "text/plain": [
       "                                       route_id stop_id  \\\n",
       "0  RouteID_00143bdd-0a6b-49ec-bb35-36593d303e77      AD   \n",
       "1  RouteID_00143bdd-0a6b-49ec-bb35-36593d303e77      AD   \n",
       "2  RouteID_00143bdd-0a6b-49ec-bb35-36593d303e77      AD   \n",
       "3  RouteID_00143bdd-0a6b-49ec-bb35-36593d303e77      AF   \n",
       "4  RouteID_00143bdd-0a6b-49ec-bb35-36593d303e77      AG   \n",
       "\n",
       "                                       package_id scan_status  \\\n",
       "0  PackageID_9d7fdd03-f2cf-4c6f-9128-028258fc09ea   DELIVERED   \n",
       "1  PackageID_5541e679-b7bd-4992-b288-e862f6c84ae7   DELIVERED   \n",
       "2  PackageID_84d0295b-1adb-4a33-a65e-f7d6247c7a07   DELIVERED   \n",
       "3  PackageID_15c6a204-ec5f-4ced-9c3d-472316cc7759   DELIVERED   \n",
       "4  PackageID_3b28f781-242e-416e-9575-84c7188b8208   DELIVERED   \n",
       "\n",
       "        start_time_utc         end_time_utc  planned_service_time_seconds  \\\n",
       "0                  NaN                  NaN                          59.3   \n",
       "1  2018-07-27 16:00:00  2018-07-28 00:00:00                          59.3   \n",
       "2                  NaN                  NaN                          59.3   \n",
       "3  2018-07-27 16:00:00  2018-07-28 00:00:00                          27.0   \n",
       "4                  NaN                  NaN                          45.0   \n",
       "\n",
       "   depth_cm  height_cm  width_cm  \n",
       "0      25.4        7.6      17.8  \n",
       "1      25.4       12.7      17.8  \n",
       "2      39.4        7.6      31.8  \n",
       "3      30.0        3.0      27.4  \n",
       "4      25.4       12.7      17.8  "
      ]
     },
     "execution_count": 4,
     "metadata": {},
     "output_type": "execute_result"
    }
   ],
   "source": [
    "# Loading all the package data\n",
    "\n",
    "package_data = json.load(open(BASE_PATH + 'package_data.json'))\n",
    "\n",
    "flattened_package_data = []\n",
    "for route_id, stops in package_data.items():\n",
    "    for stop_id, packages in stops.items():\n",
    "        for package_id, details in packages.items():\n",
    "            record = {\n",
    "                \"route_id\": route_id,\n",
    "                \"stop_id\": stop_id,\n",
    "                \"package_id\": package_id,\n",
    "                \"scan_status\": details[\"scan_status\"] if \"scan_status\" in details else None, # note model_apply_inputs does not have scan_status, model_build_inputs does\n",
    "                \"start_time_utc\": details[\"time_window\"][\"start_time_utc\"],\n",
    "                \"end_time_utc\": details[\"time_window\"][\"end_time_utc\"],\n",
    "                \"planned_service_time_seconds\": details[\"planned_service_time_seconds\"],\n",
    "                \"depth_cm\": details[\"dimensions\"][\"depth_cm\"],\n",
    "                \"height_cm\": details[\"dimensions\"][\"height_cm\"],\n",
    "                \"width_cm\": details[\"dimensions\"][\"width_cm\"],\n",
    "            }\n",
    "            flattened_package_data.append(record)\n",
    "\n",
    "package_data_df = pd.DataFrame(flattened_package_data)\n",
    "\n",
    "package_data_df.head()"
   ]
  },
  {
   "cell_type": "code",
   "execution_count": 5,
   "metadata": {},
   "outputs": [
    {
     "data": {
      "text/html": [
       "<div>\n",
       "<style scoped>\n",
       "    .dataframe tbody tr th:only-of-type {\n",
       "        vertical-align: middle;\n",
       "    }\n",
       "\n",
       "    .dataframe tbody tr th {\n",
       "        vertical-align: top;\n",
       "    }\n",
       "\n",
       "    .dataframe thead th {\n",
       "        text-align: right;\n",
       "    }\n",
       "</style>\n",
       "<table border=\"1\" class=\"dataframe\">\n",
       "  <thead>\n",
       "    <tr style=\"text-align: right;\">\n",
       "      <th></th>\n",
       "      <th>route_id</th>\n",
       "      <th>station_code</th>\n",
       "      <th>date</th>\n",
       "      <th>departure_time_utc</th>\n",
       "      <th>executor_capacity_cm3</th>\n",
       "      <th>route_score</th>\n",
       "      <th>stop_id</th>\n",
       "      <th>lat</th>\n",
       "      <th>lng</th>\n",
       "      <th>type</th>\n",
       "      <th>zone_id</th>\n",
       "    </tr>\n",
       "  </thead>\n",
       "  <tbody>\n",
       "    <tr>\n",
       "      <th>0</th>\n",
       "      <td>RouteID_00143bdd-0a6b-49ec-bb35-36593d303e77</td>\n",
       "      <td>DLA3</td>\n",
       "      <td>2018-07-27</td>\n",
       "      <td>16:02:10</td>\n",
       "      <td>3313071.0</td>\n",
       "      <td>High</td>\n",
       "      <td>AD</td>\n",
       "      <td>34.099611</td>\n",
       "      <td>-118.283062</td>\n",
       "      <td>Dropoff</td>\n",
       "      <td>P-12.3C</td>\n",
       "    </tr>\n",
       "    <tr>\n",
       "      <th>1</th>\n",
       "      <td>RouteID_00143bdd-0a6b-49ec-bb35-36593d303e77</td>\n",
       "      <td>DLA3</td>\n",
       "      <td>2018-07-27</td>\n",
       "      <td>16:02:10</td>\n",
       "      <td>3313071.0</td>\n",
       "      <td>High</td>\n",
       "      <td>AF</td>\n",
       "      <td>34.101587</td>\n",
       "      <td>-118.291125</td>\n",
       "      <td>Dropoff</td>\n",
       "      <td>A-1.2D</td>\n",
       "    </tr>\n",
       "    <tr>\n",
       "      <th>2</th>\n",
       "      <td>RouteID_00143bdd-0a6b-49ec-bb35-36593d303e77</td>\n",
       "      <td>DLA3</td>\n",
       "      <td>2018-07-27</td>\n",
       "      <td>16:02:10</td>\n",
       "      <td>3313071.0</td>\n",
       "      <td>High</td>\n",
       "      <td>AG</td>\n",
       "      <td>34.089727</td>\n",
       "      <td>-118.285530</td>\n",
       "      <td>Dropoff</td>\n",
       "      <td>A-2.1A</td>\n",
       "    </tr>\n",
       "    <tr>\n",
       "      <th>3</th>\n",
       "      <td>RouteID_00143bdd-0a6b-49ec-bb35-36593d303e77</td>\n",
       "      <td>DLA3</td>\n",
       "      <td>2018-07-27</td>\n",
       "      <td>16:02:10</td>\n",
       "      <td>3313071.0</td>\n",
       "      <td>High</td>\n",
       "      <td>BA</td>\n",
       "      <td>34.096132</td>\n",
       "      <td>-118.292869</td>\n",
       "      <td>Dropoff</td>\n",
       "      <td>A-1.2C</td>\n",
       "    </tr>\n",
       "    <tr>\n",
       "      <th>4</th>\n",
       "      <td>RouteID_00143bdd-0a6b-49ec-bb35-36593d303e77</td>\n",
       "      <td>DLA3</td>\n",
       "      <td>2018-07-27</td>\n",
       "      <td>16:02:10</td>\n",
       "      <td>3313071.0</td>\n",
       "      <td>High</td>\n",
       "      <td>BE</td>\n",
       "      <td>34.098482</td>\n",
       "      <td>-118.286243</td>\n",
       "      <td>Dropoff</td>\n",
       "      <td>P-13.3B</td>\n",
       "    </tr>\n",
       "  </tbody>\n",
       "</table>\n",
       "</div>"
      ],
      "text/plain": [
       "                                       route_id station_code        date  \\\n",
       "0  RouteID_00143bdd-0a6b-49ec-bb35-36593d303e77         DLA3  2018-07-27   \n",
       "1  RouteID_00143bdd-0a6b-49ec-bb35-36593d303e77         DLA3  2018-07-27   \n",
       "2  RouteID_00143bdd-0a6b-49ec-bb35-36593d303e77         DLA3  2018-07-27   \n",
       "3  RouteID_00143bdd-0a6b-49ec-bb35-36593d303e77         DLA3  2018-07-27   \n",
       "4  RouteID_00143bdd-0a6b-49ec-bb35-36593d303e77         DLA3  2018-07-27   \n",
       "\n",
       "  departure_time_utc  executor_capacity_cm3 route_score stop_id        lat  \\\n",
       "0           16:02:10              3313071.0        High      AD  34.099611   \n",
       "1           16:02:10              3313071.0        High      AF  34.101587   \n",
       "2           16:02:10              3313071.0        High      AG  34.089727   \n",
       "3           16:02:10              3313071.0        High      BA  34.096132   \n",
       "4           16:02:10              3313071.0        High      BE  34.098482   \n",
       "\n",
       "          lng     type  zone_id  \n",
       "0 -118.283062  Dropoff  P-12.3C  \n",
       "1 -118.291125  Dropoff   A-1.2D  \n",
       "2 -118.285530  Dropoff   A-2.1A  \n",
       "3 -118.292869  Dropoff   A-1.2C  \n",
       "4 -118.286243  Dropoff  P-13.3B  "
      ]
     },
     "execution_count": 5,
     "metadata": {},
     "output_type": "execute_result"
    }
   ],
   "source": [
    "# Loading all the route data\n",
    "\n",
    "route_data = json.load(open(BASE_PATH + 'route_data.json'))\n",
    "\n",
    "flattened_route_data = []\n",
    "\n",
    "for route_id, info in route_data.items():\n",
    "    for stop_id, stop_details in info['stops'].items():\n",
    "        flattened_route_data.append({\n",
    "            \"route_id\": route_id,\n",
    "            \"station_code\": info['station_code'],\n",
    "            \"date\": info['date_YYYY_MM_DD'],\n",
    "            \"departure_time_utc\": info['departure_time_utc'],\n",
    "            \"executor_capacity_cm3\": info['executor_capacity_cm3'],\n",
    "            \"route_score\": info['route_score'],\n",
    "            \"stop_id\": stop_id,\n",
    "            \"lat\": stop_details['lat'],\n",
    "            \"lng\": stop_details['lng'],\n",
    "            \"type\": stop_details['type'],\n",
    "            \"zone_id\": stop_details['zone_id']\n",
    "        })\n",
    "\n",
    "route_data_df = pd.DataFrame(flattened_route_data)\n",
    "\n",
    "route_data_df.head()"
   ]
  },
  {
   "cell_type": "code",
   "execution_count": 6,
   "metadata": {},
   "outputs": [],
   "source": [
    "vehicle_travel_times = json.load(open(BASE_PATH + 'travel_times.json'))"
   ]
  },
  {
   "cell_type": "code",
   "execution_count": 7,
   "metadata": {},
   "outputs": [],
   "source": [
    "def get_data_for_route(route_id):\n",
    "    package_data = package_data_df[package_data_df['route_id'] == route_id]\n",
    "    route_data = route_data_df[route_data_df['route_id'] == route_id]\n",
    "    travel_times_route = vehicle_travel_times[route_id]\n",
    "\n",
    "    return package_data.copy(), route_data.copy(), travel_times_route.copy()"
   ]
  },
  {
   "cell_type": "code",
   "execution_count": 8,
   "metadata": {},
   "outputs": [],
   "source": [
    "# Given route data, it will return a dictionary\n",
    "def calculate_drone_travel_time(route_data):\n",
    "  drone_travel_time = {}\n",
    "\n",
    "  for _, base_row in route_data.iterrows():\n",
    "    drone_travel_time[base_row['stop_id']] = {}\n",
    "\n",
    "    # calculate travel time to every other stop in the route\n",
    "    for _, other_row in route_data.iterrows():\n",
    "      if base_row['stop_id'] != other_row['stop_id']:\n",
    "        base_location = (base_row['lat'], base_row['lng'])\n",
    "        other_location = (other_row['lat'], other_row['lng'])\n",
    "\n",
    "        distance = geodesic(base_location, other_location).meters\n",
    "\n",
    "        drone_travel_time[base_row['stop_id']][other_row['stop_id']] = distance / DRONE_MAX_SPEED\n",
    "        # drone_travel_time[base_row['stop_id']][other_row['stop_id']] += 10 # 5 second rise, 5 second drop\n",
    "\n",
    "      else:\n",
    "        drone_travel_time[base_row['stop_id']][other_row['stop_id']] = 0\n",
    "\n",
    "  return drone_travel_time"
   ]
  },
  {
   "cell_type": "code",
   "execution_count": 9,
   "metadata": {},
   "outputs": [],
   "source": [
    "# Instead of getting a random route we will get a route for which we have the proposed sequence\n",
    "\n",
    "with open('proposed_sequences.json') as file:\n",
    "    proposed_sequences_json = json.load(file)\n",
    "\n",
    "proposed_route_ids = list(proposed_sequences_json.keys())"
   ]
  },
  {
   "cell_type": "code",
   "execution_count": 10,
   "metadata": {},
   "outputs": [],
   "source": [
    "route_id = proposed_route_ids[0]\n",
    "package_data_route_df, route_data_route_df, vehicle_travel_times_route = get_data_for_route(route_id)\n",
    "drone_travel_times_route = calculate_drone_travel_time(route_data_route_df)"
   ]
  },
  {
   "cell_type": "code",
   "execution_count": 11,
   "metadata": {},
   "outputs": [],
   "source": [
    "# Determining if each package can be delivered by a drone\n",
    "package_data_route_df['drone_possible'] = (package_data_route_df['depth_cm'] < DRONE_DEPTH) & (package_data_route_df['height_cm'] < DRONE_HEIGHT) & (package_data_route_df['width_cm'] < DRONE_WIDTH)"
   ]
  },
  {
   "cell_type": "code",
   "execution_count": 12,
   "metadata": {},
   "outputs": [],
   "source": [
    "package_info_agg = package_data_route_df.groupby('stop_id').apply(\n",
    "    lambda x: pd.Series({\n",
    "        'packages': x[['package_id', 'depth_cm', 'height_cm', 'width_cm']].to_dict('records'),\n",
    "        'num_packages': len(x),\n",
    "        'drone_possible': (len(x) == 1) and (x['drone_possible'].iloc[0] == True),\n",
    "        'service_time_seconds': x['planned_service_time_seconds'].mean() # Not sure if this should be sum or average. https://github.com/MIT-CAVE/rc-cli/blob/main/templates/data_structures.md\n",
    "    })\n",
    ").reset_index()"
   ]
  },
  {
   "cell_type": "code",
   "execution_count": 13,
   "metadata": {},
   "outputs": [
    {
     "data": {
      "text/html": [
       "<div>\n",
       "<style scoped>\n",
       "    .dataframe tbody tr th:only-of-type {\n",
       "        vertical-align: middle;\n",
       "    }\n",
       "\n",
       "    .dataframe tbody tr th {\n",
       "        vertical-align: top;\n",
       "    }\n",
       "\n",
       "    .dataframe thead th {\n",
       "        text-align: right;\n",
       "    }\n",
       "</style>\n",
       "<table border=\"1\" class=\"dataframe\">\n",
       "  <thead>\n",
       "    <tr style=\"text-align: right;\">\n",
       "      <th></th>\n",
       "      <th>route_id</th>\n",
       "      <th>station_code</th>\n",
       "      <th>date</th>\n",
       "      <th>departure_time_utc</th>\n",
       "      <th>executor_capacity_cm3</th>\n",
       "      <th>route_score</th>\n",
       "      <th>stop_id</th>\n",
       "      <th>lat</th>\n",
       "      <th>lng</th>\n",
       "      <th>type</th>\n",
       "      <th>zone_id</th>\n",
       "      <th>packages</th>\n",
       "      <th>num_packages</th>\n",
       "      <th>drone_possible</th>\n",
       "      <th>service_time_seconds</th>\n",
       "    </tr>\n",
       "  </thead>\n",
       "  <tbody>\n",
       "    <tr>\n",
       "      <th>0</th>\n",
       "      <td>RouteID_a2c4695d-dcad-4975-84e6-c6b249c644ed</td>\n",
       "      <td>DCH2</td>\n",
       "      <td>2018-07-21</td>\n",
       "      <td>15:07:57</td>\n",
       "      <td>3313071.0</td>\n",
       "      <td>High</td>\n",
       "      <td>AK</td>\n",
       "      <td>41.998574</td>\n",
       "      <td>-87.801173</td>\n",
       "      <td>Dropoff</td>\n",
       "      <td>E-7.1A</td>\n",
       "      <td>[{'package_id': 'PackageID_45172842-41b8-411b-...</td>\n",
       "      <td>4.0</td>\n",
       "      <td>False</td>\n",
       "      <td>62.8</td>\n",
       "    </tr>\n",
       "    <tr>\n",
       "      <th>1</th>\n",
       "      <td>RouteID_a2c4695d-dcad-4975-84e6-c6b249c644ed</td>\n",
       "      <td>DCH2</td>\n",
       "      <td>2018-07-21</td>\n",
       "      <td>15:07:57</td>\n",
       "      <td>3313071.0</td>\n",
       "      <td>High</td>\n",
       "      <td>AL</td>\n",
       "      <td>41.996075</td>\n",
       "      <td>-87.792091</td>\n",
       "      <td>Dropoff</td>\n",
       "      <td>E-7.2B</td>\n",
       "      <td>[{'package_id': 'PackageID_0d19491c-6a2b-4dd3-...</td>\n",
       "      <td>1.0</td>\n",
       "      <td>False</td>\n",
       "      <td>77.0</td>\n",
       "    </tr>\n",
       "    <tr>\n",
       "      <th>2</th>\n",
       "      <td>RouteID_a2c4695d-dcad-4975-84e6-c6b249c644ed</td>\n",
       "      <td>DCH2</td>\n",
       "      <td>2018-07-21</td>\n",
       "      <td>15:07:57</td>\n",
       "      <td>3313071.0</td>\n",
       "      <td>High</td>\n",
       "      <td>AM</td>\n",
       "      <td>42.004423</td>\n",
       "      <td>-87.815098</td>\n",
       "      <td>Dropoff</td>\n",
       "      <td>E-6.1D</td>\n",
       "      <td>[{'package_id': 'PackageID_43c7fe5e-e0fd-4d15-...</td>\n",
       "      <td>3.0</td>\n",
       "      <td>False</td>\n",
       "      <td>15.0</td>\n",
       "    </tr>\n",
       "    <tr>\n",
       "      <th>3</th>\n",
       "      <td>RouteID_a2c4695d-dcad-4975-84e6-c6b249c644ed</td>\n",
       "      <td>DCH2</td>\n",
       "      <td>2018-07-21</td>\n",
       "      <td>15:07:57</td>\n",
       "      <td>3313071.0</td>\n",
       "      <td>High</td>\n",
       "      <td>AS</td>\n",
       "      <td>41.999975</td>\n",
       "      <td>-87.803708</td>\n",
       "      <td>Dropoff</td>\n",
       "      <td>E-7.1A</td>\n",
       "      <td>[{'package_id': 'PackageID_f97b5cbe-99fe-4cee-...</td>\n",
       "      <td>1.0</td>\n",
       "      <td>False</td>\n",
       "      <td>41.0</td>\n",
       "    </tr>\n",
       "    <tr>\n",
       "      <th>4</th>\n",
       "      <td>RouteID_a2c4695d-dcad-4975-84e6-c6b249c644ed</td>\n",
       "      <td>DCH2</td>\n",
       "      <td>2018-07-21</td>\n",
       "      <td>15:07:57</td>\n",
       "      <td>3313071.0</td>\n",
       "      <td>High</td>\n",
       "      <td>AT</td>\n",
       "      <td>41.998229</td>\n",
       "      <td>-87.795140</td>\n",
       "      <td>Dropoff</td>\n",
       "      <td>E-7.3B</td>\n",
       "      <td>[{'package_id': 'PackageID_7bce942f-9082-42af-...</td>\n",
       "      <td>1.0</td>\n",
       "      <td>False</td>\n",
       "      <td>50.0</td>\n",
       "    </tr>\n",
       "  </tbody>\n",
       "</table>\n",
       "</div>"
      ],
      "text/plain": [
       "                                       route_id station_code        date  \\\n",
       "0  RouteID_a2c4695d-dcad-4975-84e6-c6b249c644ed         DCH2  2018-07-21   \n",
       "1  RouteID_a2c4695d-dcad-4975-84e6-c6b249c644ed         DCH2  2018-07-21   \n",
       "2  RouteID_a2c4695d-dcad-4975-84e6-c6b249c644ed         DCH2  2018-07-21   \n",
       "3  RouteID_a2c4695d-dcad-4975-84e6-c6b249c644ed         DCH2  2018-07-21   \n",
       "4  RouteID_a2c4695d-dcad-4975-84e6-c6b249c644ed         DCH2  2018-07-21   \n",
       "\n",
       "  departure_time_utc  executor_capacity_cm3 route_score stop_id        lat  \\\n",
       "0           15:07:57              3313071.0        High      AK  41.998574   \n",
       "1           15:07:57              3313071.0        High      AL  41.996075   \n",
       "2           15:07:57              3313071.0        High      AM  42.004423   \n",
       "3           15:07:57              3313071.0        High      AS  41.999975   \n",
       "4           15:07:57              3313071.0        High      AT  41.998229   \n",
       "\n",
       "         lng     type zone_id  \\\n",
       "0 -87.801173  Dropoff  E-7.1A   \n",
       "1 -87.792091  Dropoff  E-7.2B   \n",
       "2 -87.815098  Dropoff  E-6.1D   \n",
       "3 -87.803708  Dropoff  E-7.1A   \n",
       "4 -87.795140  Dropoff  E-7.3B   \n",
       "\n",
       "                                            packages  num_packages  \\\n",
       "0  [{'package_id': 'PackageID_45172842-41b8-411b-...           4.0   \n",
       "1  [{'package_id': 'PackageID_0d19491c-6a2b-4dd3-...           1.0   \n",
       "2  [{'package_id': 'PackageID_43c7fe5e-e0fd-4d15-...           3.0   \n",
       "3  [{'package_id': 'PackageID_f97b5cbe-99fe-4cee-...           1.0   \n",
       "4  [{'package_id': 'PackageID_7bce942f-9082-42af-...           1.0   \n",
       "\n",
       "  drone_possible  service_time_seconds  \n",
       "0          False                  62.8  \n",
       "1          False                  77.0  \n",
       "2          False                  15.0  \n",
       "3          False                  41.0  \n",
       "4          False                  50.0  "
      ]
     },
     "execution_count": 13,
     "metadata": {},
     "output_type": "execute_result"
    }
   ],
   "source": [
    "route_data_route_df = pd.merge(route_data_route_df, package_info_agg, how='left', on='stop_id')\n",
    "route_data_route_df.head()"
   ]
  },
  {
   "cell_type": "code",
   "execution_count": 14,
   "metadata": {},
   "outputs": [],
   "source": [
    "proposed_sequences = json.load(open('proposed_sequences.json'))"
   ]
  },
  {
   "cell_type": "code",
   "execution_count": 15,
   "metadata": {},
   "outputs": [],
   "source": [
    "def sequence_to_stops_for_route(route_id):\n",
    "\n",
    "    route_sequence = proposed_sequences[route_id]['proposed']\n",
    "    \n",
    "    # Sorting them by their order\n",
    "    route_sequence_sorted = dict(sorted(route_sequence.items(), key=lambda item: item[1]))\n",
    "\n",
    "    # Converting keys to an array\n",
    "    route_sequence_sorted = list(route_sequence_sorted.keys())\n",
    "\n",
    "    # The last stop to the station (first stop) is not included in the sequence so we will manually add it\n",
    "    route_sequence_sorted.append(route_sequence_sorted[0])\n",
    "\n",
    "    return route_sequence_sorted"
   ]
  },
  {
   "cell_type": "code",
   "execution_count": 16,
   "metadata": {},
   "outputs": [],
   "source": [
    "# Both\n",
    "LOAD_START = 'LOAD_START'\n",
    "LOAD_END = 'LOAD_END'\n",
    "ARRIVE = 'ARRIVE'\n",
    "DEPART = 'DEPART'\n",
    "\n",
    "# Vehicle\n",
    "SERVICE_START = 'SERVICE_START'\n",
    "SERVICE_END = 'SERVICE_END'\n",
    "\n",
    "\n",
    "# Drone\n",
    "LAUNCH = 'LAUNCH'\n",
    "DRONE_DELIVERY_START = 'DRONE_DELIVERY_START'\n",
    "DRONE_DELIVERY_END = 'DRONE_DELIVERY_END'\n",
    "LAND = 'LAND'"
   ]
  },
  {
   "cell_type": "code",
   "execution_count": 17,
   "metadata": {},
   "outputs": [],
   "source": [
    "class Event:\n",
    "  def __init__(self, event_type, stop_id, time, data): # data holds extra information, like coordinates\n",
    "    self.event_type = event_type\n",
    "    self.stop_id = stop_id\n",
    "    self.time = time\n",
    "    self.data = data\n",
    "\n",
    "  def __str__(self):\n",
    "    return f\"{self.event_type} {self.stop_id} {round(self.time, 1)} {self.data}\"\n",
    "\n",
    "  def to_dict(self):\n",
    "    # Convert the event to a dictionary\n",
    "    return {\n",
    "        'event_type': self.event_type,\n",
    "        'stop_id': self.stop_id,\n",
    "        'time': self.time,\n",
    "        'coordinates': self.data,\n",
    "    }"
   ]
  },
  {
   "cell_type": "code",
   "execution_count": 18,
   "metadata": {},
   "outputs": [],
   "source": [
    "class VRPDSolver():\n",
    "    def __init__(self, route_id, sequence, package_data, route_data, vehicle_travel_times, drone_travel_times):\n",
    "        self.route_id = route_id\n",
    "        self.sequence = sequence\n",
    "        self.package_data = package_data\n",
    "        self.route_data = route_data\n",
    "        self.vehicle_travel_times = vehicle_travel_times\n",
    "        self.drone_travel_times = drone_travel_times\n",
    "\n",
    "        self.vehicle_events = []\n",
    "        self.vehicle_path = []\n",
    "        self.drone_events = []\n",
    "        self.drone_path = []\n",
    "        self.final_time = 0\n",
    "    \n",
    "    \n",
    "    def find_drone_uses(self):\n",
    "        drone_possible_sequence = []\n",
    "\n",
    "        for stop_id in self.sequence:\n",
    "            stop_row = self.route_data[self.route_data['stop_id'] == stop_id]\n",
    "            \n",
    "            drone_possible = 1 if stop_row['drone_possible'].values[0] else 0\n",
    "            \n",
    "            # can't use drone for station\n",
    "            if stop_id == self.sequence[0]:\n",
    "                drone_possible = 0\n",
    "        \n",
    "            drone_possible_sequence.append(drone_possible)\n",
    "\n",
    "        return drone_possible_sequence\n",
    "    \n",
    "    def drone_save_time(self, drone_possible_sequence):\n",
    "        time_saved = [-1]*len(self.sequence)\n",
    "        for i in range(2, len(self.sequence) - 2):\n",
    "            if drone_possible_sequence[i] == 1:\n",
    "                vehicle_time = 0\n",
    "                drone_time = 0\n",
    "                vehicle_drone_time = 0\n",
    "                \n",
    "                vehicle_time += self.vehicle_travel_times[self.sequence[i-1]][self.sequence[i]]\n",
    "                vehicle_time += self.vehicle_travel_times[self.sequence[i]][self.sequence[i+1]]\n",
    "                vehicle_time += self.route_data[self.route_data['stop_id'] == self.sequence[i]]['service_time_seconds'].values[0]\n",
    "                \n",
    "                drone_time += DRONE_LOADING\n",
    "                drone_time += DRONE_LAUNCH\n",
    "                drone_time += self.drone_travel_times[self.sequence[i-1]][self.sequence[i]]\n",
    "                drone_time += DRONE_LAND + DRONE_LAUNCH\n",
    "                drone_time += self.drone_travel_times[self.sequence[i]][self.sequence[i+1]]\n",
    "                drone_time += DRONE_LAND\n",
    "                \n",
    "                vehicle_drone_time += DRONE_LOADING\n",
    "                vehicle_drone_time += self.vehicle_travel_times[self.sequence[i-1]][self.sequence[i+1]]\n",
    "                \n",
    "                max_time = max(vehicle_drone_time, drone_time)\n",
    "                \n",
    "                if max_time < vehicle_time:\n",
    "                    time_saved[i] = round(vehicle_time - max_time, 2)\n",
    "        \n",
    "        return time_saved\n",
    "    \n",
    "    def maximize_saved_time(self, time_saved):\n",
    "        n = len(time_saved)\n",
    "        dp = [0] * (n + 1)\n",
    "        for i in range(1, n + 1):\n",
    "            dp[i] = max(time_saved[i - 1] + dp[i - 2], dp[i - 1])\n",
    "        \n",
    "        drone_usage = [0] * n\n",
    "        i = n\n",
    "        while i > 0:\n",
    "            if dp[i] != dp[i - 1]:\n",
    "                drone_usage[i - 1] = 1\n",
    "                i -= 2\n",
    "            else:\n",
    "                i -= 1\n",
    "        \n",
    "        return drone_usage\n",
    "    \n",
    "    \n",
    "    def generate_vehicle_drone_path(self, drone_usage):\n",
    "        cur_coords = None\n",
    "        cur_stop = None\n",
    "        cur_time = 0\n",
    "        \n",
    "        drone_coords = None\n",
    "        drone_time = 0\n",
    "        \n",
    "        cur_stop = self.sequence[0]\n",
    "        stop = self.route_data[self.route_data['stop_id'] == cur_stop].iloc[0]\n",
    "        cur_coords = {'lat' : stop['lat'], 'lng' : stop['lng']}\n",
    "        \n",
    "        first_event = Event(DEPART, cur_stop, cur_time, cur_coords)\n",
    "        self.vehicle_events.append(first_event)\n",
    "        self.vehicle_path.append(cur_stop)\n",
    "        self.drone_events.append(first_event)\n",
    "        self.drone_path.append(cur_stop)\n",
    "        \n",
    "\n",
    "        \n",
    "        i = 1\n",
    "        while i < len(self.sequence):\n",
    "            # Traveling to the next vehicle stop, departing stop based on if a drone was used\n",
    "            if drone_usage[i - 1] == 1:\n",
    "                cur_time += self.vehicle_travel_times[self.sequence[i - 2]][self.sequence[i]]\n",
    "            else:\n",
    "                cur_time += self.vehicle_travel_times[self.sequence[i - 1]][self.sequence[i]]\n",
    "            \n",
    "            # Arrive\n",
    "            cur_stop = self.sequence[i]\n",
    "            \n",
    "            \n",
    "            stop = self.route_data[self.route_data['stop_id'] == cur_stop].iloc[0]\n",
    "            cur_coords = {'lat' : stop['lat'], 'lng' : stop['lng']}\n",
    "            arrive_event = Event(ARRIVE, cur_stop, cur_time, cur_coords)\n",
    "            self.vehicle_events.append(arrive_event)\n",
    "            self.vehicle_path.append(cur_stop)\n",
    "            \n",
    "            if cur_stop == self.sequence[-1]:\n",
    "                self.drone_events.append(arrive_event)\n",
    "                self.drone_path.append(cur_stop)\n",
    "                break\n",
    "         \n",
    "            \n",
    "            # The drone is flying and needs to land\n",
    "            landed = True\n",
    "            if drone_usage[i - 1] == 1:\n",
    "                landed = False\n",
    "            else:\n",
    "                self.drone_events.append(arrive_event)\n",
    "                self.drone_path.append(cur_stop)\n",
    "            \n",
    "            if not landed:\n",
    "                # Checks if the vehicle is at the stop  \n",
    "                if drone_time < cur_time:\n",
    "                    landed = True\n",
    "                    drone_land_event = Event(LAND, cur_stop, cur_time, cur_coords)\n",
    "                    self.drone_events.append(drone_land_event)\n",
    "                    self.drone_path.append(cur_stop)\n",
    "            \n",
    "            \n",
    "            # Driver delivers package\n",
    "            service_start_event = Event(SERVICE_START, cur_stop, cur_time, cur_coords)\n",
    "            self.vehicle_events.append(service_start_event)\n",
    "            cur_time += stop['service_time_seconds']\n",
    "            service_end_event = Event(SERVICE_END, cur_stop, cur_time, cur_coords)\n",
    "            self.vehicle_events.append(service_end_event)\n",
    "            \n",
    "            # If the drone didn't land, it will try again and make vehicle wait if needed\n",
    "            if not landed:\n",
    "                landed = True\n",
    "                if drone_time < cur_time:\n",
    "                    drone_land_event = Event(LAND, cur_stop, drone_time, cur_coords) # Note we can land on drone_time (when package is being delivered)\n",
    "                    self.drone_events.append(drone_land_event)\n",
    "                    self.drone_path.append(cur_stop)\n",
    "                else:\n",
    "                    cur_time = drone_time\n",
    "                    drone_land_event = Event(LAND, cur_stop, cur_time, cur_coords)\n",
    "                    self.drone_events.append(drone_land_event)\n",
    "                    self.drone_path.append(cur_stop)\n",
    "            \n",
    "            \n",
    "            \n",
    "            # The next stop requires a drone\n",
    "            if drone_usage[i + 1] == 1:\n",
    "                \n",
    "                # Driver loads the drone\n",
    "                load_start_event = Event(LOAD_START, cur_stop, cur_time, cur_coords)\n",
    "                self.vehicle_events.append(load_start_event)\n",
    "                self.vehicle_events.append(load_start_event)\n",
    "                cur_time += DRONE_LOADING\n",
    "                load_end_event = Event(LOAD_END, cur_stop, cur_time, cur_coords)\n",
    "                self.vehicle_events.append(load_end_event)\n",
    "                self.drone_events.append(load_end_event)\n",
    "                \n",
    "                # Drone flies to the next stop\n",
    "                drone_time = cur_time\n",
    "                drone_launch_event = Event(LAUNCH, cur_stop, drone_time, cur_coords)\n",
    "                self.drone_events.append(drone_launch_event)\n",
    "                drone_time += DRONE_LAUNCH\n",
    "                drone_time += self.drone_travel_times[cur_stop][self.sequence[i + 1]]\n",
    "                drone_stop = self.route_data[self.route_data['stop_id'] == self.sequence[i + 1]].iloc[0]\n",
    "                drone_coords = {'lat' : drone_stop['lat'], 'lng' : drone_stop['lng']}\n",
    "                drone_arrive_event = Event(DRONE_DELIVERY_START, self.sequence[i + 1], drone_time, drone_coords)\n",
    "                self.drone_events.append(drone_arrive_event)\n",
    "                drone_time += DRONE_LAND + DRONE_LAUNCH\n",
    "                self.drone_path.append(self.sequence[i + 1])\n",
    "                drone_depart_event = Event(DRONE_DELIVERY_END, self.sequence[i + 1], drone_time, drone_coords)\n",
    "                self.drone_events.append(drone_depart_event)\n",
    "                # Drone flies to meet back up with the vehicle\n",
    "                drone_time += self.drone_travel_times[self.sequence[i + 1]][self.sequence[i + 2]]\n",
    "                \n",
    "                # We iterate i because the vehicle will skip the stop\n",
    "                i += 1\n",
    "                \n",
    "            else: # The driver departs\n",
    "                depart_event = Event(DEPART, cur_stop, cur_time, cur_coords)\n",
    "                self.vehicle_events.append(depart_event)\n",
    "            \n",
    "            i += 1\n",
    "                \n",
    "                \n",
    "            \n",
    "    \n",
    "        \n",
    "        \n",
    "    \n",
    "    def print_vehicle_path(self):\n",
    "          print(self.vehicle_path)  # Ensure vehicle_path is correctly converted to string\n",
    "\n",
    "    def print_vehicle_events(self):\n",
    "          for event in self.vehicle_events:\n",
    "              print(event)  # Convert Event object to string\n",
    "    \n",
    "    def print_drone_path(self):\n",
    "          print(self.drone_path)  # Ensure drone_path is correctly converted to string\n",
    "\n",
    "    def print_drone_events(self):\n",
    "        for event in self.drone_events:\n",
    "            print(event)\n",
    "    \n",
    "    def save_vehicle_path(self, path):\n",
    "        os.makedirs(path, exist_ok=True)\n",
    "        path_json = []\n",
    "        for i, stop_id in enumerate(self.vehicle_path):\n",
    "            stop = self.route_data[self.route_data['stop_id'] == stop_id].iloc[0]\n",
    "            vehicle_coords = {'lat' : stop['lat'], 'lng' : stop['lng']}\n",
    "            path_json.append({\"id\": i+1, \"stop\": stop_id, \"coordinates\": vehicle_coords})\n",
    "\n",
    "        with open(f\"{path}/{self.route_id}_vehicle_path.json\", 'w') as file:\n",
    "            json.dump(path_json, file, indent=4)\n",
    "\n",
    "    def save_drone_path(self, path):\n",
    "        os.makedirs(path, exist_ok=True)\n",
    "        path_json = []\n",
    "        for i, stop_id in enumerate(self.drone_path):\n",
    "            stop = self.route_data[self.route_data['stop_id'] == stop_id].iloc[0]\n",
    "            drone_coords = {'lat' : stop['lat'], 'lng' : stop['lng']}\n",
    "            path_json.append({\"id\": i+1, \"stop\": stop_id, \"coordinates\": drone_coords})\n",
    "\n",
    "        with open(f\"{path}/{self.route_id}_drone_path.json\", 'w') as file:\n",
    "            json.dump(path_json, file, indent=4)\n",
    "\n",
    "    def save_vehicle_events(self, path):\n",
    "        os.makedirs(path, exist_ok=True)\n",
    "        # Convert the list of events to a list of dictionaries and assign an ID to each\n",
    "        events_with_ids = [{'id': i+1, **event.to_dict()} for i, event in enumerate(self.vehicle_events)]\n",
    "        # Save the list of events as a JSON file\n",
    "        with open(f\"{path}/{self.route_id}_vehicle_events.json\", 'w') as file:\n",
    "            json.dump(events_with_ids, file, indent=4)\n",
    "\n",
    "    def save_drone_events(self, path):\n",
    "        os.makedirs(path, exist_ok=True)\n",
    "        # Convert the list of events to a list of dictionaries and assign an ID to each\n",
    "        events_with_ids = [{'id': i+1, **event.to_dict()} for i, event in enumerate(self.drone_events)]\n",
    "        # Save the list of events as a JSON file\n",
    "        with open(f\"{path}/{self.route_id}_drone_events.json\", 'w') as file:\n",
    "            json.dump(events_with_ids, file, indent=4)\n"
   ]
  },
  {
   "cell_type": "code",
   "execution_count": 19,
   "metadata": {},
   "outputs": [],
   "source": [
    "proposed_sequence = sequence_to_stops_for_route(route_id)\n",
    "test = VRPDSolver(route_id, proposed_sequence, package_data_route_df, route_data_route_df, vehicle_travel_times_route, drone_travel_times_route)\n",
    "drone_usage = test.find_drone_uses()\n",
    "time_saved = test.drone_save_time(drone_usage)\n",
    "best_drone_usage = test.maximize_saved_time(time_saved)\n",
    "test.generate_vehicle_drone_path(best_drone_usage)"
   ]
  },
  {
   "cell_type": "code",
   "execution_count": 20,
   "metadata": {},
   "outputs": [
    {
     "name": "stdout",
     "output_type": "stream",
     "text": [
      "DEPART HI 0 {'lat': 42.031368, 'lng': -87.776596}\n",
      "ARRIVE RC 281.6 {'lat': 42.034701, 'lng': -87.787183}\n",
      "SERVICE_START RC 281.6 {'lat': 42.034701, 'lng': -87.787183}\n",
      "SERVICE_END RC 497.1 {'lat': 42.034701, 'lng': -87.787183}\n",
      "DEPART RC 497.1 {'lat': 42.034701, 'lng': -87.787183}\n",
      "ARRIVE OM 513.5 {'lat': 42.0347, 'lng': -87.78652}\n",
      "SERVICE_START OM 513.5 {'lat': 42.0347, 'lng': -87.78652}\n",
      "SERVICE_END OM 534.0 {'lat': 42.0347, 'lng': -87.78652}\n",
      "LOAD_START OM 534.0 {'lat': 42.0347, 'lng': -87.78652}\n",
      "LOAD_START OM 534.0 {'lat': 42.0347, 'lng': -87.78652}\n",
      "LOAD_END OM 549.0 {'lat': 42.0347, 'lng': -87.78652}\n",
      "ARRIVE UB 1042.7 {'lat': 42.010624, 'lng': -87.794307}\n",
      "SERVICE_START UB 1042.7 {'lat': 42.010624, 'lng': -87.794307}\n",
      "SERVICE_END UB 1081.7 {'lat': 42.010624, 'lng': -87.794307}\n",
      "DEPART UB 1081.7 {'lat': 42.010624, 'lng': -87.794307}\n",
      "ARRIVE FM 1104.0 {'lat': 42.01097, 'lng': -87.795053}\n",
      "SERVICE_START FM 1104.0 {'lat': 42.01097, 'lng': -87.795053}\n",
      "SERVICE_END FM 1155.0 {'lat': 42.01097, 'lng': -87.795053}\n",
      "DEPART FM 1155.0 {'lat': 42.01097, 'lng': -87.795053}\n",
      "ARRIVE LX 1227.9 {'lat': 42.009862, 'lng': -87.797879}\n",
      "SERVICE_START LX 1227.9 {'lat': 42.009862, 'lng': -87.797879}\n",
      "SERVICE_END LX 1279.9 {'lat': 42.009862, 'lng': -87.797879}\n",
      "DEPART LX 1279.9 {'lat': 42.009862, 'lng': -87.797879}\n",
      "ARRIVE PC 1295.0 {'lat': 42.010552, 'lng': -87.798468}\n",
      "SERVICE_START PC 1295.0 {'lat': 42.010552, 'lng': -87.798468}\n",
      "SERVICE_END PC 1336.0 {'lat': 42.010552, 'lng': -87.798468}\n",
      "DEPART PC 1336.0 {'lat': 42.010552, 'lng': -87.798468}\n",
      "ARRIVE KQ 1421.1 {'lat': 42.013021, 'lng': -87.798192}\n",
      "SERVICE_START KQ 1421.1 {'lat': 42.013021, 'lng': -87.798192}\n",
      "SERVICE_END KQ 1539.1 {'lat': 42.013021, 'lng': -87.798192}\n",
      "DEPART KQ 1539.1 {'lat': 42.013021, 'lng': -87.798192}\n",
      "ARRIVE RI 1559.6 {'lat': 42.01369, 'lng': -87.79821}\n",
      "SERVICE_START RI 1559.6 {'lat': 42.01369, 'lng': -87.79821}\n",
      "SERVICE_END RI 1608.6 {'lat': 42.01369, 'lng': -87.79821}\n",
      "DEPART RI 1608.6 {'lat': 42.01369, 'lng': -87.79821}\n",
      "ARRIVE UV 1818.6 {'lat': 42.010971, 'lng': -87.801941}\n",
      "SERVICE_START UV 1818.6 {'lat': 42.010971, 'lng': -87.801941}\n",
      "SERVICE_END UV 1846.6 {'lat': 42.010971, 'lng': -87.801941}\n",
      "DEPART UV 1846.6 {'lat': 42.010971, 'lng': -87.801941}\n",
      "ARRIVE CF 1933.8 {'lat': 42.010627, 'lng': -87.800602}\n",
      "SERVICE_START CF 1933.8 {'lat': 42.010627, 'lng': -87.800602}\n",
      "SERVICE_END CF 1952.5 {'lat': 42.010627, 'lng': -87.800602}\n",
      "DEPART CF 1952.5 {'lat': 42.010627, 'lng': -87.800602}\n",
      "ARRIVE VG 2090.4 {'lat': 42.008005, 'lng': -87.79719}\n",
      "SERVICE_START VG 2090.4 {'lat': 42.008005, 'lng': -87.79719}\n",
      "SERVICE_END VG 2164.4 {'lat': 42.008005, 'lng': -87.79719}\n",
      "DEPART VG 2164.4 {'lat': 42.008005, 'lng': -87.79719}\n",
      "ARRIVE OC 2249.5 {'lat': 42.007219, 'lng': -87.795648}\n",
      "SERVICE_START OC 2249.5 {'lat': 42.007219, 'lng': -87.795648}\n",
      "SERVICE_END OC 2301.5 {'lat': 42.007219, 'lng': -87.795648}\n",
      "DEPART OC 2301.5 {'lat': 42.007219, 'lng': -87.795648}\n",
      "ARRIVE ZP 2383.8 {'lat': 42.008275, 'lng': -87.795104}\n",
      "SERVICE_START ZP 2383.8 {'lat': 42.008275, 'lng': -87.795104}\n",
      "SERVICE_END ZP 2453.3 {'lat': 42.008275, 'lng': -87.795104}\n",
      "DEPART ZP 2453.3 {'lat': 42.008275, 'lng': -87.795104}\n",
      "ARRIVE RH 2549.2 {'lat': 42.007952, 'lng': -87.796026}\n",
      "SERVICE_START RH 2549.2 {'lat': 42.007952, 'lng': -87.796026}\n",
      "SERVICE_END RH 2732.2 {'lat': 42.007952, 'lng': -87.796026}\n",
      "DEPART RH 2732.2 {'lat': 42.007952, 'lng': -87.796026}\n",
      "ARRIVE RQ 2938.8 {'lat': 42.006485, 'lng': -87.792609}\n",
      "SERVICE_START RQ 2938.8 {'lat': 42.006485, 'lng': -87.792609}\n",
      "SERVICE_END RQ 2979.5 {'lat': 42.006485, 'lng': -87.792609}\n",
      "DEPART RQ 2979.5 {'lat': 42.006485, 'lng': -87.792609}\n",
      "ARRIVE TA 3026.3 {'lat': 42.005116, 'lng': -87.792748}\n",
      "SERVICE_START TA 3026.3 {'lat': 42.005116, 'lng': -87.792748}\n",
      "SERVICE_END TA 3175.3 {'lat': 42.005116, 'lng': -87.792748}\n",
      "DEPART TA 3175.3 {'lat': 42.005116, 'lng': -87.792748}\n",
      "ARRIVE FQ 3265.1 {'lat': 42.003678, 'lng': -87.793309}\n",
      "SERVICE_START FQ 3265.1 {'lat': 42.003678, 'lng': -87.793309}\n",
      "SERVICE_END FQ 3356.4 {'lat': 42.003678, 'lng': -87.793309}\n",
      "DEPART FQ 3356.4 {'lat': 42.003678, 'lng': -87.793309}\n",
      "ARRIVE LR 3463.1 {'lat': 42.000146, 'lng': -87.79231}\n",
      "SERVICE_START LR 3463.1 {'lat': 42.000146, 'lng': -87.79231}\n",
      "SERVICE_END LR 3555.1 {'lat': 42.000146, 'lng': -87.79231}\n",
      "DEPART LR 3555.1 {'lat': 42.000146, 'lng': -87.79231}\n",
      "ARRIVE HT 3584.7 {'lat': 41.998338, 'lng': -87.79232}\n",
      "SERVICE_START HT 3584.7 {'lat': 41.998338, 'lng': -87.79232}\n",
      "SERVICE_END HT 3639.4 {'lat': 41.998338, 'lng': -87.79232}\n",
      "DEPART HT 3639.4 {'lat': 41.998338, 'lng': -87.79232}\n",
      "ARRIVE GG 3652.8 {'lat': 41.998243, 'lng': -87.792661}\n",
      "SERVICE_START GG 3652.8 {'lat': 41.998243, 'lng': -87.792661}\n",
      "SERVICE_END GG 3903.8 {'lat': 41.998243, 'lng': -87.792661}\n",
      "DEPART GG 3903.8 {'lat': 41.998243, 'lng': -87.792661}\n",
      "ARRIVE AL 3967.3 {'lat': 41.996075, 'lng': -87.792091}\n",
      "SERVICE_START AL 3967.3 {'lat': 41.996075, 'lng': -87.792091}\n",
      "SERVICE_END AL 4044.3 {'lat': 41.996075, 'lng': -87.792091}\n",
      "DEPART AL 4044.3 {'lat': 41.996075, 'lng': -87.792091}\n",
      "ARRIVE OA 4162.1 {'lat': 41.997329, 'lng': -87.791731}\n",
      "SERVICE_START OA 4162.1 {'lat': 41.997329, 'lng': -87.791731}\n",
      "SERVICE_END OA 4216.1 {'lat': 41.997329, 'lng': -87.791731}\n",
      "DEPART OA 4216.1 {'lat': 41.997329, 'lng': -87.791731}\n",
      "ARRIVE BH 4229.8 {'lat': 41.99733, 'lng': -87.793534}\n",
      "SERVICE_START BH 4229.8 {'lat': 41.99733, 'lng': -87.793534}\n",
      "SERVICE_END BH 4415.5 {'lat': 41.99733, 'lng': -87.793534}\n",
      "DEPART BH 4415.5 {'lat': 41.99733, 'lng': -87.793534}\n",
      "ARRIVE AT 4478.3 {'lat': 41.998229, 'lng': -87.79514}\n",
      "SERVICE_START AT 4478.3 {'lat': 41.998229, 'lng': -87.79514}\n",
      "SERVICE_END AT 4528.3 {'lat': 41.998229, 'lng': -87.79514}\n",
      "DEPART AT 4528.3 {'lat': 41.998229, 'lng': -87.79514}\n",
      "ARRIVE MD 4568.7 {'lat': 41.99755, 'lng': -87.79558}\n",
      "SERVICE_START MD 4568.7 {'lat': 41.99755, 'lng': -87.79558}\n",
      "SERVICE_END MD 4604.7 {'lat': 41.99755, 'lng': -87.79558}\n",
      "DEPART MD 4604.7 {'lat': 41.99755, 'lng': -87.79558}\n",
      "ARRIVE QD 4620.7 {'lat': 41.99704, 'lng': -87.795522}\n",
      "SERVICE_START QD 4620.7 {'lat': 41.99704, 'lng': -87.795522}\n",
      "SERVICE_END QD 4748.7 {'lat': 41.99704, 'lng': -87.795522}\n",
      "DEPART QD 4748.7 {'lat': 41.99704, 'lng': -87.795522}\n",
      "ARRIVE LD 4876.0 {'lat': 41.997123, 'lng': -87.796471}\n",
      "SERVICE_START LD 4876.0 {'lat': 41.997123, 'lng': -87.796471}\n",
      "SERVICE_END LD 4973.0 {'lat': 41.997123, 'lng': -87.796471}\n",
      "LOAD_START LD 4973.0 {'lat': 41.997123, 'lng': -87.796471}\n",
      "LOAD_START LD 4973.0 {'lat': 41.997123, 'lng': -87.796471}\n",
      "LOAD_END LD 4988.0 {'lat': 41.997123, 'lng': -87.796471}\n",
      "ARRIVE OL 5069.0 {'lat': 41.998375, 'lng': -87.790875}\n",
      "SERVICE_START OL 5069.0 {'lat': 41.998375, 'lng': -87.790875}\n",
      "SERVICE_END OL 5104.7 {'lat': 41.998375, 'lng': -87.790875}\n",
      "DEPART OL 5104.7 {'lat': 41.998375, 'lng': -87.790875}\n",
      "ARRIVE UU 5141.5 {'lat': 41.999753, 'lng': -87.790855}\n",
      "SERVICE_START UU 5141.5 {'lat': 41.999753, 'lng': -87.790855}\n",
      "SERVICE_END UU 5217.5 {'lat': 41.999753, 'lng': -87.790855}\n",
      "DEPART UU 5217.5 {'lat': 41.999753, 'lng': -87.790855}\n",
      "ARRIVE HP 5277.4 {'lat': 41.999589, 'lng': -87.79231}\n",
      "SERVICE_START HP 5277.4 {'lat': 41.999589, 'lng': -87.79231}\n",
      "SERVICE_END HP 5474.4 {'lat': 41.999589, 'lng': -87.79231}\n",
      "DEPART HP 5474.4 {'lat': 41.999589, 'lng': -87.79231}\n",
      "ARRIVE PH 5504.7 {'lat': 41.999136, 'lng': -87.791805}\n",
      "SERVICE_START PH 5504.7 {'lat': 41.999136, 'lng': -87.791805}\n",
      "SERVICE_END PH 5537.7 {'lat': 41.999136, 'lng': -87.791805}\n",
      "DEPART PH 5537.7 {'lat': 41.999136, 'lng': -87.791805}\n",
      "ARRIVE SR 5558.2 {'lat': 41.99914, 'lng': -87.793113}\n",
      "SERVICE_START SR 5558.2 {'lat': 41.99914, 'lng': -87.793113}\n",
      "SERVICE_END SR 5633.2 {'lat': 41.99914, 'lng': -87.793113}\n",
      "LOAD_START SR 5633.2 {'lat': 41.99914, 'lng': -87.793113}\n",
      "LOAD_START SR 5633.2 {'lat': 41.99914, 'lng': -87.793113}\n",
      "LOAD_END SR 5648.2 {'lat': 41.99914, 'lng': -87.793113}\n",
      "ARRIVE QF 5733.1 {'lat': 42.000956, 'lng': -87.79457}\n",
      "SERVICE_START QF 5733.1 {'lat': 42.000956, 'lng': -87.79457}\n",
      "SERVICE_END QF 5763.1 {'lat': 42.000956, 'lng': -87.79457}\n",
      "DEPART QF 5763.1 {'lat': 42.000956, 'lng': -87.79457}\n",
      "ARRIVE RJ 5782.9 {'lat': 42.000943, 'lng': -87.795988}\n",
      "SERVICE_START RJ 5782.9 {'lat': 42.000943, 'lng': -87.795988}\n",
      "SERVICE_END RJ 5872.9 {'lat': 42.000943, 'lng': -87.795988}\n",
      "DEPART RJ 5872.9 {'lat': 42.000943, 'lng': -87.795988}\n",
      "ARRIVE KG 5929.7 {'lat': 42.000039, 'lng': -87.79394}\n",
      "SERVICE_START KG 5929.7 {'lat': 42.000039, 'lng': -87.79394}\n",
      "SERVICE_END KG 5962.7 {'lat': 42.000039, 'lng': -87.79394}\n",
      "DEPART KG 5962.7 {'lat': 42.000039, 'lng': -87.79394}\n",
      "ARRIVE EN 6002.1 {'lat': 41.999135, 'lng': -87.794743}\n",
      "SERVICE_START EN 6002.1 {'lat': 41.999135, 'lng': -87.794743}\n",
      "SERVICE_END EN 6029.1 {'lat': 41.999135, 'lng': -87.794743}\n",
      "LOAD_START EN 6029.1 {'lat': 41.999135, 'lng': -87.794743}\n",
      "LOAD_START EN 6029.1 {'lat': 41.999135, 'lng': -87.794743}\n",
      "LOAD_END EN 6044.1 {'lat': 41.999135, 'lng': -87.794743}\n",
      "ARRIVE MR 6096.8 {'lat': 41.999315, 'lng': -87.79718}\n",
      "SERVICE_START MR 6096.8 {'lat': 41.999315, 'lng': -87.79718}\n",
      "SERVICE_END MR 6138.0 {'lat': 41.999315, 'lng': -87.79718}\n",
      "LOAD_START MR 6138.0 {'lat': 41.999315, 'lng': -87.79718}\n",
      "LOAD_START MR 6138.0 {'lat': 41.999315, 'lng': -87.79718}\n",
      "LOAD_END MR 6153.0 {'lat': 41.999315, 'lng': -87.79718}\n",
      "ARRIVE CO 6220.3 {'lat': 41.99917, 'lng': -87.799312}\n",
      "SERVICE_START CO 6220.3 {'lat': 41.99917, 'lng': -87.799312}\n",
      "SERVICE_END CO 6258.3 {'lat': 41.99917, 'lng': -87.799312}\n",
      "DEPART CO 6258.3 {'lat': 41.99917, 'lng': -87.799312}\n",
      "ARRIVE ZR 6267.9 {'lat': 41.999576, 'lng': -87.79939}\n",
      "SERVICE_START ZR 6267.9 {'lat': 41.999576, 'lng': -87.79939}\n",
      "SERVICE_END ZR 6319.9 {'lat': 41.999576, 'lng': -87.79939}\n",
      "DEPART ZR 6319.9 {'lat': 41.999576, 'lng': -87.79939}\n",
      "ARRIVE VY 6352.7 {'lat': 41.998067, 'lng': -87.799095}\n",
      "SERVICE_START VY 6352.7 {'lat': 41.998067, 'lng': -87.799095}\n",
      "SERVICE_END VY 6396.7 {'lat': 41.998067, 'lng': -87.799095}\n",
      "DEPART VY 6396.7 {'lat': 41.998067, 'lng': -87.799095}\n",
      "ARRIVE HG 6427.0 {'lat': 41.997146, 'lng': -87.798873}\n",
      "SERVICE_START HG 6427.0 {'lat': 41.997146, 'lng': -87.798873}\n",
      "SERVICE_END HG 6490.5 {'lat': 41.997146, 'lng': -87.798873}\n",
      "LOAD_START HG 6490.5 {'lat': 41.997146, 'lng': -87.798873}\n",
      "LOAD_START HG 6490.5 {'lat': 41.997146, 'lng': -87.798873}\n",
      "LOAD_END HG 6505.5 {'lat': 41.997146, 'lng': -87.798873}\n",
      "ARRIVE RF 6663.1 {'lat': 41.995894, 'lng': -87.797924}\n",
      "SERVICE_START RF 6663.1 {'lat': 41.995894, 'lng': -87.797924}\n",
      "SERVICE_END RF 6733.1 {'lat': 41.995894, 'lng': -87.797924}\n",
      "DEPART RF 6733.1 {'lat': 41.995894, 'lng': -87.797924}\n",
      "ARRIVE XC 6753.6 {'lat': 41.995991, 'lng': -87.798595}\n",
      "SERVICE_START XC 6753.6 {'lat': 41.995991, 'lng': -87.798595}\n",
      "SERVICE_END XC 6799.6 {'lat': 41.995991, 'lng': -87.798595}\n",
      "DEPART XC 6799.6 {'lat': 41.995991, 'lng': -87.798595}\n",
      "ARRIVE RM 6824.4 {'lat': 41.995669, 'lng': -87.799833}\n",
      "SERVICE_START RM 6824.4 {'lat': 41.995669, 'lng': -87.799833}\n",
      "SERVICE_END RM 6937.4 {'lat': 41.995669, 'lng': -87.799833}\n",
      "DEPART RM 6937.4 {'lat': 41.995669, 'lng': -87.799833}\n",
      "ARRIVE EB 6964.9 {'lat': 41.995416, 'lng': -87.800586}\n",
      "SERVICE_START EB 6964.9 {'lat': 41.995416, 'lng': -87.800586}\n",
      "SERVICE_END EB 7013.9 {'lat': 41.995416, 'lng': -87.800586}\n",
      "DEPART EB 7013.9 {'lat': 41.995416, 'lng': -87.800586}\n",
      "ARRIVE EO 7036.8 {'lat': 41.996377, 'lng': -87.800697}\n",
      "SERVICE_START EO 7036.8 {'lat': 41.996377, 'lng': -87.800697}\n",
      "SERVICE_END EO 7156.8 {'lat': 41.996377, 'lng': -87.800697}\n",
      "DEPART EO 7156.8 {'lat': 41.996377, 'lng': -87.800697}\n",
      "ARRIVE YK 7162.1 {'lat': 41.996665, 'lng': -87.800755}\n",
      "SERVICE_START YK 7162.1 {'lat': 41.996665, 'lng': -87.800755}\n",
      "SERVICE_END YK 7269.6 {'lat': 41.996665, 'lng': -87.800755}\n",
      "DEPART YK 7269.6 {'lat': 41.996665, 'lng': -87.800755}\n",
      "ARRIVE QL 7423.1 {'lat': 42.001457, 'lng': -87.801711}\n",
      "SERVICE_START QL 7423.1 {'lat': 42.001457, 'lng': -87.801711}\n",
      "SERVICE_END QL 7457.4 {'lat': 42.001457, 'lng': -87.801711}\n",
      "DEPART QL 7457.4 {'lat': 42.001457, 'lng': -87.801711}\n",
      "ARRIVE TU 7577.6 {'lat': 41.999245, 'lng': -87.800336}\n",
      "SERVICE_START TU 7577.6 {'lat': 41.999245, 'lng': -87.800336}\n",
      "SERVICE_END TU 7604.6 {'lat': 41.999245, 'lng': -87.800336}\n",
      "LOAD_START TU 7604.6 {'lat': 41.999245, 'lng': -87.800336}\n",
      "LOAD_START TU 7604.6 {'lat': 41.999245, 'lng': -87.800336}\n",
      "LOAD_END TU 7619.6 {'lat': 41.999245, 'lng': -87.800336}\n",
      "ARRIVE LG 7677.2 {'lat': 41.998481, 'lng': -87.799531}\n",
      "SERVICE_START LG 7677.2 {'lat': 41.998481, 'lng': -87.799531}\n",
      "SERVICE_END LG 7699.2 {'lat': 41.998481, 'lng': -87.799531}\n",
      "DEPART LG 7699.2 {'lat': 41.998481, 'lng': -87.799531}\n",
      "ARRIVE DE 7714.1 {'lat': 41.998176, 'lng': -87.800411}\n",
      "SERVICE_START DE 7714.1 {'lat': 41.998176, 'lng': -87.800411}\n",
      "SERVICE_END DE 7759.1 {'lat': 41.998176, 'lng': -87.800411}\n",
      "DEPART DE 7759.1 {'lat': 41.998176, 'lng': -87.800411}\n",
      "ARRIVE AK 7791.4 {'lat': 41.998574, 'lng': -87.801173}\n",
      "SERVICE_START AK 7791.4 {'lat': 41.998574, 'lng': -87.801173}\n",
      "SERVICE_END AK 7854.2 {'lat': 41.998574, 'lng': -87.801173}\n",
      "DEPART AK 7854.2 {'lat': 41.998574, 'lng': -87.801173}\n",
      "ARRIVE LQ 7870.3 {'lat': 41.999252, 'lng': -87.801336}\n",
      "SERVICE_START LQ 7870.3 {'lat': 41.999252, 'lng': -87.801336}\n",
      "SERVICE_END LQ 8020.3 {'lat': 41.999252, 'lng': -87.801336}\n",
      "DEPART LQ 8020.3 {'lat': 41.999252, 'lng': -87.801336}\n",
      "ARRIVE VC 8027.9 {'lat': 41.999572, 'lng': -87.801413}\n",
      "SERVICE_START VC 8027.9 {'lat': 41.999572, 'lng': -87.801413}\n",
      "SERVICE_END VC 8086.9 {'lat': 41.999572, 'lng': -87.801413}\n",
      "DEPART VC 8086.9 {'lat': 41.999572, 'lng': -87.801413}\n",
      "ARRIVE AS 8149.8 {'lat': 41.999975, 'lng': -87.803708}\n",
      "SERVICE_START AS 8149.8 {'lat': 41.999975, 'lng': -87.803708}\n",
      "SERVICE_END AS 8190.8 {'lat': 41.999975, 'lng': -87.803708}\n",
      "DEPART AS 8190.8 {'lat': 41.999975, 'lng': -87.803708}\n",
      "ARRIVE IF 8212.7 {'lat': 42.000255, 'lng': -87.804156}\n",
      "SERVICE_START IF 8212.7 {'lat': 42.000255, 'lng': -87.804156}\n",
      "SERVICE_END IF 8243.2 {'lat': 42.000255, 'lng': -87.804156}\n",
      "DEPART IF 8243.2 {'lat': 42.000255, 'lng': -87.804156}\n",
      "ARRIVE DW 8278.0 {'lat': 42.001302, 'lng': -87.804143}\n",
      "SERVICE_START DW 8278.0 {'lat': 42.001302, 'lng': -87.804143}\n",
      "SERVICE_END DW 8340.0 {'lat': 42.001302, 'lng': -87.804143}\n",
      "DEPART DW 8340.0 {'lat': 42.001302, 'lng': -87.804143}\n",
      "ARRIVE VN 8405.1 {'lat': 42.000087, 'lng': -87.802951}\n",
      "SERVICE_START VN 8405.1 {'lat': 42.000087, 'lng': -87.802951}\n",
      "SERVICE_END VN 8458.1 {'lat': 42.000087, 'lng': -87.802951}\n",
      "LOAD_START VN 8458.1 {'lat': 42.000087, 'lng': -87.802951}\n",
      "LOAD_START VN 8458.1 {'lat': 42.000087, 'lng': -87.802951}\n",
      "LOAD_END VN 8473.1 {'lat': 42.000087, 'lng': -87.802951}\n",
      "ARRIVE IZ 8509.2 {'lat': 41.998241, 'lng': -87.802978}\n",
      "SERVICE_START IZ 8509.2 {'lat': 41.998241, 'lng': -87.802978}\n",
      "SERVICE_END IZ 8561.2 {'lat': 41.998241, 'lng': -87.802978}\n",
      "LOAD_START IZ 8561.2 {'lat': 41.998241, 'lng': -87.802978}\n",
      "LOAD_START IZ 8561.2 {'lat': 41.998241, 'lng': -87.802978}\n",
      "LOAD_END IZ 8576.2 {'lat': 41.998241, 'lng': -87.802978}\n",
      "ARRIVE SJ 8626.0 {'lat': 41.996189, 'lng': -87.802725}\n",
      "SERVICE_START SJ 8626.0 {'lat': 41.996189, 'lng': -87.802725}\n",
      "SERVICE_END SJ 8686.0 {'lat': 41.996189, 'lng': -87.802725}\n",
      "DEPART SJ 8686.0 {'lat': 41.996189, 'lng': -87.802725}\n",
      "ARRIVE JT 8732.1 {'lat': 41.997647, 'lng': -87.801948}\n",
      "SERVICE_START JT 8732.1 {'lat': 41.997647, 'lng': -87.801948}\n",
      "SERVICE_END JT 8793.6 {'lat': 41.997647, 'lng': -87.801948}\n",
      "DEPART JT 8793.6 {'lat': 41.997647, 'lng': -87.801948}\n",
      "ARRIVE VE 8829.0 {'lat': 41.99767, 'lng': -87.804194}\n",
      "SERVICE_START VE 8829.0 {'lat': 41.99767, 'lng': -87.804194}\n",
      "SERVICE_END VE 8874.0 {'lat': 41.99767, 'lng': -87.804194}\n",
      "LOAD_START VE 8874.0 {'lat': 41.99767, 'lng': -87.804194}\n",
      "LOAD_START VE 8874.0 {'lat': 41.99767, 'lng': -87.804194}\n",
      "LOAD_END VE 8889.0 {'lat': 41.99767, 'lng': -87.804194}\n",
      "ARRIVE SO 9024.8 {'lat': 42.000165, 'lng': -87.805366}\n",
      "SERVICE_START SO 9024.8 {'lat': 42.000165, 'lng': -87.805366}\n",
      "SERVICE_END SO 9161.8 {'lat': 42.000165, 'lng': -87.805366}\n",
      "LOAD_START SO 9161.8 {'lat': 42.000165, 'lng': -87.805366}\n",
      "LOAD_START SO 9161.8 {'lat': 42.000165, 'lng': -87.805366}\n",
      "LOAD_END SO 9176.8 {'lat': 42.000165, 'lng': -87.805366}\n",
      "ARRIVE AZ 9225.1 {'lat': 41.999487, 'lng': -87.80489}\n",
      "SERVICE_START AZ 9225.1 {'lat': 41.999487, 'lng': -87.80489}\n",
      "SERVICE_END AZ 9266.3 {'lat': 41.999487, 'lng': -87.80489}\n",
      "LOAD_START AZ 9266.3 {'lat': 41.999487, 'lng': -87.80489}\n",
      "LOAD_START AZ 9266.3 {'lat': 41.999487, 'lng': -87.80489}\n",
      "LOAD_END AZ 9281.3 {'lat': 41.999487, 'lng': -87.80489}\n",
      "ARRIVE HD 9328.5 {'lat': 41.997493, 'lng': -87.804903}\n",
      "SERVICE_START HD 9328.5 {'lat': 41.997493, 'lng': -87.804903}\n",
      "SERVICE_END HD 9392.5 {'lat': 41.997493, 'lng': -87.804903}\n",
      "LOAD_START HD 9392.5 {'lat': 41.997493, 'lng': -87.804903}\n",
      "LOAD_START HD 9392.5 {'lat': 41.997493, 'lng': -87.804903}\n",
      "LOAD_END HD 9407.5 {'lat': 41.997493, 'lng': -87.804903}\n",
      "ARRIVE NT 9442.0 {'lat': 41.997789, 'lng': -87.80612}\n",
      "SERVICE_START NT 9442.0 {'lat': 41.997789, 'lng': -87.80612}\n",
      "SERVICE_END NT 9525.0 {'lat': 41.997789, 'lng': -87.80612}\n",
      "DEPART NT 9525.0 {'lat': 41.997789, 'lng': -87.80612}\n",
      "ARRIVE AY 9568.3 {'lat': 41.997768, 'lng': -87.808075}\n",
      "SERVICE_START AY 9568.3 {'lat': 41.997768, 'lng': -87.808075}\n",
      "SERVICE_END AY 9678.3 {'lat': 41.997768, 'lng': -87.808075}\n",
      "LOAD_START AY 9678.3 {'lat': 41.997768, 'lng': -87.808075}\n",
      "LOAD_START AY 9678.3 {'lat': 41.997768, 'lng': -87.808075}\n",
      "LOAD_END AY 9693.3 {'lat': 41.997768, 'lng': -87.808075}\n",
      "ARRIVE WK 9711.3 {'lat': 41.998363, 'lng': -87.808835}\n",
      "SERVICE_START WK 9711.3 {'lat': 41.998363, 'lng': -87.808835}\n",
      "SERVICE_END WK 9900.3 {'lat': 41.998363, 'lng': -87.808835}\n",
      "DEPART WK 9900.3 {'lat': 41.998363, 'lng': -87.808835}\n",
      "ARRIVE CB 9911.6 {'lat': 41.998772, 'lng': -87.809717}\n",
      "SERVICE_START CB 9911.6 {'lat': 41.998772, 'lng': -87.809717}\n",
      "SERVICE_END CB 9966.7 {'lat': 41.998772, 'lng': -87.809717}\n",
      "LOAD_START CB 9966.7 {'lat': 41.998772, 'lng': -87.809717}\n",
      "LOAD_START CB 9966.7 {'lat': 41.998772, 'lng': -87.809717}\n",
      "LOAD_END CB 9981.7 {'lat': 41.998772, 'lng': -87.809717}\n",
      "ARRIVE MS 9992.8 {'lat': 41.999348, 'lng': -87.81066}\n",
      "SERVICE_START MS 9992.8 {'lat': 41.999348, 'lng': -87.81066}\n",
      "SERVICE_END MS 10124.8 {'lat': 41.999348, 'lng': -87.81066}\n",
      "LOAD_START MS 10124.8 {'lat': 41.999348, 'lng': -87.81066}\n",
      "LOAD_START MS 10124.8 {'lat': 41.999348, 'lng': -87.81066}\n",
      "LOAD_END MS 10139.8 {'lat': 41.999348, 'lng': -87.81066}\n",
      "ARRIVE OX 10166.0 {'lat': 42.000722, 'lng': -87.812836}\n",
      "SERVICE_START OX 10166.0 {'lat': 42.000722, 'lng': -87.812836}\n",
      "SERVICE_END OX 10292.0 {'lat': 42.000722, 'lng': -87.812836}\n",
      "DEPART OX 10292.0 {'lat': 42.000722, 'lng': -87.812836}\n",
      "ARRIVE VP 10325.6 {'lat': 42.000272, 'lng': -87.813855}\n",
      "SERVICE_START VP 10325.6 {'lat': 42.000272, 'lng': -87.813855}\n",
      "SERVICE_END VP 10360.6 {'lat': 42.000272, 'lng': -87.813855}\n",
      "DEPART VP 10360.6 {'lat': 42.000272, 'lng': -87.813855}\n",
      "ARRIVE YP 10420.0 {'lat': 41.999506, 'lng': -87.811694}\n",
      "SERVICE_START YP 10420.0 {'lat': 41.999506, 'lng': -87.811694}\n",
      "SERVICE_END YP 10467.0 {'lat': 41.999506, 'lng': -87.811694}\n",
      "LOAD_START YP 10467.0 {'lat': 41.999506, 'lng': -87.811694}\n",
      "LOAD_START YP 10467.0 {'lat': 41.999506, 'lng': -87.811694}\n",
      "LOAD_END YP 10482.0 {'lat': 41.999506, 'lng': -87.811694}\n",
      "ARRIVE EH 10570.2 {'lat': 42.002343, 'lng': -87.813477}\n",
      "SERVICE_START EH 10570.2 {'lat': 42.002343, 'lng': -87.813477}\n",
      "SERVICE_END EH 10653.2 {'lat': 42.002343, 'lng': -87.813477}\n",
      "DEPART EH 10653.2 {'lat': 42.002343, 'lng': -87.813477}\n",
      "ARRIVE SE 10693.9 {'lat': 42.00365, 'lng': -87.81162}\n",
      "SERVICE_START SE 10693.9 {'lat': 42.00365, 'lng': -87.81162}\n",
      "SERVICE_END SE 10794.1 {'lat': 42.00365, 'lng': -87.81162}\n",
      "DEPART SE 10794.1 {'lat': 42.00365, 'lng': -87.81162}\n",
      "ARRIVE SW 10807.1 {'lat': 42.003264, 'lng': -87.812408}\n",
      "SERVICE_START SW 10807.1 {'lat': 42.003264, 'lng': -87.812408}\n",
      "SERVICE_END SW 10836.1 {'lat': 42.003264, 'lng': -87.812408}\n",
      "DEPART SW 10836.1 {'lat': 42.003264, 'lng': -87.812408}\n",
      "ARRIVE GN 10918.5 {'lat': 42.000915, 'lng': -87.813199}\n",
      "SERVICE_START GN 10918.5 {'lat': 42.000915, 'lng': -87.813199}\n",
      "SERVICE_END GN 10939.5 {'lat': 42.000915, 'lng': -87.813199}\n",
      "DEPART GN 10939.5 {'lat': 42.000915, 'lng': -87.813199}\n",
      "ARRIVE YO 10951.1 {'lat': 42.001229, 'lng': -87.81315}\n",
      "SERVICE_START YO 10951.1 {'lat': 42.001229, 'lng': -87.81315}\n",
      "SERVICE_END YO 11000.1 {'lat': 42.001229, 'lng': -87.81315}\n",
      "DEPART YO 11000.1 {'lat': 42.001229, 'lng': -87.81315}\n",
      "ARRIVE AX 11023.4 {'lat': 42.002125, 'lng': -87.8121}\n",
      "SERVICE_START AX 11023.4 {'lat': 42.002125, 'lng': -87.8121}\n",
      "SERVICE_END AX 11118.4 {'lat': 42.002125, 'lng': -87.8121}\n",
      "DEPART AX 11118.4 {'lat': 42.002125, 'lng': -87.8121}\n",
      "ARRIVE FD 11165.6 {'lat': 42.002129, 'lng': -87.810404}\n",
      "SERVICE_START FD 11165.6 {'lat': 42.002129, 'lng': -87.810404}\n",
      "SERVICE_END FD 11247.6 {'lat': 42.002129, 'lng': -87.810404}\n",
      "DEPART FD 11247.6 {'lat': 42.002129, 'lng': -87.810404}\n",
      "ARRIVE MF 11284.8 {'lat': 42.001133, 'lng': -87.810921}\n",
      "SERVICE_START MF 11284.8 {'lat': 42.001133, 'lng': -87.810921}\n",
      "SERVICE_END MF 11345.8 {'lat': 42.001133, 'lng': -87.810921}\n",
      "DEPART MF 11345.8 {'lat': 42.001133, 'lng': -87.810921}\n",
      "ARRIVE YW 11354.7 {'lat': 42.001364, 'lng': -87.811297}\n",
      "SERVICE_START YW 11354.7 {'lat': 42.001364, 'lng': -87.811297}\n",
      "SERVICE_END YW 11465.7 {'lat': 42.001364, 'lng': -87.811297}\n",
      "DEPART YW 11465.7 {'lat': 42.001364, 'lng': -87.811297}\n",
      "ARRIVE ZT 11481.6 {'lat': 42.000817, 'lng': -87.811985}\n",
      "SERVICE_START ZT 11481.6 {'lat': 42.000817, 'lng': -87.811985}\n",
      "SERVICE_END ZT 11529.3 {'lat': 42.000817, 'lng': -87.811985}\n",
      "DEPART ZT 11529.3 {'lat': 42.000817, 'lng': -87.811985}\n",
      "ARRIVE FT 11545.7 {'lat': 42.000528, 'lng': -87.812197}\n",
      "SERVICE_START FT 11545.7 {'lat': 42.000528, 'lng': -87.812197}\n",
      "SERVICE_END FT 11589.7 {'lat': 42.000528, 'lng': -87.812197}\n",
      "DEPART FT 11589.7 {'lat': 42.000528, 'lng': -87.812197}\n",
      "ARRIVE VF 11636.8 {'lat': 42.000715, 'lng': -87.810225}\n",
      "SERVICE_START VF 11636.8 {'lat': 42.000715, 'lng': -87.810225}\n",
      "SERVICE_END VF 11787.8 {'lat': 42.000715, 'lng': -87.810225}\n",
      "DEPART VF 11787.8 {'lat': 42.000715, 'lng': -87.810225}\n",
      "ARRIVE EP 11795.9 {'lat': 42.000434, 'lng': -87.809755}\n",
      "SERVICE_START EP 11795.9 {'lat': 42.000434, 'lng': -87.809755}\n",
      "SERVICE_END EP 11876.9 {'lat': 42.000434, 'lng': -87.809755}\n",
      "DEPART EP 11876.9 {'lat': 42.000434, 'lng': -87.809755}\n",
      "ARRIVE ZY 11919.3 {'lat': 41.998993, 'lng': -87.807404}\n",
      "SERVICE_START ZY 11919.3 {'lat': 41.998993, 'lng': -87.807404}\n",
      "SERVICE_END ZY 12074.3 {'lat': 41.998993, 'lng': -87.807404}\n",
      "DEPART ZY 12074.3 {'lat': 41.998993, 'lng': -87.807404}\n",
      "ARRIVE NF 12116.2 {'lat': 42.000498, 'lng': -87.807978}\n",
      "SERVICE_START NF 12116.2 {'lat': 42.000498, 'lng': -87.807978}\n",
      "SERVICE_END NF 12166.2 {'lat': 42.000498, 'lng': -87.807978}\n",
      "LOAD_START NF 12166.2 {'lat': 42.000498, 'lng': -87.807978}\n",
      "LOAD_START NF 12166.2 {'lat': 42.000498, 'lng': -87.807978}\n",
      "LOAD_END NF 12181.2 {'lat': 42.000498, 'lng': -87.807978}\n",
      "ARRIVE HE 12232.6 {'lat': 42.000304, 'lng': -87.806766}\n",
      "SERVICE_START HE 12232.6 {'lat': 42.000304, 'lng': -87.806766}\n",
      "SERVICE_END HE 12275.6 {'lat': 42.000304, 'lng': -87.806766}\n",
      "DEPART HE 12275.6 {'lat': 42.000304, 'lng': -87.806766}\n",
      "ARRIVE VZ 12305.9 {'lat': 42.003052, 'lng': -87.806736}\n",
      "SERVICE_START VZ 12305.9 {'lat': 42.003052, 'lng': -87.806736}\n",
      "SERVICE_END VZ 12521.9 {'lat': 42.003052, 'lng': -87.806736}\n",
      "DEPART VZ 12521.9 {'lat': 42.003052, 'lng': -87.806736}\n",
      "ARRIVE HX 12536.0 {'lat': 42.001399, 'lng': -87.806753}\n",
      "SERVICE_START HX 12536.0 {'lat': 42.001399, 'lng': -87.806753}\n",
      "SERVICE_END HX 12609.0 {'lat': 42.001399, 'lng': -87.806753}\n",
      "DEPART HX 12609.0 {'lat': 42.001399, 'lng': -87.806753}\n",
      "ARRIVE GT 12666.5 {'lat': 42.001478, 'lng': -87.807966}\n",
      "SERVICE_START GT 12666.5 {'lat': 42.001478, 'lng': -87.807966}\n",
      "SERVICE_END GT 12735.7 {'lat': 42.001478, 'lng': -87.807966}\n",
      "DEPART GT 12735.7 {'lat': 42.001478, 'lng': -87.807966}\n",
      "ARRIVE YF 12742.2 {'lat': 42.002147, 'lng': -87.807963}\n",
      "SERVICE_START YF 12742.2 {'lat': 42.002147, 'lng': -87.807963}\n",
      "SERVICE_END YF 12806.9 {'lat': 42.002147, 'lng': -87.807963}\n",
      "DEPART YF 12806.9 {'lat': 42.002147, 'lng': -87.807963}\n",
      "ARRIVE RR 12845.2 {'lat': 42.003926, 'lng': -87.807953}\n",
      "SERVICE_START RR 12845.2 {'lat': 42.003926, 'lng': -87.807953}\n",
      "SERVICE_END RR 12910.2 {'lat': 42.003926, 'lng': -87.807953}\n",
      "DEPART RR 12910.2 {'lat': 42.003926, 'lng': -87.807953}\n",
      "ARRIVE WU 12949.4 {'lat': 42.004253, 'lng': -87.809171}\n",
      "SERVICE_START WU 12949.4 {'lat': 42.004253, 'lng': -87.809171}\n",
      "SERVICE_END WU 13000.1 {'lat': 42.004253, 'lng': -87.809171}\n",
      "DEPART WU 13000.1 {'lat': 42.004253, 'lng': -87.809171}\n",
      "ARRIVE ZM 13003.0 {'lat': 42.003884, 'lng': -87.809173}\n",
      "SERVICE_START ZM 13003.0 {'lat': 42.003884, 'lng': -87.809173}\n",
      "SERVICE_END ZM 13115.0 {'lat': 42.003884, 'lng': -87.809173}\n",
      "LOAD_START ZM 13115.0 {'lat': 42.003884, 'lng': -87.809173}\n",
      "LOAD_START ZM 13115.0 {'lat': 42.003884, 'lng': -87.809173}\n",
      "LOAD_END ZM 13130.0 {'lat': 42.003884, 'lng': -87.809173}\n",
      "ARRIVE RN 13165.1 {'lat': 42.002181, 'lng': -87.809184}\n",
      "SERVICE_START RN 13165.1 {'lat': 42.002181, 'lng': -87.809184}\n",
      "SERVICE_END RN 13222.1 {'lat': 42.002181, 'lng': -87.809184}\n",
      "DEPART RN 13222.1 {'lat': 42.002181, 'lng': -87.809184}\n",
      "ARRIVE TW 13241.2 {'lat': 42.003142, 'lng': -87.809177}\n",
      "SERVICE_START TW 13241.2 {'lat': 42.003142, 'lng': -87.809177}\n",
      "SERVICE_END TW 13276.2 {'lat': 42.003142, 'lng': -87.809177}\n",
      "DEPART TW 13276.2 {'lat': 42.003142, 'lng': -87.809177}\n",
      "ARRIVE OJ 13333.6 {'lat': 42.003425, 'lng': -87.81039}\n",
      "SERVICE_START OJ 13333.6 {'lat': 42.003425, 'lng': -87.81039}\n",
      "SERVICE_END OJ 13399.1 {'lat': 42.003425, 'lng': -87.81039}\n",
      "DEPART OJ 13399.1 {'lat': 42.003425, 'lng': -87.81039}\n",
      "ARRIVE FB 13414.8 {'lat': 42.004096, 'lng': -87.810383}\n",
      "SERVICE_START FB 13414.8 {'lat': 42.004096, 'lng': -87.810383}\n",
      "SERVICE_END FB 13443.8 {'lat': 42.004096, 'lng': -87.810383}\n",
      "LOAD_START FB 13443.8 {'lat': 42.004096, 'lng': -87.810383}\n",
      "LOAD_START FB 13443.8 {'lat': 42.004096, 'lng': -87.810383}\n",
      "LOAD_END FB 13458.8 {'lat': 42.004096, 'lng': -87.810383}\n",
      "ARRIVE OQ 13555.8 {'lat': 42.005277, 'lng': -87.810015}\n",
      "SERVICE_START OQ 13555.8 {'lat': 42.005277, 'lng': -87.810015}\n",
      "SERVICE_END OQ 13586.8 {'lat': 42.005277, 'lng': -87.810015}\n",
      "DEPART OQ 13586.8 {'lat': 42.005277, 'lng': -87.810015}\n",
      "ARRIVE BJ 13617.2 {'lat': 42.005326, 'lng': -87.808377}\n",
      "SERVICE_START BJ 13617.2 {'lat': 42.005326, 'lng': -87.808377}\n",
      "SERVICE_END BJ 13665.2 {'lat': 42.005326, 'lng': -87.808377}\n",
      "DEPART BJ 13665.2 {'lat': 42.005326, 'lng': -87.808377}\n",
      "ARRIVE SC 13733.0 {'lat': 42.006286, 'lng': -87.807795}\n",
      "SERVICE_START SC 13733.0 {'lat': 42.006286, 'lng': -87.807795}\n",
      "SERVICE_END SC 13788.5 {'lat': 42.006286, 'lng': -87.807795}\n",
      "DEPART SC 13788.5 {'lat': 42.006286, 'lng': -87.807795}\n",
      "ARRIVE HL 13797.8 {'lat': 42.006256, 'lng': -87.808667}\n",
      "SERVICE_START HL 13797.8 {'lat': 42.006256, 'lng': -87.808667}\n",
      "SERVICE_END HL 13836.8 {'lat': 42.006256, 'lng': -87.808667}\n",
      "DEPART HL 13836.8 {'lat': 42.006256, 'lng': -87.808667}\n",
      "ARRIVE RU 13853.5 {'lat': 42.00622, 'lng': -87.809753}\n",
      "SERVICE_START RU 13853.5 {'lat': 42.00622, 'lng': -87.809753}\n",
      "SERVICE_END RU 13975.5 {'lat': 42.00622, 'lng': -87.809753}\n",
      "DEPART RU 13975.5 {'lat': 42.00622, 'lng': -87.809753}\n",
      "ARRIVE XS 14041.0 {'lat': 42.007188, 'lng': -87.807211}\n",
      "SERVICE_START XS 14041.0 {'lat': 42.007188, 'lng': -87.807211}\n",
      "SERVICE_END XS 14064.0 {'lat': 42.007188, 'lng': -87.807211}\n",
      "DEPART XS 14064.0 {'lat': 42.007188, 'lng': -87.807211}\n",
      "ARRIVE MT 14090.9 {'lat': 42.007122, 'lng': -87.808835}\n",
      "SERVICE_START MT 14090.9 {'lat': 42.007122, 'lng': -87.808835}\n",
      "SERVICE_END MT 14181.4 {'lat': 42.007122, 'lng': -87.808835}\n",
      "DEPART MT 14181.4 {'lat': 42.007122, 'lng': -87.808835}\n",
      "ARRIVE AU 14195.5 {'lat': 42.007093, 'lng': -87.809642}\n",
      "SERVICE_START AU 14195.5 {'lat': 42.007093, 'lng': -87.809642}\n",
      "SERVICE_END AU 14229.0 {'lat': 42.007093, 'lng': -87.809642}\n",
      "DEPART AU 14229.0 {'lat': 42.007093, 'lng': -87.809642}\n",
      "ARRIVE KT 14239.2 {'lat': 42.007073, 'lng': -87.810333}\n",
      "SERVICE_START KT 14239.2 {'lat': 42.007073, 'lng': -87.810333}\n",
      "SERVICE_END KT 14275.2 {'lat': 42.007073, 'lng': -87.810333}\n",
      "DEPART KT 14275.2 {'lat': 42.007073, 'lng': -87.810333}\n",
      "ARRIVE QW 14293.7 {'lat': 42.007232, 'lng': -87.810996}\n",
      "SERVICE_START QW 14293.7 {'lat': 42.007232, 'lng': -87.810996}\n",
      "SERVICE_END QW 14345.7 {'lat': 42.007232, 'lng': -87.810996}\n",
      "DEPART QW 14345.7 {'lat': 42.007232, 'lng': -87.810996}\n",
      "ARRIVE HV 14377.0 {'lat': 42.008002, 'lng': -87.810104}\n",
      "SERVICE_START HV 14377.0 {'lat': 42.008002, 'lng': -87.810104}\n",
      "SERVICE_END HV 14420.7 {'lat': 42.008002, 'lng': -87.810104}\n",
      "DEPART HV 14420.7 {'lat': 42.008002, 'lng': -87.810104}\n",
      "ARRIVE TG 14444.8 {'lat': 42.008041, 'lng': -87.808792}\n",
      "SERVICE_START TG 14444.8 {'lat': 42.008041, 'lng': -87.808792}\n",
      "SERVICE_END TG 14538.8 {'lat': 42.008041, 'lng': -87.808792}\n",
      "DEPART TG 14538.8 {'lat': 42.008041, 'lng': -87.808792}\n",
      "ARRIVE ND 14567.0 {'lat': 42.008096, 'lng': -87.807088}\n",
      "SERVICE_START ND 14567.0 {'lat': 42.008096, 'lng': -87.807088}\n",
      "SERVICE_END ND 14726.0 {'lat': 42.008096, 'lng': -87.807088}\n",
      "DEPART ND 14726.0 {'lat': 42.008096, 'lng': -87.807088}\n",
      "ARRIVE FS 14931.8 {'lat': 42.01012, 'lng': -87.804512}\n",
      "SERVICE_START FS 14931.8 {'lat': 42.01012, 'lng': -87.804512}\n",
      "SERVICE_END FS 15002.8 {'lat': 42.01012, 'lng': -87.804512}\n",
      "DEPART FS 15002.8 {'lat': 42.01012, 'lng': -87.804512}\n",
      "ARRIVE NA 15032.1 {'lat': 42.009807, 'lng': -87.80412}\n",
      "SERVICE_START NA 15032.1 {'lat': 42.009807, 'lng': -87.80412}\n",
      "SERVICE_END NA 15124.1 {'lat': 42.009807, 'lng': -87.80412}\n",
      "DEPART NA 15124.1 {'lat': 42.009807, 'lng': -87.80412}\n",
      "ARRIVE YR 15151.3 {'lat': 42.010099, 'lng': -87.803753}\n",
      "SERVICE_START YR 15151.3 {'lat': 42.010099, 'lng': -87.803753}\n",
      "SERVICE_END YR 15176.3 {'lat': 42.010099, 'lng': -87.803753}\n",
      "DEPART YR 15176.3 {'lat': 42.010099, 'lng': -87.803753}\n",
      "ARRIVE IG 15388.0 {'lat': 42.008968, 'lng': -87.808176}\n",
      "SERVICE_START IG 15388.0 {'lat': 42.008968, 'lng': -87.808176}\n",
      "SERVICE_END IG 15432.0 {'lat': 42.008968, 'lng': -87.808176}\n",
      "DEPART IG 15432.0 {'lat': 42.008968, 'lng': -87.808176}\n",
      "ARRIVE WA 15480.6 {'lat': 42.009158, 'lng': -87.81097}\n",
      "SERVICE_START WA 15480.6 {'lat': 42.009158, 'lng': -87.81097}\n",
      "SERVICE_END WA 15519.6 {'lat': 42.009158, 'lng': -87.81097}\n",
      "LOAD_START WA 15519.6 {'lat': 42.009158, 'lng': -87.81097}\n",
      "LOAD_START WA 15519.6 {'lat': 42.009158, 'lng': -87.81097}\n",
      "LOAD_END WA 15534.6 {'lat': 42.009158, 'lng': -87.81097}\n",
      "ARRIVE LH 15619.5 {'lat': 42.008439, 'lng': -87.813671}\n",
      "SERVICE_START LH 15619.5 {'lat': 42.008439, 'lng': -87.813671}\n",
      "SERVICE_END LH 15668.5 {'lat': 42.008439, 'lng': -87.813671}\n",
      "DEPART LH 15668.5 {'lat': 42.008439, 'lng': -87.813671}\n",
      "ARRIVE JL 15686.1 {'lat': 42.00789, 'lng': -87.813953}\n",
      "SERVICE_START JL 15686.1 {'lat': 42.00789, 'lng': -87.813953}\n",
      "SERVICE_END JL 15737.1 {'lat': 42.00789, 'lng': -87.813953}\n",
      "DEPART JL 15737.1 {'lat': 42.00789, 'lng': -87.813953}\n",
      "ARRIVE WH 15766.3 {'lat': 42.006678, 'lng': -87.813694}\n",
      "SERVICE_START WH 15766.3 {'lat': 42.006678, 'lng': -87.813694}\n",
      "SERVICE_END WH 15801.3 {'lat': 42.006678, 'lng': -87.813694}\n",
      "LOAD_START WH 15801.3 {'lat': 42.006678, 'lng': -87.813694}\n",
      "LOAD_START WH 15801.3 {'lat': 42.006678, 'lng': -87.813694}\n",
      "LOAD_END WH 15816.3 {'lat': 42.006678, 'lng': -87.813694}\n",
      "ARRIVE KS 15883.1 {'lat': 42.005355, 'lng': -87.812317}\n",
      "SERVICE_START KS 15883.1 {'lat': 42.005355, 'lng': -87.812317}\n",
      "SERVICE_END KS 16037.1 {'lat': 42.005355, 'lng': -87.812317}\n",
      "LOAD_START KS 16037.1 {'lat': 42.005355, 'lng': -87.812317}\n",
      "LOAD_START KS 16037.1 {'lat': 42.005355, 'lng': -87.812317}\n",
      "LOAD_END KS 16052.1 {'lat': 42.005355, 'lng': -87.812317}\n",
      "ARRIVE YQ 16130.6 {'lat': 42.005271, 'lng': -87.8137}\n",
      "SERVICE_START YQ 16130.6 {'lat': 42.005271, 'lng': -87.8137}\n",
      "SERVICE_END YQ 16174.9 {'lat': 42.005271, 'lng': -87.8137}\n",
      "DEPART YQ 16174.9 {'lat': 42.005271, 'lng': -87.8137}\n",
      "ARRIVE NV 16206.7 {'lat': 42.004224, 'lng': -87.814218}\n",
      "SERVICE_START NV 16206.7 {'lat': 42.004224, 'lng': -87.814218}\n",
      "SERVICE_END NV 16245.7 {'lat': 42.004224, 'lng': -87.814218}\n",
      "DEPART NV 16245.7 {'lat': 42.004224, 'lng': -87.814218}\n",
      "ARRIVE ZQ 16359.6 {'lat': 42.002875, 'lng': -87.81836}\n",
      "SERVICE_START ZQ 16359.6 {'lat': 42.002875, 'lng': -87.81836}\n",
      "SERVICE_END ZQ 16404.6 {'lat': 42.002875, 'lng': -87.81836}\n",
      "DEPART ZQ 16404.6 {'lat': 42.002875, 'lng': -87.81836}\n",
      "ARRIVE JH 16416.7 {'lat': 42.00332, 'lng': -87.819132}\n",
      "SERVICE_START JH 16416.7 {'lat': 42.00332, 'lng': -87.819132}\n",
      "SERVICE_END JH 16431.2 {'lat': 42.00332, 'lng': -87.819132}\n",
      "DEPART JH 16431.2 {'lat': 42.00332, 'lng': -87.819132}\n",
      "ARRIVE WS 16502.0 {'lat': 42.002324, 'lng': -87.816642}\n",
      "SERVICE_START WS 16502.0 {'lat': 42.002324, 'lng': -87.816642}\n",
      "SERVICE_END WS 16613.0 {'lat': 42.002324, 'lng': -87.816642}\n",
      "DEPART WS 16613.0 {'lat': 42.002324, 'lng': -87.816642}\n",
      "ARRIVE WD 16647.5 {'lat': 42.003141, 'lng': -87.815812}\n",
      "SERVICE_START WD 16647.5 {'lat': 42.003141, 'lng': -87.815812}\n",
      "SERVICE_END WD 16712.8 {'lat': 42.003141, 'lng': -87.815812}\n",
      "DEPART WD 16712.8 {'lat': 42.003141, 'lng': -87.815812}\n",
      "ARRIVE NI 16782.3 {'lat': 42.003996, 'lng': -87.813184}\n",
      "SERVICE_START NI 16782.3 {'lat': 42.003996, 'lng': -87.813184}\n",
      "SERVICE_END NI 16838.3 {'lat': 42.003996, 'lng': -87.813184}\n",
      "LOAD_START NI 16838.3 {'lat': 42.003996, 'lng': -87.813184}\n",
      "LOAD_START NI 16838.3 {'lat': 42.003996, 'lng': -87.813184}\n",
      "LOAD_END NI 16853.3 {'lat': 42.003996, 'lng': -87.813184}\n",
      "ARRIVE OK 17016.5 {'lat': 42.00187, 'lng': -87.816372}\n",
      "SERVICE_START OK 17016.5 {'lat': 42.00187, 'lng': -87.816372}\n",
      "SERVICE_END OK 17080.5 {'lat': 42.00187, 'lng': -87.816372}\n",
      "DEPART OK 17080.5 {'lat': 42.00187, 'lng': -87.816372}\n",
      "ARRIVE NM 17168.3 {'lat': 42.003788, 'lng': -87.814852}\n",
      "SERVICE_START NM 17168.3 {'lat': 42.003788, 'lng': -87.814852}\n",
      "SERVICE_END NM 17231.3 {'lat': 42.003788, 'lng': -87.814852}\n",
      "DEPART NM 17231.3 {'lat': 42.003788, 'lng': -87.814852}\n",
      "ARRIVE AM 17281.9 {'lat': 42.004423, 'lng': -87.815098}\n",
      "SERVICE_START AM 17281.9 {'lat': 42.004423, 'lng': -87.815098}\n",
      "SERVICE_END AM 17296.9 {'lat': 42.004423, 'lng': -87.815098}\n",
      "DEPART AM 17296.9 {'lat': 42.004423, 'lng': -87.815098}\n",
      "ARRIVE DS 17316.8 {'lat': 42.005222, 'lng': -87.815089}\n",
      "SERVICE_START DS 17316.8 {'lat': 42.005222, 'lng': -87.815089}\n",
      "SERVICE_END DS 17379.8 {'lat': 42.005222, 'lng': -87.815089}\n",
      "DEPART DS 17379.8 {'lat': 42.005222, 'lng': -87.815089}\n",
      "ARRIVE NZ 17394.3 {'lat': 42.005805, 'lng': -87.815083}\n",
      "SERVICE_START NZ 17394.3 {'lat': 42.005805, 'lng': -87.815083}\n",
      "SERVICE_END NZ 17428.3 {'lat': 42.005805, 'lng': -87.815083}\n",
      "DEPART NZ 17428.3 {'lat': 42.005805, 'lng': -87.815083}\n",
      "ARRIVE XW 17496.3 {'lat': 42.005393, 'lng': -87.816456}\n",
      "SERVICE_START XW 17496.3 {'lat': 42.005393, 'lng': -87.816456}\n",
      "SERVICE_END XW 17567.3 {'lat': 42.005393, 'lng': -87.816456}\n",
      "LOAD_START XW 17567.3 {'lat': 42.005393, 'lng': -87.816456}\n",
      "LOAD_START XW 17567.3 {'lat': 42.005393, 'lng': -87.816456}\n",
      "LOAD_END XW 17582.3 {'lat': 42.005393, 'lng': -87.816456}\n",
      "ARRIVE AV 17646.2 {'lat': 42.006633, 'lng': -87.817621}\n",
      "SERVICE_START AV 17646.2 {'lat': 42.006633, 'lng': -87.817621}\n",
      "SERVICE_END AV 17754.2 {'lat': 42.006633, 'lng': -87.817621}\n",
      "DEPART AV 17754.2 {'lat': 42.006633, 'lng': -87.817621}\n",
      "ARRIVE WL 17805.2 {'lat': 42.009571, 'lng': -87.817584}\n",
      "SERVICE_START WL 17805.2 {'lat': 42.009571, 'lng': -87.817584}\n",
      "SERVICE_END WL 17888.5 {'lat': 42.009571, 'lng': -87.817584}\n",
      "DEPART WL 17888.5 {'lat': 42.009571, 'lng': -87.817584}\n",
      "ARRIVE HI 18711.5 {'lat': 42.031368, 'lng': -87.776596}\n"
     ]
    }
   ],
   "source": [
    "test.print_vehicle_events()\n"
   ]
  },
  {
   "cell_type": "code",
   "execution_count": 21,
   "metadata": {},
   "outputs": [
    {
     "name": "stdout",
     "output_type": "stream",
     "text": [
      "DEPART HI 0 {'lat': 42.031368, 'lng': -87.776596}\n",
      "ARRIVE RC 281.6 {'lat': 42.034701, 'lng': -87.787183}\n",
      "ARRIVE OM 513.5 {'lat': 42.0347, 'lng': -87.78652}\n",
      "LOAD_END OM 549.0 {'lat': 42.0347, 'lng': -87.78652}\n",
      "LAUNCH OM 549.0 {'lat': 42.0347, 'lng': -87.78652}\n",
      "DRONE_DELIVERY_START KN 936.3 {'lat': 42.011134, 'lng': -87.793221}\n",
      "DRONE_DELIVERY_END KN 946.3 {'lat': 42.011134, 'lng': -87.793221}\n",
      "LAND UB 1042.7 {'lat': 42.010624, 'lng': -87.794307}\n",
      "ARRIVE FM 1104.0 {'lat': 42.01097, 'lng': -87.795053}\n",
      "ARRIVE LX 1227.9 {'lat': 42.009862, 'lng': -87.797879}\n",
      "ARRIVE PC 1295.0 {'lat': 42.010552, 'lng': -87.798468}\n",
      "ARRIVE KQ 1421.1 {'lat': 42.013021, 'lng': -87.798192}\n",
      "ARRIVE RI 1559.6 {'lat': 42.01369, 'lng': -87.79821}\n",
      "ARRIVE UV 1818.6 {'lat': 42.010971, 'lng': -87.801941}\n",
      "ARRIVE CF 1933.8 {'lat': 42.010627, 'lng': -87.800602}\n",
      "ARRIVE VG 2090.4 {'lat': 42.008005, 'lng': -87.79719}\n",
      "ARRIVE OC 2249.5 {'lat': 42.007219, 'lng': -87.795648}\n",
      "ARRIVE ZP 2383.8 {'lat': 42.008275, 'lng': -87.795104}\n",
      "ARRIVE RH 2549.2 {'lat': 42.007952, 'lng': -87.796026}\n",
      "ARRIVE RQ 2938.8 {'lat': 42.006485, 'lng': -87.792609}\n",
      "ARRIVE TA 3026.3 {'lat': 42.005116, 'lng': -87.792748}\n",
      "ARRIVE FQ 3265.1 {'lat': 42.003678, 'lng': -87.793309}\n",
      "ARRIVE LR 3463.1 {'lat': 42.000146, 'lng': -87.79231}\n",
      "ARRIVE HT 3584.7 {'lat': 41.998338, 'lng': -87.79232}\n",
      "ARRIVE GG 3652.8 {'lat': 41.998243, 'lng': -87.792661}\n",
      "ARRIVE AL 3967.3 {'lat': 41.996075, 'lng': -87.792091}\n",
      "ARRIVE OA 4162.1 {'lat': 41.997329, 'lng': -87.791731}\n",
      "ARRIVE BH 4229.8 {'lat': 41.99733, 'lng': -87.793534}\n",
      "ARRIVE AT 4478.3 {'lat': 41.998229, 'lng': -87.79514}\n",
      "ARRIVE MD 4568.7 {'lat': 41.99755, 'lng': -87.79558}\n",
      "ARRIVE QD 4620.7 {'lat': 41.99704, 'lng': -87.795522}\n",
      "ARRIVE LD 4876.0 {'lat': 41.997123, 'lng': -87.796471}\n",
      "LOAD_END LD 4988.0 {'lat': 41.997123, 'lng': -87.796471}\n",
      "LAUNCH LD 4988.0 {'lat': 41.997123, 'lng': -87.796471}\n",
      "DRONE_DELIVERY_START VM 5014.0 {'lat': 41.997329, 'lng': -87.794719}\n",
      "DRONE_DELIVERY_END VM 5024.0 {'lat': 41.997329, 'lng': -87.794719}\n",
      "LAND OL 5072.4 {'lat': 41.998375, 'lng': -87.790875}\n",
      "ARRIVE UU 5141.5 {'lat': 41.999753, 'lng': -87.790855}\n",
      "ARRIVE HP 5277.4 {'lat': 41.999589, 'lng': -87.79231}\n",
      "ARRIVE PH 5504.7 {'lat': 41.999136, 'lng': -87.791805}\n",
      "ARRIVE SR 5558.2 {'lat': 41.99914, 'lng': -87.793113}\n",
      "LOAD_END SR 5648.2 {'lat': 41.99914, 'lng': -87.793113}\n",
      "LAUNCH SR 5648.2 {'lat': 41.99914, 'lng': -87.793113}\n",
      "DRONE_DELIVERY_START CR 5681.7 {'lat': 42.000933, 'lng': -87.79313}\n",
      "DRONE_DELIVERY_END CR 5691.7 {'lat': 42.000933, 'lng': -87.79313}\n",
      "LAND QF 5733.1 {'lat': 42.000956, 'lng': -87.79457}\n",
      "ARRIVE RJ 5782.9 {'lat': 42.000943, 'lng': -87.795988}\n",
      "ARRIVE KG 5929.7 {'lat': 42.000039, 'lng': -87.79394}\n",
      "ARRIVE EN 6002.1 {'lat': 41.999135, 'lng': -87.794743}\n",
      "LOAD_END EN 6044.1 {'lat': 41.999135, 'lng': -87.794743}\n",
      "LAUNCH EN 6044.1 {'lat': 41.999135, 'lng': -87.794743}\n",
      "DRONE_DELIVERY_START GP 6065.9 {'lat': 41.99902, 'lng': -87.796154}\n",
      "DRONE_DELIVERY_END GP 6075.9 {'lat': 41.99902, 'lng': -87.796154}\n",
      "LAND MR 6096.8 {'lat': 41.999315, 'lng': -87.79718}\n",
      "LOAD_END MR 6153.0 {'lat': 41.999315, 'lng': -87.79718}\n",
      "LAUNCH MR 6153.0 {'lat': 41.999315, 'lng': -87.79718}\n",
      "DRONE_DELIVERY_START RT 6170.8 {'lat': 41.999088, 'lng': -87.79822}\n",
      "DRONE_DELIVERY_END RT 6180.8 {'lat': 41.999088, 'lng': -87.79822}\n",
      "LAND CO 6220.3 {'lat': 41.99917, 'lng': -87.799312}\n",
      "ARRIVE ZR 6267.9 {'lat': 41.999576, 'lng': -87.79939}\n",
      "ARRIVE VY 6352.7 {'lat': 41.998067, 'lng': -87.799095}\n",
      "ARRIVE HG 6427.0 {'lat': 41.997146, 'lng': -87.798873}\n",
      "LOAD_END HG 6505.5 {'lat': 41.997146, 'lng': -87.798873}\n",
      "LAUNCH HG 6505.5 {'lat': 41.997146, 'lng': -87.798873}\n",
      "DRONE_DELIVERY_START PZ 6519.3 {'lat': 41.99675, 'lng': -87.798357}\n",
      "DRONE_DELIVERY_END PZ 6529.3 {'lat': 41.99675, 'lng': -87.798357}\n",
      "LAND RF 6663.1 {'lat': 41.995894, 'lng': -87.797924}\n",
      "ARRIVE XC 6753.6 {'lat': 41.995991, 'lng': -87.798595}\n",
      "ARRIVE RM 6824.4 {'lat': 41.995669, 'lng': -87.799833}\n",
      "ARRIVE EB 6964.9 {'lat': 41.995416, 'lng': -87.800586}\n",
      "ARRIVE EO 7036.8 {'lat': 41.996377, 'lng': -87.800697}\n",
      "ARRIVE YK 7162.1 {'lat': 41.996665, 'lng': -87.800755}\n",
      "ARRIVE QL 7423.1 {'lat': 42.001457, 'lng': -87.801711}\n",
      "ARRIVE TU 7577.6 {'lat': 41.999245, 'lng': -87.800336}\n",
      "LOAD_END TU 7619.6 {'lat': 41.999245, 'lng': -87.800336}\n",
      "LAUNCH TU 7619.6 {'lat': 41.999245, 'lng': -87.800336}\n",
      "DRONE_DELIVERY_START HZ 7632.9 {'lat': 41.99873, 'lng': -87.800221}\n",
      "DRONE_DELIVERY_END HZ 7642.9 {'lat': 41.99873, 'lng': -87.800221}\n",
      "LAND LG 7677.2 {'lat': 41.998481, 'lng': -87.799531}\n",
      "ARRIVE DE 7714.1 {'lat': 41.998176, 'lng': -87.800411}\n",
      "ARRIVE AK 7791.4 {'lat': 41.998574, 'lng': -87.801173}\n",
      "ARRIVE LQ 7870.3 {'lat': 41.999252, 'lng': -87.801336}\n",
      "ARRIVE VC 8027.9 {'lat': 41.999572, 'lng': -87.801413}\n",
      "ARRIVE AS 8149.8 {'lat': 41.999975, 'lng': -87.803708}\n",
      "ARRIVE IF 8212.7 {'lat': 42.000255, 'lng': -87.804156}\n",
      "ARRIVE DW 8278.0 {'lat': 42.001302, 'lng': -87.804143}\n",
      "ARRIVE VN 8405.1 {'lat': 42.000087, 'lng': -87.802951}\n",
      "LOAD_END VN 8473.1 {'lat': 42.000087, 'lng': -87.802951}\n",
      "LAUNCH VN 8473.1 {'lat': 42.000087, 'lng': -87.802951}\n",
      "DRONE_DELIVERY_START XG 8498.0 {'lat': 41.998833, 'lng': -87.802975}\n",
      "DRONE_DELIVERY_END XG 8508.0 {'lat': 41.998833, 'lng': -87.802975}\n",
      "LAND IZ 8517.4 {'lat': 41.998241, 'lng': -87.802978}\n",
      "LOAD_END IZ 8576.2 {'lat': 41.998241, 'lng': -87.802978}\n",
      "LAUNCH IZ 8576.2 {'lat': 41.998241, 'lng': -87.802978}\n",
      "DRONE_DELIVERY_START BF 8599.8 {'lat': 41.997099, 'lng': -87.803337}\n",
      "DRONE_DELIVERY_END BF 8609.8 {'lat': 41.997099, 'lng': -87.803337}\n",
      "LAND SJ 8626.0 {'lat': 41.996189, 'lng': -87.802725}\n",
      "ARRIVE JT 8732.1 {'lat': 41.997647, 'lng': -87.801948}\n",
      "ARRIVE VE 8829.0 {'lat': 41.99767, 'lng': -87.804194}\n",
      "LOAD_END VE 8889.0 {'lat': 41.99767, 'lng': -87.804194}\n",
      "LAUNCH VE 8889.0 {'lat': 41.99767, 'lng': -87.804194}\n",
      "DRONE_DELIVERY_START XQ 8918.2 {'lat': 41.998657, 'lng': -87.80575}\n",
      "DRONE_DELIVERY_END XQ 8928.2 {'lat': 41.998657, 'lng': -87.80575}\n",
      "LAND SO 9024.8 {'lat': 42.000165, 'lng': -87.805366}\n",
      "LOAD_END SO 9176.8 {'lat': 42.000165, 'lng': -87.805366}\n",
      "LAUNCH SO 9176.8 {'lat': 42.000165, 'lng': -87.805366}\n",
      "DRONE_DELIVERY_START II 9192.0 {'lat': 41.999534, 'lng': -87.805207}\n",
      "DRONE_DELIVERY_END II 9202.0 {'lat': 41.999534, 'lng': -87.805207}\n",
      "LAND AZ 9225.1 {'lat': 41.999487, 'lng': -87.80489}\n",
      "LOAD_END AZ 9281.3 {'lat': 41.999487, 'lng': -87.80489}\n",
      "LAUNCH AZ 9281.3 {'lat': 41.999487, 'lng': -87.80489}\n",
      "DRONE_DELIVERY_START SK 9295.0 {'lat': 41.998939, 'lng': -87.804897}\n",
      "DRONE_DELIVERY_END SK 9305.0 {'lat': 41.998939, 'lng': -87.804897}\n",
      "LAND HD 9328.5 {'lat': 41.997493, 'lng': -87.804903}\n",
      "LOAD_END HD 9407.5 {'lat': 41.997493, 'lng': -87.804903}\n",
      "LAUNCH HD 9407.5 {'lat': 41.997493, 'lng': -87.804903}\n",
      "DRONE_DELIVERY_START ZL 9417.3 {'lat': 41.997757, 'lng': -87.804697}\n",
      "DRONE_DELIVERY_END ZL 9427.3 {'lat': 41.997757, 'lng': -87.804697}\n",
      "LAND NT 9444.2 {'lat': 41.997789, 'lng': -87.80612}\n",
      "ARRIVE AY 9568.3 {'lat': 41.997768, 'lng': -87.808075}\n",
      "LOAD_END AY 9693.3 {'lat': 41.997768, 'lng': -87.808075}\n",
      "LAUNCH AY 9693.3 {'lat': 41.997768, 'lng': -87.808075}\n",
      "DRONE_DELIVERY_START IN 9767.6 {'lat': 41.995023, 'lng': -87.803519}\n",
      "DRONE_DELIVERY_END IN 9777.6 {'lat': 41.995023, 'lng': -87.803519}\n",
      "LAND WK 9859.9 {'lat': 41.998363, 'lng': -87.808835}\n",
      "ARRIVE CB 9911.6 {'lat': 41.998772, 'lng': -87.809717}\n",
      "LOAD_END CB 9981.7 {'lat': 41.998772, 'lng': -87.809717}\n",
      "LAUNCH CB 9981.7 {'lat': 41.998772, 'lng': -87.809717}\n",
      "DRONE_DELIVERY_START XR 9994.7 {'lat': 41.999088, 'lng': -87.810239}\n",
      "DRONE_DELIVERY_END XR 10004.7 {'lat': 41.999088, 'lng': -87.810239}\n",
      "LAND MS 10011.1 {'lat': 41.999348, 'lng': -87.81066}\n",
      "LOAD_END MS 10139.8 {'lat': 41.999348, 'lng': -87.81066}\n",
      "LAUNCH MS 10139.8 {'lat': 41.999348, 'lng': -87.81066}\n",
      "DRONE_DELIVERY_START GA 10164.9 {'lat': 42.000154, 'lng': -87.811975}\n",
      "DRONE_DELIVERY_END GA 10174.9 {'lat': 42.000154, 'lng': -87.811975}\n",
      "LAND OX 10188.5 {'lat': 42.000722, 'lng': -87.812836}\n",
      "ARRIVE VP 10325.6 {'lat': 42.000272, 'lng': -87.813855}\n",
      "ARRIVE YP 10420.0 {'lat': 41.999506, 'lng': -87.811694}\n",
      "LOAD_END YP 10482.0 {'lat': 41.999506, 'lng': -87.811694}\n",
      "LAUNCH YP 10482.0 {'lat': 41.999506, 'lng': -87.811694}\n",
      "DRONE_DELIVERY_START TY 10522.2 {'lat': 42.001191, 'lng': -87.81363}\n",
      "DRONE_DELIVERY_END TY 10532.2 {'lat': 42.001191, 'lng': -87.81363}\n",
      "LAND EH 10570.2 {'lat': 42.002343, 'lng': -87.813477}\n",
      "ARRIVE SE 10693.9 {'lat': 42.00365, 'lng': -87.81162}\n",
      "ARRIVE SW 10807.1 {'lat': 42.003264, 'lng': -87.812408}\n",
      "ARRIVE GN 10918.5 {'lat': 42.000915, 'lng': -87.813199}\n",
      "ARRIVE YO 10951.1 {'lat': 42.001229, 'lng': -87.81315}\n",
      "ARRIVE AX 11023.4 {'lat': 42.002125, 'lng': -87.8121}\n",
      "ARRIVE FD 11165.6 {'lat': 42.002129, 'lng': -87.810404}\n",
      "ARRIVE MF 11284.8 {'lat': 42.001133, 'lng': -87.810921}\n",
      "ARRIVE YW 11354.7 {'lat': 42.001364, 'lng': -87.811297}\n",
      "ARRIVE ZT 11481.6 {'lat': 42.000817, 'lng': -87.811985}\n",
      "ARRIVE FT 11545.7 {'lat': 42.000528, 'lng': -87.812197}\n",
      "ARRIVE VF 11636.8 {'lat': 42.000715, 'lng': -87.810225}\n",
      "ARRIVE EP 11795.9 {'lat': 42.000434, 'lng': -87.809755}\n",
      "ARRIVE ZY 11919.3 {'lat': 41.998993, 'lng': -87.807404}\n",
      "ARRIVE NF 12116.2 {'lat': 42.000498, 'lng': -87.807978}\n",
      "LOAD_END NF 12181.2 {'lat': 42.000498, 'lng': -87.807978}\n",
      "LAUNCH NF 12181.2 {'lat': 42.000498, 'lng': -87.807978}\n",
      "DRONE_DELIVERY_START XJ 12200.7 {'lat': 42.000607, 'lng': -87.806763}\n",
      "DRONE_DELIVERY_END XJ 12210.7 {'lat': 42.000607, 'lng': -87.806763}\n",
      "LAND HE 12232.6 {'lat': 42.000304, 'lng': -87.806766}\n",
      "ARRIVE VZ 12305.9 {'lat': 42.003052, 'lng': -87.806736}\n",
      "ARRIVE HX 12536.0 {'lat': 42.001399, 'lng': -87.806753}\n",
      "ARRIVE GT 12666.5 {'lat': 42.001478, 'lng': -87.807966}\n",
      "ARRIVE YF 12742.2 {'lat': 42.002147, 'lng': -87.807963}\n",
      "ARRIVE RR 12845.2 {'lat': 42.003926, 'lng': -87.807953}\n",
      "ARRIVE WU 12949.4 {'lat': 42.004253, 'lng': -87.809171}\n",
      "ARRIVE ZM 13003.0 {'lat': 42.003884, 'lng': -87.809173}\n",
      "LOAD_END ZM 13130.0 {'lat': 42.003884, 'lng': -87.809173}\n",
      "LAUNCH ZM 13130.0 {'lat': 42.003884, 'lng': -87.809173}\n",
      "DRONE_DELIVERY_START ER 13179.9 {'lat': 42.001054, 'lng': -87.809196}\n",
      "DRONE_DELIVERY_END ER 13189.9 {'lat': 42.001054, 'lng': -87.809196}\n",
      "LAND RN 13207.8 {'lat': 42.002181, 'lng': -87.809184}\n",
      "ARRIVE TW 13241.2 {'lat': 42.003142, 'lng': -87.809177}\n",
      "ARRIVE OJ 13333.6 {'lat': 42.003425, 'lng': -87.81039}\n",
      "ARRIVE FB 13414.8 {'lat': 42.004096, 'lng': -87.810383}\n",
      "LOAD_END FB 13458.8 {'lat': 42.004096, 'lng': -87.810383}\n",
      "LAUNCH FB 13458.8 {'lat': 42.004096, 'lng': -87.810383}\n",
      "DRONE_DELIVERY_START BY 13486.3 {'lat': 42.00523, 'lng': -87.811527}\n",
      "DRONE_DELIVERY_END BY 13496.3 {'lat': 42.00523, 'lng': -87.811527}\n",
      "LAND OQ 13555.8 {'lat': 42.005277, 'lng': -87.810015}\n",
      "ARRIVE BJ 13617.2 {'lat': 42.005326, 'lng': -87.808377}\n",
      "ARRIVE SC 13733.0 {'lat': 42.006286, 'lng': -87.807795}\n",
      "ARRIVE HL 13797.8 {'lat': 42.006256, 'lng': -87.808667}\n",
      "ARRIVE RU 13853.5 {'lat': 42.00622, 'lng': -87.809753}\n",
      "ARRIVE XS 14041.0 {'lat': 42.007188, 'lng': -87.807211}\n",
      "ARRIVE MT 14090.9 {'lat': 42.007122, 'lng': -87.808835}\n",
      "ARRIVE AU 14195.5 {'lat': 42.007093, 'lng': -87.809642}\n",
      "ARRIVE KT 14239.2 {'lat': 42.007073, 'lng': -87.810333}\n",
      "ARRIVE QW 14293.7 {'lat': 42.007232, 'lng': -87.810996}\n",
      "ARRIVE HV 14377.0 {'lat': 42.008002, 'lng': -87.810104}\n",
      "ARRIVE TG 14444.8 {'lat': 42.008041, 'lng': -87.808792}\n",
      "ARRIVE ND 14567.0 {'lat': 42.008096, 'lng': -87.807088}\n",
      "ARRIVE FS 14931.8 {'lat': 42.01012, 'lng': -87.804512}\n",
      "ARRIVE NA 15032.1 {'lat': 42.009807, 'lng': -87.80412}\n",
      "ARRIVE YR 15151.3 {'lat': 42.010099, 'lng': -87.803753}\n",
      "ARRIVE IG 15388.0 {'lat': 42.008968, 'lng': -87.808176}\n",
      "ARRIVE WA 15480.6 {'lat': 42.009158, 'lng': -87.81097}\n",
      "LOAD_END WA 15534.6 {'lat': 42.009158, 'lng': -87.81097}\n",
      "LAUNCH WA 15534.6 {'lat': 42.009158, 'lng': -87.81097}\n",
      "DRONE_DELIVERY_START VS 15571.5 {'lat': 42.009292, 'lng': -87.813657}\n",
      "DRONE_DELIVERY_END VS 15581.5 {'lat': 42.009292, 'lng': -87.813657}\n",
      "LAND LH 15619.5 {'lat': 42.008439, 'lng': -87.813671}\n",
      "ARRIVE JL 15686.1 {'lat': 42.00789, 'lng': -87.813953}\n",
      "ARRIVE WH 15766.3 {'lat': 42.006678, 'lng': -87.813694}\n",
      "LOAD_END WH 15816.3 {'lat': 42.006678, 'lng': -87.813694}\n",
      "LAUNCH WH 15816.3 {'lat': 42.006678, 'lng': -87.813694}\n",
      "DRONE_DELIVERY_START ZJ 15839.9 {'lat': 42.007201, 'lng': -87.812288}\n",
      "DRONE_DELIVERY_END ZJ 15849.9 {'lat': 42.007201, 'lng': -87.812288}\n",
      "LAND KS 15883.1 {'lat': 42.005355, 'lng': -87.812317}\n",
      "LOAD_END KS 16052.1 {'lat': 42.005355, 'lng': -87.812317}\n",
      "LAUNCH KS 16052.1 {'lat': 42.005355, 'lng': -87.812317}\n",
      "DRONE_DELIVERY_START DN 16065.8 {'lat': 42.004804, 'lng': -87.812329}\n",
      "DRONE_DELIVERY_END DN 16075.8 {'lat': 42.004804, 'lng': -87.812329}\n",
      "LAND YQ 16130.6 {'lat': 42.005271, 'lng': -87.8137}\n",
      "ARRIVE NV 16206.7 {'lat': 42.004224, 'lng': -87.814218}\n",
      "ARRIVE ZQ 16359.6 {'lat': 42.002875, 'lng': -87.81836}\n",
      "ARRIVE JH 16416.7 {'lat': 42.00332, 'lng': -87.819132}\n",
      "ARRIVE WS 16502.0 {'lat': 42.002324, 'lng': -87.816642}\n",
      "ARRIVE WD 16647.5 {'lat': 42.003141, 'lng': -87.815812}\n",
      "ARRIVE NI 16782.3 {'lat': 42.003996, 'lng': -87.813184}\n",
      "LOAD_END NI 16853.3 {'lat': 42.003996, 'lng': -87.813184}\n",
      "LAUNCH NI 16853.3 {'lat': 42.003996, 'lng': -87.813184}\n",
      "DRONE_DELIVERY_START DG 16877.9 {'lat': 42.003057, 'lng': -87.814257}\n",
      "DRONE_DELIVERY_END DG 16887.9 {'lat': 42.003057, 'lng': -87.814257}\n",
      "LAND OK 17016.5 {'lat': 42.00187, 'lng': -87.816372}\n",
      "ARRIVE NM 17168.3 {'lat': 42.003788, 'lng': -87.814852}\n",
      "ARRIVE AM 17281.9 {'lat': 42.004423, 'lng': -87.815098}\n",
      "ARRIVE DS 17316.8 {'lat': 42.005222, 'lng': -87.815089}\n",
      "ARRIVE NZ 17394.3 {'lat': 42.005805, 'lng': -87.815083}\n",
      "ARRIVE XW 17496.3 {'lat': 42.005393, 'lng': -87.816456}\n",
      "LOAD_END XW 17582.3 {'lat': 42.005393, 'lng': -87.816456}\n",
      "LAUNCH XW 17582.3 {'lat': 42.005393, 'lng': -87.816456}\n",
      "DRONE_DELIVERY_START MC 17601.8 {'lat': 42.005649, 'lng': -87.817634}\n",
      "DRONE_DELIVERY_END MC 17611.8 {'lat': 42.005649, 'lng': -87.817634}\n",
      "LAND AV 17646.2 {'lat': 42.006633, 'lng': -87.817621}\n",
      "ARRIVE WL 17805.2 {'lat': 42.009571, 'lng': -87.817584}\n",
      "ARRIVE HI 18711.5 {'lat': 42.031368, 'lng': -87.776596}\n"
     ]
    }
   ],
   "source": [
    "test.print_drone_events()"
   ]
  },
  {
   "cell_type": "code",
   "execution_count": 22,
   "metadata": {},
   "outputs": [
    {
     "data": {
      "text/plain": [
       "139"
      ]
     },
     "execution_count": 22,
     "metadata": {},
     "output_type": "execute_result"
    }
   ],
   "source": [
    "route_data_ordered = pd.concat([route_data_route_df[route_data_route_df['stop_id'] == stop_id] for stop_id in test.vehicle_path]).reset_index(drop=True)\n",
    "len(route_data_ordered)"
   ]
  },
  {
   "cell_type": "code",
   "execution_count": 23,
   "metadata": {},
   "outputs": [
    {
     "data": {
      "application/vnd.plotly.v1+json": {
       "config": {
        "plotlyServerURL": "https://plot.ly"
       },
       "data": [
        {
         "hoverinfo": "none",
         "lat": [
          42.031368,
          42.034701,
          42.0347,
          42.010624,
          42.01097,
          42.009862,
          42.010552,
          42.013021,
          42.01369,
          42.010971,
          42.010627,
          42.008005,
          42.007219,
          42.008275,
          42.007952,
          42.006485,
          42.005116,
          42.003678,
          42.000146,
          41.998338,
          41.998243,
          41.996075,
          41.997329,
          41.99733,
          41.998229,
          41.99755,
          41.99704,
          41.997123,
          41.998375,
          41.999753,
          41.999589,
          41.999136,
          41.99914,
          42.000956,
          42.000943,
          42.000039,
          41.999135,
          41.999315,
          41.99917,
          41.999576,
          41.998067,
          41.997146,
          41.995894,
          41.995991,
          41.995669,
          41.995416,
          41.996377,
          41.996665,
          42.001457,
          41.999245,
          41.998481,
          41.998176,
          41.998574,
          41.999252,
          41.999572,
          41.999975,
          42.000255,
          42.001302,
          42.000087,
          41.998241,
          41.996189,
          41.997647,
          41.99767,
          42.000165,
          41.999487,
          41.997493,
          41.997789,
          41.997768,
          41.998363,
          41.998772,
          41.999348,
          42.000722,
          42.000272,
          41.999506,
          42.002343,
          42.00365,
          42.003264,
          42.000915,
          42.001229,
          42.002125,
          42.002129,
          42.001133,
          42.001364,
          42.000817,
          42.000528,
          42.000715,
          42.000434,
          41.998993,
          42.000498,
          42.000304,
          42.003052,
          42.001399,
          42.001478,
          42.002147,
          42.003926,
          42.004253,
          42.003884,
          42.002181,
          42.003142,
          42.003425,
          42.004096,
          42.005277,
          42.005326,
          42.006286,
          42.006256,
          42.00622,
          42.007188,
          42.007122,
          42.007093,
          42.007073,
          42.007232,
          42.008002,
          42.008041,
          42.008096,
          42.01012,
          42.009807,
          42.010099,
          42.008968,
          42.009158,
          42.008439,
          42.00789,
          42.006678,
          42.005355,
          42.005271,
          42.004224,
          42.002875,
          42.00332,
          42.002324,
          42.003141,
          42.003996,
          42.00187,
          42.003788,
          42.004423,
          42.005222,
          42.005805,
          42.005393,
          42.006633,
          42.009571,
          42.031368
         ],
         "line": {
          "color": "blue",
          "width": 2
         },
         "lon": [
          -87.776596,
          -87.787183,
          -87.78652,
          -87.794307,
          -87.795053,
          -87.797879,
          -87.798468,
          -87.798192,
          -87.79821,
          -87.801941,
          -87.800602,
          -87.79719,
          -87.795648,
          -87.795104,
          -87.796026,
          -87.792609,
          -87.792748,
          -87.793309,
          -87.79231,
          -87.79232,
          -87.792661,
          -87.792091,
          -87.791731,
          -87.793534,
          -87.79514,
          -87.79558,
          -87.795522,
          -87.796471,
          -87.790875,
          -87.790855,
          -87.79231,
          -87.791805,
          -87.793113,
          -87.79457,
          -87.795988,
          -87.79394,
          -87.794743,
          -87.79718,
          -87.799312,
          -87.79939,
          -87.799095,
          -87.798873,
          -87.797924,
          -87.798595,
          -87.799833,
          -87.800586,
          -87.800697,
          -87.800755,
          -87.801711,
          -87.800336,
          -87.799531,
          -87.800411,
          -87.801173,
          -87.801336,
          -87.801413,
          -87.803708,
          -87.804156,
          -87.804143,
          -87.802951,
          -87.802978,
          -87.802725,
          -87.801948,
          -87.804194,
          -87.805366,
          -87.80489,
          -87.804903,
          -87.80612,
          -87.808075,
          -87.808835,
          -87.809717,
          -87.81066,
          -87.812836,
          -87.813855,
          -87.811694,
          -87.813477,
          -87.81162,
          -87.812408,
          -87.813199,
          -87.81315,
          -87.8121,
          -87.810404,
          -87.810921,
          -87.811297,
          -87.811985,
          -87.812197,
          -87.810225,
          -87.809755,
          -87.807404,
          -87.807978,
          -87.806766,
          -87.806736,
          -87.806753,
          -87.807966,
          -87.807963,
          -87.807953,
          -87.809171,
          -87.809173,
          -87.809184,
          -87.809177,
          -87.81039,
          -87.810383,
          -87.810015,
          -87.808377,
          -87.807795,
          -87.808667,
          -87.809753,
          -87.807211,
          -87.808835,
          -87.809642,
          -87.810333,
          -87.810996,
          -87.810104,
          -87.808792,
          -87.807088,
          -87.804512,
          -87.80412,
          -87.803753,
          -87.808176,
          -87.81097,
          -87.813671,
          -87.813953,
          -87.813694,
          -87.812317,
          -87.8137,
          -87.814218,
          -87.81836,
          -87.819132,
          -87.816642,
          -87.815812,
          -87.813184,
          -87.816372,
          -87.814852,
          -87.815098,
          -87.815089,
          -87.815083,
          -87.816456,
          -87.817621,
          -87.817584,
          -87.776596
         ],
         "mode": "lines",
         "type": "scattermapbox"
        },
        {
         "hoverinfo": "text",
         "lat": [],
         "lon": [],
         "marker": {
          "size": 15
         },
         "mode": "markers",
         "name": "nan",
         "text": [],
         "type": "scattermapbox"
        },
        {
         "hoverinfo": "text",
         "lat": [
          42.034701,
          42.0347,
          42.010624,
          42.01097,
          42.009862,
          42.010552
         ],
         "lon": [
          -87.787183,
          -87.78652,
          -87.794307,
          -87.795053,
          -87.797879,
          -87.798468
         ],
         "marker": {
          "size": 15
         },
         "mode": "markers",
         "name": "E-7.1C",
         "text": [
          "Sequence: 1<br> Stop ID: RC<br>Zone ID: E-7.1C<br>Num Packages: 2.0 <br> Service Time: 215.5",
          "Sequence: 2<br> Stop ID: OM<br>Zone ID: E-7.1C<br>Num Packages: 2.0 <br> Service Time: 20.5",
          "Sequence: 3<br> Stop ID: UB<br>Zone ID: E-7.1C<br>Num Packages: 1.0 <br> Service Time: 39.0",
          "Sequence: 4<br> Stop ID: FM<br>Zone ID: E-7.1C<br>Num Packages: 1.0 <br> Service Time: 51.0",
          "Sequence: 5<br> Stop ID: LX<br>Zone ID: E-7.1C<br>Num Packages: 1.0 <br> Service Time: 52.0",
          "Sequence: 6<br> Stop ID: PC<br>Zone ID: E-7.1C<br>Num Packages: 1.0 <br> Service Time: 41.0"
         ],
         "type": "scattermapbox"
        },
        {
         "hoverinfo": "text",
         "lat": [
          42.013021,
          42.01369,
          42.010971,
          42.010627,
          42.008005,
          42.007219,
          42.008275,
          42.007952,
          42.006485,
          42.005116
         ],
         "lon": [
          -87.798192,
          -87.79821,
          -87.801941,
          -87.800602,
          -87.79719,
          -87.795648,
          -87.795104,
          -87.796026,
          -87.792609,
          -87.792748
         ],
         "marker": {
          "size": 15
         },
         "mode": "markers",
         "name": "E-7.1B",
         "text": [
          "Sequence: 7<br> Stop ID: KQ<br>Zone ID: E-7.1B<br>Num Packages: 2.0 <br> Service Time: 118.0",
          "Sequence: 8<br> Stop ID: RI<br>Zone ID: E-7.1B<br>Num Packages: 1.0 <br> Service Time: 49.0",
          "Sequence: 9<br> Stop ID: UV<br>Zone ID: E-7.1B<br>Num Packages: 1.0 <br> Service Time: 28.0",
          "Sequence: 10<br> Stop ID: CF<br>Zone ID: E-7.1B<br>Num Packages: 3.0 <br> Service Time: 18.7",
          "Sequence: 11<br> Stop ID: VG<br>Zone ID: E-7.1B<br>Num Packages: 1.0 <br> Service Time: 74.0",
          "Sequence: 12<br> Stop ID: OC<br>Zone ID: E-7.1B<br>Num Packages: 2.0 <br> Service Time: 52.0",
          "Sequence: 13<br> Stop ID: ZP<br>Zone ID: E-7.1B<br>Num Packages: 2.0 <br> Service Time: 69.5",
          "Sequence: 14<br> Stop ID: RH<br>Zone ID: E-7.1B<br>Num Packages: 1.0 <br> Service Time: 183.0",
          "Sequence: 15<br> Stop ID: RQ<br>Zone ID: E-7.1B<br>Num Packages: 3.0 <br> Service Time: 40.7",
          "Sequence: 16<br> Stop ID: TA<br>Zone ID: E-7.1B<br>Num Packages: 1.0 <br> Service Time: 149.0"
         ],
         "type": "scattermapbox"
        },
        {
         "hoverinfo": "text",
         "lat": [
          42.003678,
          42.000146,
          41.998338,
          41.998243,
          41.996075,
          41.997329
         ],
         "lon": [
          -87.793309,
          -87.79231,
          -87.79232,
          -87.792661,
          -87.792091,
          -87.791731
         ],
         "marker": {
          "size": 15
         },
         "mode": "markers",
         "name": "E-7.2B",
         "text": [
          "Sequence: 17<br> Stop ID: FQ<br>Zone ID: E-7.2B<br>Num Packages: 3.0 <br> Service Time: 91.3",
          "Sequence: 18<br> Stop ID: LR<br>Zone ID: E-7.2B<br>Num Packages: 1.0 <br> Service Time: 92.0",
          "Sequence: 19<br> Stop ID: HT<br>Zone ID: E-7.2B<br>Num Packages: 3.0 <br> Service Time: 54.70000000000001",
          "Sequence: 20<br> Stop ID: GG<br>Zone ID: E-7.2B<br>Num Packages: 1.0 <br> Service Time: 251.0",
          "Sequence: 21<br> Stop ID: AL<br>Zone ID: E-7.2B<br>Num Packages: 1.0 <br> Service Time: 77.0",
          "Sequence: 22<br> Stop ID: OA<br>Zone ID: E-7.2B<br>Num Packages: 3.0 <br> Service Time: 54.0"
         ],
         "type": "scattermapbox"
        },
        {
         "hoverinfo": "text",
         "lat": [
          41.99733,
          41.998229,
          41.99755,
          41.99704,
          41.997123,
          41.998375,
          41.999753,
          41.999589,
          41.999136
         ],
         "lon": [
          -87.793534,
          -87.79514,
          -87.79558,
          -87.795522,
          -87.796471,
          -87.790875,
          -87.790855,
          -87.79231,
          -87.791805
         ],
         "marker": {
          "size": 15
         },
         "mode": "markers",
         "name": "E-7.3B",
         "text": [
          "Sequence: 23<br> Stop ID: BH<br>Zone ID: E-7.3B<br>Num Packages: 3.0 <br> Service Time: 185.69999999999996",
          "Sequence: 24<br> Stop ID: AT<br>Zone ID: E-7.3B<br>Num Packages: 1.0 <br> Service Time: 50.0",
          "Sequence: 25<br> Stop ID: MD<br>Zone ID: E-7.3B<br>Num Packages: 1.0 <br> Service Time: 36.0",
          "Sequence: 26<br> Stop ID: QD<br>Zone ID: E-7.3B<br>Num Packages: 1.0 <br> Service Time: 128.0",
          "Sequence: 27<br> Stop ID: LD<br>Zone ID: E-7.3B<br>Num Packages: 2.0 <br> Service Time: 97.0",
          "Sequence: 28<br> Stop ID: OL<br>Zone ID: E-7.3B<br>Num Packages: 3.0 <br> Service Time: 35.7",
          "Sequence: 29<br> Stop ID: UU<br>Zone ID: E-7.3B<br>Num Packages: 1.0 <br> Service Time: 76.0",
          "Sequence: 30<br> Stop ID: HP<br>Zone ID: E-7.3B<br>Num Packages: 1.0 <br> Service Time: 197.0",
          "Sequence: 31<br> Stop ID: PH<br>Zone ID: E-7.3B<br>Num Packages: 1.0 <br> Service Time: 33.0"
         ],
         "type": "scattermapbox"
        },
        {
         "hoverinfo": "text",
         "lat": [
          41.99914,
          42.000956,
          42.000943,
          42.000039,
          41.999135,
          41.999315,
          41.99917,
          41.999576,
          41.998067,
          41.997146,
          41.995894,
          41.995991
         ],
         "lon": [
          -87.793113,
          -87.79457,
          -87.795988,
          -87.79394,
          -87.794743,
          -87.79718,
          -87.799312,
          -87.79939,
          -87.799095,
          -87.798873,
          -87.797924,
          -87.798595
         ],
         "marker": {
          "size": 15
         },
         "mode": "markers",
         "name": "E-7.3A",
         "text": [
          "Sequence: 32<br> Stop ID: SR<br>Zone ID: E-7.3A<br>Num Packages: 1.0 <br> Service Time: 75.0",
          "Sequence: 33<br> Stop ID: QF<br>Zone ID: E-7.3A<br>Num Packages: 1.0 <br> Service Time: 30.0",
          "Sequence: 34<br> Stop ID: RJ<br>Zone ID: E-7.3A<br>Num Packages: 2.0 <br> Service Time: 90.0",
          "Sequence: 35<br> Stop ID: KG<br>Zone ID: E-7.3A<br>Num Packages: 1.0 <br> Service Time: 33.0",
          "Sequence: 36<br> Stop ID: EN<br>Zone ID: E-7.3A<br>Num Packages: 1.0 <br> Service Time: 27.0",
          "Sequence: 37<br> Stop ID: MR<br>Zone ID: E-7.3A<br>Num Packages: 4.0 <br> Service Time: 41.2",
          "Sequence: 38<br> Stop ID: CO<br>Zone ID: E-7.3A<br>Num Packages: 1.0 <br> Service Time: 38.0",
          "Sequence: 39<br> Stop ID: ZR<br>Zone ID: E-7.3A<br>Num Packages: 1.0 <br> Service Time: 52.0",
          "Sequence: 40<br> Stop ID: VY<br>Zone ID: E-7.3A<br>Num Packages: 1.0 <br> Service Time: 44.0",
          "Sequence: 41<br> Stop ID: HG<br>Zone ID: E-7.3A<br>Num Packages: 2.0 <br> Service Time: 63.5",
          "Sequence: 42<br> Stop ID: RF<br>Zone ID: E-7.3A<br>Num Packages: 2.0 <br> Service Time: 70.0",
          "Sequence: 43<br> Stop ID: XC<br>Zone ID: E-7.3A<br>Num Packages: 1.0 <br> Service Time: 46.0"
         ],
         "type": "scattermapbox"
        },
        {
         "hoverinfo": "text",
         "lat": [
          41.995669,
          41.995416,
          41.996377,
          41.996665,
          42.001457,
          41.999245,
          41.998481,
          41.998176
         ],
         "lon": [
          -87.799833,
          -87.800586,
          -87.800697,
          -87.800755,
          -87.801711,
          -87.800336,
          -87.799531,
          -87.800411
         ],
         "marker": {
          "size": 15
         },
         "mode": "markers",
         "name": "E-7.2A",
         "text": [
          "Sequence: 44<br> Stop ID: RM<br>Zone ID: E-7.2A<br>Num Packages: 2.0 <br> Service Time: 113.0",
          "Sequence: 45<br> Stop ID: EB<br>Zone ID: E-7.2A<br>Num Packages: 1.0 <br> Service Time: 49.0",
          "Sequence: 46<br> Stop ID: EO<br>Zone ID: E-7.2A<br>Num Packages: 2.0 <br> Service Time: 120.0",
          "Sequence: 47<br> Stop ID: YK<br>Zone ID: E-7.2A<br>Num Packages: 4.0 <br> Service Time: 107.5",
          "Sequence: 48<br> Stop ID: QL<br>Zone ID: E-7.2A<br>Num Packages: 3.0 <br> Service Time: 34.3",
          "Sequence: 49<br> Stop ID: TU<br>Zone ID: E-7.2A<br>Num Packages: 1.0 <br> Service Time: 27.0",
          "Sequence: 50<br> Stop ID: LG<br>Zone ID: E-7.2A<br>Num Packages: 2.0 <br> Service Time: 22.0",
          "Sequence: 51<br> Stop ID: DE<br>Zone ID: E-7.2A<br>Num Packages: 1.0 <br> Service Time: 45.0"
         ],
         "type": "scattermapbox"
        },
        {
         "hoverinfo": "text",
         "lat": [
          41.998574,
          41.999252,
          41.999572,
          41.999975,
          42.000255,
          42.001302,
          42.000087,
          41.998241,
          41.996189,
          41.997647
         ],
         "lon": [
          -87.801173,
          -87.801336,
          -87.801413,
          -87.803708,
          -87.804156,
          -87.804143,
          -87.802951,
          -87.802978,
          -87.802725,
          -87.801948
         ],
         "marker": {
          "size": 15
         },
         "mode": "markers",
         "name": "E-7.1A",
         "text": [
          "Sequence: 52<br> Stop ID: AK<br>Zone ID: E-7.1A<br>Num Packages: 4.0 <br> Service Time: 62.8",
          "Sequence: 53<br> Stop ID: LQ<br>Zone ID: E-7.1A<br>Num Packages: 1.0 <br> Service Time: 150.0",
          "Sequence: 54<br> Stop ID: VC<br>Zone ID: E-7.1A<br>Num Packages: 1.0 <br> Service Time: 59.0",
          "Sequence: 55<br> Stop ID: AS<br>Zone ID: E-7.1A<br>Num Packages: 1.0 <br> Service Time: 41.0",
          "Sequence: 56<br> Stop ID: IF<br>Zone ID: E-7.1A<br>Num Packages: 2.0 <br> Service Time: 30.5",
          "Sequence: 57<br> Stop ID: DW<br>Zone ID: E-7.1A<br>Num Packages: 1.0 <br> Service Time: 62.0",
          "Sequence: 58<br> Stop ID: VN<br>Zone ID: E-7.1A<br>Num Packages: 1.0 <br> Service Time: 53.0",
          "Sequence: 59<br> Stop ID: IZ<br>Zone ID: E-7.1A<br>Num Packages: 2.0 <br> Service Time: 52.0",
          "Sequence: 60<br> Stop ID: SJ<br>Zone ID: E-7.1A<br>Num Packages: 1.0 <br> Service Time: 60.0",
          "Sequence: 61<br> Stop ID: JT<br>Zone ID: E-7.1A<br>Num Packages: 2.0 <br> Service Time: 61.5"
         ],
         "type": "scattermapbox"
        },
        {
         "hoverinfo": "text",
         "lat": [
          41.99767,
          42.000165,
          41.999487,
          41.997493,
          41.997789
         ],
         "lon": [
          -87.804194,
          -87.805366,
          -87.80489,
          -87.804903,
          -87.80612
         ],
         "marker": {
          "size": 15
         },
         "mode": "markers",
         "name": "E-6.1A",
         "text": [
          "Sequence: 62<br> Stop ID: VE<br>Zone ID: E-6.1A<br>Num Packages: 1.0 <br> Service Time: 45.0",
          "Sequence: 63<br> Stop ID: SO<br>Zone ID: E-6.1A<br>Num Packages: 3.0 <br> Service Time: 137.0",
          "Sequence: 64<br> Stop ID: AZ<br>Zone ID: E-6.1A<br>Num Packages: 4.0 <br> Service Time: 41.2",
          "Sequence: 65<br> Stop ID: HD<br>Zone ID: E-6.1A<br>Num Packages: 1.0 <br> Service Time: 64.0",
          "Sequence: 66<br> Stop ID: NT<br>Zone ID: E-6.1A<br>Num Packages: 2.0 <br> Service Time: 83.0"
         ],
         "type": "scattermapbox"
        },
        {
         "hoverinfo": "text",
         "lat": [
          41.997768,
          41.998363,
          41.998772,
          41.999348
         ],
         "lon": [
          -87.808075,
          -87.808835,
          -87.809717,
          -87.81066
         ],
         "marker": {
          "size": 15
         },
         "mode": "markers",
         "name": "E-6.2A",
         "text": [
          "Sequence: 67<br> Stop ID: AY<br>Zone ID: E-6.2A<br>Num Packages: 1.0 <br> Service Time: 110.0",
          "Sequence: 68<br> Stop ID: WK<br>Zone ID: E-6.2A<br>Num Packages: 3.0 <br> Service Time: 189.0",
          "Sequence: 69<br> Stop ID: CB<br>Zone ID: E-6.2A<br>Num Packages: 8.0 <br> Service Time: 55.1",
          "Sequence: 70<br> Stop ID: MS<br>Zone ID: E-6.2A<br>Num Packages: 5.0 <br> Service Time: 132.0"
         ],
         "type": "scattermapbox"
        },
        {
         "hoverinfo": "text",
         "lat": [
          42.000722,
          42.000272,
          41.999506,
          42.002343,
          42.00365,
          42.003264,
          42.000915
         ],
         "lon": [
          -87.812836,
          -87.813855,
          -87.811694,
          -87.813477,
          -87.81162,
          -87.812408,
          -87.813199
         ],
         "marker": {
          "size": 15
         },
         "mode": "markers",
         "name": "E-6.3A",
         "text": [
          "Sequence: 71<br> Stop ID: OX<br>Zone ID: E-6.3A<br>Num Packages: 1.0 <br> Service Time: 126.0",
          "Sequence: 72<br> Stop ID: VP<br>Zone ID: E-6.3A<br>Num Packages: 2.0 <br> Service Time: 35.0",
          "Sequence: 73<br> Stop ID: YP<br>Zone ID: E-6.3A<br>Num Packages: 6.0 <br> Service Time: 47.0",
          "Sequence: 74<br> Stop ID: EH<br>Zone ID: E-6.3A<br>Num Packages: 1.0 <br> Service Time: 83.0",
          "Sequence: 75<br> Stop ID: SE<br>Zone ID: E-6.3A<br>Num Packages: 4.0 <br> Service Time: 100.2",
          "Sequence: 76<br> Stop ID: SW<br>Zone ID: E-6.3A<br>Num Packages: 4.0 <br> Service Time: 29.0",
          "Sequence: 77<br> Stop ID: GN<br>Zone ID: E-6.3A<br>Num Packages: 3.0 <br> Service Time: 21.0"
         ],
         "type": "scattermapbox"
        },
        {
         "hoverinfo": "text",
         "lat": [
          42.001229,
          42.002125,
          42.002129,
          42.001133,
          42.001364,
          42.000817,
          42.000528,
          42.000715,
          42.000434
         ],
         "lon": [
          -87.81315,
          -87.8121,
          -87.810404,
          -87.810921,
          -87.811297,
          -87.811985,
          -87.812197,
          -87.810225,
          -87.809755
         ],
         "marker": {
          "size": 15
         },
         "mode": "markers",
         "name": "E-6.3B",
         "text": [
          "Sequence: 78<br> Stop ID: YO<br>Zone ID: E-6.3B<br>Num Packages: 1.0 <br> Service Time: 49.0",
          "Sequence: 79<br> Stop ID: AX<br>Zone ID: E-6.3B<br>Num Packages: 1.0 <br> Service Time: 95.0",
          "Sequence: 80<br> Stop ID: FD<br>Zone ID: E-6.3B<br>Num Packages: 1.0 <br> Service Time: 82.0",
          "Sequence: 81<br> Stop ID: MF<br>Zone ID: E-6.3B<br>Num Packages: 1.0 <br> Service Time: 61.0",
          "Sequence: 82<br> Stop ID: YW<br>Zone ID: E-6.3B<br>Num Packages: 1.0 <br> Service Time: 111.0",
          "Sequence: 83<br> Stop ID: ZT<br>Zone ID: E-6.3B<br>Num Packages: 3.0 <br> Service Time: 47.70000000000001",
          "Sequence: 84<br> Stop ID: FT<br>Zone ID: E-6.3B<br>Num Packages: 1.0 <br> Service Time: 44.0",
          "Sequence: 85<br> Stop ID: VF<br>Zone ID: E-6.3B<br>Num Packages: 4.0 <br> Service Time: 151.0",
          "Sequence: 86<br> Stop ID: EP<br>Zone ID: E-6.3B<br>Num Packages: 1.0 <br> Service Time: 81.0"
         ],
         "type": "scattermapbox"
        },
        {
         "hoverinfo": "text",
         "lat": [
          41.998993,
          42.000498,
          42.000304,
          42.003052,
          42.001399,
          42.001478,
          42.002147
         ],
         "lon": [
          -87.807404,
          -87.807978,
          -87.806766,
          -87.806736,
          -87.806753,
          -87.807966,
          -87.807963
         ],
         "marker": {
          "size": 15
         },
         "mode": "markers",
         "name": "E-6.2B",
         "text": [
          "Sequence: 87<br> Stop ID: ZY<br>Zone ID: E-6.2B<br>Num Packages: 1.0 <br> Service Time: 155.0",
          "Sequence: 88<br> Stop ID: NF<br>Zone ID: E-6.2B<br>Num Packages: 1.0 <br> Service Time: 50.0",
          "Sequence: 89<br> Stop ID: HE<br>Zone ID: E-6.2B<br>Num Packages: 1.0 <br> Service Time: 43.0",
          "Sequence: 90<br> Stop ID: VZ<br>Zone ID: E-6.2B<br>Num Packages: 1.0 <br> Service Time: 216.0",
          "Sequence: 91<br> Stop ID: HX<br>Zone ID: E-6.2B<br>Num Packages: 7.0 <br> Service Time: 73.0",
          "Sequence: 92<br> Stop ID: GT<br>Zone ID: E-6.2B<br>Num Packages: 6.0 <br> Service Time: 69.2",
          "Sequence: 93<br> Stop ID: YF<br>Zone ID: E-6.2B<br>Num Packages: 3.0 <br> Service Time: 64.7"
         ],
         "type": "scattermapbox"
        },
        {
         "hoverinfo": "text",
         "lat": [
          42.003926,
          42.004253,
          42.003884,
          42.002181,
          42.003142
         ],
         "lon": [
          -87.807953,
          -87.809171,
          -87.809173,
          -87.809184,
          -87.809177
         ],
         "marker": {
          "size": 15
         },
         "mode": "markers",
         "name": "E-6.1B",
         "text": [
          "Sequence: 94<br> Stop ID: RR<br>Zone ID: E-6.1B<br>Num Packages: 2.0 <br> Service Time: 65.0",
          "Sequence: 95<br> Stop ID: WU<br>Zone ID: E-6.1B<br>Num Packages: 3.0 <br> Service Time: 50.70000000000001",
          "Sequence: 96<br> Stop ID: ZM<br>Zone ID: E-6.1B<br>Num Packages: 3.0 <br> Service Time: 112.0",
          "Sequence: 97<br> Stop ID: RN<br>Zone ID: E-6.1B<br>Num Packages: 1.0 <br> Service Time: 57.0",
          "Sequence: 98<br> Stop ID: TW<br>Zone ID: E-6.1B<br>Num Packages: 1.0 <br> Service Time: 35.0"
         ],
         "type": "scattermapbox"
        },
        {
         "hoverinfo": "text",
         "lat": [
          42.003425,
          42.004096,
          42.005277
         ],
         "lon": [
          -87.81039,
          -87.810383,
          -87.810015
         ],
         "marker": {
          "size": 15
         },
         "mode": "markers",
         "name": "E-6.1C",
         "text": [
          "Sequence: 99<br> Stop ID: OJ<br>Zone ID: E-6.1C<br>Num Packages: 4.0 <br> Service Time: 65.5",
          "Sequence: 100<br> Stop ID: FB<br>Zone ID: E-6.1C<br>Num Packages: 1.0 <br> Service Time: 29.0",
          "Sequence: 101<br> Stop ID: OQ<br>Zone ID: E-6.1C<br>Num Packages: 2.0 <br> Service Time: 31.0"
         ],
         "type": "scattermapbox"
        },
        {
         "hoverinfo": "text",
         "lat": [
          42.005326,
          42.006286,
          42.006256,
          42.00622,
          42.007188
         ],
         "lon": [
          -87.808377,
          -87.807795,
          -87.808667,
          -87.809753,
          -87.807211
         ],
         "marker": {
          "size": 15
         },
         "mode": "markers",
         "name": "E-6.2C",
         "text": [
          "Sequence: 102<br> Stop ID: BJ<br>Zone ID: E-6.2C<br>Num Packages: 1.0 <br> Service Time: 48.0",
          "Sequence: 103<br> Stop ID: SC<br>Zone ID: E-6.2C<br>Num Packages: 2.0 <br> Service Time: 55.5",
          "Sequence: 104<br> Stop ID: HL<br>Zone ID: E-6.2C<br>Num Packages: 3.0 <br> Service Time: 39.0",
          "Sequence: 105<br> Stop ID: RU<br>Zone ID: E-6.2C<br>Num Packages: 2.0 <br> Service Time: 122.0",
          "Sequence: 106<br> Stop ID: XS<br>Zone ID: E-6.2C<br>Num Packages: 5.0 <br> Service Time: 23.0"
         ],
         "type": "scattermapbox"
        },
        {
         "hoverinfo": "text",
         "lat": [
          42.007122,
          42.007093,
          42.007073,
          42.007232,
          42.008002,
          42.008041,
          42.008096,
          42.01012
         ],
         "lon": [
          -87.808835,
          -87.809642,
          -87.810333,
          -87.810996,
          -87.810104,
          -87.808792,
          -87.807088,
          -87.804512
         ],
         "marker": {
          "size": 15
         },
         "mode": "markers",
         "name": "E-6.3C",
         "text": [
          "Sequence: 107<br> Stop ID: MT<br>Zone ID: E-6.3C<br>Num Packages: 2.0 <br> Service Time: 90.5",
          "Sequence: 108<br> Stop ID: AU<br>Zone ID: E-6.3C<br>Num Packages: 2.0 <br> Service Time: 33.5",
          "Sequence: 109<br> Stop ID: KT<br>Zone ID: E-6.3C<br>Num Packages: 1.0 <br> Service Time: 36.0",
          "Sequence: 110<br> Stop ID: QW<br>Zone ID: E-6.3C<br>Num Packages: 1.0 <br> Service Time: 52.0",
          "Sequence: 111<br> Stop ID: HV<br>Zone ID: E-6.3C<br>Num Packages: 3.0 <br> Service Time: 43.70000000000001",
          "Sequence: 112<br> Stop ID: TG<br>Zone ID: E-6.3C<br>Num Packages: 3.0 <br> Service Time: 94.0",
          "Sequence: 113<br> Stop ID: ND<br>Zone ID: E-6.3C<br>Num Packages: 2.0 <br> Service Time: 159.0",
          "Sequence: 114<br> Stop ID: FS<br>Zone ID: E-6.3C<br>Num Packages: 1.0 <br> Service Time: 71.0"
         ],
         "type": "scattermapbox"
        },
        {
         "hoverinfo": "text",
         "lat": [
          42.009807,
          42.010099,
          42.008968,
          42.009158,
          42.008439,
          42.00789,
          42.006678,
          42.005355,
          42.005271
         ],
         "lon": [
          -87.80412,
          -87.803753,
          -87.808176,
          -87.81097,
          -87.813671,
          -87.813953,
          -87.813694,
          -87.812317,
          -87.8137
         ],
         "marker": {
          "size": 15
         },
         "mode": "markers",
         "name": "E-6.3D",
         "text": [
          "Sequence: 115<br> Stop ID: NA<br>Zone ID: E-6.3D<br>Num Packages: 2.0 <br> Service Time: 92.0",
          "Sequence: 116<br> Stop ID: YR<br>Zone ID: E-6.3D<br>Num Packages: 1.0 <br> Service Time: 25.0",
          "Sequence: 117<br> Stop ID: IG<br>Zone ID: E-6.3D<br>Num Packages: 2.0 <br> Service Time: 44.0",
          "Sequence: 118<br> Stop ID: WA<br>Zone ID: E-6.3D<br>Num Packages: 1.0 <br> Service Time: 39.0",
          "Sequence: 119<br> Stop ID: LH<br>Zone ID: E-6.3D<br>Num Packages: 2.0 <br> Service Time: 49.0",
          "Sequence: 120<br> Stop ID: JL<br>Zone ID: E-6.3D<br>Num Packages: 1.0 <br> Service Time: 51.0",
          "Sequence: 121<br> Stop ID: WH<br>Zone ID: E-6.3D<br>Num Packages: 1.0 <br> Service Time: 35.0",
          "Sequence: 122<br> Stop ID: KS<br>Zone ID: E-6.3D<br>Num Packages: 2.0 <br> Service Time: 154.0",
          "Sequence: 123<br> Stop ID: YQ<br>Zone ID: E-6.3D<br>Num Packages: 3.0 <br> Service Time: 44.29999999999999"
         ],
         "type": "scattermapbox"
        },
        {
         "hoverinfo": "text",
         "lat": [
          42.004224,
          42.002875,
          42.00332,
          42.002324,
          42.003141,
          42.003996
         ],
         "lon": [
          -87.814218,
          -87.81836,
          -87.819132,
          -87.816642,
          -87.815812,
          -87.813184
         ],
         "marker": {
          "size": 15
         },
         "mode": "markers",
         "name": "E-6.2D",
         "text": [
          "Sequence: 124<br> Stop ID: NV<br>Zone ID: E-6.2D<br>Num Packages: 1.0 <br> Service Time: 39.0",
          "Sequence: 125<br> Stop ID: ZQ<br>Zone ID: E-6.2D<br>Num Packages: 1.0 <br> Service Time: 45.0",
          "Sequence: 126<br> Stop ID: JH<br>Zone ID: E-6.2D<br>Num Packages: 4.0 <br> Service Time: 14.5",
          "Sequence: 127<br> Stop ID: WS<br>Zone ID: E-6.2D<br>Num Packages: 1.0 <br> Service Time: 111.0",
          "Sequence: 128<br> Stop ID: WD<br>Zone ID: E-6.2D<br>Num Packages: 3.0 <br> Service Time: 65.3",
          "Sequence: 129<br> Stop ID: NI<br>Zone ID: E-6.2D<br>Num Packages: 3.0 <br> Service Time: 56.0"
         ],
         "type": "scattermapbox"
        },
        {
         "hoverinfo": "text",
         "lat": [
          42.00187,
          42.003788,
          42.004423,
          42.005222,
          42.005805,
          42.005393,
          42.006633,
          42.009571,
          42.031368
         ],
         "lon": [
          -87.816372,
          -87.814852,
          -87.815098,
          -87.815089,
          -87.815083,
          -87.816456,
          -87.817621,
          -87.817584,
          -87.776596
         ],
         "marker": {
          "size": 15
         },
         "mode": "markers",
         "name": "E-6.1D",
         "text": [
          "Sequence: 130<br> Stop ID: OK<br>Zone ID: E-6.1D<br>Num Packages: 1.0 <br> Service Time: 64.0",
          "Sequence: 131<br> Stop ID: NM<br>Zone ID: E-6.1D<br>Num Packages: 1.0 <br> Service Time: 63.0",
          "Sequence: 132<br> Stop ID: AM<br>Zone ID: E-6.1D<br>Num Packages: 3.0 <br> Service Time: 15.0",
          "Sequence: 133<br> Stop ID: DS<br>Zone ID: E-6.1D<br>Num Packages: 2.0 <br> Service Time: 63.0",
          "Sequence: 134<br> Stop ID: NZ<br>Zone ID: E-6.1D<br>Num Packages: 1.0 <br> Service Time: 34.0",
          "Sequence: 135<br> Stop ID: XW<br>Zone ID: E-6.1D<br>Num Packages: 1.0 <br> Service Time: 71.0",
          "Sequence: 136<br> Stop ID: AV<br>Zone ID: E-6.1D<br>Num Packages: 1.0 <br> Service Time: 108.0",
          "Sequence: 137<br> Stop ID: WL<br>Zone ID: E-6.1D<br>Num Packages: 3.0 <br> Service Time: 83.3",
          "Sequence: 138<br> Stop ID: HI<br>Zone ID: E-6.1D<br>Num Packages: nan <br> Service Time: nan"
         ],
         "type": "scattermapbox"
        }
       ],
       "layout": {
        "height": 600,
        "mapbox": {
         "center": {
          "lat": 42.003422683453245,
          "lon": -87.80419681294964
         },
         "style": "open-street-map",
         "zoom": 10
        },
        "margin": {
         "b": 10,
         "l": 10,
         "r": 10,
         "t": 10
        },
        "showlegend": false,
        "template": {
         "data": {
          "bar": [
           {
            "error_x": {
             "color": "#2a3f5f"
            },
            "error_y": {
             "color": "#2a3f5f"
            },
            "marker": {
             "line": {
              "color": "#E5ECF6",
              "width": 0.5
             },
             "pattern": {
              "fillmode": "overlay",
              "size": 10,
              "solidity": 0.2
             }
            },
            "type": "bar"
           }
          ],
          "barpolar": [
           {
            "marker": {
             "line": {
              "color": "#E5ECF6",
              "width": 0.5
             },
             "pattern": {
              "fillmode": "overlay",
              "size": 10,
              "solidity": 0.2
             }
            },
            "type": "barpolar"
           }
          ],
          "carpet": [
           {
            "aaxis": {
             "endlinecolor": "#2a3f5f",
             "gridcolor": "white",
             "linecolor": "white",
             "minorgridcolor": "white",
             "startlinecolor": "#2a3f5f"
            },
            "baxis": {
             "endlinecolor": "#2a3f5f",
             "gridcolor": "white",
             "linecolor": "white",
             "minorgridcolor": "white",
             "startlinecolor": "#2a3f5f"
            },
            "type": "carpet"
           }
          ],
          "choropleth": [
           {
            "colorbar": {
             "outlinewidth": 0,
             "ticks": ""
            },
            "type": "choropleth"
           }
          ],
          "contour": [
           {
            "colorbar": {
             "outlinewidth": 0,
             "ticks": ""
            },
            "colorscale": [
             [
              0,
              "#0d0887"
             ],
             [
              0.1111111111111111,
              "#46039f"
             ],
             [
              0.2222222222222222,
              "#7201a8"
             ],
             [
              0.3333333333333333,
              "#9c179e"
             ],
             [
              0.4444444444444444,
              "#bd3786"
             ],
             [
              0.5555555555555556,
              "#d8576b"
             ],
             [
              0.6666666666666666,
              "#ed7953"
             ],
             [
              0.7777777777777778,
              "#fb9f3a"
             ],
             [
              0.8888888888888888,
              "#fdca26"
             ],
             [
              1,
              "#f0f921"
             ]
            ],
            "type": "contour"
           }
          ],
          "contourcarpet": [
           {
            "colorbar": {
             "outlinewidth": 0,
             "ticks": ""
            },
            "type": "contourcarpet"
           }
          ],
          "heatmap": [
           {
            "colorbar": {
             "outlinewidth": 0,
             "ticks": ""
            },
            "colorscale": [
             [
              0,
              "#0d0887"
             ],
             [
              0.1111111111111111,
              "#46039f"
             ],
             [
              0.2222222222222222,
              "#7201a8"
             ],
             [
              0.3333333333333333,
              "#9c179e"
             ],
             [
              0.4444444444444444,
              "#bd3786"
             ],
             [
              0.5555555555555556,
              "#d8576b"
             ],
             [
              0.6666666666666666,
              "#ed7953"
             ],
             [
              0.7777777777777778,
              "#fb9f3a"
             ],
             [
              0.8888888888888888,
              "#fdca26"
             ],
             [
              1,
              "#f0f921"
             ]
            ],
            "type": "heatmap"
           }
          ],
          "heatmapgl": [
           {
            "colorbar": {
             "outlinewidth": 0,
             "ticks": ""
            },
            "colorscale": [
             [
              0,
              "#0d0887"
             ],
             [
              0.1111111111111111,
              "#46039f"
             ],
             [
              0.2222222222222222,
              "#7201a8"
             ],
             [
              0.3333333333333333,
              "#9c179e"
             ],
             [
              0.4444444444444444,
              "#bd3786"
             ],
             [
              0.5555555555555556,
              "#d8576b"
             ],
             [
              0.6666666666666666,
              "#ed7953"
             ],
             [
              0.7777777777777778,
              "#fb9f3a"
             ],
             [
              0.8888888888888888,
              "#fdca26"
             ],
             [
              1,
              "#f0f921"
             ]
            ],
            "type": "heatmapgl"
           }
          ],
          "histogram": [
           {
            "marker": {
             "pattern": {
              "fillmode": "overlay",
              "size": 10,
              "solidity": 0.2
             }
            },
            "type": "histogram"
           }
          ],
          "histogram2d": [
           {
            "colorbar": {
             "outlinewidth": 0,
             "ticks": ""
            },
            "colorscale": [
             [
              0,
              "#0d0887"
             ],
             [
              0.1111111111111111,
              "#46039f"
             ],
             [
              0.2222222222222222,
              "#7201a8"
             ],
             [
              0.3333333333333333,
              "#9c179e"
             ],
             [
              0.4444444444444444,
              "#bd3786"
             ],
             [
              0.5555555555555556,
              "#d8576b"
             ],
             [
              0.6666666666666666,
              "#ed7953"
             ],
             [
              0.7777777777777778,
              "#fb9f3a"
             ],
             [
              0.8888888888888888,
              "#fdca26"
             ],
             [
              1,
              "#f0f921"
             ]
            ],
            "type": "histogram2d"
           }
          ],
          "histogram2dcontour": [
           {
            "colorbar": {
             "outlinewidth": 0,
             "ticks": ""
            },
            "colorscale": [
             [
              0,
              "#0d0887"
             ],
             [
              0.1111111111111111,
              "#46039f"
             ],
             [
              0.2222222222222222,
              "#7201a8"
             ],
             [
              0.3333333333333333,
              "#9c179e"
             ],
             [
              0.4444444444444444,
              "#bd3786"
             ],
             [
              0.5555555555555556,
              "#d8576b"
             ],
             [
              0.6666666666666666,
              "#ed7953"
             ],
             [
              0.7777777777777778,
              "#fb9f3a"
             ],
             [
              0.8888888888888888,
              "#fdca26"
             ],
             [
              1,
              "#f0f921"
             ]
            ],
            "type": "histogram2dcontour"
           }
          ],
          "mesh3d": [
           {
            "colorbar": {
             "outlinewidth": 0,
             "ticks": ""
            },
            "type": "mesh3d"
           }
          ],
          "parcoords": [
           {
            "line": {
             "colorbar": {
              "outlinewidth": 0,
              "ticks": ""
             }
            },
            "type": "parcoords"
           }
          ],
          "pie": [
           {
            "automargin": true,
            "type": "pie"
           }
          ],
          "scatter": [
           {
            "fillpattern": {
             "fillmode": "overlay",
             "size": 10,
             "solidity": 0.2
            },
            "type": "scatter"
           }
          ],
          "scatter3d": [
           {
            "line": {
             "colorbar": {
              "outlinewidth": 0,
              "ticks": ""
             }
            },
            "marker": {
             "colorbar": {
              "outlinewidth": 0,
              "ticks": ""
             }
            },
            "type": "scatter3d"
           }
          ],
          "scattercarpet": [
           {
            "marker": {
             "colorbar": {
              "outlinewidth": 0,
              "ticks": ""
             }
            },
            "type": "scattercarpet"
           }
          ],
          "scattergeo": [
           {
            "marker": {
             "colorbar": {
              "outlinewidth": 0,
              "ticks": ""
             }
            },
            "type": "scattergeo"
           }
          ],
          "scattergl": [
           {
            "marker": {
             "colorbar": {
              "outlinewidth": 0,
              "ticks": ""
             }
            },
            "type": "scattergl"
           }
          ],
          "scattermapbox": [
           {
            "marker": {
             "colorbar": {
              "outlinewidth": 0,
              "ticks": ""
             }
            },
            "type": "scattermapbox"
           }
          ],
          "scatterpolar": [
           {
            "marker": {
             "colorbar": {
              "outlinewidth": 0,
              "ticks": ""
             }
            },
            "type": "scatterpolar"
           }
          ],
          "scatterpolargl": [
           {
            "marker": {
             "colorbar": {
              "outlinewidth": 0,
              "ticks": ""
             }
            },
            "type": "scatterpolargl"
           }
          ],
          "scatterternary": [
           {
            "marker": {
             "colorbar": {
              "outlinewidth": 0,
              "ticks": ""
             }
            },
            "type": "scatterternary"
           }
          ],
          "surface": [
           {
            "colorbar": {
             "outlinewidth": 0,
             "ticks": ""
            },
            "colorscale": [
             [
              0,
              "#0d0887"
             ],
             [
              0.1111111111111111,
              "#46039f"
             ],
             [
              0.2222222222222222,
              "#7201a8"
             ],
             [
              0.3333333333333333,
              "#9c179e"
             ],
             [
              0.4444444444444444,
              "#bd3786"
             ],
             [
              0.5555555555555556,
              "#d8576b"
             ],
             [
              0.6666666666666666,
              "#ed7953"
             ],
             [
              0.7777777777777778,
              "#fb9f3a"
             ],
             [
              0.8888888888888888,
              "#fdca26"
             ],
             [
              1,
              "#f0f921"
             ]
            ],
            "type": "surface"
           }
          ],
          "table": [
           {
            "cells": {
             "fill": {
              "color": "#EBF0F8"
             },
             "line": {
              "color": "white"
             }
            },
            "header": {
             "fill": {
              "color": "#C8D4E3"
             },
             "line": {
              "color": "white"
             }
            },
            "type": "table"
           }
          ]
         },
         "layout": {
          "annotationdefaults": {
           "arrowcolor": "#2a3f5f",
           "arrowhead": 0,
           "arrowwidth": 1
          },
          "autotypenumbers": "strict",
          "coloraxis": {
           "colorbar": {
            "outlinewidth": 0,
            "ticks": ""
           }
          },
          "colorscale": {
           "diverging": [
            [
             0,
             "#8e0152"
            ],
            [
             0.1,
             "#c51b7d"
            ],
            [
             0.2,
             "#de77ae"
            ],
            [
             0.3,
             "#f1b6da"
            ],
            [
             0.4,
             "#fde0ef"
            ],
            [
             0.5,
             "#f7f7f7"
            ],
            [
             0.6,
             "#e6f5d0"
            ],
            [
             0.7,
             "#b8e186"
            ],
            [
             0.8,
             "#7fbc41"
            ],
            [
             0.9,
             "#4d9221"
            ],
            [
             1,
             "#276419"
            ]
           ],
           "sequential": [
            [
             0,
             "#0d0887"
            ],
            [
             0.1111111111111111,
             "#46039f"
            ],
            [
             0.2222222222222222,
             "#7201a8"
            ],
            [
             0.3333333333333333,
             "#9c179e"
            ],
            [
             0.4444444444444444,
             "#bd3786"
            ],
            [
             0.5555555555555556,
             "#d8576b"
            ],
            [
             0.6666666666666666,
             "#ed7953"
            ],
            [
             0.7777777777777778,
             "#fb9f3a"
            ],
            [
             0.8888888888888888,
             "#fdca26"
            ],
            [
             1,
             "#f0f921"
            ]
           ],
           "sequentialminus": [
            [
             0,
             "#0d0887"
            ],
            [
             0.1111111111111111,
             "#46039f"
            ],
            [
             0.2222222222222222,
             "#7201a8"
            ],
            [
             0.3333333333333333,
             "#9c179e"
            ],
            [
             0.4444444444444444,
             "#bd3786"
            ],
            [
             0.5555555555555556,
             "#d8576b"
            ],
            [
             0.6666666666666666,
             "#ed7953"
            ],
            [
             0.7777777777777778,
             "#fb9f3a"
            ],
            [
             0.8888888888888888,
             "#fdca26"
            ],
            [
             1,
             "#f0f921"
            ]
           ]
          },
          "colorway": [
           "#636efa",
           "#EF553B",
           "#00cc96",
           "#ab63fa",
           "#FFA15A",
           "#19d3f3",
           "#FF6692",
           "#B6E880",
           "#FF97FF",
           "#FECB52"
          ],
          "font": {
           "color": "#2a3f5f"
          },
          "geo": {
           "bgcolor": "white",
           "lakecolor": "white",
           "landcolor": "#E5ECF6",
           "showlakes": true,
           "showland": true,
           "subunitcolor": "white"
          },
          "hoverlabel": {
           "align": "left"
          },
          "hovermode": "closest",
          "mapbox": {
           "style": "light"
          },
          "paper_bgcolor": "white",
          "plot_bgcolor": "#E5ECF6",
          "polar": {
           "angularaxis": {
            "gridcolor": "white",
            "linecolor": "white",
            "ticks": ""
           },
           "bgcolor": "#E5ECF6",
           "radialaxis": {
            "gridcolor": "white",
            "linecolor": "white",
            "ticks": ""
           }
          },
          "scene": {
           "xaxis": {
            "backgroundcolor": "#E5ECF6",
            "gridcolor": "white",
            "gridwidth": 2,
            "linecolor": "white",
            "showbackground": true,
            "ticks": "",
            "zerolinecolor": "white"
           },
           "yaxis": {
            "backgroundcolor": "#E5ECF6",
            "gridcolor": "white",
            "gridwidth": 2,
            "linecolor": "white",
            "showbackground": true,
            "ticks": "",
            "zerolinecolor": "white"
           },
           "zaxis": {
            "backgroundcolor": "#E5ECF6",
            "gridcolor": "white",
            "gridwidth": 2,
            "linecolor": "white",
            "showbackground": true,
            "ticks": "",
            "zerolinecolor": "white"
           }
          },
          "shapedefaults": {
           "line": {
            "color": "#2a3f5f"
           }
          },
          "ternary": {
           "aaxis": {
            "gridcolor": "white",
            "linecolor": "white",
            "ticks": ""
           },
           "baxis": {
            "gridcolor": "white",
            "linecolor": "white",
            "ticks": ""
           },
           "bgcolor": "#E5ECF6",
           "caxis": {
            "gridcolor": "white",
            "linecolor": "white",
            "ticks": ""
           }
          },
          "title": {
           "x": 0.05
          },
          "xaxis": {
           "automargin": true,
           "gridcolor": "white",
           "linecolor": "white",
           "ticks": "",
           "title": {
            "standoff": 15
           },
           "zerolinecolor": "white",
           "zerolinewidth": 2
          },
          "yaxis": {
           "automargin": true,
           "gridcolor": "white",
           "linecolor": "white",
           "ticks": "",
           "title": {
            "standoff": 15
           },
           "zerolinecolor": "white",
           "zerolinewidth": 2
          }
         }
        }
       }
      }
     },
     "metadata": {},
     "output_type": "display_data"
    }
   ],
   "source": [
    "fig = go.Figure(go.Scattermapbox(\n",
    "    lat=route_data_ordered['lat'],\n",
    "    lon=route_data_ordered['lng'],\n",
    "    mode='lines',\n",
    "    line=dict(width=2, color='blue'),  # Customize line color and width here\n",
    "    hoverinfo='none'\n",
    "))\n",
    "route_data_ordered['zone_id'].ffill(inplace=True)\n",
    "# Add scatter points for each unique zone_id, with custom hover text\n",
    "for zone_id in route_data_ordered['zone_id'].unique():\n",
    "    df_sub = route_data_ordered[route_data_ordered['zone_id'] == zone_id]\n",
    "\n",
    "    # Creating custom hover text\n",
    "    hover_text = df_sub.apply(lambda row: f\"Sequence: {row.name}<br> Stop ID: {row['stop_id']}<br>Zone ID: {row['zone_id']}<br>Num Packages: {row['num_packages']} <br> Service Time: {row['service_time_seconds']}\", axis=1)\n",
    "\n",
    "\n",
    "    fig.add_trace(go.Scattermapbox(\n",
    "        lat=df_sub['lat'],\n",
    "        lon=df_sub['lng'],\n",
    "        mode='markers',\n",
    "        marker=go.scattermapbox.Marker(size=15),\n",
    "        name=str(zone_id),\n",
    "        text=hover_text,\n",
    "        hoverinfo='text'\n",
    "    ))\n",
    "\n",
    "# Update the layout to use OpenStreetMap style and adjust other layout properties\n",
    "fig.update_layout(\n",
    "\n",
    "    height=600,\n",
    "    mapbox=dict(\n",
    "        style=\"open-street-map\",\n",
    "        zoom=10,  # Adjust zoom level here\n",
    "        center=dict(lat=route_data_ordered['lat'].mean(), lon=route_data_ordered['lng'].mean())\n",
    "    ),\n",
    "    showlegend=False  # Set to True if you want to show legend\n",
    ")\n",
    "fig.update_layout(margin=dict(l=10, r=10, t=10, b=10))\n",
    "\n",
    "\n",
    "# Show the figure\n",
    "fig.show()"
   ]
  },
  {
   "cell_type": "code",
   "execution_count": 24,
   "metadata": {},
   "outputs": [
    {
     "data": {
      "text/plain": [
       "164"
      ]
     },
     "execution_count": 24,
     "metadata": {},
     "output_type": "execute_result"
    }
   ],
   "source": [
    "drone_data_ordered = pd.concat([route_data_route_df[route_data_route_df['stop_id'] == stop_id] for stop_id in test.drone_path]).reset_index(drop=True)\n",
    "len(drone_data_ordered)"
   ]
  },
  {
   "cell_type": "code",
   "execution_count": 25,
   "metadata": {},
   "outputs": [
    {
     "data": {
      "application/vnd.plotly.v1+json": {
       "config": {
        "plotlyServerURL": "https://plot.ly"
       },
       "data": [
        {
         "hoverinfo": "none",
         "lat": [
          42.031368,
          42.034701,
          42.0347,
          42.011134,
          42.010624,
          42.01097,
          42.009862,
          42.010552,
          42.013021,
          42.01369,
          42.010971,
          42.010627,
          42.008005,
          42.007219,
          42.008275,
          42.007952,
          42.006485,
          42.005116,
          42.003678,
          42.000146,
          41.998338,
          41.998243,
          41.996075,
          41.997329,
          41.99733,
          41.998229,
          41.99755,
          41.99704,
          41.997123,
          41.997329,
          41.998375,
          41.999753,
          41.999589,
          41.999136,
          41.99914,
          42.000933,
          42.000956,
          42.000943,
          42.000039,
          41.999135,
          41.99902,
          41.999315,
          41.999088,
          41.99917,
          41.999576,
          41.998067,
          41.997146,
          41.99675,
          41.995894,
          41.995991,
          41.995669,
          41.995416,
          41.996377,
          41.996665,
          42.001457,
          41.999245,
          41.99873,
          41.998481,
          41.998176,
          41.998574,
          41.999252,
          41.999572,
          41.999975,
          42.000255,
          42.001302,
          42.000087,
          41.998833,
          41.998241,
          41.997099,
          41.996189,
          41.997647,
          41.99767,
          41.998657,
          42.000165,
          41.999534,
          41.999487,
          41.998939,
          41.997493,
          41.997757,
          41.997789,
          41.997768,
          41.995023,
          41.998363,
          41.998772,
          41.999088,
          41.999348,
          42.000154,
          42.000722,
          42.000272,
          41.999506,
          42.001191,
          42.002343,
          42.00365,
          42.003264,
          42.000915,
          42.001229,
          42.002125,
          42.002129,
          42.001133,
          42.001364,
          42.000817,
          42.000528,
          42.000715,
          42.000434,
          41.998993,
          42.000498,
          42.000607,
          42.000304,
          42.003052,
          42.001399,
          42.001478,
          42.002147,
          42.003926,
          42.004253,
          42.003884,
          42.001054,
          42.002181,
          42.003142,
          42.003425,
          42.004096,
          42.00523,
          42.005277,
          42.005326,
          42.006286,
          42.006256,
          42.00622,
          42.007188,
          42.007122,
          42.007093,
          42.007073,
          42.007232,
          42.008002,
          42.008041,
          42.008096,
          42.01012,
          42.009807,
          42.010099,
          42.008968,
          42.009158,
          42.009292,
          42.008439,
          42.00789,
          42.006678,
          42.007201,
          42.005355,
          42.004804,
          42.005271,
          42.004224,
          42.002875,
          42.00332,
          42.002324,
          42.003141,
          42.003996,
          42.003057,
          42.00187,
          42.003788,
          42.004423,
          42.005222,
          42.005805,
          42.005393,
          42.005649,
          42.006633,
          42.009571,
          42.031368
         ],
         "line": {
          "color": "blue",
          "width": 2
         },
         "lon": [
          -87.776596,
          -87.787183,
          -87.78652,
          -87.793221,
          -87.794307,
          -87.795053,
          -87.797879,
          -87.798468,
          -87.798192,
          -87.79821,
          -87.801941,
          -87.800602,
          -87.79719,
          -87.795648,
          -87.795104,
          -87.796026,
          -87.792609,
          -87.792748,
          -87.793309,
          -87.79231,
          -87.79232,
          -87.792661,
          -87.792091,
          -87.791731,
          -87.793534,
          -87.79514,
          -87.79558,
          -87.795522,
          -87.796471,
          -87.794719,
          -87.790875,
          -87.790855,
          -87.79231,
          -87.791805,
          -87.793113,
          -87.79313,
          -87.79457,
          -87.795988,
          -87.79394,
          -87.794743,
          -87.796154,
          -87.79718,
          -87.79822,
          -87.799312,
          -87.79939,
          -87.799095,
          -87.798873,
          -87.798357,
          -87.797924,
          -87.798595,
          -87.799833,
          -87.800586,
          -87.800697,
          -87.800755,
          -87.801711,
          -87.800336,
          -87.800221,
          -87.799531,
          -87.800411,
          -87.801173,
          -87.801336,
          -87.801413,
          -87.803708,
          -87.804156,
          -87.804143,
          -87.802951,
          -87.802975,
          -87.802978,
          -87.803337,
          -87.802725,
          -87.801948,
          -87.804194,
          -87.80575,
          -87.805366,
          -87.805207,
          -87.80489,
          -87.804897,
          -87.804903,
          -87.804697,
          -87.80612,
          -87.808075,
          -87.803519,
          -87.808835,
          -87.809717,
          -87.810239,
          -87.81066,
          -87.811975,
          -87.812836,
          -87.813855,
          -87.811694,
          -87.81363,
          -87.813477,
          -87.81162,
          -87.812408,
          -87.813199,
          -87.81315,
          -87.8121,
          -87.810404,
          -87.810921,
          -87.811297,
          -87.811985,
          -87.812197,
          -87.810225,
          -87.809755,
          -87.807404,
          -87.807978,
          -87.806763,
          -87.806766,
          -87.806736,
          -87.806753,
          -87.807966,
          -87.807963,
          -87.807953,
          -87.809171,
          -87.809173,
          -87.809196,
          -87.809184,
          -87.809177,
          -87.81039,
          -87.810383,
          -87.811527,
          -87.810015,
          -87.808377,
          -87.807795,
          -87.808667,
          -87.809753,
          -87.807211,
          -87.808835,
          -87.809642,
          -87.810333,
          -87.810996,
          -87.810104,
          -87.808792,
          -87.807088,
          -87.804512,
          -87.80412,
          -87.803753,
          -87.808176,
          -87.81097,
          -87.813657,
          -87.813671,
          -87.813953,
          -87.813694,
          -87.812288,
          -87.812317,
          -87.812329,
          -87.8137,
          -87.814218,
          -87.81836,
          -87.819132,
          -87.816642,
          -87.815812,
          -87.813184,
          -87.814257,
          -87.816372,
          -87.814852,
          -87.815098,
          -87.815089,
          -87.815083,
          -87.816456,
          -87.817634,
          -87.817621,
          -87.817584,
          -87.776596
         ],
         "mode": "lines",
         "type": "scattermapbox"
        },
        {
         "hoverinfo": "text",
         "lat": [],
         "lon": [],
         "marker": {
          "size": 15
         },
         "mode": "markers",
         "name": "nan",
         "text": [],
         "type": "scattermapbox"
        },
        {
         "hoverinfo": "text",
         "lat": [
          42.034701,
          42.0347,
          42.011134,
          42.010624,
          42.01097,
          42.009862,
          42.010552
         ],
         "lon": [
          -87.787183,
          -87.78652,
          -87.793221,
          -87.794307,
          -87.795053,
          -87.797879,
          -87.798468
         ],
         "marker": {
          "size": 15
         },
         "mode": "markers",
         "name": "E-7.1C",
         "text": [
          "Sequence: 1<br> Stop ID: RC<br>Zone ID: E-7.1C<br>Num Packages: 2.0 <br> Service Time: 215.5",
          "Sequence: 2<br> Stop ID: OM<br>Zone ID: E-7.1C<br>Num Packages: 2.0 <br> Service Time: 20.5",
          "Sequence: 3<br> Stop ID: KN<br>Zone ID: E-7.1C<br>Num Packages: 1.0 <br> Service Time: 34.0",
          "Sequence: 4<br> Stop ID: UB<br>Zone ID: E-7.1C<br>Num Packages: 1.0 <br> Service Time: 39.0",
          "Sequence: 5<br> Stop ID: FM<br>Zone ID: E-7.1C<br>Num Packages: 1.0 <br> Service Time: 51.0",
          "Sequence: 6<br> Stop ID: LX<br>Zone ID: E-7.1C<br>Num Packages: 1.0 <br> Service Time: 52.0",
          "Sequence: 7<br> Stop ID: PC<br>Zone ID: E-7.1C<br>Num Packages: 1.0 <br> Service Time: 41.0"
         ],
         "type": "scattermapbox"
        },
        {
         "hoverinfo": "text",
         "lat": [
          42.013021,
          42.01369,
          42.010971,
          42.010627,
          42.008005,
          42.007219,
          42.008275,
          42.007952,
          42.006485,
          42.005116
         ],
         "lon": [
          -87.798192,
          -87.79821,
          -87.801941,
          -87.800602,
          -87.79719,
          -87.795648,
          -87.795104,
          -87.796026,
          -87.792609,
          -87.792748
         ],
         "marker": {
          "size": 15
         },
         "mode": "markers",
         "name": "E-7.1B",
         "text": [
          "Sequence: 8<br> Stop ID: KQ<br>Zone ID: E-7.1B<br>Num Packages: 2.0 <br> Service Time: 118.0",
          "Sequence: 9<br> Stop ID: RI<br>Zone ID: E-7.1B<br>Num Packages: 1.0 <br> Service Time: 49.0",
          "Sequence: 10<br> Stop ID: UV<br>Zone ID: E-7.1B<br>Num Packages: 1.0 <br> Service Time: 28.0",
          "Sequence: 11<br> Stop ID: CF<br>Zone ID: E-7.1B<br>Num Packages: 3.0 <br> Service Time: 18.7",
          "Sequence: 12<br> Stop ID: VG<br>Zone ID: E-7.1B<br>Num Packages: 1.0 <br> Service Time: 74.0",
          "Sequence: 13<br> Stop ID: OC<br>Zone ID: E-7.1B<br>Num Packages: 2.0 <br> Service Time: 52.0",
          "Sequence: 14<br> Stop ID: ZP<br>Zone ID: E-7.1B<br>Num Packages: 2.0 <br> Service Time: 69.5",
          "Sequence: 15<br> Stop ID: RH<br>Zone ID: E-7.1B<br>Num Packages: 1.0 <br> Service Time: 183.0",
          "Sequence: 16<br> Stop ID: RQ<br>Zone ID: E-7.1B<br>Num Packages: 3.0 <br> Service Time: 40.7",
          "Sequence: 17<br> Stop ID: TA<br>Zone ID: E-7.1B<br>Num Packages: 1.0 <br> Service Time: 149.0"
         ],
         "type": "scattermapbox"
        },
        {
         "hoverinfo": "text",
         "lat": [
          42.003678,
          42.000146,
          41.998338,
          41.998243,
          41.996075,
          41.997329
         ],
         "lon": [
          -87.793309,
          -87.79231,
          -87.79232,
          -87.792661,
          -87.792091,
          -87.791731
         ],
         "marker": {
          "size": 15
         },
         "mode": "markers",
         "name": "E-7.2B",
         "text": [
          "Sequence: 18<br> Stop ID: FQ<br>Zone ID: E-7.2B<br>Num Packages: 3.0 <br> Service Time: 91.3",
          "Sequence: 19<br> Stop ID: LR<br>Zone ID: E-7.2B<br>Num Packages: 1.0 <br> Service Time: 92.0",
          "Sequence: 20<br> Stop ID: HT<br>Zone ID: E-7.2B<br>Num Packages: 3.0 <br> Service Time: 54.70000000000001",
          "Sequence: 21<br> Stop ID: GG<br>Zone ID: E-7.2B<br>Num Packages: 1.0 <br> Service Time: 251.0",
          "Sequence: 22<br> Stop ID: AL<br>Zone ID: E-7.2B<br>Num Packages: 1.0 <br> Service Time: 77.0",
          "Sequence: 23<br> Stop ID: OA<br>Zone ID: E-7.2B<br>Num Packages: 3.0 <br> Service Time: 54.0"
         ],
         "type": "scattermapbox"
        },
        {
         "hoverinfo": "text",
         "lat": [
          41.99733,
          41.998229,
          41.99755,
          41.99704,
          41.997123,
          41.997329,
          41.998375,
          41.999753,
          41.999589,
          41.999136
         ],
         "lon": [
          -87.793534,
          -87.79514,
          -87.79558,
          -87.795522,
          -87.796471,
          -87.794719,
          -87.790875,
          -87.790855,
          -87.79231,
          -87.791805
         ],
         "marker": {
          "size": 15
         },
         "mode": "markers",
         "name": "E-7.3B",
         "text": [
          "Sequence: 24<br> Stop ID: BH<br>Zone ID: E-7.3B<br>Num Packages: 3.0 <br> Service Time: 185.69999999999996",
          "Sequence: 25<br> Stop ID: AT<br>Zone ID: E-7.3B<br>Num Packages: 1.0 <br> Service Time: 50.0",
          "Sequence: 26<br> Stop ID: MD<br>Zone ID: E-7.3B<br>Num Packages: 1.0 <br> Service Time: 36.0",
          "Sequence: 27<br> Stop ID: QD<br>Zone ID: E-7.3B<br>Num Packages: 1.0 <br> Service Time: 128.0",
          "Sequence: 28<br> Stop ID: LD<br>Zone ID: E-7.3B<br>Num Packages: 2.0 <br> Service Time: 97.0",
          "Sequence: 29<br> Stop ID: VM<br>Zone ID: E-7.3B<br>Num Packages: 1.0 <br> Service Time: 91.0",
          "Sequence: 30<br> Stop ID: OL<br>Zone ID: E-7.3B<br>Num Packages: 3.0 <br> Service Time: 35.7",
          "Sequence: 31<br> Stop ID: UU<br>Zone ID: E-7.3B<br>Num Packages: 1.0 <br> Service Time: 76.0",
          "Sequence: 32<br> Stop ID: HP<br>Zone ID: E-7.3B<br>Num Packages: 1.0 <br> Service Time: 197.0",
          "Sequence: 33<br> Stop ID: PH<br>Zone ID: E-7.3B<br>Num Packages: 1.0 <br> Service Time: 33.0"
         ],
         "type": "scattermapbox"
        },
        {
         "hoverinfo": "text",
         "lat": [
          41.99914,
          42.000933,
          42.000956,
          42.000943,
          42.000039,
          41.999135,
          41.99902,
          41.999315,
          41.999088,
          41.99917,
          41.999576,
          41.998067,
          41.997146,
          41.99675,
          41.995894,
          41.995991
         ],
         "lon": [
          -87.793113,
          -87.79313,
          -87.79457,
          -87.795988,
          -87.79394,
          -87.794743,
          -87.796154,
          -87.79718,
          -87.79822,
          -87.799312,
          -87.79939,
          -87.799095,
          -87.798873,
          -87.798357,
          -87.797924,
          -87.798595
         ],
         "marker": {
          "size": 15
         },
         "mode": "markers",
         "name": "E-7.3A",
         "text": [
          "Sequence: 34<br> Stop ID: SR<br>Zone ID: E-7.3A<br>Num Packages: 1.0 <br> Service Time: 75.0",
          "Sequence: 35<br> Stop ID: CR<br>Zone ID: E-7.3A<br>Num Packages: 1.0 <br> Service Time: 78.0",
          "Sequence: 36<br> Stop ID: QF<br>Zone ID: E-7.3A<br>Num Packages: 1.0 <br> Service Time: 30.0",
          "Sequence: 37<br> Stop ID: RJ<br>Zone ID: E-7.3A<br>Num Packages: 2.0 <br> Service Time: 90.0",
          "Sequence: 38<br> Stop ID: KG<br>Zone ID: E-7.3A<br>Num Packages: 1.0 <br> Service Time: 33.0",
          "Sequence: 39<br> Stop ID: EN<br>Zone ID: E-7.3A<br>Num Packages: 1.0 <br> Service Time: 27.0",
          "Sequence: 40<br> Stop ID: GP<br>Zone ID: E-7.3A<br>Num Packages: 1.0 <br> Service Time: 330.0",
          "Sequence: 41<br> Stop ID: MR<br>Zone ID: E-7.3A<br>Num Packages: 4.0 <br> Service Time: 41.2",
          "Sequence: 42<br> Stop ID: RT<br>Zone ID: E-7.3A<br>Num Packages: 1.0 <br> Service Time: 44.0",
          "Sequence: 43<br> Stop ID: CO<br>Zone ID: E-7.3A<br>Num Packages: 1.0 <br> Service Time: 38.0",
          "Sequence: 44<br> Stop ID: ZR<br>Zone ID: E-7.3A<br>Num Packages: 1.0 <br> Service Time: 52.0",
          "Sequence: 45<br> Stop ID: VY<br>Zone ID: E-7.3A<br>Num Packages: 1.0 <br> Service Time: 44.0",
          "Sequence: 46<br> Stop ID: HG<br>Zone ID: E-7.3A<br>Num Packages: 2.0 <br> Service Time: 63.5",
          "Sequence: 47<br> Stop ID: PZ<br>Zone ID: E-7.3A<br>Num Packages: 1.0 <br> Service Time: 144.0",
          "Sequence: 48<br> Stop ID: RF<br>Zone ID: E-7.3A<br>Num Packages: 2.0 <br> Service Time: 70.0",
          "Sequence: 49<br> Stop ID: XC<br>Zone ID: E-7.3A<br>Num Packages: 1.0 <br> Service Time: 46.0"
         ],
         "type": "scattermapbox"
        },
        {
         "hoverinfo": "text",
         "lat": [
          41.995669,
          41.995416,
          41.996377,
          41.996665,
          42.001457,
          41.999245,
          41.99873,
          41.998481,
          41.998176
         ],
         "lon": [
          -87.799833,
          -87.800586,
          -87.800697,
          -87.800755,
          -87.801711,
          -87.800336,
          -87.800221,
          -87.799531,
          -87.800411
         ],
         "marker": {
          "size": 15
         },
         "mode": "markers",
         "name": "E-7.2A",
         "text": [
          "Sequence: 50<br> Stop ID: RM<br>Zone ID: E-7.2A<br>Num Packages: 2.0 <br> Service Time: 113.0",
          "Sequence: 51<br> Stop ID: EB<br>Zone ID: E-7.2A<br>Num Packages: 1.0 <br> Service Time: 49.0",
          "Sequence: 52<br> Stop ID: EO<br>Zone ID: E-7.2A<br>Num Packages: 2.0 <br> Service Time: 120.0",
          "Sequence: 53<br> Stop ID: YK<br>Zone ID: E-7.2A<br>Num Packages: 4.0 <br> Service Time: 107.5",
          "Sequence: 54<br> Stop ID: QL<br>Zone ID: E-7.2A<br>Num Packages: 3.0 <br> Service Time: 34.3",
          "Sequence: 55<br> Stop ID: TU<br>Zone ID: E-7.2A<br>Num Packages: 1.0 <br> Service Time: 27.0",
          "Sequence: 56<br> Stop ID: HZ<br>Zone ID: E-7.2A<br>Num Packages: 1.0 <br> Service Time: 33.0",
          "Sequence: 57<br> Stop ID: LG<br>Zone ID: E-7.2A<br>Num Packages: 2.0 <br> Service Time: 22.0",
          "Sequence: 58<br> Stop ID: DE<br>Zone ID: E-7.2A<br>Num Packages: 1.0 <br> Service Time: 45.0"
         ],
         "type": "scattermapbox"
        },
        {
         "hoverinfo": "text",
         "lat": [
          41.998574,
          41.999252,
          41.999572,
          41.999975,
          42.000255,
          42.001302,
          42.000087,
          41.998833,
          41.998241,
          41.997099,
          41.996189,
          41.997647
         ],
         "lon": [
          -87.801173,
          -87.801336,
          -87.801413,
          -87.803708,
          -87.804156,
          -87.804143,
          -87.802951,
          -87.802975,
          -87.802978,
          -87.803337,
          -87.802725,
          -87.801948
         ],
         "marker": {
          "size": 15
         },
         "mode": "markers",
         "name": "E-7.1A",
         "text": [
          "Sequence: 59<br> Stop ID: AK<br>Zone ID: E-7.1A<br>Num Packages: 4.0 <br> Service Time: 62.8",
          "Sequence: 60<br> Stop ID: LQ<br>Zone ID: E-7.1A<br>Num Packages: 1.0 <br> Service Time: 150.0",
          "Sequence: 61<br> Stop ID: VC<br>Zone ID: E-7.1A<br>Num Packages: 1.0 <br> Service Time: 59.0",
          "Sequence: 62<br> Stop ID: AS<br>Zone ID: E-7.1A<br>Num Packages: 1.0 <br> Service Time: 41.0",
          "Sequence: 63<br> Stop ID: IF<br>Zone ID: E-7.1A<br>Num Packages: 2.0 <br> Service Time: 30.5",
          "Sequence: 64<br> Stop ID: DW<br>Zone ID: E-7.1A<br>Num Packages: 1.0 <br> Service Time: 62.0",
          "Sequence: 65<br> Stop ID: VN<br>Zone ID: E-7.1A<br>Num Packages: 1.0 <br> Service Time: 53.0",
          "Sequence: 66<br> Stop ID: XG<br>Zone ID: E-7.1A<br>Num Packages: 1.0 <br> Service Time: 41.0",
          "Sequence: 67<br> Stop ID: IZ<br>Zone ID: E-7.1A<br>Num Packages: 2.0 <br> Service Time: 52.0",
          "Sequence: 68<br> Stop ID: BF<br>Zone ID: E-7.1A<br>Num Packages: 1.0 <br> Service Time: 65.0",
          "Sequence: 69<br> Stop ID: SJ<br>Zone ID: E-7.1A<br>Num Packages: 1.0 <br> Service Time: 60.0",
          "Sequence: 70<br> Stop ID: JT<br>Zone ID: E-7.1A<br>Num Packages: 2.0 <br> Service Time: 61.5"
         ],
         "type": "scattermapbox"
        },
        {
         "hoverinfo": "text",
         "lat": [
          41.99767,
          41.998657,
          42.000165,
          41.999534,
          41.999487,
          41.998939,
          41.997493,
          41.997757,
          41.997789
         ],
         "lon": [
          -87.804194,
          -87.80575,
          -87.805366,
          -87.805207,
          -87.80489,
          -87.804897,
          -87.804903,
          -87.804697,
          -87.80612
         ],
         "marker": {
          "size": 15
         },
         "mode": "markers",
         "name": "E-6.1A",
         "text": [
          "Sequence: 71<br> Stop ID: VE<br>Zone ID: E-6.1A<br>Num Packages: 1.0 <br> Service Time: 45.0",
          "Sequence: 72<br> Stop ID: XQ<br>Zone ID: E-6.1A<br>Num Packages: 1.0 <br> Service Time: 79.0",
          "Sequence: 73<br> Stop ID: SO<br>Zone ID: E-6.1A<br>Num Packages: 3.0 <br> Service Time: 137.0",
          "Sequence: 74<br> Stop ID: II<br>Zone ID: E-6.1A<br>Num Packages: 1.0 <br> Service Time: 47.0",
          "Sequence: 75<br> Stop ID: AZ<br>Zone ID: E-6.1A<br>Num Packages: 4.0 <br> Service Time: 41.2",
          "Sequence: 76<br> Stop ID: SK<br>Zone ID: E-6.1A<br>Num Packages: 1.0 <br> Service Time: 84.0",
          "Sequence: 77<br> Stop ID: HD<br>Zone ID: E-6.1A<br>Num Packages: 1.0 <br> Service Time: 64.0",
          "Sequence: 78<br> Stop ID: ZL<br>Zone ID: E-6.1A<br>Num Packages: 1.0 <br> Service Time: 153.0",
          "Sequence: 79<br> Stop ID: NT<br>Zone ID: E-6.1A<br>Num Packages: 2.0 <br> Service Time: 83.0"
         ],
         "type": "scattermapbox"
        },
        {
         "hoverinfo": "text",
         "lat": [
          41.997768,
          41.995023,
          41.998363,
          41.998772,
          41.999088,
          41.999348,
          42.000154
         ],
         "lon": [
          -87.808075,
          -87.803519,
          -87.808835,
          -87.809717,
          -87.810239,
          -87.81066,
          -87.811975
         ],
         "marker": {
          "size": 15
         },
         "mode": "markers",
         "name": "E-6.2A",
         "text": [
          "Sequence: 80<br> Stop ID: AY<br>Zone ID: E-6.2A<br>Num Packages: 1.0 <br> Service Time: 110.0",
          "Sequence: 81<br> Stop ID: IN<br>Zone ID: E-6.2A<br>Num Packages: 1.0 <br> Service Time: 150.0",
          "Sequence: 82<br> Stop ID: WK<br>Zone ID: E-6.2A<br>Num Packages: 3.0 <br> Service Time: 189.0",
          "Sequence: 83<br> Stop ID: CB<br>Zone ID: E-6.2A<br>Num Packages: 8.0 <br> Service Time: 55.1",
          "Sequence: 84<br> Stop ID: XR<br>Zone ID: E-6.2A<br>Num Packages: 1.0 <br> Service Time: 44.0",
          "Sequence: 85<br> Stop ID: MS<br>Zone ID: E-6.2A<br>Num Packages: 5.0 <br> Service Time: 132.0",
          "Sequence: 86<br> Stop ID: GA<br>Zone ID: E-6.2A<br>Num Packages: 1.0 <br> Service Time: 69.0"
         ],
         "type": "scattermapbox"
        },
        {
         "hoverinfo": "text",
         "lat": [
          42.000722,
          42.000272,
          41.999506,
          42.001191,
          42.002343,
          42.00365,
          42.003264,
          42.000915
         ],
         "lon": [
          -87.812836,
          -87.813855,
          -87.811694,
          -87.81363,
          -87.813477,
          -87.81162,
          -87.812408,
          -87.813199
         ],
         "marker": {
          "size": 15
         },
         "mode": "markers",
         "name": "E-6.3A",
         "text": [
          "Sequence: 87<br> Stop ID: OX<br>Zone ID: E-6.3A<br>Num Packages: 1.0 <br> Service Time: 126.0",
          "Sequence: 88<br> Stop ID: VP<br>Zone ID: E-6.3A<br>Num Packages: 2.0 <br> Service Time: 35.0",
          "Sequence: 89<br> Stop ID: YP<br>Zone ID: E-6.3A<br>Num Packages: 6.0 <br> Service Time: 47.0",
          "Sequence: 90<br> Stop ID: TY<br>Zone ID: E-6.3A<br>Num Packages: 1.0 <br> Service Time: 53.0",
          "Sequence: 91<br> Stop ID: EH<br>Zone ID: E-6.3A<br>Num Packages: 1.0 <br> Service Time: 83.0",
          "Sequence: 92<br> Stop ID: SE<br>Zone ID: E-6.3A<br>Num Packages: 4.0 <br> Service Time: 100.2",
          "Sequence: 93<br> Stop ID: SW<br>Zone ID: E-6.3A<br>Num Packages: 4.0 <br> Service Time: 29.0",
          "Sequence: 94<br> Stop ID: GN<br>Zone ID: E-6.3A<br>Num Packages: 3.0 <br> Service Time: 21.0"
         ],
         "type": "scattermapbox"
        },
        {
         "hoverinfo": "text",
         "lat": [
          42.001229,
          42.002125,
          42.002129,
          42.001133,
          42.001364,
          42.000817,
          42.000528,
          42.000715,
          42.000434
         ],
         "lon": [
          -87.81315,
          -87.8121,
          -87.810404,
          -87.810921,
          -87.811297,
          -87.811985,
          -87.812197,
          -87.810225,
          -87.809755
         ],
         "marker": {
          "size": 15
         },
         "mode": "markers",
         "name": "E-6.3B",
         "text": [
          "Sequence: 95<br> Stop ID: YO<br>Zone ID: E-6.3B<br>Num Packages: 1.0 <br> Service Time: 49.0",
          "Sequence: 96<br> Stop ID: AX<br>Zone ID: E-6.3B<br>Num Packages: 1.0 <br> Service Time: 95.0",
          "Sequence: 97<br> Stop ID: FD<br>Zone ID: E-6.3B<br>Num Packages: 1.0 <br> Service Time: 82.0",
          "Sequence: 98<br> Stop ID: MF<br>Zone ID: E-6.3B<br>Num Packages: 1.0 <br> Service Time: 61.0",
          "Sequence: 99<br> Stop ID: YW<br>Zone ID: E-6.3B<br>Num Packages: 1.0 <br> Service Time: 111.0",
          "Sequence: 100<br> Stop ID: ZT<br>Zone ID: E-6.3B<br>Num Packages: 3.0 <br> Service Time: 47.70000000000001",
          "Sequence: 101<br> Stop ID: FT<br>Zone ID: E-6.3B<br>Num Packages: 1.0 <br> Service Time: 44.0",
          "Sequence: 102<br> Stop ID: VF<br>Zone ID: E-6.3B<br>Num Packages: 4.0 <br> Service Time: 151.0",
          "Sequence: 103<br> Stop ID: EP<br>Zone ID: E-6.3B<br>Num Packages: 1.0 <br> Service Time: 81.0"
         ],
         "type": "scattermapbox"
        },
        {
         "hoverinfo": "text",
         "lat": [
          41.998993,
          42.000498,
          42.000607,
          42.000304,
          42.003052,
          42.001399,
          42.001478,
          42.002147
         ],
         "lon": [
          -87.807404,
          -87.807978,
          -87.806763,
          -87.806766,
          -87.806736,
          -87.806753,
          -87.807966,
          -87.807963
         ],
         "marker": {
          "size": 15
         },
         "mode": "markers",
         "name": "E-6.2B",
         "text": [
          "Sequence: 104<br> Stop ID: ZY<br>Zone ID: E-6.2B<br>Num Packages: 1.0 <br> Service Time: 155.0",
          "Sequence: 105<br> Stop ID: NF<br>Zone ID: E-6.2B<br>Num Packages: 1.0 <br> Service Time: 50.0",
          "Sequence: 106<br> Stop ID: XJ<br>Zone ID: E-6.2B<br>Num Packages: 1.0 <br> Service Time: 121.0",
          "Sequence: 107<br> Stop ID: HE<br>Zone ID: E-6.2B<br>Num Packages: 1.0 <br> Service Time: 43.0",
          "Sequence: 108<br> Stop ID: VZ<br>Zone ID: E-6.2B<br>Num Packages: 1.0 <br> Service Time: 216.0",
          "Sequence: 109<br> Stop ID: HX<br>Zone ID: E-6.2B<br>Num Packages: 7.0 <br> Service Time: 73.0",
          "Sequence: 110<br> Stop ID: GT<br>Zone ID: E-6.2B<br>Num Packages: 6.0 <br> Service Time: 69.2",
          "Sequence: 111<br> Stop ID: YF<br>Zone ID: E-6.2B<br>Num Packages: 3.0 <br> Service Time: 64.7"
         ],
         "type": "scattermapbox"
        },
        {
         "hoverinfo": "text",
         "lat": [
          42.003926,
          42.004253,
          42.003884,
          42.001054,
          42.002181,
          42.003142
         ],
         "lon": [
          -87.807953,
          -87.809171,
          -87.809173,
          -87.809196,
          -87.809184,
          -87.809177
         ],
         "marker": {
          "size": 15
         },
         "mode": "markers",
         "name": "E-6.1B",
         "text": [
          "Sequence: 112<br> Stop ID: RR<br>Zone ID: E-6.1B<br>Num Packages: 2.0 <br> Service Time: 65.0",
          "Sequence: 113<br> Stop ID: WU<br>Zone ID: E-6.1B<br>Num Packages: 3.0 <br> Service Time: 50.70000000000001",
          "Sequence: 114<br> Stop ID: ZM<br>Zone ID: E-6.1B<br>Num Packages: 3.0 <br> Service Time: 112.0",
          "Sequence: 115<br> Stop ID: ER<br>Zone ID: E-6.1B<br>Num Packages: 1.0 <br> Service Time: 60.0",
          "Sequence: 116<br> Stop ID: RN<br>Zone ID: E-6.1B<br>Num Packages: 1.0 <br> Service Time: 57.0",
          "Sequence: 117<br> Stop ID: TW<br>Zone ID: E-6.1B<br>Num Packages: 1.0 <br> Service Time: 35.0"
         ],
         "type": "scattermapbox"
        },
        {
         "hoverinfo": "text",
         "lat": [
          42.003425,
          42.004096,
          42.00523,
          42.005277
         ],
         "lon": [
          -87.81039,
          -87.810383,
          -87.811527,
          -87.810015
         ],
         "marker": {
          "size": 15
         },
         "mode": "markers",
         "name": "E-6.1C",
         "text": [
          "Sequence: 118<br> Stop ID: OJ<br>Zone ID: E-6.1C<br>Num Packages: 4.0 <br> Service Time: 65.5",
          "Sequence: 119<br> Stop ID: FB<br>Zone ID: E-6.1C<br>Num Packages: 1.0 <br> Service Time: 29.0",
          "Sequence: 120<br> Stop ID: BY<br>Zone ID: E-6.1C<br>Num Packages: 1.0 <br> Service Time: 91.0",
          "Sequence: 121<br> Stop ID: OQ<br>Zone ID: E-6.1C<br>Num Packages: 2.0 <br> Service Time: 31.0"
         ],
         "type": "scattermapbox"
        },
        {
         "hoverinfo": "text",
         "lat": [
          42.005326,
          42.006286,
          42.006256,
          42.00622,
          42.007188
         ],
         "lon": [
          -87.808377,
          -87.807795,
          -87.808667,
          -87.809753,
          -87.807211
         ],
         "marker": {
          "size": 15
         },
         "mode": "markers",
         "name": "E-6.2C",
         "text": [
          "Sequence: 122<br> Stop ID: BJ<br>Zone ID: E-6.2C<br>Num Packages: 1.0 <br> Service Time: 48.0",
          "Sequence: 123<br> Stop ID: SC<br>Zone ID: E-6.2C<br>Num Packages: 2.0 <br> Service Time: 55.5",
          "Sequence: 124<br> Stop ID: HL<br>Zone ID: E-6.2C<br>Num Packages: 3.0 <br> Service Time: 39.0",
          "Sequence: 125<br> Stop ID: RU<br>Zone ID: E-6.2C<br>Num Packages: 2.0 <br> Service Time: 122.0",
          "Sequence: 126<br> Stop ID: XS<br>Zone ID: E-6.2C<br>Num Packages: 5.0 <br> Service Time: 23.0"
         ],
         "type": "scattermapbox"
        },
        {
         "hoverinfo": "text",
         "lat": [
          42.007122,
          42.007093,
          42.007073,
          42.007232,
          42.008002,
          42.008041,
          42.008096,
          42.01012
         ],
         "lon": [
          -87.808835,
          -87.809642,
          -87.810333,
          -87.810996,
          -87.810104,
          -87.808792,
          -87.807088,
          -87.804512
         ],
         "marker": {
          "size": 15
         },
         "mode": "markers",
         "name": "E-6.3C",
         "text": [
          "Sequence: 127<br> Stop ID: MT<br>Zone ID: E-6.3C<br>Num Packages: 2.0 <br> Service Time: 90.5",
          "Sequence: 128<br> Stop ID: AU<br>Zone ID: E-6.3C<br>Num Packages: 2.0 <br> Service Time: 33.5",
          "Sequence: 129<br> Stop ID: KT<br>Zone ID: E-6.3C<br>Num Packages: 1.0 <br> Service Time: 36.0",
          "Sequence: 130<br> Stop ID: QW<br>Zone ID: E-6.3C<br>Num Packages: 1.0 <br> Service Time: 52.0",
          "Sequence: 131<br> Stop ID: HV<br>Zone ID: E-6.3C<br>Num Packages: 3.0 <br> Service Time: 43.70000000000001",
          "Sequence: 132<br> Stop ID: TG<br>Zone ID: E-6.3C<br>Num Packages: 3.0 <br> Service Time: 94.0",
          "Sequence: 133<br> Stop ID: ND<br>Zone ID: E-6.3C<br>Num Packages: 2.0 <br> Service Time: 159.0",
          "Sequence: 134<br> Stop ID: FS<br>Zone ID: E-6.3C<br>Num Packages: 1.0 <br> Service Time: 71.0"
         ],
         "type": "scattermapbox"
        },
        {
         "hoverinfo": "text",
         "lat": [
          42.009807,
          42.010099,
          42.008968,
          42.009158,
          42.009292,
          42.008439,
          42.00789,
          42.006678,
          42.007201,
          42.005355,
          42.004804,
          42.005271
         ],
         "lon": [
          -87.80412,
          -87.803753,
          -87.808176,
          -87.81097,
          -87.813657,
          -87.813671,
          -87.813953,
          -87.813694,
          -87.812288,
          -87.812317,
          -87.812329,
          -87.8137
         ],
         "marker": {
          "size": 15
         },
         "mode": "markers",
         "name": "E-6.3D",
         "text": [
          "Sequence: 135<br> Stop ID: NA<br>Zone ID: E-6.3D<br>Num Packages: 2.0 <br> Service Time: 92.0",
          "Sequence: 136<br> Stop ID: YR<br>Zone ID: E-6.3D<br>Num Packages: 1.0 <br> Service Time: 25.0",
          "Sequence: 137<br> Stop ID: IG<br>Zone ID: E-6.3D<br>Num Packages: 2.0 <br> Service Time: 44.0",
          "Sequence: 138<br> Stop ID: WA<br>Zone ID: E-6.3D<br>Num Packages: 1.0 <br> Service Time: 39.0",
          "Sequence: 139<br> Stop ID: VS<br>Zone ID: E-6.3D<br>Num Packages: 1.0 <br> Service Time: 35.0",
          "Sequence: 140<br> Stop ID: LH<br>Zone ID: E-6.3D<br>Num Packages: 2.0 <br> Service Time: 49.0",
          "Sequence: 141<br> Stop ID: JL<br>Zone ID: E-6.3D<br>Num Packages: 1.0 <br> Service Time: 51.0",
          "Sequence: 142<br> Stop ID: WH<br>Zone ID: E-6.3D<br>Num Packages: 1.0 <br> Service Time: 35.0",
          "Sequence: 143<br> Stop ID: ZJ<br>Zone ID: E-6.3D<br>Num Packages: 1.0 <br> Service Time: 72.0",
          "Sequence: 144<br> Stop ID: KS<br>Zone ID: E-6.3D<br>Num Packages: 2.0 <br> Service Time: 154.0",
          "Sequence: 145<br> Stop ID: DN<br>Zone ID: E-6.3D<br>Num Packages: 1.0 <br> Service Time: 50.0",
          "Sequence: 146<br> Stop ID: YQ<br>Zone ID: E-6.3D<br>Num Packages: 3.0 <br> Service Time: 44.29999999999999"
         ],
         "type": "scattermapbox"
        },
        {
         "hoverinfo": "text",
         "lat": [
          42.004224,
          42.002875,
          42.00332,
          42.002324,
          42.003141,
          42.003996
         ],
         "lon": [
          -87.814218,
          -87.81836,
          -87.819132,
          -87.816642,
          -87.815812,
          -87.813184
         ],
         "marker": {
          "size": 15
         },
         "mode": "markers",
         "name": "E-6.2D",
         "text": [
          "Sequence: 147<br> Stop ID: NV<br>Zone ID: E-6.2D<br>Num Packages: 1.0 <br> Service Time: 39.0",
          "Sequence: 148<br> Stop ID: ZQ<br>Zone ID: E-6.2D<br>Num Packages: 1.0 <br> Service Time: 45.0",
          "Sequence: 149<br> Stop ID: JH<br>Zone ID: E-6.2D<br>Num Packages: 4.0 <br> Service Time: 14.5",
          "Sequence: 150<br> Stop ID: WS<br>Zone ID: E-6.2D<br>Num Packages: 1.0 <br> Service Time: 111.0",
          "Sequence: 151<br> Stop ID: WD<br>Zone ID: E-6.2D<br>Num Packages: 3.0 <br> Service Time: 65.3",
          "Sequence: 152<br> Stop ID: NI<br>Zone ID: E-6.2D<br>Num Packages: 3.0 <br> Service Time: 56.0"
         ],
         "type": "scattermapbox"
        },
        {
         "hoverinfo": "text",
         "lat": [
          42.003057,
          42.00187,
          42.003788,
          42.004423,
          42.005222,
          42.005805,
          42.005393,
          42.005649,
          42.006633,
          42.009571,
          42.031368
         ],
         "lon": [
          -87.814257,
          -87.816372,
          -87.814852,
          -87.815098,
          -87.815089,
          -87.815083,
          -87.816456,
          -87.817634,
          -87.817621,
          -87.817584,
          -87.776596
         ],
         "marker": {
          "size": 15
         },
         "mode": "markers",
         "name": "E-6.1D",
         "text": [
          "Sequence: 153<br> Stop ID: DG<br>Zone ID: E-6.1D<br>Num Packages: 1.0 <br> Service Time: 108.0",
          "Sequence: 154<br> Stop ID: OK<br>Zone ID: E-6.1D<br>Num Packages: 1.0 <br> Service Time: 64.0",
          "Sequence: 155<br> Stop ID: NM<br>Zone ID: E-6.1D<br>Num Packages: 1.0 <br> Service Time: 63.0",
          "Sequence: 156<br> Stop ID: AM<br>Zone ID: E-6.1D<br>Num Packages: 3.0 <br> Service Time: 15.0",
          "Sequence: 157<br> Stop ID: DS<br>Zone ID: E-6.1D<br>Num Packages: 2.0 <br> Service Time: 63.0",
          "Sequence: 158<br> Stop ID: NZ<br>Zone ID: E-6.1D<br>Num Packages: 1.0 <br> Service Time: 34.0",
          "Sequence: 159<br> Stop ID: XW<br>Zone ID: E-6.1D<br>Num Packages: 1.0 <br> Service Time: 71.0",
          "Sequence: 160<br> Stop ID: MC<br>Zone ID: E-6.1D<br>Num Packages: 1.0 <br> Service Time: 38.0",
          "Sequence: 161<br> Stop ID: AV<br>Zone ID: E-6.1D<br>Num Packages: 1.0 <br> Service Time: 108.0",
          "Sequence: 162<br> Stop ID: WL<br>Zone ID: E-6.1D<br>Num Packages: 3.0 <br> Service Time: 83.3",
          "Sequence: 163<br> Stop ID: HI<br>Zone ID: E-6.1D<br>Num Packages: nan <br> Service Time: nan"
         ],
         "type": "scattermapbox"
        }
       ],
       "layout": {
        "height": 600,
        "mapbox": {
         "center": {
          "lat": 42.003060402439026,
          "lon": -87.804397902439
         },
         "style": "open-street-map",
         "zoom": 10
        },
        "margin": {
         "b": 10,
         "l": 10,
         "r": 10,
         "t": 10
        },
        "showlegend": false,
        "template": {
         "data": {
          "bar": [
           {
            "error_x": {
             "color": "#2a3f5f"
            },
            "error_y": {
             "color": "#2a3f5f"
            },
            "marker": {
             "line": {
              "color": "#E5ECF6",
              "width": 0.5
             },
             "pattern": {
              "fillmode": "overlay",
              "size": 10,
              "solidity": 0.2
             }
            },
            "type": "bar"
           }
          ],
          "barpolar": [
           {
            "marker": {
             "line": {
              "color": "#E5ECF6",
              "width": 0.5
             },
             "pattern": {
              "fillmode": "overlay",
              "size": 10,
              "solidity": 0.2
             }
            },
            "type": "barpolar"
           }
          ],
          "carpet": [
           {
            "aaxis": {
             "endlinecolor": "#2a3f5f",
             "gridcolor": "white",
             "linecolor": "white",
             "minorgridcolor": "white",
             "startlinecolor": "#2a3f5f"
            },
            "baxis": {
             "endlinecolor": "#2a3f5f",
             "gridcolor": "white",
             "linecolor": "white",
             "minorgridcolor": "white",
             "startlinecolor": "#2a3f5f"
            },
            "type": "carpet"
           }
          ],
          "choropleth": [
           {
            "colorbar": {
             "outlinewidth": 0,
             "ticks": ""
            },
            "type": "choropleth"
           }
          ],
          "contour": [
           {
            "colorbar": {
             "outlinewidth": 0,
             "ticks": ""
            },
            "colorscale": [
             [
              0,
              "#0d0887"
             ],
             [
              0.1111111111111111,
              "#46039f"
             ],
             [
              0.2222222222222222,
              "#7201a8"
             ],
             [
              0.3333333333333333,
              "#9c179e"
             ],
             [
              0.4444444444444444,
              "#bd3786"
             ],
             [
              0.5555555555555556,
              "#d8576b"
             ],
             [
              0.6666666666666666,
              "#ed7953"
             ],
             [
              0.7777777777777778,
              "#fb9f3a"
             ],
             [
              0.8888888888888888,
              "#fdca26"
             ],
             [
              1,
              "#f0f921"
             ]
            ],
            "type": "contour"
           }
          ],
          "contourcarpet": [
           {
            "colorbar": {
             "outlinewidth": 0,
             "ticks": ""
            },
            "type": "contourcarpet"
           }
          ],
          "heatmap": [
           {
            "colorbar": {
             "outlinewidth": 0,
             "ticks": ""
            },
            "colorscale": [
             [
              0,
              "#0d0887"
             ],
             [
              0.1111111111111111,
              "#46039f"
             ],
             [
              0.2222222222222222,
              "#7201a8"
             ],
             [
              0.3333333333333333,
              "#9c179e"
             ],
             [
              0.4444444444444444,
              "#bd3786"
             ],
             [
              0.5555555555555556,
              "#d8576b"
             ],
             [
              0.6666666666666666,
              "#ed7953"
             ],
             [
              0.7777777777777778,
              "#fb9f3a"
             ],
             [
              0.8888888888888888,
              "#fdca26"
             ],
             [
              1,
              "#f0f921"
             ]
            ],
            "type": "heatmap"
           }
          ],
          "heatmapgl": [
           {
            "colorbar": {
             "outlinewidth": 0,
             "ticks": ""
            },
            "colorscale": [
             [
              0,
              "#0d0887"
             ],
             [
              0.1111111111111111,
              "#46039f"
             ],
             [
              0.2222222222222222,
              "#7201a8"
             ],
             [
              0.3333333333333333,
              "#9c179e"
             ],
             [
              0.4444444444444444,
              "#bd3786"
             ],
             [
              0.5555555555555556,
              "#d8576b"
             ],
             [
              0.6666666666666666,
              "#ed7953"
             ],
             [
              0.7777777777777778,
              "#fb9f3a"
             ],
             [
              0.8888888888888888,
              "#fdca26"
             ],
             [
              1,
              "#f0f921"
             ]
            ],
            "type": "heatmapgl"
           }
          ],
          "histogram": [
           {
            "marker": {
             "pattern": {
              "fillmode": "overlay",
              "size": 10,
              "solidity": 0.2
             }
            },
            "type": "histogram"
           }
          ],
          "histogram2d": [
           {
            "colorbar": {
             "outlinewidth": 0,
             "ticks": ""
            },
            "colorscale": [
             [
              0,
              "#0d0887"
             ],
             [
              0.1111111111111111,
              "#46039f"
             ],
             [
              0.2222222222222222,
              "#7201a8"
             ],
             [
              0.3333333333333333,
              "#9c179e"
             ],
             [
              0.4444444444444444,
              "#bd3786"
             ],
             [
              0.5555555555555556,
              "#d8576b"
             ],
             [
              0.6666666666666666,
              "#ed7953"
             ],
             [
              0.7777777777777778,
              "#fb9f3a"
             ],
             [
              0.8888888888888888,
              "#fdca26"
             ],
             [
              1,
              "#f0f921"
             ]
            ],
            "type": "histogram2d"
           }
          ],
          "histogram2dcontour": [
           {
            "colorbar": {
             "outlinewidth": 0,
             "ticks": ""
            },
            "colorscale": [
             [
              0,
              "#0d0887"
             ],
             [
              0.1111111111111111,
              "#46039f"
             ],
             [
              0.2222222222222222,
              "#7201a8"
             ],
             [
              0.3333333333333333,
              "#9c179e"
             ],
             [
              0.4444444444444444,
              "#bd3786"
             ],
             [
              0.5555555555555556,
              "#d8576b"
             ],
             [
              0.6666666666666666,
              "#ed7953"
             ],
             [
              0.7777777777777778,
              "#fb9f3a"
             ],
             [
              0.8888888888888888,
              "#fdca26"
             ],
             [
              1,
              "#f0f921"
             ]
            ],
            "type": "histogram2dcontour"
           }
          ],
          "mesh3d": [
           {
            "colorbar": {
             "outlinewidth": 0,
             "ticks": ""
            },
            "type": "mesh3d"
           }
          ],
          "parcoords": [
           {
            "line": {
             "colorbar": {
              "outlinewidth": 0,
              "ticks": ""
             }
            },
            "type": "parcoords"
           }
          ],
          "pie": [
           {
            "automargin": true,
            "type": "pie"
           }
          ],
          "scatter": [
           {
            "fillpattern": {
             "fillmode": "overlay",
             "size": 10,
             "solidity": 0.2
            },
            "type": "scatter"
           }
          ],
          "scatter3d": [
           {
            "line": {
             "colorbar": {
              "outlinewidth": 0,
              "ticks": ""
             }
            },
            "marker": {
             "colorbar": {
              "outlinewidth": 0,
              "ticks": ""
             }
            },
            "type": "scatter3d"
           }
          ],
          "scattercarpet": [
           {
            "marker": {
             "colorbar": {
              "outlinewidth": 0,
              "ticks": ""
             }
            },
            "type": "scattercarpet"
           }
          ],
          "scattergeo": [
           {
            "marker": {
             "colorbar": {
              "outlinewidth": 0,
              "ticks": ""
             }
            },
            "type": "scattergeo"
           }
          ],
          "scattergl": [
           {
            "marker": {
             "colorbar": {
              "outlinewidth": 0,
              "ticks": ""
             }
            },
            "type": "scattergl"
           }
          ],
          "scattermapbox": [
           {
            "marker": {
             "colorbar": {
              "outlinewidth": 0,
              "ticks": ""
             }
            },
            "type": "scattermapbox"
           }
          ],
          "scatterpolar": [
           {
            "marker": {
             "colorbar": {
              "outlinewidth": 0,
              "ticks": ""
             }
            },
            "type": "scatterpolar"
           }
          ],
          "scatterpolargl": [
           {
            "marker": {
             "colorbar": {
              "outlinewidth": 0,
              "ticks": ""
             }
            },
            "type": "scatterpolargl"
           }
          ],
          "scatterternary": [
           {
            "marker": {
             "colorbar": {
              "outlinewidth": 0,
              "ticks": ""
             }
            },
            "type": "scatterternary"
           }
          ],
          "surface": [
           {
            "colorbar": {
             "outlinewidth": 0,
             "ticks": ""
            },
            "colorscale": [
             [
              0,
              "#0d0887"
             ],
             [
              0.1111111111111111,
              "#46039f"
             ],
             [
              0.2222222222222222,
              "#7201a8"
             ],
             [
              0.3333333333333333,
              "#9c179e"
             ],
             [
              0.4444444444444444,
              "#bd3786"
             ],
             [
              0.5555555555555556,
              "#d8576b"
             ],
             [
              0.6666666666666666,
              "#ed7953"
             ],
             [
              0.7777777777777778,
              "#fb9f3a"
             ],
             [
              0.8888888888888888,
              "#fdca26"
             ],
             [
              1,
              "#f0f921"
             ]
            ],
            "type": "surface"
           }
          ],
          "table": [
           {
            "cells": {
             "fill": {
              "color": "#EBF0F8"
             },
             "line": {
              "color": "white"
             }
            },
            "header": {
             "fill": {
              "color": "#C8D4E3"
             },
             "line": {
              "color": "white"
             }
            },
            "type": "table"
           }
          ]
         },
         "layout": {
          "annotationdefaults": {
           "arrowcolor": "#2a3f5f",
           "arrowhead": 0,
           "arrowwidth": 1
          },
          "autotypenumbers": "strict",
          "coloraxis": {
           "colorbar": {
            "outlinewidth": 0,
            "ticks": ""
           }
          },
          "colorscale": {
           "diverging": [
            [
             0,
             "#8e0152"
            ],
            [
             0.1,
             "#c51b7d"
            ],
            [
             0.2,
             "#de77ae"
            ],
            [
             0.3,
             "#f1b6da"
            ],
            [
             0.4,
             "#fde0ef"
            ],
            [
             0.5,
             "#f7f7f7"
            ],
            [
             0.6,
             "#e6f5d0"
            ],
            [
             0.7,
             "#b8e186"
            ],
            [
             0.8,
             "#7fbc41"
            ],
            [
             0.9,
             "#4d9221"
            ],
            [
             1,
             "#276419"
            ]
           ],
           "sequential": [
            [
             0,
             "#0d0887"
            ],
            [
             0.1111111111111111,
             "#46039f"
            ],
            [
             0.2222222222222222,
             "#7201a8"
            ],
            [
             0.3333333333333333,
             "#9c179e"
            ],
            [
             0.4444444444444444,
             "#bd3786"
            ],
            [
             0.5555555555555556,
             "#d8576b"
            ],
            [
             0.6666666666666666,
             "#ed7953"
            ],
            [
             0.7777777777777778,
             "#fb9f3a"
            ],
            [
             0.8888888888888888,
             "#fdca26"
            ],
            [
             1,
             "#f0f921"
            ]
           ],
           "sequentialminus": [
            [
             0,
             "#0d0887"
            ],
            [
             0.1111111111111111,
             "#46039f"
            ],
            [
             0.2222222222222222,
             "#7201a8"
            ],
            [
             0.3333333333333333,
             "#9c179e"
            ],
            [
             0.4444444444444444,
             "#bd3786"
            ],
            [
             0.5555555555555556,
             "#d8576b"
            ],
            [
             0.6666666666666666,
             "#ed7953"
            ],
            [
             0.7777777777777778,
             "#fb9f3a"
            ],
            [
             0.8888888888888888,
             "#fdca26"
            ],
            [
             1,
             "#f0f921"
            ]
           ]
          },
          "colorway": [
           "#636efa",
           "#EF553B",
           "#00cc96",
           "#ab63fa",
           "#FFA15A",
           "#19d3f3",
           "#FF6692",
           "#B6E880",
           "#FF97FF",
           "#FECB52"
          ],
          "font": {
           "color": "#2a3f5f"
          },
          "geo": {
           "bgcolor": "white",
           "lakecolor": "white",
           "landcolor": "#E5ECF6",
           "showlakes": true,
           "showland": true,
           "subunitcolor": "white"
          },
          "hoverlabel": {
           "align": "left"
          },
          "hovermode": "closest",
          "mapbox": {
           "style": "light"
          },
          "paper_bgcolor": "white",
          "plot_bgcolor": "#E5ECF6",
          "polar": {
           "angularaxis": {
            "gridcolor": "white",
            "linecolor": "white",
            "ticks": ""
           },
           "bgcolor": "#E5ECF6",
           "radialaxis": {
            "gridcolor": "white",
            "linecolor": "white",
            "ticks": ""
           }
          },
          "scene": {
           "xaxis": {
            "backgroundcolor": "#E5ECF6",
            "gridcolor": "white",
            "gridwidth": 2,
            "linecolor": "white",
            "showbackground": true,
            "ticks": "",
            "zerolinecolor": "white"
           },
           "yaxis": {
            "backgroundcolor": "#E5ECF6",
            "gridcolor": "white",
            "gridwidth": 2,
            "linecolor": "white",
            "showbackground": true,
            "ticks": "",
            "zerolinecolor": "white"
           },
           "zaxis": {
            "backgroundcolor": "#E5ECF6",
            "gridcolor": "white",
            "gridwidth": 2,
            "linecolor": "white",
            "showbackground": true,
            "ticks": "",
            "zerolinecolor": "white"
           }
          },
          "shapedefaults": {
           "line": {
            "color": "#2a3f5f"
           }
          },
          "ternary": {
           "aaxis": {
            "gridcolor": "white",
            "linecolor": "white",
            "ticks": ""
           },
           "baxis": {
            "gridcolor": "white",
            "linecolor": "white",
            "ticks": ""
           },
           "bgcolor": "#E5ECF6",
           "caxis": {
            "gridcolor": "white",
            "linecolor": "white",
            "ticks": ""
           }
          },
          "title": {
           "x": 0.05
          },
          "xaxis": {
           "automargin": true,
           "gridcolor": "white",
           "linecolor": "white",
           "ticks": "",
           "title": {
            "standoff": 15
           },
           "zerolinecolor": "white",
           "zerolinewidth": 2
          },
          "yaxis": {
           "automargin": true,
           "gridcolor": "white",
           "linecolor": "white",
           "ticks": "",
           "title": {
            "standoff": 15
           },
           "zerolinecolor": "white",
           "zerolinewidth": 2
          }
         }
        }
       }
      }
     },
     "metadata": {},
     "output_type": "display_data"
    }
   ],
   "source": [
    "fig = go.Figure(go.Scattermapbox(\n",
    "    lat=drone_data_ordered['lat'],\n",
    "    lon=drone_data_ordered['lng'],\n",
    "    mode='lines',\n",
    "    line=dict(width=2, color='blue'),  # Customize line color and width here\n",
    "    hoverinfo='none'\n",
    "))\n",
    "drone_data_ordered['zone_id'].ffill(inplace=True)\n",
    "# Add scatter points for each unique zone_id, with custom hover text\n",
    "for zone_id in drone_data_ordered['zone_id'].unique():\n",
    "    df_sub = drone_data_ordered[drone_data_ordered['zone_id'] == zone_id]\n",
    "\n",
    "    # Creating custom hover text\n",
    "    hover_text = df_sub.apply(lambda row: f\"Sequence: {row.name}<br> Stop ID: {row['stop_id']}<br>Zone ID: {row['zone_id']}<br>Num Packages: {row['num_packages']} <br> Service Time: {row['service_time_seconds']}\", axis=1)\n",
    "\n",
    "\n",
    "    fig.add_trace(go.Scattermapbox(\n",
    "        lat=df_sub['lat'],\n",
    "        lon=df_sub['lng'],\n",
    "        mode='markers',\n",
    "        marker=go.scattermapbox.Marker(size=15),\n",
    "        name=str(zone_id),\n",
    "        text=hover_text,\n",
    "        hoverinfo='text'\n",
    "    ))\n",
    "\n",
    "# Update the layout to use OpenStreetMap style and adjust other layout properties\n",
    "fig.update_layout(\n",
    "\n",
    "    height=600,\n",
    "    mapbox=dict(\n",
    "        style=\"open-street-map\",\n",
    "        zoom=10,  # Adjust zoom level here\n",
    "        center=dict(lat=drone_data_ordered['lat'].mean(), lon=drone_data_ordered['lng'].mean())\n",
    "    ),\n",
    "    showlegend=False  # Set to True if you want to show legend\n",
    ")\n",
    "fig.update_layout(margin=dict(l=10, r=10, t=10, b=10))\n",
    "\n",
    "\n",
    "# Show the figure\n",
    "fig.show()"
   ]
  },
  {
   "cell_type": "code",
   "execution_count": 26,
   "metadata": {},
   "outputs": [
    {
     "data": {
      "application/vnd.plotly.v1+json": {
       "config": {
        "plotlyServerURL": "https://plot.ly"
       },
       "data": [
        {
         "hoverinfo": "none",
         "lat": [
          42.031368,
          42.034701,
          42.0347,
          42.011134,
          42.010624,
          42.01097,
          42.009862,
          42.010552,
          42.013021,
          42.01369,
          42.010971,
          42.010627,
          42.008005,
          42.007219,
          42.008275,
          42.007952,
          42.006485,
          42.005116,
          42.003678,
          42.000146,
          41.998338,
          41.998243,
          41.996075,
          41.997329,
          41.99733,
          41.998229,
          41.99755,
          41.99704,
          41.997123,
          41.997329,
          41.998375,
          41.999753,
          41.999589,
          41.999136,
          41.99914,
          42.000933,
          42.000956,
          42.000943,
          42.000039,
          41.999135,
          41.99902,
          41.999315,
          41.999088,
          41.99917,
          41.999576,
          41.998067,
          41.997146,
          41.99675,
          41.995894,
          41.995991,
          41.995669,
          41.995416,
          41.996377,
          41.996665,
          42.001457,
          41.999245,
          41.99873,
          41.998481,
          41.998176,
          41.998574,
          41.999252,
          41.999572,
          41.999975,
          42.000255,
          42.001302,
          42.000087,
          41.998833,
          41.998241,
          41.997099,
          41.996189,
          41.997647,
          41.99767,
          41.998657,
          42.000165,
          41.999534,
          41.999487,
          41.998939,
          41.997493,
          41.997757,
          41.997789,
          41.997768,
          41.995023,
          41.998363,
          41.998772,
          41.999088,
          41.999348,
          42.000154,
          42.000722,
          42.000272,
          41.999506,
          42.001191,
          42.002343,
          42.00365,
          42.003264,
          42.000915,
          42.001229,
          42.002125,
          42.002129,
          42.001133,
          42.001364,
          42.000817,
          42.000528,
          42.000715,
          42.000434,
          41.998993,
          42.000498,
          42.000607,
          42.000304,
          42.003052,
          42.001399,
          42.001478,
          42.002147,
          42.003926,
          42.004253,
          42.003884,
          42.001054,
          42.002181,
          42.003142,
          42.003425,
          42.004096,
          42.00523,
          42.005277,
          42.005326,
          42.006286,
          42.006256,
          42.00622,
          42.007188,
          42.007122,
          42.007093,
          42.007073,
          42.007232,
          42.008002,
          42.008041,
          42.008096,
          42.01012,
          42.009807,
          42.010099,
          42.008968,
          42.009158,
          42.009292,
          42.008439,
          42.00789,
          42.006678,
          42.007201,
          42.005355,
          42.004804,
          42.005271,
          42.004224,
          42.002875,
          42.00332,
          42.002324,
          42.003141,
          42.003996,
          42.003057,
          42.00187,
          42.003788,
          42.004423,
          42.005222,
          42.005805,
          42.005393,
          42.005649,
          42.006633,
          42.009571,
          42.031368
         ],
         "line": {
          "color": "red",
          "width": 2
         },
         "lon": [
          -87.776596,
          -87.787183,
          -87.78652,
          -87.793221,
          -87.794307,
          -87.795053,
          -87.797879,
          -87.798468,
          -87.798192,
          -87.79821,
          -87.801941,
          -87.800602,
          -87.79719,
          -87.795648,
          -87.795104,
          -87.796026,
          -87.792609,
          -87.792748,
          -87.793309,
          -87.79231,
          -87.79232,
          -87.792661,
          -87.792091,
          -87.791731,
          -87.793534,
          -87.79514,
          -87.79558,
          -87.795522,
          -87.796471,
          -87.794719,
          -87.790875,
          -87.790855,
          -87.79231,
          -87.791805,
          -87.793113,
          -87.79313,
          -87.79457,
          -87.795988,
          -87.79394,
          -87.794743,
          -87.796154,
          -87.79718,
          -87.79822,
          -87.799312,
          -87.79939,
          -87.799095,
          -87.798873,
          -87.798357,
          -87.797924,
          -87.798595,
          -87.799833,
          -87.800586,
          -87.800697,
          -87.800755,
          -87.801711,
          -87.800336,
          -87.800221,
          -87.799531,
          -87.800411,
          -87.801173,
          -87.801336,
          -87.801413,
          -87.803708,
          -87.804156,
          -87.804143,
          -87.802951,
          -87.802975,
          -87.802978,
          -87.803337,
          -87.802725,
          -87.801948,
          -87.804194,
          -87.80575,
          -87.805366,
          -87.805207,
          -87.80489,
          -87.804897,
          -87.804903,
          -87.804697,
          -87.80612,
          -87.808075,
          -87.803519,
          -87.808835,
          -87.809717,
          -87.810239,
          -87.81066,
          -87.811975,
          -87.812836,
          -87.813855,
          -87.811694,
          -87.81363,
          -87.813477,
          -87.81162,
          -87.812408,
          -87.813199,
          -87.81315,
          -87.8121,
          -87.810404,
          -87.810921,
          -87.811297,
          -87.811985,
          -87.812197,
          -87.810225,
          -87.809755,
          -87.807404,
          -87.807978,
          -87.806763,
          -87.806766,
          -87.806736,
          -87.806753,
          -87.807966,
          -87.807963,
          -87.807953,
          -87.809171,
          -87.809173,
          -87.809196,
          -87.809184,
          -87.809177,
          -87.81039,
          -87.810383,
          -87.811527,
          -87.810015,
          -87.808377,
          -87.807795,
          -87.808667,
          -87.809753,
          -87.807211,
          -87.808835,
          -87.809642,
          -87.810333,
          -87.810996,
          -87.810104,
          -87.808792,
          -87.807088,
          -87.804512,
          -87.80412,
          -87.803753,
          -87.808176,
          -87.81097,
          -87.813657,
          -87.813671,
          -87.813953,
          -87.813694,
          -87.812288,
          -87.812317,
          -87.812329,
          -87.8137,
          -87.814218,
          -87.81836,
          -87.819132,
          -87.816642,
          -87.815812,
          -87.813184,
          -87.814257,
          -87.816372,
          -87.814852,
          -87.815098,
          -87.815089,
          -87.815083,
          -87.816456,
          -87.817634,
          -87.817621,
          -87.817584,
          -87.776596
         ],
         "mode": "lines",
         "name": "Drone Path",
         "type": "scattermapbox"
        },
        {
         "hoverinfo": "text",
         "lat": [],
         "lon": [],
         "marker": {
          "size": 15
         },
         "mode": "markers",
         "name": "Drone Zone nan",
         "text": [],
         "type": "scattermapbox"
        },
        {
         "hoverinfo": "text",
         "lat": [
          42.034701,
          42.0347,
          42.011134,
          42.010624,
          42.01097,
          42.009862,
          42.010552
         ],
         "lon": [
          -87.787183,
          -87.78652,
          -87.793221,
          -87.794307,
          -87.795053,
          -87.797879,
          -87.798468
         ],
         "marker": {
          "size": 15
         },
         "mode": "markers",
         "name": "Drone Zone E-7.1C",
         "text": [
          "Sequence: 1<br> Stop ID: RC<br>Zone ID: E-7.1C<br>Num Packages: 2.0 <br> Service Time: 215.5",
          "Sequence: 2<br> Stop ID: OM<br>Zone ID: E-7.1C<br>Num Packages: 2.0 <br> Service Time: 20.5",
          "Sequence: 3<br> Stop ID: KN<br>Zone ID: E-7.1C<br>Num Packages: 1.0 <br> Service Time: 34.0",
          "Sequence: 4<br> Stop ID: UB<br>Zone ID: E-7.1C<br>Num Packages: 1.0 <br> Service Time: 39.0",
          "Sequence: 5<br> Stop ID: FM<br>Zone ID: E-7.1C<br>Num Packages: 1.0 <br> Service Time: 51.0",
          "Sequence: 6<br> Stop ID: LX<br>Zone ID: E-7.1C<br>Num Packages: 1.0 <br> Service Time: 52.0",
          "Sequence: 7<br> Stop ID: PC<br>Zone ID: E-7.1C<br>Num Packages: 1.0 <br> Service Time: 41.0"
         ],
         "type": "scattermapbox"
        },
        {
         "hoverinfo": "text",
         "lat": [
          42.013021,
          42.01369,
          42.010971,
          42.010627,
          42.008005,
          42.007219,
          42.008275,
          42.007952,
          42.006485,
          42.005116
         ],
         "lon": [
          -87.798192,
          -87.79821,
          -87.801941,
          -87.800602,
          -87.79719,
          -87.795648,
          -87.795104,
          -87.796026,
          -87.792609,
          -87.792748
         ],
         "marker": {
          "size": 15
         },
         "mode": "markers",
         "name": "Drone Zone E-7.1B",
         "text": [
          "Sequence: 8<br> Stop ID: KQ<br>Zone ID: E-7.1B<br>Num Packages: 2.0 <br> Service Time: 118.0",
          "Sequence: 9<br> Stop ID: RI<br>Zone ID: E-7.1B<br>Num Packages: 1.0 <br> Service Time: 49.0",
          "Sequence: 10<br> Stop ID: UV<br>Zone ID: E-7.1B<br>Num Packages: 1.0 <br> Service Time: 28.0",
          "Sequence: 11<br> Stop ID: CF<br>Zone ID: E-7.1B<br>Num Packages: 3.0 <br> Service Time: 18.7",
          "Sequence: 12<br> Stop ID: VG<br>Zone ID: E-7.1B<br>Num Packages: 1.0 <br> Service Time: 74.0",
          "Sequence: 13<br> Stop ID: OC<br>Zone ID: E-7.1B<br>Num Packages: 2.0 <br> Service Time: 52.0",
          "Sequence: 14<br> Stop ID: ZP<br>Zone ID: E-7.1B<br>Num Packages: 2.0 <br> Service Time: 69.5",
          "Sequence: 15<br> Stop ID: RH<br>Zone ID: E-7.1B<br>Num Packages: 1.0 <br> Service Time: 183.0",
          "Sequence: 16<br> Stop ID: RQ<br>Zone ID: E-7.1B<br>Num Packages: 3.0 <br> Service Time: 40.7",
          "Sequence: 17<br> Stop ID: TA<br>Zone ID: E-7.1B<br>Num Packages: 1.0 <br> Service Time: 149.0"
         ],
         "type": "scattermapbox"
        },
        {
         "hoverinfo": "text",
         "lat": [
          42.003678,
          42.000146,
          41.998338,
          41.998243,
          41.996075,
          41.997329
         ],
         "lon": [
          -87.793309,
          -87.79231,
          -87.79232,
          -87.792661,
          -87.792091,
          -87.791731
         ],
         "marker": {
          "size": 15
         },
         "mode": "markers",
         "name": "Drone Zone E-7.2B",
         "text": [
          "Sequence: 18<br> Stop ID: FQ<br>Zone ID: E-7.2B<br>Num Packages: 3.0 <br> Service Time: 91.3",
          "Sequence: 19<br> Stop ID: LR<br>Zone ID: E-7.2B<br>Num Packages: 1.0 <br> Service Time: 92.0",
          "Sequence: 20<br> Stop ID: HT<br>Zone ID: E-7.2B<br>Num Packages: 3.0 <br> Service Time: 54.70000000000001",
          "Sequence: 21<br> Stop ID: GG<br>Zone ID: E-7.2B<br>Num Packages: 1.0 <br> Service Time: 251.0",
          "Sequence: 22<br> Stop ID: AL<br>Zone ID: E-7.2B<br>Num Packages: 1.0 <br> Service Time: 77.0",
          "Sequence: 23<br> Stop ID: OA<br>Zone ID: E-7.2B<br>Num Packages: 3.0 <br> Service Time: 54.0"
         ],
         "type": "scattermapbox"
        },
        {
         "hoverinfo": "text",
         "lat": [
          41.99733,
          41.998229,
          41.99755,
          41.99704,
          41.997123,
          41.997329,
          41.998375,
          41.999753,
          41.999589,
          41.999136
         ],
         "lon": [
          -87.793534,
          -87.79514,
          -87.79558,
          -87.795522,
          -87.796471,
          -87.794719,
          -87.790875,
          -87.790855,
          -87.79231,
          -87.791805
         ],
         "marker": {
          "size": 15
         },
         "mode": "markers",
         "name": "Drone Zone E-7.3B",
         "text": [
          "Sequence: 24<br> Stop ID: BH<br>Zone ID: E-7.3B<br>Num Packages: 3.0 <br> Service Time: 185.69999999999996",
          "Sequence: 25<br> Stop ID: AT<br>Zone ID: E-7.3B<br>Num Packages: 1.0 <br> Service Time: 50.0",
          "Sequence: 26<br> Stop ID: MD<br>Zone ID: E-7.3B<br>Num Packages: 1.0 <br> Service Time: 36.0",
          "Sequence: 27<br> Stop ID: QD<br>Zone ID: E-7.3B<br>Num Packages: 1.0 <br> Service Time: 128.0",
          "Sequence: 28<br> Stop ID: LD<br>Zone ID: E-7.3B<br>Num Packages: 2.0 <br> Service Time: 97.0",
          "Sequence: 29<br> Stop ID: VM<br>Zone ID: E-7.3B<br>Num Packages: 1.0 <br> Service Time: 91.0",
          "Sequence: 30<br> Stop ID: OL<br>Zone ID: E-7.3B<br>Num Packages: 3.0 <br> Service Time: 35.7",
          "Sequence: 31<br> Stop ID: UU<br>Zone ID: E-7.3B<br>Num Packages: 1.0 <br> Service Time: 76.0",
          "Sequence: 32<br> Stop ID: HP<br>Zone ID: E-7.3B<br>Num Packages: 1.0 <br> Service Time: 197.0",
          "Sequence: 33<br> Stop ID: PH<br>Zone ID: E-7.3B<br>Num Packages: 1.0 <br> Service Time: 33.0"
         ],
         "type": "scattermapbox"
        },
        {
         "hoverinfo": "text",
         "lat": [
          41.99914,
          42.000933,
          42.000956,
          42.000943,
          42.000039,
          41.999135,
          41.99902,
          41.999315,
          41.999088,
          41.99917,
          41.999576,
          41.998067,
          41.997146,
          41.99675,
          41.995894,
          41.995991
         ],
         "lon": [
          -87.793113,
          -87.79313,
          -87.79457,
          -87.795988,
          -87.79394,
          -87.794743,
          -87.796154,
          -87.79718,
          -87.79822,
          -87.799312,
          -87.79939,
          -87.799095,
          -87.798873,
          -87.798357,
          -87.797924,
          -87.798595
         ],
         "marker": {
          "size": 15
         },
         "mode": "markers",
         "name": "Drone Zone E-7.3A",
         "text": [
          "Sequence: 34<br> Stop ID: SR<br>Zone ID: E-7.3A<br>Num Packages: 1.0 <br> Service Time: 75.0",
          "Sequence: 35<br> Stop ID: CR<br>Zone ID: E-7.3A<br>Num Packages: 1.0 <br> Service Time: 78.0",
          "Sequence: 36<br> Stop ID: QF<br>Zone ID: E-7.3A<br>Num Packages: 1.0 <br> Service Time: 30.0",
          "Sequence: 37<br> Stop ID: RJ<br>Zone ID: E-7.3A<br>Num Packages: 2.0 <br> Service Time: 90.0",
          "Sequence: 38<br> Stop ID: KG<br>Zone ID: E-7.3A<br>Num Packages: 1.0 <br> Service Time: 33.0",
          "Sequence: 39<br> Stop ID: EN<br>Zone ID: E-7.3A<br>Num Packages: 1.0 <br> Service Time: 27.0",
          "Sequence: 40<br> Stop ID: GP<br>Zone ID: E-7.3A<br>Num Packages: 1.0 <br> Service Time: 330.0",
          "Sequence: 41<br> Stop ID: MR<br>Zone ID: E-7.3A<br>Num Packages: 4.0 <br> Service Time: 41.2",
          "Sequence: 42<br> Stop ID: RT<br>Zone ID: E-7.3A<br>Num Packages: 1.0 <br> Service Time: 44.0",
          "Sequence: 43<br> Stop ID: CO<br>Zone ID: E-7.3A<br>Num Packages: 1.0 <br> Service Time: 38.0",
          "Sequence: 44<br> Stop ID: ZR<br>Zone ID: E-7.3A<br>Num Packages: 1.0 <br> Service Time: 52.0",
          "Sequence: 45<br> Stop ID: VY<br>Zone ID: E-7.3A<br>Num Packages: 1.0 <br> Service Time: 44.0",
          "Sequence: 46<br> Stop ID: HG<br>Zone ID: E-7.3A<br>Num Packages: 2.0 <br> Service Time: 63.5",
          "Sequence: 47<br> Stop ID: PZ<br>Zone ID: E-7.3A<br>Num Packages: 1.0 <br> Service Time: 144.0",
          "Sequence: 48<br> Stop ID: RF<br>Zone ID: E-7.3A<br>Num Packages: 2.0 <br> Service Time: 70.0",
          "Sequence: 49<br> Stop ID: XC<br>Zone ID: E-7.3A<br>Num Packages: 1.0 <br> Service Time: 46.0"
         ],
         "type": "scattermapbox"
        },
        {
         "hoverinfo": "text",
         "lat": [
          41.995669,
          41.995416,
          41.996377,
          41.996665,
          42.001457,
          41.999245,
          41.99873,
          41.998481,
          41.998176
         ],
         "lon": [
          -87.799833,
          -87.800586,
          -87.800697,
          -87.800755,
          -87.801711,
          -87.800336,
          -87.800221,
          -87.799531,
          -87.800411
         ],
         "marker": {
          "size": 15
         },
         "mode": "markers",
         "name": "Drone Zone E-7.2A",
         "text": [
          "Sequence: 50<br> Stop ID: RM<br>Zone ID: E-7.2A<br>Num Packages: 2.0 <br> Service Time: 113.0",
          "Sequence: 51<br> Stop ID: EB<br>Zone ID: E-7.2A<br>Num Packages: 1.0 <br> Service Time: 49.0",
          "Sequence: 52<br> Stop ID: EO<br>Zone ID: E-7.2A<br>Num Packages: 2.0 <br> Service Time: 120.0",
          "Sequence: 53<br> Stop ID: YK<br>Zone ID: E-7.2A<br>Num Packages: 4.0 <br> Service Time: 107.5",
          "Sequence: 54<br> Stop ID: QL<br>Zone ID: E-7.2A<br>Num Packages: 3.0 <br> Service Time: 34.3",
          "Sequence: 55<br> Stop ID: TU<br>Zone ID: E-7.2A<br>Num Packages: 1.0 <br> Service Time: 27.0",
          "Sequence: 56<br> Stop ID: HZ<br>Zone ID: E-7.2A<br>Num Packages: 1.0 <br> Service Time: 33.0",
          "Sequence: 57<br> Stop ID: LG<br>Zone ID: E-7.2A<br>Num Packages: 2.0 <br> Service Time: 22.0",
          "Sequence: 58<br> Stop ID: DE<br>Zone ID: E-7.2A<br>Num Packages: 1.0 <br> Service Time: 45.0"
         ],
         "type": "scattermapbox"
        },
        {
         "hoverinfo": "text",
         "lat": [
          41.998574,
          41.999252,
          41.999572,
          41.999975,
          42.000255,
          42.001302,
          42.000087,
          41.998833,
          41.998241,
          41.997099,
          41.996189,
          41.997647
         ],
         "lon": [
          -87.801173,
          -87.801336,
          -87.801413,
          -87.803708,
          -87.804156,
          -87.804143,
          -87.802951,
          -87.802975,
          -87.802978,
          -87.803337,
          -87.802725,
          -87.801948
         ],
         "marker": {
          "size": 15
         },
         "mode": "markers",
         "name": "Drone Zone E-7.1A",
         "text": [
          "Sequence: 59<br> Stop ID: AK<br>Zone ID: E-7.1A<br>Num Packages: 4.0 <br> Service Time: 62.8",
          "Sequence: 60<br> Stop ID: LQ<br>Zone ID: E-7.1A<br>Num Packages: 1.0 <br> Service Time: 150.0",
          "Sequence: 61<br> Stop ID: VC<br>Zone ID: E-7.1A<br>Num Packages: 1.0 <br> Service Time: 59.0",
          "Sequence: 62<br> Stop ID: AS<br>Zone ID: E-7.1A<br>Num Packages: 1.0 <br> Service Time: 41.0",
          "Sequence: 63<br> Stop ID: IF<br>Zone ID: E-7.1A<br>Num Packages: 2.0 <br> Service Time: 30.5",
          "Sequence: 64<br> Stop ID: DW<br>Zone ID: E-7.1A<br>Num Packages: 1.0 <br> Service Time: 62.0",
          "Sequence: 65<br> Stop ID: VN<br>Zone ID: E-7.1A<br>Num Packages: 1.0 <br> Service Time: 53.0",
          "Sequence: 66<br> Stop ID: XG<br>Zone ID: E-7.1A<br>Num Packages: 1.0 <br> Service Time: 41.0",
          "Sequence: 67<br> Stop ID: IZ<br>Zone ID: E-7.1A<br>Num Packages: 2.0 <br> Service Time: 52.0",
          "Sequence: 68<br> Stop ID: BF<br>Zone ID: E-7.1A<br>Num Packages: 1.0 <br> Service Time: 65.0",
          "Sequence: 69<br> Stop ID: SJ<br>Zone ID: E-7.1A<br>Num Packages: 1.0 <br> Service Time: 60.0",
          "Sequence: 70<br> Stop ID: JT<br>Zone ID: E-7.1A<br>Num Packages: 2.0 <br> Service Time: 61.5"
         ],
         "type": "scattermapbox"
        },
        {
         "hoverinfo": "text",
         "lat": [
          41.99767,
          41.998657,
          42.000165,
          41.999534,
          41.999487,
          41.998939,
          41.997493,
          41.997757,
          41.997789
         ],
         "lon": [
          -87.804194,
          -87.80575,
          -87.805366,
          -87.805207,
          -87.80489,
          -87.804897,
          -87.804903,
          -87.804697,
          -87.80612
         ],
         "marker": {
          "size": 15
         },
         "mode": "markers",
         "name": "Drone Zone E-6.1A",
         "text": [
          "Sequence: 71<br> Stop ID: VE<br>Zone ID: E-6.1A<br>Num Packages: 1.0 <br> Service Time: 45.0",
          "Sequence: 72<br> Stop ID: XQ<br>Zone ID: E-6.1A<br>Num Packages: 1.0 <br> Service Time: 79.0",
          "Sequence: 73<br> Stop ID: SO<br>Zone ID: E-6.1A<br>Num Packages: 3.0 <br> Service Time: 137.0",
          "Sequence: 74<br> Stop ID: II<br>Zone ID: E-6.1A<br>Num Packages: 1.0 <br> Service Time: 47.0",
          "Sequence: 75<br> Stop ID: AZ<br>Zone ID: E-6.1A<br>Num Packages: 4.0 <br> Service Time: 41.2",
          "Sequence: 76<br> Stop ID: SK<br>Zone ID: E-6.1A<br>Num Packages: 1.0 <br> Service Time: 84.0",
          "Sequence: 77<br> Stop ID: HD<br>Zone ID: E-6.1A<br>Num Packages: 1.0 <br> Service Time: 64.0",
          "Sequence: 78<br> Stop ID: ZL<br>Zone ID: E-6.1A<br>Num Packages: 1.0 <br> Service Time: 153.0",
          "Sequence: 79<br> Stop ID: NT<br>Zone ID: E-6.1A<br>Num Packages: 2.0 <br> Service Time: 83.0"
         ],
         "type": "scattermapbox"
        },
        {
         "hoverinfo": "text",
         "lat": [
          41.997768,
          41.995023,
          41.998363,
          41.998772,
          41.999088,
          41.999348,
          42.000154
         ],
         "lon": [
          -87.808075,
          -87.803519,
          -87.808835,
          -87.809717,
          -87.810239,
          -87.81066,
          -87.811975
         ],
         "marker": {
          "size": 15
         },
         "mode": "markers",
         "name": "Drone Zone E-6.2A",
         "text": [
          "Sequence: 80<br> Stop ID: AY<br>Zone ID: E-6.2A<br>Num Packages: 1.0 <br> Service Time: 110.0",
          "Sequence: 81<br> Stop ID: IN<br>Zone ID: E-6.2A<br>Num Packages: 1.0 <br> Service Time: 150.0",
          "Sequence: 82<br> Stop ID: WK<br>Zone ID: E-6.2A<br>Num Packages: 3.0 <br> Service Time: 189.0",
          "Sequence: 83<br> Stop ID: CB<br>Zone ID: E-6.2A<br>Num Packages: 8.0 <br> Service Time: 55.1",
          "Sequence: 84<br> Stop ID: XR<br>Zone ID: E-6.2A<br>Num Packages: 1.0 <br> Service Time: 44.0",
          "Sequence: 85<br> Stop ID: MS<br>Zone ID: E-6.2A<br>Num Packages: 5.0 <br> Service Time: 132.0",
          "Sequence: 86<br> Stop ID: GA<br>Zone ID: E-6.2A<br>Num Packages: 1.0 <br> Service Time: 69.0"
         ],
         "type": "scattermapbox"
        },
        {
         "hoverinfo": "text",
         "lat": [
          42.000722,
          42.000272,
          41.999506,
          42.001191,
          42.002343,
          42.00365,
          42.003264,
          42.000915
         ],
         "lon": [
          -87.812836,
          -87.813855,
          -87.811694,
          -87.81363,
          -87.813477,
          -87.81162,
          -87.812408,
          -87.813199
         ],
         "marker": {
          "size": 15
         },
         "mode": "markers",
         "name": "Drone Zone E-6.3A",
         "text": [
          "Sequence: 87<br> Stop ID: OX<br>Zone ID: E-6.3A<br>Num Packages: 1.0 <br> Service Time: 126.0",
          "Sequence: 88<br> Stop ID: VP<br>Zone ID: E-6.3A<br>Num Packages: 2.0 <br> Service Time: 35.0",
          "Sequence: 89<br> Stop ID: YP<br>Zone ID: E-6.3A<br>Num Packages: 6.0 <br> Service Time: 47.0",
          "Sequence: 90<br> Stop ID: TY<br>Zone ID: E-6.3A<br>Num Packages: 1.0 <br> Service Time: 53.0",
          "Sequence: 91<br> Stop ID: EH<br>Zone ID: E-6.3A<br>Num Packages: 1.0 <br> Service Time: 83.0",
          "Sequence: 92<br> Stop ID: SE<br>Zone ID: E-6.3A<br>Num Packages: 4.0 <br> Service Time: 100.2",
          "Sequence: 93<br> Stop ID: SW<br>Zone ID: E-6.3A<br>Num Packages: 4.0 <br> Service Time: 29.0",
          "Sequence: 94<br> Stop ID: GN<br>Zone ID: E-6.3A<br>Num Packages: 3.0 <br> Service Time: 21.0"
         ],
         "type": "scattermapbox"
        },
        {
         "hoverinfo": "text",
         "lat": [
          42.001229,
          42.002125,
          42.002129,
          42.001133,
          42.001364,
          42.000817,
          42.000528,
          42.000715,
          42.000434
         ],
         "lon": [
          -87.81315,
          -87.8121,
          -87.810404,
          -87.810921,
          -87.811297,
          -87.811985,
          -87.812197,
          -87.810225,
          -87.809755
         ],
         "marker": {
          "size": 15
         },
         "mode": "markers",
         "name": "Drone Zone E-6.3B",
         "text": [
          "Sequence: 95<br> Stop ID: YO<br>Zone ID: E-6.3B<br>Num Packages: 1.0 <br> Service Time: 49.0",
          "Sequence: 96<br> Stop ID: AX<br>Zone ID: E-6.3B<br>Num Packages: 1.0 <br> Service Time: 95.0",
          "Sequence: 97<br> Stop ID: FD<br>Zone ID: E-6.3B<br>Num Packages: 1.0 <br> Service Time: 82.0",
          "Sequence: 98<br> Stop ID: MF<br>Zone ID: E-6.3B<br>Num Packages: 1.0 <br> Service Time: 61.0",
          "Sequence: 99<br> Stop ID: YW<br>Zone ID: E-6.3B<br>Num Packages: 1.0 <br> Service Time: 111.0",
          "Sequence: 100<br> Stop ID: ZT<br>Zone ID: E-6.3B<br>Num Packages: 3.0 <br> Service Time: 47.70000000000001",
          "Sequence: 101<br> Stop ID: FT<br>Zone ID: E-6.3B<br>Num Packages: 1.0 <br> Service Time: 44.0",
          "Sequence: 102<br> Stop ID: VF<br>Zone ID: E-6.3B<br>Num Packages: 4.0 <br> Service Time: 151.0",
          "Sequence: 103<br> Stop ID: EP<br>Zone ID: E-6.3B<br>Num Packages: 1.0 <br> Service Time: 81.0"
         ],
         "type": "scattermapbox"
        },
        {
         "hoverinfo": "text",
         "lat": [
          41.998993,
          42.000498,
          42.000607,
          42.000304,
          42.003052,
          42.001399,
          42.001478,
          42.002147
         ],
         "lon": [
          -87.807404,
          -87.807978,
          -87.806763,
          -87.806766,
          -87.806736,
          -87.806753,
          -87.807966,
          -87.807963
         ],
         "marker": {
          "size": 15
         },
         "mode": "markers",
         "name": "Drone Zone E-6.2B",
         "text": [
          "Sequence: 104<br> Stop ID: ZY<br>Zone ID: E-6.2B<br>Num Packages: 1.0 <br> Service Time: 155.0",
          "Sequence: 105<br> Stop ID: NF<br>Zone ID: E-6.2B<br>Num Packages: 1.0 <br> Service Time: 50.0",
          "Sequence: 106<br> Stop ID: XJ<br>Zone ID: E-6.2B<br>Num Packages: 1.0 <br> Service Time: 121.0",
          "Sequence: 107<br> Stop ID: HE<br>Zone ID: E-6.2B<br>Num Packages: 1.0 <br> Service Time: 43.0",
          "Sequence: 108<br> Stop ID: VZ<br>Zone ID: E-6.2B<br>Num Packages: 1.0 <br> Service Time: 216.0",
          "Sequence: 109<br> Stop ID: HX<br>Zone ID: E-6.2B<br>Num Packages: 7.0 <br> Service Time: 73.0",
          "Sequence: 110<br> Stop ID: GT<br>Zone ID: E-6.2B<br>Num Packages: 6.0 <br> Service Time: 69.2",
          "Sequence: 111<br> Stop ID: YF<br>Zone ID: E-6.2B<br>Num Packages: 3.0 <br> Service Time: 64.7"
         ],
         "type": "scattermapbox"
        },
        {
         "hoverinfo": "text",
         "lat": [
          42.003926,
          42.004253,
          42.003884,
          42.001054,
          42.002181,
          42.003142
         ],
         "lon": [
          -87.807953,
          -87.809171,
          -87.809173,
          -87.809196,
          -87.809184,
          -87.809177
         ],
         "marker": {
          "size": 15
         },
         "mode": "markers",
         "name": "Drone Zone E-6.1B",
         "text": [
          "Sequence: 112<br> Stop ID: RR<br>Zone ID: E-6.1B<br>Num Packages: 2.0 <br> Service Time: 65.0",
          "Sequence: 113<br> Stop ID: WU<br>Zone ID: E-6.1B<br>Num Packages: 3.0 <br> Service Time: 50.70000000000001",
          "Sequence: 114<br> Stop ID: ZM<br>Zone ID: E-6.1B<br>Num Packages: 3.0 <br> Service Time: 112.0",
          "Sequence: 115<br> Stop ID: ER<br>Zone ID: E-6.1B<br>Num Packages: 1.0 <br> Service Time: 60.0",
          "Sequence: 116<br> Stop ID: RN<br>Zone ID: E-6.1B<br>Num Packages: 1.0 <br> Service Time: 57.0",
          "Sequence: 117<br> Stop ID: TW<br>Zone ID: E-6.1B<br>Num Packages: 1.0 <br> Service Time: 35.0"
         ],
         "type": "scattermapbox"
        },
        {
         "hoverinfo": "text",
         "lat": [
          42.003425,
          42.004096,
          42.00523,
          42.005277
         ],
         "lon": [
          -87.81039,
          -87.810383,
          -87.811527,
          -87.810015
         ],
         "marker": {
          "size": 15
         },
         "mode": "markers",
         "name": "Drone Zone E-6.1C",
         "text": [
          "Sequence: 118<br> Stop ID: OJ<br>Zone ID: E-6.1C<br>Num Packages: 4.0 <br> Service Time: 65.5",
          "Sequence: 119<br> Stop ID: FB<br>Zone ID: E-6.1C<br>Num Packages: 1.0 <br> Service Time: 29.0",
          "Sequence: 120<br> Stop ID: BY<br>Zone ID: E-6.1C<br>Num Packages: 1.0 <br> Service Time: 91.0",
          "Sequence: 121<br> Stop ID: OQ<br>Zone ID: E-6.1C<br>Num Packages: 2.0 <br> Service Time: 31.0"
         ],
         "type": "scattermapbox"
        },
        {
         "hoverinfo": "text",
         "lat": [
          42.005326,
          42.006286,
          42.006256,
          42.00622,
          42.007188
         ],
         "lon": [
          -87.808377,
          -87.807795,
          -87.808667,
          -87.809753,
          -87.807211
         ],
         "marker": {
          "size": 15
         },
         "mode": "markers",
         "name": "Drone Zone E-6.2C",
         "text": [
          "Sequence: 122<br> Stop ID: BJ<br>Zone ID: E-6.2C<br>Num Packages: 1.0 <br> Service Time: 48.0",
          "Sequence: 123<br> Stop ID: SC<br>Zone ID: E-6.2C<br>Num Packages: 2.0 <br> Service Time: 55.5",
          "Sequence: 124<br> Stop ID: HL<br>Zone ID: E-6.2C<br>Num Packages: 3.0 <br> Service Time: 39.0",
          "Sequence: 125<br> Stop ID: RU<br>Zone ID: E-6.2C<br>Num Packages: 2.0 <br> Service Time: 122.0",
          "Sequence: 126<br> Stop ID: XS<br>Zone ID: E-6.2C<br>Num Packages: 5.0 <br> Service Time: 23.0"
         ],
         "type": "scattermapbox"
        },
        {
         "hoverinfo": "text",
         "lat": [
          42.007122,
          42.007093,
          42.007073,
          42.007232,
          42.008002,
          42.008041,
          42.008096,
          42.01012
         ],
         "lon": [
          -87.808835,
          -87.809642,
          -87.810333,
          -87.810996,
          -87.810104,
          -87.808792,
          -87.807088,
          -87.804512
         ],
         "marker": {
          "size": 15
         },
         "mode": "markers",
         "name": "Drone Zone E-6.3C",
         "text": [
          "Sequence: 127<br> Stop ID: MT<br>Zone ID: E-6.3C<br>Num Packages: 2.0 <br> Service Time: 90.5",
          "Sequence: 128<br> Stop ID: AU<br>Zone ID: E-6.3C<br>Num Packages: 2.0 <br> Service Time: 33.5",
          "Sequence: 129<br> Stop ID: KT<br>Zone ID: E-6.3C<br>Num Packages: 1.0 <br> Service Time: 36.0",
          "Sequence: 130<br> Stop ID: QW<br>Zone ID: E-6.3C<br>Num Packages: 1.0 <br> Service Time: 52.0",
          "Sequence: 131<br> Stop ID: HV<br>Zone ID: E-6.3C<br>Num Packages: 3.0 <br> Service Time: 43.70000000000001",
          "Sequence: 132<br> Stop ID: TG<br>Zone ID: E-6.3C<br>Num Packages: 3.0 <br> Service Time: 94.0",
          "Sequence: 133<br> Stop ID: ND<br>Zone ID: E-6.3C<br>Num Packages: 2.0 <br> Service Time: 159.0",
          "Sequence: 134<br> Stop ID: FS<br>Zone ID: E-6.3C<br>Num Packages: 1.0 <br> Service Time: 71.0"
         ],
         "type": "scattermapbox"
        },
        {
         "hoverinfo": "text",
         "lat": [
          42.009807,
          42.010099,
          42.008968,
          42.009158,
          42.009292,
          42.008439,
          42.00789,
          42.006678,
          42.007201,
          42.005355,
          42.004804,
          42.005271
         ],
         "lon": [
          -87.80412,
          -87.803753,
          -87.808176,
          -87.81097,
          -87.813657,
          -87.813671,
          -87.813953,
          -87.813694,
          -87.812288,
          -87.812317,
          -87.812329,
          -87.8137
         ],
         "marker": {
          "size": 15
         },
         "mode": "markers",
         "name": "Drone Zone E-6.3D",
         "text": [
          "Sequence: 135<br> Stop ID: NA<br>Zone ID: E-6.3D<br>Num Packages: 2.0 <br> Service Time: 92.0",
          "Sequence: 136<br> Stop ID: YR<br>Zone ID: E-6.3D<br>Num Packages: 1.0 <br> Service Time: 25.0",
          "Sequence: 137<br> Stop ID: IG<br>Zone ID: E-6.3D<br>Num Packages: 2.0 <br> Service Time: 44.0",
          "Sequence: 138<br> Stop ID: WA<br>Zone ID: E-6.3D<br>Num Packages: 1.0 <br> Service Time: 39.0",
          "Sequence: 139<br> Stop ID: VS<br>Zone ID: E-6.3D<br>Num Packages: 1.0 <br> Service Time: 35.0",
          "Sequence: 140<br> Stop ID: LH<br>Zone ID: E-6.3D<br>Num Packages: 2.0 <br> Service Time: 49.0",
          "Sequence: 141<br> Stop ID: JL<br>Zone ID: E-6.3D<br>Num Packages: 1.0 <br> Service Time: 51.0",
          "Sequence: 142<br> Stop ID: WH<br>Zone ID: E-6.3D<br>Num Packages: 1.0 <br> Service Time: 35.0",
          "Sequence: 143<br> Stop ID: ZJ<br>Zone ID: E-6.3D<br>Num Packages: 1.0 <br> Service Time: 72.0",
          "Sequence: 144<br> Stop ID: KS<br>Zone ID: E-6.3D<br>Num Packages: 2.0 <br> Service Time: 154.0",
          "Sequence: 145<br> Stop ID: DN<br>Zone ID: E-6.3D<br>Num Packages: 1.0 <br> Service Time: 50.0",
          "Sequence: 146<br> Stop ID: YQ<br>Zone ID: E-6.3D<br>Num Packages: 3.0 <br> Service Time: 44.29999999999999"
         ],
         "type": "scattermapbox"
        },
        {
         "hoverinfo": "text",
         "lat": [
          42.004224,
          42.002875,
          42.00332,
          42.002324,
          42.003141,
          42.003996
         ],
         "lon": [
          -87.814218,
          -87.81836,
          -87.819132,
          -87.816642,
          -87.815812,
          -87.813184
         ],
         "marker": {
          "size": 15
         },
         "mode": "markers",
         "name": "Drone Zone E-6.2D",
         "text": [
          "Sequence: 147<br> Stop ID: NV<br>Zone ID: E-6.2D<br>Num Packages: 1.0 <br> Service Time: 39.0",
          "Sequence: 148<br> Stop ID: ZQ<br>Zone ID: E-6.2D<br>Num Packages: 1.0 <br> Service Time: 45.0",
          "Sequence: 149<br> Stop ID: JH<br>Zone ID: E-6.2D<br>Num Packages: 4.0 <br> Service Time: 14.5",
          "Sequence: 150<br> Stop ID: WS<br>Zone ID: E-6.2D<br>Num Packages: 1.0 <br> Service Time: 111.0",
          "Sequence: 151<br> Stop ID: WD<br>Zone ID: E-6.2D<br>Num Packages: 3.0 <br> Service Time: 65.3",
          "Sequence: 152<br> Stop ID: NI<br>Zone ID: E-6.2D<br>Num Packages: 3.0 <br> Service Time: 56.0"
         ],
         "type": "scattermapbox"
        },
        {
         "hoverinfo": "text",
         "lat": [
          42.003057,
          42.00187,
          42.003788,
          42.004423,
          42.005222,
          42.005805,
          42.005393,
          42.005649,
          42.006633,
          42.009571,
          42.031368
         ],
         "lon": [
          -87.814257,
          -87.816372,
          -87.814852,
          -87.815098,
          -87.815089,
          -87.815083,
          -87.816456,
          -87.817634,
          -87.817621,
          -87.817584,
          -87.776596
         ],
         "marker": {
          "size": 15
         },
         "mode": "markers",
         "name": "Drone Zone E-6.1D",
         "text": [
          "Sequence: 153<br> Stop ID: DG<br>Zone ID: E-6.1D<br>Num Packages: 1.0 <br> Service Time: 108.0",
          "Sequence: 154<br> Stop ID: OK<br>Zone ID: E-6.1D<br>Num Packages: 1.0 <br> Service Time: 64.0",
          "Sequence: 155<br> Stop ID: NM<br>Zone ID: E-6.1D<br>Num Packages: 1.0 <br> Service Time: 63.0",
          "Sequence: 156<br> Stop ID: AM<br>Zone ID: E-6.1D<br>Num Packages: 3.0 <br> Service Time: 15.0",
          "Sequence: 157<br> Stop ID: DS<br>Zone ID: E-6.1D<br>Num Packages: 2.0 <br> Service Time: 63.0",
          "Sequence: 158<br> Stop ID: NZ<br>Zone ID: E-6.1D<br>Num Packages: 1.0 <br> Service Time: 34.0",
          "Sequence: 159<br> Stop ID: XW<br>Zone ID: E-6.1D<br>Num Packages: 1.0 <br> Service Time: 71.0",
          "Sequence: 160<br> Stop ID: MC<br>Zone ID: E-6.1D<br>Num Packages: 1.0 <br> Service Time: 38.0",
          "Sequence: 161<br> Stop ID: AV<br>Zone ID: E-6.1D<br>Num Packages: 1.0 <br> Service Time: 108.0",
          "Sequence: 162<br> Stop ID: WL<br>Zone ID: E-6.1D<br>Num Packages: 3.0 <br> Service Time: 83.3",
          "Sequence: 163<br> Stop ID: HI<br>Zone ID: E-6.1D<br>Num Packages: nan <br> Service Time: nan"
         ],
         "type": "scattermapbox"
        },
        {
         "hoverinfo": "none",
         "lat": [
          42.031368,
          42.034701,
          42.0347,
          42.010624,
          42.01097,
          42.009862,
          42.010552,
          42.013021,
          42.01369,
          42.010971,
          42.010627,
          42.008005,
          42.007219,
          42.008275,
          42.007952,
          42.006485,
          42.005116,
          42.003678,
          42.000146,
          41.998338,
          41.998243,
          41.996075,
          41.997329,
          41.99733,
          41.998229,
          41.99755,
          41.99704,
          41.997123,
          41.998375,
          41.999753,
          41.999589,
          41.999136,
          41.99914,
          42.000956,
          42.000943,
          42.000039,
          41.999135,
          41.999315,
          41.99917,
          41.999576,
          41.998067,
          41.997146,
          41.995894,
          41.995991,
          41.995669,
          41.995416,
          41.996377,
          41.996665,
          42.001457,
          41.999245,
          41.998481,
          41.998176,
          41.998574,
          41.999252,
          41.999572,
          41.999975,
          42.000255,
          42.001302,
          42.000087,
          41.998241,
          41.996189,
          41.997647,
          41.99767,
          42.000165,
          41.999487,
          41.997493,
          41.997789,
          41.997768,
          41.998363,
          41.998772,
          41.999348,
          42.000722,
          42.000272,
          41.999506,
          42.002343,
          42.00365,
          42.003264,
          42.000915,
          42.001229,
          42.002125,
          42.002129,
          42.001133,
          42.001364,
          42.000817,
          42.000528,
          42.000715,
          42.000434,
          41.998993,
          42.000498,
          42.000304,
          42.003052,
          42.001399,
          42.001478,
          42.002147,
          42.003926,
          42.004253,
          42.003884,
          42.002181,
          42.003142,
          42.003425,
          42.004096,
          42.005277,
          42.005326,
          42.006286,
          42.006256,
          42.00622,
          42.007188,
          42.007122,
          42.007093,
          42.007073,
          42.007232,
          42.008002,
          42.008041,
          42.008096,
          42.01012,
          42.009807,
          42.010099,
          42.008968,
          42.009158,
          42.008439,
          42.00789,
          42.006678,
          42.005355,
          42.005271,
          42.004224,
          42.002875,
          42.00332,
          42.002324,
          42.003141,
          42.003996,
          42.00187,
          42.003788,
          42.004423,
          42.005222,
          42.005805,
          42.005393,
          42.006633,
          42.009571,
          42.031368
         ],
         "line": {
          "color": "blue",
          "width": 2
         },
         "lon": [
          -87.776596,
          -87.787183,
          -87.78652,
          -87.794307,
          -87.795053,
          -87.797879,
          -87.798468,
          -87.798192,
          -87.79821,
          -87.801941,
          -87.800602,
          -87.79719,
          -87.795648,
          -87.795104,
          -87.796026,
          -87.792609,
          -87.792748,
          -87.793309,
          -87.79231,
          -87.79232,
          -87.792661,
          -87.792091,
          -87.791731,
          -87.793534,
          -87.79514,
          -87.79558,
          -87.795522,
          -87.796471,
          -87.790875,
          -87.790855,
          -87.79231,
          -87.791805,
          -87.793113,
          -87.79457,
          -87.795988,
          -87.79394,
          -87.794743,
          -87.79718,
          -87.799312,
          -87.79939,
          -87.799095,
          -87.798873,
          -87.797924,
          -87.798595,
          -87.799833,
          -87.800586,
          -87.800697,
          -87.800755,
          -87.801711,
          -87.800336,
          -87.799531,
          -87.800411,
          -87.801173,
          -87.801336,
          -87.801413,
          -87.803708,
          -87.804156,
          -87.804143,
          -87.802951,
          -87.802978,
          -87.802725,
          -87.801948,
          -87.804194,
          -87.805366,
          -87.80489,
          -87.804903,
          -87.80612,
          -87.808075,
          -87.808835,
          -87.809717,
          -87.81066,
          -87.812836,
          -87.813855,
          -87.811694,
          -87.813477,
          -87.81162,
          -87.812408,
          -87.813199,
          -87.81315,
          -87.8121,
          -87.810404,
          -87.810921,
          -87.811297,
          -87.811985,
          -87.812197,
          -87.810225,
          -87.809755,
          -87.807404,
          -87.807978,
          -87.806766,
          -87.806736,
          -87.806753,
          -87.807966,
          -87.807963,
          -87.807953,
          -87.809171,
          -87.809173,
          -87.809184,
          -87.809177,
          -87.81039,
          -87.810383,
          -87.810015,
          -87.808377,
          -87.807795,
          -87.808667,
          -87.809753,
          -87.807211,
          -87.808835,
          -87.809642,
          -87.810333,
          -87.810996,
          -87.810104,
          -87.808792,
          -87.807088,
          -87.804512,
          -87.80412,
          -87.803753,
          -87.808176,
          -87.81097,
          -87.813671,
          -87.813953,
          -87.813694,
          -87.812317,
          -87.8137,
          -87.814218,
          -87.81836,
          -87.819132,
          -87.816642,
          -87.815812,
          -87.813184,
          -87.816372,
          -87.814852,
          -87.815098,
          -87.815089,
          -87.815083,
          -87.816456,
          -87.817621,
          -87.817584,
          -87.776596
         ],
         "mode": "lines",
         "name": "Route Path",
         "type": "scattermapbox"
        },
        {
         "hoverinfo": "text",
         "lat": [],
         "lon": [],
         "marker": {
          "size": 15
         },
         "mode": "markers",
         "name": "Route Zone nan",
         "text": [],
         "type": "scattermapbox"
        },
        {
         "hoverinfo": "text",
         "lat": [
          42.034701,
          42.0347,
          42.010624,
          42.01097,
          42.009862,
          42.010552
         ],
         "lon": [
          -87.787183,
          -87.78652,
          -87.794307,
          -87.795053,
          -87.797879,
          -87.798468
         ],
         "marker": {
          "size": 15
         },
         "mode": "markers",
         "name": "Route Zone E-7.1C",
         "text": [
          "Sequence: 1<br> Stop ID: RC<br>Zone ID: E-7.1C<br>Num Packages: 2.0 <br> Service Time: 215.5",
          "Sequence: 2<br> Stop ID: OM<br>Zone ID: E-7.1C<br>Num Packages: 2.0 <br> Service Time: 20.5",
          "Sequence: 3<br> Stop ID: UB<br>Zone ID: E-7.1C<br>Num Packages: 1.0 <br> Service Time: 39.0",
          "Sequence: 4<br> Stop ID: FM<br>Zone ID: E-7.1C<br>Num Packages: 1.0 <br> Service Time: 51.0",
          "Sequence: 5<br> Stop ID: LX<br>Zone ID: E-7.1C<br>Num Packages: 1.0 <br> Service Time: 52.0",
          "Sequence: 6<br> Stop ID: PC<br>Zone ID: E-7.1C<br>Num Packages: 1.0 <br> Service Time: 41.0"
         ],
         "type": "scattermapbox"
        },
        {
         "hoverinfo": "text",
         "lat": [
          42.013021,
          42.01369,
          42.010971,
          42.010627,
          42.008005,
          42.007219,
          42.008275,
          42.007952,
          42.006485,
          42.005116
         ],
         "lon": [
          -87.798192,
          -87.79821,
          -87.801941,
          -87.800602,
          -87.79719,
          -87.795648,
          -87.795104,
          -87.796026,
          -87.792609,
          -87.792748
         ],
         "marker": {
          "size": 15
         },
         "mode": "markers",
         "name": "Route Zone E-7.1B",
         "text": [
          "Sequence: 7<br> Stop ID: KQ<br>Zone ID: E-7.1B<br>Num Packages: 2.0 <br> Service Time: 118.0",
          "Sequence: 8<br> Stop ID: RI<br>Zone ID: E-7.1B<br>Num Packages: 1.0 <br> Service Time: 49.0",
          "Sequence: 9<br> Stop ID: UV<br>Zone ID: E-7.1B<br>Num Packages: 1.0 <br> Service Time: 28.0",
          "Sequence: 10<br> Stop ID: CF<br>Zone ID: E-7.1B<br>Num Packages: 3.0 <br> Service Time: 18.7",
          "Sequence: 11<br> Stop ID: VG<br>Zone ID: E-7.1B<br>Num Packages: 1.0 <br> Service Time: 74.0",
          "Sequence: 12<br> Stop ID: OC<br>Zone ID: E-7.1B<br>Num Packages: 2.0 <br> Service Time: 52.0",
          "Sequence: 13<br> Stop ID: ZP<br>Zone ID: E-7.1B<br>Num Packages: 2.0 <br> Service Time: 69.5",
          "Sequence: 14<br> Stop ID: RH<br>Zone ID: E-7.1B<br>Num Packages: 1.0 <br> Service Time: 183.0",
          "Sequence: 15<br> Stop ID: RQ<br>Zone ID: E-7.1B<br>Num Packages: 3.0 <br> Service Time: 40.7",
          "Sequence: 16<br> Stop ID: TA<br>Zone ID: E-7.1B<br>Num Packages: 1.0 <br> Service Time: 149.0"
         ],
         "type": "scattermapbox"
        },
        {
         "hoverinfo": "text",
         "lat": [
          42.003678,
          42.000146,
          41.998338,
          41.998243,
          41.996075,
          41.997329
         ],
         "lon": [
          -87.793309,
          -87.79231,
          -87.79232,
          -87.792661,
          -87.792091,
          -87.791731
         ],
         "marker": {
          "size": 15
         },
         "mode": "markers",
         "name": "Route Zone E-7.2B",
         "text": [
          "Sequence: 17<br> Stop ID: FQ<br>Zone ID: E-7.2B<br>Num Packages: 3.0 <br> Service Time: 91.3",
          "Sequence: 18<br> Stop ID: LR<br>Zone ID: E-7.2B<br>Num Packages: 1.0 <br> Service Time: 92.0",
          "Sequence: 19<br> Stop ID: HT<br>Zone ID: E-7.2B<br>Num Packages: 3.0 <br> Service Time: 54.70000000000001",
          "Sequence: 20<br> Stop ID: GG<br>Zone ID: E-7.2B<br>Num Packages: 1.0 <br> Service Time: 251.0",
          "Sequence: 21<br> Stop ID: AL<br>Zone ID: E-7.2B<br>Num Packages: 1.0 <br> Service Time: 77.0",
          "Sequence: 22<br> Stop ID: OA<br>Zone ID: E-7.2B<br>Num Packages: 3.0 <br> Service Time: 54.0"
         ],
         "type": "scattermapbox"
        },
        {
         "hoverinfo": "text",
         "lat": [
          41.99733,
          41.998229,
          41.99755,
          41.99704,
          41.997123,
          41.998375,
          41.999753,
          41.999589,
          41.999136
         ],
         "lon": [
          -87.793534,
          -87.79514,
          -87.79558,
          -87.795522,
          -87.796471,
          -87.790875,
          -87.790855,
          -87.79231,
          -87.791805
         ],
         "marker": {
          "size": 15
         },
         "mode": "markers",
         "name": "Route Zone E-7.3B",
         "text": [
          "Sequence: 23<br> Stop ID: BH<br>Zone ID: E-7.3B<br>Num Packages: 3.0 <br> Service Time: 185.69999999999996",
          "Sequence: 24<br> Stop ID: AT<br>Zone ID: E-7.3B<br>Num Packages: 1.0 <br> Service Time: 50.0",
          "Sequence: 25<br> Stop ID: MD<br>Zone ID: E-7.3B<br>Num Packages: 1.0 <br> Service Time: 36.0",
          "Sequence: 26<br> Stop ID: QD<br>Zone ID: E-7.3B<br>Num Packages: 1.0 <br> Service Time: 128.0",
          "Sequence: 27<br> Stop ID: LD<br>Zone ID: E-7.3B<br>Num Packages: 2.0 <br> Service Time: 97.0",
          "Sequence: 28<br> Stop ID: OL<br>Zone ID: E-7.3B<br>Num Packages: 3.0 <br> Service Time: 35.7",
          "Sequence: 29<br> Stop ID: UU<br>Zone ID: E-7.3B<br>Num Packages: 1.0 <br> Service Time: 76.0",
          "Sequence: 30<br> Stop ID: HP<br>Zone ID: E-7.3B<br>Num Packages: 1.0 <br> Service Time: 197.0",
          "Sequence: 31<br> Stop ID: PH<br>Zone ID: E-7.3B<br>Num Packages: 1.0 <br> Service Time: 33.0"
         ],
         "type": "scattermapbox"
        },
        {
         "hoverinfo": "text",
         "lat": [
          41.99914,
          42.000956,
          42.000943,
          42.000039,
          41.999135,
          41.999315,
          41.99917,
          41.999576,
          41.998067,
          41.997146,
          41.995894,
          41.995991
         ],
         "lon": [
          -87.793113,
          -87.79457,
          -87.795988,
          -87.79394,
          -87.794743,
          -87.79718,
          -87.799312,
          -87.79939,
          -87.799095,
          -87.798873,
          -87.797924,
          -87.798595
         ],
         "marker": {
          "size": 15
         },
         "mode": "markers",
         "name": "Route Zone E-7.3A",
         "text": [
          "Sequence: 32<br> Stop ID: SR<br>Zone ID: E-7.3A<br>Num Packages: 1.0 <br> Service Time: 75.0",
          "Sequence: 33<br> Stop ID: QF<br>Zone ID: E-7.3A<br>Num Packages: 1.0 <br> Service Time: 30.0",
          "Sequence: 34<br> Stop ID: RJ<br>Zone ID: E-7.3A<br>Num Packages: 2.0 <br> Service Time: 90.0",
          "Sequence: 35<br> Stop ID: KG<br>Zone ID: E-7.3A<br>Num Packages: 1.0 <br> Service Time: 33.0",
          "Sequence: 36<br> Stop ID: EN<br>Zone ID: E-7.3A<br>Num Packages: 1.0 <br> Service Time: 27.0",
          "Sequence: 37<br> Stop ID: MR<br>Zone ID: E-7.3A<br>Num Packages: 4.0 <br> Service Time: 41.2",
          "Sequence: 38<br> Stop ID: CO<br>Zone ID: E-7.3A<br>Num Packages: 1.0 <br> Service Time: 38.0",
          "Sequence: 39<br> Stop ID: ZR<br>Zone ID: E-7.3A<br>Num Packages: 1.0 <br> Service Time: 52.0",
          "Sequence: 40<br> Stop ID: VY<br>Zone ID: E-7.3A<br>Num Packages: 1.0 <br> Service Time: 44.0",
          "Sequence: 41<br> Stop ID: HG<br>Zone ID: E-7.3A<br>Num Packages: 2.0 <br> Service Time: 63.5",
          "Sequence: 42<br> Stop ID: RF<br>Zone ID: E-7.3A<br>Num Packages: 2.0 <br> Service Time: 70.0",
          "Sequence: 43<br> Stop ID: XC<br>Zone ID: E-7.3A<br>Num Packages: 1.0 <br> Service Time: 46.0"
         ],
         "type": "scattermapbox"
        },
        {
         "hoverinfo": "text",
         "lat": [
          41.995669,
          41.995416,
          41.996377,
          41.996665,
          42.001457,
          41.999245,
          41.998481,
          41.998176
         ],
         "lon": [
          -87.799833,
          -87.800586,
          -87.800697,
          -87.800755,
          -87.801711,
          -87.800336,
          -87.799531,
          -87.800411
         ],
         "marker": {
          "size": 15
         },
         "mode": "markers",
         "name": "Route Zone E-7.2A",
         "text": [
          "Sequence: 44<br> Stop ID: RM<br>Zone ID: E-7.2A<br>Num Packages: 2.0 <br> Service Time: 113.0",
          "Sequence: 45<br> Stop ID: EB<br>Zone ID: E-7.2A<br>Num Packages: 1.0 <br> Service Time: 49.0",
          "Sequence: 46<br> Stop ID: EO<br>Zone ID: E-7.2A<br>Num Packages: 2.0 <br> Service Time: 120.0",
          "Sequence: 47<br> Stop ID: YK<br>Zone ID: E-7.2A<br>Num Packages: 4.0 <br> Service Time: 107.5",
          "Sequence: 48<br> Stop ID: QL<br>Zone ID: E-7.2A<br>Num Packages: 3.0 <br> Service Time: 34.3",
          "Sequence: 49<br> Stop ID: TU<br>Zone ID: E-7.2A<br>Num Packages: 1.0 <br> Service Time: 27.0",
          "Sequence: 50<br> Stop ID: LG<br>Zone ID: E-7.2A<br>Num Packages: 2.0 <br> Service Time: 22.0",
          "Sequence: 51<br> Stop ID: DE<br>Zone ID: E-7.2A<br>Num Packages: 1.0 <br> Service Time: 45.0"
         ],
         "type": "scattermapbox"
        },
        {
         "hoverinfo": "text",
         "lat": [
          41.998574,
          41.999252,
          41.999572,
          41.999975,
          42.000255,
          42.001302,
          42.000087,
          41.998241,
          41.996189,
          41.997647
         ],
         "lon": [
          -87.801173,
          -87.801336,
          -87.801413,
          -87.803708,
          -87.804156,
          -87.804143,
          -87.802951,
          -87.802978,
          -87.802725,
          -87.801948
         ],
         "marker": {
          "size": 15
         },
         "mode": "markers",
         "name": "Route Zone E-7.1A",
         "text": [
          "Sequence: 52<br> Stop ID: AK<br>Zone ID: E-7.1A<br>Num Packages: 4.0 <br> Service Time: 62.8",
          "Sequence: 53<br> Stop ID: LQ<br>Zone ID: E-7.1A<br>Num Packages: 1.0 <br> Service Time: 150.0",
          "Sequence: 54<br> Stop ID: VC<br>Zone ID: E-7.1A<br>Num Packages: 1.0 <br> Service Time: 59.0",
          "Sequence: 55<br> Stop ID: AS<br>Zone ID: E-7.1A<br>Num Packages: 1.0 <br> Service Time: 41.0",
          "Sequence: 56<br> Stop ID: IF<br>Zone ID: E-7.1A<br>Num Packages: 2.0 <br> Service Time: 30.5",
          "Sequence: 57<br> Stop ID: DW<br>Zone ID: E-7.1A<br>Num Packages: 1.0 <br> Service Time: 62.0",
          "Sequence: 58<br> Stop ID: VN<br>Zone ID: E-7.1A<br>Num Packages: 1.0 <br> Service Time: 53.0",
          "Sequence: 59<br> Stop ID: IZ<br>Zone ID: E-7.1A<br>Num Packages: 2.0 <br> Service Time: 52.0",
          "Sequence: 60<br> Stop ID: SJ<br>Zone ID: E-7.1A<br>Num Packages: 1.0 <br> Service Time: 60.0",
          "Sequence: 61<br> Stop ID: JT<br>Zone ID: E-7.1A<br>Num Packages: 2.0 <br> Service Time: 61.5"
         ],
         "type": "scattermapbox"
        },
        {
         "hoverinfo": "text",
         "lat": [
          41.99767,
          42.000165,
          41.999487,
          41.997493,
          41.997789
         ],
         "lon": [
          -87.804194,
          -87.805366,
          -87.80489,
          -87.804903,
          -87.80612
         ],
         "marker": {
          "size": 15
         },
         "mode": "markers",
         "name": "Route Zone E-6.1A",
         "text": [
          "Sequence: 62<br> Stop ID: VE<br>Zone ID: E-6.1A<br>Num Packages: 1.0 <br> Service Time: 45.0",
          "Sequence: 63<br> Stop ID: SO<br>Zone ID: E-6.1A<br>Num Packages: 3.0 <br> Service Time: 137.0",
          "Sequence: 64<br> Stop ID: AZ<br>Zone ID: E-6.1A<br>Num Packages: 4.0 <br> Service Time: 41.2",
          "Sequence: 65<br> Stop ID: HD<br>Zone ID: E-6.1A<br>Num Packages: 1.0 <br> Service Time: 64.0",
          "Sequence: 66<br> Stop ID: NT<br>Zone ID: E-6.1A<br>Num Packages: 2.0 <br> Service Time: 83.0"
         ],
         "type": "scattermapbox"
        },
        {
         "hoverinfo": "text",
         "lat": [
          41.997768,
          41.998363,
          41.998772,
          41.999348
         ],
         "lon": [
          -87.808075,
          -87.808835,
          -87.809717,
          -87.81066
         ],
         "marker": {
          "size": 15
         },
         "mode": "markers",
         "name": "Route Zone E-6.2A",
         "text": [
          "Sequence: 67<br> Stop ID: AY<br>Zone ID: E-6.2A<br>Num Packages: 1.0 <br> Service Time: 110.0",
          "Sequence: 68<br> Stop ID: WK<br>Zone ID: E-6.2A<br>Num Packages: 3.0 <br> Service Time: 189.0",
          "Sequence: 69<br> Stop ID: CB<br>Zone ID: E-6.2A<br>Num Packages: 8.0 <br> Service Time: 55.1",
          "Sequence: 70<br> Stop ID: MS<br>Zone ID: E-6.2A<br>Num Packages: 5.0 <br> Service Time: 132.0"
         ],
         "type": "scattermapbox"
        },
        {
         "hoverinfo": "text",
         "lat": [
          42.000722,
          42.000272,
          41.999506,
          42.002343,
          42.00365,
          42.003264,
          42.000915
         ],
         "lon": [
          -87.812836,
          -87.813855,
          -87.811694,
          -87.813477,
          -87.81162,
          -87.812408,
          -87.813199
         ],
         "marker": {
          "size": 15
         },
         "mode": "markers",
         "name": "Route Zone E-6.3A",
         "text": [
          "Sequence: 71<br> Stop ID: OX<br>Zone ID: E-6.3A<br>Num Packages: 1.0 <br> Service Time: 126.0",
          "Sequence: 72<br> Stop ID: VP<br>Zone ID: E-6.3A<br>Num Packages: 2.0 <br> Service Time: 35.0",
          "Sequence: 73<br> Stop ID: YP<br>Zone ID: E-6.3A<br>Num Packages: 6.0 <br> Service Time: 47.0",
          "Sequence: 74<br> Stop ID: EH<br>Zone ID: E-6.3A<br>Num Packages: 1.0 <br> Service Time: 83.0",
          "Sequence: 75<br> Stop ID: SE<br>Zone ID: E-6.3A<br>Num Packages: 4.0 <br> Service Time: 100.2",
          "Sequence: 76<br> Stop ID: SW<br>Zone ID: E-6.3A<br>Num Packages: 4.0 <br> Service Time: 29.0",
          "Sequence: 77<br> Stop ID: GN<br>Zone ID: E-6.3A<br>Num Packages: 3.0 <br> Service Time: 21.0"
         ],
         "type": "scattermapbox"
        },
        {
         "hoverinfo": "text",
         "lat": [
          42.001229,
          42.002125,
          42.002129,
          42.001133,
          42.001364,
          42.000817,
          42.000528,
          42.000715,
          42.000434
         ],
         "lon": [
          -87.81315,
          -87.8121,
          -87.810404,
          -87.810921,
          -87.811297,
          -87.811985,
          -87.812197,
          -87.810225,
          -87.809755
         ],
         "marker": {
          "size": 15
         },
         "mode": "markers",
         "name": "Route Zone E-6.3B",
         "text": [
          "Sequence: 78<br> Stop ID: YO<br>Zone ID: E-6.3B<br>Num Packages: 1.0 <br> Service Time: 49.0",
          "Sequence: 79<br> Stop ID: AX<br>Zone ID: E-6.3B<br>Num Packages: 1.0 <br> Service Time: 95.0",
          "Sequence: 80<br> Stop ID: FD<br>Zone ID: E-6.3B<br>Num Packages: 1.0 <br> Service Time: 82.0",
          "Sequence: 81<br> Stop ID: MF<br>Zone ID: E-6.3B<br>Num Packages: 1.0 <br> Service Time: 61.0",
          "Sequence: 82<br> Stop ID: YW<br>Zone ID: E-6.3B<br>Num Packages: 1.0 <br> Service Time: 111.0",
          "Sequence: 83<br> Stop ID: ZT<br>Zone ID: E-6.3B<br>Num Packages: 3.0 <br> Service Time: 47.70000000000001",
          "Sequence: 84<br> Stop ID: FT<br>Zone ID: E-6.3B<br>Num Packages: 1.0 <br> Service Time: 44.0",
          "Sequence: 85<br> Stop ID: VF<br>Zone ID: E-6.3B<br>Num Packages: 4.0 <br> Service Time: 151.0",
          "Sequence: 86<br> Stop ID: EP<br>Zone ID: E-6.3B<br>Num Packages: 1.0 <br> Service Time: 81.0"
         ],
         "type": "scattermapbox"
        },
        {
         "hoverinfo": "text",
         "lat": [
          41.998993,
          42.000498,
          42.000304,
          42.003052,
          42.001399,
          42.001478,
          42.002147
         ],
         "lon": [
          -87.807404,
          -87.807978,
          -87.806766,
          -87.806736,
          -87.806753,
          -87.807966,
          -87.807963
         ],
         "marker": {
          "size": 15
         },
         "mode": "markers",
         "name": "Route Zone E-6.2B",
         "text": [
          "Sequence: 87<br> Stop ID: ZY<br>Zone ID: E-6.2B<br>Num Packages: 1.0 <br> Service Time: 155.0",
          "Sequence: 88<br> Stop ID: NF<br>Zone ID: E-6.2B<br>Num Packages: 1.0 <br> Service Time: 50.0",
          "Sequence: 89<br> Stop ID: HE<br>Zone ID: E-6.2B<br>Num Packages: 1.0 <br> Service Time: 43.0",
          "Sequence: 90<br> Stop ID: VZ<br>Zone ID: E-6.2B<br>Num Packages: 1.0 <br> Service Time: 216.0",
          "Sequence: 91<br> Stop ID: HX<br>Zone ID: E-6.2B<br>Num Packages: 7.0 <br> Service Time: 73.0",
          "Sequence: 92<br> Stop ID: GT<br>Zone ID: E-6.2B<br>Num Packages: 6.0 <br> Service Time: 69.2",
          "Sequence: 93<br> Stop ID: YF<br>Zone ID: E-6.2B<br>Num Packages: 3.0 <br> Service Time: 64.7"
         ],
         "type": "scattermapbox"
        },
        {
         "hoverinfo": "text",
         "lat": [
          42.003926,
          42.004253,
          42.003884,
          42.002181,
          42.003142
         ],
         "lon": [
          -87.807953,
          -87.809171,
          -87.809173,
          -87.809184,
          -87.809177
         ],
         "marker": {
          "size": 15
         },
         "mode": "markers",
         "name": "Route Zone E-6.1B",
         "text": [
          "Sequence: 94<br> Stop ID: RR<br>Zone ID: E-6.1B<br>Num Packages: 2.0 <br> Service Time: 65.0",
          "Sequence: 95<br> Stop ID: WU<br>Zone ID: E-6.1B<br>Num Packages: 3.0 <br> Service Time: 50.70000000000001",
          "Sequence: 96<br> Stop ID: ZM<br>Zone ID: E-6.1B<br>Num Packages: 3.0 <br> Service Time: 112.0",
          "Sequence: 97<br> Stop ID: RN<br>Zone ID: E-6.1B<br>Num Packages: 1.0 <br> Service Time: 57.0",
          "Sequence: 98<br> Stop ID: TW<br>Zone ID: E-6.1B<br>Num Packages: 1.0 <br> Service Time: 35.0"
         ],
         "type": "scattermapbox"
        },
        {
         "hoverinfo": "text",
         "lat": [
          42.003425,
          42.004096,
          42.005277
         ],
         "lon": [
          -87.81039,
          -87.810383,
          -87.810015
         ],
         "marker": {
          "size": 15
         },
         "mode": "markers",
         "name": "Route Zone E-6.1C",
         "text": [
          "Sequence: 99<br> Stop ID: OJ<br>Zone ID: E-6.1C<br>Num Packages: 4.0 <br> Service Time: 65.5",
          "Sequence: 100<br> Stop ID: FB<br>Zone ID: E-6.1C<br>Num Packages: 1.0 <br> Service Time: 29.0",
          "Sequence: 101<br> Stop ID: OQ<br>Zone ID: E-6.1C<br>Num Packages: 2.0 <br> Service Time: 31.0"
         ],
         "type": "scattermapbox"
        },
        {
         "hoverinfo": "text",
         "lat": [
          42.005326,
          42.006286,
          42.006256,
          42.00622,
          42.007188
         ],
         "lon": [
          -87.808377,
          -87.807795,
          -87.808667,
          -87.809753,
          -87.807211
         ],
         "marker": {
          "size": 15
         },
         "mode": "markers",
         "name": "Route Zone E-6.2C",
         "text": [
          "Sequence: 102<br> Stop ID: BJ<br>Zone ID: E-6.2C<br>Num Packages: 1.0 <br> Service Time: 48.0",
          "Sequence: 103<br> Stop ID: SC<br>Zone ID: E-6.2C<br>Num Packages: 2.0 <br> Service Time: 55.5",
          "Sequence: 104<br> Stop ID: HL<br>Zone ID: E-6.2C<br>Num Packages: 3.0 <br> Service Time: 39.0",
          "Sequence: 105<br> Stop ID: RU<br>Zone ID: E-6.2C<br>Num Packages: 2.0 <br> Service Time: 122.0",
          "Sequence: 106<br> Stop ID: XS<br>Zone ID: E-6.2C<br>Num Packages: 5.0 <br> Service Time: 23.0"
         ],
         "type": "scattermapbox"
        },
        {
         "hoverinfo": "text",
         "lat": [
          42.007122,
          42.007093,
          42.007073,
          42.007232,
          42.008002,
          42.008041,
          42.008096,
          42.01012
         ],
         "lon": [
          -87.808835,
          -87.809642,
          -87.810333,
          -87.810996,
          -87.810104,
          -87.808792,
          -87.807088,
          -87.804512
         ],
         "marker": {
          "size": 15
         },
         "mode": "markers",
         "name": "Route Zone E-6.3C",
         "text": [
          "Sequence: 107<br> Stop ID: MT<br>Zone ID: E-6.3C<br>Num Packages: 2.0 <br> Service Time: 90.5",
          "Sequence: 108<br> Stop ID: AU<br>Zone ID: E-6.3C<br>Num Packages: 2.0 <br> Service Time: 33.5",
          "Sequence: 109<br> Stop ID: KT<br>Zone ID: E-6.3C<br>Num Packages: 1.0 <br> Service Time: 36.0",
          "Sequence: 110<br> Stop ID: QW<br>Zone ID: E-6.3C<br>Num Packages: 1.0 <br> Service Time: 52.0",
          "Sequence: 111<br> Stop ID: HV<br>Zone ID: E-6.3C<br>Num Packages: 3.0 <br> Service Time: 43.70000000000001",
          "Sequence: 112<br> Stop ID: TG<br>Zone ID: E-6.3C<br>Num Packages: 3.0 <br> Service Time: 94.0",
          "Sequence: 113<br> Stop ID: ND<br>Zone ID: E-6.3C<br>Num Packages: 2.0 <br> Service Time: 159.0",
          "Sequence: 114<br> Stop ID: FS<br>Zone ID: E-6.3C<br>Num Packages: 1.0 <br> Service Time: 71.0"
         ],
         "type": "scattermapbox"
        },
        {
         "hoverinfo": "text",
         "lat": [
          42.009807,
          42.010099,
          42.008968,
          42.009158,
          42.008439,
          42.00789,
          42.006678,
          42.005355,
          42.005271
         ],
         "lon": [
          -87.80412,
          -87.803753,
          -87.808176,
          -87.81097,
          -87.813671,
          -87.813953,
          -87.813694,
          -87.812317,
          -87.8137
         ],
         "marker": {
          "size": 15
         },
         "mode": "markers",
         "name": "Route Zone E-6.3D",
         "text": [
          "Sequence: 115<br> Stop ID: NA<br>Zone ID: E-6.3D<br>Num Packages: 2.0 <br> Service Time: 92.0",
          "Sequence: 116<br> Stop ID: YR<br>Zone ID: E-6.3D<br>Num Packages: 1.0 <br> Service Time: 25.0",
          "Sequence: 117<br> Stop ID: IG<br>Zone ID: E-6.3D<br>Num Packages: 2.0 <br> Service Time: 44.0",
          "Sequence: 118<br> Stop ID: WA<br>Zone ID: E-6.3D<br>Num Packages: 1.0 <br> Service Time: 39.0",
          "Sequence: 119<br> Stop ID: LH<br>Zone ID: E-6.3D<br>Num Packages: 2.0 <br> Service Time: 49.0",
          "Sequence: 120<br> Stop ID: JL<br>Zone ID: E-6.3D<br>Num Packages: 1.0 <br> Service Time: 51.0",
          "Sequence: 121<br> Stop ID: WH<br>Zone ID: E-6.3D<br>Num Packages: 1.0 <br> Service Time: 35.0",
          "Sequence: 122<br> Stop ID: KS<br>Zone ID: E-6.3D<br>Num Packages: 2.0 <br> Service Time: 154.0",
          "Sequence: 123<br> Stop ID: YQ<br>Zone ID: E-6.3D<br>Num Packages: 3.0 <br> Service Time: 44.29999999999999"
         ],
         "type": "scattermapbox"
        },
        {
         "hoverinfo": "text",
         "lat": [
          42.004224,
          42.002875,
          42.00332,
          42.002324,
          42.003141,
          42.003996
         ],
         "lon": [
          -87.814218,
          -87.81836,
          -87.819132,
          -87.816642,
          -87.815812,
          -87.813184
         ],
         "marker": {
          "size": 15
         },
         "mode": "markers",
         "name": "Route Zone E-6.2D",
         "text": [
          "Sequence: 124<br> Stop ID: NV<br>Zone ID: E-6.2D<br>Num Packages: 1.0 <br> Service Time: 39.0",
          "Sequence: 125<br> Stop ID: ZQ<br>Zone ID: E-6.2D<br>Num Packages: 1.0 <br> Service Time: 45.0",
          "Sequence: 126<br> Stop ID: JH<br>Zone ID: E-6.2D<br>Num Packages: 4.0 <br> Service Time: 14.5",
          "Sequence: 127<br> Stop ID: WS<br>Zone ID: E-6.2D<br>Num Packages: 1.0 <br> Service Time: 111.0",
          "Sequence: 128<br> Stop ID: WD<br>Zone ID: E-6.2D<br>Num Packages: 3.0 <br> Service Time: 65.3",
          "Sequence: 129<br> Stop ID: NI<br>Zone ID: E-6.2D<br>Num Packages: 3.0 <br> Service Time: 56.0"
         ],
         "type": "scattermapbox"
        },
        {
         "hoverinfo": "text",
         "lat": [
          42.00187,
          42.003788,
          42.004423,
          42.005222,
          42.005805,
          42.005393,
          42.006633,
          42.009571,
          42.031368
         ],
         "lon": [
          -87.816372,
          -87.814852,
          -87.815098,
          -87.815089,
          -87.815083,
          -87.816456,
          -87.817621,
          -87.817584,
          -87.776596
         ],
         "marker": {
          "size": 15
         },
         "mode": "markers",
         "name": "Route Zone E-6.1D",
         "text": [
          "Sequence: 130<br> Stop ID: OK<br>Zone ID: E-6.1D<br>Num Packages: 1.0 <br> Service Time: 64.0",
          "Sequence: 131<br> Stop ID: NM<br>Zone ID: E-6.1D<br>Num Packages: 1.0 <br> Service Time: 63.0",
          "Sequence: 132<br> Stop ID: AM<br>Zone ID: E-6.1D<br>Num Packages: 3.0 <br> Service Time: 15.0",
          "Sequence: 133<br> Stop ID: DS<br>Zone ID: E-6.1D<br>Num Packages: 2.0 <br> Service Time: 63.0",
          "Sequence: 134<br> Stop ID: NZ<br>Zone ID: E-6.1D<br>Num Packages: 1.0 <br> Service Time: 34.0",
          "Sequence: 135<br> Stop ID: XW<br>Zone ID: E-6.1D<br>Num Packages: 1.0 <br> Service Time: 71.0",
          "Sequence: 136<br> Stop ID: AV<br>Zone ID: E-6.1D<br>Num Packages: 1.0 <br> Service Time: 108.0",
          "Sequence: 137<br> Stop ID: WL<br>Zone ID: E-6.1D<br>Num Packages: 3.0 <br> Service Time: 83.3",
          "Sequence: 138<br> Stop ID: HI<br>Zone ID: E-6.1D<br>Num Packages: nan <br> Service Time: nan"
         ],
         "type": "scattermapbox"
        }
       ],
       "layout": {
        "height": 600,
        "mapbox": {
         "center": {
          "lat": 42.003241542946135,
          "lon": -87.80429735769432
         },
         "style": "open-street-map",
         "zoom": 10
        },
        "margin": {
         "b": 10,
         "l": 10,
         "r": 10,
         "t": 10
        },
        "showlegend": true,
        "template": {
         "data": {
          "bar": [
           {
            "error_x": {
             "color": "#2a3f5f"
            },
            "error_y": {
             "color": "#2a3f5f"
            },
            "marker": {
             "line": {
              "color": "#E5ECF6",
              "width": 0.5
             },
             "pattern": {
              "fillmode": "overlay",
              "size": 10,
              "solidity": 0.2
             }
            },
            "type": "bar"
           }
          ],
          "barpolar": [
           {
            "marker": {
             "line": {
              "color": "#E5ECF6",
              "width": 0.5
             },
             "pattern": {
              "fillmode": "overlay",
              "size": 10,
              "solidity": 0.2
             }
            },
            "type": "barpolar"
           }
          ],
          "carpet": [
           {
            "aaxis": {
             "endlinecolor": "#2a3f5f",
             "gridcolor": "white",
             "linecolor": "white",
             "minorgridcolor": "white",
             "startlinecolor": "#2a3f5f"
            },
            "baxis": {
             "endlinecolor": "#2a3f5f",
             "gridcolor": "white",
             "linecolor": "white",
             "minorgridcolor": "white",
             "startlinecolor": "#2a3f5f"
            },
            "type": "carpet"
           }
          ],
          "choropleth": [
           {
            "colorbar": {
             "outlinewidth": 0,
             "ticks": ""
            },
            "type": "choropleth"
           }
          ],
          "contour": [
           {
            "colorbar": {
             "outlinewidth": 0,
             "ticks": ""
            },
            "colorscale": [
             [
              0,
              "#0d0887"
             ],
             [
              0.1111111111111111,
              "#46039f"
             ],
             [
              0.2222222222222222,
              "#7201a8"
             ],
             [
              0.3333333333333333,
              "#9c179e"
             ],
             [
              0.4444444444444444,
              "#bd3786"
             ],
             [
              0.5555555555555556,
              "#d8576b"
             ],
             [
              0.6666666666666666,
              "#ed7953"
             ],
             [
              0.7777777777777778,
              "#fb9f3a"
             ],
             [
              0.8888888888888888,
              "#fdca26"
             ],
             [
              1,
              "#f0f921"
             ]
            ],
            "type": "contour"
           }
          ],
          "contourcarpet": [
           {
            "colorbar": {
             "outlinewidth": 0,
             "ticks": ""
            },
            "type": "contourcarpet"
           }
          ],
          "heatmap": [
           {
            "colorbar": {
             "outlinewidth": 0,
             "ticks": ""
            },
            "colorscale": [
             [
              0,
              "#0d0887"
             ],
             [
              0.1111111111111111,
              "#46039f"
             ],
             [
              0.2222222222222222,
              "#7201a8"
             ],
             [
              0.3333333333333333,
              "#9c179e"
             ],
             [
              0.4444444444444444,
              "#bd3786"
             ],
             [
              0.5555555555555556,
              "#d8576b"
             ],
             [
              0.6666666666666666,
              "#ed7953"
             ],
             [
              0.7777777777777778,
              "#fb9f3a"
             ],
             [
              0.8888888888888888,
              "#fdca26"
             ],
             [
              1,
              "#f0f921"
             ]
            ],
            "type": "heatmap"
           }
          ],
          "heatmapgl": [
           {
            "colorbar": {
             "outlinewidth": 0,
             "ticks": ""
            },
            "colorscale": [
             [
              0,
              "#0d0887"
             ],
             [
              0.1111111111111111,
              "#46039f"
             ],
             [
              0.2222222222222222,
              "#7201a8"
             ],
             [
              0.3333333333333333,
              "#9c179e"
             ],
             [
              0.4444444444444444,
              "#bd3786"
             ],
             [
              0.5555555555555556,
              "#d8576b"
             ],
             [
              0.6666666666666666,
              "#ed7953"
             ],
             [
              0.7777777777777778,
              "#fb9f3a"
             ],
             [
              0.8888888888888888,
              "#fdca26"
             ],
             [
              1,
              "#f0f921"
             ]
            ],
            "type": "heatmapgl"
           }
          ],
          "histogram": [
           {
            "marker": {
             "pattern": {
              "fillmode": "overlay",
              "size": 10,
              "solidity": 0.2
             }
            },
            "type": "histogram"
           }
          ],
          "histogram2d": [
           {
            "colorbar": {
             "outlinewidth": 0,
             "ticks": ""
            },
            "colorscale": [
             [
              0,
              "#0d0887"
             ],
             [
              0.1111111111111111,
              "#46039f"
             ],
             [
              0.2222222222222222,
              "#7201a8"
             ],
             [
              0.3333333333333333,
              "#9c179e"
             ],
             [
              0.4444444444444444,
              "#bd3786"
             ],
             [
              0.5555555555555556,
              "#d8576b"
             ],
             [
              0.6666666666666666,
              "#ed7953"
             ],
             [
              0.7777777777777778,
              "#fb9f3a"
             ],
             [
              0.8888888888888888,
              "#fdca26"
             ],
             [
              1,
              "#f0f921"
             ]
            ],
            "type": "histogram2d"
           }
          ],
          "histogram2dcontour": [
           {
            "colorbar": {
             "outlinewidth": 0,
             "ticks": ""
            },
            "colorscale": [
             [
              0,
              "#0d0887"
             ],
             [
              0.1111111111111111,
              "#46039f"
             ],
             [
              0.2222222222222222,
              "#7201a8"
             ],
             [
              0.3333333333333333,
              "#9c179e"
             ],
             [
              0.4444444444444444,
              "#bd3786"
             ],
             [
              0.5555555555555556,
              "#d8576b"
             ],
             [
              0.6666666666666666,
              "#ed7953"
             ],
             [
              0.7777777777777778,
              "#fb9f3a"
             ],
             [
              0.8888888888888888,
              "#fdca26"
             ],
             [
              1,
              "#f0f921"
             ]
            ],
            "type": "histogram2dcontour"
           }
          ],
          "mesh3d": [
           {
            "colorbar": {
             "outlinewidth": 0,
             "ticks": ""
            },
            "type": "mesh3d"
           }
          ],
          "parcoords": [
           {
            "line": {
             "colorbar": {
              "outlinewidth": 0,
              "ticks": ""
             }
            },
            "type": "parcoords"
           }
          ],
          "pie": [
           {
            "automargin": true,
            "type": "pie"
           }
          ],
          "scatter": [
           {
            "fillpattern": {
             "fillmode": "overlay",
             "size": 10,
             "solidity": 0.2
            },
            "type": "scatter"
           }
          ],
          "scatter3d": [
           {
            "line": {
             "colorbar": {
              "outlinewidth": 0,
              "ticks": ""
             }
            },
            "marker": {
             "colorbar": {
              "outlinewidth": 0,
              "ticks": ""
             }
            },
            "type": "scatter3d"
           }
          ],
          "scattercarpet": [
           {
            "marker": {
             "colorbar": {
              "outlinewidth": 0,
              "ticks": ""
             }
            },
            "type": "scattercarpet"
           }
          ],
          "scattergeo": [
           {
            "marker": {
             "colorbar": {
              "outlinewidth": 0,
              "ticks": ""
             }
            },
            "type": "scattergeo"
           }
          ],
          "scattergl": [
           {
            "marker": {
             "colorbar": {
              "outlinewidth": 0,
              "ticks": ""
             }
            },
            "type": "scattergl"
           }
          ],
          "scattermapbox": [
           {
            "marker": {
             "colorbar": {
              "outlinewidth": 0,
              "ticks": ""
             }
            },
            "type": "scattermapbox"
           }
          ],
          "scatterpolar": [
           {
            "marker": {
             "colorbar": {
              "outlinewidth": 0,
              "ticks": ""
             }
            },
            "type": "scatterpolar"
           }
          ],
          "scatterpolargl": [
           {
            "marker": {
             "colorbar": {
              "outlinewidth": 0,
              "ticks": ""
             }
            },
            "type": "scatterpolargl"
           }
          ],
          "scatterternary": [
           {
            "marker": {
             "colorbar": {
              "outlinewidth": 0,
              "ticks": ""
             }
            },
            "type": "scatterternary"
           }
          ],
          "surface": [
           {
            "colorbar": {
             "outlinewidth": 0,
             "ticks": ""
            },
            "colorscale": [
             [
              0,
              "#0d0887"
             ],
             [
              0.1111111111111111,
              "#46039f"
             ],
             [
              0.2222222222222222,
              "#7201a8"
             ],
             [
              0.3333333333333333,
              "#9c179e"
             ],
             [
              0.4444444444444444,
              "#bd3786"
             ],
             [
              0.5555555555555556,
              "#d8576b"
             ],
             [
              0.6666666666666666,
              "#ed7953"
             ],
             [
              0.7777777777777778,
              "#fb9f3a"
             ],
             [
              0.8888888888888888,
              "#fdca26"
             ],
             [
              1,
              "#f0f921"
             ]
            ],
            "type": "surface"
           }
          ],
          "table": [
           {
            "cells": {
             "fill": {
              "color": "#EBF0F8"
             },
             "line": {
              "color": "white"
             }
            },
            "header": {
             "fill": {
              "color": "#C8D4E3"
             },
             "line": {
              "color": "white"
             }
            },
            "type": "table"
           }
          ]
         },
         "layout": {
          "annotationdefaults": {
           "arrowcolor": "#2a3f5f",
           "arrowhead": 0,
           "arrowwidth": 1
          },
          "autotypenumbers": "strict",
          "coloraxis": {
           "colorbar": {
            "outlinewidth": 0,
            "ticks": ""
           }
          },
          "colorscale": {
           "diverging": [
            [
             0,
             "#8e0152"
            ],
            [
             0.1,
             "#c51b7d"
            ],
            [
             0.2,
             "#de77ae"
            ],
            [
             0.3,
             "#f1b6da"
            ],
            [
             0.4,
             "#fde0ef"
            ],
            [
             0.5,
             "#f7f7f7"
            ],
            [
             0.6,
             "#e6f5d0"
            ],
            [
             0.7,
             "#b8e186"
            ],
            [
             0.8,
             "#7fbc41"
            ],
            [
             0.9,
             "#4d9221"
            ],
            [
             1,
             "#276419"
            ]
           ],
           "sequential": [
            [
             0,
             "#0d0887"
            ],
            [
             0.1111111111111111,
             "#46039f"
            ],
            [
             0.2222222222222222,
             "#7201a8"
            ],
            [
             0.3333333333333333,
             "#9c179e"
            ],
            [
             0.4444444444444444,
             "#bd3786"
            ],
            [
             0.5555555555555556,
             "#d8576b"
            ],
            [
             0.6666666666666666,
             "#ed7953"
            ],
            [
             0.7777777777777778,
             "#fb9f3a"
            ],
            [
             0.8888888888888888,
             "#fdca26"
            ],
            [
             1,
             "#f0f921"
            ]
           ],
           "sequentialminus": [
            [
             0,
             "#0d0887"
            ],
            [
             0.1111111111111111,
             "#46039f"
            ],
            [
             0.2222222222222222,
             "#7201a8"
            ],
            [
             0.3333333333333333,
             "#9c179e"
            ],
            [
             0.4444444444444444,
             "#bd3786"
            ],
            [
             0.5555555555555556,
             "#d8576b"
            ],
            [
             0.6666666666666666,
             "#ed7953"
            ],
            [
             0.7777777777777778,
             "#fb9f3a"
            ],
            [
             0.8888888888888888,
             "#fdca26"
            ],
            [
             1,
             "#f0f921"
            ]
           ]
          },
          "colorway": [
           "#636efa",
           "#EF553B",
           "#00cc96",
           "#ab63fa",
           "#FFA15A",
           "#19d3f3",
           "#FF6692",
           "#B6E880",
           "#FF97FF",
           "#FECB52"
          ],
          "font": {
           "color": "#2a3f5f"
          },
          "geo": {
           "bgcolor": "white",
           "lakecolor": "white",
           "landcolor": "#E5ECF6",
           "showlakes": true,
           "showland": true,
           "subunitcolor": "white"
          },
          "hoverlabel": {
           "align": "left"
          },
          "hovermode": "closest",
          "mapbox": {
           "style": "light"
          },
          "paper_bgcolor": "white",
          "plot_bgcolor": "#E5ECF6",
          "polar": {
           "angularaxis": {
            "gridcolor": "white",
            "linecolor": "white",
            "ticks": ""
           },
           "bgcolor": "#E5ECF6",
           "radialaxis": {
            "gridcolor": "white",
            "linecolor": "white",
            "ticks": ""
           }
          },
          "scene": {
           "xaxis": {
            "backgroundcolor": "#E5ECF6",
            "gridcolor": "white",
            "gridwidth": 2,
            "linecolor": "white",
            "showbackground": true,
            "ticks": "",
            "zerolinecolor": "white"
           },
           "yaxis": {
            "backgroundcolor": "#E5ECF6",
            "gridcolor": "white",
            "gridwidth": 2,
            "linecolor": "white",
            "showbackground": true,
            "ticks": "",
            "zerolinecolor": "white"
           },
           "zaxis": {
            "backgroundcolor": "#E5ECF6",
            "gridcolor": "white",
            "gridwidth": 2,
            "linecolor": "white",
            "showbackground": true,
            "ticks": "",
            "zerolinecolor": "white"
           }
          },
          "shapedefaults": {
           "line": {
            "color": "#2a3f5f"
           }
          },
          "ternary": {
           "aaxis": {
            "gridcolor": "white",
            "linecolor": "white",
            "ticks": ""
           },
           "baxis": {
            "gridcolor": "white",
            "linecolor": "white",
            "ticks": ""
           },
           "bgcolor": "#E5ECF6",
           "caxis": {
            "gridcolor": "white",
            "linecolor": "white",
            "ticks": ""
           }
          },
          "title": {
           "x": 0.05
          },
          "xaxis": {
           "automargin": true,
           "gridcolor": "white",
           "linecolor": "white",
           "ticks": "",
           "title": {
            "standoff": 15
           },
           "zerolinecolor": "white",
           "zerolinewidth": 2
          },
          "yaxis": {
           "automargin": true,
           "gridcolor": "white",
           "linecolor": "white",
           "ticks": "",
           "title": {
            "standoff": 15
           },
           "zerolinecolor": "white",
           "zerolinewidth": 2
          }
         }
        }
       }
      }
     },
     "metadata": {},
     "output_type": "display_data"
    }
   ],
   "source": [
    "# Create a figure\n",
    "fig = go.Figure()\n",
    "\n",
    "# Add the drone path\n",
    "fig.add_trace(go.Scattermapbox(\n",
    "    lat=drone_data_ordered['lat'],\n",
    "    lon=drone_data_ordered['lng'],\n",
    "    mode='lines',\n",
    "    line=dict(width=2, color='red'),\n",
    "    hoverinfo='none',\n",
    "    name='Drone Path'\n",
    "))\n",
    "\n",
    "# Add scatter points for each unique zone_id in the drone data\n",
    "for zone_id in drone_data_ordered['zone_id'].unique():\n",
    "    df_sub = drone_data_ordered[drone_data_ordered['zone_id'] == zone_id]\n",
    "    hover_text = df_sub.apply(lambda row: f\"Sequence: {row.name}<br> Stop ID: {row['stop_id']}<br>Zone ID: {row['zone_id']}<br>Num Packages: {row['num_packages']} <br> Service Time: {row['service_time_seconds']}\", axis=1)\n",
    "    fig.add_trace(go.Scattermapbox(\n",
    "        lat=df_sub['lat'],\n",
    "        lon=df_sub['lng'],\n",
    "        mode='markers',\n",
    "        marker=go.scattermapbox.Marker(size=15),\n",
    "        name=f\"Drone Zone {zone_id}\",\n",
    "        text=hover_text,\n",
    "        hoverinfo='text'\n",
    "    ))\n",
    "\n",
    "\n",
    "# Add the route path\n",
    "fig.add_trace(go.Scattermapbox(\n",
    "    lat=route_data_ordered['lat'],\n",
    "    lon=route_data_ordered['lng'],\n",
    "    mode='lines',\n",
    "    line=dict(width=2, color='blue'),\n",
    "    hoverinfo='none',\n",
    "    name='Route Path'\n",
    "))\n",
    "\n",
    "# Add scatter points for each unique zone_id in the route data\n",
    "for zone_id in route_data_ordered['zone_id'].unique():\n",
    "    df_sub = route_data_ordered[route_data_ordered['zone_id'] == zone_id]\n",
    "    hover_text = df_sub.apply(lambda row: f\"Sequence: {row.name}<br> Stop ID: {row['stop_id']}<br>Zone ID: {row['zone_id']}<br>Num Packages: {row['num_packages']} <br> Service Time: {row['service_time_seconds']}\", axis=1)\n",
    "    fig.add_trace(go.Scattermapbox(\n",
    "        lat=df_sub['lat'],\n",
    "        lon=df_sub['lng'],\n",
    "        mode='markers',\n",
    "        marker=go.scattermapbox.Marker(size=15),\n",
    "        name=f\"Route Zone {zone_id}\",\n",
    "        text=hover_text,\n",
    "        hoverinfo='text'\n",
    "    ))\n",
    "\n",
    "\n",
    "\n",
    "# Update the layout to use OpenStreetMap style and adjust other layout properties\n",
    "fig.update_layout(\n",
    "    height=600,\n",
    "    mapbox=dict(\n",
    "        style=\"open-street-map\",\n",
    "        zoom=10,\n",
    "        center=dict(\n",
    "            lat=(route_data_ordered['lat'].mean() + drone_data_ordered['lat'].mean()) / 2,\n",
    "            lon=(route_data_ordered['lng'].mean() + drone_data_ordered['lng'].mean()) / 2\n",
    "        )\n",
    "    ),\n",
    "    showlegend=True\n",
    ")\n",
    "\n",
    "fig.update_layout(margin=dict(l=10, r=10, t=10, b=10))\n",
    "\n",
    "# Show the figure\n",
    "fig.show()"
   ]
  },
  {
   "cell_type": "code",
   "execution_count": 27,
   "metadata": {},
   "outputs": [],
   "source": [
    "proposed_sequences = json.load(open('proposed_sequences.json'))\n",
    "proposed_route_ids = list(proposed_sequences.keys())\n",
    "\n",
    "for route_id in proposed_route_ids:\n",
    "    package_data_route_df, route_data_route_df, vehicle_travel_times_route = get_data_for_route(route_id)\n",
    "    route_data_route_df['zone_id'].ffill(inplace=True)\n",
    "    drone_travel_times_route = calculate_drone_travel_time(route_data_route_df)\n",
    "    package_data_route_df['drone_possible'] = (package_data_route_df['depth_cm'] < DRONE_DEPTH) & (package_data_route_df['height_cm'] < DRONE_HEIGHT) & (package_data_route_df['width_cm'] < DRONE_WIDTH)\n",
    "    \n",
    "    package_info_agg = package_data_route_df.groupby('stop_id').apply(\n",
    "    lambda x: pd.Series({\n",
    "        'packages': x[['package_id', 'depth_cm', 'height_cm', 'width_cm']].to_dict('records'),\n",
    "        'num_packages': len(x),\n",
    "        'drone_possible': (len(x) == 1) and (x['drone_possible'].iloc[0] == True),\n",
    "        'service_time_seconds': x['planned_service_time_seconds'].mean() # Not sure if this should be sum or average. https://github.com/MIT-CAVE/rc-cli/blob/main/templates/data_structures.md\n",
    "    })\n",
    "    ).reset_index()\n",
    "    \n",
    "    route_data_route_df = pd.merge(route_data_route_df, package_info_agg, how='left', on='stop_id')\n",
    "    \n",
    "    proposed_sequence = sequence_to_stops_for_route(route_id)\n",
    "    \n",
    "    solver = VRPDSolver(route_id, proposed_sequence, package_data_route_df, route_data_route_df, vehicle_travel_times_route, drone_travel_times_route)\n",
    "    drone_usage = solver.find_drone_uses()\n",
    "    time_saved = solver.drone_save_time(drone_usage)\n",
    "    best_drone_usage = solver.maximize_saved_time(time_saved)\n",
    "    solver.generate_vehicle_drone_path(best_drone_usage)\n",
    "    solver.save_vehicle_path('optimized_vehicle_paths')\n",
    "    solver.save_drone_path('optimized_drone_paths')\n",
    "    solver.save_vehicle_events('optimized_vehicle_events')\n",
    "    solver.save_drone_events('optimized_drone_events')\n",
    "    "
   ]
  },
  {
   "cell_type": "code",
   "execution_count": null,
   "metadata": {},
   "outputs": [],
   "source": []
  }
 ],
 "metadata": {
  "kernelspec": {
   "display_name": "random",
   "language": "python",
   "name": "python3"
  },
  "language_info": {
   "codemirror_mode": {
    "name": "ipython",
    "version": 3
   },
   "file_extension": ".py",
   "mimetype": "text/x-python",
   "name": "python",
   "nbconvert_exporter": "python",
   "pygments_lexer": "ipython3",
   "version": "3.9.18"
  }
 },
 "nbformat": 4,
 "nbformat_minor": 2
}
