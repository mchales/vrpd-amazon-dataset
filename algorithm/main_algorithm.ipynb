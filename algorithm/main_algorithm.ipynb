{
 "cells": [
  {
   "cell_type": "code",
   "execution_count": 2,
   "metadata": {},
   "outputs": [],
   "source": [
    "import pandas as pd\n",
    "import json\n",
    "from geopy.distance import geodesic\n",
    "import plotly.express as px\n",
    "import plotly.graph_objects as go"
   ]
  },
  {
   "cell_type": "code",
   "execution_count": 3,
   "metadata": {},
   "outputs": [],
   "source": [
    "BASE_PATH = '../almrrc2021/almrrc2021-data-training/model_build_inputs/'"
   ]
  },
  {
   "cell_type": "code",
   "execution_count": 30,
   "metadata": {},
   "outputs": [],
   "source": [
    "# DRONE CONSTANTS\n",
    "DRONE_MAX_SPEED = 7  # m/s\n",
    "DRONE_DEPTH = 30 # cm\n",
    "DRONE_HEIGHT = 25 # cm\n",
    "DRONE_WIDTH = 30 # cm\n",
    "DRONE_LOADING = 15 # seconds\n",
    "DRONE_LAUNCH = 5 # seconds\n",
    "DRONE_LAND = 5 # seconds"
   ]
  },
  {
   "cell_type": "code",
   "execution_count": 5,
   "metadata": {},
   "outputs": [
    {
     "data": {
      "text/html": [
       "<div>\n",
       "<style scoped>\n",
       "    .dataframe tbody tr th:only-of-type {\n",
       "        vertical-align: middle;\n",
       "    }\n",
       "\n",
       "    .dataframe tbody tr th {\n",
       "        vertical-align: top;\n",
       "    }\n",
       "\n",
       "    .dataframe thead th {\n",
       "        text-align: right;\n",
       "    }\n",
       "</style>\n",
       "<table border=\"1\" class=\"dataframe\">\n",
       "  <thead>\n",
       "    <tr style=\"text-align: right;\">\n",
       "      <th></th>\n",
       "      <th>route_id</th>\n",
       "      <th>stop_id</th>\n",
       "      <th>package_id</th>\n",
       "      <th>scan_status</th>\n",
       "      <th>start_time_utc</th>\n",
       "      <th>end_time_utc</th>\n",
       "      <th>planned_service_time_seconds</th>\n",
       "      <th>depth_cm</th>\n",
       "      <th>height_cm</th>\n",
       "      <th>width_cm</th>\n",
       "    </tr>\n",
       "  </thead>\n",
       "  <tbody>\n",
       "    <tr>\n",
       "      <th>0</th>\n",
       "      <td>RouteID_00143bdd-0a6b-49ec-bb35-36593d303e77</td>\n",
       "      <td>AD</td>\n",
       "      <td>PackageID_9d7fdd03-f2cf-4c6f-9128-028258fc09ea</td>\n",
       "      <td>DELIVERED</td>\n",
       "      <td>NaN</td>\n",
       "      <td>NaN</td>\n",
       "      <td>59.3</td>\n",
       "      <td>25.4</td>\n",
       "      <td>7.6</td>\n",
       "      <td>17.8</td>\n",
       "    </tr>\n",
       "    <tr>\n",
       "      <th>1</th>\n",
       "      <td>RouteID_00143bdd-0a6b-49ec-bb35-36593d303e77</td>\n",
       "      <td>AD</td>\n",
       "      <td>PackageID_5541e679-b7bd-4992-b288-e862f6c84ae7</td>\n",
       "      <td>DELIVERED</td>\n",
       "      <td>2018-07-27 16:00:00</td>\n",
       "      <td>2018-07-28 00:00:00</td>\n",
       "      <td>59.3</td>\n",
       "      <td>25.4</td>\n",
       "      <td>12.7</td>\n",
       "      <td>17.8</td>\n",
       "    </tr>\n",
       "    <tr>\n",
       "      <th>2</th>\n",
       "      <td>RouteID_00143bdd-0a6b-49ec-bb35-36593d303e77</td>\n",
       "      <td>AD</td>\n",
       "      <td>PackageID_84d0295b-1adb-4a33-a65e-f7d6247c7a07</td>\n",
       "      <td>DELIVERED</td>\n",
       "      <td>NaN</td>\n",
       "      <td>NaN</td>\n",
       "      <td>59.3</td>\n",
       "      <td>39.4</td>\n",
       "      <td>7.6</td>\n",
       "      <td>31.8</td>\n",
       "    </tr>\n",
       "    <tr>\n",
       "      <th>3</th>\n",
       "      <td>RouteID_00143bdd-0a6b-49ec-bb35-36593d303e77</td>\n",
       "      <td>AF</td>\n",
       "      <td>PackageID_15c6a204-ec5f-4ced-9c3d-472316cc7759</td>\n",
       "      <td>DELIVERED</td>\n",
       "      <td>2018-07-27 16:00:00</td>\n",
       "      <td>2018-07-28 00:00:00</td>\n",
       "      <td>27.0</td>\n",
       "      <td>30.0</td>\n",
       "      <td>3.0</td>\n",
       "      <td>27.4</td>\n",
       "    </tr>\n",
       "    <tr>\n",
       "      <th>4</th>\n",
       "      <td>RouteID_00143bdd-0a6b-49ec-bb35-36593d303e77</td>\n",
       "      <td>AG</td>\n",
       "      <td>PackageID_3b28f781-242e-416e-9575-84c7188b8208</td>\n",
       "      <td>DELIVERED</td>\n",
       "      <td>NaN</td>\n",
       "      <td>NaN</td>\n",
       "      <td>45.0</td>\n",
       "      <td>25.4</td>\n",
       "      <td>12.7</td>\n",
       "      <td>17.8</td>\n",
       "    </tr>\n",
       "  </tbody>\n",
       "</table>\n",
       "</div>"
      ],
      "text/plain": [
       "                                       route_id stop_id  \\\n",
       "0  RouteID_00143bdd-0a6b-49ec-bb35-36593d303e77      AD   \n",
       "1  RouteID_00143bdd-0a6b-49ec-bb35-36593d303e77      AD   \n",
       "2  RouteID_00143bdd-0a6b-49ec-bb35-36593d303e77      AD   \n",
       "3  RouteID_00143bdd-0a6b-49ec-bb35-36593d303e77      AF   \n",
       "4  RouteID_00143bdd-0a6b-49ec-bb35-36593d303e77      AG   \n",
       "\n",
       "                                       package_id scan_status  \\\n",
       "0  PackageID_9d7fdd03-f2cf-4c6f-9128-028258fc09ea   DELIVERED   \n",
       "1  PackageID_5541e679-b7bd-4992-b288-e862f6c84ae7   DELIVERED   \n",
       "2  PackageID_84d0295b-1adb-4a33-a65e-f7d6247c7a07   DELIVERED   \n",
       "3  PackageID_15c6a204-ec5f-4ced-9c3d-472316cc7759   DELIVERED   \n",
       "4  PackageID_3b28f781-242e-416e-9575-84c7188b8208   DELIVERED   \n",
       "\n",
       "        start_time_utc         end_time_utc  planned_service_time_seconds  \\\n",
       "0                  NaN                  NaN                          59.3   \n",
       "1  2018-07-27 16:00:00  2018-07-28 00:00:00                          59.3   \n",
       "2                  NaN                  NaN                          59.3   \n",
       "3  2018-07-27 16:00:00  2018-07-28 00:00:00                          27.0   \n",
       "4                  NaN                  NaN                          45.0   \n",
       "\n",
       "   depth_cm  height_cm  width_cm  \n",
       "0      25.4        7.6      17.8  \n",
       "1      25.4       12.7      17.8  \n",
       "2      39.4        7.6      31.8  \n",
       "3      30.0        3.0      27.4  \n",
       "4      25.4       12.7      17.8  "
      ]
     },
     "execution_count": 5,
     "metadata": {},
     "output_type": "execute_result"
    }
   ],
   "source": [
    "# Loading all the package data\n",
    "\n",
    "package_data = json.load(open(BASE_PATH + 'package_data.json'))\n",
    "\n",
    "flattened_package_data = []\n",
    "for route_id, stops in package_data.items():\n",
    "    for stop_id, packages in stops.items():\n",
    "        for package_id, details in packages.items():\n",
    "            record = {\n",
    "                \"route_id\": route_id,\n",
    "                \"stop_id\": stop_id,\n",
    "                \"package_id\": package_id,\n",
    "                \"scan_status\": details[\"scan_status\"] if \"scan_status\" in details else None, # note model_apply_inputs does not have scan_status, model_build_inputs does\n",
    "                \"start_time_utc\": details[\"time_window\"][\"start_time_utc\"],\n",
    "                \"end_time_utc\": details[\"time_window\"][\"end_time_utc\"],\n",
    "                \"planned_service_time_seconds\": details[\"planned_service_time_seconds\"],\n",
    "                \"depth_cm\": details[\"dimensions\"][\"depth_cm\"],\n",
    "                \"height_cm\": details[\"dimensions\"][\"height_cm\"],\n",
    "                \"width_cm\": details[\"dimensions\"][\"width_cm\"],\n",
    "            }\n",
    "            flattened_package_data.append(record)\n",
    "\n",
    "package_data_df = pd.DataFrame(flattened_package_data)\n",
    "\n",
    "package_data_df.head()"
   ]
  },
  {
   "cell_type": "code",
   "execution_count": 6,
   "metadata": {},
   "outputs": [
    {
     "data": {
      "text/html": [
       "<div>\n",
       "<style scoped>\n",
       "    .dataframe tbody tr th:only-of-type {\n",
       "        vertical-align: middle;\n",
       "    }\n",
       "\n",
       "    .dataframe tbody tr th {\n",
       "        vertical-align: top;\n",
       "    }\n",
       "\n",
       "    .dataframe thead th {\n",
       "        text-align: right;\n",
       "    }\n",
       "</style>\n",
       "<table border=\"1\" class=\"dataframe\">\n",
       "  <thead>\n",
       "    <tr style=\"text-align: right;\">\n",
       "      <th></th>\n",
       "      <th>route_id</th>\n",
       "      <th>station_code</th>\n",
       "      <th>date</th>\n",
       "      <th>departure_time_utc</th>\n",
       "      <th>executor_capacity_cm3</th>\n",
       "      <th>route_score</th>\n",
       "      <th>stop_id</th>\n",
       "      <th>lat</th>\n",
       "      <th>lng</th>\n",
       "      <th>type</th>\n",
       "      <th>zone_id</th>\n",
       "    </tr>\n",
       "  </thead>\n",
       "  <tbody>\n",
       "    <tr>\n",
       "      <th>0</th>\n",
       "      <td>RouteID_00143bdd-0a6b-49ec-bb35-36593d303e77</td>\n",
       "      <td>DLA3</td>\n",
       "      <td>2018-07-27</td>\n",
       "      <td>16:02:10</td>\n",
       "      <td>3313071.0</td>\n",
       "      <td>High</td>\n",
       "      <td>AD</td>\n",
       "      <td>34.099611</td>\n",
       "      <td>-118.283062</td>\n",
       "      <td>Dropoff</td>\n",
       "      <td>P-12.3C</td>\n",
       "    </tr>\n",
       "    <tr>\n",
       "      <th>1</th>\n",
       "      <td>RouteID_00143bdd-0a6b-49ec-bb35-36593d303e77</td>\n",
       "      <td>DLA3</td>\n",
       "      <td>2018-07-27</td>\n",
       "      <td>16:02:10</td>\n",
       "      <td>3313071.0</td>\n",
       "      <td>High</td>\n",
       "      <td>AF</td>\n",
       "      <td>34.101587</td>\n",
       "      <td>-118.291125</td>\n",
       "      <td>Dropoff</td>\n",
       "      <td>A-1.2D</td>\n",
       "    </tr>\n",
       "    <tr>\n",
       "      <th>2</th>\n",
       "      <td>RouteID_00143bdd-0a6b-49ec-bb35-36593d303e77</td>\n",
       "      <td>DLA3</td>\n",
       "      <td>2018-07-27</td>\n",
       "      <td>16:02:10</td>\n",
       "      <td>3313071.0</td>\n",
       "      <td>High</td>\n",
       "      <td>AG</td>\n",
       "      <td>34.089727</td>\n",
       "      <td>-118.285530</td>\n",
       "      <td>Dropoff</td>\n",
       "      <td>A-2.1A</td>\n",
       "    </tr>\n",
       "    <tr>\n",
       "      <th>3</th>\n",
       "      <td>RouteID_00143bdd-0a6b-49ec-bb35-36593d303e77</td>\n",
       "      <td>DLA3</td>\n",
       "      <td>2018-07-27</td>\n",
       "      <td>16:02:10</td>\n",
       "      <td>3313071.0</td>\n",
       "      <td>High</td>\n",
       "      <td>BA</td>\n",
       "      <td>34.096132</td>\n",
       "      <td>-118.292869</td>\n",
       "      <td>Dropoff</td>\n",
       "      <td>A-1.2C</td>\n",
       "    </tr>\n",
       "    <tr>\n",
       "      <th>4</th>\n",
       "      <td>RouteID_00143bdd-0a6b-49ec-bb35-36593d303e77</td>\n",
       "      <td>DLA3</td>\n",
       "      <td>2018-07-27</td>\n",
       "      <td>16:02:10</td>\n",
       "      <td>3313071.0</td>\n",
       "      <td>High</td>\n",
       "      <td>BE</td>\n",
       "      <td>34.098482</td>\n",
       "      <td>-118.286243</td>\n",
       "      <td>Dropoff</td>\n",
       "      <td>P-13.3B</td>\n",
       "    </tr>\n",
       "  </tbody>\n",
       "</table>\n",
       "</div>"
      ],
      "text/plain": [
       "                                       route_id station_code        date  \\\n",
       "0  RouteID_00143bdd-0a6b-49ec-bb35-36593d303e77         DLA3  2018-07-27   \n",
       "1  RouteID_00143bdd-0a6b-49ec-bb35-36593d303e77         DLA3  2018-07-27   \n",
       "2  RouteID_00143bdd-0a6b-49ec-bb35-36593d303e77         DLA3  2018-07-27   \n",
       "3  RouteID_00143bdd-0a6b-49ec-bb35-36593d303e77         DLA3  2018-07-27   \n",
       "4  RouteID_00143bdd-0a6b-49ec-bb35-36593d303e77         DLA3  2018-07-27   \n",
       "\n",
       "  departure_time_utc  executor_capacity_cm3 route_score stop_id        lat  \\\n",
       "0           16:02:10              3313071.0        High      AD  34.099611   \n",
       "1           16:02:10              3313071.0        High      AF  34.101587   \n",
       "2           16:02:10              3313071.0        High      AG  34.089727   \n",
       "3           16:02:10              3313071.0        High      BA  34.096132   \n",
       "4           16:02:10              3313071.0        High      BE  34.098482   \n",
       "\n",
       "          lng     type  zone_id  \n",
       "0 -118.283062  Dropoff  P-12.3C  \n",
       "1 -118.291125  Dropoff   A-1.2D  \n",
       "2 -118.285530  Dropoff   A-2.1A  \n",
       "3 -118.292869  Dropoff   A-1.2C  \n",
       "4 -118.286243  Dropoff  P-13.3B  "
      ]
     },
     "execution_count": 6,
     "metadata": {},
     "output_type": "execute_result"
    }
   ],
   "source": [
    "# Loading all the route data\n",
    "\n",
    "route_data = json.load(open(BASE_PATH + 'route_data.json'))\n",
    "\n",
    "flattened_route_data = []\n",
    "\n",
    "for route_id, info in route_data.items():\n",
    "    for stop_id, stop_details in info['stops'].items():\n",
    "        flattened_route_data.append({\n",
    "            \"route_id\": route_id,\n",
    "            \"station_code\": info['station_code'],\n",
    "            \"date\": info['date_YYYY_MM_DD'],\n",
    "            \"departure_time_utc\": info['departure_time_utc'],\n",
    "            \"executor_capacity_cm3\": info['executor_capacity_cm3'],\n",
    "            \"route_score\": info['route_score'],\n",
    "            \"stop_id\": stop_id,\n",
    "            \"lat\": stop_details['lat'],\n",
    "            \"lng\": stop_details['lng'],\n",
    "            \"type\": stop_details['type'],\n",
    "            \"zone_id\": stop_details['zone_id']\n",
    "        })\n",
    "\n",
    "route_data_df = pd.DataFrame(flattened_route_data)\n",
    "\n",
    "route_data_df.head()"
   ]
  },
  {
   "cell_type": "code",
   "execution_count": 7,
   "metadata": {},
   "outputs": [],
   "source": [
    "vehicle_travel_times = json.load(open(BASE_PATH + 'travel_times.json'))"
   ]
  },
  {
   "cell_type": "code",
   "execution_count": 8,
   "metadata": {},
   "outputs": [],
   "source": [
    "def get_data_for_route(route_id):\n",
    "    package_data = package_data_df[package_data_df['route_id'] == route_id]\n",
    "    route_data = route_data_df[route_data_df['route_id'] == route_id]\n",
    "    travel_times_route = vehicle_travel_times[route_id]\n",
    "\n",
    "    return package_data.copy(), route_data.copy(), travel_times_route.copy()"
   ]
  },
  {
   "cell_type": "code",
   "execution_count": 9,
   "metadata": {},
   "outputs": [],
   "source": [
    "# Given route data, it will return a dictionary\n",
    "def calculate_drone_travel_time(route_data):\n",
    "  drone_travel_time = {}\n",
    "\n",
    "  for _, base_row in route_data.iterrows():\n",
    "    drone_travel_time[base_row['stop_id']] = {}\n",
    "\n",
    "    # calculate travel time to every other stop in the route\n",
    "    for _, other_row in route_data.iterrows():\n",
    "      if base_row['stop_id'] != other_row['stop_id']:\n",
    "        base_location = (base_row['lat'], base_row['lng'])\n",
    "        other_location = (other_row['lat'], other_row['lng'])\n",
    "\n",
    "        distance = geodesic(base_location, other_location).meters\n",
    "\n",
    "        drone_travel_time[base_row['stop_id']][other_row['stop_id']] = distance / DRONE_MAX_SPEED\n",
    "        # drone_travel_time[base_row['stop_id']][other_row['stop_id']] += 10 # 5 second rise, 5 second drop\n",
    "\n",
    "      else:\n",
    "        drone_travel_time[base_row['stop_id']][other_row['stop_id']] = 0\n",
    "\n",
    "  return drone_travel_time"
   ]
  },
  {
   "cell_type": "code",
   "execution_count": 10,
   "metadata": {},
   "outputs": [],
   "source": [
    "# Instead of getting a random route we will get a route for which we have the proposed sequence\n",
    "\n",
    "with open('proposed_sequences.json') as file:\n",
    "    proposed_sequences_json = json.load(file)\n",
    "\n",
    "proposed_route_ids = list(proposed_sequences_json.keys())"
   ]
  },
  {
   "cell_type": "code",
   "execution_count": 11,
   "metadata": {},
   "outputs": [],
   "source": [
    "route_id = proposed_route_ids[0]\n",
    "package_data_route_df, route_data_route_df, vehicle_travel_times_route = get_data_for_route(route_id)\n",
    "drone_travel_times_route = calculate_drone_travel_time(route_data_route_df)"
   ]
  },
  {
   "cell_type": "code",
   "execution_count": 15,
   "metadata": {},
   "outputs": [],
   "source": [
    "# Determining if each package can be delivered by a drone\n",
    "package_data_route_df['drone_possible'] = (package_data_route_df['depth_cm'] < DRONE_DEPTH) & (package_data_route_df['height_cm'] < DRONE_HEIGHT) & (package_data_route_df['width_cm'] < DRONE_WIDTH) # TODO: be indifferent on depth and width"
   ]
  },
  {
   "cell_type": "code",
   "execution_count": 16,
   "metadata": {},
   "outputs": [],
   "source": [
    "package_info_agg = package_data_route_df.groupby('stop_id').apply(\n",
    "    lambda x: pd.Series({\n",
    "        'packages': x[['package_id', 'depth_cm', 'height_cm', 'width_cm']].to_dict('records'),\n",
    "        'num_packages': len(x),\n",
    "        'drone_possible': (len(x) == 1) and (x['drone_possible'].iloc[0] == True),\n",
    "        'service_time_seconds': x['planned_service_time_seconds'].mean() # Not sure if this should be sum or average. https://github.com/MIT-CAVE/rc-cli/blob/main/templates/data_structures.md\n",
    "    })\n",
    ").reset_index()"
   ]
  },
  {
   "cell_type": "code",
   "execution_count": 17,
   "metadata": {},
   "outputs": [
    {
     "data": {
      "text/html": [
       "<div>\n",
       "<style scoped>\n",
       "    .dataframe tbody tr th:only-of-type {\n",
       "        vertical-align: middle;\n",
       "    }\n",
       "\n",
       "    .dataframe tbody tr th {\n",
       "        vertical-align: top;\n",
       "    }\n",
       "\n",
       "    .dataframe thead th {\n",
       "        text-align: right;\n",
       "    }\n",
       "</style>\n",
       "<table border=\"1\" class=\"dataframe\">\n",
       "  <thead>\n",
       "    <tr style=\"text-align: right;\">\n",
       "      <th></th>\n",
       "      <th>route_id</th>\n",
       "      <th>station_code</th>\n",
       "      <th>date</th>\n",
       "      <th>departure_time_utc</th>\n",
       "      <th>executor_capacity_cm3</th>\n",
       "      <th>route_score</th>\n",
       "      <th>stop_id</th>\n",
       "      <th>lat</th>\n",
       "      <th>lng</th>\n",
       "      <th>type</th>\n",
       "      <th>zone_id</th>\n",
       "      <th>packages</th>\n",
       "      <th>num_packages</th>\n",
       "      <th>drone_possible</th>\n",
       "      <th>service_time_seconds</th>\n",
       "    </tr>\n",
       "  </thead>\n",
       "  <tbody>\n",
       "    <tr>\n",
       "      <th>0</th>\n",
       "      <td>RouteID_15baae2d-bf07-4967-956a-173d4036613f</td>\n",
       "      <td>DCH4</td>\n",
       "      <td>2018-08-11</td>\n",
       "      <td>15:12:44</td>\n",
       "      <td>4247527.0</td>\n",
       "      <td>Low</td>\n",
       "      <td>AH</td>\n",
       "      <td>42.129085</td>\n",
       "      <td>-88.027485</td>\n",
       "      <td>Dropoff</td>\n",
       "      <td>D-8.3E</td>\n",
       "      <td>[{'package_id': 'PackageID_07017709-2ddd-4c6a-...</td>\n",
       "      <td>1.0</td>\n",
       "      <td>False</td>\n",
       "      <td>78.0</td>\n",
       "    </tr>\n",
       "    <tr>\n",
       "      <th>1</th>\n",
       "      <td>RouteID_15baae2d-bf07-4967-956a-173d4036613f</td>\n",
       "      <td>DCH4</td>\n",
       "      <td>2018-08-11</td>\n",
       "      <td>15:12:44</td>\n",
       "      <td>4247527.0</td>\n",
       "      <td>Low</td>\n",
       "      <td>AK</td>\n",
       "      <td>42.133454</td>\n",
       "      <td>-88.043144</td>\n",
       "      <td>Dropoff</td>\n",
       "      <td>D-8.2H</td>\n",
       "      <td>[{'package_id': 'PackageID_30d78e0b-3dfd-4123-...</td>\n",
       "      <td>1.0</td>\n",
       "      <td>True</td>\n",
       "      <td>157.0</td>\n",
       "    </tr>\n",
       "    <tr>\n",
       "      <th>2</th>\n",
       "      <td>RouteID_15baae2d-bf07-4967-956a-173d4036613f</td>\n",
       "      <td>DCH4</td>\n",
       "      <td>2018-08-11</td>\n",
       "      <td>15:12:44</td>\n",
       "      <td>4247527.0</td>\n",
       "      <td>Low</td>\n",
       "      <td>AN</td>\n",
       "      <td>42.129422</td>\n",
       "      <td>-88.037895</td>\n",
       "      <td>Dropoff</td>\n",
       "      <td>D-8.2H</td>\n",
       "      <td>[{'package_id': 'PackageID_31472e01-c4ac-4281-...</td>\n",
       "      <td>1.0</td>\n",
       "      <td>True</td>\n",
       "      <td>60.0</td>\n",
       "    </tr>\n",
       "    <tr>\n",
       "      <th>3</th>\n",
       "      <td>RouteID_15baae2d-bf07-4967-956a-173d4036613f</td>\n",
       "      <td>DCH4</td>\n",
       "      <td>2018-08-11</td>\n",
       "      <td>15:12:44</td>\n",
       "      <td>4247527.0</td>\n",
       "      <td>Low</td>\n",
       "      <td>AU</td>\n",
       "      <td>42.107882</td>\n",
       "      <td>-88.035445</td>\n",
       "      <td>Dropoff</td>\n",
       "      <td>D-8.1C</td>\n",
       "      <td>[{'package_id': 'PackageID_180d6ed8-e08c-4a2a-...</td>\n",
       "      <td>1.0</td>\n",
       "      <td>False</td>\n",
       "      <td>33.0</td>\n",
       "    </tr>\n",
       "    <tr>\n",
       "      <th>4</th>\n",
       "      <td>RouteID_15baae2d-bf07-4967-956a-173d4036613f</td>\n",
       "      <td>DCH4</td>\n",
       "      <td>2018-08-11</td>\n",
       "      <td>15:12:44</td>\n",
       "      <td>4247527.0</td>\n",
       "      <td>Low</td>\n",
       "      <td>AV</td>\n",
       "      <td>42.138752</td>\n",
       "      <td>-88.041745</td>\n",
       "      <td>Dropoff</td>\n",
       "      <td>D-7.1J</td>\n",
       "      <td>[{'package_id': 'PackageID_9b96689a-99ef-4fc3-...</td>\n",
       "      <td>2.0</td>\n",
       "      <td>False</td>\n",
       "      <td>47.0</td>\n",
       "    </tr>\n",
       "  </tbody>\n",
       "</table>\n",
       "</div>"
      ],
      "text/plain": [
       "                                       route_id station_code        date  \\\n",
       "0  RouteID_15baae2d-bf07-4967-956a-173d4036613f         DCH4  2018-08-11   \n",
       "1  RouteID_15baae2d-bf07-4967-956a-173d4036613f         DCH4  2018-08-11   \n",
       "2  RouteID_15baae2d-bf07-4967-956a-173d4036613f         DCH4  2018-08-11   \n",
       "3  RouteID_15baae2d-bf07-4967-956a-173d4036613f         DCH4  2018-08-11   \n",
       "4  RouteID_15baae2d-bf07-4967-956a-173d4036613f         DCH4  2018-08-11   \n",
       "\n",
       "  departure_time_utc  executor_capacity_cm3 route_score stop_id        lat  \\\n",
       "0           15:12:44              4247527.0         Low      AH  42.129085   \n",
       "1           15:12:44              4247527.0         Low      AK  42.133454   \n",
       "2           15:12:44              4247527.0         Low      AN  42.129422   \n",
       "3           15:12:44              4247527.0         Low      AU  42.107882   \n",
       "4           15:12:44              4247527.0         Low      AV  42.138752   \n",
       "\n",
       "         lng     type zone_id  \\\n",
       "0 -88.027485  Dropoff  D-8.3E   \n",
       "1 -88.043144  Dropoff  D-8.2H   \n",
       "2 -88.037895  Dropoff  D-8.2H   \n",
       "3 -88.035445  Dropoff  D-8.1C   \n",
       "4 -88.041745  Dropoff  D-7.1J   \n",
       "\n",
       "                                            packages  num_packages  \\\n",
       "0  [{'package_id': 'PackageID_07017709-2ddd-4c6a-...           1.0   \n",
       "1  [{'package_id': 'PackageID_30d78e0b-3dfd-4123-...           1.0   \n",
       "2  [{'package_id': 'PackageID_31472e01-c4ac-4281-...           1.0   \n",
       "3  [{'package_id': 'PackageID_180d6ed8-e08c-4a2a-...           1.0   \n",
       "4  [{'package_id': 'PackageID_9b96689a-99ef-4fc3-...           2.0   \n",
       "\n",
       "  drone_possible  service_time_seconds  \n",
       "0          False                  78.0  \n",
       "1           True                 157.0  \n",
       "2           True                  60.0  \n",
       "3          False                  33.0  \n",
       "4          False                  47.0  "
      ]
     },
     "execution_count": 17,
     "metadata": {},
     "output_type": "execute_result"
    }
   ],
   "source": [
    "route_data_route_df = pd.merge(route_data_route_df, package_info_agg, how='left', on='stop_id')\n",
    "route_data_route_df.head()"
   ]
  },
  {
   "cell_type": "code",
   "execution_count": 18,
   "metadata": {},
   "outputs": [],
   "source": [
    "proposed_sequences = json.load(open('proposed_sequences.json'))"
   ]
  },
  {
   "cell_type": "code",
   "execution_count": 20,
   "metadata": {},
   "outputs": [],
   "source": [
    "def sequence_to_stops_for_route(route_id):\n",
    "\n",
    "    route_sequence = proposed_sequences[route_id]['proposed']\n",
    "    \n",
    "    # Sorting them by their order\n",
    "    route_sequence_sorted = dict(sorted(route_sequence.items(), key=lambda item: item[1]))\n",
    "\n",
    "    # Converting keys to an array\n",
    "    route_sequence_sorted = list(route_sequence_sorted.keys())\n",
    "\n",
    "    # The last stop to the station (first stop) is not included in the sequence so we will manually add it\n",
    "    route_sequence_sorted.append(route_sequence_sorted[0])\n",
    "\n",
    "    return route_sequence_sorted"
   ]
  },
  {
   "cell_type": "code",
   "execution_count": 21,
   "metadata": {},
   "outputs": [],
   "source": [
    "# Both\n",
    "LOAD_START = 'LOAD_START'\n",
    "LOAD_END = 'LOAD_END'\n",
    "ARRIVE = 'ARRIVE'\n",
    "DEPART = 'DEPART'\n",
    "\n",
    "# Vehicle\n",
    "SERVICE_START = 'SERVICE_START'\n",
    "SERVICE_END = 'SERVICE_END'\n",
    "\n",
    "\n",
    "# Drone\n",
    "LAUNCH = 'LAUNCH'\n",
    "DRONE_DELIVERY_START = 'DRONE_DELIVERY_START'\n",
    "DRONE_DELIVERY_END = 'DRONE_DELIVERY_END'\n",
    "LAND = 'LAND'"
   ]
  },
  {
   "cell_type": "code",
   "execution_count": 22,
   "metadata": {},
   "outputs": [],
   "source": [
    "class Event:\n",
    "  def __init__(self, event_type, stop_id, time, data): # data holds extra information, like coordinates\n",
    "    self.event_type = event_type\n",
    "    self.stop_id = stop_id\n",
    "    self.time = time\n",
    "    self.data = data\n",
    "\n",
    "  def __str__(self):\n",
    "    return f\"{self.event_type} {self.stop_id} {round(self.time, 1)} {self.data}\"\n",
    "\n",
    "  def to_dict(self):\n",
    "    # Convert the event to a dictionary\n",
    "    return {\n",
    "        'event_type': self.event_type,\n",
    "        'stop_id': self.stop_id,\n",
    "        'time': self.time,\n",
    "        'coordinates': self.data,\n",
    "    }"
   ]
  },
  {
   "cell_type": "code",
   "execution_count": 114,
   "metadata": {},
   "outputs": [],
   "source": [
    "class VRPDSolver():\n",
    "    def __init__(self, route_id, sequence, package_data, route_data, vehicle_travel_times, drone_travel_times):\n",
    "        self.route_id = route_id\n",
    "        self.sequence = sequence\n",
    "        self.package_data = package_data\n",
    "        self.route_data = route_data\n",
    "        self.vehicle_travel_times = vehicle_travel_times\n",
    "        self.drone_travel_times = drone_travel_times\n",
    "\n",
    "        self.vehicle_events = []\n",
    "        self.vehicle_path = []\n",
    "        self.drone_events = []\n",
    "        self.drone_path = []\n",
    "        self.final_time = 0\n",
    "    \n",
    "    \n",
    "    def find_drone_uses(self):\n",
    "        drone_possible_sequence = []\n",
    "\n",
    "        for stop_id in self.sequence:\n",
    "            stop_row = self.route_data[self.route_data['stop_id'] == stop_id]\n",
    "            \n",
    "            drone_possible = 1 if stop_row['drone_possible'].values[0] else 0\n",
    "            \n",
    "            # can't use drone for station\n",
    "            if stop_id == self.sequence[0]:\n",
    "                drone_possible = 0\n",
    "        \n",
    "            drone_possible_sequence.append(drone_possible)\n",
    "\n",
    "        return drone_possible_sequence\n",
    "    \n",
    "    def drone_save_time(self, drone_possible_sequence):\n",
    "        time_saved = [-1]*len(self.sequence)\n",
    "        for i in range(2, len(self.sequence) - 2):\n",
    "            if drone_possible_sequence[i] == 1:\n",
    "                vehicle_time = 0\n",
    "                drone_time = 0\n",
    "                vehicle_drone_time = 0\n",
    "                \n",
    "                vehicle_time += self.vehicle_travel_times[self.sequence[i-1]][self.sequence[i]]\n",
    "                vehicle_time += self.vehicle_travel_times[self.sequence[i]][self.sequence[i+1]]\n",
    "                vehicle_time += self.route_data[self.route_data['stop_id'] == self.sequence[i]]['service_time_seconds'].values[0]\n",
    "                \n",
    "                drone_time += DRONE_LOADING\n",
    "                drone_time += DRONE_LAUNCH\n",
    "                drone_time += self.drone_travel_times[self.sequence[i-1]][self.sequence[i]]\n",
    "                drone_time += DRONE_LAND + DRONE_LAUNCH\n",
    "                drone_time += self.drone_travel_times[self.sequence[i]][self.sequence[i+1]]\n",
    "                drone_time += DRONE_LAND\n",
    "                \n",
    "                vehicle_drone_time += DRONE_LOADING\n",
    "                vehicle_drone_time += self.vehicle_travel_times[self.sequence[i-1]][self.sequence[i+1]]\n",
    "                \n",
    "                max_time = max(vehicle_drone_time, drone_time)\n",
    "                \n",
    "                if max_time < vehicle_time:\n",
    "                    time_saved[i] = round(vehicle_time - max_time, 2)\n",
    "        \n",
    "        return time_saved\n",
    "    \n",
    "    def maximize_saved_time(self, time_saved):\n",
    "        n = len(time_saved)\n",
    "        dp = [0] * (n + 1)\n",
    "        for i in range(1, n + 1):\n",
    "            dp[i] = max(time_saved[i - 1] + dp[i - 2], dp[i - 1])\n",
    "        \n",
    "        drone_usage = [0] * n\n",
    "        i = n\n",
    "        while i > 0:\n",
    "            if dp[i] != dp[i - 1]:\n",
    "                drone_usage[i - 1] = 1\n",
    "                i -= 2\n",
    "            else:\n",
    "                i -= 1\n",
    "        \n",
    "        return drone_usage\n",
    "    \n",
    "    \n",
    "    def generate_vehicle_drone_path(self, drone_usage):\n",
    "        cur_coords = None\n",
    "        cur_stop = None\n",
    "        cur_time = 0\n",
    "        \n",
    "        drone_coords = None\n",
    "        drone_time = 0\n",
    "        \n",
    "        cur_stop = self.sequence[0]\n",
    "        stop = self.route_data[self.route_data['stop_id'] == cur_stop].iloc[0]\n",
    "        cur_coords = {'lat' : stop['lat'], 'lng' : stop['lng']}\n",
    "        \n",
    "        first_event = Event(DEPART, cur_stop, cur_time, cur_coords)\n",
    "        self.vehicle_events.append(first_event)\n",
    "        self.vehicle_path.append(cur_stop)\n",
    "        self.drone_events.append(first_event)\n",
    "        self.drone_path.append(cur_stop)\n",
    "        \n",
    "\n",
    "        \n",
    "        i = 1\n",
    "        while i < len(self.sequence):\n",
    "            # Traveling to the next vehicle stop, departing stop based on if a drone was used\n",
    "            if drone_usage[i - 1] == 1:\n",
    "                cur_time += self.vehicle_travel_times[self.sequence[i - 2]][self.sequence[i]]\n",
    "            else:\n",
    "                cur_time += self.vehicle_travel_times[self.sequence[i - 1]][self.sequence[i]]\n",
    "            \n",
    "            # Arrive\n",
    "            cur_stop = self.sequence[i]\n",
    "            \n",
    "            \n",
    "            stop = self.route_data[self.route_data['stop_id'] == cur_stop].iloc[0]\n",
    "            cur_coords = {'lat' : stop['lat'], 'lng' : stop['lng']}\n",
    "            arrive_event = Event(ARRIVE, cur_stop, cur_time, cur_coords)\n",
    "            self.vehicle_events.append(arrive_event)\n",
    "            self.vehicle_path.append(cur_stop)\n",
    "            \n",
    "            if cur_stop == self.sequence[-1]:\n",
    "                self.drone_events.append(arrive_event)\n",
    "                self.drone_path.append(cur_stop)\n",
    "                break\n",
    "         \n",
    "            \n",
    "            # The drone is flying and needs to land\n",
    "            landed = True\n",
    "            if drone_usage[i - 1] == 1:\n",
    "                landed = False\n",
    "            else:\n",
    "                self.drone_events.append(arrive_event)\n",
    "                self.drone_path.append(cur_stop)\n",
    "            \n",
    "            if not landed:\n",
    "                # Checks if the vehicle is at the stop  \n",
    "                if drone_time < cur_time:\n",
    "                    landed = True\n",
    "                    drone_land_event = Event(LAND, cur_stop, cur_time, cur_coords)\n",
    "                    self.drone_events.append(drone_land_event)\n",
    "                    self.drone_path.append(cur_stop)\n",
    "            \n",
    "            \n",
    "            # Driver delivers package\n",
    "            service_start_event = Event(SERVICE_START, cur_stop, cur_time, cur_coords)\n",
    "            self.vehicle_events.append(service_start_event)\n",
    "            cur_time += stop['service_time_seconds']\n",
    "            service_end_event = Event(SERVICE_END, cur_stop, cur_time, cur_coords)\n",
    "            self.vehicle_events.append(service_end_event)\n",
    "            \n",
    "            # If the drone didn't land, it will try again and make vehicle wait if needed\n",
    "            if not landed:\n",
    "                landed = True\n",
    "                if drone_time < cur_time:\n",
    "                    drone_land_event = Event(LAND, cur_stop, drone_time, cur_coords) # Note we can land on drone_time (when package is being delivered)\n",
    "                    self.drone_events.append(drone_land_event)\n",
    "                    self.drone_path.append(cur_stop)\n",
    "                else:\n",
    "                    cur_time = drone_time\n",
    "                    drone_land_event = Event(LAND, cur_stop, cur_time, cur_coords)\n",
    "                    self.drone_events.append(drone_land_event)\n",
    "                    self.drone_path.append(cur_stop)\n",
    "            \n",
    "            \n",
    "            \n",
    "            # The next stop requires a drone\n",
    "            if drone_usage[i + 1] == 1:\n",
    "                \n",
    "                # Driver loads the drone\n",
    "                load_start_event = Event(LOAD_START, cur_stop, cur_time, cur_coords)\n",
    "                self.vehicle_events.append(load_start_event)\n",
    "                self.vehicle_events.append(load_start_event)\n",
    "                cur_time += DRONE_LOADING\n",
    "                load_end_event = Event(LOAD_END, cur_stop, cur_time, cur_coords)\n",
    "                self.vehicle_events.append(load_end_event)\n",
    "                self.drone_events.append(load_end_event)\n",
    "                \n",
    "                # Drone flies to the next stop\n",
    "                drone_time = cur_time\n",
    "                drone_launch_event = Event(LAUNCH, cur_stop, drone_time, cur_coords)\n",
    "                self.drone_events.append(drone_launch_event)\n",
    "                drone_time += DRONE_LAUNCH\n",
    "                drone_time += self.drone_travel_times[cur_stop][self.sequence[i + 1]]\n",
    "                drone_stop = self.route_data[self.route_data['stop_id'] == self.sequence[i + 1]].iloc[0]\n",
    "                drone_coords = {'lat' : drone_stop['lat'], 'lng' : drone_stop['lng']}\n",
    "                drone_arrive_event = Event(DRONE_DELIVERY_START, self.sequence[i + 1], drone_time, drone_coords)\n",
    "                self.drone_events.append(drone_arrive_event)\n",
    "                drone_time += DRONE_LAND + DRONE_LAUNCH\n",
    "                self.drone_path.append(self.sequence[i + 1])\n",
    "                drone_depart_event = Event(DRONE_DELIVERY_END, self.sequence[i + 1], drone_time, drone_coords)\n",
    "                self.drone_events.append(drone_depart_event)\n",
    "                # Drone flies to meet back up with the vehicle\n",
    "                drone_time += self.drone_travel_times[self.sequence[i + 1]][self.sequence[i + 2]]\n",
    "                \n",
    "                # We iterate i because the vehicle will skip the stop\n",
    "                i += 1\n",
    "                \n",
    "            else: # The driver departs\n",
    "                depart_event = Event(DEPART, cur_stop, cur_time, cur_coords)\n",
    "                self.vehicle_events.append(depart_event)\n",
    "            \n",
    "            i += 1\n",
    "                \n",
    "                \n",
    "            \n",
    "    \n",
    "        \n",
    "        \n",
    "    \n",
    "    def print_vehicle_path(self):\n",
    "          print(self.vehicle_path)  # Ensure vehicle_path is correctly converted to string\n",
    "\n",
    "    def print_vehicle_events(self):\n",
    "          for event in self.vehicle_events:\n",
    "              print(event)  # Convert Event object to string\n",
    "    \n",
    "    def print_drone_path(self):\n",
    "          print(self.drone_path)  # Ensure drone_path is correctly converted to string\n",
    "\n",
    "    def print_drone_events(self):\n",
    "        for event in self.drone_events:\n",
    "            print(event)\n",
    "    \n",
    "    def save_vehicle_path(self):\n",
    "        path_json = []\n",
    "        for i, stop_id in enumerate(self.vehicle_path):\n",
    "            stop = self.route_data[self.route_data['stop_id'] == stop_id].iloc[0]\n",
    "            vehicle_coords = {'lat' : stop['lat'], 'lng' : stop['lng']}\n",
    "            path_json.append({\"id\": i+1, \"stop\": stop_id, \"coordinates\": vehicle_coords})\n",
    "\n",
    "        with open(f\"{self.route_id}_vehicle_path.json\", 'w') as file:\n",
    "            json.dump(path_json, file, indent=4)\n",
    "\n",
    "    def save_vehicle_events(self):\n",
    "        # Convert the list of events to a list of dictionaries and assign an ID to each\n",
    "        events_with_ids = [{'id': i+1, **event.to_dict()} for i, event in enumerate(self.vehicle_events)]\n",
    "        # Save the list of events as a JSON file\n",
    "        with open(f\"{self.route_id}_vehicle_events.json\", 'w') as file:\n",
    "            json.dump(events_with_ids, file, indent=4)\n",
    "            \n",
    "    \n",
    "    def save_drone_path(self):\n",
    "        path_json = []\n",
    "        for i, stop_id in enumerate(self.drone_path):\n",
    "            stop = self.route_data[self.route_data['stop_id'] == stop_id].iloc[0]\n",
    "            drone_coords = {'lat' : stop['lat'], 'lng' : stop['lng']}\n",
    "            path_json.append({\"id\": i+1, \"stop\": stop_id, \"coordinates\": drone_coords})\n",
    "\n",
    "            with open(f\"{self.route_id}_drone_path.json\", 'w') as file:\n",
    "                json.dump(path_json, file, indent=4)\n",
    "    \n",
    "    def save_drone_events(self):\n",
    "        # Convert the list of events to a list of dictionaries and assign an ID to each\n",
    "        events_with_ids = [{'id': i+1, **event.to_dict()} for i, event in enumerate(self.drone_events)]\n",
    "        # Save the list of events as a JSON file\n",
    "        with open(f\"{self.route_id}_drone_events.json\", 'w') as file:\n",
    "            json.dump(events_with_ids, file, indent=4)\n"
   ]
  },
  {
   "cell_type": "code",
   "execution_count": 115,
   "metadata": {},
   "outputs": [],
   "source": [
    "proposed_sequence = sequence_to_stops_for_route(route_id)\n",
    "test = VRPDSolver(route_id, proposed_sequence, package_data_route_df, route_data_route_df, vehicle_travel_times_route, drone_travel_times_route)\n",
    "drone_usage = test.find_drone_uses()\n",
    "time_saved = test.drone_save_time(drone_usage)\n",
    "best_drone_usage = test.maximize_saved_time(time_saved)\n",
    "test.generate_vehicle_drone_path(best_drone_usage)"
   ]
  },
  {
   "cell_type": "code",
   "execution_count": 127,
   "metadata": {},
   "outputs": [
    {
     "name": "stdout",
     "output_type": "stream",
     "text": [
      "DEPART HJ 0 {'lat': 42.254346, 'lng': -87.985697}\n",
      "ARRIVE YL 1559.0 {'lat': 42.150791, 'lng': -88.034969}\n",
      "SERVICE_START YL 1559.0 {'lat': 42.150791, 'lng': -88.034969}\n",
      "SERVICE_END YL 1633.5 {'lat': 42.150791, 'lng': -88.034969}\n",
      "DEPART YL 1633.5 {'lat': 42.150791, 'lng': -88.034969}\n",
      "ARRIVE WW 1784.9 {'lat': 42.144327, 'lng': -88.032939}\n",
      "SERVICE_START WW 1784.9 {'lat': 42.144327, 'lng': -88.032939}\n",
      "SERVICE_END WW 1829.9 {'lat': 42.144327, 'lng': -88.032939}\n",
      "DEPART WW 1829.9 {'lat': 42.144327, 'lng': -88.032939}\n",
      "ARRIVE VW 1872.5 {'lat': 42.144565, 'lng': -88.031799}\n",
      "SERVICE_START VW 1872.5 {'lat': 42.144565, 'lng': -88.031799}\n",
      "SERVICE_END VW 1916.0 {'lat': 42.144565, 'lng': -88.031799}\n",
      "DEPART VW 1916.0 {'lat': 42.144565, 'lng': -88.031799}\n",
      "ARRIVE JR 1972.8 {'lat': 42.145825, 'lng': -88.032302}\n",
      "SERVICE_START JR 1972.8 {'lat': 42.145825, 'lng': -88.032302}\n",
      "SERVICE_END JR 2021.8 {'lat': 42.145825, 'lng': -88.032302}\n",
      "DEPART JR 2021.8 {'lat': 42.145825, 'lng': -88.032302}\n",
      "ARRIVE SR 2071.2 {'lat': 42.145071, 'lng': -88.032181}\n",
      "SERVICE_START SR 2071.2 {'lat': 42.145071, 'lng': -88.032181}\n",
      "SERVICE_END SR 2119.2 {'lat': 42.145071, 'lng': -88.032181}\n",
      "DEPART SR 2119.2 {'lat': 42.145071, 'lng': -88.032181}\n",
      "ARRIVE WR 2219.1 {'lat': 42.14528, 'lng': -88.036679}\n",
      "SERVICE_START WR 2219.1 {'lat': 42.14528, 'lng': -88.036679}\n",
      "SERVICE_END WR 2284.1 {'lat': 42.14528, 'lng': -88.036679}\n",
      "DEPART WR 2284.1 {'lat': 42.14528, 'lng': -88.036679}\n",
      "ARRIVE JH 2300.7 {'lat': 42.145141, 'lng': -88.037819}\n",
      "SERVICE_START JH 2300.7 {'lat': 42.145141, 'lng': -88.037819}\n",
      "SERVICE_END JH 2345.7 {'lat': 42.145141, 'lng': -88.037819}\n",
      "DEPART JH 2345.7 {'lat': 42.145141, 'lng': -88.037819}\n",
      "ARRIVE JA 2369.6 {'lat': 42.145257, 'lng': -88.036115}\n",
      "SERVICE_START JA 2369.6 {'lat': 42.145257, 'lng': -88.036115}\n",
      "SERVICE_END JA 2460.1 {'lat': 42.145257, 'lng': -88.036115}\n",
      "DEPART JA 2460.1 {'lat': 42.145257, 'lng': -88.036115}\n",
      "ARRIVE CZ 2622.5 {'lat': 42.13368, 'lng': -88.033884}\n",
      "SERVICE_START CZ 2622.5 {'lat': 42.13368, 'lng': -88.033884}\n",
      "SERVICE_END CZ 2659.5 {'lat': 42.13368, 'lng': -88.033884}\n",
      "DEPART CZ 2659.5 {'lat': 42.13368, 'lng': -88.033884}\n",
      "ARRIVE XB 2698.2 {'lat': 42.132907, 'lng': -88.036045}\n",
      "SERVICE_START XB 2698.2 {'lat': 42.132907, 'lng': -88.036045}\n",
      "SERVICE_END XB 2752.4 {'lat': 42.132907, 'lng': -88.036045}\n",
      "DEPART XB 2752.4 {'lat': 42.132907, 'lng': -88.036045}\n",
      "ARRIVE HE 2922.6 {'lat': 42.136914, 'lng': -88.031408}\n",
      "SERVICE_START HE 2922.6 {'lat': 42.136914, 'lng': -88.031408}\n",
      "SERVICE_END HE 3020.6 {'lat': 42.136914, 'lng': -88.031408}\n",
      "DEPART HE 3020.6 {'lat': 42.136914, 'lng': -88.031408}\n",
      "ARRIVE NE 3034.6 {'lat': 42.136569, 'lng': -88.031328}\n",
      "SERVICE_START NE 3034.6 {'lat': 42.136569, 'lng': -88.031328}\n",
      "SERVICE_END NE 3111.6 {'lat': 42.136569, 'lng': -88.031328}\n",
      "DEPART NE 3111.6 {'lat': 42.136569, 'lng': -88.031328}\n",
      "ARRIVE KO 3291.1 {'lat': 42.133809, 'lng': -88.036843}\n",
      "SERVICE_START KO 3291.1 {'lat': 42.133809, 'lng': -88.036843}\n",
      "SERVICE_END KO 3347.1 {'lat': 42.133809, 'lng': -88.036843}\n",
      "LOAD_START KO 3347.1 {'lat': 42.133809, 'lng': -88.036843}\n",
      "LOAD_START KO 3347.1 {'lat': 42.133809, 'lng': -88.036843}\n",
      "LOAD_END KO 3362.1 {'lat': 42.133809, 'lng': -88.036843}\n",
      "ARRIVE SJ 3452.7 {'lat': 42.134729, 'lng': -88.03754}\n",
      "SERVICE_START SJ 3452.7 {'lat': 42.134729, 'lng': -88.03754}\n",
      "SERVICE_END SJ 3516.7 {'lat': 42.134729, 'lng': -88.03754}\n",
      "DEPART SJ 3516.7 {'lat': 42.134729, 'lng': -88.03754}\n",
      "ARRIVE QA 3591.1 {'lat': 42.135592, 'lng': -88.040376}\n",
      "SERVICE_START QA 3591.1 {'lat': 42.135592, 'lng': -88.040376}\n",
      "SERVICE_END QA 3626.5 {'lat': 42.135592, 'lng': -88.040376}\n",
      "DEPART QA 3626.5 {'lat': 42.135592, 'lng': -88.040376}\n",
      "ARRIVE QC 3662.0 {'lat': 42.134457, 'lng': -88.039398}\n",
      "SERVICE_START QC 3662.0 {'lat': 42.134457, 'lng': -88.039398}\n",
      "SERVICE_END QC 3768.5 {'lat': 42.134457, 'lng': -88.039398}\n",
      "DEPART QC 3768.5 {'lat': 42.134457, 'lng': -88.039398}\n",
      "ARRIVE DC 3783.2 {'lat': 42.133645, 'lng': -88.039383}\n",
      "SERVICE_START DC 3783.2 {'lat': 42.133645, 'lng': -88.039383}\n",
      "SERVICE_END DC 3833.2 {'lat': 42.133645, 'lng': -88.039383}\n",
      "LOAD_START DC 3833.2 {'lat': 42.133645, 'lng': -88.039383}\n",
      "LOAD_START DC 3833.2 {'lat': 42.133645, 'lng': -88.039383}\n",
      "LOAD_END DC 3848.2 {'lat': 42.133645, 'lng': -88.039383}\n",
      "ARRIVE LV 3921.4 {'lat': 42.134275, 'lng': -88.04063}\n",
      "SERVICE_START LV 3921.4 {'lat': 42.134275, 'lng': -88.04063}\n",
      "SERVICE_END LV 3970.4 {'lat': 42.134275, 'lng': -88.04063}\n",
      "DEPART LV 3970.4 {'lat': 42.134275, 'lng': -88.04063}\n",
      "ARRIVE XC 3984.5 {'lat': 42.133639, 'lng': -88.040635}\n",
      "SERVICE_START XC 3984.5 {'lat': 42.133639, 'lng': -88.040635}\n",
      "SERVICE_END XC 4051.5 {'lat': 42.133639, 'lng': -88.040635}\n",
      "LOAD_START XC 4051.5 {'lat': 42.133639, 'lng': -88.040635}\n",
      "LOAD_START XC 4051.5 {'lat': 42.133639, 'lng': -88.040635}\n",
      "LOAD_END XC 4066.5 {'lat': 42.133639, 'lng': -88.040635}\n",
      "ARRIVE JP 4129.9 {'lat': 42.1343, 'lng': -88.041866}\n",
      "SERVICE_START JP 4129.9 {'lat': 42.1343, 'lng': -88.041866}\n",
      "SERVICE_END JP 4192.9 {'lat': 42.1343, 'lng': -88.041866}\n",
      "DEPART JP 4192.9 {'lat': 42.1343, 'lng': -88.041866}\n",
      "ARRIVE AV 4301.2 {'lat': 42.138752, 'lng': -88.041745}\n",
      "SERVICE_START AV 4301.2 {'lat': 42.138752, 'lng': -88.041745}\n",
      "SERVICE_END AV 4348.2 {'lat': 42.138752, 'lng': -88.041745}\n",
      "DEPART AV 4348.2 {'lat': 42.138752, 'lng': -88.041745}\n",
      "ARRIVE TP 4386.9 {'lat': 42.137919, 'lng': -88.041821}\n",
      "SERVICE_START TP 4386.9 {'lat': 42.137919, 'lng': -88.041821}\n",
      "SERVICE_END TP 4464.9 {'lat': 42.137919, 'lng': -88.041821}\n",
      "DEPART TP 4464.9 {'lat': 42.137919, 'lng': -88.041821}\n",
      "ARRIVE WH 4509.7 {'lat': 42.13765, 'lng': -88.04313}\n",
      "SERVICE_START WH 4509.7 {'lat': 42.13765, 'lng': -88.04313}\n",
      "SERVICE_END WH 4560.7 {'lat': 42.13765, 'lng': -88.04313}\n",
      "DEPART WH 4560.7 {'lat': 42.13765, 'lng': -88.04313}\n",
      "ARRIVE QV 4648.3 {'lat': 42.138865, 'lng': -88.04553}\n",
      "SERVICE_START QV 4648.3 {'lat': 42.138865, 'lng': -88.04553}\n",
      "SERVICE_END QV 4714.3 {'lat': 42.138865, 'lng': -88.04553}\n",
      "DEPART QV 4714.3 {'lat': 42.138865, 'lng': -88.04553}\n",
      "ARRIVE LQ 4720.3 {'lat': 42.1386, 'lng': -88.04553}\n",
      "SERVICE_START LQ 4720.3 {'lat': 42.1386, 'lng': -88.04553}\n",
      "SERVICE_END LQ 4788.3 {'lat': 42.1386, 'lng': -88.04553}\n",
      "DEPART LQ 4788.3 {'lat': 42.1386, 'lng': -88.04553}\n",
      "ARRIVE VQ 4817.6 {'lat': 42.137251, 'lng': -88.04553}\n",
      "SERVICE_START VQ 4817.6 {'lat': 42.137251, 'lng': -88.04553}\n",
      "SERVICE_END VQ 4893.3 {'lat': 42.137251, 'lng': -88.04553}\n",
      "DEPART VQ 4893.3 {'lat': 42.137251, 'lng': -88.04553}\n",
      "ARRIVE SH 4956.9 {'lat': 42.138579, 'lng': -88.044311}\n",
      "SERVICE_START SH 4956.9 {'lat': 42.138579, 'lng': -88.044311}\n",
      "SERVICE_END SH 5013.9 {'lat': 42.138579, 'lng': -88.044311}\n",
      "DEPART SH 5013.9 {'lat': 42.138579, 'lng': -88.044311}\n",
      "ARRIVE TA 5186.6 {'lat': 42.137793, 'lng': -88.052893}\n",
      "SERVICE_START TA 5186.6 {'lat': 42.137793, 'lng': -88.052893}\n",
      "SERVICE_END TA 5239.1 {'lat': 42.137793, 'lng': -88.052893}\n",
      "DEPART TA 5239.1 {'lat': 42.137793, 'lng': -88.052893}\n",
      "ARRIVE ZS 5267.5 {'lat': 42.137943, 'lng': -88.051665}\n",
      "SERVICE_START ZS 5267.5 {'lat': 42.137943, 'lng': -88.051665}\n",
      "SERVICE_END ZS 5327.0 {'lat': 42.137943, 'lng': -88.051665}\n",
      "DEPART ZS 5327.0 {'lat': 42.137943, 'lng': -88.051665}\n",
      "ARRIVE QW 5488.7 {'lat': 42.138473, 'lng': -88.047033}\n",
      "SERVICE_START QW 5488.7 {'lat': 42.138473, 'lng': -88.047033}\n",
      "SERVICE_END QW 5574.7 {'lat': 42.138473, 'lng': -88.047033}\n",
      "DEPART QW 5574.7 {'lat': 42.138473, 'lng': -88.047033}\n",
      "ARRIVE WU 5627.0 {'lat': 42.138093, 'lng': -88.0485}\n",
      "SERVICE_START WU 5627.0 {'lat': 42.138093, 'lng': -88.0485}\n",
      "SERVICE_END WU 5691.0 {'lat': 42.138093, 'lng': -88.0485}\n",
      "DEPART WU 5691.0 {'lat': 42.138093, 'lng': -88.0485}\n",
      "ARRIVE YQ 5728.4 {'lat': 42.138326, 'lng': -88.049033}\n",
      "SERVICE_START YQ 5728.4 {'lat': 42.138326, 'lng': -88.049033}\n",
      "SERVICE_END YQ 5769.4 {'lat': 42.138326, 'lng': -88.049033}\n",
      "DEPART YQ 5769.4 {'lat': 42.138326, 'lng': -88.049033}\n",
      "ARRIVE JM 5803.0 {'lat': 42.138841, 'lng': -88.049205}\n",
      "SERVICE_START JM 5803.0 {'lat': 42.138841, 'lng': -88.049205}\n",
      "SERVICE_END JM 5943.0 {'lat': 42.138841, 'lng': -88.049205}\n",
      "DEPART JM 5943.0 {'lat': 42.138841, 'lng': -88.049205}\n",
      "ARRIVE LW 6089.2 {'lat': 42.136177, 'lng': -88.051373}\n",
      "SERVICE_START LW 6089.2 {'lat': 42.136177, 'lng': -88.051373}\n",
      "SERVICE_END LW 6128.2 {'lat': 42.136177, 'lng': -88.051373}\n",
      "DEPART LW 6128.2 {'lat': 42.136177, 'lng': -88.051373}\n",
      "ARRIVE GR 6201.8 {'lat': 42.13703, 'lng': -88.052998}\n",
      "SERVICE_START GR 6201.8 {'lat': 42.13703, 'lng': -88.052998}\n",
      "SERVICE_END GR 6253.8 {'lat': 42.13703, 'lng': -88.052998}\n",
      "DEPART GR 6253.8 {'lat': 42.13703, 'lng': -88.052998}\n",
      "ARRIVE NL 6276.6 {'lat': 42.137252, 'lng': -88.052204}\n",
      "SERVICE_START NL 6276.6 {'lat': 42.137252, 'lng': -88.052204}\n",
      "SERVICE_END NL 6317.6 {'lat': 42.137252, 'lng': -88.052204}\n",
      "DEPART NL 6317.6 {'lat': 42.137252, 'lng': -88.052204}\n",
      "ARRIVE SC 6416.6 {'lat': 42.136992, 'lng': -88.04904}\n",
      "SERVICE_START SC 6416.6 {'lat': 42.136992, 'lng': -88.04904}\n",
      "SERVICE_END SC 6486.1 {'lat': 42.136992, 'lng': -88.04904}\n",
      "DEPART SC 6486.1 {'lat': 42.136992, 'lng': -88.04904}\n",
      "ARRIVE JD 6564.3 {'lat': 42.134427, 'lng': -88.049086}\n",
      "SERVICE_START JD 6564.3 {'lat': 42.134427, 'lng': -88.049086}\n",
      "SERVICE_END JD 6615.3 {'lat': 42.134427, 'lng': -88.049086}\n",
      "DEPART JD 6615.3 {'lat': 42.134427, 'lng': -88.049086}\n",
      "ARRIVE MZ 6660.8 {'lat': 42.133684, 'lng': -88.050275}\n",
      "SERVICE_START MZ 6660.8 {'lat': 42.133684, 'lng': -88.050275}\n",
      "SERVICE_END MZ 6704.8 {'lat': 42.133684, 'lng': -88.050275}\n",
      "LOAD_START MZ 6704.8 {'lat': 42.133684, 'lng': -88.050275}\n",
      "LOAD_START MZ 6704.8 {'lat': 42.133684, 'lng': -88.050275}\n",
      "LOAD_END MZ 6719.8 {'lat': 42.133684, 'lng': -88.050275}\n",
      "ARRIVE TQ 6827.8 {'lat': 42.135056, 'lng': -88.047056}\n",
      "SERVICE_START TQ 6827.8 {'lat': 42.135056, 'lng': -88.047056}\n",
      "SERVICE_END TQ 6893.8 {'lat': 42.135056, 'lng': -88.047056}\n",
      "DEPART TQ 6893.8 {'lat': 42.135056, 'lng': -88.047056}\n",
      "ARRIVE RR 6927.4 {'lat': 42.13589, 'lng': -88.046189}\n",
      "SERVICE_START RR 6927.4 {'lat': 42.13589, 'lng': -88.046189}\n",
      "SERVICE_END RR 6985.4 {'lat': 42.13589, 'lng': -88.046189}\n",
      "DEPART RR 6985.4 {'lat': 42.13589, 'lng': -88.046189}\n",
      "ARRIVE ZX 7012.2 {'lat': 42.13498, 'lng': -88.045655}\n",
      "SERVICE_START ZX 7012.2 {'lat': 42.13498, 'lng': -88.045655}\n",
      "SERVICE_END ZX 7092.2 {'lat': 42.13498, 'lng': -88.045655}\n",
      "DEPART ZX 7092.2 {'lat': 42.13498, 'lng': -88.045655}\n",
      "ARRIVE IS 7202.4 {'lat': 42.132521, 'lng': -88.049673}\n",
      "SERVICE_START IS 7202.4 {'lat': 42.132521, 'lng': -88.049673}\n",
      "SERVICE_END IS 7351.4 {'lat': 42.132521, 'lng': -88.049673}\n",
      "DEPART IS 7351.4 {'lat': 42.132521, 'lng': -88.049673}\n",
      "ARRIVE XJ 7384.2 {'lat': 42.13305, 'lng': -88.047733}\n",
      "SERVICE_START XJ 7384.2 {'lat': 42.13305, 'lng': -88.047733}\n",
      "SERVICE_END XJ 7432.2 {'lat': 42.13305, 'lng': -88.047733}\n",
      "DEPART XJ 7432.2 {'lat': 42.13305, 'lng': -88.047733}\n",
      "ARRIVE WX 7506.1 {'lat': 42.134075, 'lng': -88.044372}\n",
      "SERVICE_START WX 7506.1 {'lat': 42.134075, 'lng': -88.044372}\n",
      "SERVICE_END WX 7564.1 {'lat': 42.134075, 'lng': -88.044372}\n",
      "LOAD_START WX 7564.1 {'lat': 42.134075, 'lng': -88.044372}\n",
      "LOAD_START WX 7564.1 {'lat': 42.134075, 'lng': -88.044372}\n",
      "LOAD_END WX 7579.1 {'lat': 42.134075, 'lng': -88.044372}\n",
      "ARRIVE DT 7652.2 {'lat': 42.132063, 'lng': -88.042602}\n",
      "SERVICE_START DT 7652.2 {'lat': 42.132063, 'lng': -88.042602}\n",
      "SERVICE_END DT 7706.2 {'lat': 42.132063, 'lng': -88.042602}\n",
      "LOAD_START DT 7710.3 {'lat': 42.132063, 'lng': -88.042602}\n",
      "LOAD_START DT 7710.3 {'lat': 42.132063, 'lng': -88.042602}\n",
      "LOAD_END DT 7725.3 {'lat': 42.132063, 'lng': -88.042602}\n",
      "ARRIVE OW 7774.4 {'lat': 42.133652, 'lng': -88.043142}\n",
      "SERVICE_START OW 7774.4 {'lat': 42.133652, 'lng': -88.043142}\n",
      "SERVICE_END OW 7838.4 {'lat': 42.133652, 'lng': -88.043142}\n",
      "LOAD_START OW 7838.4 {'lat': 42.133652, 'lng': -88.043142}\n",
      "LOAD_START OW 7838.4 {'lat': 42.133652, 'lng': -88.043142}\n",
      "LOAD_END OW 7853.4 {'lat': 42.133652, 'lng': -88.043142}\n",
      "ARRIVE MA 7933.9 {'lat': 42.131008, 'lng': -88.04375}\n",
      "SERVICE_START MA 7933.9 {'lat': 42.131008, 'lng': -88.04375}\n",
      "SERVICE_END MA 7990.9 {'lat': 42.131008, 'lng': -88.04375}\n",
      "DEPART MA 7990.9 {'lat': 42.131008, 'lng': -88.04375}\n",
      "ARRIVE JC 8058.8 {'lat': 42.128874, 'lng': -88.042146}\n",
      "SERVICE_START JC 8058.8 {'lat': 42.128874, 'lng': -88.042146}\n",
      "SERVICE_END JC 8122.8 {'lat': 42.128874, 'lng': -88.042146}\n",
      "LOAD_START JC 8122.8 {'lat': 42.128874, 'lng': -88.042146}\n",
      "LOAD_START JC 8122.8 {'lat': 42.128874, 'lng': -88.042146}\n",
      "LOAD_END JC 8137.8 {'lat': 42.128874, 'lng': -88.042146}\n",
      "ARRIVE YK 8236.2 {'lat': 42.129921, 'lng': -88.04139}\n",
      "SERVICE_START YK 8236.2 {'lat': 42.129921, 'lng': -88.04139}\n",
      "SERVICE_END YK 8308.2 {'lat': 42.129921, 'lng': -88.04139}\n",
      "DEPART YK 8308.2 {'lat': 42.129921, 'lng': -88.04139}\n",
      "ARRIVE YJ 8370.6 {'lat': 42.131093, 'lng': -88.042323}\n",
      "SERVICE_START YJ 8370.6 {'lat': 42.131093, 'lng': -88.042323}\n",
      "SERVICE_END YJ 8463.6 {'lat': 42.131093, 'lng': -88.042323}\n",
      "DEPART YJ 8463.6 {'lat': 42.131093, 'lng': -88.042323}\n",
      "ARRIVE OH 8520.1 {'lat': 42.131737, 'lng': -88.04025}\n",
      "SERVICE_START OH 8520.1 {'lat': 42.131737, 'lng': -88.04025}\n",
      "SERVICE_END OH 8598.1 {'lat': 42.131737, 'lng': -88.04025}\n",
      "LOAD_START OH 8598.1 {'lat': 42.131737, 'lng': -88.04025}\n",
      "LOAD_START OH 8598.1 {'lat': 42.131737, 'lng': -88.04025}\n",
      "LOAD_END OH 8613.1 {'lat': 42.131737, 'lng': -88.04025}\n",
      "ARRIVE VO 8683.6 {'lat': 42.130444, 'lng': -88.037884}\n",
      "SERVICE_START VO 8683.6 {'lat': 42.130444, 'lng': -88.037884}\n",
      "SERVICE_END VO 8738.6 {'lat': 42.130444, 'lng': -88.037884}\n",
      "LOAD_START VO 8738.6 {'lat': 42.130444, 'lng': -88.037884}\n",
      "LOAD_START VO 8738.6 {'lat': 42.130444, 'lng': -88.037884}\n",
      "LOAD_END VO 8753.6 {'lat': 42.130444, 'lng': -88.037884}\n",
      "ARRIVE TR 8809.3 {'lat': 42.128841, 'lng': -88.037114}\n",
      "SERVICE_START TR 8809.3 {'lat': 42.128841, 'lng': -88.037114}\n",
      "SERVICE_END TR 8857.3 {'lat': 42.128841, 'lng': -88.037114}\n",
      "DEPART TR 8857.3 {'lat': 42.128841, 'lng': -88.037114}\n",
      "ARRIVE EQ 8885.0 {'lat': 42.128815, 'lng': -88.034782}\n",
      "SERVICE_START EQ 8885.0 {'lat': 42.128815, 'lng': -88.034782}\n",
      "SERVICE_END EQ 8957.0 {'lat': 42.128815, 'lng': -88.034782}\n",
      "DEPART EQ 8957.0 {'lat': 42.128815, 'lng': -88.034782}\n",
      "ARRIVE NH 9069.0 {'lat': 42.125684, 'lng': -88.038542}\n",
      "SERVICE_START NH 9069.0 {'lat': 42.125684, 'lng': -88.038542}\n",
      "SERVICE_END NH 9135.3 {'lat': 42.125684, 'lng': -88.038542}\n",
      "LOAD_START NH 9135.3 {'lat': 42.125684, 'lng': -88.038542}\n",
      "LOAD_START NH 9135.3 {'lat': 42.125684, 'lng': -88.038542}\n",
      "LOAD_END NH 9150.3 {'lat': 42.125684, 'lng': -88.038542}\n",
      "ARRIVE QM 9232.3 {'lat': 42.127935, 'lng': -88.036821}\n",
      "SERVICE_START QM 9232.3 {'lat': 42.127935, 'lng': -88.036821}\n",
      "SERVICE_END QM 9285.0 {'lat': 42.127935, 'lng': -88.036821}\n",
      "DEPART QM 9285.0 {'lat': 42.127935, 'lng': -88.036821}\n",
      "ARRIVE EY 9310.9 {'lat': 42.127948, 'lng': -88.038602}\n",
      "SERVICE_START EY 9310.9 {'lat': 42.127948, 'lng': -88.038602}\n",
      "SERVICE_END EY 9378.4 {'lat': 42.127948, 'lng': -88.038602}\n",
      "DEPART EY 9378.4 {'lat': 42.127948, 'lng': -88.038602}\n",
      "ARRIVE CW 9520.3 {'lat': 42.129722, 'lng': -88.034192}\n",
      "SERVICE_START CW 9520.3 {'lat': 42.129722, 'lng': -88.034192}\n",
      "SERVICE_END CW 9560.3 {'lat': 42.129722, 'lng': -88.034192}\n",
      "DEPART CW 9560.3 {'lat': 42.129722, 'lng': -88.034192}\n",
      "ARRIVE PB 9573.0 {'lat': 42.129728, 'lng': -88.035091}\n",
      "SERVICE_START PB 9573.0 {'lat': 42.129728, 'lng': -88.035091}\n",
      "SERVICE_END PB 9685.0 {'lat': 42.129728, 'lng': -88.035091}\n",
      "DEPART PB 9685.0 {'lat': 42.129728, 'lng': -88.035091}\n",
      "ARRIVE DZ 9721.3 {'lat': 42.130161, 'lng': -88.03669}\n",
      "SERVICE_START DZ 9721.3 {'lat': 42.130161, 'lng': -88.03669}\n",
      "SERVICE_END DZ 9748.3 {'lat': 42.130161, 'lng': -88.03669}\n",
      "DEPART DZ 9748.3 {'lat': 42.130161, 'lng': -88.03669}\n",
      "ARRIVE WF 9834.9 {'lat': 42.132696, 'lng': -88.039367}\n",
      "SERVICE_START WF 9834.9 {'lat': 42.132696, 'lng': -88.039367}\n",
      "SERVICE_END WF 9924.9 {'lat': 42.132696, 'lng': -88.039367}\n",
      "LOAD_START WF 9924.9 {'lat': 42.132696, 'lng': -88.039367}\n",
      "LOAD_START WF 9924.9 {'lat': 42.132696, 'lng': -88.039367}\n",
      "LOAD_END WF 9939.9 {'lat': 42.132696, 'lng': -88.039367}\n",
      "ARRIVE XY 10105.9 {'lat': 42.131009, 'lng': -88.029694}\n",
      "SERVICE_START XY 10105.9 {'lat': 42.131009, 'lng': -88.029694}\n",
      "SERVICE_END XY 10222.9 {'lat': 42.131009, 'lng': -88.029694}\n",
      "DEPART XY 10222.9 {'lat': 42.131009, 'lng': -88.029694}\n",
      "ARRIVE CG 10255.8 {'lat': 42.131031, 'lng': -88.032127}\n",
      "SERVICE_START CG 10255.8 {'lat': 42.131031, 'lng': -88.032127}\n",
      "SERVICE_END CG 10343.8 {'lat': 42.131031, 'lng': -88.032127}\n",
      "LOAD_START CG 10343.8 {'lat': 42.131031, 'lng': -88.032127}\n",
      "LOAD_START CG 10343.8 {'lat': 42.131031, 'lng': -88.032127}\n",
      "LOAD_END CG 10358.8 {'lat': 42.131031, 'lng': -88.032127}\n",
      "ARRIVE WD 10449.3 {'lat': 42.134086, 'lng': -88.032572}\n",
      "SERVICE_START WD 10449.3 {'lat': 42.134086, 'lng': -88.032572}\n",
      "SERVICE_END WD 10502.8 {'lat': 42.134086, 'lng': -88.032572}\n",
      "DEPART WD 10502.8 {'lat': 42.134086, 'lng': -88.032572}\n",
      "ARRIVE CO 10534.1 {'lat': 42.134451, 'lng': -88.033256}\n",
      "SERVICE_START CO 10534.1 {'lat': 42.134451, 'lng': -88.033256}\n",
      "SERVICE_END CO 10607.1 {'lat': 42.134451, 'lng': -88.033256}\n",
      "DEPART CO 10607.1 {'lat': 42.134451, 'lng': -88.033256}\n",
      "ARRIVE NZ 10648.1 {'lat': 42.133856, 'lng': -88.031333}\n",
      "SERVICE_START NZ 10648.1 {'lat': 42.133856, 'lng': -88.031333}\n",
      "SERVICE_END NZ 10688.6 {'lat': 42.133856, 'lng': -88.031333}\n",
      "LOAD_START NZ 10688.6 {'lat': 42.133856, 'lng': -88.031333}\n",
      "LOAD_START NZ 10688.6 {'lat': 42.133856, 'lng': -88.031333}\n",
      "LOAD_END NZ 10703.6 {'lat': 42.133856, 'lng': -88.031333}\n",
      "ARRIVE BV 10799.1 {'lat': 42.135233, 'lng': -88.029141}\n",
      "SERVICE_START BV 10799.1 {'lat': 42.135233, 'lng': -88.029141}\n",
      "SERVICE_END BV 10856.1 {'lat': 42.135233, 'lng': -88.029141}\n",
      "DEPART BV 10856.1 {'lat': 42.135233, 'lng': -88.029141}\n",
      "ARRIVE QB 10863.7 {'lat': 42.135096, 'lng': -88.028599}\n",
      "SERVICE_START QB 10863.7 {'lat': 42.135096, 'lng': -88.028599}\n",
      "SERVICE_END QB 10935.7 {'lat': 42.135096, 'lng': -88.028599}\n",
      "DEPART QB 10935.7 {'lat': 42.135096, 'lng': -88.028599}\n",
      "ARRIVE YX 10950.1 {'lat': 42.135031, 'lng': -88.027462}\n",
      "SERVICE_START YX 10950.1 {'lat': 42.135031, 'lng': -88.027462}\n",
      "SERVICE_END YX 11025.9 {'lat': 42.135031, 'lng': -88.027462}\n",
      "DEPART YX 11025.9 {'lat': 42.135031, 'lng': -88.027462}\n",
      "ARRIVE KV 11062.3 {'lat': 42.135579, 'lng': -88.02642}\n",
      "SERVICE_START KV 11062.3 {'lat': 42.135579, 'lng': -88.02642}\n",
      "SERVICE_END KV 11096.3 {'lat': 42.135579, 'lng': -88.02642}\n",
      "DEPART KV 11096.3 {'lat': 42.135579, 'lng': -88.02642}\n",
      "ARRIVE KN 11152.2 {'lat': 42.135986, 'lng': -88.028705}\n",
      "SERVICE_START KN 11152.2 {'lat': 42.135986, 'lng': -88.028705}\n",
      "SERVICE_END KN 11196.2 {'lat': 42.135986, 'lng': -88.028705}\n",
      "DEPART KN 11196.2 {'lat': 42.135986, 'lng': -88.028705}\n",
      "ARRIVE ZI 11295.5 {'lat': 42.133905, 'lng': -88.026438}\n",
      "SERVICE_START ZI 11295.5 {'lat': 42.133905, 'lng': -88.026438}\n",
      "SERVICE_END ZI 11339.5 {'lat': 42.133905, 'lng': -88.026438}\n",
      "DEPART ZI 11339.5 {'lat': 42.133905, 'lng': -88.026438}\n",
      "ARRIVE UP 11401.9 {'lat': 42.13282, 'lng': -88.02541}\n",
      "SERVICE_START UP 11401.9 {'lat': 42.13282, 'lng': -88.02541}\n",
      "SERVICE_END UP 11464.4 {'lat': 42.13282, 'lng': -88.02541}\n",
      "DEPART UP 11464.4 {'lat': 42.13282, 'lng': -88.02541}\n",
      "ARRIVE OJ 11547.3 {'lat': 42.131919, 'lng': -88.024397}\n",
      "SERVICE_START OJ 11547.3 {'lat': 42.131919, 'lng': -88.024397}\n",
      "SERVICE_END OJ 11623.8 {'lat': 42.131919, 'lng': -88.024397}\n",
      "DEPART OJ 11623.8 {'lat': 42.131919, 'lng': -88.024397}\n",
      "ARRIVE NU 11638.7 {'lat': 42.131924, 'lng': -88.02661}\n",
      "SERVICE_START NU 11638.7 {'lat': 42.131924, 'lng': -88.02661}\n",
      "SERVICE_END NU 11725.7 {'lat': 42.131924, 'lng': -88.02661}\n",
      "DEPART NU 11725.7 {'lat': 42.131924, 'lng': -88.02661}\n",
      "ARRIVE ZQ 11747.2 {'lat': 42.132458, 'lng': -88.027574}\n",
      "SERVICE_START ZQ 11747.2 {'lat': 42.132458, 'lng': -88.027574}\n",
      "SERVICE_END ZQ 11809.2 {'lat': 42.132458, 'lng': -88.027574}\n",
      "DEPART ZQ 11809.2 {'lat': 42.132458, 'lng': -88.027574}\n",
      "ARRIVE OF 11857.5 {'lat': 42.131976, 'lng': -88.031215}\n",
      "SERVICE_START OF 11857.5 {'lat': 42.131976, 'lng': -88.031215}\n",
      "SERVICE_END OF 11897.2 {'lat': 42.131976, 'lng': -88.031215}\n",
      "DEPART OF 11897.2 {'lat': 42.131976, 'lng': -88.031215}\n",
      "ARRIVE IK 11929.1 {'lat': 42.131686, 'lng': -88.02858}\n",
      "SERVICE_START IK 11929.1 {'lat': 42.131686, 'lng': -88.02858}\n",
      "SERVICE_END IK 11995.1 {'lat': 42.131686, 'lng': -88.02858}\n",
      "LOAD_START IK 11995.1 {'lat': 42.131686, 'lng': -88.02858}\n",
      "LOAD_START IK 11995.1 {'lat': 42.131686, 'lng': -88.02858}\n",
      "LOAD_END IK 12010.1 {'lat': 42.131686, 'lng': -88.02858}\n",
      "ARRIVE XF 12056.5 {'lat': 42.131001, 'lng': -88.027127}\n",
      "SERVICE_START XF 12056.5 {'lat': 42.131001, 'lng': -88.027127}\n",
      "SERVICE_END XF 12118.5 {'lat': 42.131001, 'lng': -88.027127}\n",
      "DEPART XF 12118.5 {'lat': 42.131001, 'lng': -88.027127}\n",
      "ARRIVE TW 12153.2 {'lat': 42.131001, 'lng': -88.024676}\n",
      "SERVICE_START TW 12153.2 {'lat': 42.131001, 'lng': -88.024676}\n",
      "SERVICE_END TW 12197.7 {'lat': 42.131001, 'lng': -88.024676}\n",
      "LOAD_START TW 12197.7 {'lat': 42.131001, 'lng': -88.024676}\n",
      "LOAD_START TW 12197.7 {'lat': 42.131001, 'lng': -88.024676}\n",
      "LOAD_END TW 12212.7 {'lat': 42.131001, 'lng': -88.024676}\n",
      "ARRIVE BA 12274.5 {'lat': 42.130132, 'lng': -88.026442}\n",
      "SERVICE_START BA 12274.5 {'lat': 42.130132, 'lng': -88.026442}\n",
      "SERVICE_END BA 12338.5 {'lat': 42.130132, 'lng': -88.026442}\n",
      "DEPART BA 12338.5 {'lat': 42.130132, 'lng': -88.026442}\n",
      "ARRIVE CM 12395.9 {'lat': 42.128781, 'lng': -88.024088}\n",
      "SERVICE_START CM 12395.9 {'lat': 42.128781, 'lng': -88.024088}\n",
      "SERVICE_END CM 12441.9 {'lat': 42.128781, 'lng': -88.024088}\n",
      "DEPART CM 12441.9 {'lat': 42.128781, 'lng': -88.024088}\n",
      "ARRIVE ER 12464.5 {'lat': 42.127062, 'lng': -88.024085}\n",
      "SERVICE_START ER 12464.5 {'lat': 42.127062, 'lng': -88.024085}\n",
      "SERVICE_END ER 12526.0 {'lat': 42.127062, 'lng': -88.024085}\n",
      "DEPART ER 12526.0 {'lat': 42.127062, 'lng': -88.024085}\n",
      "ARRIVE UO 12544.2 {'lat': 42.126468, 'lng': -88.024692}\n",
      "SERVICE_START UO 12544.2 {'lat': 42.126468, 'lng': -88.024692}\n",
      "SERVICE_END UO 12614.7 {'lat': 42.126468, 'lng': -88.024692}\n",
      "DEPART UO 12614.7 {'lat': 42.126468, 'lng': -88.024692}\n",
      "ARRIVE TH 12663.8 {'lat': 42.128549, 'lng': -88.025863}\n",
      "SERVICE_START TH 12663.8 {'lat': 42.128549, 'lng': -88.025863}\n",
      "SERVICE_END TH 12729.8 {'lat': 42.128549, 'lng': -88.025863}\n",
      "DEPART TH 12729.8 {'lat': 42.128549, 'lng': -88.025863}\n",
      "ARRIVE AH 12791.9 {'lat': 42.129085, 'lng': -88.027485}\n",
      "SERVICE_START AH 12791.9 {'lat': 42.129085, 'lng': -88.027485}\n",
      "SERVICE_END AH 12869.9 {'lat': 42.129085, 'lng': -88.027485}\n",
      "LOAD_START AH 12869.9 {'lat': 42.129085, 'lng': -88.027485}\n",
      "LOAD_START AH 12869.9 {'lat': 42.129085, 'lng': -88.027485}\n",
      "LOAD_END AH 12884.9 {'lat': 42.129085, 'lng': -88.027485}\n",
      "ARRIVE SO 12945.8 {'lat': 42.126695, 'lng': -88.026331}\n",
      "SERVICE_START SO 12945.8 {'lat': 42.126695, 'lng': -88.026331}\n",
      "SERVICE_END SO 13003.8 {'lat': 42.126695, 'lng': -88.026331}\n",
      "DEPART SO 13003.8 {'lat': 42.126695, 'lng': -88.026331}\n",
      "ARRIVE KG 13040.9 {'lat': 42.127031, 'lng': -88.027461}\n",
      "SERVICE_START KG 13040.9 {'lat': 42.127031, 'lng': -88.027461}\n",
      "SERVICE_END KG 13104.9 {'lat': 42.127031, 'lng': -88.027461}\n",
      "DEPART KG 13104.9 {'lat': 42.127031, 'lng': -88.027461}\n",
      "ARRIVE HG 13120.5 {'lat': 42.127862, 'lng': -88.027852}\n",
      "SERVICE_START HG 13120.5 {'lat': 42.127862, 'lng': -88.027852}\n",
      "SERVICE_END HG 13158.5 {'lat': 42.127862, 'lng': -88.027852}\n",
      "DEPART HG 13158.5 {'lat': 42.127862, 'lng': -88.027852}\n",
      "ARRIVE MM 13193.6 {'lat': 42.129266, 'lng': -88.028331}\n",
      "SERVICE_START MM 13193.6 {'lat': 42.129266, 'lng': -88.028331}\n",
      "SERVICE_END MM 13219.6 {'lat': 42.129266, 'lng': -88.028331}\n",
      "DEPART MM 13219.6 {'lat': 42.129266, 'lng': -88.028331}\n",
      "ARRIVE GC 13273.8 {'lat': 42.129273, 'lng': -88.03261}\n",
      "SERVICE_START GC 13273.8 {'lat': 42.129273, 'lng': -88.03261}\n",
      "SERVICE_END GC 13371.3 {'lat': 42.129273, 'lng': -88.03261}\n",
      "LOAD_START GC 13371.3 {'lat': 42.129273, 'lng': -88.03261}\n",
      "LOAD_START GC 13371.3 {'lat': 42.129273, 'lng': -88.03261}\n",
      "LOAD_END GC 13386.3 {'lat': 42.129273, 'lng': -88.03261}\n",
      "ARRIVE FR 13472.9 {'lat': 42.126545, 'lng': -88.032303}\n",
      "SERVICE_START FR 13472.9 {'lat': 42.126545, 'lng': -88.032303}\n",
      "SERVICE_END FR 13518.6 {'lat': 42.126545, 'lng': -88.032303}\n",
      "DEPART FR 13518.6 {'lat': 42.126545, 'lng': -88.032303}\n",
      "ARRIVE SM 13528.9 {'lat': 42.126553, 'lng': -88.03307}\n",
      "SERVICE_START SM 13528.9 {'lat': 42.126553, 'lng': -88.03307}\n",
      "SERVICE_END SM 13564.2 {'lat': 42.126553, 'lng': -88.03307}\n",
      "DEPART SM 13564.2 {'lat': 42.126553, 'lng': -88.03307}\n",
      "ARRIVE YB 13639.0 {'lat': 42.127935, 'lng': -88.035247}\n",
      "SERVICE_START YB 13639.0 {'lat': 42.127935, 'lng': -88.035247}\n",
      "SERVICE_END YB 13705.0 {'lat': 42.127935, 'lng': -88.035247}\n",
      "LOAD_START YB 13705.0 {'lat': 42.127935, 'lng': -88.035247}\n",
      "LOAD_START YB 13705.0 {'lat': 42.127935, 'lng': -88.035247}\n",
      "LOAD_END YB 13720.0 {'lat': 42.127935, 'lng': -88.035247}\n",
      "ARRIVE RD 13772.2 {'lat': 42.126501, 'lng': -88.036894}\n",
      "SERVICE_START RD 13772.2 {'lat': 42.126501, 'lng': -88.036894}\n",
      "SERVICE_END RD 13836.2 {'lat': 42.126501, 'lng': -88.036894}\n",
      "LOAD_START RD 13836.2 {'lat': 42.126501, 'lng': -88.036894}\n",
      "LOAD_START RD 13836.2 {'lat': 42.126501, 'lng': -88.036894}\n",
      "LOAD_END RD 13851.2 {'lat': 42.126501, 'lng': -88.036894}\n",
      "ARRIVE BL 13901.8 {'lat': 42.125669, 'lng': -88.035269}\n",
      "SERVICE_START BL 13901.8 {'lat': 42.125669, 'lng': -88.035269}\n",
      "SERVICE_END BL 13973.8 {'lat': 42.125669, 'lng': -88.035269}\n",
      "DEPART BL 13973.8 {'lat': 42.125669, 'lng': -88.035269}\n",
      "ARRIVE MU 14055.3 {'lat': 42.123879, 'lng': -88.033107}\n",
      "SERVICE_START MU 14055.3 {'lat': 42.123879, 'lng': -88.033107}\n",
      "SERVICE_END MU 14124.3 {'lat': 42.123879, 'lng': -88.033107}\n",
      "DEPART MU 14124.3 {'lat': 42.123879, 'lng': -88.033107}\n",
      "ARRIVE AY 14150.0 {'lat': 42.123379, 'lng': -88.032213}\n",
      "SERVICE_START AY 14150.0 {'lat': 42.123379, 'lng': -88.032213}\n",
      "SERVICE_END AY 14219.7 {'lat': 42.123379, 'lng': -88.032213}\n",
      "LOAD_START AY 14219.7 {'lat': 42.123379, 'lng': -88.032213}\n",
      "LOAD_START AY 14219.7 {'lat': 42.123379, 'lng': -88.032213}\n",
      "LOAD_END AY 14234.7 {'lat': 42.123379, 'lng': -88.032213}\n",
      "ARRIVE NV 14376.6 {'lat': 42.122188, 'lng': -88.033265}\n",
      "SERVICE_START NV 14376.6 {'lat': 42.122188, 'lng': -88.033265}\n",
      "SERVICE_END NV 14494.6 {'lat': 42.122188, 'lng': -88.033265}\n",
      "DEPART NV 14494.6 {'lat': 42.122188, 'lng': -88.033265}\n",
      "ARRIVE SS 14569.2 {'lat': 42.120547, 'lng': -88.030685}\n",
      "SERVICE_START SS 14569.2 {'lat': 42.120547, 'lng': -88.030685}\n",
      "SERVICE_END SS 14617.2 {'lat': 42.120547, 'lng': -88.030685}\n",
      "DEPART SS 14617.2 {'lat': 42.120547, 'lng': -88.030685}\n",
      "ARRIVE UG 14637.3 {'lat': 42.119086, 'lng': -88.03069}\n",
      "SERVICE_START UG 14637.3 {'lat': 42.119086, 'lng': -88.03069}\n",
      "SERVICE_END UG 14720.3 {'lat': 42.119086, 'lng': -88.03069}\n",
      "LOAD_START UG 14720.3 {'lat': 42.119086, 'lng': -88.03069}\n",
      "LOAD_START UG 14720.3 {'lat': 42.119086, 'lng': -88.03069}\n",
      "LOAD_END UG 14735.3 {'lat': 42.119086, 'lng': -88.03069}\n",
      "ARRIVE SI 14807.3 {'lat': 42.122376, 'lng': -88.029899}\n",
      "SERVICE_START SI 14807.3 {'lat': 42.122376, 'lng': -88.029899}\n",
      "SERVICE_END SI 14876.3 {'lat': 42.122376, 'lng': -88.029899}\n",
      "LOAD_START SI 14876.3 {'lat': 42.122376, 'lng': -88.029899}\n",
      "LOAD_START SI 14876.3 {'lat': 42.122376, 'lng': -88.029899}\n",
      "LOAD_END SI 14891.3 {'lat': 42.122376, 'lng': -88.029899}\n",
      "ARRIVE NR 14951.4 {'lat': 42.124233, 'lng': -88.029766}\n",
      "SERVICE_START NR 14951.4 {'lat': 42.124233, 'lng': -88.029766}\n",
      "SERVICE_END NR 15003.4 {'lat': 42.124233, 'lng': -88.029766}\n",
      "DEPART NR 15003.4 {'lat': 42.124233, 'lng': -88.029766}\n",
      "ARRIVE RU 15013.4 {'lat': 42.124254, 'lng': -88.030676}\n",
      "SERVICE_START RU 15013.4 {'lat': 42.124254, 'lng': -88.030676}\n",
      "SERVICE_END RU 15060.4 {'lat': 42.124254, 'lng': -88.030676}\n",
      "LOAD_START RU 15060.4 {'lat': 42.124254, 'lng': -88.030676}\n",
      "LOAD_START RU 15060.4 {'lat': 42.124254, 'lng': -88.030676}\n",
      "LOAD_END RU 15075.4 {'lat': 42.124254, 'lng': -88.030676}\n",
      "ARRIVE RH 15171.3 {'lat': 42.122974, 'lng': -88.03483}\n",
      "SERVICE_START RH 15171.3 {'lat': 42.122974, 'lng': -88.03483}\n",
      "SERVICE_END RH 15314.3 {'lat': 42.122974, 'lng': -88.03483}\n",
      "DEPART RH 15314.3 {'lat': 42.122974, 'lng': -88.03483}\n",
      "ARRIVE MF 15333.8 {'lat': 42.122625, 'lng': -88.035043}\n",
      "SERVICE_START MF 15333.8 {'lat': 42.122625, 'lng': -88.035043}\n",
      "SERVICE_END MF 15585.8 {'lat': 42.122625, 'lng': -88.035043}\n",
      "DEPART MF 15585.8 {'lat': 42.122625, 'lng': -88.035043}\n",
      "ARRIVE IX 15723.8 {'lat': 42.121971, 'lng': -88.03801}\n",
      "SERVICE_START IX 15723.8 {'lat': 42.121971, 'lng': -88.03801}\n",
      "SERVICE_END IX 15788.6 {'lat': 42.121971, 'lng': -88.03801}\n",
      "DEPART IX 15788.6 {'lat': 42.121971, 'lng': -88.03801}\n",
      "ARRIVE FU 16065.9 {'lat': 42.115862, 'lng': -88.031135}\n",
      "SERVICE_START FU 16065.9 {'lat': 42.115862, 'lng': -88.031135}\n",
      "SERVICE_END FU 16104.4 {'lat': 42.115862, 'lng': -88.031135}\n",
      "DEPART FU 16104.4 {'lat': 42.115862, 'lng': -88.031135}\n",
      "ARRIVE OD 16131.1 {'lat': 42.114927, 'lng': -88.031544}\n",
      "SERVICE_START OD 16131.1 {'lat': 42.114927, 'lng': -88.031544}\n",
      "SERVICE_END OD 16223.1 {'lat': 42.114927, 'lng': -88.031544}\n",
      "DEPART OD 16223.1 {'lat': 42.114927, 'lng': -88.031544}\n",
      "ARRIVE DM 16245.9 {'lat': 42.114245, 'lng': -88.03114}\n",
      "SERVICE_START DM 16245.9 {'lat': 42.114245, 'lng': -88.03114}\n",
      "SERVICE_END DM 16305.9 {'lat': 42.114245, 'lng': -88.03114}\n",
      "LOAD_START DM 16305.9 {'lat': 42.114245, 'lng': -88.03114}\n",
      "LOAD_START DM 16305.9 {'lat': 42.114245, 'lng': -88.03114}\n",
      "LOAD_END DM 16320.9 {'lat': 42.114245, 'lng': -88.03114}\n",
      "ARRIVE IP 16406.2 {'lat': 42.112055, 'lng': -88.029714}\n",
      "SERVICE_START IP 16406.2 {'lat': 42.112055, 'lng': -88.029714}\n",
      "SERVICE_END IP 16455.2 {'lat': 42.112055, 'lng': -88.029714}\n",
      "DEPART IP 16455.2 {'lat': 42.112055, 'lng': -88.029714}\n",
      "ARRIVE KS 16488.2 {'lat': 42.112593, 'lng': -88.029043}\n",
      "SERVICE_START KS 16488.2 {'lat': 42.112593, 'lng': -88.029043}\n",
      "SERVICE_END KS 16565.9 {'lat': 42.112593, 'lng': -88.029043}\n",
      "DEPART KS 16565.9 {'lat': 42.112593, 'lng': -88.029043}\n",
      "ARRIVE VH 16623.5 {'lat': 42.113414, 'lng': -88.027425}\n",
      "SERVICE_START VH 16623.5 {'lat': 42.113414, 'lng': -88.027425}\n",
      "SERVICE_END VH 16741.5 {'lat': 42.113414, 'lng': -88.027425}\n",
      "LOAD_START VH 16741.5 {'lat': 42.113414, 'lng': -88.027425}\n",
      "LOAD_START VH 16741.5 {'lat': 42.113414, 'lng': -88.027425}\n",
      "LOAD_END VH 16756.5 {'lat': 42.113414, 'lng': -88.027425}\n",
      "ARRIVE HA 16830.4 {'lat': 42.109572, 'lng': -88.027437}\n",
      "SERVICE_START HA 16830.4 {'lat': 42.109572, 'lng': -88.027437}\n",
      "SERVICE_END HA 16945.4 {'lat': 42.109572, 'lng': -88.027437}\n",
      "DEPART HA 16945.4 {'lat': 42.109572, 'lng': -88.027437}\n",
      "ARRIVE EF 17039.6 {'lat': 42.109579, 'lng': -88.0217}\n",
      "SERVICE_START EF 17039.6 {'lat': 42.109579, 'lng': -88.0217}\n",
      "SERVICE_END EF 17090.1 {'lat': 42.109579, 'lng': -88.0217}\n",
      "LOAD_START EF 17090.1 {'lat': 42.109579, 'lng': -88.0217}\n",
      "LOAD_START EF 17090.1 {'lat': 42.109579, 'lng': -88.0217}\n",
      "LOAD_END EF 17105.1 {'lat': 42.109579, 'lng': -88.0217}\n",
      "ARRIVE ON 17211.4 {'lat': 42.107027, 'lng': -88.020213}\n",
      "SERVICE_START ON 17211.4 {'lat': 42.107027, 'lng': -88.020213}\n",
      "SERVICE_END ON 17264.4 {'lat': 42.107027, 'lng': -88.020213}\n",
      "DEPART ON 17264.4 {'lat': 42.107027, 'lng': -88.020213}\n",
      "ARRIVE GZ 17382.8 {'lat': 42.108395, 'lng': -88.022737}\n",
      "SERVICE_START GZ 17382.8 {'lat': 42.108395, 'lng': -88.022737}\n",
      "SERVICE_END GZ 17439.8 {'lat': 42.108395, 'lng': -88.022737}\n",
      "DEPART GZ 17439.8 {'lat': 42.108395, 'lng': -88.022737}\n",
      "ARRIVE UI 17478.4 {'lat': 42.109334, 'lng': -88.024165}\n",
      "SERVICE_START UI 17478.4 {'lat': 42.109334, 'lng': -88.024165}\n",
      "SERVICE_END UI 17611.4 {'lat': 42.109334, 'lng': -88.024165}\n",
      "DEPART UI 17611.4 {'lat': 42.109334, 'lng': -88.024165}\n",
      "ARRIVE YA 17646.3 {'lat': 42.111391, 'lng': -88.02416}\n",
      "SERVICE_START YA 17646.3 {'lat': 42.111391, 'lng': -88.02416}\n",
      "SERVICE_END YA 17725.3 {'lat': 42.111391, 'lng': -88.02416}\n",
      "DEPART YA 17725.3 {'lat': 42.111391, 'lng': -88.02416}\n",
      "ARRIVE UF 17790.7 {'lat': 42.112436, 'lng': -88.025802}\n",
      "SERVICE_START UF 17790.7 {'lat': 42.112436, 'lng': -88.025802}\n",
      "SERVICE_END UF 17879.7 {'lat': 42.112436, 'lng': -88.025802}\n",
      "LOAD_START UF 17879.7 {'lat': 42.112436, 'lng': -88.025802}\n",
      "LOAD_START UF 17879.7 {'lat': 42.112436, 'lng': -88.025802}\n",
      "LOAD_END UF 17894.7 {'lat': 42.112436, 'lng': -88.025802}\n",
      "ARRIVE GU 17994.9 {'lat': 42.107336, 'lng': -88.025808}\n",
      "SERVICE_START GU 17994.9 {'lat': 42.107336, 'lng': -88.025808}\n",
      "SERVICE_END GU 18068.9 {'lat': 42.107336, 'lng': -88.025808}\n",
      "DEPART GU 18068.9 {'lat': 42.107336, 'lng': -88.025808}\n",
      "ARRIVE FK 18094.1 {'lat': 42.105925, 'lng': -88.025797}\n",
      "SERVICE_START FK 18094.1 {'lat': 42.105925, 'lng': -88.025797}\n",
      "SERVICE_END FK 18164.1 {'lat': 42.105925, 'lng': -88.025797}\n",
      "DEPART FK 18164.1 {'lat': 42.105925, 'lng': -88.025797}\n",
      "ARRIVE ZL 18175.7 {'lat': 42.105136, 'lng': -88.025792}\n",
      "SERVICE_START ZL 18175.7 {'lat': 42.105136, 'lng': -88.025792}\n",
      "SERVICE_END ZL 18241.7 {'lat': 42.105136, 'lng': -88.025792}\n",
      "DEPART ZL 18241.7 {'lat': 42.105136, 'lng': -88.025792}\n",
      "ARRIVE WY 18299.2 {'lat': 42.106359, 'lng': -88.027433}\n",
      "SERVICE_START WY 18299.2 {'lat': 42.106359, 'lng': -88.027433}\n",
      "SERVICE_END WY 18369.2 {'lat': 42.106359, 'lng': -88.027433}\n",
      "DEPART WY 18369.2 {'lat': 42.106359, 'lng': -88.027433}\n",
      "ARRIVE XK 18383.4 {'lat': 42.107244, 'lng': -88.027437}\n",
      "SERVICE_START XK 18383.4 {'lat': 42.107244, 'lng': -88.027437}\n",
      "SERVICE_END XK 18542.4 {'lat': 42.107244, 'lng': -88.027437}\n",
      "DEPART XK 18542.4 {'lat': 42.107244, 'lng': -88.027437}\n",
      "ARRIVE FD 18604.5 {'lat': 42.107767, 'lng': -88.029074}\n",
      "SERVICE_START FD 18604.5 {'lat': 42.107767, 'lng': -88.029074}\n",
      "SERVICE_END FD 18657.5 {'lat': 42.107767, 'lng': -88.029074}\n",
      "DEPART FD 18657.5 {'lat': 42.107767, 'lng': -88.029074}\n",
      "ARRIVE GY 18681.3 {'lat': 42.108913, 'lng': -88.02907}\n",
      "SERVICE_START GY 18681.3 {'lat': 42.108913, 'lng': -88.02907}\n",
      "SERVICE_END GY 18752.3 {'lat': 42.108913, 'lng': -88.02907}\n",
      "DEPART GY 18752.3 {'lat': 42.108913, 'lng': -88.02907}\n",
      "ARRIVE RO 18797.4 {'lat': 42.108819, 'lng': -88.030698}\n",
      "SERVICE_START RO 18797.4 {'lat': 42.108819, 'lng': -88.030698}\n",
      "SERVICE_END RO 18902.4 {'lat': 42.108819, 'lng': -88.030698}\n",
      "DEPART RO 18902.4 {'lat': 42.108819, 'lng': -88.030698}\n",
      "ARRIVE UR 18912.9 {'lat': 42.108287, 'lng': -88.030702}\n",
      "SERVICE_START UR 18912.9 {'lat': 42.108287, 'lng': -88.030702}\n",
      "SERVICE_END UR 18996.9 {'lat': 42.108287, 'lng': -88.030702}\n",
      "DEPART UR 18996.9 {'lat': 42.108287, 'lng': -88.030702}\n",
      "ARRIVE BC 19071.9 {'lat': 42.107161, 'lng': -88.032347}\n",
      "SERVICE_START BC 19071.9 {'lat': 42.107161, 'lng': -88.032347}\n",
      "SERVICE_END BC 19109.6 {'lat': 42.107161, 'lng': -88.032347}\n",
      "LOAD_START BC 19109.6 {'lat': 42.107161, 'lng': -88.032347}\n",
      "LOAD_START BC 19109.6 {'lat': 42.107161, 'lng': -88.032347}\n",
      "LOAD_END BC 19124.6 {'lat': 42.107161, 'lng': -88.032347}\n",
      "ARRIVE CH 19170.6 {'lat': 42.109444, 'lng': -88.032333}\n",
      "SERVICE_START CH 19170.6 {'lat': 42.109444, 'lng': -88.032333}\n",
      "SERVICE_END CH 19234.6 {'lat': 42.109444, 'lng': -88.032333}\n",
      "DEPART CH 19234.6 {'lat': 42.109444, 'lng': -88.032333}\n",
      "ARRIVE WO 19270.4 {'lat': 42.110255, 'lng': -88.029854}\n",
      "SERVICE_START WO 19270.4 {'lat': 42.110255, 'lng': -88.029854}\n",
      "SERVICE_END WO 19385.4 {'lat': 42.110255, 'lng': -88.029854}\n",
      "DEPART WO 19385.4 {'lat': 42.110255, 'lng': -88.029854}\n",
      "ARRIVE EC 19471.5 {'lat': 42.110313, 'lng': -88.037638}\n",
      "SERVICE_START EC 19471.5 {'lat': 42.110313, 'lng': -88.037638}\n",
      "SERVICE_END EC 19555.5 {'lat': 42.110313, 'lng': -88.037638}\n",
      "DEPART EC 19555.5 {'lat': 42.110313, 'lng': -88.037638}\n",
      "ARRIVE IF 19579.8 {'lat': 42.109819, 'lng': -88.03641}\n",
      "SERVICE_START IF 19579.8 {'lat': 42.109819, 'lng': -88.03641}\n",
      "SERVICE_END IF 19695.8 {'lat': 42.109819, 'lng': -88.03641}\n",
      "DEPART IF 19695.8 {'lat': 42.109819, 'lng': -88.03641}\n",
      "ARRIVE BS 19712.1 {'lat': 42.10896, 'lng': -88.03641}\n",
      "SERVICE_START BS 19712.1 {'lat': 42.10896, 'lng': -88.03641}\n",
      "SERVICE_END BS 19763.1 {'lat': 42.10896, 'lng': -88.03641}\n",
      "DEPART BS 19763.1 {'lat': 42.10896, 'lng': -88.03641}\n",
      "ARRIVE EU 19795.8 {'lat': 42.108656, 'lng': -88.037391}\n",
      "SERVICE_START EU 19795.8 {'lat': 42.108656, 'lng': -88.037391}\n",
      "SERVICE_END EU 19884.8 {'lat': 42.108656, 'lng': -88.037391}\n",
      "DEPART EU 19884.8 {'lat': 42.108656, 'lng': -88.037391}\n",
      "ARRIVE AU 19915.5 {'lat': 42.107882, 'lng': -88.035445}\n",
      "SERVICE_START AU 19915.5 {'lat': 42.107882, 'lng': -88.035445}\n",
      "SERVICE_END AU 19948.5 {'lat': 42.107882, 'lng': -88.035445}\n",
      "LOAD_START AU 19948.5 {'lat': 42.107882, 'lng': -88.035445}\n",
      "LOAD_START AU 19948.5 {'lat': 42.107882, 'lng': -88.035445}\n",
      "LOAD_END AU 19963.5 {'lat': 42.107882, 'lng': -88.035445}\n",
      "ARRIVE YS 20136.7 {'lat': 42.109283, 'lng': -88.038294}\n",
      "SERVICE_START YS 20136.7 {'lat': 42.109283, 'lng': -88.038294}\n",
      "SERVICE_END YS 20272.7 {'lat': 42.109283, 'lng': -88.038294}\n",
      "DEPART YS 20272.7 {'lat': 42.109283, 'lng': -88.038294}\n",
      "ARRIVE VX 20328.0 {'lat': 42.110246, 'lng': -88.038667}\n",
      "SERVICE_START VX 20328.0 {'lat': 42.110246, 'lng': -88.038667}\n",
      "SERVICE_END VX 20422.0 {'lat': 42.110246, 'lng': -88.038667}\n",
      "DEPART VX 20422.0 {'lat': 42.110246, 'lng': -88.038667}\n",
      "ARRIVE XP 20444.6 {'lat': 42.110331, 'lng': -88.039213}\n",
      "SERVICE_START XP 20444.6 {'lat': 42.110331, 'lng': -88.039213}\n",
      "SERVICE_END XP 20502.6 {'lat': 42.110331, 'lng': -88.039213}\n",
      "LOAD_START XP 20502.6 {'lat': 42.110331, 'lng': -88.039213}\n",
      "LOAD_START XP 20502.6 {'lat': 42.110331, 'lng': -88.039213}\n",
      "LOAD_END XP 20517.6 {'lat': 42.110331, 'lng': -88.039213}\n",
      "ARRIVE DQ 20575.4 {'lat': 42.111254, 'lng': -88.040606}\n",
      "SERVICE_START DQ 20575.4 {'lat': 42.111254, 'lng': -88.040606}\n",
      "SERVICE_END DQ 20625.4 {'lat': 42.111254, 'lng': -88.040606}\n",
      "DEPART DQ 20625.4 {'lat': 42.111254, 'lng': -88.040606}\n",
      "ARRIVE LD 20656.4 {'lat': 42.11103, 'lng': -88.04133}\n",
      "SERVICE_START LD 20656.4 {'lat': 42.11103, 'lng': -88.04133}\n",
      "SERVICE_END LD 20692.9 {'lat': 42.11103, 'lng': -88.04133}\n",
      "DEPART LD 20692.9 {'lat': 42.11103, 'lng': -88.04133}\n",
      "ARRIVE QN 20705.4 {'lat': 42.111796, 'lng': -88.04132}\n",
      "SERVICE_START QN 20705.4 {'lat': 42.111796, 'lng': -88.04132}\n",
      "SERVICE_END QN 20785.4 {'lat': 42.111796, 'lng': -88.04132}\n",
      "LOAD_START QN 20785.4 {'lat': 42.111796, 'lng': -88.04132}\n",
      "LOAD_START QN 20785.4 {'lat': 42.111796, 'lng': -88.04132}\n",
      "LOAD_END QN 20800.4 {'lat': 42.111796, 'lng': -88.04132}\n",
      "ARRIVE JZ 20837.3 {'lat': 42.113782, 'lng': -88.04132}\n",
      "SERVICE_START JZ 20837.3 {'lat': 42.113782, 'lng': -88.04132}\n",
      "SERVICE_END JZ 20896.3 {'lat': 42.113782, 'lng': -88.04132}\n",
      "DEPART JZ 20896.3 {'lat': 42.113782, 'lng': -88.04132}\n",
      "ARRIVE HU 20946.8 {'lat': 42.113068, 'lng': -88.039517}\n",
      "SERVICE_START HU 20946.8 {'lat': 42.113068, 'lng': -88.039517}\n",
      "SERVICE_END HU 20990.8 {'lat': 42.113068, 'lng': -88.039517}\n",
      "LOAD_START HU 20990.8 {'lat': 42.113068, 'lng': -88.039517}\n",
      "LOAD_START HU 20990.8 {'lat': 42.113068, 'lng': -88.039517}\n",
      "LOAD_END HU 21005.8 {'lat': 42.113068, 'lng': -88.039517}\n",
      "ARRIVE VL 21084.9 {'lat': 42.113638, 'lng': -88.043764}\n",
      "SERVICE_START VL 21084.9 {'lat': 42.113638, 'lng': -88.043764}\n",
      "SERVICE_END VL 21156.9 {'lat': 42.113638, 'lng': -88.043764}\n",
      "DEPART VL 21156.9 {'lat': 42.113638, 'lng': -88.043764}\n",
      "ARRIVE ZH 21206.3 {'lat': 42.114383, 'lng': -88.042536}\n",
      "SERVICE_START ZH 21206.3 {'lat': 42.114383, 'lng': -88.042536}\n",
      "SERVICE_END ZH 21277.3 {'lat': 42.114383, 'lng': -88.042536}\n",
      "DEPART ZH 21277.3 {'lat': 42.114383, 'lng': -88.042536}\n",
      "ARRIVE DS 21371.6 {'lat': 42.116969, 'lng': -88.042539}\n",
      "SERVICE_START DS 21371.6 {'lat': 42.116969, 'lng': -88.042539}\n",
      "SERVICE_END DS 21434.6 {'lat': 42.116969, 'lng': -88.042539}\n",
      "LOAD_START DS 21434.6 {'lat': 42.116969, 'lng': -88.042539}\n",
      "LOAD_START DS 21434.6 {'lat': 42.116969, 'lng': -88.042539}\n",
      "LOAD_END DS 21449.6 {'lat': 42.116969, 'lng': -88.042539}\n",
      "ARRIVE MI 21572.1 {'lat': 42.116606, 'lng': -88.0413}\n",
      "SERVICE_START MI 21572.1 {'lat': 42.116606, 'lng': -88.0413}\n",
      "SERVICE_END MI 21684.1 {'lat': 42.116606, 'lng': -88.0413}\n",
      "LOAD_START MI 21684.1 {'lat': 42.116606, 'lng': -88.0413}\n",
      "LOAD_START MI 21684.1 {'lat': 42.116606, 'lng': -88.0413}\n",
      "LOAD_END MI 21699.1 {'lat': 42.116606, 'lng': -88.0413}\n",
      "ARRIVE WV 21779.9 {'lat': 42.115201, 'lng': -88.038798}\n",
      "SERVICE_START WV 21779.9 {'lat': 42.115201, 'lng': -88.038798}\n",
      "SERVICE_END WV 21809.2 {'lat': 42.115201, 'lng': -88.038798}\n",
      "LOAD_START WV 21809.2 {'lat': 42.115201, 'lng': -88.038798}\n",
      "LOAD_START WV 21809.2 {'lat': 42.115201, 'lng': -88.038798}\n",
      "LOAD_END WV 21824.2 {'lat': 42.115201, 'lng': -88.038798}\n",
      "ARRIVE BK 21888.8 {'lat': 42.114021, 'lng': -88.0364}\n",
      "SERVICE_START BK 21888.8 {'lat': 42.114021, 'lng': -88.0364}\n",
      "SERVICE_END BK 22035.8 {'lat': 42.114021, 'lng': -88.0364}\n",
      "DEPART BK 22035.8 {'lat': 42.114021, 'lng': -88.0364}\n",
      "ARRIVE QI 22079.1 {'lat': 42.116358, 'lng': -88.036406}\n",
      "SERVICE_START QI 22079.1 {'lat': 42.116358, 'lng': -88.036406}\n",
      "SERVICE_END QI 22159.1 {'lat': 42.116358, 'lng': -88.036406}\n",
      "DEPART QI 22159.1 {'lat': 42.116358, 'lng': -88.036406}\n",
      "ARRIVE XH 22230.0 {'lat': 42.11625, 'lng': -88.035184}\n",
      "SERVICE_START XH 22230.0 {'lat': 42.11625, 'lng': -88.035184}\n",
      "SERVICE_END XH 22272.0 {'lat': 42.11625, 'lng': -88.035184}\n",
      "DEPART XH 22272.0 {'lat': 42.11625, 'lng': -88.035184}\n",
      "ARRIVE JN 22280.8 {'lat': 42.115827, 'lng': -88.035189}\n",
      "SERVICE_START JN 22280.8 {'lat': 42.115827, 'lng': -88.035189}\n",
      "SERVICE_END JN 22306.8 {'lat': 42.115827, 'lng': -88.035189}\n",
      "DEPART JN 22306.8 {'lat': 42.115827, 'lng': -88.035189}\n",
      "ARRIVE YV 22342.1 {'lat': 42.114226, 'lng': -88.035188}\n",
      "SERVICE_START YV 22342.1 {'lat': 42.114226, 'lng': -88.035188}\n",
      "SERVICE_END YV 22369.1 {'lat': 42.114226, 'lng': -88.035188}\n",
      "DEPART YV 22369.1 {'lat': 42.114226, 'lng': -88.035188}\n",
      "ARRIVE HJ 24368.5 {'lat': 42.254346, 'lng': -87.985697}\n"
     ]
    }
   ],
   "source": [
    "test.print_vehicle_events()\n"
   ]
  },
  {
   "cell_type": "code",
   "execution_count": 128,
   "metadata": {},
   "outputs": [
    {
     "name": "stdout",
     "output_type": "stream",
     "text": [
      "DEPART HJ 0 {'lat': 42.254346, 'lng': -87.985697}\n",
      "ARRIVE YL 1559.0 {'lat': 42.150791, 'lng': -88.034969}\n",
      "ARRIVE WW 1784.9 {'lat': 42.144327, 'lng': -88.032939}\n",
      "ARRIVE VW 1872.5 {'lat': 42.144565, 'lng': -88.031799}\n",
      "ARRIVE JR 1972.8 {'lat': 42.145825, 'lng': -88.032302}\n",
      "ARRIVE SR 2071.2 {'lat': 42.145071, 'lng': -88.032181}\n",
      "ARRIVE WR 2219.1 {'lat': 42.14528, 'lng': -88.036679}\n",
      "ARRIVE JH 2300.7 {'lat': 42.145141, 'lng': -88.037819}\n",
      "ARRIVE JA 2369.6 {'lat': 42.145257, 'lng': -88.036115}\n",
      "ARRIVE CZ 2622.5 {'lat': 42.13368, 'lng': -88.033884}\n",
      "ARRIVE XB 2698.2 {'lat': 42.132907, 'lng': -88.036045}\n",
      "ARRIVE HE 2922.6 {'lat': 42.136914, 'lng': -88.031408}\n",
      "ARRIVE NE 3034.6 {'lat': 42.136569, 'lng': -88.031328}\n",
      "ARRIVE KO 3291.1 {'lat': 42.133809, 'lng': -88.036843}\n",
      "LOAD_END KO 3362.1 {'lat': 42.133809, 'lng': -88.036843}\n",
      "LAUNCH KO 3362.1 {'lat': 42.133809, 'lng': -88.036843}\n",
      "DRONE_DELIVERY_START QF 3383.5 {'lat': 42.134714, 'lng': -88.036178}\n",
      "DRONE_DELIVERY_END QF 3393.5 {'lat': 42.134714, 'lng': -88.036178}\n",
      "LAND SJ 3452.7 {'lat': 42.134729, 'lng': -88.03754}\n",
      "ARRIVE QA 3591.1 {'lat': 42.135592, 'lng': -88.040376}\n",
      "ARRIVE QC 3662.0 {'lat': 42.134457, 'lng': -88.039398}\n",
      "ARRIVE DC 3783.2 {'lat': 42.133645, 'lng': -88.039383}\n",
      "LOAD_END DC 3848.2 {'lat': 42.133645, 'lng': -88.039383}\n",
      "LAUNCH DC 3848.2 {'lat': 42.133645, 'lng': -88.039383}\n",
      "DRONE_DELIVERY_START PK 3898.3 {'lat': 42.136439, 'lng': -88.04007}\n",
      "DRONE_DELIVERY_END PK 3908.3 {'lat': 42.136439, 'lng': -88.04007}\n",
      "LAND LV 3943.2 {'lat': 42.134275, 'lng': -88.04063}\n",
      "ARRIVE XC 3984.5 {'lat': 42.133639, 'lng': -88.040635}\n",
      "LOAD_END XC 4066.5 {'lat': 42.133639, 'lng': -88.040635}\n",
      "LAUNCH XC 4066.5 {'lat': 42.133639, 'lng': -88.040635}\n",
      "DRONE_DELIVERY_START SN 4088.3 {'lat': 42.133052, 'lng': -88.041814}\n",
      "DRONE_DELIVERY_END SN 4098.3 {'lat': 42.133052, 'lng': -88.041814}\n",
      "LAND JP 4129.9 {'lat': 42.1343, 'lng': -88.041866}\n",
      "ARRIVE AV 4301.2 {'lat': 42.138752, 'lng': -88.041745}\n",
      "ARRIVE TP 4386.9 {'lat': 42.137919, 'lng': -88.041821}\n",
      "ARRIVE WH 4509.7 {'lat': 42.13765, 'lng': -88.04313}\n",
      "ARRIVE QV 4648.3 {'lat': 42.138865, 'lng': -88.04553}\n",
      "ARRIVE LQ 4720.3 {'lat': 42.1386, 'lng': -88.04553}\n",
      "ARRIVE VQ 4817.6 {'lat': 42.137251, 'lng': -88.04553}\n",
      "ARRIVE SH 4956.9 {'lat': 42.138579, 'lng': -88.044311}\n",
      "ARRIVE TA 5186.6 {'lat': 42.137793, 'lng': -88.052893}\n",
      "ARRIVE ZS 5267.5 {'lat': 42.137943, 'lng': -88.051665}\n",
      "ARRIVE QW 5488.7 {'lat': 42.138473, 'lng': -88.047033}\n",
      "ARRIVE WU 5627.0 {'lat': 42.138093, 'lng': -88.0485}\n",
      "ARRIVE YQ 5728.4 {'lat': 42.138326, 'lng': -88.049033}\n",
      "ARRIVE JM 5803.0 {'lat': 42.138841, 'lng': -88.049205}\n",
      "ARRIVE LW 6089.2 {'lat': 42.136177, 'lng': -88.051373}\n",
      "ARRIVE GR 6201.8 {'lat': 42.13703, 'lng': -88.052998}\n",
      "ARRIVE NL 6276.6 {'lat': 42.137252, 'lng': -88.052204}\n",
      "ARRIVE SC 6416.6 {'lat': 42.136992, 'lng': -88.04904}\n",
      "ARRIVE JD 6564.3 {'lat': 42.134427, 'lng': -88.049086}\n",
      "ARRIVE MZ 6660.8 {'lat': 42.133684, 'lng': -88.050275}\n",
      "LOAD_END MZ 6719.8 {'lat': 42.133684, 'lng': -88.050275}\n",
      "LAUNCH MZ 6719.8 {'lat': 42.133684, 'lng': -88.050275}\n",
      "DRONE_DELIVERY_START UA 6732.8 {'lat': 42.134087, 'lng': -88.049862}\n",
      "DRONE_DELIVERY_END UA 6742.8 {'lat': 42.134087, 'lng': -88.049862}\n",
      "LAND TQ 6827.8 {'lat': 42.135056, 'lng': -88.047056}\n",
      "ARRIVE RR 6927.4 {'lat': 42.13589, 'lng': -88.046189}\n",
      "ARRIVE ZX 7012.2 {'lat': 42.13498, 'lng': -88.045655}\n",
      "ARRIVE IS 7202.4 {'lat': 42.132521, 'lng': -88.049673}\n",
      "ARRIVE XJ 7384.2 {'lat': 42.13305, 'lng': -88.047733}\n",
      "ARRIVE WX 7506.1 {'lat': 42.134075, 'lng': -88.044372}\n",
      "LOAD_END WX 7579.1 {'lat': 42.134075, 'lng': -88.044372}\n",
      "LAUNCH WX 7579.1 {'lat': 42.134075, 'lng': -88.044372}\n",
      "DRONE_DELIVERY_START XQ 7637.1 {'lat': 42.13207, 'lng': -88.047957}\n",
      "DRONE_DELIVERY_END XQ 7647.1 {'lat': 42.13207, 'lng': -88.047957}\n",
      "LAND DT 7710.3 {'lat': 42.132063, 'lng': -88.042602}\n",
      "LOAD_END DT 7725.3 {'lat': 42.132063, 'lng': -88.042602}\n",
      "LAUNCH DT 7725.3 {'lat': 42.132063, 'lng': -88.042602}\n",
      "DRONE_DELIVERY_START SQ 7766.1 {'lat': 42.134282, 'lng': -88.043135}\n",
      "DRONE_DELIVERY_END SQ 7776.1 {'lat': 42.134282, 'lng': -88.043135}\n",
      "LAND OW 7786.1 {'lat': 42.133652, 'lng': -88.043142}\n",
      "LOAD_END OW 7853.4 {'lat': 42.133652, 'lng': -88.043142}\n",
      "LAUNCH OW 7853.4 {'lat': 42.133652, 'lng': -88.043142}\n",
      "DRONE_DELIVERY_START AK 7861.6 {'lat': 42.133454, 'lng': -88.043144}\n",
      "DRONE_DELIVERY_END AK 7871.6 {'lat': 42.133454, 'lng': -88.043144}\n",
      "LAND MA 7933.9 {'lat': 42.131008, 'lng': -88.04375}\n",
      "ARRIVE JC 8058.8 {'lat': 42.128874, 'lng': -88.042146}\n",
      "LOAD_END JC 8137.8 {'lat': 42.128874, 'lng': -88.042146}\n",
      "LAUNCH JC 8137.8 {'lat': 42.128874, 'lng': -88.042146}\n",
      "DRONE_DELIVERY_START ZO 8159.5 {'lat': 42.129748, 'lng': -88.042932}\n",
      "DRONE_DELIVERY_END ZO 8169.5 {'lat': 42.129748, 'lng': -88.042932}\n",
      "LAND YK 8236.2 {'lat': 42.129921, 'lng': -88.04139}\n",
      "ARRIVE YJ 8370.6 {'lat': 42.131093, 'lng': -88.042323}\n",
      "ARRIVE OH 8520.1 {'lat': 42.131737, 'lng': -88.04025}\n",
      "LOAD_END OH 8613.1 {'lat': 42.131737, 'lng': -88.04025}\n",
      "LAUNCH OH 8613.1 {'lat': 42.131737, 'lng': -88.04025}\n",
      "DRONE_DELIVERY_START GP 8632.3 {'lat': 42.131105, 'lng': -88.0394}\n",
      "DRONE_DELIVERY_END GP 8642.3 {'lat': 42.131105, 'lng': -88.0394}\n",
      "LAND VO 8683.6 {'lat': 42.130444, 'lng': -88.037884}\n",
      "LOAD_END VO 8753.6 {'lat': 42.130444, 'lng': -88.037884}\n",
      "LAUNCH VO 8753.6 {'lat': 42.130444, 'lng': -88.037884}\n",
      "DRONE_DELIVERY_START AN 8774.8 {'lat': 42.129422, 'lng': -88.037895}\n",
      "DRONE_DELIVERY_END AN 8784.8 {'lat': 42.129422, 'lng': -88.037895}\n",
      "LAND TR 8809.3 {'lat': 42.128841, 'lng': -88.037114}\n",
      "ARRIVE EQ 8885.0 {'lat': 42.128815, 'lng': -88.034782}\n",
      "ARRIVE NH 9069.0 {'lat': 42.125684, 'lng': -88.038542}\n",
      "LOAD_END NH 9150.3 {'lat': 42.125684, 'lng': -88.038542}\n",
      "LAUNCH NH 9150.3 {'lat': 42.125684, 'lng': -88.038542}\n",
      "DRONE_DELIVERY_START UH 9173.6 {'lat': 42.126766, 'lng': -88.038007}\n",
      "DRONE_DELIVERY_END UH 9183.6 {'lat': 42.126766, 'lng': -88.038007}\n",
      "LAND QM 9232.3 {'lat': 42.127935, 'lng': -88.036821}\n",
      "ARRIVE EY 9310.9 {'lat': 42.127948, 'lng': -88.038602}\n",
      "ARRIVE CW 9520.3 {'lat': 42.129722, 'lng': -88.034192}\n",
      "ARRIVE PB 9573.0 {'lat': 42.129728, 'lng': -88.035091}\n",
      "ARRIVE DZ 9721.3 {'lat': 42.130161, 'lng': -88.03669}\n",
      "ARRIVE WF 9834.9 {'lat': 42.132696, 'lng': -88.039367}\n",
      "LOAD_END WF 9939.9 {'lat': 42.132696, 'lng': -88.039367}\n",
      "LAUNCH WF 9939.9 {'lat': 42.132696, 'lng': -88.039367}\n",
      "DRONE_DELIVERY_START JO 10057.3 {'lat': 42.131014, 'lng': -88.030128}\n",
      "DRONE_DELIVERY_END JO 10067.3 {'lat': 42.131014, 'lng': -88.030128}\n",
      "LAND XY 10105.9 {'lat': 42.131009, 'lng': -88.029694}\n",
      "ARRIVE CG 10255.8 {'lat': 42.131031, 'lng': -88.032127}\n",
      "LOAD_END CG 10358.8 {'lat': 42.131031, 'lng': -88.032127}\n",
      "LAUNCH CG 10358.8 {'lat': 42.131031, 'lng': -88.032127}\n",
      "DRONE_DELIVERY_START HQ 10398.8 {'lat': 42.133213, 'lng': -88.032575}\n",
      "DRONE_DELIVERY_END HQ 10408.8 {'lat': 42.133213, 'lng': -88.032575}\n",
      "LAND WD 10449.3 {'lat': 42.134086, 'lng': -88.032572}\n",
      "ARRIVE CO 10534.1 {'lat': 42.134451, 'lng': -88.033256}\n",
      "ARRIVE NZ 10648.1 {'lat': 42.133856, 'lng': -88.031333}\n",
      "LOAD_END NZ 10703.6 {'lat': 42.133856, 'lng': -88.031333}\n",
      "LAUNCH NZ 10703.6 {'lat': 42.133856, 'lng': -88.031333}\n",
      "DRONE_DELIVERY_START XA 10742.1 {'lat': 42.134772, 'lng': -88.02878}\n",
      "DRONE_DELIVERY_END XA 10752.1 {'lat': 42.134772, 'lng': -88.02878}\n",
      "LAND BV 10799.1 {'lat': 42.135233, 'lng': -88.029141}\n",
      "ARRIVE QB 10863.7 {'lat': 42.135096, 'lng': -88.028599}\n",
      "ARRIVE YX 10950.1 {'lat': 42.135031, 'lng': -88.027462}\n",
      "ARRIVE KV 11062.3 {'lat': 42.135579, 'lng': -88.02642}\n",
      "ARRIVE KN 11152.2 {'lat': 42.135986, 'lng': -88.028705}\n",
      "ARRIVE ZI 11295.5 {'lat': 42.133905, 'lng': -88.026438}\n",
      "ARRIVE UP 11401.9 {'lat': 42.13282, 'lng': -88.02541}\n",
      "ARRIVE OJ 11547.3 {'lat': 42.131919, 'lng': -88.024397}\n",
      "ARRIVE NU 11638.7 {'lat': 42.131924, 'lng': -88.02661}\n",
      "ARRIVE ZQ 11747.2 {'lat': 42.132458, 'lng': -88.027574}\n",
      "ARRIVE OF 11857.5 {'lat': 42.131976, 'lng': -88.031215}\n",
      "ARRIVE IK 11929.1 {'lat': 42.131686, 'lng': -88.02858}\n",
      "LOAD_END IK 12010.1 {'lat': 42.131686, 'lng': -88.02858}\n",
      "LAUNCH IK 12010.1 {'lat': 42.131686, 'lng': -88.02858}\n",
      "DRONE_DELIVERY_START CI 12030.0 {'lat': 42.131002, 'lng': -88.027713}\n",
      "DRONE_DELIVERY_END CI 12040.0 {'lat': 42.131002, 'lng': -88.027713}\n",
      "LAND XF 12056.5 {'lat': 42.131001, 'lng': -88.027127}\n",
      "ARRIVE TW 12153.2 {'lat': 42.131001, 'lng': -88.024676}\n",
      "LOAD_END TW 12212.7 {'lat': 42.131001, 'lng': -88.024676}\n",
      "LAUNCH TW 12212.7 {'lat': 42.131001, 'lng': -88.024676}\n",
      "DRONE_DELIVERY_START NY 12232.2 {'lat': 42.130126, 'lng': -88.025014}\n",
      "DRONE_DELIVERY_END NY 12242.2 {'lat': 42.130126, 'lng': -88.025014}\n",
      "LAND BA 12274.5 {'lat': 42.130132, 'lng': -88.026442}\n",
      "ARRIVE CM 12395.9 {'lat': 42.128781, 'lng': -88.024088}\n",
      "ARRIVE ER 12464.5 {'lat': 42.127062, 'lng': -88.024085}\n",
      "ARRIVE UO 12544.2 {'lat': 42.126468, 'lng': -88.024692}\n",
      "ARRIVE TH 12663.8 {'lat': 42.128549, 'lng': -88.025863}\n",
      "ARRIVE AH 12791.9 {'lat': 42.129085, 'lng': -88.027485}\n",
      "LOAD_END AH 12884.9 {'lat': 42.129085, 'lng': -88.027485}\n",
      "LAUNCH AH 12884.9 {'lat': 42.129085, 'lng': -88.027485}\n",
      "DRONE_DELIVERY_START NF 12912.2 {'lat': 42.127843, 'lng': -88.026612}\n",
      "DRONE_DELIVERY_END NF 12922.2 {'lat': 42.127843, 'lng': -88.026612}\n",
      "LAND SO 12945.8 {'lat': 42.126695, 'lng': -88.026331}\n",
      "ARRIVE KG 13040.9 {'lat': 42.127031, 'lng': -88.027461}\n",
      "ARRIVE HG 13120.5 {'lat': 42.127862, 'lng': -88.027852}\n",
      "ARRIVE MM 13193.6 {'lat': 42.129266, 'lng': -88.028331}\n",
      "ARRIVE GC 13273.8 {'lat': 42.129273, 'lng': -88.03261}\n",
      "LOAD_END GC 13386.3 {'lat': 42.129273, 'lng': -88.03261}\n",
      "LAUNCH GC 13386.3 {'lat': 42.129273, 'lng': -88.03261}\n",
      "DRONE_DELIVERY_START OI 13422.8 {'lat': 42.127363, 'lng': -88.031892}\n",
      "DRONE_DELIVERY_END OI 13432.8 {'lat': 42.127363, 'lng': -88.031892}\n",
      "LAND FR 13472.9 {'lat': 42.126545, 'lng': -88.032303}\n",
      "ARRIVE SM 13528.9 {'lat': 42.126553, 'lng': -88.03307}\n",
      "ARRIVE YB 13639.0 {'lat': 42.127935, 'lng': -88.035247}\n",
      "LOAD_END YB 13720.0 {'lat': 42.127935, 'lng': -88.035247}\n",
      "LAUNCH YB 13720.0 {'lat': 42.127935, 'lng': -88.035247}\n",
      "DRONE_DELIVERY_START YN 13737.6 {'lat': 42.127363, 'lng': -88.035984}\n",
      "DRONE_DELIVERY_END YN 13747.6 {'lat': 42.127363, 'lng': -88.035984}\n",
      "LAND RD 13772.2 {'lat': 42.126501, 'lng': -88.036894}\n",
      "LOAD_END RD 13851.2 {'lat': 42.126501, 'lng': -88.036894}\n",
      "LAUNCH RD 13851.2 {'lat': 42.126501, 'lng': -88.036894}\n",
      "DRONE_DELIVERY_START HV 13883.7 {'lat': 42.125898, 'lng': -88.034709}\n",
      "DRONE_DELIVERY_END HV 13893.7 {'lat': 42.125898, 'lng': -88.034709}\n",
      "LAND BL 13901.8 {'lat': 42.125669, 'lng': -88.035269}\n",
      "ARRIVE MU 14055.3 {'lat': 42.123879, 'lng': -88.033107}\n",
      "ARRIVE AY 14150.0 {'lat': 42.123379, 'lng': -88.032213}\n",
      "LOAD_END AY 14234.7 {'lat': 42.123379, 'lng': -88.032213}\n",
      "LAUNCH AY 14234.7 {'lat': 42.123379, 'lng': -88.032213}\n",
      "DRONE_DELIVERY_START TO 14257.3 {'lat': 42.123375, 'lng': -88.030728}\n",
      "DRONE_DELIVERY_END TO 14267.3 {'lat': 42.123375, 'lng': -88.030728}\n",
      "LAND NV 14376.6 {'lat': 42.122188, 'lng': -88.033265}\n",
      "ARRIVE SS 14569.2 {'lat': 42.120547, 'lng': -88.030685}\n",
      "ARRIVE UG 14637.3 {'lat': 42.119086, 'lng': -88.03069}\n",
      "LOAD_END UG 14735.3 {'lat': 42.119086, 'lng': -88.03069}\n",
      "LAUNCH UG 14735.3 {'lat': 42.119086, 'lng': -88.03069}\n",
      "DRONE_DELIVERY_START DG 14755.5 {'lat': 42.119607, 'lng': -88.029611}\n",
      "DRONE_DELIVERY_END DG 14765.5 {'lat': 42.119607, 'lng': -88.029611}\n",
      "LAND SI 14809.6 {'lat': 42.122376, 'lng': -88.029899}\n",
      "LOAD_END SI 14891.3 {'lat': 42.122376, 'lng': -88.029899}\n",
      "LAUNCH SI 14891.3 {'lat': 42.122376, 'lng': -88.029899}\n",
      "DRONE_DELIVERY_START KE 14916.9 {'lat': 42.123654, 'lng': -88.02962}\n",
      "DRONE_DELIVERY_END KE 14926.9 {'lat': 42.123654, 'lng': -88.02962}\n",
      "LAND NR 14951.4 {'lat': 42.124233, 'lng': -88.029766}\n",
      "ARRIVE RU 15013.4 {'lat': 42.124254, 'lng': -88.030676}\n",
      "LOAD_END RU 15075.4 {'lat': 42.124254, 'lng': -88.030676}\n",
      "LAUNCH RU 15075.4 {'lat': 42.124254, 'lng': -88.030676}\n",
      "DRONE_DELIVERY_START FQ 15128.6 {'lat': 42.123602, 'lng': -88.03466}\n",
      "DRONE_DELIVERY_END FQ 15138.6 {'lat': 42.123602, 'lng': -88.03466}\n",
      "LAND RH 15171.3 {'lat': 42.122974, 'lng': -88.03483}\n",
      "ARRIVE MF 15333.8 {'lat': 42.122625, 'lng': -88.035043}\n",
      "ARRIVE IX 15723.8 {'lat': 42.121971, 'lng': -88.03801}\n",
      "ARRIVE FU 16065.9 {'lat': 42.115862, 'lng': -88.031135}\n",
      "ARRIVE OD 16131.1 {'lat': 42.114927, 'lng': -88.031544}\n",
      "ARRIVE DM 16245.9 {'lat': 42.114245, 'lng': -88.03114}\n",
      "LOAD_END DM 16320.9 {'lat': 42.114245, 'lng': -88.03114}\n",
      "LAUNCH DM 16320.9 {'lat': 42.114245, 'lng': -88.03114}\n",
      "DRONE_DELIVERY_START HB 16360.6 {'lat': 42.112062, 'lng': -88.031029}\n",
      "DRONE_DELIVERY_END HB 16370.6 {'lat': 42.112062, 'lng': -88.031029}\n",
      "LAND IP 16406.2 {'lat': 42.112055, 'lng': -88.029714}\n",
      "ARRIVE KS 16488.2 {'lat': 42.112593, 'lng': -88.029043}\n",
      "ARRIVE VH 16623.5 {'lat': 42.113414, 'lng': -88.027425}\n",
      "LOAD_END VH 16756.5 {'lat': 42.113414, 'lng': -88.027425}\n",
      "LAUNCH VH 16756.5 {'lat': 42.113414, 'lng': -88.027425}\n",
      "DRONE_DELIVERY_START SW 16800.2 {'lat': 42.110978, 'lng': -88.027422}\n",
      "DRONE_DELIVERY_END SW 16810.2 {'lat': 42.110978, 'lng': -88.027422}\n",
      "LAND HA 16832.5 {'lat': 42.109572, 'lng': -88.027437}\n",
      "ARRIVE EF 17039.6 {'lat': 42.109579, 'lng': -88.0217}\n",
      "LOAD_END EF 17105.1 {'lat': 42.109579, 'lng': -88.0217}\n",
      "LAUNCH EF 17105.1 {'lat': 42.109579, 'lng': -88.0217}\n",
      "DRONE_DELIVERY_START VD 17151.4 {'lat': 42.10701, 'lng': -88.022233}\n",
      "DRONE_DELIVERY_END VD 17161.4 {'lat': 42.10701, 'lng': -88.022233}\n",
      "LAND ON 17211.4 {'lat': 42.107027, 'lng': -88.020213}\n",
      "ARRIVE GZ 17382.8 {'lat': 42.108395, 'lng': -88.022737}\n",
      "ARRIVE UI 17478.4 {'lat': 42.109334, 'lng': -88.024165}\n",
      "ARRIVE YA 17646.3 {'lat': 42.111391, 'lng': -88.02416}\n",
      "ARRIVE UF 17790.7 {'lat': 42.112436, 'lng': -88.025802}\n",
      "LOAD_END UF 17894.7 {'lat': 42.112436, 'lng': -88.025802}\n",
      "LAUNCH UF 17894.7 {'lat': 42.112436, 'lng': -88.025802}\n",
      "DRONE_DELIVERY_START GB 17971.6 {'lat': 42.107906, 'lng': -88.025814}\n",
      "DRONE_DELIVERY_END GB 17981.6 {'lat': 42.107906, 'lng': -88.025814}\n",
      "LAND GU 17994.9 {'lat': 42.107336, 'lng': -88.025808}\n",
      "ARRIVE FK 18094.1 {'lat': 42.105925, 'lng': -88.025797}\n",
      "ARRIVE ZL 18175.7 {'lat': 42.105136, 'lng': -88.025792}\n",
      "ARRIVE WY 18299.2 {'lat': 42.106359, 'lng': -88.027433}\n",
      "ARRIVE XK 18383.4 {'lat': 42.107244, 'lng': -88.027437}\n",
      "ARRIVE FD 18604.5 {'lat': 42.107767, 'lng': -88.029074}\n",
      "ARRIVE GY 18681.3 {'lat': 42.108913, 'lng': -88.02907}\n",
      "ARRIVE RO 18797.4 {'lat': 42.108819, 'lng': -88.030698}\n",
      "ARRIVE UR 18912.9 {'lat': 42.108287, 'lng': -88.030702}\n",
      "ARRIVE BC 19071.9 {'lat': 42.107161, 'lng': -88.032347}\n",
      "LOAD_END BC 19124.6 {'lat': 42.107161, 'lng': -88.032347}\n",
      "LAUNCH BC 19124.6 {'lat': 42.107161, 'lng': -88.032347}\n",
      "DRONE_DELIVERY_START SK 19142.5 {'lat': 42.107973, 'lng': -88.032343}\n",
      "DRONE_DELIVERY_END SK 19152.5 {'lat': 42.107973, 'lng': -88.032343}\n",
      "LAND CH 19175.8 {'lat': 42.109444, 'lng': -88.032333}\n",
      "ARRIVE WO 19270.4 {'lat': 42.110255, 'lng': -88.029854}\n",
      "ARRIVE EC 19471.5 {'lat': 42.110313, 'lng': -88.037638}\n",
      "ARRIVE IF 19579.8 {'lat': 42.109819, 'lng': -88.03641}\n",
      "ARRIVE BS 19712.1 {'lat': 42.10896, 'lng': -88.03641}\n",
      "ARRIVE EU 19795.8 {'lat': 42.108656, 'lng': -88.037391}\n",
      "ARRIVE AU 19915.5 {'lat': 42.107882, 'lng': -88.035445}\n",
      "LOAD_END AU 19963.5 {'lat': 42.107882, 'lng': -88.035445}\n",
      "LAUNCH AU 19963.5 {'lat': 42.107882, 'lng': -88.035445}\n",
      "DRONE_DELIVERY_START SF 19987.5 {'lat': 42.109062, 'lng': -88.035197}\n",
      "DRONE_DELIVERY_END SF 19997.5 {'lat': 42.109062, 'lng': -88.035197}\n",
      "LAND YS 20136.7 {'lat': 42.109283, 'lng': -88.038294}\n",
      "ARRIVE VX 20328.0 {'lat': 42.110246, 'lng': -88.038667}\n",
      "ARRIVE XP 20444.6 {'lat': 42.110331, 'lng': -88.039213}\n",
      "LOAD_END XP 20517.6 {'lat': 42.110331, 'lng': -88.039213}\n",
      "LAUNCH XP 20517.6 {'lat': 42.110331, 'lng': -88.039213}\n",
      "DRONE_DELIVERY_START ZB 20553.4 {'lat': 42.112258, 'lng': -88.03888}\n",
      "DRONE_DELIVERY_END ZB 20563.4 {'lat': 42.112258, 'lng': -88.03888}\n",
      "LAND DQ 20589.3 {'lat': 42.111254, 'lng': -88.040606}\n",
      "ARRIVE LD 20656.4 {'lat': 42.11103, 'lng': -88.04133}\n",
      "ARRIVE QN 20705.4 {'lat': 42.111796, 'lng': -88.04132}\n",
      "LOAD_END QN 20800.4 {'lat': 42.111796, 'lng': -88.04132}\n",
      "LAUNCH QN 20800.4 {'lat': 42.111796, 'lng': -88.04132}\n",
      "DRONE_DELIVERY_START HW 20827.1 {'lat': 42.113161, 'lng': -88.04132}\n",
      "DRONE_DELIVERY_END HW 20837.1 {'lat': 42.113161, 'lng': -88.04132}\n",
      "LAND JZ 20846.9 {'lat': 42.113782, 'lng': -88.04132}\n",
      "ARRIVE HU 20946.8 {'lat': 42.113068, 'lng': -88.039517}\n",
      "LOAD_END HU 21005.8 {'lat': 42.113068, 'lng': -88.039517}\n",
      "LAUNCH HU 21005.8 {'lat': 42.113068, 'lng': -88.039517}\n",
      "DRONE_DELIVERY_START KZ 21019.4 {'lat': 42.113072, 'lng': -88.04024}\n",
      "DRONE_DELIVERY_END KZ 21029.4 {'lat': 42.113072, 'lng': -88.04024}\n",
      "LAND VL 21084.9 {'lat': 42.113638, 'lng': -88.043764}\n",
      "ARRIVE ZH 21206.3 {'lat': 42.114383, 'lng': -88.042536}\n",
      "ARRIVE DS 21371.6 {'lat': 42.116969, 'lng': -88.042539}\n",
      "LOAD_END DS 21449.6 {'lat': 42.116969, 'lng': -88.042539}\n",
      "LAUNCH DS 21449.6 {'lat': 42.116969, 'lng': -88.042539}\n",
      "DRONE_DELIVERY_START MJ 21490.3 {'lat': 42.114718, 'lng': -88.042532}\n",
      "DRONE_DELIVERY_END MJ 21500.3 {'lat': 42.114718, 'lng': -88.042532}\n",
      "LAND MI 21572.1 {'lat': 42.116606, 'lng': -88.0413}\n",
      "LOAD_END MI 21699.1 {'lat': 42.116606, 'lng': -88.0413}\n",
      "LAUNCH MI 21699.1 {'lat': 42.116606, 'lng': -88.0413}\n",
      "DRONE_DELIVERY_START GO 21720.5 {'lat': 42.11633, 'lng': -88.039961}\n",
      "DRONE_DELIVERY_END GO 21730.5 {'lat': 42.11633, 'lng': -88.039961}\n",
      "LAND WV 21779.9 {'lat': 42.115201, 'lng': -88.038798}\n",
      "LOAD_END WV 21824.2 {'lat': 42.115201, 'lng': -88.038798}\n",
      "LAUNCH WV 21824.2 {'lat': 42.115201, 'lng': -88.038798}\n",
      "DRONE_DELIVERY_START UC 21846.6 {'lat': 42.115848, 'lng': -88.037606}\n",
      "DRONE_DELIVERY_END UC 21856.6 {'lat': 42.115848, 'lng': -88.037606}\n",
      "LAND BK 21888.9 {'lat': 42.114021, 'lng': -88.0364}\n",
      "ARRIVE QI 22079.1 {'lat': 42.116358, 'lng': -88.036406}\n",
      "ARRIVE XH 22230.0 {'lat': 42.11625, 'lng': -88.035184}\n",
      "ARRIVE JN 22280.8 {'lat': 42.115827, 'lng': -88.035189}\n",
      "ARRIVE YV 22342.1 {'lat': 42.114226, 'lng': -88.035188}\n",
      "ARRIVE HJ 24368.5 {'lat': 42.254346, 'lng': -87.985697}\n"
     ]
    }
   ],
   "source": [
    "test.print_drone_events()"
   ]
  },
  {
   "cell_type": "code",
   "execution_count": 117,
   "metadata": {},
   "outputs": [
    {
     "data": {
      "text/plain": [
       "158"
      ]
     },
     "execution_count": 117,
     "metadata": {},
     "output_type": "execute_result"
    }
   ],
   "source": [
    "route_data_ordered = pd.concat([route_data_route_df[route_data_route_df['stop_id'] == stop_id] for stop_id in test.vehicle_path]).reset_index(drop=True)\n",
    "len(route_data_ordered)"
   ]
  },
  {
   "cell_type": "code",
   "execution_count": 118,
   "metadata": {},
   "outputs": [
    {
     "data": {
      "application/vnd.plotly.v1+json": {
       "config": {
        "plotlyServerURL": "https://plot.ly"
       },
       "data": [
        {
         "hoverinfo": "none",
         "lat": [
          42.254346,
          42.150791,
          42.144327,
          42.144565,
          42.145825,
          42.145071,
          42.14528,
          42.145141,
          42.145257,
          42.13368,
          42.132907,
          42.136914,
          42.136569,
          42.133809,
          42.134729,
          42.135592,
          42.134457,
          42.133645,
          42.134275,
          42.133639,
          42.1343,
          42.138752,
          42.137919,
          42.13765,
          42.138865,
          42.1386,
          42.137251,
          42.138579,
          42.137793,
          42.137943,
          42.138473,
          42.138093,
          42.138326,
          42.138841,
          42.136177,
          42.13703,
          42.137252,
          42.136992,
          42.134427,
          42.133684,
          42.135056,
          42.13589,
          42.13498,
          42.132521,
          42.13305,
          42.134075,
          42.132063,
          42.133652,
          42.131008,
          42.128874,
          42.129921,
          42.131093,
          42.131737,
          42.130444,
          42.128841,
          42.128815,
          42.125684,
          42.127935,
          42.127948,
          42.129722,
          42.129728,
          42.130161,
          42.132696,
          42.131009,
          42.131031,
          42.134086,
          42.134451,
          42.133856,
          42.135233,
          42.135096,
          42.135031,
          42.135579,
          42.135986,
          42.133905,
          42.13282,
          42.131919,
          42.131924,
          42.132458,
          42.131976,
          42.131686,
          42.131001,
          42.131001,
          42.130132,
          42.128781,
          42.127062,
          42.126468,
          42.128549,
          42.129085,
          42.126695,
          42.127031,
          42.127862,
          42.129266,
          42.129273,
          42.126545,
          42.126553,
          42.127935,
          42.126501,
          42.125669,
          42.123879,
          42.123379,
          42.122188,
          42.120547,
          42.119086,
          42.122376,
          42.124233,
          42.124254,
          42.122974,
          42.122625,
          42.121971,
          42.115862,
          42.114927,
          42.114245,
          42.112055,
          42.112593,
          42.113414,
          42.109572,
          42.109579,
          42.107027,
          42.108395,
          42.109334,
          42.111391,
          42.112436,
          42.107336,
          42.105925,
          42.105136,
          42.106359,
          42.107244,
          42.107767,
          42.108913,
          42.108819,
          42.108287,
          42.107161,
          42.109444,
          42.110255,
          42.110313,
          42.109819,
          42.10896,
          42.108656,
          42.107882,
          42.109283,
          42.110246,
          42.110331,
          42.111254,
          42.11103,
          42.111796,
          42.113782,
          42.113068,
          42.113638,
          42.114383,
          42.116969,
          42.116606,
          42.115201,
          42.114021,
          42.116358,
          42.11625,
          42.115827,
          42.114226,
          42.254346
         ],
         "line": {
          "color": "blue",
          "width": 2
         },
         "lon": [
          -87.985697,
          -88.034969,
          -88.032939,
          -88.031799,
          -88.032302,
          -88.032181,
          -88.036679,
          -88.037819,
          -88.036115,
          -88.033884,
          -88.036045,
          -88.031408,
          -88.031328,
          -88.036843,
          -88.03754,
          -88.040376,
          -88.039398,
          -88.039383,
          -88.04063,
          -88.040635,
          -88.041866,
          -88.041745,
          -88.041821,
          -88.04313,
          -88.04553,
          -88.04553,
          -88.04553,
          -88.044311,
          -88.052893,
          -88.051665,
          -88.047033,
          -88.0485,
          -88.049033,
          -88.049205,
          -88.051373,
          -88.052998,
          -88.052204,
          -88.04904,
          -88.049086,
          -88.050275,
          -88.047056,
          -88.046189,
          -88.045655,
          -88.049673,
          -88.047733,
          -88.044372,
          -88.042602,
          -88.043142,
          -88.04375,
          -88.042146,
          -88.04139,
          -88.042323,
          -88.04025,
          -88.037884,
          -88.037114,
          -88.034782,
          -88.038542,
          -88.036821,
          -88.038602,
          -88.034192,
          -88.035091,
          -88.03669,
          -88.039367,
          -88.029694,
          -88.032127,
          -88.032572,
          -88.033256,
          -88.031333,
          -88.029141,
          -88.028599,
          -88.027462,
          -88.02642,
          -88.028705,
          -88.026438,
          -88.02541,
          -88.024397,
          -88.02661,
          -88.027574,
          -88.031215,
          -88.02858,
          -88.027127,
          -88.024676,
          -88.026442,
          -88.024088,
          -88.024085,
          -88.024692,
          -88.025863,
          -88.027485,
          -88.026331,
          -88.027461,
          -88.027852,
          -88.028331,
          -88.03261,
          -88.032303,
          -88.03307,
          -88.035247,
          -88.036894,
          -88.035269,
          -88.033107,
          -88.032213,
          -88.033265,
          -88.030685,
          -88.03069,
          -88.029899,
          -88.029766,
          -88.030676,
          -88.03483,
          -88.035043,
          -88.03801,
          -88.031135,
          -88.031544,
          -88.03114,
          -88.029714,
          -88.029043,
          -88.027425,
          -88.027437,
          -88.0217,
          -88.020213,
          -88.022737,
          -88.024165,
          -88.02416,
          -88.025802,
          -88.025808,
          -88.025797,
          -88.025792,
          -88.027433,
          -88.027437,
          -88.029074,
          -88.02907,
          -88.030698,
          -88.030702,
          -88.032347,
          -88.032333,
          -88.029854,
          -88.037638,
          -88.03641,
          -88.03641,
          -88.037391,
          -88.035445,
          -88.038294,
          -88.038667,
          -88.039213,
          -88.040606,
          -88.04133,
          -88.04132,
          -88.04132,
          -88.039517,
          -88.043764,
          -88.042536,
          -88.042539,
          -88.0413,
          -88.038798,
          -88.0364,
          -88.036406,
          -88.035184,
          -88.035189,
          -88.035188,
          -87.985697
         ],
         "mode": "lines",
         "type": "scattermapbox"
        },
        {
         "hoverinfo": "text",
         "lat": [],
         "lon": [],
         "marker": {
          "size": 15
         },
         "mode": "markers",
         "name": "nan",
         "text": [],
         "type": "scattermapbox"
        },
        {
         "hoverinfo": "text",
         "lat": [
          42.150791,
          42.144327,
          42.144565,
          42.145825,
          42.145071,
          42.14528,
          42.145141,
          42.145257
         ],
         "lon": [
          -88.034969,
          -88.032939,
          -88.031799,
          -88.032302,
          -88.032181,
          -88.036679,
          -88.037819,
          -88.036115
         ],
         "marker": {
          "size": 15
         },
         "mode": "markers",
         "name": "D-7.3J",
         "text": [
          "Sequence: 1<br> Stop ID: YL<br>Zone ID: D-7.3J<br>Num Packages: 2.0 <br> Service Time: 74.5",
          "Sequence: 2<br> Stop ID: WW<br>Zone ID: D-7.3J<br>Num Packages: 1.0 <br> Service Time: 45.0",
          "Sequence: 3<br> Stop ID: VW<br>Zone ID: D-7.3J<br>Num Packages: 2.0 <br> Service Time: 43.5",
          "Sequence: 4<br> Stop ID: JR<br>Zone ID: D-7.3J<br>Num Packages: 3.0 <br> Service Time: 49.0",
          "Sequence: 5<br> Stop ID: SR<br>Zone ID: D-7.3J<br>Num Packages: 2.0 <br> Service Time: 48.0",
          "Sequence: 6<br> Stop ID: WR<br>Zone ID: D-7.3J<br>Num Packages: 1.0 <br> Service Time: 65.0",
          "Sequence: 7<br> Stop ID: JH<br>Zone ID: D-7.3J<br>Num Packages: 1.0 <br> Service Time: 45.0",
          "Sequence: 8<br> Stop ID: JA<br>Zone ID: D-7.3J<br>Num Packages: 2.0 <br> Service Time: 90.5"
         ],
         "type": "scattermapbox"
        },
        {
         "hoverinfo": "text",
         "lat": [
          42.13368,
          42.132907,
          42.136914,
          42.136569,
          42.133809,
          42.134729
         ],
         "lon": [
          -88.033884,
          -88.036045,
          -88.031408,
          -88.031328,
          -88.036843,
          -88.03754
         ],
         "marker": {
          "size": 15
         },
         "mode": "markers",
         "name": "D-7.2J",
         "text": [
          "Sequence: 9<br> Stop ID: CZ<br>Zone ID: D-7.2J<br>Num Packages: 2.0 <br> Service Time: 37.0",
          "Sequence: 10<br> Stop ID: XB<br>Zone ID: D-7.2J<br>Num Packages: 5.0 <br> Service Time: 54.2",
          "Sequence: 11<br> Stop ID: HE<br>Zone ID: D-7.2J<br>Num Packages: 1.0 <br> Service Time: 98.0",
          "Sequence: 12<br> Stop ID: NE<br>Zone ID: D-7.2J<br>Num Packages: 2.0 <br> Service Time: 77.0",
          "Sequence: 13<br> Stop ID: KO<br>Zone ID: D-7.2J<br>Num Packages: 1.0 <br> Service Time: 56.0",
          "Sequence: 14<br> Stop ID: SJ<br>Zone ID: D-7.2J<br>Num Packages: 1.0 <br> Service Time: 64.0"
         ],
         "type": "scattermapbox"
        },
        {
         "hoverinfo": "text",
         "lat": [
          42.135592,
          42.134457,
          42.133645,
          42.134275,
          42.133639,
          42.1343,
          42.138752,
          42.137919,
          42.13765
         ],
         "lon": [
          -88.040376,
          -88.039398,
          -88.039383,
          -88.04063,
          -88.040635,
          -88.041866,
          -88.041745,
          -88.041821,
          -88.04313
         ],
         "marker": {
          "size": 15
         },
         "mode": "markers",
         "name": "D-7.1J",
         "text": [
          "Sequence: 15<br> Stop ID: QA<br>Zone ID: D-7.1J<br>Num Packages: 5.0 <br> Service Time: 35.4",
          "Sequence: 16<br> Stop ID: QC<br>Zone ID: D-7.1J<br>Num Packages: 2.0 <br> Service Time: 106.5",
          "Sequence: 17<br> Stop ID: DC<br>Zone ID: D-7.1J<br>Num Packages: 1.0 <br> Service Time: 50.0",
          "Sequence: 18<br> Stop ID: LV<br>Zone ID: D-7.1J<br>Num Packages: 1.0 <br> Service Time: 49.0",
          "Sequence: 19<br> Stop ID: XC<br>Zone ID: D-7.1J<br>Num Packages: 2.0 <br> Service Time: 67.0",
          "Sequence: 20<br> Stop ID: JP<br>Zone ID: D-7.1J<br>Num Packages: 1.0 <br> Service Time: 63.0",
          "Sequence: 21<br> Stop ID: AV<br>Zone ID: D-7.1J<br>Num Packages: 2.0 <br> Service Time: 47.0",
          "Sequence: 22<br> Stop ID: TP<br>Zone ID: D-7.1J<br>Num Packages: 1.0 <br> Service Time: 78.0",
          "Sequence: 23<br> Stop ID: WH<br>Zone ID: D-7.1J<br>Num Packages: 1.0 <br> Service Time: 51.0"
         ],
         "type": "scattermapbox"
        },
        {
         "hoverinfo": "text",
         "lat": [
          42.138865,
          42.1386,
          42.137251,
          42.138579,
          42.137793,
          42.137943,
          42.138473,
          42.138093
         ],
         "lon": [
          -88.04553,
          -88.04553,
          -88.04553,
          -88.044311,
          -88.052893,
          -88.051665,
          -88.047033,
          -88.0485
         ],
         "marker": {
          "size": 15
         },
         "mode": "markers",
         "name": "D-8.1J",
         "text": [
          "Sequence: 24<br> Stop ID: QV<br>Zone ID: D-8.1J<br>Num Packages: 1.0 <br> Service Time: 66.0",
          "Sequence: 25<br> Stop ID: LQ<br>Zone ID: D-8.1J<br>Num Packages: 1.0 <br> Service Time: 68.0",
          "Sequence: 26<br> Stop ID: VQ<br>Zone ID: D-8.1J<br>Num Packages: 3.0 <br> Service Time: 75.7",
          "Sequence: 27<br> Stop ID: SH<br>Zone ID: D-8.1J<br>Num Packages: 1.0 <br> Service Time: 57.0",
          "Sequence: 28<br> Stop ID: TA<br>Zone ID: D-8.1J<br>Num Packages: 2.0 <br> Service Time: 52.5",
          "Sequence: 29<br> Stop ID: ZS<br>Zone ID: D-8.1J<br>Num Packages: 2.0 <br> Service Time: 59.5",
          "Sequence: 30<br> Stop ID: QW<br>Zone ID: D-8.1J<br>Num Packages: 1.0 <br> Service Time: 86.0",
          "Sequence: 31<br> Stop ID: WU<br>Zone ID: D-8.1J<br>Num Packages: 3.0 <br> Service Time: 64.0"
         ],
         "type": "scattermapbox"
        },
        {
         "hoverinfo": "text",
         "lat": [
          42.138326,
          42.138841,
          42.136177,
          42.13703,
          42.137252,
          42.136992
         ],
         "lon": [
          -88.049033,
          -88.049205,
          -88.051373,
          -88.052998,
          -88.052204,
          -88.04904
         ],
         "marker": {
          "size": 15
         },
         "mode": "markers",
         "name": "D-8.2J",
         "text": [
          "Sequence: 32<br> Stop ID: YQ<br>Zone ID: D-8.2J<br>Num Packages: 1.0 <br> Service Time: 41.0",
          "Sequence: 33<br> Stop ID: JM<br>Zone ID: D-8.2J<br>Num Packages: 1.0 <br> Service Time: 140.0",
          "Sequence: 34<br> Stop ID: LW<br>Zone ID: D-8.2J<br>Num Packages: 3.0 <br> Service Time: 39.0",
          "Sequence: 35<br> Stop ID: GR<br>Zone ID: D-8.2J<br>Num Packages: 2.0 <br> Service Time: 52.0",
          "Sequence: 36<br> Stop ID: NL<br>Zone ID: D-8.2J<br>Num Packages: 2.0 <br> Service Time: 41.0",
          "Sequence: 37<br> Stop ID: SC<br>Zone ID: D-8.2J<br>Num Packages: 6.0 <br> Service Time: 69.5"
         ],
         "type": "scattermapbox"
        },
        {
         "hoverinfo": "text",
         "lat": [
          42.134427,
          42.133684,
          42.135056,
          42.13589,
          42.13498,
          42.132521
         ],
         "lon": [
          -88.049086,
          -88.050275,
          -88.047056,
          -88.046189,
          -88.045655,
          -88.049673
         ],
         "marker": {
          "size": 15
         },
         "mode": "markers",
         "name": "D-8.3J",
         "text": [
          "Sequence: 38<br> Stop ID: JD<br>Zone ID: D-8.3J<br>Num Packages: 1.0 <br> Service Time: 51.0",
          "Sequence: 39<br> Stop ID: MZ<br>Zone ID: D-8.3J<br>Num Packages: 2.0 <br> Service Time: 44.0",
          "Sequence: 40<br> Stop ID: TQ<br>Zone ID: D-8.3J<br>Num Packages: 1.0 <br> Service Time: 66.0",
          "Sequence: 41<br> Stop ID: RR<br>Zone ID: D-8.3J<br>Num Packages: 1.0 <br> Service Time: 58.0",
          "Sequence: 42<br> Stop ID: ZX<br>Zone ID: D-8.3J<br>Num Packages: 1.0 <br> Service Time: 80.0",
          "Sequence: 43<br> Stop ID: IS<br>Zone ID: D-8.3J<br>Num Packages: 1.0 <br> Service Time: 149.0"
         ],
         "type": "scattermapbox"
        },
        {
         "hoverinfo": "text",
         "lat": [
          42.13305,
          42.134075
         ],
         "lon": [
          -88.047733,
          -88.044372
         ],
         "marker": {
          "size": 15
         },
         "mode": "markers",
         "name": "D-8.3H",
         "text": [
          "Sequence: 44<br> Stop ID: XJ<br>Zone ID: D-8.3H<br>Num Packages: 1.0 <br> Service Time: 48.0",
          "Sequence: 45<br> Stop ID: WX<br>Zone ID: D-8.3H<br>Num Packages: 1.0 <br> Service Time: 58.0"
         ],
         "type": "scattermapbox"
        },
        {
         "hoverinfo": "text",
         "lat": [
          42.132063,
          42.133652,
          42.131008,
          42.128874,
          42.129921,
          42.131093,
          42.131737,
          42.130444
         ],
         "lon": [
          -88.042602,
          -88.043142,
          -88.04375,
          -88.042146,
          -88.04139,
          -88.042323,
          -88.04025,
          -88.037884
         ],
         "marker": {
          "size": 15
         },
         "mode": "markers",
         "name": "D-8.2H",
         "text": [
          "Sequence: 46<br> Stop ID: DT<br>Zone ID: D-8.2H<br>Num Packages: 1.0 <br> Service Time: 54.0",
          "Sequence: 47<br> Stop ID: OW<br>Zone ID: D-8.2H<br>Num Packages: 1.0 <br> Service Time: 64.0",
          "Sequence: 48<br> Stop ID: MA<br>Zone ID: D-8.2H<br>Num Packages: 1.0 <br> Service Time: 57.0",
          "Sequence: 49<br> Stop ID: JC<br>Zone ID: D-8.2H<br>Num Packages: 1.0 <br> Service Time: 64.0",
          "Sequence: 50<br> Stop ID: YK<br>Zone ID: D-8.2H<br>Num Packages: 1.0 <br> Service Time: 72.0",
          "Sequence: 51<br> Stop ID: YJ<br>Zone ID: D-8.2H<br>Num Packages: 1.0 <br> Service Time: 93.0",
          "Sequence: 52<br> Stop ID: OH<br>Zone ID: D-8.2H<br>Num Packages: 3.0 <br> Service Time: 78.0",
          "Sequence: 53<br> Stop ID: VO<br>Zone ID: D-8.2H<br>Num Packages: 1.0 <br> Service Time: 55.0"
         ],
         "type": "scattermapbox"
        },
        {
         "hoverinfo": "text",
         "lat": [
          42.128841,
          42.128815,
          42.125684,
          42.127935,
          42.127948,
          42.129722,
          42.129728,
          42.130161,
          42.132696,
          42.131009,
          42.131031
         ],
         "lon": [
          -88.037114,
          -88.034782,
          -88.038542,
          -88.036821,
          -88.038602,
          -88.034192,
          -88.035091,
          -88.03669,
          -88.039367,
          -88.029694,
          -88.032127
         ],
         "marker": {
          "size": 15
         },
         "mode": "markers",
         "name": "D-8.1H",
         "text": [
          "Sequence: 54<br> Stop ID: TR<br>Zone ID: D-8.1H<br>Num Packages: 1.0 <br> Service Time: 48.0",
          "Sequence: 55<br> Stop ID: EQ<br>Zone ID: D-8.1H<br>Num Packages: 2.0 <br> Service Time: 72.0",
          "Sequence: 56<br> Stop ID: NH<br>Zone ID: D-8.1H<br>Num Packages: 3.0 <br> Service Time: 66.3",
          "Sequence: 57<br> Stop ID: QM<br>Zone ID: D-8.1H<br>Num Packages: 3.0 <br> Service Time: 52.70000000000001",
          "Sequence: 58<br> Stop ID: EY<br>Zone ID: D-8.1H<br>Num Packages: 2.0 <br> Service Time: 67.5",
          "Sequence: 59<br> Stop ID: CW<br>Zone ID: D-8.1H<br>Num Packages: 2.0 <br> Service Time: 40.0",
          "Sequence: 60<br> Stop ID: PB<br>Zone ID: D-8.1H<br>Num Packages: 1.0 <br> Service Time: 112.0",
          "Sequence: 61<br> Stop ID: DZ<br>Zone ID: D-8.1H<br>Num Packages: 3.0 <br> Service Time: 27.0",
          "Sequence: 62<br> Stop ID: WF<br>Zone ID: D-8.1H<br>Num Packages: 1.0 <br> Service Time: 90.0",
          "Sequence: 63<br> Stop ID: XY<br>Zone ID: D-8.1H<br>Num Packages: 1.0 <br> Service Time: 117.0",
          "Sequence: 64<br> Stop ID: CG<br>Zone ID: D-8.1H<br>Num Packages: 1.0 <br> Service Time: 88.0"
         ],
         "type": "scattermapbox"
        },
        {
         "hoverinfo": "text",
         "lat": [
          42.134086,
          42.134451,
          42.133856,
          42.135233
         ],
         "lon": [
          -88.032572,
          -88.033256,
          -88.031333,
          -88.029141
         ],
         "marker": {
          "size": 15
         },
         "mode": "markers",
         "name": "D-8.1G",
         "text": [
          "Sequence: 65<br> Stop ID: WD<br>Zone ID: D-8.1G<br>Num Packages: 2.0 <br> Service Time: 53.5",
          "Sequence: 66<br> Stop ID: CO<br>Zone ID: D-8.1G<br>Num Packages: 1.0 <br> Service Time: 73.0",
          "Sequence: 67<br> Stop ID: NZ<br>Zone ID: D-8.1G<br>Num Packages: 2.0 <br> Service Time: 40.5",
          "Sequence: 68<br> Stop ID: BV<br>Zone ID: D-8.1G<br>Num Packages: 1.0 <br> Service Time: 57.0"
         ],
         "type": "scattermapbox"
        },
        {
         "hoverinfo": "text",
         "lat": [
          42.135096,
          42.135031,
          42.135579,
          42.135986,
          42.133905
         ],
         "lon": [
          -88.028599,
          -88.027462,
          -88.02642,
          -88.028705,
          -88.026438
         ],
         "marker": {
          "size": 15
         },
         "mode": "markers",
         "name": "D-8.2G",
         "text": [
          "Sequence: 69<br> Stop ID: QB<br>Zone ID: D-8.2G<br>Num Packages: 1.0 <br> Service Time: 72.0",
          "Sequence: 70<br> Stop ID: YX<br>Zone ID: D-8.2G<br>Num Packages: 4.0 <br> Service Time: 75.8",
          "Sequence: 71<br> Stop ID: KV<br>Zone ID: D-8.2G<br>Num Packages: 2.0 <br> Service Time: 34.0",
          "Sequence: 72<br> Stop ID: KN<br>Zone ID: D-8.2G<br>Num Packages: 2.0 <br> Service Time: 44.0",
          "Sequence: 73<br> Stop ID: ZI<br>Zone ID: D-8.2G<br>Num Packages: 2.0 <br> Service Time: 44.0"
         ],
         "type": "scattermapbox"
        },
        {
         "hoverinfo": "text",
         "lat": [
          42.13282,
          42.131919,
          42.131924,
          42.132458,
          42.131976,
          42.131686,
          42.131001,
          42.131001
         ],
         "lon": [
          -88.02541,
          -88.024397,
          -88.02661,
          -88.027574,
          -88.031215,
          -88.02858,
          -88.027127,
          -88.024676
         ],
         "marker": {
          "size": 15
         },
         "mode": "markers",
         "name": "D-8.3G",
         "text": [
          "Sequence: 74<br> Stop ID: UP<br>Zone ID: D-8.3G<br>Num Packages: 4.0 <br> Service Time: 62.5",
          "Sequence: 75<br> Stop ID: OJ<br>Zone ID: D-8.3G<br>Num Packages: 2.0 <br> Service Time: 76.5",
          "Sequence: 76<br> Stop ID: NU<br>Zone ID: D-8.3G<br>Num Packages: 2.0 <br> Service Time: 87.0",
          "Sequence: 77<br> Stop ID: ZQ<br>Zone ID: D-8.3G<br>Num Packages: 1.0 <br> Service Time: 62.0",
          "Sequence: 78<br> Stop ID: OF<br>Zone ID: D-8.3G<br>Num Packages: 3.0 <br> Service Time: 39.7",
          "Sequence: 79<br> Stop ID: IK<br>Zone ID: D-8.3G<br>Num Packages: 1.0 <br> Service Time: 66.0",
          "Sequence: 80<br> Stop ID: XF<br>Zone ID: D-8.3G<br>Num Packages: 1.0 <br> Service Time: 62.0",
          "Sequence: 81<br> Stop ID: TW<br>Zone ID: D-8.3G<br>Num Packages: 2.0 <br> Service Time: 44.5"
         ],
         "type": "scattermapbox"
        },
        {
         "hoverinfo": "text",
         "lat": [
          42.130132,
          42.128781,
          42.127062,
          42.126468,
          42.128549,
          42.129085,
          42.126695,
          42.127031,
          42.127862,
          42.129266
         ],
         "lon": [
          -88.026442,
          -88.024088,
          -88.024085,
          -88.024692,
          -88.025863,
          -88.027485,
          -88.026331,
          -88.027461,
          -88.027852,
          -88.028331
         ],
         "marker": {
          "size": 15
         },
         "mode": "markers",
         "name": "D-8.3E",
         "text": [
          "Sequence: 82<br> Stop ID: BA<br>Zone ID: D-8.3E<br>Num Packages: 1.0 <br> Service Time: 64.0",
          "Sequence: 83<br> Stop ID: CM<br>Zone ID: D-8.3E<br>Num Packages: 1.0 <br> Service Time: 46.0",
          "Sequence: 84<br> Stop ID: ER<br>Zone ID: D-8.3E<br>Num Packages: 2.0 <br> Service Time: 61.5",
          "Sequence: 85<br> Stop ID: UO<br>Zone ID: D-8.3E<br>Num Packages: 2.0 <br> Service Time: 70.5",
          "Sequence: 86<br> Stop ID: TH<br>Zone ID: D-8.3E<br>Num Packages: 1.0 <br> Service Time: 66.0",
          "Sequence: 87<br> Stop ID: AH<br>Zone ID: D-8.3E<br>Num Packages: 1.0 <br> Service Time: 78.0",
          "Sequence: 88<br> Stop ID: SO<br>Zone ID: D-8.3E<br>Num Packages: 1.0 <br> Service Time: 58.0",
          "Sequence: 89<br> Stop ID: KG<br>Zone ID: D-8.3E<br>Num Packages: 1.0 <br> Service Time: 64.0",
          "Sequence: 90<br> Stop ID: HG<br>Zone ID: D-8.3E<br>Num Packages: 1.0 <br> Service Time: 38.0",
          "Sequence: 91<br> Stop ID: MM<br>Zone ID: D-8.3E<br>Num Packages: 2.0 <br> Service Time: 26.0"
         ],
         "type": "scattermapbox"
        },
        {
         "hoverinfo": "text",
         "lat": [
          42.129273,
          42.126545,
          42.126553,
          42.127935,
          42.126501,
          42.125669
         ],
         "lon": [
          -88.03261,
          -88.032303,
          -88.03307,
          -88.035247,
          -88.036894,
          -88.035269
         ],
         "marker": {
          "size": 15
         },
         "mode": "markers",
         "name": "D-8.2E",
         "text": [
          "Sequence: 92<br> Stop ID: GC<br>Zone ID: D-8.2E<br>Num Packages: 2.0 <br> Service Time: 97.5",
          "Sequence: 93<br> Stop ID: FR<br>Zone ID: D-8.2E<br>Num Packages: 3.0 <br> Service Time: 45.70000000000001",
          "Sequence: 94<br> Stop ID: SM<br>Zone ID: D-8.2E<br>Num Packages: 3.0 <br> Service Time: 35.3",
          "Sequence: 95<br> Stop ID: YB<br>Zone ID: D-8.2E<br>Num Packages: 1.0 <br> Service Time: 66.0",
          "Sequence: 96<br> Stop ID: RD<br>Zone ID: D-8.2E<br>Num Packages: 1.0 <br> Service Time: 64.0",
          "Sequence: 97<br> Stop ID: BL<br>Zone ID: D-8.2E<br>Num Packages: 1.0 <br> Service Time: 72.0"
         ],
         "type": "scattermapbox"
        },
        {
         "hoverinfo": "text",
         "lat": [
          42.123879,
          42.123379,
          42.122188,
          42.120547,
          42.119086,
          42.122376,
          42.124233,
          42.124254,
          42.122974,
          42.122625
         ],
         "lon": [
          -88.033107,
          -88.032213,
          -88.033265,
          -88.030685,
          -88.03069,
          -88.029899,
          -88.029766,
          -88.030676,
          -88.03483,
          -88.035043
         ],
         "marker": {
          "size": 15
         },
         "mode": "markers",
         "name": "D-8.1E",
         "text": [
          "Sequence: 98<br> Stop ID: MU<br>Zone ID: D-8.1E<br>Num Packages: 1.0 <br> Service Time: 69.0",
          "Sequence: 99<br> Stop ID: AY<br>Zone ID: D-8.1E<br>Num Packages: 3.0 <br> Service Time: 69.7",
          "Sequence: 100<br> Stop ID: NV<br>Zone ID: D-8.1E<br>Num Packages: 1.0 <br> Service Time: 118.0",
          "Sequence: 101<br> Stop ID: SS<br>Zone ID: D-8.1E<br>Num Packages: 1.0 <br> Service Time: 48.0",
          "Sequence: 102<br> Stop ID: UG<br>Zone ID: D-8.1E<br>Num Packages: 1.0 <br> Service Time: 83.0",
          "Sequence: 103<br> Stop ID: SI<br>Zone ID: D-8.1E<br>Num Packages: 1.0 <br> Service Time: 69.0",
          "Sequence: 104<br> Stop ID: NR<br>Zone ID: D-8.1E<br>Num Packages: 1.0 <br> Service Time: 52.0",
          "Sequence: 105<br> Stop ID: RU<br>Zone ID: D-8.1E<br>Num Packages: 1.0 <br> Service Time: 47.0",
          "Sequence: 106<br> Stop ID: RH<br>Zone ID: D-8.1E<br>Num Packages: 1.0 <br> Service Time: 143.0",
          "Sequence: 107<br> Stop ID: MF<br>Zone ID: D-8.1E<br>Num Packages: 1.0 <br> Service Time: 252.0"
         ],
         "type": "scattermapbox"
        },
        {
         "hoverinfo": "text",
         "lat": [
          42.121971,
          42.115862,
          42.114927
         ],
         "lon": [
          -88.03801,
          -88.031135,
          -88.031544
         ],
         "marker": {
          "size": 15
         },
         "mode": "markers",
         "name": "D-8.1D",
         "text": [
          "Sequence: 108<br> Stop ID: IX<br>Zone ID: D-8.1D<br>Num Packages: 6.0 <br> Service Time: 64.8",
          "Sequence: 109<br> Stop ID: FU<br>Zone ID: D-8.1D<br>Num Packages: 2.0 <br> Service Time: 38.5",
          "Sequence: 110<br> Stop ID: OD<br>Zone ID: D-8.1D<br>Num Packages: 1.0 <br> Service Time: 92.0"
         ],
         "type": "scattermapbox"
        },
        {
         "hoverinfo": "text",
         "lat": [
          42.114245,
          42.112055,
          42.112593,
          42.113414
         ],
         "lon": [
          -88.03114,
          -88.029714,
          -88.029043,
          -88.027425
         ],
         "marker": {
          "size": 15
         },
         "mode": "markers",
         "name": "D-8.2D",
         "text": [
          "Sequence: 111<br> Stop ID: DM<br>Zone ID: D-8.2D<br>Num Packages: 1.0 <br> Service Time: 60.0",
          "Sequence: 112<br> Stop ID: IP<br>Zone ID: D-8.2D<br>Num Packages: 1.0 <br> Service Time: 49.0",
          "Sequence: 113<br> Stop ID: KS<br>Zone ID: D-8.2D<br>Num Packages: 3.0 <br> Service Time: 77.7",
          "Sequence: 114<br> Stop ID: VH<br>Zone ID: D-8.2D<br>Num Packages: 1.0 <br> Service Time: 118.0"
         ],
         "type": "scattermapbox"
        },
        {
         "hoverinfo": "text",
         "lat": [
          42.109572,
          42.109579,
          42.107027,
          42.108395,
          42.109334,
          42.111391,
          42.112436,
          42.107336,
          42.105925,
          42.105136,
          42.106359,
          42.107244
         ],
         "lon": [
          -88.027437,
          -88.0217,
          -88.020213,
          -88.022737,
          -88.024165,
          -88.02416,
          -88.025802,
          -88.025808,
          -88.025797,
          -88.025792,
          -88.027433,
          -88.027437
         ],
         "marker": {
          "size": 15
         },
         "mode": "markers",
         "name": "D-8.2B",
         "text": [
          "Sequence: 115<br> Stop ID: HA<br>Zone ID: D-8.2B<br>Num Packages: 1.0 <br> Service Time: 115.0",
          "Sequence: 116<br> Stop ID: EF<br>Zone ID: D-8.2B<br>Num Packages: 2.0 <br> Service Time: 50.5",
          "Sequence: 117<br> Stop ID: ON<br>Zone ID: D-8.2B<br>Num Packages: 1.0 <br> Service Time: 53.0",
          "Sequence: 118<br> Stop ID: GZ<br>Zone ID: D-8.2B<br>Num Packages: 1.0 <br> Service Time: 57.0",
          "Sequence: 119<br> Stop ID: UI<br>Zone ID: D-8.2B<br>Num Packages: 1.0 <br> Service Time: 133.0",
          "Sequence: 120<br> Stop ID: YA<br>Zone ID: D-8.2B<br>Num Packages: 1.0 <br> Service Time: 79.0",
          "Sequence: 121<br> Stop ID: UF<br>Zone ID: D-8.2B<br>Num Packages: 1.0 <br> Service Time: 89.0",
          "Sequence: 122<br> Stop ID: GU<br>Zone ID: D-8.2B<br>Num Packages: 1.0 <br> Service Time: 74.0",
          "Sequence: 123<br> Stop ID: FK<br>Zone ID: D-8.2B<br>Num Packages: 1.0 <br> Service Time: 70.0",
          "Sequence: 124<br> Stop ID: ZL<br>Zone ID: D-8.2B<br>Num Packages: 1.0 <br> Service Time: 66.0",
          "Sequence: 125<br> Stop ID: WY<br>Zone ID: D-8.2B<br>Num Packages: 1.0 <br> Service Time: 70.0",
          "Sequence: 126<br> Stop ID: XK<br>Zone ID: D-8.2B<br>Num Packages: 1.0 <br> Service Time: 159.0"
         ],
         "type": "scattermapbox"
        },
        {
         "hoverinfo": "text",
         "lat": [
          42.107767,
          42.108913,
          42.108819,
          42.108287,
          42.107161,
          42.109444,
          42.110255
         ],
         "lon": [
          -88.029074,
          -88.02907,
          -88.030698,
          -88.030702,
          -88.032347,
          -88.032333,
          -88.029854
         ],
         "marker": {
          "size": 15
         },
         "mode": "markers",
         "name": "D-8.1B",
         "text": [
          "Sequence: 127<br> Stop ID: FD<br>Zone ID: D-8.1B<br>Num Packages: 2.0 <br> Service Time: 53.0",
          "Sequence: 128<br> Stop ID: GY<br>Zone ID: D-8.1B<br>Num Packages: 1.0 <br> Service Time: 71.0",
          "Sequence: 129<br> Stop ID: RO<br>Zone ID: D-8.1B<br>Num Packages: 1.0 <br> Service Time: 105.0",
          "Sequence: 130<br> Stop ID: UR<br>Zone ID: D-8.1B<br>Num Packages: 1.0 <br> Service Time: 84.0",
          "Sequence: 131<br> Stop ID: BC<br>Zone ID: D-8.1B<br>Num Packages: 6.0 <br> Service Time: 37.699999999999996",
          "Sequence: 132<br> Stop ID: CH<br>Zone ID: D-8.1B<br>Num Packages: 1.0 <br> Service Time: 64.0",
          "Sequence: 133<br> Stop ID: WO<br>Zone ID: D-8.1B<br>Num Packages: 1.0 <br> Service Time: 115.0"
         ],
         "type": "scattermapbox"
        },
        {
         "hoverinfo": "text",
         "lat": [
          42.110313,
          42.109819,
          42.10896,
          42.108656,
          42.107882,
          42.109283,
          42.110246
         ],
         "lon": [
          -88.037638,
          -88.03641,
          -88.03641,
          -88.037391,
          -88.035445,
          -88.038294,
          -88.038667
         ],
         "marker": {
          "size": 15
         },
         "mode": "markers",
         "name": "D-8.1C",
         "text": [
          "Sequence: 134<br> Stop ID: EC<br>Zone ID: D-8.1C<br>Num Packages: 1.0 <br> Service Time: 84.0",
          "Sequence: 135<br> Stop ID: IF<br>Zone ID: D-8.1C<br>Num Packages: 1.0 <br> Service Time: 116.0",
          "Sequence: 136<br> Stop ID: BS<br>Zone ID: D-8.1C<br>Num Packages: 2.0 <br> Service Time: 51.0",
          "Sequence: 137<br> Stop ID: EU<br>Zone ID: D-8.1C<br>Num Packages: 1.0 <br> Service Time: 89.0",
          "Sequence: 138<br> Stop ID: AU<br>Zone ID: D-8.1C<br>Num Packages: 1.0 <br> Service Time: 33.0",
          "Sequence: 139<br> Stop ID: YS<br>Zone ID: D-8.1C<br>Num Packages: 1.0 <br> Service Time: 136.0",
          "Sequence: 140<br> Stop ID: VX<br>Zone ID: D-8.1C<br>Num Packages: 2.0 <br> Service Time: 94.0"
         ],
         "type": "scattermapbox"
        },
        {
         "hoverinfo": "text",
         "lat": [
          42.110331,
          42.111254,
          42.11103,
          42.111796
         ],
         "lon": [
          -88.039213,
          -88.040606,
          -88.04133,
          -88.04132
         ],
         "marker": {
          "size": 15
         },
         "mode": "markers",
         "name": "D-8.2C",
         "text": [
          "Sequence: 141<br> Stop ID: XP<br>Zone ID: D-8.2C<br>Num Packages: 1.0 <br> Service Time: 58.0",
          "Sequence: 142<br> Stop ID: DQ<br>Zone ID: D-8.2C<br>Num Packages: 1.0 <br> Service Time: 50.0",
          "Sequence: 143<br> Stop ID: LD<br>Zone ID: D-8.2C<br>Num Packages: 2.0 <br> Service Time: 36.5",
          "Sequence: 144<br> Stop ID: QN<br>Zone ID: D-8.2C<br>Num Packages: 1.0 <br> Service Time: 80.0"
         ],
         "type": "scattermapbox"
        },
        {
         "hoverinfo": "text",
         "lat": [
          42.113782,
          42.113068,
          42.113638,
          42.114383,
          42.116969,
          42.116606
         ],
         "lon": [
          -88.04132,
          -88.039517,
          -88.043764,
          -88.042536,
          -88.042539,
          -88.0413
         ],
         "marker": {
          "size": 15
         },
         "mode": "markers",
         "name": "D-8.3C",
         "text": [
          "Sequence: 145<br> Stop ID: JZ<br>Zone ID: D-8.3C<br>Num Packages: 1.0 <br> Service Time: 59.0",
          "Sequence: 146<br> Stop ID: HU<br>Zone ID: D-8.3C<br>Num Packages: 2.0 <br> Service Time: 44.0",
          "Sequence: 147<br> Stop ID: VL<br>Zone ID: D-8.3C<br>Num Packages: 1.0 <br> Service Time: 72.0",
          "Sequence: 148<br> Stop ID: ZH<br>Zone ID: D-8.3C<br>Num Packages: 1.0 <br> Service Time: 71.0",
          "Sequence: 149<br> Stop ID: DS<br>Zone ID: D-8.3C<br>Num Packages: 1.0 <br> Service Time: 63.0",
          "Sequence: 150<br> Stop ID: MI<br>Zone ID: D-8.3C<br>Num Packages: 1.0 <br> Service Time: 112.0"
         ],
         "type": "scattermapbox"
        },
        {
         "hoverinfo": "text",
         "lat": [
          42.115201,
          42.114021,
          42.116358,
          42.11625,
          42.115827,
          42.114226,
          42.254346
         ],
         "lon": [
          -88.038798,
          -88.0364,
          -88.036406,
          -88.035184,
          -88.035189,
          -88.035188,
          -87.985697
         ],
         "marker": {
          "size": 15
         },
         "mode": "markers",
         "name": "D-8.3D",
         "text": [
          "Sequence: 151<br> Stop ID: WV<br>Zone ID: D-8.3D<br>Num Packages: 3.0 <br> Service Time: 29.3",
          "Sequence: 152<br> Stop ID: BK<br>Zone ID: D-8.3D<br>Num Packages: 1.0 <br> Service Time: 147.0",
          "Sequence: 153<br> Stop ID: QI<br>Zone ID: D-8.3D<br>Num Packages: 1.0 <br> Service Time: 80.0",
          "Sequence: 154<br> Stop ID: XH<br>Zone ID: D-8.3D<br>Num Packages: 1.0 <br> Service Time: 42.0",
          "Sequence: 155<br> Stop ID: JN<br>Zone ID: D-8.3D<br>Num Packages: 2.0 <br> Service Time: 26.0",
          "Sequence: 156<br> Stop ID: YV<br>Zone ID: D-8.3D<br>Num Packages: 2.0 <br> Service Time: 27.0",
          "Sequence: 157<br> Stop ID: HJ<br>Zone ID: D-8.3D<br>Num Packages: nan <br> Service Time: nan"
         ],
         "type": "scattermapbox"
        }
       ],
       "layout": {
        "height": 600,
        "mapbox": {
         "center": {
          "lat": 42.127673088607594,
          "lon": -88.03482765189875
         },
         "style": "open-street-map",
         "zoom": 10
        },
        "margin": {
         "b": 10,
         "l": 10,
         "r": 10,
         "t": 10
        },
        "showlegend": false,
        "template": {
         "data": {
          "bar": [
           {
            "error_x": {
             "color": "#2a3f5f"
            },
            "error_y": {
             "color": "#2a3f5f"
            },
            "marker": {
             "line": {
              "color": "#E5ECF6",
              "width": 0.5
             },
             "pattern": {
              "fillmode": "overlay",
              "size": 10,
              "solidity": 0.2
             }
            },
            "type": "bar"
           }
          ],
          "barpolar": [
           {
            "marker": {
             "line": {
              "color": "#E5ECF6",
              "width": 0.5
             },
             "pattern": {
              "fillmode": "overlay",
              "size": 10,
              "solidity": 0.2
             }
            },
            "type": "barpolar"
           }
          ],
          "carpet": [
           {
            "aaxis": {
             "endlinecolor": "#2a3f5f",
             "gridcolor": "white",
             "linecolor": "white",
             "minorgridcolor": "white",
             "startlinecolor": "#2a3f5f"
            },
            "baxis": {
             "endlinecolor": "#2a3f5f",
             "gridcolor": "white",
             "linecolor": "white",
             "minorgridcolor": "white",
             "startlinecolor": "#2a3f5f"
            },
            "type": "carpet"
           }
          ],
          "choropleth": [
           {
            "colorbar": {
             "outlinewidth": 0,
             "ticks": ""
            },
            "type": "choropleth"
           }
          ],
          "contour": [
           {
            "colorbar": {
             "outlinewidth": 0,
             "ticks": ""
            },
            "colorscale": [
             [
              0,
              "#0d0887"
             ],
             [
              0.1111111111111111,
              "#46039f"
             ],
             [
              0.2222222222222222,
              "#7201a8"
             ],
             [
              0.3333333333333333,
              "#9c179e"
             ],
             [
              0.4444444444444444,
              "#bd3786"
             ],
             [
              0.5555555555555556,
              "#d8576b"
             ],
             [
              0.6666666666666666,
              "#ed7953"
             ],
             [
              0.7777777777777778,
              "#fb9f3a"
             ],
             [
              0.8888888888888888,
              "#fdca26"
             ],
             [
              1,
              "#f0f921"
             ]
            ],
            "type": "contour"
           }
          ],
          "contourcarpet": [
           {
            "colorbar": {
             "outlinewidth": 0,
             "ticks": ""
            },
            "type": "contourcarpet"
           }
          ],
          "heatmap": [
           {
            "colorbar": {
             "outlinewidth": 0,
             "ticks": ""
            },
            "colorscale": [
             [
              0,
              "#0d0887"
             ],
             [
              0.1111111111111111,
              "#46039f"
             ],
             [
              0.2222222222222222,
              "#7201a8"
             ],
             [
              0.3333333333333333,
              "#9c179e"
             ],
             [
              0.4444444444444444,
              "#bd3786"
             ],
             [
              0.5555555555555556,
              "#d8576b"
             ],
             [
              0.6666666666666666,
              "#ed7953"
             ],
             [
              0.7777777777777778,
              "#fb9f3a"
             ],
             [
              0.8888888888888888,
              "#fdca26"
             ],
             [
              1,
              "#f0f921"
             ]
            ],
            "type": "heatmap"
           }
          ],
          "heatmapgl": [
           {
            "colorbar": {
             "outlinewidth": 0,
             "ticks": ""
            },
            "colorscale": [
             [
              0,
              "#0d0887"
             ],
             [
              0.1111111111111111,
              "#46039f"
             ],
             [
              0.2222222222222222,
              "#7201a8"
             ],
             [
              0.3333333333333333,
              "#9c179e"
             ],
             [
              0.4444444444444444,
              "#bd3786"
             ],
             [
              0.5555555555555556,
              "#d8576b"
             ],
             [
              0.6666666666666666,
              "#ed7953"
             ],
             [
              0.7777777777777778,
              "#fb9f3a"
             ],
             [
              0.8888888888888888,
              "#fdca26"
             ],
             [
              1,
              "#f0f921"
             ]
            ],
            "type": "heatmapgl"
           }
          ],
          "histogram": [
           {
            "marker": {
             "pattern": {
              "fillmode": "overlay",
              "size": 10,
              "solidity": 0.2
             }
            },
            "type": "histogram"
           }
          ],
          "histogram2d": [
           {
            "colorbar": {
             "outlinewidth": 0,
             "ticks": ""
            },
            "colorscale": [
             [
              0,
              "#0d0887"
             ],
             [
              0.1111111111111111,
              "#46039f"
             ],
             [
              0.2222222222222222,
              "#7201a8"
             ],
             [
              0.3333333333333333,
              "#9c179e"
             ],
             [
              0.4444444444444444,
              "#bd3786"
             ],
             [
              0.5555555555555556,
              "#d8576b"
             ],
             [
              0.6666666666666666,
              "#ed7953"
             ],
             [
              0.7777777777777778,
              "#fb9f3a"
             ],
             [
              0.8888888888888888,
              "#fdca26"
             ],
             [
              1,
              "#f0f921"
             ]
            ],
            "type": "histogram2d"
           }
          ],
          "histogram2dcontour": [
           {
            "colorbar": {
             "outlinewidth": 0,
             "ticks": ""
            },
            "colorscale": [
             [
              0,
              "#0d0887"
             ],
             [
              0.1111111111111111,
              "#46039f"
             ],
             [
              0.2222222222222222,
              "#7201a8"
             ],
             [
              0.3333333333333333,
              "#9c179e"
             ],
             [
              0.4444444444444444,
              "#bd3786"
             ],
             [
              0.5555555555555556,
              "#d8576b"
             ],
             [
              0.6666666666666666,
              "#ed7953"
             ],
             [
              0.7777777777777778,
              "#fb9f3a"
             ],
             [
              0.8888888888888888,
              "#fdca26"
             ],
             [
              1,
              "#f0f921"
             ]
            ],
            "type": "histogram2dcontour"
           }
          ],
          "mesh3d": [
           {
            "colorbar": {
             "outlinewidth": 0,
             "ticks": ""
            },
            "type": "mesh3d"
           }
          ],
          "parcoords": [
           {
            "line": {
             "colorbar": {
              "outlinewidth": 0,
              "ticks": ""
             }
            },
            "type": "parcoords"
           }
          ],
          "pie": [
           {
            "automargin": true,
            "type": "pie"
           }
          ],
          "scatter": [
           {
            "fillpattern": {
             "fillmode": "overlay",
             "size": 10,
             "solidity": 0.2
            },
            "type": "scatter"
           }
          ],
          "scatter3d": [
           {
            "line": {
             "colorbar": {
              "outlinewidth": 0,
              "ticks": ""
             }
            },
            "marker": {
             "colorbar": {
              "outlinewidth": 0,
              "ticks": ""
             }
            },
            "type": "scatter3d"
           }
          ],
          "scattercarpet": [
           {
            "marker": {
             "colorbar": {
              "outlinewidth": 0,
              "ticks": ""
             }
            },
            "type": "scattercarpet"
           }
          ],
          "scattergeo": [
           {
            "marker": {
             "colorbar": {
              "outlinewidth": 0,
              "ticks": ""
             }
            },
            "type": "scattergeo"
           }
          ],
          "scattergl": [
           {
            "marker": {
             "colorbar": {
              "outlinewidth": 0,
              "ticks": ""
             }
            },
            "type": "scattergl"
           }
          ],
          "scattermapbox": [
           {
            "marker": {
             "colorbar": {
              "outlinewidth": 0,
              "ticks": ""
             }
            },
            "type": "scattermapbox"
           }
          ],
          "scatterpolar": [
           {
            "marker": {
             "colorbar": {
              "outlinewidth": 0,
              "ticks": ""
             }
            },
            "type": "scatterpolar"
           }
          ],
          "scatterpolargl": [
           {
            "marker": {
             "colorbar": {
              "outlinewidth": 0,
              "ticks": ""
             }
            },
            "type": "scatterpolargl"
           }
          ],
          "scatterternary": [
           {
            "marker": {
             "colorbar": {
              "outlinewidth": 0,
              "ticks": ""
             }
            },
            "type": "scatterternary"
           }
          ],
          "surface": [
           {
            "colorbar": {
             "outlinewidth": 0,
             "ticks": ""
            },
            "colorscale": [
             [
              0,
              "#0d0887"
             ],
             [
              0.1111111111111111,
              "#46039f"
             ],
             [
              0.2222222222222222,
              "#7201a8"
             ],
             [
              0.3333333333333333,
              "#9c179e"
             ],
             [
              0.4444444444444444,
              "#bd3786"
             ],
             [
              0.5555555555555556,
              "#d8576b"
             ],
             [
              0.6666666666666666,
              "#ed7953"
             ],
             [
              0.7777777777777778,
              "#fb9f3a"
             ],
             [
              0.8888888888888888,
              "#fdca26"
             ],
             [
              1,
              "#f0f921"
             ]
            ],
            "type": "surface"
           }
          ],
          "table": [
           {
            "cells": {
             "fill": {
              "color": "#EBF0F8"
             },
             "line": {
              "color": "white"
             }
            },
            "header": {
             "fill": {
              "color": "#C8D4E3"
             },
             "line": {
              "color": "white"
             }
            },
            "type": "table"
           }
          ]
         },
         "layout": {
          "annotationdefaults": {
           "arrowcolor": "#2a3f5f",
           "arrowhead": 0,
           "arrowwidth": 1
          },
          "autotypenumbers": "strict",
          "coloraxis": {
           "colorbar": {
            "outlinewidth": 0,
            "ticks": ""
           }
          },
          "colorscale": {
           "diverging": [
            [
             0,
             "#8e0152"
            ],
            [
             0.1,
             "#c51b7d"
            ],
            [
             0.2,
             "#de77ae"
            ],
            [
             0.3,
             "#f1b6da"
            ],
            [
             0.4,
             "#fde0ef"
            ],
            [
             0.5,
             "#f7f7f7"
            ],
            [
             0.6,
             "#e6f5d0"
            ],
            [
             0.7,
             "#b8e186"
            ],
            [
             0.8,
             "#7fbc41"
            ],
            [
             0.9,
             "#4d9221"
            ],
            [
             1,
             "#276419"
            ]
           ],
           "sequential": [
            [
             0,
             "#0d0887"
            ],
            [
             0.1111111111111111,
             "#46039f"
            ],
            [
             0.2222222222222222,
             "#7201a8"
            ],
            [
             0.3333333333333333,
             "#9c179e"
            ],
            [
             0.4444444444444444,
             "#bd3786"
            ],
            [
             0.5555555555555556,
             "#d8576b"
            ],
            [
             0.6666666666666666,
             "#ed7953"
            ],
            [
             0.7777777777777778,
             "#fb9f3a"
            ],
            [
             0.8888888888888888,
             "#fdca26"
            ],
            [
             1,
             "#f0f921"
            ]
           ],
           "sequentialminus": [
            [
             0,
             "#0d0887"
            ],
            [
             0.1111111111111111,
             "#46039f"
            ],
            [
             0.2222222222222222,
             "#7201a8"
            ],
            [
             0.3333333333333333,
             "#9c179e"
            ],
            [
             0.4444444444444444,
             "#bd3786"
            ],
            [
             0.5555555555555556,
             "#d8576b"
            ],
            [
             0.6666666666666666,
             "#ed7953"
            ],
            [
             0.7777777777777778,
             "#fb9f3a"
            ],
            [
             0.8888888888888888,
             "#fdca26"
            ],
            [
             1,
             "#f0f921"
            ]
           ]
          },
          "colorway": [
           "#636efa",
           "#EF553B",
           "#00cc96",
           "#ab63fa",
           "#FFA15A",
           "#19d3f3",
           "#FF6692",
           "#B6E880",
           "#FF97FF",
           "#FECB52"
          ],
          "font": {
           "color": "#2a3f5f"
          },
          "geo": {
           "bgcolor": "white",
           "lakecolor": "white",
           "landcolor": "#E5ECF6",
           "showlakes": true,
           "showland": true,
           "subunitcolor": "white"
          },
          "hoverlabel": {
           "align": "left"
          },
          "hovermode": "closest",
          "mapbox": {
           "style": "light"
          },
          "paper_bgcolor": "white",
          "plot_bgcolor": "#E5ECF6",
          "polar": {
           "angularaxis": {
            "gridcolor": "white",
            "linecolor": "white",
            "ticks": ""
           },
           "bgcolor": "#E5ECF6",
           "radialaxis": {
            "gridcolor": "white",
            "linecolor": "white",
            "ticks": ""
           }
          },
          "scene": {
           "xaxis": {
            "backgroundcolor": "#E5ECF6",
            "gridcolor": "white",
            "gridwidth": 2,
            "linecolor": "white",
            "showbackground": true,
            "ticks": "",
            "zerolinecolor": "white"
           },
           "yaxis": {
            "backgroundcolor": "#E5ECF6",
            "gridcolor": "white",
            "gridwidth": 2,
            "linecolor": "white",
            "showbackground": true,
            "ticks": "",
            "zerolinecolor": "white"
           },
           "zaxis": {
            "backgroundcolor": "#E5ECF6",
            "gridcolor": "white",
            "gridwidth": 2,
            "linecolor": "white",
            "showbackground": true,
            "ticks": "",
            "zerolinecolor": "white"
           }
          },
          "shapedefaults": {
           "line": {
            "color": "#2a3f5f"
           }
          },
          "ternary": {
           "aaxis": {
            "gridcolor": "white",
            "linecolor": "white",
            "ticks": ""
           },
           "baxis": {
            "gridcolor": "white",
            "linecolor": "white",
            "ticks": ""
           },
           "bgcolor": "#E5ECF6",
           "caxis": {
            "gridcolor": "white",
            "linecolor": "white",
            "ticks": ""
           }
          },
          "title": {
           "x": 0.05
          },
          "xaxis": {
           "automargin": true,
           "gridcolor": "white",
           "linecolor": "white",
           "ticks": "",
           "title": {
            "standoff": 15
           },
           "zerolinecolor": "white",
           "zerolinewidth": 2
          },
          "yaxis": {
           "automargin": true,
           "gridcolor": "white",
           "linecolor": "white",
           "ticks": "",
           "title": {
            "standoff": 15
           },
           "zerolinecolor": "white",
           "zerolinewidth": 2
          }
         }
        }
       }
      }
     },
     "metadata": {},
     "output_type": "display_data"
    }
   ],
   "source": [
    "fig = go.Figure(go.Scattermapbox(\n",
    "    lat=route_data_ordered['lat'],\n",
    "    lon=route_data_ordered['lng'],\n",
    "    mode='lines',\n",
    "    line=dict(width=2, color='blue'),  # Customize line color and width here\n",
    "    hoverinfo='none'\n",
    "))\n",
    "route_data_ordered['zone_id'].ffill(inplace=True)\n",
    "# Add scatter points for each unique zone_id, with custom hover text\n",
    "for zone_id in route_data_ordered['zone_id'].unique():\n",
    "    df_sub = route_data_ordered[route_data_ordered['zone_id'] == zone_id]\n",
    "\n",
    "    # Creating custom hover text\n",
    "    hover_text = df_sub.apply(lambda row: f\"Sequence: {row.name}<br> Stop ID: {row['stop_id']}<br>Zone ID: {row['zone_id']}<br>Num Packages: {row['num_packages']} <br> Service Time: {row['service_time_seconds']}\", axis=1)\n",
    "\n",
    "\n",
    "    fig.add_trace(go.Scattermapbox(\n",
    "        lat=df_sub['lat'],\n",
    "        lon=df_sub['lng'],\n",
    "        mode='markers',\n",
    "        marker=go.scattermapbox.Marker(size=15),\n",
    "        name=str(zone_id),\n",
    "        text=hover_text,\n",
    "        hoverinfo='text'\n",
    "    ))\n",
    "\n",
    "# Update the layout to use OpenStreetMap style and adjust other layout properties\n",
    "fig.update_layout(\n",
    "\n",
    "    height=600,\n",
    "    mapbox=dict(\n",
    "        style=\"open-street-map\",\n",
    "        zoom=10,  # Adjust zoom level here\n",
    "        center=dict(lat=route_data_ordered['lat'].mean(), lon=route_data_ordered['lng'].mean())\n",
    "    ),\n",
    "    showlegend=False  # Set to True if you want to show legend\n",
    ")\n",
    "fig.update_layout(margin=dict(l=10, r=10, t=10, b=10))\n",
    "\n",
    "\n",
    "# Show the figure\n",
    "fig.show()"
   ]
  },
  {
   "cell_type": "code",
   "execution_count": 119,
   "metadata": {},
   "outputs": [
    {
     "data": {
      "text/plain": [
       "194"
      ]
     },
     "execution_count": 119,
     "metadata": {},
     "output_type": "execute_result"
    }
   ],
   "source": [
    "drone_data_ordered = pd.concat([route_data_route_df[route_data_route_df['stop_id'] == stop_id] for stop_id in test.drone_path]).reset_index(drop=True)\n",
    "len(drone_data_ordered)"
   ]
  },
  {
   "cell_type": "code",
   "execution_count": 120,
   "metadata": {},
   "outputs": [
    {
     "data": {
      "application/vnd.plotly.v1+json": {
       "config": {
        "plotlyServerURL": "https://plot.ly"
       },
       "data": [
        {
         "hoverinfo": "none",
         "lat": [
          42.254346,
          42.150791,
          42.144327,
          42.144565,
          42.145825,
          42.145071,
          42.14528,
          42.145141,
          42.145257,
          42.13368,
          42.132907,
          42.136914,
          42.136569,
          42.133809,
          42.134714,
          42.134729,
          42.135592,
          42.134457,
          42.133645,
          42.136439,
          42.134275,
          42.133639,
          42.133052,
          42.1343,
          42.138752,
          42.137919,
          42.13765,
          42.138865,
          42.1386,
          42.137251,
          42.138579,
          42.137793,
          42.137943,
          42.138473,
          42.138093,
          42.138326,
          42.138841,
          42.136177,
          42.13703,
          42.137252,
          42.136992,
          42.134427,
          42.133684,
          42.134087,
          42.135056,
          42.13589,
          42.13498,
          42.132521,
          42.13305,
          42.134075,
          42.13207,
          42.132063,
          42.134282,
          42.133652,
          42.133454,
          42.131008,
          42.128874,
          42.129748,
          42.129921,
          42.131093,
          42.131737,
          42.131105,
          42.130444,
          42.129422,
          42.128841,
          42.128815,
          42.125684,
          42.126766,
          42.127935,
          42.127948,
          42.129722,
          42.129728,
          42.130161,
          42.132696,
          42.131014,
          42.131009,
          42.131031,
          42.133213,
          42.134086,
          42.134451,
          42.133856,
          42.134772,
          42.135233,
          42.135096,
          42.135031,
          42.135579,
          42.135986,
          42.133905,
          42.13282,
          42.131919,
          42.131924,
          42.132458,
          42.131976,
          42.131686,
          42.131002,
          42.131001,
          42.131001,
          42.130126,
          42.130132,
          42.128781,
          42.127062,
          42.126468,
          42.128549,
          42.129085,
          42.127843,
          42.126695,
          42.127031,
          42.127862,
          42.129266,
          42.129273,
          42.127363,
          42.126545,
          42.126553,
          42.127935,
          42.127363,
          42.126501,
          42.125898,
          42.125669,
          42.123879,
          42.123379,
          42.123375,
          42.122188,
          42.120547,
          42.119086,
          42.119607,
          42.122376,
          42.123654,
          42.124233,
          42.124254,
          42.123602,
          42.122974,
          42.122625,
          42.121971,
          42.115862,
          42.114927,
          42.114245,
          42.112062,
          42.112055,
          42.112593,
          42.113414,
          42.110978,
          42.109572,
          42.109579,
          42.10701,
          42.107027,
          42.108395,
          42.109334,
          42.111391,
          42.112436,
          42.107906,
          42.107336,
          42.105925,
          42.105136,
          42.106359,
          42.107244,
          42.107767,
          42.108913,
          42.108819,
          42.108287,
          42.107161,
          42.107973,
          42.109444,
          42.110255,
          42.110313,
          42.109819,
          42.10896,
          42.108656,
          42.107882,
          42.109062,
          42.109283,
          42.110246,
          42.110331,
          42.112258,
          42.111254,
          42.11103,
          42.111796,
          42.113161,
          42.113782,
          42.113068,
          42.113072,
          42.113638,
          42.114383,
          42.116969,
          42.114718,
          42.116606,
          42.11633,
          42.115201,
          42.115848,
          42.114021,
          42.116358,
          42.11625,
          42.115827,
          42.114226,
          42.254346
         ],
         "line": {
          "color": "blue",
          "width": 2
         },
         "lon": [
          -87.985697,
          -88.034969,
          -88.032939,
          -88.031799,
          -88.032302,
          -88.032181,
          -88.036679,
          -88.037819,
          -88.036115,
          -88.033884,
          -88.036045,
          -88.031408,
          -88.031328,
          -88.036843,
          -88.036178,
          -88.03754,
          -88.040376,
          -88.039398,
          -88.039383,
          -88.04007,
          -88.04063,
          -88.040635,
          -88.041814,
          -88.041866,
          -88.041745,
          -88.041821,
          -88.04313,
          -88.04553,
          -88.04553,
          -88.04553,
          -88.044311,
          -88.052893,
          -88.051665,
          -88.047033,
          -88.0485,
          -88.049033,
          -88.049205,
          -88.051373,
          -88.052998,
          -88.052204,
          -88.04904,
          -88.049086,
          -88.050275,
          -88.049862,
          -88.047056,
          -88.046189,
          -88.045655,
          -88.049673,
          -88.047733,
          -88.044372,
          -88.047957,
          -88.042602,
          -88.043135,
          -88.043142,
          -88.043144,
          -88.04375,
          -88.042146,
          -88.042932,
          -88.04139,
          -88.042323,
          -88.04025,
          -88.0394,
          -88.037884,
          -88.037895,
          -88.037114,
          -88.034782,
          -88.038542,
          -88.038007,
          -88.036821,
          -88.038602,
          -88.034192,
          -88.035091,
          -88.03669,
          -88.039367,
          -88.030128,
          -88.029694,
          -88.032127,
          -88.032575,
          -88.032572,
          -88.033256,
          -88.031333,
          -88.02878,
          -88.029141,
          -88.028599,
          -88.027462,
          -88.02642,
          -88.028705,
          -88.026438,
          -88.02541,
          -88.024397,
          -88.02661,
          -88.027574,
          -88.031215,
          -88.02858,
          -88.027713,
          -88.027127,
          -88.024676,
          -88.025014,
          -88.026442,
          -88.024088,
          -88.024085,
          -88.024692,
          -88.025863,
          -88.027485,
          -88.026612,
          -88.026331,
          -88.027461,
          -88.027852,
          -88.028331,
          -88.03261,
          -88.031892,
          -88.032303,
          -88.03307,
          -88.035247,
          -88.035984,
          -88.036894,
          -88.034709,
          -88.035269,
          -88.033107,
          -88.032213,
          -88.030728,
          -88.033265,
          -88.030685,
          -88.03069,
          -88.029611,
          -88.029899,
          -88.02962,
          -88.029766,
          -88.030676,
          -88.03466,
          -88.03483,
          -88.035043,
          -88.03801,
          -88.031135,
          -88.031544,
          -88.03114,
          -88.031029,
          -88.029714,
          -88.029043,
          -88.027425,
          -88.027422,
          -88.027437,
          -88.0217,
          -88.022233,
          -88.020213,
          -88.022737,
          -88.024165,
          -88.02416,
          -88.025802,
          -88.025814,
          -88.025808,
          -88.025797,
          -88.025792,
          -88.027433,
          -88.027437,
          -88.029074,
          -88.02907,
          -88.030698,
          -88.030702,
          -88.032347,
          -88.032343,
          -88.032333,
          -88.029854,
          -88.037638,
          -88.03641,
          -88.03641,
          -88.037391,
          -88.035445,
          -88.035197,
          -88.038294,
          -88.038667,
          -88.039213,
          -88.03888,
          -88.040606,
          -88.04133,
          -88.04132,
          -88.04132,
          -88.04132,
          -88.039517,
          -88.04024,
          -88.043764,
          -88.042536,
          -88.042539,
          -88.042532,
          -88.0413,
          -88.039961,
          -88.038798,
          -88.037606,
          -88.0364,
          -88.036406,
          -88.035184,
          -88.035189,
          -88.035188,
          -87.985697
         ],
         "mode": "lines",
         "type": "scattermapbox"
        },
        {
         "hoverinfo": "text",
         "lat": [],
         "lon": [],
         "marker": {
          "size": 15
         },
         "mode": "markers",
         "name": "nan",
         "text": [],
         "type": "scattermapbox"
        },
        {
         "hoverinfo": "text",
         "lat": [
          42.150791,
          42.144327,
          42.144565,
          42.145825,
          42.145071,
          42.14528,
          42.145141,
          42.145257
         ],
         "lon": [
          -88.034969,
          -88.032939,
          -88.031799,
          -88.032302,
          -88.032181,
          -88.036679,
          -88.037819,
          -88.036115
         ],
         "marker": {
          "size": 15
         },
         "mode": "markers",
         "name": "D-7.3J",
         "text": [
          "Sequence: 1<br> Stop ID: YL<br>Zone ID: D-7.3J<br>Num Packages: 2.0 <br> Service Time: 74.5",
          "Sequence: 2<br> Stop ID: WW<br>Zone ID: D-7.3J<br>Num Packages: 1.0 <br> Service Time: 45.0",
          "Sequence: 3<br> Stop ID: VW<br>Zone ID: D-7.3J<br>Num Packages: 2.0 <br> Service Time: 43.5",
          "Sequence: 4<br> Stop ID: JR<br>Zone ID: D-7.3J<br>Num Packages: 3.0 <br> Service Time: 49.0",
          "Sequence: 5<br> Stop ID: SR<br>Zone ID: D-7.3J<br>Num Packages: 2.0 <br> Service Time: 48.0",
          "Sequence: 6<br> Stop ID: WR<br>Zone ID: D-7.3J<br>Num Packages: 1.0 <br> Service Time: 65.0",
          "Sequence: 7<br> Stop ID: JH<br>Zone ID: D-7.3J<br>Num Packages: 1.0 <br> Service Time: 45.0",
          "Sequence: 8<br> Stop ID: JA<br>Zone ID: D-7.3J<br>Num Packages: 2.0 <br> Service Time: 90.5"
         ],
         "type": "scattermapbox"
        },
        {
         "hoverinfo": "text",
         "lat": [
          42.13368,
          42.132907,
          42.136914,
          42.136569,
          42.133809,
          42.134714,
          42.134729
         ],
         "lon": [
          -88.033884,
          -88.036045,
          -88.031408,
          -88.031328,
          -88.036843,
          -88.036178,
          -88.03754
         ],
         "marker": {
          "size": 15
         },
         "mode": "markers",
         "name": "D-7.2J",
         "text": [
          "Sequence: 9<br> Stop ID: CZ<br>Zone ID: D-7.2J<br>Num Packages: 2.0 <br> Service Time: 37.0",
          "Sequence: 10<br> Stop ID: XB<br>Zone ID: D-7.2J<br>Num Packages: 5.0 <br> Service Time: 54.2",
          "Sequence: 11<br> Stop ID: HE<br>Zone ID: D-7.2J<br>Num Packages: 1.0 <br> Service Time: 98.0",
          "Sequence: 12<br> Stop ID: NE<br>Zone ID: D-7.2J<br>Num Packages: 2.0 <br> Service Time: 77.0",
          "Sequence: 13<br> Stop ID: KO<br>Zone ID: D-7.2J<br>Num Packages: 1.0 <br> Service Time: 56.0",
          "Sequence: 14<br> Stop ID: QF<br>Zone ID: D-7.2J<br>Num Packages: 1.0 <br> Service Time: 62.0",
          "Sequence: 15<br> Stop ID: SJ<br>Zone ID: D-7.2J<br>Num Packages: 1.0 <br> Service Time: 64.0"
         ],
         "type": "scattermapbox"
        },
        {
         "hoverinfo": "text",
         "lat": [
          42.135592,
          42.134457,
          42.133645,
          42.136439,
          42.134275,
          42.133639,
          42.133052,
          42.1343,
          42.138752,
          42.137919,
          42.13765
         ],
         "lon": [
          -88.040376,
          -88.039398,
          -88.039383,
          -88.04007,
          -88.04063,
          -88.040635,
          -88.041814,
          -88.041866,
          -88.041745,
          -88.041821,
          -88.04313
         ],
         "marker": {
          "size": 15
         },
         "mode": "markers",
         "name": "D-7.1J",
         "text": [
          "Sequence: 16<br> Stop ID: QA<br>Zone ID: D-7.1J<br>Num Packages: 5.0 <br> Service Time: 35.4",
          "Sequence: 17<br> Stop ID: QC<br>Zone ID: D-7.1J<br>Num Packages: 2.0 <br> Service Time: 106.5",
          "Sequence: 18<br> Stop ID: DC<br>Zone ID: D-7.1J<br>Num Packages: 1.0 <br> Service Time: 50.0",
          "Sequence: 19<br> Stop ID: PK<br>Zone ID: D-7.1J<br>Num Packages: 1.0 <br> Service Time: 55.0",
          "Sequence: 20<br> Stop ID: LV<br>Zone ID: D-7.1J<br>Num Packages: 1.0 <br> Service Time: 49.0",
          "Sequence: 21<br> Stop ID: XC<br>Zone ID: D-7.1J<br>Num Packages: 2.0 <br> Service Time: 67.0",
          "Sequence: 22<br> Stop ID: SN<br>Zone ID: D-7.1J<br>Num Packages: 1.0 <br> Service Time: 65.0",
          "Sequence: 23<br> Stop ID: JP<br>Zone ID: D-7.1J<br>Num Packages: 1.0 <br> Service Time: 63.0",
          "Sequence: 24<br> Stop ID: AV<br>Zone ID: D-7.1J<br>Num Packages: 2.0 <br> Service Time: 47.0",
          "Sequence: 25<br> Stop ID: TP<br>Zone ID: D-7.1J<br>Num Packages: 1.0 <br> Service Time: 78.0",
          "Sequence: 26<br> Stop ID: WH<br>Zone ID: D-7.1J<br>Num Packages: 1.0 <br> Service Time: 51.0"
         ],
         "type": "scattermapbox"
        },
        {
         "hoverinfo": "text",
         "lat": [
          42.138865,
          42.1386,
          42.137251,
          42.138579,
          42.137793,
          42.137943,
          42.138473,
          42.138093
         ],
         "lon": [
          -88.04553,
          -88.04553,
          -88.04553,
          -88.044311,
          -88.052893,
          -88.051665,
          -88.047033,
          -88.0485
         ],
         "marker": {
          "size": 15
         },
         "mode": "markers",
         "name": "D-8.1J",
         "text": [
          "Sequence: 27<br> Stop ID: QV<br>Zone ID: D-8.1J<br>Num Packages: 1.0 <br> Service Time: 66.0",
          "Sequence: 28<br> Stop ID: LQ<br>Zone ID: D-8.1J<br>Num Packages: 1.0 <br> Service Time: 68.0",
          "Sequence: 29<br> Stop ID: VQ<br>Zone ID: D-8.1J<br>Num Packages: 3.0 <br> Service Time: 75.7",
          "Sequence: 30<br> Stop ID: SH<br>Zone ID: D-8.1J<br>Num Packages: 1.0 <br> Service Time: 57.0",
          "Sequence: 31<br> Stop ID: TA<br>Zone ID: D-8.1J<br>Num Packages: 2.0 <br> Service Time: 52.5",
          "Sequence: 32<br> Stop ID: ZS<br>Zone ID: D-8.1J<br>Num Packages: 2.0 <br> Service Time: 59.5",
          "Sequence: 33<br> Stop ID: QW<br>Zone ID: D-8.1J<br>Num Packages: 1.0 <br> Service Time: 86.0",
          "Sequence: 34<br> Stop ID: WU<br>Zone ID: D-8.1J<br>Num Packages: 3.0 <br> Service Time: 64.0"
         ],
         "type": "scattermapbox"
        },
        {
         "hoverinfo": "text",
         "lat": [
          42.138326,
          42.138841,
          42.136177,
          42.13703,
          42.137252,
          42.136992
         ],
         "lon": [
          -88.049033,
          -88.049205,
          -88.051373,
          -88.052998,
          -88.052204,
          -88.04904
         ],
         "marker": {
          "size": 15
         },
         "mode": "markers",
         "name": "D-8.2J",
         "text": [
          "Sequence: 35<br> Stop ID: YQ<br>Zone ID: D-8.2J<br>Num Packages: 1.0 <br> Service Time: 41.0",
          "Sequence: 36<br> Stop ID: JM<br>Zone ID: D-8.2J<br>Num Packages: 1.0 <br> Service Time: 140.0",
          "Sequence: 37<br> Stop ID: LW<br>Zone ID: D-8.2J<br>Num Packages: 3.0 <br> Service Time: 39.0",
          "Sequence: 38<br> Stop ID: GR<br>Zone ID: D-8.2J<br>Num Packages: 2.0 <br> Service Time: 52.0",
          "Sequence: 39<br> Stop ID: NL<br>Zone ID: D-8.2J<br>Num Packages: 2.0 <br> Service Time: 41.0",
          "Sequence: 40<br> Stop ID: SC<br>Zone ID: D-8.2J<br>Num Packages: 6.0 <br> Service Time: 69.5"
         ],
         "type": "scattermapbox"
        },
        {
         "hoverinfo": "text",
         "lat": [
          42.134427,
          42.133684,
          42.134087,
          42.135056,
          42.13589,
          42.13498,
          42.132521
         ],
         "lon": [
          -88.049086,
          -88.050275,
          -88.049862,
          -88.047056,
          -88.046189,
          -88.045655,
          -88.049673
         ],
         "marker": {
          "size": 15
         },
         "mode": "markers",
         "name": "D-8.3J",
         "text": [
          "Sequence: 41<br> Stop ID: JD<br>Zone ID: D-8.3J<br>Num Packages: 1.0 <br> Service Time: 51.0",
          "Sequence: 42<br> Stop ID: MZ<br>Zone ID: D-8.3J<br>Num Packages: 2.0 <br> Service Time: 44.0",
          "Sequence: 43<br> Stop ID: UA<br>Zone ID: D-8.3J<br>Num Packages: 1.0 <br> Service Time: 56.0",
          "Sequence: 44<br> Stop ID: TQ<br>Zone ID: D-8.3J<br>Num Packages: 1.0 <br> Service Time: 66.0",
          "Sequence: 45<br> Stop ID: RR<br>Zone ID: D-8.3J<br>Num Packages: 1.0 <br> Service Time: 58.0",
          "Sequence: 46<br> Stop ID: ZX<br>Zone ID: D-8.3J<br>Num Packages: 1.0 <br> Service Time: 80.0",
          "Sequence: 47<br> Stop ID: IS<br>Zone ID: D-8.3J<br>Num Packages: 1.0 <br> Service Time: 149.0"
         ],
         "type": "scattermapbox"
        },
        {
         "hoverinfo": "text",
         "lat": [
          42.13305,
          42.134075,
          42.13207
         ],
         "lon": [
          -88.047733,
          -88.044372,
          -88.047957
         ],
         "marker": {
          "size": 15
         },
         "mode": "markers",
         "name": "D-8.3H",
         "text": [
          "Sequence: 48<br> Stop ID: XJ<br>Zone ID: D-8.3H<br>Num Packages: 1.0 <br> Service Time: 48.0",
          "Sequence: 49<br> Stop ID: WX<br>Zone ID: D-8.3H<br>Num Packages: 1.0 <br> Service Time: 58.0",
          "Sequence: 50<br> Stop ID: XQ<br>Zone ID: D-8.3H<br>Num Packages: 1.0 <br> Service Time: 58.0"
         ],
         "type": "scattermapbox"
        },
        {
         "hoverinfo": "text",
         "lat": [
          42.132063,
          42.134282,
          42.133652,
          42.133454,
          42.131008,
          42.128874,
          42.129748,
          42.129921,
          42.131093,
          42.131737,
          42.131105,
          42.130444,
          42.129422
         ],
         "lon": [
          -88.042602,
          -88.043135,
          -88.043142,
          -88.043144,
          -88.04375,
          -88.042146,
          -88.042932,
          -88.04139,
          -88.042323,
          -88.04025,
          -88.0394,
          -88.037884,
          -88.037895
         ],
         "marker": {
          "size": 15
         },
         "mode": "markers",
         "name": "D-8.2H",
         "text": [
          "Sequence: 51<br> Stop ID: DT<br>Zone ID: D-8.2H<br>Num Packages: 1.0 <br> Service Time: 54.0",
          "Sequence: 52<br> Stop ID: SQ<br>Zone ID: D-8.2H<br>Num Packages: 1.0 <br> Service Time: 79.0",
          "Sequence: 53<br> Stop ID: OW<br>Zone ID: D-8.2H<br>Num Packages: 1.0 <br> Service Time: 64.0",
          "Sequence: 54<br> Stop ID: AK<br>Zone ID: D-8.2H<br>Num Packages: 1.0 <br> Service Time: 157.0",
          "Sequence: 55<br> Stop ID: MA<br>Zone ID: D-8.2H<br>Num Packages: 1.0 <br> Service Time: 57.0",
          "Sequence: 56<br> Stop ID: JC<br>Zone ID: D-8.2H<br>Num Packages: 1.0 <br> Service Time: 64.0",
          "Sequence: 57<br> Stop ID: ZO<br>Zone ID: D-8.2H<br>Num Packages: 1.0 <br> Service Time: 48.0",
          "Sequence: 58<br> Stop ID: YK<br>Zone ID: D-8.2H<br>Num Packages: 1.0 <br> Service Time: 72.0",
          "Sequence: 59<br> Stop ID: YJ<br>Zone ID: D-8.2H<br>Num Packages: 1.0 <br> Service Time: 93.0",
          "Sequence: 60<br> Stop ID: OH<br>Zone ID: D-8.2H<br>Num Packages: 3.0 <br> Service Time: 78.0",
          "Sequence: 61<br> Stop ID: GP<br>Zone ID: D-8.2H<br>Num Packages: 1.0 <br> Service Time: 75.0",
          "Sequence: 62<br> Stop ID: VO<br>Zone ID: D-8.2H<br>Num Packages: 1.0 <br> Service Time: 55.0",
          "Sequence: 63<br> Stop ID: AN<br>Zone ID: D-8.2H<br>Num Packages: 1.0 <br> Service Time: 60.0"
         ],
         "type": "scattermapbox"
        },
        {
         "hoverinfo": "text",
         "lat": [
          42.128841,
          42.128815,
          42.125684,
          42.126766,
          42.127935,
          42.127948,
          42.129722,
          42.129728,
          42.130161,
          42.132696,
          42.131014,
          42.131009,
          42.131031
         ],
         "lon": [
          -88.037114,
          -88.034782,
          -88.038542,
          -88.038007,
          -88.036821,
          -88.038602,
          -88.034192,
          -88.035091,
          -88.03669,
          -88.039367,
          -88.030128,
          -88.029694,
          -88.032127
         ],
         "marker": {
          "size": 15
         },
         "mode": "markers",
         "name": "D-8.1H",
         "text": [
          "Sequence: 64<br> Stop ID: TR<br>Zone ID: D-8.1H<br>Num Packages: 1.0 <br> Service Time: 48.0",
          "Sequence: 65<br> Stop ID: EQ<br>Zone ID: D-8.1H<br>Num Packages: 2.0 <br> Service Time: 72.0",
          "Sequence: 66<br> Stop ID: NH<br>Zone ID: D-8.1H<br>Num Packages: 3.0 <br> Service Time: 66.3",
          "Sequence: 67<br> Stop ID: UH<br>Zone ID: D-8.1H<br>Num Packages: 1.0 <br> Service Time: 83.0",
          "Sequence: 68<br> Stop ID: QM<br>Zone ID: D-8.1H<br>Num Packages: 3.0 <br> Service Time: 52.70000000000001",
          "Sequence: 69<br> Stop ID: EY<br>Zone ID: D-8.1H<br>Num Packages: 2.0 <br> Service Time: 67.5",
          "Sequence: 70<br> Stop ID: CW<br>Zone ID: D-8.1H<br>Num Packages: 2.0 <br> Service Time: 40.0",
          "Sequence: 71<br> Stop ID: PB<br>Zone ID: D-8.1H<br>Num Packages: 1.0 <br> Service Time: 112.0",
          "Sequence: 72<br> Stop ID: DZ<br>Zone ID: D-8.1H<br>Num Packages: 3.0 <br> Service Time: 27.0",
          "Sequence: 73<br> Stop ID: WF<br>Zone ID: D-8.1H<br>Num Packages: 1.0 <br> Service Time: 90.0",
          "Sequence: 74<br> Stop ID: JO<br>Zone ID: D-8.1H<br>Num Packages: 1.0 <br> Service Time: 42.0",
          "Sequence: 75<br> Stop ID: XY<br>Zone ID: D-8.1H<br>Num Packages: 1.0 <br> Service Time: 117.0",
          "Sequence: 76<br> Stop ID: CG<br>Zone ID: D-8.1H<br>Num Packages: 1.0 <br> Service Time: 88.0"
         ],
         "type": "scattermapbox"
        },
        {
         "hoverinfo": "text",
         "lat": [
          42.133213,
          42.134086,
          42.134451,
          42.133856,
          42.134772,
          42.135233
         ],
         "lon": [
          -88.032575,
          -88.032572,
          -88.033256,
          -88.031333,
          -88.02878,
          -88.029141
         ],
         "marker": {
          "size": 15
         },
         "mode": "markers",
         "name": "D-8.1G",
         "text": [
          "Sequence: 77<br> Stop ID: HQ<br>Zone ID: D-8.1G<br>Num Packages: 1.0 <br> Service Time: 174.0",
          "Sequence: 78<br> Stop ID: WD<br>Zone ID: D-8.1G<br>Num Packages: 2.0 <br> Service Time: 53.5",
          "Sequence: 79<br> Stop ID: CO<br>Zone ID: D-8.1G<br>Num Packages: 1.0 <br> Service Time: 73.0",
          "Sequence: 80<br> Stop ID: NZ<br>Zone ID: D-8.1G<br>Num Packages: 2.0 <br> Service Time: 40.5",
          "Sequence: 81<br> Stop ID: XA<br>Zone ID: D-8.1G<br>Num Packages: 1.0 <br> Service Time: 56.0",
          "Sequence: 82<br> Stop ID: BV<br>Zone ID: D-8.1G<br>Num Packages: 1.0 <br> Service Time: 57.0"
         ],
         "type": "scattermapbox"
        },
        {
         "hoverinfo": "text",
         "lat": [
          42.135096,
          42.135031,
          42.135579,
          42.135986,
          42.133905
         ],
         "lon": [
          -88.028599,
          -88.027462,
          -88.02642,
          -88.028705,
          -88.026438
         ],
         "marker": {
          "size": 15
         },
         "mode": "markers",
         "name": "D-8.2G",
         "text": [
          "Sequence: 83<br> Stop ID: QB<br>Zone ID: D-8.2G<br>Num Packages: 1.0 <br> Service Time: 72.0",
          "Sequence: 84<br> Stop ID: YX<br>Zone ID: D-8.2G<br>Num Packages: 4.0 <br> Service Time: 75.8",
          "Sequence: 85<br> Stop ID: KV<br>Zone ID: D-8.2G<br>Num Packages: 2.0 <br> Service Time: 34.0",
          "Sequence: 86<br> Stop ID: KN<br>Zone ID: D-8.2G<br>Num Packages: 2.0 <br> Service Time: 44.0",
          "Sequence: 87<br> Stop ID: ZI<br>Zone ID: D-8.2G<br>Num Packages: 2.0 <br> Service Time: 44.0"
         ],
         "type": "scattermapbox"
        },
        {
         "hoverinfo": "text",
         "lat": [
          42.13282,
          42.131919,
          42.131924,
          42.132458,
          42.131976,
          42.131686,
          42.131002,
          42.131001,
          42.131001
         ],
         "lon": [
          -88.02541,
          -88.024397,
          -88.02661,
          -88.027574,
          -88.031215,
          -88.02858,
          -88.027713,
          -88.027127,
          -88.024676
         ],
         "marker": {
          "size": 15
         },
         "mode": "markers",
         "name": "D-8.3G",
         "text": [
          "Sequence: 88<br> Stop ID: UP<br>Zone ID: D-8.3G<br>Num Packages: 4.0 <br> Service Time: 62.5",
          "Sequence: 89<br> Stop ID: OJ<br>Zone ID: D-8.3G<br>Num Packages: 2.0 <br> Service Time: 76.5",
          "Sequence: 90<br> Stop ID: NU<br>Zone ID: D-8.3G<br>Num Packages: 2.0 <br> Service Time: 87.0",
          "Sequence: 91<br> Stop ID: ZQ<br>Zone ID: D-8.3G<br>Num Packages: 1.0 <br> Service Time: 62.0",
          "Sequence: 92<br> Stop ID: OF<br>Zone ID: D-8.3G<br>Num Packages: 3.0 <br> Service Time: 39.7",
          "Sequence: 93<br> Stop ID: IK<br>Zone ID: D-8.3G<br>Num Packages: 1.0 <br> Service Time: 66.0",
          "Sequence: 94<br> Stop ID: CI<br>Zone ID: D-8.3G<br>Num Packages: 1.0 <br> Service Time: 53.0",
          "Sequence: 95<br> Stop ID: XF<br>Zone ID: D-8.3G<br>Num Packages: 1.0 <br> Service Time: 62.0",
          "Sequence: 96<br> Stop ID: TW<br>Zone ID: D-8.3G<br>Num Packages: 2.0 <br> Service Time: 44.5"
         ],
         "type": "scattermapbox"
        },
        {
         "hoverinfo": "text",
         "lat": [
          42.130126,
          42.130132,
          42.128781,
          42.127062,
          42.126468,
          42.128549,
          42.129085,
          42.127843,
          42.126695,
          42.127031,
          42.127862,
          42.129266
         ],
         "lon": [
          -88.025014,
          -88.026442,
          -88.024088,
          -88.024085,
          -88.024692,
          -88.025863,
          -88.027485,
          -88.026612,
          -88.026331,
          -88.027461,
          -88.027852,
          -88.028331
         ],
         "marker": {
          "size": 15
         },
         "mode": "markers",
         "name": "D-8.3E",
         "text": [
          "Sequence: 97<br> Stop ID: NY<br>Zone ID: D-8.3E<br>Num Packages: 1.0 <br> Service Time: 233.0",
          "Sequence: 98<br> Stop ID: BA<br>Zone ID: D-8.3E<br>Num Packages: 1.0 <br> Service Time: 64.0",
          "Sequence: 99<br> Stop ID: CM<br>Zone ID: D-8.3E<br>Num Packages: 1.0 <br> Service Time: 46.0",
          "Sequence: 100<br> Stop ID: ER<br>Zone ID: D-8.3E<br>Num Packages: 2.0 <br> Service Time: 61.5",
          "Sequence: 101<br> Stop ID: UO<br>Zone ID: D-8.3E<br>Num Packages: 2.0 <br> Service Time: 70.5",
          "Sequence: 102<br> Stop ID: TH<br>Zone ID: D-8.3E<br>Num Packages: 1.0 <br> Service Time: 66.0",
          "Sequence: 103<br> Stop ID: AH<br>Zone ID: D-8.3E<br>Num Packages: 1.0 <br> Service Time: 78.0",
          "Sequence: 104<br> Stop ID: NF<br>Zone ID: D-8.3E<br>Num Packages: 1.0 <br> Service Time: 96.0",
          "Sequence: 105<br> Stop ID: SO<br>Zone ID: D-8.3E<br>Num Packages: 1.0 <br> Service Time: 58.0",
          "Sequence: 106<br> Stop ID: KG<br>Zone ID: D-8.3E<br>Num Packages: 1.0 <br> Service Time: 64.0",
          "Sequence: 107<br> Stop ID: HG<br>Zone ID: D-8.3E<br>Num Packages: 1.0 <br> Service Time: 38.0",
          "Sequence: 108<br> Stop ID: MM<br>Zone ID: D-8.3E<br>Num Packages: 2.0 <br> Service Time: 26.0"
         ],
         "type": "scattermapbox"
        },
        {
         "hoverinfo": "text",
         "lat": [
          42.129273,
          42.127363,
          42.126545,
          42.126553,
          42.127935,
          42.127363,
          42.126501,
          42.125898,
          42.125669
         ],
         "lon": [
          -88.03261,
          -88.031892,
          -88.032303,
          -88.03307,
          -88.035247,
          -88.035984,
          -88.036894,
          -88.034709,
          -88.035269
         ],
         "marker": {
          "size": 15
         },
         "mode": "markers",
         "name": "D-8.2E",
         "text": [
          "Sequence: 109<br> Stop ID: GC<br>Zone ID: D-8.2E<br>Num Packages: 2.0 <br> Service Time: 97.5",
          "Sequence: 110<br> Stop ID: OI<br>Zone ID: D-8.2E<br>Num Packages: 1.0 <br> Service Time: 54.0",
          "Sequence: 111<br> Stop ID: FR<br>Zone ID: D-8.2E<br>Num Packages: 3.0 <br> Service Time: 45.70000000000001",
          "Sequence: 112<br> Stop ID: SM<br>Zone ID: D-8.2E<br>Num Packages: 3.0 <br> Service Time: 35.3",
          "Sequence: 113<br> Stop ID: YB<br>Zone ID: D-8.2E<br>Num Packages: 1.0 <br> Service Time: 66.0",
          "Sequence: 114<br> Stop ID: YN<br>Zone ID: D-8.2E<br>Num Packages: 1.0 <br> Service Time: 89.0",
          "Sequence: 115<br> Stop ID: RD<br>Zone ID: D-8.2E<br>Num Packages: 1.0 <br> Service Time: 64.0",
          "Sequence: 116<br> Stop ID: HV<br>Zone ID: D-8.2E<br>Num Packages: 1.0 <br> Service Time: 92.0",
          "Sequence: 117<br> Stop ID: BL<br>Zone ID: D-8.2E<br>Num Packages: 1.0 <br> Service Time: 72.0"
         ],
         "type": "scattermapbox"
        },
        {
         "hoverinfo": "text",
         "lat": [
          42.123879,
          42.123379,
          42.123375,
          42.122188,
          42.120547,
          42.119086,
          42.119607,
          42.122376,
          42.123654,
          42.124233,
          42.124254,
          42.123602,
          42.122974,
          42.122625
         ],
         "lon": [
          -88.033107,
          -88.032213,
          -88.030728,
          -88.033265,
          -88.030685,
          -88.03069,
          -88.029611,
          -88.029899,
          -88.02962,
          -88.029766,
          -88.030676,
          -88.03466,
          -88.03483,
          -88.035043
         ],
         "marker": {
          "size": 15
         },
         "mode": "markers",
         "name": "D-8.1E",
         "text": [
          "Sequence: 118<br> Stop ID: MU<br>Zone ID: D-8.1E<br>Num Packages: 1.0 <br> Service Time: 69.0",
          "Sequence: 119<br> Stop ID: AY<br>Zone ID: D-8.1E<br>Num Packages: 3.0 <br> Service Time: 69.7",
          "Sequence: 120<br> Stop ID: TO<br>Zone ID: D-8.1E<br>Num Packages: 1.0 <br> Service Time: 59.0",
          "Sequence: 121<br> Stop ID: NV<br>Zone ID: D-8.1E<br>Num Packages: 1.0 <br> Service Time: 118.0",
          "Sequence: 122<br> Stop ID: SS<br>Zone ID: D-8.1E<br>Num Packages: 1.0 <br> Service Time: 48.0",
          "Sequence: 123<br> Stop ID: UG<br>Zone ID: D-8.1E<br>Num Packages: 1.0 <br> Service Time: 83.0",
          "Sequence: 124<br> Stop ID: DG<br>Zone ID: D-8.1E<br>Num Packages: 1.0 <br> Service Time: 52.0",
          "Sequence: 125<br> Stop ID: SI<br>Zone ID: D-8.1E<br>Num Packages: 1.0 <br> Service Time: 69.0",
          "Sequence: 126<br> Stop ID: KE<br>Zone ID: D-8.1E<br>Num Packages: 1.0 <br> Service Time: 73.0",
          "Sequence: 127<br> Stop ID: NR<br>Zone ID: D-8.1E<br>Num Packages: 1.0 <br> Service Time: 52.0",
          "Sequence: 128<br> Stop ID: RU<br>Zone ID: D-8.1E<br>Num Packages: 1.0 <br> Service Time: 47.0",
          "Sequence: 129<br> Stop ID: FQ<br>Zone ID: D-8.1E<br>Num Packages: 1.0 <br> Service Time: 71.0",
          "Sequence: 130<br> Stop ID: RH<br>Zone ID: D-8.1E<br>Num Packages: 1.0 <br> Service Time: 143.0",
          "Sequence: 131<br> Stop ID: MF<br>Zone ID: D-8.1E<br>Num Packages: 1.0 <br> Service Time: 252.0"
         ],
         "type": "scattermapbox"
        },
        {
         "hoverinfo": "text",
         "lat": [
          42.121971,
          42.115862,
          42.114927
         ],
         "lon": [
          -88.03801,
          -88.031135,
          -88.031544
         ],
         "marker": {
          "size": 15
         },
         "mode": "markers",
         "name": "D-8.1D",
         "text": [
          "Sequence: 132<br> Stop ID: IX<br>Zone ID: D-8.1D<br>Num Packages: 6.0 <br> Service Time: 64.8",
          "Sequence: 133<br> Stop ID: FU<br>Zone ID: D-8.1D<br>Num Packages: 2.0 <br> Service Time: 38.5",
          "Sequence: 134<br> Stop ID: OD<br>Zone ID: D-8.1D<br>Num Packages: 1.0 <br> Service Time: 92.0"
         ],
         "type": "scattermapbox"
        },
        {
         "hoverinfo": "text",
         "lat": [
          42.114245,
          42.112062,
          42.112055,
          42.112593,
          42.113414,
          42.110978
         ],
         "lon": [
          -88.03114,
          -88.031029,
          -88.029714,
          -88.029043,
          -88.027425,
          -88.027422
         ],
         "marker": {
          "size": 15
         },
         "mode": "markers",
         "name": "D-8.2D",
         "text": [
          "Sequence: 135<br> Stop ID: DM<br>Zone ID: D-8.2D<br>Num Packages: 1.0 <br> Service Time: 60.0",
          "Sequence: 136<br> Stop ID: HB<br>Zone ID: D-8.2D<br>Num Packages: 1.0 <br> Service Time: 59.0",
          "Sequence: 137<br> Stop ID: IP<br>Zone ID: D-8.2D<br>Num Packages: 1.0 <br> Service Time: 49.0",
          "Sequence: 138<br> Stop ID: KS<br>Zone ID: D-8.2D<br>Num Packages: 3.0 <br> Service Time: 77.7",
          "Sequence: 139<br> Stop ID: VH<br>Zone ID: D-8.2D<br>Num Packages: 1.0 <br> Service Time: 118.0",
          "Sequence: 140<br> Stop ID: SW<br>Zone ID: D-8.2D<br>Num Packages: 1.0 <br> Service Time: 95.0"
         ],
         "type": "scattermapbox"
        },
        {
         "hoverinfo": "text",
         "lat": [
          42.109572,
          42.109579,
          42.10701,
          42.107027,
          42.108395,
          42.109334,
          42.111391,
          42.112436,
          42.107906,
          42.107336,
          42.105925,
          42.105136,
          42.106359,
          42.107244
         ],
         "lon": [
          -88.027437,
          -88.0217,
          -88.022233,
          -88.020213,
          -88.022737,
          -88.024165,
          -88.02416,
          -88.025802,
          -88.025814,
          -88.025808,
          -88.025797,
          -88.025792,
          -88.027433,
          -88.027437
         ],
         "marker": {
          "size": 15
         },
         "mode": "markers",
         "name": "D-8.2B",
         "text": [
          "Sequence: 141<br> Stop ID: HA<br>Zone ID: D-8.2B<br>Num Packages: 1.0 <br> Service Time: 115.0",
          "Sequence: 142<br> Stop ID: EF<br>Zone ID: D-8.2B<br>Num Packages: 2.0 <br> Service Time: 50.5",
          "Sequence: 143<br> Stop ID: VD<br>Zone ID: D-8.2B<br>Num Packages: 1.0 <br> Service Time: 52.0",
          "Sequence: 144<br> Stop ID: ON<br>Zone ID: D-8.2B<br>Num Packages: 1.0 <br> Service Time: 53.0",
          "Sequence: 145<br> Stop ID: GZ<br>Zone ID: D-8.2B<br>Num Packages: 1.0 <br> Service Time: 57.0",
          "Sequence: 146<br> Stop ID: UI<br>Zone ID: D-8.2B<br>Num Packages: 1.0 <br> Service Time: 133.0",
          "Sequence: 147<br> Stop ID: YA<br>Zone ID: D-8.2B<br>Num Packages: 1.0 <br> Service Time: 79.0",
          "Sequence: 148<br> Stop ID: UF<br>Zone ID: D-8.2B<br>Num Packages: 1.0 <br> Service Time: 89.0",
          "Sequence: 149<br> Stop ID: GB<br>Zone ID: D-8.2B<br>Num Packages: 1.0 <br> Service Time: 58.0",
          "Sequence: 150<br> Stop ID: GU<br>Zone ID: D-8.2B<br>Num Packages: 1.0 <br> Service Time: 74.0",
          "Sequence: 151<br> Stop ID: FK<br>Zone ID: D-8.2B<br>Num Packages: 1.0 <br> Service Time: 70.0",
          "Sequence: 152<br> Stop ID: ZL<br>Zone ID: D-8.2B<br>Num Packages: 1.0 <br> Service Time: 66.0",
          "Sequence: 153<br> Stop ID: WY<br>Zone ID: D-8.2B<br>Num Packages: 1.0 <br> Service Time: 70.0",
          "Sequence: 154<br> Stop ID: XK<br>Zone ID: D-8.2B<br>Num Packages: 1.0 <br> Service Time: 159.0"
         ],
         "type": "scattermapbox"
        },
        {
         "hoverinfo": "text",
         "lat": [
          42.107767,
          42.108913,
          42.108819,
          42.108287,
          42.107161,
          42.107973,
          42.109444,
          42.110255
         ],
         "lon": [
          -88.029074,
          -88.02907,
          -88.030698,
          -88.030702,
          -88.032347,
          -88.032343,
          -88.032333,
          -88.029854
         ],
         "marker": {
          "size": 15
         },
         "mode": "markers",
         "name": "D-8.1B",
         "text": [
          "Sequence: 155<br> Stop ID: FD<br>Zone ID: D-8.1B<br>Num Packages: 2.0 <br> Service Time: 53.0",
          "Sequence: 156<br> Stop ID: GY<br>Zone ID: D-8.1B<br>Num Packages: 1.0 <br> Service Time: 71.0",
          "Sequence: 157<br> Stop ID: RO<br>Zone ID: D-8.1B<br>Num Packages: 1.0 <br> Service Time: 105.0",
          "Sequence: 158<br> Stop ID: UR<br>Zone ID: D-8.1B<br>Num Packages: 1.0 <br> Service Time: 84.0",
          "Sequence: 159<br> Stop ID: BC<br>Zone ID: D-8.1B<br>Num Packages: 6.0 <br> Service Time: 37.699999999999996",
          "Sequence: 160<br> Stop ID: SK<br>Zone ID: D-8.1B<br>Num Packages: 1.0 <br> Service Time: 63.0",
          "Sequence: 161<br> Stop ID: CH<br>Zone ID: D-8.1B<br>Num Packages: 1.0 <br> Service Time: 64.0",
          "Sequence: 162<br> Stop ID: WO<br>Zone ID: D-8.1B<br>Num Packages: 1.0 <br> Service Time: 115.0"
         ],
         "type": "scattermapbox"
        },
        {
         "hoverinfo": "text",
         "lat": [
          42.110313,
          42.109819,
          42.10896,
          42.108656,
          42.107882,
          42.109062,
          42.109283,
          42.110246
         ],
         "lon": [
          -88.037638,
          -88.03641,
          -88.03641,
          -88.037391,
          -88.035445,
          -88.035197,
          -88.038294,
          -88.038667
         ],
         "marker": {
          "size": 15
         },
         "mode": "markers",
         "name": "D-8.1C",
         "text": [
          "Sequence: 163<br> Stop ID: EC<br>Zone ID: D-8.1C<br>Num Packages: 1.0 <br> Service Time: 84.0",
          "Sequence: 164<br> Stop ID: IF<br>Zone ID: D-8.1C<br>Num Packages: 1.0 <br> Service Time: 116.0",
          "Sequence: 165<br> Stop ID: BS<br>Zone ID: D-8.1C<br>Num Packages: 2.0 <br> Service Time: 51.0",
          "Sequence: 166<br> Stop ID: EU<br>Zone ID: D-8.1C<br>Num Packages: 1.0 <br> Service Time: 89.0",
          "Sequence: 167<br> Stop ID: AU<br>Zone ID: D-8.1C<br>Num Packages: 1.0 <br> Service Time: 33.0",
          "Sequence: 168<br> Stop ID: SF<br>Zone ID: D-8.1C<br>Num Packages: 1.0 <br> Service Time: 69.0",
          "Sequence: 169<br> Stop ID: YS<br>Zone ID: D-8.1C<br>Num Packages: 1.0 <br> Service Time: 136.0",
          "Sequence: 170<br> Stop ID: VX<br>Zone ID: D-8.1C<br>Num Packages: 2.0 <br> Service Time: 94.0"
         ],
         "type": "scattermapbox"
        },
        {
         "hoverinfo": "text",
         "lat": [
          42.110331,
          42.112258,
          42.111254,
          42.11103,
          42.111796
         ],
         "lon": [
          -88.039213,
          -88.03888,
          -88.040606,
          -88.04133,
          -88.04132
         ],
         "marker": {
          "size": 15
         },
         "mode": "markers",
         "name": "D-8.2C",
         "text": [
          "Sequence: 171<br> Stop ID: XP<br>Zone ID: D-8.2C<br>Num Packages: 1.0 <br> Service Time: 58.0",
          "Sequence: 172<br> Stop ID: ZB<br>Zone ID: D-8.2C<br>Num Packages: 1.0 <br> Service Time: 115.0",
          "Sequence: 173<br> Stop ID: DQ<br>Zone ID: D-8.2C<br>Num Packages: 1.0 <br> Service Time: 50.0",
          "Sequence: 174<br> Stop ID: LD<br>Zone ID: D-8.2C<br>Num Packages: 2.0 <br> Service Time: 36.5",
          "Sequence: 175<br> Stop ID: QN<br>Zone ID: D-8.2C<br>Num Packages: 1.0 <br> Service Time: 80.0"
         ],
         "type": "scattermapbox"
        },
        {
         "hoverinfo": "text",
         "lat": [
          42.113161,
          42.113782,
          42.113068,
          42.113072,
          42.113638,
          42.114383,
          42.116969,
          42.114718,
          42.116606,
          42.11633
         ],
         "lon": [
          -88.04132,
          -88.04132,
          -88.039517,
          -88.04024,
          -88.043764,
          -88.042536,
          -88.042539,
          -88.042532,
          -88.0413,
          -88.039961
         ],
         "marker": {
          "size": 15
         },
         "mode": "markers",
         "name": "D-8.3C",
         "text": [
          "Sequence: 176<br> Stop ID: HW<br>Zone ID: D-8.3C<br>Num Packages: 1.0 <br> Service Time: 55.0",
          "Sequence: 177<br> Stop ID: JZ<br>Zone ID: D-8.3C<br>Num Packages: 1.0 <br> Service Time: 59.0",
          "Sequence: 178<br> Stop ID: HU<br>Zone ID: D-8.3C<br>Num Packages: 2.0 <br> Service Time: 44.0",
          "Sequence: 179<br> Stop ID: KZ<br>Zone ID: D-8.3C<br>Num Packages: 1.0 <br> Service Time: 71.0",
          "Sequence: 180<br> Stop ID: VL<br>Zone ID: D-8.3C<br>Num Packages: 1.0 <br> Service Time: 72.0",
          "Sequence: 181<br> Stop ID: ZH<br>Zone ID: D-8.3C<br>Num Packages: 1.0 <br> Service Time: 71.0",
          "Sequence: 182<br> Stop ID: DS<br>Zone ID: D-8.3C<br>Num Packages: 1.0 <br> Service Time: 63.0",
          "Sequence: 183<br> Stop ID: MJ<br>Zone ID: D-8.3C<br>Num Packages: 1.0 <br> Service Time: 36.0",
          "Sequence: 184<br> Stop ID: MI<br>Zone ID: D-8.3C<br>Num Packages: 1.0 <br> Service Time: 112.0",
          "Sequence: 185<br> Stop ID: GO<br>Zone ID: D-8.3C<br>Num Packages: 1.0 <br> Service Time: 169.0"
         ],
         "type": "scattermapbox"
        },
        {
         "hoverinfo": "text",
         "lat": [
          42.115201,
          42.115848,
          42.114021,
          42.116358,
          42.11625,
          42.115827,
          42.114226,
          42.254346
         ],
         "lon": [
          -88.038798,
          -88.037606,
          -88.0364,
          -88.036406,
          -88.035184,
          -88.035189,
          -88.035188,
          -87.985697
         ],
         "marker": {
          "size": 15
         },
         "mode": "markers",
         "name": "D-8.3D",
         "text": [
          "Sequence: 186<br> Stop ID: WV<br>Zone ID: D-8.3D<br>Num Packages: 3.0 <br> Service Time: 29.3",
          "Sequence: 187<br> Stop ID: UC<br>Zone ID: D-8.3D<br>Num Packages: 1.0 <br> Service Time: 79.0",
          "Sequence: 188<br> Stop ID: BK<br>Zone ID: D-8.3D<br>Num Packages: 1.0 <br> Service Time: 147.0",
          "Sequence: 189<br> Stop ID: QI<br>Zone ID: D-8.3D<br>Num Packages: 1.0 <br> Service Time: 80.0",
          "Sequence: 190<br> Stop ID: XH<br>Zone ID: D-8.3D<br>Num Packages: 1.0 <br> Service Time: 42.0",
          "Sequence: 191<br> Stop ID: JN<br>Zone ID: D-8.3D<br>Num Packages: 2.0 <br> Service Time: 26.0",
          "Sequence: 192<br> Stop ID: YV<br>Zone ID: D-8.3D<br>Num Packages: 2.0 <br> Service Time: 27.0",
          "Sequence: 193<br> Stop ID: HJ<br>Zone ID: D-8.3D<br>Num Packages: nan <br> Service Time: nan"
         ],
         "type": "scattermapbox"
        }
       ],
       "layout": {
        "height": 600,
        "mapbox": {
         "center": {
          "lat": 42.1269417371134,
          "lon": -88.03492662886597
         },
         "style": "open-street-map",
         "zoom": 10
        },
        "margin": {
         "b": 10,
         "l": 10,
         "r": 10,
         "t": 10
        },
        "showlegend": false,
        "template": {
         "data": {
          "bar": [
           {
            "error_x": {
             "color": "#2a3f5f"
            },
            "error_y": {
             "color": "#2a3f5f"
            },
            "marker": {
             "line": {
              "color": "#E5ECF6",
              "width": 0.5
             },
             "pattern": {
              "fillmode": "overlay",
              "size": 10,
              "solidity": 0.2
             }
            },
            "type": "bar"
           }
          ],
          "barpolar": [
           {
            "marker": {
             "line": {
              "color": "#E5ECF6",
              "width": 0.5
             },
             "pattern": {
              "fillmode": "overlay",
              "size": 10,
              "solidity": 0.2
             }
            },
            "type": "barpolar"
           }
          ],
          "carpet": [
           {
            "aaxis": {
             "endlinecolor": "#2a3f5f",
             "gridcolor": "white",
             "linecolor": "white",
             "minorgridcolor": "white",
             "startlinecolor": "#2a3f5f"
            },
            "baxis": {
             "endlinecolor": "#2a3f5f",
             "gridcolor": "white",
             "linecolor": "white",
             "minorgridcolor": "white",
             "startlinecolor": "#2a3f5f"
            },
            "type": "carpet"
           }
          ],
          "choropleth": [
           {
            "colorbar": {
             "outlinewidth": 0,
             "ticks": ""
            },
            "type": "choropleth"
           }
          ],
          "contour": [
           {
            "colorbar": {
             "outlinewidth": 0,
             "ticks": ""
            },
            "colorscale": [
             [
              0,
              "#0d0887"
             ],
             [
              0.1111111111111111,
              "#46039f"
             ],
             [
              0.2222222222222222,
              "#7201a8"
             ],
             [
              0.3333333333333333,
              "#9c179e"
             ],
             [
              0.4444444444444444,
              "#bd3786"
             ],
             [
              0.5555555555555556,
              "#d8576b"
             ],
             [
              0.6666666666666666,
              "#ed7953"
             ],
             [
              0.7777777777777778,
              "#fb9f3a"
             ],
             [
              0.8888888888888888,
              "#fdca26"
             ],
             [
              1,
              "#f0f921"
             ]
            ],
            "type": "contour"
           }
          ],
          "contourcarpet": [
           {
            "colorbar": {
             "outlinewidth": 0,
             "ticks": ""
            },
            "type": "contourcarpet"
           }
          ],
          "heatmap": [
           {
            "colorbar": {
             "outlinewidth": 0,
             "ticks": ""
            },
            "colorscale": [
             [
              0,
              "#0d0887"
             ],
             [
              0.1111111111111111,
              "#46039f"
             ],
             [
              0.2222222222222222,
              "#7201a8"
             ],
             [
              0.3333333333333333,
              "#9c179e"
             ],
             [
              0.4444444444444444,
              "#bd3786"
             ],
             [
              0.5555555555555556,
              "#d8576b"
             ],
             [
              0.6666666666666666,
              "#ed7953"
             ],
             [
              0.7777777777777778,
              "#fb9f3a"
             ],
             [
              0.8888888888888888,
              "#fdca26"
             ],
             [
              1,
              "#f0f921"
             ]
            ],
            "type": "heatmap"
           }
          ],
          "heatmapgl": [
           {
            "colorbar": {
             "outlinewidth": 0,
             "ticks": ""
            },
            "colorscale": [
             [
              0,
              "#0d0887"
             ],
             [
              0.1111111111111111,
              "#46039f"
             ],
             [
              0.2222222222222222,
              "#7201a8"
             ],
             [
              0.3333333333333333,
              "#9c179e"
             ],
             [
              0.4444444444444444,
              "#bd3786"
             ],
             [
              0.5555555555555556,
              "#d8576b"
             ],
             [
              0.6666666666666666,
              "#ed7953"
             ],
             [
              0.7777777777777778,
              "#fb9f3a"
             ],
             [
              0.8888888888888888,
              "#fdca26"
             ],
             [
              1,
              "#f0f921"
             ]
            ],
            "type": "heatmapgl"
           }
          ],
          "histogram": [
           {
            "marker": {
             "pattern": {
              "fillmode": "overlay",
              "size": 10,
              "solidity": 0.2
             }
            },
            "type": "histogram"
           }
          ],
          "histogram2d": [
           {
            "colorbar": {
             "outlinewidth": 0,
             "ticks": ""
            },
            "colorscale": [
             [
              0,
              "#0d0887"
             ],
             [
              0.1111111111111111,
              "#46039f"
             ],
             [
              0.2222222222222222,
              "#7201a8"
             ],
             [
              0.3333333333333333,
              "#9c179e"
             ],
             [
              0.4444444444444444,
              "#bd3786"
             ],
             [
              0.5555555555555556,
              "#d8576b"
             ],
             [
              0.6666666666666666,
              "#ed7953"
             ],
             [
              0.7777777777777778,
              "#fb9f3a"
             ],
             [
              0.8888888888888888,
              "#fdca26"
             ],
             [
              1,
              "#f0f921"
             ]
            ],
            "type": "histogram2d"
           }
          ],
          "histogram2dcontour": [
           {
            "colorbar": {
             "outlinewidth": 0,
             "ticks": ""
            },
            "colorscale": [
             [
              0,
              "#0d0887"
             ],
             [
              0.1111111111111111,
              "#46039f"
             ],
             [
              0.2222222222222222,
              "#7201a8"
             ],
             [
              0.3333333333333333,
              "#9c179e"
             ],
             [
              0.4444444444444444,
              "#bd3786"
             ],
             [
              0.5555555555555556,
              "#d8576b"
             ],
             [
              0.6666666666666666,
              "#ed7953"
             ],
             [
              0.7777777777777778,
              "#fb9f3a"
             ],
             [
              0.8888888888888888,
              "#fdca26"
             ],
             [
              1,
              "#f0f921"
             ]
            ],
            "type": "histogram2dcontour"
           }
          ],
          "mesh3d": [
           {
            "colorbar": {
             "outlinewidth": 0,
             "ticks": ""
            },
            "type": "mesh3d"
           }
          ],
          "parcoords": [
           {
            "line": {
             "colorbar": {
              "outlinewidth": 0,
              "ticks": ""
             }
            },
            "type": "parcoords"
           }
          ],
          "pie": [
           {
            "automargin": true,
            "type": "pie"
           }
          ],
          "scatter": [
           {
            "fillpattern": {
             "fillmode": "overlay",
             "size": 10,
             "solidity": 0.2
            },
            "type": "scatter"
           }
          ],
          "scatter3d": [
           {
            "line": {
             "colorbar": {
              "outlinewidth": 0,
              "ticks": ""
             }
            },
            "marker": {
             "colorbar": {
              "outlinewidth": 0,
              "ticks": ""
             }
            },
            "type": "scatter3d"
           }
          ],
          "scattercarpet": [
           {
            "marker": {
             "colorbar": {
              "outlinewidth": 0,
              "ticks": ""
             }
            },
            "type": "scattercarpet"
           }
          ],
          "scattergeo": [
           {
            "marker": {
             "colorbar": {
              "outlinewidth": 0,
              "ticks": ""
             }
            },
            "type": "scattergeo"
           }
          ],
          "scattergl": [
           {
            "marker": {
             "colorbar": {
              "outlinewidth": 0,
              "ticks": ""
             }
            },
            "type": "scattergl"
           }
          ],
          "scattermapbox": [
           {
            "marker": {
             "colorbar": {
              "outlinewidth": 0,
              "ticks": ""
             }
            },
            "type": "scattermapbox"
           }
          ],
          "scatterpolar": [
           {
            "marker": {
             "colorbar": {
              "outlinewidth": 0,
              "ticks": ""
             }
            },
            "type": "scatterpolar"
           }
          ],
          "scatterpolargl": [
           {
            "marker": {
             "colorbar": {
              "outlinewidth": 0,
              "ticks": ""
             }
            },
            "type": "scatterpolargl"
           }
          ],
          "scatterternary": [
           {
            "marker": {
             "colorbar": {
              "outlinewidth": 0,
              "ticks": ""
             }
            },
            "type": "scatterternary"
           }
          ],
          "surface": [
           {
            "colorbar": {
             "outlinewidth": 0,
             "ticks": ""
            },
            "colorscale": [
             [
              0,
              "#0d0887"
             ],
             [
              0.1111111111111111,
              "#46039f"
             ],
             [
              0.2222222222222222,
              "#7201a8"
             ],
             [
              0.3333333333333333,
              "#9c179e"
             ],
             [
              0.4444444444444444,
              "#bd3786"
             ],
             [
              0.5555555555555556,
              "#d8576b"
             ],
             [
              0.6666666666666666,
              "#ed7953"
             ],
             [
              0.7777777777777778,
              "#fb9f3a"
             ],
             [
              0.8888888888888888,
              "#fdca26"
             ],
             [
              1,
              "#f0f921"
             ]
            ],
            "type": "surface"
           }
          ],
          "table": [
           {
            "cells": {
             "fill": {
              "color": "#EBF0F8"
             },
             "line": {
              "color": "white"
             }
            },
            "header": {
             "fill": {
              "color": "#C8D4E3"
             },
             "line": {
              "color": "white"
             }
            },
            "type": "table"
           }
          ]
         },
         "layout": {
          "annotationdefaults": {
           "arrowcolor": "#2a3f5f",
           "arrowhead": 0,
           "arrowwidth": 1
          },
          "autotypenumbers": "strict",
          "coloraxis": {
           "colorbar": {
            "outlinewidth": 0,
            "ticks": ""
           }
          },
          "colorscale": {
           "diverging": [
            [
             0,
             "#8e0152"
            ],
            [
             0.1,
             "#c51b7d"
            ],
            [
             0.2,
             "#de77ae"
            ],
            [
             0.3,
             "#f1b6da"
            ],
            [
             0.4,
             "#fde0ef"
            ],
            [
             0.5,
             "#f7f7f7"
            ],
            [
             0.6,
             "#e6f5d0"
            ],
            [
             0.7,
             "#b8e186"
            ],
            [
             0.8,
             "#7fbc41"
            ],
            [
             0.9,
             "#4d9221"
            ],
            [
             1,
             "#276419"
            ]
           ],
           "sequential": [
            [
             0,
             "#0d0887"
            ],
            [
             0.1111111111111111,
             "#46039f"
            ],
            [
             0.2222222222222222,
             "#7201a8"
            ],
            [
             0.3333333333333333,
             "#9c179e"
            ],
            [
             0.4444444444444444,
             "#bd3786"
            ],
            [
             0.5555555555555556,
             "#d8576b"
            ],
            [
             0.6666666666666666,
             "#ed7953"
            ],
            [
             0.7777777777777778,
             "#fb9f3a"
            ],
            [
             0.8888888888888888,
             "#fdca26"
            ],
            [
             1,
             "#f0f921"
            ]
           ],
           "sequentialminus": [
            [
             0,
             "#0d0887"
            ],
            [
             0.1111111111111111,
             "#46039f"
            ],
            [
             0.2222222222222222,
             "#7201a8"
            ],
            [
             0.3333333333333333,
             "#9c179e"
            ],
            [
             0.4444444444444444,
             "#bd3786"
            ],
            [
             0.5555555555555556,
             "#d8576b"
            ],
            [
             0.6666666666666666,
             "#ed7953"
            ],
            [
             0.7777777777777778,
             "#fb9f3a"
            ],
            [
             0.8888888888888888,
             "#fdca26"
            ],
            [
             1,
             "#f0f921"
            ]
           ]
          },
          "colorway": [
           "#636efa",
           "#EF553B",
           "#00cc96",
           "#ab63fa",
           "#FFA15A",
           "#19d3f3",
           "#FF6692",
           "#B6E880",
           "#FF97FF",
           "#FECB52"
          ],
          "font": {
           "color": "#2a3f5f"
          },
          "geo": {
           "bgcolor": "white",
           "lakecolor": "white",
           "landcolor": "#E5ECF6",
           "showlakes": true,
           "showland": true,
           "subunitcolor": "white"
          },
          "hoverlabel": {
           "align": "left"
          },
          "hovermode": "closest",
          "mapbox": {
           "style": "light"
          },
          "paper_bgcolor": "white",
          "plot_bgcolor": "#E5ECF6",
          "polar": {
           "angularaxis": {
            "gridcolor": "white",
            "linecolor": "white",
            "ticks": ""
           },
           "bgcolor": "#E5ECF6",
           "radialaxis": {
            "gridcolor": "white",
            "linecolor": "white",
            "ticks": ""
           }
          },
          "scene": {
           "xaxis": {
            "backgroundcolor": "#E5ECF6",
            "gridcolor": "white",
            "gridwidth": 2,
            "linecolor": "white",
            "showbackground": true,
            "ticks": "",
            "zerolinecolor": "white"
           },
           "yaxis": {
            "backgroundcolor": "#E5ECF6",
            "gridcolor": "white",
            "gridwidth": 2,
            "linecolor": "white",
            "showbackground": true,
            "ticks": "",
            "zerolinecolor": "white"
           },
           "zaxis": {
            "backgroundcolor": "#E5ECF6",
            "gridcolor": "white",
            "gridwidth": 2,
            "linecolor": "white",
            "showbackground": true,
            "ticks": "",
            "zerolinecolor": "white"
           }
          },
          "shapedefaults": {
           "line": {
            "color": "#2a3f5f"
           }
          },
          "ternary": {
           "aaxis": {
            "gridcolor": "white",
            "linecolor": "white",
            "ticks": ""
           },
           "baxis": {
            "gridcolor": "white",
            "linecolor": "white",
            "ticks": ""
           },
           "bgcolor": "#E5ECF6",
           "caxis": {
            "gridcolor": "white",
            "linecolor": "white",
            "ticks": ""
           }
          },
          "title": {
           "x": 0.05
          },
          "xaxis": {
           "automargin": true,
           "gridcolor": "white",
           "linecolor": "white",
           "ticks": "",
           "title": {
            "standoff": 15
           },
           "zerolinecolor": "white",
           "zerolinewidth": 2
          },
          "yaxis": {
           "automargin": true,
           "gridcolor": "white",
           "linecolor": "white",
           "ticks": "",
           "title": {
            "standoff": 15
           },
           "zerolinecolor": "white",
           "zerolinewidth": 2
          }
         }
        }
       }
      }
     },
     "metadata": {},
     "output_type": "display_data"
    }
   ],
   "source": [
    "fig = go.Figure(go.Scattermapbox(\n",
    "    lat=drone_data_ordered['lat'],\n",
    "    lon=drone_data_ordered['lng'],\n",
    "    mode='lines',\n",
    "    line=dict(width=2, color='blue'),  # Customize line color and width here\n",
    "    hoverinfo='none'\n",
    "))\n",
    "drone_data_ordered['zone_id'].ffill(inplace=True)\n",
    "# Add scatter points for each unique zone_id, with custom hover text\n",
    "for zone_id in drone_data_ordered['zone_id'].unique():\n",
    "    df_sub = drone_data_ordered[drone_data_ordered['zone_id'] == zone_id]\n",
    "\n",
    "    # Creating custom hover text\n",
    "    hover_text = df_sub.apply(lambda row: f\"Sequence: {row.name}<br> Stop ID: {row['stop_id']}<br>Zone ID: {row['zone_id']}<br>Num Packages: {row['num_packages']} <br> Service Time: {row['service_time_seconds']}\", axis=1)\n",
    "\n",
    "\n",
    "    fig.add_trace(go.Scattermapbox(\n",
    "        lat=df_sub['lat'],\n",
    "        lon=df_sub['lng'],\n",
    "        mode='markers',\n",
    "        marker=go.scattermapbox.Marker(size=15),\n",
    "        name=str(zone_id),\n",
    "        text=hover_text,\n",
    "        hoverinfo='text'\n",
    "    ))\n",
    "\n",
    "# Update the layout to use OpenStreetMap style and adjust other layout properties\n",
    "fig.update_layout(\n",
    "\n",
    "    height=600,\n",
    "    mapbox=dict(\n",
    "        style=\"open-street-map\",\n",
    "        zoom=10,  # Adjust zoom level here\n",
    "        center=dict(lat=drone_data_ordered['lat'].mean(), lon=drone_data_ordered['lng'].mean())\n",
    "    ),\n",
    "    showlegend=False  # Set to True if you want to show legend\n",
    ")\n",
    "fig.update_layout(margin=dict(l=10, r=10, t=10, b=10))\n",
    "\n",
    "\n",
    "# Show the figure\n",
    "fig.show()"
   ]
  },
  {
   "cell_type": "code",
   "execution_count": 123,
   "metadata": {},
   "outputs": [
    {
     "data": {
      "application/vnd.plotly.v1+json": {
       "config": {
        "plotlyServerURL": "https://plot.ly"
       },
       "data": [
        {
         "hoverinfo": "none",
         "lat": [
          42.254346,
          42.150791,
          42.144327,
          42.144565,
          42.145825,
          42.145071,
          42.14528,
          42.145141,
          42.145257,
          42.13368,
          42.132907,
          42.136914,
          42.136569,
          42.133809,
          42.134714,
          42.134729,
          42.135592,
          42.134457,
          42.133645,
          42.136439,
          42.134275,
          42.133639,
          42.133052,
          42.1343,
          42.138752,
          42.137919,
          42.13765,
          42.138865,
          42.1386,
          42.137251,
          42.138579,
          42.137793,
          42.137943,
          42.138473,
          42.138093,
          42.138326,
          42.138841,
          42.136177,
          42.13703,
          42.137252,
          42.136992,
          42.134427,
          42.133684,
          42.134087,
          42.135056,
          42.13589,
          42.13498,
          42.132521,
          42.13305,
          42.134075,
          42.13207,
          42.132063,
          42.134282,
          42.133652,
          42.133454,
          42.131008,
          42.128874,
          42.129748,
          42.129921,
          42.131093,
          42.131737,
          42.131105,
          42.130444,
          42.129422,
          42.128841,
          42.128815,
          42.125684,
          42.126766,
          42.127935,
          42.127948,
          42.129722,
          42.129728,
          42.130161,
          42.132696,
          42.131014,
          42.131009,
          42.131031,
          42.133213,
          42.134086,
          42.134451,
          42.133856,
          42.134772,
          42.135233,
          42.135096,
          42.135031,
          42.135579,
          42.135986,
          42.133905,
          42.13282,
          42.131919,
          42.131924,
          42.132458,
          42.131976,
          42.131686,
          42.131002,
          42.131001,
          42.131001,
          42.130126,
          42.130132,
          42.128781,
          42.127062,
          42.126468,
          42.128549,
          42.129085,
          42.127843,
          42.126695,
          42.127031,
          42.127862,
          42.129266,
          42.129273,
          42.127363,
          42.126545,
          42.126553,
          42.127935,
          42.127363,
          42.126501,
          42.125898,
          42.125669,
          42.123879,
          42.123379,
          42.123375,
          42.122188,
          42.120547,
          42.119086,
          42.119607,
          42.122376,
          42.123654,
          42.124233,
          42.124254,
          42.123602,
          42.122974,
          42.122625,
          42.121971,
          42.115862,
          42.114927,
          42.114245,
          42.112062,
          42.112055,
          42.112593,
          42.113414,
          42.110978,
          42.109572,
          42.109579,
          42.10701,
          42.107027,
          42.108395,
          42.109334,
          42.111391,
          42.112436,
          42.107906,
          42.107336,
          42.105925,
          42.105136,
          42.106359,
          42.107244,
          42.107767,
          42.108913,
          42.108819,
          42.108287,
          42.107161,
          42.107973,
          42.109444,
          42.110255,
          42.110313,
          42.109819,
          42.10896,
          42.108656,
          42.107882,
          42.109062,
          42.109283,
          42.110246,
          42.110331,
          42.112258,
          42.111254,
          42.11103,
          42.111796,
          42.113161,
          42.113782,
          42.113068,
          42.113072,
          42.113638,
          42.114383,
          42.116969,
          42.114718,
          42.116606,
          42.11633,
          42.115201,
          42.115848,
          42.114021,
          42.116358,
          42.11625,
          42.115827,
          42.114226,
          42.254346
         ],
         "line": {
          "color": "red",
          "width": 2
         },
         "lon": [
          -87.985697,
          -88.034969,
          -88.032939,
          -88.031799,
          -88.032302,
          -88.032181,
          -88.036679,
          -88.037819,
          -88.036115,
          -88.033884,
          -88.036045,
          -88.031408,
          -88.031328,
          -88.036843,
          -88.036178,
          -88.03754,
          -88.040376,
          -88.039398,
          -88.039383,
          -88.04007,
          -88.04063,
          -88.040635,
          -88.041814,
          -88.041866,
          -88.041745,
          -88.041821,
          -88.04313,
          -88.04553,
          -88.04553,
          -88.04553,
          -88.044311,
          -88.052893,
          -88.051665,
          -88.047033,
          -88.0485,
          -88.049033,
          -88.049205,
          -88.051373,
          -88.052998,
          -88.052204,
          -88.04904,
          -88.049086,
          -88.050275,
          -88.049862,
          -88.047056,
          -88.046189,
          -88.045655,
          -88.049673,
          -88.047733,
          -88.044372,
          -88.047957,
          -88.042602,
          -88.043135,
          -88.043142,
          -88.043144,
          -88.04375,
          -88.042146,
          -88.042932,
          -88.04139,
          -88.042323,
          -88.04025,
          -88.0394,
          -88.037884,
          -88.037895,
          -88.037114,
          -88.034782,
          -88.038542,
          -88.038007,
          -88.036821,
          -88.038602,
          -88.034192,
          -88.035091,
          -88.03669,
          -88.039367,
          -88.030128,
          -88.029694,
          -88.032127,
          -88.032575,
          -88.032572,
          -88.033256,
          -88.031333,
          -88.02878,
          -88.029141,
          -88.028599,
          -88.027462,
          -88.02642,
          -88.028705,
          -88.026438,
          -88.02541,
          -88.024397,
          -88.02661,
          -88.027574,
          -88.031215,
          -88.02858,
          -88.027713,
          -88.027127,
          -88.024676,
          -88.025014,
          -88.026442,
          -88.024088,
          -88.024085,
          -88.024692,
          -88.025863,
          -88.027485,
          -88.026612,
          -88.026331,
          -88.027461,
          -88.027852,
          -88.028331,
          -88.03261,
          -88.031892,
          -88.032303,
          -88.03307,
          -88.035247,
          -88.035984,
          -88.036894,
          -88.034709,
          -88.035269,
          -88.033107,
          -88.032213,
          -88.030728,
          -88.033265,
          -88.030685,
          -88.03069,
          -88.029611,
          -88.029899,
          -88.02962,
          -88.029766,
          -88.030676,
          -88.03466,
          -88.03483,
          -88.035043,
          -88.03801,
          -88.031135,
          -88.031544,
          -88.03114,
          -88.031029,
          -88.029714,
          -88.029043,
          -88.027425,
          -88.027422,
          -88.027437,
          -88.0217,
          -88.022233,
          -88.020213,
          -88.022737,
          -88.024165,
          -88.02416,
          -88.025802,
          -88.025814,
          -88.025808,
          -88.025797,
          -88.025792,
          -88.027433,
          -88.027437,
          -88.029074,
          -88.02907,
          -88.030698,
          -88.030702,
          -88.032347,
          -88.032343,
          -88.032333,
          -88.029854,
          -88.037638,
          -88.03641,
          -88.03641,
          -88.037391,
          -88.035445,
          -88.035197,
          -88.038294,
          -88.038667,
          -88.039213,
          -88.03888,
          -88.040606,
          -88.04133,
          -88.04132,
          -88.04132,
          -88.04132,
          -88.039517,
          -88.04024,
          -88.043764,
          -88.042536,
          -88.042539,
          -88.042532,
          -88.0413,
          -88.039961,
          -88.038798,
          -88.037606,
          -88.0364,
          -88.036406,
          -88.035184,
          -88.035189,
          -88.035188,
          -87.985697
         ],
         "mode": "lines",
         "name": "Drone Path",
         "type": "scattermapbox"
        },
        {
         "hoverinfo": "text",
         "lat": [],
         "lon": [],
         "marker": {
          "size": 15
         },
         "mode": "markers",
         "name": "Drone Zone nan",
         "text": [],
         "type": "scattermapbox"
        },
        {
         "hoverinfo": "text",
         "lat": [
          42.150791,
          42.144327,
          42.144565,
          42.145825,
          42.145071,
          42.14528,
          42.145141,
          42.145257
         ],
         "lon": [
          -88.034969,
          -88.032939,
          -88.031799,
          -88.032302,
          -88.032181,
          -88.036679,
          -88.037819,
          -88.036115
         ],
         "marker": {
          "size": 15
         },
         "mode": "markers",
         "name": "Drone Zone D-7.3J",
         "text": [
          "Sequence: 1<br> Stop ID: YL<br>Zone ID: D-7.3J<br>Num Packages: 2.0 <br> Service Time: 74.5",
          "Sequence: 2<br> Stop ID: WW<br>Zone ID: D-7.3J<br>Num Packages: 1.0 <br> Service Time: 45.0",
          "Sequence: 3<br> Stop ID: VW<br>Zone ID: D-7.3J<br>Num Packages: 2.0 <br> Service Time: 43.5",
          "Sequence: 4<br> Stop ID: JR<br>Zone ID: D-7.3J<br>Num Packages: 3.0 <br> Service Time: 49.0",
          "Sequence: 5<br> Stop ID: SR<br>Zone ID: D-7.3J<br>Num Packages: 2.0 <br> Service Time: 48.0",
          "Sequence: 6<br> Stop ID: WR<br>Zone ID: D-7.3J<br>Num Packages: 1.0 <br> Service Time: 65.0",
          "Sequence: 7<br> Stop ID: JH<br>Zone ID: D-7.3J<br>Num Packages: 1.0 <br> Service Time: 45.0",
          "Sequence: 8<br> Stop ID: JA<br>Zone ID: D-7.3J<br>Num Packages: 2.0 <br> Service Time: 90.5"
         ],
         "type": "scattermapbox"
        },
        {
         "hoverinfo": "text",
         "lat": [
          42.13368,
          42.132907,
          42.136914,
          42.136569,
          42.133809,
          42.134714,
          42.134729
         ],
         "lon": [
          -88.033884,
          -88.036045,
          -88.031408,
          -88.031328,
          -88.036843,
          -88.036178,
          -88.03754
         ],
         "marker": {
          "size": 15
         },
         "mode": "markers",
         "name": "Drone Zone D-7.2J",
         "text": [
          "Sequence: 9<br> Stop ID: CZ<br>Zone ID: D-7.2J<br>Num Packages: 2.0 <br> Service Time: 37.0",
          "Sequence: 10<br> Stop ID: XB<br>Zone ID: D-7.2J<br>Num Packages: 5.0 <br> Service Time: 54.2",
          "Sequence: 11<br> Stop ID: HE<br>Zone ID: D-7.2J<br>Num Packages: 1.0 <br> Service Time: 98.0",
          "Sequence: 12<br> Stop ID: NE<br>Zone ID: D-7.2J<br>Num Packages: 2.0 <br> Service Time: 77.0",
          "Sequence: 13<br> Stop ID: KO<br>Zone ID: D-7.2J<br>Num Packages: 1.0 <br> Service Time: 56.0",
          "Sequence: 14<br> Stop ID: QF<br>Zone ID: D-7.2J<br>Num Packages: 1.0 <br> Service Time: 62.0",
          "Sequence: 15<br> Stop ID: SJ<br>Zone ID: D-7.2J<br>Num Packages: 1.0 <br> Service Time: 64.0"
         ],
         "type": "scattermapbox"
        },
        {
         "hoverinfo": "text",
         "lat": [
          42.135592,
          42.134457,
          42.133645,
          42.136439,
          42.134275,
          42.133639,
          42.133052,
          42.1343,
          42.138752,
          42.137919,
          42.13765
         ],
         "lon": [
          -88.040376,
          -88.039398,
          -88.039383,
          -88.04007,
          -88.04063,
          -88.040635,
          -88.041814,
          -88.041866,
          -88.041745,
          -88.041821,
          -88.04313
         ],
         "marker": {
          "size": 15
         },
         "mode": "markers",
         "name": "Drone Zone D-7.1J",
         "text": [
          "Sequence: 16<br> Stop ID: QA<br>Zone ID: D-7.1J<br>Num Packages: 5.0 <br> Service Time: 35.4",
          "Sequence: 17<br> Stop ID: QC<br>Zone ID: D-7.1J<br>Num Packages: 2.0 <br> Service Time: 106.5",
          "Sequence: 18<br> Stop ID: DC<br>Zone ID: D-7.1J<br>Num Packages: 1.0 <br> Service Time: 50.0",
          "Sequence: 19<br> Stop ID: PK<br>Zone ID: D-7.1J<br>Num Packages: 1.0 <br> Service Time: 55.0",
          "Sequence: 20<br> Stop ID: LV<br>Zone ID: D-7.1J<br>Num Packages: 1.0 <br> Service Time: 49.0",
          "Sequence: 21<br> Stop ID: XC<br>Zone ID: D-7.1J<br>Num Packages: 2.0 <br> Service Time: 67.0",
          "Sequence: 22<br> Stop ID: SN<br>Zone ID: D-7.1J<br>Num Packages: 1.0 <br> Service Time: 65.0",
          "Sequence: 23<br> Stop ID: JP<br>Zone ID: D-7.1J<br>Num Packages: 1.0 <br> Service Time: 63.0",
          "Sequence: 24<br> Stop ID: AV<br>Zone ID: D-7.1J<br>Num Packages: 2.0 <br> Service Time: 47.0",
          "Sequence: 25<br> Stop ID: TP<br>Zone ID: D-7.1J<br>Num Packages: 1.0 <br> Service Time: 78.0",
          "Sequence: 26<br> Stop ID: WH<br>Zone ID: D-7.1J<br>Num Packages: 1.0 <br> Service Time: 51.0"
         ],
         "type": "scattermapbox"
        },
        {
         "hoverinfo": "text",
         "lat": [
          42.138865,
          42.1386,
          42.137251,
          42.138579,
          42.137793,
          42.137943,
          42.138473,
          42.138093
         ],
         "lon": [
          -88.04553,
          -88.04553,
          -88.04553,
          -88.044311,
          -88.052893,
          -88.051665,
          -88.047033,
          -88.0485
         ],
         "marker": {
          "size": 15
         },
         "mode": "markers",
         "name": "Drone Zone D-8.1J",
         "text": [
          "Sequence: 27<br> Stop ID: QV<br>Zone ID: D-8.1J<br>Num Packages: 1.0 <br> Service Time: 66.0",
          "Sequence: 28<br> Stop ID: LQ<br>Zone ID: D-8.1J<br>Num Packages: 1.0 <br> Service Time: 68.0",
          "Sequence: 29<br> Stop ID: VQ<br>Zone ID: D-8.1J<br>Num Packages: 3.0 <br> Service Time: 75.7",
          "Sequence: 30<br> Stop ID: SH<br>Zone ID: D-8.1J<br>Num Packages: 1.0 <br> Service Time: 57.0",
          "Sequence: 31<br> Stop ID: TA<br>Zone ID: D-8.1J<br>Num Packages: 2.0 <br> Service Time: 52.5",
          "Sequence: 32<br> Stop ID: ZS<br>Zone ID: D-8.1J<br>Num Packages: 2.0 <br> Service Time: 59.5",
          "Sequence: 33<br> Stop ID: QW<br>Zone ID: D-8.1J<br>Num Packages: 1.0 <br> Service Time: 86.0",
          "Sequence: 34<br> Stop ID: WU<br>Zone ID: D-8.1J<br>Num Packages: 3.0 <br> Service Time: 64.0"
         ],
         "type": "scattermapbox"
        },
        {
         "hoverinfo": "text",
         "lat": [
          42.138326,
          42.138841,
          42.136177,
          42.13703,
          42.137252,
          42.136992
         ],
         "lon": [
          -88.049033,
          -88.049205,
          -88.051373,
          -88.052998,
          -88.052204,
          -88.04904
         ],
         "marker": {
          "size": 15
         },
         "mode": "markers",
         "name": "Drone Zone D-8.2J",
         "text": [
          "Sequence: 35<br> Stop ID: YQ<br>Zone ID: D-8.2J<br>Num Packages: 1.0 <br> Service Time: 41.0",
          "Sequence: 36<br> Stop ID: JM<br>Zone ID: D-8.2J<br>Num Packages: 1.0 <br> Service Time: 140.0",
          "Sequence: 37<br> Stop ID: LW<br>Zone ID: D-8.2J<br>Num Packages: 3.0 <br> Service Time: 39.0",
          "Sequence: 38<br> Stop ID: GR<br>Zone ID: D-8.2J<br>Num Packages: 2.0 <br> Service Time: 52.0",
          "Sequence: 39<br> Stop ID: NL<br>Zone ID: D-8.2J<br>Num Packages: 2.0 <br> Service Time: 41.0",
          "Sequence: 40<br> Stop ID: SC<br>Zone ID: D-8.2J<br>Num Packages: 6.0 <br> Service Time: 69.5"
         ],
         "type": "scattermapbox"
        },
        {
         "hoverinfo": "text",
         "lat": [
          42.134427,
          42.133684,
          42.134087,
          42.135056,
          42.13589,
          42.13498,
          42.132521
         ],
         "lon": [
          -88.049086,
          -88.050275,
          -88.049862,
          -88.047056,
          -88.046189,
          -88.045655,
          -88.049673
         ],
         "marker": {
          "size": 15
         },
         "mode": "markers",
         "name": "Drone Zone D-8.3J",
         "text": [
          "Sequence: 41<br> Stop ID: JD<br>Zone ID: D-8.3J<br>Num Packages: 1.0 <br> Service Time: 51.0",
          "Sequence: 42<br> Stop ID: MZ<br>Zone ID: D-8.3J<br>Num Packages: 2.0 <br> Service Time: 44.0",
          "Sequence: 43<br> Stop ID: UA<br>Zone ID: D-8.3J<br>Num Packages: 1.0 <br> Service Time: 56.0",
          "Sequence: 44<br> Stop ID: TQ<br>Zone ID: D-8.3J<br>Num Packages: 1.0 <br> Service Time: 66.0",
          "Sequence: 45<br> Stop ID: RR<br>Zone ID: D-8.3J<br>Num Packages: 1.0 <br> Service Time: 58.0",
          "Sequence: 46<br> Stop ID: ZX<br>Zone ID: D-8.3J<br>Num Packages: 1.0 <br> Service Time: 80.0",
          "Sequence: 47<br> Stop ID: IS<br>Zone ID: D-8.3J<br>Num Packages: 1.0 <br> Service Time: 149.0"
         ],
         "type": "scattermapbox"
        },
        {
         "hoverinfo": "text",
         "lat": [
          42.13305,
          42.134075,
          42.13207
         ],
         "lon": [
          -88.047733,
          -88.044372,
          -88.047957
         ],
         "marker": {
          "size": 15
         },
         "mode": "markers",
         "name": "Drone Zone D-8.3H",
         "text": [
          "Sequence: 48<br> Stop ID: XJ<br>Zone ID: D-8.3H<br>Num Packages: 1.0 <br> Service Time: 48.0",
          "Sequence: 49<br> Stop ID: WX<br>Zone ID: D-8.3H<br>Num Packages: 1.0 <br> Service Time: 58.0",
          "Sequence: 50<br> Stop ID: XQ<br>Zone ID: D-8.3H<br>Num Packages: 1.0 <br> Service Time: 58.0"
         ],
         "type": "scattermapbox"
        },
        {
         "hoverinfo": "text",
         "lat": [
          42.132063,
          42.134282,
          42.133652,
          42.133454,
          42.131008,
          42.128874,
          42.129748,
          42.129921,
          42.131093,
          42.131737,
          42.131105,
          42.130444,
          42.129422
         ],
         "lon": [
          -88.042602,
          -88.043135,
          -88.043142,
          -88.043144,
          -88.04375,
          -88.042146,
          -88.042932,
          -88.04139,
          -88.042323,
          -88.04025,
          -88.0394,
          -88.037884,
          -88.037895
         ],
         "marker": {
          "size": 15
         },
         "mode": "markers",
         "name": "Drone Zone D-8.2H",
         "text": [
          "Sequence: 51<br> Stop ID: DT<br>Zone ID: D-8.2H<br>Num Packages: 1.0 <br> Service Time: 54.0",
          "Sequence: 52<br> Stop ID: SQ<br>Zone ID: D-8.2H<br>Num Packages: 1.0 <br> Service Time: 79.0",
          "Sequence: 53<br> Stop ID: OW<br>Zone ID: D-8.2H<br>Num Packages: 1.0 <br> Service Time: 64.0",
          "Sequence: 54<br> Stop ID: AK<br>Zone ID: D-8.2H<br>Num Packages: 1.0 <br> Service Time: 157.0",
          "Sequence: 55<br> Stop ID: MA<br>Zone ID: D-8.2H<br>Num Packages: 1.0 <br> Service Time: 57.0",
          "Sequence: 56<br> Stop ID: JC<br>Zone ID: D-8.2H<br>Num Packages: 1.0 <br> Service Time: 64.0",
          "Sequence: 57<br> Stop ID: ZO<br>Zone ID: D-8.2H<br>Num Packages: 1.0 <br> Service Time: 48.0",
          "Sequence: 58<br> Stop ID: YK<br>Zone ID: D-8.2H<br>Num Packages: 1.0 <br> Service Time: 72.0",
          "Sequence: 59<br> Stop ID: YJ<br>Zone ID: D-8.2H<br>Num Packages: 1.0 <br> Service Time: 93.0",
          "Sequence: 60<br> Stop ID: OH<br>Zone ID: D-8.2H<br>Num Packages: 3.0 <br> Service Time: 78.0",
          "Sequence: 61<br> Stop ID: GP<br>Zone ID: D-8.2H<br>Num Packages: 1.0 <br> Service Time: 75.0",
          "Sequence: 62<br> Stop ID: VO<br>Zone ID: D-8.2H<br>Num Packages: 1.0 <br> Service Time: 55.0",
          "Sequence: 63<br> Stop ID: AN<br>Zone ID: D-8.2H<br>Num Packages: 1.0 <br> Service Time: 60.0"
         ],
         "type": "scattermapbox"
        },
        {
         "hoverinfo": "text",
         "lat": [
          42.128841,
          42.128815,
          42.125684,
          42.126766,
          42.127935,
          42.127948,
          42.129722,
          42.129728,
          42.130161,
          42.132696,
          42.131014,
          42.131009,
          42.131031
         ],
         "lon": [
          -88.037114,
          -88.034782,
          -88.038542,
          -88.038007,
          -88.036821,
          -88.038602,
          -88.034192,
          -88.035091,
          -88.03669,
          -88.039367,
          -88.030128,
          -88.029694,
          -88.032127
         ],
         "marker": {
          "size": 15
         },
         "mode": "markers",
         "name": "Drone Zone D-8.1H",
         "text": [
          "Sequence: 64<br> Stop ID: TR<br>Zone ID: D-8.1H<br>Num Packages: 1.0 <br> Service Time: 48.0",
          "Sequence: 65<br> Stop ID: EQ<br>Zone ID: D-8.1H<br>Num Packages: 2.0 <br> Service Time: 72.0",
          "Sequence: 66<br> Stop ID: NH<br>Zone ID: D-8.1H<br>Num Packages: 3.0 <br> Service Time: 66.3",
          "Sequence: 67<br> Stop ID: UH<br>Zone ID: D-8.1H<br>Num Packages: 1.0 <br> Service Time: 83.0",
          "Sequence: 68<br> Stop ID: QM<br>Zone ID: D-8.1H<br>Num Packages: 3.0 <br> Service Time: 52.70000000000001",
          "Sequence: 69<br> Stop ID: EY<br>Zone ID: D-8.1H<br>Num Packages: 2.0 <br> Service Time: 67.5",
          "Sequence: 70<br> Stop ID: CW<br>Zone ID: D-8.1H<br>Num Packages: 2.0 <br> Service Time: 40.0",
          "Sequence: 71<br> Stop ID: PB<br>Zone ID: D-8.1H<br>Num Packages: 1.0 <br> Service Time: 112.0",
          "Sequence: 72<br> Stop ID: DZ<br>Zone ID: D-8.1H<br>Num Packages: 3.0 <br> Service Time: 27.0",
          "Sequence: 73<br> Stop ID: WF<br>Zone ID: D-8.1H<br>Num Packages: 1.0 <br> Service Time: 90.0",
          "Sequence: 74<br> Stop ID: JO<br>Zone ID: D-8.1H<br>Num Packages: 1.0 <br> Service Time: 42.0",
          "Sequence: 75<br> Stop ID: XY<br>Zone ID: D-8.1H<br>Num Packages: 1.0 <br> Service Time: 117.0",
          "Sequence: 76<br> Stop ID: CG<br>Zone ID: D-8.1H<br>Num Packages: 1.0 <br> Service Time: 88.0"
         ],
         "type": "scattermapbox"
        },
        {
         "hoverinfo": "text",
         "lat": [
          42.133213,
          42.134086,
          42.134451,
          42.133856,
          42.134772,
          42.135233
         ],
         "lon": [
          -88.032575,
          -88.032572,
          -88.033256,
          -88.031333,
          -88.02878,
          -88.029141
         ],
         "marker": {
          "size": 15
         },
         "mode": "markers",
         "name": "Drone Zone D-8.1G",
         "text": [
          "Sequence: 77<br> Stop ID: HQ<br>Zone ID: D-8.1G<br>Num Packages: 1.0 <br> Service Time: 174.0",
          "Sequence: 78<br> Stop ID: WD<br>Zone ID: D-8.1G<br>Num Packages: 2.0 <br> Service Time: 53.5",
          "Sequence: 79<br> Stop ID: CO<br>Zone ID: D-8.1G<br>Num Packages: 1.0 <br> Service Time: 73.0",
          "Sequence: 80<br> Stop ID: NZ<br>Zone ID: D-8.1G<br>Num Packages: 2.0 <br> Service Time: 40.5",
          "Sequence: 81<br> Stop ID: XA<br>Zone ID: D-8.1G<br>Num Packages: 1.0 <br> Service Time: 56.0",
          "Sequence: 82<br> Stop ID: BV<br>Zone ID: D-8.1G<br>Num Packages: 1.0 <br> Service Time: 57.0"
         ],
         "type": "scattermapbox"
        },
        {
         "hoverinfo": "text",
         "lat": [
          42.135096,
          42.135031,
          42.135579,
          42.135986,
          42.133905
         ],
         "lon": [
          -88.028599,
          -88.027462,
          -88.02642,
          -88.028705,
          -88.026438
         ],
         "marker": {
          "size": 15
         },
         "mode": "markers",
         "name": "Drone Zone D-8.2G",
         "text": [
          "Sequence: 83<br> Stop ID: QB<br>Zone ID: D-8.2G<br>Num Packages: 1.0 <br> Service Time: 72.0",
          "Sequence: 84<br> Stop ID: YX<br>Zone ID: D-8.2G<br>Num Packages: 4.0 <br> Service Time: 75.8",
          "Sequence: 85<br> Stop ID: KV<br>Zone ID: D-8.2G<br>Num Packages: 2.0 <br> Service Time: 34.0",
          "Sequence: 86<br> Stop ID: KN<br>Zone ID: D-8.2G<br>Num Packages: 2.0 <br> Service Time: 44.0",
          "Sequence: 87<br> Stop ID: ZI<br>Zone ID: D-8.2G<br>Num Packages: 2.0 <br> Service Time: 44.0"
         ],
         "type": "scattermapbox"
        },
        {
         "hoverinfo": "text",
         "lat": [
          42.13282,
          42.131919,
          42.131924,
          42.132458,
          42.131976,
          42.131686,
          42.131002,
          42.131001,
          42.131001
         ],
         "lon": [
          -88.02541,
          -88.024397,
          -88.02661,
          -88.027574,
          -88.031215,
          -88.02858,
          -88.027713,
          -88.027127,
          -88.024676
         ],
         "marker": {
          "size": 15
         },
         "mode": "markers",
         "name": "Drone Zone D-8.3G",
         "text": [
          "Sequence: 88<br> Stop ID: UP<br>Zone ID: D-8.3G<br>Num Packages: 4.0 <br> Service Time: 62.5",
          "Sequence: 89<br> Stop ID: OJ<br>Zone ID: D-8.3G<br>Num Packages: 2.0 <br> Service Time: 76.5",
          "Sequence: 90<br> Stop ID: NU<br>Zone ID: D-8.3G<br>Num Packages: 2.0 <br> Service Time: 87.0",
          "Sequence: 91<br> Stop ID: ZQ<br>Zone ID: D-8.3G<br>Num Packages: 1.0 <br> Service Time: 62.0",
          "Sequence: 92<br> Stop ID: OF<br>Zone ID: D-8.3G<br>Num Packages: 3.0 <br> Service Time: 39.7",
          "Sequence: 93<br> Stop ID: IK<br>Zone ID: D-8.3G<br>Num Packages: 1.0 <br> Service Time: 66.0",
          "Sequence: 94<br> Stop ID: CI<br>Zone ID: D-8.3G<br>Num Packages: 1.0 <br> Service Time: 53.0",
          "Sequence: 95<br> Stop ID: XF<br>Zone ID: D-8.3G<br>Num Packages: 1.0 <br> Service Time: 62.0",
          "Sequence: 96<br> Stop ID: TW<br>Zone ID: D-8.3G<br>Num Packages: 2.0 <br> Service Time: 44.5"
         ],
         "type": "scattermapbox"
        },
        {
         "hoverinfo": "text",
         "lat": [
          42.130126,
          42.130132,
          42.128781,
          42.127062,
          42.126468,
          42.128549,
          42.129085,
          42.127843,
          42.126695,
          42.127031,
          42.127862,
          42.129266
         ],
         "lon": [
          -88.025014,
          -88.026442,
          -88.024088,
          -88.024085,
          -88.024692,
          -88.025863,
          -88.027485,
          -88.026612,
          -88.026331,
          -88.027461,
          -88.027852,
          -88.028331
         ],
         "marker": {
          "size": 15
         },
         "mode": "markers",
         "name": "Drone Zone D-8.3E",
         "text": [
          "Sequence: 97<br> Stop ID: NY<br>Zone ID: D-8.3E<br>Num Packages: 1.0 <br> Service Time: 233.0",
          "Sequence: 98<br> Stop ID: BA<br>Zone ID: D-8.3E<br>Num Packages: 1.0 <br> Service Time: 64.0",
          "Sequence: 99<br> Stop ID: CM<br>Zone ID: D-8.3E<br>Num Packages: 1.0 <br> Service Time: 46.0",
          "Sequence: 100<br> Stop ID: ER<br>Zone ID: D-8.3E<br>Num Packages: 2.0 <br> Service Time: 61.5",
          "Sequence: 101<br> Stop ID: UO<br>Zone ID: D-8.3E<br>Num Packages: 2.0 <br> Service Time: 70.5",
          "Sequence: 102<br> Stop ID: TH<br>Zone ID: D-8.3E<br>Num Packages: 1.0 <br> Service Time: 66.0",
          "Sequence: 103<br> Stop ID: AH<br>Zone ID: D-8.3E<br>Num Packages: 1.0 <br> Service Time: 78.0",
          "Sequence: 104<br> Stop ID: NF<br>Zone ID: D-8.3E<br>Num Packages: 1.0 <br> Service Time: 96.0",
          "Sequence: 105<br> Stop ID: SO<br>Zone ID: D-8.3E<br>Num Packages: 1.0 <br> Service Time: 58.0",
          "Sequence: 106<br> Stop ID: KG<br>Zone ID: D-8.3E<br>Num Packages: 1.0 <br> Service Time: 64.0",
          "Sequence: 107<br> Stop ID: HG<br>Zone ID: D-8.3E<br>Num Packages: 1.0 <br> Service Time: 38.0",
          "Sequence: 108<br> Stop ID: MM<br>Zone ID: D-8.3E<br>Num Packages: 2.0 <br> Service Time: 26.0"
         ],
         "type": "scattermapbox"
        },
        {
         "hoverinfo": "text",
         "lat": [
          42.129273,
          42.127363,
          42.126545,
          42.126553,
          42.127935,
          42.127363,
          42.126501,
          42.125898,
          42.125669
         ],
         "lon": [
          -88.03261,
          -88.031892,
          -88.032303,
          -88.03307,
          -88.035247,
          -88.035984,
          -88.036894,
          -88.034709,
          -88.035269
         ],
         "marker": {
          "size": 15
         },
         "mode": "markers",
         "name": "Drone Zone D-8.2E",
         "text": [
          "Sequence: 109<br> Stop ID: GC<br>Zone ID: D-8.2E<br>Num Packages: 2.0 <br> Service Time: 97.5",
          "Sequence: 110<br> Stop ID: OI<br>Zone ID: D-8.2E<br>Num Packages: 1.0 <br> Service Time: 54.0",
          "Sequence: 111<br> Stop ID: FR<br>Zone ID: D-8.2E<br>Num Packages: 3.0 <br> Service Time: 45.70000000000001",
          "Sequence: 112<br> Stop ID: SM<br>Zone ID: D-8.2E<br>Num Packages: 3.0 <br> Service Time: 35.3",
          "Sequence: 113<br> Stop ID: YB<br>Zone ID: D-8.2E<br>Num Packages: 1.0 <br> Service Time: 66.0",
          "Sequence: 114<br> Stop ID: YN<br>Zone ID: D-8.2E<br>Num Packages: 1.0 <br> Service Time: 89.0",
          "Sequence: 115<br> Stop ID: RD<br>Zone ID: D-8.2E<br>Num Packages: 1.0 <br> Service Time: 64.0",
          "Sequence: 116<br> Stop ID: HV<br>Zone ID: D-8.2E<br>Num Packages: 1.0 <br> Service Time: 92.0",
          "Sequence: 117<br> Stop ID: BL<br>Zone ID: D-8.2E<br>Num Packages: 1.0 <br> Service Time: 72.0"
         ],
         "type": "scattermapbox"
        },
        {
         "hoverinfo": "text",
         "lat": [
          42.123879,
          42.123379,
          42.123375,
          42.122188,
          42.120547,
          42.119086,
          42.119607,
          42.122376,
          42.123654,
          42.124233,
          42.124254,
          42.123602,
          42.122974,
          42.122625
         ],
         "lon": [
          -88.033107,
          -88.032213,
          -88.030728,
          -88.033265,
          -88.030685,
          -88.03069,
          -88.029611,
          -88.029899,
          -88.02962,
          -88.029766,
          -88.030676,
          -88.03466,
          -88.03483,
          -88.035043
         ],
         "marker": {
          "size": 15
         },
         "mode": "markers",
         "name": "Drone Zone D-8.1E",
         "text": [
          "Sequence: 118<br> Stop ID: MU<br>Zone ID: D-8.1E<br>Num Packages: 1.0 <br> Service Time: 69.0",
          "Sequence: 119<br> Stop ID: AY<br>Zone ID: D-8.1E<br>Num Packages: 3.0 <br> Service Time: 69.7",
          "Sequence: 120<br> Stop ID: TO<br>Zone ID: D-8.1E<br>Num Packages: 1.0 <br> Service Time: 59.0",
          "Sequence: 121<br> Stop ID: NV<br>Zone ID: D-8.1E<br>Num Packages: 1.0 <br> Service Time: 118.0",
          "Sequence: 122<br> Stop ID: SS<br>Zone ID: D-8.1E<br>Num Packages: 1.0 <br> Service Time: 48.0",
          "Sequence: 123<br> Stop ID: UG<br>Zone ID: D-8.1E<br>Num Packages: 1.0 <br> Service Time: 83.0",
          "Sequence: 124<br> Stop ID: DG<br>Zone ID: D-8.1E<br>Num Packages: 1.0 <br> Service Time: 52.0",
          "Sequence: 125<br> Stop ID: SI<br>Zone ID: D-8.1E<br>Num Packages: 1.0 <br> Service Time: 69.0",
          "Sequence: 126<br> Stop ID: KE<br>Zone ID: D-8.1E<br>Num Packages: 1.0 <br> Service Time: 73.0",
          "Sequence: 127<br> Stop ID: NR<br>Zone ID: D-8.1E<br>Num Packages: 1.0 <br> Service Time: 52.0",
          "Sequence: 128<br> Stop ID: RU<br>Zone ID: D-8.1E<br>Num Packages: 1.0 <br> Service Time: 47.0",
          "Sequence: 129<br> Stop ID: FQ<br>Zone ID: D-8.1E<br>Num Packages: 1.0 <br> Service Time: 71.0",
          "Sequence: 130<br> Stop ID: RH<br>Zone ID: D-8.1E<br>Num Packages: 1.0 <br> Service Time: 143.0",
          "Sequence: 131<br> Stop ID: MF<br>Zone ID: D-8.1E<br>Num Packages: 1.0 <br> Service Time: 252.0"
         ],
         "type": "scattermapbox"
        },
        {
         "hoverinfo": "text",
         "lat": [
          42.121971,
          42.115862,
          42.114927
         ],
         "lon": [
          -88.03801,
          -88.031135,
          -88.031544
         ],
         "marker": {
          "size": 15
         },
         "mode": "markers",
         "name": "Drone Zone D-8.1D",
         "text": [
          "Sequence: 132<br> Stop ID: IX<br>Zone ID: D-8.1D<br>Num Packages: 6.0 <br> Service Time: 64.8",
          "Sequence: 133<br> Stop ID: FU<br>Zone ID: D-8.1D<br>Num Packages: 2.0 <br> Service Time: 38.5",
          "Sequence: 134<br> Stop ID: OD<br>Zone ID: D-8.1D<br>Num Packages: 1.0 <br> Service Time: 92.0"
         ],
         "type": "scattermapbox"
        },
        {
         "hoverinfo": "text",
         "lat": [
          42.114245,
          42.112062,
          42.112055,
          42.112593,
          42.113414,
          42.110978
         ],
         "lon": [
          -88.03114,
          -88.031029,
          -88.029714,
          -88.029043,
          -88.027425,
          -88.027422
         ],
         "marker": {
          "size": 15
         },
         "mode": "markers",
         "name": "Drone Zone D-8.2D",
         "text": [
          "Sequence: 135<br> Stop ID: DM<br>Zone ID: D-8.2D<br>Num Packages: 1.0 <br> Service Time: 60.0",
          "Sequence: 136<br> Stop ID: HB<br>Zone ID: D-8.2D<br>Num Packages: 1.0 <br> Service Time: 59.0",
          "Sequence: 137<br> Stop ID: IP<br>Zone ID: D-8.2D<br>Num Packages: 1.0 <br> Service Time: 49.0",
          "Sequence: 138<br> Stop ID: KS<br>Zone ID: D-8.2D<br>Num Packages: 3.0 <br> Service Time: 77.7",
          "Sequence: 139<br> Stop ID: VH<br>Zone ID: D-8.2D<br>Num Packages: 1.0 <br> Service Time: 118.0",
          "Sequence: 140<br> Stop ID: SW<br>Zone ID: D-8.2D<br>Num Packages: 1.0 <br> Service Time: 95.0"
         ],
         "type": "scattermapbox"
        },
        {
         "hoverinfo": "text",
         "lat": [
          42.109572,
          42.109579,
          42.10701,
          42.107027,
          42.108395,
          42.109334,
          42.111391,
          42.112436,
          42.107906,
          42.107336,
          42.105925,
          42.105136,
          42.106359,
          42.107244
         ],
         "lon": [
          -88.027437,
          -88.0217,
          -88.022233,
          -88.020213,
          -88.022737,
          -88.024165,
          -88.02416,
          -88.025802,
          -88.025814,
          -88.025808,
          -88.025797,
          -88.025792,
          -88.027433,
          -88.027437
         ],
         "marker": {
          "size": 15
         },
         "mode": "markers",
         "name": "Drone Zone D-8.2B",
         "text": [
          "Sequence: 141<br> Stop ID: HA<br>Zone ID: D-8.2B<br>Num Packages: 1.0 <br> Service Time: 115.0",
          "Sequence: 142<br> Stop ID: EF<br>Zone ID: D-8.2B<br>Num Packages: 2.0 <br> Service Time: 50.5",
          "Sequence: 143<br> Stop ID: VD<br>Zone ID: D-8.2B<br>Num Packages: 1.0 <br> Service Time: 52.0",
          "Sequence: 144<br> Stop ID: ON<br>Zone ID: D-8.2B<br>Num Packages: 1.0 <br> Service Time: 53.0",
          "Sequence: 145<br> Stop ID: GZ<br>Zone ID: D-8.2B<br>Num Packages: 1.0 <br> Service Time: 57.0",
          "Sequence: 146<br> Stop ID: UI<br>Zone ID: D-8.2B<br>Num Packages: 1.0 <br> Service Time: 133.0",
          "Sequence: 147<br> Stop ID: YA<br>Zone ID: D-8.2B<br>Num Packages: 1.0 <br> Service Time: 79.0",
          "Sequence: 148<br> Stop ID: UF<br>Zone ID: D-8.2B<br>Num Packages: 1.0 <br> Service Time: 89.0",
          "Sequence: 149<br> Stop ID: GB<br>Zone ID: D-8.2B<br>Num Packages: 1.0 <br> Service Time: 58.0",
          "Sequence: 150<br> Stop ID: GU<br>Zone ID: D-8.2B<br>Num Packages: 1.0 <br> Service Time: 74.0",
          "Sequence: 151<br> Stop ID: FK<br>Zone ID: D-8.2B<br>Num Packages: 1.0 <br> Service Time: 70.0",
          "Sequence: 152<br> Stop ID: ZL<br>Zone ID: D-8.2B<br>Num Packages: 1.0 <br> Service Time: 66.0",
          "Sequence: 153<br> Stop ID: WY<br>Zone ID: D-8.2B<br>Num Packages: 1.0 <br> Service Time: 70.0",
          "Sequence: 154<br> Stop ID: XK<br>Zone ID: D-8.2B<br>Num Packages: 1.0 <br> Service Time: 159.0"
         ],
         "type": "scattermapbox"
        },
        {
         "hoverinfo": "text",
         "lat": [
          42.107767,
          42.108913,
          42.108819,
          42.108287,
          42.107161,
          42.107973,
          42.109444,
          42.110255
         ],
         "lon": [
          -88.029074,
          -88.02907,
          -88.030698,
          -88.030702,
          -88.032347,
          -88.032343,
          -88.032333,
          -88.029854
         ],
         "marker": {
          "size": 15
         },
         "mode": "markers",
         "name": "Drone Zone D-8.1B",
         "text": [
          "Sequence: 155<br> Stop ID: FD<br>Zone ID: D-8.1B<br>Num Packages: 2.0 <br> Service Time: 53.0",
          "Sequence: 156<br> Stop ID: GY<br>Zone ID: D-8.1B<br>Num Packages: 1.0 <br> Service Time: 71.0",
          "Sequence: 157<br> Stop ID: RO<br>Zone ID: D-8.1B<br>Num Packages: 1.0 <br> Service Time: 105.0",
          "Sequence: 158<br> Stop ID: UR<br>Zone ID: D-8.1B<br>Num Packages: 1.0 <br> Service Time: 84.0",
          "Sequence: 159<br> Stop ID: BC<br>Zone ID: D-8.1B<br>Num Packages: 6.0 <br> Service Time: 37.699999999999996",
          "Sequence: 160<br> Stop ID: SK<br>Zone ID: D-8.1B<br>Num Packages: 1.0 <br> Service Time: 63.0",
          "Sequence: 161<br> Stop ID: CH<br>Zone ID: D-8.1B<br>Num Packages: 1.0 <br> Service Time: 64.0",
          "Sequence: 162<br> Stop ID: WO<br>Zone ID: D-8.1B<br>Num Packages: 1.0 <br> Service Time: 115.0"
         ],
         "type": "scattermapbox"
        },
        {
         "hoverinfo": "text",
         "lat": [
          42.110313,
          42.109819,
          42.10896,
          42.108656,
          42.107882,
          42.109062,
          42.109283,
          42.110246
         ],
         "lon": [
          -88.037638,
          -88.03641,
          -88.03641,
          -88.037391,
          -88.035445,
          -88.035197,
          -88.038294,
          -88.038667
         ],
         "marker": {
          "size": 15
         },
         "mode": "markers",
         "name": "Drone Zone D-8.1C",
         "text": [
          "Sequence: 163<br> Stop ID: EC<br>Zone ID: D-8.1C<br>Num Packages: 1.0 <br> Service Time: 84.0",
          "Sequence: 164<br> Stop ID: IF<br>Zone ID: D-8.1C<br>Num Packages: 1.0 <br> Service Time: 116.0",
          "Sequence: 165<br> Stop ID: BS<br>Zone ID: D-8.1C<br>Num Packages: 2.0 <br> Service Time: 51.0",
          "Sequence: 166<br> Stop ID: EU<br>Zone ID: D-8.1C<br>Num Packages: 1.0 <br> Service Time: 89.0",
          "Sequence: 167<br> Stop ID: AU<br>Zone ID: D-8.1C<br>Num Packages: 1.0 <br> Service Time: 33.0",
          "Sequence: 168<br> Stop ID: SF<br>Zone ID: D-8.1C<br>Num Packages: 1.0 <br> Service Time: 69.0",
          "Sequence: 169<br> Stop ID: YS<br>Zone ID: D-8.1C<br>Num Packages: 1.0 <br> Service Time: 136.0",
          "Sequence: 170<br> Stop ID: VX<br>Zone ID: D-8.1C<br>Num Packages: 2.0 <br> Service Time: 94.0"
         ],
         "type": "scattermapbox"
        },
        {
         "hoverinfo": "text",
         "lat": [
          42.110331,
          42.112258,
          42.111254,
          42.11103,
          42.111796
         ],
         "lon": [
          -88.039213,
          -88.03888,
          -88.040606,
          -88.04133,
          -88.04132
         ],
         "marker": {
          "size": 15
         },
         "mode": "markers",
         "name": "Drone Zone D-8.2C",
         "text": [
          "Sequence: 171<br> Stop ID: XP<br>Zone ID: D-8.2C<br>Num Packages: 1.0 <br> Service Time: 58.0",
          "Sequence: 172<br> Stop ID: ZB<br>Zone ID: D-8.2C<br>Num Packages: 1.0 <br> Service Time: 115.0",
          "Sequence: 173<br> Stop ID: DQ<br>Zone ID: D-8.2C<br>Num Packages: 1.0 <br> Service Time: 50.0",
          "Sequence: 174<br> Stop ID: LD<br>Zone ID: D-8.2C<br>Num Packages: 2.0 <br> Service Time: 36.5",
          "Sequence: 175<br> Stop ID: QN<br>Zone ID: D-8.2C<br>Num Packages: 1.0 <br> Service Time: 80.0"
         ],
         "type": "scattermapbox"
        },
        {
         "hoverinfo": "text",
         "lat": [
          42.113161,
          42.113782,
          42.113068,
          42.113072,
          42.113638,
          42.114383,
          42.116969,
          42.114718,
          42.116606,
          42.11633
         ],
         "lon": [
          -88.04132,
          -88.04132,
          -88.039517,
          -88.04024,
          -88.043764,
          -88.042536,
          -88.042539,
          -88.042532,
          -88.0413,
          -88.039961
         ],
         "marker": {
          "size": 15
         },
         "mode": "markers",
         "name": "Drone Zone D-8.3C",
         "text": [
          "Sequence: 176<br> Stop ID: HW<br>Zone ID: D-8.3C<br>Num Packages: 1.0 <br> Service Time: 55.0",
          "Sequence: 177<br> Stop ID: JZ<br>Zone ID: D-8.3C<br>Num Packages: 1.0 <br> Service Time: 59.0",
          "Sequence: 178<br> Stop ID: HU<br>Zone ID: D-8.3C<br>Num Packages: 2.0 <br> Service Time: 44.0",
          "Sequence: 179<br> Stop ID: KZ<br>Zone ID: D-8.3C<br>Num Packages: 1.0 <br> Service Time: 71.0",
          "Sequence: 180<br> Stop ID: VL<br>Zone ID: D-8.3C<br>Num Packages: 1.0 <br> Service Time: 72.0",
          "Sequence: 181<br> Stop ID: ZH<br>Zone ID: D-8.3C<br>Num Packages: 1.0 <br> Service Time: 71.0",
          "Sequence: 182<br> Stop ID: DS<br>Zone ID: D-8.3C<br>Num Packages: 1.0 <br> Service Time: 63.0",
          "Sequence: 183<br> Stop ID: MJ<br>Zone ID: D-8.3C<br>Num Packages: 1.0 <br> Service Time: 36.0",
          "Sequence: 184<br> Stop ID: MI<br>Zone ID: D-8.3C<br>Num Packages: 1.0 <br> Service Time: 112.0",
          "Sequence: 185<br> Stop ID: GO<br>Zone ID: D-8.3C<br>Num Packages: 1.0 <br> Service Time: 169.0"
         ],
         "type": "scattermapbox"
        },
        {
         "hoverinfo": "text",
         "lat": [
          42.115201,
          42.115848,
          42.114021,
          42.116358,
          42.11625,
          42.115827,
          42.114226,
          42.254346
         ],
         "lon": [
          -88.038798,
          -88.037606,
          -88.0364,
          -88.036406,
          -88.035184,
          -88.035189,
          -88.035188,
          -87.985697
         ],
         "marker": {
          "size": 15
         },
         "mode": "markers",
         "name": "Drone Zone D-8.3D",
         "text": [
          "Sequence: 186<br> Stop ID: WV<br>Zone ID: D-8.3D<br>Num Packages: 3.0 <br> Service Time: 29.3",
          "Sequence: 187<br> Stop ID: UC<br>Zone ID: D-8.3D<br>Num Packages: 1.0 <br> Service Time: 79.0",
          "Sequence: 188<br> Stop ID: BK<br>Zone ID: D-8.3D<br>Num Packages: 1.0 <br> Service Time: 147.0",
          "Sequence: 189<br> Stop ID: QI<br>Zone ID: D-8.3D<br>Num Packages: 1.0 <br> Service Time: 80.0",
          "Sequence: 190<br> Stop ID: XH<br>Zone ID: D-8.3D<br>Num Packages: 1.0 <br> Service Time: 42.0",
          "Sequence: 191<br> Stop ID: JN<br>Zone ID: D-8.3D<br>Num Packages: 2.0 <br> Service Time: 26.0",
          "Sequence: 192<br> Stop ID: YV<br>Zone ID: D-8.3D<br>Num Packages: 2.0 <br> Service Time: 27.0",
          "Sequence: 193<br> Stop ID: HJ<br>Zone ID: D-8.3D<br>Num Packages: nan <br> Service Time: nan"
         ],
         "type": "scattermapbox"
        },
        {
         "hoverinfo": "none",
         "lat": [
          42.254346,
          42.150791,
          42.144327,
          42.144565,
          42.145825,
          42.145071,
          42.14528,
          42.145141,
          42.145257,
          42.13368,
          42.132907,
          42.136914,
          42.136569,
          42.133809,
          42.134729,
          42.135592,
          42.134457,
          42.133645,
          42.134275,
          42.133639,
          42.1343,
          42.138752,
          42.137919,
          42.13765,
          42.138865,
          42.1386,
          42.137251,
          42.138579,
          42.137793,
          42.137943,
          42.138473,
          42.138093,
          42.138326,
          42.138841,
          42.136177,
          42.13703,
          42.137252,
          42.136992,
          42.134427,
          42.133684,
          42.135056,
          42.13589,
          42.13498,
          42.132521,
          42.13305,
          42.134075,
          42.132063,
          42.133652,
          42.131008,
          42.128874,
          42.129921,
          42.131093,
          42.131737,
          42.130444,
          42.128841,
          42.128815,
          42.125684,
          42.127935,
          42.127948,
          42.129722,
          42.129728,
          42.130161,
          42.132696,
          42.131009,
          42.131031,
          42.134086,
          42.134451,
          42.133856,
          42.135233,
          42.135096,
          42.135031,
          42.135579,
          42.135986,
          42.133905,
          42.13282,
          42.131919,
          42.131924,
          42.132458,
          42.131976,
          42.131686,
          42.131001,
          42.131001,
          42.130132,
          42.128781,
          42.127062,
          42.126468,
          42.128549,
          42.129085,
          42.126695,
          42.127031,
          42.127862,
          42.129266,
          42.129273,
          42.126545,
          42.126553,
          42.127935,
          42.126501,
          42.125669,
          42.123879,
          42.123379,
          42.122188,
          42.120547,
          42.119086,
          42.122376,
          42.124233,
          42.124254,
          42.122974,
          42.122625,
          42.121971,
          42.115862,
          42.114927,
          42.114245,
          42.112055,
          42.112593,
          42.113414,
          42.109572,
          42.109579,
          42.107027,
          42.108395,
          42.109334,
          42.111391,
          42.112436,
          42.107336,
          42.105925,
          42.105136,
          42.106359,
          42.107244,
          42.107767,
          42.108913,
          42.108819,
          42.108287,
          42.107161,
          42.109444,
          42.110255,
          42.110313,
          42.109819,
          42.10896,
          42.108656,
          42.107882,
          42.109283,
          42.110246,
          42.110331,
          42.111254,
          42.11103,
          42.111796,
          42.113782,
          42.113068,
          42.113638,
          42.114383,
          42.116969,
          42.116606,
          42.115201,
          42.114021,
          42.116358,
          42.11625,
          42.115827,
          42.114226,
          42.254346
         ],
         "line": {
          "color": "blue",
          "width": 2
         },
         "lon": [
          -87.985697,
          -88.034969,
          -88.032939,
          -88.031799,
          -88.032302,
          -88.032181,
          -88.036679,
          -88.037819,
          -88.036115,
          -88.033884,
          -88.036045,
          -88.031408,
          -88.031328,
          -88.036843,
          -88.03754,
          -88.040376,
          -88.039398,
          -88.039383,
          -88.04063,
          -88.040635,
          -88.041866,
          -88.041745,
          -88.041821,
          -88.04313,
          -88.04553,
          -88.04553,
          -88.04553,
          -88.044311,
          -88.052893,
          -88.051665,
          -88.047033,
          -88.0485,
          -88.049033,
          -88.049205,
          -88.051373,
          -88.052998,
          -88.052204,
          -88.04904,
          -88.049086,
          -88.050275,
          -88.047056,
          -88.046189,
          -88.045655,
          -88.049673,
          -88.047733,
          -88.044372,
          -88.042602,
          -88.043142,
          -88.04375,
          -88.042146,
          -88.04139,
          -88.042323,
          -88.04025,
          -88.037884,
          -88.037114,
          -88.034782,
          -88.038542,
          -88.036821,
          -88.038602,
          -88.034192,
          -88.035091,
          -88.03669,
          -88.039367,
          -88.029694,
          -88.032127,
          -88.032572,
          -88.033256,
          -88.031333,
          -88.029141,
          -88.028599,
          -88.027462,
          -88.02642,
          -88.028705,
          -88.026438,
          -88.02541,
          -88.024397,
          -88.02661,
          -88.027574,
          -88.031215,
          -88.02858,
          -88.027127,
          -88.024676,
          -88.026442,
          -88.024088,
          -88.024085,
          -88.024692,
          -88.025863,
          -88.027485,
          -88.026331,
          -88.027461,
          -88.027852,
          -88.028331,
          -88.03261,
          -88.032303,
          -88.03307,
          -88.035247,
          -88.036894,
          -88.035269,
          -88.033107,
          -88.032213,
          -88.033265,
          -88.030685,
          -88.03069,
          -88.029899,
          -88.029766,
          -88.030676,
          -88.03483,
          -88.035043,
          -88.03801,
          -88.031135,
          -88.031544,
          -88.03114,
          -88.029714,
          -88.029043,
          -88.027425,
          -88.027437,
          -88.0217,
          -88.020213,
          -88.022737,
          -88.024165,
          -88.02416,
          -88.025802,
          -88.025808,
          -88.025797,
          -88.025792,
          -88.027433,
          -88.027437,
          -88.029074,
          -88.02907,
          -88.030698,
          -88.030702,
          -88.032347,
          -88.032333,
          -88.029854,
          -88.037638,
          -88.03641,
          -88.03641,
          -88.037391,
          -88.035445,
          -88.038294,
          -88.038667,
          -88.039213,
          -88.040606,
          -88.04133,
          -88.04132,
          -88.04132,
          -88.039517,
          -88.043764,
          -88.042536,
          -88.042539,
          -88.0413,
          -88.038798,
          -88.0364,
          -88.036406,
          -88.035184,
          -88.035189,
          -88.035188,
          -87.985697
         ],
         "mode": "lines",
         "name": "Route Path",
         "type": "scattermapbox"
        },
        {
         "hoverinfo": "text",
         "lat": [],
         "lon": [],
         "marker": {
          "size": 15
         },
         "mode": "markers",
         "name": "Route Zone nan",
         "text": [],
         "type": "scattermapbox"
        },
        {
         "hoverinfo": "text",
         "lat": [
          42.150791,
          42.144327,
          42.144565,
          42.145825,
          42.145071,
          42.14528,
          42.145141,
          42.145257
         ],
         "lon": [
          -88.034969,
          -88.032939,
          -88.031799,
          -88.032302,
          -88.032181,
          -88.036679,
          -88.037819,
          -88.036115
         ],
         "marker": {
          "size": 15
         },
         "mode": "markers",
         "name": "Route Zone D-7.3J",
         "text": [
          "Sequence: 1<br> Stop ID: YL<br>Zone ID: D-7.3J<br>Num Packages: 2.0 <br> Service Time: 74.5",
          "Sequence: 2<br> Stop ID: WW<br>Zone ID: D-7.3J<br>Num Packages: 1.0 <br> Service Time: 45.0",
          "Sequence: 3<br> Stop ID: VW<br>Zone ID: D-7.3J<br>Num Packages: 2.0 <br> Service Time: 43.5",
          "Sequence: 4<br> Stop ID: JR<br>Zone ID: D-7.3J<br>Num Packages: 3.0 <br> Service Time: 49.0",
          "Sequence: 5<br> Stop ID: SR<br>Zone ID: D-7.3J<br>Num Packages: 2.0 <br> Service Time: 48.0",
          "Sequence: 6<br> Stop ID: WR<br>Zone ID: D-7.3J<br>Num Packages: 1.0 <br> Service Time: 65.0",
          "Sequence: 7<br> Stop ID: JH<br>Zone ID: D-7.3J<br>Num Packages: 1.0 <br> Service Time: 45.0",
          "Sequence: 8<br> Stop ID: JA<br>Zone ID: D-7.3J<br>Num Packages: 2.0 <br> Service Time: 90.5"
         ],
         "type": "scattermapbox"
        },
        {
         "hoverinfo": "text",
         "lat": [
          42.13368,
          42.132907,
          42.136914,
          42.136569,
          42.133809,
          42.134729
         ],
         "lon": [
          -88.033884,
          -88.036045,
          -88.031408,
          -88.031328,
          -88.036843,
          -88.03754
         ],
         "marker": {
          "size": 15
         },
         "mode": "markers",
         "name": "Route Zone D-7.2J",
         "text": [
          "Sequence: 9<br> Stop ID: CZ<br>Zone ID: D-7.2J<br>Num Packages: 2.0 <br> Service Time: 37.0",
          "Sequence: 10<br> Stop ID: XB<br>Zone ID: D-7.2J<br>Num Packages: 5.0 <br> Service Time: 54.2",
          "Sequence: 11<br> Stop ID: HE<br>Zone ID: D-7.2J<br>Num Packages: 1.0 <br> Service Time: 98.0",
          "Sequence: 12<br> Stop ID: NE<br>Zone ID: D-7.2J<br>Num Packages: 2.0 <br> Service Time: 77.0",
          "Sequence: 13<br> Stop ID: KO<br>Zone ID: D-7.2J<br>Num Packages: 1.0 <br> Service Time: 56.0",
          "Sequence: 14<br> Stop ID: SJ<br>Zone ID: D-7.2J<br>Num Packages: 1.0 <br> Service Time: 64.0"
         ],
         "type": "scattermapbox"
        },
        {
         "hoverinfo": "text",
         "lat": [
          42.135592,
          42.134457,
          42.133645,
          42.134275,
          42.133639,
          42.1343,
          42.138752,
          42.137919,
          42.13765
         ],
         "lon": [
          -88.040376,
          -88.039398,
          -88.039383,
          -88.04063,
          -88.040635,
          -88.041866,
          -88.041745,
          -88.041821,
          -88.04313
         ],
         "marker": {
          "size": 15
         },
         "mode": "markers",
         "name": "Route Zone D-7.1J",
         "text": [
          "Sequence: 15<br> Stop ID: QA<br>Zone ID: D-7.1J<br>Num Packages: 5.0 <br> Service Time: 35.4",
          "Sequence: 16<br> Stop ID: QC<br>Zone ID: D-7.1J<br>Num Packages: 2.0 <br> Service Time: 106.5",
          "Sequence: 17<br> Stop ID: DC<br>Zone ID: D-7.1J<br>Num Packages: 1.0 <br> Service Time: 50.0",
          "Sequence: 18<br> Stop ID: LV<br>Zone ID: D-7.1J<br>Num Packages: 1.0 <br> Service Time: 49.0",
          "Sequence: 19<br> Stop ID: XC<br>Zone ID: D-7.1J<br>Num Packages: 2.0 <br> Service Time: 67.0",
          "Sequence: 20<br> Stop ID: JP<br>Zone ID: D-7.1J<br>Num Packages: 1.0 <br> Service Time: 63.0",
          "Sequence: 21<br> Stop ID: AV<br>Zone ID: D-7.1J<br>Num Packages: 2.0 <br> Service Time: 47.0",
          "Sequence: 22<br> Stop ID: TP<br>Zone ID: D-7.1J<br>Num Packages: 1.0 <br> Service Time: 78.0",
          "Sequence: 23<br> Stop ID: WH<br>Zone ID: D-7.1J<br>Num Packages: 1.0 <br> Service Time: 51.0"
         ],
         "type": "scattermapbox"
        },
        {
         "hoverinfo": "text",
         "lat": [
          42.138865,
          42.1386,
          42.137251,
          42.138579,
          42.137793,
          42.137943,
          42.138473,
          42.138093
         ],
         "lon": [
          -88.04553,
          -88.04553,
          -88.04553,
          -88.044311,
          -88.052893,
          -88.051665,
          -88.047033,
          -88.0485
         ],
         "marker": {
          "size": 15
         },
         "mode": "markers",
         "name": "Route Zone D-8.1J",
         "text": [
          "Sequence: 24<br> Stop ID: QV<br>Zone ID: D-8.1J<br>Num Packages: 1.0 <br> Service Time: 66.0",
          "Sequence: 25<br> Stop ID: LQ<br>Zone ID: D-8.1J<br>Num Packages: 1.0 <br> Service Time: 68.0",
          "Sequence: 26<br> Stop ID: VQ<br>Zone ID: D-8.1J<br>Num Packages: 3.0 <br> Service Time: 75.7",
          "Sequence: 27<br> Stop ID: SH<br>Zone ID: D-8.1J<br>Num Packages: 1.0 <br> Service Time: 57.0",
          "Sequence: 28<br> Stop ID: TA<br>Zone ID: D-8.1J<br>Num Packages: 2.0 <br> Service Time: 52.5",
          "Sequence: 29<br> Stop ID: ZS<br>Zone ID: D-8.1J<br>Num Packages: 2.0 <br> Service Time: 59.5",
          "Sequence: 30<br> Stop ID: QW<br>Zone ID: D-8.1J<br>Num Packages: 1.0 <br> Service Time: 86.0",
          "Sequence: 31<br> Stop ID: WU<br>Zone ID: D-8.1J<br>Num Packages: 3.0 <br> Service Time: 64.0"
         ],
         "type": "scattermapbox"
        },
        {
         "hoverinfo": "text",
         "lat": [
          42.138326,
          42.138841,
          42.136177,
          42.13703,
          42.137252,
          42.136992
         ],
         "lon": [
          -88.049033,
          -88.049205,
          -88.051373,
          -88.052998,
          -88.052204,
          -88.04904
         ],
         "marker": {
          "size": 15
         },
         "mode": "markers",
         "name": "Route Zone D-8.2J",
         "text": [
          "Sequence: 32<br> Stop ID: YQ<br>Zone ID: D-8.2J<br>Num Packages: 1.0 <br> Service Time: 41.0",
          "Sequence: 33<br> Stop ID: JM<br>Zone ID: D-8.2J<br>Num Packages: 1.0 <br> Service Time: 140.0",
          "Sequence: 34<br> Stop ID: LW<br>Zone ID: D-8.2J<br>Num Packages: 3.0 <br> Service Time: 39.0",
          "Sequence: 35<br> Stop ID: GR<br>Zone ID: D-8.2J<br>Num Packages: 2.0 <br> Service Time: 52.0",
          "Sequence: 36<br> Stop ID: NL<br>Zone ID: D-8.2J<br>Num Packages: 2.0 <br> Service Time: 41.0",
          "Sequence: 37<br> Stop ID: SC<br>Zone ID: D-8.2J<br>Num Packages: 6.0 <br> Service Time: 69.5"
         ],
         "type": "scattermapbox"
        },
        {
         "hoverinfo": "text",
         "lat": [
          42.134427,
          42.133684,
          42.135056,
          42.13589,
          42.13498,
          42.132521
         ],
         "lon": [
          -88.049086,
          -88.050275,
          -88.047056,
          -88.046189,
          -88.045655,
          -88.049673
         ],
         "marker": {
          "size": 15
         },
         "mode": "markers",
         "name": "Route Zone D-8.3J",
         "text": [
          "Sequence: 38<br> Stop ID: JD<br>Zone ID: D-8.3J<br>Num Packages: 1.0 <br> Service Time: 51.0",
          "Sequence: 39<br> Stop ID: MZ<br>Zone ID: D-8.3J<br>Num Packages: 2.0 <br> Service Time: 44.0",
          "Sequence: 40<br> Stop ID: TQ<br>Zone ID: D-8.3J<br>Num Packages: 1.0 <br> Service Time: 66.0",
          "Sequence: 41<br> Stop ID: RR<br>Zone ID: D-8.3J<br>Num Packages: 1.0 <br> Service Time: 58.0",
          "Sequence: 42<br> Stop ID: ZX<br>Zone ID: D-8.3J<br>Num Packages: 1.0 <br> Service Time: 80.0",
          "Sequence: 43<br> Stop ID: IS<br>Zone ID: D-8.3J<br>Num Packages: 1.0 <br> Service Time: 149.0"
         ],
         "type": "scattermapbox"
        },
        {
         "hoverinfo": "text",
         "lat": [
          42.13305,
          42.134075
         ],
         "lon": [
          -88.047733,
          -88.044372
         ],
         "marker": {
          "size": 15
         },
         "mode": "markers",
         "name": "Route Zone D-8.3H",
         "text": [
          "Sequence: 44<br> Stop ID: XJ<br>Zone ID: D-8.3H<br>Num Packages: 1.0 <br> Service Time: 48.0",
          "Sequence: 45<br> Stop ID: WX<br>Zone ID: D-8.3H<br>Num Packages: 1.0 <br> Service Time: 58.0"
         ],
         "type": "scattermapbox"
        },
        {
         "hoverinfo": "text",
         "lat": [
          42.132063,
          42.133652,
          42.131008,
          42.128874,
          42.129921,
          42.131093,
          42.131737,
          42.130444
         ],
         "lon": [
          -88.042602,
          -88.043142,
          -88.04375,
          -88.042146,
          -88.04139,
          -88.042323,
          -88.04025,
          -88.037884
         ],
         "marker": {
          "size": 15
         },
         "mode": "markers",
         "name": "Route Zone D-8.2H",
         "text": [
          "Sequence: 46<br> Stop ID: DT<br>Zone ID: D-8.2H<br>Num Packages: 1.0 <br> Service Time: 54.0",
          "Sequence: 47<br> Stop ID: OW<br>Zone ID: D-8.2H<br>Num Packages: 1.0 <br> Service Time: 64.0",
          "Sequence: 48<br> Stop ID: MA<br>Zone ID: D-8.2H<br>Num Packages: 1.0 <br> Service Time: 57.0",
          "Sequence: 49<br> Stop ID: JC<br>Zone ID: D-8.2H<br>Num Packages: 1.0 <br> Service Time: 64.0",
          "Sequence: 50<br> Stop ID: YK<br>Zone ID: D-8.2H<br>Num Packages: 1.0 <br> Service Time: 72.0",
          "Sequence: 51<br> Stop ID: YJ<br>Zone ID: D-8.2H<br>Num Packages: 1.0 <br> Service Time: 93.0",
          "Sequence: 52<br> Stop ID: OH<br>Zone ID: D-8.2H<br>Num Packages: 3.0 <br> Service Time: 78.0",
          "Sequence: 53<br> Stop ID: VO<br>Zone ID: D-8.2H<br>Num Packages: 1.0 <br> Service Time: 55.0"
         ],
         "type": "scattermapbox"
        },
        {
         "hoverinfo": "text",
         "lat": [
          42.128841,
          42.128815,
          42.125684,
          42.127935,
          42.127948,
          42.129722,
          42.129728,
          42.130161,
          42.132696,
          42.131009,
          42.131031
         ],
         "lon": [
          -88.037114,
          -88.034782,
          -88.038542,
          -88.036821,
          -88.038602,
          -88.034192,
          -88.035091,
          -88.03669,
          -88.039367,
          -88.029694,
          -88.032127
         ],
         "marker": {
          "size": 15
         },
         "mode": "markers",
         "name": "Route Zone D-8.1H",
         "text": [
          "Sequence: 54<br> Stop ID: TR<br>Zone ID: D-8.1H<br>Num Packages: 1.0 <br> Service Time: 48.0",
          "Sequence: 55<br> Stop ID: EQ<br>Zone ID: D-8.1H<br>Num Packages: 2.0 <br> Service Time: 72.0",
          "Sequence: 56<br> Stop ID: NH<br>Zone ID: D-8.1H<br>Num Packages: 3.0 <br> Service Time: 66.3",
          "Sequence: 57<br> Stop ID: QM<br>Zone ID: D-8.1H<br>Num Packages: 3.0 <br> Service Time: 52.70000000000001",
          "Sequence: 58<br> Stop ID: EY<br>Zone ID: D-8.1H<br>Num Packages: 2.0 <br> Service Time: 67.5",
          "Sequence: 59<br> Stop ID: CW<br>Zone ID: D-8.1H<br>Num Packages: 2.0 <br> Service Time: 40.0",
          "Sequence: 60<br> Stop ID: PB<br>Zone ID: D-8.1H<br>Num Packages: 1.0 <br> Service Time: 112.0",
          "Sequence: 61<br> Stop ID: DZ<br>Zone ID: D-8.1H<br>Num Packages: 3.0 <br> Service Time: 27.0",
          "Sequence: 62<br> Stop ID: WF<br>Zone ID: D-8.1H<br>Num Packages: 1.0 <br> Service Time: 90.0",
          "Sequence: 63<br> Stop ID: XY<br>Zone ID: D-8.1H<br>Num Packages: 1.0 <br> Service Time: 117.0",
          "Sequence: 64<br> Stop ID: CG<br>Zone ID: D-8.1H<br>Num Packages: 1.0 <br> Service Time: 88.0"
         ],
         "type": "scattermapbox"
        },
        {
         "hoverinfo": "text",
         "lat": [
          42.134086,
          42.134451,
          42.133856,
          42.135233
         ],
         "lon": [
          -88.032572,
          -88.033256,
          -88.031333,
          -88.029141
         ],
         "marker": {
          "size": 15
         },
         "mode": "markers",
         "name": "Route Zone D-8.1G",
         "text": [
          "Sequence: 65<br> Stop ID: WD<br>Zone ID: D-8.1G<br>Num Packages: 2.0 <br> Service Time: 53.5",
          "Sequence: 66<br> Stop ID: CO<br>Zone ID: D-8.1G<br>Num Packages: 1.0 <br> Service Time: 73.0",
          "Sequence: 67<br> Stop ID: NZ<br>Zone ID: D-8.1G<br>Num Packages: 2.0 <br> Service Time: 40.5",
          "Sequence: 68<br> Stop ID: BV<br>Zone ID: D-8.1G<br>Num Packages: 1.0 <br> Service Time: 57.0"
         ],
         "type": "scattermapbox"
        },
        {
         "hoverinfo": "text",
         "lat": [
          42.135096,
          42.135031,
          42.135579,
          42.135986,
          42.133905
         ],
         "lon": [
          -88.028599,
          -88.027462,
          -88.02642,
          -88.028705,
          -88.026438
         ],
         "marker": {
          "size": 15
         },
         "mode": "markers",
         "name": "Route Zone D-8.2G",
         "text": [
          "Sequence: 69<br> Stop ID: QB<br>Zone ID: D-8.2G<br>Num Packages: 1.0 <br> Service Time: 72.0",
          "Sequence: 70<br> Stop ID: YX<br>Zone ID: D-8.2G<br>Num Packages: 4.0 <br> Service Time: 75.8",
          "Sequence: 71<br> Stop ID: KV<br>Zone ID: D-8.2G<br>Num Packages: 2.0 <br> Service Time: 34.0",
          "Sequence: 72<br> Stop ID: KN<br>Zone ID: D-8.2G<br>Num Packages: 2.0 <br> Service Time: 44.0",
          "Sequence: 73<br> Stop ID: ZI<br>Zone ID: D-8.2G<br>Num Packages: 2.0 <br> Service Time: 44.0"
         ],
         "type": "scattermapbox"
        },
        {
         "hoverinfo": "text",
         "lat": [
          42.13282,
          42.131919,
          42.131924,
          42.132458,
          42.131976,
          42.131686,
          42.131001,
          42.131001
         ],
         "lon": [
          -88.02541,
          -88.024397,
          -88.02661,
          -88.027574,
          -88.031215,
          -88.02858,
          -88.027127,
          -88.024676
         ],
         "marker": {
          "size": 15
         },
         "mode": "markers",
         "name": "Route Zone D-8.3G",
         "text": [
          "Sequence: 74<br> Stop ID: UP<br>Zone ID: D-8.3G<br>Num Packages: 4.0 <br> Service Time: 62.5",
          "Sequence: 75<br> Stop ID: OJ<br>Zone ID: D-8.3G<br>Num Packages: 2.0 <br> Service Time: 76.5",
          "Sequence: 76<br> Stop ID: NU<br>Zone ID: D-8.3G<br>Num Packages: 2.0 <br> Service Time: 87.0",
          "Sequence: 77<br> Stop ID: ZQ<br>Zone ID: D-8.3G<br>Num Packages: 1.0 <br> Service Time: 62.0",
          "Sequence: 78<br> Stop ID: OF<br>Zone ID: D-8.3G<br>Num Packages: 3.0 <br> Service Time: 39.7",
          "Sequence: 79<br> Stop ID: IK<br>Zone ID: D-8.3G<br>Num Packages: 1.0 <br> Service Time: 66.0",
          "Sequence: 80<br> Stop ID: XF<br>Zone ID: D-8.3G<br>Num Packages: 1.0 <br> Service Time: 62.0",
          "Sequence: 81<br> Stop ID: TW<br>Zone ID: D-8.3G<br>Num Packages: 2.0 <br> Service Time: 44.5"
         ],
         "type": "scattermapbox"
        },
        {
         "hoverinfo": "text",
         "lat": [
          42.130132,
          42.128781,
          42.127062,
          42.126468,
          42.128549,
          42.129085,
          42.126695,
          42.127031,
          42.127862,
          42.129266
         ],
         "lon": [
          -88.026442,
          -88.024088,
          -88.024085,
          -88.024692,
          -88.025863,
          -88.027485,
          -88.026331,
          -88.027461,
          -88.027852,
          -88.028331
         ],
         "marker": {
          "size": 15
         },
         "mode": "markers",
         "name": "Route Zone D-8.3E",
         "text": [
          "Sequence: 82<br> Stop ID: BA<br>Zone ID: D-8.3E<br>Num Packages: 1.0 <br> Service Time: 64.0",
          "Sequence: 83<br> Stop ID: CM<br>Zone ID: D-8.3E<br>Num Packages: 1.0 <br> Service Time: 46.0",
          "Sequence: 84<br> Stop ID: ER<br>Zone ID: D-8.3E<br>Num Packages: 2.0 <br> Service Time: 61.5",
          "Sequence: 85<br> Stop ID: UO<br>Zone ID: D-8.3E<br>Num Packages: 2.0 <br> Service Time: 70.5",
          "Sequence: 86<br> Stop ID: TH<br>Zone ID: D-8.3E<br>Num Packages: 1.0 <br> Service Time: 66.0",
          "Sequence: 87<br> Stop ID: AH<br>Zone ID: D-8.3E<br>Num Packages: 1.0 <br> Service Time: 78.0",
          "Sequence: 88<br> Stop ID: SO<br>Zone ID: D-8.3E<br>Num Packages: 1.0 <br> Service Time: 58.0",
          "Sequence: 89<br> Stop ID: KG<br>Zone ID: D-8.3E<br>Num Packages: 1.0 <br> Service Time: 64.0",
          "Sequence: 90<br> Stop ID: HG<br>Zone ID: D-8.3E<br>Num Packages: 1.0 <br> Service Time: 38.0",
          "Sequence: 91<br> Stop ID: MM<br>Zone ID: D-8.3E<br>Num Packages: 2.0 <br> Service Time: 26.0"
         ],
         "type": "scattermapbox"
        },
        {
         "hoverinfo": "text",
         "lat": [
          42.129273,
          42.126545,
          42.126553,
          42.127935,
          42.126501,
          42.125669
         ],
         "lon": [
          -88.03261,
          -88.032303,
          -88.03307,
          -88.035247,
          -88.036894,
          -88.035269
         ],
         "marker": {
          "size": 15
         },
         "mode": "markers",
         "name": "Route Zone D-8.2E",
         "text": [
          "Sequence: 92<br> Stop ID: GC<br>Zone ID: D-8.2E<br>Num Packages: 2.0 <br> Service Time: 97.5",
          "Sequence: 93<br> Stop ID: FR<br>Zone ID: D-8.2E<br>Num Packages: 3.0 <br> Service Time: 45.70000000000001",
          "Sequence: 94<br> Stop ID: SM<br>Zone ID: D-8.2E<br>Num Packages: 3.0 <br> Service Time: 35.3",
          "Sequence: 95<br> Stop ID: YB<br>Zone ID: D-8.2E<br>Num Packages: 1.0 <br> Service Time: 66.0",
          "Sequence: 96<br> Stop ID: RD<br>Zone ID: D-8.2E<br>Num Packages: 1.0 <br> Service Time: 64.0",
          "Sequence: 97<br> Stop ID: BL<br>Zone ID: D-8.2E<br>Num Packages: 1.0 <br> Service Time: 72.0"
         ],
         "type": "scattermapbox"
        },
        {
         "hoverinfo": "text",
         "lat": [
          42.123879,
          42.123379,
          42.122188,
          42.120547,
          42.119086,
          42.122376,
          42.124233,
          42.124254,
          42.122974,
          42.122625
         ],
         "lon": [
          -88.033107,
          -88.032213,
          -88.033265,
          -88.030685,
          -88.03069,
          -88.029899,
          -88.029766,
          -88.030676,
          -88.03483,
          -88.035043
         ],
         "marker": {
          "size": 15
         },
         "mode": "markers",
         "name": "Route Zone D-8.1E",
         "text": [
          "Sequence: 98<br> Stop ID: MU<br>Zone ID: D-8.1E<br>Num Packages: 1.0 <br> Service Time: 69.0",
          "Sequence: 99<br> Stop ID: AY<br>Zone ID: D-8.1E<br>Num Packages: 3.0 <br> Service Time: 69.7",
          "Sequence: 100<br> Stop ID: NV<br>Zone ID: D-8.1E<br>Num Packages: 1.0 <br> Service Time: 118.0",
          "Sequence: 101<br> Stop ID: SS<br>Zone ID: D-8.1E<br>Num Packages: 1.0 <br> Service Time: 48.0",
          "Sequence: 102<br> Stop ID: UG<br>Zone ID: D-8.1E<br>Num Packages: 1.0 <br> Service Time: 83.0",
          "Sequence: 103<br> Stop ID: SI<br>Zone ID: D-8.1E<br>Num Packages: 1.0 <br> Service Time: 69.0",
          "Sequence: 104<br> Stop ID: NR<br>Zone ID: D-8.1E<br>Num Packages: 1.0 <br> Service Time: 52.0",
          "Sequence: 105<br> Stop ID: RU<br>Zone ID: D-8.1E<br>Num Packages: 1.0 <br> Service Time: 47.0",
          "Sequence: 106<br> Stop ID: RH<br>Zone ID: D-8.1E<br>Num Packages: 1.0 <br> Service Time: 143.0",
          "Sequence: 107<br> Stop ID: MF<br>Zone ID: D-8.1E<br>Num Packages: 1.0 <br> Service Time: 252.0"
         ],
         "type": "scattermapbox"
        },
        {
         "hoverinfo": "text",
         "lat": [
          42.121971,
          42.115862,
          42.114927
         ],
         "lon": [
          -88.03801,
          -88.031135,
          -88.031544
         ],
         "marker": {
          "size": 15
         },
         "mode": "markers",
         "name": "Route Zone D-8.1D",
         "text": [
          "Sequence: 108<br> Stop ID: IX<br>Zone ID: D-8.1D<br>Num Packages: 6.0 <br> Service Time: 64.8",
          "Sequence: 109<br> Stop ID: FU<br>Zone ID: D-8.1D<br>Num Packages: 2.0 <br> Service Time: 38.5",
          "Sequence: 110<br> Stop ID: OD<br>Zone ID: D-8.1D<br>Num Packages: 1.0 <br> Service Time: 92.0"
         ],
         "type": "scattermapbox"
        },
        {
         "hoverinfo": "text",
         "lat": [
          42.114245,
          42.112055,
          42.112593,
          42.113414
         ],
         "lon": [
          -88.03114,
          -88.029714,
          -88.029043,
          -88.027425
         ],
         "marker": {
          "size": 15
         },
         "mode": "markers",
         "name": "Route Zone D-8.2D",
         "text": [
          "Sequence: 111<br> Stop ID: DM<br>Zone ID: D-8.2D<br>Num Packages: 1.0 <br> Service Time: 60.0",
          "Sequence: 112<br> Stop ID: IP<br>Zone ID: D-8.2D<br>Num Packages: 1.0 <br> Service Time: 49.0",
          "Sequence: 113<br> Stop ID: KS<br>Zone ID: D-8.2D<br>Num Packages: 3.0 <br> Service Time: 77.7",
          "Sequence: 114<br> Stop ID: VH<br>Zone ID: D-8.2D<br>Num Packages: 1.0 <br> Service Time: 118.0"
         ],
         "type": "scattermapbox"
        },
        {
         "hoverinfo": "text",
         "lat": [
          42.109572,
          42.109579,
          42.107027,
          42.108395,
          42.109334,
          42.111391,
          42.112436,
          42.107336,
          42.105925,
          42.105136,
          42.106359,
          42.107244
         ],
         "lon": [
          -88.027437,
          -88.0217,
          -88.020213,
          -88.022737,
          -88.024165,
          -88.02416,
          -88.025802,
          -88.025808,
          -88.025797,
          -88.025792,
          -88.027433,
          -88.027437
         ],
         "marker": {
          "size": 15
         },
         "mode": "markers",
         "name": "Route Zone D-8.2B",
         "text": [
          "Sequence: 115<br> Stop ID: HA<br>Zone ID: D-8.2B<br>Num Packages: 1.0 <br> Service Time: 115.0",
          "Sequence: 116<br> Stop ID: EF<br>Zone ID: D-8.2B<br>Num Packages: 2.0 <br> Service Time: 50.5",
          "Sequence: 117<br> Stop ID: ON<br>Zone ID: D-8.2B<br>Num Packages: 1.0 <br> Service Time: 53.0",
          "Sequence: 118<br> Stop ID: GZ<br>Zone ID: D-8.2B<br>Num Packages: 1.0 <br> Service Time: 57.0",
          "Sequence: 119<br> Stop ID: UI<br>Zone ID: D-8.2B<br>Num Packages: 1.0 <br> Service Time: 133.0",
          "Sequence: 120<br> Stop ID: YA<br>Zone ID: D-8.2B<br>Num Packages: 1.0 <br> Service Time: 79.0",
          "Sequence: 121<br> Stop ID: UF<br>Zone ID: D-8.2B<br>Num Packages: 1.0 <br> Service Time: 89.0",
          "Sequence: 122<br> Stop ID: GU<br>Zone ID: D-8.2B<br>Num Packages: 1.0 <br> Service Time: 74.0",
          "Sequence: 123<br> Stop ID: FK<br>Zone ID: D-8.2B<br>Num Packages: 1.0 <br> Service Time: 70.0",
          "Sequence: 124<br> Stop ID: ZL<br>Zone ID: D-8.2B<br>Num Packages: 1.0 <br> Service Time: 66.0",
          "Sequence: 125<br> Stop ID: WY<br>Zone ID: D-8.2B<br>Num Packages: 1.0 <br> Service Time: 70.0",
          "Sequence: 126<br> Stop ID: XK<br>Zone ID: D-8.2B<br>Num Packages: 1.0 <br> Service Time: 159.0"
         ],
         "type": "scattermapbox"
        },
        {
         "hoverinfo": "text",
         "lat": [
          42.107767,
          42.108913,
          42.108819,
          42.108287,
          42.107161,
          42.109444,
          42.110255
         ],
         "lon": [
          -88.029074,
          -88.02907,
          -88.030698,
          -88.030702,
          -88.032347,
          -88.032333,
          -88.029854
         ],
         "marker": {
          "size": 15
         },
         "mode": "markers",
         "name": "Route Zone D-8.1B",
         "text": [
          "Sequence: 127<br> Stop ID: FD<br>Zone ID: D-8.1B<br>Num Packages: 2.0 <br> Service Time: 53.0",
          "Sequence: 128<br> Stop ID: GY<br>Zone ID: D-8.1B<br>Num Packages: 1.0 <br> Service Time: 71.0",
          "Sequence: 129<br> Stop ID: RO<br>Zone ID: D-8.1B<br>Num Packages: 1.0 <br> Service Time: 105.0",
          "Sequence: 130<br> Stop ID: UR<br>Zone ID: D-8.1B<br>Num Packages: 1.0 <br> Service Time: 84.0",
          "Sequence: 131<br> Stop ID: BC<br>Zone ID: D-8.1B<br>Num Packages: 6.0 <br> Service Time: 37.699999999999996",
          "Sequence: 132<br> Stop ID: CH<br>Zone ID: D-8.1B<br>Num Packages: 1.0 <br> Service Time: 64.0",
          "Sequence: 133<br> Stop ID: WO<br>Zone ID: D-8.1B<br>Num Packages: 1.0 <br> Service Time: 115.0"
         ],
         "type": "scattermapbox"
        },
        {
         "hoverinfo": "text",
         "lat": [
          42.110313,
          42.109819,
          42.10896,
          42.108656,
          42.107882,
          42.109283,
          42.110246
         ],
         "lon": [
          -88.037638,
          -88.03641,
          -88.03641,
          -88.037391,
          -88.035445,
          -88.038294,
          -88.038667
         ],
         "marker": {
          "size": 15
         },
         "mode": "markers",
         "name": "Route Zone D-8.1C",
         "text": [
          "Sequence: 134<br> Stop ID: EC<br>Zone ID: D-8.1C<br>Num Packages: 1.0 <br> Service Time: 84.0",
          "Sequence: 135<br> Stop ID: IF<br>Zone ID: D-8.1C<br>Num Packages: 1.0 <br> Service Time: 116.0",
          "Sequence: 136<br> Stop ID: BS<br>Zone ID: D-8.1C<br>Num Packages: 2.0 <br> Service Time: 51.0",
          "Sequence: 137<br> Stop ID: EU<br>Zone ID: D-8.1C<br>Num Packages: 1.0 <br> Service Time: 89.0",
          "Sequence: 138<br> Stop ID: AU<br>Zone ID: D-8.1C<br>Num Packages: 1.0 <br> Service Time: 33.0",
          "Sequence: 139<br> Stop ID: YS<br>Zone ID: D-8.1C<br>Num Packages: 1.0 <br> Service Time: 136.0",
          "Sequence: 140<br> Stop ID: VX<br>Zone ID: D-8.1C<br>Num Packages: 2.0 <br> Service Time: 94.0"
         ],
         "type": "scattermapbox"
        },
        {
         "hoverinfo": "text",
         "lat": [
          42.110331,
          42.111254,
          42.11103,
          42.111796
         ],
         "lon": [
          -88.039213,
          -88.040606,
          -88.04133,
          -88.04132
         ],
         "marker": {
          "size": 15
         },
         "mode": "markers",
         "name": "Route Zone D-8.2C",
         "text": [
          "Sequence: 141<br> Stop ID: XP<br>Zone ID: D-8.2C<br>Num Packages: 1.0 <br> Service Time: 58.0",
          "Sequence: 142<br> Stop ID: DQ<br>Zone ID: D-8.2C<br>Num Packages: 1.0 <br> Service Time: 50.0",
          "Sequence: 143<br> Stop ID: LD<br>Zone ID: D-8.2C<br>Num Packages: 2.0 <br> Service Time: 36.5",
          "Sequence: 144<br> Stop ID: QN<br>Zone ID: D-8.2C<br>Num Packages: 1.0 <br> Service Time: 80.0"
         ],
         "type": "scattermapbox"
        },
        {
         "hoverinfo": "text",
         "lat": [
          42.113782,
          42.113068,
          42.113638,
          42.114383,
          42.116969,
          42.116606
         ],
         "lon": [
          -88.04132,
          -88.039517,
          -88.043764,
          -88.042536,
          -88.042539,
          -88.0413
         ],
         "marker": {
          "size": 15
         },
         "mode": "markers",
         "name": "Route Zone D-8.3C",
         "text": [
          "Sequence: 145<br> Stop ID: JZ<br>Zone ID: D-8.3C<br>Num Packages: 1.0 <br> Service Time: 59.0",
          "Sequence: 146<br> Stop ID: HU<br>Zone ID: D-8.3C<br>Num Packages: 2.0 <br> Service Time: 44.0",
          "Sequence: 147<br> Stop ID: VL<br>Zone ID: D-8.3C<br>Num Packages: 1.0 <br> Service Time: 72.0",
          "Sequence: 148<br> Stop ID: ZH<br>Zone ID: D-8.3C<br>Num Packages: 1.0 <br> Service Time: 71.0",
          "Sequence: 149<br> Stop ID: DS<br>Zone ID: D-8.3C<br>Num Packages: 1.0 <br> Service Time: 63.0",
          "Sequence: 150<br> Stop ID: MI<br>Zone ID: D-8.3C<br>Num Packages: 1.0 <br> Service Time: 112.0"
         ],
         "type": "scattermapbox"
        },
        {
         "hoverinfo": "text",
         "lat": [
          42.115201,
          42.114021,
          42.116358,
          42.11625,
          42.115827,
          42.114226,
          42.254346
         ],
         "lon": [
          -88.038798,
          -88.0364,
          -88.036406,
          -88.035184,
          -88.035189,
          -88.035188,
          -87.985697
         ],
         "marker": {
          "size": 15
         },
         "mode": "markers",
         "name": "Route Zone D-8.3D",
         "text": [
          "Sequence: 151<br> Stop ID: WV<br>Zone ID: D-8.3D<br>Num Packages: 3.0 <br> Service Time: 29.3",
          "Sequence: 152<br> Stop ID: BK<br>Zone ID: D-8.3D<br>Num Packages: 1.0 <br> Service Time: 147.0",
          "Sequence: 153<br> Stop ID: QI<br>Zone ID: D-8.3D<br>Num Packages: 1.0 <br> Service Time: 80.0",
          "Sequence: 154<br> Stop ID: XH<br>Zone ID: D-8.3D<br>Num Packages: 1.0 <br> Service Time: 42.0",
          "Sequence: 155<br> Stop ID: JN<br>Zone ID: D-8.3D<br>Num Packages: 2.0 <br> Service Time: 26.0",
          "Sequence: 156<br> Stop ID: YV<br>Zone ID: D-8.3D<br>Num Packages: 2.0 <br> Service Time: 27.0",
          "Sequence: 157<br> Stop ID: HJ<br>Zone ID: D-8.3D<br>Num Packages: nan <br> Service Time: nan"
         ],
         "type": "scattermapbox"
        }
       ],
       "layout": {
        "height": 600,
        "mapbox": {
         "center": {
          "lat": 42.127307412860496,
          "lon": -88.03487714038236
         },
         "style": "open-street-map",
         "zoom": 10
        },
        "margin": {
         "b": 10,
         "l": 10,
         "r": 10,
         "t": 10
        },
        "showlegend": true,
        "template": {
         "data": {
          "bar": [
           {
            "error_x": {
             "color": "#2a3f5f"
            },
            "error_y": {
             "color": "#2a3f5f"
            },
            "marker": {
             "line": {
              "color": "#E5ECF6",
              "width": 0.5
             },
             "pattern": {
              "fillmode": "overlay",
              "size": 10,
              "solidity": 0.2
             }
            },
            "type": "bar"
           }
          ],
          "barpolar": [
           {
            "marker": {
             "line": {
              "color": "#E5ECF6",
              "width": 0.5
             },
             "pattern": {
              "fillmode": "overlay",
              "size": 10,
              "solidity": 0.2
             }
            },
            "type": "barpolar"
           }
          ],
          "carpet": [
           {
            "aaxis": {
             "endlinecolor": "#2a3f5f",
             "gridcolor": "white",
             "linecolor": "white",
             "minorgridcolor": "white",
             "startlinecolor": "#2a3f5f"
            },
            "baxis": {
             "endlinecolor": "#2a3f5f",
             "gridcolor": "white",
             "linecolor": "white",
             "minorgridcolor": "white",
             "startlinecolor": "#2a3f5f"
            },
            "type": "carpet"
           }
          ],
          "choropleth": [
           {
            "colorbar": {
             "outlinewidth": 0,
             "ticks": ""
            },
            "type": "choropleth"
           }
          ],
          "contour": [
           {
            "colorbar": {
             "outlinewidth": 0,
             "ticks": ""
            },
            "colorscale": [
             [
              0,
              "#0d0887"
             ],
             [
              0.1111111111111111,
              "#46039f"
             ],
             [
              0.2222222222222222,
              "#7201a8"
             ],
             [
              0.3333333333333333,
              "#9c179e"
             ],
             [
              0.4444444444444444,
              "#bd3786"
             ],
             [
              0.5555555555555556,
              "#d8576b"
             ],
             [
              0.6666666666666666,
              "#ed7953"
             ],
             [
              0.7777777777777778,
              "#fb9f3a"
             ],
             [
              0.8888888888888888,
              "#fdca26"
             ],
             [
              1,
              "#f0f921"
             ]
            ],
            "type": "contour"
           }
          ],
          "contourcarpet": [
           {
            "colorbar": {
             "outlinewidth": 0,
             "ticks": ""
            },
            "type": "contourcarpet"
           }
          ],
          "heatmap": [
           {
            "colorbar": {
             "outlinewidth": 0,
             "ticks": ""
            },
            "colorscale": [
             [
              0,
              "#0d0887"
             ],
             [
              0.1111111111111111,
              "#46039f"
             ],
             [
              0.2222222222222222,
              "#7201a8"
             ],
             [
              0.3333333333333333,
              "#9c179e"
             ],
             [
              0.4444444444444444,
              "#bd3786"
             ],
             [
              0.5555555555555556,
              "#d8576b"
             ],
             [
              0.6666666666666666,
              "#ed7953"
             ],
             [
              0.7777777777777778,
              "#fb9f3a"
             ],
             [
              0.8888888888888888,
              "#fdca26"
             ],
             [
              1,
              "#f0f921"
             ]
            ],
            "type": "heatmap"
           }
          ],
          "heatmapgl": [
           {
            "colorbar": {
             "outlinewidth": 0,
             "ticks": ""
            },
            "colorscale": [
             [
              0,
              "#0d0887"
             ],
             [
              0.1111111111111111,
              "#46039f"
             ],
             [
              0.2222222222222222,
              "#7201a8"
             ],
             [
              0.3333333333333333,
              "#9c179e"
             ],
             [
              0.4444444444444444,
              "#bd3786"
             ],
             [
              0.5555555555555556,
              "#d8576b"
             ],
             [
              0.6666666666666666,
              "#ed7953"
             ],
             [
              0.7777777777777778,
              "#fb9f3a"
             ],
             [
              0.8888888888888888,
              "#fdca26"
             ],
             [
              1,
              "#f0f921"
             ]
            ],
            "type": "heatmapgl"
           }
          ],
          "histogram": [
           {
            "marker": {
             "pattern": {
              "fillmode": "overlay",
              "size": 10,
              "solidity": 0.2
             }
            },
            "type": "histogram"
           }
          ],
          "histogram2d": [
           {
            "colorbar": {
             "outlinewidth": 0,
             "ticks": ""
            },
            "colorscale": [
             [
              0,
              "#0d0887"
             ],
             [
              0.1111111111111111,
              "#46039f"
             ],
             [
              0.2222222222222222,
              "#7201a8"
             ],
             [
              0.3333333333333333,
              "#9c179e"
             ],
             [
              0.4444444444444444,
              "#bd3786"
             ],
             [
              0.5555555555555556,
              "#d8576b"
             ],
             [
              0.6666666666666666,
              "#ed7953"
             ],
             [
              0.7777777777777778,
              "#fb9f3a"
             ],
             [
              0.8888888888888888,
              "#fdca26"
             ],
             [
              1,
              "#f0f921"
             ]
            ],
            "type": "histogram2d"
           }
          ],
          "histogram2dcontour": [
           {
            "colorbar": {
             "outlinewidth": 0,
             "ticks": ""
            },
            "colorscale": [
             [
              0,
              "#0d0887"
             ],
             [
              0.1111111111111111,
              "#46039f"
             ],
             [
              0.2222222222222222,
              "#7201a8"
             ],
             [
              0.3333333333333333,
              "#9c179e"
             ],
             [
              0.4444444444444444,
              "#bd3786"
             ],
             [
              0.5555555555555556,
              "#d8576b"
             ],
             [
              0.6666666666666666,
              "#ed7953"
             ],
             [
              0.7777777777777778,
              "#fb9f3a"
             ],
             [
              0.8888888888888888,
              "#fdca26"
             ],
             [
              1,
              "#f0f921"
             ]
            ],
            "type": "histogram2dcontour"
           }
          ],
          "mesh3d": [
           {
            "colorbar": {
             "outlinewidth": 0,
             "ticks": ""
            },
            "type": "mesh3d"
           }
          ],
          "parcoords": [
           {
            "line": {
             "colorbar": {
              "outlinewidth": 0,
              "ticks": ""
             }
            },
            "type": "parcoords"
           }
          ],
          "pie": [
           {
            "automargin": true,
            "type": "pie"
           }
          ],
          "scatter": [
           {
            "fillpattern": {
             "fillmode": "overlay",
             "size": 10,
             "solidity": 0.2
            },
            "type": "scatter"
           }
          ],
          "scatter3d": [
           {
            "line": {
             "colorbar": {
              "outlinewidth": 0,
              "ticks": ""
             }
            },
            "marker": {
             "colorbar": {
              "outlinewidth": 0,
              "ticks": ""
             }
            },
            "type": "scatter3d"
           }
          ],
          "scattercarpet": [
           {
            "marker": {
             "colorbar": {
              "outlinewidth": 0,
              "ticks": ""
             }
            },
            "type": "scattercarpet"
           }
          ],
          "scattergeo": [
           {
            "marker": {
             "colorbar": {
              "outlinewidth": 0,
              "ticks": ""
             }
            },
            "type": "scattergeo"
           }
          ],
          "scattergl": [
           {
            "marker": {
             "colorbar": {
              "outlinewidth": 0,
              "ticks": ""
             }
            },
            "type": "scattergl"
           }
          ],
          "scattermapbox": [
           {
            "marker": {
             "colorbar": {
              "outlinewidth": 0,
              "ticks": ""
             }
            },
            "type": "scattermapbox"
           }
          ],
          "scatterpolar": [
           {
            "marker": {
             "colorbar": {
              "outlinewidth": 0,
              "ticks": ""
             }
            },
            "type": "scatterpolar"
           }
          ],
          "scatterpolargl": [
           {
            "marker": {
             "colorbar": {
              "outlinewidth": 0,
              "ticks": ""
             }
            },
            "type": "scatterpolargl"
           }
          ],
          "scatterternary": [
           {
            "marker": {
             "colorbar": {
              "outlinewidth": 0,
              "ticks": ""
             }
            },
            "type": "scatterternary"
           }
          ],
          "surface": [
           {
            "colorbar": {
             "outlinewidth": 0,
             "ticks": ""
            },
            "colorscale": [
             [
              0,
              "#0d0887"
             ],
             [
              0.1111111111111111,
              "#46039f"
             ],
             [
              0.2222222222222222,
              "#7201a8"
             ],
             [
              0.3333333333333333,
              "#9c179e"
             ],
             [
              0.4444444444444444,
              "#bd3786"
             ],
             [
              0.5555555555555556,
              "#d8576b"
             ],
             [
              0.6666666666666666,
              "#ed7953"
             ],
             [
              0.7777777777777778,
              "#fb9f3a"
             ],
             [
              0.8888888888888888,
              "#fdca26"
             ],
             [
              1,
              "#f0f921"
             ]
            ],
            "type": "surface"
           }
          ],
          "table": [
           {
            "cells": {
             "fill": {
              "color": "#EBF0F8"
             },
             "line": {
              "color": "white"
             }
            },
            "header": {
             "fill": {
              "color": "#C8D4E3"
             },
             "line": {
              "color": "white"
             }
            },
            "type": "table"
           }
          ]
         },
         "layout": {
          "annotationdefaults": {
           "arrowcolor": "#2a3f5f",
           "arrowhead": 0,
           "arrowwidth": 1
          },
          "autotypenumbers": "strict",
          "coloraxis": {
           "colorbar": {
            "outlinewidth": 0,
            "ticks": ""
           }
          },
          "colorscale": {
           "diverging": [
            [
             0,
             "#8e0152"
            ],
            [
             0.1,
             "#c51b7d"
            ],
            [
             0.2,
             "#de77ae"
            ],
            [
             0.3,
             "#f1b6da"
            ],
            [
             0.4,
             "#fde0ef"
            ],
            [
             0.5,
             "#f7f7f7"
            ],
            [
             0.6,
             "#e6f5d0"
            ],
            [
             0.7,
             "#b8e186"
            ],
            [
             0.8,
             "#7fbc41"
            ],
            [
             0.9,
             "#4d9221"
            ],
            [
             1,
             "#276419"
            ]
           ],
           "sequential": [
            [
             0,
             "#0d0887"
            ],
            [
             0.1111111111111111,
             "#46039f"
            ],
            [
             0.2222222222222222,
             "#7201a8"
            ],
            [
             0.3333333333333333,
             "#9c179e"
            ],
            [
             0.4444444444444444,
             "#bd3786"
            ],
            [
             0.5555555555555556,
             "#d8576b"
            ],
            [
             0.6666666666666666,
             "#ed7953"
            ],
            [
             0.7777777777777778,
             "#fb9f3a"
            ],
            [
             0.8888888888888888,
             "#fdca26"
            ],
            [
             1,
             "#f0f921"
            ]
           ],
           "sequentialminus": [
            [
             0,
             "#0d0887"
            ],
            [
             0.1111111111111111,
             "#46039f"
            ],
            [
             0.2222222222222222,
             "#7201a8"
            ],
            [
             0.3333333333333333,
             "#9c179e"
            ],
            [
             0.4444444444444444,
             "#bd3786"
            ],
            [
             0.5555555555555556,
             "#d8576b"
            ],
            [
             0.6666666666666666,
             "#ed7953"
            ],
            [
             0.7777777777777778,
             "#fb9f3a"
            ],
            [
             0.8888888888888888,
             "#fdca26"
            ],
            [
             1,
             "#f0f921"
            ]
           ]
          },
          "colorway": [
           "#636efa",
           "#EF553B",
           "#00cc96",
           "#ab63fa",
           "#FFA15A",
           "#19d3f3",
           "#FF6692",
           "#B6E880",
           "#FF97FF",
           "#FECB52"
          ],
          "font": {
           "color": "#2a3f5f"
          },
          "geo": {
           "bgcolor": "white",
           "lakecolor": "white",
           "landcolor": "#E5ECF6",
           "showlakes": true,
           "showland": true,
           "subunitcolor": "white"
          },
          "hoverlabel": {
           "align": "left"
          },
          "hovermode": "closest",
          "mapbox": {
           "style": "light"
          },
          "paper_bgcolor": "white",
          "plot_bgcolor": "#E5ECF6",
          "polar": {
           "angularaxis": {
            "gridcolor": "white",
            "linecolor": "white",
            "ticks": ""
           },
           "bgcolor": "#E5ECF6",
           "radialaxis": {
            "gridcolor": "white",
            "linecolor": "white",
            "ticks": ""
           }
          },
          "scene": {
           "xaxis": {
            "backgroundcolor": "#E5ECF6",
            "gridcolor": "white",
            "gridwidth": 2,
            "linecolor": "white",
            "showbackground": true,
            "ticks": "",
            "zerolinecolor": "white"
           },
           "yaxis": {
            "backgroundcolor": "#E5ECF6",
            "gridcolor": "white",
            "gridwidth": 2,
            "linecolor": "white",
            "showbackground": true,
            "ticks": "",
            "zerolinecolor": "white"
           },
           "zaxis": {
            "backgroundcolor": "#E5ECF6",
            "gridcolor": "white",
            "gridwidth": 2,
            "linecolor": "white",
            "showbackground": true,
            "ticks": "",
            "zerolinecolor": "white"
           }
          },
          "shapedefaults": {
           "line": {
            "color": "#2a3f5f"
           }
          },
          "ternary": {
           "aaxis": {
            "gridcolor": "white",
            "linecolor": "white",
            "ticks": ""
           },
           "baxis": {
            "gridcolor": "white",
            "linecolor": "white",
            "ticks": ""
           },
           "bgcolor": "#E5ECF6",
           "caxis": {
            "gridcolor": "white",
            "linecolor": "white",
            "ticks": ""
           }
          },
          "title": {
           "x": 0.05
          },
          "xaxis": {
           "automargin": true,
           "gridcolor": "white",
           "linecolor": "white",
           "ticks": "",
           "title": {
            "standoff": 15
           },
           "zerolinecolor": "white",
           "zerolinewidth": 2
          },
          "yaxis": {
           "automargin": true,
           "gridcolor": "white",
           "linecolor": "white",
           "ticks": "",
           "title": {
            "standoff": 15
           },
           "zerolinecolor": "white",
           "zerolinewidth": 2
          }
         }
        }
       }
      }
     },
     "metadata": {},
     "output_type": "display_data"
    }
   ],
   "source": [
    "# Create a figure\n",
    "fig = go.Figure()\n",
    "\n",
    "# Add the drone path\n",
    "fig.add_trace(go.Scattermapbox(\n",
    "    lat=drone_data_ordered['lat'],\n",
    "    lon=drone_data_ordered['lng'],\n",
    "    mode='lines',\n",
    "    line=dict(width=2, color='red'),\n",
    "    hoverinfo='none',\n",
    "    name='Drone Path'\n",
    "))\n",
    "\n",
    "# Add scatter points for each unique zone_id in the drone data\n",
    "for zone_id in drone_data_ordered['zone_id'].unique():\n",
    "    df_sub = drone_data_ordered[drone_data_ordered['zone_id'] == zone_id]\n",
    "    hover_text = df_sub.apply(lambda row: f\"Sequence: {row.name}<br> Stop ID: {row['stop_id']}<br>Zone ID: {row['zone_id']}<br>Num Packages: {row['num_packages']} <br> Service Time: {row['service_time_seconds']}\", axis=1)\n",
    "    fig.add_trace(go.Scattermapbox(\n",
    "        lat=df_sub['lat'],\n",
    "        lon=df_sub['lng'],\n",
    "        mode='markers',\n",
    "        marker=go.scattermapbox.Marker(size=15),\n",
    "        name=f\"Drone Zone {zone_id}\",\n",
    "        text=hover_text,\n",
    "        hoverinfo='text'\n",
    "    ))\n",
    "\n",
    "\n",
    "# Add the route path\n",
    "fig.add_trace(go.Scattermapbox(\n",
    "    lat=route_data_ordered['lat'],\n",
    "    lon=route_data_ordered['lng'],\n",
    "    mode='lines',\n",
    "    line=dict(width=2, color='blue'),\n",
    "    hoverinfo='none',\n",
    "    name='Route Path'\n",
    "))\n",
    "\n",
    "# Add scatter points for each unique zone_id in the route data\n",
    "for zone_id in route_data_ordered['zone_id'].unique():\n",
    "    df_sub = route_data_ordered[route_data_ordered['zone_id'] == zone_id]\n",
    "    hover_text = df_sub.apply(lambda row: f\"Sequence: {row.name}<br> Stop ID: {row['stop_id']}<br>Zone ID: {row['zone_id']}<br>Num Packages: {row['num_packages']} <br> Service Time: {row['service_time_seconds']}\", axis=1)\n",
    "    fig.add_trace(go.Scattermapbox(\n",
    "        lat=df_sub['lat'],\n",
    "        lon=df_sub['lng'],\n",
    "        mode='markers',\n",
    "        marker=go.scattermapbox.Marker(size=15),\n",
    "        name=f\"Route Zone {zone_id}\",\n",
    "        text=hover_text,\n",
    "        hoverinfo='text'\n",
    "    ))\n",
    "\n",
    "\n",
    "\n",
    "# Update the layout to use OpenStreetMap style and adjust other layout properties\n",
    "fig.update_layout(\n",
    "    height=600,\n",
    "    mapbox=dict(\n",
    "        style=\"open-street-map\",\n",
    "        zoom=10,\n",
    "        center=dict(\n",
    "            lat=(route_data_ordered['lat'].mean() + drone_data_ordered['lat'].mean()) / 2,\n",
    "            lon=(route_data_ordered['lng'].mean() + drone_data_ordered['lng'].mean()) / 2\n",
    "        )\n",
    "    ),\n",
    "    showlegend=True\n",
    ")\n",
    "\n",
    "fig.update_layout(margin=dict(l=10, r=10, t=10, b=10))\n",
    "\n",
    "# Show the figure\n",
    "fig.show()"
   ]
  },
  {
   "cell_type": "code",
   "execution_count": null,
   "metadata": {},
   "outputs": [],
   "source": []
  }
 ],
 "metadata": {
  "kernelspec": {
   "display_name": "random",
   "language": "python",
   "name": "python3"
  },
  "language_info": {
   "codemirror_mode": {
    "name": "ipython",
    "version": 3
   },
   "file_extension": ".py",
   "mimetype": "text/x-python",
   "name": "python",
   "nbconvert_exporter": "python",
   "pygments_lexer": "ipython3",
   "version": "3.9.18"
  }
 },
 "nbformat": 4,
 "nbformat_minor": 2
}
