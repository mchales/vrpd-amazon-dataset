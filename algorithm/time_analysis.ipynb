{
 "cells": [
  {
   "cell_type": "code",
   "execution_count": 1,
   "metadata": {},
   "outputs": [],
   "source": [
    "import json\n",
    "from pathlib import Path\n",
    "import plotly.graph_objects as go\n",
    "import numpy as np"
   ]
  },
  {
   "cell_type": "code",
   "execution_count": 2,
   "metadata": {},
   "outputs": [
    {
     "name": "stdout",
     "output_type": "stream",
     "text": [
      "Average time of the last event in each file (Amazon): 24083.04 seconds\n",
      "Average time of the last event in each file (Naive): 23571.25 seconds\n",
      "Average time of the last event in each file (Optimized): 21259.05 seconds\n"
     ]
    }
   ],
   "source": [
    "def calculate_average_time(directory_path):\n",
    "    total_time = 0\n",
    "    file_count = 0\n",
    "\n",
    "    for file_path in directory_path.glob('*.json'):\n",
    "        with open(file_path, 'r') as file:\n",
    "            data = json.load(file)\n",
    "            if data and isinstance(data, list) and data[-1].get('time'):\n",
    "                total_time += data[-1]['time']\n",
    "                file_count += 1\n",
    "\n",
    "    average_time = total_time / file_count if file_count else 0\n",
    "    return average_time, file_count\n",
    "\n",
    "# Calculate average time for each directory\n",
    "directories = [\n",
    "    ('./amazon_vehicle_events', 'Amazon'),\n",
    "    ('./naive_vehicle_events', 'Naive'),\n",
    "    ('./optimized_vehicle_events', 'Optimized')\n",
    "]\n",
    "\n",
    "for directory, name in directories:\n",
    "    average_time, file_count = calculate_average_time(Path(directory))\n",
    "    print(f'Average time of the last event in each file ({name}): {round(average_time,2 )} seconds')"
   ]
  },
  {
   "cell_type": "code",
   "execution_count": 3,
   "metadata": {},
   "outputs": [
    {
     "data": {
      "application/vnd.plotly.v1+json": {
       "config": {
        "plotlyServerURL": "https://plot.ly"
       },
       "data": [
        {
         "box": {
          "visible": true
         },
         "fillcolor": "rgba(255,0,0,0.6)",
         "line": {
          "color": "red"
         },
         "name": "Amazon",
         "opacity": 0.6,
         "points": false,
         "type": "violin",
         "x": [
          5.473666666666668,
          7.340888888888888,
          6.018861111111117,
          6.075583333333334,
          7.463388888888892,
          5.952472222222225,
          6.635833333333332,
          6.9190833333333375,
          5.79838888888889,
          6.350805555555558,
          6.252055555555559,
          6.293111111111108,
          6.906611111111112,
          6.602333333333331,
          7.512888888888892,
          7.092749999999997,
          7.595555555555556,
          6.990083333333328,
          5.8784166666666655,
          5.670055555555557,
          6.886027777777781,
          4.919138888888887,
          6.5561388888888885,
          6.164888888888888,
          6.939825396825397,
          6.192097222222223,
          4.992361111111112,
          6.8121944444444456,
          7.580111111111112,
          6.696638888888887,
          6.129250000000002,
          6.630444444444446,
          6.002111111111112,
          7.022453703703704,
          6.460537037037036,
          7.064194444444447,
          7.135916666666667,
          7.678444444444442,
          7.419583333333329,
          7.5627499999999985,
          6.379111111111112,
          5.530027777777779,
          7.626222222222219,
          5.983638888888888,
          7.174,
          7.728416666666666,
          7.591249999999998,
          7.184194444444444,
          7.360694444444444,
          7.187138888888891,
          7.460592592592594,
          7.294999999999998,
          6.383444444444444,
          7.347166666666664,
          6.703916666666667,
          5.570330246913582,
          6.869999999999999,
          7.721666666666664,
          5.844499999999999,
          8.15901851851852,
          7.029916666666667,
          5.352472222222222,
          6.211000000000001,
          7.836805555555556,
          6.800555555555555,
          7.669793209876543,
          4.477550925925927,
          7.630824074074071,
          7.9603055555555535,
          6.633916666666666,
          7.0743888888888895,
          7.141833333333333,
          7.498833333333335,
          7.150722222222221,
          4.866916666666668,
          8.301083333333331,
          5.9334722222222185,
          5.605999999999999,
          6.979833333333333,
          6.435055555555554,
          6.943694444444442,
          7.5901111111111055,
          7.551111111111109,
          7.5119722222222185,
          7.5215833333333295,
          7.32966666666667,
          6.07388888888889,
          6.92511111111111,
          7.091333333333335,
          6.512361111111111,
          6.537583333333331,
          6.1859166666666665,
          7.181527777777779,
          7.037092592592597,
          7.879000000000003
         ]
        },
        {
         "box": {
          "visible": true
         },
         "fillcolor": "rgba(0,255,0,0.6)",
         "line": {
          "color": "green"
         },
         "name": "Naive",
         "opacity": 0.6,
         "points": false,
         "type": "violin",
         "x": [
          5.094666666666667,
          6.859698501308599,
          5.570555555555557,
          6.357694444444441,
          7.507114432980057,
          5.84924130805264,
          6.338777777777775,
          6.450638888888889,
          5.969083333333333,
          7.158333333333335,
          6.84361111111111,
          6.3393002836241985,
          6.346138888888887,
          5.892361111111109,
          7.2472499999999975,
          7.202083333333333,
          7.180027777777775,
          6.948777777777781,
          6.00494444444444,
          5.36138888888889,
          7.107027777777773,
          4.662027777777779,
          5.4116392937061,
          5.85486111111111,
          6.746214285714289,
          5.933838040247631,
          6.493573165600824,
          6.722222222222225,
          6.299210151697473,
          6.479096479753481,
          6.751288704619357,
          6.464808024827513,
          6.781158482151964,
          6.392453703703701,
          6.347049086020266,
          7.128611111111109,
          7.714785766941678,
          6.816638888888884,
          7.5156817861255645,
          6.397055555555556,
          5.138388888888889,
          7.379895832360348,
          6.282193300073745,
          7.063166666666669,
          8.053092005214504,
          7.430472222222219,
          7.371694444444443,
          7.460443140666185,
          8.431428751956092,
          6.671027445103771,
          7.381610226735718,
          5.938473700077919,
          7.167416666666669,
          6.493222222222223,
          5.1271358024691365,
          6.429749999999999,
          7.959831292272258,
          6.080393448505808,
          7.512879629629629,
          7.791690028198906,
          4.970000000000001,
          6.230249999999999,
          7.567042270137475,
          6.705333333333335,
          7.254358982642326,
          4.524078703703702,
          7.660074074074074,
          7.748821512990522,
          6.240997829677716,
          6.5794819721313695,
          6.1942499999999985,
          7.303805555555551,
          7.205666666666674,
          4.882527777777775,
          7.775212940671445,
          5.708527777777779,
          4.944239262873832,
          7.358083333333335,
          6.161752853413686,
          7.1058362614183945,
          7.350694444444443,
          7.607194444444441,
          7.301626664187879,
          7.307501438539623,
          7.516277777777776,
          5.9734444444444454,
          7.595637040546038,
          7.617924117431776,
          6.8840760935272725,
          6.028638888888883,
          6.235291223202226,
          7.081864236249929,
          6.284953703703704,
          7.865888888888887
         ]
        },
        {
         "box": {
          "visible": true
         },
         "fillcolor": "rgba(0,0,255,0.6)",
         "line": {
          "color": "blue"
         },
         "name": "Optimized",
         "opacity": 0.6,
         "points": false,
         "type": "violin",
         "x": [
          4.778694444444442,
          6.122542146998181,
          5.085305555555556,
          5.732083333333335,
          6.808865940964314,
          5.706250261326359,
          5.514103220730799,
          6.370472222222226,
          5.39711700744549,
          5.761364956198872,
          5.187875366946371,
          5.550133101161394,
          5.894611111111112,
          5.521611111111112,
          6.367188950795387,
          6.036499999999999,
          6.616607121450326,
          5.924083333333334,
          5.203972222222221,
          4.896361111111111,
          6.02454841359943,
          4.396277777777775,
          5.835373969856082,
          5.396191371090905,
          6.132158730158728,
          5.663708333333334,
          4.3316388888888895,
          6.1636388888888884,
          6.401944444444443,
          5.935020573799682,
          5.598249999999998,
          5.782395747343222,
          5.425309919869929,
          6.148870370370371,
          5.788252821474039,
          6.3020645574665055,
          6.696305555555552,
          7.000232539695639,
          5.922088113250069,
          6.515267162957883,
          5.512361111111112,
          4.901808525302829,
          7.23903236000911,
          5.271642771616368,
          6.504218932187332,
          7.05119871033627,
          6.302398468295912,
          5.945527777777778,
          6.178750000000003,
          6.309006865112369,
          6.1605700900760185,
          6.51828144512237,
          5.487666666666668,
          6.345720147217697,
          5.578305555555558,
          6.388969135802469,
          6.140375854570661,
          6.726942403383372,
          5.19763888888889,
          7.4496018518518525,
          6.3483194122866715,
          4.673583333333336,
          5.600107595165229,
          6.636794830167614,
          5.611416666666666,
          6.915543209876543,
          6.859740740740741,
          6.594980841347304,
          5.935400942728322,
          6.151940272200831,
          6.098611111111109,
          7.072638888888885,
          6.570994729794951,
          4.535180540936992,
          7.229452400057504,
          5.005754147059161,
          5.353991089928328,
          5.828818740987899,
          5.558969339388031,
          6.286152874405499,
          6.481159172448484,
          6.68961111111111,
          6.53595693489102,
          6.542851059368427,
          6.344111111111112,
          5.108305555555553,
          6.448720842673963,
          6.401563745771861,
          6.034528337443223,
          5.581,
          6.098583333333336,
          6.010684100507624,
          6.236453703703705,
          7.1866944444444485
         ]
        }
       ],
       "layout": {
        "barmode": "overlay",
        "template": {
         "data": {
          "bar": [
           {
            "error_x": {
             "color": "#2a3f5f"
            },
            "error_y": {
             "color": "#2a3f5f"
            },
            "marker": {
             "line": {
              "color": "#E5ECF6",
              "width": 0.5
             },
             "pattern": {
              "fillmode": "overlay",
              "size": 10,
              "solidity": 0.2
             }
            },
            "type": "bar"
           }
          ],
          "barpolar": [
           {
            "marker": {
             "line": {
              "color": "#E5ECF6",
              "width": 0.5
             },
             "pattern": {
              "fillmode": "overlay",
              "size": 10,
              "solidity": 0.2
             }
            },
            "type": "barpolar"
           }
          ],
          "carpet": [
           {
            "aaxis": {
             "endlinecolor": "#2a3f5f",
             "gridcolor": "white",
             "linecolor": "white",
             "minorgridcolor": "white",
             "startlinecolor": "#2a3f5f"
            },
            "baxis": {
             "endlinecolor": "#2a3f5f",
             "gridcolor": "white",
             "linecolor": "white",
             "minorgridcolor": "white",
             "startlinecolor": "#2a3f5f"
            },
            "type": "carpet"
           }
          ],
          "choropleth": [
           {
            "colorbar": {
             "outlinewidth": 0,
             "ticks": ""
            },
            "type": "choropleth"
           }
          ],
          "contour": [
           {
            "colorbar": {
             "outlinewidth": 0,
             "ticks": ""
            },
            "colorscale": [
             [
              0,
              "#0d0887"
             ],
             [
              0.1111111111111111,
              "#46039f"
             ],
             [
              0.2222222222222222,
              "#7201a8"
             ],
             [
              0.3333333333333333,
              "#9c179e"
             ],
             [
              0.4444444444444444,
              "#bd3786"
             ],
             [
              0.5555555555555556,
              "#d8576b"
             ],
             [
              0.6666666666666666,
              "#ed7953"
             ],
             [
              0.7777777777777778,
              "#fb9f3a"
             ],
             [
              0.8888888888888888,
              "#fdca26"
             ],
             [
              1,
              "#f0f921"
             ]
            ],
            "type": "contour"
           }
          ],
          "contourcarpet": [
           {
            "colorbar": {
             "outlinewidth": 0,
             "ticks": ""
            },
            "type": "contourcarpet"
           }
          ],
          "heatmap": [
           {
            "colorbar": {
             "outlinewidth": 0,
             "ticks": ""
            },
            "colorscale": [
             [
              0,
              "#0d0887"
             ],
             [
              0.1111111111111111,
              "#46039f"
             ],
             [
              0.2222222222222222,
              "#7201a8"
             ],
             [
              0.3333333333333333,
              "#9c179e"
             ],
             [
              0.4444444444444444,
              "#bd3786"
             ],
             [
              0.5555555555555556,
              "#d8576b"
             ],
             [
              0.6666666666666666,
              "#ed7953"
             ],
             [
              0.7777777777777778,
              "#fb9f3a"
             ],
             [
              0.8888888888888888,
              "#fdca26"
             ],
             [
              1,
              "#f0f921"
             ]
            ],
            "type": "heatmap"
           }
          ],
          "heatmapgl": [
           {
            "colorbar": {
             "outlinewidth": 0,
             "ticks": ""
            },
            "colorscale": [
             [
              0,
              "#0d0887"
             ],
             [
              0.1111111111111111,
              "#46039f"
             ],
             [
              0.2222222222222222,
              "#7201a8"
             ],
             [
              0.3333333333333333,
              "#9c179e"
             ],
             [
              0.4444444444444444,
              "#bd3786"
             ],
             [
              0.5555555555555556,
              "#d8576b"
             ],
             [
              0.6666666666666666,
              "#ed7953"
             ],
             [
              0.7777777777777778,
              "#fb9f3a"
             ],
             [
              0.8888888888888888,
              "#fdca26"
             ],
             [
              1,
              "#f0f921"
             ]
            ],
            "type": "heatmapgl"
           }
          ],
          "histogram": [
           {
            "marker": {
             "pattern": {
              "fillmode": "overlay",
              "size": 10,
              "solidity": 0.2
             }
            },
            "type": "histogram"
           }
          ],
          "histogram2d": [
           {
            "colorbar": {
             "outlinewidth": 0,
             "ticks": ""
            },
            "colorscale": [
             [
              0,
              "#0d0887"
             ],
             [
              0.1111111111111111,
              "#46039f"
             ],
             [
              0.2222222222222222,
              "#7201a8"
             ],
             [
              0.3333333333333333,
              "#9c179e"
             ],
             [
              0.4444444444444444,
              "#bd3786"
             ],
             [
              0.5555555555555556,
              "#d8576b"
             ],
             [
              0.6666666666666666,
              "#ed7953"
             ],
             [
              0.7777777777777778,
              "#fb9f3a"
             ],
             [
              0.8888888888888888,
              "#fdca26"
             ],
             [
              1,
              "#f0f921"
             ]
            ],
            "type": "histogram2d"
           }
          ],
          "histogram2dcontour": [
           {
            "colorbar": {
             "outlinewidth": 0,
             "ticks": ""
            },
            "colorscale": [
             [
              0,
              "#0d0887"
             ],
             [
              0.1111111111111111,
              "#46039f"
             ],
             [
              0.2222222222222222,
              "#7201a8"
             ],
             [
              0.3333333333333333,
              "#9c179e"
             ],
             [
              0.4444444444444444,
              "#bd3786"
             ],
             [
              0.5555555555555556,
              "#d8576b"
             ],
             [
              0.6666666666666666,
              "#ed7953"
             ],
             [
              0.7777777777777778,
              "#fb9f3a"
             ],
             [
              0.8888888888888888,
              "#fdca26"
             ],
             [
              1,
              "#f0f921"
             ]
            ],
            "type": "histogram2dcontour"
           }
          ],
          "mesh3d": [
           {
            "colorbar": {
             "outlinewidth": 0,
             "ticks": ""
            },
            "type": "mesh3d"
           }
          ],
          "parcoords": [
           {
            "line": {
             "colorbar": {
              "outlinewidth": 0,
              "ticks": ""
             }
            },
            "type": "parcoords"
           }
          ],
          "pie": [
           {
            "automargin": true,
            "type": "pie"
           }
          ],
          "scatter": [
           {
            "fillpattern": {
             "fillmode": "overlay",
             "size": 10,
             "solidity": 0.2
            },
            "type": "scatter"
           }
          ],
          "scatter3d": [
           {
            "line": {
             "colorbar": {
              "outlinewidth": 0,
              "ticks": ""
             }
            },
            "marker": {
             "colorbar": {
              "outlinewidth": 0,
              "ticks": ""
             }
            },
            "type": "scatter3d"
           }
          ],
          "scattercarpet": [
           {
            "marker": {
             "colorbar": {
              "outlinewidth": 0,
              "ticks": ""
             }
            },
            "type": "scattercarpet"
           }
          ],
          "scattergeo": [
           {
            "marker": {
             "colorbar": {
              "outlinewidth": 0,
              "ticks": ""
             }
            },
            "type": "scattergeo"
           }
          ],
          "scattergl": [
           {
            "marker": {
             "colorbar": {
              "outlinewidth": 0,
              "ticks": ""
             }
            },
            "type": "scattergl"
           }
          ],
          "scattermapbox": [
           {
            "marker": {
             "colorbar": {
              "outlinewidth": 0,
              "ticks": ""
             }
            },
            "type": "scattermapbox"
           }
          ],
          "scatterpolar": [
           {
            "marker": {
             "colorbar": {
              "outlinewidth": 0,
              "ticks": ""
             }
            },
            "type": "scatterpolar"
           }
          ],
          "scatterpolargl": [
           {
            "marker": {
             "colorbar": {
              "outlinewidth": 0,
              "ticks": ""
             }
            },
            "type": "scatterpolargl"
           }
          ],
          "scatterternary": [
           {
            "marker": {
             "colorbar": {
              "outlinewidth": 0,
              "ticks": ""
             }
            },
            "type": "scatterternary"
           }
          ],
          "surface": [
           {
            "colorbar": {
             "outlinewidth": 0,
             "ticks": ""
            },
            "colorscale": [
             [
              0,
              "#0d0887"
             ],
             [
              0.1111111111111111,
              "#46039f"
             ],
             [
              0.2222222222222222,
              "#7201a8"
             ],
             [
              0.3333333333333333,
              "#9c179e"
             ],
             [
              0.4444444444444444,
              "#bd3786"
             ],
             [
              0.5555555555555556,
              "#d8576b"
             ],
             [
              0.6666666666666666,
              "#ed7953"
             ],
             [
              0.7777777777777778,
              "#fb9f3a"
             ],
             [
              0.8888888888888888,
              "#fdca26"
             ],
             [
              1,
              "#f0f921"
             ]
            ],
            "type": "surface"
           }
          ],
          "table": [
           {
            "cells": {
             "fill": {
              "color": "#EBF0F8"
             },
             "line": {
              "color": "white"
             }
            },
            "header": {
             "fill": {
              "color": "#C8D4E3"
             },
             "line": {
              "color": "white"
             }
            },
            "type": "table"
           }
          ]
         },
         "layout": {
          "annotationdefaults": {
           "arrowcolor": "#2a3f5f",
           "arrowhead": 0,
           "arrowwidth": 1
          },
          "autotypenumbers": "strict",
          "coloraxis": {
           "colorbar": {
            "outlinewidth": 0,
            "ticks": ""
           }
          },
          "colorscale": {
           "diverging": [
            [
             0,
             "#8e0152"
            ],
            [
             0.1,
             "#c51b7d"
            ],
            [
             0.2,
             "#de77ae"
            ],
            [
             0.3,
             "#f1b6da"
            ],
            [
             0.4,
             "#fde0ef"
            ],
            [
             0.5,
             "#f7f7f7"
            ],
            [
             0.6,
             "#e6f5d0"
            ],
            [
             0.7,
             "#b8e186"
            ],
            [
             0.8,
             "#7fbc41"
            ],
            [
             0.9,
             "#4d9221"
            ],
            [
             1,
             "#276419"
            ]
           ],
           "sequential": [
            [
             0,
             "#0d0887"
            ],
            [
             0.1111111111111111,
             "#46039f"
            ],
            [
             0.2222222222222222,
             "#7201a8"
            ],
            [
             0.3333333333333333,
             "#9c179e"
            ],
            [
             0.4444444444444444,
             "#bd3786"
            ],
            [
             0.5555555555555556,
             "#d8576b"
            ],
            [
             0.6666666666666666,
             "#ed7953"
            ],
            [
             0.7777777777777778,
             "#fb9f3a"
            ],
            [
             0.8888888888888888,
             "#fdca26"
            ],
            [
             1,
             "#f0f921"
            ]
           ],
           "sequentialminus": [
            [
             0,
             "#0d0887"
            ],
            [
             0.1111111111111111,
             "#46039f"
            ],
            [
             0.2222222222222222,
             "#7201a8"
            ],
            [
             0.3333333333333333,
             "#9c179e"
            ],
            [
             0.4444444444444444,
             "#bd3786"
            ],
            [
             0.5555555555555556,
             "#d8576b"
            ],
            [
             0.6666666666666666,
             "#ed7953"
            ],
            [
             0.7777777777777778,
             "#fb9f3a"
            ],
            [
             0.8888888888888888,
             "#fdca26"
            ],
            [
             1,
             "#f0f921"
            ]
           ]
          },
          "colorway": [
           "#636efa",
           "#EF553B",
           "#00cc96",
           "#ab63fa",
           "#FFA15A",
           "#19d3f3",
           "#FF6692",
           "#B6E880",
           "#FF97FF",
           "#FECB52"
          ],
          "font": {
           "color": "#2a3f5f"
          },
          "geo": {
           "bgcolor": "white",
           "lakecolor": "white",
           "landcolor": "#E5ECF6",
           "showlakes": true,
           "showland": true,
           "subunitcolor": "white"
          },
          "hoverlabel": {
           "align": "left"
          },
          "hovermode": "closest",
          "mapbox": {
           "style": "light"
          },
          "paper_bgcolor": "white",
          "plot_bgcolor": "#E5ECF6",
          "polar": {
           "angularaxis": {
            "gridcolor": "white",
            "linecolor": "white",
            "ticks": ""
           },
           "bgcolor": "#E5ECF6",
           "radialaxis": {
            "gridcolor": "white",
            "linecolor": "white",
            "ticks": ""
           }
          },
          "scene": {
           "xaxis": {
            "backgroundcolor": "#E5ECF6",
            "gridcolor": "white",
            "gridwidth": 2,
            "linecolor": "white",
            "showbackground": true,
            "ticks": "",
            "zerolinecolor": "white"
           },
           "yaxis": {
            "backgroundcolor": "#E5ECF6",
            "gridcolor": "white",
            "gridwidth": 2,
            "linecolor": "white",
            "showbackground": true,
            "ticks": "",
            "zerolinecolor": "white"
           },
           "zaxis": {
            "backgroundcolor": "#E5ECF6",
            "gridcolor": "white",
            "gridwidth": 2,
            "linecolor": "white",
            "showbackground": true,
            "ticks": "",
            "zerolinecolor": "white"
           }
          },
          "shapedefaults": {
           "line": {
            "color": "#2a3f5f"
           }
          },
          "ternary": {
           "aaxis": {
            "gridcolor": "white",
            "linecolor": "white",
            "ticks": ""
           },
           "baxis": {
            "gridcolor": "white",
            "linecolor": "white",
            "ticks": ""
           },
           "bgcolor": "#E5ECF6",
           "caxis": {
            "gridcolor": "white",
            "linecolor": "white",
            "ticks": ""
           }
          },
          "title": {
           "x": 0.05
          },
          "xaxis": {
           "automargin": true,
           "gridcolor": "white",
           "linecolor": "white",
           "ticks": "",
           "title": {
            "standoff": 15
           },
           "zerolinecolor": "white",
           "zerolinewidth": 2
          },
          "yaxis": {
           "automargin": true,
           "gridcolor": "white",
           "linecolor": "white",
           "ticks": "",
           "title": {
            "standoff": 15
           },
           "zerolinecolor": "white",
           "zerolinewidth": 2
          }
         }
        },
        "title": {
         "text": "Density of Times Across Different Algorithms"
        },
        "xaxis": {
         "title": {
          "text": "Time (Hours)"
         }
        },
        "yaxis": {
         "title": {
          "text": "Density"
         }
        }
       }
      }
     },
     "metadata": {},
     "output_type": "display_data"
    }
   ],
   "source": [
    "def collect_times(directory_path):\n",
    "    times = []\n",
    "    for file_path in directory_path.glob('*.json'):\n",
    "        with open(file_path, 'r') as file:\n",
    "            data = json.load(file)\n",
    "            if data and isinstance(data, list) and data[-1].get('time'):\n",
    "                times.append(data[-1]['time']/ 3600)\n",
    "    return times\n",
    "\n",
    "def remove_outliers_iqr(data):\n",
    "    q1 = np.percentile(data, 25)\n",
    "    q3 = np.percentile(data, 75)\n",
    "    iqr = q3 - q1\n",
    "    lower_bound = q1 - 1.5 * iqr\n",
    "    upper_bound = q3 + 1.5 * iqr\n",
    "    return data[(data >= lower_bound) & (data <= upper_bound)]\n",
    "\n",
    "# Data collection for each directory\n",
    "directories = [\n",
    "    ('./amazon_vehicle_events', 'Amazon'),\n",
    "    ('./naive_vehicle_events', 'Naive'),\n",
    "    ('./optimized_vehicle_events', 'Optimized')\n",
    "]\n",
    "\n",
    "fig = go.Figure()\n",
    "\n",
    "# Define colors for each plot\n",
    "colors = [\n",
    "    ('rgba(255,0,0,0.6)', 'red'),  # Amazon in red\n",
    "    ('rgba(0,255,0,0.6)', 'green'),  # Naive in green\n",
    "    ('rgba(0,0,255,0.6)', 'blue')  # Optimized in blue\n",
    "]\n",
    "\n",
    "# Generate KDE plot for each set of times\n",
    "for (directory, name), (fillcolor, line_color) in zip(directories, colors):\n",
    "    times = collect_times(Path(directory))\n",
    "    times = np.array(times)  # Convert times list to a NumPy array for better performance\n",
    "    \n",
    "    # Remove outliers using the IQR method\n",
    "    times = remove_outliers_iqr(times)\n",
    "    \n",
    "    fig.add_trace(go.Violin(x=times, name=name, points=False, line_color=line_color, fillcolor=fillcolor, box_visible=True))\n",
    "\n",
    "fig.update_layout(\n",
    "    title='Density of Times Across Different Algorithms',\n",
    "    xaxis_title='Time (Hours)',\n",
    "    yaxis_title='Density',\n",
    "    barmode='overlay'\n",
    ")\n",
    "\n",
    "fig.update_traces(opacity=0.6)  # Make plots slightly translucent\n",
    "\n",
    "fig.show()"
   ]
  },
  {
   "cell_type": "code",
   "execution_count": 7,
   "metadata": {},
   "outputs": [
    {
     "data": {
      "application/vnd.plotly.v1+json": {
       "config": {
        "plotlyServerURL": "https://plot.ly"
       },
       "data": [
        {
         "marker": {
          "color": "rgba(255,0,0,0.6)"
         },
         "name": "Amazon",
         "type": "bar",
         "width": 0.4,
         "x": [
          "Amazon"
         ],
         "y": [
          6.689732235089802
         ]
        },
        {
         "marker": {
          "color": "rgba(0,255,0,0.6)"
         },
         "name": "Naive",
         "type": "bar",
         "width": 0.4,
         "x": [
          "Naive"
         ],
         "y": [
          6.547568239192792
         ]
        },
        {
         "marker": {
          "color": "rgba(0,0,255,0.6)"
         },
         "name": "Optimized",
         "type": "bar",
         "width": 0.4,
         "x": [
          "Optimized"
         ],
         "y": [
          5.905290467756039
         ]
        }
       ],
       "layout": {
        "barmode": "group",
        "template": {
         "data": {
          "bar": [
           {
            "error_x": {
             "color": "#2a3f5f"
            },
            "error_y": {
             "color": "#2a3f5f"
            },
            "marker": {
             "line": {
              "color": "#E5ECF6",
              "width": 0.5
             },
             "pattern": {
              "fillmode": "overlay",
              "size": 10,
              "solidity": 0.2
             }
            },
            "type": "bar"
           }
          ],
          "barpolar": [
           {
            "marker": {
             "line": {
              "color": "#E5ECF6",
              "width": 0.5
             },
             "pattern": {
              "fillmode": "overlay",
              "size": 10,
              "solidity": 0.2
             }
            },
            "type": "barpolar"
           }
          ],
          "carpet": [
           {
            "aaxis": {
             "endlinecolor": "#2a3f5f",
             "gridcolor": "white",
             "linecolor": "white",
             "minorgridcolor": "white",
             "startlinecolor": "#2a3f5f"
            },
            "baxis": {
             "endlinecolor": "#2a3f5f",
             "gridcolor": "white",
             "linecolor": "white",
             "minorgridcolor": "white",
             "startlinecolor": "#2a3f5f"
            },
            "type": "carpet"
           }
          ],
          "choropleth": [
           {
            "colorbar": {
             "outlinewidth": 0,
             "ticks": ""
            },
            "type": "choropleth"
           }
          ],
          "contour": [
           {
            "colorbar": {
             "outlinewidth": 0,
             "ticks": ""
            },
            "colorscale": [
             [
              0,
              "#0d0887"
             ],
             [
              0.1111111111111111,
              "#46039f"
             ],
             [
              0.2222222222222222,
              "#7201a8"
             ],
             [
              0.3333333333333333,
              "#9c179e"
             ],
             [
              0.4444444444444444,
              "#bd3786"
             ],
             [
              0.5555555555555556,
              "#d8576b"
             ],
             [
              0.6666666666666666,
              "#ed7953"
             ],
             [
              0.7777777777777778,
              "#fb9f3a"
             ],
             [
              0.8888888888888888,
              "#fdca26"
             ],
             [
              1,
              "#f0f921"
             ]
            ],
            "type": "contour"
           }
          ],
          "contourcarpet": [
           {
            "colorbar": {
             "outlinewidth": 0,
             "ticks": ""
            },
            "type": "contourcarpet"
           }
          ],
          "heatmap": [
           {
            "colorbar": {
             "outlinewidth": 0,
             "ticks": ""
            },
            "colorscale": [
             [
              0,
              "#0d0887"
             ],
             [
              0.1111111111111111,
              "#46039f"
             ],
             [
              0.2222222222222222,
              "#7201a8"
             ],
             [
              0.3333333333333333,
              "#9c179e"
             ],
             [
              0.4444444444444444,
              "#bd3786"
             ],
             [
              0.5555555555555556,
              "#d8576b"
             ],
             [
              0.6666666666666666,
              "#ed7953"
             ],
             [
              0.7777777777777778,
              "#fb9f3a"
             ],
             [
              0.8888888888888888,
              "#fdca26"
             ],
             [
              1,
              "#f0f921"
             ]
            ],
            "type": "heatmap"
           }
          ],
          "heatmapgl": [
           {
            "colorbar": {
             "outlinewidth": 0,
             "ticks": ""
            },
            "colorscale": [
             [
              0,
              "#0d0887"
             ],
             [
              0.1111111111111111,
              "#46039f"
             ],
             [
              0.2222222222222222,
              "#7201a8"
             ],
             [
              0.3333333333333333,
              "#9c179e"
             ],
             [
              0.4444444444444444,
              "#bd3786"
             ],
             [
              0.5555555555555556,
              "#d8576b"
             ],
             [
              0.6666666666666666,
              "#ed7953"
             ],
             [
              0.7777777777777778,
              "#fb9f3a"
             ],
             [
              0.8888888888888888,
              "#fdca26"
             ],
             [
              1,
              "#f0f921"
             ]
            ],
            "type": "heatmapgl"
           }
          ],
          "histogram": [
           {
            "marker": {
             "pattern": {
              "fillmode": "overlay",
              "size": 10,
              "solidity": 0.2
             }
            },
            "type": "histogram"
           }
          ],
          "histogram2d": [
           {
            "colorbar": {
             "outlinewidth": 0,
             "ticks": ""
            },
            "colorscale": [
             [
              0,
              "#0d0887"
             ],
             [
              0.1111111111111111,
              "#46039f"
             ],
             [
              0.2222222222222222,
              "#7201a8"
             ],
             [
              0.3333333333333333,
              "#9c179e"
             ],
             [
              0.4444444444444444,
              "#bd3786"
             ],
             [
              0.5555555555555556,
              "#d8576b"
             ],
             [
              0.6666666666666666,
              "#ed7953"
             ],
             [
              0.7777777777777778,
              "#fb9f3a"
             ],
             [
              0.8888888888888888,
              "#fdca26"
             ],
             [
              1,
              "#f0f921"
             ]
            ],
            "type": "histogram2d"
           }
          ],
          "histogram2dcontour": [
           {
            "colorbar": {
             "outlinewidth": 0,
             "ticks": ""
            },
            "colorscale": [
             [
              0,
              "#0d0887"
             ],
             [
              0.1111111111111111,
              "#46039f"
             ],
             [
              0.2222222222222222,
              "#7201a8"
             ],
             [
              0.3333333333333333,
              "#9c179e"
             ],
             [
              0.4444444444444444,
              "#bd3786"
             ],
             [
              0.5555555555555556,
              "#d8576b"
             ],
             [
              0.6666666666666666,
              "#ed7953"
             ],
             [
              0.7777777777777778,
              "#fb9f3a"
             ],
             [
              0.8888888888888888,
              "#fdca26"
             ],
             [
              1,
              "#f0f921"
             ]
            ],
            "type": "histogram2dcontour"
           }
          ],
          "mesh3d": [
           {
            "colorbar": {
             "outlinewidth": 0,
             "ticks": ""
            },
            "type": "mesh3d"
           }
          ],
          "parcoords": [
           {
            "line": {
             "colorbar": {
              "outlinewidth": 0,
              "ticks": ""
             }
            },
            "type": "parcoords"
           }
          ],
          "pie": [
           {
            "automargin": true,
            "type": "pie"
           }
          ],
          "scatter": [
           {
            "fillpattern": {
             "fillmode": "overlay",
             "size": 10,
             "solidity": 0.2
            },
            "type": "scatter"
           }
          ],
          "scatter3d": [
           {
            "line": {
             "colorbar": {
              "outlinewidth": 0,
              "ticks": ""
             }
            },
            "marker": {
             "colorbar": {
              "outlinewidth": 0,
              "ticks": ""
             }
            },
            "type": "scatter3d"
           }
          ],
          "scattercarpet": [
           {
            "marker": {
             "colorbar": {
              "outlinewidth": 0,
              "ticks": ""
             }
            },
            "type": "scattercarpet"
           }
          ],
          "scattergeo": [
           {
            "marker": {
             "colorbar": {
              "outlinewidth": 0,
              "ticks": ""
             }
            },
            "type": "scattergeo"
           }
          ],
          "scattergl": [
           {
            "marker": {
             "colorbar": {
              "outlinewidth": 0,
              "ticks": ""
             }
            },
            "type": "scattergl"
           }
          ],
          "scattermapbox": [
           {
            "marker": {
             "colorbar": {
              "outlinewidth": 0,
              "ticks": ""
             }
            },
            "type": "scattermapbox"
           }
          ],
          "scatterpolar": [
           {
            "marker": {
             "colorbar": {
              "outlinewidth": 0,
              "ticks": ""
             }
            },
            "type": "scatterpolar"
           }
          ],
          "scatterpolargl": [
           {
            "marker": {
             "colorbar": {
              "outlinewidth": 0,
              "ticks": ""
             }
            },
            "type": "scatterpolargl"
           }
          ],
          "scatterternary": [
           {
            "marker": {
             "colorbar": {
              "outlinewidth": 0,
              "ticks": ""
             }
            },
            "type": "scatterternary"
           }
          ],
          "surface": [
           {
            "colorbar": {
             "outlinewidth": 0,
             "ticks": ""
            },
            "colorscale": [
             [
              0,
              "#0d0887"
             ],
             [
              0.1111111111111111,
              "#46039f"
             ],
             [
              0.2222222222222222,
              "#7201a8"
             ],
             [
              0.3333333333333333,
              "#9c179e"
             ],
             [
              0.4444444444444444,
              "#bd3786"
             ],
             [
              0.5555555555555556,
              "#d8576b"
             ],
             [
              0.6666666666666666,
              "#ed7953"
             ],
             [
              0.7777777777777778,
              "#fb9f3a"
             ],
             [
              0.8888888888888888,
              "#fdca26"
             ],
             [
              1,
              "#f0f921"
             ]
            ],
            "type": "surface"
           }
          ],
          "table": [
           {
            "cells": {
             "fill": {
              "color": "#EBF0F8"
             },
             "line": {
              "color": "white"
             }
            },
            "header": {
             "fill": {
              "color": "#C8D4E3"
             },
             "line": {
              "color": "white"
             }
            },
            "type": "table"
           }
          ]
         },
         "layout": {
          "annotationdefaults": {
           "arrowcolor": "#2a3f5f",
           "arrowhead": 0,
           "arrowwidth": 1
          },
          "autotypenumbers": "strict",
          "coloraxis": {
           "colorbar": {
            "outlinewidth": 0,
            "ticks": ""
           }
          },
          "colorscale": {
           "diverging": [
            [
             0,
             "#8e0152"
            ],
            [
             0.1,
             "#c51b7d"
            ],
            [
             0.2,
             "#de77ae"
            ],
            [
             0.3,
             "#f1b6da"
            ],
            [
             0.4,
             "#fde0ef"
            ],
            [
             0.5,
             "#f7f7f7"
            ],
            [
             0.6,
             "#e6f5d0"
            ],
            [
             0.7,
             "#b8e186"
            ],
            [
             0.8,
             "#7fbc41"
            ],
            [
             0.9,
             "#4d9221"
            ],
            [
             1,
             "#276419"
            ]
           ],
           "sequential": [
            [
             0,
             "#0d0887"
            ],
            [
             0.1111111111111111,
             "#46039f"
            ],
            [
             0.2222222222222222,
             "#7201a8"
            ],
            [
             0.3333333333333333,
             "#9c179e"
            ],
            [
             0.4444444444444444,
             "#bd3786"
            ],
            [
             0.5555555555555556,
             "#d8576b"
            ],
            [
             0.6666666666666666,
             "#ed7953"
            ],
            [
             0.7777777777777778,
             "#fb9f3a"
            ],
            [
             0.8888888888888888,
             "#fdca26"
            ],
            [
             1,
             "#f0f921"
            ]
           ],
           "sequentialminus": [
            [
             0,
             "#0d0887"
            ],
            [
             0.1111111111111111,
             "#46039f"
            ],
            [
             0.2222222222222222,
             "#7201a8"
            ],
            [
             0.3333333333333333,
             "#9c179e"
            ],
            [
             0.4444444444444444,
             "#bd3786"
            ],
            [
             0.5555555555555556,
             "#d8576b"
            ],
            [
             0.6666666666666666,
             "#ed7953"
            ],
            [
             0.7777777777777778,
             "#fb9f3a"
            ],
            [
             0.8888888888888888,
             "#fdca26"
            ],
            [
             1,
             "#f0f921"
            ]
           ]
          },
          "colorway": [
           "#636efa",
           "#EF553B",
           "#00cc96",
           "#ab63fa",
           "#FFA15A",
           "#19d3f3",
           "#FF6692",
           "#B6E880",
           "#FF97FF",
           "#FECB52"
          ],
          "font": {
           "color": "#2a3f5f"
          },
          "geo": {
           "bgcolor": "white",
           "lakecolor": "white",
           "landcolor": "#E5ECF6",
           "showlakes": true,
           "showland": true,
           "subunitcolor": "white"
          },
          "hoverlabel": {
           "align": "left"
          },
          "hovermode": "closest",
          "mapbox": {
           "style": "light"
          },
          "paper_bgcolor": "white",
          "plot_bgcolor": "#E5ECF6",
          "polar": {
           "angularaxis": {
            "gridcolor": "white",
            "linecolor": "white",
            "ticks": ""
           },
           "bgcolor": "#E5ECF6",
           "radialaxis": {
            "gridcolor": "white",
            "linecolor": "white",
            "ticks": ""
           }
          },
          "scene": {
           "xaxis": {
            "backgroundcolor": "#E5ECF6",
            "gridcolor": "white",
            "gridwidth": 2,
            "linecolor": "white",
            "showbackground": true,
            "ticks": "",
            "zerolinecolor": "white"
           },
           "yaxis": {
            "backgroundcolor": "#E5ECF6",
            "gridcolor": "white",
            "gridwidth": 2,
            "linecolor": "white",
            "showbackground": true,
            "ticks": "",
            "zerolinecolor": "white"
           },
           "zaxis": {
            "backgroundcolor": "#E5ECF6",
            "gridcolor": "white",
            "gridwidth": 2,
            "linecolor": "white",
            "showbackground": true,
            "ticks": "",
            "zerolinecolor": "white"
           }
          },
          "shapedefaults": {
           "line": {
            "color": "#2a3f5f"
           }
          },
          "ternary": {
           "aaxis": {
            "gridcolor": "white",
            "linecolor": "white",
            "ticks": ""
           },
           "baxis": {
            "gridcolor": "white",
            "linecolor": "white",
            "ticks": ""
           },
           "bgcolor": "#E5ECF6",
           "caxis": {
            "gridcolor": "white",
            "linecolor": "white",
            "ticks": ""
           }
          },
          "title": {
           "x": 0.05
          },
          "xaxis": {
           "automargin": true,
           "gridcolor": "white",
           "linecolor": "white",
           "ticks": "",
           "title": {
            "standoff": 15
           },
           "zerolinecolor": "white",
           "zerolinewidth": 2
          },
          "yaxis": {
           "automargin": true,
           "gridcolor": "white",
           "linecolor": "white",
           "ticks": "",
           "title": {
            "standoff": 15
           },
           "zerolinecolor": "white",
           "zerolinewidth": 2
          }
         }
        },
        "title": {
         "text": "Average Times Across Different Algorithms (Lower is Better)"
        },
        "xaxis": {
         "title": {
          "text": "Directory"
         }
        },
        "yaxis": {
         "range": [
          5.5,
          7.358705458598783
         ],
         "title": {
          "text": "Average Time (Hours)"
         },
         "type": "linear"
        }
       }
      }
     },
     "metadata": {},
     "output_type": "display_data"
    }
   ],
   "source": [
    "\n",
    "def calculate_average_times(directories):\n",
    "    averages = []\n",
    "    for directory, name in directories:\n",
    "        times = collect_times(Path(directory))\n",
    "        if times:\n",
    "            average_time = np.mean(times)\n",
    "            averages.append((name, average_time))\n",
    "        else:\n",
    "            averages.append((name, 0))  # Append 0 or a suitable value if no times are found\n",
    "    return averages\n",
    "\n",
    "# Data collection for each directory\n",
    "directories = [\n",
    "    ('./amazon_vehicle_events', 'Amazon'),\n",
    "    ('./naive_vehicle_events', 'Naive'),\n",
    "    ('./optimized_vehicle_events', 'Optimized')\n",
    "]\n",
    "\n",
    "# Colors for each directory\n",
    "colors = [\n",
    "    ('rgba(255,0,0,0.6)', 'red'),  # Amazon in red\n",
    "    ('rgba(0,255,0,0.6)', 'green'),  # Naive in green\n",
    "    ('rgba(0,0,255,0.6)', 'blue')  # Optimized in blue\n",
    "]\n",
    "\n",
    "# Calculate average times\n",
    "average_times = calculate_average_times(directories)\n",
    "\n",
    "# Create bar chart\n",
    "fig = go.Figure()\n",
    "\n",
    "# Calculate the maximum value for setting y-axis range dynamically if needed\n",
    "max_value = max(avg_time for _, avg_time in average_times) * 1.1  # 10% more than max for better visibility\n",
    "\n",
    "# Add bars for each directory with specific colors\n",
    "for (name, avg_time), (fill_color, _) in zip(average_times, colors):\n",
    "    fig.add_trace(go.Bar(x=[name], y=[avg_time], name=name, marker_color=fill_color, width=0.4))\n",
    "\n",
    "fig.update_layout(\n",
    "    title='Average Times Across Different Algorithms (Lower is Better)',\n",
    "    xaxis_title='Directory',\n",
    "    yaxis_title='Average Time (Hours)',\n",
    "    yaxis=dict(type='linear', range=[5.5, max_value]),  # Set y-axis to start at 20k\n",
    "    barmode='group'\n",
    ")\n",
    "\n",
    "fig.show()"
   ]
  },
  {
   "cell_type": "code",
   "execution_count": 4,
   "metadata": {},
   "outputs": [
    {
     "name": "stdout",
     "output_type": "stream",
     "text": [
      "File with the largest time difference: RouteID_69233ee9-1ac4-4d89-b322-94fb13df54a3_vehicle_events.json with a difference of 5390.982792299736 seconds\n"
     ]
    }
   ],
   "source": [
    "def calculate_time_difference(amazon_directory, optimized_directory):\n",
    "    max_difference = 0\n",
    "    file_with_max_difference = \"\"\n",
    "\n",
    "    # Iterate over the amazon directory to find matching files in the optimized directory\n",
    "    for amazon_file_path in amazon_directory.glob('*.json'):\n",
    "        optimized_file_path = optimized_directory / amazon_file_path.name\n",
    "\n",
    "        if optimized_file_path.exists():\n",
    "            with open(amazon_file_path, 'r') as amazon_file, open(optimized_file_path, 'r') as optimized_file:\n",
    "                amazon_data = json.load(amazon_file)\n",
    "                optimized_data = json.load(optimized_file)\n",
    "                \n",
    "                if amazon_data and optimized_data and isinstance(amazon_data, list) and isinstance(optimized_data, list):\n",
    "                    amazon_last_time = amazon_data[-1]['time'] if amazon_data[-1].get('time') else 0\n",
    "                    optimized_last_time = optimized_data[-1]['time'] if optimized_data[-1].get('time') else 0\n",
    "\n",
    "                    time_difference = abs(amazon_last_time - optimized_last_time)\n",
    "                    \n",
    "                    if time_difference > max_difference:\n",
    "                        max_difference = time_difference\n",
    "                        file_with_max_difference = amazon_file_path.name\n",
    "\n",
    "    return file_with_max_difference, max_difference\n",
    "\n",
    "# Paths to the directories\n",
    "amazon_directory = Path('./amazon_vehicle_events')\n",
    "optimized_directory = Path('./optimized_vehicle_events')\n",
    "\n",
    "# Calculate and print the file with the maximum time difference\n",
    "file_name, max_diff = calculate_time_difference(amazon_directory, optimized_directory)\n",
    "print(f'File with the largest time difference: {file_name} with a difference of {max_diff} seconds')"
   ]
  }
 ],
 "metadata": {
  "kernelspec": {
   "display_name": "Python 3",
   "language": "python",
   "name": "python3"
  },
  "language_info": {
   "codemirror_mode": {
    "name": "ipython",
    "version": 3
   },
   "file_extension": ".py",
   "mimetype": "text/x-python",
   "name": "python",
   "nbconvert_exporter": "python",
   "pygments_lexer": "ipython3",
   "version": "3.9.18"
  }
 },
 "nbformat": 4,
 "nbformat_minor": 2
}
