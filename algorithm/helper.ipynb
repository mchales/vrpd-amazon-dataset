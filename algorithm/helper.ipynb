{
 "cells": [
  {
   "cell_type": "code",
   "execution_count": 2,
   "metadata": {},
   "outputs": [],
   "source": [
    "import pandas as pd\n",
    "import json\n",
    "import plotly.express as px\n",
    "import plotly.graph_objects as go"
   ]
  },
  {
   "cell_type": "code",
   "execution_count": 3,
   "metadata": {},
   "outputs": [],
   "source": [
    "BASE_PATH = '../almrrc2021/almrrc2021-data-training/model_build_inputs/'"
   ]
  },
  {
   "cell_type": "code",
   "execution_count": 4,
   "metadata": {},
   "outputs": [],
   "source": [
    "# Loading all the package data\n",
    "package_data = json.load(open(BASE_PATH + '/package_data.json'))"
   ]
  },
  {
   "cell_type": "code",
   "execution_count": 5,
   "metadata": {},
   "outputs": [],
   "source": [
    "# Flattens the json object, essentially every package gets a row (unless the package had multiple delivery attempts)\n",
    "# If you don't want to load it all, you can use the RouteID as a key on the package_data dictionary\n",
    "flattened_package_data = []\n",
    "for route_id, stops in package_data.items():\n",
    "    for stop_id, packages in stops.items():\n",
    "        for package_id, details in packages.items():\n",
    "            record = {\n",
    "                \"route_id\": route_id,\n",
    "                \"stop_id\": stop_id,\n",
    "                \"package_id\": package_id,\n",
    "                \"scan_status\": details[\"scan_status\"] if \"scan_status\" in details else None, # note model_apply_inputs does not have scan_status, model_build_inputs does\n",
    "                \"start_time_utc\": details[\"time_window\"][\"start_time_utc\"],\n",
    "                \"end_time_utc\": details[\"time_window\"][\"end_time_utc\"],\n",
    "                \"planned_service_time_seconds\": details[\"planned_service_time_seconds\"],\n",
    "                \"depth_cm\": details[\"dimensions\"][\"depth_cm\"],\n",
    "                \"height_cm\": details[\"dimensions\"][\"height_cm\"],\n",
    "                \"width_cm\": details[\"dimensions\"][\"width_cm\"],\n",
    "            }\n",
    "            flattened_package_data.append(record)\n",
    "\n",
    "package_data_df = pd.DataFrame(flattened_package_data)"
   ]
  },
  {
   "cell_type": "code",
   "execution_count": 6,
   "metadata": {},
   "outputs": [],
   "source": [
    "route_data = json.load(open(BASE_PATH + '/route_data.json'))"
   ]
  },
  {
   "cell_type": "code",
   "execution_count": 7,
   "metadata": {},
   "outputs": [],
   "source": [
    "\n",
    "flattened_route_data = []\n",
    "\n",
    "for route_id, info in route_data.items():\n",
    "    for stop_id, stop_details in info['stops'].items():\n",
    "        flattened_route_data.append({\n",
    "            \"route_id\": route_id,\n",
    "            \"station_code\": info['station_code'],\n",
    "            \"date\": info['date_YYYY_MM_DD'],\n",
    "            \"departure_time_utc\": info['departure_time_utc'],\n",
    "            \"executor_capacity_cm3\": info['executor_capacity_cm3'],\n",
    "            \"route_score\": info['route_score'],\n",
    "            \"stop_id\": stop_id,\n",
    "            \"lat\": stop_details['lat'],\n",
    "            \"lng\": stop_details['lng'],\n",
    "            \"type\": stop_details['type'],\n",
    "            \"zone_id\": stop_details['zone_id']\n",
    "        })\n",
    "\n",
    "route_data_df = pd.DataFrame(flattened_route_data)"
   ]
  },
  {
   "cell_type": "code",
   "execution_count": 8,
   "metadata": {},
   "outputs": [],
   "source": [
    "# Loading all the travel times (took around 70 seconds for me)\n",
    "vehicle_travel_times = json.load(open(BASE_PATH + '/travel_times.json'))"
   ]
  },
  {
   "cell_type": "code",
   "execution_count": 9,
   "metadata": {},
   "outputs": [],
   "source": [
    "actual_sequences = json.load(open(BASE_PATH + '/actual_sequences.json'))\n",
    "\n",
    "proposed_sequences = json.load(open('proposed_sequences.json'))\n"
   ]
  },
  {
   "cell_type": "code",
   "execution_count": 10,
   "metadata": {},
   "outputs": [],
   "source": [
    "def sequence_to_stops_for_route(route_id, actual):\n",
    "    if actual:\n",
    "        route_sequence = actual_sequences[route_id]['actual']\n",
    "    else:\n",
    "        route_sequence = proposed_sequences[route_id]['proposed']\n",
    "    \n",
    "    # Sorting them by their order\n",
    "    route_sequence_sorted = dict(sorted(route_sequence.items(), key=lambda item: item[1]))\n",
    "\n",
    "    # Converting keys to an array\n",
    "    route_sequence_sorted = list(route_sequence_sorted.keys())\n",
    "\n",
    "    # The last stop to the station (first stop) is not included in the sequence so we will manually add it\n",
    "    route_sequence_sorted.append(route_sequence_sorted[0])\n",
    "\n",
    "    return route_sequence_sorted"
   ]
  },
  {
   "cell_type": "code",
   "execution_count": 11,
   "metadata": {},
   "outputs": [],
   "source": [
    "# VRP Event Types\n",
    "\n",
    "# Both\n",
    "ARRIVE = 'ARRIVE'\n",
    "DEPART = 'DEPART'\n",
    "\n",
    "# Vehicle\n",
    "SERVICE_START = 'SERVICE_START'\n",
    "SERVICE_END = 'SERVICE_END'"
   ]
  },
  {
   "cell_type": "code",
   "execution_count": 12,
   "metadata": {},
   "outputs": [],
   "source": [
    "def get_data_for_route(route_id):\n",
    "    package_data = package_data_df[package_data_df['route_id'] == route_id]\n",
    "    route_data = route_data_df[route_data_df['route_id'] == route_id]\n",
    "    travel_times_route = vehicle_travel_times[route_id]\n",
    "\n",
    "    package_info_agg = package_data.groupby('stop_id').apply(\n",
    "    lambda x: pd.Series({\n",
    "        'packages': x[['package_id', 'depth_cm', 'height_cm', 'width_cm']].to_dict('records'),\n",
    "        'num_packages': len(x),\n",
    "        'service_time_seconds': x['planned_service_time_seconds'].mean() # Not sure if this should be sum or average. https://github.com/MIT-CAVE/rc-cli/blob/main/templates/data_structures.md\n",
    "    })\n",
    "    ).reset_index()\n",
    "\n",
    "    route_data_route_df = pd.merge(route_data, package_info_agg, how='left', on='stop_id')\n",
    "\n",
    "    return package_data.copy(), route_data_route_df.copy(), travel_times_route.copy()"
   ]
  },
  {
   "cell_type": "code",
   "execution_count": 13,
   "metadata": {},
   "outputs": [],
   "source": [
    "class Event:\n",
    "  def __init__(self, event_type, stop_id, time, data): # data holds extra information, like coordinates\n",
    "    self.event_type = event_type\n",
    "    self.stop_id = stop_id\n",
    "    self.time = time\n",
    "    self.data = data\n",
    "\n",
    "  def __str__(self):\n",
    "    return f\"{self.event_type} {self.stop_id} {round(self.time, 1)} {self.data}\"\n",
    "\n",
    "  def to_dict(self):\n",
    "    # Convert the event to a dictionary\n",
    "    return {\n",
    "        'event_type': self.event_type,\n",
    "        'stop_id': self.stop_id,\n",
    "        'time': self.time,\n",
    "        'coordinates': self.data,\n",
    "    }"
   ]
  },
  {
   "cell_type": "code",
   "execution_count": 14,
   "metadata": {},
   "outputs": [],
   "source": [
    "class VRPHelper():\n",
    "    def __init__(self, route_id, sequence, package_data, route_data, vehicle_travel_times):\n",
    "        self.route_id = route_id\n",
    "        self.sequence = sequence\n",
    "        self.package_data = package_data\n",
    "        self.route_data = route_data\n",
    "        self.vehicle_travel_times = vehicle_travel_times\n",
    "\n",
    "        self.vehicle_events = []\n",
    "        self.vehicle_path = []\n",
    "        self.final_time = 0\n",
    "    \n",
    "    def generate_events_path_time(self):\n",
    "        cur_coords = None\n",
    "        cur_stop = None\n",
    "        cur_time = 0\n",
    "\n",
    "        # First stop is the station\n",
    "        cur_stop = self.sequence[0]\n",
    "        stop = self.route_data[self.route_data['stop_id'] == cur_stop].iloc[0]\n",
    "        cur_coords = {'lat' : stop['lat'], 'lng' : stop['lng']}\n",
    "\n",
    "        first_event = Event(DEPART, cur_stop, cur_time, cur_coords)\n",
    "        self.vehicle_events.append(first_event)\n",
    "        self.vehicle_path.append(cur_stop)\n",
    "\n",
    "        for i in range(len(self.sequence)):\n",
    "            # Travel there\n",
    "            cur_time += self.vehicle_travel_times[self.sequence[i]][self.sequence[i + 1]]\n",
    "            # Arrive\n",
    "            cur_stop = self.sequence[i + 1]\n",
    "            stop = self.route_data[self.route_data['stop_id'] == cur_stop].iloc[0]\n",
    "            cur_coords = {'lat' : stop['lat'], 'lng' : stop['lng']}\n",
    "            arrive_event = Event(ARRIVE, cur_stop, cur_time, cur_coords)\n",
    "            self.vehicle_events.append(arrive_event)\n",
    "            self.vehicle_path.append(cur_stop)\n",
    "\n",
    "            # We have finished delivering and arrived at the station\n",
    "            if cur_stop == self.sequence[-1]:\n",
    "                break\n",
    "\n",
    "            # Driver starts service by delivering package\n",
    "            service_start_event = Event(SERVICE_START, cur_stop, cur_time, cur_coords)\n",
    "            self.vehicle_events.append(service_start_event)\n",
    "            cur_time += stop['service_time_seconds']\n",
    "\n",
    "            # Driver finishes service of delivering package\n",
    "            service_end_event = Event(SERVICE_END, cur_stop, cur_time, cur_coords)\n",
    "            self.vehicle_events.append(service_end_event)\n",
    "\n",
    "            # Driver departs\n",
    "            depart_event = Event(DEPART, cur_stop, cur_time, cur_coords)\n",
    "            self.vehicle_events.append(depart_event)\n",
    "        \n",
    "        # Route is now finished\n",
    "        self.final_time = cur_time\n",
    "        \n",
    "        return self.vehicle_events, self.vehicle_path, self.final_time\n",
    "    def print_vehicle_path(self):\n",
    "          print(self.vehicle_path)  # Ensure vehicle_path is correctly converted to string\n",
    "\n",
    "    def print_vehicle_events(self):\n",
    "          for event in self.vehicle_events:\n",
    "              print(event)  # Convert Event object to string\n",
    "\n",
    "\n",
    "    def save_vehicle_path(self):\n",
    "        path_json = []\n",
    "        for i, stop_id in enumerate(self.vehicle_path):\n",
    "            stop = self.route_data[self.route_data['stop_id'] == stop_id].iloc[0]\n",
    "            vehicle_coords = {'lat' : stop['lat'], 'lng' : stop['lng']}\n",
    "            path_json.append({\"id\": i+1, \"stop\": stop_id, \"coordinates\": vehicle_coords})\n",
    "\n",
    "        with open(f\"{self.route_id}_vehicle_path.json\", 'w') as file:\n",
    "            json.dump(path_json, file, indent=4)\n",
    "\n",
    "    def save_vehicle_events(self):\n",
    "        # Convert the list of events to a list of dictionaries and assign an ID to each\n",
    "        events_with_ids = [{'id': i+1, **event.to_dict()} for i, event in enumerate(self.vehicle_events)]\n",
    "        # Save the list of events as a JSON file\n",
    "        with open(f\"{self.route_id}_vehicle_events.json\", 'w') as file:\n",
    "            json.dump(events_with_ids, file, indent=4)"
   ]
  },
  {
   "cell_type": "code",
   "execution_count": 15,
   "metadata": {},
   "outputs": [],
   "source": [
    "proposed_route_ids = list(proposed_sequences.keys())\n",
    "\n",
    "route_id = proposed_route_ids[0]\n",
    "package_data_route_df, route_data_route_df, vehicle_travel_times_route = get_data_for_route(route_id)\n",
    "\n",
    "# Toggle actual if you want the route to be chosen from the actual sequences or the generated proposed sequences\n",
    "sequence = sequence_to_stops_for_route(route_id, actual=False)"
   ]
  },
  {
   "cell_type": "code",
   "execution_count": 16,
   "metadata": {},
   "outputs": [],
   "source": [
    "driver = VRPHelper(route_id, sequence, package_data_route_df, route_data_route_df, vehicle_travel_times_route)\n",
    "vehicle_events, vehicle_path, final_time = driver.generate_events_path_time()"
   ]
  },
  {
   "cell_type": "code",
   "execution_count": 17,
   "metadata": {},
   "outputs": [
    {
     "data": {
      "text/plain": [
       "27402.09999999999"
      ]
     },
     "execution_count": 17,
     "metadata": {},
     "output_type": "execute_result"
    }
   ],
   "source": [
    "driver.final_time"
   ]
  }
 ],
 "metadata": {
  "kernelspec": {
   "display_name": "random",
   "language": "python",
   "name": "python3"
  },
  "language_info": {
   "codemirror_mode": {
    "name": "ipython",
    "version": 3
   },
   "file_extension": ".py",
   "mimetype": "text/x-python",
   "name": "python",
   "nbconvert_exporter": "python",
   "pygments_lexer": "ipython3",
   "version": "3.9.18"
  }
 },
 "nbformat": 4,
 "nbformat_minor": 2
}
