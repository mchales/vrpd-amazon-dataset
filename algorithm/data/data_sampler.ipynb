{
  "nbformat": 4,
  "nbformat_minor": 0,
  "metadata": {
    "colab": {
      "provenance": [],
      "machine_shape": "hm"
    },
    "kernelspec": {
      "name": "python3",
      "display_name": "Python 3"
    },
    "language_info": {
      "name": "python"
    }
  },
  "cells": [
    {
      "cell_type": "markdown",
      "source": [
        "The purpose of this notebook is to create subsets of the Amazon dataset for easy use not in a High RAM enviroment\n",
        "\n"
      ],
      "metadata": {
        "id": "C3sZzWQRVm7_"
      }
    },
    {
      "cell_type": "code",
      "execution_count": 7,
      "metadata": {
        "id": "lcu8icyPVSzg"
      },
      "outputs": [],
      "source": [
        "import pandas as pd\n",
        "from google.colab import drive\n",
        "import json\n",
        "import random"
      ]
    },
    {
      "cell_type": "code",
      "source": [
        "drive.mount('/content/drive')\n",
        "BASE_PATH = '/content/drive/MyDrive/almrrc2021'"
      ],
      "metadata": {
        "colab": {
          "base_uri": "https://localhost:8080/"
        },
        "id": "MQ-gyODrWx2y",
        "outputId": "0ae2b430-4c54-4e37-b3e6-aa5ca2e31d03"
      },
      "execution_count": 2,
      "outputs": [
        {
          "output_type": "stream",
          "name": "stdout",
          "text": [
            "Mounted at /content/drive\n"
          ]
        }
      ]
    },
    {
      "cell_type": "code",
      "source": [
        "# Loading all the package data\n",
        "package_data = json.load(open(BASE_PATH + '/almrrc2021-data-training/model_build_inputs/package_data.json'))\n",
        "# Loading all the route data\n",
        "route_data = json.load(open(BASE_PATH + '/almrrc2021-data-training/model_build_inputs/route_data.json'))\n",
        "# Loading all the travel times (took around 70 seconds for me)\n",
        "travel_times = json.load(open(BASE_PATH + '/almrrc2021-data-training/model_build_inputs/travel_times.json'))"
      ],
      "metadata": {
        "id": "u1DSjt6eW4Vl"
      },
      "execution_count": 3,
      "outputs": []
    },
    {
      "cell_type": "code",
      "source": [
        "def extract_percentage_of_routes(package_data, route_data, travel_times, percentage_to_extract=1):\n",
        "    # Get a list of all route IDs\n",
        "    all_route_ids = list(route_data.keys())\n",
        "\n",
        "    # Calculate the number of routes to extract\n",
        "    num_routes_to_extract = int(len(all_route_ids) * (percentage_to_extract / 100))\n",
        "\n",
        "    # Select a subset of route IDs\n",
        "    selected_route_ids = random.sample(all_route_ids, num_routes_to_extract)\n",
        "\n",
        "    # Extract the corresponding data for the selected routes from each dataset\n",
        "    selected_package_data = {route_id: package_data[route_id] for route_id in selected_route_ids if route_id in package_data}\n",
        "    selected_route_data = {route_id: route_data[route_id] for route_id in selected_route_ids}\n",
        "    selected_travel_times = {route_id: travel_times[route_id] for route_id in selected_route_ids if route_id in travel_times}\n",
        "\n",
        "    # Save the extracted data to new JSON files\n",
        "    with open('selected_package_data.json', 'w') as f:\n",
        "        json.dump(selected_package_data, f)\n",
        "\n",
        "    with open('selected_route_data.json', 'w') as f:\n",
        "        json.dump(selected_route_data, f)\n",
        "\n",
        "    with open('selected_travel_times.json', 'w') as f:\n",
        "        json.dump(selected_travel_times, f)\n",
        "\n",
        "    return selected_route_ids"
      ],
      "metadata": {
        "id": "VBT0sm8SW7Ce"
      },
      "execution_count": 21,
      "outputs": []
    },
    {
      "cell_type": "code",
      "source": [
        "# Note there are 6112 different routes\n",
        "# This functional will save a sampling of the routes\n",
        "route_ids = extract_percentage_of_routes(package_data, route_data, travel_times, percentage_to_extract=1)"
      ],
      "metadata": {
        "id": "ZMc0yQllX_sb"
      },
      "execution_count": 22,
      "outputs": []
    },
    {
      "cell_type": "code",
      "source": [
        "route_ids"
      ],
      "metadata": {
        "colab": {
          "base_uri": "https://localhost:8080/"
        },
        "id": "zxgloL2XYZF3",
        "outputId": "6c4a9a83-84b8-447e-ec5a-17f984750174"
      },
      "execution_count": 23,
      "outputs": [
        {
          "output_type": "execute_result",
          "data": {
            "text/plain": [
              "['RouteID_f9639176-8909-4c65-80a9-5562b0241ad4',\n",
              " 'RouteID_5ad0aa27-f172-4aa5-a5b6-ce86618ec180',\n",
              " 'RouteID_076973fd-9546-45a5-838a-0aa166a917b7',\n",
              " 'RouteID_dc486a1c-3bf5-4465-9b5a-7f8eb47f63e6',\n",
              " 'RouteID_070b05b1-6cfc-4792-9817-b560e91d2584',\n",
              " 'RouteID_f5ffef88-4aad-40ec-9861-590bf139f87c',\n",
              " 'RouteID_3012483e-16c5-46e6-94f5-675a8a1e7f4e',\n",
              " 'RouteID_91be7323-d6c5-4dff-a71d-b8fde8700caa',\n",
              " 'RouteID_98cb832c-6ed4-43ba-90de-95c378178248',\n",
              " 'RouteID_ab556d1d-8537-46dd-921f-2a8423a6dabf',\n",
              " 'RouteID_0cf8f2ce-28f9-46de-8fe0-22e84a3b8ca2',\n",
              " 'RouteID_a4da262c-cd81-45c1-baff-f4ab8306c91e',\n",
              " 'RouteID_f4af3421-0f38-4a00-aef8-db7778bd12db',\n",
              " 'RouteID_37865167-b064-4f42-bc64-d20c1dd67a56',\n",
              " 'RouteID_51871c29-4cbf-47d8-b980-6416032f0232',\n",
              " 'RouteID_2d382b0c-9d95-4c6b-a9a7-3c1e2a709e1c',\n",
              " 'RouteID_f403fff5-0491-4243-a797-a4154f88c5e9',\n",
              " 'RouteID_0b36e28e-5f67-4f56-ba6a-573d8456ba49',\n",
              " 'RouteID_9388c1f0-4765-4ca0-8920-df36cd3ae65c',\n",
              " 'RouteID_c79ad3ad-bf0a-413d-9b4c-5cc91d245235',\n",
              " 'RouteID_d481c820-59fc-4293-b92c-b8dba69f0597',\n",
              " 'RouteID_50a6e150-0a1c-4d47-b382-6be32e4c863f',\n",
              " 'RouteID_da6d4d2d-82ce-43c9-813b-89858ec61ce6',\n",
              " 'RouteID_ea157aa5-eb7b-4d17-8229-0b6f207511ab',\n",
              " 'RouteID_f8c83168-e3f5-43ad-98ff-34956fcb4e05',\n",
              " 'RouteID_c1758ba1-c17c-41e4-8e40-d41f8091f619',\n",
              " 'RouteID_32082435-c4cc-446f-9430-9d46e42f40ab',\n",
              " 'RouteID_d5f328d5-8017-4fdd-aa63-783642765cc3',\n",
              " 'RouteID_f7123d22-3da6-423a-b4a5-419e3a5001f7',\n",
              " 'RouteID_63b75725-2cb9-4c2e-93fa-8ecce33e9db1',\n",
              " 'RouteID_34755acf-846d-4304-855c-013b9eaa55c7',\n",
              " 'RouteID_94529fb2-8957-40b7-af1e-b724938243ef',\n",
              " 'RouteID_738c4cd7-6437-4e16-b7d3-d1467577f45e',\n",
              " 'RouteID_dca22d8e-3431-4b6b-9ba5-bf5fb8d9232a',\n",
              " 'RouteID_fe7b775d-8e7a-4534-885f-5cd333d03a22',\n",
              " 'RouteID_77f2d787-6139-4960-8454-5201463cf5de',\n",
              " 'RouteID_6d6496a2-eec2-41d0-9db3-e9d287fe103a',\n",
              " 'RouteID_c16cda48-a3e3-471c-a5d0-124db92659f3',\n",
              " 'RouteID_39ba8798-36dc-42cd-9ab5-7a3a96666d1d',\n",
              " 'RouteID_cec88fc1-f497-4088-89ba-ba42fd70da96',\n",
              " 'RouteID_cbf7ceb6-f7ff-4307-b3f7-79d26d5b462d',\n",
              " 'RouteID_9ffb4b5e-3253-4951-ae44-13961d2c92ba',\n",
              " 'RouteID_423aa100-6d85-4805-ac6b-71bbbc18797c',\n",
              " 'RouteID_f8aff7d4-5ef1-467b-88f2-67d1da0cabfe',\n",
              " 'RouteID_661d6aa9-06a2-47c1-87bc-6b69104dc77a',\n",
              " 'RouteID_2229bf31-ca99-42de-92ad-f68ca87aa938',\n",
              " 'RouteID_4e38c550-0fbc-4459-8797-8f4c329ba0db',\n",
              " 'RouteID_4aadbfdb-3928-4b4b-bd14-072f9d60fa0f',\n",
              " 'RouteID_68ed90ff-0d3a-483f-9ac7-748340ff0f53',\n",
              " 'RouteID_85fec008-983a-404c-9b00-17889bd28234',\n",
              " 'RouteID_3eb11f23-b042-409f-ae33-2d52e8f253fd',\n",
              " 'RouteID_2f63c0d4-b3cd-4748-ada4-b90cc963a76d',\n",
              " 'RouteID_a781bdf1-6bf5-4f52-bc08-a53c4bb713fe',\n",
              " 'RouteID_5f8d9c67-df02-453d-93d2-429a2c21a2c1',\n",
              " 'RouteID_c8118394-0f3c-4341-8efb-f5165747803e',\n",
              " 'RouteID_706decfb-7c3a-4b94-828e-b9116a474e2f',\n",
              " 'RouteID_3eb3f5a3-ef86-4c15-a249-55d7ef1af3a9',\n",
              " 'RouteID_52a82475-83e3-4d0d-82d4-87655a74dfa8',\n",
              " 'RouteID_35a060f6-881c-4fc1-bb06-a951e244eb27',\n",
              " 'RouteID_8d945c9f-bfbb-438b-9a96-c31821f28ba5',\n",
              " 'RouteID_992f66e9-e1cf-422b-91ba-a834063a5bed']"
            ]
          },
          "metadata": {},
          "execution_count": 23
        }
      ]
    }
  ]
}